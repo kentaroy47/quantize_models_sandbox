{
 "cells": [
  {
   "cell_type": "markdown",
   "id": "65b5a174",
   "metadata": {},
   "source": [
    "# Resnet18 CIFAR-10\n",
    "\n",
    "Quantize train resnet18 without PACT"
   ]
  },
  {
   "cell_type": "code",
   "execution_count": 1,
   "id": "3cdfa9b0",
   "metadata": {},
   "outputs": [],
   "source": [
    "NOQUANT_TRAIN = False\n",
    "n_epochs = 50\n",
    "randamaug = True\n",
    "bs = 1024\n",
    "use_amp = True\n",
    "lr = 1e-3"
   ]
  },
  {
   "cell_type": "code",
   "execution_count": 2,
   "id": "e95ac49f",
   "metadata": {},
   "outputs": [
    {
     "name": "stderr",
     "output_type": "stream",
     "text": [
      "stty: 'standard input': Inappropriate ioctl for device\n"
     ]
    }
   ],
   "source": [
    "import argparse\n",
    "import os\n",
    "import shutil\n",
    "import time\n",
    "import pandas as pd\n",
    "import matplotlib.pyplot as plt\n",
    "from utils.utils import progress_bar\n",
    "\n",
    "from tqdm.notebook import tqdm\n",
    "import time\n",
    "import numpy as np\n",
    "import pandas as pd\n",
    "import cv2\n",
    "import torch\n",
    "import torch.nn as nn\n",
    "import torch.nn.functional as F\n",
    "import torch.optim as optim\n",
    "from torch.optim import lr_scheduler\n",
    "from torch.utils.data import DataLoader, Dataset\n",
    "from torch.utils.data.sampler import SubsetRandomSampler, RandomSampler, SequentialSampler\n",
    "from torch.optim.lr_scheduler import CosineAnnealingWarmRestarts, CosineAnnealingLR, ReduceLROnPlateau\n",
    "\n",
    "\n",
    "DATA_DIR = \"train\"\n",
    "print_freq = 50\n",
    "\n",
    "# vit imsize\n",
    "imsize = 32"
   ]
  },
  {
   "cell_type": "code",
   "execution_count": 3,
   "id": "91238a6e",
   "metadata": {},
   "outputs": [
    {
     "data": {
      "text/html": [
       "<div>\n",
       "<style scoped>\n",
       "    .dataframe tbody tr th:only-of-type {\n",
       "        vertical-align: middle;\n",
       "    }\n",
       "\n",
       "    .dataframe tbody tr th {\n",
       "        vertical-align: top;\n",
       "    }\n",
       "\n",
       "    .dataframe thead th {\n",
       "        text-align: right;\n",
       "    }\n",
       "</style>\n",
       "<table border=\"1\" class=\"dataframe\">\n",
       "  <thead>\n",
       "    <tr style=\"text-align: right;\">\n",
       "      <th></th>\n",
       "      <th>id</th>\n",
       "      <th>label</th>\n",
       "      <th>label_enc</th>\n",
       "      <th>fold</th>\n",
       "    </tr>\n",
       "  </thead>\n",
       "  <tbody>\n",
       "    <tr>\n",
       "      <th>0</th>\n",
       "      <td>1</td>\n",
       "      <td>frog</td>\n",
       "      <td>6</td>\n",
       "      <td>1</td>\n",
       "    </tr>\n",
       "    <tr>\n",
       "      <th>1</th>\n",
       "      <td>2</td>\n",
       "      <td>truck</td>\n",
       "      <td>9</td>\n",
       "      <td>1</td>\n",
       "    </tr>\n",
       "    <tr>\n",
       "      <th>2</th>\n",
       "      <td>3</td>\n",
       "      <td>truck</td>\n",
       "      <td>9</td>\n",
       "      <td>2</td>\n",
       "    </tr>\n",
       "    <tr>\n",
       "      <th>3</th>\n",
       "      <td>4</td>\n",
       "      <td>deer</td>\n",
       "      <td>4</td>\n",
       "      <td>1</td>\n",
       "    </tr>\n",
       "    <tr>\n",
       "      <th>4</th>\n",
       "      <td>5</td>\n",
       "      <td>automobile</td>\n",
       "      <td>1</td>\n",
       "      <td>2</td>\n",
       "    </tr>\n",
       "  </tbody>\n",
       "</table>\n",
       "</div>"
      ],
      "text/plain": [
       "   id       label  label_enc  fold\n",
       "0   1        frog          6     1\n",
       "1   2       truck          9     1\n",
       "2   3       truck          9     2\n",
       "3   4        deer          4     1\n",
       "4   5  automobile          1     2"
      ]
     },
     "execution_count": 3,
     "metadata": {},
     "output_type": "execute_result"
    }
   ],
   "source": [
    "# prepare labels\n",
    "train_df = pd.read_csv(\"trainLabels.csv\")\n",
    "from sklearn.preprocessing import LabelEncoder\n",
    "le = LabelEncoder()\n",
    "train_df['label_enc'] = le.fit_transform(train_df['label'])\n",
    "\n",
    "# 5-fold\n",
    "from sklearn.model_selection import StratifiedKFold\n",
    "skf = StratifiedKFold(n_splits=5, shuffle=True, random_state=42)\n",
    "\n",
    "train_df[\"fold\"] = -1\n",
    "for i, (train_index, test_index) in enumerate(skf.split(train_df.id, train_df.label_enc)):\n",
    "    train_df.loc[test_index, 'fold'] = i\n",
    "train_df.head()"
   ]
  },
  {
   "cell_type": "code",
   "execution_count": 4,
   "id": "9c85d472",
   "metadata": {},
   "outputs": [
    {
     "data": {
      "text/plain": [
       "frog          1000\n",
       "truck         1000\n",
       "deer          1000\n",
       "ship          1000\n",
       "horse         1000\n",
       "automobile    1000\n",
       "dog           1000\n",
       "cat           1000\n",
       "airplane      1000\n",
       "bird          1000\n",
       "Name: label, dtype: int64"
      ]
     },
     "execution_count": 4,
     "metadata": {},
     "output_type": "execute_result"
    }
   ],
   "source": [
    "train_df[train_df.fold==1].label.value_counts()"
   ]
  },
  {
   "cell_type": "code",
   "execution_count": 5,
   "id": "44be87f4",
   "metadata": {},
   "outputs": [],
   "source": [
    "class cifarDataset(Dataset):\n",
    "    def __init__(self,\n",
    "                 df,\n",
    "                 rand=False,\n",
    "                 transform=None,\n",
    "                 test=False\n",
    "                ):\n",
    "\n",
    "        self.df = df.reset_index(drop=True)\n",
    "        self.rand = rand\n",
    "        self.transform = transform\n",
    "        self.test = test\n",
    "\n",
    "    def __len__(self):\n",
    "        return self.df.shape[0]\n",
    "\n",
    "    def __getitem__(self, index):\n",
    "        row = self.df.iloc[index]\n",
    "        img_id = row.id\n",
    "        \n",
    "        images = cv2.imread(os.path.join(DATA_DIR, str(img_id)+\".png\"))\n",
    "        \n",
    "        # Load labels\n",
    "        label = row.label_enc\n",
    "        \n",
    "        # aug\n",
    "        if self.transform is not None:\n",
    "            images = self.transform(image=images)['image']\n",
    "              \n",
    "        images = images.astype(np.float32)\n",
    "        images /= 255\n",
    "        images = images.transpose(2, 0, 1)\n",
    "        \n",
    "        label = label.astype(np.float32)\n",
    "        #label2 = label2.astype(np.float32)\n",
    "        return torch.tensor(images), torch.tensor(label),"
   ]
  },
  {
   "cell_type": "code",
   "execution_count": 6,
   "id": "cd5517a6",
   "metadata": {},
   "outputs": [
    {
     "name": "stderr",
     "output_type": "stream",
     "text": [
      "/home/ken/anaconda3/envs/pytorch_p37/lib/python3.7/site-packages/albumentations/augmentations/transforms.py:690: FutureWarning: This class has been deprecated. Please use CoarseDropout\n",
      "  FutureWarning,\n"
     ]
    }
   ],
   "source": [
    "import albumentations as A\n",
    "import albumentations\n",
    "\n",
    "transforms_train = albumentations.Compose([\n",
    "    albumentations.ShiftScaleRotate(scale_limit=0.3, rotate_limit=180,p=0.5),\n",
    "    A.Cutout(num_holes=12, max_h_size=8, max_w_size=8, fill_value=0, p=0.5),\n",
    "    albumentations.Rotate(p=0.5),\n",
    "    albumentations.Transpose(p=0.5),\n",
    "    albumentations.VerticalFlip(p=0.5),\n",
    "    albumentations.HorizontalFlip(p=0.5),   \n",
    "    albumentations.Resize(imsize, imsize, p=1.0), \n",
    "])\n",
    "\n",
    "transforms_val = albumentations.Compose([albumentations.Resize(imsize, imsize, p=1.0),])"
   ]
  },
  {
   "cell_type": "code",
   "execution_count": 7,
   "id": "e3726718",
   "metadata": {
    "scrolled": true
   },
   "outputs": [
    {
     "data": {
      "image/png": "[encoded data removed]",
      "text/plain": [
       "<Figure size 1440x720 with 5 Axes>"
      ]
     },
     "metadata": {
      "needs_background": "light"
     },
     "output_type": "display_data"
    },
    {
     "data": {
      "image/png": "[encoded data removed]",
      "text/plain": [
       "<Figure size 1440x720 with 5 Axes>"
      ]
     },
     "metadata": {
      "needs_background": "light"
     },
     "output_type": "display_data"
    },
    {
     "data": {
      "image/png": "[encoded data removed]",
      "text/plain": [
       "<Figure size 1440x720 with 5 Axes>"
      ]
     },
     "metadata": {
      "needs_background": "light"
     },
     "output_type": "display_data"
    }
   ],
   "source": [
    "dataset_show = cifarDataset(train_df, transform=transforms_train)\n",
    "from pylab import rcParams\n",
    "rcParams['figure.figsize'] = 20,10\n",
    "for i in range(3):\n",
    "    f, axarr = plt.subplots(1,5)\n",
    "    for p in range(5):\n",
    "        idx = np.random.randint(0, len(dataset_show))\n",
    "        img, label = dataset_show[idx]\n",
    "        img = img.flip(0) #BGR2RGB\n",
    "        axarr[p].imshow(img.transpose(0,1).transpose(1,2))\n",
    "        axarr[p].set_title(str(label))\n",
    "plt.show()"
   ]
  },
  {
   "cell_type": "code",
   "execution_count": 8,
   "id": "be374443",
   "metadata": {},
   "outputs": [],
   "source": [
    "##### Training\n",
    "scaler = torch.cuda.amp.GradScaler(enabled=use_amp)\n",
    "def train(epoch):\n",
    "    print('\\nEpoch: %d' % epoch)\n",
    "    net.train()\n",
    "    train_loss = 0\n",
    "    correct = 0\n",
    "    total = 0\n",
    "    for batch_idx, (inputs, targets) in enumerate(trainloader):\n",
    "        inputs, targets = inputs.to(device), targets.to(device).long()\n",
    "        # Train with amp\n",
    "        with torch.cuda.amp.autocast(enabled=use_amp):\n",
    "            outputs = net(inputs)\n",
    "            loss = criterion(outputs, targets)\n",
    "        scaler.scale(loss).backward()\n",
    "        scaler.step(optimizer)\n",
    "        scaler.update()\n",
    "        optimizer.zero_grad()\n",
    "\n",
    "        train_loss += loss.item()\n",
    "        _, predicted = outputs.max(1)\n",
    "        total += targets.size(0)\n",
    "        correct += predicted.eq(targets).sum().item()\n",
    "\n",
    "        progress_bar(batch_idx, len(trainloader), 'Loss: %.3f | Acc: %.3f%% (%d/%d)'\n",
    "            % (train_loss/(batch_idx+1), 100.*correct/total, correct, total))\n",
    "    return train_loss/(batch_idx+1)\n",
    "\n",
    "##### Validation\n",
    "def test(epoch):\n",
    "    global best_acc\n",
    "    net.eval()\n",
    "    test_loss = 0\n",
    "    correct = 0\n",
    "    total = 0\n",
    "    with torch.no_grad():\n",
    "        for batch_idx, (inputs, targets) in enumerate(testloader):\n",
    "            inputs, targets = inputs.to(device), targets.to(device).long()\n",
    "            outputs = net(inputs)\n",
    "            loss = criterion(outputs, targets)\n",
    "\n",
    "            test_loss += loss.item()\n",
    "            _, predicted = outputs.max(1)\n",
    "            total += targets.size(0)\n",
    "            correct += predicted.eq(targets).sum().item()\n",
    "\n",
    "            progress_bar(batch_idx, len(testloader), 'Loss: %.3f | Acc: %.3f%% (%d/%d)'\n",
    "                % (test_loss/(batch_idx+1), 100.*correct/total, correct, total))\n",
    "    \n",
    "    # Save checkpoint.\n",
    "    acc = 100.*correct/total\n",
    "    return test_loss/(batch_idx+1), acc"
   ]
  },
  {
   "cell_type": "code",
   "execution_count": 9,
   "id": "6f005fd3",
   "metadata": {},
   "outputs": [
    {
     "name": "stdout",
     "output_type": "stream",
     "text": [
      "==> Preparing data..\n",
      "==> Preparing dataloader\n",
      "Files already downloaded and verified\n",
      "Files already downloaded and verified\n"
     ]
    }
   ],
   "source": [
    "# Data\n",
    "print('==> Preparing data..')\n",
    "from randomaug import RandAugment\n",
    "import torchvision\n",
    "import torchvision.transforms as transforms\n",
    "\n",
    "size = imsize\n",
    "transform_train = transforms.Compose([\n",
    "    transforms.RandomCrop(32, padding=4),\n",
    "    transforms.Resize(size),\n",
    "    transforms.RandomHorizontalFlip(),\n",
    "    transforms.ToTensor(),\n",
    "    transforms.Normalize((0.4914, 0.4822, 0.4465), (0.2023, 0.1994, 0.2010)),\n",
    "])\n",
    "\n",
    "transform_test = transforms.Compose([\n",
    "    transforms.Resize(size),\n",
    "    transforms.ToTensor(),\n",
    "    transforms.Normalize((0.4914, 0.4822, 0.4465), (0.2023, 0.1994, 0.2010)),\n",
    "])\n",
    "\n",
    "# Add RandAugment with N, M(hyperparameter)\n",
    "if randamaug:\n",
    "    N = 2; M = 7;\n",
    "    transform_train.transforms.insert(0, RandAugment(N, M))\n",
    "\n",
    "print('==> Preparing dataloader')\n",
    "trainset = torchvision.datasets.CIFAR10(root='../vision-transformers-cifar10/data', train=True, download=True, transform=transform_train)\n",
    "trainloader = torch.utils.data.DataLoader(trainset, batch_size=bs, shuffle=True, num_workers=8)\n",
    "\n",
    "testset = torchvision.datasets.CIFAR10(root='../vision-transformers-cifar10/data', train=False, download=True, transform=transform_test)\n",
    "testloader = torch.utils.data.DataLoader(testset, batch_size=100, shuffle=False, num_workers=8)"
   ]
  },
  {
   "cell_type": "code",
   "execution_count": 10,
   "id": "a4256dce",
   "metadata": {},
   "outputs": [
    {
     "name": "stdout",
     "output_type": "stream",
     "text": [
      "abit/wbit: 8 8\n"
     ]
    }
   ],
   "source": [
    "from network.resnet import resnet20\n",
    "net = resnet20(abits=8, wbits=8, pact=False, shallow=False)"
   ]
  },
  {
   "cell_type": "code",
   "execution_count": 11,
   "id": "d5a52bab",
   "metadata": {},
   "outputs": [
    {
     "data": {
      "text/plain": [
       "tensor([[ 0.5003, -0.7535, -0.2027,  0.4442,  0.2776,  0.9121,  0.3644,  0.0994,\n",
       "         -0.3755,  0.3313]], grad_fn=<AddmmBackward>)"
      ]
     },
     "execution_count": 11,
     "metadata": {},
     "output_type": "execute_result"
    }
   ],
   "source": [
    "net.forward(torch.randn(1,3,32,32))"
   ]
  },
  {
   "cell_type": "markdown",
   "id": "c3f38958",
   "metadata": {},
   "source": [
    "# Train with quantization"
   ]
  },
  {
   "cell_type": "markdown",
   "id": "a911ffb7",
   "metadata": {
    "scrolled": true
   },
   "source": [
    "from timm.scheduler import CosineLRScheduler\n",
    "\n",
    "for shallow in [False]:\n",
    "    for pact in [False,]:\n",
    "        for k in range(3,9):\n",
    "            net = resnet20(k,k,pact,shallow,True)\n",
    "\n",
    "            net = net.cuda()\n",
    "            mixup = False\n",
    "\n",
    "            # Track experiment with wandb\n",
    "            import wandb\n",
    "            watermark = \"resnet18_uniformquantize_k{}\".format(k)\n",
    "            if pact: watermark+=\"_pact\"\n",
    "            if shallow: \n",
    "                watermark+=\"_shallow\"\n",
    "            else:\n",
    "                watermark+=\"_deep\"\n",
    "                \n",
    "            # mess with wandb\n",
    "            wandb.init(project=\"quantize_resnet2\", name=watermark)\n",
    "\n",
    "            # define loss function (criterion) and pptimizer\n",
    "            criterion = nn.CrossEntropyLoss().cuda()\n",
    "\n",
    "            # optimizer for pact\n",
    "            optimizer = torch.optim.SGD(net.parameters(), lr=1e-3,\n",
    "                                        momentum=0.9,\n",
    "                                        weight_decay=0.0002)\n",
    "            optimizer = torch.optim.Adam(net.parameters(), lr=1e-3)\n",
    "\n",
    "            scheduler = CosineLRScheduler(optimizer, t_initial=n_epochs, lr_min=1e-6, \n",
    "                                  warmup_t=3, warmup_lr_init=1e-6, warmup_prefix=True)\n",
    "\n",
    "            best_prec1 = 0\n",
    "            os.makedirs(\"models\", exist_ok=True)\n",
    "\n",
    "            for epoch in range(n_epochs):\n",
    "                scheduler.step(epoch)\n",
    "                # train for one epoch\n",
    "                print('current lr {:.5e}'.format(optimizer.param_groups[0]['lr']))\n",
    "                tloss = train(train_loader, model, criterion, optimizer, epoch)         \n",
    "\n",
    "                # evaluate on validation set\n",
    "                prec1, valloss = validate(val_loader, model, criterion)\n",
    "\n",
    "                # wandb\n",
    "                wandb.log({'epoch': epoch, \"prec\":prec1, \"train_loss\": tloss, 'val_loss': valloss, \"lr\": optimizer.param_groups[0][\"lr\"],})\n",
    "\n",
    "                # remember best prec@1 and save checkpoint\n",
    "                is_best = prec1 > best_prec1\n",
    "                best_prec1 = max(prec1, best_prec1)\n",
    "\n",
    "                print(\"Best prec1 : \", best_prec1)\n",
    "                if is_best:\n",
    "                    torch.save(model.state_dict(), os.path.join(f'models/{watermark}.pth'))"
   ]
  },
  {
   "cell_type": "code",
   "execution_count": null,
   "id": "d90930e4",
   "metadata": {},
   "outputs": [
    {
     "name": "stdout",
     "output_type": "stream",
     "text": [
      "abit/wbit: 3 3\n"
     ]
    },
    {
     "name": "stderr",
     "output_type": "stream",
     "text": [
      "\u001b[34m\u001b[1mwandb\u001b[0m: Currently logged in as: \u001b[33marutema47\u001b[0m. Use \u001b[1m`wandb login --relogin`\u001b[0m to force relogin\n"
     ]
    },
    {
     "data": {
      "text/html": [
       "Tracking run with wandb version 0.12.19"
      ],
      "text/plain": [
       "<IPython.core.display.HTML object>"
      ]
     },
     "metadata": {},
     "output_type": "display_data"
    },
    {
     "data": {
      "text/html": [
       "Run data is saved locally in <code>/media/ken/dsk1/data/quantize_models_sandbox/wandb/run-20220628_140521-1ofgkoma</code>"
      ],
      "text/plain": [
       "<IPython.core.display.HTML object>"
      ]
     },
     "metadata": {},
     "output_type": "display_data"
    },
    {
     "data": {
      "text/html": [
       "Syncing run <strong><a href=\"https://wandb.ai/arutema47/quantize_resnet2/runs/1ofgkoma\" target=\"_blank\">resnet20_quant_k3_shallow</a></strong> to <a href=\"https://wandb.ai/arutema47/quantize_resnet2\" target=\"_blank\">Weights & Biases</a> (<a href=\"https://wandb.me/run\" target=\"_blank\">docs</a>)<br/>"
      ],
      "text/plain": [
       "<IPython.core.display.HTML object>"
      ]
     },
     "metadata": {},
     "output_type": "display_data"
    },
    {
     "name": "stdout",
     "output_type": "stream",
     "text": [
      "\n",
      "Epoch: 0\n",
      " [=======>.........................................................]  Step: 201ms | Tot: 1s229ms | Loss: 1.367 | Acc: 55.301% (3964/716 7/49 \r"
     ]
    }
   ],
   "source": [
    "from timm.scheduler import CosineLRScheduler\n",
    "from network.resnet2 import ResNet18\n",
    "device = \"cuda\"\n",
    "\n",
    "\n",
    "if NOQUANT_TRAIN:\n",
    "    NOQUANT = True\n",
    "else:\n",
    "    NOQUANT = False\n",
    "\n",
    "for shallow in [True, False]:\n",
    "    for k in range(3,9):\n",
    "        net = resnet20(k,k,False,shallow,NOQUANT)\n",
    "\n",
    "        if shallow:\n",
    "            checkpoint = torch.load('./models/resnet20_noquant_shallow.pth')\n",
    "            net.load_state_dict(checkpoint)\n",
    "        else:\n",
    "            checkpoint = torch.load('./models/resnet20_noquant_deep.pth')\n",
    "            net.load_state_dict(checkpoint)\n",
    "\n",
    "        net = net.cuda()\n",
    "        mixup = False\n",
    "\n",
    "        # Track experiment with wandb\n",
    "        import wandb\n",
    "        watermark = \"resnet20_quant_k{}\".format(k)\n",
    "\n",
    "        if shallow: \n",
    "            watermark+=\"_shallow\"\n",
    "        else:\n",
    "            watermark+=\"_deep\"\n",
    "\n",
    "        # mess with wandb\n",
    "        wandb.init(project=\"quantize_resnet2\", name=watermark)\n",
    "\n",
    "        # define loss function (criterion) and pptimizer\n",
    "        criterion = nn.CrossEntropyLoss().cuda()\n",
    "\n",
    "        # optimizer for pact\n",
    "        optimizer = torch.optim.Adam(net.parameters(), lr=lr)\n",
    "\n",
    "        scheduler = CosineLRScheduler(optimizer, t_initial=n_epochs, lr_min=1e-6, \n",
    "                          warmup_t=5, warmup_lr_init=1e-6, warmup_prefix=True)\n",
    "        \n",
    "        best_prec1 = 0\n",
    "        os.makedirs(\"models\", exist_ok=True)\n",
    "\n",
    "        list_loss = []\n",
    "        list_acc = []\n",
    "\n",
    "        net.cuda()\n",
    "        for epoch in range(n_epochs):\n",
    "            start = time.time()\n",
    "            trainloss = train(epoch)\n",
    "            val_loss, prec1 = test(epoch)\n",
    "\n",
    "            scheduler.step(epoch-1) # step cosine scheduling\n",
    "\n",
    "            list_loss.append(val_loss)\n",
    "            list_acc.append(prec1)\n",
    "\n",
    "            # Log training..\n",
    "            wandb.log({'epoch': epoch, 'train_loss': trainloss, 'val_loss': val_loss, \"prec\": prec1, \"lr\": optimizer.param_groups[0][\"lr\"],\n",
    "            \"epoch_time\": time.time()-start})\n",
    "\n",
    "            # remember best prec@1 and save checkpoint\n",
    "            is_best = prec1 > best_prec1\n",
    "            best_prec1 = max(prec1, best_prec1)\n",
    "\n",
    "            print(\"Best prec1 : \", best_prec1)\n",
    "            if is_best:\n",
    "                torch.save(net.state_dict(), os.path.join(f'models/{watermark}.pth'))"
   ]
  },
  {
   "cell_type": "code",
   "execution_count": null,
   "id": "1c7e6e48",
   "metadata": {},
   "outputs": [],
   "source": []
  }
 ],
 "metadata": {
  "kernelspec": {
   "display_name": "Python 3 (ipykernel)",
   "language": "python",
   "name": "python3"
  },
  "language_info": {
   "codemirror_mode": {
    "name": "ipython",
    "version": 3
   },
   "file_extension": ".py",
   "mimetype": "text/x-python",
   "name": "python",
   "nbconvert_exporter": "python",
   "pygments_lexer": "ipython3",
   "version": "3.7.0"
  }
 },
 "nbformat": 4,
 "nbformat_minor": 5
}
