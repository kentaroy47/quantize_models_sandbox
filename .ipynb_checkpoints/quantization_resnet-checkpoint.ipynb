{
 "cells": [
  {
   "cell_type": "markdown",
   "id": "65b5a174",
   "metadata": {},
   "source": [
    "# Resnet18 CIFAR-10\n",
    "\n",
    "Quantize train resnet18 without PACT"
   ]
  },
  {
   "cell_type": "code",
   "execution_count": 1,
   "id": "3cdfa9b0",
   "metadata": {},
   "outputs": [],
   "source": [
    "NOQUANT_TRAIN = False\n",
    "n_epochs = 200\n",
    "batches = 1024"
   ]
  },
  {
   "cell_type": "code",
   "execution_count": 2,
   "id": "e95ac49f",
   "metadata": {},
   "outputs": [],
   "source": [
    "import argparse\n",
    "import os\n",
    "import shutil\n",
    "import time\n",
    "import pandas as pd\n",
    "import matplotlib.pyplot as plt\n",
    "#import network.resnet_orig as resnet\n",
    "\n",
    "from tqdm.notebook import tqdm\n",
    "import time\n",
    "import numpy as np\n",
    "import pandas as pd\n",
    "import cv2\n",
    "import torch\n",
    "import torch.nn as nn\n",
    "import torch.nn.functional as F\n",
    "import torch.optim as optim\n",
    "from torch.optim import lr_scheduler\n",
    "from torch.utils.data import DataLoader, Dataset\n",
    "from torch.utils.data.sampler import SubsetRandomSampler, RandomSampler, SequentialSampler\n",
    "from torch.optim.lr_scheduler import CosineAnnealingWarmRestarts, CosineAnnealingLR, ReduceLROnPlateau\n",
    "\n",
    "DATA_DIR = \"train\"\n",
    "print_freq = 50\n",
    "\n",
    "# vit imsize\n",
    "imsize = 32"
   ]
  },
  {
   "cell_type": "code",
   "execution_count": 3,
   "id": "91238a6e",
   "metadata": {},
   "outputs": [
    {
     "data": {
      "text/html": [
       "<div>\n",
       "<style scoped>\n",
       "    .dataframe tbody tr th:only-of-type {\n",
       "        vertical-align: middle;\n",
       "    }\n",
       "\n",
       "    .dataframe tbody tr th {\n",
       "        vertical-align: top;\n",
       "    }\n",
       "\n",
       "    .dataframe thead th {\n",
       "        text-align: right;\n",
       "    }\n",
       "</style>\n",
       "<table border=\"1\" class=\"dataframe\">\n",
       "  <thead>\n",
       "    <tr style=\"text-align: right;\">\n",
       "      <th></th>\n",
       "      <th>id</th>\n",
       "      <th>label</th>\n",
       "      <th>label_enc</th>\n",
       "      <th>fold</th>\n",
       "    </tr>\n",
       "  </thead>\n",
       "  <tbody>\n",
       "    <tr>\n",
       "      <th>0</th>\n",
       "      <td>1</td>\n",
       "      <td>frog</td>\n",
       "      <td>6</td>\n",
       "      <td>1</td>\n",
       "    </tr>\n",
       "    <tr>\n",
       "      <th>1</th>\n",
       "      <td>2</td>\n",
       "      <td>truck</td>\n",
       "      <td>9</td>\n",
       "      <td>1</td>\n",
       "    </tr>\n",
       "    <tr>\n",
       "      <th>2</th>\n",
       "      <td>3</td>\n",
       "      <td>truck</td>\n",
       "      <td>9</td>\n",
       "      <td>2</td>\n",
       "    </tr>\n",
       "    <tr>\n",
       "      <th>3</th>\n",
       "      <td>4</td>\n",
       "      <td>deer</td>\n",
       "      <td>4</td>\n",
       "      <td>1</td>\n",
       "    </tr>\n",
       "    <tr>\n",
       "      <th>4</th>\n",
       "      <td>5</td>\n",
       "      <td>automobile</td>\n",
       "      <td>1</td>\n",
       "      <td>2</td>\n",
       "    </tr>\n",
       "  </tbody>\n",
       "</table>\n",
       "</div>"
      ],
      "text/plain": [
       "   id       label  label_enc  fold\n",
       "0   1        frog          6     1\n",
       "1   2       truck          9     1\n",
       "2   3       truck          9     2\n",
       "3   4        deer          4     1\n",
       "4   5  automobile          1     2"
      ]
     },
     "execution_count": 3,
     "metadata": {},
     "output_type": "execute_result"
    }
   ],
   "source": [
    "# prepare labels\n",
    "train_df = pd.read_csv(\"trainLabels.csv\")\n",
    "from sklearn.preprocessing import LabelEncoder\n",
    "le = LabelEncoder()\n",
    "train_df['label_enc'] = le.fit_transform(train_df['label'])\n",
    "\n",
    "# 5-fold\n",
    "from sklearn.model_selection import StratifiedKFold\n",
    "skf = StratifiedKFold(n_splits=5, shuffle=True, random_state=42)\n",
    "\n",
    "train_df[\"fold\"] = -1\n",
    "for i, (train_index, test_index) in enumerate(skf.split(train_df.id, train_df.label_enc)):\n",
    "    train_df.loc[test_index, 'fold'] = i\n",
    "train_df.head()"
   ]
  },
  {
   "cell_type": "code",
   "execution_count": 4,
   "id": "44be87f4",
   "metadata": {},
   "outputs": [],
   "source": [
    "class cifarDataset(Dataset):\n",
    "    def __init__(self,\n",
    "                 df,\n",
    "                 rand=False,\n",
    "                 transform=None,\n",
    "                 test=False\n",
    "                ):\n",
    "\n",
    "        self.df = df.reset_index(drop=True)\n",
    "        self.rand = rand\n",
    "        self.transform = transform\n",
    "        self.test = test\n",
    "\n",
    "    def __len__(self):\n",
    "        return self.df.shape[0]\n",
    "\n",
    "    def __getitem__(self, index):\n",
    "        row = self.df.iloc[index]\n",
    "        img_id = row.id\n",
    "        \n",
    "        images = cv2.imread(os.path.join(DATA_DIR, str(img_id)+\".png\"))\n",
    "        \n",
    "        # Load labels\n",
    "        label = row.label_enc\n",
    "        \n",
    "        # aug\n",
    "        if self.transform is not None:\n",
    "            images = self.transform(image=images)['image']\n",
    "              \n",
    "        #images = images.astype(np.float32)\n",
    "        #images /= 255\n",
    "        images = images.transpose(2, 0, 1)\n",
    "        \n",
    "        label = label.astype(np.float32)\n",
    "        #label2 = label2.astype(np.float32)\n",
    "        return torch.tensor(images), torch.tensor(label),"
   ]
  },
  {
   "cell_type": "code",
   "execution_count": 5,
   "id": "cd5517a6",
   "metadata": {},
   "outputs": [
    {
     "name": "stderr",
     "output_type": "stream",
     "text": [
      "/home/ken/anaconda3/envs/pytorch_p38/lib/python3.8/site-packages/albumentations/augmentations/dropout/cutout.py:50: FutureWarning: Cutout has been deprecated. Please use CoarseDropout\n",
      "  warnings.warn(\n"
     ]
    }
   ],
   "source": [
    "import albumentations as A\n",
    "import albumentations\n",
    "\n",
    "transforms_train = albumentations.Compose([\n",
    "    albumentations.ShiftScaleRotate(scale_limit=0.3, rotate_limit=180,p=0.5),\n",
    "    A.Cutout(num_holes=12, max_h_size=4, max_w_size=4, fill_value=0, p=0.5),\n",
    "    #albumentations.Rotate(p=0.5),\n",
    "    #albumentations.Transpose(p=0.5),\n",
    "    #albumentations.VerticalFlip(p=0.5),\n",
    "    albumentations.HorizontalFlip(p=0.5),   \n",
    "    albumentations.Resize(imsize, imsize, p=1.0), \n",
    "    albumentations.Normalize(mean=(0.485, 0.456, 0.406),\n",
    "                       std=(0.229, 0.224, 0.225), p=1),\n",
    "])\n",
    "\n",
    "transforms_val = albumentations.Compose([albumentations.Resize(imsize, imsize, p=1.0),\n",
    "                                         albumentations.Normalize(mean=(0.485, 0.456, 0.406),\n",
    "                       std=(0.229, 0.224, 0.225), p=1),])"
   ]
  },
  {
   "cell_type": "code",
   "execution_count": 6,
   "id": "e3726718",
   "metadata": {
    "scrolled": true
   },
   "outputs": [
    {
     "name": "stderr",
     "output_type": "stream",
     "text": [
      "Clipping input data to the valid range for imshow with RGB data ([0..1] for floats or [0..255] for integers).\n",
      "Clipping input data to the valid range for imshow with RGB data ([0..1] for floats or [0..255] for integers).\n",
      "Clipping input data to the valid range for imshow with RGB data ([0..1] for floats or [0..255] for integers).\n",
      "Clipping input data to the valid range for imshow with RGB data ([0..1] for floats or [0..255] for integers).\n",
      "Clipping input data to the valid range for imshow with RGB data ([0..1] for floats or [0..255] for integers).\n",
      "Clipping input data to the valid range for imshow with RGB data ([0..1] for floats or [0..255] for integers).\n",
      "Clipping input data to the valid range for imshow with RGB data ([0..1] for floats or [0..255] for integers).\n",
      "Clipping input data to the valid range for imshow with RGB data ([0..1] for floats or [0..255] for integers).\n",
      "Clipping input data to the valid range for imshow with RGB data ([0..1] for floats or [0..255] for integers).\n",
      "Clipping input data to the valid range for imshow with RGB data ([0..1] for floats or [0..255] for integers).\n",
      "Clipping input data to the valid range for imshow with RGB data ([0..1] for floats or [0..255] for integers).\n",
      "Clipping input data to the valid range for imshow with RGB data ([0..1] for floats or [0..255] for integers).\n",
      "Clipping input data to the valid range for imshow with RGB data ([0..1] for floats or [0..255] for integers).\n",
      "Clipping input data to the valid range for imshow with RGB data ([0..1] for floats or [0..255] for integers).\n",
      "Clipping input data to the valid range for imshow with RGB data ([0..1] for floats or [0..255] for integers).\n"
     ]
    },
    {
     "data": {
      "image/png": "[encoded data removed]",
      "text/plain": [
       "<Figure size 432x288 with 5 Axes>"
      ]
     },
     "metadata": {
      "needs_background": "light"
     },
     "output_type": "display_data"
    },
    {
     "data": {
      "image/png": "[encoded data removed]",
      "text/plain": [
       "<Figure size 432x288 with 5 Axes>"
      ]
     },
     "metadata": {
      "needs_background": "light"
     },
     "output_type": "display_data"
    },
    {
     "data": {
      "image/png": "[encoded data removed]",
      "text/plain": [
       "<Figure size 432x288 with 5 Axes>"
      ]
     },
     "metadata": {
      "needs_background": "light"
     },
     "output_type": "display_data"
    }
   ],
   "source": [
    "dataset_show = cifarDataset(train_df, transform=transforms_train)\n",
    "from pylab import rcParams\n",
    "rcParams['figure.figsize'] = 20,10\n",
    "for i in range(3):\n",
    "    f, axarr = plt.subplots(1,5)\n",
    "    for p in range(5):\n",
    "        idx = np.random.randint(0, len(dataset_show))\n",
    "        img, label = dataset_show[idx]\n",
    "        img = img.flip(0) #BGR2RGB\n",
    "        axarr[p].imshow(img.transpose(0,1).transpose(1,2))\n",
    "        axarr[p].set_title(str(label))\n",
    "plt.show()"
   ]
  },
  {
   "cell_type": "code",
   "execution_count": 7,
   "id": "be374443",
   "metadata": {},
   "outputs": [],
   "source": [
    "def train(train_loader, model, criterion, optimizer, epoch):\n",
    "    \"\"\"\n",
    "        Run one train epoch\n",
    "    \"\"\"\n",
    "    batch_time = AverageMeter()\n",
    "    data_time = AverageMeter()\n",
    "    losses = AverageMeter()\n",
    "    top1 = AverageMeter()\n",
    "\n",
    "    # switch to train mode\n",
    "    model.train()\n",
    "\n",
    "    end = time.time()\n",
    "    lambda_alpha = 0.002\n",
    "    for i, (input, target) in enumerate(tqdm(train_loader)):\n",
    "\n",
    "        # measure data loading time\n",
    "        data_time.update(time.time() - end)\n",
    "        target2 = target\n",
    "\n",
    "        target = target.long().cuda()\n",
    "        target2 = target2.long().cuda()\n",
    "        input_var = input.cuda()\n",
    "        target_var = target\n",
    "\n",
    "        if not mixup:\n",
    "          alpha = 0\n",
    "        else:\n",
    "          alpha = 1\n",
    "        \n",
    "\n",
    "        # compute output\n",
    "        output = model(input_var)\n",
    "        loss = criterion(output, target_var)\n",
    "\n",
    "        # L2 regularization\n",
    "        l2_alpha = 0.0\n",
    "        for name, param in model.named_parameters():\n",
    "            if \"alpha\" in name:\n",
    "                l2_alpha += torch.pow(param, 2)\n",
    "        loss += lambda_alpha * l2_alpha\n",
    "\n",
    "        # compute gradient and do SGD step\n",
    "        optimizer.zero_grad()\n",
    "        loss.backward()\n",
    "        optimizer.step()\n",
    "\n",
    "        output = output.float()\n",
    "        loss = loss.float()\n",
    "        # measure accuracy and record loss\n",
    "        prec1 = accuracy(output.data, target)[0]\n",
    "        losses.update(loss.item(), input.size(0))\n",
    "        top1.update(prec1.item(), input.size(0))\n",
    "\n",
    "        # measure elapsed time\n",
    "        batch_time.update(time.time() - end)\n",
    "        end = time.time()\n",
    "\n",
    "        if i % print_freq == 0:\n",
    "            print('Epoch: [{0}][{1}/{2}]\\t'\n",
    "                  'Time {batch_time.val:.3f} ({batch_time.avg:.3f})\\t'\n",
    "                  'Data {data_time.val:.3f} ({data_time.avg:.3f})\\t'\n",
    "                  'Loss {loss.val:.4f} ({loss.avg:.4f})\\t'\n",
    "                  'Prec@1 {top1.val:.3f} ({top1.avg:.3f})'.format(\n",
    "                      epoch, i, len(train_loader), batch_time=batch_time,\n",
    "                      data_time=data_time, loss=losses, top1=top1))\n",
    "    return losses.avg\n",
    "\n",
    "def validate(val_loader, model, criterion):\n",
    "    \"\"\"\n",
    "    Run evaluation\n",
    "    \"\"\"\n",
    "    batch_time = AverageMeter()\n",
    "    losses = AverageMeter()\n",
    "    top1 = AverageMeter()\n",
    "\n",
    "    # switch to evaluate mode\n",
    "    model.eval()\n",
    "\n",
    "    end = time.time()\n",
    "    with torch.no_grad():\n",
    "        for i, (input, target) in enumerate(val_loader):\n",
    "            target = target.long().cuda()\n",
    "            input_var = input.cuda()\n",
    "            target_var = target.cuda()\n",
    "\n",
    "            # compute output\n",
    "            output = model(input_var)\n",
    "            loss = criterion(output, target_var)\n",
    "\n",
    "            output = output.float()\n",
    "            loss = loss.float()\n",
    "\n",
    "            # measure accuracy and record loss\n",
    "            prec1 = accuracy(output.data, target)[0]\n",
    "            losses.update(loss.item(), input.size(0))\n",
    "            top1.update(prec1.item(), input.size(0))\n",
    "\n",
    "            # measure elapsed time\n",
    "            batch_time.update(time.time() - end)\n",
    "            end = time.time()\n",
    "\n",
    "            if i % print_freq == 0:\n",
    "                print('Test: [{0}/{1}]\\t'\n",
    "                      'Time {batch_time.val:.3f} ({batch_time.avg:.3f})\\t'\n",
    "                      'Loss {loss.val:.4f} ({loss.avg:.4f})\\t'\n",
    "                      'Prec@1 {top1.val:.3f} ({top1.avg:.3f})'.format(\n",
    "                          i, len(val_loader), batch_time=batch_time, loss=losses,\n",
    "                          top1=top1))\n",
    "\n",
    "    print(' * Prec@1 {top1.avg:.3f}'\n",
    "          .format(top1=top1))\n",
    "    for name, param in model.named_parameters():\n",
    "        if \"alpha\" in name:\n",
    "            print(name, param.item())\n",
    "    return top1.avg, losses.avg\n",
    "\n",
    "def save_checkpoint(state, filename='checkpoint.pth'):\n",
    "    \"\"\"\n",
    "    Save the training model\n",
    "    \"\"\"\n",
    "    torch.save(state, filename)\n",
    "\n",
    "class AverageMeter(object):\n",
    "    \"\"\"Computes and stores the average and current value\"\"\"\n",
    "    def __init__(self):\n",
    "        self.reset()\n",
    "\n",
    "    def reset(self):\n",
    "        self.val = 0\n",
    "        self.avg = 0\n",
    "        self.sum = 0\n",
    "        self.count = 0\n",
    "\n",
    "    def update(self, val, n=1):\n",
    "        self.val = val\n",
    "        self.sum += val * n\n",
    "        self.count += n\n",
    "        self.avg = self.sum / self.count\n",
    "\n",
    "\n",
    "def accuracy(output, target, topk=(1,)):\n",
    "    \"\"\"Computes the precision@k for the specified values of k\"\"\"\n",
    "    maxk = max(topk)\n",
    "    batch_size = target.size(0)\n",
    "\n",
    "    _, pred = output.topk(maxk, 1, True, True)\n",
    "    pred = pred.t()\n",
    "    correct = pred.eq(target.view(1, -1).expand_as(pred))\n",
    "\n",
    "    res = []\n",
    "    for k in topk:\n",
    "        correct_k = correct[:k].view(-1).float().sum(0)\n",
    "        res.append(correct_k.mul_(100.0 / batch_size))\n",
    "    return res"
   ]
  },
  {
   "cell_type": "code",
   "execution_count": 8,
   "id": "6f005fd3",
   "metadata": {},
   "outputs": [],
   "source": [
    "train_dataset = cifarDataset(train_df[train_df.fold!=0], transform=transforms_train)\n",
    "val_dataset = cifarDataset(train_df[train_df.fold==0], transform=transforms_val, test=True)\n",
    "\n",
    "train_loader = torch.utils.data.DataLoader(\n",
    "        train_dataset,\n",
    "        batch_size=batches, shuffle=True,\n",
    "        num_workers=8, pin_memory=True)\n",
    "\n",
    "val_loader = torch.utils.data.DataLoader(\n",
    "    val_dataset,\n",
    "    batch_size=batches, shuffle=False,\n",
    "    num_workers=8, pin_memory=True)"
   ]
  },
  {
   "cell_type": "code",
   "execution_count": 15,
   "id": "a4256dce",
   "metadata": {},
   "outputs": [],
   "source": [
    "import torch\n",
    "import torch.nn as nn\n",
    "import torch.nn.functional as F\n",
    "import torch.nn.init as init\n",
    "from torch.autograd import Variable\n",
    "from pact_utils import QuantizedLinear, QuantizedConv2d, PGConv2d\n",
    "\n",
    "\n",
    "def _weights_init(m):\n",
    "    classname = m.__class__.__name__\n",
    "    #print(classname)\n",
    "    if isinstance(m, nn.Linear) or isinstance(m, nn.Conv2d):\n",
    "        init.kaiming_normal_(m.weight)\n",
    "\n",
    "class LambdaLayer(nn.Module):\n",
    "    def __init__(self, lambd):\n",
    "        super(LambdaLayer, self).__init__()\n",
    "        self.lambd = lambd\n",
    "\n",
    "    def forward(self, x):\n",
    "        return self.lambd(x)\n",
    "\n",
    "\n",
    "class BasicBlock(nn.Module):\n",
    "    expansion = 1\n",
    "\n",
    "    def __init__(self, in_planes, planes, stride=1, k=8, expansion=1):\n",
    "        super(BasicBlock, self).__init__()\n",
    "        self.k = k\n",
    "        self.expansion = expansion\n",
    "        self.conv1 = QuantizedConv2d(in_planes, planes, kernel_size=3, stride=stride, padding=1, bias=False, wbits=k, abits=k)\n",
    "        self.bn1 = nn.BatchNorm2d(planes)\n",
    "        # self.conv2 = nn.Conv2d(planes, planes, kernel_size=3, stride=1, padding=1, bias=False)\n",
    "        self.conv2 = QuantizedConv2d(planes, planes, kernel_size=3, stride=1, padding=1, bias=False, wbits=k, abits=k)\n",
    "        self.bn2 = nn.BatchNorm2d(planes)\n",
    "        \n",
    "        if stride != 1 or in_planes != planes:\n",
    "              # original resnet shortcut\n",
    "              self.shortcut = nn.Sequential(\n",
    "                    # nn.Conv2d(in_planes, self.expansion * planes, kernel_size=1, stride=stride, bias=False),\n",
    "                    QuantizedConv2d(in_planes, self.expansion * planes, kernel_size=1, stride=stride, bias=False, wbits=k, abits=k),\n",
    "                    nn.BatchNorm2d(self.expansion * planes)\n",
    "              )\n",
    "        else: # nothing done if stride or inplanes do not differ\n",
    "          self.shortcut = nn.Sequential()\n",
    "\n",
    "    def forward(self, x):\n",
    "        # Relu is implemented as the input of conv2d\n",
    "        out = self.bn1(self.conv1(x))\n",
    "        out = self.bn2(self.conv2(out))\n",
    "        out += self.shortcut(x)\n",
    "        out = F.relu(out)\n",
    "        return out\n",
    "\n",
    "\n",
    "class ResNet(nn.Module):\n",
    "    def __init__(self, block, num_blocks, num_classes=10, K=8):\n",
    "        super(ResNet, self).__init__()\n",
    "        self.in_planes = 32\n",
    "        self.k = K\n",
    "\n",
    "        self.conv1 = QuantizedConv2d(3, 32, kernel_size=3, stride=2, padding=1, bias=False, abits=8, wbits=8)\n",
    "        self.bn1 = nn.BatchNorm2d(32)\n",
    "        self.alpha1 = nn.Parameter(torch.tensor(10.))\n",
    "        self.layer1 = self._make_layer(block, 32, num_blocks[0], stride=1, expansion=1)\n",
    "        self.layer2 = self._make_layer(block, 64, num_blocks[1], stride=2, expansion=1)\n",
    "        self.layer3 = self._make_layer(block, 128, num_blocks[2], stride=2, expansion=1)\n",
    "\n",
    "        # self.linear = nn.Linear(64, num_classes)\n",
    "        self.linear = QuantizedLinear(128, num_classes, abits=8, wbits=8)\n",
    "        self.apply(_weights_init)\n",
    "\n",
    "    def _make_layer(self, block, planes, num_blocks, stride, expansion):\n",
    "        strides = [stride] + [1]*(num_blocks-1)\n",
    "        layers = []\n",
    "        for stride in strides:\n",
    "            layers.append(block(self.in_planes, planes, stride, self.k, expansion))\n",
    "            self.in_planes = planes * block.expansion\n",
    "\n",
    "        return nn.Sequential(*layers)\n",
    "\n",
    "    def forward(self, x):\n",
    "        # out = F.relu(self.bn1(self.conv1(x)))\n",
    "        out = self.bn1(self.conv1(x))\n",
    "        out = self.layer1(out)\n",
    "        out = self.layer2(out)\n",
    "        out = self.layer3(out)\n",
    "        out = F.avg_pool2d(out, out.size()[3])\n",
    "        out = out.view(out.size(0), -1)\n",
    "        out = self.linear(out)\n",
    "        return out\n",
    "\n",
    "\n",
    "def resnet20(k=8):\n",
    "    print(\"bit width:\", k)\n",
    "    return ResNet(BasicBlock, [3, 3, 3], K=k)"
   ]
  },
  {
   "cell_type": "code",
   "execution_count": 16,
   "id": "632f4e34",
   "metadata": {},
   "outputs": [
    {
     "name": "stdout",
     "output_type": "stream",
     "text": [
      "bit width: 8\n"
     ]
    }
   ],
   "source": [
    "net = resnet20(8)"
   ]
  },
  {
   "cell_type": "markdown",
   "id": "c3f38958",
   "metadata": {},
   "source": [
    "# Train with quantization"
   ]
  },
  {
   "cell_type": "code",
   "execution_count": null,
   "id": "bf661401",
   "metadata": {
    "scrolled": true
   },
   "outputs": [
    {
     "name": "stdout",
     "output_type": "stream",
     "text": [
      "bit width: 4\n"
     ]
    },
    {
     "data": {
      "text/html": [
       "Finishing last run (ID:1tle1yfm) before initializing another..."
      ],
      "text/plain": [
       "<IPython.core.display.HTML object>"
      ]
     },
     "metadata": {},
     "output_type": "display_data"
    },
    {
     "data": {
      "text/html": [
       "Waiting for W&B process to finish... <strong style=\"color:green\">(success).</strong>"
      ],
      "text/plain": [
       "<IPython.core.display.HTML object>"
      ]
     },
     "metadata": {},
     "output_type": "display_data"
    },
    {
     "data": {
      "application/vnd.jupyter.widget-view+json": {
       "model_id": "",
       "version_major": 2,
       "version_minor": 0
      },
      "text/plain": [
       "VBox(children=(Label(value='0.907 MB of 0.907 MB uploaded (0.000 MB deduped)\\r'), FloatProgress(value=1.0, max…"
      ]
     },
     "metadata": {},
     "output_type": "display_data"
    },
    {
     "data": {
      "text/html": [
       "Synced <strong style=\"color:#cdcd00\">resnet20_quantize_k4</strong>: <a href=\"https://wandb.ai/keio-csg/quantize_resnet/runs/1tle1yfm\" target=\"_blank\">https://wandb.ai/keio-csg/quantize_resnet/runs/1tle1yfm</a><br/>Synced 7 W&B file(s), 0 media file(s), 0 artifact file(s) and 0 other file(s)"
      ],
      "text/plain": [
       "<IPython.core.display.HTML object>"
      ]
     },
     "metadata": {},
     "output_type": "display_data"
    },
    {
     "data": {
      "text/html": [
       "Find logs at: <code>./wandb/run-20220829_135449-1tle1yfm/logs</code>"
      ],
      "text/plain": [
       "<IPython.core.display.HTML object>"
      ]
     },
     "metadata": {},
     "output_type": "display_data"
    },
    {
     "data": {
      "text/html": [
       "Successfully finished last run (ID:1tle1yfm). Initializing new run:<br/>"
      ],
      "text/plain": [
       "<IPython.core.display.HTML object>"
      ]
     },
     "metadata": {},
     "output_type": "display_data"
    },
    {
     "data": {
      "text/html": [
       "wandb version 0.13.2 is available!  To upgrade, please run:\n",
       " $ pip install wandb --upgrade"
      ],
      "text/plain": [
       "<IPython.core.display.HTML object>"
      ]
     },
     "metadata": {},
     "output_type": "display_data"
    },
    {
     "data": {
      "text/html": [
       "Tracking run with wandb version 0.12.21"
      ],
      "text/plain": [
       "<IPython.core.display.HTML object>"
      ]
     },
     "metadata": {},
     "output_type": "display_data"
    },
    {
     "data": {
      "text/html": [
       "Run data is saved locally in <code>/media/ken/dsk1/data/quantize_models_sandbox/wandb/run-20220829_135533-390ide2y</code>"
      ],
      "text/plain": [
       "<IPython.core.display.HTML object>"
      ]
     },
     "metadata": {},
     "output_type": "display_data"
    },
    {
     "data": {
      "text/html": [
       "Syncing run <strong><a href=\"https://wandb.ai/keio-csg/quantize_resnet/runs/390ide2y\" target=\"_blank\">resnet20_quantize_k4</a></strong> to <a href=\"https://wandb.ai/keio-csg/quantize_resnet\" target=\"_blank\">Weights & Biases</a> (<a href=\"https://wandb.me/run\" target=\"_blank\">docs</a>)<br/>"
      ],
      "text/plain": [
       "<IPython.core.display.HTML object>"
      ]
     },
     "metadata": {},
     "output_type": "display_data"
    },
    {
     "name": "stdout",
     "output_type": "stream",
     "text": [
      "current lr 1.00000e-06\n"
     ]
    },
    {
     "data": {
      "application/vnd.jupyter.widget-view+json": {
       "model_id": "200d2b913933471c9b06ecd46e8e4fb5",
       "version_major": 2,
       "version_minor": 0
      },
      "text/plain": [
       "  0%|          | 0/40 [00:00<?, ?it/s]"
      ]
     },
     "metadata": {},
     "output_type": "display_data"
    },
    {
     "name": "stdout",
     "output_type": "stream",
     "text": [
      "Epoch: [0][0/40]\tTime 1.703 (1.703)\tData 1.450 (1.450)\tLoss 2.8258 (2.8258)\tPrec@1 9.277 (9.277)\n",
      "Test: [0/10]\tTime 1.084 (1.084)\tLoss 2.5384 (2.5384)\tPrec@1 8.984 (8.984)\n",
      " * Prec@1 10.230\n",
      "alpha1 9.999961853027344\n",
      "Best prec1 :  10.229999990844727\n",
      "current lr 3.34000e-04\n"
     ]
    },
    {
     "data": {
      "application/vnd.jupyter.widget-view+json": {
       "model_id": "5809bc77dc9849e8869dffe9b4f845e9",
       "version_major": 2,
       "version_minor": 0
      },
      "text/plain": [
       "  0%|          | 0/40 [00:00<?, ?it/s]"
      ]
     },
     "metadata": {},
     "output_type": "display_data"
    },
    {
     "name": "stdout",
     "output_type": "stream",
     "text": [
      "Epoch: [1][0/40]\tTime 1.396 (1.396)\tData 1.333 (1.333)\tLoss 2.7930 (2.7930)\tPrec@1 10.352 (10.352)\n",
      "Test: [0/10]\tTime 0.711 (0.711)\tLoss 1.8483 (1.8483)\tPrec@1 30.957 (30.957)\n",
      " * Prec@1 31.870\n",
      "alpha1 9.986610412597656\n",
      "Best prec1 :  31.870000018310545\n",
      "current lr 6.67000e-04\n"
     ]
    },
    {
     "data": {
      "application/vnd.jupyter.widget-view+json": {
       "model_id": "246c76a7b22a448fad277879f7ff7ad5",
       "version_major": 2,
       "version_minor": 0
      },
      "text/plain": [
       "  0%|          | 0/40 [00:00<?, ?it/s]"
      ]
     },
     "metadata": {},
     "output_type": "display_data"
    },
    {
     "name": "stdout",
     "output_type": "stream",
     "text": [
      "Epoch: [2][0/40]\tTime 1.209 (1.209)\tData 1.146 (1.146)\tLoss 2.0946 (2.0946)\tPrec@1 29.980 (29.980)\n",
      "Test: [0/10]\tTime 0.689 (0.689)\tLoss 1.7710 (1.7710)\tPrec@1 34.863 (34.863)\n",
      " * Prec@1 37.190\n",
      "alpha1 9.959967613220215\n",
      "Best prec1 :  37.189999884033206\n",
      "current lr 1.00000e-03\n"
     ]
    },
    {
     "data": {
      "application/vnd.jupyter.widget-view+json": {
       "model_id": "46eb2703b59044c0bb7d097641102d17",
       "version_major": 2,
       "version_minor": 0
      },
      "text/plain": [
       "  0%|          | 0/40 [00:00<?, ?it/s]"
      ]
     },
     "metadata": {},
     "output_type": "display_data"
    },
    {
     "name": "stdout",
     "output_type": "stream",
     "text": [
      "Epoch: [3][0/40]\tTime 1.485 (1.485)\tData 1.423 (1.423)\tLoss 1.9962 (1.9962)\tPrec@1 36.035 (36.035)\n",
      "Test: [0/10]\tTime 0.769 (0.769)\tLoss 1.5729 (1.5729)\tPrec@1 43.555 (43.555)\n",
      " * Prec@1 44.480\n",
      "alpha1 9.920103073120117\n",
      "Best prec1 :  44.480000048828124\n",
      "current lr 9.99938e-04\n"
     ]
    },
    {
     "data": {
      "application/vnd.jupyter.widget-view+json": {
       "model_id": "1bf0fa370eb242e3b1930ca214ee79c2",
       "version_major": 2,
       "version_minor": 0
      },
      "text/plain": [
       "  0%|          | 0/40 [00:00<?, ?it/s]"
      ]
     },
     "metadata": {},
     "output_type": "display_data"
    },
    {
     "name": "stdout",
     "output_type": "stream",
     "text": [
      "Epoch: [4][0/40]\tTime 1.187 (1.187)\tData 1.125 (1.125)\tLoss 1.8785 (1.8785)\tPrec@1 39.160 (39.160)\n",
      "Test: [0/10]\tTime 0.680 (0.680)\tLoss 1.4683 (1.4683)\tPrec@1 47.168 (47.168)\n",
      " * Prec@1 48.870\n",
      "alpha1 9.880339622497559\n",
      "Best prec1 :  48.86999984741211\n",
      "current lr 9.99754e-04\n"
     ]
    },
    {
     "data": {
      "application/vnd.jupyter.widget-view+json": {
       "model_id": "1e8456eece2f487eb1995724fb68d91a",
       "version_major": 2,
       "version_minor": 0
      },
      "text/plain": [
       "  0%|          | 0/40 [00:00<?, ?it/s]"
      ]
     },
     "metadata": {},
     "output_type": "display_data"
    },
    {
     "name": "stdout",
     "output_type": "stream",
     "text": [
      "Epoch: [5][0/40]\tTime 1.473 (1.473)\tData 1.410 (1.410)\tLoss 1.7872 (1.7872)\tPrec@1 42.871 (42.871)\n",
      "Test: [0/10]\tTime 0.702 (0.702)\tLoss 1.4462 (1.4462)\tPrec@1 46.289 (46.289)\n",
      " * Prec@1 47.710\n",
      "alpha1 9.840672492980957\n",
      "Best prec1 :  48.86999984741211\n",
      "current lr 9.99445e-04\n"
     ]
    },
    {
     "data": {
      "application/vnd.jupyter.widget-view+json": {
       "model_id": "d302b81e0da04b5b8732d23134baef78",
       "version_major": 2,
       "version_minor": 0
      },
      "text/plain": [
       "  0%|          | 0/40 [00:00<?, ?it/s]"
      ]
     },
     "metadata": {},
     "output_type": "display_data"
    },
    {
     "name": "stdout",
     "output_type": "stream",
     "text": [
      "Epoch: [6][0/40]\tTime 1.087 (1.087)\tData 1.023 (1.023)\tLoss 1.7672 (1.7672)\tPrec@1 43.652 (43.652)\n",
      "Test: [0/10]\tTime 0.694 (0.694)\tLoss 1.3838 (1.3838)\tPrec@1 49.609 (49.609)\n",
      " * Prec@1 50.150\n",
      "alpha1 9.801104545593262\n",
      "Best prec1 :  50.149999926757815\n",
      "current lr 9.99014e-04\n"
     ]
    },
    {
     "data": {
      "application/vnd.jupyter.widget-view+json": {
       "model_id": "2278aaa43bd74f7a95028a3ca2cd37b2",
       "version_major": 2,
       "version_minor": 0
      },
      "text/plain": [
       "  0%|          | 0/40 [00:00<?, ?it/s]"
      ]
     },
     "metadata": {},
     "output_type": "display_data"
    },
    {
     "name": "stdout",
     "output_type": "stream",
     "text": [
      "Epoch: [7][0/40]\tTime 1.100 (1.100)\tData 1.037 (1.037)\tLoss 1.7696 (1.7696)\tPrec@1 42.676 (42.676)\n",
      "Test: [0/10]\tTime 0.697 (0.697)\tLoss 1.3154 (1.3154)\tPrec@1 52.148 (52.148)\n",
      " * Prec@1 52.790\n",
      "alpha1 9.761632919311523\n",
      "Best prec1 :  52.790000103759766\n",
      "current lr 9.98460e-04\n"
     ]
    },
    {
     "data": {
      "application/vnd.jupyter.widget-view+json": {
       "model_id": "d1bbee08ee9445ea9bc1be402eef76ed",
       "version_major": 2,
       "version_minor": 0
      },
      "text/plain": [
       "  0%|          | 0/40 [00:00<?, ?it/s]"
      ]
     },
     "metadata": {},
     "output_type": "display_data"
    },
    {
     "name": "stdout",
     "output_type": "stream",
     "text": [
      "Epoch: [8][0/40]\tTime 1.170 (1.170)\tData 1.107 (1.107)\tLoss 1.6204 (1.6204)\tPrec@1 49.414 (49.414)\n",
      "Test: [0/10]\tTime 0.767 (0.767)\tLoss 1.2500 (1.2500)\tPrec@1 54.590 (54.590)\n",
      " * Prec@1 54.020\n",
      "alpha1 9.722261428833008\n",
      "Best prec1 :  54.01999998168945\n",
      "current lr 9.97783e-04\n"
     ]
    },
    {
     "data": {
      "application/vnd.jupyter.widget-view+json": {
       "model_id": "6cb1e5fe8fc84d0fb98f3f9a84166e42",
       "version_major": 2,
       "version_minor": 0
      },
      "text/plain": [
       "  0%|          | 0/40 [00:00<?, ?it/s]"
      ]
     },
     "metadata": {},
     "output_type": "display_data"
    },
    {
     "name": "stdout",
     "output_type": "stream",
     "text": [
      "Epoch: [9][0/40]\tTime 1.465 (1.465)\tData 1.402 (1.402)\tLoss 1.6207 (1.6207)\tPrec@1 48.535 (48.535)\n",
      "Test: [0/10]\tTime 0.740 (0.740)\tLoss 1.2458 (1.2458)\tPrec@1 55.371 (55.371)\n",
      " * Prec@1 55.270\n",
      "alpha1 9.682992935180664\n",
      "Best prec1 :  55.270000006103515\n",
      "current lr 9.96983e-04\n"
     ]
    },
    {
     "data": {
      "application/vnd.jupyter.widget-view+json": {
       "model_id": "92763a8e5a7f4005a69f4d0da2dd143b",
       "version_major": 2,
       "version_minor": 0
      },
      "text/plain": [
       "  0%|          | 0/40 [00:00<?, ?it/s]"
      ]
     },
     "metadata": {},
     "output_type": "display_data"
    },
    {
     "name": "stdout",
     "output_type": "stream",
     "text": [
      "Epoch: [10][0/40]\tTime 1.494 (1.494)\tData 1.429 (1.429)\tLoss 1.5772 (1.5772)\tPrec@1 50.781 (50.781)\n",
      "Test: [0/10]\tTime 0.679 (0.679)\tLoss 1.2484 (1.2484)\tPrec@1 56.445 (56.445)\n",
      " * Prec@1 55.660\n",
      "alpha1 9.643830299377441\n",
      "Best prec1 :  55.65999990844727\n",
      "current lr 9.96061e-04\n"
     ]
    },
    {
     "data": {
      "application/vnd.jupyter.widget-view+json": {
       "model_id": "e721270c3f3a4af19c095d2fcd32d5df",
       "version_major": 2,
       "version_minor": 0
      },
      "text/plain": [
       "  0%|          | 0/40 [00:00<?, ?it/s]"
      ]
     },
     "metadata": {},
     "output_type": "display_data"
    },
    {
     "name": "stdout",
     "output_type": "stream",
     "text": [
      "Epoch: [11][0/40]\tTime 1.180 (1.180)\tData 1.117 (1.117)\tLoss 1.6310 (1.6310)\tPrec@1 47.266 (47.266)\n",
      "Test: [0/10]\tTime 0.719 (0.719)\tLoss 1.1890 (1.1890)\tPrec@1 57.617 (57.617)\n",
      " * Prec@1 58.040\n",
      "alpha1 9.604776382446289\n",
      "Best prec1 :  58.04000001220703\n",
      "current lr 9.95017e-04\n"
     ]
    },
    {
     "data": {
      "application/vnd.jupyter.widget-view+json": {
       "model_id": "0703b2ff69554597b31875a97d7b4188",
       "version_major": 2,
       "version_minor": 0
      },
      "text/plain": [
       "  0%|          | 0/40 [00:00<?, ?it/s]"
      ]
     },
     "metadata": {},
     "output_type": "display_data"
    },
    {
     "name": "stdout",
     "output_type": "stream",
     "text": [
      "Epoch: [12][0/40]\tTime 1.419 (1.419)\tData 1.356 (1.356)\tLoss 1.4255 (1.4255)\tPrec@1 56.836 (56.836)\n",
      "Test: [0/10]\tTime 0.729 (0.729)\tLoss 1.1129 (1.1129)\tPrec@1 60.254 (60.254)\n",
      " * Prec@1 59.440\n",
      "alpha1 9.565834045410156\n",
      "Best prec1 :  59.44000000610352\n",
      "current lr 9.93850e-04\n"
     ]
    },
    {
     "data": {
      "application/vnd.jupyter.widget-view+json": {
       "model_id": "c297781d454b4c1785836c993c0997a3",
       "version_major": 2,
       "version_minor": 0
      },
      "text/plain": [
       "  0%|          | 0/40 [00:00<?, ?it/s]"
      ]
     },
     "metadata": {},
     "output_type": "display_data"
    },
    {
     "name": "stdout",
     "output_type": "stream",
     "text": [
      "Epoch: [13][0/40]\tTime 1.436 (1.436)\tData 1.373 (1.373)\tLoss 1.5267 (1.5267)\tPrec@1 52.539 (52.539)\n",
      "Test: [0/10]\tTime 0.795 (0.795)\tLoss 1.1442 (1.1442)\tPrec@1 60.156 (60.156)\n",
      " * Prec@1 58.910\n",
      "alpha1 9.527007102966309\n",
      "Best prec1 :  59.44000000610352\n",
      "current lr 9.92562e-04\n"
     ]
    },
    {
     "data": {
      "application/vnd.jupyter.widget-view+json": {
       "model_id": "7c3454cb047046adbd851b20ee836c7c",
       "version_major": 2,
       "version_minor": 0
      },
      "text/plain": [
       "  0%|          | 0/40 [00:00<?, ?it/s]"
      ]
     },
     "metadata": {},
     "output_type": "display_data"
    },
    {
     "name": "stdout",
     "output_type": "stream",
     "text": [
      "Epoch: [14][0/40]\tTime 1.206 (1.206)\tData 1.143 (1.143)\tLoss 1.4920 (1.4920)\tPrec@1 53.809 (53.809)\n",
      "Test: [0/10]\tTime 0.747 (0.747)\tLoss 1.0969 (1.0969)\tPrec@1 61.426 (61.426)\n",
      " * Prec@1 60.330\n",
      "alpha1 9.488299369812012\n",
      "Best prec1 :  60.33000006713867\n",
      "current lr 9.91152e-04\n"
     ]
    },
    {
     "data": {
      "application/vnd.jupyter.widget-view+json": {
       "model_id": "909b89b943c3474f81bc461909150102",
       "version_major": 2,
       "version_minor": 0
      },
      "text/plain": [
       "  0%|          | 0/40 [00:00<?, ?it/s]"
      ]
     },
     "metadata": {},
     "output_type": "display_data"
    },
    {
     "name": "stdout",
     "output_type": "stream",
     "text": [
      "Epoch: [15][0/40]\tTime 1.383 (1.383)\tData 1.320 (1.320)\tLoss 1.4964 (1.4964)\tPrec@1 53.613 (53.613)\n",
      "Test: [0/10]\tTime 0.721 (0.721)\tLoss 1.0920 (1.0920)\tPrec@1 62.012 (62.012)\n",
      " * Prec@1 60.910\n",
      "alpha1 9.449712753295898\n",
      "Best prec1 :  60.9099999206543\n",
      "current lr 9.89622e-04\n"
     ]
    },
    {
     "data": {
      "application/vnd.jupyter.widget-view+json": {
       "model_id": "f2fd834fb0014758bf40cde158bf6dec",
       "version_major": 2,
       "version_minor": 0
      },
      "text/plain": [
       "  0%|          | 0/40 [00:00<?, ?it/s]"
      ]
     },
     "metadata": {},
     "output_type": "display_data"
    },
    {
     "name": "stdout",
     "output_type": "stream",
     "text": [
      "Epoch: [16][0/40]\tTime 1.207 (1.207)\tData 1.142 (1.142)\tLoss 1.4544 (1.4544)\tPrec@1 52.930 (52.930)\n",
      "Test: [0/10]\tTime 0.700 (0.700)\tLoss 1.0015 (1.0015)\tPrec@1 65.430 (65.430)\n",
      " * Prec@1 63.030\n",
      "alpha1 9.411249160766602\n",
      "Best prec1 :  63.030000018310545\n",
      "current lr 9.87970e-04\n"
     ]
    },
    {
     "data": {
      "application/vnd.jupyter.widget-view+json": {
       "model_id": "f79c204e356449ff8e0a1f0bbbc07fb4",
       "version_major": 2,
       "version_minor": 0
      },
      "text/plain": [
       "  0%|          | 0/40 [00:00<?, ?it/s]"
      ]
     },
     "metadata": {},
     "output_type": "display_data"
    },
    {
     "name": "stdout",
     "output_type": "stream",
     "text": [
      "Epoch: [17][0/40]\tTime 1.216 (1.216)\tData 1.153 (1.153)\tLoss 1.4490 (1.4490)\tPrec@1 53.516 (53.516)\n",
      "Test: [0/10]\tTime 0.815 (0.815)\tLoss 1.0625 (1.0625)\tPrec@1 63.379 (63.379)\n",
      " * Prec@1 62.930\n",
      "alpha1 9.372915267944336\n",
      "Best prec1 :  63.030000018310545\n",
      "current lr 9.86199e-04\n"
     ]
    },
    {
     "data": {
      "application/vnd.jupyter.widget-view+json": {
       "model_id": "ba1012533cc7489b854dfc55ba31fb22",
       "version_major": 2,
       "version_minor": 0
      },
      "text/plain": [
       "  0%|          | 0/40 [00:00<?, ?it/s]"
      ]
     },
     "metadata": {},
     "output_type": "display_data"
    },
    {
     "name": "stdout",
     "output_type": "stream",
     "text": [
      "Epoch: [18][0/40]\tTime 1.187 (1.187)\tData 1.124 (1.124)\tLoss 1.4230 (1.4230)\tPrec@1 56.738 (56.738)\n",
      "Test: [0/10]\tTime 0.708 (0.708)\tLoss 1.0635 (1.0635)\tPrec@1 62.305 (62.305)\n",
      " * Prec@1 61.100\n",
      "alpha1 9.334712028503418\n",
      "Best prec1 :  63.030000018310545\n",
      "current lr 9.84307e-04\n"
     ]
    },
    {
     "data": {
      "application/vnd.jupyter.widget-view+json": {
       "model_id": "7efd10f5d8234f11b49c14e807ef4b37",
       "version_major": 2,
       "version_minor": 0
      },
      "text/plain": [
       "  0%|          | 0/40 [00:00<?, ?it/s]"
      ]
     },
     "metadata": {},
     "output_type": "display_data"
    },
    {
     "name": "stdout",
     "output_type": "stream",
     "text": [
      "Epoch: [19][0/40]\tTime 1.375 (1.375)\tData 1.310 (1.310)\tLoss 1.4414 (1.4414)\tPrec@1 56.152 (56.152)\n",
      "Test: [0/10]\tTime 0.820 (0.820)\tLoss 1.0148 (1.0148)\tPrec@1 65.625 (65.625)\n",
      " * Prec@1 63.910\n",
      "alpha1 9.296646118164062\n",
      "Best prec1 :  63.90999995727539\n",
      "current lr 9.82296e-04\n"
     ]
    },
    {
     "data": {
      "application/vnd.jupyter.widget-view+json": {
       "model_id": "512b8ec2aa8d4f7ab22f4b26e7bb25c3",
       "version_major": 2,
       "version_minor": 0
      },
      "text/plain": [
       "  0%|          | 0/40 [00:00<?, ?it/s]"
      ]
     },
     "metadata": {},
     "output_type": "display_data"
    },
    {
     "name": "stdout",
     "output_type": "stream",
     "text": [
      "Epoch: [20][0/40]\tTime 1.399 (1.399)\tData 1.336 (1.336)\tLoss 1.3654 (1.3654)\tPrec@1 55.469 (55.469)\n",
      "Test: [0/10]\tTime 0.986 (0.986)\tLoss 1.0127 (1.0127)\tPrec@1 64.258 (64.258)\n",
      " * Prec@1 63.340\n",
      "alpha1 9.25871467590332\n",
      "Best prec1 :  63.90999995727539\n",
      "current lr 9.80167e-04\n"
     ]
    },
    {
     "data": {
      "application/vnd.jupyter.widget-view+json": {
       "model_id": "868d7fc3d93b4933b06c9c4740b4c200",
       "version_major": 2,
       "version_minor": 0
      },
      "text/plain": [
       "  0%|          | 0/40 [00:00<?, ?it/s]"
      ]
     },
     "metadata": {},
     "output_type": "display_data"
    },
    {
     "name": "stdout",
     "output_type": "stream",
     "text": [
      "Epoch: [21][0/40]\tTime 1.653 (1.653)\tData 1.591 (1.591)\tLoss 1.3310 (1.3310)\tPrec@1 56.152 (56.152)\n",
      "Test: [0/10]\tTime 1.050 (1.050)\tLoss 0.9724 (0.9724)\tPrec@1 66.016 (66.016)\n",
      " * Prec@1 65.630\n",
      "alpha1 9.220929145812988\n",
      "Best prec1 :  65.63000010986327\n",
      "current lr 9.77919e-04\n"
     ]
    },
    {
     "data": {
      "application/vnd.jupyter.widget-view+json": {
       "model_id": "03878e3dc447427c9961c9400dc18604",
       "version_major": 2,
       "version_minor": 0
      },
      "text/plain": [
       "  0%|          | 0/40 [00:00<?, ?it/s]"
      ]
     },
     "metadata": {},
     "output_type": "display_data"
    },
    {
     "name": "stdout",
     "output_type": "stream",
     "text": [
      "Epoch: [22][0/40]\tTime 1.662 (1.662)\tData 1.599 (1.599)\tLoss 1.3412 (1.3412)\tPrec@1 58.105 (58.105)\n",
      "Test: [0/10]\tTime 1.002 (1.002)\tLoss 0.9860 (0.9860)\tPrec@1 65.137 (65.137)\n",
      " * Prec@1 64.440\n",
      "alpha1 9.183290481567383\n",
      "Best prec1 :  65.63000010986327\n",
      "current lr 9.75553e-04\n"
     ]
    },
    {
     "data": {
      "application/vnd.jupyter.widget-view+json": {
       "model_id": "84e15b91720f4c89bac18b923718f64a",
       "version_major": 2,
       "version_minor": 0
      },
      "text/plain": [
       "  0%|          | 0/40 [00:00<?, ?it/s]"
      ]
     },
     "metadata": {},
     "output_type": "display_data"
    },
    {
     "name": "stdout",
     "output_type": "stream",
     "text": [
      "Epoch: [23][0/40]\tTime 1.479 (1.479)\tData 1.416 (1.416)\tLoss 1.3472 (1.3472)\tPrec@1 56.738 (56.738)\n",
      "Test: [0/10]\tTime 0.703 (0.703)\tLoss 0.9529 (0.9529)\tPrec@1 66.309 (66.309)\n",
      " * Prec@1 65.600\n",
      "alpha1 9.145798683166504\n",
      "Best prec1 :  65.63000010986327\n",
      "current lr 9.73070e-04\n"
     ]
    },
    {
     "data": {
      "application/vnd.jupyter.widget-view+json": {
       "model_id": "e17600f1e7cb4ac8b14ad37c4c3a008c",
       "version_major": 2,
       "version_minor": 0
      },
      "text/plain": [
       "  0%|          | 0/40 [00:00<?, ?it/s]"
      ]
     },
     "metadata": {},
     "output_type": "display_data"
    },
    {
     "name": "stdout",
     "output_type": "stream",
     "text": [
      "Epoch: [24][0/40]\tTime 1.102 (1.102)\tData 1.039 (1.039)\tLoss 1.3754 (1.3754)\tPrec@1 58.203 (58.203)\n",
      "Test: [0/10]\tTime 0.794 (0.794)\tLoss 0.9736 (0.9736)\tPrec@1 66.016 (66.016)\n",
      " * Prec@1 66.150\n",
      "alpha1 9.108458518981934\n",
      "Best prec1 :  66.14999967041015\n",
      "current lr 9.70470e-04\n"
     ]
    },
    {
     "data": {
      "application/vnd.jupyter.widget-view+json": {
       "model_id": "de742f6025084d43b07a3b8a32e80ee9",
       "version_major": 2,
       "version_minor": 0
      },
      "text/plain": [
       "  0%|          | 0/40 [00:00<?, ?it/s]"
      ]
     },
     "metadata": {},
     "output_type": "display_data"
    },
    {
     "name": "stdout",
     "output_type": "stream",
     "text": [
      "Epoch: [25][0/40]\tTime 1.468 (1.468)\tData 1.405 (1.405)\tLoss 1.2646 (1.2646)\tPrec@1 60.059 (60.059)\n",
      "Test: [0/10]\tTime 0.693 (0.693)\tLoss 0.9911 (0.9911)\tPrec@1 63.867 (63.867)\n",
      " * Prec@1 65.360\n",
      "alpha1 9.071272850036621\n",
      "Best prec1 :  66.14999967041015\n",
      "current lr 9.67754e-04\n"
     ]
    },
    {
     "data": {
      "application/vnd.jupyter.widget-view+json": {
       "model_id": "2315ce692d2548839f66262ed3869d41",
       "version_major": 2,
       "version_minor": 0
      },
      "text/plain": [
       "  0%|          | 0/40 [00:00<?, ?it/s]"
      ]
     },
     "metadata": {},
     "output_type": "display_data"
    },
    {
     "name": "stdout",
     "output_type": "stream",
     "text": [
      "Epoch: [26][0/40]\tTime 1.505 (1.505)\tData 1.438 (1.438)\tLoss 1.2673 (1.2673)\tPrec@1 60.840 (60.840)\n",
      "Test: [0/10]\tTime 0.772 (0.772)\tLoss 0.9071 (0.9071)\tPrec@1 67.871 (67.871)\n",
      " * Prec@1 67.320\n",
      "alpha1 9.034245491027832\n",
      "Best prec1 :  67.31999970703124\n",
      "current lr 9.64923e-04\n"
     ]
    },
    {
     "data": {
      "application/vnd.jupyter.widget-view+json": {
       "model_id": "b77315e2481d4939a2cfc4b8d1b147e2",
       "version_major": 2,
       "version_minor": 0
      },
      "text/plain": [
       "  0%|          | 0/40 [00:00<?, ?it/s]"
      ]
     },
     "metadata": {},
     "output_type": "display_data"
    },
    {
     "name": "stdout",
     "output_type": "stream",
     "text": [
      "Epoch: [27][0/40]\tTime 1.354 (1.354)\tData 1.291 (1.291)\tLoss 1.3398 (1.3398)\tPrec@1 56.934 (56.934)\n",
      "Test: [0/10]\tTime 0.697 (0.697)\tLoss 0.9903 (0.9903)\tPrec@1 65.332 (65.332)\n",
      " * Prec@1 66.330\n",
      "alpha1 8.997376441955566\n",
      "Best prec1 :  67.31999970703124\n",
      "current lr 9.61978e-04\n"
     ]
    },
    {
     "data": {
      "application/vnd.jupyter.widget-view+json": {
       "model_id": "a81a4f1b56114c9b9b292056c34c77c6",
       "version_major": 2,
       "version_minor": 0
      },
      "text/plain": [
       "  0%|          | 0/40 [00:00<?, ?it/s]"
      ]
     },
     "metadata": {},
     "output_type": "display_data"
    },
    {
     "name": "stdout",
     "output_type": "stream",
     "text": [
      "Epoch: [28][0/40]\tTime 1.250 (1.250)\tData 1.187 (1.187)\tLoss 1.2746 (1.2746)\tPrec@1 59.668 (59.668)\n",
      "Test: [0/10]\tTime 0.786 (0.786)\tLoss 0.9313 (0.9313)\tPrec@1 66.895 (66.895)\n",
      " * Prec@1 67.590\n",
      "alpha1 8.960668563842773\n",
      "Best prec1 :  67.58999990234375\n",
      "current lr 9.58918e-04\n"
     ]
    },
    {
     "data": {
      "application/vnd.jupyter.widget-view+json": {
       "model_id": "ccd0a277dbcf4611871d26a3337b9453",
       "version_major": 2,
       "version_minor": 0
      },
      "text/plain": [
       "  0%|          | 0/40 [00:00<?, ?it/s]"
      ]
     },
     "metadata": {},
     "output_type": "display_data"
    },
    {
     "name": "stdout",
     "output_type": "stream",
     "text": [
      "Epoch: [29][0/40]\tTime 1.553 (1.553)\tData 1.490 (1.490)\tLoss 1.3420 (1.3420)\tPrec@1 57.422 (57.422)\n",
      "Test: [0/10]\tTime 0.727 (0.727)\tLoss 0.9132 (0.9132)\tPrec@1 68.164 (68.164)\n",
      " * Prec@1 67.420\n",
      "alpha1 8.92413330078125\n",
      "Best prec1 :  67.58999990234375\n",
      "current lr 9.55746e-04\n"
     ]
    },
    {
     "data": {
      "application/vnd.jupyter.widget-view+json": {
       "model_id": "5198f96d2ef14474ae5f235f0c7c0510",
       "version_major": 2,
       "version_minor": 0
      },
      "text/plain": [
       "  0%|          | 0/40 [00:00<?, ?it/s]"
      ]
     },
     "metadata": {},
     "output_type": "display_data"
    },
    {
     "name": "stdout",
     "output_type": "stream",
     "text": [
      "Epoch: [30][0/40]\tTime 1.565 (1.565)\tData 1.502 (1.502)\tLoss 1.2739 (1.2739)\tPrec@1 61.133 (61.133)\n",
      "Test: [0/10]\tTime 0.706 (0.706)\tLoss 0.8968 (0.8968)\tPrec@1 67.773 (67.773)\n",
      " * Prec@1 68.350\n",
      "alpha1 8.887763977050781\n",
      "Best prec1 :  68.35000021972657\n",
      "current lr 9.52461e-04\n"
     ]
    },
    {
     "data": {
      "application/vnd.jupyter.widget-view+json": {
       "model_id": "a826fdef1c2543b9b859a3a3b90b590b",
       "version_major": 2,
       "version_minor": 0
      },
      "text/plain": [
       "  0%|          | 0/40 [00:00<?, ?it/s]"
      ]
     },
     "metadata": {},
     "output_type": "display_data"
    },
    {
     "name": "stdout",
     "output_type": "stream",
     "text": [
      "Epoch: [31][0/40]\tTime 1.206 (1.206)\tData 1.144 (1.144)\tLoss 1.2729 (1.2729)\tPrec@1 59.863 (59.863)\n",
      "Test: [0/10]\tTime 1.066 (1.066)\tLoss 0.8634 (0.8634)\tPrec@1 68.066 (68.066)\n",
      " * Prec@1 68.780\n",
      "alpha1 8.851572036743164\n",
      "Best prec1 :  68.78000009765626\n",
      "current lr 9.49065e-04\n"
     ]
    },
    {
     "data": {
      "application/vnd.jupyter.widget-view+json": {
       "model_id": "68bba9993bd04f82af0bae8064c45026",
       "version_major": 2,
       "version_minor": 0
      },
      "text/plain": [
       "  0%|          | 0/40 [00:00<?, ?it/s]"
      ]
     },
     "metadata": {},
     "output_type": "display_data"
    },
    {
     "name": "stdout",
     "output_type": "stream",
     "text": [
      "Epoch: [32][0/40]\tTime 1.670 (1.670)\tData 1.608 (1.608)\tLoss 1.2063 (1.2063)\tPrec@1 61.230 (61.230)\n",
      "Test: [0/10]\tTime 1.084 (1.084)\tLoss 0.8829 (0.8829)\tPrec@1 68.066 (68.066)\n",
      " * Prec@1 68.950\n",
      "alpha1 8.8155517578125\n",
      "Best prec1 :  68.9499998413086\n",
      "current lr 9.45558e-04\n"
     ]
    },
    {
     "data": {
      "application/vnd.jupyter.widget-view+json": {
       "model_id": "d464a9cf73174991b30a5a73fbe0950a",
       "version_major": 2,
       "version_minor": 0
      },
      "text/plain": [
       "  0%|          | 0/40 [00:00<?, ?it/s]"
      ]
     },
     "metadata": {},
     "output_type": "display_data"
    },
    {
     "name": "stdout",
     "output_type": "stream",
     "text": [
      "Epoch: [33][0/40]\tTime 1.690 (1.690)\tData 1.627 (1.627)\tLoss 1.2063 (1.2063)\tPrec@1 63.770 (63.770)\n",
      "Test: [0/10]\tTime 1.068 (1.068)\tLoss 0.8768 (0.8768)\tPrec@1 68.945 (68.945)\n",
      " * Prec@1 68.970\n",
      "alpha1 8.779711723327637\n",
      "Best prec1 :  68.96999975585938\n",
      "current lr 9.41941e-04\n"
     ]
    },
    {
     "data": {
      "application/vnd.jupyter.widget-view+json": {
       "model_id": "49ef810a2fb047af8f5b27a28a34bf99",
       "version_major": 2,
       "version_minor": 0
      },
      "text/plain": [
       "  0%|          | 0/40 [00:00<?, ?it/s]"
      ]
     },
     "metadata": {},
     "output_type": "display_data"
    },
    {
     "name": "stdout",
     "output_type": "stream",
     "text": [
      "Epoch: [34][0/40]\tTime 1.800 (1.800)\tData 1.738 (1.738)\tLoss 1.2818 (1.2818)\tPrec@1 61.328 (61.328)\n",
      "Test: [0/10]\tTime 0.715 (0.715)\tLoss 0.8761 (0.8761)\tPrec@1 67.773 (67.773)\n",
      " * Prec@1 69.460\n",
      "alpha1 8.744054794311523\n",
      "Best prec1 :  69.4600001586914\n",
      "current lr 9.38215e-04\n"
     ]
    },
    {
     "data": {
      "application/vnd.jupyter.widget-view+json": {
       "model_id": "f5a1d1aa680948388cda96b592f33326",
       "version_major": 2,
       "version_minor": 0
      },
      "text/plain": [
       "  0%|          | 0/40 [00:00<?, ?it/s]"
      ]
     },
     "metadata": {},
     "output_type": "display_data"
    },
    {
     "name": "stdout",
     "output_type": "stream",
     "text": [
      "Epoch: [35][0/40]\tTime 1.103 (1.103)\tData 1.040 (1.040)\tLoss 1.2300 (1.2300)\tPrec@1 61.816 (61.816)\n",
      "Test: [0/10]\tTime 0.793 (0.793)\tLoss 0.8050 (0.8050)\tPrec@1 72.461 (72.461)\n",
      " * Prec@1 70.430\n",
      "alpha1 8.708582878112793\n",
      "Best prec1 :  70.4300000366211\n",
      "current lr 9.34381e-04\n"
     ]
    },
    {
     "data": {
      "application/vnd.jupyter.widget-view+json": {
       "model_id": "0fdd4413adc1475d9e985c02076b211f",
       "version_major": 2,
       "version_minor": 0
      },
      "text/plain": [
       "  0%|          | 0/40 [00:00<?, ?it/s]"
      ]
     },
     "metadata": {},
     "output_type": "display_data"
    },
    {
     "name": "stdout",
     "output_type": "stream",
     "text": [
      "Epoch: [36][0/40]\tTime 1.201 (1.201)\tData 1.138 (1.138)\tLoss 1.1260 (1.1260)\tPrec@1 64.746 (64.746)\n",
      "Test: [0/10]\tTime 0.731 (0.731)\tLoss 0.8214 (0.8214)\tPrec@1 71.680 (71.680)\n",
      " * Prec@1 69.990\n",
      "alpha1 8.673295974731445\n",
      "Best prec1 :  70.4300000366211\n",
      "current lr 9.30441e-04\n"
     ]
    },
    {
     "data": {
      "application/vnd.jupyter.widget-view+json": {
       "model_id": "d6504850b2224396ac123edf66b54602",
       "version_major": 2,
       "version_minor": 0
      },
      "text/plain": [
       "  0%|          | 0/40 [00:00<?, ?it/s]"
      ]
     },
     "metadata": {},
     "output_type": "display_data"
    },
    {
     "name": "stdout",
     "output_type": "stream",
     "text": [
      "Epoch: [37][0/40]\tTime 1.287 (1.287)\tData 1.223 (1.223)\tLoss 1.1920 (1.1920)\tPrec@1 62.500 (62.500)\n",
      "Test: [0/10]\tTime 0.727 (0.727)\tLoss 0.8492 (0.8492)\tPrec@1 69.922 (69.922)\n",
      " * Prec@1 70.250\n",
      "alpha1 8.638197898864746\n",
      "Best prec1 :  70.4300000366211\n",
      "current lr 9.26394e-04\n"
     ]
    },
    {
     "data": {
      "application/vnd.jupyter.widget-view+json": {
       "model_id": "f9fd2d7b8672445591437a16b3031adf",
       "version_major": 2,
       "version_minor": 0
      },
      "text/plain": [
       "  0%|          | 0/40 [00:00<?, ?it/s]"
      ]
     },
     "metadata": {},
     "output_type": "display_data"
    },
    {
     "name": "stdout",
     "output_type": "stream",
     "text": [
      "Epoch: [38][0/40]\tTime 1.495 (1.495)\tData 1.431 (1.431)\tLoss 1.3035 (1.3035)\tPrec@1 59.180 (59.180)\n",
      "Test: [0/10]\tTime 0.737 (0.737)\tLoss 0.7831 (0.7831)\tPrec@1 71.289 (71.289)\n",
      " * Prec@1 70.710\n",
      "alpha1 8.603294372558594\n",
      "Best prec1 :  70.70999979248047\n",
      "current lr 9.22242e-04\n"
     ]
    },
    {
     "data": {
      "application/vnd.jupyter.widget-view+json": {
       "model_id": "8e4156b414f04905ba1d47c790369b86",
       "version_major": 2,
       "version_minor": 0
      },
      "text/plain": [
       "  0%|          | 0/40 [00:00<?, ?it/s]"
      ]
     },
     "metadata": {},
     "output_type": "display_data"
    },
    {
     "name": "stdout",
     "output_type": "stream",
     "text": [
      "Epoch: [39][0/40]\tTime 1.203 (1.203)\tData 1.140 (1.140)\tLoss 1.1355 (1.1355)\tPrec@1 65.430 (65.430)\n",
      "Test: [0/10]\tTime 0.803 (0.803)\tLoss 0.8304 (0.8304)\tPrec@1 70.801 (70.801)\n",
      " * Prec@1 70.600\n",
      "alpha1 8.568586349487305\n",
      "Best prec1 :  70.70999979248047\n",
      "current lr 9.17986e-04\n"
     ]
    },
    {
     "data": {
      "application/vnd.jupyter.widget-view+json": {
       "model_id": "8c066c5a1c314e42803ee772b5c10030",
       "version_major": 2,
       "version_minor": 0
      },
      "text/plain": [
       "  0%|          | 0/40 [00:00<?, ?it/s]"
      ]
     },
     "metadata": {},
     "output_type": "display_data"
    },
    {
     "name": "stdout",
     "output_type": "stream",
     "text": [
      "Epoch: [40][0/40]\tTime 1.472 (1.472)\tData 1.402 (1.402)\tLoss 1.2140 (1.2140)\tPrec@1 62.793 (62.793)\n",
      "Test: [0/10]\tTime 0.700 (0.700)\tLoss 0.7841 (0.7841)\tPrec@1 70.801 (70.801)\n",
      " * Prec@1 70.440\n",
      "alpha1 8.534075736999512\n",
      "Best prec1 :  70.70999979248047\n",
      "current lr 9.13627e-04\n"
     ]
    },
    {
     "data": {
      "application/vnd.jupyter.widget-view+json": {
       "model_id": "f4e884c25f034c9d909a15d240f53b2b",
       "version_major": 2,
       "version_minor": 0
      },
      "text/plain": [
       "  0%|          | 0/40 [00:00<?, ?it/s]"
      ]
     },
     "metadata": {},
     "output_type": "display_data"
    },
    {
     "name": "stdout",
     "output_type": "stream",
     "text": [
      "Epoch: [41][0/40]\tTime 1.425 (1.425)\tData 1.361 (1.361)\tLoss 1.1685 (1.1685)\tPrec@1 64.453 (64.453)\n",
      "Test: [0/10]\tTime 0.706 (0.706)\tLoss 0.7968 (0.7968)\tPrec@1 71.289 (71.289)\n",
      " * Prec@1 70.990\n",
      "alpha1 8.49976634979248\n",
      "Best prec1 :  70.99000002441406\n",
      "current lr 9.09166e-04\n"
     ]
    },
    {
     "data": {
      "application/vnd.jupyter.widget-view+json": {
       "model_id": "c686a58dee884fdaabdd26c735482f50",
       "version_major": 2,
       "version_minor": 0
      },
      "text/plain": [
       "  0%|          | 0/40 [00:00<?, ?it/s]"
      ]
     },
     "metadata": {},
     "output_type": "display_data"
    },
    {
     "name": "stdout",
     "output_type": "stream",
     "text": [
      "Epoch: [42][0/40]\tTime 1.334 (1.334)\tData 1.271 (1.271)\tLoss 1.1209 (1.1209)\tPrec@1 66.211 (66.211)\n",
      "Test: [0/10]\tTime 0.763 (0.763)\tLoss 0.7588 (0.7588)\tPrec@1 72.070 (72.070)\n",
      " * Prec@1 72.200\n",
      "alpha1 8.46566104888916\n",
      "Best prec1 :  72.19999982910156\n",
      "current lr 9.04604e-04\n"
     ]
    },
    {
     "data": {
      "application/vnd.jupyter.widget-view+json": {
       "model_id": "9f4f93bed1304ee0904bf851196a4500",
       "version_major": 2,
       "version_minor": 0
      },
      "text/plain": [
       "  0%|          | 0/40 [00:00<?, ?it/s]"
      ]
     },
     "metadata": {},
     "output_type": "display_data"
    },
    {
     "name": "stdout",
     "output_type": "stream",
     "text": [
      "Epoch: [43][0/40]\tTime 1.501 (1.501)\tData 1.439 (1.439)\tLoss 1.2005 (1.2005)\tPrec@1 61.914 (61.914)\n",
      "Test: [0/10]\tTime 0.705 (0.705)\tLoss 0.7920 (0.7920)\tPrec@1 70.215 (70.215)\n",
      " * Prec@1 70.580\n",
      "alpha1 8.43175983428955\n",
      "Best prec1 :  72.19999982910156\n",
      "current lr 8.99942e-04\n"
     ]
    },
    {
     "data": {
      "application/vnd.jupyter.widget-view+json": {
       "model_id": "5af7102dd9c94d61bcc22df57f9d9172",
       "version_major": 2,
       "version_minor": 0
      },
      "text/plain": [
       "  0%|          | 0/40 [00:00<?, ?it/s]"
      ]
     },
     "metadata": {},
     "output_type": "display_data"
    },
    {
     "name": "stdout",
     "output_type": "stream",
     "text": [
      "Epoch: [44][0/40]\tTime 1.282 (1.282)\tData 1.219 (1.219)\tLoss 1.1801 (1.1801)\tPrec@1 64.355 (64.355)\n",
      "Test: [0/10]\tTime 0.707 (0.707)\tLoss 0.7552 (0.7552)\tPrec@1 72.559 (72.559)\n",
      " * Prec@1 72.340\n",
      "alpha1 8.398069381713867\n",
      "Best prec1 :  72.34000001220703\n",
      "current lr 8.95182e-04\n"
     ]
    },
    {
     "data": {
      "application/vnd.jupyter.widget-view+json": {
       "model_id": "66231de6513f498b8b4acaf4c68340cd",
       "version_major": 2,
       "version_minor": 0
      },
      "text/plain": [
       "  0%|          | 0/40 [00:00<?, ?it/s]"
      ]
     },
     "metadata": {},
     "output_type": "display_data"
    },
    {
     "name": "stdout",
     "output_type": "stream",
     "text": [
      "Epoch: [45][0/40]\tTime 1.204 (1.204)\tData 1.137 (1.137)\tLoss 1.2003 (1.2003)\tPrec@1 61.914 (61.914)\n",
      "Test: [0/10]\tTime 0.757 (0.757)\tLoss 0.7934 (0.7934)\tPrec@1 70.801 (70.801)\n",
      " * Prec@1 71.780\n",
      "alpha1 8.364585876464844\n",
      "Best prec1 :  72.34000001220703\n",
      "current lr 8.90325e-04\n"
     ]
    },
    {
     "data": {
      "application/vnd.jupyter.widget-view+json": {
       "model_id": "6c811352430843c8a62cc885e5bbcfbf",
       "version_major": 2,
       "version_minor": 0
      },
      "text/plain": [
       "  0%|          | 0/40 [00:00<?, ?it/s]"
      ]
     },
     "metadata": {},
     "output_type": "display_data"
    },
    {
     "name": "stdout",
     "output_type": "stream",
     "text": [
      "Epoch: [46][0/40]\tTime 1.541 (1.541)\tData 1.478 (1.478)\tLoss 1.2174 (1.2174)\tPrec@1 61.328 (61.328)\n",
      "Test: [0/10]\tTime 0.786 (0.786)\tLoss 0.7408 (0.7408)\tPrec@1 72.949 (72.949)\n",
      " * Prec@1 73.290\n",
      "alpha1 8.331320762634277\n",
      "Best prec1 :  73.29000002441406\n",
      "current lr 8.85371e-04\n"
     ]
    },
    {
     "data": {
      "application/vnd.jupyter.widget-view+json": {
       "model_id": "1494ca9c8a0647338b257e219974185e",
       "version_major": 2,
       "version_minor": 0
      },
      "text/plain": [
       "  0%|          | 0/40 [00:00<?, ?it/s]"
      ]
     },
     "metadata": {},
     "output_type": "display_data"
    },
    {
     "name": "stdout",
     "output_type": "stream",
     "text": [
      "Epoch: [47][0/40]\tTime 1.319 (1.319)\tData 1.256 (1.256)\tLoss 1.1436 (1.1436)\tPrec@1 62.988 (62.988)\n",
      "Test: [0/10]\tTime 0.807 (0.807)\tLoss 0.7561 (0.7561)\tPrec@1 73.633 (73.633)\n",
      " * Prec@1 72.740\n",
      "alpha1 8.29826831817627\n",
      "Best prec1 :  73.29000002441406\n",
      "current lr 8.80323e-04\n"
     ]
    },
    {
     "data": {
      "application/vnd.jupyter.widget-view+json": {
       "model_id": "2103d593c89548c4a084c9068d6d5caf",
       "version_major": 2,
       "version_minor": 0
      },
      "text/plain": [
       "  0%|          | 0/40 [00:00<?, ?it/s]"
      ]
     },
     "metadata": {},
     "output_type": "display_data"
    },
    {
     "name": "stdout",
     "output_type": "stream",
     "text": [
      "Epoch: [48][0/40]\tTime 1.260 (1.260)\tData 1.198 (1.198)\tLoss 1.0798 (1.0798)\tPrec@1 66.602 (66.602)\n",
      "Test: [0/10]\tTime 0.785 (0.785)\tLoss 0.7372 (0.7372)\tPrec@1 75.195 (75.195)\n",
      " * Prec@1 73.390\n",
      "alpha1 8.265429496765137\n",
      "Best prec1 :  73.38999968261719\n",
      "current lr 8.75180e-04\n"
     ]
    },
    {
     "data": {
      "application/vnd.jupyter.widget-view+json": {
       "model_id": "e0e30c18f0094843b38ca0bd8e988b53",
       "version_major": 2,
       "version_minor": 0
      },
      "text/plain": [
       "  0%|          | 0/40 [00:00<?, ?it/s]"
      ]
     },
     "metadata": {},
     "output_type": "display_data"
    },
    {
     "name": "stdout",
     "output_type": "stream",
     "text": [
      "Epoch: [49][0/40]\tTime 1.536 (1.536)\tData 1.472 (1.472)\tLoss 1.0747 (1.0747)\tPrec@1 65.234 (65.234)\n",
      "Test: [0/10]\tTime 0.807 (0.807)\tLoss 0.7668 (0.7668)\tPrec@1 72.852 (72.852)\n",
      " * Prec@1 72.000\n",
      "alpha1 8.232813835144043\n",
      "Best prec1 :  73.38999968261719\n",
      "current lr 8.69946e-04\n"
     ]
    },
    {
     "data": {
      "application/vnd.jupyter.widget-view+json": {
       "model_id": "51275fd02c004e6aa2e36e7ff3260858",
       "version_major": 2,
       "version_minor": 0
      },
      "text/plain": [
       "  0%|          | 0/40 [00:00<?, ?it/s]"
      ]
     },
     "metadata": {},
     "output_type": "display_data"
    },
    {
     "name": "stdout",
     "output_type": "stream",
     "text": [
      "Epoch: [50][0/40]\tTime 1.345 (1.345)\tData 1.283 (1.283)\tLoss 1.0763 (1.0763)\tPrec@1 67.090 (67.090)\n",
      "Test: [0/10]\tTime 0.713 (0.713)\tLoss 0.7591 (0.7591)\tPrec@1 73.438 (73.438)\n",
      " * Prec@1 73.920\n",
      "alpha1 8.20042610168457\n",
      "Best prec1 :  73.91999990234375\n",
      "current lr 8.64620e-04\n"
     ]
    },
    {
     "data": {
      "application/vnd.jupyter.widget-view+json": {
       "model_id": "d9db1e531ee54be89eeb43053295e180",
       "version_major": 2,
       "version_minor": 0
      },
      "text/plain": [
       "  0%|          | 0/40 [00:00<?, ?it/s]"
      ]
     },
     "metadata": {},
     "output_type": "display_data"
    },
    {
     "name": "stdout",
     "output_type": "stream",
     "text": [
      "Epoch: [51][0/40]\tTime 1.379 (1.379)\tData 1.316 (1.316)\tLoss 1.0226 (1.0226)\tPrec@1 69.727 (69.727)\n",
      "Test: [0/10]\tTime 0.790 (0.790)\tLoss 0.7434 (0.7434)\tPrec@1 74.414 (74.414)\n",
      " * Prec@1 73.580\n",
      "alpha1 8.168262481689453\n",
      "Best prec1 :  73.91999990234375\n",
      "current lr 8.59204e-04\n"
     ]
    },
    {
     "data": {
      "application/vnd.jupyter.widget-view+json": {
       "model_id": "18301ad84d024c5a8d3a0f0694d173ac",
       "version_major": 2,
       "version_minor": 0
      },
      "text/plain": [
       "  0%|          | 0/40 [00:00<?, ?it/s]"
      ]
     },
     "metadata": {},
     "output_type": "display_data"
    },
    {
     "name": "stdout",
     "output_type": "stream",
     "text": [
      "Epoch: [52][0/40]\tTime 1.193 (1.193)\tData 1.130 (1.130)\tLoss 1.0606 (1.0606)\tPrec@1 66.797 (66.797)\n",
      "Test: [0/10]\tTime 0.689 (0.689)\tLoss 0.7208 (0.7208)\tPrec@1 75.000 (75.000)\n",
      " * Prec@1 73.940\n",
      "alpha1 8.136324882507324\n",
      "Best prec1 :  73.93999990234374\n",
      "current lr 8.53700e-04\n"
     ]
    },
    {
     "data": {
      "application/vnd.jupyter.widget-view+json": {
       "model_id": "55ef3b67c3944fd185f33fd70bab0661",
       "version_major": 2,
       "version_minor": 0
      },
      "text/plain": [
       "  0%|          | 0/40 [00:00<?, ?it/s]"
      ]
     },
     "metadata": {},
     "output_type": "display_data"
    },
    {
     "name": "stdout",
     "output_type": "stream",
     "text": [
      "Epoch: [53][0/40]\tTime 1.186 (1.186)\tData 1.121 (1.121)\tLoss 1.0621 (1.0621)\tPrec@1 66.113 (66.113)\n",
      "Test: [0/10]\tTime 0.794 (0.794)\tLoss 0.7340 (0.7340)\tPrec@1 74.902 (74.902)\n",
      " * Prec@1 73.450\n",
      "alpha1 8.104616165161133\n",
      "Best prec1 :  73.93999990234374\n",
      "current lr 8.48108e-04\n"
     ]
    },
    {
     "data": {
      "application/vnd.jupyter.widget-view+json": {
       "model_id": "d0d9fdb981fc4c729e7212e874577222",
       "version_major": 2,
       "version_minor": 0
      },
      "text/plain": [
       "  0%|          | 0/40 [00:00<?, ?it/s]"
      ]
     },
     "metadata": {},
     "output_type": "display_data"
    },
    {
     "name": "stdout",
     "output_type": "stream",
     "text": [
      "Epoch: [54][0/40]\tTime 1.185 (1.185)\tData 1.123 (1.123)\tLoss 1.1072 (1.1072)\tPrec@1 64.746 (64.746)\n",
      "Test: [0/10]\tTime 0.799 (0.799)\tLoss 0.7008 (0.7008)\tPrec@1 73.926 (73.926)\n",
      " * Prec@1 74.410\n",
      "alpha1 8.073141098022461\n",
      "Best prec1 :  74.41000009765625\n",
      "current lr 8.42431e-04\n"
     ]
    },
    {
     "data": {
      "application/vnd.jupyter.widget-view+json": {
       "model_id": "73ff41867c4b4d5e8ac247606eb1a052",
       "version_major": 2,
       "version_minor": 0
      },
      "text/plain": [
       "  0%|          | 0/40 [00:00<?, ?it/s]"
      ]
     },
     "metadata": {},
     "output_type": "display_data"
    },
    {
     "name": "stdout",
     "output_type": "stream",
     "text": [
      "Epoch: [55][0/40]\tTime 1.295 (1.295)\tData 1.232 (1.232)\tLoss 1.0833 (1.0833)\tPrec@1 66.016 (66.016)\n",
      "Test: [0/10]\tTime 0.722 (0.722)\tLoss 0.7026 (0.7026)\tPrec@1 73.926 (73.926)\n",
      " * Prec@1 74.270\n",
      "alpha1 8.041898727416992\n",
      "Best prec1 :  74.41000009765625\n",
      "current lr 8.36670e-04\n"
     ]
    },
    {
     "data": {
      "application/vnd.jupyter.widget-view+json": {
       "model_id": "2634b58423104e2c8e7872c5ad539b74",
       "version_major": 2,
       "version_minor": 0
      },
      "text/plain": [
       "  0%|          | 0/40 [00:00<?, ?it/s]"
      ]
     },
     "metadata": {},
     "output_type": "display_data"
    },
    {
     "name": "stdout",
     "output_type": "stream",
     "text": [
      "Epoch: [56][0/40]\tTime 1.492 (1.492)\tData 1.428 (1.428)\tLoss 1.1084 (1.1084)\tPrec@1 64.551 (64.551)\n",
      "Test: [0/10]\tTime 0.695 (0.695)\tLoss 0.7047 (0.7047)\tPrec@1 75.000 (75.000)\n",
      " * Prec@1 74.130\n",
      "alpha1 8.010885238647461\n",
      "Best prec1 :  74.41000009765625\n",
      "current lr 8.30825e-04\n"
     ]
    },
    {
     "data": {
      "application/vnd.jupyter.widget-view+json": {
       "model_id": "3dc6008ee35b40528b2c9804909623b1",
       "version_major": 2,
       "version_minor": 0
      },
      "text/plain": [
       "  0%|          | 0/40 [00:00<?, ?it/s]"
      ]
     },
     "metadata": {},
     "output_type": "display_data"
    },
    {
     "name": "stdout",
     "output_type": "stream",
     "text": [
      "Epoch: [57][0/40]\tTime 1.570 (1.570)\tData 1.508 (1.508)\tLoss 1.0454 (1.0454)\tPrec@1 67.578 (67.578)\n",
      "Test: [0/10]\tTime 0.802 (0.802)\tLoss 0.7083 (0.7083)\tPrec@1 75.195 (75.195)\n",
      " * Prec@1 74.350\n",
      "alpha1 7.980109214782715\n",
      "Best prec1 :  74.41000009765625\n",
      "current lr 8.24899e-04\n"
     ]
    },
    {
     "data": {
      "application/vnd.jupyter.widget-view+json": {
       "model_id": "b4fc04ec61754a43a44aed9fbb1991de",
       "version_major": 2,
       "version_minor": 0
      },
      "text/plain": [
       "  0%|          | 0/40 [00:00<?, ?it/s]"
      ]
     },
     "metadata": {},
     "output_type": "display_data"
    },
    {
     "name": "stdout",
     "output_type": "stream",
     "text": [
      "Epoch: [58][0/40]\tTime 1.326 (1.326)\tData 1.259 (1.259)\tLoss 1.1155 (1.1155)\tPrec@1 64.160 (64.160)\n",
      "Test: [0/10]\tTime 0.802 (0.802)\tLoss 0.6987 (0.6987)\tPrec@1 75.586 (75.586)\n",
      " * Prec@1 74.410\n",
      "alpha1 7.9495720863342285\n",
      "Best prec1 :  74.41000021972657\n",
      "current lr 8.18893e-04\n"
     ]
    },
    {
     "data": {
      "application/vnd.jupyter.widget-view+json": {
       "model_id": "ed8458906297455dbfbe1c7e2ec98141",
       "version_major": 2,
       "version_minor": 0
      },
      "text/plain": [
       "  0%|          | 0/40 [00:00<?, ?it/s]"
      ]
     },
     "metadata": {},
     "output_type": "display_data"
    },
    {
     "name": "stdout",
     "output_type": "stream",
     "text": [
      "Epoch: [59][0/40]\tTime 1.288 (1.288)\tData 1.224 (1.224)\tLoss 1.0025 (1.0025)\tPrec@1 69.238 (69.238)\n",
      "Test: [0/10]\tTime 0.787 (0.787)\tLoss 0.7026 (0.7026)\tPrec@1 74.316 (74.316)\n",
      " * Prec@1 74.400\n",
      "alpha1 7.919276237487793\n",
      "Best prec1 :  74.41000021972657\n",
      "current lr 8.12809e-04\n"
     ]
    },
    {
     "data": {
      "application/vnd.jupyter.widget-view+json": {
       "model_id": "af90c6beb2524b5c83266adce5fe93e6",
       "version_major": 2,
       "version_minor": 0
      },
      "text/plain": [
       "  0%|          | 0/40 [00:00<?, ?it/s]"
      ]
     },
     "metadata": {},
     "output_type": "display_data"
    },
    {
     "name": "stdout",
     "output_type": "stream",
     "text": [
      "Epoch: [60][0/40]\tTime 1.241 (1.241)\tData 1.179 (1.179)\tLoss 1.0622 (1.0622)\tPrec@1 66.602 (66.602)\n",
      "Test: [0/10]\tTime 0.811 (0.811)\tLoss 0.7113 (0.7113)\tPrec@1 74.316 (74.316)\n",
      " * Prec@1 74.630\n",
      "alpha1 7.889222621917725\n",
      "Best prec1 :  74.62999968261718\n",
      "current lr 8.06647e-04\n"
     ]
    },
    {
     "data": {
      "application/vnd.jupyter.widget-view+json": {
       "model_id": "3a4a4719e1e74241995c4613d14d859f",
       "version_major": 2,
       "version_minor": 0
      },
      "text/plain": [
       "  0%|          | 0/40 [00:00<?, ?it/s]"
      ]
     },
     "metadata": {},
     "output_type": "display_data"
    },
    {
     "name": "stdout",
     "output_type": "stream",
     "text": [
      "Epoch: [61][0/40]\tTime 1.227 (1.227)\tData 1.163 (1.163)\tLoss 1.0623 (1.0623)\tPrec@1 66.992 (66.992)\n",
      "Test: [0/10]\tTime 0.762 (0.762)\tLoss 0.6971 (0.6971)\tPrec@1 75.977 (75.977)\n",
      " * Prec@1 74.570\n",
      "alpha1 7.859412670135498\n",
      "Best prec1 :  74.62999968261718\n",
      "current lr 8.00410e-04\n"
     ]
    },
    {
     "data": {
      "application/vnd.jupyter.widget-view+json": {
       "model_id": "6c7fca2f834045e49494ed593a4f5eb7",
       "version_major": 2,
       "version_minor": 0
      },
      "text/plain": [
       "  0%|          | 0/40 [00:00<?, ?it/s]"
      ]
     },
     "metadata": {},
     "output_type": "display_data"
    },
    {
     "name": "stdout",
     "output_type": "stream",
     "text": [
      "Epoch: [62][0/40]\tTime 1.471 (1.471)\tData 1.407 (1.407)\tLoss 0.9601 (0.9601)\tPrec@1 70.703 (70.703)\n",
      "Test: [0/10]\tTime 0.833 (0.833)\tLoss 0.6705 (0.6705)\tPrec@1 76.367 (76.367)\n",
      " * Prec@1 75.720\n",
      "alpha1 7.829848766326904\n",
      "Best prec1 :  75.71999987792968\n",
      "current lr 7.94099e-04\n"
     ]
    },
    {
     "data": {
      "application/vnd.jupyter.widget-view+json": {
       "model_id": "c5a5f48d318147d690c26dc8f853818a",
       "version_major": 2,
       "version_minor": 0
      },
      "text/plain": [
       "  0%|          | 0/40 [00:00<?, ?it/s]"
      ]
     },
     "metadata": {},
     "output_type": "display_data"
    },
    {
     "name": "stdout",
     "output_type": "stream",
     "text": [
      "Epoch: [63][0/40]\tTime 1.464 (1.464)\tData 1.398 (1.398)\tLoss 1.0175 (1.0175)\tPrec@1 67.871 (67.871)\n",
      "Test: [0/10]\tTime 0.707 (0.707)\tLoss 0.6696 (0.6696)\tPrec@1 76.855 (76.855)\n",
      " * Prec@1 74.750\n",
      "alpha1 7.800532817840576\n",
      "Best prec1 :  75.71999987792968\n",
      "current lr 7.87715e-04\n"
     ]
    },
    {
     "data": {
      "application/vnd.jupyter.widget-view+json": {
       "model_id": "881a700558fc4cf285a0fc42dff36d2c",
       "version_major": 2,
       "version_minor": 0
      },
      "text/plain": [
       "  0%|          | 0/40 [00:00<?, ?it/s]"
      ]
     },
     "metadata": {},
     "output_type": "display_data"
    },
    {
     "name": "stdout",
     "output_type": "stream",
     "text": [
      "Epoch: [64][0/40]\tTime 1.518 (1.518)\tData 1.455 (1.455)\tLoss 1.0700 (1.0700)\tPrec@1 65.430 (65.430)\n",
      "Test: [0/10]\tTime 0.809 (0.809)\tLoss 0.6651 (0.6651)\tPrec@1 76.758 (76.758)\n",
      " * Prec@1 76.000\n",
      "alpha1 7.771466255187988\n",
      "Best prec1 :  75.99999975585938\n",
      "current lr 7.81261e-04\n"
     ]
    },
    {
     "data": {
      "application/vnd.jupyter.widget-view+json": {
       "model_id": "a7c74588061c4be08e5fdc037358cd00",
       "version_major": 2,
       "version_minor": 0
      },
      "text/plain": [
       "  0%|          | 0/40 [00:00<?, ?it/s]"
      ]
     },
     "metadata": {},
     "output_type": "display_data"
    },
    {
     "name": "stdout",
     "output_type": "stream",
     "text": [
      "Epoch: [65][0/40]\tTime 1.308 (1.308)\tData 1.246 (1.246)\tLoss 1.0012 (1.0012)\tPrec@1 66.895 (66.895)\n",
      "Test: [0/10]\tTime 0.813 (0.813)\tLoss 0.6965 (0.6965)\tPrec@1 76.660 (76.660)\n",
      " * Prec@1 74.830\n",
      "alpha1 7.742652416229248\n",
      "Best prec1 :  75.99999975585938\n",
      "current lr 7.74737e-04\n"
     ]
    },
    {
     "data": {
      "application/vnd.jupyter.widget-view+json": {
       "model_id": "449ef335a1b144b18b7f809ecd6245a0",
       "version_major": 2,
       "version_minor": 0
      },
      "text/plain": [
       "  0%|          | 0/40 [00:00<?, ?it/s]"
      ]
     },
     "metadata": {},
     "output_type": "display_data"
    },
    {
     "name": "stdout",
     "output_type": "stream",
     "text": [
      "Epoch: [66][0/40]\tTime 1.588 (1.588)\tData 1.525 (1.525)\tLoss 1.0690 (1.0690)\tPrec@1 66.016 (66.016)\n",
      "Test: [0/10]\tTime 0.800 (0.800)\tLoss 0.6549 (0.6549)\tPrec@1 75.391 (75.391)\n",
      " * Prec@1 75.420\n",
      "alpha1 7.714094638824463\n",
      "Best prec1 :  75.99999975585938\n",
      "current lr 7.68145e-04\n"
     ]
    },
    {
     "data": {
      "application/vnd.jupyter.widget-view+json": {
       "model_id": "099b3894f7b24d8194f8775610960b06",
       "version_major": 2,
       "version_minor": 0
      },
      "text/plain": [
       "  0%|          | 0/40 [00:00<?, ?it/s]"
      ]
     },
     "metadata": {},
     "output_type": "display_data"
    },
    {
     "name": "stdout",
     "output_type": "stream",
     "text": [
      "Epoch: [67][0/40]\tTime 1.403 (1.403)\tData 1.340 (1.340)\tLoss 1.0458 (1.0458)\tPrec@1 67.383 (67.383)\n",
      "Test: [0/10]\tTime 0.817 (0.817)\tLoss 0.6475 (0.6475)\tPrec@1 76.270 (76.270)\n",
      " * Prec@1 75.680\n",
      "alpha1 7.685789585113525\n",
      "Best prec1 :  75.99999975585938\n",
      "current lr 7.61488e-04\n"
     ]
    },
    {
     "data": {
      "application/vnd.jupyter.widget-view+json": {
       "model_id": "3b49935df7bb41e5b35d5dde5c740c78",
       "version_major": 2,
       "version_minor": 0
      },
      "text/plain": [
       "  0%|          | 0/40 [00:00<?, ?it/s]"
      ]
     },
     "metadata": {},
     "output_type": "display_data"
    },
    {
     "name": "stdout",
     "output_type": "stream",
     "text": [
      "Epoch: [68][0/40]\tTime 1.233 (1.233)\tData 1.171 (1.171)\tLoss 1.0011 (1.0011)\tPrec@1 67.676 (67.676)\n",
      "Test: [0/10]\tTime 0.686 (0.686)\tLoss 0.6786 (0.6786)\tPrec@1 75.586 (75.586)\n",
      " * Prec@1 74.450\n",
      "alpha1 7.657740116119385\n",
      "Best prec1 :  75.99999975585938\n",
      "current lr 7.54766e-04\n"
     ]
    },
    {
     "data": {
      "application/vnd.jupyter.widget-view+json": {
       "model_id": "b0450e8cda4f45b895b51f7d450ca774",
       "version_major": 2,
       "version_minor": 0
      },
      "text/plain": [
       "  0%|          | 0/40 [00:00<?, ?it/s]"
      ]
     },
     "metadata": {},
     "output_type": "display_data"
    },
    {
     "name": "stdout",
     "output_type": "stream",
     "text": [
      "Epoch: [69][0/40]\tTime 1.189 (1.189)\tData 1.126 (1.126)\tLoss 0.9861 (0.9861)\tPrec@1 68.848 (68.848)\n",
      "Test: [0/10]\tTime 0.836 (0.836)\tLoss 0.6742 (0.6742)\tPrec@1 75.977 (75.977)\n",
      " * Prec@1 75.210\n",
      "alpha1 7.629950046539307\n",
      "Best prec1 :  75.99999975585938\n",
      "current lr 7.47982e-04\n"
     ]
    },
    {
     "data": {
      "application/vnd.jupyter.widget-view+json": {
       "model_id": "d5335fba97d84875b69a7c4885df8a4d",
       "version_major": 2,
       "version_minor": 0
      },
      "text/plain": [
       "  0%|          | 0/40 [00:00<?, ?it/s]"
      ]
     },
     "metadata": {},
     "output_type": "display_data"
    },
    {
     "name": "stdout",
     "output_type": "stream",
     "text": [
      "Epoch: [70][0/40]\tTime 1.462 (1.462)\tData 1.400 (1.400)\tLoss 1.0582 (1.0582)\tPrec@1 67.188 (67.188)\n",
      "Test: [0/10]\tTime 0.701 (0.701)\tLoss 0.6506 (0.6506)\tPrec@1 76.953 (76.953)\n",
      " * Prec@1 75.950\n",
      "alpha1 7.602419376373291\n",
      "Best prec1 :  75.99999975585938\n",
      "current lr 7.41136e-04\n"
     ]
    },
    {
     "data": {
      "application/vnd.jupyter.widget-view+json": {
       "model_id": "d0b509b45beb4e9f8ac8f025fa36d37b",
       "version_major": 2,
       "version_minor": 0
      },
      "text/plain": [
       "  0%|          | 0/40 [00:00<?, ?it/s]"
      ]
     },
     "metadata": {},
     "output_type": "display_data"
    },
    {
     "name": "stdout",
     "output_type": "stream",
     "text": [
      "Epoch: [71][0/40]\tTime 1.318 (1.318)\tData 1.254 (1.254)\tLoss 0.9758 (0.9758)\tPrec@1 68.945 (68.945)\n"
     ]
    }
   ],
   "source": [
    "from timm.scheduler import CosineLRScheduler\n",
    "\n",
    "for k in range(4,5):\n",
    "    net = resnet20(k=k)\n",
    "\n",
    "    model = net.cuda()\n",
    "    mixup = False\n",
    "\n",
    "    # Track experiment with wandb\n",
    "    import wandb\n",
    "    watermark = \"resnet20_quantize_k{}\".format(k)\n",
    "\n",
    "    # mess with wandb\n",
    "    wandb.init(project=\"quantize_resnet\", name=watermark)\n",
    "\n",
    "    # define loss function (criterion) and pptimizer\n",
    "    criterion = nn.CrossEntropyLoss().cuda()\n",
    "\n",
    "    # optimizer for pact\n",
    "    optimizer = torch.optim.SGD(model.parameters(), lr=1e-3,\n",
    "                                momentum=0.9,\n",
    "                                weight_decay=0.0002)\n",
    "    optimizer = torch.optim.Adam(model.parameters(), lr=1e-2)\n",
    "\n",
    "    scheduler = CosineLRScheduler(optimizer, t_initial=n_epochs, lr_min=1e-6, \n",
    "                          warmup_t=3, warmup_lr_init=1e-6, warmup_prefix=True)\n",
    "\n",
    "    best_prec1 = 0\n",
    "    os.makedirs(\"models\", exist_ok=True)\n",
    "\n",
    "    for epoch in range(n_epochs):\n",
    "        scheduler.step(epoch)\n",
    "        # train for one epoch\n",
    "        print('current lr {:.5e}'.format(optimizer.param_groups[0]['lr']))\n",
    "        tloss = train(train_loader, model, criterion, optimizer, epoch)         \n",
    "\n",
    "        # evaluate on validation set\n",
    "        prec1, valloss = validate(val_loader, model, criterion)\n",
    "\n",
    "        # wandb\n",
    "        wandb.log({'epoch': epoch, \"prec\":prec1, \"train_loss\": tloss, 'val_loss': valloss, \"lr\": optimizer.param_groups[0][\"lr\"],})\n",
    "\n",
    "        # remember best prec@1 and save checkpoint\n",
    "        is_best = prec1 > best_prec1\n",
    "        best_prec1 = max(prec1, best_prec1)\n",
    "\n",
    "        print(\"Best prec1 : \", best_prec1)\n",
    "        if is_best:\n",
    "            torch.save(model.state_dict(), os.path.join(f'models/{watermark}.pth'))"
   ]
  },
  {
   "cell_type": "code",
   "execution_count": null,
   "id": "8998c803",
   "metadata": {},
   "outputs": [],
   "source": [
    "from pact_utils import TorchQuantize\n",
    "len(TorchQuantize(bits=4).forward(torch.rand(1,384)).unique())"
   ]
  },
  {
   "cell_type": "code",
   "execution_count": null,
   "id": "8d894c1f",
   "metadata": {},
   "outputs": [],
   "source": [
    "net.blocks[1].mlp.fc1.forward(torch.rand(1,384).cuda()).unique()"
   ]
  },
  {
   "cell_type": "code",
   "execution_count": null,
   "id": "75eb1382",
   "metadata": {},
   "outputs": [],
   "source": [
    "model.blocks[1].attn.qkv"
   ]
  },
  {
   "cell_type": "code",
   "execution_count": null,
   "id": "bcba9662",
   "metadata": {},
   "outputs": [],
   "source": []
  }
 ],
 "metadata": {
  "kernelspec": {
   "display_name": "Python 3 (ipykernel)",
   "language": "python",
   "name": "python3"
  },
  "language_info": {
   "codemirror_mode": {
    "name": "ipython",
    "version": 3
   },
   "file_extension": ".py",
   "mimetype": "text/x-python",
   "name": "python",
   "nbconvert_exporter": "python",
   "pygments_lexer": "ipython3",
   "version": "3.8.13"
  }
 },
 "nbformat": 4,
 "nbformat_minor": 5
}
