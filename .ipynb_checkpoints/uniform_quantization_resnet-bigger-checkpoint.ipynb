{
 "cells": [
  {
   "cell_type": "markdown",
   "id": "65b5a174",
   "metadata": {},
   "source": [
    "# Resnet18 CIFAR-10\n",
    "\n",
    "Quantize train resnet18 without PACT"
   ]
  },
  {
   "cell_type": "code",
   "execution_count": 1,
   "id": "3cdfa9b0",
   "metadata": {},
   "outputs": [],
   "source": [
    "NOQUANT_TRAIN = False\n",
    "n_epochs = 200\n",
    "batches = 1024"
   ]
  },
  {
   "cell_type": "code",
   "execution_count": 2,
   "id": "e95ac49f",
   "metadata": {},
   "outputs": [],
   "source": [
    "import argparse\n",
    "import os\n",
    "import shutil\n",
    "import time\n",
    "import pandas as pd\n",
    "import matplotlib.pyplot as plt\n",
    "import network.resnet_orig as resnet\n",
    "\n",
    "from tqdm.notebook import tqdm\n",
    "import time\n",
    "import numpy as np\n",
    "import pandas as pd\n",
    "import cv2\n",
    "import torch\n",
    "import torch.nn as nn\n",
    "import torch.nn.functional as F\n",
    "import torch.optim as optim\n",
    "from torch.optim import lr_scheduler\n",
    "from torch.utils.data import DataLoader, Dataset\n",
    "from torch.utils.data.sampler import SubsetRandomSampler, RandomSampler, SequentialSampler\n",
    "from torch.optim.lr_scheduler import CosineAnnealingWarmRestarts, CosineAnnealingLR, ReduceLROnPlateau\n",
    "\n",
    "model_names = sorted(name for name in resnet.__dict__\n",
    "    if name.islower() and not name.startswith(\"__\")\n",
    "                     and name.startswith(\"resnet\")\n",
    "                     and callable(resnet.__dict__[name]))\n",
    "\n",
    "DATA_DIR = \"train\"\n",
    "print_freq = 50\n",
    "\n",
    "# vit imsize\n",
    "imsize = 32"
   ]
  },
  {
   "cell_type": "code",
   "execution_count": 3,
   "id": "91238a6e",
   "metadata": {},
   "outputs": [
    {
     "data": {
      "text/html": [
       "<div>\n",
       "<style scoped>\n",
       "    .dataframe tbody tr th:only-of-type {\n",
       "        vertical-align: middle;\n",
       "    }\n",
       "\n",
       "    .dataframe tbody tr th {\n",
       "        vertical-align: top;\n",
       "    }\n",
       "\n",
       "    .dataframe thead th {\n",
       "        text-align: right;\n",
       "    }\n",
       "</style>\n",
       "<table border=\"1\" class=\"dataframe\">\n",
       "  <thead>\n",
       "    <tr style=\"text-align: right;\">\n",
       "      <th></th>\n",
       "      <th>id</th>\n",
       "      <th>label</th>\n",
       "      <th>label_enc</th>\n",
       "      <th>fold</th>\n",
       "    </tr>\n",
       "  </thead>\n",
       "  <tbody>\n",
       "    <tr>\n",
       "      <th>0</th>\n",
       "      <td>1</td>\n",
       "      <td>frog</td>\n",
       "      <td>6</td>\n",
       "      <td>1</td>\n",
       "    </tr>\n",
       "    <tr>\n",
       "      <th>1</th>\n",
       "      <td>2</td>\n",
       "      <td>truck</td>\n",
       "      <td>9</td>\n",
       "      <td>1</td>\n",
       "    </tr>\n",
       "    <tr>\n",
       "      <th>2</th>\n",
       "      <td>3</td>\n",
       "      <td>truck</td>\n",
       "      <td>9</td>\n",
       "      <td>2</td>\n",
       "    </tr>\n",
       "    <tr>\n",
       "      <th>3</th>\n",
       "      <td>4</td>\n",
       "      <td>deer</td>\n",
       "      <td>4</td>\n",
       "      <td>1</td>\n",
       "    </tr>\n",
       "    <tr>\n",
       "      <th>4</th>\n",
       "      <td>5</td>\n",
       "      <td>automobile</td>\n",
       "      <td>1</td>\n",
       "      <td>2</td>\n",
       "    </tr>\n",
       "  </tbody>\n",
       "</table>\n",
       "</div>"
      ],
      "text/plain": [
       "   id       label  label_enc  fold\n",
       "0   1        frog          6     1\n",
       "1   2       truck          9     1\n",
       "2   3       truck          9     2\n",
       "3   4        deer          4     1\n",
       "4   5  automobile          1     2"
      ]
     },
     "execution_count": 3,
     "metadata": {},
     "output_type": "execute_result"
    }
   ],
   "source": [
    "# prepare labels\n",
    "train_df = pd.read_csv(\"trainLabels.csv\")\n",
    "from sklearn.preprocessing import LabelEncoder\n",
    "le = LabelEncoder()\n",
    "train_df['label_enc'] = le.fit_transform(train_df['label'])\n",
    "\n",
    "# 5-fold\n",
    "from sklearn.model_selection import StratifiedKFold\n",
    "skf = StratifiedKFold(n_splits=5, shuffle=True, random_state=42)\n",
    "\n",
    "train_df[\"fold\"] = -1\n",
    "for i, (train_index, test_index) in enumerate(skf.split(train_df.id, train_df.label_enc)):\n",
    "    train_df.loc[test_index, 'fold'] = i\n",
    "train_df.head()"
   ]
  },
  {
   "cell_type": "code",
   "execution_count": 4,
   "id": "44be87f4",
   "metadata": {},
   "outputs": [],
   "source": [
    "class cifarDataset(Dataset):\n",
    "    def __init__(self,\n",
    "                 df,\n",
    "                 rand=False,\n",
    "                 transform=None,\n",
    "                 test=False\n",
    "                ):\n",
    "\n",
    "        self.df = df.reset_index(drop=True)\n",
    "        self.rand = rand\n",
    "        self.transform = transform\n",
    "        self.test = test\n",
    "\n",
    "    def __len__(self):\n",
    "        return self.df.shape[0]\n",
    "\n",
    "    def __getitem__(self, index):\n",
    "        row = self.df.iloc[index]\n",
    "        img_id = row.id\n",
    "        \n",
    "        images = cv2.imread(os.path.join(DATA_DIR, str(img_id)+\".png\"))\n",
    "        \n",
    "        # Load labels\n",
    "        label = row.label_enc\n",
    "        \n",
    "        # aug\n",
    "        if self.transform is not None:\n",
    "            images = self.transform(image=images)['image']\n",
    "              \n",
    "        #images = images.astype(np.float32)\n",
    "        #images /= 255\n",
    "        images = images.transpose(2, 0, 1)\n",
    "        \n",
    "        label = label.astype(np.float32)\n",
    "        #label2 = label2.astype(np.float32)\n",
    "        return torch.tensor(images), torch.tensor(label),"
   ]
  },
  {
   "cell_type": "code",
   "execution_count": 5,
   "id": "cd5517a6",
   "metadata": {},
   "outputs": [
    {
     "name": "stderr",
     "output_type": "stream",
     "text": [
      "/home/ken/anaconda3/envs/pytorch_p37/lib/python3.7/site-packages/albumentations/augmentations/transforms.py:690: FutureWarning: This class has been deprecated. Please use CoarseDropout\n",
      "  FutureWarning,\n"
     ]
    }
   ],
   "source": [
    "import albumentations as A\n",
    "import albumentations\n",
    "\n",
    "transforms_train = albumentations.Compose([\n",
    "    albumentations.ShiftScaleRotate(scale_limit=0.3, rotate_limit=180,p=0.5),\n",
    "    A.Cutout(num_holes=12, max_h_size=4, max_w_size=4, fill_value=0, p=0.5),\n",
    "    albumentations.Rotate(p=0.5),\n",
    "    albumentations.Transpose(p=0.5),\n",
    "    albumentations.VerticalFlip(p=0.5),\n",
    "    albumentations.HorizontalFlip(p=0.5),   \n",
    "    albumentations.Resize(imsize, imsize, p=1.0), \n",
    "    albumentations.Normalize(mean=(0.485, 0.456, 0.406),\n",
    "                       std=(0.229, 0.224, 0.225), p=1),\n",
    "])\n",
    "\n",
    "transforms_val = albumentations.Compose([albumentations.Resize(imsize, imsize, p=1.0),\n",
    "                                         albumentations.Normalize(mean=(0.485, 0.456, 0.406),\n",
    "                       std=(0.229, 0.224, 0.225), p=1),])"
   ]
  },
  {
   "cell_type": "code",
   "execution_count": 6,
   "id": "e3726718",
   "metadata": {
    "scrolled": true
   },
   "outputs": [
    {
     "name": "stderr",
     "output_type": "stream",
     "text": [
      "Clipping input data to the valid range for imshow with RGB data ([0..1] for floats or [0..255] for integers).\n",
      "Clipping input data to the valid range for imshow with RGB data ([0..1] for floats or [0..255] for integers).\n",
      "Clipping input data to the valid range for imshow with RGB data ([0..1] for floats or [0..255] for integers).\n",
      "Clipping input data to the valid range for imshow with RGB data ([0..1] for floats or [0..255] for integers).\n",
      "Clipping input data to the valid range for imshow with RGB data ([0..1] for floats or [0..255] for integers).\n",
      "Clipping input data to the valid range for imshow with RGB data ([0..1] for floats or [0..255] for integers).\n",
      "Clipping input data to the valid range for imshow with RGB data ([0..1] for floats or [0..255] for integers).\n",
      "Clipping input data to the valid range for imshow with RGB data ([0..1] for floats or [0..255] for integers).\n",
      "Clipping input data to the valid range for imshow with RGB data ([0..1] for floats or [0..255] for integers).\n",
      "Clipping input data to the valid range for imshow with RGB data ([0..1] for floats or [0..255] for integers).\n",
      "Clipping input data to the valid range for imshow with RGB data ([0..1] for floats or [0..255] for integers).\n",
      "Clipping input data to the valid range for imshow with RGB data ([0..1] for floats or [0..255] for integers).\n",
      "Clipping input data to the valid range for imshow with RGB data ([0..1] for floats or [0..255] for integers).\n",
      "Clipping input data to the valid range for imshow with RGB data ([0..1] for floats or [0..255] for integers).\n",
      "Clipping input data to the valid range for imshow with RGB data ([0..1] for floats or [0..255] for integers).\n"
     ]
    },
    {
     "data": {
      "image/png": "[encoded data removed]",
      "text/plain": [
       "<Figure size 1440x720 with 5 Axes>"
      ]
     },
     "metadata": {
      "needs_background": "light"
     },
     "output_type": "display_data"
    },
    {
     "data": {
      "image/png": "[encoded data removed]",
      "text/plain": [
       "<Figure size 1440x720 with 5 Axes>"
      ]
     },
     "metadata": {
      "needs_background": "light"
     },
     "output_type": "display_data"
    },
    {
     "data": {
      "image/png": "[encoded data removed]",
      "text/plain": [
       "<Figure size 1440x720 with 5 Axes>"
      ]
     },
     "metadata": {
      "needs_background": "light"
     },
     "output_type": "display_data"
    }
   ],
   "source": [
    "dataset_show = cifarDataset(train_df, transform=transforms_train)\n",
    "from pylab import rcParams\n",
    "rcParams['figure.figsize'] = 20,10\n",
    "for i in range(3):\n",
    "    f, axarr = plt.subplots(1,5)\n",
    "    for p in range(5):\n",
    "        idx = np.random.randint(0, len(dataset_show))\n",
    "        img, label = dataset_show[idx]\n",
    "        img = img.flip(0) #BGR2RGB\n",
    "        axarr[p].imshow(img.transpose(0,1).transpose(1,2))\n",
    "        axarr[p].set_title(str(label))\n",
    "plt.show()"
   ]
  },
  {
   "cell_type": "code",
   "execution_count": 7,
   "id": "be374443",
   "metadata": {},
   "outputs": [],
   "source": [
    "def train(train_loader, model, criterion, optimizer, epoch):\n",
    "    \"\"\"\n",
    "        Run one train epoch\n",
    "    \"\"\"\n",
    "    batch_time = AverageMeter()\n",
    "    data_time = AverageMeter()\n",
    "    losses = AverageMeter()\n",
    "    top1 = AverageMeter()\n",
    "\n",
    "    # switch to train mode\n",
    "    model.train()\n",
    "\n",
    "    end = time.time()\n",
    "    lambda_alpha = 0.002\n",
    "    for i, (input, target) in enumerate(tqdm(train_loader)):\n",
    "\n",
    "        # measure data loading time\n",
    "        data_time.update(time.time() - end)\n",
    "        target2 = target\n",
    "\n",
    "        target = target.long().cuda()\n",
    "        target2 = target2.long().cuda()\n",
    "        input_var = input.cuda()\n",
    "        target_var = target\n",
    "\n",
    "        if not mixup:\n",
    "          alpha = 0\n",
    "        else:\n",
    "          alpha = 1\n",
    "        \n",
    "\n",
    "        # compute output\n",
    "        output = model(input_var)\n",
    "        loss = criterion(output, target_var)\n",
    "\n",
    "        # L2 regularization\n",
    "        l2_alpha = 0.0\n",
    "        for name, param in model.named_parameters():\n",
    "            if \"alpha\" in name:\n",
    "                l2_alpha += torch.pow(param, 2)\n",
    "        loss += lambda_alpha * l2_alpha\n",
    "\n",
    "        # compute gradient and do SGD step\n",
    "        optimizer.zero_grad()\n",
    "        loss.backward()\n",
    "        optimizer.step()\n",
    "\n",
    "        output = output.float()\n",
    "        loss = loss.float()\n",
    "        # measure accuracy and record loss\n",
    "        prec1 = accuracy(output.data, target)[0]\n",
    "        losses.update(loss.item(), input.size(0))\n",
    "        top1.update(prec1.item(), input.size(0))\n",
    "\n",
    "        # measure elapsed time\n",
    "        batch_time.update(time.time() - end)\n",
    "        end = time.time()\n",
    "\n",
    "        if i % print_freq == 0:\n",
    "            print('Epoch: [{0}][{1}/{2}]\\t'\n",
    "                  'Time {batch_time.val:.3f} ({batch_time.avg:.3f})\\t'\n",
    "                  'Data {data_time.val:.3f} ({data_time.avg:.3f})\\t'\n",
    "                  'Loss {loss.val:.4f} ({loss.avg:.4f})\\t'\n",
    "                  'Prec@1 {top1.val:.3f} ({top1.avg:.3f})'.format(\n",
    "                      epoch, i, len(train_loader), batch_time=batch_time,\n",
    "                      data_time=data_time, loss=losses, top1=top1))\n",
    "    return losses.avg\n",
    "\n",
    "def validate(val_loader, model, criterion):\n",
    "    \"\"\"\n",
    "    Run evaluation\n",
    "    \"\"\"\n",
    "    batch_time = AverageMeter()\n",
    "    losses = AverageMeter()\n",
    "    top1 = AverageMeter()\n",
    "\n",
    "    # switch to evaluate mode\n",
    "    model.eval()\n",
    "\n",
    "    end = time.time()\n",
    "    with torch.no_grad():\n",
    "        for i, (input, target) in enumerate(val_loader):\n",
    "            target = target.long().cuda()\n",
    "            input_var = input.cuda()\n",
    "            target_var = target.cuda()\n",
    "\n",
    "            # compute output\n",
    "            output = model(input_var)\n",
    "            loss = criterion(output, target_var)\n",
    "\n",
    "            output = output.float()\n",
    "            loss = loss.float()\n",
    "\n",
    "            # measure accuracy and record loss\n",
    "            prec1 = accuracy(output.data, target)[0]\n",
    "            losses.update(loss.item(), input.size(0))\n",
    "            top1.update(prec1.item(), input.size(0))\n",
    "\n",
    "            # measure elapsed time\n",
    "            batch_time.update(time.time() - end)\n",
    "            end = time.time()\n",
    "\n",
    "            if i % print_freq == 0:\n",
    "                print('Test: [{0}/{1}]\\t'\n",
    "                      'Time {batch_time.val:.3f} ({batch_time.avg:.3f})\\t'\n",
    "                      'Loss {loss.val:.4f} ({loss.avg:.4f})\\t'\n",
    "                      'Prec@1 {top1.val:.3f} ({top1.avg:.3f})'.format(\n",
    "                          i, len(val_loader), batch_time=batch_time, loss=losses,\n",
    "                          top1=top1))\n",
    "\n",
    "    print(' * Prec@1 {top1.avg:.3f}'\n",
    "          .format(top1=top1))\n",
    "    for name, param in model.named_parameters():\n",
    "        if \"alpha\" in name:\n",
    "            print(name, param.item())\n",
    "    return top1.avg, losses.avg\n",
    "\n",
    "def save_checkpoint(state, filename='checkpoint.pth'):\n",
    "    \"\"\"\n",
    "    Save the training model\n",
    "    \"\"\"\n",
    "    torch.save(state, filename)\n",
    "\n",
    "class AverageMeter(object):\n",
    "    \"\"\"Computes and stores the average and current value\"\"\"\n",
    "    def __init__(self):\n",
    "        self.reset()\n",
    "\n",
    "    def reset(self):\n",
    "        self.val = 0\n",
    "        self.avg = 0\n",
    "        self.sum = 0\n",
    "        self.count = 0\n",
    "\n",
    "    def update(self, val, n=1):\n",
    "        self.val = val\n",
    "        self.sum += val * n\n",
    "        self.count += n\n",
    "        self.avg = self.sum / self.count\n",
    "\n",
    "\n",
    "def accuracy(output, target, topk=(1,)):\n",
    "    \"\"\"Computes the precision@k for the specified values of k\"\"\"\n",
    "    maxk = max(topk)\n",
    "    batch_size = target.size(0)\n",
    "\n",
    "    _, pred = output.topk(maxk, 1, True, True)\n",
    "    pred = pred.t()\n",
    "    correct = pred.eq(target.view(1, -1).expand_as(pred))\n",
    "\n",
    "    res = []\n",
    "    for k in topk:\n",
    "        correct_k = correct[:k].view(-1).float().sum(0)\n",
    "        res.append(correct_k.mul_(100.0 / batch_size))\n",
    "    return res"
   ]
  },
  {
   "cell_type": "code",
   "execution_count": 8,
   "id": "6f005fd3",
   "metadata": {},
   "outputs": [],
   "source": [
    "train_dataset = cifarDataset(train_df[train_df.fold!=0], transform=transforms_train)\n",
    "val_dataset = cifarDataset(train_df[train_df.fold==0], transform=transforms_val, test=True)\n",
    "\n",
    "train_loader = torch.utils.data.DataLoader(\n",
    "        train_dataset,\n",
    "        batch_size=batches, shuffle=True,\n",
    "        num_workers=8, pin_memory=True)\n",
    "\n",
    "val_loader = torch.utils.data.DataLoader(\n",
    "    val_dataset,\n",
    "    batch_size=batches, shuffle=False,\n",
    "    num_workers=8, pin_memory=True)"
   ]
  },
  {
   "cell_type": "code",
   "execution_count": 9,
   "id": "a4256dce",
   "metadata": {},
   "outputs": [],
   "source": [
    "import torch\n",
    "import torch.nn as nn\n",
    "import torch.nn.functional as F\n",
    "import torch.nn.init as init\n",
    "from torch.autograd import Variable\n",
    "from pact_utils import QuantizedLinear, QuantizedConv2d\n",
    "\n",
    "\n",
    "def _weights_init(m):\n",
    "    classname = m.__class__.__name__\n",
    "    #print(classname)\n",
    "    if isinstance(m, nn.Linear) or isinstance(m, nn.Conv2d):\n",
    "        init.kaiming_normal_(m.weight)\n",
    "\n",
    "class LambdaLayer(nn.Module):\n",
    "    def __init__(self, lambd):\n",
    "        super(LambdaLayer, self).__init__()\n",
    "        self.lambd = lambd\n",
    "\n",
    "    def forward(self, x):\n",
    "        return self.lambd(x)\n",
    "\n",
    "\n",
    "class BasicBlock(nn.Module):\n",
    "    expansion = 1\n",
    "\n",
    "    def __init__(self, in_planes, planes, stride=1, k=8, expansion=1):\n",
    "        super(BasicBlock, self).__init__()\n",
    "        self.k = k\n",
    "        self.expansion = expansion\n",
    "        self.conv1 = QuantizedConv2d(in_planes, planes, kernel_size=3, stride=stride, padding=1, bias=False, wbits=k, abits=k)\n",
    "        self.bn1 = nn.BatchNorm2d(planes)\n",
    "        # self.conv2 = nn.Conv2d(planes, planes, kernel_size=3, stride=1, padding=1, bias=False)\n",
    "        self.conv2 = QuantizedConv2d(planes, planes, kernel_size=3, stride=1, padding=1, bias=False, wbits=k, abits=k)\n",
    "        self.bn2 = nn.BatchNorm2d(planes)\n",
    "        \n",
    "        if stride != 1 or in_planes != planes:\n",
    "              # original resnet shortcut\n",
    "              self.shortcut = nn.Sequential(\n",
    "                    # nn.Conv2d(in_planes, self.expansion * planes, kernel_size=1, stride=stride, bias=False),\n",
    "                    QuantizedConv2d(in_planes, self.expansion * planes, kernel_size=1, stride=stride, bias=False, wbits=k, abits=k),\n",
    "                    nn.BatchNorm2d(self.expansion * planes)\n",
    "              )\n",
    "        else: # nothing done if stride or inplanes do not differ\n",
    "          self.shortcut = nn.Sequential()\n",
    "\n",
    "    def forward(self, x):\n",
    "        # Relu is implemented as the input of conv2d\n",
    "        out = self.bn1(self.conv1(x))\n",
    "        out = self.bn2(self.conv2(out))\n",
    "        out += self.shortcut(x)\n",
    "        out = F.relu(out)\n",
    "        return out\n",
    "\n",
    "\n",
    "class ResNet(nn.Module):\n",
    "    def __init__(self, block, num_blocks, num_classes=10, K=8):\n",
    "        super(ResNet, self).__init__()\n",
    "        self.in_planes = 16\n",
    "        self.k = K\n",
    "\n",
    "        self.conv1 = QuantizedConv2d(3, 16, kernel_size=3, stride=1, padding=1, bias=False, abits=8, wbits=8)\n",
    "        self.bn1 = nn.BatchNorm2d(16)\n",
    "        self.alpha1 = nn.Parameter(torch.tensor(10.))\n",
    "        self.layer1 = self._make_layer(block, 16, num_blocks[0], stride=1, expansion=1)\n",
    "        self.layer2 = self._make_layer(block, 32, num_blocks[1], stride=2, expansion=1)\n",
    "        self.layer3 = self._make_layer(block, 64, num_blocks[2], stride=2, expansion=1)\n",
    "\n",
    "        # self.linear = nn.Linear(64, num_classes)\n",
    "        self.linear = QuantizedLinear(64, num_classes, abits=8, wbits=8)\n",
    "        self.apply(_weights_init)\n",
    "\n",
    "    def _make_layer(self, block, planes, num_blocks, stride, expansion):\n",
    "        strides = [stride] + [1]*(num_blocks-1)\n",
    "        layers = []\n",
    "        for stride in strides:\n",
    "            layers.append(block(self.in_planes, planes, stride, self.k, expansion))\n",
    "            self.in_planes = planes * block.expansion\n",
    "\n",
    "        return nn.Sequential(*layers)\n",
    "\n",
    "    def forward(self, x):\n",
    "        # out = F.relu(self.bn1(self.conv1(x)))\n",
    "        out = self.bn1(self.conv1(x))\n",
    "        out = self.layer1(out)\n",
    "        out = self.layer2(out)\n",
    "        out = self.layer3(out)\n",
    "        out = F.avg_pool2d(out, out.size()[3])\n",
    "        out = out.view(out.size(0), -1)\n",
    "        out = self.linear(out)\n",
    "        return out\n",
    "\n",
    "\n",
    "def resnet20(k=8):\n",
    "    print(\"bit width:\", k)\n",
    "    return ResNet(BasicBlock, [3, 3, 3], K=k)"
   ]
  },
  {
   "cell_type": "code",
   "execution_count": 10,
   "id": "7b8734e1",
   "metadata": {},
   "outputs": [
    {
     "name": "stdout",
     "output_type": "stream",
     "text": [
      "bit width: 8\n"
     ]
    }
   ],
   "source": [
    "net = resnet20(8)"
   ]
  },
  {
   "cell_type": "markdown",
   "id": "c3f38958",
   "metadata": {},
   "source": [
    "# Train with quantization"
   ]
  },
  {
   "cell_type": "code",
   "execution_count": null,
   "id": "bf661401",
   "metadata": {
    "scrolled": true
   },
   "outputs": [
    {
     "name": "stdout",
     "output_type": "stream",
     "text": [
      "bit width: 4\n"
     ]
    },
    {
     "name": "stderr",
     "output_type": "stream",
     "text": [
      "\u001b[34m\u001b[1mwandb\u001b[0m: Currently logged in as: \u001b[33marutema47\u001b[0m. Use \u001b[1m`wandb login --relogin`\u001b[0m to force relogin\n"
     ]
    },
    {
     "data": {
      "text/html": [
       "Tracking run with wandb version 0.12.18"
      ],
      "text/plain": [
       "<IPython.core.display.HTML object>"
      ]
     },
     "metadata": {},
     "output_type": "display_data"
    },
    {
     "data": {
      "text/html": [
       "Run data is saved locally in <code>/media/ken/dsk1/data/quantize_models_sandbox/wandb/run-20220620_112345-gtnf1vu9</code>"
      ],
      "text/plain": [
       "<IPython.core.display.HTML object>"
      ]
     },
     "metadata": {},
     "output_type": "display_data"
    },
    {
     "data": {
      "text/html": [
       "Syncing run <strong><a href=\"https://wandb.ai/arutema47/quantize_resnet/runs/gtnf1vu9\" target=\"_blank\">resnet20_uniformquantize_k4</a></strong> to <a href=\"https://wandb.ai/arutema47/quantize_resnet\" target=\"_blank\">Weights & Biases</a> (<a href=\"https://wandb.me/run\" target=\"_blank\">docs</a>)<br/>"
      ],
      "text/plain": [
       "<IPython.core.display.HTML object>"
      ]
     },
     "metadata": {},
     "output_type": "display_data"
    },
    {
     "name": "stdout",
     "output_type": "stream",
     "text": [
      "current lr 1.00000e-06\n"
     ]
    },
    {
     "data": {
      "application/vnd.jupyter.widget-view+json": {
       "model_id": "144380e5665b49f5a77f5d4c1e60b2fe",
       "version_major": 2,
       "version_minor": 0
      },
      "text/plain": [
       "  0%|          | 0/40 [00:00<?, ?it/s]"
      ]
     },
     "metadata": {},
     "output_type": "display_data"
    },
    {
     "name": "stdout",
     "output_type": "stream",
     "text": [
      "Epoch: [0][0/40]\tTime 2.256 (2.256)\tData 1.425 (1.425)\tLoss 3.2315 (3.2315)\tPrec@1 9.766 (9.766)\n",
      "Test: [0/10]\tTime 0.768 (0.768)\tLoss 2.9549 (2.9549)\tPrec@1 9.180 (9.180)\n",
      " * Prec@1 9.670\n",
      "alpha1 9.999961853027344\n",
      "Best prec1 :  9.670000030517578\n",
      "current lr 3.34000e-04\n"
     ]
    },
    {
     "data": {
      "application/vnd.jupyter.widget-view+json": {
       "model_id": "dd15de9e01154485b29a491a1113a766",
       "version_major": 2,
       "version_minor": 0
      },
      "text/plain": [
       "  0%|          | 0/40 [00:00<?, ?it/s]"
      ]
     },
     "metadata": {},
     "output_type": "display_data"
    },
    {
     "name": "stdout",
     "output_type": "stream",
     "text": [
      "Epoch: [1][0/40]\tTime 1.191 (1.191)\tData 1.062 (1.062)\tLoss 3.2467 (3.2467)\tPrec@1 9.277 (9.277)\n",
      "Test: [0/10]\tTime 0.731 (0.731)\tLoss 2.0122 (2.0122)\tPrec@1 25.000 (25.000)\n",
      " * Prec@1 23.910\n",
      "alpha1 9.986610412597656\n",
      "Best prec1 :  23.910000012207032\n",
      "current lr 6.67000e-04\n"
     ]
    },
    {
     "data": {
      "application/vnd.jupyter.widget-view+json": {
       "model_id": "be1c4dd907064f41a72d345a0a2b5581",
       "version_major": 2,
       "version_minor": 0
      },
      "text/plain": [
       "  0%|          | 0/40 [00:00<?, ?it/s]"
      ]
     },
     "metadata": {},
     "output_type": "display_data"
    },
    {
     "name": "stdout",
     "output_type": "stream",
     "text": [
      "Epoch: [2][0/40]\tTime 2.129 (2.129)\tData 1.995 (1.995)\tLoss 2.1922 (2.1922)\tPrec@1 26.074 (26.074)\n",
      "Test: [0/10]\tTime 0.778 (0.778)\tLoss 1.8948 (1.8948)\tPrec@1 31.152 (31.152)\n",
      " * Prec@1 29.130\n",
      "alpha1 9.959967613220215\n",
      "Best prec1 :  29.129999978637695\n",
      "current lr 1.00000e-03\n"
     ]
    },
    {
     "data": {
      "application/vnd.jupyter.widget-view+json": {
       "model_id": "3137f151b7e04c58bd311d33d530f7b0",
       "version_major": 2,
       "version_minor": 0
      },
      "text/plain": [
       "  0%|          | 0/40 [00:00<?, ?it/s]"
      ]
     },
     "metadata": {},
     "output_type": "display_data"
    },
    {
     "name": "stdout",
     "output_type": "stream",
     "text": [
      "Epoch: [3][0/40]\tTime 1.455 (1.455)\tData 1.175 (1.175)\tLoss 2.1429 (2.1429)\tPrec@1 28.418 (28.418)\n",
      "Test: [0/10]\tTime 0.694 (0.694)\tLoss 1.8831 (1.8831)\tPrec@1 29.102 (29.102)\n",
      " * Prec@1 30.540\n",
      "alpha1 9.920103073120117\n",
      "Best prec1 :  30.54000004272461\n",
      "current lr 9.99938e-04\n"
     ]
    },
    {
     "data": {
      "application/vnd.jupyter.widget-view+json": {
       "model_id": "887e4717be76452ca6a4e2df6da3f45d",
       "version_major": 2,
       "version_minor": 0
      },
      "text/plain": [
       "  0%|          | 0/40 [00:00<?, ?it/s]"
      ]
     },
     "metadata": {},
     "output_type": "display_data"
    },
    {
     "name": "stdout",
     "output_type": "stream",
     "text": [
      "Epoch: [4][0/40]\tTime 1.523 (1.523)\tData 1.357 (1.357)\tLoss 2.0441 (2.0441)\tPrec@1 31.543 (31.543)\n",
      "Test: [0/10]\tTime 0.811 (0.811)\tLoss 1.8799 (1.8799)\tPrec@1 29.492 (29.492)\n",
      " * Prec@1 32.240\n",
      "alpha1 9.880339622497559\n",
      "Best prec1 :  32.239999835205076\n",
      "current lr 9.99754e-04\n"
     ]
    },
    {
     "data": {
      "application/vnd.jupyter.widget-view+json": {
       "model_id": "5ba43b53fcd54471b5264c117083615e",
       "version_major": 2,
       "version_minor": 0
      },
      "text/plain": [
       "  0%|          | 0/40 [00:00<?, ?it/s]"
      ]
     },
     "metadata": {},
     "output_type": "display_data"
    },
    {
     "name": "stdout",
     "output_type": "stream",
     "text": [
      "Epoch: [5][0/40]\tTime 1.536 (1.536)\tData 1.357 (1.357)\tLoss 1.9983 (1.9983)\tPrec@1 34.375 (34.375)\n",
      "Test: [0/10]\tTime 0.732 (0.732)\tLoss 1.7204 (1.7204)\tPrec@1 36.621 (36.621)\n",
      " * Prec@1 35.990\n",
      "alpha1 9.840672492980957\n",
      "Best prec1 :  35.99000012207031\n",
      "current lr 9.99445e-04\n"
     ]
    },
    {
     "data": {
      "application/vnd.jupyter.widget-view+json": {
       "model_id": "cb0e8371f6184332b4710aa4390ff79b",
       "version_major": 2,
       "version_minor": 0
      },
      "text/plain": [
       "  0%|          | 0/40 [00:00<?, ?it/s]"
      ]
     },
     "metadata": {},
     "output_type": "display_data"
    },
    {
     "name": "stdout",
     "output_type": "stream",
     "text": [
      "Epoch: [6][0/40]\tTime 1.295 (1.295)\tData 1.119 (1.119)\tLoss 1.9158 (1.9158)\tPrec@1 38.672 (38.672)\n",
      "Test: [0/10]\tTime 0.775 (0.775)\tLoss 1.6823 (1.6823)\tPrec@1 38.281 (38.281)\n",
      " * Prec@1 38.980\n",
      "alpha1 9.801104545593262\n",
      "Best prec1 :  38.98000009155273\n",
      "current lr 9.99014e-04\n"
     ]
    },
    {
     "data": {
      "application/vnd.jupyter.widget-view+json": {
       "model_id": "45bab79e5e4547498843fe68b88a75f5",
       "version_major": 2,
       "version_minor": 0
      },
      "text/plain": [
       "  0%|          | 0/40 [00:00<?, ?it/s]"
      ]
     },
     "metadata": {},
     "output_type": "display_data"
    },
    {
     "name": "stdout",
     "output_type": "stream",
     "text": [
      "Epoch: [7][0/40]\tTime 1.580 (1.580)\tData 1.420 (1.420)\tLoss 1.8816 (1.8816)\tPrec@1 40.625 (40.625)\n",
      "Test: [0/10]\tTime 0.736 (0.736)\tLoss 1.6622 (1.6622)\tPrec@1 39.941 (39.941)\n",
      " * Prec@1 40.350\n",
      "alpha1 9.761632919311523\n",
      "Best prec1 :  40.349999969482425\n",
      "current lr 9.98460e-04\n"
     ]
    },
    {
     "data": {
      "application/vnd.jupyter.widget-view+json": {
       "model_id": "5748b1080d4244749a987d9ec0d59386",
       "version_major": 2,
       "version_minor": 0
      },
      "text/plain": [
       "  0%|          | 0/40 [00:00<?, ?it/s]"
      ]
     },
     "metadata": {},
     "output_type": "display_data"
    },
    {
     "name": "stdout",
     "output_type": "stream",
     "text": [
      "Epoch: [8][0/40]\tTime 1.569 (1.569)\tData 1.421 (1.421)\tLoss 1.8228 (1.8228)\tPrec@1 39.551 (39.551)\n",
      "Test: [0/10]\tTime 0.752 (0.752)\tLoss 1.5830 (1.5830)\tPrec@1 42.090 (42.090)\n",
      " * Prec@1 41.910\n",
      "alpha1 9.722261428833008\n",
      "Best prec1 :  41.90999990234375\n",
      "current lr 9.97783e-04\n"
     ]
    },
    {
     "data": {
      "application/vnd.jupyter.widget-view+json": {
       "model_id": "fd8b155d9af440e5b45129226f20f4d6",
       "version_major": 2,
       "version_minor": 0
      },
      "text/plain": [
       "  0%|          | 0/40 [00:00<?, ?it/s]"
      ]
     },
     "metadata": {},
     "output_type": "display_data"
    },
    {
     "name": "stdout",
     "output_type": "stream",
     "text": [
      "Epoch: [9][0/40]\tTime 1.695 (1.695)\tData 1.507 (1.507)\tLoss 1.8504 (1.8504)\tPrec@1 39.941 (39.941)\n",
      "Test: [0/10]\tTime 0.745 (0.745)\tLoss 1.5322 (1.5322)\tPrec@1 44.922 (44.922)\n",
      " * Prec@1 44.040\n",
      "alpha1 9.682992935180664\n",
      "Best prec1 :  44.04000005493164\n",
      "current lr 9.96983e-04\n"
     ]
    },
    {
     "data": {
      "application/vnd.jupyter.widget-view+json": {
       "model_id": "ba6eb26f5f1c457195903afbf7f301ac",
       "version_major": 2,
       "version_minor": 0
      },
      "text/plain": [
       "  0%|          | 0/40 [00:00<?, ?it/s]"
      ]
     },
     "metadata": {},
     "output_type": "display_data"
    },
    {
     "name": "stdout",
     "output_type": "stream",
     "text": [
      "Epoch: [10][0/40]\tTime 1.343 (1.343)\tData 1.182 (1.182)\tLoss 1.7662 (1.7662)\tPrec@1 42.480 (42.480)\n",
      "Test: [0/10]\tTime 0.690 (0.690)\tLoss 1.5484 (1.5484)\tPrec@1 41.504 (41.504)\n",
      " * Prec@1 43.510\n",
      "alpha1 9.643830299377441\n",
      "Best prec1 :  44.04000005493164\n",
      "current lr 9.96061e-04\n"
     ]
    },
    {
     "data": {
      "application/vnd.jupyter.widget-view+json": {
       "model_id": "c64a810fa8e3484cbb46f57c05dace04",
       "version_major": 2,
       "version_minor": 0
      },
      "text/plain": [
       "  0%|          | 0/40 [00:00<?, ?it/s]"
      ]
     },
     "metadata": {},
     "output_type": "display_data"
    },
    {
     "name": "stdout",
     "output_type": "stream",
     "text": [
      "Epoch: [11][0/40]\tTime 1.283 (1.283)\tData 1.113 (1.113)\tLoss 1.7432 (1.7432)\tPrec@1 42.578 (42.578)\n",
      "Test: [0/10]\tTime 0.803 (0.803)\tLoss 1.5017 (1.5017)\tPrec@1 44.629 (44.629)\n",
      " * Prec@1 45.330\n",
      "alpha1 9.604776382446289\n",
      "Best prec1 :  45.32999989013672\n",
      "current lr 9.95017e-04\n"
     ]
    },
    {
     "data": {
      "application/vnd.jupyter.widget-view+json": {
       "model_id": "42742ec22e6c435f8a7a953805d3e364",
       "version_major": 2,
       "version_minor": 0
      },
      "text/plain": [
       "  0%|          | 0/40 [00:00<?, ?it/s]"
      ]
     },
     "metadata": {},
     "output_type": "display_data"
    },
    {
     "name": "stdout",
     "output_type": "stream",
     "text": [
      "Epoch: [12][0/40]\tTime 1.534 (1.534)\tData 1.353 (1.353)\tLoss 1.7461 (1.7461)\tPrec@1 42.969 (42.969)\n",
      "Test: [0/10]\tTime 0.928 (0.928)\tLoss 1.5630 (1.5630)\tPrec@1 43.457 (43.457)\n",
      " * Prec@1 43.510\n",
      "alpha1 9.565834045410156\n",
      "Best prec1 :  45.32999989013672\n",
      "current lr 9.93850e-04\n"
     ]
    },
    {
     "data": {
      "application/vnd.jupyter.widget-view+json": {
       "model_id": "7032f12884db43a48a40604e60c97c83",
       "version_major": 2,
       "version_minor": 0
      },
      "text/plain": [
       "  0%|          | 0/40 [00:00<?, ?it/s]"
      ]
     },
     "metadata": {},
     "output_type": "display_data"
    },
    {
     "name": "stdout",
     "output_type": "stream",
     "text": [
      "Epoch: [13][0/40]\tTime 1.910 (1.910)\tData 1.631 (1.631)\tLoss 1.6598 (1.6598)\tPrec@1 46.582 (46.582)\n",
      "Test: [0/10]\tTime 0.653 (0.653)\tLoss 1.4621 (1.4621)\tPrec@1 47.070 (47.070)\n",
      " * Prec@1 45.510\n",
      "alpha1 9.527007102966309\n",
      "Best prec1 :  45.50999995117188\n",
      "current lr 9.92562e-04\n"
     ]
    },
    {
     "data": {
      "application/vnd.jupyter.widget-view+json": {
       "model_id": "46c1f1f528724f20bb71abcb950435c5",
       "version_major": 2,
       "version_minor": 0
      },
      "text/plain": [
       "  0%|          | 0/40 [00:00<?, ?it/s]"
      ]
     },
     "metadata": {},
     "output_type": "display_data"
    },
    {
     "name": "stdout",
     "output_type": "stream",
     "text": [
      "Epoch: [14][0/40]\tTime 1.307 (1.307)\tData 1.087 (1.087)\tLoss 1.7320 (1.7320)\tPrec@1 45.410 (45.410)\n",
      "Test: [0/10]\tTime 0.819 (0.819)\tLoss 1.4597 (1.4597)\tPrec@1 47.266 (47.266)\n",
      " * Prec@1 45.970\n",
      "alpha1 9.488299369812012\n",
      "Best prec1 :  45.97000000610352\n",
      "current lr 9.91152e-04\n"
     ]
    },
    {
     "data": {
      "application/vnd.jupyter.widget-view+json": {
       "model_id": "8ba0d9d8ad0d4d3cbeb1320a501a1c5c",
       "version_major": 2,
       "version_minor": 0
      },
      "text/plain": [
       "  0%|          | 0/40 [00:00<?, ?it/s]"
      ]
     },
     "metadata": {},
     "output_type": "display_data"
    },
    {
     "name": "stdout",
     "output_type": "stream",
     "text": [
      "Epoch: [15][0/40]\tTime 1.732 (1.732)\tData 1.480 (1.480)\tLoss 1.6329 (1.6329)\tPrec@1 48.828 (48.828)\n",
      "Test: [0/10]\tTime 0.744 (0.744)\tLoss 1.4130 (1.4130)\tPrec@1 48.535 (48.535)\n",
      " * Prec@1 48.520\n",
      "alpha1 9.449712753295898\n",
      "Best prec1 :  48.52000001831055\n",
      "current lr 9.89622e-04\n"
     ]
    },
    {
     "data": {
      "application/vnd.jupyter.widget-view+json": {
       "model_id": "e5442a88ef3a40cc8657e788907152a9",
       "version_major": 2,
       "version_minor": 0
      },
      "text/plain": [
       "  0%|          | 0/40 [00:00<?, ?it/s]"
      ]
     },
     "metadata": {},
     "output_type": "display_data"
    },
    {
     "name": "stdout",
     "output_type": "stream",
     "text": [
      "Epoch: [16][0/40]\tTime 1.521 (1.521)\tData 1.241 (1.241)\tLoss 1.6664 (1.6664)\tPrec@1 45.117 (45.117)\n",
      "Test: [0/10]\tTime 0.806 (0.806)\tLoss 1.4393 (1.4393)\tPrec@1 48.242 (48.242)\n",
      " * Prec@1 47.790\n",
      "alpha1 9.411249160766602\n",
      "Best prec1 :  48.52000001831055\n",
      "current lr 9.87970e-04\n"
     ]
    },
    {
     "data": {
      "application/vnd.jupyter.widget-view+json": {
       "model_id": "965039e8ee004151ae68436d2c93d7b2",
       "version_major": 2,
       "version_minor": 0
      },
      "text/plain": [
       "  0%|          | 0/40 [00:00<?, ?it/s]"
      ]
     },
     "metadata": {},
     "output_type": "display_data"
    },
    {
     "name": "stdout",
     "output_type": "stream",
     "text": [
      "Epoch: [17][0/40]\tTime 1.840 (1.840)\tData 1.685 (1.685)\tLoss 1.6147 (1.6147)\tPrec@1 46.973 (46.973)\n",
      "Test: [0/10]\tTime 0.743 (0.743)\tLoss 1.4304 (1.4304)\tPrec@1 47.852 (47.852)\n",
      " * Prec@1 47.340\n",
      "alpha1 9.372915267944336\n",
      "Best prec1 :  48.52000001831055\n",
      "current lr 9.86199e-04\n"
     ]
    },
    {
     "data": {
      "application/vnd.jupyter.widget-view+json": {
       "model_id": "29a7165c436b482ea61210253b47ba7d",
       "version_major": 2,
       "version_minor": 0
      },
      "text/plain": [
       "  0%|          | 0/40 [00:00<?, ?it/s]"
      ]
     },
     "metadata": {},
     "output_type": "display_data"
    },
    {
     "name": "stdout",
     "output_type": "stream",
     "text": [
      "Epoch: [18][0/40]\tTime 2.510 (2.510)\tData 2.339 (2.339)\tLoss 1.6457 (1.6457)\tPrec@1 44.336 (44.336)\n",
      "Test: [0/10]\tTime 0.948 (0.948)\tLoss 1.3354 (1.3354)\tPrec@1 51.562 (51.562)\n",
      " * Prec@1 50.200\n",
      "alpha1 9.334712028503418\n",
      "Best prec1 :  50.199999877929685\n",
      "current lr 9.84307e-04\n"
     ]
    },
    {
     "data": {
      "application/vnd.jupyter.widget-view+json": {
       "model_id": "7152c9cca81046aaa4bee0f181684f15",
       "version_major": 2,
       "version_minor": 0
      },
      "text/plain": [
       "  0%|          | 0/40 [00:00<?, ?it/s]"
      ]
     },
     "metadata": {},
     "output_type": "display_data"
    },
    {
     "name": "stdout",
     "output_type": "stream",
     "text": [
      "Epoch: [19][0/40]\tTime 1.780 (1.780)\tData 1.597 (1.597)\tLoss 1.6984 (1.6984)\tPrec@1 44.922 (44.922)\n",
      "Test: [0/10]\tTime 0.870 (0.870)\tLoss 1.3779 (1.3779)\tPrec@1 52.832 (52.832)\n",
      " * Prec@1 50.970\n",
      "alpha1 9.296646118164062\n",
      "Best prec1 :  50.96999983520508\n",
      "current lr 9.82296e-04\n"
     ]
    },
    {
     "data": {
      "application/vnd.jupyter.widget-view+json": {
       "model_id": "c787beba8e0a4d0e94a424e4d8687b86",
       "version_major": 2,
       "version_minor": 0
      },
      "text/plain": [
       "  0%|          | 0/40 [00:00<?, ?it/s]"
      ]
     },
     "metadata": {},
     "output_type": "display_data"
    },
    {
     "name": "stdout",
     "output_type": "stream",
     "text": [
      "Epoch: [20][0/40]\tTime 1.775 (1.775)\tData 1.572 (1.572)\tLoss 1.6806 (1.6806)\tPrec@1 43.945 (43.945)\n",
      "Test: [0/10]\tTime 1.026 (1.026)\tLoss 1.4295 (1.4295)\tPrec@1 49.023 (49.023)\n",
      " * Prec@1 48.750\n",
      "alpha1 9.25871467590332\n",
      "Best prec1 :  50.96999983520508\n",
      "current lr 9.80167e-04\n"
     ]
    },
    {
     "data": {
      "application/vnd.jupyter.widget-view+json": {
       "model_id": "ef00170ce5a74593ba57c2a07761999d",
       "version_major": 2,
       "version_minor": 0
      },
      "text/plain": [
       "  0%|          | 0/40 [00:00<?, ?it/s]"
      ]
     },
     "metadata": {},
     "output_type": "display_data"
    },
    {
     "name": "stdout",
     "output_type": "stream",
     "text": [
      "Epoch: [21][0/40]\tTime 1.602 (1.602)\tData 1.419 (1.419)\tLoss 1.6153 (1.6153)\tPrec@1 49.219 (49.219)\n",
      "Test: [0/10]\tTime 1.032 (1.032)\tLoss 1.3592 (1.3592)\tPrec@1 50.879 (50.879)\n",
      " * Prec@1 50.670\n",
      "alpha1 9.220929145812988\n",
      "Best prec1 :  50.96999983520508\n",
      "current lr 9.77919e-04\n"
     ]
    },
    {
     "data": {
      "application/vnd.jupyter.widget-view+json": {
       "model_id": "81b524bdd2594d519808083c5d60bb36",
       "version_major": 2,
       "version_minor": 0
      },
      "text/plain": [
       "  0%|          | 0/40 [00:00<?, ?it/s]"
      ]
     },
     "metadata": {},
     "output_type": "display_data"
    },
    {
     "name": "stdout",
     "output_type": "stream",
     "text": [
      "Epoch: [22][0/40]\tTime 2.063 (2.063)\tData 1.895 (1.895)\tLoss 1.5799 (1.5799)\tPrec@1 50.391 (50.391)\n",
      "Test: [0/10]\tTime 1.008 (1.008)\tLoss 1.3791 (1.3791)\tPrec@1 50.781 (50.781)\n",
      " * Prec@1 50.600\n",
      "alpha1 9.183290481567383\n",
      "Best prec1 :  50.96999983520508\n",
      "current lr 9.75553e-04\n"
     ]
    },
    {
     "data": {
      "application/vnd.jupyter.widget-view+json": {
       "model_id": "9b58f46892c746988737064563e648a1",
       "version_major": 2,
       "version_minor": 0
      },
      "text/plain": [
       "  0%|          | 0/40 [00:00<?, ?it/s]"
      ]
     },
     "metadata": {},
     "output_type": "display_data"
    },
    {
     "name": "stdout",
     "output_type": "stream",
     "text": [
      "Epoch: [23][0/40]\tTime 2.549 (2.549)\tData 2.268 (2.268)\tLoss 1.6407 (1.6407)\tPrec@1 45.996 (45.996)\n",
      "Test: [0/10]\tTime 0.754 (0.754)\tLoss 1.3366 (1.3366)\tPrec@1 51.562 (51.562)\n",
      " * Prec@1 52.110\n",
      "alpha1 9.145798683166504\n",
      "Best prec1 :  52.10999995727539\n",
      "current lr 9.73070e-04\n"
     ]
    },
    {
     "data": {
      "application/vnd.jupyter.widget-view+json": {
       "model_id": "7de5010b842444efb15acae8de5871c9",
       "version_major": 2,
       "version_minor": 0
      },
      "text/plain": [
       "  0%|          | 0/40 [00:00<?, ?it/s]"
      ]
     },
     "metadata": {},
     "output_type": "display_data"
    },
    {
     "name": "stdout",
     "output_type": "stream",
     "text": [
      "Epoch: [24][0/40]\tTime 1.560 (1.560)\tData 1.371 (1.371)\tLoss 1.5818 (1.5818)\tPrec@1 49.805 (49.805)\n",
      "Test: [0/10]\tTime 0.686 (0.686)\tLoss 1.3205 (1.3205)\tPrec@1 54.297 (54.297)\n",
      " * Prec@1 52.810\n",
      "alpha1 9.108458518981934\n",
      "Best prec1 :  52.81000010986328\n",
      "current lr 9.70470e-04\n"
     ]
    },
    {
     "data": {
      "application/vnd.jupyter.widget-view+json": {
       "model_id": "1cd9597407c74e05aeb5499c6b9ecd74",
       "version_major": 2,
       "version_minor": 0
      },
      "text/plain": [
       "  0%|          | 0/40 [00:00<?, ?it/s]"
      ]
     },
     "metadata": {},
     "output_type": "display_data"
    },
    {
     "name": "stdout",
     "output_type": "stream",
     "text": [
      "Epoch: [25][0/40]\tTime 1.565 (1.565)\tData 1.351 (1.351)\tLoss 1.5450 (1.5450)\tPrec@1 49.902 (49.902)\n",
      "Test: [0/10]\tTime 0.773 (0.773)\tLoss 1.3480 (1.3480)\tPrec@1 51.270 (51.270)\n",
      " * Prec@1 52.390\n",
      "alpha1 9.071272850036621\n",
      "Best prec1 :  52.81000010986328\n",
      "current lr 9.67754e-04\n"
     ]
    },
    {
     "data": {
      "application/vnd.jupyter.widget-view+json": {
       "model_id": "c6376485f8c44f548a49190536a31ffd",
       "version_major": 2,
       "version_minor": 0
      },
      "text/plain": [
       "  0%|          | 0/40 [00:00<?, ?it/s]"
      ]
     },
     "metadata": {},
     "output_type": "display_data"
    },
    {
     "name": "stdout",
     "output_type": "stream",
     "text": [
      "Epoch: [26][0/40]\tTime 1.625 (1.625)\tData 1.464 (1.464)\tLoss 1.5583 (1.5583)\tPrec@1 50.684 (50.684)\n",
      "Test: [0/10]\tTime 0.788 (0.788)\tLoss 1.2922 (1.2922)\tPrec@1 54.492 (54.492)\n",
      " * Prec@1 52.270\n",
      "alpha1 9.034245491027832\n",
      "Best prec1 :  52.81000010986328\n",
      "current lr 9.64923e-04\n"
     ]
    },
    {
     "data": {
      "application/vnd.jupyter.widget-view+json": {
       "model_id": "f7c0b8ba18b940f2b669667ce880dd17",
       "version_major": 2,
       "version_minor": 0
      },
      "text/plain": [
       "  0%|          | 0/40 [00:00<?, ?it/s]"
      ]
     },
     "metadata": {},
     "output_type": "display_data"
    },
    {
     "name": "stdout",
     "output_type": "stream",
     "text": [
      "Epoch: [27][0/40]\tTime 1.866 (1.866)\tData 1.586 (1.586)\tLoss 1.6246 (1.6246)\tPrec@1 48.535 (48.535)\n",
      "Test: [0/10]\tTime 0.686 (0.686)\tLoss 1.3336 (1.3336)\tPrec@1 52.441 (52.441)\n",
      " * Prec@1 51.910\n",
      "alpha1 8.997376441955566\n",
      "Best prec1 :  52.81000010986328\n",
      "current lr 9.61978e-04\n"
     ]
    },
    {
     "data": {
      "application/vnd.jupyter.widget-view+json": {
       "model_id": "5625ca7096a743938699fa6feef01f28",
       "version_major": 2,
       "version_minor": 0
      },
      "text/plain": [
       "  0%|          | 0/40 [00:00<?, ?it/s]"
      ]
     },
     "metadata": {},
     "output_type": "display_data"
    },
    {
     "name": "stdout",
     "output_type": "stream",
     "text": [
      "Epoch: [28][0/40]\tTime 1.535 (1.535)\tData 1.407 (1.407)\tLoss 1.5081 (1.5081)\tPrec@1 51.465 (51.465)\n",
      "Test: [0/10]\tTime 0.811 (0.811)\tLoss 1.3776 (1.3776)\tPrec@1 51.270 (51.270)\n",
      " * Prec@1 50.550\n",
      "alpha1 8.960668563842773\n",
      "Best prec1 :  52.81000010986328\n",
      "current lr 9.58918e-04\n"
     ]
    },
    {
     "data": {
      "application/vnd.jupyter.widget-view+json": {
       "model_id": "9a51fc4083d04dd3a74919bc7d6991b7",
       "version_major": 2,
       "version_minor": 0
      },
      "text/plain": [
       "  0%|          | 0/40 [00:00<?, ?it/s]"
      ]
     },
     "metadata": {},
     "output_type": "display_data"
    },
    {
     "name": "stdout",
     "output_type": "stream",
     "text": [
      "Epoch: [29][0/40]\tTime 1.732 (1.732)\tData 1.554 (1.554)\tLoss 1.5344 (1.5344)\tPrec@1 49.121 (49.121)\n",
      "Test: [0/10]\tTime 0.651 (0.651)\tLoss 1.3238 (1.3238)\tPrec@1 53.125 (53.125)\n",
      " * Prec@1 51.920\n",
      "alpha1 8.92413330078125\n",
      "Best prec1 :  52.81000010986328\n",
      "current lr 9.55746e-04\n"
     ]
    },
    {
     "data": {
      "application/vnd.jupyter.widget-view+json": {
       "model_id": "0ccb04e7487143119404d997d80d7d71",
       "version_major": 2,
       "version_minor": 0
      },
      "text/plain": [
       "  0%|          | 0/40 [00:00<?, ?it/s]"
      ]
     },
     "metadata": {},
     "output_type": "display_data"
    },
    {
     "name": "stdout",
     "output_type": "stream",
     "text": [
      "Epoch: [30][0/40]\tTime 1.804 (1.804)\tData 1.643 (1.643)\tLoss 1.5002 (1.5002)\tPrec@1 51.562 (51.562)\n",
      "Test: [0/10]\tTime 0.665 (0.665)\tLoss 1.3008 (1.3008)\tPrec@1 54.492 (54.492)\n",
      " * Prec@1 52.210\n",
      "alpha1 8.887763977050781\n",
      "Best prec1 :  52.81000010986328\n",
      "current lr 9.52461e-04\n"
     ]
    },
    {
     "data": {
      "application/vnd.jupyter.widget-view+json": {
       "model_id": "a950858af3da4cf48d6b0c8ef192bf11",
       "version_major": 2,
       "version_minor": 0
      },
      "text/plain": [
       "  0%|          | 0/40 [00:00<?, ?it/s]"
      ]
     },
     "metadata": {},
     "output_type": "display_data"
    },
    {
     "name": "stdout",
     "output_type": "stream",
     "text": [
      "Epoch: [31][0/40]\tTime 1.702 (1.702)\tData 1.543 (1.543)\tLoss 1.5477 (1.5477)\tPrec@1 52.148 (52.148)\n",
      "Test: [0/10]\tTime 0.711 (0.711)\tLoss 1.2546 (1.2546)\tPrec@1 56.152 (56.152)\n",
      " * Prec@1 53.370\n",
      "alpha1 8.851572036743164\n",
      "Best prec1 :  53.369999926757814\n",
      "current lr 9.49065e-04\n"
     ]
    },
    {
     "data": {
      "application/vnd.jupyter.widget-view+json": {
       "model_id": "f5a5ce29f9dd4b91876ded86d2d8f511",
       "version_major": 2,
       "version_minor": 0
      },
      "text/plain": [
       "  0%|          | 0/40 [00:00<?, ?it/s]"
      ]
     },
     "metadata": {},
     "output_type": "display_data"
    },
    {
     "name": "stdout",
     "output_type": "stream",
     "text": [
      "Epoch: [32][0/40]\tTime 1.389 (1.389)\tData 1.229 (1.229)\tLoss 1.5376 (1.5376)\tPrec@1 51.074 (51.074)\n",
      "Test: [0/10]\tTime 0.747 (0.747)\tLoss 1.3014 (1.3014)\tPrec@1 54.199 (54.199)\n",
      " * Prec@1 53.570\n",
      "alpha1 8.8155517578125\n",
      "Best prec1 :  53.56999995117187\n",
      "current lr 9.45558e-04\n"
     ]
    },
    {
     "data": {
      "application/vnd.jupyter.widget-view+json": {
       "model_id": "bf1b81e9a6a6466dbf7e2cfb293ac87f",
       "version_major": 2,
       "version_minor": 0
      },
      "text/plain": [
       "  0%|          | 0/40 [00:00<?, ?it/s]"
      ]
     },
     "metadata": {},
     "output_type": "display_data"
    },
    {
     "name": "stdout",
     "output_type": "stream",
     "text": [
      "Epoch: [33][0/40]\tTime 1.474 (1.474)\tData 1.298 (1.298)\tLoss 1.4568 (1.4568)\tPrec@1 54.297 (54.297)\n",
      "Test: [0/10]\tTime 0.794 (0.794)\tLoss 1.2861 (1.2861)\tPrec@1 54.004 (54.004)\n",
      " * Prec@1 53.200\n",
      "alpha1 8.779711723327637\n",
      "Best prec1 :  53.56999995117187\n",
      "current lr 9.41941e-04\n"
     ]
    },
    {
     "data": {
      "application/vnd.jupyter.widget-view+json": {
       "model_id": "278bce2377ff450888f368a3c5ab0a34",
       "version_major": 2,
       "version_minor": 0
      },
      "text/plain": [
       "  0%|          | 0/40 [00:00<?, ?it/s]"
      ]
     },
     "metadata": {},
     "output_type": "display_data"
    },
    {
     "name": "stdout",
     "output_type": "stream",
     "text": [
      "Epoch: [34][0/40]\tTime 1.500 (1.500)\tData 1.338 (1.338)\tLoss 1.4930 (1.4930)\tPrec@1 51.270 (51.270)\n",
      "Test: [0/10]\tTime 0.819 (0.819)\tLoss 1.2781 (1.2781)\tPrec@1 55.664 (55.664)\n",
      " * Prec@1 54.180\n",
      "alpha1 8.744054794311523\n",
      "Best prec1 :  54.17999984130859\n",
      "current lr 9.38215e-04\n"
     ]
    },
    {
     "data": {
      "application/vnd.jupyter.widget-view+json": {
       "model_id": "48ee4e58b5a14f5eb26518e5598dfc99",
       "version_major": 2,
       "version_minor": 0
      },
      "text/plain": [
       "  0%|          | 0/40 [00:00<?, ?it/s]"
      ]
     },
     "metadata": {},
     "output_type": "display_data"
    },
    {
     "name": "stdout",
     "output_type": "stream",
     "text": [
      "Epoch: [35][0/40]\tTime 1.630 (1.630)\tData 1.462 (1.462)\tLoss 1.4739 (1.4739)\tPrec@1 53.223 (53.223)\n",
      "Test: [0/10]\tTime 0.788 (0.788)\tLoss 1.3124 (1.3124)\tPrec@1 53.711 (53.711)\n",
      " * Prec@1 53.260\n",
      "alpha1 8.708582878112793\n",
      "Best prec1 :  54.17999984130859\n",
      "current lr 9.34381e-04\n"
     ]
    },
    {
     "data": {
      "application/vnd.jupyter.widget-view+json": {
       "model_id": "1c81674c13d046cd9a7ef9c1dda5a2b0",
       "version_major": 2,
       "version_minor": 0
      },
      "text/plain": [
       "  0%|          | 0/40 [00:00<?, ?it/s]"
      ]
     },
     "metadata": {},
     "output_type": "display_data"
    },
    {
     "name": "stdout",
     "output_type": "stream",
     "text": [
      "Epoch: [36][0/40]\tTime 1.456 (1.456)\tData 1.295 (1.295)\tLoss 1.4944 (1.4944)\tPrec@1 52.441 (52.441)\n",
      "Test: [0/10]\tTime 0.812 (0.812)\tLoss 1.2177 (1.2177)\tPrec@1 58.594 (58.594)\n",
      " * Prec@1 54.970\n",
      "alpha1 8.673295974731445\n",
      "Best prec1 :  54.969999981689455\n",
      "current lr 9.30441e-04\n"
     ]
    },
    {
     "data": {
      "application/vnd.jupyter.widget-view+json": {
       "model_id": "c1d28039845344a4a43001d3a374a507",
       "version_major": 2,
       "version_minor": 0
      },
      "text/plain": [
       "  0%|          | 0/40 [00:00<?, ?it/s]"
      ]
     },
     "metadata": {},
     "output_type": "display_data"
    },
    {
     "name": "stdout",
     "output_type": "stream",
     "text": [
      "Epoch: [37][0/40]\tTime 1.454 (1.454)\tData 1.297 (1.297)\tLoss 1.4670 (1.4670)\tPrec@1 52.734 (52.734)\n",
      "Test: [0/10]\tTime 0.647 (0.647)\tLoss 1.2536 (1.2536)\tPrec@1 54.980 (54.980)\n",
      " * Prec@1 53.980\n",
      "alpha1 8.638197898864746\n",
      "Best prec1 :  54.969999981689455\n",
      "current lr 9.26394e-04\n"
     ]
    },
    {
     "data": {
      "application/vnd.jupyter.widget-view+json": {
       "model_id": "149d3b4366e947dea22b10a65bb3187a",
       "version_major": 2,
       "version_minor": 0
      },
      "text/plain": [
       "  0%|          | 0/40 [00:00<?, ?it/s]"
      ]
     },
     "metadata": {},
     "output_type": "display_data"
    },
    {
     "name": "stdout",
     "output_type": "stream",
     "text": [
      "Epoch: [38][0/40]\tTime 1.270 (1.270)\tData 1.142 (1.142)\tLoss 1.5137 (1.5137)\tPrec@1 50.195 (50.195)\n",
      "Test: [0/10]\tTime 0.663 (0.663)\tLoss 1.2268 (1.2268)\tPrec@1 56.055 (56.055)\n",
      " * Prec@1 54.990\n",
      "alpha1 8.603294372558594\n",
      "Best prec1 :  54.99\n",
      "current lr 9.22242e-04\n"
     ]
    },
    {
     "data": {
      "application/vnd.jupyter.widget-view+json": {
       "model_id": "8e74d04e028c4e909ac4eec0dc41f849",
       "version_major": 2,
       "version_minor": 0
      },
      "text/plain": [
       "  0%|          | 0/40 [00:00<?, ?it/s]"
      ]
     },
     "metadata": {},
     "output_type": "display_data"
    },
    {
     "name": "stdout",
     "output_type": "stream",
     "text": [
      "Epoch: [39][0/40]\tTime 2.024 (2.024)\tData 1.892 (1.892)\tLoss 1.5178 (1.5178)\tPrec@1 51.855 (51.855)\n",
      "Test: [0/10]\tTime 0.749 (0.749)\tLoss 1.2149 (1.2149)\tPrec@1 57.031 (57.031)\n",
      " * Prec@1 55.370\n",
      "alpha1 8.568586349487305\n",
      "Best prec1 :  55.37000001220703\n",
      "current lr 9.17986e-04\n"
     ]
    },
    {
     "data": {
      "application/vnd.jupyter.widget-view+json": {
       "model_id": "33d5bab93c8c42adad59950619dbb05f",
       "version_major": 2,
       "version_minor": 0
      },
      "text/plain": [
       "  0%|          | 0/40 [00:00<?, ?it/s]"
      ]
     },
     "metadata": {},
     "output_type": "display_data"
    },
    {
     "name": "stdout",
     "output_type": "stream",
     "text": [
      "Epoch: [40][0/40]\tTime 1.495 (1.495)\tData 1.332 (1.332)\tLoss 1.4398 (1.4398)\tPrec@1 51.758 (51.758)\n",
      "Test: [0/10]\tTime 0.727 (0.727)\tLoss 1.2336 (1.2336)\tPrec@1 57.129 (57.129)\n",
      " * Prec@1 55.120\n",
      "alpha1 8.534075736999512\n",
      "Best prec1 :  55.37000001220703\n",
      "current lr 9.13627e-04\n"
     ]
    },
    {
     "data": {
      "application/vnd.jupyter.widget-view+json": {
       "model_id": "a311de0f6e80499195a6dfd100a22e67",
       "version_major": 2,
       "version_minor": 0
      },
      "text/plain": [
       "  0%|          | 0/40 [00:00<?, ?it/s]"
      ]
     },
     "metadata": {},
     "output_type": "display_data"
    },
    {
     "name": "stdout",
     "output_type": "stream",
     "text": [
      "Epoch: [41][0/40]\tTime 1.372 (1.372)\tData 1.213 (1.213)\tLoss 1.4776 (1.4776)\tPrec@1 52.539 (52.539)\n",
      "Test: [0/10]\tTime 0.655 (0.655)\tLoss 1.2012 (1.2012)\tPrec@1 57.910 (57.910)\n",
      " * Prec@1 56.290\n",
      "alpha1 8.49976634979248\n",
      "Best prec1 :  56.28999983520508\n",
      "current lr 9.09166e-04\n"
     ]
    },
    {
     "data": {
      "application/vnd.jupyter.widget-view+json": {
       "model_id": "9629b9992bcb460f968b9ba47b73a885",
       "version_major": 2,
       "version_minor": 0
      },
      "text/plain": [
       "  0%|          | 0/40 [00:00<?, ?it/s]"
      ]
     },
     "metadata": {},
     "output_type": "display_data"
    },
    {
     "name": "stdout",
     "output_type": "stream",
     "text": [
      "Epoch: [42][0/40]\tTime 1.600 (1.600)\tData 1.440 (1.440)\tLoss 1.3916 (1.3916)\tPrec@1 56.152 (56.152)\n",
      "Test: [0/10]\tTime 0.804 (0.804)\tLoss 1.2151 (1.2151)\tPrec@1 56.836 (56.836)\n",
      " * Prec@1 56.050\n",
      "alpha1 8.46566104888916\n",
      "Best prec1 :  56.28999983520508\n",
      "current lr 9.04604e-04\n"
     ]
    },
    {
     "data": {
      "application/vnd.jupyter.widget-view+json": {
       "model_id": "42dc9038a3c94c71a7d154a3e54c66a4",
       "version_major": 2,
       "version_minor": 0
      },
      "text/plain": [
       "  0%|          | 0/40 [00:00<?, ?it/s]"
      ]
     },
     "metadata": {},
     "output_type": "display_data"
    },
    {
     "name": "stdout",
     "output_type": "stream",
     "text": [
      "Epoch: [43][0/40]\tTime 1.298 (1.298)\tData 1.079 (1.079)\tLoss 1.4844 (1.4844)\tPrec@1 52.344 (52.344)\n",
      "Test: [0/10]\tTime 0.759 (0.759)\tLoss 1.1809 (1.1809)\tPrec@1 57.910 (57.910)\n",
      " * Prec@1 56.790\n",
      "alpha1 8.43175983428955\n",
      "Best prec1 :  56.78999991455078\n",
      "current lr 8.99942e-04\n"
     ]
    },
    {
     "data": {
      "application/vnd.jupyter.widget-view+json": {
       "model_id": "83de2fd0f0484945804c57b108093eca",
       "version_major": 2,
       "version_minor": 0
      },
      "text/plain": [
       "  0%|          | 0/40 [00:00<?, ?it/s]"
      ]
     },
     "metadata": {},
     "output_type": "display_data"
    },
    {
     "name": "stdout",
     "output_type": "stream",
     "text": [
      "Epoch: [44][0/40]\tTime 1.648 (1.648)\tData 1.489 (1.489)\tLoss 1.4164 (1.4164)\tPrec@1 54.102 (54.102)\n",
      "Test: [0/10]\tTime 0.787 (0.787)\tLoss 1.1983 (1.1983)\tPrec@1 56.445 (56.445)\n",
      " * Prec@1 56.460\n",
      "alpha1 8.398069381713867\n",
      "Best prec1 :  56.78999991455078\n",
      "current lr 8.95182e-04\n"
     ]
    },
    {
     "data": {
      "application/vnd.jupyter.widget-view+json": {
       "model_id": "cc6fb6e984ee4079bca735fa52ac347a",
       "version_major": 2,
       "version_minor": 0
      },
      "text/plain": [
       "  0%|          | 0/40 [00:00<?, ?it/s]"
      ]
     },
     "metadata": {},
     "output_type": "display_data"
    },
    {
     "name": "stdout",
     "output_type": "stream",
     "text": [
      "Epoch: [45][0/40]\tTime 1.530 (1.530)\tData 1.372 (1.372)\tLoss 1.3825 (1.3825)\tPrec@1 55.469 (55.469)\n",
      "Test: [0/10]\tTime 0.789 (0.789)\tLoss 1.1507 (1.1507)\tPrec@1 60.059 (60.059)\n",
      " * Prec@1 58.570\n",
      "alpha1 8.364585876464844\n",
      "Best prec1 :  58.57000004882813\n",
      "current lr 8.90325e-04\n"
     ]
    },
    {
     "data": {
      "application/vnd.jupyter.widget-view+json": {
       "model_id": "24f96bc2cb424cec9ef12a09b6e3c57d",
       "version_major": 2,
       "version_minor": 0
      },
      "text/plain": [
       "  0%|          | 0/40 [00:00<?, ?it/s]"
      ]
     },
     "metadata": {},
     "output_type": "display_data"
    },
    {
     "name": "stdout",
     "output_type": "stream",
     "text": [
      "Epoch: [46][0/40]\tTime 1.713 (1.713)\tData 1.531 (1.531)\tLoss 1.3579 (1.3579)\tPrec@1 55.957 (55.957)\n",
      "Test: [0/10]\tTime 0.703 (0.703)\tLoss 1.1679 (1.1679)\tPrec@1 57.520 (57.520)\n",
      " * Prec@1 56.490\n",
      "alpha1 8.331320762634277\n",
      "Best prec1 :  58.57000004882813\n",
      "current lr 8.85371e-04\n"
     ]
    },
    {
     "data": {
      "application/vnd.jupyter.widget-view+json": {
       "model_id": "b4a86885aede4eddba555c2561113965",
       "version_major": 2,
       "version_minor": 0
      },
      "text/plain": [
       "  0%|          | 0/40 [00:00<?, ?it/s]"
      ]
     },
     "metadata": {},
     "output_type": "display_data"
    },
    {
     "name": "stdout",
     "output_type": "stream",
     "text": [
      "Epoch: [47][0/40]\tTime 1.574 (1.574)\tData 1.392 (1.392)\tLoss 1.3342 (1.3342)\tPrec@1 58.203 (58.203)\n",
      "Test: [0/10]\tTime 0.720 (0.720)\tLoss 1.1394 (1.1394)\tPrec@1 59.375 (59.375)\n",
      " * Prec@1 56.740\n",
      "alpha1 8.29826831817627\n",
      "Best prec1 :  58.57000004882813\n",
      "current lr 8.80323e-04\n"
     ]
    },
    {
     "data": {
      "application/vnd.jupyter.widget-view+json": {
       "model_id": "117c42bd970b42e5b525ce3fa17070ef",
       "version_major": 2,
       "version_minor": 0
      },
      "text/plain": [
       "  0%|          | 0/40 [00:00<?, ?it/s]"
      ]
     },
     "metadata": {},
     "output_type": "display_data"
    },
    {
     "name": "stdout",
     "output_type": "stream",
     "text": [
      "Epoch: [48][0/40]\tTime 1.509 (1.509)\tData 1.327 (1.327)\tLoss 1.3386 (1.3386)\tPrec@1 57.422 (57.422)\n",
      "Test: [0/10]\tTime 0.763 (0.763)\tLoss 1.1622 (1.1622)\tPrec@1 59.082 (59.082)\n",
      " * Prec@1 57.740\n",
      "alpha1 8.265429496765137\n",
      "Best prec1 :  58.57000004882813\n",
      "current lr 8.75180e-04\n"
     ]
    },
    {
     "data": {
      "application/vnd.jupyter.widget-view+json": {
       "model_id": "0aa7bd00a6a8484797f819ff0ef80b0b",
       "version_major": 2,
       "version_minor": 0
      },
      "text/plain": [
       "  0%|          | 0/40 [00:00<?, ?it/s]"
      ]
     },
     "metadata": {},
     "output_type": "display_data"
    },
    {
     "name": "stdout",
     "output_type": "stream",
     "text": [
      "Epoch: [49][0/40]\tTime 1.827 (1.827)\tData 1.647 (1.647)\tLoss 1.4147 (1.4147)\tPrec@1 53.809 (53.809)\n",
      "Test: [0/10]\tTime 0.790 (0.790)\tLoss 1.1077 (1.1077)\tPrec@1 60.449 (60.449)\n",
      " * Prec@1 58.870\n",
      "alpha1 8.232813835144043\n",
      "Best prec1 :  58.87000003051758\n",
      "current lr 8.69946e-04\n"
     ]
    },
    {
     "data": {
      "application/vnd.jupyter.widget-view+json": {
       "model_id": "0dff588ef6b748f3a3d3378d839a5f21",
       "version_major": 2,
       "version_minor": 0
      },
      "text/plain": [
       "  0%|          | 0/40 [00:00<?, ?it/s]"
      ]
     },
     "metadata": {},
     "output_type": "display_data"
    },
    {
     "name": "stdout",
     "output_type": "stream",
     "text": [
      "Epoch: [50][0/40]\tTime 2.416 (2.416)\tData 2.249 (2.249)\tLoss 1.3308 (1.3308)\tPrec@1 55.957 (55.957)\n",
      "Test: [0/10]\tTime 0.787 (0.787)\tLoss 1.1661 (1.1661)\tPrec@1 59.473 (59.473)\n",
      " * Prec@1 56.890\n",
      "alpha1 8.20042610168457\n",
      "Best prec1 :  58.87000003051758\n",
      "current lr 8.64620e-04\n"
     ]
    },
    {
     "data": {
      "application/vnd.jupyter.widget-view+json": {
       "model_id": "f3be983d4ca448f2bad65fbdf1ee60aa",
       "version_major": 2,
       "version_minor": 0
      },
      "text/plain": [
       "  0%|          | 0/40 [00:00<?, ?it/s]"
      ]
     },
     "metadata": {},
     "output_type": "display_data"
    },
    {
     "name": "stdout",
     "output_type": "stream",
     "text": [
      "Epoch: [51][0/40]\tTime 1.580 (1.580)\tData 1.402 (1.402)\tLoss 1.3750 (1.3750)\tPrec@1 55.469 (55.469)\n",
      "Test: [0/10]\tTime 0.814 (0.814)\tLoss 1.1292 (1.1292)\tPrec@1 60.547 (60.547)\n",
      " * Prec@1 58.230\n",
      "alpha1 8.168262481689453\n",
      "Best prec1 :  58.87000003051758\n",
      "current lr 8.59204e-04\n"
     ]
    },
    {
     "data": {
      "application/vnd.jupyter.widget-view+json": {
       "model_id": "de6ea93ffa704f92b2636ec5dae61875",
       "version_major": 2,
       "version_minor": 0
      },
      "text/plain": [
       "  0%|          | 0/40 [00:00<?, ?it/s]"
      ]
     },
     "metadata": {},
     "output_type": "display_data"
    },
    {
     "name": "stdout",
     "output_type": "stream",
     "text": [
      "Epoch: [52][0/40]\tTime 1.584 (1.584)\tData 1.402 (1.402)\tLoss 1.3929 (1.3929)\tPrec@1 55.469 (55.469)\n",
      "Test: [0/10]\tTime 0.779 (0.779)\tLoss 1.1636 (1.1636)\tPrec@1 58.984 (58.984)\n",
      " * Prec@1 57.970\n",
      "alpha1 8.136324882507324\n",
      "Best prec1 :  58.87000003051758\n",
      "current lr 8.53700e-04\n"
     ]
    },
    {
     "data": {
      "application/vnd.jupyter.widget-view+json": {
       "model_id": "f8876a25eddb43aa8d5955d2123b3653",
       "version_major": 2,
       "version_minor": 0
      },
      "text/plain": [
       "  0%|          | 0/40 [00:00<?, ?it/s]"
      ]
     },
     "metadata": {},
     "output_type": "display_data"
    },
    {
     "name": "stdout",
     "output_type": "stream",
     "text": [
      "Epoch: [53][0/40]\tTime 1.613 (1.613)\tData 1.427 (1.427)\tLoss 1.2908 (1.2908)\tPrec@1 58.008 (58.008)\n",
      "Test: [0/10]\tTime 0.742 (0.742)\tLoss 1.0832 (1.0832)\tPrec@1 61.621 (61.621)\n",
      " * Prec@1 58.690\n",
      "alpha1 8.104616165161133\n",
      "Best prec1 :  58.87000003051758\n",
      "current lr 8.48108e-04\n"
     ]
    },
    {
     "data": {
      "application/vnd.jupyter.widget-view+json": {
       "model_id": "1cc6528a708f4336a90c787ea59ce2df",
       "version_major": 2,
       "version_minor": 0
      },
      "text/plain": [
       "  0%|          | 0/40 [00:00<?, ?it/s]"
      ]
     },
     "metadata": {},
     "output_type": "display_data"
    },
    {
     "name": "stdout",
     "output_type": "stream",
     "text": [
      "Epoch: [54][0/40]\tTime 1.410 (1.410)\tData 1.251 (1.251)\tLoss 1.3108 (1.3108)\tPrec@1 58.105 (58.105)\n",
      "Test: [0/10]\tTime 0.806 (0.806)\tLoss 1.1503 (1.1503)\tPrec@1 61.426 (61.426)\n",
      " * Prec@1 57.830\n",
      "alpha1 8.073141098022461\n",
      "Best prec1 :  58.87000003051758\n",
      "current lr 8.42431e-04\n"
     ]
    },
    {
     "data": {
      "application/vnd.jupyter.widget-view+json": {
       "model_id": "15cb881783a84672acdf187d1a68b7e7",
       "version_major": 2,
       "version_minor": 0
      },
      "text/plain": [
       "  0%|          | 0/40 [00:00<?, ?it/s]"
      ]
     },
     "metadata": {},
     "output_type": "display_data"
    },
    {
     "name": "stdout",
     "output_type": "stream",
     "text": [
      "Epoch: [55][0/40]\tTime 1.659 (1.659)\tData 1.500 (1.500)\tLoss 1.2995 (1.2995)\tPrec@1 58.887 (58.887)\n",
      "Test: [0/10]\tTime 0.696 (0.696)\tLoss 1.1106 (1.1106)\tPrec@1 60.938 (60.938)\n",
      " * Prec@1 59.280\n",
      "alpha1 8.041898727416992\n",
      "Best prec1 :  59.28000008544922\n",
      "current lr 8.36670e-04\n"
     ]
    },
    {
     "data": {
      "application/vnd.jupyter.widget-view+json": {
       "model_id": "fcb8028ed8b4415cb6c9ab02efae2f59",
       "version_major": 2,
       "version_minor": 0
      },
      "text/plain": [
       "  0%|          | 0/40 [00:00<?, ?it/s]"
      ]
     },
     "metadata": {},
     "output_type": "display_data"
    },
    {
     "name": "stdout",
     "output_type": "stream",
     "text": [
      "Epoch: [56][0/40]\tTime 1.821 (1.821)\tData 1.546 (1.546)\tLoss 1.3013 (1.3013)\tPrec@1 59.570 (59.570)\n",
      "Test: [0/10]\tTime 0.653 (0.653)\tLoss 1.1095 (1.1095)\tPrec@1 61.133 (61.133)\n",
      " * Prec@1 58.430\n",
      "alpha1 8.010885238647461\n",
      "Best prec1 :  59.28000008544922\n",
      "current lr 8.30825e-04\n"
     ]
    },
    {
     "data": {
      "application/vnd.jupyter.widget-view+json": {
       "model_id": "7fcc98fc9f204e3c92d6373327f8ef97",
       "version_major": 2,
       "version_minor": 0
      },
      "text/plain": [
       "  0%|          | 0/40 [00:00<?, ?it/s]"
      ]
     },
     "metadata": {},
     "output_type": "display_data"
    },
    {
     "name": "stdout",
     "output_type": "stream",
     "text": [
      "Epoch: [57][0/40]\tTime 1.520 (1.520)\tData 1.317 (1.317)\tLoss 1.3000 (1.3000)\tPrec@1 59.082 (59.082)\n",
      "Test: [0/10]\tTime 0.783 (0.783)\tLoss 1.1225 (1.1225)\tPrec@1 60.449 (60.449)\n",
      " * Prec@1 58.890\n",
      "alpha1 7.980109214782715\n",
      "Best prec1 :  59.28000008544922\n",
      "current lr 8.24899e-04\n"
     ]
    },
    {
     "data": {
      "application/vnd.jupyter.widget-view+json": {
       "model_id": "4d22a8b94840418aa5b3916a90b12ba5",
       "version_major": 2,
       "version_minor": 0
      },
      "text/plain": [
       "  0%|          | 0/40 [00:00<?, ?it/s]"
      ]
     },
     "metadata": {},
     "output_type": "display_data"
    },
    {
     "name": "stdout",
     "output_type": "stream",
     "text": [
      "Epoch: [58][0/40]\tTime 1.494 (1.494)\tData 1.317 (1.317)\tLoss 1.3806 (1.3806)\tPrec@1 54.980 (54.980)\n",
      "Test: [0/10]\tTime 0.736 (0.736)\tLoss 1.0747 (1.0747)\tPrec@1 61.426 (61.426)\n",
      " * Prec@1 59.760\n",
      "alpha1 7.9495720863342285\n",
      "Best prec1 :  59.75999982910156\n",
      "current lr 8.18893e-04\n"
     ]
    },
    {
     "data": {
      "application/vnd.jupyter.widget-view+json": {
       "model_id": "89ae0fc288b146a693355ae41217309f",
       "version_major": 2,
       "version_minor": 0
      },
      "text/plain": [
       "  0%|          | 0/40 [00:00<?, ?it/s]"
      ]
     },
     "metadata": {},
     "output_type": "display_data"
    },
    {
     "name": "stdout",
     "output_type": "stream",
     "text": [
      "Epoch: [59][0/40]\tTime 1.406 (1.406)\tData 1.237 (1.237)\tLoss 1.2829 (1.2829)\tPrec@1 59.082 (59.082)\n",
      "Test: [0/10]\tTime 0.759 (0.759)\tLoss 1.0892 (1.0892)\tPrec@1 61.230 (61.230)\n",
      " * Prec@1 60.120\n",
      "alpha1 7.919276237487793\n",
      "Best prec1 :  60.12000000610352\n",
      "current lr 8.12809e-04\n"
     ]
    },
    {
     "data": {
      "application/vnd.jupyter.widget-view+json": {
       "model_id": "50693bd9c0c74d17a2d23799d09d877a",
       "version_major": 2,
       "version_minor": 0
      },
      "text/plain": [
       "  0%|          | 0/40 [00:00<?, ?it/s]"
      ]
     },
     "metadata": {},
     "output_type": "display_data"
    },
    {
     "name": "stdout",
     "output_type": "stream",
     "text": [
      "Epoch: [60][0/40]\tTime 1.700 (1.700)\tData 1.525 (1.525)\tLoss 1.3556 (1.3556)\tPrec@1 55.957 (55.957)\n",
      "Test: [0/10]\tTime 0.841 (0.841)\tLoss 1.0695 (1.0695)\tPrec@1 62.207 (62.207)\n",
      " * Prec@1 60.470\n",
      "alpha1 7.889222621917725\n",
      "Best prec1 :  60.47000004272461\n",
      "current lr 8.06647e-04\n"
     ]
    },
    {
     "data": {
      "application/vnd.jupyter.widget-view+json": {
       "model_id": "d619f36a39604486bcf3f53af3afa5fb",
       "version_major": 2,
       "version_minor": 0
      },
      "text/plain": [
       "  0%|          | 0/40 [00:00<?, ?it/s]"
      ]
     },
     "metadata": {},
     "output_type": "display_data"
    },
    {
     "name": "stdout",
     "output_type": "stream",
     "text": [
      "Epoch: [61][0/40]\tTime 1.774 (1.774)\tData 1.617 (1.617)\tLoss 1.2266 (1.2266)\tPrec@1 60.645 (60.645)\n",
      "Test: [0/10]\tTime 0.796 (0.796)\tLoss 1.0539 (1.0539)\tPrec@1 62.500 (62.500)\n",
      " * Prec@1 60.680\n",
      "alpha1 7.859412670135498\n",
      "Best prec1 :  60.67999982910156\n",
      "current lr 8.00410e-04\n"
     ]
    },
    {
     "data": {
      "application/vnd.jupyter.widget-view+json": {
       "model_id": "94b8e211fa984317843671d47ad49b92",
       "version_major": 2,
       "version_minor": 0
      },
      "text/plain": [
       "  0%|          | 0/40 [00:00<?, ?it/s]"
      ]
     },
     "metadata": {},
     "output_type": "display_data"
    },
    {
     "name": "stdout",
     "output_type": "stream",
     "text": [
      "Epoch: [62][0/40]\tTime 1.556 (1.556)\tData 1.400 (1.400)\tLoss 1.3268 (1.3268)\tPrec@1 56.055 (56.055)\n",
      "Test: [0/10]\tTime 0.792 (0.792)\tLoss 1.0350 (1.0350)\tPrec@1 63.672 (63.672)\n",
      " * Prec@1 60.990\n",
      "alpha1 7.829848766326904\n",
      "Best prec1 :  60.989999822998044\n",
      "current lr 7.94099e-04\n"
     ]
    },
    {
     "data": {
      "application/vnd.jupyter.widget-view+json": {
       "model_id": "48d01ceade8e4a9f8599ae20046758ac",
       "version_major": 2,
       "version_minor": 0
      },
      "text/plain": [
       "  0%|          | 0/40 [00:00<?, ?it/s]"
      ]
     },
     "metadata": {},
     "output_type": "display_data"
    },
    {
     "name": "stdout",
     "output_type": "stream",
     "text": [
      "Epoch: [63][0/40]\tTime 1.739 (1.739)\tData 1.557 (1.557)\tLoss 1.3686 (1.3686)\tPrec@1 53.809 (53.809)\n",
      "Test: [0/10]\tTime 0.770 (0.770)\tLoss 1.0557 (1.0557)\tPrec@1 62.891 (62.891)\n",
      " * Prec@1 60.310\n",
      "alpha1 7.800532817840576\n",
      "Best prec1 :  60.989999822998044\n",
      "current lr 7.87715e-04\n"
     ]
    },
    {
     "data": {
      "application/vnd.jupyter.widget-view+json": {
       "model_id": "508b82c39ec847dfb584d8238f85b33a",
       "version_major": 2,
       "version_minor": 0
      },
      "text/plain": [
       "  0%|          | 0/40 [00:00<?, ?it/s]"
      ]
     },
     "metadata": {},
     "output_type": "display_data"
    },
    {
     "name": "stdout",
     "output_type": "stream",
     "text": [
      "Epoch: [64][0/40]\tTime 1.517 (1.517)\tData 1.335 (1.335)\tLoss 1.3042 (1.3042)\tPrec@1 57.227 (57.227)\n",
      "Test: [0/10]\tTime 0.667 (0.667)\tLoss 1.0454 (1.0454)\tPrec@1 64.258 (64.258)\n",
      " * Prec@1 61.450\n",
      "alpha1 7.771466255187988\n",
      "Best prec1 :  61.449999938964844\n",
      "current lr 7.81261e-04\n"
     ]
    },
    {
     "data": {
      "application/vnd.jupyter.widget-view+json": {
       "model_id": "798886d6de8e41b3a0ca77ac8e8734c2",
       "version_major": 2,
       "version_minor": 0
      },
      "text/plain": [
       "  0%|          | 0/40 [00:00<?, ?it/s]"
      ]
     },
     "metadata": {},
     "output_type": "display_data"
    },
    {
     "name": "stdout",
     "output_type": "stream",
     "text": [
      "Epoch: [65][0/40]\tTime 1.389 (1.389)\tData 1.229 (1.229)\tLoss 1.3442 (1.3442)\tPrec@1 57.324 (57.324)\n",
      "Test: [0/10]\tTime 0.800 (0.800)\tLoss 1.0520 (1.0520)\tPrec@1 64.160 (64.160)\n",
      " * Prec@1 60.560\n",
      "alpha1 7.742652416229248\n",
      "Best prec1 :  61.449999938964844\n",
      "current lr 7.74737e-04\n"
     ]
    },
    {
     "data": {
      "application/vnd.jupyter.widget-view+json": {
       "model_id": "d2c3a7404fb148d09ac0922a155d868e",
       "version_major": 2,
       "version_minor": 0
      },
      "text/plain": [
       "  0%|          | 0/40 [00:00<?, ?it/s]"
      ]
     },
     "metadata": {},
     "output_type": "display_data"
    },
    {
     "name": "stdout",
     "output_type": "stream",
     "text": [
      "Epoch: [66][0/40]\tTime 1.389 (1.389)\tData 1.230 (1.230)\tLoss 1.3068 (1.3068)\tPrec@1 57.715 (57.715)\n",
      "Test: [0/10]\tTime 0.795 (0.795)\tLoss 1.0627 (1.0627)\tPrec@1 62.891 (62.891)\n",
      " * Prec@1 60.520\n",
      "alpha1 7.714094638824463\n",
      "Best prec1 :  61.449999938964844\n",
      "current lr 7.68145e-04\n"
     ]
    },
    {
     "data": {
      "application/vnd.jupyter.widget-view+json": {
       "model_id": "4a10046e7a45401785913a421c1f1941",
       "version_major": 2,
       "version_minor": 0
      },
      "text/plain": [
       "  0%|          | 0/40 [00:00<?, ?it/s]"
      ]
     },
     "metadata": {},
     "output_type": "display_data"
    },
    {
     "name": "stdout",
     "output_type": "stream",
     "text": [
      "Epoch: [67][0/40]\tTime 1.775 (1.775)\tData 1.590 (1.590)\tLoss 1.2401 (1.2401)\tPrec@1 61.230 (61.230)\n",
      "Test: [0/10]\tTime 0.743 (0.743)\tLoss 1.0506 (1.0506)\tPrec@1 63.281 (63.281)\n"
     ]
    }
   ],
   "source": [
    "from timm.scheduler import CosineLRScheduler\n",
    "\n",
    "for k in range(4,9):\n",
    "    net = resnet20(k=k)\n",
    "\n",
    "    model = net.cuda()\n",
    "    mixup = False\n",
    "\n",
    "    # Track experiment with wandb\n",
    "    import wandb\n",
    "    watermark = \"resnet20_uniformquantize_k{}\".format(k)\n",
    "\n",
    "    # mess with wandb\n",
    "    wandb.init(project=\"quantize_resnet\", name=watermark)\n",
    "\n",
    "    # define loss function (criterion) and pptimizer\n",
    "    criterion = nn.CrossEntropyLoss().cuda()\n",
    "\n",
    "    # optimizer for pact\n",
    "    optimizer = torch.optim.SGD(model.parameters(), lr=1e-3,\n",
    "                                momentum=0.9,\n",
    "                                weight_decay=0.0002)\n",
    "    optimizer = torch.optim.Adam(model.parameters(), lr=1e-3)\n",
    "\n",
    "    scheduler = CosineLRScheduler(optimizer, t_initial=n_epochs, lr_min=1e-6, \n",
    "                          warmup_t=3, warmup_lr_init=1e-6, warmup_prefix=True)\n",
    "\n",
    "    best_prec1 = 0\n",
    "    os.makedirs(\"models\", exist_ok=True)\n",
    "\n",
    "    for epoch in range(n_epochs):\n",
    "        scheduler.step(epoch)\n",
    "        # train for one epoch\n",
    "        print('current lr {:.5e}'.format(optimizer.param_groups[0]['lr']))\n",
    "        tloss = train(train_loader, model, criterion, optimizer, epoch)         \n",
    "\n",
    "        # evaluate on validation set\n",
    "        prec1, valloss = validate(val_loader, model, criterion)\n",
    "\n",
    "        # wandb\n",
    "        wandb.log({'epoch': epoch, \"prec\":prec1, \"train_loss\": tloss, 'val_loss': valloss, \"lr\": optimizer.param_groups[0][\"lr\"],})\n",
    "\n",
    "        # remember best prec@1 and save checkpoint\n",
    "        is_best = prec1 > best_prec1\n",
    "        best_prec1 = max(prec1, best_prec1)\n",
    "\n",
    "        print(\"Best prec1 : \", best_prec1)\n",
    "        if is_best:\n",
    "            torch.save(model.state_dict(), os.path.join(f'models/{watermark}.pth'))"
   ]
  },
  {
   "cell_type": "code",
   "execution_count": null,
   "id": "8998c803",
   "metadata": {},
   "outputs": [],
   "source": [
    "from pact_utils import TorchQuantize\n",
    "len(TorchQuantize(bits=4).forward(torch.rand(1,384)).unique())"
   ]
  },
  {
   "cell_type": "code",
   "execution_count": null,
   "id": "8d894c1f",
   "metadata": {},
   "outputs": [],
   "source": [
    "net.blocks[1].mlp.fc1.forward(torch.rand(1,384).cuda()).unique()"
   ]
  },
  {
   "cell_type": "code",
   "execution_count": null,
   "id": "75eb1382",
   "metadata": {},
   "outputs": [],
   "source": [
    "model.blocks[1].attn.qkv"
   ]
  },
  {
   "cell_type": "code",
   "execution_count": null,
   "id": "bcba9662",
   "metadata": {},
   "outputs": [],
   "source": []
  }
 ],
 "metadata": {
  "kernelspec": {
   "display_name": "Python 3 (ipykernel)",
   "language": "python",
   "name": "python3"
  },
  "language_info": {
   "codemirror_mode": {
    "name": "ipython",
    "version": 3
   },
   "file_extension": ".py",
   "mimetype": "text/x-python",
   "name": "python",
   "nbconvert_exporter": "python",
   "pygments_lexer": "ipython3",
   "version": "3.7.0"
  }
 },
 "nbformat": 4,
 "nbformat_minor": 5
}
