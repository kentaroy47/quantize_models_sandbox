{
 "cells": [
  {
   "cell_type": "markdown",
   "id": "65b5a174",
   "metadata": {},
   "source": [
    "# ViT CIFAR-10\n",
    "load timm ViT and retrain on CIFAR 10"
   ]
  },
  {
   "cell_type": "code",
   "execution_count": 1,
   "id": "3cdfa9b0",
   "metadata": {},
   "outputs": [],
   "source": [
    "NOQUANT_TRAIN = True"
   ]
  },
  {
   "cell_type": "code",
   "execution_count": 2,
   "id": "e95ac49f",
   "metadata": {},
   "outputs": [],
   "source": [
    "import argparse\n",
    "import os\n",
    "import shutil\n",
    "import time\n",
    "import pandas as pd\n",
    "import matplotlib.pyplot as plt\n",
    "import network.resnet_orig as resnet\n",
    "\n",
    "from tqdm.notebook import tqdm\n",
    "import time\n",
    "import numpy as np\n",
    "import pandas as pd\n",
    "import cv2\n",
    "import torch\n",
    "import torch.nn as nn\n",
    "import torch.nn.functional as F\n",
    "import torch.optim as optim\n",
    "from torch.optim import lr_scheduler\n",
    "from torch.utils.data import DataLoader, Dataset\n",
    "from torch.utils.data.sampler import SubsetRandomSampler, RandomSampler, SequentialSampler\n",
    "from torch.optim.lr_scheduler import CosineAnnealingWarmRestarts, CosineAnnealingLR, ReduceLROnPlateau\n",
    "\n",
    "model_names = sorted(name for name in resnet.__dict__\n",
    "    if name.islower() and not name.startswith(\"__\")\n",
    "                     and name.startswith(\"resnet\")\n",
    "                     and callable(resnet.__dict__[name]))\n",
    "\n",
    "DATA_DIR = \"train\"\n",
    "print_freq = 50\n",
    "\n",
    "# vit imsize\n",
    "imsize = 32"
   ]
  },
  {
   "cell_type": "code",
   "execution_count": 3,
   "id": "91238a6e",
   "metadata": {},
   "outputs": [
    {
     "data": {
      "text/html": [
       "<div>\n",
       "<style scoped>\n",
       "    .dataframe tbody tr th:only-of-type {\n",
       "        vertical-align: middle;\n",
       "    }\n",
       "\n",
       "    .dataframe tbody tr th {\n",
       "        vertical-align: top;\n",
       "    }\n",
       "\n",
       "    .dataframe thead th {\n",
       "        text-align: right;\n",
       "    }\n",
       "</style>\n",
       "<table border=\"1\" class=\"dataframe\">\n",
       "  <thead>\n",
       "    <tr style=\"text-align: right;\">\n",
       "      <th></th>\n",
       "      <th>id</th>\n",
       "      <th>label</th>\n",
       "      <th>label_enc</th>\n",
       "      <th>fold</th>\n",
       "    </tr>\n",
       "  </thead>\n",
       "  <tbody>\n",
       "    <tr>\n",
       "      <th>0</th>\n",
       "      <td>1</td>\n",
       "      <td>frog</td>\n",
       "      <td>6</td>\n",
       "      <td>1</td>\n",
       "    </tr>\n",
       "    <tr>\n",
       "      <th>1</th>\n",
       "      <td>2</td>\n",
       "      <td>truck</td>\n",
       "      <td>9</td>\n",
       "      <td>1</td>\n",
       "    </tr>\n",
       "    <tr>\n",
       "      <th>2</th>\n",
       "      <td>3</td>\n",
       "      <td>truck</td>\n",
       "      <td>9</td>\n",
       "      <td>2</td>\n",
       "    </tr>\n",
       "    <tr>\n",
       "      <th>3</th>\n",
       "      <td>4</td>\n",
       "      <td>deer</td>\n",
       "      <td>4</td>\n",
       "      <td>1</td>\n",
       "    </tr>\n",
       "    <tr>\n",
       "      <th>4</th>\n",
       "      <td>5</td>\n",
       "      <td>automobile</td>\n",
       "      <td>1</td>\n",
       "      <td>2</td>\n",
       "    </tr>\n",
       "  </tbody>\n",
       "</table>\n",
       "</div>"
      ],
      "text/plain": [
       "   id       label  label_enc  fold\n",
       "0   1        frog          6     1\n",
       "1   2       truck          9     1\n",
       "2   3       truck          9     2\n",
       "3   4        deer          4     1\n",
       "4   5  automobile          1     2"
      ]
     },
     "execution_count": 3,
     "metadata": {},
     "output_type": "execute_result"
    }
   ],
   "source": [
    "# prepare labels\n",
    "train_df = pd.read_csv(\"trainLabels.csv\")\n",
    "from sklearn.preprocessing import LabelEncoder\n",
    "le = LabelEncoder()\n",
    "train_df['label_enc'] = le.fit_transform(train_df['label'])\n",
    "\n",
    "# 5-fold\n",
    "from sklearn.model_selection import StratifiedKFold\n",
    "skf = StratifiedKFold(n_splits=5, shuffle=True, random_state=42)\n",
    "\n",
    "train_df[\"fold\"] = -1\n",
    "for i, (train_index, test_index) in enumerate(skf.split(train_df.id, train_df.label_enc)):\n",
    "    train_df.loc[test_index, 'fold'] = i\n",
    "train_df.head()"
   ]
  },
  {
   "cell_type": "code",
   "execution_count": 4,
   "id": "44be87f4",
   "metadata": {},
   "outputs": [],
   "source": [
    "class cifarDataset(Dataset):\n",
    "    def __init__(self,\n",
    "                 df,\n",
    "                 rand=False,\n",
    "                 transform=None,\n",
    "                 test=False\n",
    "                ):\n",
    "\n",
    "        self.df = df.reset_index(drop=True)\n",
    "        self.rand = rand\n",
    "        self.transform = transform\n",
    "        self.test = test\n",
    "\n",
    "    def __len__(self):\n",
    "        return self.df.shape[0]\n",
    "\n",
    "    def __getitem__(self, index):\n",
    "        row = self.df.iloc[index]\n",
    "        img_id = row.id\n",
    "        \n",
    "        images = cv2.imread(os.path.join(DATA_DIR, str(img_id)+\".png\"))\n",
    "        \n",
    "        # Load labels\n",
    "        label = row.label_enc\n",
    "        \n",
    "        # aug\n",
    "        if self.transform is not None:\n",
    "            images = self.transform(image=images)['image']\n",
    "              \n",
    "        #images = images.astype(np.float32)\n",
    "        #images /= 255\n",
    "        images = images.transpose(2, 0, 1)\n",
    "        \n",
    "        label = label.astype(np.float32)\n",
    "        #label2 = label2.astype(np.float32)\n",
    "        return torch.tensor(images), torch.tensor(label),"
   ]
  },
  {
   "cell_type": "code",
   "execution_count": 5,
   "id": "cd5517a6",
   "metadata": {},
   "outputs": [
    {
     "name": "stderr",
     "output_type": "stream",
     "text": [
      "/home/ken/anaconda3/envs/pytorch_p37/lib/python3.7/site-packages/albumentations/augmentations/transforms.py:690: FutureWarning: This class has been deprecated. Please use CoarseDropout\n",
      "  FutureWarning,\n"
     ]
    }
   ],
   "source": [
    "import albumentations as A\n",
    "import albumentations\n",
    "\n",
    "transforms_train = albumentations.Compose([\n",
    "    albumentations.ShiftScaleRotate(scale_limit=0.3, rotate_limit=180,p=0.5),\n",
    "    A.Cutout(num_holes=12, max_h_size=4, max_w_size=4, fill_value=0, p=0.5),\n",
    "    #albumentations.Rotate(p=0.5),\n",
    "    #albumentations.Transpose(p=0.5),\n",
    "    #albumentations.VerticalFlip(p=0.5),\n",
    "    albumentations.HorizontalFlip(p=0.5),   \n",
    "    albumentations.Resize(imsize, imsize, p=1.0), \n",
    "    albumentations.Normalize(mean=(0.485, 0.456, 0.406),\n",
    "                       std=(0.229, 0.224, 0.225), p=1),\n",
    "])\n",
    "\n",
    "transforms_val = albumentations.Compose([albumentations.Resize(imsize, imsize, p=1.0),\n",
    "                                         albumentations.Normalize(mean=(0.485, 0.456, 0.406),\n",
    "                       std=(0.229, 0.224, 0.225), p=1),])"
   ]
  },
  {
   "cell_type": "code",
   "execution_count": 6,
   "id": "e3726718",
   "metadata": {
    "scrolled": true
   },
   "outputs": [
    {
     "name": "stderr",
     "output_type": "stream",
     "text": [
      "Clipping input data to the valid range for imshow with RGB data ([0..1] for floats or [0..255] for integers).\n",
      "Clipping input data to the valid range for imshow with RGB data ([0..1] for floats or [0..255] for integers).\n",
      "Clipping input data to the valid range for imshow with RGB data ([0..1] for floats or [0..255] for integers).\n",
      "Clipping input data to the valid range for imshow with RGB data ([0..1] for floats or [0..255] for integers).\n",
      "Clipping input data to the valid range for imshow with RGB data ([0..1] for floats or [0..255] for integers).\n",
      "Clipping input data to the valid range for imshow with RGB data ([0..1] for floats or [0..255] for integers).\n",
      "Clipping input data to the valid range for imshow with RGB data ([0..1] for floats or [0..255] for integers).\n",
      "Clipping input data to the valid range for imshow with RGB data ([0..1] for floats or [0..255] for integers).\n",
      "Clipping input data to the valid range for imshow with RGB data ([0..1] for floats or [0..255] for integers).\n",
      "Clipping input data to the valid range for imshow with RGB data ([0..1] for floats or [0..255] for integers).\n",
      "Clipping input data to the valid range for imshow with RGB data ([0..1] for floats or [0..255] for integers).\n",
      "Clipping input data to the valid range for imshow with RGB data ([0..1] for floats or [0..255] for integers).\n",
      "Clipping input data to the valid range for imshow with RGB data ([0..1] for floats or [0..255] for integers).\n",
      "Clipping input data to the valid range for imshow with RGB data ([0..1] for floats or [0..255] for integers).\n",
      "Clipping input data to the valid range for imshow with RGB data ([0..1] for floats or [0..255] for integers).\n"
     ]
    },
    {
     "data": {
      "image/png": "[encoded data removed]",
      "text/plain": [
       "<Figure size 1440x720 with 5 Axes>"
      ]
     },
     "metadata": {
      "needs_background": "light"
     },
     "output_type": "display_data"
    },
    {
     "data": {
      "image/png": "[encoded data removed]",
      "text/plain": [
       "<Figure size 1440x720 with 5 Axes>"
      ]
     },
     "metadata": {
      "needs_background": "light"
     },
     "output_type": "display_data"
    },
    {
     "data": {
      "image/png": "[encoded data removed]",
      "text/plain": [
       "<Figure size 1440x720 with 5 Axes>"
      ]
     },
     "metadata": {
      "needs_background": "light"
     },
     "output_type": "display_data"
    }
   ],
   "source": [
    "dataset_show = cifarDataset(train_df, transform=transforms_train)\n",
    "from pylab import rcParams\n",
    "rcParams['figure.figsize'] = 20,10\n",
    "for i in range(3):\n",
    "    f, axarr = plt.subplots(1,5)\n",
    "    for p in range(5):\n",
    "        idx = np.random.randint(0, len(dataset_show))\n",
    "        img, label = dataset_show[idx]\n",
    "        img = img.flip(0) #BGR2RGB\n",
    "        axarr[p].imshow(img.transpose(0,1).transpose(1,2))\n",
    "        axarr[p].set_title(str(label))\n",
    "plt.show()"
   ]
  },
  {
   "cell_type": "code",
   "execution_count": 7,
   "id": "be374443",
   "metadata": {},
   "outputs": [],
   "source": [
    "scaler = torch.cuda.amp.GradScaler(enabled=True)\n",
    "def train(train_loader, model, criterion, optimizer, epoch):\n",
    "    \"\"\"\n",
    "        Run one train epoch\n",
    "    \"\"\"\n",
    "    batch_time = AverageMeter()\n",
    "    data_time = AverageMeter()\n",
    "    losses = AverageMeter()\n",
    "    top1 = AverageMeter()\n",
    "\n",
    "    # switch to train mode\n",
    "    model.train()\n",
    "\n",
    "    end = time.time()\n",
    "    lambda_alpha = 0.002\n",
    "    for i, (input, target) in enumerate(tqdm(train_loader)):\n",
    "        # measure data loading time\n",
    "        data_time.update(time.time() - end)\n",
    "        target2 = target\n",
    "\n",
    "        target = target.long().cuda()\n",
    "        target2 = target2.long().cuda()\n",
    "        input_var = input.cuda()\n",
    "        target_var = target\n",
    "\n",
    "        if not mixup:\n",
    "          alpha = 0\n",
    "        else:\n",
    "          alpha = 1\n",
    "        \n",
    "\n",
    "        # compute output\n",
    "        with torch.cuda.amp.autocast(enabled=True):\n",
    "            output = model(input_var)\n",
    "            loss = criterion(output, target_var)\n",
    "        scaler.scale(loss).backward()\n",
    "        scaler.step(optimizer)\n",
    "        scaler.update()\n",
    "        optimizer.zero_grad()\n",
    "\n",
    "        output = output.float()\n",
    "        loss = loss.float()\n",
    "        # measure accuracy and record loss\n",
    "        prec1 = accuracy(output.data, target)[0]\n",
    "        losses.update(loss.item(), input.size(0))\n",
    "        top1.update(prec1.item(), input.size(0))\n",
    "\n",
    "        # measure elapsed time\n",
    "        batch_time.update(time.time() - end)\n",
    "        end = time.time()\n",
    "\n",
    "        if i % print_freq == 0:\n",
    "            print('Epoch: [{0}][{1}/{2}]\\t'\n",
    "                  'Time {batch_time.val:.3f} ({batch_time.avg:.3f})\\t'\n",
    "                  'Data {data_time.val:.3f} ({data_time.avg:.3f})\\t'\n",
    "                  'Loss {loss.val:.4f} ({loss.avg:.4f})\\t'\n",
    "                  'Prec@1 {top1.val:.3f} ({top1.avg:.3f})'.format(\n",
    "                      epoch, i, len(train_loader), batch_time=batch_time,\n",
    "                      data_time=data_time, loss=losses, top1=top1))\n",
    "    return losses.avg\n",
    "\n",
    "def validate(val_loader, model, criterion):\n",
    "    \"\"\"\n",
    "    Run evaluation\n",
    "    \"\"\"\n",
    "    batch_time = AverageMeter()\n",
    "    losses = AverageMeter()\n",
    "    top1 = AverageMeter()\n",
    "\n",
    "    # switch to evaluate mode\n",
    "    model.eval()\n",
    "\n",
    "    end = time.time()\n",
    "    with torch.no_grad():\n",
    "        for i, (input, target) in enumerate(val_loader):\n",
    "            target = target.long().cuda()\n",
    "            input_var = input.cuda()\n",
    "            target_var = target.cuda()\n",
    "\n",
    "            # compute output\n",
    "            output = model(input_var)\n",
    "            loss = criterion(output, target_var)\n",
    "\n",
    "            output = output.float()\n",
    "            loss = loss.float()\n",
    "\n",
    "            # measure accuracy and record loss\n",
    "            prec1 = accuracy(output.data, target)[0]\n",
    "            losses.update(loss.item(), input.size(0))\n",
    "            top1.update(prec1.item(), input.size(0))\n",
    "\n",
    "            # measure elapsed time\n",
    "            batch_time.update(time.time() - end)\n",
    "            end = time.time()\n",
    "\n",
    "            if i % print_freq == 0:\n",
    "                print('Test: [{0}/{1}]\\t'\n",
    "                      'Time {batch_time.val:.3f} ({batch_time.avg:.3f})\\t'\n",
    "                      'Loss {loss.val:.4f} ({loss.avg:.4f})\\t'\n",
    "                      'Prec@1 {top1.val:.3f} ({top1.avg:.3f})'.format(\n",
    "                          i, len(val_loader), batch_time=batch_time, loss=losses,\n",
    "                          top1=top1))\n",
    "\n",
    "    print(' * Prec@1 {top1.avg:.3f}'\n",
    "          .format(top1=top1))\n",
    "    for name, param in model.named_parameters():\n",
    "        if \"alpha\" in name:\n",
    "            print(name, param.item())\n",
    "    return top1.avg, losses.avg\n",
    "\n",
    "def save_checkpoint(state, filename='checkpoint.pth'):\n",
    "    \"\"\"\n",
    "    Save the training model\n",
    "    \"\"\"\n",
    "    torch.save(state, filename)\n",
    "\n",
    "class AverageMeter(object):\n",
    "    \"\"\"Computes and stores the average and current value\"\"\"\n",
    "    def __init__(self):\n",
    "        self.reset()\n",
    "\n",
    "    def reset(self):\n",
    "        self.val = 0\n",
    "        self.avg = 0\n",
    "        self.sum = 0\n",
    "        self.count = 0\n",
    "\n",
    "    def update(self, val, n=1):\n",
    "        self.val = val\n",
    "        self.sum += val * n\n",
    "        self.count += n\n",
    "        self.avg = self.sum / self.count\n",
    "\n",
    "\n",
    "def accuracy(output, target, topk=(1,)):\n",
    "    \"\"\"Computes the precision@k for the specified values of k\"\"\"\n",
    "    maxk = max(topk)\n",
    "    batch_size = target.size(0)\n",
    "\n",
    "    _, pred = output.topk(maxk, 1, True, True)\n",
    "    pred = pred.t()\n",
    "    correct = pred.eq(target.view(1, -1).expand_as(pred))\n",
    "\n",
    "    res = []\n",
    "    for k in topk:\n",
    "        correct_k = correct[:k].view(-1).float().sum(0)\n",
    "        res.append(correct_k.mul_(100.0 / batch_size))\n",
    "    return res"
   ]
  },
  {
   "cell_type": "code",
   "execution_count": 8,
   "id": "6f005fd3",
   "metadata": {},
   "outputs": [],
   "source": [
    "train_dataset = cifarDataset(train_df[train_df.fold!=0], transform=transforms_train)\n",
    "val_dataset = cifarDataset(train_df[train_df.fold==0], transform=transforms_val, test=True)\n",
    "\n",
    "train_loader = torch.utils.data.DataLoader(\n",
    "        train_dataset,\n",
    "        batch_size=1024, shuffle=True,\n",
    "        num_workers=8, pin_memory=True)\n",
    "\n",
    "val_loader = torch.utils.data.DataLoader(\n",
    "    val_dataset,\n",
    "    batch_size=1024, shuffle=False,\n",
    "    num_workers=8, pin_memory=True)"
   ]
  },
  {
   "cell_type": "code",
   "execution_count": 9,
   "id": "a4256dce",
   "metadata": {},
   "outputs": [],
   "source": [
    "from network.convmixer import ConvMixer\n",
    "net = ConvMixer(256, 8, kernel_size=8, patch_size=1, n_classes=10)"
   ]
  },
  {
   "cell_type": "code",
   "execution_count": 10,
   "id": "57c20a9b",
   "metadata": {},
   "outputs": [
    {
     "name": "stderr",
     "output_type": "stream",
     "text": [
      "/home/ken/anaconda3/envs/pytorch_p37/lib/python3.7/site-packages/torch/nn/modules/conv.py:444: UserWarning: Using padding='same' with even kernel lengths and odd dilation may require a zero-padded copy of the input be created (Triggered internally at  /opt/conda/conda-bld/pytorch_1646755953518/work/aten/src/ATen/native/Convolution.cpp:744.)\n",
      "  self.padding, self.dilation, self.groups)\n"
     ]
    },
    {
     "data": {
      "text/plain": [
       "tensor([[-0.0013, -0.0642, -0.0084,  0.0725, -0.0624, -0.0625,  0.0063, -0.0497,\n",
       "          0.0052, -0.0010]], grad_fn=<AddmmBackward0>)"
      ]
     },
     "execution_count": 10,
     "metadata": {},
     "output_type": "execute_result"
    }
   ],
   "source": [
    "net.cpu()\n",
    "net.forward(torch.randn(1,3,32,32))"
   ]
  },
  {
   "cell_type": "code",
   "execution_count": 11,
   "id": "c51fdf6d",
   "metadata": {},
   "outputs": [
    {
     "data": {
      "text/plain": [
       "'1.11.0'"
      ]
     },
     "execution_count": 11,
     "metadata": {},
     "output_type": "execute_result"
    }
   ],
   "source": [
    "torch.__version__"
   ]
  },
  {
   "cell_type": "markdown",
   "id": "4e27cd90",
   "metadata": {},
   "source": [
    "# Train VIT without quantization"
   ]
  },
  {
   "cell_type": "code",
   "execution_count": null,
   "id": "c40788cb",
   "metadata": {
    "scrolled": true
   },
   "outputs": [
    {
     "name": "stderr",
     "output_type": "stream",
     "text": [
      "\u001b[34m\u001b[1mwandb\u001b[0m: Currently logged in as: \u001b[33marutema47\u001b[0m. Use \u001b[1m`wandb login --relogin`\u001b[0m to force relogin\n"
     ]
    },
    {
     "data": {
      "text/html": [
       "wandb version 0.12.19 is available!  To upgrade, please run:\n",
       " $ pip install wandb --upgrade"
      ],
      "text/plain": [
       "<IPython.core.display.HTML object>"
      ]
     },
     "metadata": {},
     "output_type": "display_data"
    },
    {
     "data": {
      "text/html": [
       "Tracking run with wandb version 0.12.18"
      ],
      "text/plain": [
       "<IPython.core.display.HTML object>"
      ]
     },
     "metadata": {},
     "output_type": "display_data"
    },
    {
     "data": {
      "text/html": [
       "Run data is saved locally in <code>/media/ken/dsk1/data/quantize_models_sandbox/wandb/run-20220623_161340-kmnztgpq</code>"
      ],
      "text/plain": [
       "<IPython.core.display.HTML object>"
      ]
     },
     "metadata": {},
     "output_type": "display_data"
    },
    {
     "data": {
      "text/html": [
       "Syncing run <strong><a href=\"https://wandb.ai/arutema47/pact_vit/runs/kmnztgpq\" target=\"_blank\">convmixer_small</a></strong> to <a href=\"https://wandb.ai/arutema47/pact_vit\" target=\"_blank\">Weights & Biases</a> (<a href=\"https://wandb.me/run\" target=\"_blank\">docs</a>)<br/>"
      ],
      "text/plain": [
       "<IPython.core.display.HTML object>"
      ]
     },
     "metadata": {},
     "output_type": "display_data"
    },
    {
     "name": "stdout",
     "output_type": "stream",
     "text": [
      "current lr 4.00000e-03\n"
     ]
    },
    {
     "data": {
      "application/vnd.jupyter.widget-view+json": {
       "model_id": "4428c31d691d4bf3bb4895445888da88",
       "version_major": 2,
       "version_minor": 0
      },
      "text/plain": [
       "  0%|          | 0/40 [00:00<?, ?it/s]"
      ]
     },
     "metadata": {},
     "output_type": "display_data"
    },
    {
     "name": "stdout",
     "output_type": "stream",
     "text": [
      "Epoch: [0][0/40]\tTime 2.643 (2.643)\tData 1.267 (1.267)\tLoss 2.3223 (2.3223)\tPrec@1 7.422 (7.422)\n"
     ]
    },
    {
     "name": "stderr",
     "output_type": "stream",
     "text": [
      "/home/ken/anaconda3/envs/pytorch_p37/lib/python3.7/site-packages/torch/optim/lr_scheduler.py:156: UserWarning: The epoch parameter in `scheduler.step()` was not necessary and is being deprecated where possible. Please use `scheduler.step()` to step the scheduler. During the deprecation, if epoch is different from None, the closed form is used instead of the new chainable form, where available. Please open an issue if you are unable to replicate your use case: https://github.com/pytorch/pytorch/issues/new/choose.\n",
      "  warnings.warn(EPOCH_DEPRECATION_WARNING, UserWarning)\n"
     ]
    },
    {
     "name": "stdout",
     "output_type": "stream",
     "text": [
      "Test: [0/10]\tTime 0.792 (0.792)\tLoss 1.7790 (1.7790)\tPrec@1 35.645 (35.645)\n",
      " * Prec@1 37.090\n",
      "Best prec1 :  37.090000122070315\n",
      "current lr 4.00000e-03\n"
     ]
    },
    {
     "data": {
      "application/vnd.jupyter.widget-view+json": {
       "model_id": "e1fb8e4b265c4fac9a278e434d9ebe18",
       "version_major": 2,
       "version_minor": 0
      },
      "text/plain": [
       "  0%|          | 0/40 [00:00<?, ?it/s]"
      ]
     },
     "metadata": {},
     "output_type": "display_data"
    },
    {
     "name": "stdout",
     "output_type": "stream",
     "text": [
      "Epoch: [1][0/40]\tTime 1.934 (1.934)\tData 1.310 (1.310)\tLoss 1.6196 (1.6196)\tPrec@1 41.113 (41.113)\n",
      "Test: [0/10]\tTime 0.777 (0.777)\tLoss 1.4148 (1.4148)\tPrec@1 49.121 (49.121)\n",
      " * Prec@1 50.220\n",
      "Best prec1 :  50.21999984130859\n",
      "current lr 3.99901e-03\n"
     ]
    },
    {
     "data": {
      "application/vnd.jupyter.widget-view+json": {
       "model_id": "8afeb8eb980a49eca9795eab09d451fd",
       "version_major": 2,
       "version_minor": 0
      },
      "text/plain": [
       "  0%|          | 0/40 [00:00<?, ?it/s]"
      ]
     },
     "metadata": {},
     "output_type": "display_data"
    },
    {
     "name": "stdout",
     "output_type": "stream",
     "text": [
      "Epoch: [2][0/40]\tTime 1.739 (1.739)\tData 1.104 (1.104)\tLoss 1.4494 (1.4494)\tPrec@1 47.266 (47.266)\n",
      "Test: [0/10]\tTime 0.765 (0.765)\tLoss 1.1930 (1.1930)\tPrec@1 57.129 (57.129)\n",
      " * Prec@1 56.700\n",
      "Best prec1 :  56.69999997558594\n",
      "current lr 3.99605e-03\n"
     ]
    },
    {
     "data": {
      "application/vnd.jupyter.widget-view+json": {
       "model_id": "e701b3f73ada4bf58c1c9d13c5b88abc",
       "version_major": 2,
       "version_minor": 0
      },
      "text/plain": [
       "  0%|          | 0/40 [00:00<?, ?it/s]"
      ]
     },
     "metadata": {},
     "output_type": "display_data"
    },
    {
     "name": "stdout",
     "output_type": "stream",
     "text": [
      "Epoch: [3][0/40]\tTime 1.901 (1.901)\tData 1.268 (1.268)\tLoss 1.3554 (1.3554)\tPrec@1 51.172 (51.172)\n",
      "Test: [0/10]\tTime 0.900 (0.900)\tLoss 1.0672 (1.0672)\tPrec@1 62.109 (62.109)\n",
      " * Prec@1 61.670\n",
      "Best prec1 :  61.66999993896484\n",
      "current lr 3.99112e-03\n"
     ]
    },
    {
     "data": {
      "application/vnd.jupyter.widget-view+json": {
       "model_id": "8a24050e0b104cfeaa8192a620520056",
       "version_major": 2,
       "version_minor": 0
      },
      "text/plain": [
       "  0%|          | 0/40 [00:00<?, ?it/s]"
      ]
     },
     "metadata": {},
     "output_type": "display_data"
    },
    {
     "name": "stdout",
     "output_type": "stream",
     "text": [
      "Epoch: [4][0/40]\tTime 1.984 (1.984)\tData 1.356 (1.356)\tLoss 1.2209 (1.2209)\tPrec@1 57.422 (57.422)\n",
      "Test: [0/10]\tTime 0.891 (0.891)\tLoss 0.9778 (0.9778)\tPrec@1 65.723 (65.723)\n",
      " * Prec@1 64.610\n",
      "Best prec1 :  64.6100002319336\n",
      "current lr 3.98423e-03\n"
     ]
    },
    {
     "data": {
      "application/vnd.jupyter.widget-view+json": {
       "model_id": "3c0c2732e9cc404db130a3935050605f",
       "version_major": 2,
       "version_minor": 0
      },
      "text/plain": [
       "  0%|          | 0/40 [00:00<?, ?it/s]"
      ]
     },
     "metadata": {},
     "output_type": "display_data"
    },
    {
     "name": "stdout",
     "output_type": "stream",
     "text": [
      "Epoch: [5][0/40]\tTime 1.878 (1.878)\tData 1.249 (1.249)\tLoss 1.1069 (1.1069)\tPrec@1 60.156 (60.156)\n",
      "Test: [0/10]\tTime 0.812 (0.812)\tLoss 0.9427 (0.9427)\tPrec@1 66.406 (66.406)\n",
      " * Prec@1 64.890\n",
      "Best prec1 :  64.88999995117187\n",
      "current lr 3.97538e-03\n"
     ]
    },
    {
     "data": {
      "application/vnd.jupyter.widget-view+json": {
       "model_id": "2b7e644e7abc4b23a4c5f9e577675cf7",
       "version_major": 2,
       "version_minor": 0
      },
      "text/plain": [
       "  0%|          | 0/40 [00:00<?, ?it/s]"
      ]
     },
     "metadata": {},
     "output_type": "display_data"
    },
    {
     "name": "stdout",
     "output_type": "stream",
     "text": [
      "Epoch: [6][0/40]\tTime 1.690 (1.690)\tData 1.056 (1.056)\tLoss 1.0845 (1.0845)\tPrec@1 60.938 (60.938)\n",
      "Test: [0/10]\tTime 0.884 (0.884)\tLoss 0.8034 (0.8034)\tPrec@1 71.973 (71.973)\n",
      " * Prec@1 70.100\n",
      "Best prec1 :  70.09999965820313\n",
      "current lr 3.96457e-03\n"
     ]
    },
    {
     "data": {
      "application/vnd.jupyter.widget-view+json": {
       "model_id": "8c294bb9093f4e048849165099c92547",
       "version_major": 2,
       "version_minor": 0
      },
      "text/plain": [
       "  0%|          | 0/40 [00:00<?, ?it/s]"
      ]
     },
     "metadata": {},
     "output_type": "display_data"
    },
    {
     "name": "stdout",
     "output_type": "stream",
     "text": [
      "Epoch: [7][0/40]\tTime 1.922 (1.922)\tData 1.296 (1.296)\tLoss 0.9996 (0.9996)\tPrec@1 63.379 (63.379)\n",
      "Test: [0/10]\tTime 0.819 (0.819)\tLoss 0.8775 (0.8775)\tPrec@1 70.215 (70.215)\n",
      " * Prec@1 69.560\n",
      "Best prec1 :  70.09999965820313\n",
      "current lr 3.95183e-03\n"
     ]
    },
    {
     "data": {
      "application/vnd.jupyter.widget-view+json": {
       "model_id": "59bfe04d44fd45b5a23fe4be393eb4b0",
       "version_major": 2,
       "version_minor": 0
      },
      "text/plain": [
       "  0%|          | 0/40 [00:00<?, ?it/s]"
      ]
     },
     "metadata": {},
     "output_type": "display_data"
    },
    {
     "name": "stdout",
     "output_type": "stream",
     "text": [
      "Epoch: [8][0/40]\tTime 1.904 (1.904)\tData 1.274 (1.274)\tLoss 1.0374 (1.0374)\tPrec@1 64.258 (64.258)\n",
      "Test: [0/10]\tTime 0.838 (0.838)\tLoss 0.7946 (0.7946)\tPrec@1 72.949 (72.949)\n",
      " * Prec@1 71.500\n",
      "Best prec1 :  71.49999973144531\n",
      "current lr 3.93717e-03\n"
     ]
    },
    {
     "data": {
      "application/vnd.jupyter.widget-view+json": {
       "model_id": "05cbc971184647ca80b7f0885912da41",
       "version_major": 2,
       "version_minor": 0
      },
      "text/plain": [
       "  0%|          | 0/40 [00:00<?, ?it/s]"
      ]
     },
     "metadata": {},
     "output_type": "display_data"
    },
    {
     "name": "stdout",
     "output_type": "stream",
     "text": [
      "Epoch: [9][0/40]\tTime 1.643 (1.643)\tData 1.015 (1.015)\tLoss 0.9588 (0.9588)\tPrec@1 64.844 (64.844)\n",
      "Test: [0/10]\tTime 0.764 (0.764)\tLoss 0.8257 (0.8257)\tPrec@1 70.605 (70.605)\n",
      " * Prec@1 70.410\n",
      "Best prec1 :  71.49999973144531\n",
      "current lr 3.92059e-03\n"
     ]
    },
    {
     "data": {
      "application/vnd.jupyter.widget-view+json": {
       "model_id": "9e5120c4ee5248018929c2ce420af830",
       "version_major": 2,
       "version_minor": 0
      },
      "text/plain": [
       "  0%|          | 0/40 [00:00<?, ?it/s]"
      ]
     },
     "metadata": {},
     "output_type": "display_data"
    },
    {
     "name": "stdout",
     "output_type": "stream",
     "text": [
      "Epoch: [10][0/40]\tTime 1.738 (1.738)\tData 1.111 (1.111)\tLoss 0.8828 (0.8828)\tPrec@1 68.945 (68.945)\n",
      "Test: [0/10]\tTime 0.778 (0.778)\tLoss 0.7593 (0.7593)\tPrec@1 74.023 (74.023)\n",
      " * Prec@1 72.560\n",
      "Best prec1 :  72.5599998046875\n",
      "current lr 3.90211e-03\n"
     ]
    },
    {
     "data": {
      "application/vnd.jupyter.widget-view+json": {
       "model_id": "07303e561ddf4136bd01c5b0e87981ed",
       "version_major": 2,
       "version_minor": 0
      },
      "text/plain": [
       "  0%|          | 0/40 [00:00<?, ?it/s]"
      ]
     },
     "metadata": {},
     "output_type": "display_data"
    },
    {
     "name": "stdout",
     "output_type": "stream",
     "text": [
      "Epoch: [11][0/40]\tTime 1.603 (1.603)\tData 0.970 (0.970)\tLoss 0.9185 (0.9185)\tPrec@1 69.531 (69.531)\n",
      "Test: [0/10]\tTime 0.867 (0.867)\tLoss 0.6063 (0.6063)\tPrec@1 79.102 (79.102)\n",
      " * Prec@1 77.320\n",
      "Best prec1 :  77.32000020751953\n",
      "current lr 3.88176e-03\n"
     ]
    },
    {
     "data": {
      "application/vnd.jupyter.widget-view+json": {
       "model_id": "d122abb2ce974426830883d58c24c1fc",
       "version_major": 2,
       "version_minor": 0
      },
      "text/plain": [
       "  0%|          | 0/40 [00:00<?, ?it/s]"
      ]
     },
     "metadata": {},
     "output_type": "display_data"
    },
    {
     "name": "stdout",
     "output_type": "stream",
     "text": [
      "Epoch: [12][0/40]\tTime 1.539 (1.539)\tData 0.900 (0.900)\tLoss 0.8084 (0.8084)\tPrec@1 71.289 (71.289)\n",
      "Test: [0/10]\tTime 0.758 (0.758)\tLoss 0.5869 (0.5869)\tPrec@1 78.320 (78.320)\n",
      " * Prec@1 78.140\n",
      "Best prec1 :  78.13999970703125\n",
      "current lr 3.85955e-03\n"
     ]
    },
    {
     "data": {
      "application/vnd.jupyter.widget-view+json": {
       "model_id": "6a853ca5092c44b6b3eb098adcc0033e",
       "version_major": 2,
       "version_minor": 0
      },
      "text/plain": [
       "  0%|          | 0/40 [00:00<?, ?it/s]"
      ]
     },
     "metadata": {},
     "output_type": "display_data"
    },
    {
     "name": "stdout",
     "output_type": "stream",
     "text": [
      "Epoch: [13][0/40]\tTime 1.554 (1.554)\tData 0.924 (0.924)\tLoss 0.7595 (0.7595)\tPrec@1 74.023 (74.023)\n",
      "Test: [0/10]\tTime 0.761 (0.761)\tLoss 0.6521 (0.6521)\tPrec@1 77.051 (77.051)\n",
      " * Prec@1 77.700\n",
      "Best prec1 :  78.13999970703125\n",
      "current lr 3.83551e-03\n"
     ]
    },
    {
     "data": {
      "application/vnd.jupyter.widget-view+json": {
       "model_id": "442e130b0acf4cebbb9e706f7f424c56",
       "version_major": 2,
       "version_minor": 0
      },
      "text/plain": [
       "  0%|          | 0/40 [00:00<?, ?it/s]"
      ]
     },
     "metadata": {},
     "output_type": "display_data"
    },
    {
     "name": "stdout",
     "output_type": "stream",
     "text": [
      "Epoch: [14][0/40]\tTime 1.745 (1.745)\tData 1.112 (1.112)\tLoss 0.7597 (0.7597)\tPrec@1 74.707 (74.707)\n",
      "Test: [0/10]\tTime 0.832 (0.832)\tLoss 0.6061 (0.6061)\tPrec@1 79.883 (79.883)\n",
      " * Prec@1 78.040\n",
      "Best prec1 :  78.13999970703125\n",
      "current lr 3.80965e-03\n"
     ]
    },
    {
     "data": {
      "application/vnd.jupyter.widget-view+json": {
       "model_id": "c7e49b3488874993b55abffe5025e290",
       "version_major": 2,
       "version_minor": 0
      },
      "text/plain": [
       "  0%|          | 0/40 [00:00<?, ?it/s]"
      ]
     },
     "metadata": {},
     "output_type": "display_data"
    },
    {
     "name": "stdout",
     "output_type": "stream",
     "text": [
      "Epoch: [15][0/40]\tTime 1.527 (1.527)\tData 0.898 (0.898)\tLoss 0.7437 (0.7437)\tPrec@1 74.805 (74.805)\n",
      "Test: [0/10]\tTime 0.760 (0.760)\tLoss 0.5372 (0.5372)\tPrec@1 79.297 (79.297)\n",
      " * Prec@1 80.000\n",
      "Best prec1 :  80.00000012207032\n",
      "current lr 3.78201e-03\n"
     ]
    },
    {
     "data": {
      "application/vnd.jupyter.widget-view+json": {
       "model_id": "9e5b673e55144e79aa5bce3b50f3f50e",
       "version_major": 2,
       "version_minor": 0
      },
      "text/plain": [
       "  0%|          | 0/40 [00:00<?, ?it/s]"
      ]
     },
     "metadata": {},
     "output_type": "display_data"
    },
    {
     "name": "stdout",
     "output_type": "stream",
     "text": [
      "Epoch: [16][0/40]\tTime 1.548 (1.548)\tData 0.910 (0.910)\tLoss 0.7544 (0.7544)\tPrec@1 73.438 (73.438)\n",
      "Test: [0/10]\tTime 0.866 (0.866)\tLoss 0.5785 (0.5785)\tPrec@1 79.590 (79.590)\n",
      " * Prec@1 80.160\n",
      "Best prec1 :  80.15999974365235\n",
      "current lr 3.75261e-03\n"
     ]
    },
    {
     "data": {
      "application/vnd.jupyter.widget-view+json": {
       "model_id": "5fc662abc0d44ea89b92c6ea8a52a5cd",
       "version_major": 2,
       "version_minor": 0
      },
      "text/plain": [
       "  0%|          | 0/40 [00:00<?, ?it/s]"
      ]
     },
     "metadata": {},
     "output_type": "display_data"
    },
    {
     "name": "stdout",
     "output_type": "stream",
     "text": [
      "Epoch: [17][0/40]\tTime 1.691 (1.691)\tData 1.059 (1.059)\tLoss 0.7420 (0.7420)\tPrec@1 74.023 (74.023)\n",
      "Test: [0/10]\tTime 0.818 (0.818)\tLoss 0.5322 (0.5322)\tPrec@1 81.543 (81.543)\n",
      " * Prec@1 80.820\n",
      "Best prec1 :  80.8200001586914\n",
      "current lr 3.72148e-03\n"
     ]
    },
    {
     "data": {
      "application/vnd.jupyter.widget-view+json": {
       "model_id": "2403db20d7d646df90072533960de161",
       "version_major": 2,
       "version_minor": 0
      },
      "text/plain": [
       "  0%|          | 0/40 [00:00<?, ?it/s]"
      ]
     },
     "metadata": {},
     "output_type": "display_data"
    },
    {
     "name": "stdout",
     "output_type": "stream",
     "text": [
      "Epoch: [18][0/40]\tTime 1.806 (1.806)\tData 1.181 (1.181)\tLoss 0.6770 (0.6770)\tPrec@1 77.148 (77.148)\n",
      "Test: [0/10]\tTime 0.862 (0.862)\tLoss 0.4836 (0.4836)\tPrec@1 82.227 (82.227)\n",
      " * Prec@1 81.750\n",
      "Best prec1 :  81.74999997558594\n",
      "current lr 3.68866e-03\n"
     ]
    },
    {
     "data": {
      "application/vnd.jupyter.widget-view+json": {
       "model_id": "0f02210483214af5a9eeff7fc8d84441",
       "version_major": 2,
       "version_minor": 0
      },
      "text/plain": [
       "  0%|          | 0/40 [00:00<?, ?it/s]"
      ]
     },
     "metadata": {},
     "output_type": "display_data"
    },
    {
     "name": "stdout",
     "output_type": "stream",
     "text": [
      "Epoch: [19][0/40]\tTime 1.906 (1.906)\tData 1.272 (1.272)\tLoss 0.7002 (0.7002)\tPrec@1 73.438 (73.438)\n",
      "Test: [0/10]\tTime 0.800 (0.800)\tLoss 0.4907 (0.4907)\tPrec@1 82.520 (82.520)\n",
      " * Prec@1 82.660\n",
      "Best prec1 :  82.65999985351563\n",
      "current lr 3.65416e-03\n"
     ]
    },
    {
     "data": {
      "application/vnd.jupyter.widget-view+json": {
       "model_id": "832d954d7a88416b9481d0b9342c48eb",
       "version_major": 2,
       "version_minor": 0
      },
      "text/plain": [
       "  0%|          | 0/40 [00:00<?, ?it/s]"
      ]
     },
     "metadata": {},
     "output_type": "display_data"
    },
    {
     "name": "stdout",
     "output_type": "stream",
     "text": [
      "Epoch: [20][0/40]\tTime 1.879 (1.879)\tData 1.252 (1.252)\tLoss 0.5845 (0.5845)\tPrec@1 79.297 (79.297)\n",
      "Test: [0/10]\tTime 0.770 (0.770)\tLoss 0.5002 (0.5002)\tPrec@1 81.738 (81.738)\n",
      " * Prec@1 82.040\n",
      "Best prec1 :  82.65999985351563\n",
      "current lr 3.61803e-03\n"
     ]
    },
    {
     "data": {
      "application/vnd.jupyter.widget-view+json": {
       "model_id": "f9de0bbf65c14decbc5f2b9ac44db0a6",
       "version_major": 2,
       "version_minor": 0
      },
      "text/plain": [
       "  0%|          | 0/40 [00:00<?, ?it/s]"
      ]
     },
     "metadata": {},
     "output_type": "display_data"
    },
    {
     "name": "stdout",
     "output_type": "stream",
     "text": [
      "Epoch: [21][0/40]\tTime 1.971 (1.971)\tData 1.344 (1.344)\tLoss 0.7155 (0.7155)\tPrec@1 76.465 (76.465)\n",
      "Test: [0/10]\tTime 0.877 (0.877)\tLoss 0.4801 (0.4801)\tPrec@1 83.398 (83.398)\n",
      " * Prec@1 81.650\n",
      "Best prec1 :  82.65999985351563\n",
      "current lr 3.58031e-03\n"
     ]
    },
    {
     "data": {
      "application/vnd.jupyter.widget-view+json": {
       "model_id": "53bfb3ee702b49b8a604a5b09b31c169",
       "version_major": 2,
       "version_minor": 0
      },
      "text/plain": [
       "  0%|          | 0/40 [00:00<?, ?it/s]"
      ]
     },
     "metadata": {},
     "output_type": "display_data"
    },
    {
     "name": "stdout",
     "output_type": "stream",
     "text": [
      "Epoch: [22][0/40]\tTime 1.863 (1.863)\tData 1.230 (1.230)\tLoss 0.5839 (0.5839)\tPrec@1 80.176 (80.176)\n",
      "Test: [0/10]\tTime 0.751 (0.751)\tLoss 0.4563 (0.4563)\tPrec@1 85.059 (85.059)\n",
      " * Prec@1 83.660\n",
      "Best prec1 :  83.65999985351563\n",
      "current lr 3.54103e-03\n"
     ]
    },
    {
     "data": {
      "application/vnd.jupyter.widget-view+json": {
       "model_id": "e0df1dd5a62b4c9da83c8bbbcce9036f",
       "version_major": 2,
       "version_minor": 0
      },
      "text/plain": [
       "  0%|          | 0/40 [00:00<?, ?it/s]"
      ]
     },
     "metadata": {},
     "output_type": "display_data"
    },
    {
     "name": "stdout",
     "output_type": "stream",
     "text": [
      "Epoch: [23][0/40]\tTime 1.865 (1.865)\tData 1.237 (1.237)\tLoss 0.5978 (0.5978)\tPrec@1 79.297 (79.297)\n",
      "Test: [0/10]\tTime 0.886 (0.886)\tLoss 0.4109 (0.4109)\tPrec@1 85.547 (85.547)\n",
      " * Prec@1 83.850\n",
      "Best prec1 :  83.85000023193359\n",
      "current lr 3.50022e-03\n"
     ]
    },
    {
     "data": {
      "application/vnd.jupyter.widget-view+json": {
       "model_id": "09618d26246743b18a4c95f9619cc87b",
       "version_major": 2,
       "version_minor": 0
      },
      "text/plain": [
       "  0%|          | 0/40 [00:00<?, ?it/s]"
      ]
     },
     "metadata": {},
     "output_type": "display_data"
    },
    {
     "name": "stdout",
     "output_type": "stream",
     "text": [
      "Epoch: [24][0/40]\tTime 1.634 (1.634)\tData 0.999 (0.999)\tLoss 0.6572 (0.6572)\tPrec@1 77.246 (77.246)\n",
      "Test: [0/10]\tTime 0.780 (0.780)\tLoss 0.4700 (0.4700)\tPrec@1 83.691 (83.691)\n",
      " * Prec@1 82.330\n",
      "Best prec1 :  83.85000023193359\n",
      "current lr 3.45794e-03\n"
     ]
    },
    {
     "data": {
      "application/vnd.jupyter.widget-view+json": {
       "model_id": "d4cf60eea61f4e0381940eb92701d311",
       "version_major": 2,
       "version_minor": 0
      },
      "text/plain": [
       "  0%|          | 0/40 [00:00<?, ?it/s]"
      ]
     },
     "metadata": {},
     "output_type": "display_data"
    },
    {
     "name": "stdout",
     "output_type": "stream",
     "text": [
      "Epoch: [25][0/40]\tTime 1.896 (1.896)\tData 1.264 (1.264)\tLoss 0.6152 (0.6152)\tPrec@1 79.980 (79.980)\n",
      "Test: [0/10]\tTime 0.771 (0.771)\tLoss 0.4373 (0.4373)\tPrec@1 83.691 (83.691)\n",
      " * Prec@1 83.180\n",
      "Best prec1 :  83.85000023193359\n",
      "current lr 3.41421e-03\n"
     ]
    },
    {
     "data": {
      "application/vnd.jupyter.widget-view+json": {
       "model_id": "3894aebe26c3416bab21ec00cc73a964",
       "version_major": 2,
       "version_minor": 0
      },
      "text/plain": [
       "  0%|          | 0/40 [00:00<?, ?it/s]"
      ]
     },
     "metadata": {},
     "output_type": "display_data"
    },
    {
     "name": "stdout",
     "output_type": "stream",
     "text": [
      "Epoch: [26][0/40]\tTime 1.578 (1.578)\tData 0.937 (0.937)\tLoss 0.5628 (0.5628)\tPrec@1 79.688 (79.688)\n",
      "Test: [0/10]\tTime 0.779 (0.779)\tLoss 0.4489 (0.4489)\tPrec@1 83.789 (83.789)\n",
      " * Prec@1 83.760\n",
      "Best prec1 :  83.85000023193359\n",
      "current lr 3.36909e-03\n"
     ]
    },
    {
     "data": {
      "application/vnd.jupyter.widget-view+json": {
       "model_id": "a1c1b6a9ed2d445083dc364ad92ef64f",
       "version_major": 2,
       "version_minor": 0
      },
      "text/plain": [
       "  0%|          | 0/40 [00:00<?, ?it/s]"
      ]
     },
     "metadata": {},
     "output_type": "display_data"
    },
    {
     "name": "stdout",
     "output_type": "stream",
     "text": [
      "Epoch: [27][0/40]\tTime 1.643 (1.643)\tData 1.004 (1.004)\tLoss 0.5691 (0.5691)\tPrec@1 79.590 (79.590)\n",
      "Test: [0/10]\tTime 0.790 (0.790)\tLoss 0.4174 (0.4174)\tPrec@1 85.645 (85.645)\n",
      " * Prec@1 84.270\n",
      "Best prec1 :  84.26999991455078\n",
      "current lr 3.32262e-03\n"
     ]
    },
    {
     "data": {
      "application/vnd.jupyter.widget-view+json": {
       "model_id": "44fbe00e8e284f01b652e39b11273ac2",
       "version_major": 2,
       "version_minor": 0
      },
      "text/plain": [
       "  0%|          | 0/40 [00:00<?, ?it/s]"
      ]
     },
     "metadata": {},
     "output_type": "display_data"
    },
    {
     "name": "stdout",
     "output_type": "stream",
     "text": [
      "Epoch: [28][0/40]\tTime 1.599 (1.599)\tData 0.964 (0.964)\tLoss 0.6001 (0.6001)\tPrec@1 79.004 (79.004)\n",
      "Test: [0/10]\tTime 0.901 (0.901)\tLoss 0.4019 (0.4019)\tPrec@1 86.719 (86.719)\n",
      " * Prec@1 84.760\n",
      "Best prec1 :  84.75999985351562\n",
      "current lr 3.27485e-03\n"
     ]
    },
    {
     "data": {
      "application/vnd.jupyter.widget-view+json": {
       "model_id": "7c26d64fc21849069baab1050d3b17f0",
       "version_major": 2,
       "version_minor": 0
      },
      "text/plain": [
       "  0%|          | 0/40 [00:00<?, ?it/s]"
      ]
     },
     "metadata": {},
     "output_type": "display_data"
    },
    {
     "name": "stdout",
     "output_type": "stream",
     "text": [
      "Epoch: [29][0/40]\tTime 1.545 (1.545)\tData 0.910 (0.910)\tLoss 0.5789 (0.5789)\tPrec@1 79.395 (79.395)\n",
      "Test: [0/10]\tTime 0.792 (0.792)\tLoss 0.3945 (0.3945)\tPrec@1 86.230 (86.230)\n",
      " * Prec@1 85.300\n",
      "Best prec1 :  85.29999989013672\n",
      "current lr 3.22581e-03\n"
     ]
    },
    {
     "data": {
      "application/vnd.jupyter.widget-view+json": {
       "model_id": "a1cd16994d3d492984188f79a79290ac",
       "version_major": 2,
       "version_minor": 0
      },
      "text/plain": [
       "  0%|          | 0/40 [00:00<?, ?it/s]"
      ]
     },
     "metadata": {},
     "output_type": "display_data"
    },
    {
     "name": "stdout",
     "output_type": "stream",
     "text": [
      "Epoch: [30][0/40]\tTime 1.737 (1.737)\tData 1.107 (1.107)\tLoss 0.5411 (0.5411)\tPrec@1 80.371 (80.371)\n",
      "Test: [0/10]\tTime 0.790 (0.790)\tLoss 0.4097 (0.4097)\tPrec@1 86.426 (86.426)\n",
      " * Prec@1 84.660\n",
      "Best prec1 :  85.29999989013672\n",
      "current lr 3.17557e-03\n"
     ]
    },
    {
     "data": {
      "application/vnd.jupyter.widget-view+json": {
       "model_id": "2a47d8c631604e70ad343688329347c9",
       "version_major": 2,
       "version_minor": 0
      },
      "text/plain": [
       "  0%|          | 0/40 [00:00<?, ?it/s]"
      ]
     },
     "metadata": {},
     "output_type": "display_data"
    },
    {
     "name": "stdout",
     "output_type": "stream",
     "text": [
      "Epoch: [31][0/40]\tTime 1.559 (1.559)\tData 0.928 (0.928)\tLoss 0.5508 (0.5508)\tPrec@1 80.664 (80.664)\n",
      "Test: [0/10]\tTime 0.798 (0.798)\tLoss 0.4294 (0.4294)\tPrec@1 85.254 (85.254)\n",
      " * Prec@1 84.780\n",
      "Best prec1 :  85.29999989013672\n",
      "current lr 3.12417e-03\n"
     ]
    },
    {
     "data": {
      "application/vnd.jupyter.widget-view+json": {
       "model_id": "a5c4e7e538994412b08be2db14f6b113",
       "version_major": 2,
       "version_minor": 0
      },
      "text/plain": [
       "  0%|          | 0/40 [00:00<?, ?it/s]"
      ]
     },
     "metadata": {},
     "output_type": "display_data"
    },
    {
     "name": "stdout",
     "output_type": "stream",
     "text": [
      "Epoch: [32][0/40]\tTime 1.771 (1.771)\tData 1.141 (1.141)\tLoss 0.5504 (0.5504)\tPrec@1 81.055 (81.055)\n",
      "Test: [0/10]\tTime 0.785 (0.785)\tLoss 0.4071 (0.4071)\tPrec@1 85.938 (85.938)\n",
      " * Prec@1 85.300\n",
      "Best prec1 :  85.30000020751953\n",
      "current lr 3.07165e-03\n"
     ]
    },
    {
     "data": {
      "application/vnd.jupyter.widget-view+json": {
       "model_id": "89946112fdd843eea05e916931628d5e",
       "version_major": 2,
       "version_minor": 0
      },
      "text/plain": [
       "  0%|          | 0/40 [00:00<?, ?it/s]"
      ]
     },
     "metadata": {},
     "output_type": "display_data"
    },
    {
     "name": "stdout",
     "output_type": "stream",
     "text": [
      "Epoch: [33][0/40]\tTime 1.736 (1.736)\tData 1.108 (1.108)\tLoss 0.5218 (0.5218)\tPrec@1 82.129 (82.129)\n",
      "Test: [0/10]\tTime 0.775 (0.775)\tLoss 0.3935 (0.3935)\tPrec@1 86.426 (86.426)\n",
      " * Prec@1 86.150\n",
      "Best prec1 :  86.14999974365234\n",
      "current lr 3.01808e-03\n"
     ]
    },
    {
     "data": {
      "application/vnd.jupyter.widget-view+json": {
       "model_id": "093da710ffbb48fc80bbd7f3fee45f98",
       "version_major": 2,
       "version_minor": 0
      },
      "text/plain": [
       "  0%|          | 0/40 [00:00<?, ?it/s]"
      ]
     },
     "metadata": {},
     "output_type": "display_data"
    },
    {
     "name": "stdout",
     "output_type": "stream",
     "text": [
      "Epoch: [34][0/40]\tTime 1.633 (1.633)\tData 1.002 (1.002)\tLoss 0.5778 (0.5778)\tPrec@1 79.492 (79.492)\n",
      "Test: [0/10]\tTime 0.807 (0.807)\tLoss 0.4074 (0.4074)\tPrec@1 86.133 (86.133)\n",
      " * Prec@1 85.210\n",
      "Best prec1 :  86.14999974365234\n",
      "current lr 2.96351e-03\n"
     ]
    },
    {
     "data": {
      "application/vnd.jupyter.widget-view+json": {
       "model_id": "6a822d37cc2a4de4b35b64538f13042c",
       "version_major": 2,
       "version_minor": 0
      },
      "text/plain": [
       "  0%|          | 0/40 [00:00<?, ?it/s]"
      ]
     },
     "metadata": {},
     "output_type": "display_data"
    },
    {
     "name": "stdout",
     "output_type": "stream",
     "text": [
      "Epoch: [35][0/40]\tTime 1.868 (1.868)\tData 1.238 (1.238)\tLoss 0.5203 (0.5203)\tPrec@1 82.910 (82.910)\n",
      "Test: [0/10]\tTime 0.771 (0.771)\tLoss 0.3943 (0.3943)\tPrec@1 86.621 (86.621)\n",
      " * Prec@1 85.990\n",
      "Best prec1 :  86.14999974365234\n",
      "current lr 2.90798e-03\n"
     ]
    },
    {
     "data": {
      "application/vnd.jupyter.widget-view+json": {
       "model_id": "1d596927a62b4cd48f86256cc96713ea",
       "version_major": 2,
       "version_minor": 0
      },
      "text/plain": [
       "  0%|          | 0/40 [00:00<?, ?it/s]"
      ]
     },
     "metadata": {},
     "output_type": "display_data"
    },
    {
     "name": "stdout",
     "output_type": "stream",
     "text": [
      "Epoch: [36][0/40]\tTime 1.724 (1.724)\tData 1.091 (1.091)\tLoss 0.5255 (0.5255)\tPrec@1 80.566 (80.566)\n",
      "Test: [0/10]\tTime 0.862 (0.862)\tLoss 0.3963 (0.3963)\tPrec@1 88.574 (88.574)\n",
      " * Prec@1 85.790\n",
      "Best prec1 :  86.14999974365234\n",
      "current lr 2.85156e-03\n"
     ]
    },
    {
     "data": {
      "application/vnd.jupyter.widget-view+json": {
       "model_id": "fafc96f5577b4c3ebb3323762127a648",
       "version_major": 2,
       "version_minor": 0
      },
      "text/plain": [
       "  0%|          | 0/40 [00:00<?, ?it/s]"
      ]
     },
     "metadata": {},
     "output_type": "display_data"
    },
    {
     "name": "stdout",
     "output_type": "stream",
     "text": [
      "Epoch: [37][0/40]\tTime 1.553 (1.553)\tData 0.921 (0.921)\tLoss 0.4787 (0.4787)\tPrec@1 82.422 (82.422)\n",
      "Test: [0/10]\tTime 0.885 (0.885)\tLoss 0.3745 (0.3745)\tPrec@1 87.207 (87.207)\n",
      " * Prec@1 86.400\n",
      "Best prec1 :  86.39999986572266\n",
      "current lr 2.79430e-03\n"
     ]
    },
    {
     "data": {
      "application/vnd.jupyter.widget-view+json": {
       "model_id": "781e08fa0e5b456fb8246554390e4bc2",
       "version_major": 2,
       "version_minor": 0
      },
      "text/plain": [
       "  0%|          | 0/40 [00:00<?, ?it/s]"
      ]
     },
     "metadata": {},
     "output_type": "display_data"
    },
    {
     "name": "stdout",
     "output_type": "stream",
     "text": [
      "Epoch: [38][0/40]\tTime 1.836 (1.836)\tData 1.205 (1.205)\tLoss 0.5554 (0.5554)\tPrec@1 79.492 (79.492)\n",
      "Test: [0/10]\tTime 0.874 (0.874)\tLoss 0.3741 (0.3741)\tPrec@1 87.793 (87.793)\n",
      " * Prec@1 86.180\n",
      "Best prec1 :  86.39999986572266\n",
      "current lr 2.73625e-03\n"
     ]
    },
    {
     "data": {
      "application/vnd.jupyter.widget-view+json": {
       "model_id": "3e7239542a694f09957a1f898d0daa9b",
       "version_major": 2,
       "version_minor": 0
      },
      "text/plain": [
       "  0%|          | 0/40 [00:00<?, ?it/s]"
      ]
     },
     "metadata": {},
     "output_type": "display_data"
    },
    {
     "name": "stdout",
     "output_type": "stream",
     "text": [
      "Epoch: [39][0/40]\tTime 1.646 (1.646)\tData 1.010 (1.010)\tLoss 0.4694 (0.4694)\tPrec@1 83.203 (83.203)\n",
      "Test: [0/10]\tTime 0.815 (0.815)\tLoss 0.3672 (0.3672)\tPrec@1 86.914 (86.914)\n",
      " * Prec@1 85.540\n",
      "Best prec1 :  86.39999986572266\n",
      "current lr 2.67748e-03\n"
     ]
    },
    {
     "data": {
      "application/vnd.jupyter.widget-view+json": {
       "model_id": "8665216eb99441c7ab194e5e2d0b6d1e",
       "version_major": 2,
       "version_minor": 0
      },
      "text/plain": [
       "  0%|          | 0/40 [00:00<?, ?it/s]"
      ]
     },
     "metadata": {},
     "output_type": "display_data"
    },
    {
     "name": "stdout",
     "output_type": "stream",
     "text": [
      "Epoch: [40][0/40]\tTime 1.549 (1.549)\tData 0.916 (0.916)\tLoss 0.5508 (0.5508)\tPrec@1 83.301 (83.301)\n",
      "Test: [0/10]\tTime 0.871 (0.871)\tLoss 0.3508 (0.3508)\tPrec@1 87.988 (87.988)\n",
      " * Prec@1 86.700\n",
      "Best prec1 :  86.70000008544922\n",
      "current lr 2.61803e-03\n"
     ]
    },
    {
     "data": {
      "application/vnd.jupyter.widget-view+json": {
       "model_id": "623de1d762914093b4851ff52a582fff",
       "version_major": 2,
       "version_minor": 0
      },
      "text/plain": [
       "  0%|          | 0/40 [00:00<?, ?it/s]"
      ]
     },
     "metadata": {},
     "output_type": "display_data"
    },
    {
     "name": "stdout",
     "output_type": "stream",
     "text": [
      "Epoch: [41][0/40]\tTime 1.872 (1.872)\tData 1.237 (1.237)\tLoss 0.5002 (0.5002)\tPrec@1 82.910 (82.910)\n"
     ]
    }
   ],
   "source": [
    "model = net.cuda()\n",
    "mixup = False\n",
    "\n",
    "import wandb\n",
    "watermark = \"convmixer_small\"\n",
    "wandb.init(project=\"pact_vit\",\n",
    "            name=watermark)\n",
    "\n",
    "# define loss function (criterion) and pptimizer\n",
    "criterion = nn.CrossEntropyLoss().cuda()\n",
    "optimizer = torch.optim.Adam(model.parameters(), lr=4e-3)\n",
    "scheduler = torch.optim.lr_scheduler.CosineAnnealingLR(optimizer, 100)\n",
    "\n",
    "best_prec1 = 0\n",
    "os.makedirs(\"models\", exist_ok=True)\n",
    "\n",
    "if NOQUANT_TRAIN:\n",
    "    for epoch in range(100):\n",
    "        # train for one epoch\n",
    "        print('current lr {:.5e}'.format(optimizer.param_groups[0]['lr']))\n",
    "        tloss = train(train_loader, model, criterion, optimizer, epoch)\n",
    "        scheduler.step(epoch)\n",
    "\n",
    "        # evaluate on validation set\n",
    "        prec1, valloss = validate(val_loader, model, criterion)\n",
    "\n",
    "        # wandb\n",
    "        wandb.log({'epoch': epoch, \"prec\":prec1, \"train_loss\": tloss, 'val_loss': valloss, \"lr\": optimizer.param_groups[0][\"lr\"],})\n",
    "\n",
    "        # remember best prec@1 and save checkpoint\n",
    "        is_best = prec1 > best_prec1\n",
    "        best_prec1 = max(prec1, best_prec1)\n",
    "\n",
    "        print(\"Best prec1 : \", best_prec1)\n",
    "        if is_best:\n",
    "            torch.save(model.state_dict(), os.path.join(f'models/{watermark}.pth'))"
   ]
  },
  {
   "cell_type": "markdown",
   "id": "c3f38958",
   "metadata": {},
   "source": [
    "# Train with quantization"
   ]
  },
  {
   "cell_type": "code",
   "execution_count": null,
   "id": "ba9817ad",
   "metadata": {},
   "outputs": [],
   "source": [
    "from module import ActFn\n",
    "\n",
    "# For activation quantization\n",
    "class Activation(nn.Module):\n",
    "    def __init__(self, k):\n",
    "        super().__init__()\n",
    "        self.ActFn = ActFn.apply\n",
    "        self.k = k\n",
    "        self.alpha = nn.Parameter(torch.tensor(10.))\n",
    "    \n",
    "    def forward(self, x):\n",
    "        return self.ActFn(x, self.alpha, self.k)"
   ]
  },
  {
   "cell_type": "code",
   "execution_count": null,
   "id": "bf661401",
   "metadata": {
    "scrolled": true
   },
   "outputs": [],
   "source": [
    "from timm.scheduler import CosineLRScheduler\n",
    "\n",
    "for PACT in [False, True]:\n",
    "    for attenk in [4,5,6]:\n",
    "        for k in [6,7]:\n",
    "            net = vit_small_patch16_224(True, k=k, attenk=attenk, pact=PACT)\n",
    "            net.head = nn.Linear(net.head.in_features, 10)\n",
    "            checkpoint = torch.load(\"models/vit_small_noquant.pth\")\n",
    "            net.load_state_dict(checkpoint, strict=False)\n",
    "\n",
    "            model = net.cuda()\n",
    "            mixup = False\n",
    "\n",
    "            # Track experiment with wandb\n",
    "            import wandb\n",
    "            watermark = \"vit_small_k{}_attenk{}\".format(k, attenk)\n",
    "            if PACT == False:\n",
    "                watermark+=\"_nopact\"\n",
    "            else:\n",
    "                watermark+=\"_pact\"\n",
    "\n",
    "            # mess with wandb\n",
    "            wandb.init(project=\"pact_vit_20220617\", name=watermark)\n",
    "\n",
    "            # define loss function (criterion) and pptimizer\n",
    "            criterion = nn.CrossEntropyLoss().cuda()\n",
    "\n",
    "            # optimizer for pact\n",
    "            optimizer = torch.optim.SGD(model.parameters(), lr=1e-3,\n",
    "                                        momentum=0.9,\n",
    "                                        weight_decay=0.0002)\n",
    "            optimizer = torch.optim.Adam(model.parameters(), lr=1e-5)\n",
    "\n",
    "            scheduler = CosineLRScheduler(optimizer, t_initial=10, lr_min=1e-6, \n",
    "                                  warmup_t=3, warmup_lr_init=1e-6, warmup_prefix=True)\n",
    "\n",
    "            best_prec1 = 0\n",
    "            os.makedirs(\"models\", exist_ok=True)\n",
    "\n",
    "            for epoch in range(10):\n",
    "                scheduler.step(epoch)\n",
    "                # train for one epoch\n",
    "                print('current lr {:.5e}'.format(optimizer.param_groups[0]['lr']))\n",
    "                tloss = train(train_loader, model, criterion, optimizer, epoch)         \n",
    "\n",
    "                # evaluate on validation set\n",
    "                prec1, valloss = validate(val_loader, model, criterion)\n",
    "\n",
    "                # wandb\n",
    "                wandb.log({'epoch': epoch, \"prec\":prec1, \"train_loss\": tloss, 'val_loss': valloss, \"lr\": optimizer.param_groups[0][\"lr\"],})\n",
    "\n",
    "                # remember best prec@1 and save checkpoint\n",
    "                is_best = prec1 > best_prec1\n",
    "                best_prec1 = max(prec1, best_prec1)\n",
    "\n",
    "                print(\"Best prec1 : \", best_prec1)\n",
    "                if is_best:\n",
    "                    torch.save(model.state_dict(), os.path.join(f'models/{watermark}.pth'))"
   ]
  },
  {
   "cell_type": "code",
   "execution_count": null,
   "id": "8998c803",
   "metadata": {},
   "outputs": [],
   "source": [
    "from pact_utils import TorchQuantize\n",
    "len(TorchQuantize(bits=4).forward(torch.rand(1,384)).unique())"
   ]
  },
  {
   "cell_type": "code",
   "execution_count": null,
   "id": "8d894c1f",
   "metadata": {},
   "outputs": [],
   "source": [
    "net.blocks[1].mlp.fc1.forward(torch.rand(1,384).cuda()).unique()"
   ]
  },
  {
   "cell_type": "code",
   "execution_count": null,
   "id": "75eb1382",
   "metadata": {},
   "outputs": [],
   "source": [
    "model.blocks[1].attn.qkv"
   ]
  },
  {
   "cell_type": "code",
   "execution_count": null,
   "id": "bcba9662",
   "metadata": {},
   "outputs": [],
   "source": []
  }
 ],
 "metadata": {
  "kernelspec": {
   "display_name": "Python 3 (ipykernel)",
   "language": "python",
   "name": "python3"
  },
  "language_info": {
   "codemirror_mode": {
    "name": "ipython",
    "version": 3
   },
   "file_extension": ".py",
   "mimetype": "text/x-python",
   "name": "python",
   "nbconvert_exporter": "python",
   "pygments_lexer": "ipython3",
   "version": "3.7.0"
  }
 },
 "nbformat": 4,
 "nbformat_minor": 5
}
