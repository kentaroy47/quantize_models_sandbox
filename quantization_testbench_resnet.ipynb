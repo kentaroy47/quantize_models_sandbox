{
 "cells": [
  {
   "cell_type": "markdown",
   "id": "65b5a174",
   "metadata": {},
   "source": [
    "# Resnet18 CIFAR-10\n",
    "\n",
    "Quantize train resnet18 without PACT"
   ]
  },
  {
   "cell_type": "code",
   "execution_count": 1,
   "id": "3cdfa9b0",
   "metadata": {},
   "outputs": [],
   "source": [
    "NOQUANT_TRAIN = False\n",
    "n_epochs = 50\n",
    "randamaug = True\n",
    "bs = 1024\n",
    "use_amp = True\n",
    "lr = 1e-4"
   ]
  },
  {
   "cell_type": "code",
   "execution_count": 2,
   "id": "e95ac49f",
   "metadata": {},
   "outputs": [
    {
     "name": "stderr",
     "output_type": "stream",
     "text": [
      "stty: 'standard input': Inappropriate ioctl for device\n"
     ]
    }
   ],
   "source": [
    "import argparse\n",
    "import os\n",
    "import shutil\n",
    "import time\n",
    "import pandas as pd\n",
    "import matplotlib.pyplot as plt\n",
    "from utils.utils import progress_bar\n",
    "\n",
    "from tqdm.notebook import tqdm\n",
    "import time\n",
    "import numpy as np\n",
    "import pandas as pd\n",
    "import cv2\n",
    "import torch\n",
    "import torch.nn as nn\n",
    "import torch.nn.functional as F\n",
    "import torch.optim as optim\n",
    "from torch.optim import lr_scheduler\n",
    "from torch.utils.data import DataLoader, Dataset\n",
    "from torch.utils.data.sampler import SubsetRandomSampler, RandomSampler, SequentialSampler\n",
    "from torch.optim.lr_scheduler import CosineAnnealingWarmRestarts, CosineAnnealingLR, ReduceLROnPlateau\n",
    "\n",
    "\n",
    "DATA_DIR = \"train\"\n",
    "print_freq = 50\n",
    "\n",
    "# vit imsize\n",
    "imsize = 32"
   ]
  },
  {
   "cell_type": "code",
   "execution_count": 3,
   "id": "91238a6e",
   "metadata": {},
   "outputs": [
    {
     "data": {
      "text/html": [
       "<div>\n",
       "<style scoped>\n",
       "    .dataframe tbody tr th:only-of-type {\n",
       "        vertical-align: middle;\n",
       "    }\n",
       "\n",
       "    .dataframe tbody tr th {\n",
       "        vertical-align: top;\n",
       "    }\n",
       "\n",
       "    .dataframe thead th {\n",
       "        text-align: right;\n",
       "    }\n",
       "</style>\n",
       "<table border=\"1\" class=\"dataframe\">\n",
       "  <thead>\n",
       "    <tr style=\"text-align: right;\">\n",
       "      <th></th>\n",
       "      <th>id</th>\n",
       "      <th>label</th>\n",
       "      <th>label_enc</th>\n",
       "      <th>fold</th>\n",
       "    </tr>\n",
       "  </thead>\n",
       "  <tbody>\n",
       "    <tr>\n",
       "      <th>0</th>\n",
       "      <td>1</td>\n",
       "      <td>frog</td>\n",
       "      <td>6</td>\n",
       "      <td>1</td>\n",
       "    </tr>\n",
       "    <tr>\n",
       "      <th>1</th>\n",
       "      <td>2</td>\n",
       "      <td>truck</td>\n",
       "      <td>9</td>\n",
       "      <td>1</td>\n",
       "    </tr>\n",
       "    <tr>\n",
       "      <th>2</th>\n",
       "      <td>3</td>\n",
       "      <td>truck</td>\n",
       "      <td>9</td>\n",
       "      <td>2</td>\n",
       "    </tr>\n",
       "    <tr>\n",
       "      <th>3</th>\n",
       "      <td>4</td>\n",
       "      <td>deer</td>\n",
       "      <td>4</td>\n",
       "      <td>1</td>\n",
       "    </tr>\n",
       "    <tr>\n",
       "      <th>4</th>\n",
       "      <td>5</td>\n",
       "      <td>automobile</td>\n",
       "      <td>1</td>\n",
       "      <td>2</td>\n",
       "    </tr>\n",
       "  </tbody>\n",
       "</table>\n",
       "</div>"
      ],
      "text/plain": [
       "   id       label  label_enc  fold\n",
       "0   1        frog          6     1\n",
       "1   2       truck          9     1\n",
       "2   3       truck          9     2\n",
       "3   4        deer          4     1\n",
       "4   5  automobile          1     2"
      ]
     },
     "execution_count": 3,
     "metadata": {},
     "output_type": "execute_result"
    }
   ],
   "source": [
    "# prepare labels\n",
    "train_df = pd.read_csv(\"trainLabels.csv\")\n",
    "from sklearn.preprocessing import LabelEncoder\n",
    "le = LabelEncoder()\n",
    "train_df['label_enc'] = le.fit_transform(train_df['label'])\n",
    "\n",
    "# 5-fold\n",
    "from sklearn.model_selection import StratifiedKFold\n",
    "skf = StratifiedKFold(n_splits=5, shuffle=True, random_state=42)\n",
    "\n",
    "train_df[\"fold\"] = -1\n",
    "for i, (train_index, test_index) in enumerate(skf.split(train_df.id, train_df.label_enc)):\n",
    "    train_df.loc[test_index, 'fold'] = i\n",
    "train_df.head()"
   ]
  },
  {
   "cell_type": "code",
   "execution_count": 4,
   "id": "5ef0456c",
   "metadata": {},
   "outputs": [
    {
     "data": {
      "text/plain": [
       "frog          1000\n",
       "truck         1000\n",
       "deer          1000\n",
       "ship          1000\n",
       "horse         1000\n",
       "automobile    1000\n",
       "dog           1000\n",
       "cat           1000\n",
       "airplane      1000\n",
       "bird          1000\n",
       "Name: label, dtype: int64"
      ]
     },
     "execution_count": 4,
     "metadata": {},
     "output_type": "execute_result"
    }
   ],
   "source": [
    "train_df[train_df.fold==1].label.value_counts()"
   ]
  },
  {
   "cell_type": "code",
   "execution_count": 5,
   "id": "44be87f4",
   "metadata": {},
   "outputs": [],
   "source": [
    "class cifarDataset(Dataset):\n",
    "    def __init__(self,\n",
    "                 df,\n",
    "                 rand=False,\n",
    "                 transform=None,\n",
    "                 test=False\n",
    "                ):\n",
    "\n",
    "        self.df = df.reset_index(drop=True)\n",
    "        self.rand = rand\n",
    "        self.transform = transform\n",
    "        self.test = test\n",
    "\n",
    "    def __len__(self):\n",
    "        return self.df.shape[0]\n",
    "\n",
    "    def __getitem__(self, index):\n",
    "        row = self.df.iloc[index]\n",
    "        img_id = row.id\n",
    "        \n",
    "        images = cv2.imread(os.path.join(DATA_DIR, str(img_id)+\".png\"))\n",
    "        \n",
    "        # Load labels\n",
    "        label = row.label_enc\n",
    "        \n",
    "        # aug\n",
    "        if self.transform is not None:\n",
    "            images = self.transform(image=images)['image']\n",
    "              \n",
    "        images = images.astype(np.float32)\n",
    "        images /= 255\n",
    "        images = images.transpose(2, 0, 1)\n",
    "        \n",
    "        label = label.astype(np.float32)\n",
    "        #label2 = label2.astype(np.float32)\n",
    "        return torch.tensor(images), torch.tensor(label),"
   ]
  },
  {
   "cell_type": "code",
   "execution_count": 6,
   "id": "cd5517a6",
   "metadata": {},
   "outputs": [
    {
     "name": "stderr",
     "output_type": "stream",
     "text": [
      "/home/ken/anaconda3/envs/pytorch_p37/lib/python3.7/site-packages/albumentations/augmentations/transforms.py:690: FutureWarning: This class has been deprecated. Please use CoarseDropout\n",
      "  FutureWarning,\n"
     ]
    }
   ],
   "source": [
    "import albumentations as A\n",
    "import albumentations\n",
    "\n",
    "transforms_train = albumentations.Compose([\n",
    "    albumentations.ShiftScaleRotate(scale_limit=0.3, rotate_limit=180,p=0.5),\n",
    "    A.Cutout(num_holes=12, max_h_size=8, max_w_size=8, fill_value=0, p=0.5),\n",
    "    albumentations.Rotate(p=0.5),\n",
    "    albumentations.Transpose(p=0.5),\n",
    "    albumentations.VerticalFlip(p=0.5),\n",
    "    albumentations.HorizontalFlip(p=0.5),   \n",
    "    albumentations.Resize(imsize, imsize, p=1.0), \n",
    "])\n",
    "\n",
    "transforms_val = albumentations.Compose([albumentations.Resize(imsize, imsize, p=1.0),])"
   ]
  },
  {
   "cell_type": "code",
   "execution_count": 7,
   "id": "e3726718",
   "metadata": {
    "scrolled": true
   },
   "outputs": [
    {
     "data": {
      "image/png": "[encoded data removed]",
      "text/plain": [
       "<Figure size 1440x720 with 5 Axes>"
      ]
     },
     "metadata": {
      "needs_background": "light"
     },
     "output_type": "display_data"
    },
    {
     "data": {
      "image/png": "[encoded data removed]",
      "text/plain": [
       "<Figure size 1440x720 with 5 Axes>"
      ]
     },
     "metadata": {
      "needs_background": "light"
     },
     "output_type": "display_data"
    },
    {
     "data": {
      "image/png": "[encoded data removed]",
      "text/plain": [
       "<Figure size 1440x720 with 5 Axes>"
      ]
     },
     "metadata": {
      "needs_background": "light"
     },
     "output_type": "display_data"
    }
   ],
   "source": [
    "dataset_show = cifarDataset(train_df, transform=transforms_train)\n",
    "from pylab import rcParams\n",
    "rcParams['figure.figsize'] = 20,10\n",
    "for i in range(3):\n",
    "    f, axarr = plt.subplots(1,5)\n",
    "    for p in range(5):\n",
    "        idx = np.random.randint(0, len(dataset_show))\n",
    "        img, label = dataset_show[idx]\n",
    "        img = img.flip(0) #BGR2RGB\n",
    "        axarr[p].imshow(img.transpose(0,1).transpose(1,2))\n",
    "        axarr[p].set_title(str(label))\n",
    "plt.show()"
   ]
  },
  {
   "cell_type": "code",
   "execution_count": 8,
   "id": "be374443",
   "metadata": {},
   "outputs": [],
   "source": [
    "##### Training\n",
    "scaler = torch.cuda.amp.GradScaler(enabled=use_amp)\n",
    "def train(epoch):\n",
    "    print('\\nEpoch: %d' % epoch)\n",
    "    net.train()\n",
    "    train_loss = 0\n",
    "    correct = 0\n",
    "    total = 0\n",
    "    for batch_idx, (inputs, targets) in enumerate(trainloader):\n",
    "        inputs, targets = inputs.to(device), targets.to(device).long()\n",
    "        # Train with amp\n",
    "        with torch.cuda.amp.autocast(enabled=use_amp):\n",
    "            outputs = net(inputs)\n",
    "            loss = criterion(outputs, targets)\n",
    "        scaler.scale(loss).backward()\n",
    "        scaler.step(optimizer)\n",
    "        scaler.update()\n",
    "        optimizer.zero_grad()\n",
    "\n",
    "        train_loss += loss.item()\n",
    "        _, predicted = outputs.max(1)\n",
    "        total += targets.size(0)\n",
    "        correct += predicted.eq(targets).sum().item()\n",
    "\n",
    "        progress_bar(batch_idx, len(trainloader), 'Loss: %.3f | Acc: %.3f%% (%d/%d)'\n",
    "            % (train_loss/(batch_idx+1), 100.*correct/total, correct, total))\n",
    "    return train_loss/(batch_idx+1)\n",
    "\n",
    "##### Validation\n",
    "def test(epoch):\n",
    "    global best_acc\n",
    "    net.eval()\n",
    "    test_loss = 0\n",
    "    correct = 0\n",
    "    total = 0\n",
    "    with torch.no_grad():\n",
    "        for batch_idx, (inputs, targets) in enumerate(testloader):\n",
    "            inputs, targets = inputs.to(device), targets.to(device).long()\n",
    "            outputs = net(inputs)\n",
    "            loss = criterion(outputs, targets)\n",
    "\n",
    "            test_loss += loss.item()\n",
    "            _, predicted = outputs.max(1)\n",
    "            total += targets.size(0)\n",
    "            correct += predicted.eq(targets).sum().item()\n",
    "\n",
    "            progress_bar(batch_idx, len(testloader), 'Loss: %.3f | Acc: %.3f%% (%d/%d)'\n",
    "                % (test_loss/(batch_idx+1), 100.*correct/total, correct, total))\n",
    "    \n",
    "    # Save checkpoint.\n",
    "    acc = 100.*correct/total\n",
    "    return test_loss/(batch_idx+1), acc"
   ]
  },
  {
   "cell_type": "code",
   "execution_count": 9,
   "id": "6f005fd3",
   "metadata": {},
   "outputs": [
    {
     "name": "stdout",
     "output_type": "stream",
     "text": [
      "==> Preparing data..\n",
      "==> Preparing dataloader\n",
      "Files already downloaded and verified\n",
      "Files already downloaded and verified\n"
     ]
    }
   ],
   "source": [
    "# Data\n",
    "print('==> Preparing data..')\n",
    "from randomaug import RandAugment\n",
    "import torchvision\n",
    "import torchvision.transforms as transforms\n",
    "\n",
    "size = imsize\n",
    "transform_train = transforms.Compose([\n",
    "    transforms.RandomCrop(32, padding=4),\n",
    "    transforms.Resize(size),\n",
    "    transforms.RandomHorizontalFlip(),\n",
    "    transforms.ToTensor(),\n",
    "    transforms.Normalize((0.4914, 0.4822, 0.4465), (0.2023, 0.1994, 0.2010)),\n",
    "])\n",
    "\n",
    "transform_test = transforms.Compose([\n",
    "    transforms.Resize(size),\n",
    "    transforms.ToTensor(),\n",
    "    transforms.Normalize((0.4914, 0.4822, 0.4465), (0.2023, 0.1994, 0.2010)),\n",
    "])\n",
    "\n",
    "# Add RandAugment with N, M(hyperparameter)\n",
    "if randamaug:\n",
    "    N = 2; M = 7;\n",
    "    transform_train.transforms.insert(0, RandAugment(N, M))\n",
    "\n",
    "print('==> Preparing dataloader')\n",
    "trainset = torchvision.datasets.CIFAR10(root='../vision-transformers-cifar10/data', train=True, download=True, transform=transform_train)\n",
    "trainloader = torch.utils.data.DataLoader(trainset, batch_size=bs, shuffle=True, num_workers=8)\n",
    "\n",
    "testset = torchvision.datasets.CIFAR10(root='../vision-transformers-cifar10/data', train=False, download=True, transform=transform_test)\n",
    "testloader = torch.utils.data.DataLoader(testset, batch_size=100, shuffle=False, num_workers=8)"
   ]
  },
  {
   "cell_type": "code",
   "execution_count": 10,
   "id": "a4256dce",
   "metadata": {},
   "outputs": [
    {
     "name": "stdout",
     "output_type": "stream",
     "text": [
      "abit/wbit: 8 8\n"
     ]
    }
   ],
   "source": [
    "from network.resnet import resnet20\n",
    "net = resnet20(abits=8, wbits=8, pact=False, shallow=False)"
   ]
  },
  {
   "cell_type": "code",
   "execution_count": 11,
   "id": "d5a52bab",
   "metadata": {},
   "outputs": [
    {
     "data": {
      "text/plain": [
       "tensor([[ 0.9163,  0.3955,  0.3443,  0.5644, -0.8719, -0.1131,  0.3995,  0.2713,\n",
       "         -0.6865,  0.1081]], grad_fn=<AddmmBackward>)"
      ]
     },
     "execution_count": 11,
     "metadata": {},
     "output_type": "execute_result"
    }
   ],
   "source": [
    "net.forward(torch.randn(1,3,32,32))"
   ]
  },
  {
   "cell_type": "markdown",
   "id": "c3f38958",
   "metadata": {},
   "source": [
    "# Train with quantization"
   ]
  },
  {
   "cell_type": "markdown",
   "id": "0ae87e5e",
   "metadata": {
    "scrolled": true
   },
   "source": [
    "from timm.scheduler import CosineLRScheduler\n",
    "\n",
    "for shallow in [False]:\n",
    "    for pact in [False,]:\n",
    "        for k in range(3,9):\n",
    "            net = resnet20(k,k,pact,shallow,True)\n",
    "\n",
    "            net = net.cuda()\n",
    "            mixup = False\n",
    "\n",
    "            # Track experiment with wandb\n",
    "            import wandb\n",
    "            watermark = \"resnet18_uniformquantize_k{}\".format(k)\n",
    "            if pact: watermark+=\"_pact\"\n",
    "            if shallow: \n",
    "                watermark+=\"_shallow\"\n",
    "            else:\n",
    "                watermark+=\"_deep\"\n",
    "                \n",
    "            # mess with wandb\n",
    "            wandb.init(project=\"quantize_resnet2\", name=watermark)\n",
    "\n",
    "            # define loss function (criterion) and pptimizer\n",
    "            criterion = nn.CrossEntropyLoss().cuda()\n",
    "\n",
    "            # optimizer for pact\n",
    "            optimizer = torch.optim.SGD(net.parameters(), lr=1e-3,\n",
    "                                        momentum=0.9,\n",
    "                                        weight_decay=0.0002)\n",
    "            optimizer = torch.optim.Adam(net.parameters(), lr=1e-3)\n",
    "\n",
    "            scheduler = CosineLRScheduler(optimizer, t_initial=n_epochs, lr_min=1e-6, \n",
    "                                  warmup_t=3, warmup_lr_init=1e-6, warmup_prefix=True)\n",
    "\n",
    "            best_prec1 = 0\n",
    "            os.makedirs(\"models\", exist_ok=True)\n",
    "\n",
    "            for epoch in range(n_epochs):\n",
    "                scheduler.step(epoch)\n",
    "                # train for one epoch\n",
    "                print('current lr {:.5e}'.format(optimizer.param_groups[0]['lr']))\n",
    "                tloss = train(train_loader, model, criterion, optimizer, epoch)         \n",
    "\n",
    "                # evaluate on validation set\n",
    "                prec1, valloss = validate(val_loader, model, criterion)\n",
    "\n",
    "                # wandb\n",
    "                wandb.log({'epoch': epoch, \"prec\":prec1, \"train_loss\": tloss, 'val_loss': valloss, \"lr\": optimizer.param_groups[0][\"lr\"],})\n",
    "\n",
    "                # remember best prec@1 and save checkpoint\n",
    "                is_best = prec1 > best_prec1\n",
    "                best_prec1 = max(prec1, best_prec1)\n",
    "\n",
    "                print(\"Best prec1 : \", best_prec1)\n",
    "                if is_best:\n",
    "                    torch.save(model.state_dict(), os.path.join(f'models/{watermark}.pth'))"
   ]
  },
  {
   "cell_type": "code",
   "execution_count": null,
   "id": "8f987c58",
   "metadata": {},
   "outputs": [
    {
     "name": "stdout",
     "output_type": "stream",
     "text": [
      "abit/wbit: 3 3\n"
     ]
    },
    {
     "name": "stderr",
     "output_type": "stream",
     "text": [
      "\u001b[34m\u001b[1mwandb\u001b[0m: Currently logged in as: \u001b[33marutema47\u001b[0m. Use \u001b[1m`wandb login --relogin`\u001b[0m to force relogin\n"
     ]
    },
    {
     "data": {
      "text/html": [
       "Tracking run with wandb version 0.12.19"
      ],
      "text/plain": [
       "<IPython.core.display.HTML object>"
      ]
     },
     "metadata": {},
     "output_type": "display_data"
    },
    {
     "data": {
      "text/html": [
       "Run data is saved locally in <code>/media/ken/dsk1/data/quantize_models_sandbox/wandb/run-20220628_140706-4izpt05m</code>"
      ],
      "text/plain": [
       "<IPython.core.display.HTML object>"
      ]
     },
     "metadata": {},
     "output_type": "display_data"
    },
    {
     "data": {
      "text/html": [
       "Syncing run <strong><a href=\"https://wandb.ai/arutema47/quantize_resnet2/runs/4izpt05m\" target=\"_blank\">resnet20_quant_k3_shallow</a></strong> to <a href=\"https://wandb.ai/arutema47/quantize_resnet2\" target=\"_blank\">Weights & Biases</a> (<a href=\"https://wandb.me/run\" target=\"_blank\">docs</a>)<br/>"
      ],
      "text/plain": [
       "<IPython.core.display.HTML object>"
      ]
     },
     "metadata": {},
     "output_type": "display_data"
    },
    {
     "name": "stdout",
     "output_type": "stream",
     "text": [
      "\n",
      "Epoch: 0\n",
      " [===============================================================>.]  Step: 177ms | Tot: 9s906ms | Loss: 1.279 | Acc: 58.112% (29056/5000 49/49 ......................................................]  Step: 200ms | Tot: 1s250ms | Loss: 1.337 | Acc: 55.901% (4007/716 7/49 \n",
      " [================================================================>]  Step: 15ms | Tot: 1s543ms | Loss: 0.619 | Acc: 80.170% (8017/1000 100/100 ==========================>.................................]  Step: 14ms | Tot: 755ms | Loss: 0.617 | Acc: 80.560% (4028/500 50/100 ==================================>..............................]  Step: 13ms | Tot: 841ms | Loss: 0.616 | Acc: 80.556% (4350/540 54/100 \n",
      "Best prec1 :  80.17\n",
      "\n",
      "Epoch: 1\n",
      " [===============================================================>.]  Step: 176ms | Tot: 9s925ms | Loss: 1.337 | Acc: 56.884% (28442/5000 49/49 \n",
      " [================================================================>]  Step: 12ms | Tot: 1s561ms | Loss: 0.835 | Acc: 74.260% (7426/1000 100/100 ===============>...........................................]  Step: 12ms | Tot: 515ms | Loss: 0.847 | Acc: 73.941% (2514/340 34/100 ======================>.....................................]  Step: 12ms | Tot: 691ms | Loss: 0.838 | Acc: 74.000% (3256/440 44/100 ========================>....................................]  Step: 13ms | Tot: 704ms | Loss: 0.837 | Acc: 74.000% (3330/450 45/100 ====================================>.....................]  Step: 50ms | Tot: 1s91ms | Loss: 0.839 | Acc: 73.882% (5024/680 68/100 ==========================================>....................]  Step: 12ms | Tot: 1s104ms | Loss: 0.838 | Acc: 73.913% (5100/690 69/100 ============================================================>..]  Step: 13ms | Tot: 1s522ms | Loss: 0.837 | Acc: 74.227% (7200/970 97/100 \n",
      "Best prec1 :  80.17\n",
      "\n",
      "Epoch: 2\n",
      " [===============================================================>.]  Step: 174ms | Tot: 9s862ms | Loss: 1.413 | Acc: 55.108% (27554/5000 49/49 \n",
      " [================================================================>]  Step: 15ms | Tot: 1s733ms | Loss: 0.652 | Acc: 78.890% (7889/1000 100/100 00 40/100 41/10 87/100 \n",
      "Best prec1 :  80.17\n",
      "\n",
      "Epoch: 3\n",
      " [===============================================================>.]  Step: 179ms | Tot: 9s979ms | Loss: 1.215 | Acc: 59.696% (29848/5000 49/49 \n",
      " [================================================================>]  Step: 13ms | Tot: 1s664ms | Loss: 0.613 | Acc: 81.020% (8102/1000 100/100  31/100 39/100 42/100 47/10 48/10 69/10 72/100 74/100 .......]  Step: 17ms | Tot: 1s256ms | Loss: 0.615 | Acc: 81.160% (6087/750 75/100 85/10 97/100 98/100 \n",
      "Best prec1 :  81.02\n",
      "\n",
      "Epoch: 4\n",
      " [===============================================================>.]  Step: 178ms | Tot: 9s946ms | Loss: 1.116 | Acc: 61.810% (30905/5000 49/49 /49 \n",
      " [================================================================>]  Step: 15ms | Tot: 1s584ms | Loss: 0.545 | Acc: 82.540% (8254/1000 100/100 00 =============================>...............................]  Step: 14ms | Tot: 869ms | Loss: 0.539 | Acc: 82.792% (4388/530 53/100 ==============================================>..............]  Step: 13ms | Tot: 1s247ms | Loss: 0.550 | Acc: 82.628% (6445/780 78/100 =====================================================>.........]  Step: 12ms | Tot: 1s381ms | Loss: 0.549 | Acc: 82.477% (7093/860 86/100 \n",
      "Best prec1 :  82.54\n",
      "\n",
      "Epoch: 5\n",
      " [===============================================================>.]  Step: 178ms | Tot: 9s969ms | Loss: 1.066 | Acc: 63.112% (31556/5000 49/49 \n",
      " [================================================================>]  Step: 18ms | Tot: 1s604ms | Loss: 0.539 | Acc: 82.200% (8220/1000 100/100 ==>........................................]  Step: 12ms | Tot: 562ms | Loss: 0.569 | Acc: 81.737% (3106/380 38/10 48/100 89/10 90/10 91/100 92/10 98/100 \n",
      "Best prec1 :  82.54\n",
      "\n",
      "Epoch: 6\n",
      " [===============================================================>.]  Step: 179ms | Tot: 9s962ms | Loss: 1.026 | Acc: 64.272% (32136/5000 49/49 .................................]  Step: 200ms | Tot: 631ms | Loss: 1.028 | Acc: 64.282% (2633/409 4/49 \n",
      " [================================================================>]  Step: 13ms | Tot: 1s626ms | Loss: 0.526 | Acc: 82.450% (8245/1000 100/100 ======>......................................................]  Step: 15ms | Tot: 261ms | Loss: 0.506 | Acc: 82.882% (1409/170 17/100 30/100 .....................]  Step: 11ms | Tot: 627ms | Loss: 0.547 | Acc: 81.684% (3104/380 38/10 40/10 42/100 88/100 \n",
      "Best prec1 :  82.54\n",
      "\n",
      "Epoch: 7\n",
      " [===============================================================>.]  Step: 182ms | Tot: 9s966ms | Loss: 1.014 | Acc: 64.568% (32284/5000 49/49 \n",
      " [================================================================>]  Step: 14ms | Tot: 1s622ms | Loss: 0.508 | Acc: 83.430% (8343/1000 100/100 00 33/10 37/100 ==========================>......................................]  Step: 15ms | Tot: 633ms | Loss: 0.524 | Acc: 83.000% (3403/410 41/100 \n",
      "Best prec1 :  83.43\n",
      "\n",
      "Epoch: 8\n",
      " [===============================================================>.]  Step: 175ms | Tot: 9s921ms | Loss: 1.005 | Acc: 64.672% (32336/5000 49/49 \n",
      " [================================================================>]  Step: 17ms | Tot: 1s559ms | Loss: 0.520 | Acc: 82.850% (8285/1000 100/100 0 =====================>...........................................]  Step: 12ms | Tot: 565ms | Loss: 0.511 | Acc: 83.059% (2824/340 34/100 ================>..........................................]  Step: 13ms | Tot: 598ms | Loss: 0.516 | Acc: 82.944% (2986/360 36/10 47/10 62/100 82/10 83/100 ========================================================>......]  Step: 12ms | Tot: 1s403ms | Loss: 0.526 | Acc: 82.670% (7523/910 91/100 =============>.....]  Step: 13ms | Tot: 1s428ms | Loss: 0.524 | Acc: 82.699% (7691/930 93/100 \n",
      "Best prec1 :  83.43\n",
      "\n",
      "Epoch: 9\n",
      " [===============================================================>.]  Step: 177ms | Tot: 9s938ms | Loss: 0.989 | Acc: 65.102% (32551/5000 49/49 ==========================================>..................]  Step: 201ms | Tot: 7s291ms | Loss: 0.993 | Acc: 65.044% (23978/3686 36/49 \n",
      " [================================================================>]  Step: 13ms | Tot: 1s589ms | Loss: 0.520 | Acc: 82.470% (8247/1000 100/100 00 =================================>...............................]  Step: 14ms | Tot: 823ms | Loss: 0.521 | Acc: 82.327% (4281/520 52/100 ==================================>............................]  Step: 11ms | Tot: 903ms | Loss: 0.531 | Acc: 82.105% (4680/570 57/100 ======================================>....................]  Step: 13ms | Tot: 1s92ms | Loss: 0.533 | Acc: 82.072% (5663/690 69/100 =============================================>.................]  Step: 32ms | Tot: 1s184ms | Loss: 0.526 | Acc: 82.338% (6093/740 74/100 \n",
      "Best prec1 :  83.43\n",
      "\n",
      "Epoch: 10\n",
      " [===============================================================>.]  Step: 179ms | Tot: 9s949ms | Loss: 0.985 | Acc: 65.360% (32680/5000 49/49 \n",
      " [================================================================>]  Step: 12ms | Tot: 1s593ms | Loss: 0.505 | Acc: 83.270% (8327/1000 100/100 0 ..............]  Step: 13ms | Tot: 808ms | Loss: 0.498 | Acc: 83.500% (4175/500 50/100 61/10 63/100 66/10 71/100 72/100 74/100 76/10 81/100 =========================================================>.......]  Step: 14ms | Tot: 1s438ms | Loss: 0.509 | Acc: 83.191% (7404/890 89/100 \n",
      "Best prec1 :  83.43\n",
      "\n",
      "Epoch: 11\n",
      " [===============================================================>.]  Step: 179ms | Tot: 10s3ms | Loss: 0.969 | Acc: 65.890% (32945/5000 49/49  \n",
      " [================================================================>]  Step: 13ms | Tot: 1s587ms | Loss: 0.509 | Acc: 82.950% (8295/1000 100/100 0 15/10 19/10 20/100 28/100 ======================>...........................]  Step: 12ms | Tot: 881ms | Loss: 0.514 | Acc: 82.862% (4806/580 58/100   Step: 13ms | Tot: 1s170ms | Loss: 0.516 | Acc: 82.893% (6217/750 75/1 82/100 ===============>...........]  Step: 44ms | Tot: 1s323ms | Loss: 0.515 | Acc: 82.880% (6879/830 83/10 87/100 \n",
      "Best prec1 :  83.43\n",
      "\n",
      "Epoch: 12\n"
     ]
    },
    {
     "name": "stdout",
     "output_type": "stream",
     "text": [
      " [===============================================================>.]  Step: 175ms | Tot: 9s996ms | Loss: 0.971 | Acc: 65.822% (32911/5000 49/49 ===>.........................................................]  Step: 201ms | Tot: 1s248ms | Loss: 0.973 | Acc: 65.611% (4703/716 7/49 \n",
      " [================================================================>]  Step: 13ms | Tot: 1s609ms | Loss: 0.497 | Acc: 83.540% (8354/1000 100/100 0 45/10 46/100 47/100 =============================>.............................]  Step: 13ms | Tot: 940ms | Loss: 0.496 | Acc: 83.929% (4700/560 56/100 ============>...........................]  Step: 14ms | Tot: 982ms | Loss: 0.502 | Acc: 83.695% (4938/590 59/100 71/100 ============================================>..................]  Step: 13ms | Tot: 1s182ms | Loss: 0.501 | Acc: 83.694% (6026/720 72/100 \n",
      "Best prec1 :  83.54\n",
      "\n",
      "Epoch: 13\n",
      " [===============================================================>.]  Step: 180ms | Tot: 9s928ms | Loss: 0.963 | Acc: 66.134% (33067/5000 49/49 .............................................]  Step: 201ms | Tot: 612ms | Loss: 0.957 | Acc: 66.333% (2717/409 4/49 \n",
      " [================================================================>]  Step: 14ms | Tot: 1s560ms | Loss: 0.514 | Acc: 82.660% (8266/1000 100/100 0 ==================================>...........................]  Step: 18ms | Tot: 914ms | Loss: 0.525 | Acc: 82.610% (4874/590 59/100 \n",
      "Best prec1 :  83.54\n",
      "\n",
      "Epoch: 14\n",
      " [===============================================================>.]  Step: 180ms | Tot: 9s997ms | Loss: 0.955 | Acc: 66.330% (33165/5000 49/49 \n",
      " [================================================================>]  Step: 16ms | Tot: 1s593ms | Loss: 0.475 | Acc: 83.840% (8384/1000 100/100 =======>..................................................]  Step: 15ms | Tot: 358ms | Loss: 0.465 | Acc: 84.348% (1940/230 23/100 ==============>..................................................]  Step: 15ms | Tot: 373ms | Loss: 0.463 | Acc: 84.458% (2027/240 24/100 ======================>........................................]  Step: 13ms | Tot: 616ms | Loss: 0.485 | Acc: 83.795% (3268/390 39/100 66/100 82/100 ..]  Step: 12ms | Tot: 1s393ms | Loss: 0.480 | Acc: 83.793% (7290/870 87/100 93/100 \n",
      "Best prec1 :  83.84\n",
      "\n",
      "Epoch: 15\n",
      " [===============================================================>.]  Step: 178ms | Tot: 9s954ms | Loss: 0.946 | Acc: 66.674% (33337/5000 49/49 \n",
      " [================================================================>]  Step: 15ms | Tot: 1s568ms | Loss: 0.476 | Acc: 83.450% (8345/1000 100/100 0 ======================>..........................................]  Step: 12ms | Tot: 521ms | Loss: 0.490 | Acc: 82.972% (2987/360 36/100 57/100 .......]  Step: 12ms | Tot: 1s18ms | Loss: 0.476 | Acc: 83.522% (5596/670 67/10 68/100 \n",
      "Best prec1 :  83.84\n",
      "\n",
      "Epoch: 16\n",
      " [===============================================================>.]  Step: 177ms | Tot: 10s2ms | Loss: 0.944 | Acc: 66.656% (33328/5000 49/49  =================>..........................................]  Step: 201ms | Tot: 3s536ms | Loss: 0.943 | Acc: 66.688% (12292/1843 18/49 \n",
      " [================================================================>]  Step: 13ms | Tot: 1s707ms | Loss: 0.478 | Acc: 83.910% (8391/1000 100/100 0 .....]  Step: 18ms | Tot: 528ms | Loss: 0.475 | Acc: 83.781% (2681/320 32/10 46/100 47/10 53/100 ...........]  Step: 14ms | Tot: 1s260ms | Loss: 0.480 | Acc: 83.795% (6117/730 73/100 =============================================================>...]  Step: 30ms | Tot: 1s622ms | Loss: 0.480 | Acc: 83.884% (7969/9 95/100 \n",
      "Best prec1 :  83.91\n",
      "\n",
      "Epoch: 17\n",
      " [===============================================================>.]  Step: 173ms | Tot: 9s978ms | Loss: 0.939 | Acc: 66.986% (33493/5000 49/49 \n",
      " [================================================================>]  Step: 11ms | Tot: 1s611ms | Loss: 0.505 | Acc: 83.300% (8330/1000 100/100 >...................................................]  Step: 19ms | Tot: 326ms | Loss: 0.492 | Acc: 83.476% (1753/210 21/100 25/10 32/10 37/100 ==================================>...................]  Step: 15ms | Tot: 1s197ms | Loss: 0.515 | Acc: 83.169% (5905/710 71/100 =======================================================>.....]  Step: 11ms | Tot: 1s523ms | Loss: 0.512 | Acc: 83.086% (7727/930 93/100 \n",
      "Best prec1 :  83.91\n",
      "\n",
      "Epoch: 18\n",
      " [===============================================================>.]  Step: 179ms | Tot: 9s958ms | Loss: 0.943 | Acc: 66.680% (33340/5000 49/49 \n",
      " [================================================================>]  Step: 18ms | Tot: 1s610ms | Loss: 0.497 | Acc: 83.550% (8355/1000 100/100 =====================>.....................................]  Step: 15ms | Tot: 715ms | Loss: 0.502 | Acc: 83.523% (3675/440 44/100 ====================================>..........................]  Step: 13ms | Tot: 961ms | Loss: 0.504 | Acc: 83.550% (5013/600 60/10 99/100 \n",
      "Best prec1 :  83.91\n",
      "\n",
      "Epoch: 19\n",
      " [===============================================================>.]  Step: 176ms | Tot: 9s964ms | Loss: 0.939 | Acc: 67.032% (33516/5000 49/49 ============>...................................................]  Step: 201ms | Tot: 2s70ms | Loss: 0.963 | Acc: 66.317% (7470/1126 11/49 \n",
      " [================================================================>]  Step: 12ms | Tot: 1s529ms | Loss: 0.467 | Acc: 84.190% (8419/1000 100/100 ===========>...............................................]  Step: 13ms | Tot: 430ms | Loss: 0.471 | Acc: 83.679% (2343/280 28/100 ]  Step: 14ms | Tot: 770ms | Loss: 0.467 | Acc: 84.235% (4296/510 51/100 ==================>........................]  Step: 17ms | Tot: 970ms | Loss: 0.471 | Acc: 84.286% (5310/630 63/100 77/100 96/100 ======================================================>..]  Step: 17ms | Tot: 1s489ms | Loss: 0.466 | Acc: 84.196% (8167/970 97/100 \n",
      "Best prec1 :  84.19\n",
      "\n",
      "Epoch: 20\n",
      " [===============================================================>.]  Step: 180ms | Tot: 9s972ms | Loss: 0.929 | Acc: 67.262% (33631/5000 49/49 \n",
      " [================================================================>]  Step: 17ms | Tot: 1s609ms | Loss: 0.477 | Acc: 83.920% (8392/1000 100/100 ======================>...................................]  Step: 13ms | Tot: 719ms | Loss: 0.492 | Acc: 83.617% (3930/470 47/100 ...............]  Step: 16ms | Tot: 751ms | Loss: 0.490 | Acc: 83.469% (4090/490 49/10 54/100 \n",
      "Best prec1 :  84.19\n",
      "\n",
      "Epoch: 21\n",
      " [=====================================>...........................]  Step: 209ms | Tot: 5s851ms | Loss: 0.928 | Acc: 67.137% (19937/2969 29/49 \r"
     ]
    }
   ],
   "source": [
    "from timm.scheduler import CosineLRScheduler\n",
    "from network.resnet2 import ResNet18\n",
    "device = \"cuda\"\n",
    "\n",
    "\n",
    "if NOQUANT_TRAIN:\n",
    "    NOQUANT = True\n",
    "else:\n",
    "    NOQUANT = False\n",
    "\n",
    "for shallow in [True, False]:\n",
    "    for k in range(3,9):\n",
    "        net = resnet20(k,k,False,shallow,NOQUANT)\n",
    "\n",
    "        if shallow:\n",
    "            checkpoint = torch.load('./models/resnet20_noquant_shallow.pth')\n",
    "            net.load_state_dict(checkpoint)\n",
    "        else:\n",
    "            checkpoint = torch.load('./models/resnet20_noquant_deep.pth')\n",
    "            net.load_state_dict(checkpoint)\n",
    "\n",
    "        net = net.cuda()\n",
    "        mixup = False\n",
    "\n",
    "        # Track experiment with wandb\n",
    "        import wandb\n",
    "        watermark = \"resnet20_quant_k{}\".format(k)\n",
    "\n",
    "        if shallow: \n",
    "            watermark+=\"_shallow\"\n",
    "        else:\n",
    "            watermark+=\"_deep\"\n",
    "\n",
    "        # mess with wandb\n",
    "        wandb.init(project=\"quantize_resnet2\", name=watermark)\n",
    "\n",
    "        # define loss function (criterion) and pptimizer\n",
    "        criterion = nn.CrossEntropyLoss().cuda()\n",
    "\n",
    "        # optimizer for pact\n",
    "        optimizer = torch.optim.Adam(net.parameters(), lr=lr)\n",
    "\n",
    "        scheduler = CosineLRScheduler(optimizer, t_initial=n_epochs, lr_min=1e-6, \n",
    "                          warmup_t=3, warmup_lr_init=1e-5, warmup_prefix=True)\n",
    "        \n",
    "        best_prec1 = 0\n",
    "        os.makedirs(\"models\", exist_ok=True)\n",
    "\n",
    "        list_loss = []\n",
    "        list_acc = []\n",
    "\n",
    "        net.cuda()\n",
    "        for epoch in range(n_epochs):\n",
    "            start = time.time()\n",
    "            trainloss = train(epoch)\n",
    "            val_loss, prec1 = test(epoch)\n",
    "\n",
    "            scheduler.step(epoch-1) # step cosine scheduling\n",
    "\n",
    "            list_loss.append(val_loss)\n",
    "            list_acc.append(prec1)\n",
    "\n",
    "            # Log training..\n",
    "            wandb.log({'epoch': epoch, 'train_loss': trainloss, 'val_loss': val_loss, \"prec\": prec1, \"lr\": optimizer.param_groups[0][\"lr\"],\n",
    "            \"epoch_time\": time.time()-start})\n",
    "\n",
    "            # remember best prec@1 and save checkpoint\n",
    "            is_best = prec1 > best_prec1\n",
    "            best_prec1 = max(prec1, best_prec1)\n",
    "\n",
    "            print(\"Best prec1 : \", best_prec1)\n",
    "            if is_best:\n",
    "                torch.save(net.state_dict(), os.path.join(f'models/{watermark}.pth'))"
   ]
  },
  {
   "cell_type": "code",
   "execution_count": null,
   "id": "7f52d138",
   "metadata": {},
   "outputs": [],
   "source": []
  }
 ],
 "metadata": {
  "kernelspec": {
   "display_name": "Python 3 (ipykernel)",
   "language": "python",
   "name": "python3"
  },
  "language_info": {
   "codemirror_mode": {
    "name": "ipython",
    "version": 3
   },
   "file_extension": ".py",
   "mimetype": "text/x-python",
   "name": "python",
   "nbconvert_exporter": "python",
   "pygments_lexer": "ipython3",
   "version": "3.7.0"
  }
 },
 "nbformat": 4,
 "nbformat_minor": 5
}
