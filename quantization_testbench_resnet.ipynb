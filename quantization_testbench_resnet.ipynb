{
 "cells": [
  {
   "cell_type": "markdown",
   "id": "65b5a174",
   "metadata": {},
   "source": [
    "# Resnet18 CIFAR-10\n",
    "\n",
    "Quantize train resnet18 without PACT"
   ]
  },
  {
   "cell_type": "code",
   "execution_count": 1,
   "id": "3cdfa9b0",
   "metadata": {},
   "outputs": [],
   "source": [
    "NOQUANT_TRAIN = False\n",
    "n_epochs = 200\n",
    "batches = 2048"
   ]
  },
  {
   "cell_type": "code",
   "execution_count": 2,
   "id": "e95ac49f",
   "metadata": {},
   "outputs": [],
   "source": [
    "import argparse\n",
    "import os\n",
    "import shutil\n",
    "import time\n",
    "import pandas as pd\n",
    "import matplotlib.pyplot as plt\n",
    "\n",
    "from tqdm.notebook import tqdm\n",
    "import time\n",
    "import numpy as np\n",
    "import pandas as pd\n",
    "import cv2\n",
    "import torch\n",
    "import torch.nn as nn\n",
    "import torch.nn.functional as F\n",
    "import torch.optim as optim\n",
    "from torch.optim import lr_scheduler\n",
    "from torch.utils.data import DataLoader, Dataset\n",
    "from torch.utils.data.sampler import SubsetRandomSampler, RandomSampler, SequentialSampler\n",
    "from torch.optim.lr_scheduler import CosineAnnealingWarmRestarts, CosineAnnealingLR, ReduceLROnPlateau\n",
    "\n",
    "\n",
    "DATA_DIR = \"train\"\n",
    "print_freq = 50\n",
    "\n",
    "# vit imsize\n",
    "imsize = 32"
   ]
  },
  {
   "cell_type": "code",
   "execution_count": 3,
   "id": "91238a6e",
   "metadata": {},
   "outputs": [
    {
     "data": {
      "text/html": [
       "<div>\n",
       "<style scoped>\n",
       "    .dataframe tbody tr th:only-of-type {\n",
       "        vertical-align: middle;\n",
       "    }\n",
       "\n",
       "    .dataframe tbody tr th {\n",
       "        vertical-align: top;\n",
       "    }\n",
       "\n",
       "    .dataframe thead th {\n",
       "        text-align: right;\n",
       "    }\n",
       "</style>\n",
       "<table border=\"1\" class=\"dataframe\">\n",
       "  <thead>\n",
       "    <tr style=\"text-align: right;\">\n",
       "      <th></th>\n",
       "      <th>id</th>\n",
       "      <th>label</th>\n",
       "      <th>label_enc</th>\n",
       "      <th>fold</th>\n",
       "    </tr>\n",
       "  </thead>\n",
       "  <tbody>\n",
       "    <tr>\n",
       "      <th>0</th>\n",
       "      <td>1</td>\n",
       "      <td>frog</td>\n",
       "      <td>6</td>\n",
       "      <td>1</td>\n",
       "    </tr>\n",
       "    <tr>\n",
       "      <th>1</th>\n",
       "      <td>2</td>\n",
       "      <td>truck</td>\n",
       "      <td>9</td>\n",
       "      <td>1</td>\n",
       "    </tr>\n",
       "    <tr>\n",
       "      <th>2</th>\n",
       "      <td>3</td>\n",
       "      <td>truck</td>\n",
       "      <td>9</td>\n",
       "      <td>2</td>\n",
       "    </tr>\n",
       "    <tr>\n",
       "      <th>3</th>\n",
       "      <td>4</td>\n",
       "      <td>deer</td>\n",
       "      <td>4</td>\n",
       "      <td>1</td>\n",
       "    </tr>\n",
       "    <tr>\n",
       "      <th>4</th>\n",
       "      <td>5</td>\n",
       "      <td>automobile</td>\n",
       "      <td>1</td>\n",
       "      <td>2</td>\n",
       "    </tr>\n",
       "  </tbody>\n",
       "</table>\n",
       "</div>"
      ],
      "text/plain": [
       "   id       label  label_enc  fold\n",
       "0   1        frog          6     1\n",
       "1   2       truck          9     1\n",
       "2   3       truck          9     2\n",
       "3   4        deer          4     1\n",
       "4   5  automobile          1     2"
      ]
     },
     "execution_count": 3,
     "metadata": {},
     "output_type": "execute_result"
    }
   ],
   "source": [
    "# prepare labels\n",
    "train_df = pd.read_csv(\"trainLabels.csv\")\n",
    "from sklearn.preprocessing import LabelEncoder\n",
    "le = LabelEncoder()\n",
    "train_df['label_enc'] = le.fit_transform(train_df['label'])\n",
    "\n",
    "# 5-fold\n",
    "from sklearn.model_selection import StratifiedKFold\n",
    "skf = StratifiedKFold(n_splits=5, shuffle=True, random_state=42)\n",
    "\n",
    "train_df[\"fold\"] = -1\n",
    "for i, (train_index, test_index) in enumerate(skf.split(train_df.id, train_df.label_enc)):\n",
    "    train_df.loc[test_index, 'fold'] = i\n",
    "train_df.head()"
   ]
  },
  {
   "cell_type": "code",
   "execution_count": 4,
   "id": "44be87f4",
   "metadata": {},
   "outputs": [],
   "source": [
    "class cifarDataset(Dataset):\n",
    "    def __init__(self,\n",
    "                 df,\n",
    "                 rand=False,\n",
    "                 transform=None,\n",
    "                 test=False\n",
    "                ):\n",
    "\n",
    "        self.df = df.reset_index(drop=True)\n",
    "        self.rand = rand\n",
    "        self.transform = transform\n",
    "        self.test = test\n",
    "\n",
    "    def __len__(self):\n",
    "        return self.df.shape[0]\n",
    "\n",
    "    def __getitem__(self, index):\n",
    "        row = self.df.iloc[index]\n",
    "        img_id = row.id\n",
    "        \n",
    "        images = cv2.imread(os.path.join(DATA_DIR, str(img_id)+\".png\"))\n",
    "        \n",
    "        # Load labels\n",
    "        label = row.label_enc\n",
    "        \n",
    "        # aug\n",
    "        if self.transform is not None:\n",
    "            images = self.transform(image=images)['image']\n",
    "              \n",
    "        #images = images.astype(np.float32)\n",
    "        #images /= 255\n",
    "        images = images.transpose(2, 0, 1)\n",
    "        \n",
    "        label = label.astype(np.float32)\n",
    "        #label2 = label2.astype(np.float32)\n",
    "        return torch.tensor(images), torch.tensor(label),"
   ]
  },
  {
   "cell_type": "code",
   "execution_count": 5,
   "id": "cd5517a6",
   "metadata": {},
   "outputs": [
    {
     "name": "stderr",
     "output_type": "stream",
     "text": [
      "/home/ken/anaconda3/envs/pytorch_p37/lib/python3.7/site-packages/albumentations/augmentations/transforms.py:690: FutureWarning: This class has been deprecated. Please use CoarseDropout\n",
      "  FutureWarning,\n"
     ]
    }
   ],
   "source": [
    "import albumentations as A\n",
    "import albumentations\n",
    "\n",
    "transforms_train = albumentations.Compose([\n",
    "    albumentations.ShiftScaleRotate(scale_limit=0.3, rotate_limit=180,p=0.5),\n",
    "    A.Cutout(num_holes=12, max_h_size=4, max_w_size=4, fill_value=0, p=0.5),\n",
    "    albumentations.Rotate(p=0.5),\n",
    "    albumentations.Transpose(p=0.5),\n",
    "    albumentations.VerticalFlip(p=0.5),\n",
    "    albumentations.HorizontalFlip(p=0.5),   \n",
    "    albumentations.Resize(imsize, imsize, p=1.0), \n",
    "    albumentations.Normalize(mean=(0.485, 0.456, 0.406),\n",
    "                       std=(0.229, 0.224, 0.225), p=1),\n",
    "])\n",
    "\n",
    "transforms_val = albumentations.Compose([albumentations.Resize(imsize, imsize, p=1.0),\n",
    "                                         albumentations.Normalize(mean=(0.485, 0.456, 0.406),\n",
    "                       std=(0.229, 0.224, 0.225), p=1),])"
   ]
  },
  {
   "cell_type": "code",
   "execution_count": 6,
   "id": "e3726718",
   "metadata": {
    "scrolled": true
   },
   "outputs": [
    {
     "name": "stderr",
     "output_type": "stream",
     "text": [
      "Clipping input data to the valid range for imshow with RGB data ([0..1] for floats or [0..255] for integers).\n",
      "Clipping input data to the valid range for imshow with RGB data ([0..1] for floats or [0..255] for integers).\n",
      "Clipping input data to the valid range for imshow with RGB data ([0..1] for floats or [0..255] for integers).\n",
      "Clipping input data to the valid range for imshow with RGB data ([0..1] for floats or [0..255] for integers).\n",
      "Clipping input data to the valid range for imshow with RGB data ([0..1] for floats or [0..255] for integers).\n",
      "Clipping input data to the valid range for imshow with RGB data ([0..1] for floats or [0..255] for integers).\n",
      "Clipping input data to the valid range for imshow with RGB data ([0..1] for floats or [0..255] for integers).\n",
      "Clipping input data to the valid range for imshow with RGB data ([0..1] for floats or [0..255] for integers).\n",
      "Clipping input data to the valid range for imshow with RGB data ([0..1] for floats or [0..255] for integers).\n",
      "Clipping input data to the valid range for imshow with RGB data ([0..1] for floats or [0..255] for integers).\n",
      "Clipping input data to the valid range for imshow with RGB data ([0..1] for floats or [0..255] for integers).\n",
      "Clipping input data to the valid range for imshow with RGB data ([0..1] for floats or [0..255] for integers).\n",
      "Clipping input data to the valid range for imshow with RGB data ([0..1] for floats or [0..255] for integers).\n",
      "Clipping input data to the valid range for imshow with RGB data ([0..1] for floats or [0..255] for integers).\n",
      "Clipping input data to the valid range for imshow with RGB data ([0..1] for floats or [0..255] for integers).\n"
     ]
    },
    {
     "data": {
      "image/png": "[encoded data removed]",
      "text/plain": [
       "<Figure size 1440x720 with 5 Axes>"
      ]
     },
     "metadata": {
      "needs_background": "light"
     },
     "output_type": "display_data"
    },
    {
     "data": {
      "image/png": "[encoded data removed]",
      "text/plain": [
       "<Figure size 1440x720 with 5 Axes>"
      ]
     },
     "metadata": {
      "needs_background": "light"
     },
     "output_type": "display_data"
    },
    {
     "data": {
      "image/png": "[encoded data removed]",
      "text/plain": [
       "<Figure size 1440x720 with 5 Axes>"
      ]
     },
     "metadata": {
      "needs_background": "light"
     },
     "output_type": "display_data"
    }
   ],
   "source": [
    "dataset_show = cifarDataset(train_df, transform=transforms_train)\n",
    "from pylab import rcParams\n",
    "rcParams['figure.figsize'] = 20,10\n",
    "for i in range(3):\n",
    "    f, axarr = plt.subplots(1,5)\n",
    "    for p in range(5):\n",
    "        idx = np.random.randint(0, len(dataset_show))\n",
    "        img, label = dataset_show[idx]\n",
    "        img = img.flip(0) #BGR2RGB\n",
    "        axarr[p].imshow(img.transpose(0,1).transpose(1,2))\n",
    "        axarr[p].set_title(str(label))\n",
    "plt.show()"
   ]
  },
  {
   "cell_type": "code",
   "execution_count": 7,
   "id": "be374443",
   "metadata": {},
   "outputs": [],
   "source": [
    "def train(train_loader, model, criterion, optimizer, epoch):\n",
    "    \"\"\"\n",
    "        Run one train epoch\n",
    "    \"\"\"\n",
    "    batch_time = AverageMeter()\n",
    "    data_time = AverageMeter()\n",
    "    losses = AverageMeter()\n",
    "    top1 = AverageMeter()\n",
    "\n",
    "    # switch to train mode\n",
    "    model.train()\n",
    "\n",
    "    end = time.time()\n",
    "    lambda_alpha = 0.002\n",
    "    for i, (input, target) in enumerate(tqdm(train_loader)):\n",
    "\n",
    "        # measure data loading time\n",
    "        data_time.update(time.time() - end)\n",
    "        target2 = target\n",
    "\n",
    "        target = target.long().cuda()\n",
    "        target2 = target2.long().cuda()\n",
    "        input_var = input.cuda()\n",
    "        target_var = target\n",
    "\n",
    "        if not mixup:\n",
    "          alpha = 0\n",
    "        else:\n",
    "          alpha = 1\n",
    "        \n",
    "\n",
    "        # compute output\n",
    "        output = model(input_var)\n",
    "        loss = criterion(output, target_var)\n",
    "\n",
    "        # L2 regularization\n",
    "        l2_alpha = 0.0\n",
    "        for name, param in model.named_parameters():\n",
    "            if \"alpha\" in name:\n",
    "                l2_alpha += torch.pow(param, 2)\n",
    "        loss += lambda_alpha * l2_alpha\n",
    "\n",
    "        # compute gradient and do SGD step\n",
    "        optimizer.zero_grad()\n",
    "        loss.backward()\n",
    "        optimizer.step()\n",
    "\n",
    "        output = output.float()\n",
    "        loss = loss.float()\n",
    "        # measure accuracy and record loss\n",
    "        prec1 = accuracy(output.data, target)[0]\n",
    "        losses.update(loss.item(), input.size(0))\n",
    "        top1.update(prec1.item(), input.size(0))\n",
    "\n",
    "        # measure elapsed time\n",
    "        batch_time.update(time.time() - end)\n",
    "        end = time.time()\n",
    "\n",
    "        if i % print_freq == 0:\n",
    "            print('Epoch: [{0}][{1}/{2}]\\t'\n",
    "                  'Time {batch_time.val:.3f} ({batch_time.avg:.3f})\\t'\n",
    "                  'Data {data_time.val:.3f} ({data_time.avg:.3f})\\t'\n",
    "                  'Loss {loss.val:.4f} ({loss.avg:.4f})\\t'\n",
    "                  'Prec@1 {top1.val:.3f} ({top1.avg:.3f})'.format(\n",
    "                      epoch, i, len(train_loader), batch_time=batch_time,\n",
    "                      data_time=data_time, loss=losses, top1=top1))\n",
    "    return losses.avg\n",
    "\n",
    "def validate(val_loader, model, criterion):\n",
    "    \"\"\"\n",
    "    Run evaluation\n",
    "    \"\"\"\n",
    "    batch_time = AverageMeter()\n",
    "    losses = AverageMeter()\n",
    "    top1 = AverageMeter()\n",
    "\n",
    "    # switch to evaluate mode\n",
    "    model.eval()\n",
    "\n",
    "    end = time.time()\n",
    "    with torch.no_grad():\n",
    "        for i, (input, target) in enumerate(val_loader):\n",
    "            target = target.long().cuda()\n",
    "            input_var = input.cuda()\n",
    "            target_var = target.cuda()\n",
    "\n",
    "            # compute output\n",
    "            output = model(input_var)\n",
    "            loss = criterion(output, target_var)\n",
    "\n",
    "            output = output.float()\n",
    "            loss = loss.float()\n",
    "\n",
    "            # measure accuracy and record loss\n",
    "            prec1 = accuracy(output.data, target)[0]\n",
    "            losses.update(loss.item(), input.size(0))\n",
    "            top1.update(prec1.item(), input.size(0))\n",
    "\n",
    "            # measure elapsed time\n",
    "            batch_time.update(time.time() - end)\n",
    "            end = time.time()\n",
    "\n",
    "            if i % print_freq == 0:\n",
    "                print('Test: [{0}/{1}]\\t'\n",
    "                      'Time {batch_time.val:.3f} ({batch_time.avg:.3f})\\t'\n",
    "                      'Loss {loss.val:.4f} ({loss.avg:.4f})\\t'\n",
    "                      'Prec@1 {top1.val:.3f} ({top1.avg:.3f})'.format(\n",
    "                          i, len(val_loader), batch_time=batch_time, loss=losses,\n",
    "                          top1=top1))\n",
    "\n",
    "    print(' * Prec@1 {top1.avg:.3f}'\n",
    "          .format(top1=top1))\n",
    "    for name, param in model.named_parameters():\n",
    "        if \"alpha\" in name:\n",
    "            print(name, param.item())\n",
    "    return top1.avg, losses.avg\n",
    "\n",
    "def save_checkpoint(state, filename='checkpoint.pth'):\n",
    "    \"\"\"\n",
    "    Save the training model\n",
    "    \"\"\"\n",
    "    torch.save(state, filename)\n",
    "\n",
    "class AverageMeter(object):\n",
    "    \"\"\"Computes and stores the average and current value\"\"\"\n",
    "    def __init__(self):\n",
    "        self.reset()\n",
    "\n",
    "    def reset(self):\n",
    "        self.val = 0\n",
    "        self.avg = 0\n",
    "        self.sum = 0\n",
    "        self.count = 0\n",
    "\n",
    "    def update(self, val, n=1):\n",
    "        self.val = val\n",
    "        self.sum += val * n\n",
    "        self.count += n\n",
    "        self.avg = self.sum / self.count\n",
    "\n",
    "\n",
    "def accuracy(output, target, topk=(1,)):\n",
    "    \"\"\"Computes the precision@k for the specified values of k\"\"\"\n",
    "    maxk = max(topk)\n",
    "    batch_size = target.size(0)\n",
    "\n",
    "    _, pred = output.topk(maxk, 1, True, True)\n",
    "    pred = pred.t()\n",
    "    correct = pred.eq(target.view(1, -1).expand_as(pred))\n",
    "\n",
    "    res = []\n",
    "    for k in topk:\n",
    "        correct_k = correct[:k].view(-1).float().sum(0)\n",
    "        res.append(correct_k.mul_(100.0 / batch_size))\n",
    "    return res"
   ]
  },
  {
   "cell_type": "code",
   "execution_count": 8,
   "id": "6f005fd3",
   "metadata": {},
   "outputs": [],
   "source": [
    "train_dataset = cifarDataset(train_df[train_df.fold!=0], transform=transforms_train)\n",
    "val_dataset = cifarDataset(train_df[train_df.fold==0], transform=transforms_val, test=True)\n",
    "\n",
    "train_loader = torch.utils.data.DataLoader(\n",
    "        train_dataset,\n",
    "        batch_size=batches, shuffle=True,\n",
    "        num_workers=8, pin_memory=True)\n",
    "\n",
    "val_loader = torch.utils.data.DataLoader(\n",
    "    val_dataset,\n",
    "    batch_size=batches, shuffle=False,\n",
    "    num_workers=8, pin_memory=True)"
   ]
  },
  {
   "cell_type": "code",
   "execution_count": 9,
   "id": "a4256dce",
   "metadata": {},
   "outputs": [
    {
     "name": "stdout",
     "output_type": "stream",
     "text": [
      "abit/wbit: 8 8\n"
     ]
    }
   ],
   "source": [
    "from network.resnet import resnet20\n",
    "net = resnet20(abits=8, wbits=8, pact=False, shallow=False)"
   ]
  },
  {
   "cell_type": "code",
   "execution_count": 10,
   "id": "d5a52bab",
   "metadata": {},
   "outputs": [
    {
     "data": {
      "text/plain": [
       "tensor([[-0.6263, -0.5618,  0.2861,  0.0461,  0.5797, -0.1555,  0.1262, -0.0095,\n",
       "         -0.3979, -0.2527]], grad_fn=<AddmmBackward>)"
      ]
     },
     "execution_count": 10,
     "metadata": {},
     "output_type": "execute_result"
    }
   ],
   "source": [
    "net.forward(torch.randn(1,3,32,32))"
   ]
  },
  {
   "cell_type": "markdown",
   "id": "c3f38958",
   "metadata": {},
   "source": [
    "# Train with quantization"
   ]
  },
  {
   "cell_type": "code",
   "execution_count": null,
   "id": "bf661401",
   "metadata": {
    "scrolled": true
   },
   "outputs": [
    {
     "name": "stdout",
     "output_type": "stream",
     "text": [
      "abit/wbit: 2 2\n"
     ]
    },
    {
     "name": "stderr",
     "output_type": "stream",
     "text": [
      "\u001b[34m\u001b[1mwandb\u001b[0m: Currently logged in as: \u001b[33marutema47\u001b[0m. Use \u001b[1m`wandb login --relogin`\u001b[0m to force relogin\n"
     ]
    },
    {
     "data": {
      "text/html": [
       "Tracking run with wandb version 0.12.19"
      ],
      "text/plain": [
       "<IPython.core.display.HTML object>"
      ]
     },
     "metadata": {},
     "output_type": "display_data"
    },
    {
     "data": {
      "text/html": [
       "Run data is saved locally in <code>/media/ken/dsk1/data/quantize_models_sandbox/wandb/run-20220627_114730-mc0hux5j</code>"
      ],
      "text/plain": [
       "<IPython.core.display.HTML object>"
      ]
     },
     "metadata": {},
     "output_type": "display_data"
    },
    {
     "data": {
      "text/html": [
       "Syncing run <strong><a href=\"https://wandb.ai/arutema47/quantize_resnet2/runs/mc0hux5j\" target=\"_blank\">resnet18_uniformquantize_k2_shallow</a></strong> to <a href=\"https://wandb.ai/arutema47/quantize_resnet2\" target=\"_blank\">Weights & Biases</a> (<a href=\"https://wandb.me/run\" target=\"_blank\">docs</a>)<br/>"
      ],
      "text/plain": [
       "<IPython.core.display.HTML object>"
      ]
     },
     "metadata": {},
     "output_type": "display_data"
    },
    {
     "name": "stdout",
     "output_type": "stream",
     "text": [
      "current lr 1.00000e-06\n"
     ]
    },
    {
     "data": {
      "application/vnd.jupyter.widget-view+json": {
       "model_id": "41d77c2784fe4d0a9d7f7902ec9d1630",
       "version_major": 2,
       "version_minor": 0
      },
      "text/plain": [
       "  0%|          | 0/20 [00:00<?, ?it/s]"
      ]
     },
     "metadata": {},
     "output_type": "display_data"
    },
    {
     "name": "stdout",
     "output_type": "stream",
     "text": [
      "Epoch: [0][0/20]\tTime 3.080 (3.080)\tData 2.128 (2.128)\tLoss 2.5016 (2.5016)\tPrec@1 9.814 (9.814)\n",
      "Test: [0/5]\tTime 0.871 (0.871)\tLoss 2.3628 (2.3628)\tPrec@1 9.473 (9.473)\n",
      " * Prec@1 9.830\n",
      "Best prec1 :  9.830000091552735\n",
      "current lr 3.34000e-04\n"
     ]
    },
    {
     "data": {
      "application/vnd.jupyter.widget-view+json": {
       "model_id": "fd6dea97029148f491d80e4b95bef59d",
       "version_major": 2,
       "version_minor": 0
      },
      "text/plain": [
       "  0%|          | 0/20 [00:00<?, ?it/s]"
      ]
     },
     "metadata": {},
     "output_type": "display_data"
    },
    {
     "name": "stdout",
     "output_type": "stream",
     "text": [
      "Epoch: [1][0/20]\tTime 2.572 (2.572)\tData 2.213 (2.213)\tLoss 2.4899 (2.4899)\tPrec@1 10.791 (10.791)\n",
      "Test: [0/5]\tTime 0.896 (0.896)\tLoss 2.2588 (2.2588)\tPrec@1 17.578 (17.578)\n",
      " * Prec@1 18.130\n",
      "Best prec1 :  18.12999994506836\n",
      "current lr 6.67000e-04\n"
     ]
    },
    {
     "data": {
      "application/vnd.jupyter.widget-view+json": {
       "model_id": "519088ec56fb4fef94544473ce88e545",
       "version_major": 2,
       "version_minor": 0
      },
      "text/plain": [
       "  0%|          | 0/20 [00:00<?, ?it/s]"
      ]
     },
     "metadata": {},
     "output_type": "display_data"
    },
    {
     "name": "stdout",
     "output_type": "stream",
     "text": [
      "Epoch: [2][0/20]\tTime 2.765 (2.765)\tData 2.403 (2.403)\tLoss 2.1332 (2.1332)\tPrec@1 19.385 (19.385)\n",
      "Test: [0/5]\tTime 0.934 (0.934)\tLoss 2.0665 (2.0665)\tPrec@1 23.291 (23.291)\n",
      " * Prec@1 24.710\n",
      "Best prec1 :  24.710000030517577\n",
      "current lr 1.00000e-03\n"
     ]
    },
    {
     "data": {
      "application/vnd.jupyter.widget-view+json": {
       "model_id": "0067d2e78a4c45a0bedf416108934d15",
       "version_major": 2,
       "version_minor": 0
      },
      "text/plain": [
       "  0%|          | 0/20 [00:00<?, ?it/s]"
      ]
     },
     "metadata": {},
     "output_type": "display_data"
    },
    {
     "name": "stdout",
     "output_type": "stream",
     "text": [
      "Epoch: [3][0/20]\tTime 2.281 (2.281)\tData 1.912 (1.912)\tLoss 1.9722 (1.9722)\tPrec@1 27.246 (27.246)\n",
      "Test: [0/5]\tTime 0.908 (0.908)\tLoss 1.9264 (1.9264)\tPrec@1 26.709 (26.709)\n",
      " * Prec@1 27.340\n",
      "Best prec1 :  27.339999984741212\n",
      "current lr 9.99938e-04\n"
     ]
    },
    {
     "data": {
      "application/vnd.jupyter.widget-view+json": {
       "model_id": "cf5f0d804c924704b239de0996b2f5fb",
       "version_major": 2,
       "version_minor": 0
      },
      "text/plain": [
       "  0%|          | 0/20 [00:00<?, ?it/s]"
      ]
     },
     "metadata": {},
     "output_type": "display_data"
    },
    {
     "name": "stdout",
     "output_type": "stream",
     "text": [
      "Epoch: [4][0/20]\tTime 2.182 (2.182)\tData 1.820 (1.820)\tLoss 1.9450 (1.9450)\tPrec@1 28.271 (28.271)\n",
      "Test: [0/5]\tTime 0.895 (0.895)\tLoss 2.0504 (2.0504)\tPrec@1 27.637 (27.637)\n",
      " * Prec@1 26.710\n",
      "Best prec1 :  27.339999984741212\n",
      "current lr 9.99754e-04\n"
     ]
    },
    {
     "data": {
      "application/vnd.jupyter.widget-view+json": {
       "model_id": "740b6f8aa2164eeb929d20452e42afb7",
       "version_major": 2,
       "version_minor": 0
      },
      "text/plain": [
       "  0%|          | 0/20 [00:00<?, ?it/s]"
      ]
     },
     "metadata": {},
     "output_type": "display_data"
    },
    {
     "name": "stdout",
     "output_type": "stream",
     "text": [
      "Epoch: [5][0/20]\tTime 1.939 (1.939)\tData 1.569 (1.569)\tLoss 1.8549 (1.8549)\tPrec@1 31.299 (31.299)\n",
      "Test: [0/5]\tTime 0.888 (0.888)\tLoss 1.9819 (1.9819)\tPrec@1 27.246 (27.246)\n",
      " * Prec@1 28.180\n",
      "Best prec1 :  28.180000225830078\n",
      "current lr 9.99445e-04\n"
     ]
    },
    {
     "data": {
      "application/vnd.jupyter.widget-view+json": {
       "model_id": "1d44d775eaa749fa8c1c03c10e710f21",
       "version_major": 2,
       "version_minor": 0
      },
      "text/plain": [
       "  0%|          | 0/20 [00:00<?, ?it/s]"
      ]
     },
     "metadata": {},
     "output_type": "display_data"
    },
    {
     "name": "stdout",
     "output_type": "stream",
     "text": [
      "Epoch: [6][0/20]\tTime 1.969 (1.969)\tData 1.606 (1.606)\tLoss 1.8700 (1.8700)\tPrec@1 30.322 (30.322)\n",
      "Test: [0/5]\tTime 0.894 (0.894)\tLoss 1.8914 (1.8914)\tPrec@1 31.152 (31.152)\n",
      " * Prec@1 30.900\n",
      "Best prec1 :  30.90000010986328\n",
      "current lr 9.99014e-04\n"
     ]
    },
    {
     "data": {
      "application/vnd.jupyter.widget-view+json": {
       "model_id": "1fe2b8b2624b4efbb7d0bfca53fdf5d7",
       "version_major": 2,
       "version_minor": 0
      },
      "text/plain": [
       "  0%|          | 0/20 [00:00<?, ?it/s]"
      ]
     },
     "metadata": {},
     "output_type": "display_data"
    },
    {
     "name": "stdout",
     "output_type": "stream",
     "text": [
      "Epoch: [7][0/20]\tTime 2.398 (2.398)\tData 2.033 (2.033)\tLoss 1.7905 (1.7905)\tPrec@1 35.547 (35.547)\n",
      "Test: [0/5]\tTime 0.888 (0.888)\tLoss 1.7764 (1.7764)\tPrec@1 35.205 (35.205)\n",
      " * Prec@1 35.140\n",
      "Best prec1 :  35.13999982910156\n",
      "current lr 9.98460e-04\n"
     ]
    },
    {
     "data": {
      "application/vnd.jupyter.widget-view+json": {
       "model_id": "6dacea29dd3040d2ab48563aa9ad4232",
       "version_major": 2,
       "version_minor": 0
      },
      "text/plain": [
       "  0%|          | 0/20 [00:00<?, ?it/s]"
      ]
     },
     "metadata": {},
     "output_type": "display_data"
    },
    {
     "name": "stdout",
     "output_type": "stream",
     "text": [
      "Epoch: [8][0/20]\tTime 1.907 (1.907)\tData 1.538 (1.538)\tLoss 1.7871 (1.7871)\tPrec@1 34.814 (34.814)\n",
      "Test: [0/5]\tTime 0.946 (0.946)\tLoss 1.8172 (1.8172)\tPrec@1 34.473 (34.473)\n",
      " * Prec@1 34.120\n",
      "Best prec1 :  35.13999982910156\n",
      "current lr 9.97783e-04\n"
     ]
    },
    {
     "data": {
      "application/vnd.jupyter.widget-view+json": {
       "model_id": "52e547e47bf1470290cd102584f7a7bf",
       "version_major": 2,
       "version_minor": 0
      },
      "text/plain": [
       "  0%|          | 0/20 [00:00<?, ?it/s]"
      ]
     },
     "metadata": {},
     "output_type": "display_data"
    },
    {
     "name": "stdout",
     "output_type": "stream",
     "text": [
      "Epoch: [9][0/20]\tTime 2.425 (2.425)\tData 2.060 (2.060)\tLoss 1.7333 (1.7333)\tPrec@1 38.232 (38.232)\n",
      "Test: [0/5]\tTime 0.937 (0.937)\tLoss 1.8170 (1.8170)\tPrec@1 33.740 (33.740)\n",
      " * Prec@1 33.840\n",
      "Best prec1 :  35.13999982910156\n",
      "current lr 9.96983e-04\n"
     ]
    },
    {
     "data": {
      "application/vnd.jupyter.widget-view+json": {
       "model_id": "f6ec361325064fdc8d0ed1a3c82909a5",
       "version_major": 2,
       "version_minor": 0
      },
      "text/plain": [
       "  0%|          | 0/20 [00:00<?, ?it/s]"
      ]
     },
     "metadata": {},
     "output_type": "display_data"
    },
    {
     "name": "stdout",
     "output_type": "stream",
     "text": [
      "Epoch: [10][0/20]\tTime 2.421 (2.421)\tData 2.056 (2.056)\tLoss 1.7324 (1.7324)\tPrec@1 35.498 (35.498)\n",
      "Test: [0/5]\tTime 0.937 (0.937)\tLoss 1.7700 (1.7700)\tPrec@1 34.180 (34.180)\n",
      " * Prec@1 35.240\n",
      "Best prec1 :  35.23999974975586\n",
      "current lr 9.96061e-04\n"
     ]
    },
    {
     "data": {
      "application/vnd.jupyter.widget-view+json": {
       "model_id": "9a31d809e73048ecbae36f2d84d3f369",
       "version_major": 2,
       "version_minor": 0
      },
      "text/plain": [
       "  0%|          | 0/20 [00:00<?, ?it/s]"
      ]
     },
     "metadata": {},
     "output_type": "display_data"
    },
    {
     "name": "stdout",
     "output_type": "stream",
     "text": [
      "Epoch: [11][0/20]\tTime 2.172 (2.172)\tData 1.807 (1.807)\tLoss 1.6850 (1.6850)\tPrec@1 37.549 (37.549)\n",
      "Test: [0/5]\tTime 0.889 (0.889)\tLoss 1.6498 (1.6498)\tPrec@1 40.479 (40.479)\n",
      " * Prec@1 40.020\n",
      "Best prec1 :  40.0200003112793\n",
      "current lr 9.95017e-04\n"
     ]
    },
    {
     "data": {
      "application/vnd.jupyter.widget-view+json": {
       "model_id": "e0753b637d1a4fb8b5701fac704f8816",
       "version_major": 2,
       "version_minor": 0
      },
      "text/plain": [
       "  0%|          | 0/20 [00:00<?, ?it/s]"
      ]
     },
     "metadata": {},
     "output_type": "display_data"
    },
    {
     "name": "stdout",
     "output_type": "stream",
     "text": [
      "Epoch: [12][0/20]\tTime 2.710 (2.710)\tData 2.347 (2.347)\tLoss 1.6304 (1.6304)\tPrec@1 39.844 (39.844)\n",
      "Test: [0/5]\tTime 0.897 (0.897)\tLoss 1.7310 (1.7310)\tPrec@1 38.135 (38.135)\n",
      " * Prec@1 38.440\n",
      "Best prec1 :  40.0200003112793\n",
      "current lr 9.93850e-04\n"
     ]
    },
    {
     "data": {
      "application/vnd.jupyter.widget-view+json": {
       "model_id": "4774d7d2cdcc4dcc9ec464e9848b8c6b",
       "version_major": 2,
       "version_minor": 0
      },
      "text/plain": [
       "  0%|          | 0/20 [00:00<?, ?it/s]"
      ]
     },
     "metadata": {},
     "output_type": "display_data"
    },
    {
     "name": "stdout",
     "output_type": "stream",
     "text": [
      "Epoch: [13][0/20]\tTime 2.733 (2.733)\tData 2.367 (2.367)\tLoss 1.6655 (1.6655)\tPrec@1 39.355 (39.355)\n",
      "Test: [0/5]\tTime 0.920 (0.920)\tLoss 1.8097 (1.8097)\tPrec@1 36.670 (36.670)\n",
      " * Prec@1 38.400\n",
      "Best prec1 :  40.0200003112793\n",
      "current lr 9.92562e-04\n"
     ]
    },
    {
     "data": {
      "application/vnd.jupyter.widget-view+json": {
       "model_id": "9a501bc6a9a9413d976f12192a8c7271",
       "version_major": 2,
       "version_minor": 0
      },
      "text/plain": [
       "  0%|          | 0/20 [00:00<?, ?it/s]"
      ]
     },
     "metadata": {},
     "output_type": "display_data"
    },
    {
     "name": "stdout",
     "output_type": "stream",
     "text": [
      "Epoch: [14][0/20]\tTime 2.373 (2.373)\tData 2.009 (2.009)\tLoss 1.6450 (1.6450)\tPrec@1 39.697 (39.697)\n",
      "Test: [0/5]\tTime 0.906 (0.906)\tLoss 1.7717 (1.7717)\tPrec@1 37.695 (37.695)\n",
      " * Prec@1 38.370\n",
      "Best prec1 :  40.0200003112793\n",
      "current lr 9.91152e-04\n"
     ]
    },
    {
     "data": {
      "application/vnd.jupyter.widget-view+json": {
       "model_id": "9f92f3bbe5f84cc89b48bbdf5be7bda7",
       "version_major": 2,
       "version_minor": 0
      },
      "text/plain": [
       "  0%|          | 0/20 [00:00<?, ?it/s]"
      ]
     },
     "metadata": {},
     "output_type": "display_data"
    },
    {
     "name": "stdout",
     "output_type": "stream",
     "text": [
      "Epoch: [15][0/20]\tTime 2.730 (2.730)\tData 2.364 (2.364)\tLoss 1.6065 (1.6065)\tPrec@1 41.162 (41.162)\n",
      "Test: [0/5]\tTime 0.877 (0.877)\tLoss 1.6064 (1.6064)\tPrec@1 41.211 (41.211)\n",
      " * Prec@1 41.070\n",
      "Best prec1 :  41.070000262451174\n",
      "current lr 9.89622e-04\n"
     ]
    },
    {
     "data": {
      "application/vnd.jupyter.widget-view+json": {
       "model_id": "7cf71b4743244ec7920ca0e1d5014332",
       "version_major": 2,
       "version_minor": 0
      },
      "text/plain": [
       "  0%|          | 0/20 [00:00<?, ?it/s]"
      ]
     },
     "metadata": {},
     "output_type": "display_data"
    },
    {
     "name": "stdout",
     "output_type": "stream",
     "text": [
      "Epoch: [16][0/20]\tTime 2.344 (2.344)\tData 1.979 (1.979)\tLoss 1.6200 (1.6200)\tPrec@1 40.088 (40.088)\n",
      "Test: [0/5]\tTime 0.916 (0.916)\tLoss 1.5765 (1.5765)\tPrec@1 42.285 (42.285)\n",
      " * Prec@1 42.770\n",
      "Best prec1 :  42.76999986572265\n",
      "current lr 9.87970e-04\n"
     ]
    },
    {
     "data": {
      "application/vnd.jupyter.widget-view+json": {
       "model_id": "9dae9249008a474ba6a4760268ff8ba7",
       "version_major": 2,
       "version_minor": 0
      },
      "text/plain": [
       "  0%|          | 0/20 [00:00<?, ?it/s]"
      ]
     },
     "metadata": {},
     "output_type": "display_data"
    },
    {
     "name": "stdout",
     "output_type": "stream",
     "text": [
      "Epoch: [17][0/20]\tTime 1.940 (1.940)\tData 1.570 (1.570)\tLoss 1.5544 (1.5544)\tPrec@1 42.969 (42.969)\n",
      "Test: [0/5]\tTime 0.907 (0.907)\tLoss 1.7393 (1.7393)\tPrec@1 39.062 (39.062)\n",
      " * Prec@1 38.720\n",
      "Best prec1 :  42.76999986572265\n",
      "current lr 9.86199e-04\n"
     ]
    },
    {
     "data": {
      "application/vnd.jupyter.widget-view+json": {
       "model_id": "07bc7f6f817048cb8d3a2b2adb14c8ef",
       "version_major": 2,
       "version_minor": 0
      },
      "text/plain": [
       "  0%|          | 0/20 [00:00<?, ?it/s]"
      ]
     },
     "metadata": {},
     "output_type": "display_data"
    },
    {
     "name": "stdout",
     "output_type": "stream",
     "text": [
      "Epoch: [18][0/20]\tTime 2.723 (2.723)\tData 2.360 (2.360)\tLoss 1.5748 (1.5748)\tPrec@1 41.895 (41.895)\n",
      "Test: [0/5]\tTime 0.883 (0.883)\tLoss 1.6684 (1.6684)\tPrec@1 39.062 (39.062)\n",
      " * Prec@1 40.400\n",
      "Best prec1 :  42.76999986572265\n",
      "current lr 9.84307e-04\n"
     ]
    },
    {
     "data": {
      "application/vnd.jupyter.widget-view+json": {
       "model_id": "b3301a77dd8a497a841a807a1d1bd36d",
       "version_major": 2,
       "version_minor": 0
      },
      "text/plain": [
       "  0%|          | 0/20 [00:00<?, ?it/s]"
      ]
     },
     "metadata": {},
     "output_type": "display_data"
    },
    {
     "name": "stdout",
     "output_type": "stream",
     "text": [
      "Epoch: [19][0/20]\tTime 2.076 (2.076)\tData 1.709 (1.709)\tLoss 1.5636 (1.5636)\tPrec@1 43.750 (43.750)\n",
      "Test: [0/5]\tTime 0.908 (0.908)\tLoss 1.5809 (1.5809)\tPrec@1 44.092 (44.092)\n",
      " * Prec@1 42.720\n",
      "Best prec1 :  42.76999986572265\n",
      "current lr 9.82296e-04\n"
     ]
    },
    {
     "data": {
      "application/vnd.jupyter.widget-view+json": {
       "model_id": "2b9e9dea47854a789dafdd60c17aa989",
       "version_major": 2,
       "version_minor": 0
      },
      "text/plain": [
       "  0%|          | 0/20 [00:00<?, ?it/s]"
      ]
     },
     "metadata": {},
     "output_type": "display_data"
    },
    {
     "name": "stdout",
     "output_type": "stream",
     "text": [
      "Epoch: [20][0/20]\tTime 1.938 (1.938)\tData 1.573 (1.573)\tLoss 1.5523 (1.5523)\tPrec@1 44.775 (44.775)\n",
      "Test: [0/5]\tTime 0.903 (0.903)\tLoss 1.5455 (1.5455)\tPrec@1 43.896 (43.896)\n",
      " * Prec@1 44.100\n",
      "Best prec1 :  44.100000427246094\n",
      "current lr 9.80167e-04\n"
     ]
    },
    {
     "data": {
      "application/vnd.jupyter.widget-view+json": {
       "model_id": "e409357c95a1468bb9a5a9f29bfa109f",
       "version_major": 2,
       "version_minor": 0
      },
      "text/plain": [
       "  0%|          | 0/20 [00:00<?, ?it/s]"
      ]
     },
     "metadata": {},
     "output_type": "display_data"
    },
    {
     "name": "stdout",
     "output_type": "stream",
     "text": [
      "Epoch: [21][0/20]\tTime 2.726 (2.726)\tData 2.362 (2.362)\tLoss 1.5844 (1.5844)\tPrec@1 42.285 (42.285)\n",
      "Test: [0/5]\tTime 0.898 (0.898)\tLoss 1.5470 (1.5470)\tPrec@1 44.580 (44.580)\n",
      " * Prec@1 43.470\n",
      "Best prec1 :  44.100000427246094\n",
      "current lr 9.77919e-04\n"
     ]
    },
    {
     "data": {
      "application/vnd.jupyter.widget-view+json": {
       "model_id": "b05f6dc861bc4abdb31ea860dd0de64b",
       "version_major": 2,
       "version_minor": 0
      },
      "text/plain": [
       "  0%|          | 0/20 [00:00<?, ?it/s]"
      ]
     },
     "metadata": {},
     "output_type": "display_data"
    },
    {
     "name": "stdout",
     "output_type": "stream",
     "text": [
      "Epoch: [22][0/20]\tTime 2.800 (2.800)\tData 2.434 (2.434)\tLoss 1.5430 (1.5430)\tPrec@1 44.580 (44.580)\n",
      "Test: [0/5]\tTime 0.901 (0.901)\tLoss 1.5367 (1.5367)\tPrec@1 45.654 (45.654)\n",
      " * Prec@1 44.500\n",
      "Best prec1 :  44.49999993286133\n",
      "current lr 9.75553e-04\n"
     ]
    },
    {
     "data": {
      "application/vnd.jupyter.widget-view+json": {
       "model_id": "5861ef8eaa12467baaa41bc597e36f3b",
       "version_major": 2,
       "version_minor": 0
      },
      "text/plain": [
       "  0%|          | 0/20 [00:00<?, ?it/s]"
      ]
     },
     "metadata": {},
     "output_type": "display_data"
    },
    {
     "name": "stdout",
     "output_type": "stream",
     "text": [
      "Epoch: [23][0/20]\tTime 2.044 (2.044)\tData 1.679 (1.679)\tLoss 1.5447 (1.5447)\tPrec@1 44.678 (44.678)\n",
      "Test: [0/5]\tTime 0.903 (0.903)\tLoss 1.5903 (1.5903)\tPrec@1 43.457 (43.457)\n",
      " * Prec@1 43.410\n",
      "Best prec1 :  44.49999993286133\n",
      "current lr 9.73070e-04\n"
     ]
    },
    {
     "data": {
      "application/vnd.jupyter.widget-view+json": {
       "model_id": "5460a177df834c53ba9122b4c16d2851",
       "version_major": 2,
       "version_minor": 0
      },
      "text/plain": [
       "  0%|          | 0/20 [00:00<?, ?it/s]"
      ]
     },
     "metadata": {},
     "output_type": "display_data"
    },
    {
     "name": "stdout",
     "output_type": "stream",
     "text": [
      "Epoch: [24][0/20]\tTime 2.134 (2.134)\tData 1.770 (1.770)\tLoss 1.4895 (1.4895)\tPrec@1 47.217 (47.217)\n",
      "Test: [0/5]\tTime 0.951 (0.951)\tLoss 1.5544 (1.5544)\tPrec@1 43.799 (43.799)\n",
      " * Prec@1 43.620\n",
      "Best prec1 :  44.49999993286133\n",
      "current lr 9.70470e-04\n"
     ]
    },
    {
     "data": {
      "application/vnd.jupyter.widget-view+json": {
       "model_id": "dcc3d07637f74baa9513cb7c6c1b2c58",
       "version_major": 2,
       "version_minor": 0
      },
      "text/plain": [
       "  0%|          | 0/20 [00:00<?, ?it/s]"
      ]
     },
     "metadata": {},
     "output_type": "display_data"
    },
    {
     "name": "stdout",
     "output_type": "stream",
     "text": [
      "Epoch: [25][0/20]\tTime 2.500 (2.500)\tData 2.132 (2.132)\tLoss 1.5277 (1.5277)\tPrec@1 46.143 (46.143)\n",
      "Test: [0/5]\tTime 0.937 (0.937)\tLoss 1.5302 (1.5302)\tPrec@1 45.117 (45.117)\n",
      " * Prec@1 44.440\n",
      "Best prec1 :  44.49999993286133\n",
      "current lr 9.67754e-04\n"
     ]
    },
    {
     "data": {
      "application/vnd.jupyter.widget-view+json": {
       "model_id": "20772b1a441a4309a1fd7954e52bfedd",
       "version_major": 2,
       "version_minor": 0
      },
      "text/plain": [
       "  0%|          | 0/20 [00:00<?, ?it/s]"
      ]
     },
     "metadata": {},
     "output_type": "display_data"
    },
    {
     "name": "stdout",
     "output_type": "stream",
     "text": [
      "Epoch: [26][0/20]\tTime 2.484 (2.484)\tData 2.121 (2.121)\tLoss 1.5119 (1.5119)\tPrec@1 46.240 (46.240)\n",
      "Test: [0/5]\tTime 0.905 (0.905)\tLoss 1.5185 (1.5185)\tPrec@1 46.533 (46.533)\n",
      " * Prec@1 46.050\n",
      "Best prec1 :  46.05000028076172\n",
      "current lr 9.64923e-04\n"
     ]
    },
    {
     "data": {
      "application/vnd.jupyter.widget-view+json": {
       "model_id": "958b427d77c54cd2b35a5e77012cd070",
       "version_major": 2,
       "version_minor": 0
      },
      "text/plain": [
       "  0%|          | 0/20 [00:00<?, ?it/s]"
      ]
     },
     "metadata": {},
     "output_type": "display_data"
    },
    {
     "name": "stdout",
     "output_type": "stream",
     "text": [
      "Epoch: [27][0/20]\tTime 2.369 (2.369)\tData 2.007 (2.007)\tLoss 1.5402 (1.5402)\tPrec@1 45.752 (45.752)\n",
      "Test: [0/5]\tTime 1.079 (1.079)\tLoss 1.6967 (1.6967)\tPrec@1 40.527 (40.527)\n",
      " * Prec@1 40.370\n",
      "Best prec1 :  46.05000028076172\n",
      "current lr 9.61978e-04\n"
     ]
    },
    {
     "data": {
      "application/vnd.jupyter.widget-view+json": {
       "model_id": "15a36a93814844faa40417fabfb952f3",
       "version_major": 2,
       "version_minor": 0
      },
      "text/plain": [
       "  0%|          | 0/20 [00:00<?, ?it/s]"
      ]
     },
     "metadata": {},
     "output_type": "display_data"
    },
    {
     "name": "stdout",
     "output_type": "stream",
     "text": [
      "Epoch: [28][0/20]\tTime 2.613 (2.613)\tData 2.251 (2.251)\tLoss 1.4846 (1.4846)\tPrec@1 47.705 (47.705)\n",
      "Test: [0/5]\tTime 1.014 (1.014)\tLoss 1.5299 (1.5299)\tPrec@1 44.727 (44.727)\n",
      " * Prec@1 43.660\n",
      "Best prec1 :  46.05000028076172\n",
      "current lr 9.58918e-04\n"
     ]
    },
    {
     "data": {
      "application/vnd.jupyter.widget-view+json": {
       "model_id": "f24af863d38545a496aee1c7b63396a9",
       "version_major": 2,
       "version_minor": 0
      },
      "text/plain": [
       "  0%|          | 0/20 [00:00<?, ?it/s]"
      ]
     },
     "metadata": {},
     "output_type": "display_data"
    },
    {
     "name": "stdout",
     "output_type": "stream",
     "text": [
      "Epoch: [29][0/20]\tTime 2.336 (2.336)\tData 1.970 (1.970)\tLoss 1.4976 (1.4976)\tPrec@1 46.045 (46.045)\n",
      "Test: [0/5]\tTime 0.914 (0.914)\tLoss 1.5302 (1.5302)\tPrec@1 44.385 (44.385)\n",
      " * Prec@1 44.690\n",
      "Best prec1 :  46.05000028076172\n",
      "current lr 9.55746e-04\n"
     ]
    },
    {
     "data": {
      "application/vnd.jupyter.widget-view+json": {
       "model_id": "ef17f3d4fc964a2f8c28c2b430f230f0",
       "version_major": 2,
       "version_minor": 0
      },
      "text/plain": [
       "  0%|          | 0/20 [00:00<?, ?it/s]"
      ]
     },
     "metadata": {},
     "output_type": "display_data"
    },
    {
     "name": "stdout",
     "output_type": "stream",
     "text": [
      "Epoch: [30][0/20]\tTime 2.665 (2.665)\tData 2.304 (2.304)\tLoss 1.5001 (1.5001)\tPrec@1 46.484 (46.484)\n",
      "Test: [0/5]\tTime 0.899 (0.899)\tLoss 1.4428 (1.4428)\tPrec@1 49.023 (49.023)\n",
      " * Prec@1 48.100\n",
      "Best prec1 :  48.09999986572266\n",
      "current lr 9.52461e-04\n"
     ]
    },
    {
     "data": {
      "application/vnd.jupyter.widget-view+json": {
       "model_id": "ca01983ef71f45c79efbb58ace1a9ce7",
       "version_major": 2,
       "version_minor": 0
      },
      "text/plain": [
       "  0%|          | 0/20 [00:00<?, ?it/s]"
      ]
     },
     "metadata": {},
     "output_type": "display_data"
    },
    {
     "name": "stdout",
     "output_type": "stream",
     "text": [
      "Epoch: [31][0/20]\tTime 2.308 (2.308)\tData 1.945 (1.945)\tLoss 1.4603 (1.4603)\tPrec@1 47.949 (47.949)\n",
      "Test: [0/5]\tTime 0.925 (0.925)\tLoss 1.4973 (1.4973)\tPrec@1 45.508 (45.508)\n",
      " * Prec@1 45.920\n",
      "Best prec1 :  48.09999986572266\n",
      "current lr 9.49065e-04\n"
     ]
    },
    {
     "data": {
      "application/vnd.jupyter.widget-view+json": {
       "model_id": "2cdf737b52024eb2b4b998b6806679ca",
       "version_major": 2,
       "version_minor": 0
      },
      "text/plain": [
       "  0%|          | 0/20 [00:00<?, ?it/s]"
      ]
     },
     "metadata": {},
     "output_type": "display_data"
    },
    {
     "name": "stdout",
     "output_type": "stream",
     "text": [
      "Epoch: [32][0/20]\tTime 2.637 (2.637)\tData 2.274 (2.274)\tLoss 1.4524 (1.4524)\tPrec@1 47.607 (47.607)\n",
      "Test: [0/5]\tTime 0.894 (0.894)\tLoss 1.4739 (1.4739)\tPrec@1 47.021 (47.021)\n",
      " * Prec@1 46.890\n",
      "Best prec1 :  48.09999986572266\n",
      "current lr 9.45558e-04\n"
     ]
    },
    {
     "data": {
      "application/vnd.jupyter.widget-view+json": {
       "model_id": "cb482ec9368941aabd71ce248fbddb89",
       "version_major": 2,
       "version_minor": 0
      },
      "text/plain": [
       "  0%|          | 0/20 [00:00<?, ?it/s]"
      ]
     },
     "metadata": {},
     "output_type": "display_data"
    },
    {
     "name": "stdout",
     "output_type": "stream",
     "text": [
      "Epoch: [33][0/20]\tTime 2.169 (2.169)\tData 1.798 (1.798)\tLoss 1.4467 (1.4467)\tPrec@1 47.754 (47.754)\n",
      "Test: [0/5]\tTime 0.891 (0.891)\tLoss 1.5466 (1.5466)\tPrec@1 46.338 (46.338)\n",
      " * Prec@1 45.990\n",
      "Best prec1 :  48.09999986572266\n",
      "current lr 9.41941e-04\n"
     ]
    },
    {
     "data": {
      "application/vnd.jupyter.widget-view+json": {
       "model_id": "fc6f1ad7e1354ce0ae75338982d159af",
       "version_major": 2,
       "version_minor": 0
      },
      "text/plain": [
       "  0%|          | 0/20 [00:00<?, ?it/s]"
      ]
     },
     "metadata": {},
     "output_type": "display_data"
    },
    {
     "name": "stdout",
     "output_type": "stream",
     "text": [
      "Epoch: [34][0/20]\tTime 2.673 (2.673)\tData 2.306 (2.306)\tLoss 1.4141 (1.4141)\tPrec@1 50.146 (50.146)\n",
      "Test: [0/5]\tTime 0.975 (0.975)\tLoss 1.4622 (1.4622)\tPrec@1 48.779 (48.779)\n",
      " * Prec@1 47.150\n",
      "Best prec1 :  48.09999986572266\n",
      "current lr 9.38215e-04\n"
     ]
    },
    {
     "data": {
      "application/vnd.jupyter.widget-view+json": {
       "model_id": "5266f0268a1d422badd1c7cc89f43485",
       "version_major": 2,
       "version_minor": 0
      },
      "text/plain": [
       "  0%|          | 0/20 [00:00<?, ?it/s]"
      ]
     },
     "metadata": {},
     "output_type": "display_data"
    },
    {
     "name": "stdout",
     "output_type": "stream",
     "text": [
      "Epoch: [35][0/20]\tTime 2.015 (2.015)\tData 1.646 (1.646)\tLoss 1.3965 (1.3965)\tPrec@1 48.975 (48.975)\n",
      "Test: [0/5]\tTime 0.903 (0.903)\tLoss 1.4092 (1.4092)\tPrec@1 50.000 (50.000)\n",
      " * Prec@1 49.000\n",
      "Best prec1 :  49.000000323486326\n",
      "current lr 9.34381e-04\n"
     ]
    },
    {
     "data": {
      "application/vnd.jupyter.widget-view+json": {
       "model_id": "a97b926f76b1463ead79d3cb72177b7d",
       "version_major": 2,
       "version_minor": 0
      },
      "text/plain": [
       "  0%|          | 0/20 [00:00<?, ?it/s]"
      ]
     },
     "metadata": {},
     "output_type": "display_data"
    },
    {
     "name": "stdout",
     "output_type": "stream",
     "text": [
      "Epoch: [36][0/20]\tTime 2.175 (2.175)\tData 1.812 (1.812)\tLoss 1.4445 (1.4445)\tPrec@1 48.145 (48.145)\n",
      "Test: [0/5]\tTime 0.932 (0.932)\tLoss 1.4720 (1.4720)\tPrec@1 48.682 (48.682)\n",
      " * Prec@1 46.910\n",
      "Best prec1 :  49.000000323486326\n",
      "current lr 9.30441e-04\n"
     ]
    },
    {
     "data": {
      "application/vnd.jupyter.widget-view+json": {
       "model_id": "760866eaec7c475c9ed7b6fe441ba830",
       "version_major": 2,
       "version_minor": 0
      },
      "text/plain": [
       "  0%|          | 0/20 [00:00<?, ?it/s]"
      ]
     },
     "metadata": {},
     "output_type": "display_data"
    },
    {
     "name": "stdout",
     "output_type": "stream",
     "text": [
      "Epoch: [37][0/20]\tTime 2.526 (2.526)\tData 2.165 (2.165)\tLoss 1.3899 (1.3899)\tPrec@1 50.977 (50.977)\n",
      "Test: [0/5]\tTime 0.894 (0.894)\tLoss 1.5029 (1.5029)\tPrec@1 46.191 (46.191)\n",
      " * Prec@1 45.510\n",
      "Best prec1 :  49.000000323486326\n",
      "current lr 9.26394e-04\n"
     ]
    },
    {
     "data": {
      "application/vnd.jupyter.widget-view+json": {
       "model_id": "09430af71cf4490c9de6c86c3cfa3e09",
       "version_major": 2,
       "version_minor": 0
      },
      "text/plain": [
       "  0%|          | 0/20 [00:00<?, ?it/s]"
      ]
     },
     "metadata": {},
     "output_type": "display_data"
    },
    {
     "name": "stdout",
     "output_type": "stream",
     "text": [
      "Epoch: [38][0/20]\tTime 1.964 (1.964)\tData 1.601 (1.601)\tLoss 1.4206 (1.4206)\tPrec@1 49.072 (49.072)\n",
      "Test: [0/5]\tTime 0.891 (0.891)\tLoss 1.4414 (1.4414)\tPrec@1 48.438 (48.438)\n",
      " * Prec@1 48.740\n",
      "Best prec1 :  49.000000323486326\n",
      "current lr 9.22242e-04\n"
     ]
    },
    {
     "data": {
      "application/vnd.jupyter.widget-view+json": {
       "model_id": "277564c5a9bb4f85b3b4f7c83e33864e",
       "version_major": 2,
       "version_minor": 0
      },
      "text/plain": [
       "  0%|          | 0/20 [00:00<?, ?it/s]"
      ]
     },
     "metadata": {},
     "output_type": "display_data"
    },
    {
     "name": "stdout",
     "output_type": "stream",
     "text": [
      "Epoch: [39][0/20]\tTime 1.925 (1.925)\tData 1.561 (1.561)\tLoss 1.4499 (1.4499)\tPrec@1 46.973 (46.973)\n",
      "Test: [0/5]\tTime 1.014 (1.014)\tLoss 1.4950 (1.4950)\tPrec@1 46.143 (46.143)\n",
      " * Prec@1 45.790\n",
      "Best prec1 :  49.000000323486326\n",
      "current lr 9.17986e-04\n"
     ]
    },
    {
     "data": {
      "application/vnd.jupyter.widget-view+json": {
       "model_id": "1f7faa70a15f4d35b2c86d8f4665e450",
       "version_major": 2,
       "version_minor": 0
      },
      "text/plain": [
       "  0%|          | 0/20 [00:00<?, ?it/s]"
      ]
     },
     "metadata": {},
     "output_type": "display_data"
    },
    {
     "name": "stdout",
     "output_type": "stream",
     "text": [
      "Epoch: [40][0/20]\tTime 2.794 (2.794)\tData 2.435 (2.435)\tLoss 1.4315 (1.4315)\tPrec@1 48.438 (48.438)\n",
      "Test: [0/5]\tTime 0.911 (0.911)\tLoss 1.5065 (1.5065)\tPrec@1 47.803 (47.803)\n",
      " * Prec@1 46.490\n",
      "Best prec1 :  49.000000323486326\n",
      "current lr 9.13627e-04\n"
     ]
    },
    {
     "data": {
      "application/vnd.jupyter.widget-view+json": {
       "model_id": "770d1a14ef994016a4821b9609d5b34a",
       "version_major": 2,
       "version_minor": 0
      },
      "text/plain": [
       "  0%|          | 0/20 [00:00<?, ?it/s]"
      ]
     },
     "metadata": {},
     "output_type": "display_data"
    },
    {
     "name": "stdout",
     "output_type": "stream",
     "text": [
      "Epoch: [41][0/20]\tTime 2.443 (2.443)\tData 2.080 (2.080)\tLoss 1.4743 (1.4743)\tPrec@1 46.387 (46.387)\n",
      "Test: [0/5]\tTime 0.990 (0.990)\tLoss 1.4467 (1.4467)\tPrec@1 49.121 (49.121)\n",
      " * Prec@1 47.380\n",
      "Best prec1 :  49.000000323486326\n",
      "current lr 9.09166e-04\n"
     ]
    },
    {
     "data": {
      "application/vnd.jupyter.widget-view+json": {
       "model_id": "eaeed72329584aa6acd4a7d760de1b40",
       "version_major": 2,
       "version_minor": 0
      },
      "text/plain": [
       "  0%|          | 0/20 [00:00<?, ?it/s]"
      ]
     },
     "metadata": {},
     "output_type": "display_data"
    },
    {
     "name": "stdout",
     "output_type": "stream",
     "text": [
      "Epoch: [42][0/20]\tTime 2.817 (2.817)\tData 2.454 (2.454)\tLoss 1.4410 (1.4410)\tPrec@1 47.412 (47.412)\n",
      "Test: [0/5]\tTime 0.906 (0.906)\tLoss 1.4210 (1.4210)\tPrec@1 48.438 (48.438)\n",
      " * Prec@1 47.560\n",
      "Best prec1 :  49.000000323486326\n",
      "current lr 9.04604e-04\n"
     ]
    },
    {
     "data": {
      "application/vnd.jupyter.widget-view+json": {
       "model_id": "2b6fcd5378854eeca29c531d02d60448",
       "version_major": 2,
       "version_minor": 0
      },
      "text/plain": [
       "  0%|          | 0/20 [00:00<?, ?it/s]"
      ]
     },
     "metadata": {},
     "output_type": "display_data"
    },
    {
     "name": "stdout",
     "output_type": "stream",
     "text": [
      "Epoch: [43][0/20]\tTime 2.567 (2.567)\tData 2.205 (2.205)\tLoss 1.4180 (1.4180)\tPrec@1 48.682 (48.682)\n",
      "Test: [0/5]\tTime 0.907 (0.907)\tLoss 1.3688 (1.3688)\tPrec@1 52.100 (52.100)\n",
      " * Prec@1 50.040\n",
      "Best prec1 :  50.0400001159668\n",
      "current lr 8.99942e-04\n"
     ]
    },
    {
     "data": {
      "application/vnd.jupyter.widget-view+json": {
       "model_id": "f5d759569222499aa7e991f2d0f8803a",
       "version_major": 2,
       "version_minor": 0
      },
      "text/plain": [
       "  0%|          | 0/20 [00:00<?, ?it/s]"
      ]
     },
     "metadata": {},
     "output_type": "display_data"
    },
    {
     "name": "stdout",
     "output_type": "stream",
     "text": [
      "Epoch: [44][0/20]\tTime 2.051 (2.051)\tData 1.687 (1.687)\tLoss 1.3325 (1.3325)\tPrec@1 51.807 (51.807)\n",
      "Test: [0/5]\tTime 0.894 (0.894)\tLoss 1.3833 (1.3833)\tPrec@1 50.781 (50.781)\n",
      " * Prec@1 49.690\n",
      "Best prec1 :  50.0400001159668\n",
      "current lr 8.95182e-04\n"
     ]
    },
    {
     "data": {
      "application/vnd.jupyter.widget-view+json": {
       "model_id": "c56056b2a5c141c595f544ce99c7bf82",
       "version_major": 2,
       "version_minor": 0
      },
      "text/plain": [
       "  0%|          | 0/20 [00:00<?, ?it/s]"
      ]
     },
     "metadata": {},
     "output_type": "display_data"
    },
    {
     "name": "stdout",
     "output_type": "stream",
     "text": [
      "Epoch: [45][0/20]\tTime 2.056 (2.056)\tData 1.690 (1.690)\tLoss 1.3776 (1.3776)\tPrec@1 49.805 (49.805)\n",
      "Test: [0/5]\tTime 0.903 (0.903)\tLoss 1.4145 (1.4145)\tPrec@1 51.367 (51.367)\n",
      " * Prec@1 49.310\n",
      "Best prec1 :  50.0400001159668\n",
      "current lr 8.90325e-04\n"
     ]
    },
    {
     "data": {
      "application/vnd.jupyter.widget-view+json": {
       "model_id": "a6271b568f4044d1bb6b935bb141e0d6",
       "version_major": 2,
       "version_minor": 0
      },
      "text/plain": [
       "  0%|          | 0/20 [00:00<?, ?it/s]"
      ]
     },
     "metadata": {},
     "output_type": "display_data"
    },
    {
     "name": "stdout",
     "output_type": "stream",
     "text": [
      "Epoch: [46][0/20]\tTime 1.961 (1.961)\tData 1.599 (1.599)\tLoss 1.3610 (1.3610)\tPrec@1 50.439 (50.439)\n",
      "Test: [0/5]\tTime 0.955 (0.955)\tLoss 1.4225 (1.4225)\tPrec@1 49.707 (49.707)\n",
      " * Prec@1 49.340\n",
      "Best prec1 :  50.0400001159668\n",
      "current lr 8.85371e-04\n"
     ]
    },
    {
     "data": {
      "application/vnd.jupyter.widget-view+json": {
       "model_id": "7c001751230b4ad799770ae098a8933b",
       "version_major": 2,
       "version_minor": 0
      },
      "text/plain": [
       "  0%|          | 0/20 [00:00<?, ?it/s]"
      ]
     },
     "metadata": {},
     "output_type": "display_data"
    },
    {
     "name": "stdout",
     "output_type": "stream",
     "text": [
      "Epoch: [47][0/20]\tTime 2.146 (2.146)\tData 1.780 (1.780)\tLoss 1.4062 (1.4062)\tPrec@1 50.342 (50.342)\n",
      "Test: [0/5]\tTime 0.918 (0.918)\tLoss 1.3567 (1.3567)\tPrec@1 52.051 (52.051)\n",
      " * Prec@1 50.960\n",
      "Best prec1 :  50.95999982299805\n",
      "current lr 8.80323e-04\n"
     ]
    },
    {
     "data": {
      "application/vnd.jupyter.widget-view+json": {
       "model_id": "f72e69528d294ae9bfa6ebeafa9c5212",
       "version_major": 2,
       "version_minor": 0
      },
      "text/plain": [
       "  0%|          | 0/20 [00:00<?, ?it/s]"
      ]
     },
     "metadata": {},
     "output_type": "display_data"
    },
    {
     "name": "stdout",
     "output_type": "stream",
     "text": [
      "Epoch: [48][0/20]\tTime 2.612 (2.612)\tData 2.245 (2.245)\tLoss 1.3588 (1.3588)\tPrec@1 52.490 (52.490)\n",
      "Test: [0/5]\tTime 0.881 (0.881)\tLoss 1.5605 (1.5605)\tPrec@1 46.191 (46.191)\n",
      " * Prec@1 44.930\n",
      "Best prec1 :  50.95999982299805\n",
      "current lr 8.75180e-04\n"
     ]
    },
    {
     "data": {
      "application/vnd.jupyter.widget-view+json": {
       "model_id": "a899d748842e4976b1383a955cbea006",
       "version_major": 2,
       "version_minor": 0
      },
      "text/plain": [
       "  0%|          | 0/20 [00:00<?, ?it/s]"
      ]
     },
     "metadata": {},
     "output_type": "display_data"
    },
    {
     "name": "stdout",
     "output_type": "stream",
     "text": [
      "Epoch: [49][0/20]\tTime 2.397 (2.397)\tData 2.033 (2.033)\tLoss 1.4029 (1.4029)\tPrec@1 49.268 (49.268)\n",
      "Test: [0/5]\tTime 0.918 (0.918)\tLoss 1.4192 (1.4192)\tPrec@1 49.854 (49.854)\n",
      " * Prec@1 49.780\n",
      "Best prec1 :  50.95999982299805\n",
      "current lr 8.69946e-04\n"
     ]
    },
    {
     "data": {
      "application/vnd.jupyter.widget-view+json": {
       "model_id": "f6e12561f9e4417f9ced9fc442b918c2",
       "version_major": 2,
       "version_minor": 0
      },
      "text/plain": [
       "  0%|          | 0/20 [00:00<?, ?it/s]"
      ]
     },
     "metadata": {},
     "output_type": "display_data"
    },
    {
     "name": "stdout",
     "output_type": "stream",
     "text": [
      "Epoch: [50][0/20]\tTime 2.601 (2.601)\tData 2.240 (2.240)\tLoss 1.4100 (1.4100)\tPrec@1 49.609 (49.609)\n",
      "Test: [0/5]\tTime 0.938 (0.938)\tLoss 1.4059 (1.4059)\tPrec@1 49.561 (49.561)\n",
      " * Prec@1 48.180\n",
      "Best prec1 :  50.95999982299805\n",
      "current lr 8.64620e-04\n"
     ]
    },
    {
     "data": {
      "application/vnd.jupyter.widget-view+json": {
       "model_id": "272a08d7fff74157b47213574ad07bb6",
       "version_major": 2,
       "version_minor": 0
      },
      "text/plain": [
       "  0%|          | 0/20 [00:00<?, ?it/s]"
      ]
     },
     "metadata": {},
     "output_type": "display_data"
    },
    {
     "name": "stdout",
     "output_type": "stream",
     "text": [
      "Epoch: [51][0/20]\tTime 2.598 (2.598)\tData 2.236 (2.236)\tLoss 1.3891 (1.3891)\tPrec@1 49.463 (49.463)\n",
      "Test: [0/5]\tTime 0.907 (0.907)\tLoss 1.4491 (1.4491)\tPrec@1 49.951 (49.951)\n",
      " * Prec@1 48.150\n",
      "Best prec1 :  50.95999982299805\n",
      "current lr 8.59204e-04\n"
     ]
    },
    {
     "data": {
      "application/vnd.jupyter.widget-view+json": {
       "model_id": "acefa1a08b79475eb658507703726a07",
       "version_major": 2,
       "version_minor": 0
      },
      "text/plain": [
       "  0%|          | 0/20 [00:00<?, ?it/s]"
      ]
     },
     "metadata": {},
     "output_type": "display_data"
    },
    {
     "name": "stdout",
     "output_type": "stream",
     "text": [
      "Epoch: [52][0/20]\tTime 2.687 (2.687)\tData 2.326 (2.326)\tLoss 1.3313 (1.3313)\tPrec@1 52.881 (52.881)\n",
      "Test: [0/5]\tTime 0.903 (0.903)\tLoss 1.4160 (1.4160)\tPrec@1 49.854 (49.854)\n",
      " * Prec@1 48.990\n",
      "Best prec1 :  50.95999982299805\n",
      "current lr 8.53700e-04\n"
     ]
    },
    {
     "data": {
      "application/vnd.jupyter.widget-view+json": {
       "model_id": "d2f9ed4ff84f4b07b21e54dfb2d9cf2e",
       "version_major": 2,
       "version_minor": 0
      },
      "text/plain": [
       "  0%|          | 0/20 [00:00<?, ?it/s]"
      ]
     },
     "metadata": {},
     "output_type": "display_data"
    },
    {
     "name": "stdout",
     "output_type": "stream",
     "text": [
      "Epoch: [53][0/20]\tTime 2.099 (2.099)\tData 1.732 (1.732)\tLoss 1.3729 (1.3729)\tPrec@1 50.684 (50.684)\n",
      "Test: [0/5]\tTime 0.887 (0.887)\tLoss 1.4172 (1.4172)\tPrec@1 50.049 (50.049)\n",
      " * Prec@1 49.420\n",
      "Best prec1 :  50.95999982299805\n",
      "current lr 8.48108e-04\n"
     ]
    },
    {
     "data": {
      "application/vnd.jupyter.widget-view+json": {
       "model_id": "bc8714e059c743409c66e053c0f4e0e7",
       "version_major": 2,
       "version_minor": 0
      },
      "text/plain": [
       "  0%|          | 0/20 [00:00<?, ?it/s]"
      ]
     },
     "metadata": {},
     "output_type": "display_data"
    },
    {
     "name": "stdout",
     "output_type": "stream",
     "text": [
      "Epoch: [54][0/20]\tTime 2.326 (2.326)\tData 1.958 (1.958)\tLoss 1.3485 (1.3485)\tPrec@1 51.562 (51.562)\n",
      "Test: [0/5]\tTime 0.936 (0.936)\tLoss 1.3531 (1.3531)\tPrec@1 52.832 (52.832)\n",
      " * Prec@1 51.290\n",
      "Best prec1 :  51.290000091552734\n",
      "current lr 8.42431e-04\n"
     ]
    },
    {
     "data": {
      "application/vnd.jupyter.widget-view+json": {
       "model_id": "c8a599a3af6e4ba9977b6ba1be5fc1e1",
       "version_major": 2,
       "version_minor": 0
      },
      "text/plain": [
       "  0%|          | 0/20 [00:00<?, ?it/s]"
      ]
     },
     "metadata": {},
     "output_type": "display_data"
    },
    {
     "name": "stdout",
     "output_type": "stream",
     "text": [
      "Epoch: [55][0/20]\tTime 2.014 (2.014)\tData 1.649 (1.649)\tLoss 1.3098 (1.3098)\tPrec@1 53.809 (53.809)\n",
      "Test: [0/5]\tTime 0.944 (0.944)\tLoss 1.4506 (1.4506)\tPrec@1 49.463 (49.463)\n",
      " * Prec@1 48.770\n",
      "Best prec1 :  51.290000091552734\n",
      "current lr 8.36670e-04\n"
     ]
    },
    {
     "data": {
      "application/vnd.jupyter.widget-view+json": {
       "model_id": "8629de922a2d458f9db03e31c36e2806",
       "version_major": 2,
       "version_minor": 0
      },
      "text/plain": [
       "  0%|          | 0/20 [00:00<?, ?it/s]"
      ]
     },
     "metadata": {},
     "output_type": "display_data"
    },
    {
     "name": "stdout",
     "output_type": "stream",
     "text": [
      "Epoch: [56][0/20]\tTime 2.815 (2.815)\tData 2.453 (2.453)\tLoss 1.3747 (1.3747)\tPrec@1 50.000 (50.000)\n",
      "Test: [0/5]\tTime 0.953 (0.953)\tLoss 1.3539 (1.3539)\tPrec@1 52.734 (52.734)\n",
      " * Prec@1 51.590\n",
      "Best prec1 :  51.59000026245117\n",
      "current lr 8.30825e-04\n"
     ]
    },
    {
     "data": {
      "application/vnd.jupyter.widget-view+json": {
       "model_id": "11bdb36d34e24a219667494d24b12212",
       "version_major": 2,
       "version_minor": 0
      },
      "text/plain": [
       "  0%|          | 0/20 [00:00<?, ?it/s]"
      ]
     },
     "metadata": {},
     "output_type": "display_data"
    },
    {
     "name": "stdout",
     "output_type": "stream",
     "text": [
      "Epoch: [57][0/20]\tTime 2.723 (2.723)\tData 2.358 (2.358)\tLoss 1.3521 (1.3521)\tPrec@1 52.051 (52.051)\n",
      "Test: [0/5]\tTime 0.973 (0.973)\tLoss 1.3393 (1.3393)\tPrec@1 53.809 (53.809)\n",
      " * Prec@1 51.440\n",
      "Best prec1 :  51.59000026245117\n",
      "current lr 8.24899e-04\n"
     ]
    },
    {
     "data": {
      "application/vnd.jupyter.widget-view+json": {
       "model_id": "8a73c8f39dea42c5907999bf729f7cad",
       "version_major": 2,
       "version_minor": 0
      },
      "text/plain": [
       "  0%|          | 0/20 [00:00<?, ?it/s]"
      ]
     },
     "metadata": {},
     "output_type": "display_data"
    },
    {
     "name": "stdout",
     "output_type": "stream",
     "text": [
      "Epoch: [58][0/20]\tTime 2.057 (2.057)\tData 1.690 (1.690)\tLoss 1.3448 (1.3448)\tPrec@1 52.783 (52.783)\n",
      "Test: [0/5]\tTime 0.929 (0.929)\tLoss 1.4694 (1.4694)\tPrec@1 49.268 (49.268)\n",
      " * Prec@1 48.150\n",
      "Best prec1 :  51.59000026245117\n",
      "current lr 8.18893e-04\n"
     ]
    },
    {
     "data": {
      "application/vnd.jupyter.widget-view+json": {
       "model_id": "944bb1e9aadb4aaa90e395147fbb5e39",
       "version_major": 2,
       "version_minor": 0
      },
      "text/plain": [
       "  0%|          | 0/20 [00:00<?, ?it/s]"
      ]
     },
     "metadata": {},
     "output_type": "display_data"
    },
    {
     "name": "stdout",
     "output_type": "stream",
     "text": [
      "Epoch: [59][0/20]\tTime 2.792 (2.792)\tData 2.430 (2.430)\tLoss 1.3056 (1.3056)\tPrec@1 53.467 (53.467)\n",
      "Test: [0/5]\tTime 1.005 (1.005)\tLoss 1.3929 (1.3929)\tPrec@1 49.658 (49.658)\n",
      " * Prec@1 49.350\n",
      "Best prec1 :  51.59000026245117\n",
      "current lr 8.12809e-04\n"
     ]
    },
    {
     "data": {
      "application/vnd.jupyter.widget-view+json": {
       "model_id": "efc410b3c1f445bdb3aea910ff7bcdef",
       "version_major": 2,
       "version_minor": 0
      },
      "text/plain": [
       "  0%|          | 0/20 [00:00<?, ?it/s]"
      ]
     },
     "metadata": {},
     "output_type": "display_data"
    },
    {
     "name": "stdout",
     "output_type": "stream",
     "text": [
      "Epoch: [60][0/20]\tTime 1.948 (1.948)\tData 1.583 (1.583)\tLoss 1.2770 (1.2770)\tPrec@1 54.980 (54.980)\n",
      "Test: [0/5]\tTime 0.884 (0.884)\tLoss 1.3085 (1.3085)\tPrec@1 52.881 (52.881)\n",
      " * Prec@1 51.940\n",
      "Best prec1 :  51.93999979858398\n",
      "current lr 8.06647e-04\n"
     ]
    },
    {
     "data": {
      "application/vnd.jupyter.widget-view+json": {
       "model_id": "31bafc23e6b54789833196975c3b5041",
       "version_major": 2,
       "version_minor": 0
      },
      "text/plain": [
       "  0%|          | 0/20 [00:00<?, ?it/s]"
      ]
     },
     "metadata": {},
     "output_type": "display_data"
    },
    {
     "name": "stdout",
     "output_type": "stream",
     "text": [
      "Epoch: [61][0/20]\tTime 2.248 (2.248)\tData 1.885 (1.885)\tLoss 1.2747 (1.2747)\tPrec@1 54.004 (54.004)\n",
      "Test: [0/5]\tTime 0.898 (0.898)\tLoss 1.3281 (1.3281)\tPrec@1 53.223 (53.223)\n",
      " * Prec@1 52.620\n",
      "Best prec1 :  52.619999829101566\n",
      "current lr 8.00410e-04\n"
     ]
    },
    {
     "data": {
      "application/vnd.jupyter.widget-view+json": {
       "model_id": "4ac64f8f97c34fa6949cb88123a70df1",
       "version_major": 2,
       "version_minor": 0
      },
      "text/plain": [
       "  0%|          | 0/20 [00:00<?, ?it/s]"
      ]
     },
     "metadata": {},
     "output_type": "display_data"
    },
    {
     "name": "stdout",
     "output_type": "stream",
     "text": [
      "Epoch: [62][0/20]\tTime 2.456 (2.456)\tData 2.087 (2.087)\tLoss 1.3307 (1.3307)\tPrec@1 51.367 (51.367)\n",
      "Test: [0/5]\tTime 0.932 (0.932)\tLoss 1.4695 (1.4695)\tPrec@1 49.219 (49.219)\n",
      " * Prec@1 50.500\n",
      "Best prec1 :  52.619999829101566\n",
      "current lr 7.94099e-04\n"
     ]
    },
    {
     "data": {
      "application/vnd.jupyter.widget-view+json": {
       "model_id": "8e101e1277c9472ba8c399c6680f8d0b",
       "version_major": 2,
       "version_minor": 0
      },
      "text/plain": [
       "  0%|          | 0/20 [00:00<?, ?it/s]"
      ]
     },
     "metadata": {},
     "output_type": "display_data"
    },
    {
     "name": "stdout",
     "output_type": "stream",
     "text": [
      "Epoch: [63][0/20]\tTime 2.590 (2.590)\tData 2.231 (2.231)\tLoss 1.3153 (1.3153)\tPrec@1 52.051 (52.051)\n",
      "Test: [0/5]\tTime 0.906 (0.906)\tLoss 1.3879 (1.3879)\tPrec@1 51.270 (51.270)\n",
      " * Prec@1 50.130\n",
      "Best prec1 :  52.619999829101566\n",
      "current lr 7.87715e-04\n"
     ]
    },
    {
     "data": {
      "application/vnd.jupyter.widget-view+json": {
       "model_id": "7f56983590404cb485e8ca81c0ded506",
       "version_major": 2,
       "version_minor": 0
      },
      "text/plain": [
       "  0%|          | 0/20 [00:00<?, ?it/s]"
      ]
     },
     "metadata": {},
     "output_type": "display_data"
    },
    {
     "name": "stdout",
     "output_type": "stream",
     "text": [
      "Epoch: [64][0/20]\tTime 2.151 (2.151)\tData 1.789 (1.789)\tLoss 1.3102 (1.3102)\tPrec@1 52.441 (52.441)\n",
      "Test: [0/5]\tTime 0.925 (0.925)\tLoss 1.3277 (1.3277)\tPrec@1 54.004 (54.004)\n",
      " * Prec@1 53.650\n",
      "Best prec1 :  53.65000020751953\n",
      "current lr 7.81261e-04\n"
     ]
    },
    {
     "data": {
      "application/vnd.jupyter.widget-view+json": {
       "model_id": "1d4edfdd4f03479b86c0f156e9a02427",
       "version_major": 2,
       "version_minor": 0
      },
      "text/plain": [
       "  0%|          | 0/20 [00:00<?, ?it/s]"
      ]
     },
     "metadata": {},
     "output_type": "display_data"
    },
    {
     "name": "stdout",
     "output_type": "stream",
     "text": [
      "Epoch: [65][0/20]\tTime 2.752 (2.752)\tData 2.387 (2.387)\tLoss 1.3564 (1.3564)\tPrec@1 53.174 (53.174)\n",
      "Test: [0/5]\tTime 0.891 (0.891)\tLoss 1.2901 (1.2901)\tPrec@1 54.443 (54.443)\n",
      " * Prec@1 53.210\n",
      "Best prec1 :  53.65000020751953\n",
      "current lr 7.74737e-04\n"
     ]
    },
    {
     "data": {
      "application/vnd.jupyter.widget-view+json": {
       "model_id": "46adbd84f2c44dc6915be31e726a86e6",
       "version_major": 2,
       "version_minor": 0
      },
      "text/plain": [
       "  0%|          | 0/20 [00:00<?, ?it/s]"
      ]
     },
     "metadata": {},
     "output_type": "display_data"
    },
    {
     "name": "stdout",
     "output_type": "stream",
     "text": [
      "Epoch: [66][0/20]\tTime 2.109 (2.109)\tData 1.745 (1.745)\tLoss 1.2984 (1.2984)\tPrec@1 53.223 (53.223)\n",
      "Test: [0/5]\tTime 0.902 (0.902)\tLoss 1.3066 (1.3066)\tPrec@1 54.297 (54.297)\n",
      " * Prec@1 53.690\n",
      "Best prec1 :  53.689999975585934\n",
      "current lr 7.68145e-04\n"
     ]
    },
    {
     "data": {
      "application/vnd.jupyter.widget-view+json": {
       "model_id": "474928bd883547bca5160d8f92da8e60",
       "version_major": 2,
       "version_minor": 0
      },
      "text/plain": [
       "  0%|          | 0/20 [00:00<?, ?it/s]"
      ]
     },
     "metadata": {},
     "output_type": "display_data"
    },
    {
     "name": "stdout",
     "output_type": "stream",
     "text": [
      "Epoch: [67][0/20]\tTime 2.195 (2.195)\tData 1.830 (1.830)\tLoss 1.3335 (1.3335)\tPrec@1 52.832 (52.832)\n",
      "Test: [0/5]\tTime 0.899 (0.899)\tLoss 1.2804 (1.2804)\tPrec@1 54.248 (54.248)\n",
      " * Prec@1 53.580\n",
      "Best prec1 :  53.689999975585934\n",
      "current lr 7.61488e-04\n"
     ]
    },
    {
     "data": {
      "application/vnd.jupyter.widget-view+json": {
       "model_id": "be8cf82e689b4c68a0b24466a68594fd",
       "version_major": 2,
       "version_minor": 0
      },
      "text/plain": [
       "  0%|          | 0/20 [00:00<?, ?it/s]"
      ]
     },
     "metadata": {},
     "output_type": "display_data"
    },
    {
     "name": "stdout",
     "output_type": "stream",
     "text": [
      "Epoch: [68][0/20]\tTime 2.587 (2.587)\tData 2.223 (2.223)\tLoss 1.3161 (1.3161)\tPrec@1 52.539 (52.539)\n",
      "Test: [0/5]\tTime 0.905 (0.905)\tLoss 1.2579 (1.2579)\tPrec@1 54.639 (54.639)\n",
      " * Prec@1 54.580\n",
      "Best prec1 :  54.57999991455078\n",
      "current lr 7.54766e-04\n"
     ]
    },
    {
     "data": {
      "application/vnd.jupyter.widget-view+json": {
       "model_id": "b29cebcaa7974ad180bf68a7c64e8d31",
       "version_major": 2,
       "version_minor": 0
      },
      "text/plain": [
       "  0%|          | 0/20 [00:00<?, ?it/s]"
      ]
     },
     "metadata": {},
     "output_type": "display_data"
    },
    {
     "name": "stdout",
     "output_type": "stream",
     "text": [
      "Epoch: [69][0/20]\tTime 2.591 (2.591)\tData 2.230 (2.230)\tLoss 1.3154 (1.3154)\tPrec@1 53.174 (53.174)\n",
      "Test: [0/5]\tTime 0.897 (0.897)\tLoss 1.3144 (1.3144)\tPrec@1 53.223 (53.223)\n",
      " * Prec@1 52.510\n",
      "Best prec1 :  54.57999991455078\n",
      "current lr 7.47982e-04\n"
     ]
    },
    {
     "data": {
      "application/vnd.jupyter.widget-view+json": {
       "model_id": "9228dd7ddaff4846aee4263717ec7e1b",
       "version_major": 2,
       "version_minor": 0
      },
      "text/plain": [
       "  0%|          | 0/20 [00:00<?, ?it/s]"
      ]
     },
     "metadata": {},
     "output_type": "display_data"
    },
    {
     "name": "stdout",
     "output_type": "stream",
     "text": [
      "Epoch: [70][0/20]\tTime 1.987 (1.987)\tData 1.623 (1.623)\tLoss 1.2958 (1.2958)\tPrec@1 53.760 (53.760)\n",
      "Test: [0/5]\tTime 0.954 (0.954)\tLoss 1.2629 (1.2629)\tPrec@1 54.639 (54.639)\n",
      " * Prec@1 54.230\n",
      "Best prec1 :  54.57999991455078\n",
      "current lr 7.41136e-04\n"
     ]
    },
    {
     "data": {
      "application/vnd.jupyter.widget-view+json": {
       "model_id": "881ae215b9a3491093ffd24e3421a88a",
       "version_major": 2,
       "version_minor": 0
      },
      "text/plain": [
       "  0%|          | 0/20 [00:00<?, ?it/s]"
      ]
     },
     "metadata": {},
     "output_type": "display_data"
    },
    {
     "name": "stdout",
     "output_type": "stream",
     "text": [
      "Epoch: [71][0/20]\tTime 2.657 (2.657)\tData 2.293 (2.293)\tLoss 1.2805 (1.2805)\tPrec@1 54.932 (54.932)\n",
      "Test: [0/5]\tTime 0.911 (0.911)\tLoss 1.3667 (1.3667)\tPrec@1 53.076 (53.076)\n",
      " * Prec@1 51.880\n",
      "Best prec1 :  54.57999991455078\n",
      "current lr 7.34231e-04\n"
     ]
    },
    {
     "data": {
      "application/vnd.jupyter.widget-view+json": {
       "model_id": "5ef1e59c0c4d42bfb69c3a248632d2e4",
       "version_major": 2,
       "version_minor": 0
      },
      "text/plain": [
       "  0%|          | 0/20 [00:00<?, ?it/s]"
      ]
     },
     "metadata": {},
     "output_type": "display_data"
    },
    {
     "name": "stdout",
     "output_type": "stream",
     "text": [
      "Epoch: [72][0/20]\tTime 2.486 (2.486)\tData 2.124 (2.124)\tLoss 1.2638 (1.2638)\tPrec@1 54.297 (54.297)\n",
      "Test: [0/5]\tTime 0.949 (0.949)\tLoss 1.2989 (1.2989)\tPrec@1 54.980 (54.980)\n",
      " * Prec@1 54.010\n",
      "Best prec1 :  54.57999991455078\n",
      "current lr 7.27268e-04\n"
     ]
    },
    {
     "data": {
      "application/vnd.jupyter.widget-view+json": {
       "model_id": "71de2367f0b94181964ae7d2314f5301",
       "version_major": 2,
       "version_minor": 0
      },
      "text/plain": [
       "  0%|          | 0/20 [00:00<?, ?it/s]"
      ]
     },
     "metadata": {},
     "output_type": "display_data"
    },
    {
     "name": "stdout",
     "output_type": "stream",
     "text": [
      "Epoch: [73][0/20]\tTime 2.126 (2.126)\tData 1.760 (1.760)\tLoss 1.2670 (1.2670)\tPrec@1 55.371 (55.371)\n",
      "Test: [0/5]\tTime 0.907 (0.907)\tLoss 1.3060 (1.3060)\tPrec@1 53.418 (53.418)\n",
      " * Prec@1 52.800\n",
      "Best prec1 :  54.57999991455078\n",
      "current lr 7.20250e-04\n"
     ]
    },
    {
     "data": {
      "application/vnd.jupyter.widget-view+json": {
       "model_id": "974f4ccb2dcc4545b5168707464a69c1",
       "version_major": 2,
       "version_minor": 0
      },
      "text/plain": [
       "  0%|          | 0/20 [00:00<?, ?it/s]"
      ]
     },
     "metadata": {},
     "output_type": "display_data"
    },
    {
     "name": "stdout",
     "output_type": "stream",
     "text": [
      "Epoch: [74][0/20]\tTime 2.145 (2.145)\tData 1.782 (1.782)\tLoss 1.3295 (1.3295)\tPrec@1 52.832 (52.832)\n",
      "Test: [0/5]\tTime 0.919 (0.919)\tLoss 1.2623 (1.2623)\tPrec@1 54.834 (54.834)\n",
      " * Prec@1 54.500\n",
      "Best prec1 :  54.57999991455078\n",
      "current lr 7.13177e-04\n"
     ]
    },
    {
     "data": {
      "application/vnd.jupyter.widget-view+json": {
       "model_id": "c8ac251d1ece45ea864ed38ba5588ee4",
       "version_major": 2,
       "version_minor": 0
      },
      "text/plain": [
       "  0%|          | 0/20 [00:00<?, ?it/s]"
      ]
     },
     "metadata": {},
     "output_type": "display_data"
    },
    {
     "name": "stdout",
     "output_type": "stream",
     "text": [
      "Epoch: [75][0/20]\tTime 2.483 (2.483)\tData 2.118 (2.118)\tLoss 1.2532 (1.2532)\tPrec@1 56.934 (56.934)\n",
      "Test: [0/5]\tTime 0.912 (0.912)\tLoss 1.3656 (1.3656)\tPrec@1 52.783 (52.783)\n",
      " * Prec@1 52.300\n",
      "Best prec1 :  54.57999991455078\n",
      "current lr 7.06051e-04\n"
     ]
    },
    {
     "data": {
      "application/vnd.jupyter.widget-view+json": {
       "model_id": "7bcb75c252cc43c69d239672ede19829",
       "version_major": 2,
       "version_minor": 0
      },
      "text/plain": [
       "  0%|          | 0/20 [00:00<?, ?it/s]"
      ]
     },
     "metadata": {},
     "output_type": "display_data"
    },
    {
     "name": "stdout",
     "output_type": "stream",
     "text": [
      "Epoch: [76][0/20]\tTime 2.414 (2.414)\tData 2.057 (2.057)\tLoss 1.2831 (1.2831)\tPrec@1 55.225 (55.225)\n",
      "Test: [0/5]\tTime 0.910 (0.910)\tLoss 1.3456 (1.3456)\tPrec@1 52.295 (52.295)\n",
      " * Prec@1 51.600\n",
      "Best prec1 :  54.57999991455078\n",
      "current lr 6.98875e-04\n"
     ]
    },
    {
     "data": {
      "application/vnd.jupyter.widget-view+json": {
       "model_id": "09f6c3fe89a44c9f9347af8df22f0fd7",
       "version_major": 2,
       "version_minor": 0
      },
      "text/plain": [
       "  0%|          | 0/20 [00:00<?, ?it/s]"
      ]
     },
     "metadata": {},
     "output_type": "display_data"
    },
    {
     "name": "stdout",
     "output_type": "stream",
     "text": [
      "Epoch: [77][0/20]\tTime 2.503 (2.503)\tData 2.138 (2.138)\tLoss 1.2980 (1.2980)\tPrec@1 54.150 (54.150)\n",
      "Test: [0/5]\tTime 0.917 (0.917)\tLoss 1.3348 (1.3348)\tPrec@1 53.076 (53.076)\n",
      " * Prec@1 53.540\n",
      "Best prec1 :  54.57999991455078\n",
      "current lr 6.91650e-04\n"
     ]
    },
    {
     "data": {
      "application/vnd.jupyter.widget-view+json": {
       "model_id": "edeb9669325d4e149d134ce37d2f0832",
       "version_major": 2,
       "version_minor": 0
      },
      "text/plain": [
       "  0%|          | 0/20 [00:00<?, ?it/s]"
      ]
     },
     "metadata": {},
     "output_type": "display_data"
    },
    {
     "name": "stdout",
     "output_type": "stream",
     "text": [
      "Epoch: [78][0/20]\tTime 2.315 (2.315)\tData 1.955 (1.955)\tLoss 1.2988 (1.2988)\tPrec@1 54.541 (54.541)\n",
      "Test: [0/5]\tTime 0.897 (0.897)\tLoss 1.2937 (1.2937)\tPrec@1 54.492 (54.492)\n",
      " * Prec@1 54.220\n",
      "Best prec1 :  54.57999991455078\n",
      "current lr 6.84378e-04\n"
     ]
    },
    {
     "data": {
      "application/vnd.jupyter.widget-view+json": {
       "model_id": "86488b7b0f3242e6b217a25f538f672f",
       "version_major": 2,
       "version_minor": 0
      },
      "text/plain": [
       "  0%|          | 0/20 [00:00<?, ?it/s]"
      ]
     },
     "metadata": {},
     "output_type": "display_data"
    },
    {
     "name": "stdout",
     "output_type": "stream",
     "text": [
      "Epoch: [79][0/20]\tTime 2.057 (2.057)\tData 1.694 (1.694)\tLoss 1.2466 (1.2466)\tPrec@1 55.713 (55.713)\n",
      "Test: [0/5]\tTime 0.931 (0.931)\tLoss 1.2198 (1.2198)\tPrec@1 56.494 (56.494)\n",
      " * Prec@1 56.090\n",
      "Best prec1 :  56.09000003051758\n",
      "current lr 6.77061e-04\n"
     ]
    },
    {
     "data": {
      "application/vnd.jupyter.widget-view+json": {
       "model_id": "d334f244dd09424caed52e724cf596d7",
       "version_major": 2,
       "version_minor": 0
      },
      "text/plain": [
       "  0%|          | 0/20 [00:00<?, ?it/s]"
      ]
     },
     "metadata": {},
     "output_type": "display_data"
    },
    {
     "name": "stdout",
     "output_type": "stream",
     "text": [
      "Epoch: [80][0/20]\tTime 2.413 (2.413)\tData 2.050 (2.050)\tLoss 1.2791 (1.2791)\tPrec@1 54.883 (54.883)\n",
      "Test: [0/5]\tTime 1.049 (1.049)\tLoss 1.5335 (1.5335)\tPrec@1 48.389 (48.389)\n",
      " * Prec@1 47.090\n",
      "Best prec1 :  56.09000003051758\n",
      "current lr 6.69700e-04\n"
     ]
    },
    {
     "data": {
      "application/vnd.jupyter.widget-view+json": {
       "model_id": "5d4149f01610408690c5f99d0d6afc6d",
       "version_major": 2,
       "version_minor": 0
      },
      "text/plain": [
       "  0%|          | 0/20 [00:00<?, ?it/s]"
      ]
     },
     "metadata": {},
     "output_type": "display_data"
    },
    {
     "name": "stdout",
     "output_type": "stream",
     "text": [
      "Epoch: [81][0/20]\tTime 2.687 (2.687)\tData 2.324 (2.324)\tLoss 1.2433 (1.2433)\tPrec@1 55.029 (55.029)\n",
      "Test: [0/5]\tTime 1.054 (1.054)\tLoss 1.2803 (1.2803)\tPrec@1 55.908 (55.908)\n",
      " * Prec@1 53.500\n",
      "Best prec1 :  56.09000003051758\n",
      "current lr 6.62297e-04\n"
     ]
    },
    {
     "data": {
      "application/vnd.jupyter.widget-view+json": {
       "model_id": "9665c05903d949b38e17624fa403b2cd",
       "version_major": 2,
       "version_minor": 0
      },
      "text/plain": [
       "  0%|          | 0/20 [00:00<?, ?it/s]"
      ]
     },
     "metadata": {},
     "output_type": "display_data"
    },
    {
     "name": "stdout",
     "output_type": "stream",
     "text": [
      "Epoch: [82][0/20]\tTime 2.105 (2.105)\tData 1.742 (1.742)\tLoss 1.2219 (1.2219)\tPrec@1 56.348 (56.348)\n",
      "Test: [0/5]\tTime 0.892 (0.892)\tLoss 1.2871 (1.2871)\tPrec@1 53.760 (53.760)\n",
      " * Prec@1 52.970\n",
      "Best prec1 :  56.09000003051758\n",
      "current lr 6.54854e-04\n"
     ]
    },
    {
     "data": {
      "application/vnd.jupyter.widget-view+json": {
       "model_id": "184cd327733d42beb8f87d722104e232",
       "version_major": 2,
       "version_minor": 0
      },
      "text/plain": [
       "  0%|          | 0/20 [00:00<?, ?it/s]"
      ]
     },
     "metadata": {},
     "output_type": "display_data"
    },
    {
     "name": "stdout",
     "output_type": "stream",
     "text": [
      "Epoch: [83][0/20]\tTime 2.731 (2.731)\tData 2.367 (2.367)\tLoss 1.2532 (1.2532)\tPrec@1 55.908 (55.908)\n",
      "Test: [0/5]\tTime 0.899 (0.899)\tLoss 1.3162 (1.3162)\tPrec@1 52.930 (52.930)\n",
      " * Prec@1 52.920\n",
      "Best prec1 :  56.09000003051758\n",
      "current lr 6.47373e-04\n"
     ]
    },
    {
     "data": {
      "application/vnd.jupyter.widget-view+json": {
       "model_id": "b3fa040240e341498ec855f9155cf91e",
       "version_major": 2,
       "version_minor": 0
      },
      "text/plain": [
       "  0%|          | 0/20 [00:00<?, ?it/s]"
      ]
     },
     "metadata": {},
     "output_type": "display_data"
    },
    {
     "name": "stdout",
     "output_type": "stream",
     "text": [
      "Epoch: [84][0/20]\tTime 2.783 (2.783)\tData 2.422 (2.422)\tLoss 1.2857 (1.2857)\tPrec@1 53.418 (53.418)\n",
      "Test: [0/5]\tTime 0.945 (0.945)\tLoss 1.3336 (1.3336)\tPrec@1 53.662 (53.662)\n",
      " * Prec@1 52.720\n",
      "Best prec1 :  56.09000003051758\n",
      "current lr 6.39856e-04\n"
     ]
    },
    {
     "data": {
      "application/vnd.jupyter.widget-view+json": {
       "model_id": "37f6d33866e14a9ebaab45fbfb59f984",
       "version_major": 2,
       "version_minor": 0
      },
      "text/plain": [
       "  0%|          | 0/20 [00:00<?, ?it/s]"
      ]
     },
     "metadata": {},
     "output_type": "display_data"
    },
    {
     "name": "stdout",
     "output_type": "stream",
     "text": [
      "Epoch: [85][0/20]\tTime 2.371 (2.371)\tData 2.007 (2.007)\tLoss 1.1840 (1.1840)\tPrec@1 58.594 (58.594)\n",
      "Test: [0/5]\tTime 0.942 (0.942)\tLoss 1.2907 (1.2907)\tPrec@1 55.420 (55.420)\n",
      " * Prec@1 54.330\n",
      "Best prec1 :  56.09000003051758\n",
      "current lr 6.32305e-04\n"
     ]
    },
    {
     "data": {
      "application/vnd.jupyter.widget-view+json": {
       "model_id": "b20d876388ce41bbb316db0a8ea6bac4",
       "version_major": 2,
       "version_minor": 0
      },
      "text/plain": [
       "  0%|          | 0/20 [00:00<?, ?it/s]"
      ]
     },
     "metadata": {},
     "output_type": "display_data"
    },
    {
     "name": "stdout",
     "output_type": "stream",
     "text": [
      "Epoch: [86][0/20]\tTime 2.279 (2.279)\tData 1.916 (1.916)\tLoss 1.2748 (1.2748)\tPrec@1 53.662 (53.662)\n",
      "Test: [0/5]\tTime 0.927 (0.927)\tLoss 1.2649 (1.2649)\tPrec@1 53.613 (53.613)\n",
      " * Prec@1 54.410\n",
      "Best prec1 :  56.09000003051758\n",
      "current lr 6.24721e-04\n"
     ]
    },
    {
     "data": {
      "application/vnd.jupyter.widget-view+json": {
       "model_id": "d18a527d4002415aa70eea12b6ee68f1",
       "version_major": 2,
       "version_minor": 0
      },
      "text/plain": [
       "  0%|          | 0/20 [00:00<?, ?it/s]"
      ]
     },
     "metadata": {},
     "output_type": "display_data"
    },
    {
     "name": "stdout",
     "output_type": "stream",
     "text": [
      "Epoch: [87][0/20]\tTime 2.595 (2.595)\tData 2.234 (2.234)\tLoss 1.2270 (1.2270)\tPrec@1 57.080 (57.080)\n",
      "Test: [0/5]\tTime 0.944 (0.944)\tLoss 1.2555 (1.2555)\tPrec@1 56.104 (56.104)\n",
      " * Prec@1 54.200\n",
      "Best prec1 :  56.09000003051758\n",
      "current lr 6.17106e-04\n"
     ]
    },
    {
     "data": {
      "application/vnd.jupyter.widget-view+json": {
       "model_id": "954f0d08507d416da43f3f70ffe2c581",
       "version_major": 2,
       "version_minor": 0
      },
      "text/plain": [
       "  0%|          | 0/20 [00:00<?, ?it/s]"
      ]
     },
     "metadata": {},
     "output_type": "display_data"
    },
    {
     "name": "stdout",
     "output_type": "stream",
     "text": [
      "Epoch: [88][0/20]\tTime 2.116 (2.116)\tData 1.754 (1.754)\tLoss 1.2304 (1.2304)\tPrec@1 56.689 (56.689)\n",
      "Test: [0/5]\tTime 0.934 (0.934)\tLoss 1.2053 (1.2053)\tPrec@1 57.666 (57.666)\n",
      " * Prec@1 57.110\n",
      "Best prec1 :  57.10999982299805\n",
      "current lr 6.09463e-04\n"
     ]
    },
    {
     "data": {
      "application/vnd.jupyter.widget-view+json": {
       "model_id": "fa463e63b66342d3b6a046063598bf57",
       "version_major": 2,
       "version_minor": 0
      },
      "text/plain": [
       "  0%|          | 0/20 [00:00<?, ?it/s]"
      ]
     },
     "metadata": {},
     "output_type": "display_data"
    },
    {
     "name": "stdout",
     "output_type": "stream",
     "text": [
      "Epoch: [89][0/20]\tTime 2.104 (2.104)\tData 1.741 (1.741)\tLoss 1.2196 (1.2196)\tPrec@1 57.080 (57.080)\n",
      "Test: [0/5]\tTime 0.889 (0.889)\tLoss 1.2928 (1.2928)\tPrec@1 55.566 (55.566)\n",
      " * Prec@1 54.740\n",
      "Best prec1 :  57.10999982299805\n",
      "current lr 6.01792e-04\n"
     ]
    },
    {
     "data": {
      "application/vnd.jupyter.widget-view+json": {
       "model_id": "fb4d581008ea43b99dcc90af81a40236",
       "version_major": 2,
       "version_minor": 0
      },
      "text/plain": [
       "  0%|          | 0/20 [00:00<?, ?it/s]"
      ]
     },
     "metadata": {},
     "output_type": "display_data"
    },
    {
     "name": "stdout",
     "output_type": "stream",
     "text": [
      "Epoch: [90][0/20]\tTime 2.289 (2.289)\tData 1.925 (1.925)\tLoss 1.2683 (1.2683)\tPrec@1 55.029 (55.029)\n",
      "Test: [0/5]\tTime 0.901 (0.901)\tLoss 1.3187 (1.3187)\tPrec@1 54.395 (54.395)\n",
      " * Prec@1 53.200\n",
      "Best prec1 :  57.10999982299805\n",
      "current lr 5.94097e-04\n"
     ]
    },
    {
     "data": {
      "application/vnd.jupyter.widget-view+json": {
       "model_id": "43cab27ca1614ff7babbfabad31c9886",
       "version_major": 2,
       "version_minor": 0
      },
      "text/plain": [
       "  0%|          | 0/20 [00:00<?, ?it/s]"
      ]
     },
     "metadata": {},
     "output_type": "display_data"
    },
    {
     "name": "stdout",
     "output_type": "stream",
     "text": [
      "Epoch: [91][0/20]\tTime 2.847 (2.847)\tData 2.486 (2.486)\tLoss 1.2240 (1.2240)\tPrec@1 56.787 (56.787)\n",
      "Test: [0/5]\tTime 0.909 (0.909)\tLoss 1.2847 (1.2847)\tPrec@1 54.004 (54.004)\n",
      " * Prec@1 54.950\n",
      "Best prec1 :  57.10999982299805\n",
      "current lr 5.86379e-04\n"
     ]
    },
    {
     "data": {
      "application/vnd.jupyter.widget-view+json": {
       "model_id": "709e2aa258c44f818f1a05d3cd496601",
       "version_major": 2,
       "version_minor": 0
      },
      "text/plain": [
       "  0%|          | 0/20 [00:00<?, ?it/s]"
      ]
     },
     "metadata": {},
     "output_type": "display_data"
    },
    {
     "name": "stdout",
     "output_type": "stream",
     "text": [
      "Epoch: [92][0/20]\tTime 2.403 (2.403)\tData 2.031 (2.031)\tLoss 1.2847 (1.2847)\tPrec@1 55.078 (55.078)\n",
      "Test: [0/5]\tTime 1.061 (1.061)\tLoss 1.2512 (1.2512)\tPrec@1 56.201 (56.201)\n",
      " * Prec@1 55.120\n",
      "Best prec1 :  57.10999982299805\n",
      "current lr 5.78639e-04\n"
     ]
    },
    {
     "data": {
      "application/vnd.jupyter.widget-view+json": {
       "model_id": "cf44896dd41941ba93f89916c0328cb8",
       "version_major": 2,
       "version_minor": 0
      },
      "text/plain": [
       "  0%|          | 0/20 [00:00<?, ?it/s]"
      ]
     },
     "metadata": {},
     "output_type": "display_data"
    },
    {
     "name": "stdout",
     "output_type": "stream",
     "text": [
      "Epoch: [93][0/20]\tTime 2.257 (2.257)\tData 1.895 (1.895)\tLoss 1.2029 (1.2029)\tPrec@1 57.275 (57.275)\n",
      "Test: [0/5]\tTime 1.052 (1.052)\tLoss 1.2230 (1.2230)\tPrec@1 56.250 (56.250)\n",
      " * Prec@1 56.590\n",
      "Best prec1 :  57.10999982299805\n",
      "current lr 5.70880e-04\n"
     ]
    },
    {
     "data": {
      "application/vnd.jupyter.widget-view+json": {
       "model_id": "4973803842cc46c1b880ab92a8fded2d",
       "version_major": 2,
       "version_minor": 0
      },
      "text/plain": [
       "  0%|          | 0/20 [00:00<?, ?it/s]"
      ]
     },
     "metadata": {},
     "output_type": "display_data"
    },
    {
     "name": "stdout",
     "output_type": "stream",
     "text": [
      "Epoch: [94][0/20]\tTime 2.789 (2.789)\tData 2.428 (2.428)\tLoss 1.2300 (1.2300)\tPrec@1 55.078 (55.078)\n",
      "Test: [0/5]\tTime 1.053 (1.053)\tLoss 1.2482 (1.2482)\tPrec@1 56.885 (56.885)\n",
      " * Prec@1 56.130\n",
      "Best prec1 :  57.10999982299805\n",
      "current lr 5.63104e-04\n"
     ]
    },
    {
     "data": {
      "application/vnd.jupyter.widget-view+json": {
       "model_id": "a74d54beac524fc0a52cb78f9b015407",
       "version_major": 2,
       "version_minor": 0
      },
      "text/plain": [
       "  0%|          | 0/20 [00:00<?, ?it/s]"
      ]
     },
     "metadata": {},
     "output_type": "display_data"
    },
    {
     "name": "stdout",
     "output_type": "stream",
     "text": [
      "Epoch: [95][0/20]\tTime 2.794 (2.794)\tData 2.425 (2.425)\tLoss 1.2907 (1.2907)\tPrec@1 53.809 (53.809)\n",
      "Test: [0/5]\tTime 1.084 (1.084)\tLoss 1.2244 (1.2244)\tPrec@1 56.641 (56.641)\n",
      " * Prec@1 55.730\n",
      "Best prec1 :  57.10999982299805\n",
      "current lr 5.55312e-04\n"
     ]
    },
    {
     "data": {
      "application/vnd.jupyter.widget-view+json": {
       "model_id": "edc0f0699ddc41fda903262c94f17083",
       "version_major": 2,
       "version_minor": 0
      },
      "text/plain": [
       "  0%|          | 0/20 [00:00<?, ?it/s]"
      ]
     },
     "metadata": {},
     "output_type": "display_data"
    },
    {
     "name": "stdout",
     "output_type": "stream",
     "text": [
      "Epoch: [96][0/20]\tTime 2.516 (2.516)\tData 2.140 (2.140)\tLoss 1.1873 (1.1873)\tPrec@1 57.666 (57.666)\n",
      "Test: [0/5]\tTime 1.071 (1.071)\tLoss 1.1804 (1.1804)\tPrec@1 59.180 (59.180)\n",
      " * Prec@1 57.940\n",
      "Best prec1 :  57.93999985351562\n",
      "current lr 5.47507e-04\n"
     ]
    },
    {
     "data": {
      "application/vnd.jupyter.widget-view+json": {
       "model_id": "673373e5127f4b48a2e6abdc999b2f64",
       "version_major": 2,
       "version_minor": 0
      },
      "text/plain": [
       "  0%|          | 0/20 [00:00<?, ?it/s]"
      ]
     },
     "metadata": {},
     "output_type": "display_data"
    },
    {
     "name": "stdout",
     "output_type": "stream",
     "text": [
      "Epoch: [97][0/20]\tTime 2.299 (2.299)\tData 1.926 (1.926)\tLoss 1.2399 (1.2399)\tPrec@1 55.811 (55.811)\n",
      "Test: [0/5]\tTime 1.085 (1.085)\tLoss 1.2357 (1.2357)\tPrec@1 56.299 (56.299)\n",
      " * Prec@1 55.150\n",
      "Best prec1 :  57.93999985351562\n",
      "current lr 5.39690e-04\n"
     ]
    },
    {
     "data": {
      "application/vnd.jupyter.widget-view+json": {
       "model_id": "74ae2be03ab7477eb39e315509666229",
       "version_major": 2,
       "version_minor": 0
      },
      "text/plain": [
       "  0%|          | 0/20 [00:00<?, ?it/s]"
      ]
     },
     "metadata": {},
     "output_type": "display_data"
    },
    {
     "name": "stdout",
     "output_type": "stream",
     "text": [
      "Epoch: [98][0/20]\tTime 2.158 (2.158)\tData 1.796 (1.796)\tLoss 1.2163 (1.2163)\tPrec@1 56.396 (56.396)\n",
      "Test: [0/5]\tTime 1.075 (1.075)\tLoss 1.1953 (1.1953)\tPrec@1 58.154 (58.154)\n",
      " * Prec@1 57.650\n",
      "Best prec1 :  57.93999985351562\n",
      "current lr 5.31864e-04\n"
     ]
    },
    {
     "data": {
      "application/vnd.jupyter.widget-view+json": {
       "model_id": "55218ebc7b76417793dfa3e524453d33",
       "version_major": 2,
       "version_minor": 0
      },
      "text/plain": [
       "  0%|          | 0/20 [00:00<?, ?it/s]"
      ]
     },
     "metadata": {},
     "output_type": "display_data"
    },
    {
     "name": "stdout",
     "output_type": "stream",
     "text": [
      "Epoch: [99][0/20]\tTime 2.071 (2.071)\tData 1.706 (1.706)\tLoss 1.2507 (1.2507)\tPrec@1 55.615 (55.615)\n",
      "Test: [0/5]\tTime 1.062 (1.062)\tLoss 1.1723 (1.1723)\tPrec@1 58.301 (58.301)\n",
      " * Prec@1 57.960\n",
      "Best prec1 :  57.95999998779297\n",
      "current lr 5.24030e-04\n"
     ]
    },
    {
     "data": {
      "application/vnd.jupyter.widget-view+json": {
       "model_id": "a818a7f226644e0d81f83f70d832c4fe",
       "version_major": 2,
       "version_minor": 0
      },
      "text/plain": [
       "  0%|          | 0/20 [00:00<?, ?it/s]"
      ]
     },
     "metadata": {},
     "output_type": "display_data"
    },
    {
     "name": "stdout",
     "output_type": "stream",
     "text": [
      "Epoch: [100][0/20]\tTime 2.373 (2.373)\tData 2.011 (2.011)\tLoss 1.1947 (1.1947)\tPrec@1 57.861 (57.861)\n",
      "Test: [0/5]\tTime 1.073 (1.073)\tLoss 1.1434 (1.1434)\tPrec@1 58.887 (58.887)\n",
      " * Prec@1 58.280\n",
      "Best prec1 :  58.28000046386719\n",
      "current lr 5.16190e-04\n"
     ]
    },
    {
     "data": {
      "application/vnd.jupyter.widget-view+json": {
       "model_id": "89a8e2325e224181878cea136a7e4d79",
       "version_major": 2,
       "version_minor": 0
      },
      "text/plain": [
       "  0%|          | 0/20 [00:00<?, ?it/s]"
      ]
     },
     "metadata": {},
     "output_type": "display_data"
    },
    {
     "name": "stdout",
     "output_type": "stream",
     "text": [
      "Epoch: [101][0/20]\tTime 2.515 (2.515)\tData 2.153 (2.153)\tLoss 1.1886 (1.1886)\tPrec@1 57.715 (57.715)\n",
      "Test: [0/5]\tTime 0.900 (0.900)\tLoss 1.3714 (1.3714)\tPrec@1 54.443 (54.443)\n",
      " * Prec@1 53.310\n",
      "Best prec1 :  58.28000046386719\n",
      "current lr 5.08346e-04\n"
     ]
    },
    {
     "data": {
      "application/vnd.jupyter.widget-view+json": {
       "model_id": "02ec6cf0014c4b52b44a2deb6009a65f",
       "version_major": 2,
       "version_minor": 0
      },
      "text/plain": [
       "  0%|          | 0/20 [00:00<?, ?it/s]"
      ]
     },
     "metadata": {},
     "output_type": "display_data"
    },
    {
     "name": "stdout",
     "output_type": "stream",
     "text": [
      "Epoch: [102][0/20]\tTime 2.693 (2.693)\tData 2.329 (2.329)\tLoss 1.1497 (1.1497)\tPrec@1 58.594 (58.594)\n",
      "Test: [0/5]\tTime 0.898 (0.898)\tLoss 1.2189 (1.2189)\tPrec@1 57.178 (57.178)\n",
      " * Prec@1 56.420\n",
      "Best prec1 :  58.28000046386719\n",
      "current lr 5.00500e-04\n"
     ]
    },
    {
     "data": {
      "application/vnd.jupyter.widget-view+json": {
       "model_id": "1f4972ace1a34fcf886b3672e3000f07",
       "version_major": 2,
       "version_minor": 0
      },
      "text/plain": [
       "  0%|          | 0/20 [00:00<?, ?it/s]"
      ]
     },
     "metadata": {},
     "output_type": "display_data"
    },
    {
     "name": "stdout",
     "output_type": "stream",
     "text": [
      "Epoch: [103][0/20]\tTime 2.289 (2.289)\tData 1.930 (1.930)\tLoss 1.1778 (1.1778)\tPrec@1 57.275 (57.275)\n",
      "Test: [0/5]\tTime 0.931 (0.931)\tLoss 1.2742 (1.2742)\tPrec@1 55.664 (55.664)\n",
      " * Prec@1 54.360\n",
      "Best prec1 :  58.28000046386719\n",
      "current lr 4.92654e-04\n"
     ]
    },
    {
     "data": {
      "application/vnd.jupyter.widget-view+json": {
       "model_id": "287c9055b6414f159b9985541a292c68",
       "version_major": 2,
       "version_minor": 0
      },
      "text/plain": [
       "  0%|          | 0/20 [00:00<?, ?it/s]"
      ]
     },
     "metadata": {},
     "output_type": "display_data"
    },
    {
     "name": "stdout",
     "output_type": "stream",
     "text": [
      "Epoch: [104][0/20]\tTime 2.352 (2.352)\tData 1.986 (1.986)\tLoss 1.2338 (1.2338)\tPrec@1 56.104 (56.104)\n",
      "Test: [0/5]\tTime 0.896 (0.896)\tLoss 1.2465 (1.2465)\tPrec@1 57.227 (57.227)\n",
      " * Prec@1 57.090\n",
      "Best prec1 :  58.28000046386719\n",
      "current lr 4.84810e-04\n"
     ]
    },
    {
     "data": {
      "application/vnd.jupyter.widget-view+json": {
       "model_id": "b42a816342b346caa430df0a36ee617f",
       "version_major": 2,
       "version_minor": 0
      },
      "text/plain": [
       "  0%|          | 0/20 [00:00<?, ?it/s]"
      ]
     },
     "metadata": {},
     "output_type": "display_data"
    },
    {
     "name": "stdout",
     "output_type": "stream",
     "text": [
      "Epoch: [105][0/20]\tTime 2.704 (2.704)\tData 2.344 (2.344)\tLoss 1.1800 (1.1800)\tPrec@1 57.471 (57.471)\n",
      "Test: [0/5]\tTime 0.898 (0.898)\tLoss 1.1472 (1.1472)\tPrec@1 59.668 (59.668)\n",
      " * Prec@1 58.100\n",
      "Best prec1 :  58.28000046386719\n",
      "current lr 4.76970e-04\n"
     ]
    },
    {
     "data": {
      "application/vnd.jupyter.widget-view+json": {
       "model_id": "6352e98fd4ff4509b4befb4bb088e3c6",
       "version_major": 2,
       "version_minor": 0
      },
      "text/plain": [
       "  0%|          | 0/20 [00:00<?, ?it/s]"
      ]
     },
     "metadata": {},
     "output_type": "display_data"
    },
    {
     "name": "stdout",
     "output_type": "stream",
     "text": [
      "Epoch: [106][0/20]\tTime 2.220 (2.220)\tData 1.855 (1.855)\tLoss 1.1761 (1.1761)\tPrec@1 58.008 (58.008)\n",
      "Test: [0/5]\tTime 0.912 (0.912)\tLoss 1.2247 (1.2247)\tPrec@1 57.666 (57.666)\n",
      " * Prec@1 56.490\n",
      "Best prec1 :  58.28000046386719\n",
      "current lr 4.69136e-04\n"
     ]
    },
    {
     "data": {
      "application/vnd.jupyter.widget-view+json": {
       "model_id": "1b51403d7df04e48b96ddb5de0ec9a12",
       "version_major": 2,
       "version_minor": 0
      },
      "text/plain": [
       "  0%|          | 0/20 [00:00<?, ?it/s]"
      ]
     },
     "metadata": {},
     "output_type": "display_data"
    },
    {
     "name": "stdout",
     "output_type": "stream",
     "text": [
      "Epoch: [107][0/20]\tTime 2.181 (2.181)\tData 1.813 (1.813)\tLoss 1.1982 (1.1982)\tPrec@1 58.105 (58.105)\n",
      "Test: [0/5]\tTime 0.890 (0.890)\tLoss 1.1368 (1.1368)\tPrec@1 59.619 (59.619)\n",
      " * Prec@1 58.500\n",
      "Best prec1 :  58.50000030517578\n",
      "current lr 4.61310e-04\n"
     ]
    },
    {
     "data": {
      "application/vnd.jupyter.widget-view+json": {
       "model_id": "f6812a92d94e405187e4f0ad34f12ac1",
       "version_major": 2,
       "version_minor": 0
      },
      "text/plain": [
       "  0%|          | 0/20 [00:00<?, ?it/s]"
      ]
     },
     "metadata": {},
     "output_type": "display_data"
    },
    {
     "name": "stdout",
     "output_type": "stream",
     "text": [
      "Epoch: [108][0/20]\tTime 2.782 (2.782)\tData 2.421 (2.421)\tLoss 1.1462 (1.1462)\tPrec@1 58.789 (58.789)\n",
      "Test: [0/5]\tTime 0.886 (0.886)\tLoss 1.1482 (1.1482)\tPrec@1 59.131 (59.131)\n",
      " * Prec@1 58.500\n",
      "Best prec1 :  58.50000030517578\n",
      "current lr 4.53493e-04\n"
     ]
    },
    {
     "data": {
      "application/vnd.jupyter.widget-view+json": {
       "model_id": "af90961c619546c9a21c9b18483074f1",
       "version_major": 2,
       "version_minor": 0
      },
      "text/plain": [
       "  0%|          | 0/20 [00:00<?, ?it/s]"
      ]
     },
     "metadata": {},
     "output_type": "display_data"
    },
    {
     "name": "stdout",
     "output_type": "stream",
     "text": [
      "Epoch: [109][0/20]\tTime 2.562 (2.562)\tData 2.197 (2.197)\tLoss 1.2245 (1.2245)\tPrec@1 57.227 (57.227)\n",
      "Test: [0/5]\tTime 0.901 (0.901)\tLoss 1.3103 (1.3103)\tPrec@1 55.859 (55.859)\n",
      " * Prec@1 54.920\n",
      "Best prec1 :  58.50000030517578\n",
      "current lr 4.45688e-04\n"
     ]
    },
    {
     "data": {
      "application/vnd.jupyter.widget-view+json": {
       "model_id": "d85724dea52c405ca2fd75d84b441ff5",
       "version_major": 2,
       "version_minor": 0
      },
      "text/plain": [
       "  0%|          | 0/20 [00:00<?, ?it/s]"
      ]
     },
     "metadata": {},
     "output_type": "display_data"
    },
    {
     "name": "stdout",
     "output_type": "stream",
     "text": [
      "Epoch: [110][0/20]\tTime 2.304 (2.304)\tData 1.943 (1.943)\tLoss 1.1448 (1.1448)\tPrec@1 59.912 (59.912)\n",
      "Test: [0/5]\tTime 0.916 (0.916)\tLoss 1.2994 (1.2994)\tPrec@1 55.859 (55.859)\n",
      " * Prec@1 56.130\n",
      "Best prec1 :  58.50000030517578\n",
      "current lr 4.37896e-04\n"
     ]
    },
    {
     "data": {
      "application/vnd.jupyter.widget-view+json": {
       "model_id": "c0c424bf50964fbd953e082545fed1bb",
       "version_major": 2,
       "version_minor": 0
      },
      "text/plain": [
       "  0%|          | 0/20 [00:00<?, ?it/s]"
      ]
     },
     "metadata": {},
     "output_type": "display_data"
    },
    {
     "name": "stdout",
     "output_type": "stream",
     "text": [
      "Epoch: [111][0/20]\tTime 2.327 (2.327)\tData 1.961 (1.961)\tLoss 1.2213 (1.2213)\tPrec@1 56.934 (56.934)\n",
      "Test: [0/5]\tTime 0.900 (0.900)\tLoss 1.2764 (1.2764)\tPrec@1 56.055 (56.055)\n",
      " * Prec@1 55.280\n",
      "Best prec1 :  58.50000030517578\n",
      "current lr 4.30120e-04\n"
     ]
    },
    {
     "data": {
      "application/vnd.jupyter.widget-view+json": {
       "model_id": "563cf22cf9324597b6cc326253f905cf",
       "version_major": 2,
       "version_minor": 0
      },
      "text/plain": [
       "  0%|          | 0/20 [00:00<?, ?it/s]"
      ]
     },
     "metadata": {},
     "output_type": "display_data"
    },
    {
     "name": "stdout",
     "output_type": "stream",
     "text": [
      "Epoch: [112][0/20]\tTime 2.796 (2.796)\tData 2.436 (2.436)\tLoss 1.2513 (1.2513)\tPrec@1 54.736 (54.736)\n",
      "Test: [0/5]\tTime 0.892 (0.892)\tLoss 1.2749 (1.2749)\tPrec@1 56.494 (56.494)\n",
      " * Prec@1 55.320\n",
      "Best prec1 :  58.50000030517578\n",
      "current lr 4.22361e-04\n"
     ]
    },
    {
     "data": {
      "application/vnd.jupyter.widget-view+json": {
       "model_id": "ce685e4bc3e0460a85e37e465f18e2f7",
       "version_major": 2,
       "version_minor": 0
      },
      "text/plain": [
       "  0%|          | 0/20 [00:00<?, ?it/s]"
      ]
     },
     "metadata": {},
     "output_type": "display_data"
    },
    {
     "name": "stdout",
     "output_type": "stream",
     "text": [
      "Epoch: [113][0/20]\tTime 2.022 (2.022)\tData 1.658 (1.658)\tLoss 1.2272 (1.2272)\tPrec@1 56.689 (56.689)\n",
      "Test: [0/5]\tTime 0.888 (0.888)\tLoss 1.1916 (1.1916)\tPrec@1 58.252 (58.252)\n",
      " * Prec@1 57.020\n",
      "Best prec1 :  58.50000030517578\n",
      "current lr 4.14621e-04\n"
     ]
    },
    {
     "data": {
      "application/vnd.jupyter.widget-view+json": {
       "model_id": "6264e83d2fe04e55aba4c4b0bfd4fda9",
       "version_major": 2,
       "version_minor": 0
      },
      "text/plain": [
       "  0%|          | 0/20 [00:00<?, ?it/s]"
      ]
     },
     "metadata": {},
     "output_type": "display_data"
    },
    {
     "name": "stdout",
     "output_type": "stream",
     "text": [
      "Epoch: [114][0/20]\tTime 1.928 (1.928)\tData 1.565 (1.565)\tLoss 1.1852 (1.1852)\tPrec@1 57.227 (57.227)\n",
      "Test: [0/5]\tTime 0.895 (0.895)\tLoss 1.2012 (1.2012)\tPrec@1 57.861 (57.861)\n",
      " * Prec@1 56.810\n",
      "Best prec1 :  58.50000030517578\n",
      "current lr 4.06903e-04\n"
     ]
    },
    {
     "data": {
      "application/vnd.jupyter.widget-view+json": {
       "model_id": "7a9d3b3286e444c6a21d72a5f5ca3645",
       "version_major": 2,
       "version_minor": 0
      },
      "text/plain": [
       "  0%|          | 0/20 [00:00<?, ?it/s]"
      ]
     },
     "metadata": {},
     "output_type": "display_data"
    },
    {
     "name": "stdout",
     "output_type": "stream",
     "text": [
      "Epoch: [115][0/20]\tTime 1.941 (1.941)\tData 1.577 (1.577)\tLoss 1.1811 (1.1811)\tPrec@1 58.643 (58.643)\n",
      "Test: [0/5]\tTime 0.908 (0.908)\tLoss 1.1990 (1.1990)\tPrec@1 58.057 (58.057)\n",
      " * Prec@1 56.870\n",
      "Best prec1 :  58.50000030517578\n",
      "current lr 3.99208e-04\n"
     ]
    },
    {
     "data": {
      "application/vnd.jupyter.widget-view+json": {
       "model_id": "48ce7ba6bbf9414d8603bc761bdfd0d7",
       "version_major": 2,
       "version_minor": 0
      },
      "text/plain": [
       "  0%|          | 0/20 [00:00<?, ?it/s]"
      ]
     },
     "metadata": {},
     "output_type": "display_data"
    },
    {
     "name": "stdout",
     "output_type": "stream",
     "text": [
      "Epoch: [116][0/20]\tTime 1.945 (1.945)\tData 1.576 (1.576)\tLoss 1.1677 (1.1677)\tPrec@1 59.033 (59.033)\n",
      "Test: [0/5]\tTime 0.937 (0.937)\tLoss 1.2870 (1.2870)\tPrec@1 55.957 (55.957)\n",
      " * Prec@1 55.210\n",
      "Best prec1 :  58.50000030517578\n",
      "current lr 3.91537e-04\n"
     ]
    },
    {
     "data": {
      "application/vnd.jupyter.widget-view+json": {
       "model_id": "16ba30ee657b47159bc37cb891a0b42f",
       "version_major": 2,
       "version_minor": 0
      },
      "text/plain": [
       "  0%|          | 0/20 [00:00<?, ?it/s]"
      ]
     },
     "metadata": {},
     "output_type": "display_data"
    },
    {
     "name": "stdout",
     "output_type": "stream",
     "text": [
      "Epoch: [117][0/20]\tTime 2.024 (2.024)\tData 1.658 (1.658)\tLoss 1.2091 (1.2091)\tPrec@1 56.494 (56.494)\n",
      "Test: [0/5]\tTime 0.919 (0.919)\tLoss 1.2730 (1.2730)\tPrec@1 55.273 (55.273)\n",
      " * Prec@1 55.140\n",
      "Best prec1 :  58.50000030517578\n",
      "current lr 3.83894e-04\n"
     ]
    },
    {
     "data": {
      "application/vnd.jupyter.widget-view+json": {
       "model_id": "9b2a00335d8c4e0e96217c320d82ca60",
       "version_major": 2,
       "version_minor": 0
      },
      "text/plain": [
       "  0%|          | 0/20 [00:00<?, ?it/s]"
      ]
     },
     "metadata": {},
     "output_type": "display_data"
    },
    {
     "name": "stdout",
     "output_type": "stream",
     "text": [
      "Epoch: [118][0/20]\tTime 1.936 (1.936)\tData 1.574 (1.574)\tLoss 1.1646 (1.1646)\tPrec@1 58.105 (58.105)\n",
      "Test: [0/5]\tTime 0.905 (0.905)\tLoss 1.1959 (1.1959)\tPrec@1 59.326 (59.326)\n",
      " * Prec@1 57.260\n",
      "Best prec1 :  58.50000030517578\n",
      "current lr 3.76279e-04\n"
     ]
    },
    {
     "data": {
      "application/vnd.jupyter.widget-view+json": {
       "model_id": "24bbded8b32c4a2d9d7e75a959645c82",
       "version_major": 2,
       "version_minor": 0
      },
      "text/plain": [
       "  0%|          | 0/20 [00:00<?, ?it/s]"
      ]
     },
     "metadata": {},
     "output_type": "display_data"
    },
    {
     "name": "stdout",
     "output_type": "stream",
     "text": [
      "Epoch: [119][0/20]\tTime 2.418 (2.418)\tData 2.052 (2.052)\tLoss 1.1437 (1.1437)\tPrec@1 60.254 (60.254)\n",
      "Test: [0/5]\tTime 0.904 (0.904)\tLoss 1.1772 (1.1772)\tPrec@1 57.910 (57.910)\n",
      " * Prec@1 58.060\n",
      "Best prec1 :  58.50000030517578\n",
      "current lr 3.68695e-04\n"
     ]
    },
    {
     "data": {
      "application/vnd.jupyter.widget-view+json": {
       "model_id": "f9659c61f3aa4c0e9e271e90614f664b",
       "version_major": 2,
       "version_minor": 0
      },
      "text/plain": [
       "  0%|          | 0/20 [00:00<?, ?it/s]"
      ]
     },
     "metadata": {},
     "output_type": "display_data"
    },
    {
     "name": "stdout",
     "output_type": "stream",
     "text": [
      "Epoch: [120][0/20]\tTime 2.118 (2.118)\tData 1.752 (1.752)\tLoss 1.2094 (1.2094)\tPrec@1 57.373 (57.373)\n",
      "Test: [0/5]\tTime 0.881 (0.881)\tLoss 1.1965 (1.1965)\tPrec@1 57.471 (57.471)\n",
      " * Prec@1 56.560\n",
      "Best prec1 :  58.50000030517578\n",
      "current lr 3.61144e-04\n"
     ]
    },
    {
     "data": {
      "application/vnd.jupyter.widget-view+json": {
       "model_id": "34cb9213d08c43978214a395f4fe62d5",
       "version_major": 2,
       "version_minor": 0
      },
      "text/plain": [
       "  0%|          | 0/20 [00:00<?, ?it/s]"
      ]
     },
     "metadata": {},
     "output_type": "display_data"
    },
    {
     "name": "stdout",
     "output_type": "stream",
     "text": [
      "Epoch: [121][0/20]\tTime 2.076 (2.076)\tData 1.696 (1.696)\tLoss 1.1752 (1.1752)\tPrec@1 58.496 (58.496)\n",
      "Test: [0/5]\tTime 0.904 (0.904)\tLoss 1.2683 (1.2683)\tPrec@1 56.201 (56.201)\n",
      " * Prec@1 54.220\n",
      "Best prec1 :  58.50000030517578\n",
      "current lr 3.53627e-04\n"
     ]
    },
    {
     "data": {
      "application/vnd.jupyter.widget-view+json": {
       "model_id": "58f7037bbbc4423a9c979641284c60a2",
       "version_major": 2,
       "version_minor": 0
      },
      "text/plain": [
       "  0%|          | 0/20 [00:00<?, ?it/s]"
      ]
     },
     "metadata": {},
     "output_type": "display_data"
    },
    {
     "name": "stdout",
     "output_type": "stream",
     "text": [
      "Epoch: [122][0/20]\tTime 2.123 (2.123)\tData 1.760 (1.760)\tLoss 1.1939 (1.1939)\tPrec@1 56.787 (56.787)\n",
      "Test: [0/5]\tTime 0.909 (0.909)\tLoss 1.2040 (1.2040)\tPrec@1 58.936 (58.936)\n",
      " * Prec@1 57.890\n",
      "Best prec1 :  58.50000030517578\n",
      "current lr 3.46146e-04\n"
     ]
    },
    {
     "data": {
      "application/vnd.jupyter.widget-view+json": {
       "model_id": "a03a033d0cd64bf5b439166fa7cabb42",
       "version_major": 2,
       "version_minor": 0
      },
      "text/plain": [
       "  0%|          | 0/20 [00:00<?, ?it/s]"
      ]
     },
     "metadata": {},
     "output_type": "display_data"
    },
    {
     "name": "stdout",
     "output_type": "stream",
     "text": [
      "Epoch: [123][0/20]\tTime 2.143 (2.143)\tData 1.783 (1.783)\tLoss 1.1641 (1.1641)\tPrec@1 58.057 (58.057)\n",
      "Test: [0/5]\tTime 0.884 (0.884)\tLoss 1.2104 (1.2104)\tPrec@1 58.594 (58.594)\n",
      " * Prec@1 57.980\n",
      "Best prec1 :  58.50000030517578\n",
      "current lr 3.38703e-04\n"
     ]
    },
    {
     "data": {
      "application/vnd.jupyter.widget-view+json": {
       "model_id": "f70955c6f8f343bb892af55fd8aeaf8a",
       "version_major": 2,
       "version_minor": 0
      },
      "text/plain": [
       "  0%|          | 0/20 [00:00<?, ?it/s]"
      ]
     },
     "metadata": {},
     "output_type": "display_data"
    },
    {
     "name": "stdout",
     "output_type": "stream",
     "text": [
      "Epoch: [124][0/20]\tTime 2.763 (2.763)\tData 2.400 (2.400)\tLoss 1.1816 (1.1816)\tPrec@1 57.129 (57.129)\n",
      "Test: [0/5]\tTime 0.914 (0.914)\tLoss 1.1486 (1.1486)\tPrec@1 60.840 (60.840)\n",
      " * Prec@1 58.920\n",
      "Best prec1 :  58.92000006713867\n",
      "current lr 3.31300e-04\n"
     ]
    },
    {
     "data": {
      "application/vnd.jupyter.widget-view+json": {
       "model_id": "97c6c1d8e29e41b0bd31362c28240362",
       "version_major": 2,
       "version_minor": 0
      },
      "text/plain": [
       "  0%|          | 0/20 [00:00<?, ?it/s]"
      ]
     },
     "metadata": {},
     "output_type": "display_data"
    },
    {
     "name": "stdout",
     "output_type": "stream",
     "text": [
      "Epoch: [125][0/20]\tTime 2.050 (2.050)\tData 1.687 (1.687)\tLoss 1.1624 (1.1624)\tPrec@1 58.154 (58.154)\n",
      "Test: [0/5]\tTime 0.938 (0.938)\tLoss 1.2041 (1.2041)\tPrec@1 57.324 (57.324)\n",
      " * Prec@1 57.350\n",
      "Best prec1 :  58.92000006713867\n",
      "current lr 3.23939e-04\n"
     ]
    },
    {
     "data": {
      "application/vnd.jupyter.widget-view+json": {
       "model_id": "478bf621df4e4ddbb4e376a253cff892",
       "version_major": 2,
       "version_minor": 0
      },
      "text/plain": [
       "  0%|          | 0/20 [00:00<?, ?it/s]"
      ]
     },
     "metadata": {},
     "output_type": "display_data"
    },
    {
     "name": "stdout",
     "output_type": "stream",
     "text": [
      "Epoch: [126][0/20]\tTime 2.387 (2.387)\tData 2.023 (2.023)\tLoss 1.1543 (1.1543)\tPrec@1 60.107 (60.107)\n",
      "Test: [0/5]\tTime 0.893 (0.893)\tLoss 1.2283 (1.2283)\tPrec@1 58.301 (58.301)\n",
      " * Prec@1 56.460\n",
      "Best prec1 :  58.92000006713867\n",
      "current lr 3.16622e-04\n"
     ]
    },
    {
     "data": {
      "application/vnd.jupyter.widget-view+json": {
       "model_id": "d84104707d7e48a88c82745aa91f14f3",
       "version_major": 2,
       "version_minor": 0
      },
      "text/plain": [
       "  0%|          | 0/20 [00:00<?, ?it/s]"
      ]
     },
     "metadata": {},
     "output_type": "display_data"
    },
    {
     "name": "stdout",
     "output_type": "stream",
     "text": [
      "Epoch: [127][0/20]\tTime 2.059 (2.059)\tData 1.695 (1.695)\tLoss 1.1323 (1.1323)\tPrec@1 60.156 (60.156)\n",
      "Test: [0/5]\tTime 0.904 (0.904)\tLoss 1.1998 (1.1998)\tPrec@1 57.520 (57.520)\n",
      " * Prec@1 56.900\n",
      "Best prec1 :  58.92000006713867\n",
      "current lr 3.09350e-04\n"
     ]
    },
    {
     "data": {
      "application/vnd.jupyter.widget-view+json": {
       "model_id": "e88f90a6e6e04cab8bdc01853a8f8040",
       "version_major": 2,
       "version_minor": 0
      },
      "text/plain": [
       "  0%|          | 0/20 [00:00<?, ?it/s]"
      ]
     },
     "metadata": {},
     "output_type": "display_data"
    },
    {
     "name": "stdout",
     "output_type": "stream",
     "text": [
      "Epoch: [128][0/20]\tTime 2.527 (2.527)\tData 2.159 (2.159)\tLoss 1.1603 (1.1603)\tPrec@1 58.496 (58.496)\n",
      "Test: [0/5]\tTime 0.911 (0.911)\tLoss 1.1616 (1.1616)\tPrec@1 59.375 (59.375)\n",
      " * Prec@1 59.140\n",
      "Best prec1 :  59.14000009765625\n",
      "current lr 3.02125e-04\n"
     ]
    },
    {
     "data": {
      "application/vnd.jupyter.widget-view+json": {
       "model_id": "1b7316e2f4814f7d91c84c776b7d298e",
       "version_major": 2,
       "version_minor": 0
      },
      "text/plain": [
       "  0%|          | 0/20 [00:00<?, ?it/s]"
      ]
     },
     "metadata": {},
     "output_type": "display_data"
    },
    {
     "name": "stdout",
     "output_type": "stream",
     "text": [
      "Epoch: [129][0/20]\tTime 2.683 (2.683)\tData 2.319 (2.319)\tLoss 1.1792 (1.1792)\tPrec@1 57.861 (57.861)\n",
      "Test: [0/5]\tTime 0.897 (0.897)\tLoss 1.2264 (1.2264)\tPrec@1 57.715 (57.715)\n",
      " * Prec@1 57.350\n",
      "Best prec1 :  59.14000009765625\n",
      "current lr 2.94949e-04\n"
     ]
    },
    {
     "data": {
      "application/vnd.jupyter.widget-view+json": {
       "model_id": "9c27925a396c4fc38ffb04fb11485343",
       "version_major": 2,
       "version_minor": 0
      },
      "text/plain": [
       "  0%|          | 0/20 [00:00<?, ?it/s]"
      ]
     },
     "metadata": {},
     "output_type": "display_data"
    },
    {
     "name": "stdout",
     "output_type": "stream",
     "text": [
      "Epoch: [130][0/20]\tTime 2.813 (2.813)\tData 2.453 (2.453)\tLoss 1.1539 (1.1539)\tPrec@1 59.131 (59.131)\n",
      "Test: [0/5]\tTime 0.880 (0.880)\tLoss 1.2511 (1.2511)\tPrec@1 57.080 (57.080)\n",
      " * Prec@1 57.650\n",
      "Best prec1 :  59.14000009765625\n",
      "current lr 2.87823e-04\n"
     ]
    },
    {
     "data": {
      "application/vnd.jupyter.widget-view+json": {
       "model_id": "da0f58a671514c23bdbe26200961e958",
       "version_major": 2,
       "version_minor": 0
      },
      "text/plain": [
       "  0%|          | 0/20 [00:00<?, ?it/s]"
      ]
     },
     "metadata": {},
     "output_type": "display_data"
    },
    {
     "name": "stdout",
     "output_type": "stream",
     "text": [
      "Epoch: [131][0/20]\tTime 2.067 (2.067)\tData 1.701 (1.701)\tLoss 1.2131 (1.2131)\tPrec@1 57.422 (57.422)\n",
      "Test: [0/5]\tTime 0.898 (0.898)\tLoss 1.2504 (1.2504)\tPrec@1 56.836 (56.836)\n",
      " * Prec@1 56.400\n",
      "Best prec1 :  59.14000009765625\n",
      "current lr 2.80750e-04\n"
     ]
    },
    {
     "data": {
      "application/vnd.jupyter.widget-view+json": {
       "model_id": "de92ae1fcc6f44a2a0e14e5ffde770df",
       "version_major": 2,
       "version_minor": 0
      },
      "text/plain": [
       "  0%|          | 0/20 [00:00<?, ?it/s]"
      ]
     },
     "metadata": {},
     "output_type": "display_data"
    },
    {
     "name": "stdout",
     "output_type": "stream",
     "text": [
      "Epoch: [132][0/20]\tTime 2.421 (2.421)\tData 2.059 (2.059)\tLoss 1.1873 (1.1873)\tPrec@1 57.812 (57.812)\n",
      "Test: [0/5]\tTime 0.930 (0.930)\tLoss 1.1712 (1.1712)\tPrec@1 58.398 (58.398)\n",
      " * Prec@1 58.540\n",
      "Best prec1 :  59.14000009765625\n",
      "current lr 2.73732e-04\n"
     ]
    },
    {
     "data": {
      "application/vnd.jupyter.widget-view+json": {
       "model_id": "772162bbd90b42cdbe6f9761580fcd8b",
       "version_major": 2,
       "version_minor": 0
      },
      "text/plain": [
       "  0%|          | 0/20 [00:00<?, ?it/s]"
      ]
     },
     "metadata": {},
     "output_type": "display_data"
    },
    {
     "name": "stdout",
     "output_type": "stream",
     "text": [
      "Epoch: [133][0/20]\tTime 2.586 (2.586)\tData 2.225 (2.225)\tLoss 1.1545 (1.1545)\tPrec@1 58.789 (58.789)\n",
      "Test: [0/5]\tTime 0.914 (0.914)\tLoss 1.1704 (1.1704)\tPrec@1 60.010 (60.010)\n",
      " * Prec@1 58.670\n",
      "Best prec1 :  59.14000009765625\n",
      "current lr 2.66769e-04\n"
     ]
    },
    {
     "data": {
      "application/vnd.jupyter.widget-view+json": {
       "model_id": "56cbe19ef57e4affade2fb1f05230eb5",
       "version_major": 2,
       "version_minor": 0
      },
      "text/plain": [
       "  0%|          | 0/20 [00:00<?, ?it/s]"
      ]
     },
     "metadata": {},
     "output_type": "display_data"
    },
    {
     "name": "stdout",
     "output_type": "stream",
     "text": [
      "Epoch: [134][0/20]\tTime 2.044 (2.044)\tData 1.682 (1.682)\tLoss 1.1889 (1.1889)\tPrec@1 57.129 (57.129)\n",
      "Test: [0/5]\tTime 0.882 (0.882)\tLoss 1.1943 (1.1943)\tPrec@1 59.180 (59.180)\n",
      " * Prec@1 57.560\n",
      "Best prec1 :  59.14000009765625\n",
      "current lr 2.59864e-04\n"
     ]
    },
    {
     "data": {
      "application/vnd.jupyter.widget-view+json": {
       "model_id": "86a4acd4742b41aba15d44fe1b134944",
       "version_major": 2,
       "version_minor": 0
      },
      "text/plain": [
       "  0%|          | 0/20 [00:00<?, ?it/s]"
      ]
     },
     "metadata": {},
     "output_type": "display_data"
    },
    {
     "name": "stdout",
     "output_type": "stream",
     "text": [
      "Epoch: [135][0/20]\tTime 1.916 (1.916)\tData 1.556 (1.556)\tLoss 1.1291 (1.1291)\tPrec@1 61.475 (61.475)\n",
      "Test: [0/5]\tTime 0.912 (0.912)\tLoss 1.1566 (1.1566)\tPrec@1 58.789 (58.789)\n",
      " * Prec@1 57.680\n",
      "Best prec1 :  59.14000009765625\n",
      "current lr 2.53018e-04\n"
     ]
    },
    {
     "data": {
      "application/vnd.jupyter.widget-view+json": {
       "model_id": "a086ff92c97f4dbb9e56b3a57e8464d5",
       "version_major": 2,
       "version_minor": 0
      },
      "text/plain": [
       "  0%|          | 0/20 [00:00<?, ?it/s]"
      ]
     },
     "metadata": {},
     "output_type": "display_data"
    },
    {
     "name": "stdout",
     "output_type": "stream",
     "text": [
      "Epoch: [136][0/20]\tTime 2.124 (2.124)\tData 1.756 (1.756)\tLoss 1.1895 (1.1895)\tPrec@1 57.617 (57.617)\n",
      "Test: [0/5]\tTime 0.909 (0.909)\tLoss 1.1259 (1.1259)\tPrec@1 60.498 (60.498)\n",
      " * Prec@1 59.640\n",
      "Best prec1 :  59.63999999389648\n",
      "current lr 2.46234e-04\n"
     ]
    },
    {
     "data": {
      "application/vnd.jupyter.widget-view+json": {
       "model_id": "6f4bee7a76694b37807a9a5956466b64",
       "version_major": 2,
       "version_minor": 0
      },
      "text/plain": [
       "  0%|          | 0/20 [00:00<?, ?it/s]"
      ]
     },
     "metadata": {},
     "output_type": "display_data"
    },
    {
     "name": "stdout",
     "output_type": "stream",
     "text": [
      "Epoch: [137][0/20]\tTime 2.751 (2.751)\tData 2.390 (2.390)\tLoss 1.1558 (1.1558)\tPrec@1 60.107 (60.107)\n",
      "Test: [0/5]\tTime 0.902 (0.902)\tLoss 1.1964 (1.1964)\tPrec@1 58.252 (58.252)\n",
      " * Prec@1 57.380\n",
      "Best prec1 :  59.63999999389648\n",
      "current lr 2.39512e-04\n"
     ]
    },
    {
     "data": {
      "application/vnd.jupyter.widget-view+json": {
       "model_id": "56897a2112364a418674c590f503fddf",
       "version_major": 2,
       "version_minor": 0
      },
      "text/plain": [
       "  0%|          | 0/20 [00:00<?, ?it/s]"
      ]
     },
     "metadata": {},
     "output_type": "display_data"
    },
    {
     "name": "stdout",
     "output_type": "stream",
     "text": [
      "Epoch: [138][0/20]\tTime 2.580 (2.580)\tData 2.219 (2.219)\tLoss 1.1715 (1.1715)\tPrec@1 57.568 (57.568)\n",
      "Test: [0/5]\tTime 0.946 (0.946)\tLoss 1.1262 (1.1262)\tPrec@1 60.840 (60.840)\n",
      " * Prec@1 59.500\n",
      "Best prec1 :  59.63999999389648\n",
      "current lr 2.32855e-04\n"
     ]
    },
    {
     "data": {
      "application/vnd.jupyter.widget-view+json": {
       "model_id": "bdbc087342834b1f91db99a0cc0cc132",
       "version_major": 2,
       "version_minor": 0
      },
      "text/plain": [
       "  0%|          | 0/20 [00:00<?, ?it/s]"
      ]
     },
     "metadata": {},
     "output_type": "display_data"
    },
    {
     "name": "stdout",
     "output_type": "stream",
     "text": [
      "Epoch: [139][0/20]\tTime 2.738 (2.738)\tData 2.377 (2.377)\tLoss 1.1876 (1.1876)\tPrec@1 56.396 (56.396)\n",
      "Test: [0/5]\tTime 0.900 (0.900)\tLoss 1.1344 (1.1344)\tPrec@1 61.621 (61.621)\n",
      " * Prec@1 59.130\n",
      "Best prec1 :  59.63999999389648\n",
      "current lr 2.26263e-04\n"
     ]
    },
    {
     "data": {
      "application/vnd.jupyter.widget-view+json": {
       "model_id": "4db508aefe19491abf5d4e4262339066",
       "version_major": 2,
       "version_minor": 0
      },
      "text/plain": [
       "  0%|          | 0/20 [00:00<?, ?it/s]"
      ]
     },
     "metadata": {},
     "output_type": "display_data"
    },
    {
     "name": "stdout",
     "output_type": "stream",
     "text": [
      "Epoch: [140][0/20]\tTime 1.916 (1.916)\tData 1.554 (1.554)\tLoss 1.1494 (1.1494)\tPrec@1 59.082 (59.082)\n",
      "Test: [0/5]\tTime 0.916 (0.916)\tLoss 1.1964 (1.1964)\tPrec@1 59.326 (59.326)\n",
      " * Prec@1 58.800\n",
      "Best prec1 :  59.63999999389648\n",
      "current lr 2.19739e-04\n"
     ]
    },
    {
     "data": {
      "application/vnd.jupyter.widget-view+json": {
       "model_id": "09b8759e38384a42b62a08f9904960f9",
       "version_major": 2,
       "version_minor": 0
      },
      "text/plain": [
       "  0%|          | 0/20 [00:00<?, ?it/s]"
      ]
     },
     "metadata": {},
     "output_type": "display_data"
    },
    {
     "name": "stdout",
     "output_type": "stream",
     "text": [
      "Epoch: [141][0/20]\tTime 1.951 (1.951)\tData 1.589 (1.589)\tLoss 1.1054 (1.1054)\tPrec@1 60.449 (60.449)\n",
      "Test: [0/5]\tTime 0.913 (0.913)\tLoss 1.2527 (1.2527)\tPrec@1 57.959 (57.959)\n",
      " * Prec@1 57.630\n",
      "Best prec1 :  59.63999999389648\n",
      "current lr 2.13285e-04\n"
     ]
    },
    {
     "data": {
      "application/vnd.jupyter.widget-view+json": {
       "model_id": "6d1b76680a7d480db5fb6a0bef1a95fe",
       "version_major": 2,
       "version_minor": 0
      },
      "text/plain": [
       "  0%|          | 0/20 [00:00<?, ?it/s]"
      ]
     },
     "metadata": {},
     "output_type": "display_data"
    },
    {
     "name": "stdout",
     "output_type": "stream",
     "text": [
      "Epoch: [142][0/20]\tTime 2.348 (2.348)\tData 1.987 (1.987)\tLoss 1.1608 (1.1608)\tPrec@1 58.350 (58.350)\n",
      "Test: [0/5]\tTime 0.893 (0.893)\tLoss 1.1068 (1.1068)\tPrec@1 60.303 (60.303)\n",
      " * Prec@1 60.110\n",
      "Best prec1 :  60.11000009765625\n",
      "current lr 2.06901e-04\n"
     ]
    },
    {
     "data": {
      "application/vnd.jupyter.widget-view+json": {
       "model_id": "043f6e4f14134c30881cc0b588d72ee3",
       "version_major": 2,
       "version_minor": 0
      },
      "text/plain": [
       "  0%|          | 0/20 [00:00<?, ?it/s]"
      ]
     },
     "metadata": {},
     "output_type": "display_data"
    },
    {
     "name": "stdout",
     "output_type": "stream",
     "text": [
      "Epoch: [143][0/20]\tTime 2.010 (2.010)\tData 1.645 (1.645)\tLoss 1.1959 (1.1959)\tPrec@1 58.350 (58.350)\n",
      "Test: [0/5]\tTime 0.907 (0.907)\tLoss 1.2496 (1.2496)\tPrec@1 58.057 (58.057)\n",
      " * Prec@1 56.280\n",
      "Best prec1 :  60.11000009765625\n",
      "current lr 2.00590e-04\n"
     ]
    },
    {
     "data": {
      "application/vnd.jupyter.widget-view+json": {
       "model_id": "d045b518cfa2442bb597d969d3ae1183",
       "version_major": 2,
       "version_minor": 0
      },
      "text/plain": [
       "  0%|          | 0/20 [00:00<?, ?it/s]"
      ]
     },
     "metadata": {},
     "output_type": "display_data"
    },
    {
     "name": "stdout",
     "output_type": "stream",
     "text": [
      "Epoch: [144][0/20]\tTime 2.070 (2.070)\tData 1.702 (1.702)\tLoss 1.1673 (1.1673)\tPrec@1 59.326 (59.326)\n",
      "Test: [0/5]\tTime 0.884 (0.884)\tLoss 1.1297 (1.1297)\tPrec@1 60.205 (60.205)\n",
      " * Prec@1 59.570\n",
      "Best prec1 :  60.11000009765625\n",
      "current lr 1.94353e-04\n"
     ]
    },
    {
     "data": {
      "application/vnd.jupyter.widget-view+json": {
       "model_id": "7a2218f0254b4604a068e23f063d9fcd",
       "version_major": 2,
       "version_minor": 0
      },
      "text/plain": [
       "  0%|          | 0/20 [00:00<?, ?it/s]"
      ]
     },
     "metadata": {},
     "output_type": "display_data"
    },
    {
     "name": "stdout",
     "output_type": "stream",
     "text": [
      "Epoch: [145][0/20]\tTime 2.031 (2.031)\tData 1.670 (1.670)\tLoss 1.1518 (1.1518)\tPrec@1 59.277 (59.277)\n",
      "Test: [0/5]\tTime 0.891 (0.891)\tLoss 1.2193 (1.2193)\tPrec@1 59.424 (59.424)\n",
      " * Prec@1 57.730\n",
      "Best prec1 :  60.11000009765625\n",
      "current lr 1.88191e-04\n"
     ]
    },
    {
     "data": {
      "application/vnd.jupyter.widget-view+json": {
       "model_id": "d7a239c1731941049681a30cba0a911e",
       "version_major": 2,
       "version_minor": 0
      },
      "text/plain": [
       "  0%|          | 0/20 [00:00<?, ?it/s]"
      ]
     },
     "metadata": {},
     "output_type": "display_data"
    },
    {
     "name": "stdout",
     "output_type": "stream",
     "text": [
      "Epoch: [146][0/20]\tTime 2.087 (2.087)\tData 1.726 (1.726)\tLoss 1.1898 (1.1898)\tPrec@1 57.520 (57.520)\n",
      "Test: [0/5]\tTime 0.891 (0.891)\tLoss 1.0760 (1.0760)\tPrec@1 62.402 (62.402)\n",
      " * Prec@1 60.780\n",
      "Best prec1 :  60.780000073242185\n",
      "current lr 1.82107e-04\n"
     ]
    },
    {
     "data": {
      "application/vnd.jupyter.widget-view+json": {
       "model_id": "d441f2b4b8654849be8ea23d621c6a58",
       "version_major": 2,
       "version_minor": 0
      },
      "text/plain": [
       "  0%|          | 0/20 [00:00<?, ?it/s]"
      ]
     },
     "metadata": {},
     "output_type": "display_data"
    },
    {
     "name": "stdout",
     "output_type": "stream",
     "text": [
      "Epoch: [147][0/20]\tTime 2.040 (2.040)\tData 1.677 (1.677)\tLoss 1.1941 (1.1941)\tPrec@1 58.594 (58.594)\n",
      "Test: [0/5]\tTime 0.933 (0.933)\tLoss 1.1392 (1.1392)\tPrec@1 61.133 (61.133)\n",
      " * Prec@1 59.720\n",
      "Best prec1 :  60.780000073242185\n",
      "current lr 1.76101e-04\n"
     ]
    },
    {
     "data": {
      "application/vnd.jupyter.widget-view+json": {
       "model_id": "fd1c97207996405884237c860f9393f1",
       "version_major": 2,
       "version_minor": 0
      },
      "text/plain": [
       "  0%|          | 0/20 [00:00<?, ?it/s]"
      ]
     },
     "metadata": {},
     "output_type": "display_data"
    },
    {
     "name": "stdout",
     "output_type": "stream",
     "text": [
      "Epoch: [148][0/20]\tTime 2.271 (2.271)\tData 1.913 (1.913)\tLoss 1.1622 (1.1622)\tPrec@1 58.545 (58.545)\n",
      "Test: [0/5]\tTime 0.920 (0.920)\tLoss 1.1150 (1.1150)\tPrec@1 61.816 (61.816)\n",
      " * Prec@1 60.400\n",
      "Best prec1 :  60.780000073242185\n",
      "current lr 1.70175e-04\n"
     ]
    },
    {
     "data": {
      "application/vnd.jupyter.widget-view+json": {
       "model_id": "9a1b56fe9ae1446f8c8e9717f92348f4",
       "version_major": 2,
       "version_minor": 0
      },
      "text/plain": [
       "  0%|          | 0/20 [00:00<?, ?it/s]"
      ]
     },
     "metadata": {},
     "output_type": "display_data"
    },
    {
     "name": "stdout",
     "output_type": "stream",
     "text": [
      "Epoch: [149][0/20]\tTime 2.590 (2.590)\tData 2.224 (2.224)\tLoss 1.1554 (1.1554)\tPrec@1 58.789 (58.789)\n",
      "Test: [0/5]\tTime 0.911 (0.911)\tLoss 1.1295 (1.1295)\tPrec@1 59.863 (59.863)\n",
      " * Prec@1 59.000\n",
      "Best prec1 :  60.780000073242185\n",
      "current lr 1.64330e-04\n"
     ]
    },
    {
     "data": {
      "application/vnd.jupyter.widget-view+json": {
       "model_id": "fee25a0b677149128ad840a2ea081c19",
       "version_major": 2,
       "version_minor": 0
      },
      "text/plain": [
       "  0%|          | 0/20 [00:00<?, ?it/s]"
      ]
     },
     "metadata": {},
     "output_type": "display_data"
    },
    {
     "name": "stdout",
     "output_type": "stream",
     "text": [
      "Epoch: [150][0/20]\tTime 1.950 (1.950)\tData 1.591 (1.591)\tLoss 1.1719 (1.1719)\tPrec@1 58.203 (58.203)\n",
      "Test: [0/5]\tTime 0.955 (0.955)\tLoss 1.2539 (1.2539)\tPrec@1 57.129 (57.129)\n",
      " * Prec@1 56.100\n",
      "Best prec1 :  60.780000073242185\n",
      "current lr 1.58569e-04\n"
     ]
    },
    {
     "data": {
      "application/vnd.jupyter.widget-view+json": {
       "model_id": "d4075c30f6274774af2735e913ba2bf5",
       "version_major": 2,
       "version_minor": 0
      },
      "text/plain": [
       "  0%|          | 0/20 [00:00<?, ?it/s]"
      ]
     },
     "metadata": {},
     "output_type": "display_data"
    },
    {
     "name": "stdout",
     "output_type": "stream",
     "text": [
      "Epoch: [151][0/20]\tTime 2.052 (2.052)\tData 1.688 (1.688)\tLoss 1.1629 (1.1629)\tPrec@1 58.789 (58.789)\n",
      "Test: [0/5]\tTime 0.948 (0.948)\tLoss 1.1318 (1.1318)\tPrec@1 61.768 (61.768)\n",
      " * Prec@1 59.970\n",
      "Best prec1 :  60.780000073242185\n",
      "current lr 1.52892e-04\n"
     ]
    },
    {
     "data": {
      "application/vnd.jupyter.widget-view+json": {
       "model_id": "3f0c69d2bf96433aa5660c8f67c85185",
       "version_major": 2,
       "version_minor": 0
      },
      "text/plain": [
       "  0%|          | 0/20 [00:00<?, ?it/s]"
      ]
     },
     "metadata": {},
     "output_type": "display_data"
    },
    {
     "name": "stdout",
     "output_type": "stream",
     "text": [
      "Epoch: [152][0/20]\tTime 2.577 (2.577)\tData 2.214 (2.214)\tLoss 1.1418 (1.1418)\tPrec@1 59.766 (59.766)\n",
      "Test: [0/5]\tTime 0.947 (0.947)\tLoss 1.0974 (1.0974)\tPrec@1 62.305 (62.305)\n",
      " * Prec@1 60.930\n",
      "Best prec1 :  60.92999994506836\n",
      "current lr 1.47300e-04\n"
     ]
    },
    {
     "data": {
      "application/vnd.jupyter.widget-view+json": {
       "model_id": "3d81523cba544e959e0e8a6b86d09330",
       "version_major": 2,
       "version_minor": 0
      },
      "text/plain": [
       "  0%|          | 0/20 [00:00<?, ?it/s]"
      ]
     },
     "metadata": {},
     "output_type": "display_data"
    },
    {
     "name": "stdout",
     "output_type": "stream",
     "text": [
      "Epoch: [153][0/20]\tTime 2.583 (2.583)\tData 2.221 (2.221)\tLoss 1.1301 (1.1301)\tPrec@1 60.156 (60.156)\n",
      "Test: [0/5]\tTime 0.939 (0.939)\tLoss 1.1040 (1.1040)\tPrec@1 62.695 (62.695)\n",
      " * Prec@1 61.450\n",
      "Best prec1 :  61.450000476074216\n",
      "current lr 1.41796e-04\n"
     ]
    },
    {
     "data": {
      "application/vnd.jupyter.widget-view+json": {
       "model_id": "fbda48f1bf1148f1a78342ede6dfc919",
       "version_major": 2,
       "version_minor": 0
      },
      "text/plain": [
       "  0%|          | 0/20 [00:00<?, ?it/s]"
      ]
     },
     "metadata": {},
     "output_type": "display_data"
    },
    {
     "name": "stdout",
     "output_type": "stream",
     "text": [
      "Epoch: [154][0/20]\tTime 2.250 (2.250)\tData 1.888 (1.888)\tLoss 1.1889 (1.1889)\tPrec@1 58.057 (58.057)\n",
      "Test: [0/5]\tTime 0.897 (0.897)\tLoss 1.1327 (1.1327)\tPrec@1 61.279 (61.279)\n",
      " * Prec@1 59.240\n",
      "Best prec1 :  61.450000476074216\n",
      "current lr 1.36380e-04\n"
     ]
    },
    {
     "data": {
      "application/vnd.jupyter.widget-view+json": {
       "model_id": "eff240a3e3c44bce85363131841fe91e",
       "version_major": 2,
       "version_minor": 0
      },
      "text/plain": [
       "  0%|          | 0/20 [00:00<?, ?it/s]"
      ]
     },
     "metadata": {},
     "output_type": "display_data"
    },
    {
     "name": "stdout",
     "output_type": "stream",
     "text": [
      "Epoch: [155][0/20]\tTime 1.963 (1.963)\tData 1.601 (1.601)\tLoss 1.1441 (1.1441)\tPrec@1 59.277 (59.277)\n",
      "Test: [0/5]\tTime 0.891 (0.891)\tLoss 1.1600 (1.1600)\tPrec@1 59.814 (59.814)\n",
      " * Prec@1 59.780\n",
      "Best prec1 :  61.450000476074216\n",
      "current lr 1.31054e-04\n"
     ]
    },
    {
     "data": {
      "application/vnd.jupyter.widget-view+json": {
       "model_id": "67ed35ff328c4eb487c1224dcaf71ecf",
       "version_major": 2,
       "version_minor": 0
      },
      "text/plain": [
       "  0%|          | 0/20 [00:00<?, ?it/s]"
      ]
     },
     "metadata": {},
     "output_type": "display_data"
    },
    {
     "name": "stdout",
     "output_type": "stream",
     "text": [
      "Epoch: [156][0/20]\tTime 2.507 (2.507)\tData 2.141 (2.141)\tLoss 1.1549 (1.1549)\tPrec@1 59.229 (59.229)\n",
      "Test: [0/5]\tTime 0.898 (0.898)\tLoss 1.1072 (1.1072)\tPrec@1 62.305 (62.305)\n",
      " * Prec@1 60.280\n",
      "Best prec1 :  61.450000476074216\n",
      "current lr 1.25820e-04\n"
     ]
    },
    {
     "data": {
      "application/vnd.jupyter.widget-view+json": {
       "model_id": "52ff4d962cec499ba82f3aad01cbf09e",
       "version_major": 2,
       "version_minor": 0
      },
      "text/plain": [
       "  0%|          | 0/20 [00:00<?, ?it/s]"
      ]
     },
     "metadata": {},
     "output_type": "display_data"
    },
    {
     "name": "stdout",
     "output_type": "stream",
     "text": [
      "Epoch: [157][0/20]\tTime 2.291 (2.291)\tData 1.931 (1.931)\tLoss 1.0984 (1.0984)\tPrec@1 59.619 (59.619)\n",
      "Test: [0/5]\tTime 0.886 (0.886)\tLoss 1.1538 (1.1538)\tPrec@1 59.277 (59.277)\n",
      " * Prec@1 58.820\n",
      "Best prec1 :  61.450000476074216\n",
      "current lr 1.20677e-04\n"
     ]
    },
    {
     "data": {
      "application/vnd.jupyter.widget-view+json": {
       "model_id": "506f8f91f0bc434e936b42e495d36873",
       "version_major": 2,
       "version_minor": 0
      },
      "text/plain": [
       "  0%|          | 0/20 [00:00<?, ?it/s]"
      ]
     },
     "metadata": {},
     "output_type": "display_data"
    },
    {
     "name": "stdout",
     "output_type": "stream",
     "text": [
      "Epoch: [158][0/20]\tTime 2.580 (2.580)\tData 2.207 (2.207)\tLoss 1.1222 (1.1222)\tPrec@1 60.840 (60.840)\n",
      "Test: [0/5]\tTime 0.920 (0.920)\tLoss 1.1365 (1.1365)\tPrec@1 60.596 (60.596)\n",
      " * Prec@1 59.610\n",
      "Best prec1 :  61.450000476074216\n",
      "current lr 1.15629e-04\n"
     ]
    },
    {
     "data": {
      "application/vnd.jupyter.widget-view+json": {
       "model_id": "6a7ec74fb39441c09d31e2f4f8f1c5cc",
       "version_major": 2,
       "version_minor": 0
      },
      "text/plain": [
       "  0%|          | 0/20 [00:00<?, ?it/s]"
      ]
     },
     "metadata": {},
     "output_type": "display_data"
    },
    {
     "name": "stdout",
     "output_type": "stream",
     "text": [
      "Epoch: [159][0/20]\tTime 2.645 (2.645)\tData 2.270 (2.270)\tLoss 1.1596 (1.1596)\tPrec@1 59.326 (59.326)\n",
      "Test: [0/5]\tTime 0.907 (0.907)\tLoss 1.1147 (1.1147)\tPrec@1 61.768 (61.768)\n",
      " * Prec@1 60.120\n",
      "Best prec1 :  61.450000476074216\n",
      "current lr 1.10675e-04\n"
     ]
    },
    {
     "data": {
      "application/vnd.jupyter.widget-view+json": {
       "model_id": "0d9e998a67ff45088113acfe554b78af",
       "version_major": 2,
       "version_minor": 0
      },
      "text/plain": [
       "  0%|          | 0/20 [00:00<?, ?it/s]"
      ]
     },
     "metadata": {},
     "output_type": "display_data"
    },
    {
     "name": "stdout",
     "output_type": "stream",
     "text": [
      "Epoch: [160][0/20]\tTime 2.061 (2.061)\tData 1.698 (1.698)\tLoss 1.1615 (1.1615)\tPrec@1 58.105 (58.105)\n",
      "Test: [0/5]\tTime 0.909 (0.909)\tLoss 1.0738 (1.0738)\tPrec@1 61.768 (61.768)\n",
      " * Prec@1 61.250\n",
      "Best prec1 :  61.450000476074216\n",
      "current lr 1.05818e-04\n"
     ]
    },
    {
     "data": {
      "application/vnd.jupyter.widget-view+json": {
       "model_id": "65825242cb0541efafeb3bda553bc16d",
       "version_major": 2,
       "version_minor": 0
      },
      "text/plain": [
       "  0%|          | 0/20 [00:00<?, ?it/s]"
      ]
     },
     "metadata": {},
     "output_type": "display_data"
    },
    {
     "name": "stdout",
     "output_type": "stream",
     "text": [
      "Epoch: [161][0/20]\tTime 2.819 (2.819)\tData 2.459 (2.459)\tLoss 1.1078 (1.1078)\tPrec@1 59.717 (59.717)\n",
      "Test: [0/5]\tTime 0.928 (0.928)\tLoss 1.1302 (1.1302)\tPrec@1 61.182 (61.182)\n",
      " * Prec@1 61.030\n",
      "Best prec1 :  61.450000476074216\n",
      "current lr 1.01058e-04\n"
     ]
    },
    {
     "data": {
      "application/vnd.jupyter.widget-view+json": {
       "model_id": "52412d3e837a4afe97e80a0065a667cd",
       "version_major": 2,
       "version_minor": 0
      },
      "text/plain": [
       "  0%|          | 0/20 [00:00<?, ?it/s]"
      ]
     },
     "metadata": {},
     "output_type": "display_data"
    },
    {
     "name": "stdout",
     "output_type": "stream",
     "text": [
      "Epoch: [162][0/20]\tTime 2.199 (2.199)\tData 1.831 (1.831)\tLoss 1.1638 (1.1638)\tPrec@1 58.936 (58.936)\n",
      "Test: [0/5]\tTime 0.899 (0.899)\tLoss 1.0731 (1.0731)\tPrec@1 63.525 (63.525)\n",
      " * Prec@1 61.420\n",
      "Best prec1 :  61.450000476074216\n",
      "current lr 9.63960e-05\n"
     ]
    },
    {
     "data": {
      "application/vnd.jupyter.widget-view+json": {
       "model_id": "cb66a9b970d34a01babad6d22af4ee6f",
       "version_major": 2,
       "version_minor": 0
      },
      "text/plain": [
       "  0%|          | 0/20 [00:00<?, ?it/s]"
      ]
     },
     "metadata": {},
     "output_type": "display_data"
    },
    {
     "name": "stdout",
     "output_type": "stream",
     "text": [
      "Epoch: [163][0/20]\tTime 2.271 (2.271)\tData 1.906 (1.906)\tLoss 1.1607 (1.1607)\tPrec@1 58.887 (58.887)\n",
      "Test: [0/5]\tTime 0.890 (0.890)\tLoss 1.1952 (1.1952)\tPrec@1 58.398 (58.398)\n",
      " * Prec@1 58.080\n",
      "Best prec1 :  61.450000476074216\n",
      "current lr 9.18342e-05\n"
     ]
    },
    {
     "data": {
      "application/vnd.jupyter.widget-view+json": {
       "model_id": "30d7d93d168041b9832c15ca174d572e",
       "version_major": 2,
       "version_minor": 0
      },
      "text/plain": [
       "  0%|          | 0/20 [00:00<?, ?it/s]"
      ]
     },
     "metadata": {},
     "output_type": "display_data"
    },
    {
     "name": "stdout",
     "output_type": "stream",
     "text": [
      "Epoch: [164][0/20]\tTime 2.831 (2.831)\tData 2.469 (2.469)\tLoss 1.1232 (1.1232)\tPrec@1 62.061 (62.061)\n",
      "Test: [0/5]\tTime 0.895 (0.895)\tLoss 1.1976 (1.1976)\tPrec@1 59.033 (59.033)\n",
      " * Prec@1 58.270\n",
      "Best prec1 :  61.450000476074216\n",
      "current lr 8.73733e-05\n"
     ]
    },
    {
     "data": {
      "application/vnd.jupyter.widget-view+json": {
       "model_id": "4d9bd82ceba34ac8bd687108e1bbd1dd",
       "version_major": 2,
       "version_minor": 0
      },
      "text/plain": [
       "  0%|          | 0/20 [00:00<?, ?it/s]"
      ]
     },
     "metadata": {},
     "output_type": "display_data"
    },
    {
     "name": "stdout",
     "output_type": "stream",
     "text": [
      "Epoch: [165][0/20]\tTime 2.016 (2.016)\tData 1.655 (1.655)\tLoss 1.1180 (1.1180)\tPrec@1 61.719 (61.719)\n",
      "Test: [0/5]\tTime 1.036 (1.036)\tLoss 1.0669 (1.0669)\tPrec@1 63.184 (63.184)\n",
      " * Prec@1 62.350\n",
      "Best prec1 :  62.35000021362305\n",
      "current lr 8.30142e-05\n"
     ]
    },
    {
     "data": {
      "application/vnd.jupyter.widget-view+json": {
       "model_id": "7ba571251048408e873b5ec226a6fd87",
       "version_major": 2,
       "version_minor": 0
      },
      "text/plain": [
       "  0%|          | 0/20 [00:00<?, ?it/s]"
      ]
     },
     "metadata": {},
     "output_type": "display_data"
    },
    {
     "name": "stdout",
     "output_type": "stream",
     "text": [
      "Epoch: [166][0/20]\tTime 1.969 (1.969)\tData 1.607 (1.607)\tLoss 1.1133 (1.1133)\tPrec@1 59.619 (59.619)\n",
      "Test: [0/5]\tTime 0.911 (0.911)\tLoss 1.1820 (1.1820)\tPrec@1 58.350 (58.350)\n",
      " * Prec@1 57.630\n",
      "Best prec1 :  62.35000021362305\n",
      "current lr 7.87582e-05\n"
     ]
    },
    {
     "data": {
      "application/vnd.jupyter.widget-view+json": {
       "model_id": "c390f4172841441db0b763ab64ca0850",
       "version_major": 2,
       "version_minor": 0
      },
      "text/plain": [
       "  0%|          | 0/20 [00:00<?, ?it/s]"
      ]
     },
     "metadata": {},
     "output_type": "display_data"
    },
    {
     "name": "stdout",
     "output_type": "stream",
     "text": [
      "Epoch: [167][0/20]\tTime 2.136 (2.136)\tData 1.769 (1.769)\tLoss 1.1128 (1.1128)\tPrec@1 61.279 (61.279)\n",
      "Test: [0/5]\tTime 0.901 (0.901)\tLoss 1.0918 (1.0918)\tPrec@1 62.158 (62.158)\n",
      " * Prec@1 60.750\n",
      "Best prec1 :  62.35000021362305\n",
      "current lr 7.46062e-05\n"
     ]
    },
    {
     "data": {
      "application/vnd.jupyter.widget-view+json": {
       "model_id": "f5e99eede6c14643b591e7c9db403d9d",
       "version_major": 2,
       "version_minor": 0
      },
      "text/plain": [
       "  0%|          | 0/20 [00:00<?, ?it/s]"
      ]
     },
     "metadata": {},
     "output_type": "display_data"
    },
    {
     "name": "stdout",
     "output_type": "stream",
     "text": [
      "Epoch: [168][0/20]\tTime 2.107 (2.107)\tData 1.747 (1.747)\tLoss 1.1385 (1.1385)\tPrec@1 58.984 (58.984)\n",
      "Test: [0/5]\tTime 0.894 (0.894)\tLoss 1.1323 (1.1323)\tPrec@1 60.889 (60.889)\n",
      " * Prec@1 60.500\n",
      "Best prec1 :  62.35000021362305\n",
      "current lr 7.05594e-05\n"
     ]
    },
    {
     "data": {
      "application/vnd.jupyter.widget-view+json": {
       "model_id": "b94e4f4f057f4a388171eeee4fb3d0ae",
       "version_major": 2,
       "version_minor": 0
      },
      "text/plain": [
       "  0%|          | 0/20 [00:00<?, ?it/s]"
      ]
     },
     "metadata": {},
     "output_type": "display_data"
    },
    {
     "name": "stdout",
     "output_type": "stream",
     "text": [
      "Epoch: [169][0/20]\tTime 2.661 (2.661)\tData 2.297 (2.297)\tLoss 1.0952 (1.0952)\tPrec@1 61.084 (61.084)\n",
      "Test: [0/5]\tTime 0.899 (0.899)\tLoss 1.1252 (1.1252)\tPrec@1 61.865 (61.865)\n",
      " * Prec@1 61.020\n",
      "Best prec1 :  62.35000021362305\n",
      "current lr 6.66186e-05\n"
     ]
    },
    {
     "data": {
      "application/vnd.jupyter.widget-view+json": {
       "model_id": "063e70d35b904acbb593f8b6340a928f",
       "version_major": 2,
       "version_minor": 0
      },
      "text/plain": [
       "  0%|          | 0/20 [00:00<?, ?it/s]"
      ]
     },
     "metadata": {},
     "output_type": "display_data"
    },
    {
     "name": "stdout",
     "output_type": "stream",
     "text": [
      "Epoch: [170][0/20]\tTime 2.038 (2.038)\tData 1.674 (1.674)\tLoss 1.1242 (1.1242)\tPrec@1 59.473 (59.473)\n",
      "Test: [0/5]\tTime 0.908 (0.908)\tLoss 1.1381 (1.1381)\tPrec@1 60.596 (60.596)\n",
      " * Prec@1 60.660\n",
      "Best prec1 :  62.35000021362305\n",
      "current lr 6.27848e-05\n"
     ]
    },
    {
     "data": {
      "application/vnd.jupyter.widget-view+json": {
       "model_id": "f1da7188c02d4b96867474129524f2de",
       "version_major": 2,
       "version_minor": 0
      },
      "text/plain": [
       "  0%|          | 0/20 [00:00<?, ?it/s]"
      ]
     },
     "metadata": {},
     "output_type": "display_data"
    },
    {
     "name": "stdout",
     "output_type": "stream",
     "text": [
      "Epoch: [171][0/20]\tTime 2.344 (2.344)\tData 1.981 (1.981)\tLoss 1.1257 (1.1257)\tPrec@1 60.889 (60.889)\n",
      "Test: [0/5]\tTime 0.912 (0.912)\tLoss 1.2023 (1.2023)\tPrec@1 58.105 (58.105)\n",
      " * Prec@1 58.920\n",
      "Best prec1 :  62.35000021362305\n",
      "current lr 5.90591e-05\n"
     ]
    },
    {
     "data": {
      "application/vnd.jupyter.widget-view+json": {
       "model_id": "c2e01c31704e44f2b5b157ed4cd9ea9f",
       "version_major": 2,
       "version_minor": 0
      },
      "text/plain": [
       "  0%|          | 0/20 [00:00<?, ?it/s]"
      ]
     },
     "metadata": {},
     "output_type": "display_data"
    },
    {
     "name": "stdout",
     "output_type": "stream",
     "text": [
      "Epoch: [172][0/20]\tTime 2.502 (2.502)\tData 2.143 (2.143)\tLoss 1.1362 (1.1362)\tPrec@1 59.326 (59.326)\n",
      "Test: [0/5]\tTime 0.969 (0.969)\tLoss 1.1338 (1.1338)\tPrec@1 62.549 (62.549)\n",
      " * Prec@1 60.760\n",
      "Best prec1 :  62.35000021362305\n",
      "current lr 5.54422e-05\n"
     ]
    },
    {
     "data": {
      "application/vnd.jupyter.widget-view+json": {
       "model_id": "9f1c1456b6cb407aa0f5c686144b7778",
       "version_major": 2,
       "version_minor": 0
      },
      "text/plain": [
       "  0%|          | 0/20 [00:00<?, ?it/s]"
      ]
     },
     "metadata": {},
     "output_type": "display_data"
    },
    {
     "name": "stdout",
     "output_type": "stream",
     "text": [
      "Epoch: [173][0/20]\tTime 2.013 (2.013)\tData 1.650 (1.650)\tLoss 1.1227 (1.1227)\tPrec@1 59.570 (59.570)\n",
      "Test: [0/5]\tTime 0.911 (0.911)\tLoss 1.0903 (1.0903)\tPrec@1 62.256 (62.256)\n",
      " * Prec@1 61.470\n",
      "Best prec1 :  62.35000021362305\n",
      "current lr 5.19352e-05\n"
     ]
    },
    {
     "data": {
      "application/vnd.jupyter.widget-view+json": {
       "model_id": "43ce8dd1ef80480ba24ade662b49e4b2",
       "version_major": 2,
       "version_minor": 0
      },
      "text/plain": [
       "  0%|          | 0/20 [00:00<?, ?it/s]"
      ]
     },
     "metadata": {},
     "output_type": "display_data"
    },
    {
     "name": "stdout",
     "output_type": "stream",
     "text": [
      "Epoch: [174][0/20]\tTime 1.993 (1.993)\tData 1.632 (1.632)\tLoss 1.1166 (1.1166)\tPrec@1 60.645 (60.645)\n",
      "Test: [0/5]\tTime 0.906 (0.906)\tLoss 1.0904 (1.0904)\tPrec@1 62.158 (62.158)\n",
      " * Prec@1 61.150\n",
      "Best prec1 :  62.35000021362305\n",
      "current lr 4.85389e-05\n"
     ]
    },
    {
     "data": {
      "application/vnd.jupyter.widget-view+json": {
       "model_id": "cd76ad10e9294780bcc34020e217cffc",
       "version_major": 2,
       "version_minor": 0
      },
      "text/plain": [
       "  0%|          | 0/20 [00:00<?, ?it/s]"
      ]
     },
     "metadata": {},
     "output_type": "display_data"
    },
    {
     "name": "stdout",
     "output_type": "stream",
     "text": [
      "Epoch: [175][0/20]\tTime 2.582 (2.582)\tData 2.222 (2.222)\tLoss 1.1095 (1.1095)\tPrec@1 58.740 (58.740)\n",
      "Test: [0/5]\tTime 0.923 (0.923)\tLoss 1.1230 (1.1230)\tPrec@1 62.451 (62.451)\n",
      " * Prec@1 60.310\n",
      "Best prec1 :  62.35000021362305\n",
      "current lr 4.52541e-05\n"
     ]
    },
    {
     "data": {
      "application/vnd.jupyter.widget-view+json": {
       "model_id": "cbf3a13d4e924cce8fb978a526824e44",
       "version_major": 2,
       "version_minor": 0
      },
      "text/plain": [
       "  0%|          | 0/20 [00:00<?, ?it/s]"
      ]
     },
     "metadata": {},
     "output_type": "display_data"
    },
    {
     "name": "stdout",
     "output_type": "stream",
     "text": [
      "Epoch: [176][0/20]\tTime 2.032 (2.032)\tData 1.669 (1.669)\tLoss 1.1607 (1.1607)\tPrec@1 58.057 (58.057)\n",
      "Test: [0/5]\tTime 0.936 (0.936)\tLoss 1.0972 (1.0972)\tPrec@1 63.916 (63.916)\n",
      " * Prec@1 61.000\n",
      "Best prec1 :  62.35000021362305\n",
      "current lr 4.20816e-05\n"
     ]
    },
    {
     "data": {
      "application/vnd.jupyter.widget-view+json": {
       "model_id": "4d7813db71b649d18274cfbfb43cb484",
       "version_major": 2,
       "version_minor": 0
      },
      "text/plain": [
       "  0%|          | 0/20 [00:00<?, ?it/s]"
      ]
     },
     "metadata": {},
     "output_type": "display_data"
    },
    {
     "name": "stdout",
     "output_type": "stream",
     "text": [
      "Epoch: [177][0/20]\tTime 2.872 (2.872)\tData 2.511 (2.511)\tLoss 1.0993 (1.0993)\tPrec@1 62.158 (62.158)\n",
      "Test: [0/5]\tTime 0.945 (0.945)\tLoss 1.0914 (1.0914)\tPrec@1 61.670 (61.670)\n",
      " * Prec@1 61.630\n",
      "Best prec1 :  62.35000021362305\n",
      "current lr 3.90222e-05\n"
     ]
    },
    {
     "data": {
      "application/vnd.jupyter.widget-view+json": {
       "model_id": "8f04ccbb3ee144d291c6632c963f8349",
       "version_major": 2,
       "version_minor": 0
      },
      "text/plain": [
       "  0%|          | 0/20 [00:00<?, ?it/s]"
      ]
     },
     "metadata": {},
     "output_type": "display_data"
    },
    {
     "name": "stdout",
     "output_type": "stream",
     "text": [
      "Epoch: [178][0/20]\tTime 2.361 (2.361)\tData 2.000 (2.000)\tLoss 1.1597 (1.1597)\tPrec@1 58.350 (58.350)\n",
      "Test: [0/5]\tTime 0.919 (0.919)\tLoss 1.1510 (1.1510)\tPrec@1 61.035 (61.035)\n",
      " * Prec@1 59.810\n",
      "Best prec1 :  62.35000021362305\n",
      "current lr 3.60766e-05\n"
     ]
    },
    {
     "data": {
      "application/vnd.jupyter.widget-view+json": {
       "model_id": "7aa1b1cd1b1649d7a980be7f5c0bc157",
       "version_major": 2,
       "version_minor": 0
      },
      "text/plain": [
       "  0%|          | 0/20 [00:00<?, ?it/s]"
      ]
     },
     "metadata": {},
     "output_type": "display_data"
    },
    {
     "name": "stdout",
     "output_type": "stream",
     "text": [
      "Epoch: [179][0/20]\tTime 2.483 (2.483)\tData 2.118 (2.118)\tLoss 1.1547 (1.1547)\tPrec@1 60.352 (60.352)\n",
      "Test: [0/5]\tTime 0.905 (0.905)\tLoss 1.1321 (1.1321)\tPrec@1 61.035 (61.035)\n",
      " * Prec@1 60.850\n",
      "Best prec1 :  62.35000021362305\n",
      "current lr 3.32457e-05\n"
     ]
    },
    {
     "data": {
      "application/vnd.jupyter.widget-view+json": {
       "model_id": "3f2cd8751bf246ef9c9822187424371e",
       "version_major": 2,
       "version_minor": 0
      },
      "text/plain": [
       "  0%|          | 0/20 [00:00<?, ?it/s]"
      ]
     },
     "metadata": {},
     "output_type": "display_data"
    },
    {
     "name": "stdout",
     "output_type": "stream",
     "text": [
      "Epoch: [180][0/20]\tTime 1.991 (1.991)\tData 1.630 (1.630)\tLoss 1.1209 (1.1209)\tPrec@1 60.059 (60.059)\n",
      "Test: [0/5]\tTime 0.896 (0.896)\tLoss 1.0740 (1.0740)\tPrec@1 62.988 (62.988)\n",
      " * Prec@1 62.040\n",
      "Best prec1 :  62.35000021362305\n",
      "current lr 3.05301e-05\n"
     ]
    },
    {
     "data": {
      "application/vnd.jupyter.widget-view+json": {
       "model_id": "ca7657fd6201493cb47e8375e54a89f0",
       "version_major": 2,
       "version_minor": 0
      },
      "text/plain": [
       "  0%|          | 0/20 [00:00<?, ?it/s]"
      ]
     },
     "metadata": {},
     "output_type": "display_data"
    },
    {
     "name": "stdout",
     "output_type": "stream",
     "text": [
      "Epoch: [181][0/20]\tTime 2.538 (2.538)\tData 2.177 (2.177)\tLoss 1.1079 (1.1079)\tPrec@1 60.400 (60.400)\n",
      "Test: [0/5]\tTime 0.897 (0.897)\tLoss 1.1195 (1.1195)\tPrec@1 60.938 (60.938)\n",
      " * Prec@1 60.130\n",
      "Best prec1 :  62.35000021362305\n",
      "current lr 2.79304e-05\n"
     ]
    },
    {
     "data": {
      "application/vnd.jupyter.widget-view+json": {
       "model_id": "38032268a3ad44bab0094e8b6f438ba9",
       "version_major": 2,
       "version_minor": 0
      },
      "text/plain": [
       "  0%|          | 0/20 [00:00<?, ?it/s]"
      ]
     },
     "metadata": {},
     "output_type": "display_data"
    },
    {
     "name": "stdout",
     "output_type": "stream",
     "text": [
      "Epoch: [182][0/20]\tTime 2.444 (2.444)\tData 2.078 (2.078)\tLoss 1.1727 (1.1727)\tPrec@1 58.594 (58.594)\n",
      "Test: [0/5]\tTime 0.892 (0.892)\tLoss 1.0701 (1.0701)\tPrec@1 63.330 (63.330)\n",
      " * Prec@1 61.620\n",
      "Best prec1 :  62.35000021362305\n",
      "current lr 2.54473e-05\n"
     ]
    },
    {
     "data": {
      "application/vnd.jupyter.widget-view+json": {
       "model_id": "e8b46c18e16e475d8aea802bb9c15347",
       "version_major": 2,
       "version_minor": 0
      },
      "text/plain": [
       "  0%|          | 0/20 [00:00<?, ?it/s]"
      ]
     },
     "metadata": {},
     "output_type": "display_data"
    },
    {
     "name": "stdout",
     "output_type": "stream",
     "text": [
      "Epoch: [183][0/20]\tTime 2.733 (2.733)\tData 2.363 (2.363)\tLoss 1.1253 (1.1253)\tPrec@1 60.352 (60.352)\n",
      "Test: [0/5]\tTime 0.896 (0.896)\tLoss 1.0932 (1.0932)\tPrec@1 62.500 (62.500)\n",
      " * Prec@1 61.420\n",
      "Best prec1 :  62.35000021362305\n",
      "current lr 2.30814e-05\n"
     ]
    },
    {
     "data": {
      "application/vnd.jupyter.widget-view+json": {
       "model_id": "8cdd2ddf0b664acda67082a190515871",
       "version_major": 2,
       "version_minor": 0
      },
      "text/plain": [
       "  0%|          | 0/20 [00:00<?, ?it/s]"
      ]
     },
     "metadata": {},
     "output_type": "display_data"
    },
    {
     "name": "stdout",
     "output_type": "stream",
     "text": [
      "Epoch: [184][0/20]\tTime 2.345 (2.345)\tData 1.984 (1.984)\tLoss 1.1197 (1.1197)\tPrec@1 60.986 (60.986)\n",
      "Test: [0/5]\tTime 0.959 (0.959)\tLoss 1.0798 (1.0798)\tPrec@1 63.330 (63.330)\n",
      " * Prec@1 61.600\n",
      "Best prec1 :  62.35000021362305\n",
      "current lr 2.08333e-05\n"
     ]
    },
    {
     "data": {
      "application/vnd.jupyter.widget-view+json": {
       "model_id": "db9ea2019c464f2fbdca777c7bfb036d",
       "version_major": 2,
       "version_minor": 0
      },
      "text/plain": [
       "  0%|          | 0/20 [00:00<?, ?it/s]"
      ]
     },
     "metadata": {},
     "output_type": "display_data"
    },
    {
     "name": "stdout",
     "output_type": "stream",
     "text": [
      "Epoch: [185][0/20]\tTime 2.044 (2.044)\tData 1.678 (1.678)\tLoss 1.0665 (1.0665)\tPrec@1 62.646 (62.646)\n",
      "Test: [0/5]\tTime 0.939 (0.939)\tLoss 1.0568 (1.0568)\tPrec@1 63.916 (63.916)\n",
      " * Prec@1 62.480\n",
      "Best prec1 :  62.4800004272461\n",
      "current lr 1.87036e-05\n"
     ]
    },
    {
     "data": {
      "application/vnd.jupyter.widget-view+json": {
       "model_id": "b6312e66a048473d8bd4afbab31af7aa",
       "version_major": 2,
       "version_minor": 0
      },
      "text/plain": [
       "  0%|          | 0/20 [00:00<?, ?it/s]"
      ]
     },
     "metadata": {},
     "output_type": "display_data"
    },
    {
     "name": "stdout",
     "output_type": "stream",
     "text": [
      "Epoch: [186][0/20]\tTime 2.824 (2.824)\tData 2.461 (2.461)\tLoss 1.1043 (1.1043)\tPrec@1 60.889 (60.889)\n",
      "Test: [0/5]\tTime 0.918 (0.918)\tLoss 1.0476 (1.0476)\tPrec@1 64.648 (64.648)\n",
      " * Prec@1 63.070\n",
      "Best prec1 :  63.06999989624023\n",
      "current lr 1.66927e-05\n"
     ]
    },
    {
     "data": {
      "application/vnd.jupyter.widget-view+json": {
       "model_id": "be57ce799fd3470da12b3ff197421011",
       "version_major": 2,
       "version_minor": 0
      },
      "text/plain": [
       "  0%|          | 0/20 [00:00<?, ?it/s]"
      ]
     },
     "metadata": {},
     "output_type": "display_data"
    },
    {
     "name": "stdout",
     "output_type": "stream",
     "text": [
      "Epoch: [187][0/20]\tTime 2.047 (2.047)\tData 1.687 (1.687)\tLoss 1.0700 (1.0700)\tPrec@1 61.816 (61.816)\n",
      "Test: [0/5]\tTime 0.914 (0.914)\tLoss 1.1229 (1.1229)\tPrec@1 61.279 (61.279)\n",
      " * Prec@1 59.950\n",
      "Best prec1 :  63.06999989624023\n",
      "current lr 1.48012e-05\n"
     ]
    },
    {
     "data": {
      "application/vnd.jupyter.widget-view+json": {
       "model_id": "3f619c94a61645f9b62d6a2b4564b872",
       "version_major": 2,
       "version_minor": 0
      },
      "text/plain": [
       "  0%|          | 0/20 [00:00<?, ?it/s]"
      ]
     },
     "metadata": {},
     "output_type": "display_data"
    },
    {
     "name": "stdout",
     "output_type": "stream",
     "text": [
      "Epoch: [188][0/20]\tTime 2.278 (2.278)\tData 1.912 (1.912)\tLoss 1.1345 (1.1345)\tPrec@1 59.717 (59.717)\n",
      "Test: [0/5]\tTime 0.917 (0.917)\tLoss 1.0860 (1.0860)\tPrec@1 61.426 (61.426)\n",
      " * Prec@1 60.410\n",
      "Best prec1 :  63.06999989624023\n",
      "current lr 1.30296e-05\n"
     ]
    },
    {
     "data": {
      "application/vnd.jupyter.widget-view+json": {
       "model_id": "ceb8af46d51347628cc53e71f9fccb1c",
       "version_major": 2,
       "version_minor": 0
      },
      "text/plain": [
       "  0%|          | 0/20 [00:00<?, ?it/s]"
      ]
     },
     "metadata": {},
     "output_type": "display_data"
    },
    {
     "name": "stdout",
     "output_type": "stream",
     "text": [
      "Epoch: [189][0/20]\tTime 2.143 (2.143)\tData 1.783 (1.783)\tLoss 1.1420 (1.1420)\tPrec@1 59.521 (59.521)\n",
      "Test: [0/5]\tTime 0.920 (0.920)\tLoss 1.0798 (1.0798)\tPrec@1 62.988 (62.988)\n",
      " * Prec@1 61.690\n",
      "Best prec1 :  63.06999989624023\n",
      "current lr 1.13782e-05\n"
     ]
    },
    {
     "data": {
      "application/vnd.jupyter.widget-view+json": {
       "model_id": "a7670aea3308460882c4f49372d17d3e",
       "version_major": 2,
       "version_minor": 0
      },
      "text/plain": [
       "  0%|          | 0/20 [00:00<?, ?it/s]"
      ]
     },
     "metadata": {},
     "output_type": "display_data"
    },
    {
     "name": "stdout",
     "output_type": "stream",
     "text": [
      "Epoch: [190][0/20]\tTime 2.037 (2.037)\tData 1.674 (1.674)\tLoss 1.1081 (1.1081)\tPrec@1 60.938 (60.938)\n",
      "Test: [0/5]\tTime 0.893 (0.893)\tLoss 1.0796 (1.0796)\tPrec@1 63.867 (63.867)\n",
      " * Prec@1 61.520\n",
      "Best prec1 :  63.06999989624023\n",
      "current lr 9.84752e-06\n"
     ]
    },
    {
     "data": {
      "application/vnd.jupyter.widget-view+json": {
       "model_id": "ec849b058d1e4162b91bf5437dd7ee69",
       "version_major": 2,
       "version_minor": 0
      },
      "text/plain": [
       "  0%|          | 0/20 [00:00<?, ?it/s]"
      ]
     },
     "metadata": {},
     "output_type": "display_data"
    },
    {
     "name": "stdout",
     "output_type": "stream",
     "text": [
      "Epoch: [191][0/20]\tTime 2.109 (2.109)\tData 1.746 (1.746)\tLoss 1.0790 (1.0790)\tPrec@1 62.012 (62.012)\n",
      "Test: [0/5]\tTime 0.917 (0.917)\tLoss 1.0841 (1.0841)\tPrec@1 62.598 (62.598)\n",
      " * Prec@1 61.580\n",
      "Best prec1 :  63.06999989624023\n",
      "current lr 8.43789e-06\n"
     ]
    },
    {
     "data": {
      "application/vnd.jupyter.widget-view+json": {
       "model_id": "25a425488bbf4192b44d0e4f228793cd",
       "version_major": 2,
       "version_minor": 0
      },
      "text/plain": [
       "  0%|          | 0/20 [00:00<?, ?it/s]"
      ]
     },
     "metadata": {},
     "output_type": "display_data"
    },
    {
     "name": "stdout",
     "output_type": "stream",
     "text": [
      "Epoch: [192][0/20]\tTime 2.493 (2.493)\tData 2.130 (2.130)\tLoss 1.1592 (1.1592)\tPrec@1 58.545 (58.545)\n",
      "Test: [0/5]\tTime 0.909 (0.909)\tLoss 1.0333 (1.0333)\tPrec@1 64.258 (64.258)\n",
      " * Prec@1 62.950\n",
      "Best prec1 :  63.06999989624023\n",
      "current lr 7.14967e-06\n"
     ]
    },
    {
     "data": {
      "application/vnd.jupyter.widget-view+json": {
       "model_id": "4982b7de363b44b6baaa86aa919428cd",
       "version_major": 2,
       "version_minor": 0
      },
      "text/plain": [
       "  0%|          | 0/20 [00:00<?, ?it/s]"
      ]
     },
     "metadata": {},
     "output_type": "display_data"
    },
    {
     "name": "stdout",
     "output_type": "stream",
     "text": [
      "Epoch: [193][0/20]\tTime 2.781 (2.781)\tData 2.420 (2.420)\tLoss 1.1090 (1.1090)\tPrec@1 60.889 (60.889)\n",
      "Test: [0/5]\tTime 0.912 (0.912)\tLoss 1.1092 (1.1092)\tPrec@1 62.549 (62.549)\n",
      " * Prec@1 61.610\n",
      "Best prec1 :  63.06999989624023\n",
      "current lr 5.98318e-06\n"
     ]
    },
    {
     "data": {
      "application/vnd.jupyter.widget-view+json": {
       "model_id": "7e9b303296f84ed29260368cdb9df56b",
       "version_major": 2,
       "version_minor": 0
      },
      "text/plain": [
       "  0%|          | 0/20 [00:00<?, ?it/s]"
      ]
     },
     "metadata": {},
     "output_type": "display_data"
    },
    {
     "name": "stdout",
     "output_type": "stream",
     "text": [
      "Epoch: [194][0/20]\tTime 1.978 (1.978)\tData 1.613 (1.613)\tLoss 1.1573 (1.1573)\tPrec@1 59.814 (59.814)\n",
      "Test: [0/5]\tTime 0.919 (0.919)\tLoss 1.0497 (1.0497)\tPrec@1 64.551 (64.551)\n",
      " * Prec@1 62.760\n",
      "Best prec1 :  63.06999989624023\n",
      "current lr 4.93871e-06\n"
     ]
    },
    {
     "data": {
      "application/vnd.jupyter.widget-view+json": {
       "model_id": "6b5f126b994146b0adddbffd0776e49f",
       "version_major": 2,
       "version_minor": 0
      },
      "text/plain": [
       "  0%|          | 0/20 [00:00<?, ?it/s]"
      ]
     },
     "metadata": {},
     "output_type": "display_data"
    },
    {
     "name": "stdout",
     "output_type": "stream",
     "text": [
      "Epoch: [195][0/20]\tTime 2.166 (2.166)\tData 1.807 (1.807)\tLoss 1.1066 (1.1066)\tPrec@1 60.986 (60.986)\n",
      "Test: [0/5]\tTime 0.890 (0.890)\tLoss 1.0244 (1.0244)\tPrec@1 63.281 (63.281)\n",
      " * Prec@1 63.640\n",
      "Best prec1 :  63.640000085449216\n",
      "current lr 4.01650e-06\n"
     ]
    },
    {
     "data": {
      "application/vnd.jupyter.widget-view+json": {
       "model_id": "92dfcff0220143dba731b04d1ffd28e0",
       "version_major": 2,
       "version_minor": 0
      },
      "text/plain": [
       "  0%|          | 0/20 [00:00<?, ?it/s]"
      ]
     },
     "metadata": {},
     "output_type": "display_data"
    },
    {
     "name": "stdout",
     "output_type": "stream",
     "text": [
      "Epoch: [196][0/20]\tTime 1.952 (1.952)\tData 1.593 (1.593)\tLoss 1.1086 (1.1086)\tPrec@1 61.230 (61.230)\n",
      "Test: [0/5]\tTime 0.902 (0.902)\tLoss 1.0599 (1.0599)\tPrec@1 64.258 (64.258)\n",
      " * Prec@1 62.780\n",
      "Best prec1 :  63.640000085449216\n",
      "current lr 3.21680e-06\n"
     ]
    },
    {
     "data": {
      "application/vnd.jupyter.widget-view+json": {
       "model_id": "faee5f2a60574e19950b9f72b8d1bd32",
       "version_major": 2,
       "version_minor": 0
      },
      "text/plain": [
       "  0%|          | 0/20 [00:00<?, ?it/s]"
      ]
     },
     "metadata": {},
     "output_type": "display_data"
    },
    {
     "name": "stdout",
     "output_type": "stream",
     "text": [
      "Epoch: [197][0/20]\tTime 2.239 (2.239)\tData 1.868 (1.868)\tLoss 1.1136 (1.1136)\tPrec@1 60.840 (60.840)\n",
      "Test: [0/5]\tTime 0.904 (0.904)\tLoss 1.0589 (1.0589)\tPrec@1 63.086 (63.086)\n",
      " * Prec@1 62.110\n",
      "Best prec1 :  63.640000085449216\n",
      "current lr 2.53979e-06\n"
     ]
    },
    {
     "data": {
      "application/vnd.jupyter.widget-view+json": {
       "model_id": "e412d3c9c32046c1bf89211cad901ded",
       "version_major": 2,
       "version_minor": 0
      },
      "text/plain": [
       "  0%|          | 0/20 [00:00<?, ?it/s]"
      ]
     },
     "metadata": {},
     "output_type": "display_data"
    },
    {
     "name": "stdout",
     "output_type": "stream",
     "text": [
      "Epoch: [198][0/20]\tTime 1.956 (1.956)\tData 1.595 (1.595)\tLoss 1.1237 (1.1237)\tPrec@1 59.521 (59.521)\n",
      "Test: [0/5]\tTime 0.927 (0.927)\tLoss 1.0567 (1.0567)\tPrec@1 63.965 (63.965)\n",
      " * Prec@1 62.540\n",
      "Best prec1 :  63.640000085449216\n",
      "current lr 1.98565e-06\n"
     ]
    },
    {
     "data": {
      "application/vnd.jupyter.widget-view+json": {
       "model_id": "c123903906374f7f9f6ab9c482165003",
       "version_major": 2,
       "version_minor": 0
      },
      "text/plain": [
       "  0%|          | 0/20 [00:00<?, ?it/s]"
      ]
     },
     "metadata": {},
     "output_type": "display_data"
    },
    {
     "name": "stdout",
     "output_type": "stream",
     "text": [
      "Epoch: [199][0/20]\tTime 1.932 (1.932)\tData 1.571 (1.571)\tLoss 1.1058 (1.1058)\tPrec@1 61.914 (61.914)\n",
      "Test: [0/5]\tTime 0.997 (0.997)\tLoss 1.0561 (1.0561)\tPrec@1 63.379 (63.379)\n",
      " * Prec@1 62.510\n",
      "Best prec1 :  63.640000085449216\n",
      "abit/wbit: 3 3\n"
     ]
    },
    {
     "data": {
      "text/html": [
       "Finishing last run (ID:mc0hux5j) before initializing another..."
      ],
      "text/plain": [
       "<IPython.core.display.HTML object>"
      ]
     },
     "metadata": {},
     "output_type": "display_data"
    },
    {
     "data": {
      "text/html": [
       "Waiting for W&B process to finish... <strong style=\"color:green\">(success).</strong>"
      ],
      "text/plain": [
       "<IPython.core.display.HTML object>"
      ]
     },
     "metadata": {},
     "output_type": "display_data"
    },
    {
     "data": {
      "application/vnd.jupyter.widget-view+json": {
       "model_id": "",
       "version_major": 2,
       "version_minor": 0
      },
      "text/plain": [
       "VBox(children=(Label(value='0.143 MB of 0.143 MB uploaded (0.000 MB deduped)\\r'), FloatProgress(value=1.0, max…"
      ]
     },
     "metadata": {},
     "output_type": "display_data"
    },
    {
     "data": {
      "text/html": [
       "<style>\n",
       "    table.wandb td:nth-child(1) { padding: 0 10px; text-align: left ; width: auto;} td:nth-child(2) {text-align: left ; width: 100%}\n",
       "    .wandb-row { display: flex; flex-direction: row; flex-wrap: wrap; justify-content: flex-start; width: 100% }\n",
       "    .wandb-col { display: flex; flex-direction: column; flex-basis: 100%; flex: 1; padding: 10px; }\n",
       "    </style>\n",
       "<div class=\"wandb-row\"><div class=\"wandb-col\"><h3>Run history:</h3><br/><table class=\"wandb\"><tr><td>epoch</td><td>▁▁▁▁▂▂▂▂▂▃▃▃▃▃▃▄▄▄▄▄▅▅▅▅▅▅▆▆▆▆▆▇▇▇▇▇▇███</td></tr><tr><td>lr</td><td>▃███████▇▇▇▇▇▆▆▆▆▅▅▅▅▄▄▄▄▃▃▃▂▂▂▂▂▂▁▁▁▁▁▁</td></tr><tr><td>prec</td><td>▁▃▄▅▅▅▅▆▆▆▆▆▆▇▆▇▇▇▇▇▇▇▇▇▇▇▇▇▇██▇▇███████</td></tr><tr><td>train_loss</td><td>█▅▄▄▄▃▃▃▃▃▃▂▂▂▂▂▂▂▂▂▂▂▂▂▁▁▁▁▁▁▁▁▁▁▁▁▁▁▁▁</td></tr><tr><td>val_loss</td><td>█▆▅▄▄▄▄▃▄▃▃▃▃▂▃▃▃▂▂▂▃▂▂▂▂▂▂▂▂▂▁▂▂▁▁▁▁▂▁▁</td></tr></table><br/></div><div class=\"wandb-col\"><h3>Run summary:</h3><br/><table class=\"wandb\"><tr><td>epoch</td><td>199</td></tr><tr><td>lr</td><td>0.0</td></tr><tr><td>prec</td><td>62.51</td></tr><tr><td>train_loss</td><td>1.09885</td></tr><tr><td>val_loss</td><td>1.06721</td></tr></table><br/></div></div>"
      ],
      "text/plain": [
       "<IPython.core.display.HTML object>"
      ]
     },
     "metadata": {},
     "output_type": "display_data"
    },
    {
     "data": {
      "text/html": [
       "Synced <strong style=\"color:#cdcd00\">resnet18_uniformquantize_k2_shallow</strong>: <a href=\"https://wandb.ai/arutema47/quantize_resnet2/runs/mc0hux5j\" target=\"_blank\">https://wandb.ai/arutema47/quantize_resnet2/runs/mc0hux5j</a><br/>Synced 6 W&B file(s), 0 media file(s), 0 artifact file(s) and 1 other file(s)"
      ],
      "text/plain": [
       "<IPython.core.display.HTML object>"
      ]
     },
     "metadata": {},
     "output_type": "display_data"
    },
    {
     "data": {
      "text/html": [
       "Find logs at: <code>./wandb/run-20220627_114730-mc0hux5j/logs</code>"
      ],
      "text/plain": [
       "<IPython.core.display.HTML object>"
      ]
     },
     "metadata": {},
     "output_type": "display_data"
    },
    {
     "data": {
      "text/html": [
       "Successfully finished last run (ID:mc0hux5j). Initializing new run:<br/>"
      ],
      "text/plain": [
       "<IPython.core.display.HTML object>"
      ]
     },
     "metadata": {},
     "output_type": "display_data"
    },
    {
     "data": {
      "text/html": [
       "Tracking run with wandb version 0.12.19"
      ],
      "text/plain": [
       "<IPython.core.display.HTML object>"
      ]
     },
     "metadata": {},
     "output_type": "display_data"
    },
    {
     "data": {
      "text/html": [
       "Run data is saved locally in <code>/media/ken/dsk1/data/quantize_models_sandbox/wandb/run-20220627_122227-2j3okz96</code>"
      ],
      "text/plain": [
       "<IPython.core.display.HTML object>"
      ]
     },
     "metadata": {},
     "output_type": "display_data"
    },
    {
     "data": {
      "text/html": [
       "Syncing run <strong><a href=\"https://wandb.ai/arutema47/quantize_resnet2/runs/2j3okz96\" target=\"_blank\">resnet18_uniformquantize_k3_shallow</a></strong> to <a href=\"https://wandb.ai/arutema47/quantize_resnet2\" target=\"_blank\">Weights & Biases</a> (<a href=\"https://wandb.me/run\" target=\"_blank\">docs</a>)<br/>"
      ],
      "text/plain": [
       "<IPython.core.display.HTML object>"
      ]
     },
     "metadata": {},
     "output_type": "display_data"
    },
    {
     "name": "stdout",
     "output_type": "stream",
     "text": [
      "current lr 1.00000e-06\n"
     ]
    },
    {
     "data": {
      "application/vnd.jupyter.widget-view+json": {
       "model_id": "2b22f84d864947519a24f4b1a5bd4864",
       "version_major": 2,
       "version_minor": 0
      },
      "text/plain": [
       "  0%|          | 0/20 [00:00<?, ?it/s]"
      ]
     },
     "metadata": {},
     "output_type": "display_data"
    },
    {
     "name": "stdout",
     "output_type": "stream",
     "text": [
      "Epoch: [0][0/20]\tTime 2.395 (2.395)\tData 2.027 (2.027)\tLoss 2.6398 (2.6398)\tPrec@1 9.863 (9.863)\n",
      "Test: [0/5]\tTime 0.911 (0.911)\tLoss 2.4081 (2.4081)\tPrec@1 10.303 (10.303)\n",
      " * Prec@1 10.310\n",
      "Best prec1 :  10.310000067138672\n",
      "current lr 3.34000e-04\n"
     ]
    },
    {
     "data": {
      "application/vnd.jupyter.widget-view+json": {
       "model_id": "be4d969dc1234099898d84b22c7a1535",
       "version_major": 2,
       "version_minor": 0
      },
      "text/plain": [
       "  0%|          | 0/20 [00:00<?, ?it/s]"
      ]
     },
     "metadata": {},
     "output_type": "display_data"
    },
    {
     "name": "stdout",
     "output_type": "stream",
     "text": [
      "Epoch: [1][0/20]\tTime 2.009 (2.009)\tData 1.643 (1.643)\tLoss 2.6409 (2.6409)\tPrec@1 10.596 (10.596)\n",
      "Test: [0/5]\tTime 0.999 (0.999)\tLoss 2.3969 (2.3969)\tPrec@1 22.656 (22.656)\n",
      " * Prec@1 21.680\n",
      "Best prec1 :  21.68000011291504\n",
      "current lr 6.67000e-04\n"
     ]
    },
    {
     "data": {
      "application/vnd.jupyter.widget-view+json": {
       "model_id": "ae62225c8649464db6ce78b1171cec00",
       "version_major": 2,
       "version_minor": 0
      },
      "text/plain": [
       "  0%|          | 0/20 [00:00<?, ?it/s]"
      ]
     },
     "metadata": {},
     "output_type": "display_data"
    },
    {
     "name": "stdout",
     "output_type": "stream",
     "text": [
      "Epoch: [2][0/20]\tTime 2.573 (2.573)\tData 2.210 (2.210)\tLoss 2.0379 (2.0379)\tPrec@1 24.414 (24.414)\n",
      "Test: [0/5]\tTime 0.877 (0.877)\tLoss 2.1537 (2.1537)\tPrec@1 27.344 (27.344)\n",
      " * Prec@1 25.380\n",
      "Best prec1 :  25.380000054931642\n",
      "current lr 1.00000e-03\n"
     ]
    },
    {
     "data": {
      "application/vnd.jupyter.widget-view+json": {
       "model_id": "2094c25e08704711aa9f546654a9c642",
       "version_major": 2,
       "version_minor": 0
      },
      "text/plain": [
       "  0%|          | 0/20 [00:00<?, ?it/s]"
      ]
     },
     "metadata": {},
     "output_type": "display_data"
    },
    {
     "name": "stdout",
     "output_type": "stream",
     "text": [
      "Epoch: [3][0/20]\tTime 2.087 (2.087)\tData 1.721 (1.721)\tLoss 1.8862 (1.8862)\tPrec@1 29.297 (29.297)\n",
      "Test: [0/5]\tTime 0.891 (0.891)\tLoss 1.8683 (1.8683)\tPrec@1 31.934 (31.934)\n",
      " * Prec@1 30.970\n",
      "Best prec1 :  30.96999991760254\n",
      "current lr 9.99938e-04\n"
     ]
    },
    {
     "data": {
      "application/vnd.jupyter.widget-view+json": {
       "model_id": "67bfbf6682b043f89ab6ab8637fcb874",
       "version_major": 2,
       "version_minor": 0
      },
      "text/plain": [
       "  0%|          | 0/20 [00:00<?, ?it/s]"
      ]
     },
     "metadata": {},
     "output_type": "display_data"
    },
    {
     "name": "stdout",
     "output_type": "stream",
     "text": [
      "Epoch: [4][0/20]\tTime 2.736 (2.736)\tData 2.372 (2.372)\tLoss 1.8385 (1.8385)\tPrec@1 32.178 (32.178)\n",
      "Test: [0/5]\tTime 0.945 (0.945)\tLoss 1.8298 (1.8298)\tPrec@1 33.887 (33.887)\n",
      " * Prec@1 34.440\n",
      "Best prec1 :  34.439999755859375\n",
      "current lr 9.99754e-04\n"
     ]
    },
    {
     "data": {
      "application/vnd.jupyter.widget-view+json": {
       "model_id": "78e80a21b44746a7a022296d3043bf03",
       "version_major": 2,
       "version_minor": 0
      },
      "text/plain": [
       "  0%|          | 0/20 [00:00<?, ?it/s]"
      ]
     },
     "metadata": {},
     "output_type": "display_data"
    },
    {
     "name": "stdout",
     "output_type": "stream",
     "text": [
      "Epoch: [5][0/20]\tTime 2.271 (2.271)\tData 1.904 (1.904)\tLoss 1.7690 (1.7690)\tPrec@1 36.328 (36.328)\n",
      "Test: [0/5]\tTime 0.910 (0.910)\tLoss 1.7966 (1.7966)\tPrec@1 36.621 (36.621)\n",
      " * Prec@1 35.770\n",
      "Best prec1 :  35.770000067138675\n",
      "current lr 9.99445e-04\n"
     ]
    },
    {
     "data": {
      "application/vnd.jupyter.widget-view+json": {
       "model_id": "00e88dde5a8e483fabbb61404f6fb95a",
       "version_major": 2,
       "version_minor": 0
      },
      "text/plain": [
       "  0%|          | 0/20 [00:00<?, ?it/s]"
      ]
     },
     "metadata": {},
     "output_type": "display_data"
    },
    {
     "name": "stdout",
     "output_type": "stream",
     "text": [
      "Epoch: [6][0/20]\tTime 2.799 (2.799)\tData 2.431 (2.431)\tLoss 1.7380 (1.7380)\tPrec@1 36.035 (36.035)\n",
      "Test: [0/5]\tTime 0.903 (0.903)\tLoss 1.7494 (1.7494)\tPrec@1 37.109 (37.109)\n",
      " * Prec@1 37.350\n",
      "Best prec1 :  37.34999976196289\n",
      "current lr 9.99014e-04\n"
     ]
    },
    {
     "data": {
      "application/vnd.jupyter.widget-view+json": {
       "model_id": "971c7b7eaea34e6bb7df412ca0a0f03a",
       "version_major": 2,
       "version_minor": 0
      },
      "text/plain": [
       "  0%|          | 0/20 [00:00<?, ?it/s]"
      ]
     },
     "metadata": {},
     "output_type": "display_data"
    },
    {
     "name": "stdout",
     "output_type": "stream",
     "text": [
      "Epoch: [7][0/20]\tTime 2.298 (2.298)\tData 1.932 (1.932)\tLoss 1.7284 (1.7284)\tPrec@1 37.939 (37.939)\n",
      "Test: [0/5]\tTime 0.895 (0.895)\tLoss 1.6286 (1.6286)\tPrec@1 41.406 (41.406)\n",
      " * Prec@1 41.190\n",
      "Best prec1 :  41.19000023803711\n",
      "current lr 9.98460e-04\n"
     ]
    },
    {
     "data": {
      "application/vnd.jupyter.widget-view+json": {
       "model_id": "52ebe6bed5dd489f97329c6ad0174c1f",
       "version_major": 2,
       "version_minor": 0
      },
      "text/plain": [
       "  0%|          | 0/20 [00:00<?, ?it/s]"
      ]
     },
     "metadata": {},
     "output_type": "display_data"
    },
    {
     "name": "stdout",
     "output_type": "stream",
     "text": [
      "Epoch: [8][0/20]\tTime 2.274 (2.274)\tData 1.909 (1.909)\tLoss 1.6583 (1.6583)\tPrec@1 40.771 (40.771)\n",
      "Test: [0/5]\tTime 0.931 (0.931)\tLoss 1.6593 (1.6593)\tPrec@1 39.990 (39.990)\n",
      " * Prec@1 40.020\n",
      "Best prec1 :  41.19000023803711\n",
      "current lr 9.97783e-04\n"
     ]
    },
    {
     "data": {
      "application/vnd.jupyter.widget-view+json": {
       "model_id": "48f6465d23c94166b39972de892f499d",
       "version_major": 2,
       "version_minor": 0
      },
      "text/plain": [
       "  0%|          | 0/20 [00:00<?, ?it/s]"
      ]
     },
     "metadata": {},
     "output_type": "display_data"
    },
    {
     "name": "stdout",
     "output_type": "stream",
     "text": [
      "Epoch: [9][0/20]\tTime 2.612 (2.612)\tData 2.244 (2.244)\tLoss 1.6451 (1.6451)\tPrec@1 40.234 (40.234)\n",
      "Test: [0/5]\tTime 0.913 (0.913)\tLoss 1.6661 (1.6661)\tPrec@1 40.771 (40.771)\n",
      " * Prec@1 41.160\n",
      "Best prec1 :  41.19000023803711\n",
      "current lr 9.96983e-04\n"
     ]
    },
    {
     "data": {
      "application/vnd.jupyter.widget-view+json": {
       "model_id": "f27484bdebf94f1f8e8d8e7fb73f2e33",
       "version_major": 2,
       "version_minor": 0
      },
      "text/plain": [
       "  0%|          | 0/20 [00:00<?, ?it/s]"
      ]
     },
     "metadata": {},
     "output_type": "display_data"
    },
    {
     "name": "stdout",
     "output_type": "stream",
     "text": [
      "Epoch: [10][0/20]\tTime 2.526 (2.526)\tData 2.163 (2.163)\tLoss 1.5861 (1.5861)\tPrec@1 43.750 (43.750)\n",
      "Test: [0/5]\tTime 0.921 (0.921)\tLoss 1.6443 (1.6443)\tPrec@1 40.234 (40.234)\n",
      " * Prec@1 41.290\n",
      "Best prec1 :  41.29000028076172\n",
      "current lr 9.96061e-04\n"
     ]
    },
    {
     "data": {
      "application/vnd.jupyter.widget-view+json": {
       "model_id": "a06ba3b011d7412f82ab40cd2365b935",
       "version_major": 2,
       "version_minor": 0
      },
      "text/plain": [
       "  0%|          | 0/20 [00:00<?, ?it/s]"
      ]
     },
     "metadata": {},
     "output_type": "display_data"
    },
    {
     "name": "stdout",
     "output_type": "stream",
     "text": [
      "Epoch: [11][0/20]\tTime 2.584 (2.584)\tData 2.217 (2.217)\tLoss 1.5742 (1.5742)\tPrec@1 43.506 (43.506)\n",
      "Test: [0/5]\tTime 0.899 (0.899)\tLoss 1.5110 (1.5110)\tPrec@1 46.533 (46.533)\n",
      " * Prec@1 45.760\n",
      "Best prec1 :  45.75999982299805\n",
      "current lr 9.95017e-04\n"
     ]
    },
    {
     "data": {
      "application/vnd.jupyter.widget-view+json": {
       "model_id": "caa75380d2d9490695bc7f29be329b11",
       "version_major": 2,
       "version_minor": 0
      },
      "text/plain": [
       "  0%|          | 0/20 [00:00<?, ?it/s]"
      ]
     },
     "metadata": {},
     "output_type": "display_data"
    },
    {
     "name": "stdout",
     "output_type": "stream",
     "text": [
      "Epoch: [12][0/20]\tTime 2.202 (2.202)\tData 1.839 (1.839)\tLoss 1.5363 (1.5363)\tPrec@1 44.434 (44.434)\n",
      "Test: [0/5]\tTime 0.905 (0.905)\tLoss 1.5914 (1.5914)\tPrec@1 43.896 (43.896)\n",
      " * Prec@1 43.940\n",
      "Best prec1 :  45.75999982299805\n",
      "current lr 9.93850e-04\n"
     ]
    },
    {
     "data": {
      "application/vnd.jupyter.widget-view+json": {
       "model_id": "8c15704168ec42c59ae3c1fa55cfc3c1",
       "version_major": 2,
       "version_minor": 0
      },
      "text/plain": [
       "  0%|          | 0/20 [00:00<?, ?it/s]"
      ]
     },
     "metadata": {},
     "output_type": "display_data"
    },
    {
     "name": "stdout",
     "output_type": "stream",
     "text": [
      "Epoch: [13][0/20]\tTime 1.938 (1.938)\tData 1.571 (1.571)\tLoss 1.5163 (1.5163)\tPrec@1 45.898 (45.898)\n",
      "Test: [0/5]\tTime 0.900 (0.900)\tLoss 1.4946 (1.4946)\tPrec@1 46.387 (46.387)\n",
      " * Prec@1 45.850\n",
      "Best prec1 :  45.8500001953125\n",
      "current lr 9.92562e-04\n"
     ]
    },
    {
     "data": {
      "application/vnd.jupyter.widget-view+json": {
       "model_id": "7c94d5c100cb4ad08d4672b90000e373",
       "version_major": 2,
       "version_minor": 0
      },
      "text/plain": [
       "  0%|          | 0/20 [00:00<?, ?it/s]"
      ]
     },
     "metadata": {},
     "output_type": "display_data"
    },
    {
     "name": "stdout",
     "output_type": "stream",
     "text": [
      "Epoch: [14][0/20]\tTime 2.028 (2.028)\tData 1.657 (1.657)\tLoss 1.5058 (1.5058)\tPrec@1 46.387 (46.387)\n",
      "Test: [0/5]\tTime 0.910 (0.910)\tLoss 1.5026 (1.5026)\tPrec@1 46.729 (46.729)\n",
      " * Prec@1 46.990\n",
      "Best prec1 :  46.98999993896484\n",
      "current lr 9.91152e-04\n"
     ]
    },
    {
     "data": {
      "application/vnd.jupyter.widget-view+json": {
       "model_id": "34de561be725436fb5eb5dc7100b37a4",
       "version_major": 2,
       "version_minor": 0
      },
      "text/plain": [
       "  0%|          | 0/20 [00:00<?, ?it/s]"
      ]
     },
     "metadata": {},
     "output_type": "display_data"
    },
    {
     "name": "stdout",
     "output_type": "stream",
     "text": [
      "Epoch: [15][0/20]\tTime 2.038 (2.038)\tData 1.664 (1.664)\tLoss 1.4600 (1.4600)\tPrec@1 47.412 (47.412)\n",
      "Test: [0/5]\tTime 0.921 (0.921)\tLoss 1.4532 (1.4532)\tPrec@1 46.680 (46.680)\n",
      " * Prec@1 47.400\n",
      "Best prec1 :  47.400000286865236\n",
      "current lr 9.89622e-04\n"
     ]
    },
    {
     "data": {
      "application/vnd.jupyter.widget-view+json": {
       "model_id": "e65a6daeb27c4d3d8163f33c5a8ee63c",
       "version_major": 2,
       "version_minor": 0
      },
      "text/plain": [
       "  0%|          | 0/20 [00:00<?, ?it/s]"
      ]
     },
     "metadata": {},
     "output_type": "display_data"
    },
    {
     "name": "stdout",
     "output_type": "stream",
     "text": [
      "Epoch: [16][0/20]\tTime 2.233 (2.233)\tData 1.868 (1.868)\tLoss 1.4363 (1.4363)\tPrec@1 49.268 (49.268)\n",
      "Test: [0/5]\tTime 0.895 (0.895)\tLoss 1.4760 (1.4760)\tPrec@1 45.068 (45.068)\n",
      " * Prec@1 47.030\n",
      "Best prec1 :  47.400000286865236\n",
      "current lr 9.87970e-04\n"
     ]
    },
    {
     "data": {
      "application/vnd.jupyter.widget-view+json": {
       "model_id": "c5f2a92ad586481fb2010a3f4d1b665a",
       "version_major": 2,
       "version_minor": 0
      },
      "text/plain": [
       "  0%|          | 0/20 [00:00<?, ?it/s]"
      ]
     },
     "metadata": {},
     "output_type": "display_data"
    },
    {
     "name": "stdout",
     "output_type": "stream",
     "text": [
      "Epoch: [17][0/20]\tTime 2.170 (2.170)\tData 1.807 (1.807)\tLoss 1.4832 (1.4832)\tPrec@1 46.973 (46.973)\n",
      "Test: [0/5]\tTime 0.899 (0.899)\tLoss 1.4867 (1.4867)\tPrec@1 47.900 (47.900)\n",
      " * Prec@1 48.140\n",
      "Best prec1 :  48.139999969482425\n",
      "current lr 9.86199e-04\n"
     ]
    },
    {
     "data": {
      "application/vnd.jupyter.widget-view+json": {
       "model_id": "47d9e928cb284d4eba5a1618cb50969d",
       "version_major": 2,
       "version_minor": 0
      },
      "text/plain": [
       "  0%|          | 0/20 [00:00<?, ?it/s]"
      ]
     },
     "metadata": {},
     "output_type": "display_data"
    },
    {
     "name": "stdout",
     "output_type": "stream",
     "text": [
      "Epoch: [18][0/20]\tTime 2.247 (2.247)\tData 1.879 (1.879)\tLoss 1.5247 (1.5247)\tPrec@1 46.289 (46.289)\n",
      "Test: [0/5]\tTime 0.892 (0.892)\tLoss 1.4374 (1.4374)\tPrec@1 48.926 (48.926)\n",
      " * Prec@1 49.390\n",
      "Best prec1 :  49.39\n",
      "current lr 9.84307e-04\n"
     ]
    },
    {
     "data": {
      "application/vnd.jupyter.widget-view+json": {
       "model_id": "fb9fe761ceb543cab65e1a50d4c5478e",
       "version_major": 2,
       "version_minor": 0
      },
      "text/plain": [
       "  0%|          | 0/20 [00:00<?, ?it/s]"
      ]
     },
     "metadata": {},
     "output_type": "display_data"
    },
    {
     "name": "stdout",
     "output_type": "stream",
     "text": [
      "Epoch: [19][0/20]\tTime 2.027 (2.027)\tData 1.662 (1.662)\tLoss 1.4229 (1.4229)\tPrec@1 49.756 (49.756)\n",
      "Test: [0/5]\tTime 0.908 (0.908)\tLoss 1.4054 (1.4054)\tPrec@1 48.047 (48.047)\n",
      " * Prec@1 48.340\n",
      "Best prec1 :  49.39\n",
      "current lr 9.82296e-04\n"
     ]
    },
    {
     "data": {
      "application/vnd.jupyter.widget-view+json": {
       "model_id": "6eced44238914c1591f73c65170fbb49",
       "version_major": 2,
       "version_minor": 0
      },
      "text/plain": [
       "  0%|          | 0/20 [00:00<?, ?it/s]"
      ]
     },
     "metadata": {},
     "output_type": "display_data"
    },
    {
     "name": "stdout",
     "output_type": "stream",
     "text": [
      "Epoch: [20][0/20]\tTime 2.114 (2.114)\tData 1.745 (1.745)\tLoss 1.3678 (1.3678)\tPrec@1 50.586 (50.586)\n",
      "Test: [0/5]\tTime 1.039 (1.039)\tLoss 1.3981 (1.3981)\tPrec@1 49.902 (49.902)\n",
      " * Prec@1 48.920\n",
      "Best prec1 :  49.39\n",
      "current lr 9.80167e-04\n"
     ]
    },
    {
     "data": {
      "application/vnd.jupyter.widget-view+json": {
       "model_id": "79a10ada03ca49e7b329b7ca67af1b82",
       "version_major": 2,
       "version_minor": 0
      },
      "text/plain": [
       "  0%|          | 0/20 [00:00<?, ?it/s]"
      ]
     },
     "metadata": {},
     "output_type": "display_data"
    },
    {
     "name": "stdout",
     "output_type": "stream",
     "text": [
      "Epoch: [21][0/20]\tTime 2.771 (2.771)\tData 2.407 (2.407)\tLoss 1.4283 (1.4283)\tPrec@1 48.682 (48.682)\n",
      "Test: [0/5]\tTime 0.917 (0.917)\tLoss 1.4115 (1.4115)\tPrec@1 49.268 (49.268)\n",
      " * Prec@1 49.680\n",
      "Best prec1 :  49.68000034790039\n",
      "current lr 9.77919e-04\n"
     ]
    },
    {
     "data": {
      "application/vnd.jupyter.widget-view+json": {
       "model_id": "6269931c440f40e6a29a15e06b490f54",
       "version_major": 2,
       "version_minor": 0
      },
      "text/plain": [
       "  0%|          | 0/20 [00:00<?, ?it/s]"
      ]
     },
     "metadata": {},
     "output_type": "display_data"
    },
    {
     "name": "stdout",
     "output_type": "stream",
     "text": [
      "Epoch: [22][0/20]\tTime 1.960 (1.960)\tData 1.590 (1.590)\tLoss 1.3625 (1.3625)\tPrec@1 51.123 (51.123)\n",
      "Test: [0/5]\tTime 0.899 (0.899)\tLoss 1.4001 (1.4001)\tPrec@1 50.244 (50.244)\n",
      " * Prec@1 49.480\n",
      "Best prec1 :  49.68000034790039\n",
      "current lr 9.75553e-04\n"
     ]
    },
    {
     "data": {
      "application/vnd.jupyter.widget-view+json": {
       "model_id": "849a3929877844898f89dd1950da8574",
       "version_major": 2,
       "version_minor": 0
      },
      "text/plain": [
       "  0%|          | 0/20 [00:00<?, ?it/s]"
      ]
     },
     "metadata": {},
     "output_type": "display_data"
    },
    {
     "name": "stdout",
     "output_type": "stream",
     "text": [
      "Epoch: [23][0/20]\tTime 2.816 (2.816)\tData 2.449 (2.449)\tLoss 1.3640 (1.3640)\tPrec@1 50.684 (50.684)\n",
      "Test: [0/5]\tTime 0.924 (0.924)\tLoss 1.3575 (1.3575)\tPrec@1 51.318 (51.318)\n",
      " * Prec@1 50.490\n",
      "Best prec1 :  50.49000008544922\n",
      "current lr 9.73070e-04\n"
     ]
    },
    {
     "data": {
      "application/vnd.jupyter.widget-view+json": {
       "model_id": "edcd8f57beef4a1f8a9a311c513cdef5",
       "version_major": 2,
       "version_minor": 0
      },
      "text/plain": [
       "  0%|          | 0/20 [00:00<?, ?it/s]"
      ]
     },
     "metadata": {},
     "output_type": "display_data"
    },
    {
     "name": "stdout",
     "output_type": "stream",
     "text": [
      "Epoch: [24][0/20]\tTime 1.928 (1.928)\tData 1.559 (1.559)\tLoss 1.3301 (1.3301)\tPrec@1 52.588 (52.588)\n",
      "Test: [0/5]\tTime 0.980 (0.980)\tLoss 1.3822 (1.3822)\tPrec@1 50.049 (50.049)\n",
      " * Prec@1 51.020\n",
      "Best prec1 :  51.02000010986328\n",
      "current lr 9.70470e-04\n"
     ]
    },
    {
     "data": {
      "application/vnd.jupyter.widget-view+json": {
       "model_id": "e415d7b3eeae4627b792b4206c809cdd",
       "version_major": 2,
       "version_minor": 0
      },
      "text/plain": [
       "  0%|          | 0/20 [00:00<?, ?it/s]"
      ]
     },
     "metadata": {},
     "output_type": "display_data"
    },
    {
     "name": "stdout",
     "output_type": "stream",
     "text": [
      "Epoch: [25][0/20]\tTime 2.322 (2.322)\tData 1.955 (1.955)\tLoss 1.3510 (1.3510)\tPrec@1 51.807 (51.807)\n",
      "Test: [0/5]\tTime 0.947 (0.947)\tLoss 1.3778 (1.3778)\tPrec@1 50.928 (50.928)\n",
      " * Prec@1 51.520\n",
      "Best prec1 :  51.519999877929685\n",
      "current lr 9.67754e-04\n"
     ]
    },
    {
     "data": {
      "application/vnd.jupyter.widget-view+json": {
       "model_id": "8de1fdc34dbf4e93aff932e429e8a1d8",
       "version_major": 2,
       "version_minor": 0
      },
      "text/plain": [
       "  0%|          | 0/20 [00:00<?, ?it/s]"
      ]
     },
     "metadata": {},
     "output_type": "display_data"
    },
    {
     "name": "stdout",
     "output_type": "stream",
     "text": [
      "Epoch: [26][0/20]\tTime 2.426 (2.426)\tData 2.059 (2.059)\tLoss 1.3480 (1.3480)\tPrec@1 51.709 (51.709)\n",
      "Test: [0/5]\tTime 0.940 (0.940)\tLoss 1.3663 (1.3663)\tPrec@1 50.977 (50.977)\n",
      " * Prec@1 51.210\n",
      "Best prec1 :  51.519999877929685\n",
      "current lr 9.64923e-04\n"
     ]
    },
    {
     "data": {
      "application/vnd.jupyter.widget-view+json": {
       "model_id": "ea94c091573d49c6be9076bc3f97b620",
       "version_major": 2,
       "version_minor": 0
      },
      "text/plain": [
       "  0%|          | 0/20 [00:00<?, ?it/s]"
      ]
     },
     "metadata": {},
     "output_type": "display_data"
    },
    {
     "name": "stdout",
     "output_type": "stream",
     "text": [
      "Epoch: [27][0/20]\tTime 2.221 (2.221)\tData 1.847 (1.847)\tLoss 1.2854 (1.2854)\tPrec@1 54.883 (54.883)\n",
      "Test: [0/5]\tTime 0.951 (0.951)\tLoss 1.3173 (1.3173)\tPrec@1 54.980 (54.980)\n",
      " * Prec@1 54.160\n",
      "Best prec1 :  54.16000012817383\n",
      "current lr 9.61978e-04\n"
     ]
    },
    {
     "data": {
      "application/vnd.jupyter.widget-view+json": {
       "model_id": "e058eac76a6d4dc8a4d4e66cbcaf67a0",
       "version_major": 2,
       "version_minor": 0
      },
      "text/plain": [
       "  0%|          | 0/20 [00:00<?, ?it/s]"
      ]
     },
     "metadata": {},
     "output_type": "display_data"
    },
    {
     "name": "stdout",
     "output_type": "stream",
     "text": [
      "Epoch: [28][0/20]\tTime 2.126 (2.126)\tData 1.760 (1.760)\tLoss 1.3156 (1.3156)\tPrec@1 53.564 (53.564)\n",
      "Test: [0/5]\tTime 0.886 (0.886)\tLoss 1.4656 (1.4656)\tPrec@1 49.170 (49.170)\n",
      " * Prec@1 48.530\n",
      "Best prec1 :  54.16000012817383\n",
      "current lr 9.58918e-04\n"
     ]
    },
    {
     "data": {
      "application/vnd.jupyter.widget-view+json": {
       "model_id": "383fa543ed304f6081a29d053df1c7da",
       "version_major": 2,
       "version_minor": 0
      },
      "text/plain": [
       "  0%|          | 0/20 [00:00<?, ?it/s]"
      ]
     },
     "metadata": {},
     "output_type": "display_data"
    },
    {
     "name": "stdout",
     "output_type": "stream",
     "text": [
      "Epoch: [29][0/20]\tTime 2.098 (2.098)\tData 1.734 (1.734)\tLoss 1.2890 (1.2890)\tPrec@1 53.564 (53.564)\n",
      "Test: [0/5]\tTime 1.049 (1.049)\tLoss 1.3536 (1.3536)\tPrec@1 52.148 (52.148)\n",
      " * Prec@1 52.490\n",
      "Best prec1 :  54.16000012817383\n",
      "current lr 9.55746e-04\n"
     ]
    },
    {
     "data": {
      "application/vnd.jupyter.widget-view+json": {
       "model_id": "a6a0105c6219481bbdd9688d76ca92d7",
       "version_major": 2,
       "version_minor": 0
      },
      "text/plain": [
       "  0%|          | 0/20 [00:00<?, ?it/s]"
      ]
     },
     "metadata": {},
     "output_type": "display_data"
    },
    {
     "name": "stdout",
     "output_type": "stream",
     "text": [
      "Epoch: [30][0/20]\tTime 2.572 (2.572)\tData 2.205 (2.205)\tLoss 1.3199 (1.3199)\tPrec@1 52.881 (52.881)\n",
      "Test: [0/5]\tTime 1.076 (1.076)\tLoss 1.2812 (1.2812)\tPrec@1 54.785 (54.785)\n",
      " * Prec@1 54.360\n",
      "Best prec1 :  54.36000009765625\n",
      "current lr 9.52461e-04\n"
     ]
    },
    {
     "data": {
      "application/vnd.jupyter.widget-view+json": {
       "model_id": "d3ce74ef6b294cadabf0066060789f75",
       "version_major": 2,
       "version_minor": 0
      },
      "text/plain": [
       "  0%|          | 0/20 [00:00<?, ?it/s]"
      ]
     },
     "metadata": {},
     "output_type": "display_data"
    },
    {
     "name": "stdout",
     "output_type": "stream",
     "text": [
      "Epoch: [31][0/20]\tTime 2.913 (2.913)\tData 2.550 (2.550)\tLoss 1.2937 (1.2937)\tPrec@1 53.760 (53.760)\n",
      "Test: [0/5]\tTime 1.080 (1.080)\tLoss 1.3864 (1.3864)\tPrec@1 50.342 (50.342)\n",
      " * Prec@1 49.980\n",
      "Best prec1 :  54.36000009765625\n",
      "current lr 9.49065e-04\n"
     ]
    },
    {
     "data": {
      "application/vnd.jupyter.widget-view+json": {
       "model_id": "5849beccd49f4fa68dd4b77648d16f7b",
       "version_major": 2,
       "version_minor": 0
      },
      "text/plain": [
       "  0%|          | 0/20 [00:00<?, ?it/s]"
      ]
     },
     "metadata": {},
     "output_type": "display_data"
    },
    {
     "name": "stdout",
     "output_type": "stream",
     "text": [
      "Epoch: [32][0/20]\tTime 2.480 (2.480)\tData 2.118 (2.118)\tLoss 1.3021 (1.3021)\tPrec@1 52.637 (52.637)\n",
      "Test: [0/5]\tTime 1.092 (1.092)\tLoss 1.3202 (1.3202)\tPrec@1 54.297 (54.297)\n",
      " * Prec@1 54.080\n",
      "Best prec1 :  54.36000009765625\n",
      "current lr 9.45558e-04\n"
     ]
    },
    {
     "data": {
      "application/vnd.jupyter.widget-view+json": {
       "model_id": "1f6dba890c6748e9a41563db3d05d638",
       "version_major": 2,
       "version_minor": 0
      },
      "text/plain": [
       "  0%|          | 0/20 [00:00<?, ?it/s]"
      ]
     },
     "metadata": {},
     "output_type": "display_data"
    },
    {
     "name": "stdout",
     "output_type": "stream",
     "text": [
      "Epoch: [33][0/20]\tTime 2.146 (2.146)\tData 1.780 (1.780)\tLoss 1.3049 (1.3049)\tPrec@1 52.881 (52.881)\n",
      "Test: [0/5]\tTime 1.077 (1.077)\tLoss 1.2530 (1.2530)\tPrec@1 54.834 (54.834)\n",
      " * Prec@1 55.350\n",
      "Best prec1 :  55.350000421142575\n",
      "current lr 9.41941e-04\n"
     ]
    },
    {
     "data": {
      "application/vnd.jupyter.widget-view+json": {
       "model_id": "4403645cb5894edda860ccda966caa5f",
       "version_major": 2,
       "version_minor": 0
      },
      "text/plain": [
       "  0%|          | 0/20 [00:00<?, ?it/s]"
      ]
     },
     "metadata": {},
     "output_type": "display_data"
    },
    {
     "name": "stdout",
     "output_type": "stream",
     "text": [
      "Epoch: [34][0/20]\tTime 2.655 (2.655)\tData 2.286 (2.286)\tLoss 1.2625 (1.2625)\tPrec@1 54.980 (54.980)\n",
      "Test: [0/5]\tTime 1.059 (1.059)\tLoss 1.5179 (1.5179)\tPrec@1 49.902 (49.902)\n",
      " * Prec@1 49.570\n",
      "Best prec1 :  55.350000421142575\n",
      "current lr 9.38215e-04\n"
     ]
    },
    {
     "data": {
      "application/vnd.jupyter.widget-view+json": {
       "model_id": "2efc4c8e8af5472a96993267963a4f7e",
       "version_major": 2,
       "version_minor": 0
      },
      "text/plain": [
       "  0%|          | 0/20 [00:00<?, ?it/s]"
      ]
     },
     "metadata": {},
     "output_type": "display_data"
    },
    {
     "name": "stdout",
     "output_type": "stream",
     "text": [
      "Epoch: [35][0/20]\tTime 2.471 (2.471)\tData 2.097 (2.097)\tLoss 1.2340 (1.2340)\tPrec@1 56.104 (56.104)\n",
      "Test: [0/5]\tTime 1.060 (1.060)\tLoss 1.1718 (1.1718)\tPrec@1 58.203 (58.203)\n",
      " * Prec@1 58.450\n",
      "Best prec1 :  58.45000038452149\n",
      "current lr 9.34381e-04\n"
     ]
    },
    {
     "data": {
      "application/vnd.jupyter.widget-view+json": {
       "model_id": "de0d0aa64a1842218103e581600a5660",
       "version_major": 2,
       "version_minor": 0
      },
      "text/plain": [
       "  0%|          | 0/20 [00:00<?, ?it/s]"
      ]
     },
     "metadata": {},
     "output_type": "display_data"
    },
    {
     "name": "stdout",
     "output_type": "stream",
     "text": [
      "Epoch: [36][0/20]\tTime 2.679 (2.679)\tData 2.311 (2.311)\tLoss 1.2320 (1.2320)\tPrec@1 57.275 (57.275)\n",
      "Test: [0/5]\tTime 1.070 (1.070)\tLoss 1.2374 (1.2374)\tPrec@1 55.176 (55.176)\n",
      " * Prec@1 54.500\n",
      "Best prec1 :  58.45000038452149\n",
      "current lr 9.30441e-04\n"
     ]
    },
    {
     "data": {
      "application/vnd.jupyter.widget-view+json": {
       "model_id": "8ed325b005f541bbb2071edf2dc739f6",
       "version_major": 2,
       "version_minor": 0
      },
      "text/plain": [
       "  0%|          | 0/20 [00:00<?, ?it/s]"
      ]
     },
     "metadata": {},
     "output_type": "display_data"
    },
    {
     "name": "stdout",
     "output_type": "stream",
     "text": [
      "Epoch: [37][0/20]\tTime 2.525 (2.525)\tData 2.161 (2.161)\tLoss 1.1950 (1.1950)\tPrec@1 56.592 (56.592)\n",
      "Test: [0/5]\tTime 1.089 (1.089)\tLoss 1.2590 (1.2590)\tPrec@1 55.518 (55.518)\n",
      " * Prec@1 54.040\n",
      "Best prec1 :  58.45000038452149\n",
      "current lr 9.26394e-04\n"
     ]
    },
    {
     "data": {
      "application/vnd.jupyter.widget-view+json": {
       "model_id": "2f9cbcf9ca794cb39eef08f81ba89954",
       "version_major": 2,
       "version_minor": 0
      },
      "text/plain": [
       "  0%|          | 0/20 [00:00<?, ?it/s]"
      ]
     },
     "metadata": {},
     "output_type": "display_data"
    },
    {
     "name": "stdout",
     "output_type": "stream",
     "text": [
      "Epoch: [38][0/20]\tTime 2.296 (2.296)\tData 1.933 (1.933)\tLoss 1.2223 (1.2223)\tPrec@1 56.006 (56.006)\n",
      "Test: [0/5]\tTime 0.923 (0.923)\tLoss 1.2611 (1.2611)\tPrec@1 56.641 (56.641)\n",
      " * Prec@1 56.870\n",
      "Best prec1 :  58.45000038452149\n",
      "current lr 9.22242e-04\n"
     ]
    },
    {
     "data": {
      "application/vnd.jupyter.widget-view+json": {
       "model_id": "a5a6fe1884584fc380553e66f806d4ed",
       "version_major": 2,
       "version_minor": 0
      },
      "text/plain": [
       "  0%|          | 0/20 [00:00<?, ?it/s]"
      ]
     },
     "metadata": {},
     "output_type": "display_data"
    },
    {
     "name": "stdout",
     "output_type": "stream",
     "text": [
      "Epoch: [39][0/20]\tTime 2.198 (2.198)\tData 1.832 (1.832)\tLoss 1.1692 (1.1692)\tPrec@1 57.178 (57.178)\n",
      "Test: [0/5]\tTime 0.911 (0.911)\tLoss 1.1572 (1.1572)\tPrec@1 59.912 (59.912)\n",
      " * Prec@1 58.440\n",
      "Best prec1 :  58.45000038452149\n",
      "current lr 9.17986e-04\n"
     ]
    },
    {
     "data": {
      "application/vnd.jupyter.widget-view+json": {
       "model_id": "943028a551244078bbb5baf107479645",
       "version_major": 2,
       "version_minor": 0
      },
      "text/plain": [
       "  0%|          | 0/20 [00:00<?, ?it/s]"
      ]
     },
     "metadata": {},
     "output_type": "display_data"
    },
    {
     "name": "stdout",
     "output_type": "stream",
     "text": [
      "Epoch: [40][0/20]\tTime 2.316 (2.316)\tData 1.953 (1.953)\tLoss 1.2200 (1.2200)\tPrec@1 57.129 (57.129)\n",
      "Test: [0/5]\tTime 0.898 (0.898)\tLoss 1.2113 (1.2113)\tPrec@1 57.910 (57.910)\n",
      " * Prec@1 57.370\n",
      "Best prec1 :  58.45000038452149\n",
      "current lr 9.13627e-04\n"
     ]
    },
    {
     "data": {
      "application/vnd.jupyter.widget-view+json": {
       "model_id": "bf4a930bb4b54318860612d5704664b2",
       "version_major": 2,
       "version_minor": 0
      },
      "text/plain": [
       "  0%|          | 0/20 [00:00<?, ?it/s]"
      ]
     },
     "metadata": {},
     "output_type": "display_data"
    },
    {
     "name": "stdout",
     "output_type": "stream",
     "text": [
      "Epoch: [41][0/20]\tTime 2.375 (2.375)\tData 2.006 (2.006)\tLoss 1.1633 (1.1633)\tPrec@1 58.350 (58.350)\n",
      "Test: [0/5]\tTime 0.928 (0.928)\tLoss 1.2888 (1.2888)\tPrec@1 54.102 (54.102)\n",
      " * Prec@1 54.450\n",
      "Best prec1 :  58.45000038452149\n",
      "current lr 9.09166e-04\n"
     ]
    },
    {
     "data": {
      "application/vnd.jupyter.widget-view+json": {
       "model_id": "d8639a51fe4542e68cef4272f4012778",
       "version_major": 2,
       "version_minor": 0
      },
      "text/plain": [
       "  0%|          | 0/20 [00:00<?, ?it/s]"
      ]
     },
     "metadata": {},
     "output_type": "display_data"
    },
    {
     "name": "stdout",
     "output_type": "stream",
     "text": [
      "Epoch: [42][0/20]\tTime 2.317 (2.317)\tData 1.949 (1.949)\tLoss 1.2047 (1.2047)\tPrec@1 56.592 (56.592)\n",
      "Test: [0/5]\tTime 0.913 (0.913)\tLoss 1.1325 (1.1325)\tPrec@1 60.791 (60.791)\n",
      " * Prec@1 59.780\n",
      "Best prec1 :  59.7800004699707\n",
      "current lr 9.04604e-04\n"
     ]
    },
    {
     "data": {
      "application/vnd.jupyter.widget-view+json": {
       "model_id": "dcd6ed30539541e6900c7462b71fd708",
       "version_major": 2,
       "version_minor": 0
      },
      "text/plain": [
       "  0%|          | 0/20 [00:00<?, ?it/s]"
      ]
     },
     "metadata": {},
     "output_type": "display_data"
    },
    {
     "name": "stdout",
     "output_type": "stream",
     "text": [
      "Epoch: [43][0/20]\tTime 2.770 (2.770)\tData 2.407 (2.407)\tLoss 1.1508 (1.1508)\tPrec@1 59.326 (59.326)\n",
      "Test: [0/5]\tTime 0.911 (0.911)\tLoss 1.2676 (1.2676)\tPrec@1 56.445 (56.445)\n",
      " * Prec@1 55.590\n",
      "Best prec1 :  59.7800004699707\n",
      "current lr 8.99942e-04\n"
     ]
    },
    {
     "data": {
      "application/vnd.jupyter.widget-view+json": {
       "model_id": "b96feba954414bba96b6449419f90343",
       "version_major": 2,
       "version_minor": 0
      },
      "text/plain": [
       "  0%|          | 0/20 [00:00<?, ?it/s]"
      ]
     },
     "metadata": {},
     "output_type": "display_data"
    },
    {
     "name": "stdout",
     "output_type": "stream",
     "text": [
      "Epoch: [44][0/20]\tTime 2.449 (2.449)\tData 2.085 (2.085)\tLoss 1.1351 (1.1351)\tPrec@1 60.742 (60.742)\n",
      "Test: [0/5]\tTime 0.893 (0.893)\tLoss 1.1169 (1.1169)\tPrec@1 60.693 (60.693)\n",
      " * Prec@1 59.740\n",
      "Best prec1 :  59.7800004699707\n",
      "current lr 8.95182e-04\n"
     ]
    },
    {
     "data": {
      "application/vnd.jupyter.widget-view+json": {
       "model_id": "1971feb79fb24c1697fa410cf717b6a3",
       "version_major": 2,
       "version_minor": 0
      },
      "text/plain": [
       "  0%|          | 0/20 [00:00<?, ?it/s]"
      ]
     },
     "metadata": {},
     "output_type": "display_data"
    },
    {
     "name": "stdout",
     "output_type": "stream",
     "text": [
      "Epoch: [45][0/20]\tTime 1.968 (1.968)\tData 1.599 (1.599)\tLoss 1.1482 (1.1482)\tPrec@1 59.668 (59.668)\n",
      "Test: [0/5]\tTime 0.981 (0.981)\tLoss 1.1113 (1.1113)\tPrec@1 60.596 (60.596)\n",
      " * Prec@1 61.690\n",
      "Best prec1 :  61.68999984130859\n",
      "current lr 8.90325e-04\n"
     ]
    },
    {
     "data": {
      "application/vnd.jupyter.widget-view+json": {
       "model_id": "895028b7800a42f3b0dfae5cfc3f375d",
       "version_major": 2,
       "version_minor": 0
      },
      "text/plain": [
       "  0%|          | 0/20 [00:00<?, ?it/s]"
      ]
     },
     "metadata": {},
     "output_type": "display_data"
    },
    {
     "name": "stdout",
     "output_type": "stream",
     "text": [
      "Epoch: [46][0/20]\tTime 2.744 (2.744)\tData 2.381 (2.381)\tLoss 1.1760 (1.1760)\tPrec@1 58.789 (58.789)\n",
      "Test: [0/5]\tTime 0.899 (0.899)\tLoss 1.1171 (1.1171)\tPrec@1 60.791 (60.791)\n",
      " * Prec@1 59.770\n",
      "Best prec1 :  61.68999984130859\n",
      "current lr 8.85371e-04\n"
     ]
    },
    {
     "data": {
      "application/vnd.jupyter.widget-view+json": {
       "model_id": "931cbf7d89d04a47bbf47f4255fd5ff8",
       "version_major": 2,
       "version_minor": 0
      },
      "text/plain": [
       "  0%|          | 0/20 [00:00<?, ?it/s]"
      ]
     },
     "metadata": {},
     "output_type": "display_data"
    },
    {
     "name": "stdout",
     "output_type": "stream",
     "text": [
      "Epoch: [47][0/20]\tTime 1.967 (1.967)\tData 1.601 (1.601)\tLoss 1.0931 (1.0931)\tPrec@1 60.840 (60.840)\n",
      "Test: [0/5]\tTime 0.911 (0.911)\tLoss 1.1624 (1.1624)\tPrec@1 60.010 (60.010)\n",
      " * Prec@1 58.820\n",
      "Best prec1 :  61.68999984130859\n",
      "current lr 8.80323e-04\n"
     ]
    },
    {
     "data": {
      "application/vnd.jupyter.widget-view+json": {
       "model_id": "32dd922da3c24e92924546774563f2eb",
       "version_major": 2,
       "version_minor": 0
      },
      "text/plain": [
       "  0%|          | 0/20 [00:00<?, ?it/s]"
      ]
     },
     "metadata": {},
     "output_type": "display_data"
    },
    {
     "name": "stdout",
     "output_type": "stream",
     "text": [
      "Epoch: [48][0/20]\tTime 2.020 (2.020)\tData 1.655 (1.655)\tLoss 1.1054 (1.1054)\tPrec@1 59.912 (59.912)\n",
      "Test: [0/5]\tTime 0.925 (0.925)\tLoss 1.2101 (1.2101)\tPrec@1 59.131 (59.131)\n",
      " * Prec@1 58.770\n",
      "Best prec1 :  61.68999984130859\n",
      "current lr 8.75180e-04\n"
     ]
    },
    {
     "data": {
      "application/vnd.jupyter.widget-view+json": {
       "model_id": "4f132610f3fd4605a1d5e0308d407297",
       "version_major": 2,
       "version_minor": 0
      },
      "text/plain": [
       "  0%|          | 0/20 [00:00<?, ?it/s]"
      ]
     },
     "metadata": {},
     "output_type": "display_data"
    },
    {
     "name": "stdout",
     "output_type": "stream",
     "text": [
      "Epoch: [49][0/20]\tTime 2.245 (2.245)\tData 1.881 (1.881)\tLoss 1.1036 (1.1036)\tPrec@1 62.354 (62.354)\n",
      "Test: [0/5]\tTime 0.906 (0.906)\tLoss 1.1947 (1.1947)\tPrec@1 58.887 (58.887)\n",
      " * Prec@1 57.930\n",
      "Best prec1 :  61.68999984130859\n",
      "current lr 8.69946e-04\n"
     ]
    },
    {
     "data": {
      "application/vnd.jupyter.widget-view+json": {
       "model_id": "4753535de70745abadcf294d138540b2",
       "version_major": 2,
       "version_minor": 0
      },
      "text/plain": [
       "  0%|          | 0/20 [00:00<?, ?it/s]"
      ]
     },
     "metadata": {},
     "output_type": "display_data"
    },
    {
     "name": "stdout",
     "output_type": "stream",
     "text": [
      "Epoch: [50][0/20]\tTime 2.309 (2.309)\tData 1.946 (1.946)\tLoss 1.1024 (1.1024)\tPrec@1 61.084 (61.084)\n",
      "Test: [0/5]\tTime 0.913 (0.913)\tLoss 1.0727 (1.0727)\tPrec@1 63.135 (63.135)\n",
      " * Prec@1 62.070\n",
      "Best prec1 :  62.07000021362305\n",
      "current lr 8.64620e-04\n"
     ]
    },
    {
     "data": {
      "application/vnd.jupyter.widget-view+json": {
       "model_id": "9c296bbb33d347438a20235691787ef7",
       "version_major": 2,
       "version_minor": 0
      },
      "text/plain": [
       "  0%|          | 0/20 [00:00<?, ?it/s]"
      ]
     },
     "metadata": {},
     "output_type": "display_data"
    },
    {
     "name": "stdout",
     "output_type": "stream",
     "text": [
      "Epoch: [51][0/20]\tTime 2.381 (2.381)\tData 2.012 (2.012)\tLoss 1.1291 (1.1291)\tPrec@1 59.521 (59.521)\n",
      "Test: [0/5]\tTime 0.899 (0.899)\tLoss 1.2327 (1.2327)\tPrec@1 58.398 (58.398)\n",
      " * Prec@1 57.200\n",
      "Best prec1 :  62.07000021362305\n",
      "current lr 8.59204e-04\n"
     ]
    },
    {
     "data": {
      "application/vnd.jupyter.widget-view+json": {
       "model_id": "9ba1cab976f64b25b310b41e2b3fadc6",
       "version_major": 2,
       "version_minor": 0
      },
      "text/plain": [
       "  0%|          | 0/20 [00:00<?, ?it/s]"
      ]
     },
     "metadata": {},
     "output_type": "display_data"
    },
    {
     "name": "stdout",
     "output_type": "stream",
     "text": [
      "Epoch: [52][0/20]\tTime 2.047 (2.047)\tData 1.680 (1.680)\tLoss 1.1373 (1.1373)\tPrec@1 58.447 (58.447)\n",
      "Test: [0/5]\tTime 0.941 (0.941)\tLoss 1.0286 (1.0286)\tPrec@1 65.527 (65.527)\n",
      " * Prec@1 64.460\n",
      "Best prec1 :  64.46000006103516\n",
      "current lr 8.53700e-04\n"
     ]
    },
    {
     "data": {
      "application/vnd.jupyter.widget-view+json": {
       "model_id": "3a60a006bcd94fb38db1c8da4f9648d1",
       "version_major": 2,
       "version_minor": 0
      },
      "text/plain": [
       "  0%|          | 0/20 [00:00<?, ?it/s]"
      ]
     },
     "metadata": {},
     "output_type": "display_data"
    },
    {
     "name": "stdout",
     "output_type": "stream",
     "text": [
      "Epoch: [53][0/20]\tTime 2.178 (2.178)\tData 1.810 (1.810)\tLoss 1.0793 (1.0793)\tPrec@1 61.377 (61.377)\n",
      "Test: [0/5]\tTime 0.897 (0.897)\tLoss 1.2187 (1.2187)\tPrec@1 57.764 (57.764)\n",
      " * Prec@1 56.980\n",
      "Best prec1 :  64.46000006103516\n",
      "current lr 8.48108e-04\n"
     ]
    },
    {
     "data": {
      "application/vnd.jupyter.widget-view+json": {
       "model_id": "0350e18be4cd4fd1a26bc9122f8f6f56",
       "version_major": 2,
       "version_minor": 0
      },
      "text/plain": [
       "  0%|          | 0/20 [00:00<?, ?it/s]"
      ]
     },
     "metadata": {},
     "output_type": "display_data"
    },
    {
     "name": "stdout",
     "output_type": "stream",
     "text": [
      "Epoch: [54][0/20]\tTime 2.204 (2.204)\tData 1.830 (1.830)\tLoss 1.1150 (1.1150)\tPrec@1 60.596 (60.596)\n",
      "Test: [0/5]\tTime 0.920 (0.920)\tLoss 1.1715 (1.1715)\tPrec@1 59.912 (59.912)\n",
      " * Prec@1 58.720\n",
      "Best prec1 :  64.46000006103516\n",
      "current lr 8.42431e-04\n"
     ]
    },
    {
     "data": {
      "application/vnd.jupyter.widget-view+json": {
       "model_id": "2a6043c5ed1c4446962dacfd06b357b1",
       "version_major": 2,
       "version_minor": 0
      },
      "text/plain": [
       "  0%|          | 0/20 [00:00<?, ?it/s]"
      ]
     },
     "metadata": {},
     "output_type": "display_data"
    },
    {
     "name": "stdout",
     "output_type": "stream",
     "text": [
      "Epoch: [55][0/20]\tTime 2.670 (2.670)\tData 2.305 (2.305)\tLoss 1.0847 (1.0847)\tPrec@1 61.377 (61.377)\n",
      "Test: [0/5]\tTime 0.924 (0.924)\tLoss 1.0786 (1.0786)\tPrec@1 63.281 (63.281)\n",
      " * Prec@1 63.000\n",
      "Best prec1 :  64.46000006103516\n",
      "current lr 8.36670e-04\n"
     ]
    },
    {
     "data": {
      "application/vnd.jupyter.widget-view+json": {
       "model_id": "0634abf02e094ccc900ea176cf67221e",
       "version_major": 2,
       "version_minor": 0
      },
      "text/plain": [
       "  0%|          | 0/20 [00:00<?, ?it/s]"
      ]
     },
     "metadata": {},
     "output_type": "display_data"
    },
    {
     "name": "stdout",
     "output_type": "stream",
     "text": [
      "Epoch: [56][0/20]\tTime 2.255 (2.255)\tData 1.889 (1.889)\tLoss 1.1152 (1.1152)\tPrec@1 60.400 (60.400)\n",
      "Test: [0/5]\tTime 0.935 (0.935)\tLoss 1.0508 (1.0508)\tPrec@1 63.867 (63.867)\n",
      " * Prec@1 62.550\n",
      "Best prec1 :  64.46000006103516\n",
      "current lr 8.30825e-04\n"
     ]
    },
    {
     "data": {
      "application/vnd.jupyter.widget-view+json": {
       "model_id": "80374899184e4a1589db2f0b7d681dbc",
       "version_major": 2,
       "version_minor": 0
      },
      "text/plain": [
       "  0%|          | 0/20 [00:00<?, ?it/s]"
      ]
     },
     "metadata": {},
     "output_type": "display_data"
    },
    {
     "name": "stdout",
     "output_type": "stream",
     "text": [
      "Epoch: [57][0/20]\tTime 2.315 (2.315)\tData 1.952 (1.952)\tLoss 1.0658 (1.0658)\tPrec@1 61.182 (61.182)\n",
      "Test: [0/5]\tTime 0.924 (0.924)\tLoss 1.0242 (1.0242)\tPrec@1 65.137 (65.137)\n",
      " * Prec@1 62.980\n",
      "Best prec1 :  64.46000006103516\n",
      "current lr 8.24899e-04\n"
     ]
    },
    {
     "data": {
      "application/vnd.jupyter.widget-view+json": {
       "model_id": "c832f18cd33c4b5cb20d3c75a899357f",
       "version_major": 2,
       "version_minor": 0
      },
      "text/plain": [
       "  0%|          | 0/20 [00:00<?, ?it/s]"
      ]
     },
     "metadata": {},
     "output_type": "display_data"
    },
    {
     "name": "stdout",
     "output_type": "stream",
     "text": [
      "Epoch: [58][0/20]\tTime 2.226 (2.226)\tData 1.864 (1.864)\tLoss 1.0975 (1.0975)\tPrec@1 61.084 (61.084)\n",
      "Test: [0/5]\tTime 0.908 (0.908)\tLoss 1.0683 (1.0683)\tPrec@1 62.061 (62.061)\n",
      " * Prec@1 61.960\n",
      "Best prec1 :  64.46000006103516\n",
      "current lr 8.18893e-04\n"
     ]
    },
    {
     "data": {
      "application/vnd.jupyter.widget-view+json": {
       "model_id": "cf52200697554c258739a89618d36497",
       "version_major": 2,
       "version_minor": 0
      },
      "text/plain": [
       "  0%|          | 0/20 [00:00<?, ?it/s]"
      ]
     },
     "metadata": {},
     "output_type": "display_data"
    },
    {
     "name": "stdout",
     "output_type": "stream",
     "text": [
      "Epoch: [59][0/20]\tTime 2.462 (2.462)\tData 2.097 (2.097)\tLoss 1.0907 (1.0907)\tPrec@1 60.400 (60.400)\n",
      "Test: [0/5]\tTime 0.890 (0.890)\tLoss 1.0900 (1.0900)\tPrec@1 62.744 (62.744)\n",
      " * Prec@1 61.940\n",
      "Best prec1 :  64.46000006103516\n",
      "current lr 8.12809e-04\n"
     ]
    },
    {
     "data": {
      "application/vnd.jupyter.widget-view+json": {
       "model_id": "3abbc0821e804e8aa9c226a0171dccd4",
       "version_major": 2,
       "version_minor": 0
      },
      "text/plain": [
       "  0%|          | 0/20 [00:00<?, ?it/s]"
      ]
     },
     "metadata": {},
     "output_type": "display_data"
    },
    {
     "name": "stdout",
     "output_type": "stream",
     "text": [
      "Epoch: [60][0/20]\tTime 2.410 (2.410)\tData 2.040 (2.040)\tLoss 1.0685 (1.0685)\tPrec@1 62.256 (62.256)\n",
      "Test: [0/5]\tTime 0.900 (0.900)\tLoss 1.1017 (1.1017)\tPrec@1 63.037 (63.037)\n",
      " * Prec@1 62.310\n",
      "Best prec1 :  64.46000006103516\n",
      "current lr 8.06647e-04\n"
     ]
    },
    {
     "data": {
      "application/vnd.jupyter.widget-view+json": {
       "model_id": "0955be3cc677425b859141006523ea9c",
       "version_major": 2,
       "version_minor": 0
      },
      "text/plain": [
       "  0%|          | 0/20 [00:00<?, ?it/s]"
      ]
     },
     "metadata": {},
     "output_type": "display_data"
    },
    {
     "name": "stdout",
     "output_type": "stream",
     "text": [
      "Epoch: [61][0/20]\tTime 2.265 (2.265)\tData 1.892 (1.892)\tLoss 1.0751 (1.0751)\tPrec@1 61.768 (61.768)\n",
      "Test: [0/5]\tTime 0.928 (0.928)\tLoss 1.0495 (1.0495)\tPrec@1 63.330 (63.330)\n",
      " * Prec@1 61.750\n",
      "Best prec1 :  64.46000006103516\n",
      "current lr 8.00410e-04\n"
     ]
    },
    {
     "data": {
      "application/vnd.jupyter.widget-view+json": {
       "model_id": "51506e387e5043baba38427c9c18adad",
       "version_major": 2,
       "version_minor": 0
      },
      "text/plain": [
       "  0%|          | 0/20 [00:00<?, ?it/s]"
      ]
     },
     "metadata": {},
     "output_type": "display_data"
    },
    {
     "name": "stdout",
     "output_type": "stream",
     "text": [
      "Epoch: [62][0/20]\tTime 2.397 (2.397)\tData 2.028 (2.028)\tLoss 1.0327 (1.0327)\tPrec@1 63.232 (63.232)\n",
      "Test: [0/5]\tTime 0.912 (0.912)\tLoss 1.1354 (1.1354)\tPrec@1 61.768 (61.768)\n",
      " * Prec@1 60.150\n",
      "Best prec1 :  64.46000006103516\n",
      "current lr 7.94099e-04\n"
     ]
    },
    {
     "data": {
      "application/vnd.jupyter.widget-view+json": {
       "model_id": "ed2285bb77d34c239ecd43fafb630df4",
       "version_major": 2,
       "version_minor": 0
      },
      "text/plain": [
       "  0%|          | 0/20 [00:00<?, ?it/s]"
      ]
     },
     "metadata": {},
     "output_type": "display_data"
    },
    {
     "name": "stdout",
     "output_type": "stream",
     "text": [
      "Epoch: [63][0/20]\tTime 2.189 (2.189)\tData 1.827 (1.827)\tLoss 1.0663 (1.0663)\tPrec@1 62.646 (62.646)\n",
      "Test: [0/5]\tTime 0.898 (0.898)\tLoss 1.0061 (1.0061)\tPrec@1 64.697 (64.697)\n",
      " * Prec@1 64.200\n",
      "Best prec1 :  64.46000006103516\n",
      "current lr 7.87715e-04\n"
     ]
    },
    {
     "data": {
      "application/vnd.jupyter.widget-view+json": {
       "model_id": "6c605d05328d40fa9ffca11110cf441e",
       "version_major": 2,
       "version_minor": 0
      },
      "text/plain": [
       "  0%|          | 0/20 [00:00<?, ?it/s]"
      ]
     },
     "metadata": {},
     "output_type": "display_data"
    },
    {
     "name": "stdout",
     "output_type": "stream",
     "text": [
      "Epoch: [64][0/20]\tTime 2.217 (2.217)\tData 1.857 (1.857)\tLoss 1.0401 (1.0401)\tPrec@1 63.184 (63.184)\n",
      "Test: [0/5]\tTime 0.905 (0.905)\tLoss 1.0886 (1.0886)\tPrec@1 62.061 (62.061)\n",
      " * Prec@1 61.890\n",
      "Best prec1 :  64.46000006103516\n",
      "current lr 7.81261e-04\n"
     ]
    },
    {
     "data": {
      "application/vnd.jupyter.widget-view+json": {
       "model_id": "397a85dcd7324955a70ae56b838d1baf",
       "version_major": 2,
       "version_minor": 0
      },
      "text/plain": [
       "  0%|          | 0/20 [00:00<?, ?it/s]"
      ]
     },
     "metadata": {},
     "output_type": "display_data"
    },
    {
     "name": "stdout",
     "output_type": "stream",
     "text": [
      "Epoch: [65][0/20]\tTime 2.556 (2.556)\tData 2.189 (2.189)\tLoss 1.0747 (1.0747)\tPrec@1 61.279 (61.279)\n",
      "Test: [0/5]\tTime 0.903 (0.903)\tLoss 1.1078 (1.1078)\tPrec@1 62.256 (62.256)\n",
      " * Prec@1 61.710\n",
      "Best prec1 :  64.46000006103516\n",
      "current lr 7.74737e-04\n"
     ]
    },
    {
     "data": {
      "application/vnd.jupyter.widget-view+json": {
       "model_id": "4699459601f14d3893096fb83cce6990",
       "version_major": 2,
       "version_minor": 0
      },
      "text/plain": [
       "  0%|          | 0/20 [00:00<?, ?it/s]"
      ]
     },
     "metadata": {},
     "output_type": "display_data"
    },
    {
     "name": "stdout",
     "output_type": "stream",
     "text": [
      "Epoch: [66][0/20]\tTime 1.988 (1.988)\tData 1.624 (1.624)\tLoss 1.0736 (1.0736)\tPrec@1 61.621 (61.621)\n",
      "Test: [0/5]\tTime 0.930 (0.930)\tLoss 1.0748 (1.0748)\tPrec@1 62.549 (62.549)\n",
      " * Prec@1 61.680\n",
      "Best prec1 :  64.46000006103516\n",
      "current lr 7.68145e-04\n"
     ]
    },
    {
     "data": {
      "application/vnd.jupyter.widget-view+json": {
       "model_id": "8662c94d32684c73857d5e96cda694dc",
       "version_major": 2,
       "version_minor": 0
      },
      "text/plain": [
       "  0%|          | 0/20 [00:00<?, ?it/s]"
      ]
     },
     "metadata": {},
     "output_type": "display_data"
    },
    {
     "name": "stdout",
     "output_type": "stream",
     "text": [
      "Epoch: [67][0/20]\tTime 2.317 (2.317)\tData 1.956 (1.956)\tLoss 1.0140 (1.0140)\tPrec@1 65.479 (65.479)\n",
      "Test: [0/5]\tTime 0.895 (0.895)\tLoss 1.0829 (1.0829)\tPrec@1 63.574 (63.574)\n",
      " * Prec@1 62.120\n",
      "Best prec1 :  64.46000006103516\n",
      "current lr 7.61488e-04\n"
     ]
    },
    {
     "data": {
      "application/vnd.jupyter.widget-view+json": {
       "model_id": "3e6c8a6b99b147ce884b417b44497ccb",
       "version_major": 2,
       "version_minor": 0
      },
      "text/plain": [
       "  0%|          | 0/20 [00:00<?, ?it/s]"
      ]
     },
     "metadata": {},
     "output_type": "display_data"
    },
    {
     "name": "stdout",
     "output_type": "stream",
     "text": [
      "Epoch: [68][0/20]\tTime 2.353 (2.353)\tData 1.988 (1.988)\tLoss 1.0431 (1.0431)\tPrec@1 62.695 (62.695)\n",
      "Test: [0/5]\tTime 0.903 (0.903)\tLoss 1.0173 (1.0173)\tPrec@1 64.600 (64.600)\n",
      " * Prec@1 63.550\n",
      "Best prec1 :  64.46000006103516\n",
      "current lr 7.54766e-04\n"
     ]
    },
    {
     "data": {
      "application/vnd.jupyter.widget-view+json": {
       "model_id": "df73d88dd60b4a7f919edcae2b5cac51",
       "version_major": 2,
       "version_minor": 0
      },
      "text/plain": [
       "  0%|          | 0/20 [00:00<?, ?it/s]"
      ]
     },
     "metadata": {},
     "output_type": "display_data"
    },
    {
     "name": "stdout",
     "output_type": "stream",
     "text": [
      "Epoch: [69][0/20]\tTime 2.589 (2.589)\tData 2.222 (2.222)\tLoss 1.0040 (1.0040)\tPrec@1 65.869 (65.869)\n",
      "Test: [0/5]\tTime 0.900 (0.900)\tLoss 1.1017 (1.1017)\tPrec@1 63.281 (63.281)\n",
      " * Prec@1 61.850\n",
      "Best prec1 :  64.46000006103516\n",
      "current lr 7.47982e-04\n"
     ]
    },
    {
     "data": {
      "application/vnd.jupyter.widget-view+json": {
       "model_id": "0e2f3646bda546d3a2566da0e5775f40",
       "version_major": 2,
       "version_minor": 0
      },
      "text/plain": [
       "  0%|          | 0/20 [00:00<?, ?it/s]"
      ]
     },
     "metadata": {},
     "output_type": "display_data"
    },
    {
     "name": "stdout",
     "output_type": "stream",
     "text": [
      "Epoch: [70][0/20]\tTime 2.080 (2.080)\tData 1.714 (1.714)\tLoss 1.0130 (1.0130)\tPrec@1 64.404 (64.404)\n",
      "Test: [0/5]\tTime 0.910 (0.910)\tLoss 0.9867 (0.9867)\tPrec@1 66.260 (66.260)\n",
      " * Prec@1 65.100\n",
      "Best prec1 :  65.10000048828125\n",
      "current lr 7.41136e-04\n"
     ]
    },
    {
     "data": {
      "application/vnd.jupyter.widget-view+json": {
       "model_id": "6411882821804271adb005a3fd1a3f7e",
       "version_major": 2,
       "version_minor": 0
      },
      "text/plain": [
       "  0%|          | 0/20 [00:00<?, ?it/s]"
      ]
     },
     "metadata": {},
     "output_type": "display_data"
    },
    {
     "name": "stdout",
     "output_type": "stream",
     "text": [
      "Epoch: [71][0/20]\tTime 2.834 (2.834)\tData 2.472 (2.472)\tLoss 1.0267 (1.0267)\tPrec@1 64.355 (64.355)\n",
      "Test: [0/5]\tTime 0.897 (0.897)\tLoss 1.0293 (1.0293)\tPrec@1 64.014 (64.014)\n",
      " * Prec@1 63.120\n",
      "Best prec1 :  65.10000048828125\n",
      "current lr 7.34231e-04\n"
     ]
    },
    {
     "data": {
      "application/vnd.jupyter.widget-view+json": {
       "model_id": "f50d7b40d69d466aac774ad346f003ec",
       "version_major": 2,
       "version_minor": 0
      },
      "text/plain": [
       "  0%|          | 0/20 [00:00<?, ?it/s]"
      ]
     },
     "metadata": {},
     "output_type": "display_data"
    },
    {
     "name": "stdout",
     "output_type": "stream",
     "text": [
      "Epoch: [72][0/20]\tTime 2.278 (2.278)\tData 1.910 (1.910)\tLoss 1.0637 (1.0637)\tPrec@1 62.012 (62.012)\n",
      "Test: [0/5]\tTime 0.908 (0.908)\tLoss 0.9947 (0.9947)\tPrec@1 67.285 (67.285)\n",
      " * Prec@1 65.200\n",
      "Best prec1 :  65.20000014648437\n",
      "current lr 7.27268e-04\n"
     ]
    },
    {
     "data": {
      "application/vnd.jupyter.widget-view+json": {
       "model_id": "40add40439324d00b23cc654812732e4",
       "version_major": 2,
       "version_minor": 0
      },
      "text/plain": [
       "  0%|          | 0/20 [00:00<?, ?it/s]"
      ]
     },
     "metadata": {},
     "output_type": "display_data"
    },
    {
     "name": "stdout",
     "output_type": "stream",
     "text": [
      "Epoch: [73][0/20]\tTime 2.061 (2.061)\tData 1.692 (1.692)\tLoss 1.0176 (1.0176)\tPrec@1 64.551 (64.551)\n",
      "Test: [0/5]\tTime 0.880 (0.880)\tLoss 0.9727 (0.9727)\tPrec@1 66.064 (66.064)\n",
      " * Prec@1 65.400\n",
      "Best prec1 :  65.39999967041015\n",
      "current lr 7.20250e-04\n"
     ]
    },
    {
     "data": {
      "application/vnd.jupyter.widget-view+json": {
       "model_id": "9e494f527a4c4841a04bdd09f31c1753",
       "version_major": 2,
       "version_minor": 0
      },
      "text/plain": [
       "  0%|          | 0/20 [00:00<?, ?it/s]"
      ]
     },
     "metadata": {},
     "output_type": "display_data"
    },
    {
     "name": "stdout",
     "output_type": "stream",
     "text": [
      "Epoch: [74][0/20]\tTime 2.413 (2.413)\tData 2.048 (2.048)\tLoss 0.9933 (0.9933)\tPrec@1 64.160 (64.160)\n",
      "Test: [0/5]\tTime 0.889 (0.889)\tLoss 1.0035 (1.0035)\tPrec@1 65.381 (65.381)\n",
      " * Prec@1 64.510\n",
      "Best prec1 :  65.39999967041015\n",
      "current lr 7.13177e-04\n"
     ]
    },
    {
     "data": {
      "application/vnd.jupyter.widget-view+json": {
       "model_id": "6f895aab1097427d8949fdfac32dc84d",
       "version_major": 2,
       "version_minor": 0
      },
      "text/plain": [
       "  0%|          | 0/20 [00:00<?, ?it/s]"
      ]
     },
     "metadata": {},
     "output_type": "display_data"
    },
    {
     "name": "stdout",
     "output_type": "stream",
     "text": [
      "Epoch: [75][0/20]\tTime 2.017 (2.017)\tData 1.649 (1.649)\tLoss 0.9815 (0.9815)\tPrec@1 65.674 (65.674)\n",
      "Test: [0/5]\tTime 0.912 (0.912)\tLoss 1.0375 (1.0375)\tPrec@1 64.404 (64.404)\n",
      " * Prec@1 63.550\n",
      "Best prec1 :  65.39999967041015\n",
      "current lr 7.06051e-04\n"
     ]
    },
    {
     "data": {
      "application/vnd.jupyter.widget-view+json": {
       "model_id": "dd412981e26f4a50a7010435f9023207",
       "version_major": 2,
       "version_minor": 0
      },
      "text/plain": [
       "  0%|          | 0/20 [00:00<?, ?it/s]"
      ]
     },
     "metadata": {},
     "output_type": "display_data"
    },
    {
     "name": "stdout",
     "output_type": "stream",
     "text": [
      "Epoch: [76][0/20]\tTime 2.134 (2.134)\tData 1.771 (1.771)\tLoss 0.9952 (0.9952)\tPrec@1 64.648 (64.648)\n",
      "Test: [0/5]\tTime 0.917 (0.917)\tLoss 0.9605 (0.9605)\tPrec@1 67.041 (67.041)\n",
      " * Prec@1 66.840\n",
      "Best prec1 :  66.84000084228515\n",
      "current lr 6.98875e-04\n"
     ]
    },
    {
     "data": {
      "application/vnd.jupyter.widget-view+json": {
       "model_id": "dbcac681d64849a9b9494c6b38092435",
       "version_major": 2,
       "version_minor": 0
      },
      "text/plain": [
       "  0%|          | 0/20 [00:00<?, ?it/s]"
      ]
     },
     "metadata": {},
     "output_type": "display_data"
    },
    {
     "name": "stdout",
     "output_type": "stream",
     "text": [
      "Epoch: [77][0/20]\tTime 1.934 (1.934)\tData 1.571 (1.571)\tLoss 0.9723 (0.9723)\tPrec@1 65.381 (65.381)\n",
      "Test: [0/5]\tTime 0.903 (0.903)\tLoss 1.0282 (1.0282)\tPrec@1 64.648 (64.648)\n",
      " * Prec@1 63.950\n",
      "Best prec1 :  66.84000084228515\n",
      "current lr 6.91650e-04\n"
     ]
    },
    {
     "data": {
      "application/vnd.jupyter.widget-view+json": {
       "model_id": "b8dac6f4032e4ffa8d4cdcdb6a7bd1f6",
       "version_major": 2,
       "version_minor": 0
      },
      "text/plain": [
       "  0%|          | 0/20 [00:00<?, ?it/s]"
      ]
     },
     "metadata": {},
     "output_type": "display_data"
    },
    {
     "name": "stdout",
     "output_type": "stream",
     "text": [
      "Epoch: [78][0/20]\tTime 1.945 (1.945)\tData 1.583 (1.583)\tLoss 1.0014 (1.0014)\tPrec@1 65.088 (65.088)\n",
      "Test: [0/5]\tTime 0.898 (0.898)\tLoss 0.9670 (0.9670)\tPrec@1 66.699 (66.699)\n",
      " * Prec@1 64.970\n",
      "Best prec1 :  66.84000084228515\n",
      "current lr 6.84378e-04\n"
     ]
    },
    {
     "data": {
      "application/vnd.jupyter.widget-view+json": {
       "model_id": "5649dc4d38a94253938ad4ca550abcb5",
       "version_major": 2,
       "version_minor": 0
      },
      "text/plain": [
       "  0%|          | 0/20 [00:00<?, ?it/s]"
      ]
     },
     "metadata": {},
     "output_type": "display_data"
    },
    {
     "name": "stdout",
     "output_type": "stream",
     "text": [
      "Epoch: [79][0/20]\tTime 2.012 (2.012)\tData 1.644 (1.644)\tLoss 0.9884 (0.9884)\tPrec@1 64.062 (64.062)\n",
      "Test: [0/5]\tTime 0.929 (0.929)\tLoss 1.0209 (1.0209)\tPrec@1 64.990 (64.990)\n",
      " * Prec@1 63.820\n",
      "Best prec1 :  66.84000084228515\n",
      "current lr 6.77061e-04\n"
     ]
    },
    {
     "data": {
      "application/vnd.jupyter.widget-view+json": {
       "model_id": "400e5098b6e3480f81e945ef691f52a2",
       "version_major": 2,
       "version_minor": 0
      },
      "text/plain": [
       "  0%|          | 0/20 [00:00<?, ?it/s]"
      ]
     },
     "metadata": {},
     "output_type": "display_data"
    },
    {
     "name": "stdout",
     "output_type": "stream",
     "text": [
      "Epoch: [80][0/20]\tTime 2.271 (2.271)\tData 1.910 (1.910)\tLoss 0.9656 (0.9656)\tPrec@1 66.260 (66.260)\n",
      "Test: [0/5]\tTime 1.007 (1.007)\tLoss 1.0008 (1.0008)\tPrec@1 67.285 (67.285)\n",
      " * Prec@1 64.890\n",
      "Best prec1 :  66.84000084228515\n",
      "current lr 6.69700e-04\n"
     ]
    },
    {
     "data": {
      "application/vnd.jupyter.widget-view+json": {
       "model_id": "3b8e2ec60e4344fea3e9ddc06a997c0b",
       "version_major": 2,
       "version_minor": 0
      },
      "text/plain": [
       "  0%|          | 0/20 [00:00<?, ?it/s]"
      ]
     },
     "metadata": {},
     "output_type": "display_data"
    },
    {
     "name": "stdout",
     "output_type": "stream",
     "text": [
      "Epoch: [81][0/20]\tTime 2.671 (2.671)\tData 2.308 (2.308)\tLoss 1.0081 (1.0081)\tPrec@1 65.576 (65.576)\n",
      "Test: [0/5]\tTime 0.983 (0.983)\tLoss 0.9209 (0.9209)\tPrec@1 67.725 (67.725)\n",
      " * Prec@1 67.030\n",
      "Best prec1 :  67.03000036621094\n",
      "current lr 6.62297e-04\n"
     ]
    },
    {
     "data": {
      "application/vnd.jupyter.widget-view+json": {
       "model_id": "13bcb12070294c5da0f2388b1a2eaec0",
       "version_major": 2,
       "version_minor": 0
      },
      "text/plain": [
       "  0%|          | 0/20 [00:00<?, ?it/s]"
      ]
     },
     "metadata": {},
     "output_type": "display_data"
    },
    {
     "name": "stdout",
     "output_type": "stream",
     "text": [
      "Epoch: [82][0/20]\tTime 2.548 (2.548)\tData 2.183 (2.183)\tLoss 1.0594 (1.0594)\tPrec@1 63.477 (63.477)\n",
      "Test: [0/5]\tTime 0.914 (0.914)\tLoss 0.9486 (0.9486)\tPrec@1 67.041 (67.041)\n",
      " * Prec@1 67.110\n",
      "Best prec1 :  67.11000068359375\n",
      "current lr 6.54854e-04\n"
     ]
    },
    {
     "data": {
      "application/vnd.jupyter.widget-view+json": {
       "model_id": "3184ee29f6394f01bf312748d4e99734",
       "version_major": 2,
       "version_minor": 0
      },
      "text/plain": [
       "  0%|          | 0/20 [00:00<?, ?it/s]"
      ]
     },
     "metadata": {},
     "output_type": "display_data"
    },
    {
     "name": "stdout",
     "output_type": "stream",
     "text": [
      "Epoch: [83][0/20]\tTime 2.202 (2.202)\tData 1.840 (1.840)\tLoss 0.9587 (0.9587)\tPrec@1 66.650 (66.650)\n",
      "Test: [0/5]\tTime 0.927 (0.927)\tLoss 0.9452 (0.9452)\tPrec@1 68.213 (68.213)\n",
      " * Prec@1 66.180\n",
      "Best prec1 :  67.11000068359375\n",
      "current lr 6.47373e-04\n"
     ]
    },
    {
     "data": {
      "application/vnd.jupyter.widget-view+json": {
       "model_id": "0901966aae4448e7a940e5ca6d34df66",
       "version_major": 2,
       "version_minor": 0
      },
      "text/plain": [
       "  0%|          | 0/20 [00:00<?, ?it/s]"
      ]
     },
     "metadata": {},
     "output_type": "display_data"
    },
    {
     "name": "stdout",
     "output_type": "stream",
     "text": [
      "Epoch: [84][0/20]\tTime 1.994 (1.994)\tData 1.630 (1.630)\tLoss 0.9714 (0.9714)\tPrec@1 66.211 (66.211)\n",
      "Test: [0/5]\tTime 0.898 (0.898)\tLoss 0.9199 (0.9199)\tPrec@1 68.652 (68.652)\n",
      " * Prec@1 66.980\n",
      "Best prec1 :  67.11000068359375\n",
      "current lr 6.39856e-04\n"
     ]
    },
    {
     "data": {
      "application/vnd.jupyter.widget-view+json": {
       "model_id": "264d302997284e0c8861768971630029",
       "version_major": 2,
       "version_minor": 0
      },
      "text/plain": [
       "  0%|          | 0/20 [00:00<?, ?it/s]"
      ]
     },
     "metadata": {},
     "output_type": "display_data"
    },
    {
     "name": "stdout",
     "output_type": "stream",
     "text": [
      "Epoch: [85][0/20]\tTime 2.533 (2.533)\tData 2.165 (2.165)\tLoss 1.0041 (1.0041)\tPrec@1 63.818 (63.818)\n",
      "Test: [0/5]\tTime 0.903 (0.903)\tLoss 0.9386 (0.9386)\tPrec@1 67.822 (67.822)\n",
      " * Prec@1 66.600\n",
      "Best prec1 :  67.11000068359375\n",
      "current lr 6.32305e-04\n"
     ]
    },
    {
     "data": {
      "application/vnd.jupyter.widget-view+json": {
       "model_id": "4453c0af97734616937a495de6052da6",
       "version_major": 2,
       "version_minor": 0
      },
      "text/plain": [
       "  0%|          | 0/20 [00:00<?, ?it/s]"
      ]
     },
     "metadata": {},
     "output_type": "display_data"
    },
    {
     "name": "stdout",
     "output_type": "stream",
     "text": [
      "Epoch: [86][0/20]\tTime 2.081 (2.081)\tData 1.716 (1.716)\tLoss 0.9687 (0.9687)\tPrec@1 65.381 (65.381)\n",
      "Test: [0/5]\tTime 0.904 (0.904)\tLoss 0.9795 (0.9795)\tPrec@1 66.455 (66.455)\n",
      " * Prec@1 66.160\n",
      "Best prec1 :  67.11000068359375\n",
      "current lr 6.24721e-04\n"
     ]
    },
    {
     "data": {
      "application/vnd.jupyter.widget-view+json": {
       "model_id": "97fe2adf65374d349a2dab3136b1eb61",
       "version_major": 2,
       "version_minor": 0
      },
      "text/plain": [
       "  0%|          | 0/20 [00:00<?, ?it/s]"
      ]
     },
     "metadata": {},
     "output_type": "display_data"
    },
    {
     "name": "stdout",
     "output_type": "stream",
     "text": [
      "Epoch: [87][0/20]\tTime 2.380 (2.380)\tData 2.011 (2.011)\tLoss 0.9931 (0.9931)\tPrec@1 65.820 (65.820)\n",
      "Test: [0/5]\tTime 0.881 (0.881)\tLoss 0.9788 (0.9788)\tPrec@1 66.504 (66.504)\n",
      " * Prec@1 65.660\n",
      "Best prec1 :  67.11000068359375\n",
      "current lr 6.17106e-04\n"
     ]
    },
    {
     "data": {
      "application/vnd.jupyter.widget-view+json": {
       "model_id": "39908fc07d1341a68ab777b6a858c33f",
       "version_major": 2,
       "version_minor": 0
      },
      "text/plain": [
       "  0%|          | 0/20 [00:00<?, ?it/s]"
      ]
     },
     "metadata": {},
     "output_type": "display_data"
    },
    {
     "name": "stdout",
     "output_type": "stream",
     "text": [
      "Epoch: [88][0/20]\tTime 2.229 (2.229)\tData 1.864 (1.864)\tLoss 0.9665 (0.9665)\tPrec@1 64.990 (64.990)\n",
      "Test: [0/5]\tTime 0.947 (0.947)\tLoss 0.9019 (0.9019)\tPrec@1 68.457 (68.457)\n",
      " * Prec@1 68.020\n",
      "Best prec1 :  68.02000079345703\n",
      "current lr 6.09463e-04\n"
     ]
    },
    {
     "data": {
      "application/vnd.jupyter.widget-view+json": {
       "model_id": "a1ef251c878743509608ea43b9f0b0d7",
       "version_major": 2,
       "version_minor": 0
      },
      "text/plain": [
       "  0%|          | 0/20 [00:00<?, ?it/s]"
      ]
     },
     "metadata": {},
     "output_type": "display_data"
    },
    {
     "name": "stdout",
     "output_type": "stream",
     "text": [
      "Epoch: [89][0/20]\tTime 2.598 (2.598)\tData 2.236 (2.236)\tLoss 0.9229 (0.9229)\tPrec@1 67.725 (67.725)\n",
      "Test: [0/5]\tTime 0.881 (0.881)\tLoss 0.9821 (0.9821)\tPrec@1 66.406 (66.406)\n",
      " * Prec@1 65.720\n",
      "Best prec1 :  68.02000079345703\n",
      "current lr 6.01792e-04\n"
     ]
    },
    {
     "data": {
      "application/vnd.jupyter.widget-view+json": {
       "model_id": "2cd78f7efd5b43b68acbefd6a081f8c3",
       "version_major": 2,
       "version_minor": 0
      },
      "text/plain": [
       "  0%|          | 0/20 [00:00<?, ?it/s]"
      ]
     },
     "metadata": {},
     "output_type": "display_data"
    },
    {
     "name": "stdout",
     "output_type": "stream",
     "text": [
      "Epoch: [90][0/20]\tTime 2.377 (2.377)\tData 2.007 (2.007)\tLoss 0.9547 (0.9547)\tPrec@1 66.602 (66.602)\n",
      "Test: [0/5]\tTime 0.915 (0.915)\tLoss 0.9680 (0.9680)\tPrec@1 68.066 (68.066)\n",
      " * Prec@1 66.050\n",
      "Best prec1 :  68.02000079345703\n",
      "current lr 5.94097e-04\n"
     ]
    },
    {
     "data": {
      "application/vnd.jupyter.widget-view+json": {
       "model_id": "dbebd5b1e24b4f09b3124bdd54e13feb",
       "version_major": 2,
       "version_minor": 0
      },
      "text/plain": [
       "  0%|          | 0/20 [00:00<?, ?it/s]"
      ]
     },
     "metadata": {},
     "output_type": "display_data"
    },
    {
     "name": "stdout",
     "output_type": "stream",
     "text": [
      "Epoch: [91][0/20]\tTime 1.987 (1.987)\tData 1.617 (1.617)\tLoss 0.9618 (0.9618)\tPrec@1 65.723 (65.723)\n",
      "Test: [0/5]\tTime 0.917 (0.917)\tLoss 0.9537 (0.9537)\tPrec@1 67.432 (67.432)\n",
      " * Prec@1 65.710\n",
      "Best prec1 :  68.02000079345703\n",
      "current lr 5.86379e-04\n"
     ]
    },
    {
     "data": {
      "application/vnd.jupyter.widget-view+json": {
       "model_id": "0b284485188b4326a83294211ab7cf13",
       "version_major": 2,
       "version_minor": 0
      },
      "text/plain": [
       "  0%|          | 0/20 [00:00<?, ?it/s]"
      ]
     },
     "metadata": {},
     "output_type": "display_data"
    },
    {
     "name": "stdout",
     "output_type": "stream",
     "text": [
      "Epoch: [92][0/20]\tTime 2.177 (2.177)\tData 1.813 (1.813)\tLoss 0.9608 (0.9608)\tPrec@1 65.723 (65.723)\n",
      "Test: [0/5]\tTime 0.917 (0.917)\tLoss 1.0338 (1.0338)\tPrec@1 66.650 (66.650)\n",
      " * Prec@1 65.410\n",
      "Best prec1 :  68.02000079345703\n",
      "current lr 5.78639e-04\n"
     ]
    },
    {
     "data": {
      "application/vnd.jupyter.widget-view+json": {
       "model_id": "4736a776d0aa45d78a574eeed2fb5dc0",
       "version_major": 2,
       "version_minor": 0
      },
      "text/plain": [
       "  0%|          | 0/20 [00:00<?, ?it/s]"
      ]
     },
     "metadata": {},
     "output_type": "display_data"
    },
    {
     "name": "stdout",
     "output_type": "stream",
     "text": [
      "Epoch: [93][0/20]\tTime 2.699 (2.699)\tData 2.334 (2.334)\tLoss 0.9713 (0.9713)\tPrec@1 65.576 (65.576)\n",
      "Test: [0/5]\tTime 0.899 (0.899)\tLoss 0.8989 (0.8989)\tPrec@1 68.506 (68.506)\n",
      " * Prec@1 67.820\n",
      "Best prec1 :  68.02000079345703\n",
      "current lr 5.70880e-04\n"
     ]
    },
    {
     "data": {
      "application/vnd.jupyter.widget-view+json": {
       "model_id": "cc51f754585940b88ebf1e201f53e945",
       "version_major": 2,
       "version_minor": 0
      },
      "text/plain": [
       "  0%|          | 0/20 [00:00<?, ?it/s]"
      ]
     },
     "metadata": {},
     "output_type": "display_data"
    },
    {
     "name": "stdout",
     "output_type": "stream",
     "text": [
      "Epoch: [94][0/20]\tTime 2.094 (2.094)\tData 1.725 (1.725)\tLoss 0.9192 (0.9192)\tPrec@1 67.920 (67.920)\n",
      "Test: [0/5]\tTime 0.880 (0.880)\tLoss 0.9386 (0.9386)\tPrec@1 68.359 (68.359)\n",
      " * Prec@1 67.920\n",
      "Best prec1 :  68.02000079345703\n",
      "current lr 5.63104e-04\n"
     ]
    },
    {
     "data": {
      "application/vnd.jupyter.widget-view+json": {
       "model_id": "8235048304194085be3ab629dda09ba4",
       "version_major": 2,
       "version_minor": 0
      },
      "text/plain": [
       "  0%|          | 0/20 [00:00<?, ?it/s]"
      ]
     },
     "metadata": {},
     "output_type": "display_data"
    },
    {
     "name": "stdout",
     "output_type": "stream",
     "text": [
      "Epoch: [95][0/20]\tTime 2.425 (2.425)\tData 2.060 (2.060)\tLoss 0.9798 (0.9798)\tPrec@1 65.771 (65.771)\n",
      "Test: [0/5]\tTime 0.944 (0.944)\tLoss 0.9834 (0.9834)\tPrec@1 67.188 (67.188)\n",
      " * Prec@1 66.090\n",
      "Best prec1 :  68.02000079345703\n",
      "current lr 5.55312e-04\n"
     ]
    },
    {
     "data": {
      "application/vnd.jupyter.widget-view+json": {
       "model_id": "146cfc28428d47cb88555abb658b6e14",
       "version_major": 2,
       "version_minor": 0
      },
      "text/plain": [
       "  0%|          | 0/20 [00:00<?, ?it/s]"
      ]
     },
     "metadata": {},
     "output_type": "display_data"
    },
    {
     "name": "stdout",
     "output_type": "stream",
     "text": [
      "Epoch: [96][0/20]\tTime 2.298 (2.298)\tData 1.936 (1.936)\tLoss 0.9439 (0.9439)\tPrec@1 66.455 (66.455)\n",
      "Test: [0/5]\tTime 0.942 (0.942)\tLoss 0.9507 (0.9507)\tPrec@1 67.627 (67.627)\n",
      " * Prec@1 66.900\n",
      "Best prec1 :  68.02000079345703\n",
      "current lr 5.47507e-04\n"
     ]
    },
    {
     "data": {
      "application/vnd.jupyter.widget-view+json": {
       "model_id": "280d30ece92d439a8c7ac9ecd9d89ad8",
       "version_major": 2,
       "version_minor": 0
      },
      "text/plain": [
       "  0%|          | 0/20 [00:00<?, ?it/s]"
      ]
     },
     "metadata": {},
     "output_type": "display_data"
    },
    {
     "name": "stdout",
     "output_type": "stream",
     "text": [
      "Epoch: [97][0/20]\tTime 2.793 (2.793)\tData 2.430 (2.430)\tLoss 0.9506 (0.9506)\tPrec@1 66.113 (66.113)\n",
      "Test: [0/5]\tTime 0.961 (0.961)\tLoss 1.0160 (1.0160)\tPrec@1 65.723 (65.723)\n",
      " * Prec@1 64.560\n",
      "Best prec1 :  68.02000079345703\n",
      "current lr 5.39690e-04\n"
     ]
    },
    {
     "data": {
      "application/vnd.jupyter.widget-view+json": {
       "model_id": "eedd54409e664cf3a41ad407f4a5ef4a",
       "version_major": 2,
       "version_minor": 0
      },
      "text/plain": [
       "  0%|          | 0/20 [00:00<?, ?it/s]"
      ]
     },
     "metadata": {},
     "output_type": "display_data"
    },
    {
     "name": "stdout",
     "output_type": "stream",
     "text": [
      "Epoch: [98][0/20]\tTime 2.282 (2.282)\tData 1.907 (1.907)\tLoss 0.9405 (0.9405)\tPrec@1 67.041 (67.041)\n",
      "Test: [0/5]\tTime 0.912 (0.912)\tLoss 0.8628 (0.8628)\tPrec@1 71.533 (71.533)\n",
      " * Prec@1 69.590\n",
      "Best prec1 :  69.59000013427735\n",
      "current lr 5.31864e-04\n"
     ]
    },
    {
     "data": {
      "application/vnd.jupyter.widget-view+json": {
       "model_id": "7ded526961f34014afd4c57a6bdf01f2",
       "version_major": 2,
       "version_minor": 0
      },
      "text/plain": [
       "  0%|          | 0/20 [00:00<?, ?it/s]"
      ]
     },
     "metadata": {},
     "output_type": "display_data"
    },
    {
     "name": "stdout",
     "output_type": "stream",
     "text": [
      "Epoch: [99][0/20]\tTime 2.046 (2.046)\tData 1.682 (1.682)\tLoss 0.9740 (0.9740)\tPrec@1 65.918 (65.918)\n",
      "Test: [0/5]\tTime 0.918 (0.918)\tLoss 0.9398 (0.9398)\tPrec@1 68.896 (68.896)\n",
      " * Prec@1 67.390\n",
      "Best prec1 :  69.59000013427735\n",
      "current lr 5.24030e-04\n"
     ]
    },
    {
     "data": {
      "application/vnd.jupyter.widget-view+json": {
       "model_id": "eaba54b9b6064c3b9d9213ddfa6bf4e2",
       "version_major": 2,
       "version_minor": 0
      },
      "text/plain": [
       "  0%|          | 0/20 [00:00<?, ?it/s]"
      ]
     },
     "metadata": {},
     "output_type": "display_data"
    },
    {
     "name": "stdout",
     "output_type": "stream",
     "text": [
      "Epoch: [100][0/20]\tTime 2.036 (2.036)\tData 1.673 (1.673)\tLoss 0.8886 (0.8886)\tPrec@1 69.727 (69.727)\n",
      "Test: [0/5]\tTime 0.905 (0.905)\tLoss 0.9337 (0.9337)\tPrec@1 68.799 (68.799)\n",
      " * Prec@1 67.990\n",
      "Best prec1 :  69.59000013427735\n",
      "current lr 5.16190e-04\n"
     ]
    },
    {
     "data": {
      "application/vnd.jupyter.widget-view+json": {
       "model_id": "673c12b6adb64e04b837dde33e44e164",
       "version_major": 2,
       "version_minor": 0
      },
      "text/plain": [
       "  0%|          | 0/20 [00:00<?, ?it/s]"
      ]
     },
     "metadata": {},
     "output_type": "display_data"
    },
    {
     "name": "stdout",
     "output_type": "stream",
     "text": [
      "Epoch: [101][0/20]\tTime 2.107 (2.107)\tData 1.739 (1.739)\tLoss 0.9236 (0.9236)\tPrec@1 67.432 (67.432)\n",
      "Test: [0/5]\tTime 0.915 (0.915)\tLoss 0.9509 (0.9509)\tPrec@1 67.920 (67.920)\n",
      " * Prec@1 67.280\n",
      "Best prec1 :  69.59000013427735\n",
      "current lr 5.08346e-04\n"
     ]
    },
    {
     "data": {
      "application/vnd.jupyter.widget-view+json": {
       "model_id": "1a1ca410909e41779c8d9691d9f04147",
       "version_major": 2,
       "version_minor": 0
      },
      "text/plain": [
       "  0%|          | 0/20 [00:00<?, ?it/s]"
      ]
     },
     "metadata": {},
     "output_type": "display_data"
    },
    {
     "name": "stdout",
     "output_type": "stream",
     "text": [
      "Epoch: [102][0/20]\tTime 2.774 (2.774)\tData 2.412 (2.412)\tLoss 0.9382 (0.9382)\tPrec@1 66.113 (66.113)\n",
      "Test: [0/5]\tTime 0.907 (0.907)\tLoss 0.9026 (0.9026)\tPrec@1 69.385 (69.385)\n",
      " * Prec@1 68.240\n",
      "Best prec1 :  69.59000013427735\n",
      "current lr 5.00500e-04\n"
     ]
    },
    {
     "data": {
      "application/vnd.jupyter.widget-view+json": {
       "model_id": "48e1d694a0a7499db9b228d29fdaca00",
       "version_major": 2,
       "version_minor": 0
      },
      "text/plain": [
       "  0%|          | 0/20 [00:00<?, ?it/s]"
      ]
     },
     "metadata": {},
     "output_type": "display_data"
    },
    {
     "name": "stdout",
     "output_type": "stream",
     "text": [
      "Epoch: [103][0/20]\tTime 2.743 (2.743)\tData 2.378 (2.378)\tLoss 0.9131 (0.9131)\tPrec@1 67.969 (67.969)\n",
      "Test: [0/5]\tTime 0.901 (0.901)\tLoss 0.9384 (0.9384)\tPrec@1 67.285 (67.285)\n",
      " * Prec@1 67.340\n",
      "Best prec1 :  69.59000013427735\n",
      "current lr 4.92654e-04\n"
     ]
    },
    {
     "data": {
      "application/vnd.jupyter.widget-view+json": {
       "model_id": "a70c2cf56074402399a2847a5b57e0ee",
       "version_major": 2,
       "version_minor": 0
      },
      "text/plain": [
       "  0%|          | 0/20 [00:00<?, ?it/s]"
      ]
     },
     "metadata": {},
     "output_type": "display_data"
    },
    {
     "name": "stdout",
     "output_type": "stream",
     "text": [
      "Epoch: [104][0/20]\tTime 2.664 (2.664)\tData 2.297 (2.297)\tLoss 0.9227 (0.9227)\tPrec@1 67.871 (67.871)\n",
      "Test: [0/5]\tTime 0.977 (0.977)\tLoss 0.9296 (0.9296)\tPrec@1 68.066 (68.066)\n",
      " * Prec@1 67.360\n",
      "Best prec1 :  69.59000013427735\n",
      "current lr 4.84810e-04\n"
     ]
    },
    {
     "data": {
      "application/vnd.jupyter.widget-view+json": {
       "model_id": "760feaed905b4bafa0aa8b683d552ae9",
       "version_major": 2,
       "version_minor": 0
      },
      "text/plain": [
       "  0%|          | 0/20 [00:00<?, ?it/s]"
      ]
     },
     "metadata": {},
     "output_type": "display_data"
    },
    {
     "name": "stdout",
     "output_type": "stream",
     "text": [
      "Epoch: [105][0/20]\tTime 1.979 (1.979)\tData 1.614 (1.614)\tLoss 0.9231 (0.9231)\tPrec@1 68.066 (68.066)\n",
      "Test: [0/5]\tTime 0.898 (0.898)\tLoss 0.9485 (0.9485)\tPrec@1 67.773 (67.773)\n",
      " * Prec@1 66.890\n",
      "Best prec1 :  69.59000013427735\n",
      "current lr 4.76970e-04\n"
     ]
    },
    {
     "data": {
      "application/vnd.jupyter.widget-view+json": {
       "model_id": "8e754d3e01e2474abeeb42524dc00721",
       "version_major": 2,
       "version_minor": 0
      },
      "text/plain": [
       "  0%|          | 0/20 [00:00<?, ?it/s]"
      ]
     },
     "metadata": {},
     "output_type": "display_data"
    },
    {
     "name": "stdout",
     "output_type": "stream",
     "text": [
      "Epoch: [106][0/20]\tTime 2.496 (2.496)\tData 2.129 (2.129)\tLoss 0.9049 (0.9049)\tPrec@1 68.213 (68.213)\n",
      "Test: [0/5]\tTime 0.921 (0.921)\tLoss 0.8990 (0.8990)\tPrec@1 68.311 (68.311)\n",
      " * Prec@1 68.500\n",
      "Best prec1 :  69.59000013427735\n",
      "current lr 4.69136e-04\n"
     ]
    },
    {
     "data": {
      "application/vnd.jupyter.widget-view+json": {
       "model_id": "39a0b1664173424c85b093c5a075827f",
       "version_major": 2,
       "version_minor": 0
      },
      "text/plain": [
       "  0%|          | 0/20 [00:00<?, ?it/s]"
      ]
     },
     "metadata": {},
     "output_type": "display_data"
    },
    {
     "name": "stdout",
     "output_type": "stream",
     "text": [
      "Epoch: [107][0/20]\tTime 2.086 (2.086)\tData 1.720 (1.720)\tLoss 0.9054 (0.9054)\tPrec@1 67.871 (67.871)\n",
      "Test: [0/5]\tTime 0.940 (0.940)\tLoss 1.0285 (1.0285)\tPrec@1 65.088 (65.088)\n",
      " * Prec@1 64.690\n",
      "Best prec1 :  69.59000013427735\n",
      "current lr 4.61310e-04\n"
     ]
    },
    {
     "data": {
      "application/vnd.jupyter.widget-view+json": {
       "model_id": "4b50eab3df404400812981843b82315f",
       "version_major": 2,
       "version_minor": 0
      },
      "text/plain": [
       "  0%|          | 0/20 [00:00<?, ?it/s]"
      ]
     },
     "metadata": {},
     "output_type": "display_data"
    },
    {
     "name": "stdout",
     "output_type": "stream",
     "text": [
      "Epoch: [108][0/20]\tTime 2.081 (2.081)\tData 1.714 (1.714)\tLoss 0.8827 (0.8827)\tPrec@1 69.092 (69.092)\n",
      "Test: [0/5]\tTime 0.918 (0.918)\tLoss 0.8880 (0.8880)\tPrec@1 69.629 (69.629)\n",
      " * Prec@1 68.850\n",
      "Best prec1 :  69.59000013427735\n",
      "current lr 4.53493e-04\n"
     ]
    },
    {
     "data": {
      "application/vnd.jupyter.widget-view+json": {
       "model_id": "46a1e498da564b408d87375f00992578",
       "version_major": 2,
       "version_minor": 0
      },
      "text/plain": [
       "  0%|          | 0/20 [00:00<?, ?it/s]"
      ]
     },
     "metadata": {},
     "output_type": "display_data"
    },
    {
     "name": "stdout",
     "output_type": "stream",
     "text": [
      "Epoch: [109][0/20]\tTime 2.216 (2.216)\tData 1.850 (1.850)\tLoss 0.8909 (0.8909)\tPrec@1 68.408 (68.408)\n",
      "Test: [0/5]\tTime 0.967 (0.967)\tLoss 0.9057 (0.9057)\tPrec@1 68.750 (68.750)\n",
      " * Prec@1 68.130\n",
      "Best prec1 :  69.59000013427735\n",
      "current lr 4.45688e-04\n"
     ]
    },
    {
     "data": {
      "application/vnd.jupyter.widget-view+json": {
       "model_id": "a641796e875e417688bd6c637c8af927",
       "version_major": 2,
       "version_minor": 0
      },
      "text/plain": [
       "  0%|          | 0/20 [00:00<?, ?it/s]"
      ]
     },
     "metadata": {},
     "output_type": "display_data"
    },
    {
     "name": "stdout",
     "output_type": "stream",
     "text": [
      "Epoch: [110][0/20]\tTime 2.240 (2.240)\tData 1.877 (1.877)\tLoss 0.9192 (0.9192)\tPrec@1 67.773 (67.773)\n",
      "Test: [0/5]\tTime 0.900 (0.900)\tLoss 0.9136 (0.9136)\tPrec@1 68.555 (68.555)\n",
      " * Prec@1 68.140\n",
      "Best prec1 :  69.59000013427735\n",
      "current lr 4.37896e-04\n"
     ]
    },
    {
     "data": {
      "application/vnd.jupyter.widget-view+json": {
       "model_id": "b73e46eca3e442edba5fc6d878b5093d",
       "version_major": 2,
       "version_minor": 0
      },
      "text/plain": [
       "  0%|          | 0/20 [00:00<?, ?it/s]"
      ]
     },
     "metadata": {},
     "output_type": "display_data"
    },
    {
     "name": "stdout",
     "output_type": "stream",
     "text": [
      "Epoch: [111][0/20]\tTime 2.360 (2.360)\tData 1.995 (1.995)\tLoss 0.8916 (0.8916)\tPrec@1 68.115 (68.115)\n",
      "Test: [0/5]\tTime 0.919 (0.919)\tLoss 0.9146 (0.9146)\tPrec@1 68.994 (68.994)\n",
      " * Prec@1 68.630\n",
      "Best prec1 :  69.59000013427735\n",
      "current lr 4.30120e-04\n"
     ]
    },
    {
     "data": {
      "application/vnd.jupyter.widget-view+json": {
       "model_id": "731d5c7eb5bc4700b286621f5369f422",
       "version_major": 2,
       "version_minor": 0
      },
      "text/plain": [
       "  0%|          | 0/20 [00:00<?, ?it/s]"
      ]
     },
     "metadata": {},
     "output_type": "display_data"
    },
    {
     "name": "stdout",
     "output_type": "stream",
     "text": [
      "Epoch: [112][0/20]\tTime 2.627 (2.627)\tData 2.259 (2.259)\tLoss 0.9223 (0.9223)\tPrec@1 66.846 (66.846)\n",
      "Test: [0/5]\tTime 0.903 (0.903)\tLoss 0.8886 (0.8886)\tPrec@1 69.629 (69.629)\n",
      " * Prec@1 69.380\n",
      "Best prec1 :  69.59000013427735\n",
      "current lr 4.22361e-04\n"
     ]
    },
    {
     "data": {
      "application/vnd.jupyter.widget-view+json": {
       "model_id": "a8dbec5b0ccd47189ab2bf0474f4f279",
       "version_major": 2,
       "version_minor": 0
      },
      "text/plain": [
       "  0%|          | 0/20 [00:00<?, ?it/s]"
      ]
     },
     "metadata": {},
     "output_type": "display_data"
    },
    {
     "name": "stdout",
     "output_type": "stream",
     "text": [
      "Epoch: [113][0/20]\tTime 2.520 (2.520)\tData 2.151 (2.151)\tLoss 0.9426 (0.9426)\tPrec@1 68.359 (68.359)\n",
      "Test: [0/5]\tTime 0.918 (0.918)\tLoss 0.9153 (0.9153)\tPrec@1 69.531 (69.531)\n",
      " * Prec@1 68.300\n",
      "Best prec1 :  69.59000013427735\n",
      "current lr 4.14621e-04\n"
     ]
    },
    {
     "data": {
      "application/vnd.jupyter.widget-view+json": {
       "model_id": "0be7e86403bf4a34bf309b3a88b5a6e7",
       "version_major": 2,
       "version_minor": 0
      },
      "text/plain": [
       "  0%|          | 0/20 [00:00<?, ?it/s]"
      ]
     },
     "metadata": {},
     "output_type": "display_data"
    },
    {
     "name": "stdout",
     "output_type": "stream",
     "text": [
      "Epoch: [114][0/20]\tTime 2.438 (2.438)\tData 2.070 (2.070)\tLoss 0.9473 (0.9473)\tPrec@1 66.992 (66.992)\n",
      "Test: [0/5]\tTime 0.905 (0.905)\tLoss 0.8653 (0.8653)\tPrec@1 70.459 (70.459)\n",
      " * Prec@1 69.050\n",
      "Best prec1 :  69.59000013427735\n",
      "current lr 4.06903e-04\n"
     ]
    },
    {
     "data": {
      "application/vnd.jupyter.widget-view+json": {
       "model_id": "a2d0ae190c4e4f8bb0efa30c7c7ea362",
       "version_major": 2,
       "version_minor": 0
      },
      "text/plain": [
       "  0%|          | 0/20 [00:00<?, ?it/s]"
      ]
     },
     "metadata": {},
     "output_type": "display_data"
    },
    {
     "name": "stdout",
     "output_type": "stream",
     "text": [
      "Epoch: [115][0/20]\tTime 2.047 (2.047)\tData 1.676 (1.676)\tLoss 0.9243 (0.9243)\tPrec@1 67.188 (67.188)\n",
      "Test: [0/5]\tTime 0.890 (0.890)\tLoss 0.9650 (0.9650)\tPrec@1 65.674 (65.674)\n",
      " * Prec@1 66.250\n",
      "Best prec1 :  69.59000013427735\n",
      "current lr 3.99208e-04\n"
     ]
    },
    {
     "data": {
      "application/vnd.jupyter.widget-view+json": {
       "model_id": "cb3aca52b9db4653b6eef3b136f89a91",
       "version_major": 2,
       "version_minor": 0
      },
      "text/plain": [
       "  0%|          | 0/20 [00:00<?, ?it/s]"
      ]
     },
     "metadata": {},
     "output_type": "display_data"
    },
    {
     "name": "stdout",
     "output_type": "stream",
     "text": [
      "Epoch: [116][0/20]\tTime 2.263 (2.263)\tData 1.901 (1.901)\tLoss 0.9143 (0.9143)\tPrec@1 67.188 (67.188)\n",
      "Test: [0/5]\tTime 0.903 (0.903)\tLoss 0.9126 (0.9126)\tPrec@1 69.580 (69.580)\n",
      " * Prec@1 68.680\n",
      "Best prec1 :  69.59000013427735\n",
      "current lr 3.91537e-04\n"
     ]
    },
    {
     "data": {
      "application/vnd.jupyter.widget-view+json": {
       "model_id": "e132091d68b2431e8c227571fb94e4a5",
       "version_major": 2,
       "version_minor": 0
      },
      "text/plain": [
       "  0%|          | 0/20 [00:00<?, ?it/s]"
      ]
     },
     "metadata": {},
     "output_type": "display_data"
    },
    {
     "name": "stdout",
     "output_type": "stream",
     "text": [
      "Epoch: [117][0/20]\tTime 2.680 (2.680)\tData 2.318 (2.318)\tLoss 0.8785 (0.8785)\tPrec@1 69.141 (69.141)\n",
      "Test: [0/5]\tTime 0.905 (0.905)\tLoss 0.8824 (0.8824)\tPrec@1 70.215 (70.215)\n",
      " * Prec@1 69.440\n",
      "Best prec1 :  69.59000013427735\n",
      "current lr 3.83894e-04\n"
     ]
    },
    {
     "data": {
      "application/vnd.jupyter.widget-view+json": {
       "model_id": "e39a399735424c6b976b86c18d0ddf24",
       "version_major": 2,
       "version_minor": 0
      },
      "text/plain": [
       "  0%|          | 0/20 [00:00<?, ?it/s]"
      ]
     },
     "metadata": {},
     "output_type": "display_data"
    },
    {
     "name": "stdout",
     "output_type": "stream",
     "text": [
      "Epoch: [118][0/20]\tTime 2.641 (2.641)\tData 2.276 (2.276)\tLoss 0.9031 (0.9031)\tPrec@1 68.018 (68.018)\n"
     ]
    }
   ],
   "source": [
    "from timm.scheduler import CosineLRScheduler\n",
    "\n",
    "for shallow in [True, False]:\n",
    "    for pact in [False, True]:\n",
    "        for k in range(2,9):\n",
    "            net = resnet20(k,k,pact,shallow)\n",
    "\n",
    "            model = net.cuda()\n",
    "            mixup = False\n",
    "\n",
    "            # Track experiment with wandb\n",
    "            import wandb\n",
    "            watermark = \"resnet18_uniformquantize_k{}\".format(k)\n",
    "            if pact: watermark+=\"_pact\"\n",
    "            if shallow: \n",
    "                watermark+=\"_shallow\"\n",
    "            else:\n",
    "                watermark+=\"_deep\"\n",
    "                \n",
    "            # mess with wandb\n",
    "            wandb.init(project=\"quantize_resnet2\", name=watermark)\n",
    "\n",
    "            # define loss function (criterion) and pptimizer\n",
    "            criterion = nn.CrossEntropyLoss().cuda()\n",
    "\n",
    "            # optimizer for pact\n",
    "            optimizer = torch.optim.SGD(model.parameters(), lr=1e-3,\n",
    "                                        momentum=0.9,\n",
    "                                        weight_decay=0.0002)\n",
    "            optimizer = torch.optim.Adam(model.parameters(), lr=1e-3)\n",
    "\n",
    "            scheduler = CosineLRScheduler(optimizer, t_initial=n_epochs, lr_min=1e-6, \n",
    "                                  warmup_t=3, warmup_lr_init=1e-6, warmup_prefix=True)\n",
    "\n",
    "            best_prec1 = 0\n",
    "            os.makedirs(\"models\", exist_ok=True)\n",
    "\n",
    "            for epoch in range(n_epochs):\n",
    "                scheduler.step(epoch)\n",
    "                # train for one epoch\n",
    "                print('current lr {:.5e}'.format(optimizer.param_groups[0]['lr']))\n",
    "                tloss = train(train_loader, model, criterion, optimizer, epoch)         \n",
    "\n",
    "                # evaluate on validation set\n",
    "                prec1, valloss = validate(val_loader, model, criterion)\n",
    "\n",
    "                # wandb\n",
    "                wandb.log({'epoch': epoch, \"prec\":prec1, \"train_loss\": tloss, 'val_loss': valloss, \"lr\": optimizer.param_groups[0][\"lr\"],})\n",
    "\n",
    "                # remember best prec@1 and save checkpoint\n",
    "                is_best = prec1 > best_prec1\n",
    "                best_prec1 = max(prec1, best_prec1)\n",
    "\n",
    "                print(\"Best prec1 : \", best_prec1)\n",
    "                if is_best:\n",
    "                    torch.save(model.state_dict(), os.path.join(f'models/{watermark}.pth'))"
   ]
  },
  {
   "cell_type": "code",
   "execution_count": null,
   "id": "8998c803",
   "metadata": {},
   "outputs": [],
   "source": [
    "from pact_utils import TorchQuantize\n",
    "len(TorchQuantize(bits=4).forward(torch.rand(1,384)).unique())"
   ]
  },
  {
   "cell_type": "code",
   "execution_count": null,
   "id": "8d894c1f",
   "metadata": {},
   "outputs": [],
   "source": [
    "net.blocks[1].mlp.fc1.forward(torch.rand(1,384).cuda()).unique()"
   ]
  },
  {
   "cell_type": "code",
   "execution_count": null,
   "id": "75eb1382",
   "metadata": {},
   "outputs": [],
   "source": [
    "model.blocks[1].attn.qkv"
   ]
  },
  {
   "cell_type": "code",
   "execution_count": null,
   "id": "548026af",
   "metadata": {},
   "outputs": [],
   "source": []
  }
 ],
 "metadata": {
  "kernelspec": {
   "display_name": "Python 3 (ipykernel)",
   "language": "python",
   "name": "python3"
  },
  "language_info": {
   "codemirror_mode": {
    "name": "ipython",
    "version": 3
   },
   "file_extension": ".py",
   "mimetype": "text/x-python",
   "name": "python",
   "nbconvert_exporter": "python",
   "pygments_lexer": "ipython3",
   "version": "3.7.0"
  }
 },
 "nbformat": 4,
 "nbformat_minor": 5
}
