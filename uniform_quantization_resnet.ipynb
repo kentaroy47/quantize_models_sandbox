{
 "cells": [
  {
   "cell_type": "markdown",
   "id": "65b5a174",
   "metadata": {},
   "source": [
    "# Resnet18 CIFAR-10\n",
    "\n",
    "Quantize train resnet18 without PACT"
   ]
  },
  {
   "cell_type": "code",
   "execution_count": 1,
   "id": "3cdfa9b0",
   "metadata": {},
   "outputs": [],
   "source": [
    "NOQUANT_TRAIN = False\n",
    "n_epochs = 200\n",
    "batches = 1024"
   ]
  },
  {
   "cell_type": "code",
   "execution_count": 2,
   "id": "e95ac49f",
   "metadata": {},
   "outputs": [],
   "source": [
    "import argparse\n",
    "import os\n",
    "import shutil\n",
    "import time\n",
    "import pandas as pd\n",
    "import matplotlib.pyplot as plt\n",
    "import network.resnet_orig as resnet\n",
    "\n",
    "from tqdm.notebook import tqdm\n",
    "import time\n",
    "import numpy as np\n",
    "import pandas as pd\n",
    "import cv2\n",
    "import torch\n",
    "import torch.nn as nn\n",
    "import torch.nn.functional as F\n",
    "import torch.optim as optim\n",
    "from torch.optim import lr_scheduler\n",
    "from torch.utils.data import DataLoader, Dataset\n",
    "from torch.utils.data.sampler import SubsetRandomSampler, RandomSampler, SequentialSampler\n",
    "from torch.optim.lr_scheduler import CosineAnnealingWarmRestarts, CosineAnnealingLR, ReduceLROnPlateau\n",
    "\n",
    "model_names = sorted(name for name in resnet.__dict__\n",
    "    if name.islower() and not name.startswith(\"__\")\n",
    "                     and name.startswith(\"resnet\")\n",
    "                     and callable(resnet.__dict__[name]))\n",
    "\n",
    "DATA_DIR = \"train\"\n",
    "print_freq = 50\n",
    "\n",
    "# vit imsize\n",
    "imsize = 32"
   ]
  },
  {
   "cell_type": "code",
   "execution_count": 3,
   "id": "91238a6e",
   "metadata": {},
   "outputs": [
    {
     "data": {
      "text/html": [
       "<div>\n",
       "<style scoped>\n",
       "    .dataframe tbody tr th:only-of-type {\n",
       "        vertical-align: middle;\n",
       "    }\n",
       "\n",
       "    .dataframe tbody tr th {\n",
       "        vertical-align: top;\n",
       "    }\n",
       "\n",
       "    .dataframe thead th {\n",
       "        text-align: right;\n",
       "    }\n",
       "</style>\n",
       "<table border=\"1\" class=\"dataframe\">\n",
       "  <thead>\n",
       "    <tr style=\"text-align: right;\">\n",
       "      <th></th>\n",
       "      <th>id</th>\n",
       "      <th>label</th>\n",
       "      <th>label_enc</th>\n",
       "      <th>fold</th>\n",
       "    </tr>\n",
       "  </thead>\n",
       "  <tbody>\n",
       "    <tr>\n",
       "      <th>0</th>\n",
       "      <td>1</td>\n",
       "      <td>frog</td>\n",
       "      <td>6</td>\n",
       "      <td>1</td>\n",
       "    </tr>\n",
       "    <tr>\n",
       "      <th>1</th>\n",
       "      <td>2</td>\n",
       "      <td>truck</td>\n",
       "      <td>9</td>\n",
       "      <td>1</td>\n",
       "    </tr>\n",
       "    <tr>\n",
       "      <th>2</th>\n",
       "      <td>3</td>\n",
       "      <td>truck</td>\n",
       "      <td>9</td>\n",
       "      <td>2</td>\n",
       "    </tr>\n",
       "    <tr>\n",
       "      <th>3</th>\n",
       "      <td>4</td>\n",
       "      <td>deer</td>\n",
       "      <td>4</td>\n",
       "      <td>1</td>\n",
       "    </tr>\n",
       "    <tr>\n",
       "      <th>4</th>\n",
       "      <td>5</td>\n",
       "      <td>automobile</td>\n",
       "      <td>1</td>\n",
       "      <td>2</td>\n",
       "    </tr>\n",
       "  </tbody>\n",
       "</table>\n",
       "</div>"
      ],
      "text/plain": [
       "   id       label  label_enc  fold\n",
       "0   1        frog          6     1\n",
       "1   2       truck          9     1\n",
       "2   3       truck          9     2\n",
       "3   4        deer          4     1\n",
       "4   5  automobile          1     2"
      ]
     },
     "execution_count": 3,
     "metadata": {},
     "output_type": "execute_result"
    }
   ],
   "source": [
    "# prepare labels\n",
    "train_df = pd.read_csv(\"trainLabels.csv\")\n",
    "from sklearn.preprocessing import LabelEncoder\n",
    "le = LabelEncoder()\n",
    "train_df['label_enc'] = le.fit_transform(train_df['label'])\n",
    "\n",
    "# 5-fold\n",
    "from sklearn.model_selection import StratifiedKFold\n",
    "skf = StratifiedKFold(n_splits=5, shuffle=True, random_state=42)\n",
    "\n",
    "train_df[\"fold\"] = -1\n",
    "for i, (train_index, test_index) in enumerate(skf.split(train_df.id, train_df.label_enc)):\n",
    "    train_df.loc[test_index, 'fold'] = i\n",
    "train_df.head()"
   ]
  },
  {
   "cell_type": "code",
   "execution_count": 4,
   "id": "44be87f4",
   "metadata": {},
   "outputs": [],
   "source": [
    "class cifarDataset(Dataset):\n",
    "    def __init__(self,\n",
    "                 df,\n",
    "                 rand=False,\n",
    "                 transform=None,\n",
    "                 test=False\n",
    "                ):\n",
    "\n",
    "        self.df = df.reset_index(drop=True)\n",
    "        self.rand = rand\n",
    "        self.transform = transform\n",
    "        self.test = test\n",
    "\n",
    "    def __len__(self):\n",
    "        return self.df.shape[0]\n",
    "\n",
    "    def __getitem__(self, index):\n",
    "        row = self.df.iloc[index]\n",
    "        img_id = row.id\n",
    "        \n",
    "        images = cv2.imread(os.path.join(DATA_DIR, str(img_id)+\".png\"))\n",
    "        \n",
    "        # Load labels\n",
    "        label = row.label_enc\n",
    "        \n",
    "        # aug\n",
    "        if self.transform is not None:\n",
    "            images = self.transform(image=images)['image']\n",
    "              \n",
    "        #images = images.astype(np.float32)\n",
    "        #images /= 255\n",
    "        images = images.transpose(2, 0, 1)\n",
    "        \n",
    "        label = label.astype(np.float32)\n",
    "        #label2 = label2.astype(np.float32)\n",
    "        return torch.tensor(images), torch.tensor(label),"
   ]
  },
  {
   "cell_type": "code",
   "execution_count": 5,
   "id": "cd5517a6",
   "metadata": {},
   "outputs": [
    {
     "name": "stderr",
     "output_type": "stream",
     "text": [
      "/home/ken/anaconda3/envs/pytorch_p37/lib/python3.7/site-packages/albumentations/augmentations/transforms.py:690: FutureWarning: This class has been deprecated. Please use CoarseDropout\n",
      "  FutureWarning,\n"
     ]
    }
   ],
   "source": [
    "import albumentations as A\n",
    "import albumentations\n",
    "\n",
    "transforms_train = albumentations.Compose([\n",
    "    albumentations.ShiftScaleRotate(scale_limit=0.3, rotate_limit=180,p=0.5),\n",
    "    A.Cutout(num_holes=12, max_h_size=4, max_w_size=4, fill_value=0, p=0.5),\n",
    "    albumentations.Rotate(p=0.5),\n",
    "    albumentations.Transpose(p=0.5),\n",
    "    albumentations.VerticalFlip(p=0.5),\n",
    "    albumentations.HorizontalFlip(p=0.5),   \n",
    "    albumentations.Resize(imsize, imsize, p=1.0), \n",
    "    albumentations.Normalize(mean=(0.485, 0.456, 0.406),\n",
    "                       std=(0.229, 0.224, 0.225), p=1),\n",
    "])\n",
    "\n",
    "transforms_val = albumentations.Compose([albumentations.Resize(imsize, imsize, p=1.0),\n",
    "                                         albumentations.Normalize(mean=(0.485, 0.456, 0.406),\n",
    "                       std=(0.229, 0.224, 0.225), p=1),])"
   ]
  },
  {
   "cell_type": "code",
   "execution_count": 6,
   "id": "e3726718",
   "metadata": {
    "scrolled": true
   },
   "outputs": [
    {
     "name": "stderr",
     "output_type": "stream",
     "text": [
      "Clipping input data to the valid range for imshow with RGB data ([0..1] for floats or [0..255] for integers).\n",
      "Clipping input data to the valid range for imshow with RGB data ([0..1] for floats or [0..255] for integers).\n",
      "Clipping input data to the valid range for imshow with RGB data ([0..1] for floats or [0..255] for integers).\n",
      "Clipping input data to the valid range for imshow with RGB data ([0..1] for floats or [0..255] for integers).\n",
      "Clipping input data to the valid range for imshow with RGB data ([0..1] for floats or [0..255] for integers).\n",
      "Clipping input data to the valid range for imshow with RGB data ([0..1] for floats or [0..255] for integers).\n",
      "Clipping input data to the valid range for imshow with RGB data ([0..1] for floats or [0..255] for integers).\n",
      "Clipping input data to the valid range for imshow with RGB data ([0..1] for floats or [0..255] for integers).\n",
      "Clipping input data to the valid range for imshow with RGB data ([0..1] for floats or [0..255] for integers).\n",
      "Clipping input data to the valid range for imshow with RGB data ([0..1] for floats or [0..255] for integers).\n",
      "Clipping input data to the valid range for imshow with RGB data ([0..1] for floats or [0..255] for integers).\n",
      "Clipping input data to the valid range for imshow with RGB data ([0..1] for floats or [0..255] for integers).\n",
      "Clipping input data to the valid range for imshow with RGB data ([0..1] for floats or [0..255] for integers).\n",
      "Clipping input data to the valid range for imshow with RGB data ([0..1] for floats or [0..255] for integers).\n",
      "Clipping input data to the valid range for imshow with RGB data ([0..1] for floats or [0..255] for integers).\n"
     ]
    },
    {
     "data": {
      "image/png": "[encoded data removed]",
      "text/plain": [
       "<Figure size 1440x720 with 5 Axes>"
      ]
     },
     "metadata": {
      "needs_background": "light"
     },
     "output_type": "display_data"
    },
    {
     "data": {
      "image/png": "[encoded data removed]",
      "text/plain": [
       "<Figure size 1440x720 with 5 Axes>"
      ]
     },
     "metadata": {
      "needs_background": "light"
     },
     "output_type": "display_data"
    },
    {
     "data": {
      "image/png": "[encoded data removed]",
      "text/plain": [
       "<Figure size 1440x720 with 5 Axes>"
      ]
     },
     "metadata": {
      "needs_background": "light"
     },
     "output_type": "display_data"
    }
   ],
   "source": [
    "dataset_show = cifarDataset(train_df, transform=transforms_train)\n",
    "from pylab import rcParams\n",
    "rcParams['figure.figsize'] = 20,10\n",
    "for i in range(3):\n",
    "    f, axarr = plt.subplots(1,5)\n",
    "    for p in range(5):\n",
    "        idx = np.random.randint(0, len(dataset_show))\n",
    "        img, label = dataset_show[idx]\n",
    "        img = img.flip(0) #BGR2RGB\n",
    "        axarr[p].imshow(img.transpose(0,1).transpose(1,2))\n",
    "        axarr[p].set_title(str(label))\n",
    "plt.show()"
   ]
  },
  {
   "cell_type": "code",
   "execution_count": 7,
   "id": "be374443",
   "metadata": {},
   "outputs": [],
   "source": [
    "def train(train_loader, model, criterion, optimizer, epoch):\n",
    "    \"\"\"\n",
    "        Run one train epoch\n",
    "    \"\"\"\n",
    "    batch_time = AverageMeter()\n",
    "    data_time = AverageMeter()\n",
    "    losses = AverageMeter()\n",
    "    top1 = AverageMeter()\n",
    "\n",
    "    # switch to train mode\n",
    "    model.train()\n",
    "\n",
    "    end = time.time()\n",
    "    lambda_alpha = 0.002\n",
    "    for i, (input, target) in enumerate(tqdm(train_loader)):\n",
    "\n",
    "        # measure data loading time\n",
    "        data_time.update(time.time() - end)\n",
    "        target2 = target\n",
    "\n",
    "        target = target.long().cuda()\n",
    "        target2 = target2.long().cuda()\n",
    "        input_var = input.cuda()\n",
    "        target_var = target\n",
    "\n",
    "        if not mixup:\n",
    "          alpha = 0\n",
    "        else:\n",
    "          alpha = 1\n",
    "        \n",
    "\n",
    "        # compute output\n",
    "        output = model(input_var)\n",
    "        loss = criterion(output, target_var)\n",
    "\n",
    "        # L2 regularization\n",
    "        l2_alpha = 0.0\n",
    "        for name, param in model.named_parameters():\n",
    "            if \"alpha\" in name:\n",
    "                l2_alpha += torch.pow(param, 2)\n",
    "        loss += lambda_alpha * l2_alpha\n",
    "\n",
    "        # compute gradient and do SGD step\n",
    "        optimizer.zero_grad()\n",
    "        loss.backward()\n",
    "        optimizer.step()\n",
    "\n",
    "        output = output.float()\n",
    "        loss = loss.float()\n",
    "        # measure accuracy and record loss\n",
    "        prec1 = accuracy(output.data, target)[0]\n",
    "        losses.update(loss.item(), input.size(0))\n",
    "        top1.update(prec1.item(), input.size(0))\n",
    "\n",
    "        # measure elapsed time\n",
    "        batch_time.update(time.time() - end)\n",
    "        end = time.time()\n",
    "\n",
    "        if i % print_freq == 0:\n",
    "            print('Epoch: [{0}][{1}/{2}]\\t'\n",
    "                  'Time {batch_time.val:.3f} ({batch_time.avg:.3f})\\t'\n",
    "                  'Data {data_time.val:.3f} ({data_time.avg:.3f})\\t'\n",
    "                  'Loss {loss.val:.4f} ({loss.avg:.4f})\\t'\n",
    "                  'Prec@1 {top1.val:.3f} ({top1.avg:.3f})'.format(\n",
    "                      epoch, i, len(train_loader), batch_time=batch_time,\n",
    "                      data_time=data_time, loss=losses, top1=top1))\n",
    "    return losses.avg\n",
    "\n",
    "def validate(val_loader, model, criterion):\n",
    "    \"\"\"\n",
    "    Run evaluation\n",
    "    \"\"\"\n",
    "    batch_time = AverageMeter()\n",
    "    losses = AverageMeter()\n",
    "    top1 = AverageMeter()\n",
    "\n",
    "    # switch to evaluate mode\n",
    "    model.eval()\n",
    "\n",
    "    end = time.time()\n",
    "    with torch.no_grad():\n",
    "        for i, (input, target) in enumerate(val_loader):\n",
    "            target = target.long().cuda()\n",
    "            input_var = input.cuda()\n",
    "            target_var = target.cuda()\n",
    "\n",
    "            # compute output\n",
    "            output = model(input_var)\n",
    "            loss = criterion(output, target_var)\n",
    "\n",
    "            output = output.float()\n",
    "            loss = loss.float()\n",
    "\n",
    "            # measure accuracy and record loss\n",
    "            prec1 = accuracy(output.data, target)[0]\n",
    "            losses.update(loss.item(), input.size(0))\n",
    "            top1.update(prec1.item(), input.size(0))\n",
    "\n",
    "            # measure elapsed time\n",
    "            batch_time.update(time.time() - end)\n",
    "            end = time.time()\n",
    "\n",
    "            if i % print_freq == 0:\n",
    "                print('Test: [{0}/{1}]\\t'\n",
    "                      'Time {batch_time.val:.3f} ({batch_time.avg:.3f})\\t'\n",
    "                      'Loss {loss.val:.4f} ({loss.avg:.4f})\\t'\n",
    "                      'Prec@1 {top1.val:.3f} ({top1.avg:.3f})'.format(\n",
    "                          i, len(val_loader), batch_time=batch_time, loss=losses,\n",
    "                          top1=top1))\n",
    "\n",
    "    print(' * Prec@1 {top1.avg:.3f}'\n",
    "          .format(top1=top1))\n",
    "    for name, param in model.named_parameters():\n",
    "        if \"alpha\" in name:\n",
    "            print(name, param.item())\n",
    "    return top1.avg, losses.avg\n",
    "\n",
    "def save_checkpoint(state, filename='checkpoint.pth'):\n",
    "    \"\"\"\n",
    "    Save the training model\n",
    "    \"\"\"\n",
    "    torch.save(state, filename)\n",
    "\n",
    "class AverageMeter(object):\n",
    "    \"\"\"Computes and stores the average and current value\"\"\"\n",
    "    def __init__(self):\n",
    "        self.reset()\n",
    "\n",
    "    def reset(self):\n",
    "        self.val = 0\n",
    "        self.avg = 0\n",
    "        self.sum = 0\n",
    "        self.count = 0\n",
    "\n",
    "    def update(self, val, n=1):\n",
    "        self.val = val\n",
    "        self.sum += val * n\n",
    "        self.count += n\n",
    "        self.avg = self.sum / self.count\n",
    "\n",
    "\n",
    "def accuracy(output, target, topk=(1,)):\n",
    "    \"\"\"Computes the precision@k for the specified values of k\"\"\"\n",
    "    maxk = max(topk)\n",
    "    batch_size = target.size(0)\n",
    "\n",
    "    _, pred = output.topk(maxk, 1, True, True)\n",
    "    pred = pred.t()\n",
    "    correct = pred.eq(target.view(1, -1).expand_as(pred))\n",
    "\n",
    "    res = []\n",
    "    for k in topk:\n",
    "        correct_k = correct[:k].view(-1).float().sum(0)\n",
    "        res.append(correct_k.mul_(100.0 / batch_size))\n",
    "    return res"
   ]
  },
  {
   "cell_type": "code",
   "execution_count": 8,
   "id": "6f005fd3",
   "metadata": {},
   "outputs": [],
   "source": [
    "train_dataset = cifarDataset(train_df[train_df.fold!=0], transform=transforms_train)\n",
    "val_dataset = cifarDataset(train_df[train_df.fold==0], transform=transforms_val, test=True)\n",
    "\n",
    "train_loader = torch.utils.data.DataLoader(\n",
    "        train_dataset,\n",
    "        batch_size=batches, shuffle=True,\n",
    "        num_workers=8, pin_memory=True)\n",
    "\n",
    "val_loader = torch.utils.data.DataLoader(\n",
    "    val_dataset,\n",
    "    batch_size=batches, shuffle=False,\n",
    "    num_workers=8, pin_memory=True)"
   ]
  },
  {
   "cell_type": "code",
   "execution_count": 9,
   "id": "a4256dce",
   "metadata": {},
   "outputs": [],
   "source": [
    "import torch\n",
    "import torch.nn as nn\n",
    "import torch.nn.functional as F\n",
    "import torch.nn.init as init\n",
    "from torch.autograd import Variable\n",
    "from pact_utils import QuantizedLinear, QuantizedConv2d\n",
    "\n",
    "\n",
    "def _weights_init(m):\n",
    "    classname = m.__class__.__name__\n",
    "    #print(classname)\n",
    "    if isinstance(m, nn.Linear) or isinstance(m, nn.Conv2d):\n",
    "        init.kaiming_normal_(m.weight)\n",
    "\n",
    "class LambdaLayer(nn.Module):\n",
    "    def __init__(self, lambd):\n",
    "        super(LambdaLayer, self).__init__()\n",
    "        self.lambd = lambd\n",
    "\n",
    "    def forward(self, x):\n",
    "        return self.lambd(x)\n",
    "\n",
    "\n",
    "class BasicBlock(nn.Module):\n",
    "    expansion = 1\n",
    "\n",
    "    def __init__(self, in_planes, planes, stride=1, k=8, expansion=1):\n",
    "        super(BasicBlock, self).__init__()\n",
    "        self.k = k\n",
    "        self.expansion = expansion\n",
    "        self.conv1 = QuantizedConv2d(in_planes, planes, kernel_size=3, stride=stride, padding=1, bias=False, wbits=k, abits=k)\n",
    "        self.bn1 = nn.BatchNorm2d(planes)\n",
    "        # self.conv2 = nn.Conv2d(planes, planes, kernel_size=3, stride=1, padding=1, bias=False)\n",
    "        self.conv2 = QuantizedConv2d(planes, planes, kernel_size=3, stride=1, padding=1, bias=False, wbits=k, abits=k)\n",
    "        self.bn2 = nn.BatchNorm2d(planes)\n",
    "        \n",
    "        if stride != 1 or in_planes != planes:\n",
    "              # original resnet shortcut\n",
    "              self.shortcut = nn.Sequential(\n",
    "                    # nn.Conv2d(in_planes, self.expansion * planes, kernel_size=1, stride=stride, bias=False),\n",
    "                    QuantizedConv2d(in_planes, self.expansion * planes, kernel_size=1, stride=stride, bias=False, wbits=k, abits=k),\n",
    "                    nn.BatchNorm2d(self.expansion * planes)\n",
    "              )\n",
    "        else: # nothing done if stride or inplanes do not differ\n",
    "          self.shortcut = nn.Sequential()\n",
    "\n",
    "    def forward(self, x):\n",
    "        # Relu is implemented as the input of conv2d\n",
    "        out = self.bn1(self.conv1(x))\n",
    "        out = self.bn2(self.conv2(out))\n",
    "        out += self.shortcut(x)\n",
    "        out = F.relu(out)\n",
    "        return out\n",
    "\n",
    "\n",
    "class ResNet(nn.Module):\n",
    "    def __init__(self, block, num_blocks, num_classes=10, K=8):\n",
    "        super(ResNet, self).__init__()\n",
    "        self.in_planes = 32\n",
    "        self.k = K\n",
    "\n",
    "        self.conv1 = QuantizedConv2d(3, 32, kernel_size=3, stride=1, padding=1, bias=False, abits=8, wbits=8)\n",
    "        self.bn1 = nn.BatchNorm2d(32)\n",
    "        self.alpha1 = nn.Parameter(torch.tensor(10.))\n",
    "        self.layer1 = self._make_layer(block, 32, num_blocks[0], stride=1, expansion=1)\n",
    "        self.layer2 = self._make_layer(block, 64, num_blocks[1], stride=2, expansion=1)\n",
    "        self.layer3 = self._make_layer(block, 128, num_blocks[2], stride=2, expansion=1)\n",
    "\n",
    "        # self.linear = nn.Linear(64, num_classes)\n",
    "        self.linear = QuantizedLinear(128, num_classes, abits=8, wbits=8)\n",
    "        self.apply(_weights_init)\n",
    "\n",
    "    def _make_layer(self, block, planes, num_blocks, stride, expansion):\n",
    "        strides = [stride] + [1]*(num_blocks-1)\n",
    "        layers = []\n",
    "        for stride in strides:\n",
    "            layers.append(block(self.in_planes, planes, stride, self.k, expansion))\n",
    "            self.in_planes = planes * block.expansion\n",
    "\n",
    "        return nn.Sequential(*layers)\n",
    "\n",
    "    def forward(self, x):\n",
    "        # out = F.relu(self.bn1(self.conv1(x)))\n",
    "        out = self.bn1(self.conv1(x))\n",
    "        out = self.layer1(out)\n",
    "        out = self.layer2(out)\n",
    "        out = self.layer3(out)\n",
    "        out = F.avg_pool2d(out, out.size()[3])\n",
    "        out = out.view(out.size(0), -1)\n",
    "        out = self.linear(out)\n",
    "        return out\n",
    "\n",
    "\n",
    "def resnet20(k=8):\n",
    "    print(\"bit width:\", k)\n",
    "    return ResNet(BasicBlock, [3, 3, 3], K=k)"
   ]
  },
  {
   "cell_type": "code",
   "execution_count": 10,
   "id": "d6a1ff82",
   "metadata": {},
   "outputs": [
    {
     "name": "stdout",
     "output_type": "stream",
     "text": [
      "bit width: 8\n"
     ]
    }
   ],
   "source": [
    "net = resnet20(8)"
   ]
  },
  {
   "cell_type": "markdown",
   "id": "c3f38958",
   "metadata": {},
   "source": [
    "# Train with quantization"
   ]
  },
  {
   "cell_type": "code",
   "execution_count": null,
   "id": "bf661401",
   "metadata": {
    "scrolled": true
   },
   "outputs": [
    {
     "name": "stdout",
     "output_type": "stream",
     "text": [
      "bit width: 4\n"
     ]
    },
    {
     "name": "stderr",
     "output_type": "stream",
     "text": [
      "\u001b[34m\u001b[1mwandb\u001b[0m: Currently logged in as: \u001b[33marutema47\u001b[0m. Use \u001b[1m`wandb login --relogin`\u001b[0m to force relogin\n"
     ]
    },
    {
     "data": {
      "text/html": [
       "Tracking run with wandb version 0.12.18"
      ],
      "text/plain": [
       "<IPython.core.display.HTML object>"
      ]
     },
     "metadata": {},
     "output_type": "display_data"
    },
    {
     "data": {
      "text/html": [
       "Run data is saved locally in <code>/media/ken/dsk1/data/quantize_models_sandbox/wandb/run-20220620_144320-2e4kgqr7</code>"
      ],
      "text/plain": [
       "<IPython.core.display.HTML object>"
      ]
     },
     "metadata": {},
     "output_type": "display_data"
    },
    {
     "data": {
      "text/html": [
       "Syncing run <strong><a href=\"https://wandb.ai/arutema47/quantize_resnet/runs/2e4kgqr7\" target=\"_blank\">resnet18_uniformquantize_k4</a></strong> to <a href=\"https://wandb.ai/arutema47/quantize_resnet\" target=\"_blank\">Weights & Biases</a> (<a href=\"https://wandb.me/run\" target=\"_blank\">docs</a>)<br/>"
      ],
      "text/plain": [
       "<IPython.core.display.HTML object>"
      ]
     },
     "metadata": {},
     "output_type": "display_data"
    },
    {
     "name": "stdout",
     "output_type": "stream",
     "text": [
      "current lr 1.00000e-06\n"
     ]
    },
    {
     "data": {
      "application/vnd.jupyter.widget-view+json": {
       "model_id": "7bc66a15a8ed4002bccd71a383ef6a59",
       "version_major": 2,
       "version_minor": 0
      },
      "text/plain": [
       "  0%|          | 0/40 [00:00<?, ?it/s]"
      ]
     },
     "metadata": {},
     "output_type": "display_data"
    },
    {
     "name": "stdout",
     "output_type": "stream",
     "text": [
      "Epoch: [0][0/40]\tTime 2.061 (2.061)\tData 1.179 (1.179)\tLoss 2.9254 (2.9254)\tPrec@1 10.742 (10.742)\n",
      "Test: [0/10]\tTime 0.628 (0.628)\tLoss 2.5577 (2.5577)\tPrec@1 12.988 (12.988)\n",
      " * Prec@1 11.410\n",
      "alpha1 9.999961853027344\n",
      "Best prec1 :  11.410000001525878\n",
      "current lr 3.34000e-04\n"
     ]
    },
    {
     "data": {
      "application/vnd.jupyter.widget-view+json": {
       "model_id": "4e7ba720095e4f9da4bb10f31a2dadf1",
       "version_major": 2,
       "version_minor": 0
      },
      "text/plain": [
       "  0%|          | 0/40 [00:00<?, ?it/s]"
      ]
     },
     "metadata": {},
     "output_type": "display_data"
    },
    {
     "name": "stdout",
     "output_type": "stream",
     "text": [
      "Epoch: [1][0/40]\tTime 1.562 (1.562)\tData 1.314 (1.314)\tLoss 2.9409 (2.9409)\tPrec@1 9.961 (9.961)\n",
      "Test: [0/10]\tTime 0.742 (0.742)\tLoss 1.9305 (1.9305)\tPrec@1 29.492 (29.492)\n",
      " * Prec@1 30.740\n",
      "alpha1 9.986610412597656\n",
      "Best prec1 :  30.73999990234375\n",
      "current lr 6.67000e-04\n"
     ]
    },
    {
     "data": {
      "application/vnd.jupyter.widget-view+json": {
       "model_id": "c8a0970274ae4054b3388b46e076e788",
       "version_major": 2,
       "version_minor": 0
      },
      "text/plain": [
       "  0%|          | 0/40 [00:00<?, ?it/s]"
      ]
     },
     "metadata": {},
     "output_type": "display_data"
    },
    {
     "name": "stdout",
     "output_type": "stream",
     "text": [
      "Epoch: [2][0/40]\tTime 1.744 (1.744)\tData 1.495 (1.495)\tLoss 2.1294 (2.1294)\tPrec@1 29.102 (29.102)\n",
      "Test: [0/10]\tTime 0.698 (0.698)\tLoss 1.8105 (1.8105)\tPrec@1 34.961 (34.961)\n",
      " * Prec@1 34.530\n",
      "alpha1 9.959967613220215\n",
      "Best prec1 :  34.530000024414065\n",
      "current lr 1.00000e-03\n"
     ]
    },
    {
     "data": {
      "application/vnd.jupyter.widget-view+json": {
       "model_id": "4f9420c4b22f40ea9b655bc9e6dbb406",
       "version_major": 2,
       "version_minor": 0
      },
      "text/plain": [
       "  0%|          | 0/40 [00:00<?, ?it/s]"
      ]
     },
     "metadata": {},
     "output_type": "display_data"
    },
    {
     "name": "stdout",
     "output_type": "stream",
     "text": [
      "Epoch: [3][0/40]\tTime 1.322 (1.322)\tData 1.073 (1.073)\tLoss 1.9965 (1.9965)\tPrec@1 34.766 (34.766)\n",
      "Test: [0/10]\tTime 0.731 (0.731)\tLoss 1.7207 (1.7207)\tPrec@1 38.672 (38.672)\n",
      " * Prec@1 38.220\n",
      "alpha1 9.920103073120117\n",
      "Best prec1 :  38.219999853515624\n",
      "current lr 9.99938e-04\n"
     ]
    },
    {
     "data": {
      "application/vnd.jupyter.widget-view+json": {
       "model_id": "6900b63ed4c24e6eb35c716cfef90503",
       "version_major": 2,
       "version_minor": 0
      },
      "text/plain": [
       "  0%|          | 0/40 [00:00<?, ?it/s]"
      ]
     },
     "metadata": {},
     "output_type": "display_data"
    },
    {
     "name": "stdout",
     "output_type": "stream",
     "text": [
      "Epoch: [4][0/40]\tTime 1.442 (1.442)\tData 1.192 (1.192)\tLoss 1.8982 (1.8982)\tPrec@1 39.551 (39.551)\n",
      "Test: [0/10]\tTime 0.669 (0.669)\tLoss 1.6520 (1.6520)\tPrec@1 39.648 (39.648)\n",
      " * Prec@1 39.530\n",
      "alpha1 9.880339622497559\n",
      "Best prec1 :  39.52999993896484\n",
      "current lr 9.99754e-04\n"
     ]
    },
    {
     "data": {
      "application/vnd.jupyter.widget-view+json": {
       "model_id": "0d0c24f98787418dbc532ce0f857a0fb",
       "version_major": 2,
       "version_minor": 0
      },
      "text/plain": [
       "  0%|          | 0/40 [00:00<?, ?it/s]"
      ]
     },
     "metadata": {},
     "output_type": "display_data"
    },
    {
     "name": "stdout",
     "output_type": "stream",
     "text": [
      "Epoch: [5][0/40]\tTime 1.381 (1.381)\tData 1.132 (1.132)\tLoss 1.9022 (1.9022)\tPrec@1 36.719 (36.719)\n",
      "Test: [0/10]\tTime 0.642 (0.642)\tLoss 1.5910 (1.5910)\tPrec@1 42.969 (42.969)\n",
      " * Prec@1 43.220\n",
      "alpha1 9.840672492980957\n",
      "Best prec1 :  43.21999984130859\n",
      "current lr 9.99445e-04\n"
     ]
    },
    {
     "data": {
      "application/vnd.jupyter.widget-view+json": {
       "model_id": "fb1ad634e04b40018ef782364cb7a455",
       "version_major": 2,
       "version_minor": 0
      },
      "text/plain": [
       "  0%|          | 0/40 [00:00<?, ?it/s]"
      ]
     },
     "metadata": {},
     "output_type": "display_data"
    },
    {
     "name": "stdout",
     "output_type": "stream",
     "text": [
      "Epoch: [6][0/40]\tTime 1.435 (1.435)\tData 1.185 (1.185)\tLoss 1.8021 (1.8021)\tPrec@1 43.750 (43.750)\n",
      "Test: [0/10]\tTime 0.682 (0.682)\tLoss 1.4659 (1.4659)\tPrec@1 45.703 (45.703)\n",
      " * Prec@1 45.910\n",
      "alpha1 9.801104545593262\n",
      "Best prec1 :  45.90999996948242\n",
      "current lr 9.99014e-04\n"
     ]
    },
    {
     "data": {
      "application/vnd.jupyter.widget-view+json": {
       "model_id": "38c1e6cb664e474ca45a897979cb5f47",
       "version_major": 2,
       "version_minor": 0
      },
      "text/plain": [
       "  0%|          | 0/40 [00:00<?, ?it/s]"
      ]
     },
     "metadata": {},
     "output_type": "display_data"
    },
    {
     "name": "stdout",
     "output_type": "stream",
     "text": [
      "Epoch: [7][0/40]\tTime 1.371 (1.371)\tData 1.121 (1.121)\tLoss 1.6722 (1.6722)\tPrec@1 45.996 (45.996)\n",
      "Test: [0/10]\tTime 0.679 (0.679)\tLoss 1.6333 (1.6333)\tPrec@1 47.559 (47.559)\n",
      " * Prec@1 42.400\n",
      "alpha1 9.761632919311523\n",
      "Best prec1 :  45.90999996948242\n",
      "current lr 9.98460e-04\n"
     ]
    },
    {
     "data": {
      "application/vnd.jupyter.widget-view+json": {
       "model_id": "c19d676526504665b21e5036caadba83",
       "version_major": 2,
       "version_minor": 0
      },
      "text/plain": [
       "  0%|          | 0/40 [00:00<?, ?it/s]"
      ]
     },
     "metadata": {},
     "output_type": "display_data"
    },
    {
     "name": "stdout",
     "output_type": "stream",
     "text": [
      "Epoch: [8][0/40]\tTime 1.619 (1.619)\tData 1.369 (1.369)\tLoss 1.6702 (1.6702)\tPrec@1 48.242 (48.242)\n",
      "Test: [0/10]\tTime 0.743 (0.743)\tLoss 1.5518 (1.5518)\tPrec@1 44.336 (44.336)\n",
      " * Prec@1 44.510\n",
      "alpha1 9.722261428833008\n",
      "Best prec1 :  45.90999996948242\n",
      "current lr 9.97783e-04\n"
     ]
    },
    {
     "data": {
      "application/vnd.jupyter.widget-view+json": {
       "model_id": "333dcb134f654472b9ba22de73b0cca9",
       "version_major": 2,
       "version_minor": 0
      },
      "text/plain": [
       "  0%|          | 0/40 [00:00<?, ?it/s]"
      ]
     },
     "metadata": {},
     "output_type": "display_data"
    },
    {
     "name": "stdout",
     "output_type": "stream",
     "text": [
      "Epoch: [9][0/40]\tTime 1.670 (1.670)\tData 1.420 (1.420)\tLoss 1.7029 (1.7029)\tPrec@1 45.312 (45.312)\n",
      "Test: [0/10]\tTime 0.626 (0.626)\tLoss 1.4052 (1.4052)\tPrec@1 50.488 (50.488)\n",
      " * Prec@1 47.620\n",
      "alpha1 9.682992935180664\n",
      "Best prec1 :  47.62000003051758\n",
      "current lr 9.96983e-04\n"
     ]
    },
    {
     "data": {
      "application/vnd.jupyter.widget-view+json": {
       "model_id": "65ec925f03ac4b67b6bb6ce7d546621b",
       "version_major": 2,
       "version_minor": 0
      },
      "text/plain": [
       "  0%|          | 0/40 [00:00<?, ?it/s]"
      ]
     },
     "metadata": {},
     "output_type": "display_data"
    },
    {
     "name": "stdout",
     "output_type": "stream",
     "text": [
      "Epoch: [10][0/40]\tTime 1.300 (1.300)\tData 1.050 (1.050)\tLoss 1.6291 (1.6291)\tPrec@1 48.145 (48.145)\n",
      "Test: [0/10]\tTime 0.738 (0.738)\tLoss 1.3979 (1.3979)\tPrec@1 50.195 (50.195)\n",
      " * Prec@1 48.020\n",
      "alpha1 9.643830299377441\n",
      "Best prec1 :  48.02000008544922\n",
      "current lr 9.96061e-04\n"
     ]
    },
    {
     "data": {
      "application/vnd.jupyter.widget-view+json": {
       "model_id": "f56f7db8dc054d3abb1f042932a04ea7",
       "version_major": 2,
       "version_minor": 0
      },
      "text/plain": [
       "  0%|          | 0/40 [00:00<?, ?it/s]"
      ]
     },
     "metadata": {},
     "output_type": "display_data"
    },
    {
     "name": "stdout",
     "output_type": "stream",
     "text": [
      "Epoch: [11][0/40]\tTime 1.627 (1.627)\tData 1.377 (1.377)\tLoss 1.7065 (1.7065)\tPrec@1 46.777 (46.777)\n",
      "Test: [0/10]\tTime 0.691 (0.691)\tLoss 1.2857 (1.2857)\tPrec@1 54.492 (54.492)\n",
      " * Prec@1 52.400\n",
      "alpha1 9.604776382446289\n",
      "Best prec1 :  52.40000010986328\n",
      "current lr 9.95017e-04\n"
     ]
    },
    {
     "data": {
      "application/vnd.jupyter.widget-view+json": {
       "model_id": "8edc627479b84763a27eb1f71d5a86e5",
       "version_major": 2,
       "version_minor": 0
      },
      "text/plain": [
       "  0%|          | 0/40 [00:00<?, ?it/s]"
      ]
     },
     "metadata": {},
     "output_type": "display_data"
    },
    {
     "name": "stdout",
     "output_type": "stream",
     "text": [
      "Epoch: [12][0/40]\tTime 1.223 (1.223)\tData 0.973 (0.973)\tLoss 1.5363 (1.5363)\tPrec@1 49.707 (49.707)\n",
      "Test: [0/10]\tTime 0.632 (0.632)\tLoss 1.4388 (1.4388)\tPrec@1 50.684 (50.684)\n",
      " * Prec@1 48.730\n",
      "alpha1 9.565834045410156\n",
      "Best prec1 :  52.40000010986328\n",
      "current lr 9.93850e-04\n"
     ]
    },
    {
     "data": {
      "application/vnd.jupyter.widget-view+json": {
       "model_id": "54c85304138a4a0fb67488bf80fe65dd",
       "version_major": 2,
       "version_minor": 0
      },
      "text/plain": [
       "  0%|          | 0/40 [00:00<?, ?it/s]"
      ]
     },
     "metadata": {},
     "output_type": "display_data"
    },
    {
     "name": "stdout",
     "output_type": "stream",
     "text": [
      "Epoch: [13][0/40]\tTime 1.240 (1.240)\tData 0.991 (0.991)\tLoss 1.6292 (1.6292)\tPrec@1 49.316 (49.316)\n",
      "Test: [0/10]\tTime 0.656 (0.656)\tLoss 1.3473 (1.3473)\tPrec@1 54.004 (54.004)\n",
      " * Prec@1 50.830\n",
      "alpha1 9.527007102966309\n",
      "Best prec1 :  52.40000010986328\n",
      "current lr 9.92562e-04\n"
     ]
    },
    {
     "data": {
      "application/vnd.jupyter.widget-view+json": {
       "model_id": "41471f999bed4975bdacc4c9e2a24cf6",
       "version_major": 2,
       "version_minor": 0
      },
      "text/plain": [
       "  0%|          | 0/40 [00:00<?, ?it/s]"
      ]
     },
     "metadata": {},
     "output_type": "display_data"
    },
    {
     "name": "stdout",
     "output_type": "stream",
     "text": [
      "Epoch: [14][0/40]\tTime 1.766 (1.766)\tData 1.516 (1.516)\tLoss 1.5236 (1.5236)\tPrec@1 51.855 (51.855)\n",
      "Test: [0/10]\tTime 0.685 (0.685)\tLoss 1.2944 (1.2944)\tPrec@1 55.078 (55.078)\n",
      " * Prec@1 52.540\n",
      "alpha1 9.488299369812012\n",
      "Best prec1 :  52.54000004882813\n",
      "current lr 9.91152e-04\n"
     ]
    },
    {
     "data": {
      "application/vnd.jupyter.widget-view+json": {
       "model_id": "f94b625a97d64415aeb6d366e47b67a7",
       "version_major": 2,
       "version_minor": 0
      },
      "text/plain": [
       "  0%|          | 0/40 [00:00<?, ?it/s]"
      ]
     },
     "metadata": {},
     "output_type": "display_data"
    },
    {
     "name": "stdout",
     "output_type": "stream",
     "text": [
      "Epoch: [15][0/40]\tTime 1.690 (1.690)\tData 1.440 (1.440)\tLoss 1.5426 (1.5426)\tPrec@1 50.586 (50.586)\n",
      "Test: [0/10]\tTime 0.629 (0.629)\tLoss 1.2445 (1.2445)\tPrec@1 56.543 (56.543)\n",
      " * Prec@1 54.600\n",
      "alpha1 9.449712753295898\n",
      "Best prec1 :  54.59999982299804\n",
      "current lr 9.89622e-04\n"
     ]
    },
    {
     "data": {
      "application/vnd.jupyter.widget-view+json": {
       "model_id": "7c5aa783df20439cb2dd0734426d08ee",
       "version_major": 2,
       "version_minor": 0
      },
      "text/plain": [
       "  0%|          | 0/40 [00:00<?, ?it/s]"
      ]
     },
     "metadata": {},
     "output_type": "display_data"
    },
    {
     "name": "stdout",
     "output_type": "stream",
     "text": [
      "Epoch: [16][0/40]\tTime 1.347 (1.347)\tData 1.097 (1.097)\tLoss 1.4983 (1.4983)\tPrec@1 53.418 (53.418)\n",
      "Test: [0/10]\tTime 0.737 (0.737)\tLoss 1.1889 (1.1889)\tPrec@1 57.910 (57.910)\n",
      " * Prec@1 55.650\n",
      "alpha1 9.411249160766602\n",
      "Best prec1 :  55.650000042724606\n",
      "current lr 9.87970e-04\n"
     ]
    },
    {
     "data": {
      "application/vnd.jupyter.widget-view+json": {
       "model_id": "fa559a180dbd48428709d71ae6a5a631",
       "version_major": 2,
       "version_minor": 0
      },
      "text/plain": [
       "  0%|          | 0/40 [00:00<?, ?it/s]"
      ]
     },
     "metadata": {},
     "output_type": "display_data"
    },
    {
     "name": "stdout",
     "output_type": "stream",
     "text": [
      "Epoch: [17][0/40]\tTime 1.266 (1.266)\tData 1.016 (1.016)\tLoss 1.5398 (1.5398)\tPrec@1 51.660 (51.660)\n",
      "Test: [0/10]\tTime 0.709 (0.709)\tLoss 1.2494 (1.2494)\tPrec@1 56.348 (56.348)\n",
      " * Prec@1 55.440\n",
      "alpha1 9.372915267944336\n",
      "Best prec1 :  55.650000042724606\n",
      "current lr 9.86199e-04\n"
     ]
    },
    {
     "data": {
      "application/vnd.jupyter.widget-view+json": {
       "model_id": "6b54667e964a436fb62ab359b77752e4",
       "version_major": 2,
       "version_minor": 0
      },
      "text/plain": [
       "  0%|          | 0/40 [00:00<?, ?it/s]"
      ]
     },
     "metadata": {},
     "output_type": "display_data"
    },
    {
     "name": "stdout",
     "output_type": "stream",
     "text": [
      "Epoch: [18][0/40]\tTime 1.422 (1.422)\tData 1.172 (1.172)\tLoss 1.4817 (1.4817)\tPrec@1 52.539 (52.539)\n",
      "Test: [0/10]\tTime 0.638 (0.638)\tLoss 1.1332 (1.1332)\tPrec@1 59.766 (59.766)\n",
      " * Prec@1 57.250\n",
      "alpha1 9.334712028503418\n",
      "Best prec1 :  57.250000036621095\n",
      "current lr 9.84307e-04\n"
     ]
    },
    {
     "data": {
      "application/vnd.jupyter.widget-view+json": {
       "model_id": "b7d348185cad49999695b4732719b3c3",
       "version_major": 2,
       "version_minor": 0
      },
      "text/plain": [
       "  0%|          | 0/40 [00:00<?, ?it/s]"
      ]
     },
     "metadata": {},
     "output_type": "display_data"
    },
    {
     "name": "stdout",
     "output_type": "stream",
     "text": [
      "Epoch: [19][0/40]\tTime 1.447 (1.447)\tData 1.197 (1.197)\tLoss 1.3927 (1.3927)\tPrec@1 53.906 (53.906)\n",
      "Test: [0/10]\tTime 0.770 (0.770)\tLoss 1.2931 (1.2931)\tPrec@1 54.785 (54.785)\n",
      " * Prec@1 54.040\n",
      "alpha1 9.296646118164062\n",
      "Best prec1 :  57.250000036621095\n",
      "current lr 9.82296e-04\n"
     ]
    },
    {
     "data": {
      "application/vnd.jupyter.widget-view+json": {
       "model_id": "c91c93507e13479aa9dea4651618850b",
       "version_major": 2,
       "version_minor": 0
      },
      "text/plain": [
       "  0%|          | 0/40 [00:00<?, ?it/s]"
      ]
     },
     "metadata": {},
     "output_type": "display_data"
    },
    {
     "name": "stdout",
     "output_type": "stream",
     "text": [
      "Epoch: [20][0/40]\tTime 1.375 (1.375)\tData 1.125 (1.125)\tLoss 1.4264 (1.4264)\tPrec@1 54.004 (54.004)\n",
      "Test: [0/10]\tTime 0.864 (0.864)\tLoss 1.1671 (1.1671)\tPrec@1 58.691 (58.691)\n",
      " * Prec@1 57.430\n",
      "alpha1 9.25871467590332\n",
      "Best prec1 :  57.43000009765625\n",
      "current lr 9.80167e-04\n"
     ]
    },
    {
     "data": {
      "application/vnd.jupyter.widget-view+json": {
       "model_id": "765acf89c7be468d86e80c3247ee8461",
       "version_major": 2,
       "version_minor": 0
      },
      "text/plain": [
       "  0%|          | 0/40 [00:00<?, ?it/s]"
      ]
     },
     "metadata": {},
     "output_type": "display_data"
    },
    {
     "name": "stdout",
     "output_type": "stream",
     "text": [
      "Epoch: [21][0/40]\tTime 1.729 (1.729)\tData 1.480 (1.480)\tLoss 1.3930 (1.3930)\tPrec@1 58.105 (58.105)\n",
      "Test: [0/10]\tTime 0.918 (0.918)\tLoss 1.1972 (1.1972)\tPrec@1 59.375 (59.375)\n",
      " * Prec@1 57.020\n",
      "alpha1 9.220929145812988\n",
      "Best prec1 :  57.43000009765625\n",
      "current lr 9.77919e-04\n"
     ]
    },
    {
     "data": {
      "application/vnd.jupyter.widget-view+json": {
       "model_id": "fd3c4f0edf7f4c8784fe0daf4bbaf17d",
       "version_major": 2,
       "version_minor": 0
      },
      "text/plain": [
       "  0%|          | 0/40 [00:00<?, ?it/s]"
      ]
     },
     "metadata": {},
     "output_type": "display_data"
    },
    {
     "name": "stdout",
     "output_type": "stream",
     "text": [
      "Epoch: [22][0/40]\tTime 1.560 (1.560)\tData 1.311 (1.311)\tLoss 1.4096 (1.4096)\tPrec@1 55.078 (55.078)\n",
      "Test: [0/10]\tTime 0.929 (0.929)\tLoss 1.1796 (1.1796)\tPrec@1 57.520 (57.520)\n",
      " * Prec@1 57.620\n",
      "alpha1 9.183290481567383\n",
      "Best prec1 :  57.61999991455078\n",
      "current lr 9.75553e-04\n"
     ]
    },
    {
     "data": {
      "application/vnd.jupyter.widget-view+json": {
       "model_id": "03d655bda0d24d888068b7eb7a0b8409",
       "version_major": 2,
       "version_minor": 0
      },
      "text/plain": [
       "  0%|          | 0/40 [00:00<?, ?it/s]"
      ]
     },
     "metadata": {},
     "output_type": "display_data"
    },
    {
     "name": "stdout",
     "output_type": "stream",
     "text": [
      "Epoch: [23][0/40]\tTime 1.425 (1.425)\tData 1.175 (1.175)\tLoss 1.3569 (1.3569)\tPrec@1 57.227 (57.227)\n",
      "Test: [0/10]\tTime 0.891 (0.891)\tLoss 1.1239 (1.1239)\tPrec@1 59.863 (59.863)\n",
      " * Prec@1 58.110\n",
      "alpha1 9.145798683166504\n",
      "Best prec1 :  58.10999993286133\n",
      "current lr 9.73070e-04\n"
     ]
    },
    {
     "data": {
      "application/vnd.jupyter.widget-view+json": {
       "model_id": "f5b5112b7d4c441cb38f631b9db4f84c",
       "version_major": 2,
       "version_minor": 0
      },
      "text/plain": [
       "  0%|          | 0/40 [00:00<?, ?it/s]"
      ]
     },
     "metadata": {},
     "output_type": "display_data"
    },
    {
     "name": "stdout",
     "output_type": "stream",
     "text": [
      "Epoch: [24][0/40]\tTime 1.609 (1.609)\tData 1.359 (1.359)\tLoss 1.3648 (1.3648)\tPrec@1 57.617 (57.617)\n",
      "Test: [0/10]\tTime 0.629 (0.629)\tLoss 1.1493 (1.1493)\tPrec@1 58.398 (58.398)\n",
      " * Prec@1 57.770\n",
      "alpha1 9.108458518981934\n",
      "Best prec1 :  58.10999993286133\n",
      "current lr 9.70470e-04\n"
     ]
    },
    {
     "data": {
      "application/vnd.jupyter.widget-view+json": {
       "model_id": "65f65e7f56f84682a9d8fa8d4c01694c",
       "version_major": 2,
       "version_minor": 0
      },
      "text/plain": [
       "  0%|          | 0/40 [00:00<?, ?it/s]"
      ]
     },
     "metadata": {},
     "output_type": "display_data"
    },
    {
     "name": "stdout",
     "output_type": "stream",
     "text": [
      "Epoch: [25][0/40]\tTime 1.740 (1.740)\tData 1.490 (1.490)\tLoss 1.3457 (1.3457)\tPrec@1 57.031 (57.031)\n",
      "Test: [0/10]\tTime 0.687 (0.687)\tLoss 1.0790 (1.0790)\tPrec@1 62.695 (62.695)\n",
      " * Prec@1 59.670\n",
      "alpha1 9.071272850036621\n",
      "Best prec1 :  59.67000003051758\n",
      "current lr 9.67754e-04\n"
     ]
    },
    {
     "data": {
      "application/vnd.jupyter.widget-view+json": {
       "model_id": "7665fc7f96294a9baa534b4a678a17ae",
       "version_major": 2,
       "version_minor": 0
      },
      "text/plain": [
       "  0%|          | 0/40 [00:00<?, ?it/s]"
      ]
     },
     "metadata": {},
     "output_type": "display_data"
    },
    {
     "name": "stdout",
     "output_type": "stream",
     "text": [
      "Epoch: [26][0/40]\tTime 1.686 (1.686)\tData 1.436 (1.436)\tLoss 1.3022 (1.3022)\tPrec@1 60.645 (60.645)\n",
      "Test: [0/10]\tTime 0.616 (0.616)\tLoss 1.0343 (1.0343)\tPrec@1 64.062 (64.062)\n",
      " * Prec@1 62.430\n",
      "alpha1 9.034245491027832\n",
      "Best prec1 :  62.429999981689456\n",
      "current lr 9.64923e-04\n"
     ]
    },
    {
     "data": {
      "application/vnd.jupyter.widget-view+json": {
       "model_id": "68d9f8d3e6f6412eb20c3587d9c67fac",
       "version_major": 2,
       "version_minor": 0
      },
      "text/plain": [
       "  0%|          | 0/40 [00:00<?, ?it/s]"
      ]
     },
     "metadata": {},
     "output_type": "display_data"
    },
    {
     "name": "stdout",
     "output_type": "stream",
     "text": [
      "Epoch: [27][0/40]\tTime 1.490 (1.490)\tData 1.240 (1.240)\tLoss 1.3406 (1.3406)\tPrec@1 57.910 (57.910)\n",
      "Test: [0/10]\tTime 0.685 (0.685)\tLoss 1.1002 (1.1002)\tPrec@1 62.402 (62.402)\n",
      " * Prec@1 59.690\n",
      "alpha1 8.997376441955566\n",
      "Best prec1 :  62.429999981689456\n",
      "current lr 9.61978e-04\n"
     ]
    },
    {
     "data": {
      "application/vnd.jupyter.widget-view+json": {
       "model_id": "23a42d0feaa74c899093d16d8d5a1002",
       "version_major": 2,
       "version_minor": 0
      },
      "text/plain": [
       "  0%|          | 0/40 [00:00<?, ?it/s]"
      ]
     },
     "metadata": {},
     "output_type": "display_data"
    },
    {
     "name": "stdout",
     "output_type": "stream",
     "text": [
      "Epoch: [28][0/40]\tTime 1.535 (1.535)\tData 1.285 (1.285)\tLoss 1.3325 (1.3325)\tPrec@1 56.641 (56.641)\n",
      "Test: [0/10]\tTime 0.625 (0.625)\tLoss 1.0518 (1.0518)\tPrec@1 64.551 (64.551)\n",
      " * Prec@1 62.230\n",
      "alpha1 8.960668563842773\n",
      "Best prec1 :  62.429999981689456\n",
      "current lr 9.58918e-04\n"
     ]
    },
    {
     "data": {
      "application/vnd.jupyter.widget-view+json": {
       "model_id": "81717fcf6bd8467e8dc6243c136d3796",
       "version_major": 2,
       "version_minor": 0
      },
      "text/plain": [
       "  0%|          | 0/40 [00:00<?, ?it/s]"
      ]
     },
     "metadata": {},
     "output_type": "display_data"
    },
    {
     "name": "stdout",
     "output_type": "stream",
     "text": [
      "Epoch: [29][0/40]\tTime 1.692 (1.692)\tData 1.442 (1.442)\tLoss 1.3068 (1.3068)\tPrec@1 60.840 (60.840)\n",
      "Test: [0/10]\tTime 0.631 (0.631)\tLoss 1.0319 (1.0319)\tPrec@1 63.672 (63.672)\n",
      " * Prec@1 62.160\n",
      "alpha1 8.92413330078125\n",
      "Best prec1 :  62.429999981689456\n",
      "current lr 9.55746e-04\n"
     ]
    },
    {
     "data": {
      "application/vnd.jupyter.widget-view+json": {
       "model_id": "90a3479f351345828882e1a5c928b7a2",
       "version_major": 2,
       "version_minor": 0
      },
      "text/plain": [
       "  0%|          | 0/40 [00:00<?, ?it/s]"
      ]
     },
     "metadata": {},
     "output_type": "display_data"
    },
    {
     "name": "stdout",
     "output_type": "stream",
     "text": [
      "Epoch: [30][0/40]\tTime 1.376 (1.376)\tData 1.126 (1.126)\tLoss 1.3200 (1.3200)\tPrec@1 59.570 (59.570)\n",
      "Test: [0/10]\tTime 0.659 (0.659)\tLoss 1.1722 (1.1722)\tPrec@1 59.180 (59.180)\n",
      " * Prec@1 57.060\n",
      "alpha1 8.887763977050781\n",
      "Best prec1 :  62.429999981689456\n",
      "current lr 9.52461e-04\n"
     ]
    },
    {
     "data": {
      "application/vnd.jupyter.widget-view+json": {
       "model_id": "047b66e7986647908d0033cb30cd7271",
       "version_major": 2,
       "version_minor": 0
      },
      "text/plain": [
       "  0%|          | 0/40 [00:00<?, ?it/s]"
      ]
     },
     "metadata": {},
     "output_type": "display_data"
    },
    {
     "name": "stdout",
     "output_type": "stream",
     "text": [
      "Epoch: [31][0/40]\tTime 1.322 (1.322)\tData 1.072 (1.072)\tLoss 1.2482 (1.2482)\tPrec@1 61.621 (61.621)\n",
      "Test: [0/10]\tTime 0.743 (0.743)\tLoss 1.0142 (1.0142)\tPrec@1 64.941 (64.941)\n",
      " * Prec@1 63.190\n",
      "alpha1 8.851572036743164\n",
      "Best prec1 :  63.189999694824216\n",
      "current lr 9.49065e-04\n"
     ]
    },
    {
     "data": {
      "application/vnd.jupyter.widget-view+json": {
       "model_id": "412f468211b4428caa1fe6c3402c958d",
       "version_major": 2,
       "version_minor": 0
      },
      "text/plain": [
       "  0%|          | 0/40 [00:00<?, ?it/s]"
      ]
     },
     "metadata": {},
     "output_type": "display_data"
    },
    {
     "name": "stdout",
     "output_type": "stream",
     "text": [
      "Epoch: [32][0/40]\tTime 1.442 (1.442)\tData 1.193 (1.193)\tLoss 1.2303 (1.2303)\tPrec@1 62.793 (62.793)\n",
      "Test: [0/10]\tTime 0.649 (0.649)\tLoss 1.0220 (1.0220)\tPrec@1 64.062 (64.062)\n",
      " * Prec@1 62.140\n",
      "alpha1 8.8155517578125\n",
      "Best prec1 :  63.189999694824216\n",
      "current lr 9.45558e-04\n"
     ]
    },
    {
     "data": {
      "application/vnd.jupyter.widget-view+json": {
       "model_id": "a7497e63e1564ba4b8ddfc0a4c0052e8",
       "version_major": 2,
       "version_minor": 0
      },
      "text/plain": [
       "  0%|          | 0/40 [00:00<?, ?it/s]"
      ]
     },
     "metadata": {},
     "output_type": "display_data"
    },
    {
     "name": "stdout",
     "output_type": "stream",
     "text": [
      "Epoch: [33][0/40]\tTime 1.727 (1.727)\tData 1.476 (1.476)\tLoss 1.2859 (1.2859)\tPrec@1 57.715 (57.715)\n",
      "Test: [0/10]\tTime 0.741 (0.741)\tLoss 0.9506 (0.9506)\tPrec@1 63.477 (63.477)\n",
      " * Prec@1 64.560\n",
      "alpha1 8.779711723327637\n",
      "Best prec1 :  64.55999967041015\n",
      "current lr 9.41941e-04\n"
     ]
    },
    {
     "data": {
      "application/vnd.jupyter.widget-view+json": {
       "model_id": "39e05390625e4c2784434a8ef1fdbb28",
       "version_major": 2,
       "version_minor": 0
      },
      "text/plain": [
       "  0%|          | 0/40 [00:00<?, ?it/s]"
      ]
     },
     "metadata": {},
     "output_type": "display_data"
    },
    {
     "name": "stdout",
     "output_type": "stream",
     "text": [
      "Epoch: [34][0/40]\tTime 1.544 (1.544)\tData 1.294 (1.294)\tLoss 1.2621 (1.2621)\tPrec@1 61.328 (61.328)\n",
      "Test: [0/10]\tTime 0.650 (0.650)\tLoss 0.9639 (0.9639)\tPrec@1 65.820 (65.820)\n",
      " * Prec@1 64.500\n",
      "alpha1 8.744054794311523\n",
      "Best prec1 :  64.55999967041015\n",
      "current lr 9.38215e-04\n"
     ]
    },
    {
     "data": {
      "application/vnd.jupyter.widget-view+json": {
       "model_id": "e5c55128e37748c0960807393c97c16f",
       "version_major": 2,
       "version_minor": 0
      },
      "text/plain": [
       "  0%|          | 0/40 [00:00<?, ?it/s]"
      ]
     },
     "metadata": {},
     "output_type": "display_data"
    },
    {
     "name": "stdout",
     "output_type": "stream",
     "text": [
      "Epoch: [35][0/40]\tTime 1.267 (1.267)\tData 1.017 (1.017)\tLoss 1.2373 (1.2373)\tPrec@1 60.645 (60.645)\n",
      "Test: [0/10]\tTime 0.627 (0.627)\tLoss 1.0090 (1.0090)\tPrec@1 65.820 (65.820)\n",
      " * Prec@1 63.040\n",
      "alpha1 8.708582878112793\n",
      "Best prec1 :  64.55999967041015\n",
      "current lr 9.34381e-04\n"
     ]
    },
    {
     "data": {
      "application/vnd.jupyter.widget-view+json": {
       "model_id": "cc504c8dac8541cdb3ce1686b32511f7",
       "version_major": 2,
       "version_minor": 0
      },
      "text/plain": [
       "  0%|          | 0/40 [00:00<?, ?it/s]"
      ]
     },
     "metadata": {},
     "output_type": "display_data"
    },
    {
     "name": "stdout",
     "output_type": "stream",
     "text": [
      "Epoch: [36][0/40]\tTime 1.618 (1.618)\tData 1.369 (1.369)\tLoss 1.2254 (1.2254)\tPrec@1 62.207 (62.207)\n",
      "Test: [0/10]\tTime 0.690 (0.690)\tLoss 1.0084 (1.0084)\tPrec@1 64.355 (64.355)\n",
      " * Prec@1 63.920\n",
      "alpha1 8.673295974731445\n",
      "Best prec1 :  64.55999967041015\n",
      "current lr 9.30441e-04\n"
     ]
    },
    {
     "data": {
      "application/vnd.jupyter.widget-view+json": {
       "model_id": "d79f732eb5134e1592962f26de8db503",
       "version_major": 2,
       "version_minor": 0
      },
      "text/plain": [
       "  0%|          | 0/40 [00:00<?, ?it/s]"
      ]
     },
     "metadata": {},
     "output_type": "display_data"
    },
    {
     "name": "stdout",
     "output_type": "stream",
     "text": [
      "Epoch: [37][0/40]\tTime 1.671 (1.671)\tData 1.421 (1.421)\tLoss 1.2140 (1.2140)\tPrec@1 60.938 (60.938)\n",
      "Test: [0/10]\tTime 0.753 (0.753)\tLoss 1.0413 (1.0413)\tPrec@1 64.160 (64.160)\n",
      " * Prec@1 62.250\n",
      "alpha1 8.638197898864746\n",
      "Best prec1 :  64.55999967041015\n",
      "current lr 9.26394e-04\n"
     ]
    },
    {
     "data": {
      "application/vnd.jupyter.widget-view+json": {
       "model_id": "cb32f7d404e14173b12dd2a96e5eb35e",
       "version_major": 2,
       "version_minor": 0
      },
      "text/plain": [
       "  0%|          | 0/40 [00:00<?, ?it/s]"
      ]
     },
     "metadata": {},
     "output_type": "display_data"
    },
    {
     "name": "stdout",
     "output_type": "stream",
     "text": [
      "Epoch: [38][0/40]\tTime 1.681 (1.681)\tData 1.431 (1.431)\tLoss 1.2725 (1.2725)\tPrec@1 59.375 (59.375)\n",
      "Test: [0/10]\tTime 0.638 (0.638)\tLoss 1.0261 (1.0261)\tPrec@1 63.672 (63.672)\n",
      " * Prec@1 62.720\n",
      "alpha1 8.603294372558594\n",
      "Best prec1 :  64.55999967041015\n",
      "current lr 9.22242e-04\n"
     ]
    },
    {
     "data": {
      "application/vnd.jupyter.widget-view+json": {
       "model_id": "858d15d02f4e4771a5b5045d76aaaba0",
       "version_major": 2,
       "version_minor": 0
      },
      "text/plain": [
       "  0%|          | 0/40 [00:00<?, ?it/s]"
      ]
     },
     "metadata": {},
     "output_type": "display_data"
    },
    {
     "name": "stdout",
     "output_type": "stream",
     "text": [
      "Epoch: [39][0/40]\tTime 1.246 (1.246)\tData 0.996 (0.996)\tLoss 1.2617 (1.2617)\tPrec@1 61.816 (61.816)\n",
      "Test: [0/10]\tTime 0.759 (0.759)\tLoss 0.9508 (0.9508)\tPrec@1 66.602 (66.602)\n",
      " * Prec@1 65.270\n",
      "alpha1 8.568586349487305\n",
      "Best prec1 :  65.26999995117187\n",
      "current lr 9.17986e-04\n"
     ]
    },
    {
     "data": {
      "application/vnd.jupyter.widget-view+json": {
       "model_id": "11caa7cc790e411a947958302aa38220",
       "version_major": 2,
       "version_minor": 0
      },
      "text/plain": [
       "  0%|          | 0/40 [00:00<?, ?it/s]"
      ]
     },
     "metadata": {},
     "output_type": "display_data"
    },
    {
     "name": "stdout",
     "output_type": "stream",
     "text": [
      "Epoch: [40][0/40]\tTime 1.522 (1.522)\tData 1.273 (1.273)\tLoss 1.2279 (1.2279)\tPrec@1 61.133 (61.133)\n",
      "Test: [0/10]\tTime 0.744 (0.744)\tLoss 0.9607 (0.9607)\tPrec@1 65.723 (65.723)\n",
      " * Prec@1 63.900\n",
      "alpha1 8.534075736999512\n",
      "Best prec1 :  65.26999995117187\n",
      "current lr 9.13627e-04\n"
     ]
    },
    {
     "data": {
      "application/vnd.jupyter.widget-view+json": {
       "model_id": "508158b02402479da7c57d52188605ce",
       "version_major": 2,
       "version_minor": 0
      },
      "text/plain": [
       "  0%|          | 0/40 [00:00<?, ?it/s]"
      ]
     },
     "metadata": {},
     "output_type": "display_data"
    },
    {
     "name": "stdout",
     "output_type": "stream",
     "text": [
      "Epoch: [41][0/40]\tTime 1.279 (1.279)\tData 1.029 (1.029)\tLoss 1.0945 (1.0945)\tPrec@1 67.578 (67.578)\n",
      "Test: [0/10]\tTime 0.636 (0.636)\tLoss 0.9439 (0.9439)\tPrec@1 66.797 (66.797)\n",
      " * Prec@1 64.260\n",
      "alpha1 8.49976634979248\n",
      "Best prec1 :  65.26999995117187\n",
      "current lr 9.09166e-04\n"
     ]
    },
    {
     "data": {
      "application/vnd.jupyter.widget-view+json": {
       "model_id": "3f9df5b6a29442308df027cd6a15197d",
       "version_major": 2,
       "version_minor": 0
      },
      "text/plain": [
       "  0%|          | 0/40 [00:00<?, ?it/s]"
      ]
     },
     "metadata": {},
     "output_type": "display_data"
    },
    {
     "name": "stdout",
     "output_type": "stream",
     "text": [
      "Epoch: [42][0/40]\tTime 1.490 (1.490)\tData 1.240 (1.240)\tLoss 1.2519 (1.2519)\tPrec@1 60.938 (60.938)\n",
      "Test: [0/10]\tTime 0.630 (0.630)\tLoss 0.8944 (0.8944)\tPrec@1 69.043 (69.043)\n",
      " * Prec@1 66.850\n",
      "alpha1 8.46566104888916\n",
      "Best prec1 :  66.84999986572265\n",
      "current lr 9.04604e-04\n"
     ]
    },
    {
     "data": {
      "application/vnd.jupyter.widget-view+json": {
       "model_id": "bd08f9b5340b4b8f81980cf0f95a0d13",
       "version_major": 2,
       "version_minor": 0
      },
      "text/plain": [
       "  0%|          | 0/40 [00:00<?, ?it/s]"
      ]
     },
     "metadata": {},
     "output_type": "display_data"
    },
    {
     "name": "stdout",
     "output_type": "stream",
     "text": [
      "Epoch: [43][0/40]\tTime 1.681 (1.681)\tData 1.431 (1.431)\tLoss 1.2139 (1.2139)\tPrec@1 63.184 (63.184)\n",
      "Test: [0/10]\tTime 0.626 (0.626)\tLoss 0.9144 (0.9144)\tPrec@1 67.090 (67.090)\n",
      " * Prec@1 66.770\n",
      "alpha1 8.43175983428955\n",
      "Best prec1 :  66.84999986572265\n",
      "current lr 8.99942e-04\n"
     ]
    },
    {
     "data": {
      "application/vnd.jupyter.widget-view+json": {
       "model_id": "f4fa8e2259bd4c65bbfeab7fe9b89970",
       "version_major": 2,
       "version_minor": 0
      },
      "text/plain": [
       "  0%|          | 0/40 [00:00<?, ?it/s]"
      ]
     },
     "metadata": {},
     "output_type": "display_data"
    },
    {
     "name": "stdout",
     "output_type": "stream",
     "text": [
      "Epoch: [44][0/40]\tTime 1.747 (1.747)\tData 1.497 (1.497)\tLoss 1.1820 (1.1820)\tPrec@1 62.207 (62.207)\n",
      "Test: [0/10]\tTime 0.734 (0.734)\tLoss 0.9637 (0.9637)\tPrec@1 65.430 (65.430)\n",
      " * Prec@1 65.650\n",
      "alpha1 8.398069381713867\n",
      "Best prec1 :  66.84999986572265\n",
      "current lr 8.95182e-04\n"
     ]
    },
    {
     "data": {
      "application/vnd.jupyter.widget-view+json": {
       "model_id": "fd038526a0344dd5905e39e5c256bf05",
       "version_major": 2,
       "version_minor": 0
      },
      "text/plain": [
       "  0%|          | 0/40 [00:00<?, ?it/s]"
      ]
     },
     "metadata": {},
     "output_type": "display_data"
    },
    {
     "name": "stdout",
     "output_type": "stream",
     "text": [
      "Epoch: [45][0/40]\tTime 1.651 (1.651)\tData 1.401 (1.401)\tLoss 1.1965 (1.1965)\tPrec@1 61.914 (61.914)\n",
      "Test: [0/10]\tTime 0.642 (0.642)\tLoss 0.9108 (0.9108)\tPrec@1 68.750 (68.750)\n",
      " * Prec@1 66.740\n",
      "alpha1 8.364585876464844\n",
      "Best prec1 :  66.84999986572265\n",
      "current lr 8.90325e-04\n"
     ]
    },
    {
     "data": {
      "application/vnd.jupyter.widget-view+json": {
       "model_id": "9e91681f98b345608f4b5e9d38055997",
       "version_major": 2,
       "version_minor": 0
      },
      "text/plain": [
       "  0%|          | 0/40 [00:00<?, ?it/s]"
      ]
     },
     "metadata": {},
     "output_type": "display_data"
    },
    {
     "name": "stdout",
     "output_type": "stream",
     "text": [
      "Epoch: [46][0/40]\tTime 1.720 (1.720)\tData 1.471 (1.471)\tLoss 1.1497 (1.1497)\tPrec@1 63.672 (63.672)\n",
      "Test: [0/10]\tTime 0.658 (0.658)\tLoss 0.9215 (0.9215)\tPrec@1 66.992 (66.992)\n",
      " * Prec@1 66.570\n",
      "alpha1 8.331320762634277\n",
      "Best prec1 :  66.84999986572265\n",
      "current lr 8.85371e-04\n"
     ]
    },
    {
     "data": {
      "application/vnd.jupyter.widget-view+json": {
       "model_id": "062e39657ec84c9bb141a82a684d7256",
       "version_major": 2,
       "version_minor": 0
      },
      "text/plain": [
       "  0%|          | 0/40 [00:00<?, ?it/s]"
      ]
     },
     "metadata": {},
     "output_type": "display_data"
    },
    {
     "name": "stdout",
     "output_type": "stream",
     "text": [
      "Epoch: [47][0/40]\tTime 1.727 (1.727)\tData 1.478 (1.478)\tLoss 1.1136 (1.1136)\tPrec@1 64.160 (64.160)\n",
      "Test: [0/10]\tTime 0.645 (0.645)\tLoss 0.9609 (0.9609)\tPrec@1 64.941 (64.941)\n",
      " * Prec@1 65.090\n",
      "alpha1 8.29826831817627\n",
      "Best prec1 :  66.84999986572265\n",
      "current lr 8.80323e-04\n"
     ]
    },
    {
     "data": {
      "application/vnd.jupyter.widget-view+json": {
       "model_id": "11e262135bad4ebe9bad305b17876a11",
       "version_major": 2,
       "version_minor": 0
      },
      "text/plain": [
       "  0%|          | 0/40 [00:00<?, ?it/s]"
      ]
     },
     "metadata": {},
     "output_type": "display_data"
    },
    {
     "name": "stdout",
     "output_type": "stream",
     "text": [
      "Epoch: [48][0/40]\tTime 1.275 (1.275)\tData 1.025 (1.025)\tLoss 1.1280 (1.1280)\tPrec@1 64.941 (64.941)\n",
      "Test: [0/10]\tTime 0.750 (0.750)\tLoss 0.8981 (0.8981)\tPrec@1 68.555 (68.555)\n",
      " * Prec@1 66.890\n",
      "alpha1 8.265429496765137\n",
      "Best prec1 :  66.89000008544922\n",
      "current lr 8.75180e-04\n"
     ]
    },
    {
     "data": {
      "application/vnd.jupyter.widget-view+json": {
       "model_id": "e2820b1bf06f44deabf2a2f7b905253b",
       "version_major": 2,
       "version_minor": 0
      },
      "text/plain": [
       "  0%|          | 0/40 [00:00<?, ?it/s]"
      ]
     },
     "metadata": {},
     "output_type": "display_data"
    },
    {
     "name": "stdout",
     "output_type": "stream",
     "text": [
      "Epoch: [49][0/40]\tTime 1.397 (1.397)\tData 1.147 (1.147)\tLoss 1.1202 (1.1202)\tPrec@1 64.648 (64.648)\n",
      "Test: [0/10]\tTime 0.651 (0.651)\tLoss 0.9196 (0.9196)\tPrec@1 66.406 (66.406)\n",
      " * Prec@1 66.450\n",
      "alpha1 8.232813835144043\n",
      "Best prec1 :  66.89000008544922\n",
      "current lr 8.69946e-04\n"
     ]
    },
    {
     "data": {
      "application/vnd.jupyter.widget-view+json": {
       "model_id": "cc85e0d8ed6f44bc801ab33bece028d0",
       "version_major": 2,
       "version_minor": 0
      },
      "text/plain": [
       "  0%|          | 0/40 [00:00<?, ?it/s]"
      ]
     },
     "metadata": {},
     "output_type": "display_data"
    },
    {
     "name": "stdout",
     "output_type": "stream",
     "text": [
      "Epoch: [50][0/40]\tTime 1.347 (1.347)\tData 1.096 (1.096)\tLoss 1.1061 (1.1061)\tPrec@1 67.480 (67.480)\n",
      "Test: [0/10]\tTime 0.677 (0.677)\tLoss 0.8978 (0.8978)\tPrec@1 68.164 (68.164)\n",
      " * Prec@1 66.230\n",
      "alpha1 8.20042610168457\n",
      "Best prec1 :  66.89000008544922\n",
      "current lr 8.64620e-04\n"
     ]
    },
    {
     "data": {
      "application/vnd.jupyter.widget-view+json": {
       "model_id": "7c290c3b3ca3473fb5b710e18868816e",
       "version_major": 2,
       "version_minor": 0
      },
      "text/plain": [
       "  0%|          | 0/40 [00:00<?, ?it/s]"
      ]
     },
     "metadata": {},
     "output_type": "display_data"
    },
    {
     "name": "stdout",
     "output_type": "stream",
     "text": [
      "Epoch: [51][0/40]\tTime 1.533 (1.533)\tData 1.283 (1.283)\tLoss 1.1160 (1.1160)\tPrec@1 65.527 (65.527)\n",
      "Test: [0/10]\tTime 0.717 (0.717)\tLoss 0.8598 (0.8598)\tPrec@1 69.141 (69.141)\n",
      " * Prec@1 67.080\n",
      "alpha1 8.168262481689453\n",
      "Best prec1 :  67.07999984130859\n",
      "current lr 8.59204e-04\n"
     ]
    },
    {
     "data": {
      "application/vnd.jupyter.widget-view+json": {
       "model_id": "cac54382b4704426b1dd359b0b248956",
       "version_major": 2,
       "version_minor": 0
      },
      "text/plain": [
       "  0%|          | 0/40 [00:00<?, ?it/s]"
      ]
     },
     "metadata": {},
     "output_type": "display_data"
    },
    {
     "name": "stdout",
     "output_type": "stream",
     "text": [
      "Epoch: [52][0/40]\tTime 1.263 (1.263)\tData 1.013 (1.013)\tLoss 1.1026 (1.1026)\tPrec@1 66.113 (66.113)\n",
      "Test: [0/10]\tTime 0.637 (0.637)\tLoss 0.9825 (0.9825)\tPrec@1 67.090 (67.090)\n",
      " * Prec@1 65.600\n",
      "alpha1 8.136324882507324\n",
      "Best prec1 :  67.07999984130859\n",
      "current lr 8.53700e-04\n"
     ]
    },
    {
     "data": {
      "application/vnd.jupyter.widget-view+json": {
       "model_id": "319b548ea68341f89dd1a3f8b1ec2a63",
       "version_major": 2,
       "version_minor": 0
      },
      "text/plain": [
       "  0%|          | 0/40 [00:00<?, ?it/s]"
      ]
     },
     "metadata": {},
     "output_type": "display_data"
    },
    {
     "name": "stdout",
     "output_type": "stream",
     "text": [
      "Epoch: [53][0/40]\tTime 1.349 (1.349)\tData 1.100 (1.100)\tLoss 1.0999 (1.0999)\tPrec@1 65.820 (65.820)\n",
      "Test: [0/10]\tTime 0.628 (0.628)\tLoss 0.8250 (0.8250)\tPrec@1 70.605 (70.605)\n",
      " * Prec@1 68.510\n",
      "alpha1 8.104616165161133\n",
      "Best prec1 :  68.50999997558594\n",
      "current lr 8.48108e-04\n"
     ]
    },
    {
     "data": {
      "application/vnd.jupyter.widget-view+json": {
       "model_id": "f25cafa151f348d38d2d18fe7167d30a",
       "version_major": 2,
       "version_minor": 0
      },
      "text/plain": [
       "  0%|          | 0/40 [00:00<?, ?it/s]"
      ]
     },
     "metadata": {},
     "output_type": "display_data"
    },
    {
     "name": "stdout",
     "output_type": "stream",
     "text": [
      "Epoch: [54][0/40]\tTime 1.538 (1.538)\tData 1.288 (1.288)\tLoss 1.2515 (1.2515)\tPrec@1 60.254 (60.254)\n",
      "Test: [0/10]\tTime 0.765 (0.765)\tLoss 0.8198 (0.8198)\tPrec@1 71.875 (71.875)\n",
      " * Prec@1 69.700\n",
      "alpha1 8.073141098022461\n",
      "Best prec1 :  69.69999979248047\n",
      "current lr 8.42431e-04\n"
     ]
    },
    {
     "data": {
      "application/vnd.jupyter.widget-view+json": {
       "model_id": "b307b00b1d674462a1ffcb60e8a25b85",
       "version_major": 2,
       "version_minor": 0
      },
      "text/plain": [
       "  0%|          | 0/40 [00:00<?, ?it/s]"
      ]
     },
     "metadata": {},
     "output_type": "display_data"
    },
    {
     "name": "stdout",
     "output_type": "stream",
     "text": [
      "Epoch: [55][0/40]\tTime 1.569 (1.569)\tData 1.319 (1.319)\tLoss 1.0465 (1.0465)\tPrec@1 68.555 (68.555)\n",
      "Test: [0/10]\tTime 0.722 (0.722)\tLoss 0.8414 (0.8414)\tPrec@1 70.703 (70.703)\n",
      " * Prec@1 69.470\n",
      "alpha1 8.041898727416992\n",
      "Best prec1 :  69.69999979248047\n",
      "current lr 8.36670e-04\n"
     ]
    },
    {
     "data": {
      "application/vnd.jupyter.widget-view+json": {
       "model_id": "c623920f446f4b0992b423940c6a49dc",
       "version_major": 2,
       "version_minor": 0
      },
      "text/plain": [
       "  0%|          | 0/40 [00:00<?, ?it/s]"
      ]
     },
     "metadata": {},
     "output_type": "display_data"
    },
    {
     "name": "stdout",
     "output_type": "stream",
     "text": [
      "Epoch: [56][0/40]\tTime 1.544 (1.544)\tData 1.294 (1.294)\tLoss 1.0657 (1.0657)\tPrec@1 66.797 (66.797)\n",
      "Test: [0/10]\tTime 0.758 (0.758)\tLoss 0.8379 (0.8379)\tPrec@1 69.727 (69.727)\n",
      " * Prec@1 68.730\n",
      "alpha1 8.010885238647461\n",
      "Best prec1 :  69.69999979248047\n",
      "current lr 8.30825e-04\n"
     ]
    },
    {
     "data": {
      "application/vnd.jupyter.widget-view+json": {
       "model_id": "63ddd32367854b658547c07a08bbefa0",
       "version_major": 2,
       "version_minor": 0
      },
      "text/plain": [
       "  0%|          | 0/40 [00:00<?, ?it/s]"
      ]
     },
     "metadata": {},
     "output_type": "display_data"
    },
    {
     "name": "stdout",
     "output_type": "stream",
     "text": [
      "Epoch: [57][0/40]\tTime 1.442 (1.442)\tData 1.192 (1.192)\tLoss 1.0751 (1.0751)\tPrec@1 67.383 (67.383)\n",
      "Test: [0/10]\tTime 0.646 (0.646)\tLoss 0.8371 (0.8371)\tPrec@1 70.898 (70.898)\n",
      " * Prec@1 70.000\n",
      "alpha1 7.980109214782715\n",
      "Best prec1 :  69.99999985351562\n",
      "current lr 8.24899e-04\n"
     ]
    },
    {
     "data": {
      "application/vnd.jupyter.widget-view+json": {
       "model_id": "470fb2d2fefe4f27a6bc40c5f5bf9ddd",
       "version_major": 2,
       "version_minor": 0
      },
      "text/plain": [
       "  0%|          | 0/40 [00:00<?, ?it/s]"
      ]
     },
     "metadata": {},
     "output_type": "display_data"
    },
    {
     "name": "stdout",
     "output_type": "stream",
     "text": [
      "Epoch: [58][0/40]\tTime 1.357 (1.357)\tData 1.106 (1.106)\tLoss 1.0183 (1.0183)\tPrec@1 67.480 (67.480)\n",
      "Test: [0/10]\tTime 0.648 (0.648)\tLoss 0.8914 (0.8914)\tPrec@1 69.141 (69.141)\n",
      " * Prec@1 67.100\n",
      "alpha1 7.9495720863342285\n",
      "Best prec1 :  69.99999985351562\n",
      "current lr 8.18893e-04\n"
     ]
    },
    {
     "data": {
      "application/vnd.jupyter.widget-view+json": {
       "model_id": "ec076e3c186f423f98206884e425fdc3",
       "version_major": 2,
       "version_minor": 0
      },
      "text/plain": [
       "  0%|          | 0/40 [00:00<?, ?it/s]"
      ]
     },
     "metadata": {},
     "output_type": "display_data"
    },
    {
     "name": "stdout",
     "output_type": "stream",
     "text": [
      "Epoch: [59][0/40]\tTime 1.577 (1.577)\tData 1.328 (1.328)\tLoss 1.0638 (1.0638)\tPrec@1 65.234 (65.234)\n",
      "Test: [0/10]\tTime 0.662 (0.662)\tLoss 0.8731 (0.8731)\tPrec@1 68.945 (68.945)\n",
      " * Prec@1 68.280\n",
      "alpha1 7.919276237487793\n",
      "Best prec1 :  69.99999985351562\n",
      "current lr 8.12809e-04\n"
     ]
    },
    {
     "data": {
      "application/vnd.jupyter.widget-view+json": {
       "model_id": "81cab4327dd14c82a4dc7497cf5eee70",
       "version_major": 2,
       "version_minor": 0
      },
      "text/plain": [
       "  0%|          | 0/40 [00:00<?, ?it/s]"
      ]
     },
     "metadata": {},
     "output_type": "display_data"
    },
    {
     "name": "stdout",
     "output_type": "stream",
     "text": [
      "Epoch: [60][0/40]\tTime 1.483 (1.483)\tData 1.234 (1.234)\tLoss 1.1201 (1.1201)\tPrec@1 62.793 (62.793)\n"
     ]
    }
   ],
   "source": [
    "from timm.scheduler import CosineLRScheduler\n",
    "\n",
    "for k in range(4,9):\n",
    "    net = resnet20(k=k)\n",
    "\n",
    "    model = net.cuda()\n",
    "    mixup = False\n",
    "\n",
    "    # Track experiment with wandb\n",
    "    import wandb\n",
    "    watermark = \"resnet18_uniformquantize_k{}\".format(k)\n",
    "\n",
    "    # mess with wandb\n",
    "    wandb.init(project=\"quantize_resnet\", name=watermark)\n",
    "\n",
    "    # define loss function (criterion) and pptimizer\n",
    "    criterion = nn.CrossEntropyLoss().cuda()\n",
    "\n",
    "    # optimizer for pact\n",
    "    optimizer = torch.optim.SGD(model.parameters(), lr=1e-3,\n",
    "                                momentum=0.9,\n",
    "                                weight_decay=0.0002)\n",
    "    optimizer = torch.optim.Adam(model.parameters(), lr=1e-3)\n",
    "\n",
    "    scheduler = CosineLRScheduler(optimizer, t_initial=n_epochs, lr_min=1e-6, \n",
    "                          warmup_t=3, warmup_lr_init=1e-6, warmup_prefix=True)\n",
    "\n",
    "    best_prec1 = 0\n",
    "    os.makedirs(\"models\", exist_ok=True)\n",
    "\n",
    "    for epoch in range(n_epochs):\n",
    "        scheduler.step(epoch)\n",
    "        # train for one epoch\n",
    "        print('current lr {:.5e}'.format(optimizer.param_groups[0]['lr']))\n",
    "        tloss = train(train_loader, model, criterion, optimizer, epoch)         \n",
    "\n",
    "        # evaluate on validation set\n",
    "        prec1, valloss = validate(val_loader, model, criterion)\n",
    "\n",
    "        # wandb\n",
    "        wandb.log({'epoch': epoch, \"prec\":prec1, \"train_loss\": tloss, 'val_loss': valloss, \"lr\": optimizer.param_groups[0][\"lr\"],})\n",
    "\n",
    "        # remember best prec@1 and save checkpoint\n",
    "        is_best = prec1 > best_prec1\n",
    "        best_prec1 = max(prec1, best_prec1)\n",
    "\n",
    "        print(\"Best prec1 : \", best_prec1)\n",
    "        if is_best:\n",
    "            torch.save(model.state_dict(), os.path.join(f'models/{watermark}.pth'))"
   ]
  },
  {
   "cell_type": "code",
   "execution_count": null,
   "id": "8998c803",
   "metadata": {},
   "outputs": [],
   "source": [
    "from pact_utils import TorchQuantize\n",
    "len(TorchQuantize(bits=4).forward(torch.rand(1,384)).unique())"
   ]
  },
  {
   "cell_type": "code",
   "execution_count": null,
   "id": "8d894c1f",
   "metadata": {},
   "outputs": [],
   "source": [
    "net.blocks[1].mlp.fc1.forward(torch.rand(1,384).cuda()).unique()"
   ]
  },
  {
   "cell_type": "code",
   "execution_count": null,
   "id": "75eb1382",
   "metadata": {},
   "outputs": [],
   "source": [
    "model.blocks[1].attn.qkv"
   ]
  },
  {
   "cell_type": "code",
   "execution_count": null,
   "id": "bcba9662",
   "metadata": {},
   "outputs": [],
   "source": []
  }
 ],
 "metadata": {
  "kernelspec": {
   "display_name": "Python 3 (ipykernel)",
   "language": "python",
   "name": "python3"
  },
  "language_info": {
   "codemirror_mode": {
    "name": "ipython",
    "version": 3
   },
   "file_extension": ".py",
   "mimetype": "text/x-python",
   "name": "python",
   "nbconvert_exporter": "python",
   "pygments_lexer": "ipython3",
   "version": "3.7.0"
  }
 },
 "nbformat": 4,
 "nbformat_minor": 5
}
