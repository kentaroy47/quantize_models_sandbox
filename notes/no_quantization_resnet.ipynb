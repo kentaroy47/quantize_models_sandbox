{
 "cells": [
  {
   "cell_type": "markdown",
   "id": "65b5a174",
   "metadata": {},
   "source": [
    "# Resnet18 CIFAR-10\n",
    "\n",
    "Quantize train resnet18 without PACT"
   ]
  },
  {
   "cell_type": "code",
   "execution_count": 1,
   "id": "3cdfa9b0",
   "metadata": {},
   "outputs": [],
   "source": [
    "NOQUANT_TRAIN = False\n",
    "n_epochs = 200\n",
    "batches = 1024"
   ]
  },
  {
   "cell_type": "code",
   "execution_count": 2,
   "id": "e95ac49f",
   "metadata": {},
   "outputs": [],
   "source": [
    "import argparse\n",
    "import os\n",
    "import shutil\n",
    "import time\n",
    "import pandas as pd\n",
    "import matplotlib.pyplot as plt\n",
    "import network.resnet_orig as resnet\n",
    "\n",
    "from tqdm.notebook import tqdm\n",
    "import time\n",
    "import numpy as np\n",
    "import pandas as pd\n",
    "import cv2\n",
    "import torch\n",
    "import torch.nn as nn\n",
    "import torch.nn.functional as F\n",
    "import torch.optim as optim\n",
    "from torch.optim import lr_scheduler\n",
    "from torch.utils.data import DataLoader, Dataset\n",
    "from torch.utils.data.sampler import SubsetRandomSampler, RandomSampler, SequentialSampler\n",
    "from torch.optim.lr_scheduler import CosineAnnealingWarmRestarts, CosineAnnealingLR, ReduceLROnPlateau\n",
    "\n",
    "model_names = sorted(name for name in resnet.__dict__\n",
    "    if name.islower() and not name.startswith(\"__\")\n",
    "                     and name.startswith(\"resnet\")\n",
    "                     and callable(resnet.__dict__[name]))\n",
    "\n",
    "DATA_DIR = \"train\"\n",
    "print_freq = 50\n",
    "\n",
    "# vit imsize\n",
    "imsize = 32"
   ]
  },
  {
   "cell_type": "code",
   "execution_count": 3,
   "id": "91238a6e",
   "metadata": {},
   "outputs": [
    {
     "data": {
      "text/html": [
       "<div>\n",
       "<style scoped>\n",
       "    .dataframe tbody tr th:only-of-type {\n",
       "        vertical-align: middle;\n",
       "    }\n",
       "\n",
       "    .dataframe tbody tr th {\n",
       "        vertical-align: top;\n",
       "    }\n",
       "\n",
       "    .dataframe thead th {\n",
       "        text-align: right;\n",
       "    }\n",
       "</style>\n",
       "<table border=\"1\" class=\"dataframe\">\n",
       "  <thead>\n",
       "    <tr style=\"text-align: right;\">\n",
       "      <th></th>\n",
       "      <th>id</th>\n",
       "      <th>label</th>\n",
       "      <th>label_enc</th>\n",
       "      <th>fold</th>\n",
       "    </tr>\n",
       "  </thead>\n",
       "  <tbody>\n",
       "    <tr>\n",
       "      <th>0</th>\n",
       "      <td>1</td>\n",
       "      <td>frog</td>\n",
       "      <td>6</td>\n",
       "      <td>1</td>\n",
       "    </tr>\n",
       "    <tr>\n",
       "      <th>1</th>\n",
       "      <td>2</td>\n",
       "      <td>truck</td>\n",
       "      <td>9</td>\n",
       "      <td>1</td>\n",
       "    </tr>\n",
       "    <tr>\n",
       "      <th>2</th>\n",
       "      <td>3</td>\n",
       "      <td>truck</td>\n",
       "      <td>9</td>\n",
       "      <td>2</td>\n",
       "    </tr>\n",
       "    <tr>\n",
       "      <th>3</th>\n",
       "      <td>4</td>\n",
       "      <td>deer</td>\n",
       "      <td>4</td>\n",
       "      <td>1</td>\n",
       "    </tr>\n",
       "    <tr>\n",
       "      <th>4</th>\n",
       "      <td>5</td>\n",
       "      <td>automobile</td>\n",
       "      <td>1</td>\n",
       "      <td>2</td>\n",
       "    </tr>\n",
       "  </tbody>\n",
       "</table>\n",
       "</div>"
      ],
      "text/plain": [
       "   id       label  label_enc  fold\n",
       "0   1        frog          6     1\n",
       "1   2       truck          9     1\n",
       "2   3       truck          9     2\n",
       "3   4        deer          4     1\n",
       "4   5  automobile          1     2"
      ]
     },
     "execution_count": 3,
     "metadata": {},
     "output_type": "execute_result"
    }
   ],
   "source": [
    "# prepare labels\n",
    "train_df = pd.read_csv(\"trainLabels.csv\")\n",
    "from sklearn.preprocessing import LabelEncoder\n",
    "le = LabelEncoder()\n",
    "train_df['label_enc'] = le.fit_transform(train_df['label'])\n",
    "\n",
    "# 5-fold\n",
    "from sklearn.model_selection import StratifiedKFold\n",
    "skf = StratifiedKFold(n_splits=5, shuffle=True, random_state=42)\n",
    "\n",
    "train_df[\"fold\"] = -1\n",
    "for i, (train_index, test_index) in enumerate(skf.split(train_df.id, train_df.label_enc)):\n",
    "    train_df.loc[test_index, 'fold'] = i\n",
    "train_df.head()"
   ]
  },
  {
   "cell_type": "code",
   "execution_count": 4,
   "id": "44be87f4",
   "metadata": {},
   "outputs": [],
   "source": [
    "class cifarDataset(Dataset):\n",
    "    def __init__(self,\n",
    "                 df,\n",
    "                 rand=False,\n",
    "                 transform=None,\n",
    "                 test=False\n",
    "                ):\n",
    "\n",
    "        self.df = df.reset_index(drop=True)\n",
    "        self.rand = rand\n",
    "        self.transform = transform\n",
    "        self.test = test\n",
    "\n",
    "    def __len__(self):\n",
    "        return self.df.shape[0]\n",
    "\n",
    "    def __getitem__(self, index):\n",
    "        row = self.df.iloc[index]\n",
    "        img_id = row.id\n",
    "        \n",
    "        images = cv2.imread(os.path.join(DATA_DIR, str(img_id)+\".png\"))\n",
    "        \n",
    "        # Load labels\n",
    "        label = row.label_enc\n",
    "        \n",
    "        # aug\n",
    "        if self.transform is not None:\n",
    "            images = self.transform(image=images)['image']\n",
    "              \n",
    "        #images = images.astype(np.float32)\n",
    "        #images /= 255\n",
    "        images = images.transpose(2, 0, 1)\n",
    "        \n",
    "        label = label.astype(np.float32)\n",
    "        #label2 = label2.astype(np.float32)\n",
    "        return torch.tensor(images), torch.tensor(label),"
   ]
  },
  {
   "cell_type": "code",
   "execution_count": 5,
   "id": "cd5517a6",
   "metadata": {},
   "outputs": [
    {
     "name": "stderr",
     "output_type": "stream",
     "text": [
      "/home/ken/anaconda3/envs/pytorch_p37/lib/python3.7/site-packages/albumentations/augmentations/transforms.py:690: FutureWarning: This class has been deprecated. Please use CoarseDropout\n",
      "  FutureWarning,\n"
     ]
    }
   ],
   "source": [
    "import albumentations as A\n",
    "import albumentations\n",
    "\n",
    "transforms_train = albumentations.Compose([\n",
    "    albumentations.ShiftScaleRotate(scale_limit=0.3, rotate_limit=180,p=0.5),\n",
    "    A.Cutout(num_holes=12, max_h_size=4, max_w_size=4, fill_value=0, p=0.5),\n",
    "    albumentations.Rotate(p=0.5),\n",
    "    albumentations.Transpose(p=0.5),\n",
    "    albumentations.VerticalFlip(p=0.5),\n",
    "    albumentations.HorizontalFlip(p=0.5),   \n",
    "    albumentations.Resize(imsize, imsize, p=1.0), \n",
    "    albumentations.Normalize(mean=(0.485, 0.456, 0.406),\n",
    "                       std=(0.229, 0.224, 0.225), p=1),\n",
    "])\n",
    "\n",
    "transforms_val = albumentations.Compose([albumentations.Resize(imsize, imsize, p=1.0),\n",
    "                                         albumentations.Normalize(mean=(0.485, 0.456, 0.406),\n",
    "                       std=(0.229, 0.224, 0.225), p=1),])"
   ]
  },
  {
   "cell_type": "code",
   "execution_count": 6,
   "id": "e3726718",
   "metadata": {
    "scrolled": true
   },
   "outputs": [
    {
     "name": "stderr",
     "output_type": "stream",
     "text": [
      "Clipping input data to the valid range for imshow with RGB data ([0..1] for floats or [0..255] for integers).\n",
      "Clipping input data to the valid range for imshow with RGB data ([0..1] for floats or [0..255] for integers).\n",
      "Clipping input data to the valid range for imshow with RGB data ([0..1] for floats or [0..255] for integers).\n",
      "Clipping input data to the valid range for imshow with RGB data ([0..1] for floats or [0..255] for integers).\n",
      "Clipping input data to the valid range for imshow with RGB data ([0..1] for floats or [0..255] for integers).\n",
      "Clipping input data to the valid range for imshow with RGB data ([0..1] for floats or [0..255] for integers).\n",
      "Clipping input data to the valid range for imshow with RGB data ([0..1] for floats or [0..255] for integers).\n",
      "Clipping input data to the valid range for imshow with RGB data ([0..1] for floats or [0..255] for integers).\n",
      "Clipping input data to the valid range for imshow with RGB data ([0..1] for floats or [0..255] for integers).\n",
      "Clipping input data to the valid range for imshow with RGB data ([0..1] for floats or [0..255] for integers).\n",
      "Clipping input data to the valid range for imshow with RGB data ([0..1] for floats or [0..255] for integers).\n",
      "Clipping input data to the valid range for imshow with RGB data ([0..1] for floats or [0..255] for integers).\n",
      "Clipping input data to the valid range for imshow with RGB data ([0..1] for floats or [0..255] for integers).\n",
      "Clipping input data to the valid range for imshow with RGB data ([0..1] for floats or [0..255] for integers).\n",
      "Clipping input data to the valid range for imshow with RGB data ([0..1] for floats or [0..255] for integers).\n"
     ]
    },
    {
     "data": {
      "image/png": "[encoded data removed]",
      "text/plain": [
       "<Figure size 1440x720 with 5 Axes>"
      ]
     },
     "metadata": {
      "needs_background": "light"
     },
     "output_type": "display_data"
    },
    {
     "data": {
      "image/png": "[encoded data removed]",
      "text/plain": [
       "<Figure size 1440x720 with 5 Axes>"
      ]
     },
     "metadata": {
      "needs_background": "light"
     },
     "output_type": "display_data"
    },
    {
     "data": {
      "image/png": "[encoded data removed]",
      "text/plain": [
       "<Figure size 1440x720 with 5 Axes>"
      ]
     },
     "metadata": {
      "needs_background": "light"
     },
     "output_type": "display_data"
    }
   ],
   "source": [
    "dataset_show = cifarDataset(train_df, transform=transforms_train)\n",
    "from pylab import rcParams\n",
    "rcParams['figure.figsize'] = 20,10\n",
    "for i in range(3):\n",
    "    f, axarr = plt.subplots(1,5)\n",
    "    for p in range(5):\n",
    "        idx = np.random.randint(0, len(dataset_show))\n",
    "        img, label = dataset_show[idx]\n",
    "        img = img.flip(0) #BGR2RGB\n",
    "        axarr[p].imshow(img.transpose(0,1).transpose(1,2))\n",
    "        axarr[p].set_title(str(label))\n",
    "plt.show()"
   ]
  },
  {
   "cell_type": "code",
   "execution_count": 7,
   "id": "be374443",
   "metadata": {},
   "outputs": [],
   "source": [
    "def train(train_loader, model, criterion, optimizer, epoch):\n",
    "    \"\"\"\n",
    "        Run one train epoch\n",
    "    \"\"\"\n",
    "    batch_time = AverageMeter()\n",
    "    data_time = AverageMeter()\n",
    "    losses = AverageMeter()\n",
    "    top1 = AverageMeter()\n",
    "\n",
    "    # switch to train mode\n",
    "    model.train()\n",
    "\n",
    "    end = time.time()\n",
    "    lambda_alpha = 0.002\n",
    "    for i, (input, target) in enumerate(tqdm(train_loader)):\n",
    "\n",
    "        # measure data loading time\n",
    "        data_time.update(time.time() - end)\n",
    "        target2 = target\n",
    "\n",
    "        target = target.long().cuda()\n",
    "        target2 = target2.long().cuda()\n",
    "        input_var = input.cuda()\n",
    "        target_var = target\n",
    "\n",
    "        if not mixup:\n",
    "          alpha = 0\n",
    "        else:\n",
    "          alpha = 1\n",
    "        \n",
    "\n",
    "        # compute output\n",
    "        output = model(input_var)\n",
    "        loss = criterion(output, target_var)\n",
    "\n",
    "        # L2 regularization\n",
    "        l2_alpha = 0.0\n",
    "        for name, param in model.named_parameters():\n",
    "            if \"alpha\" in name:\n",
    "                l2_alpha += torch.pow(param, 2)\n",
    "        loss += lambda_alpha * l2_alpha\n",
    "\n",
    "        # compute gradient and do SGD step\n",
    "        optimizer.zero_grad()\n",
    "        loss.backward()\n",
    "        optimizer.step()\n",
    "\n",
    "        output = output.float()\n",
    "        loss = loss.float()\n",
    "        # measure accuracy and record loss\n",
    "        prec1 = accuracy(output.data, target)[0]\n",
    "        losses.update(loss.item(), input.size(0))\n",
    "        top1.update(prec1.item(), input.size(0))\n",
    "\n",
    "        # measure elapsed time\n",
    "        batch_time.update(time.time() - end)\n",
    "        end = time.time()\n",
    "\n",
    "        if i % print_freq == 0:\n",
    "            print('Epoch: [{0}][{1}/{2}]\\t'\n",
    "                  'Time {batch_time.val:.3f} ({batch_time.avg:.3f})\\t'\n",
    "                  'Data {data_time.val:.3f} ({data_time.avg:.3f})\\t'\n",
    "                  'Loss {loss.val:.4f} ({loss.avg:.4f})\\t'\n",
    "                  'Prec@1 {top1.val:.3f} ({top1.avg:.3f})'.format(\n",
    "                      epoch, i, len(train_loader), batch_time=batch_time,\n",
    "                      data_time=data_time, loss=losses, top1=top1))\n",
    "    return losses.avg\n",
    "\n",
    "def validate(val_loader, model, criterion):\n",
    "    \"\"\"\n",
    "    Run evaluation\n",
    "    \"\"\"\n",
    "    batch_time = AverageMeter()\n",
    "    losses = AverageMeter()\n",
    "    top1 = AverageMeter()\n",
    "\n",
    "    # switch to evaluate mode\n",
    "    model.eval()\n",
    "\n",
    "    end = time.time()\n",
    "    with torch.no_grad():\n",
    "        for i, (input, target) in enumerate(val_loader):\n",
    "            target = target.long().cuda()\n",
    "            input_var = input.cuda()\n",
    "            target_var = target.cuda()\n",
    "\n",
    "            # compute output\n",
    "            output = model(input_var)\n",
    "            loss = criterion(output, target_var)\n",
    "\n",
    "            output = output.float()\n",
    "            loss = loss.float()\n",
    "\n",
    "            # measure accuracy and record loss\n",
    "            prec1 = accuracy(output.data, target)[0]\n",
    "            losses.update(loss.item(), input.size(0))\n",
    "            top1.update(prec1.item(), input.size(0))\n",
    "\n",
    "            # measure elapsed time\n",
    "            batch_time.update(time.time() - end)\n",
    "            end = time.time()\n",
    "\n",
    "            if i % print_freq == 0:\n",
    "                print('Test: [{0}/{1}]\\t'\n",
    "                      'Time {batch_time.val:.3f} ({batch_time.avg:.3f})\\t'\n",
    "                      'Loss {loss.val:.4f} ({loss.avg:.4f})\\t'\n",
    "                      'Prec@1 {top1.val:.3f} ({top1.avg:.3f})'.format(\n",
    "                          i, len(val_loader), batch_time=batch_time, loss=losses,\n",
    "                          top1=top1))\n",
    "\n",
    "    print(' * Prec@1 {top1.avg:.3f}'\n",
    "          .format(top1=top1))\n",
    "    for name, param in model.named_parameters():\n",
    "        if \"alpha\" in name:\n",
    "            print(name, param.item())\n",
    "    return top1.avg, losses.avg\n",
    "\n",
    "def save_checkpoint(state, filename='checkpoint.pth'):\n",
    "    \"\"\"\n",
    "    Save the training model\n",
    "    \"\"\"\n",
    "    torch.save(state, filename)\n",
    "\n",
    "class AverageMeter(object):\n",
    "    \"\"\"Computes and stores the average and current value\"\"\"\n",
    "    def __init__(self):\n",
    "        self.reset()\n",
    "\n",
    "    def reset(self):\n",
    "        self.val = 0\n",
    "        self.avg = 0\n",
    "        self.sum = 0\n",
    "        self.count = 0\n",
    "\n",
    "    def update(self, val, n=1):\n",
    "        self.val = val\n",
    "        self.sum += val * n\n",
    "        self.count += n\n",
    "        self.avg = self.sum / self.count\n",
    "\n",
    "\n",
    "def accuracy(output, target, topk=(1,)):\n",
    "    \"\"\"Computes the precision@k for the specified values of k\"\"\"\n",
    "    maxk = max(topk)\n",
    "    batch_size = target.size(0)\n",
    "\n",
    "    _, pred = output.topk(maxk, 1, True, True)\n",
    "    pred = pred.t()\n",
    "    correct = pred.eq(target.view(1, -1).expand_as(pred))\n",
    "\n",
    "    res = []\n",
    "    for k in topk:\n",
    "        correct_k = correct[:k].view(-1).float().sum(0)\n",
    "        res.append(correct_k.mul_(100.0 / batch_size))\n",
    "    return res"
   ]
  },
  {
   "cell_type": "code",
   "execution_count": 8,
   "id": "6f005fd3",
   "metadata": {},
   "outputs": [],
   "source": [
    "train_dataset = cifarDataset(train_df[train_df.fold!=0], transform=transforms_train)\n",
    "val_dataset = cifarDataset(train_df[train_df.fold==0], transform=transforms_val, test=True)\n",
    "\n",
    "train_loader = torch.utils.data.DataLoader(\n",
    "        train_dataset,\n",
    "        batch_size=batches, shuffle=True,\n",
    "        num_workers=8, pin_memory=True)\n",
    "\n",
    "val_loader = torch.utils.data.DataLoader(\n",
    "    val_dataset,\n",
    "    batch_size=batches, shuffle=False,\n",
    "    num_workers=8, pin_memory=True)"
   ]
  },
  {
   "cell_type": "code",
   "execution_count": 12,
   "id": "a4256dce",
   "metadata": {},
   "outputs": [],
   "source": [
    "import torch\n",
    "import torch.nn as nn\n",
    "import torch.nn.functional as F\n",
    "import torch.nn.init as init\n",
    "from torch.autograd import Variable\n",
    "from pact_utils import QuantizedLinear, QuantizedConv2d\n",
    "\n",
    "\n",
    "def _weights_init(m):\n",
    "    classname = m.__class__.__name__\n",
    "    #print(classname)\n",
    "    if isinstance(m, nn.Linear) or isinstance(m, nn.Conv2d):\n",
    "        init.kaiming_normal_(m.weight)\n",
    "\n",
    "class LambdaLayer(nn.Module):\n",
    "    def __init__(self, lambd):\n",
    "        super(LambdaLayer, self).__init__()\n",
    "        self.lambd = lambd\n",
    "\n",
    "    def forward(self, x):\n",
    "        return self.lambd(x)\n",
    "\n",
    "\n",
    "class BasicBlock(nn.Module):\n",
    "    expansion = 1\n",
    "\n",
    "    def __init__(self, in_planes, planes, stride=1, k=8, expansion=1):\n",
    "        super(BasicBlock, self).__init__()\n",
    "        self.k = k\n",
    "        self.expansion = expansion\n",
    "        self.conv1 = nn.Conv2d(in_planes, planes, kernel_size=3, stride=stride, padding=1, bias=False)\n",
    "        self.bn1 = nn.BatchNorm2d(planes)\n",
    "        # self.conv2 = nn.Conv2d(planes, planes, kernel_size=3, stride=1, padding=1, bias=False)\n",
    "        self.conv2 = nn.Conv2d(planes, planes, kernel_size=3, stride=1, padding=1, bias=False)\n",
    "        self.bn2 = nn.BatchNorm2d(planes)\n",
    "        \n",
    "        if stride != 1 or in_planes != planes:\n",
    "              # original resnet shortcut\n",
    "              self.shortcut = nn.Sequential(\n",
    "                    # nn.Conv2d(in_planes, self.expansion * planes, kernel_size=1, stride=stride, bias=False),\n",
    "                    nn.Conv2d(in_planes, self.expansion * planes, kernel_size=1, stride=stride, bias=False),\n",
    "                    nn.BatchNorm2d(self.expansion * planes)\n",
    "              )\n",
    "        else: # nothing done if stride or inplanes do not differ\n",
    "          self.shortcut = nn.Sequential()\n",
    "\n",
    "    def forward(self, x):\n",
    "        # Relu is implemented as the input of conv2d\n",
    "        out = F.relu(self.bn1(self.conv1(x)))\n",
    "        out = F.relu(self.bn2(self.conv2(out)))\n",
    "        out += self.shortcut(x)\n",
    "        out = F.relu(out)\n",
    "        return out\n",
    "\n",
    "\n",
    "class ResNet(nn.Module):\n",
    "    def __init__(self, block, num_blocks, num_classes=10, K=8):\n",
    "        super(ResNet, self).__init__()\n",
    "        self.in_planes = 32\n",
    "        self.k = K\n",
    "\n",
    "        self.conv1 = nn.Conv2d(3, 32, kernel_size=3, stride=1, padding=1, bias=False)\n",
    "        self.bn1 = nn.BatchNorm2d(32)\n",
    "        self.alpha1 = nn.Parameter(torch.tensor(10.))\n",
    "        self.layer1 = self._make_layer(block, 32, num_blocks[0], stride=1, expansion=1)\n",
    "        self.layer2 = self._make_layer(block, 64, num_blocks[1], stride=2, expansion=1)\n",
    "        self.layer3 = self._make_layer(block, 128, num_blocks[2], stride=2, expansion=1)\n",
    "        self.layer4 = self._make_layer(block, 256, num_blocks[3], stride=2, expansion=1)\n",
    "\n",
    "        # self.linear = nn.Linear(64, num_classes)\n",
    "        self.linear = nn.Linear(256, num_classes, bias=False)\n",
    "        self.apply(_weights_init)\n",
    "\n",
    "    def _make_layer(self, block, planes, num_blocks, stride, expansion):\n",
    "        strides = [stride] + [1]*(num_blocks-1)\n",
    "        layers = []\n",
    "        for stride in strides:\n",
    "            layers.append(block(self.in_planes, planes, stride, self.k, expansion))\n",
    "            self.in_planes = planes * block.expansion\n",
    "\n",
    "        return nn.Sequential(*layers)\n",
    "\n",
    "    def forward(self, x):\n",
    "        # out = F.relu(self.bn1(self.conv1(x)))\n",
    "        out = self.bn1(self.conv1(x))\n",
    "        out = self.layer1(out)\n",
    "        out = self.layer2(out)\n",
    "        out = self.layer3(out)\n",
    "        out = self.layer4(out)\n",
    "        out = F.avg_pool2d(out, out.size()[3])\n",
    "        out = out.view(out.size(0), -1)\n",
    "        out = self.linear(out)\n",
    "        return out\n",
    "\n",
    "\n",
    "def resnet20(k=8):\n",
    "    print(\"bit width:\", k)\n",
    "    return ResNet(BasicBlock, [3, 3, 3, 3], K=k)"
   ]
  },
  {
   "cell_type": "code",
   "execution_count": 13,
   "id": "d6a1ff82",
   "metadata": {},
   "outputs": [
    {
     "name": "stdout",
     "output_type": "stream",
     "text": [
      "bit width: 8\n"
     ]
    }
   ],
   "source": [
    "net = resnet20(8)"
   ]
  },
  {
   "cell_type": "markdown",
   "id": "c3f38958",
   "metadata": {},
   "source": [
    "# Train with quantization"
   ]
  },
  {
   "cell_type": "code",
   "execution_count": 14,
   "id": "bf661401",
   "metadata": {
    "scrolled": true
   },
   "outputs": [
    {
     "name": "stdout",
     "output_type": "stream",
     "text": [
      "bit width: 0\n"
     ]
    },
    {
     "data": {
      "text/html": [
       "Finishing last run (ID:2rmlykl8) before initializing another..."
      ],
      "text/plain": [
       "<IPython.core.display.HTML object>"
      ]
     },
     "metadata": {},
     "output_type": "display_data"
    },
    {
     "data": {
      "text/html": [
       "Waiting for W&B process to finish... <strong style=\"color:green\">(success).</strong>"
      ],
      "text/plain": [
       "<IPython.core.display.HTML object>"
      ]
     },
     "metadata": {},
     "output_type": "display_data"
    },
    {
     "data": {
      "application/vnd.jupyter.widget-view+json": {
       "model_id": "",
       "version_major": 2,
       "version_minor": 0
      },
      "text/plain": [
       "VBox(children=(Label(value='1.251 MB of 1.251 MB uploaded (0.000 MB deduped)\\r'), FloatProgress(value=1.0, max…"
      ]
     },
     "metadata": {},
     "output_type": "display_data"
    },
    {
     "data": {
      "text/html": [
       "<style>\n",
       "    table.wandb td:nth-child(1) { padding: 0 10px; text-align: left ; width: auto;} td:nth-child(2) {text-align: left ; width: 100%}\n",
       "    .wandb-row { display: flex; flex-direction: row; flex-wrap: wrap; justify-content: flex-start; width: 100% }\n",
       "    .wandb-col { display: flex; flex-direction: column; flex-basis: 100%; flex: 1; padding: 10px; }\n",
       "    </style>\n",
       "<div class=\"wandb-row\"><div class=\"wandb-col\"><h3>Run history:</h3><br/><table class=\"wandb\"><tr><td>epoch</td><td>▁▁▁▁▂▂▂▂▂▃▃▃▃▃▃▄▄▄▄▄▅▅▅▅▅▅▆▆▆▆▆▇▇▇▇▇▇███</td></tr><tr><td>lr</td><td>▃███████▇▇▇▇▇▆▆▆▆▅▅▅▅▄▄▄▄▃▃▃▂▂▂▂▂▂▁▁▁▁▁▁</td></tr><tr><td>prec</td><td>▁▃▄▄▅▆▆▆▆▇▇▇▇▇▇▇▇▇▇▇████████████████████</td></tr><tr><td>train_loss</td><td>█▆▅▄▄▄▃▃▃▃▃▃▂▂▂▂▂▂▂▂▂▂▁▁▁▁▁▁▁▁▁▁▁▁▁▁▁▁▁▁</td></tr><tr><td>val_loss</td><td>█▆▆▅▄▃▄▃▃▂▃▂▂▂▂▂▂▂▂▂▁▁▁▁▁▁▁▁▁▁▁▁▁▁▁▁▁▁▁▁</td></tr></table><br/></div><div class=\"wandb-col\"><h3>Run summary:</h3><br/><table class=\"wandb\"><tr><td>epoch</td><td>199</td></tr><tr><td>lr</td><td>0.0</td></tr><tr><td>prec</td><td>83.67</td></tr><tr><td>train_loss</td><td>0.49557</td></tr><tr><td>val_loss</td><td>0.50641</td></tr></table><br/></div></div>"
      ],
      "text/plain": [
       "<IPython.core.display.HTML object>"
      ]
     },
     "metadata": {},
     "output_type": "display_data"
    },
    {
     "data": {
      "text/html": [
       "Synced <strong style=\"color:#cdcd00\">resnet18_noquant</strong>: <a href=\"https://wandb.ai/arutema47/quantize_resnet/runs/2rmlykl8\" target=\"_blank\">https://wandb.ai/arutema47/quantize_resnet/runs/2rmlykl8</a><br/>Synced 6 W&B file(s), 0 media file(s), 0 artifact file(s) and 1 other file(s)"
      ],
      "text/plain": [
       "<IPython.core.display.HTML object>"
      ]
     },
     "metadata": {},
     "output_type": "display_data"
    },
    {
     "data": {
      "text/html": [
       "Find logs at: <code>./wandb/run-20220620_145822-2rmlykl8/logs</code>"
      ],
      "text/plain": [
       "<IPython.core.display.HTML object>"
      ]
     },
     "metadata": {},
     "output_type": "display_data"
    },
    {
     "data": {
      "text/html": [
       "Successfully finished last run (ID:2rmlykl8). Initializing new run:<br/>"
      ],
      "text/plain": [
       "<IPython.core.display.HTML object>"
      ]
     },
     "metadata": {},
     "output_type": "display_data"
    },
    {
     "data": {
      "text/html": [
       "Tracking run with wandb version 0.12.18"
      ],
      "text/plain": [
       "<IPython.core.display.HTML object>"
      ]
     },
     "metadata": {},
     "output_type": "display_data"
    },
    {
     "data": {
      "text/html": [
       "Run data is saved locally in <code>/media/ken/dsk1/data/quantize_models_sandbox/wandb/run-20220620_153806-15zxr2nm</code>"
      ],
      "text/plain": [
       "<IPython.core.display.HTML object>"
      ]
     },
     "metadata": {},
     "output_type": "display_data"
    },
    {
     "data": {
      "text/html": [
       "Syncing run <strong><a href=\"https://wandb.ai/arutema47/quantize_resnet/runs/15zxr2nm\" target=\"_blank\">resnet18_noquant</a></strong> to <a href=\"https://wandb.ai/arutema47/quantize_resnet\" target=\"_blank\">Weights & Biases</a> (<a href=\"https://wandb.me/run\" target=\"_blank\">docs</a>)<br/>"
      ],
      "text/plain": [
       "<IPython.core.display.HTML object>"
      ]
     },
     "metadata": {},
     "output_type": "display_data"
    },
    {
     "name": "stdout",
     "output_type": "stream",
     "text": [
      "current lr 1.00000e-06\n"
     ]
    },
    {
     "data": {
      "application/vnd.jupyter.widget-view+json": {
       "model_id": "1e3bc018054044fe99d9b45971d5f0fb",
       "version_major": 2,
       "version_minor": 0
      },
      "text/plain": [
       "  0%|          | 0/40 [00:00<?, ?it/s]"
      ]
     },
     "metadata": {},
     "output_type": "display_data"
    },
    {
     "name": "stdout",
     "output_type": "stream",
     "text": [
      "Epoch: [0][0/40]\tTime 1.503 (1.503)\tData 1.298 (1.298)\tLoss 6.1149 (6.1149)\tPrec@1 10.938 (10.938)\n",
      "Test: [0/10]\tTime 0.600 (0.600)\tLoss 5.1598 (5.1598)\tPrec@1 10.059 (10.059)\n",
      " * Prec@1 10.000\n",
      "alpha1 9.999961853027344\n",
      "Best prec1 :  9.999999987792968\n",
      "current lr 3.34000e-04\n"
     ]
    },
    {
     "data": {
      "application/vnd.jupyter.widget-view+json": {
       "model_id": "541ece0de4ba41379d59fe50d69560a1",
       "version_major": 2,
       "version_minor": 0
      },
      "text/plain": [
       "  0%|          | 0/40 [00:00<?, ?it/s]"
      ]
     },
     "metadata": {},
     "output_type": "display_data"
    },
    {
     "name": "stdout",
     "output_type": "stream",
     "text": [
      "Epoch: [1][0/40]\tTime 1.272 (1.272)\tData 1.066 (1.066)\tLoss 6.0581 (6.0581)\tPrec@1 8.691 (8.691)\n",
      "Test: [0/10]\tTime 0.628 (0.628)\tLoss 2.1682 (2.1682)\tPrec@1 23.438 (23.438)\n",
      " * Prec@1 22.800\n",
      "alpha1 9.986610412597656\n",
      "Best prec1 :  22.799999978637697\n",
      "current lr 6.67000e-04\n"
     ]
    },
    {
     "data": {
      "application/vnd.jupyter.widget-view+json": {
       "model_id": "e666b6b960114d1d9d9a5ef01f763253",
       "version_major": 2,
       "version_minor": 0
      },
      "text/plain": [
       "  0%|          | 0/40 [00:00<?, ?it/s]"
      ]
     },
     "metadata": {},
     "output_type": "display_data"
    },
    {
     "name": "stdout",
     "output_type": "stream",
     "text": [
      "Epoch: [2][0/40]\tTime 1.617 (1.617)\tData 1.410 (1.410)\tLoss 2.2056 (2.2056)\tPrec@1 26.270 (26.270)\n",
      "Test: [0/10]\tTime 0.674 (0.674)\tLoss 1.9024 (1.9024)\tPrec@1 29.688 (29.688)\n",
      " * Prec@1 29.580\n",
      "alpha1 9.959967613220215\n",
      "Best prec1 :  29.580000048828126\n",
      "current lr 1.00000e-03\n"
     ]
    },
    {
     "data": {
      "application/vnd.jupyter.widget-view+json": {
       "model_id": "6d3157e9d3d9492c8636659dcf2a9107",
       "version_major": 2,
       "version_minor": 0
      },
      "text/plain": [
       "  0%|          | 0/40 [00:00<?, ?it/s]"
      ]
     },
     "metadata": {},
     "output_type": "display_data"
    },
    {
     "name": "stdout",
     "output_type": "stream",
     "text": [
      "Epoch: [3][0/40]\tTime 1.200 (1.200)\tData 0.992 (0.992)\tLoss 2.1205 (2.1205)\tPrec@1 29.980 (29.980)\n",
      "Test: [0/10]\tTime 0.691 (0.691)\tLoss 1.8755 (1.8755)\tPrec@1 32.617 (32.617)\n",
      " * Prec@1 32.930\n",
      "alpha1 9.920103073120117\n",
      "Best prec1 :  32.93\n",
      "current lr 9.99938e-04\n"
     ]
    },
    {
     "data": {
      "application/vnd.jupyter.widget-view+json": {
       "model_id": "23c2e9ca531144ec9f7026dc0e6c5c6f",
       "version_major": 2,
       "version_minor": 0
      },
      "text/plain": [
       "  0%|          | 0/40 [00:00<?, ?it/s]"
      ]
     },
     "metadata": {},
     "output_type": "display_data"
    },
    {
     "name": "stdout",
     "output_type": "stream",
     "text": [
      "Epoch: [4][0/40]\tTime 1.268 (1.268)\tData 1.060 (1.060)\tLoss 1.9813 (1.9813)\tPrec@1 34.277 (34.277)\n",
      "Test: [0/10]\tTime 0.644 (0.644)\tLoss 1.8065 (1.8065)\tPrec@1 36.621 (36.621)\n",
      " * Prec@1 35.790\n",
      "alpha1 9.880339622497559\n",
      "Best prec1 :  35.79000010986328\n",
      "current lr 9.99754e-04\n"
     ]
    },
    {
     "data": {
      "application/vnd.jupyter.widget-view+json": {
       "model_id": "f2e6bb801fb54a27a80cdab0a10cab57",
       "version_major": 2,
       "version_minor": 0
      },
      "text/plain": [
       "  0%|          | 0/40 [00:00<?, ?it/s]"
      ]
     },
     "metadata": {},
     "output_type": "display_data"
    },
    {
     "name": "stdout",
     "output_type": "stream",
     "text": [
      "Epoch: [5][0/40]\tTime 1.333 (1.333)\tData 1.124 (1.124)\tLoss 1.9038 (1.9038)\tPrec@1 34.961 (34.961)\n",
      "Test: [0/10]\tTime 0.711 (0.711)\tLoss 1.6732 (1.6732)\tPrec@1 38.379 (38.379)\n",
      " * Prec@1 40.130\n",
      "alpha1 9.840672492980957\n",
      "Best prec1 :  40.130000012207034\n",
      "current lr 9.99445e-04\n"
     ]
    },
    {
     "data": {
      "application/vnd.jupyter.widget-view+json": {
       "model_id": "e91e7c091e2e48f393c1d267680e5994",
       "version_major": 2,
       "version_minor": 0
      },
      "text/plain": [
       "  0%|          | 0/40 [00:00<?, ?it/s]"
      ]
     },
     "metadata": {},
     "output_type": "display_data"
    },
    {
     "name": "stdout",
     "output_type": "stream",
     "text": [
      "Epoch: [6][0/40]\tTime 1.383 (1.383)\tData 1.172 (1.172)\tLoss 1.7956 (1.7956)\tPrec@1 43.457 (43.457)\n",
      "Test: [0/10]\tTime 0.700 (0.700)\tLoss 1.9781 (1.9781)\tPrec@1 38.086 (38.086)\n",
      " * Prec@1 37.800\n",
      "alpha1 9.801104545593262\n",
      "Best prec1 :  40.130000012207034\n",
      "current lr 9.99014e-04\n"
     ]
    },
    {
     "data": {
      "application/vnd.jupyter.widget-view+json": {
       "model_id": "f99c23692b4648aab07c23fb88838222",
       "version_major": 2,
       "version_minor": 0
      },
      "text/plain": [
       "  0%|          | 0/40 [00:00<?, ?it/s]"
      ]
     },
     "metadata": {},
     "output_type": "display_data"
    },
    {
     "name": "stdout",
     "output_type": "stream",
     "text": [
      "Epoch: [7][0/40]\tTime 1.563 (1.563)\tData 1.353 (1.353)\tLoss 1.7896 (1.7896)\tPrec@1 44.434 (44.434)\n",
      "Test: [0/10]\tTime 0.585 (0.585)\tLoss 1.5882 (1.5882)\tPrec@1 43.359 (43.359)\n",
      " * Prec@1 43.390\n",
      "alpha1 9.761632919311523\n",
      "Best prec1 :  43.389999981689456\n",
      "current lr 9.98460e-04\n"
     ]
    },
    {
     "data": {
      "application/vnd.jupyter.widget-view+json": {
       "model_id": "a01075b2aa21496b90166333b2b9eaf5",
       "version_major": 2,
       "version_minor": 0
      },
      "text/plain": [
       "  0%|          | 0/40 [00:00<?, ?it/s]"
      ]
     },
     "metadata": {},
     "output_type": "display_data"
    },
    {
     "name": "stdout",
     "output_type": "stream",
     "text": [
      "Epoch: [8][0/40]\tTime 1.690 (1.690)\tData 1.479 (1.479)\tLoss 1.7286 (1.7286)\tPrec@1 46.582 (46.582)\n",
      "Test: [0/10]\tTime 0.605 (0.605)\tLoss 1.4925 (1.4925)\tPrec@1 47.363 (47.363)\n",
      " * Prec@1 46.660\n",
      "alpha1 9.722261428833008\n",
      "Best prec1 :  46.65999989013672\n",
      "current lr 9.97783e-04\n"
     ]
    },
    {
     "data": {
      "application/vnd.jupyter.widget-view+json": {
       "model_id": "c2af21e09d984efb951b9bae7b6e2019",
       "version_major": 2,
       "version_minor": 0
      },
      "text/plain": [
       "  0%|          | 0/40 [00:00<?, ?it/s]"
      ]
     },
     "metadata": {},
     "output_type": "display_data"
    },
    {
     "name": "stdout",
     "output_type": "stream",
     "text": [
      "Epoch: [9][0/40]\tTime 1.369 (1.369)\tData 1.158 (1.158)\tLoss 1.7083 (1.7083)\tPrec@1 44.824 (44.824)\n",
      "Test: [0/10]\tTime 0.651 (0.651)\tLoss 1.4527 (1.4527)\tPrec@1 47.852 (47.852)\n",
      " * Prec@1 48.460\n",
      "alpha1 9.682992935180664\n",
      "Best prec1 :  48.45999993896484\n",
      "current lr 9.96983e-04\n"
     ]
    },
    {
     "data": {
      "application/vnd.jupyter.widget-view+json": {
       "model_id": "1603b892492945c0bd287651e13ff574",
       "version_major": 2,
       "version_minor": 0
      },
      "text/plain": [
       "  0%|          | 0/40 [00:00<?, ?it/s]"
      ]
     },
     "metadata": {},
     "output_type": "display_data"
    },
    {
     "name": "stdout",
     "output_type": "stream",
     "text": [
      "Epoch: [10][0/40]\tTime 1.388 (1.388)\tData 1.176 (1.176)\tLoss 1.6935 (1.6935)\tPrec@1 45.605 (45.605)\n",
      "Test: [0/10]\tTime 0.646 (0.646)\tLoss 1.5131 (1.5131)\tPrec@1 50.488 (50.488)\n",
      " * Prec@1 49.310\n",
      "alpha1 9.643830299377441\n",
      "Best prec1 :  49.30999990234375\n",
      "current lr 9.96061e-04\n"
     ]
    },
    {
     "data": {
      "application/vnd.jupyter.widget-view+json": {
       "model_id": "1efe52004df44a28b88e2baebec4f75e",
       "version_major": 2,
       "version_minor": 0
      },
      "text/plain": [
       "  0%|          | 0/40 [00:00<?, ?it/s]"
      ]
     },
     "metadata": {},
     "output_type": "display_data"
    },
    {
     "name": "stdout",
     "output_type": "stream",
     "text": [
      "Epoch: [11][0/40]\tTime 1.435 (1.435)\tData 1.221 (1.221)\tLoss 1.6458 (1.6458)\tPrec@1 48.242 (48.242)\n",
      "Test: [0/10]\tTime 0.737 (0.737)\tLoss 1.4110 (1.4110)\tPrec@1 50.000 (50.000)\n",
      " * Prec@1 48.800\n",
      "alpha1 9.604776382446289\n",
      "Best prec1 :  49.30999990234375\n",
      "current lr 9.95017e-04\n"
     ]
    },
    {
     "data": {
      "application/vnd.jupyter.widget-view+json": {
       "model_id": "cc19c486d0994421ac8bf88bd6f01e53",
       "version_major": 2,
       "version_minor": 0
      },
      "text/plain": [
       "  0%|          | 0/40 [00:00<?, ?it/s]"
      ]
     },
     "metadata": {},
     "output_type": "display_data"
    },
    {
     "name": "stdout",
     "output_type": "stream",
     "text": [
      "Epoch: [12][0/40]\tTime 1.367 (1.367)\tData 1.153 (1.153)\tLoss 1.5861 (1.5861)\tPrec@1 51.855 (51.855)\n",
      "Test: [0/10]\tTime 0.582 (0.582)\tLoss 1.4183 (1.4183)\tPrec@1 50.391 (50.391)\n",
      " * Prec@1 49.770\n",
      "alpha1 9.565834045410156\n",
      "Best prec1 :  49.769999951171876\n",
      "current lr 9.93850e-04\n"
     ]
    },
    {
     "data": {
      "application/vnd.jupyter.widget-view+json": {
       "model_id": "3b44df11a9204d309552bdd402c6c0a5",
       "version_major": 2,
       "version_minor": 0
      },
      "text/plain": [
       "  0%|          | 0/40 [00:00<?, ?it/s]"
      ]
     },
     "metadata": {},
     "output_type": "display_data"
    },
    {
     "name": "stdout",
     "output_type": "stream",
     "text": [
      "Epoch: [13][0/40]\tTime 1.334 (1.334)\tData 1.121 (1.121)\tLoss 1.5380 (1.5380)\tPrec@1 50.977 (50.977)\n",
      "Test: [0/10]\tTime 0.668 (0.668)\tLoss 1.3796 (1.3796)\tPrec@1 51.367 (51.367)\n",
      " * Prec@1 50.580\n",
      "alpha1 9.527007102966309\n",
      "Best prec1 :  50.58000009765625\n",
      "current lr 9.92562e-04\n"
     ]
    },
    {
     "data": {
      "application/vnd.jupyter.widget-view+json": {
       "model_id": "2dff339fec4b471a9f719297013ebf37",
       "version_major": 2,
       "version_minor": 0
      },
      "text/plain": [
       "  0%|          | 0/40 [00:00<?, ?it/s]"
      ]
     },
     "metadata": {},
     "output_type": "display_data"
    },
    {
     "name": "stdout",
     "output_type": "stream",
     "text": [
      "Epoch: [14][0/40]\tTime 1.319 (1.319)\tData 1.105 (1.105)\tLoss 1.5542 (1.5542)\tPrec@1 50.000 (50.000)\n",
      "Test: [0/10]\tTime 0.642 (0.642)\tLoss 1.4208 (1.4208)\tPrec@1 52.344 (52.344)\n",
      " * Prec@1 51.260\n",
      "alpha1 9.488299369812012\n",
      "Best prec1 :  51.25999987792969\n",
      "current lr 9.91152e-04\n"
     ]
    },
    {
     "data": {
      "application/vnd.jupyter.widget-view+json": {
       "model_id": "d32fdd4d6f214e0a8e5dff25572f6bd5",
       "version_major": 2,
       "version_minor": 0
      },
      "text/plain": [
       "  0%|          | 0/40 [00:00<?, ?it/s]"
      ]
     },
     "metadata": {},
     "output_type": "display_data"
    },
    {
     "name": "stdout",
     "output_type": "stream",
     "text": [
      "Epoch: [15][0/40]\tTime 1.327 (1.327)\tData 1.113 (1.113)\tLoss 1.5496 (1.5496)\tPrec@1 52.832 (52.832)\n",
      "Test: [0/10]\tTime 0.608 (0.608)\tLoss 1.3025 (1.3025)\tPrec@1 54.785 (54.785)\n",
      " * Prec@1 52.270\n",
      "alpha1 9.449712753295898\n",
      "Best prec1 :  52.26999989013672\n",
      "current lr 9.89622e-04\n"
     ]
    },
    {
     "data": {
      "application/vnd.jupyter.widget-view+json": {
       "model_id": "9528e9e0445a4220a5922c202a409594",
       "version_major": 2,
       "version_minor": 0
      },
      "text/plain": [
       "  0%|          | 0/40 [00:00<?, ?it/s]"
      ]
     },
     "metadata": {},
     "output_type": "display_data"
    },
    {
     "name": "stdout",
     "output_type": "stream",
     "text": [
      "Epoch: [16][0/40]\tTime 1.522 (1.522)\tData 1.308 (1.308)\tLoss 1.5503 (1.5503)\tPrec@1 52.148 (52.148)\n",
      "Test: [0/10]\tTime 0.710 (0.710)\tLoss 1.4086 (1.4086)\tPrec@1 51.758 (51.758)\n",
      " * Prec@1 50.020\n",
      "alpha1 9.411249160766602\n",
      "Best prec1 :  52.26999989013672\n",
      "current lr 9.87970e-04\n"
     ]
    },
    {
     "data": {
      "application/vnd.jupyter.widget-view+json": {
       "model_id": "78ef6cd0f1214b2893114481cf2b08c7",
       "version_major": 2,
       "version_minor": 0
      },
      "text/plain": [
       "  0%|          | 0/40 [00:00<?, ?it/s]"
      ]
     },
     "metadata": {},
     "output_type": "display_data"
    },
    {
     "name": "stdout",
     "output_type": "stream",
     "text": [
      "Epoch: [17][0/40]\tTime 1.558 (1.558)\tData 1.344 (1.344)\tLoss 1.4802 (1.4802)\tPrec@1 52.832 (52.832)\n",
      "Test: [0/10]\tTime 0.714 (0.714)\tLoss 1.2954 (1.2954)\tPrec@1 55.176 (55.176)\n",
      " * Prec@1 53.320\n",
      "alpha1 9.372915267944336\n",
      "Best prec1 :  53.319999847412106\n",
      "current lr 9.86199e-04\n"
     ]
    },
    {
     "data": {
      "application/vnd.jupyter.widget-view+json": {
       "model_id": "fe3c7dabd2a34eeba3b056feeee4add8",
       "version_major": 2,
       "version_minor": 0
      },
      "text/plain": [
       "  0%|          | 0/40 [00:00<?, ?it/s]"
      ]
     },
     "metadata": {},
     "output_type": "display_data"
    },
    {
     "name": "stdout",
     "output_type": "stream",
     "text": [
      "Epoch: [18][0/40]\tTime 1.753 (1.753)\tData 1.539 (1.539)\tLoss 1.4062 (1.4062)\tPrec@1 55.957 (55.957)\n",
      "Test: [0/10]\tTime 0.597 (0.597)\tLoss 1.2150 (1.2150)\tPrec@1 58.008 (58.008)\n",
      " * Prec@1 56.820\n",
      "alpha1 9.334712028503418\n",
      "Best prec1 :  56.81999989624023\n",
      "current lr 9.84307e-04\n"
     ]
    },
    {
     "data": {
      "application/vnd.jupyter.widget-view+json": {
       "model_id": "68153d4804f0406395f9732a947e6849",
       "version_major": 2,
       "version_minor": 0
      },
      "text/plain": [
       "  0%|          | 0/40 [00:00<?, ?it/s]"
      ]
     },
     "metadata": {},
     "output_type": "display_data"
    },
    {
     "name": "stdout",
     "output_type": "stream",
     "text": [
      "Epoch: [19][0/40]\tTime 1.603 (1.603)\tData 1.389 (1.389)\tLoss 1.3511 (1.3511)\tPrec@1 57.422 (57.422)\n",
      "Test: [0/10]\tTime 0.625 (0.625)\tLoss 1.2420 (1.2420)\tPrec@1 58.008 (58.008)\n",
      " * Prec@1 55.840\n",
      "alpha1 9.296646118164062\n",
      "Best prec1 :  56.81999989624023\n",
      "current lr 9.82296e-04\n"
     ]
    },
    {
     "data": {
      "application/vnd.jupyter.widget-view+json": {
       "model_id": "4783c1c6004346d686e94ef7f680594d",
       "version_major": 2,
       "version_minor": 0
      },
      "text/plain": [
       "  0%|          | 0/40 [00:00<?, ?it/s]"
      ]
     },
     "metadata": {},
     "output_type": "display_data"
    },
    {
     "name": "stdout",
     "output_type": "stream",
     "text": [
      "Epoch: [20][0/40]\tTime 1.290 (1.290)\tData 1.075 (1.075)\tLoss 1.3686 (1.3686)\tPrec@1 56.152 (56.152)\n",
      "Test: [0/10]\tTime 0.596 (0.596)\tLoss 1.2207 (1.2207)\tPrec@1 58.789 (58.789)\n",
      " * Prec@1 55.580\n",
      "alpha1 9.25871467590332\n",
      "Best prec1 :  56.81999989624023\n",
      "current lr 9.80167e-04\n"
     ]
    },
    {
     "data": {
      "application/vnd.jupyter.widget-view+json": {
       "model_id": "f8203e01fcbf49ecb28cdc08cf900def",
       "version_major": 2,
       "version_minor": 0
      },
      "text/plain": [
       "  0%|          | 0/40 [00:00<?, ?it/s]"
      ]
     },
     "metadata": {},
     "output_type": "display_data"
    },
    {
     "name": "stdout",
     "output_type": "stream",
     "text": [
      "Epoch: [21][0/40]\tTime 1.584 (1.584)\tData 1.370 (1.370)\tLoss 1.3318 (1.3318)\tPrec@1 58.301 (58.301)\n",
      "Test: [0/10]\tTime 0.685 (0.685)\tLoss 1.1859 (1.1859)\tPrec@1 58.887 (58.887)\n",
      " * Prec@1 56.940\n",
      "alpha1 9.220929145812988\n",
      "Best prec1 :  56.939999865722655\n",
      "current lr 9.77919e-04\n"
     ]
    },
    {
     "data": {
      "application/vnd.jupyter.widget-view+json": {
       "model_id": "0aa21b5daf0a40b0b67f62b55cbe2b86",
       "version_major": 2,
       "version_minor": 0
      },
      "text/plain": [
       "  0%|          | 0/40 [00:00<?, ?it/s]"
      ]
     },
     "metadata": {},
     "output_type": "display_data"
    },
    {
     "name": "stdout",
     "output_type": "stream",
     "text": [
      "Epoch: [22][0/40]\tTime 1.681 (1.681)\tData 1.466 (1.466)\tLoss 1.3687 (1.3687)\tPrec@1 57.422 (57.422)\n",
      "Test: [0/10]\tTime 0.725 (0.725)\tLoss 1.1246 (1.1246)\tPrec@1 60.449 (60.449)\n",
      " * Prec@1 58.810\n",
      "alpha1 9.183290481567383\n",
      "Best prec1 :  58.80999991455078\n",
      "current lr 9.75553e-04\n"
     ]
    },
    {
     "data": {
      "application/vnd.jupyter.widget-view+json": {
       "model_id": "0b859487f4414208bcd061a13b98f894",
       "version_major": 2,
       "version_minor": 0
      },
      "text/plain": [
       "  0%|          | 0/40 [00:00<?, ?it/s]"
      ]
     },
     "metadata": {},
     "output_type": "display_data"
    },
    {
     "name": "stdout",
     "output_type": "stream",
     "text": [
      "Epoch: [23][0/40]\tTime 1.722 (1.722)\tData 1.508 (1.508)\tLoss 1.3192 (1.3192)\tPrec@1 58.984 (58.984)\n",
      "Test: [0/10]\tTime 0.661 (0.661)\tLoss 1.1612 (1.1612)\tPrec@1 60.059 (60.059)\n",
      " * Prec@1 58.600\n",
      "alpha1 9.145798683166504\n",
      "Best prec1 :  58.80999991455078\n",
      "current lr 9.73070e-04\n"
     ]
    },
    {
     "data": {
      "application/vnd.jupyter.widget-view+json": {
       "model_id": "ef471862728b40ad81fca5072d91b089",
       "version_major": 2,
       "version_minor": 0
      },
      "text/plain": [
       "  0%|          | 0/40 [00:00<?, ?it/s]"
      ]
     },
     "metadata": {},
     "output_type": "display_data"
    },
    {
     "name": "stdout",
     "output_type": "stream",
     "text": [
      "Epoch: [24][0/40]\tTime 1.397 (1.397)\tData 1.182 (1.182)\tLoss 1.2472 (1.2472)\tPrec@1 60.742 (60.742)\n",
      "Test: [0/10]\tTime 0.612 (0.612)\tLoss 1.2018 (1.2018)\tPrec@1 58.398 (58.398)\n",
      " * Prec@1 56.800\n",
      "alpha1 9.108458518981934\n",
      "Best prec1 :  58.80999991455078\n",
      "current lr 9.70470e-04\n"
     ]
    },
    {
     "data": {
      "application/vnd.jupyter.widget-view+json": {
       "model_id": "1381ffa6997347219fb69e4b13f355ea",
       "version_major": 2,
       "version_minor": 0
      },
      "text/plain": [
       "  0%|          | 0/40 [00:00<?, ?it/s]"
      ]
     },
     "metadata": {},
     "output_type": "display_data"
    },
    {
     "name": "stdout",
     "output_type": "stream",
     "text": [
      "Epoch: [25][0/40]\tTime 1.719 (1.719)\tData 1.505 (1.505)\tLoss 1.2314 (1.2314)\tPrec@1 62.793 (62.793)\n",
      "Test: [0/10]\tTime 0.720 (0.720)\tLoss 0.9852 (0.9852)\tPrec@1 66.016 (66.016)\n",
      " * Prec@1 63.500\n",
      "alpha1 9.071272850036621\n",
      "Best prec1 :  63.499999792480466\n",
      "current lr 9.67754e-04\n"
     ]
    },
    {
     "data": {
      "application/vnd.jupyter.widget-view+json": {
       "model_id": "55f8a16405674df486f736d075b94637",
       "version_major": 2,
       "version_minor": 0
      },
      "text/plain": [
       "  0%|          | 0/40 [00:00<?, ?it/s]"
      ]
     },
     "metadata": {},
     "output_type": "display_data"
    },
    {
     "name": "stdout",
     "output_type": "stream",
     "text": [
      "Epoch: [26][0/40]\tTime 1.691 (1.691)\tData 1.476 (1.476)\tLoss 1.1923 (1.1923)\tPrec@1 64.551 (64.551)\n",
      "Test: [0/10]\tTime 0.693 (0.693)\tLoss 0.9899 (0.9899)\tPrec@1 65.723 (65.723)\n",
      " * Prec@1 63.640\n",
      "alpha1 9.034245491027832\n",
      "Best prec1 :  63.63999975585938\n",
      "current lr 9.64923e-04\n"
     ]
    },
    {
     "data": {
      "application/vnd.jupyter.widget-view+json": {
       "model_id": "c7881f0ee78c48cdb61fc5237287064b",
       "version_major": 2,
       "version_minor": 0
      },
      "text/plain": [
       "  0%|          | 0/40 [00:00<?, ?it/s]"
      ]
     },
     "metadata": {},
     "output_type": "display_data"
    },
    {
     "name": "stdout",
     "output_type": "stream",
     "text": [
      "Epoch: [27][0/40]\tTime 1.601 (1.601)\tData 1.386 (1.386)\tLoss 1.1838 (1.1838)\tPrec@1 62.207 (62.207)\n",
      "Test: [0/10]\tTime 0.608 (0.608)\tLoss 1.0562 (1.0562)\tPrec@1 63.574 (63.574)\n",
      " * Prec@1 61.650\n",
      "alpha1 8.997376441955566\n",
      "Best prec1 :  63.63999975585938\n",
      "current lr 9.61978e-04\n"
     ]
    },
    {
     "data": {
      "application/vnd.jupyter.widget-view+json": {
       "model_id": "ad3097d2d6d24b1a9ef6c93447755992",
       "version_major": 2,
       "version_minor": 0
      },
      "text/plain": [
       "  0%|          | 0/40 [00:00<?, ?it/s]"
      ]
     },
     "metadata": {},
     "output_type": "display_data"
    },
    {
     "name": "stdout",
     "output_type": "stream",
     "text": [
      "Epoch: [28][0/40]\tTime 1.347 (1.347)\tData 1.131 (1.131)\tLoss 1.2025 (1.2025)\tPrec@1 62.305 (62.305)\n",
      "Test: [0/10]\tTime 0.627 (0.627)\tLoss 1.0492 (1.0492)\tPrec@1 63.965 (63.965)\n",
      " * Prec@1 62.640\n",
      "alpha1 8.960668563842773\n",
      "Best prec1 :  63.63999975585938\n",
      "current lr 9.58918e-04\n"
     ]
    },
    {
     "data": {
      "application/vnd.jupyter.widget-view+json": {
       "model_id": "0e5339b336ef454baf9a673a11f1930b",
       "version_major": 2,
       "version_minor": 0
      },
      "text/plain": [
       "  0%|          | 0/40 [00:00<?, ?it/s]"
      ]
     },
     "metadata": {},
     "output_type": "display_data"
    },
    {
     "name": "stdout",
     "output_type": "stream",
     "text": [
      "Epoch: [29][0/40]\tTime 1.426 (1.426)\tData 1.211 (1.211)\tLoss 1.2129 (1.2129)\tPrec@1 61.816 (61.816)\n",
      "Test: [0/10]\tTime 0.584 (0.584)\tLoss 1.0696 (1.0696)\tPrec@1 64.355 (64.355)\n",
      " * Prec@1 62.850\n",
      "alpha1 8.92413330078125\n",
      "Best prec1 :  63.63999975585938\n",
      "current lr 9.55746e-04\n"
     ]
    },
    {
     "data": {
      "application/vnd.jupyter.widget-view+json": {
       "model_id": "350f8acf7cbb4de4a6ac82ceae01e35c",
       "version_major": 2,
       "version_minor": 0
      },
      "text/plain": [
       "  0%|          | 0/40 [00:00<?, ?it/s]"
      ]
     },
     "metadata": {},
     "output_type": "display_data"
    },
    {
     "name": "stdout",
     "output_type": "stream",
     "text": [
      "Epoch: [30][0/40]\tTime 1.685 (1.685)\tData 1.471 (1.471)\tLoss 1.2254 (1.2254)\tPrec@1 63.672 (63.672)\n",
      "Test: [0/10]\tTime 0.599 (0.599)\tLoss 0.9191 (0.9191)\tPrec@1 68.555 (68.555)\n",
      " * Prec@1 66.190\n",
      "alpha1 8.887763977050781\n",
      "Best prec1 :  66.18999998779297\n",
      "current lr 9.52461e-04\n"
     ]
    },
    {
     "data": {
      "application/vnd.jupyter.widget-view+json": {
       "model_id": "d5abc5e166064178af85d3f8215971be",
       "version_major": 2,
       "version_minor": 0
      },
      "text/plain": [
       "  0%|          | 0/40 [00:00<?, ?it/s]"
      ]
     },
     "metadata": {},
     "output_type": "display_data"
    },
    {
     "name": "stdout",
     "output_type": "stream",
     "text": [
      "Epoch: [31][0/40]\tTime 1.240 (1.240)\tData 1.025 (1.025)\tLoss 1.1821 (1.1821)\tPrec@1 62.500 (62.500)\n",
      "Test: [0/10]\tTime 0.622 (0.622)\tLoss 1.0791 (1.0791)\tPrec@1 63.574 (63.574)\n",
      " * Prec@1 62.630\n",
      "alpha1 8.851572036743164\n",
      "Best prec1 :  66.18999998779297\n",
      "current lr 9.49065e-04\n"
     ]
    },
    {
     "data": {
      "application/vnd.jupyter.widget-view+json": {
       "model_id": "9836b3a945994983b55e3546d78206c8",
       "version_major": 2,
       "version_minor": 0
      },
      "text/plain": [
       "  0%|          | 0/40 [00:00<?, ?it/s]"
      ]
     },
     "metadata": {},
     "output_type": "display_data"
    },
    {
     "name": "stdout",
     "output_type": "stream",
     "text": [
      "Epoch: [32][0/40]\tTime 1.565 (1.565)\tData 1.349 (1.349)\tLoss 1.1200 (1.1200)\tPrec@1 66.504 (66.504)\n",
      "Test: [0/10]\tTime 0.598 (0.598)\tLoss 0.9699 (0.9699)\tPrec@1 66.309 (66.309)\n",
      " * Prec@1 64.680\n",
      "alpha1 8.8155517578125\n",
      "Best prec1 :  66.18999998779297\n",
      "current lr 9.45558e-04\n"
     ]
    },
    {
     "data": {
      "application/vnd.jupyter.widget-view+json": {
       "model_id": "ea888e7fecc240fb90cfedb2928c8995",
       "version_major": 2,
       "version_minor": 0
      },
      "text/plain": [
       "  0%|          | 0/40 [00:00<?, ?it/s]"
      ]
     },
     "metadata": {},
     "output_type": "display_data"
    },
    {
     "name": "stdout",
     "output_type": "stream",
     "text": [
      "Epoch: [33][0/40]\tTime 1.320 (1.320)\tData 1.105 (1.105)\tLoss 1.1680 (1.1680)\tPrec@1 63.867 (63.867)\n",
      "Test: [0/10]\tTime 0.599 (0.599)\tLoss 0.9077 (0.9077)\tPrec@1 67.383 (67.383)\n",
      " * Prec@1 66.440\n",
      "alpha1 8.779711723327637\n",
      "Best prec1 :  66.44000020751953\n",
      "current lr 9.41941e-04\n"
     ]
    },
    {
     "data": {
      "application/vnd.jupyter.widget-view+json": {
       "model_id": "df3bd9a21228478a9849126e92c5b453",
       "version_major": 2,
       "version_minor": 0
      },
      "text/plain": [
       "  0%|          | 0/40 [00:00<?, ?it/s]"
      ]
     },
     "metadata": {},
     "output_type": "display_data"
    },
    {
     "name": "stdout",
     "output_type": "stream",
     "text": [
      "Epoch: [34][0/40]\tTime 1.391 (1.391)\tData 1.176 (1.176)\tLoss 1.1437 (1.1437)\tPrec@1 65.332 (65.332)\n",
      "Test: [0/10]\tTime 0.611 (0.611)\tLoss 0.9310 (0.9310)\tPrec@1 65.625 (65.625)\n",
      " * Prec@1 66.410\n",
      "alpha1 8.744054794311523\n",
      "Best prec1 :  66.44000020751953\n",
      "current lr 9.38215e-04\n"
     ]
    },
    {
     "data": {
      "application/vnd.jupyter.widget-view+json": {
       "model_id": "acceb210260f4f00b3d1f6a8f93ce4cd",
       "version_major": 2,
       "version_minor": 0
      },
      "text/plain": [
       "  0%|          | 0/40 [00:00<?, ?it/s]"
      ]
     },
     "metadata": {},
     "output_type": "display_data"
    },
    {
     "name": "stdout",
     "output_type": "stream",
     "text": [
      "Epoch: [35][0/40]\tTime 1.356 (1.356)\tData 1.142 (1.142)\tLoss 1.0895 (1.0895)\tPrec@1 66.309 (66.309)\n",
      "Test: [0/10]\tTime 0.731 (0.731)\tLoss 1.0188 (1.0188)\tPrec@1 66.309 (66.309)\n",
      " * Prec@1 65.790\n",
      "alpha1 8.708582878112793\n",
      "Best prec1 :  66.44000020751953\n",
      "current lr 9.34381e-04\n"
     ]
    },
    {
     "data": {
      "application/vnd.jupyter.widget-view+json": {
       "model_id": "34970a3da0a54d5da9da1bf9c9f19235",
       "version_major": 2,
       "version_minor": 0
      },
      "text/plain": [
       "  0%|          | 0/40 [00:00<?, ?it/s]"
      ]
     },
     "metadata": {},
     "output_type": "display_data"
    },
    {
     "name": "stdout",
     "output_type": "stream",
     "text": [
      "Epoch: [36][0/40]\tTime 1.674 (1.674)\tData 1.459 (1.459)\tLoss 1.0840 (1.0840)\tPrec@1 67.383 (67.383)\n",
      "Test: [0/10]\tTime 0.605 (0.605)\tLoss 0.8829 (0.8829)\tPrec@1 69.629 (69.629)\n",
      " * Prec@1 67.230\n",
      "alpha1 8.673295974731445\n",
      "Best prec1 :  67.23000015869141\n",
      "current lr 9.30441e-04\n"
     ]
    },
    {
     "data": {
      "application/vnd.jupyter.widget-view+json": {
       "model_id": "efbd9d2d44404b3c80e7297e77386648",
       "version_major": 2,
       "version_minor": 0
      },
      "text/plain": [
       "  0%|          | 0/40 [00:00<?, ?it/s]"
      ]
     },
     "metadata": {},
     "output_type": "display_data"
    },
    {
     "name": "stdout",
     "output_type": "stream",
     "text": [
      "Epoch: [37][0/40]\tTime 1.441 (1.441)\tData 1.226 (1.226)\tLoss 1.1079 (1.1079)\tPrec@1 66.797 (66.797)\n",
      "Test: [0/10]\tTime 0.618 (0.618)\tLoss 0.8587 (0.8587)\tPrec@1 70.215 (70.215)\n",
      " * Prec@1 67.190\n",
      "alpha1 8.638197898864746\n",
      "Best prec1 :  67.23000015869141\n",
      "current lr 9.26394e-04\n"
     ]
    },
    {
     "data": {
      "application/vnd.jupyter.widget-view+json": {
       "model_id": "e7777108e2c9408f989c838807b34dc5",
       "version_major": 2,
       "version_minor": 0
      },
      "text/plain": [
       "  0%|          | 0/40 [00:00<?, ?it/s]"
      ]
     },
     "metadata": {},
     "output_type": "display_data"
    },
    {
     "name": "stdout",
     "output_type": "stream",
     "text": [
      "Epoch: [38][0/40]\tTime 1.635 (1.635)\tData 1.421 (1.421)\tLoss 1.0584 (1.0584)\tPrec@1 65.723 (65.723)\n",
      "Test: [0/10]\tTime 0.698 (0.698)\tLoss 1.0037 (1.0037)\tPrec@1 65.723 (65.723)\n",
      " * Prec@1 64.890\n",
      "alpha1 8.603294372558594\n",
      "Best prec1 :  67.23000015869141\n",
      "current lr 9.22242e-04\n"
     ]
    },
    {
     "data": {
      "application/vnd.jupyter.widget-view+json": {
       "model_id": "2b33c051da814607a9a2538597436478",
       "version_major": 2,
       "version_minor": 0
      },
      "text/plain": [
       "  0%|          | 0/40 [00:00<?, ?it/s]"
      ]
     },
     "metadata": {},
     "output_type": "display_data"
    },
    {
     "name": "stdout",
     "output_type": "stream",
     "text": [
      "Epoch: [39][0/40]\tTime 1.649 (1.649)\tData 1.435 (1.435)\tLoss 1.0583 (1.0583)\tPrec@1 67.383 (67.383)\n",
      "Test: [0/10]\tTime 0.579 (0.579)\tLoss 0.8544 (0.8544)\tPrec@1 70.312 (70.312)\n",
      " * Prec@1 68.740\n",
      "alpha1 8.568586349487305\n",
      "Best prec1 :  68.73999993896484\n",
      "current lr 9.17986e-04\n"
     ]
    },
    {
     "data": {
      "application/vnd.jupyter.widget-view+json": {
       "model_id": "30d78bd1bfe645ed88c5f7147acfcf26",
       "version_major": 2,
       "version_minor": 0
      },
      "text/plain": [
       "  0%|          | 0/40 [00:00<?, ?it/s]"
      ]
     },
     "metadata": {},
     "output_type": "display_data"
    },
    {
     "name": "stdout",
     "output_type": "stream",
     "text": [
      "Epoch: [40][0/40]\tTime 1.643 (1.643)\tData 1.429 (1.429)\tLoss 0.9807 (0.9807)\tPrec@1 70.215 (70.215)\n",
      "Test: [0/10]\tTime 0.621 (0.621)\tLoss 0.8872 (0.8872)\tPrec@1 69.629 (69.629)\n",
      " * Prec@1 68.660\n",
      "alpha1 8.534075736999512\n",
      "Best prec1 :  68.73999993896484\n",
      "current lr 9.13627e-04\n"
     ]
    },
    {
     "data": {
      "application/vnd.jupyter.widget-view+json": {
       "model_id": "48eebc16778b45068e46f9950404b755",
       "version_major": 2,
       "version_minor": 0
      },
      "text/plain": [
       "  0%|          | 0/40 [00:00<?, ?it/s]"
      ]
     },
     "metadata": {},
     "output_type": "display_data"
    },
    {
     "name": "stdout",
     "output_type": "stream",
     "text": [
      "Epoch: [41][0/40]\tTime 1.702 (1.702)\tData 1.488 (1.488)\tLoss 1.0029 (1.0029)\tPrec@1 70.020 (70.020)\n",
      "Test: [0/10]\tTime 0.655 (0.655)\tLoss 0.7958 (0.7958)\tPrec@1 71.777 (71.777)\n",
      " * Prec@1 71.750\n",
      "alpha1 8.49976634979248\n",
      "Best prec1 :  71.74999998779298\n",
      "current lr 9.09166e-04\n"
     ]
    },
    {
     "data": {
      "application/vnd.jupyter.widget-view+json": {
       "model_id": "4b4b6fdd15dd4ba2b0460bf1886f2f07",
       "version_major": 2,
       "version_minor": 0
      },
      "text/plain": [
       "  0%|          | 0/40 [00:00<?, ?it/s]"
      ]
     },
     "metadata": {},
     "output_type": "display_data"
    },
    {
     "name": "stdout",
     "output_type": "stream",
     "text": [
      "Epoch: [42][0/40]\tTime 1.411 (1.411)\tData 1.197 (1.197)\tLoss 0.9367 (0.9367)\tPrec@1 72.070 (72.070)\n",
      "Test: [0/10]\tTime 0.595 (0.595)\tLoss 0.8753 (0.8753)\tPrec@1 69.043 (69.043)\n",
      " * Prec@1 67.730\n",
      "alpha1 8.46566104888916\n",
      "Best prec1 :  71.74999998779298\n",
      "current lr 9.04604e-04\n"
     ]
    },
    {
     "data": {
      "application/vnd.jupyter.widget-view+json": {
       "model_id": "c7310223fee64ed1851ae70ba3ce90d6",
       "version_major": 2,
       "version_minor": 0
      },
      "text/plain": [
       "  0%|          | 0/40 [00:00<?, ?it/s]"
      ]
     },
     "metadata": {},
     "output_type": "display_data"
    },
    {
     "name": "stdout",
     "output_type": "stream",
     "text": [
      "Epoch: [43][0/40]\tTime 1.333 (1.333)\tData 1.119 (1.119)\tLoss 0.9086 (0.9086)\tPrec@1 72.559 (72.559)\n",
      "Test: [0/10]\tTime 0.697 (0.697)\tLoss 0.8022 (0.8022)\tPrec@1 72.559 (72.559)\n",
      " * Prec@1 71.200\n",
      "alpha1 8.43175983428955\n",
      "Best prec1 :  71.74999998779298\n",
      "current lr 8.99942e-04\n"
     ]
    },
    {
     "data": {
      "application/vnd.jupyter.widget-view+json": {
       "model_id": "6dcdd4b93b5d4960b9c62f766ad2ef64",
       "version_major": 2,
       "version_minor": 0
      },
      "text/plain": [
       "  0%|          | 0/40 [00:00<?, ?it/s]"
      ]
     },
     "metadata": {},
     "output_type": "display_data"
    },
    {
     "name": "stdout",
     "output_type": "stream",
     "text": [
      "Epoch: [44][0/40]\tTime 1.540 (1.540)\tData 1.326 (1.326)\tLoss 0.9399 (0.9399)\tPrec@1 73.145 (73.145)\n",
      "Test: [0/10]\tTime 0.624 (0.624)\tLoss 0.7667 (0.7667)\tPrec@1 72.266 (72.266)\n",
      " * Prec@1 71.640\n",
      "alpha1 8.398069381713867\n",
      "Best prec1 :  71.74999998779298\n",
      "current lr 8.95182e-04\n"
     ]
    },
    {
     "data": {
      "application/vnd.jupyter.widget-view+json": {
       "model_id": "f86f36e48b9741e2a18b02a2839ab2ca",
       "version_major": 2,
       "version_minor": 0
      },
      "text/plain": [
       "  0%|          | 0/40 [00:00<?, ?it/s]"
      ]
     },
     "metadata": {},
     "output_type": "display_data"
    },
    {
     "name": "stdout",
     "output_type": "stream",
     "text": [
      "Epoch: [45][0/40]\tTime 1.216 (1.216)\tData 1.001 (1.001)\tLoss 0.9475 (0.9475)\tPrec@1 72.266 (72.266)\n",
      "Test: [0/10]\tTime 0.596 (0.596)\tLoss 0.7860 (0.7860)\tPrec@1 71.777 (71.777)\n",
      " * Prec@1 71.620\n",
      "alpha1 8.364585876464844\n",
      "Best prec1 :  71.74999998779298\n",
      "current lr 8.90325e-04\n"
     ]
    },
    {
     "data": {
      "application/vnd.jupyter.widget-view+json": {
       "model_id": "7bc8f1bd239749a1891b23eaa762242d",
       "version_major": 2,
       "version_minor": 0
      },
      "text/plain": [
       "  0%|          | 0/40 [00:00<?, ?it/s]"
      ]
     },
     "metadata": {},
     "output_type": "display_data"
    },
    {
     "name": "stdout",
     "output_type": "stream",
     "text": [
      "Epoch: [46][0/40]\tTime 1.560 (1.560)\tData 1.345 (1.345)\tLoss 0.9765 (0.9765)\tPrec@1 70.605 (70.605)\n",
      "Test: [0/10]\tTime 0.611 (0.611)\tLoss 0.8119 (0.8119)\tPrec@1 71.875 (71.875)\n",
      " * Prec@1 70.070\n",
      "alpha1 8.331320762634277\n",
      "Best prec1 :  71.74999998779298\n",
      "current lr 8.85371e-04\n"
     ]
    },
    {
     "data": {
      "application/vnd.jupyter.widget-view+json": {
       "model_id": "6f124712f7044f46b3c82df2b9364ff7",
       "version_major": 2,
       "version_minor": 0
      },
      "text/plain": [
       "  0%|          | 0/40 [00:00<?, ?it/s]"
      ]
     },
     "metadata": {},
     "output_type": "display_data"
    },
    {
     "name": "stdout",
     "output_type": "stream",
     "text": [
      "Epoch: [47][0/40]\tTime 1.409 (1.409)\tData 1.193 (1.193)\tLoss 0.9703 (0.9703)\tPrec@1 71.777 (71.777)\n",
      "Test: [0/10]\tTime 0.626 (0.626)\tLoss 0.7166 (0.7166)\tPrec@1 74.512 (74.512)\n",
      " * Prec@1 72.800\n",
      "alpha1 8.29826831817627\n",
      "Best prec1 :  72.79999967041016\n",
      "current lr 8.80323e-04\n"
     ]
    },
    {
     "data": {
      "application/vnd.jupyter.widget-view+json": {
       "model_id": "433d8274c0dc4257abfd1926bb7074d4",
       "version_major": 2,
       "version_minor": 0
      },
      "text/plain": [
       "  0%|          | 0/40 [00:00<?, ?it/s]"
      ]
     },
     "metadata": {},
     "output_type": "display_data"
    },
    {
     "name": "stdout",
     "output_type": "stream",
     "text": [
      "Epoch: [48][0/40]\tTime 1.434 (1.434)\tData 1.219 (1.219)\tLoss 0.9479 (0.9479)\tPrec@1 72.266 (72.266)\n",
      "Test: [0/10]\tTime 0.614 (0.614)\tLoss 0.8057 (0.8057)\tPrec@1 70.117 (70.117)\n",
      " * Prec@1 70.080\n",
      "alpha1 8.265429496765137\n",
      "Best prec1 :  72.79999967041016\n",
      "current lr 8.75180e-04\n"
     ]
    },
    {
     "data": {
      "application/vnd.jupyter.widget-view+json": {
       "model_id": "f99568e3dea24690be8764180cc1cceb",
       "version_major": 2,
       "version_minor": 0
      },
      "text/plain": [
       "  0%|          | 0/40 [00:00<?, ?it/s]"
      ]
     },
     "metadata": {},
     "output_type": "display_data"
    },
    {
     "name": "stdout",
     "output_type": "stream",
     "text": [
      "Epoch: [49][0/40]\tTime 1.514 (1.514)\tData 1.299 (1.299)\tLoss 0.9609 (0.9609)\tPrec@1 69.824 (69.824)\n",
      "Test: [0/10]\tTime 0.662 (0.662)\tLoss 0.7305 (0.7305)\tPrec@1 73.926 (73.926)\n",
      " * Prec@1 72.860\n",
      "alpha1 8.232813835144043\n",
      "Best prec1 :  72.86000002441406\n",
      "current lr 8.69946e-04\n"
     ]
    },
    {
     "data": {
      "application/vnd.jupyter.widget-view+json": {
       "model_id": "190d94cf488b42d8b5162c4d8224f948",
       "version_major": 2,
       "version_minor": 0
      },
      "text/plain": [
       "  0%|          | 0/40 [00:00<?, ?it/s]"
      ]
     },
     "metadata": {},
     "output_type": "display_data"
    },
    {
     "name": "stdout",
     "output_type": "stream",
     "text": [
      "Epoch: [50][0/40]\tTime 1.721 (1.721)\tData 1.507 (1.507)\tLoss 0.9163 (0.9163)\tPrec@1 71.582 (71.582)\n",
      "Test: [0/10]\tTime 0.600 (0.600)\tLoss 0.8169 (0.8169)\tPrec@1 72.363 (72.363)\n",
      " * Prec@1 70.750\n",
      "alpha1 8.20042610168457\n",
      "Best prec1 :  72.86000002441406\n",
      "current lr 8.64620e-04\n"
     ]
    },
    {
     "data": {
      "application/vnd.jupyter.widget-view+json": {
       "model_id": "65615c8020c141ebb1b1df399395718f",
       "version_major": 2,
       "version_minor": 0
      },
      "text/plain": [
       "  0%|          | 0/40 [00:00<?, ?it/s]"
      ]
     },
     "metadata": {},
     "output_type": "display_data"
    },
    {
     "name": "stdout",
     "output_type": "stream",
     "text": [
      "Epoch: [51][0/40]\tTime 1.407 (1.407)\tData 1.192 (1.192)\tLoss 0.9176 (0.9176)\tPrec@1 70.410 (70.410)\n",
      "Test: [0/10]\tTime 0.611 (0.611)\tLoss 0.6960 (0.6960)\tPrec@1 74.414 (74.414)\n",
      " * Prec@1 73.180\n",
      "alpha1 8.168262481689453\n",
      "Best prec1 :  73.18000024414063\n",
      "current lr 8.59204e-04\n"
     ]
    },
    {
     "data": {
      "application/vnd.jupyter.widget-view+json": {
       "model_id": "b53cddf3816b456db9e3afce42c0b56b",
       "version_major": 2,
       "version_minor": 0
      },
      "text/plain": [
       "  0%|          | 0/40 [00:00<?, ?it/s]"
      ]
     },
     "metadata": {},
     "output_type": "display_data"
    },
    {
     "name": "stdout",
     "output_type": "stream",
     "text": [
      "Epoch: [52][0/40]\tTime 1.364 (1.364)\tData 1.149 (1.149)\tLoss 0.8821 (0.8821)\tPrec@1 74.023 (74.023)\n",
      "Test: [0/10]\tTime 0.605 (0.605)\tLoss 0.6871 (0.6871)\tPrec@1 74.902 (74.902)\n",
      " * Prec@1 75.330\n",
      "alpha1 8.136324882507324\n",
      "Best prec1 :  75.3299998779297\n",
      "current lr 8.53700e-04\n"
     ]
    },
    {
     "data": {
      "application/vnd.jupyter.widget-view+json": {
       "model_id": "f66a926f7512414783069c7f8813f604",
       "version_major": 2,
       "version_minor": 0
      },
      "text/plain": [
       "  0%|          | 0/40 [00:00<?, ?it/s]"
      ]
     },
     "metadata": {},
     "output_type": "display_data"
    },
    {
     "name": "stdout",
     "output_type": "stream",
     "text": [
      "Epoch: [53][0/40]\tTime 1.607 (1.607)\tData 1.392 (1.392)\tLoss 0.8825 (0.8825)\tPrec@1 73.730 (73.730)\n",
      "Test: [0/10]\tTime 0.598 (0.598)\tLoss 0.7293 (0.7293)\tPrec@1 73.242 (73.242)\n",
      " * Prec@1 72.320\n",
      "alpha1 8.104616165161133\n",
      "Best prec1 :  75.3299998779297\n",
      "current lr 8.48108e-04\n"
     ]
    },
    {
     "data": {
      "application/vnd.jupyter.widget-view+json": {
       "model_id": "679cdc1089cf42fbbdc08d760aaead59",
       "version_major": 2,
       "version_minor": 0
      },
      "text/plain": [
       "  0%|          | 0/40 [00:00<?, ?it/s]"
      ]
     },
     "metadata": {},
     "output_type": "display_data"
    },
    {
     "name": "stdout",
     "output_type": "stream",
     "text": [
      "Epoch: [54][0/40]\tTime 1.369 (1.369)\tData 1.154 (1.154)\tLoss 0.9344 (0.9344)\tPrec@1 70.605 (70.605)\n",
      "Test: [0/10]\tTime 0.625 (0.625)\tLoss 0.8009 (0.8009)\tPrec@1 71.191 (71.191)\n",
      " * Prec@1 71.120\n",
      "alpha1 8.073141098022461\n",
      "Best prec1 :  75.3299998779297\n",
      "current lr 8.42431e-04\n"
     ]
    },
    {
     "data": {
      "application/vnd.jupyter.widget-view+json": {
       "model_id": "1cef91c683e44143890fc2e358f3ac33",
       "version_major": 2,
       "version_minor": 0
      },
      "text/plain": [
       "  0%|          | 0/40 [00:00<?, ?it/s]"
      ]
     },
     "metadata": {},
     "output_type": "display_data"
    },
    {
     "name": "stdout",
     "output_type": "stream",
     "text": [
      "Epoch: [55][0/40]\tTime 1.666 (1.666)\tData 1.450 (1.450)\tLoss 0.9277 (0.9277)\tPrec@1 72.266 (72.266)\n",
      "Test: [0/10]\tTime 0.735 (0.735)\tLoss 0.7311 (0.7311)\tPrec@1 72.656 (72.656)\n",
      " * Prec@1 72.280\n",
      "alpha1 8.041898727416992\n",
      "Best prec1 :  75.3299998779297\n",
      "current lr 8.36670e-04\n"
     ]
    },
    {
     "data": {
      "application/vnd.jupyter.widget-view+json": {
       "model_id": "791778cbfe27403aa64cf85122ea2e1d",
       "version_major": 2,
       "version_minor": 0
      },
      "text/plain": [
       "  0%|          | 0/40 [00:00<?, ?it/s]"
      ]
     },
     "metadata": {},
     "output_type": "display_data"
    },
    {
     "name": "stdout",
     "output_type": "stream",
     "text": [
      "Epoch: [56][0/40]\tTime 1.724 (1.724)\tData 1.509 (1.509)\tLoss 0.8928 (0.8928)\tPrec@1 71.582 (71.582)\n",
      "Test: [0/10]\tTime 0.688 (0.688)\tLoss 0.7600 (0.7600)\tPrec@1 73.730 (73.730)\n",
      " * Prec@1 72.940\n",
      "alpha1 8.010885238647461\n",
      "Best prec1 :  75.3299998779297\n",
      "current lr 8.30825e-04\n"
     ]
    },
    {
     "data": {
      "application/vnd.jupyter.widget-view+json": {
       "model_id": "8bd9762e49614e5ab62d6eda275e07d6",
       "version_major": 2,
       "version_minor": 0
      },
      "text/plain": [
       "  0%|          | 0/40 [00:00<?, ?it/s]"
      ]
     },
     "metadata": {},
     "output_type": "display_data"
    },
    {
     "name": "stdout",
     "output_type": "stream",
     "text": [
      "Epoch: [57][0/40]\tTime 1.317 (1.317)\tData 1.102 (1.102)\tLoss 0.8805 (0.8805)\tPrec@1 71.289 (71.289)\n",
      "Test: [0/10]\tTime 0.675 (0.675)\tLoss 0.6578 (0.6578)\tPrec@1 75.391 (75.391)\n",
      " * Prec@1 75.040\n",
      "alpha1 7.980109214782715\n",
      "Best prec1 :  75.3299998779297\n",
      "current lr 8.24899e-04\n"
     ]
    },
    {
     "data": {
      "application/vnd.jupyter.widget-view+json": {
       "model_id": "fedb115636cc459aa7efa6b716420190",
       "version_major": 2,
       "version_minor": 0
      },
      "text/plain": [
       "  0%|          | 0/40 [00:00<?, ?it/s]"
      ]
     },
     "metadata": {},
     "output_type": "display_data"
    },
    {
     "name": "stdout",
     "output_type": "stream",
     "text": [
      "Epoch: [58][0/40]\tTime 1.244 (1.244)\tData 1.030 (1.030)\tLoss 0.8273 (0.8273)\tPrec@1 76.562 (76.562)\n",
      "Test: [0/10]\tTime 0.695 (0.695)\tLoss 0.8112 (0.8112)\tPrec@1 73.633 (73.633)\n",
      " * Prec@1 72.040\n",
      "alpha1 7.9495720863342285\n",
      "Best prec1 :  75.3299998779297\n",
      "current lr 8.18893e-04\n"
     ]
    },
    {
     "data": {
      "application/vnd.jupyter.widget-view+json": {
       "model_id": "a1cc93e6f8d54d7cacf1ce28b75bffff",
       "version_major": 2,
       "version_minor": 0
      },
      "text/plain": [
       "  0%|          | 0/40 [00:00<?, ?it/s]"
      ]
     },
     "metadata": {},
     "output_type": "display_data"
    },
    {
     "name": "stdout",
     "output_type": "stream",
     "text": [
      "Epoch: [59][0/40]\tTime 1.369 (1.369)\tData 1.153 (1.153)\tLoss 0.8157 (0.8157)\tPrec@1 75.293 (75.293)\n",
      "Test: [0/10]\tTime 0.609 (0.609)\tLoss 0.6988 (0.6988)\tPrec@1 74.902 (74.902)\n",
      " * Prec@1 73.750\n",
      "alpha1 7.919276237487793\n",
      "Best prec1 :  75.3299998779297\n",
      "current lr 8.12809e-04\n"
     ]
    },
    {
     "data": {
      "application/vnd.jupyter.widget-view+json": {
       "model_id": "2b2b14dde4e1420cbb62863b54b5cd58",
       "version_major": 2,
       "version_minor": 0
      },
      "text/plain": [
       "  0%|          | 0/40 [00:00<?, ?it/s]"
      ]
     },
     "metadata": {},
     "output_type": "display_data"
    },
    {
     "name": "stdout",
     "output_type": "stream",
     "text": [
      "Epoch: [60][0/40]\tTime 1.718 (1.718)\tData 1.504 (1.504)\tLoss 0.8765 (0.8765)\tPrec@1 72.266 (72.266)\n",
      "Test: [0/10]\tTime 0.650 (0.650)\tLoss 0.7048 (0.7048)\tPrec@1 74.707 (74.707)\n",
      " * Prec@1 74.860\n",
      "alpha1 7.889222621917725\n",
      "Best prec1 :  75.3299998779297\n",
      "current lr 8.06647e-04\n"
     ]
    },
    {
     "data": {
      "application/vnd.jupyter.widget-view+json": {
       "model_id": "72d7366f3e6142a2a0f55af7c7c9a9af",
       "version_major": 2,
       "version_minor": 0
      },
      "text/plain": [
       "  0%|          | 0/40 [00:00<?, ?it/s]"
      ]
     },
     "metadata": {},
     "output_type": "display_data"
    },
    {
     "name": "stdout",
     "output_type": "stream",
     "text": [
      "Epoch: [61][0/40]\tTime 1.453 (1.453)\tData 1.238 (1.238)\tLoss 0.8339 (0.8339)\tPrec@1 75.098 (75.098)\n",
      "Test: [0/10]\tTime 0.667 (0.667)\tLoss 0.6950 (0.6950)\tPrec@1 76.270 (76.270)\n",
      " * Prec@1 75.180\n",
      "alpha1 7.859412670135498\n",
      "Best prec1 :  75.3299998779297\n",
      "current lr 8.00410e-04\n"
     ]
    },
    {
     "data": {
      "application/vnd.jupyter.widget-view+json": {
       "model_id": "e5d23d2d149444a49353fcb6fe67eec2",
       "version_major": 2,
       "version_minor": 0
      },
      "text/plain": [
       "  0%|          | 0/40 [00:00<?, ?it/s]"
      ]
     },
     "metadata": {},
     "output_type": "display_data"
    },
    {
     "name": "stdout",
     "output_type": "stream",
     "text": [
      "Epoch: [62][0/40]\tTime 1.678 (1.678)\tData 1.464 (1.464)\tLoss 0.8100 (0.8100)\tPrec@1 76.855 (76.855)\n",
      "Test: [0/10]\tTime 0.593 (0.593)\tLoss 0.6884 (0.6884)\tPrec@1 75.586 (75.586)\n",
      " * Prec@1 75.750\n",
      "alpha1 7.829848766326904\n",
      "Best prec1 :  75.74999997558594\n",
      "current lr 7.94099e-04\n"
     ]
    },
    {
     "data": {
      "application/vnd.jupyter.widget-view+json": {
       "model_id": "ba48c210d0e94263bbc6914aabc9e243",
       "version_major": 2,
       "version_minor": 0
      },
      "text/plain": [
       "  0%|          | 0/40 [00:00<?, ?it/s]"
      ]
     },
     "metadata": {},
     "output_type": "display_data"
    },
    {
     "name": "stdout",
     "output_type": "stream",
     "text": [
      "Epoch: [63][0/40]\tTime 1.715 (1.715)\tData 1.500 (1.500)\tLoss 0.7970 (0.7970)\tPrec@1 75.977 (75.977)\n",
      "Test: [0/10]\tTime 0.595 (0.595)\tLoss 0.8388 (0.8388)\tPrec@1 71.973 (71.973)\n",
      " * Prec@1 71.610\n",
      "alpha1 7.800532817840576\n",
      "Best prec1 :  75.74999997558594\n",
      "current lr 7.87715e-04\n"
     ]
    },
    {
     "data": {
      "application/vnd.jupyter.widget-view+json": {
       "model_id": "93e4ad6dbdaa4d32bf40cce598bc8357",
       "version_major": 2,
       "version_minor": 0
      },
      "text/plain": [
       "  0%|          | 0/40 [00:00<?, ?it/s]"
      ]
     },
     "metadata": {},
     "output_type": "display_data"
    },
    {
     "name": "stdout",
     "output_type": "stream",
     "text": [
      "Epoch: [64][0/40]\tTime 1.549 (1.549)\tData 1.334 (1.334)\tLoss 0.7950 (0.7950)\tPrec@1 75.098 (75.098)\n",
      "Test: [0/10]\tTime 0.699 (0.699)\tLoss 0.7322 (0.7322)\tPrec@1 75.879 (75.879)\n",
      " * Prec@1 74.070\n",
      "alpha1 7.771466255187988\n",
      "Best prec1 :  75.74999997558594\n",
      "current lr 7.81261e-04\n"
     ]
    },
    {
     "data": {
      "application/vnd.jupyter.widget-view+json": {
       "model_id": "ebcbfc848a0a486697000937978e08e6",
       "version_major": 2,
       "version_minor": 0
      },
      "text/plain": [
       "  0%|          | 0/40 [00:00<?, ?it/s]"
      ]
     },
     "metadata": {},
     "output_type": "display_data"
    },
    {
     "name": "stdout",
     "output_type": "stream",
     "text": [
      "Epoch: [65][0/40]\tTime 1.217 (1.217)\tData 1.003 (1.003)\tLoss 0.7921 (0.7921)\tPrec@1 75.488 (75.488)\n",
      "Test: [0/10]\tTime 0.587 (0.587)\tLoss 0.6336 (0.6336)\tPrec@1 77.930 (77.930)\n",
      " * Prec@1 76.520\n",
      "alpha1 7.742652416229248\n",
      "Best prec1 :  76.51999965820312\n",
      "current lr 7.74737e-04\n"
     ]
    },
    {
     "data": {
      "application/vnd.jupyter.widget-view+json": {
       "model_id": "4d5f6ae2b0b244e6bf5f9e14d2208330",
       "version_major": 2,
       "version_minor": 0
      },
      "text/plain": [
       "  0%|          | 0/40 [00:00<?, ?it/s]"
      ]
     },
     "metadata": {},
     "output_type": "display_data"
    },
    {
     "name": "stdout",
     "output_type": "stream",
     "text": [
      "Epoch: [66][0/40]\tTime 1.257 (1.257)\tData 1.043 (1.043)\tLoss 0.8110 (0.8110)\tPrec@1 74.316 (74.316)\n",
      "Test: [0/10]\tTime 0.606 (0.606)\tLoss 0.6638 (0.6638)\tPrec@1 78.027 (78.027)\n",
      " * Prec@1 75.720\n",
      "alpha1 7.714094638824463\n",
      "Best prec1 :  76.51999965820312\n",
      "current lr 7.68145e-04\n"
     ]
    },
    {
     "data": {
      "application/vnd.jupyter.widget-view+json": {
       "model_id": "3ac15aa113644103bd4ed7040dbe093c",
       "version_major": 2,
       "version_minor": 0
      },
      "text/plain": [
       "  0%|          | 0/40 [00:00<?, ?it/s]"
      ]
     },
     "metadata": {},
     "output_type": "display_data"
    },
    {
     "name": "stdout",
     "output_type": "stream",
     "text": [
      "Epoch: [67][0/40]\tTime 1.680 (1.680)\tData 1.465 (1.465)\tLoss 0.7871 (0.7871)\tPrec@1 77.148 (77.148)\n",
      "Test: [0/10]\tTime 0.598 (0.598)\tLoss 0.7030 (0.7030)\tPrec@1 75.293 (75.293)\n",
      " * Prec@1 74.880\n",
      "alpha1 7.685789585113525\n",
      "Best prec1 :  76.51999965820312\n",
      "current lr 7.61488e-04\n"
     ]
    },
    {
     "data": {
      "application/vnd.jupyter.widget-view+json": {
       "model_id": "10abba9fa10849559f85793fc1452c4f",
       "version_major": 2,
       "version_minor": 0
      },
      "text/plain": [
       "  0%|          | 0/40 [00:00<?, ?it/s]"
      ]
     },
     "metadata": {},
     "output_type": "display_data"
    },
    {
     "name": "stdout",
     "output_type": "stream",
     "text": [
      "Epoch: [68][0/40]\tTime 1.701 (1.701)\tData 1.486 (1.486)\tLoss 0.8363 (0.8363)\tPrec@1 75.098 (75.098)\n",
      "Test: [0/10]\tTime 0.599 (0.599)\tLoss 0.6515 (0.6515)\tPrec@1 76.855 (76.855)\n",
      " * Prec@1 76.330\n",
      "alpha1 7.657740116119385\n",
      "Best prec1 :  76.51999965820312\n",
      "current lr 7.54766e-04\n"
     ]
    },
    {
     "data": {
      "application/vnd.jupyter.widget-view+json": {
       "model_id": "e93c1eece9d7490da8903f1e7a3773b7",
       "version_major": 2,
       "version_minor": 0
      },
      "text/plain": [
       "  0%|          | 0/40 [00:00<?, ?it/s]"
      ]
     },
     "metadata": {},
     "output_type": "display_data"
    },
    {
     "name": "stdout",
     "output_type": "stream",
     "text": [
      "Epoch: [69][0/40]\tTime 1.685 (1.685)\tData 1.470 (1.470)\tLoss 0.7209 (0.7209)\tPrec@1 79.102 (79.102)\n",
      "Test: [0/10]\tTime 0.668 (0.668)\tLoss 0.7183 (0.7183)\tPrec@1 76.270 (76.270)\n",
      " * Prec@1 74.920\n",
      "alpha1 7.629950046539307\n",
      "Best prec1 :  76.51999965820312\n",
      "current lr 7.47982e-04\n"
     ]
    },
    {
     "data": {
      "application/vnd.jupyter.widget-view+json": {
       "model_id": "fbbf756afea840eca20d2d3d617e2d03",
       "version_major": 2,
       "version_minor": 0
      },
      "text/plain": [
       "  0%|          | 0/40 [00:00<?, ?it/s]"
      ]
     },
     "metadata": {},
     "output_type": "display_data"
    },
    {
     "name": "stdout",
     "output_type": "stream",
     "text": [
      "Epoch: [70][0/40]\tTime 1.561 (1.561)\tData 1.346 (1.346)\tLoss 0.7735 (0.7735)\tPrec@1 75.977 (75.977)\n",
      "Test: [0/10]\tTime 0.630 (0.630)\tLoss 0.6742 (0.6742)\tPrec@1 76.758 (76.758)\n",
      " * Prec@1 75.750\n",
      "alpha1 7.602419376373291\n",
      "Best prec1 :  76.51999965820312\n",
      "current lr 7.41136e-04\n"
     ]
    },
    {
     "data": {
      "application/vnd.jupyter.widget-view+json": {
       "model_id": "d75ad59bf156416998350f01354d964f",
       "version_major": 2,
       "version_minor": 0
      },
      "text/plain": [
       "  0%|          | 0/40 [00:00<?, ?it/s]"
      ]
     },
     "metadata": {},
     "output_type": "display_data"
    },
    {
     "name": "stdout",
     "output_type": "stream",
     "text": [
      "Epoch: [71][0/40]\tTime 1.581 (1.581)\tData 1.366 (1.366)\tLoss 0.7593 (0.7593)\tPrec@1 79.492 (79.492)\n",
      "Test: [0/10]\tTime 0.598 (0.598)\tLoss 0.6359 (0.6359)\tPrec@1 76.758 (76.758)\n",
      " * Prec@1 77.130\n",
      "alpha1 7.575144290924072\n",
      "Best prec1 :  77.12999973144531\n",
      "current lr 7.34231e-04\n"
     ]
    },
    {
     "data": {
      "application/vnd.jupyter.widget-view+json": {
       "model_id": "1f676bc8c77042f98ee1535c36146d7d",
       "version_major": 2,
       "version_minor": 0
      },
      "text/plain": [
       "  0%|          | 0/40 [00:00<?, ?it/s]"
      ]
     },
     "metadata": {},
     "output_type": "display_data"
    },
    {
     "name": "stdout",
     "output_type": "stream",
     "text": [
      "Epoch: [72][0/40]\tTime 1.549 (1.549)\tData 1.334 (1.334)\tLoss 0.7731 (0.7731)\tPrec@1 77.148 (77.148)\n",
      "Test: [0/10]\tTime 0.604 (0.604)\tLoss 0.6503 (0.6503)\tPrec@1 78.027 (78.027)\n",
      " * Prec@1 76.310\n",
      "alpha1 7.548136234283447\n",
      "Best prec1 :  77.12999973144531\n",
      "current lr 7.27268e-04\n"
     ]
    },
    {
     "data": {
      "application/vnd.jupyter.widget-view+json": {
       "model_id": "6b0289fefee541c886e3186fefdb7c89",
       "version_major": 2,
       "version_minor": 0
      },
      "text/plain": [
       "  0%|          | 0/40 [00:00<?, ?it/s]"
      ]
     },
     "metadata": {},
     "output_type": "display_data"
    },
    {
     "name": "stdout",
     "output_type": "stream",
     "text": [
      "Epoch: [73][0/40]\tTime 1.678 (1.678)\tData 1.463 (1.463)\tLoss 0.7790 (0.7790)\tPrec@1 76.660 (76.660)\n",
      "Test: [0/10]\tTime 0.687 (0.687)\tLoss 0.7447 (0.7447)\tPrec@1 75.098 (75.098)\n",
      " * Prec@1 74.200\n",
      "alpha1 7.521395206451416\n",
      "Best prec1 :  77.12999973144531\n",
      "current lr 7.20250e-04\n"
     ]
    },
    {
     "data": {
      "application/vnd.jupyter.widget-view+json": {
       "model_id": "850925b2831e499e89f096fcb42e8f89",
       "version_major": 2,
       "version_minor": 0
      },
      "text/plain": [
       "  0%|          | 0/40 [00:00<?, ?it/s]"
      ]
     },
     "metadata": {},
     "output_type": "display_data"
    },
    {
     "name": "stdout",
     "output_type": "stream",
     "text": [
      "Epoch: [74][0/40]\tTime 1.293 (1.293)\tData 1.078 (1.078)\tLoss 0.7501 (0.7501)\tPrec@1 78.711 (78.711)\n",
      "Test: [0/10]\tTime 0.742 (0.742)\tLoss 0.6004 (0.6004)\tPrec@1 79.492 (79.492)\n",
      " * Prec@1 78.580\n",
      "alpha1 7.4949188232421875\n",
      "Best prec1 :  78.58000002441406\n",
      "current lr 7.13177e-04\n"
     ]
    },
    {
     "data": {
      "application/vnd.jupyter.widget-view+json": {
       "model_id": "e0139a0532fd4601a3314e486c223dc4",
       "version_major": 2,
       "version_minor": 0
      },
      "text/plain": [
       "  0%|          | 0/40 [00:00<?, ?it/s]"
      ]
     },
     "metadata": {},
     "output_type": "display_data"
    },
    {
     "name": "stdout",
     "output_type": "stream",
     "text": [
      "Epoch: [75][0/40]\tTime 1.638 (1.638)\tData 1.424 (1.424)\tLoss 0.7562 (0.7562)\tPrec@1 76.758 (76.758)\n",
      "Test: [0/10]\tTime 0.604 (0.604)\tLoss 0.6349 (0.6349)\tPrec@1 77.246 (77.246)\n",
      " * Prec@1 77.790\n",
      "alpha1 7.4687066078186035\n",
      "Best prec1 :  78.58000002441406\n",
      "current lr 7.06051e-04\n"
     ]
    },
    {
     "data": {
      "application/vnd.jupyter.widget-view+json": {
       "model_id": "2be601230850458e8366162987c8aef0",
       "version_major": 2,
       "version_minor": 0
      },
      "text/plain": [
       "  0%|          | 0/40 [00:00<?, ?it/s]"
      ]
     },
     "metadata": {},
     "output_type": "display_data"
    },
    {
     "name": "stdout",
     "output_type": "stream",
     "text": [
      "Epoch: [76][0/40]\tTime 1.258 (1.258)\tData 1.044 (1.044)\tLoss 0.7058 (0.7058)\tPrec@1 79.492 (79.492)\n",
      "Test: [0/10]\tTime 0.596 (0.596)\tLoss 0.6298 (0.6298)\tPrec@1 78.418 (78.418)\n",
      " * Prec@1 77.400\n",
      "alpha1 7.4427618980407715\n",
      "Best prec1 :  78.58000002441406\n",
      "current lr 6.98875e-04\n"
     ]
    },
    {
     "data": {
      "application/vnd.jupyter.widget-view+json": {
       "model_id": "b5079831deac40c88f5e93388afb0036",
       "version_major": 2,
       "version_minor": 0
      },
      "text/plain": [
       "  0%|          | 0/40 [00:00<?, ?it/s]"
      ]
     },
     "metadata": {},
     "output_type": "display_data"
    },
    {
     "name": "stdout",
     "output_type": "stream",
     "text": [
      "Epoch: [77][0/40]\tTime 1.631 (1.631)\tData 1.417 (1.417)\tLoss 0.6981 (0.6981)\tPrec@1 78.613 (78.613)\n",
      "Test: [0/10]\tTime 0.669 (0.669)\tLoss 0.7029 (0.7029)\tPrec@1 75.879 (75.879)\n",
      " * Prec@1 76.200\n",
      "alpha1 7.417088985443115\n",
      "Best prec1 :  78.58000002441406\n",
      "current lr 6.91650e-04\n"
     ]
    },
    {
     "data": {
      "application/vnd.jupyter.widget-view+json": {
       "model_id": "03a5691975eb453b8f7378f6e14d3e15",
       "version_major": 2,
       "version_minor": 0
      },
      "text/plain": [
       "  0%|          | 0/40 [00:00<?, ?it/s]"
      ]
     },
     "metadata": {},
     "output_type": "display_data"
    },
    {
     "name": "stdout",
     "output_type": "stream",
     "text": [
      "Epoch: [78][0/40]\tTime 1.775 (1.775)\tData 1.560 (1.560)\tLoss 0.7040 (0.7040)\tPrec@1 79.102 (79.102)\n",
      "Test: [0/10]\tTime 0.692 (0.692)\tLoss 0.6396 (0.6396)\tPrec@1 78.711 (78.711)\n",
      " * Prec@1 77.340\n",
      "alpha1 7.391683101654053\n",
      "Best prec1 :  78.58000002441406\n",
      "current lr 6.84378e-04\n"
     ]
    },
    {
     "data": {
      "application/vnd.jupyter.widget-view+json": {
       "model_id": "b6d941088df04085854ea37a27bbcad7",
       "version_major": 2,
       "version_minor": 0
      },
      "text/plain": [
       "  0%|          | 0/40 [00:00<?, ?it/s]"
      ]
     },
     "metadata": {},
     "output_type": "display_data"
    },
    {
     "name": "stdout",
     "output_type": "stream",
     "text": [
      "Epoch: [79][0/40]\tTime 1.647 (1.647)\tData 1.432 (1.432)\tLoss 0.7286 (0.7286)\tPrec@1 79.199 (79.199)\n",
      "Test: [0/10]\tTime 0.606 (0.606)\tLoss 0.6754 (0.6754)\tPrec@1 76.465 (76.465)\n",
      " * Prec@1 76.820\n",
      "alpha1 7.366544246673584\n",
      "Best prec1 :  78.58000002441406\n",
      "current lr 6.77061e-04\n"
     ]
    },
    {
     "data": {
      "application/vnd.jupyter.widget-view+json": {
       "model_id": "37bb05030e4048399fdb0feda77dc761",
       "version_major": 2,
       "version_minor": 0
      },
      "text/plain": [
       "  0%|          | 0/40 [00:00<?, ?it/s]"
      ]
     },
     "metadata": {},
     "output_type": "display_data"
    },
    {
     "name": "stdout",
     "output_type": "stream",
     "text": [
      "Epoch: [80][0/40]\tTime 1.639 (1.639)\tData 1.424 (1.424)\tLoss 0.6941 (0.6941)\tPrec@1 78.906 (78.906)\n",
      "Test: [0/10]\tTime 0.849 (0.849)\tLoss 0.6030 (0.6030)\tPrec@1 79.492 (79.492)\n",
      " * Prec@1 78.510\n",
      "alpha1 7.341672420501709\n",
      "Best prec1 :  78.58000002441406\n",
      "current lr 6.69700e-04\n"
     ]
    },
    {
     "data": {
      "application/vnd.jupyter.widget-view+json": {
       "model_id": "f0b28d26504641129dfab49db7ccec98",
       "version_major": 2,
       "version_minor": 0
      },
      "text/plain": [
       "  0%|          | 0/40 [00:00<?, ?it/s]"
      ]
     },
     "metadata": {},
     "output_type": "display_data"
    },
    {
     "name": "stdout",
     "output_type": "stream",
     "text": [
      "Epoch: [81][0/40]\tTime 1.852 (1.852)\tData 1.637 (1.637)\tLoss 0.6823 (0.6823)\tPrec@1 79.004 (79.004)\n",
      "Test: [0/10]\tTime 0.647 (0.647)\tLoss 0.6341 (0.6341)\tPrec@1 78.027 (78.027)\n",
      " * Prec@1 77.120\n",
      "alpha1 7.317067623138428\n",
      "Best prec1 :  78.58000002441406\n",
      "current lr 6.62297e-04\n"
     ]
    },
    {
     "data": {
      "application/vnd.jupyter.widget-view+json": {
       "model_id": "0af3a58bd15746af914232e8564b0c30",
       "version_major": 2,
       "version_minor": 0
      },
      "text/plain": [
       "  0%|          | 0/40 [00:00<?, ?it/s]"
      ]
     },
     "metadata": {},
     "output_type": "display_data"
    },
    {
     "name": "stdout",
     "output_type": "stream",
     "text": [
      "Epoch: [82][0/40]\tTime 1.353 (1.353)\tData 1.139 (1.139)\tLoss 0.6719 (0.6719)\tPrec@1 81.348 (81.348)\n",
      "Test: [0/10]\tTime 0.686 (0.686)\tLoss 0.5887 (0.5887)\tPrec@1 79.688 (79.688)\n",
      " * Prec@1 78.300\n",
      "alpha1 7.292748928070068\n",
      "Best prec1 :  78.58000002441406\n",
      "current lr 6.54854e-04\n"
     ]
    },
    {
     "data": {
      "application/vnd.jupyter.widget-view+json": {
       "model_id": "99595ff0a6ab442aaf6d716f9697de70",
       "version_major": 2,
       "version_minor": 0
      },
      "text/plain": [
       "  0%|          | 0/40 [00:00<?, ?it/s]"
      ]
     },
     "metadata": {},
     "output_type": "display_data"
    },
    {
     "name": "stdout",
     "output_type": "stream",
     "text": [
      "Epoch: [83][0/40]\tTime 1.474 (1.474)\tData 1.259 (1.259)\tLoss 0.6468 (0.6468)\tPrec@1 80.859 (80.859)\n",
      "Test: [0/10]\tTime 0.627 (0.627)\tLoss 0.6393 (0.6393)\tPrec@1 78.223 (78.223)\n",
      " * Prec@1 76.990\n",
      "alpha1 7.268697261810303\n",
      "Best prec1 :  78.58000002441406\n",
      "current lr 6.47373e-04\n"
     ]
    },
    {
     "data": {
      "application/vnd.jupyter.widget-view+json": {
       "model_id": "a5f3c7582e6b4e3ea8b7c58c55804996",
       "version_major": 2,
       "version_minor": 0
      },
      "text/plain": [
       "  0%|          | 0/40 [00:00<?, ?it/s]"
      ]
     },
     "metadata": {},
     "output_type": "display_data"
    },
    {
     "name": "stdout",
     "output_type": "stream",
     "text": [
      "Epoch: [84][0/40]\tTime 1.555 (1.555)\tData 1.340 (1.340)\tLoss 0.6797 (0.6797)\tPrec@1 79.688 (79.688)\n",
      "Test: [0/10]\tTime 0.587 (0.587)\tLoss 0.6074 (0.6074)\tPrec@1 80.176 (80.176)\n",
      " * Prec@1 77.940\n",
      "alpha1 7.244931697845459\n",
      "Best prec1 :  78.58000002441406\n",
      "current lr 6.39856e-04\n"
     ]
    },
    {
     "data": {
      "application/vnd.jupyter.widget-view+json": {
       "model_id": "2d6da3ef9f6d4a8ca2bf75836e3df2b8",
       "version_major": 2,
       "version_minor": 0
      },
      "text/plain": [
       "  0%|          | 0/40 [00:00<?, ?it/s]"
      ]
     },
     "metadata": {},
     "output_type": "display_data"
    },
    {
     "name": "stdout",
     "output_type": "stream",
     "text": [
      "Epoch: [85][0/40]\tTime 1.588 (1.588)\tData 1.373 (1.373)\tLoss 0.6520 (0.6520)\tPrec@1 80.664 (80.664)\n",
      "Test: [0/10]\tTime 0.620 (0.620)\tLoss 0.6163 (0.6163)\tPrec@1 78.418 (78.418)\n",
      " * Prec@1 78.000\n",
      "alpha1 7.221433162689209\n",
      "Best prec1 :  78.58000002441406\n",
      "current lr 6.32305e-04\n"
     ]
    },
    {
     "data": {
      "application/vnd.jupyter.widget-view+json": {
       "model_id": "614895e454f74a1ca23c910529b43d0f",
       "version_major": 2,
       "version_minor": 0
      },
      "text/plain": [
       "  0%|          | 0/40 [00:00<?, ?it/s]"
      ]
     },
     "metadata": {},
     "output_type": "display_data"
    },
    {
     "name": "stdout",
     "output_type": "stream",
     "text": [
      "Epoch: [86][0/40]\tTime 1.621 (1.621)\tData 1.406 (1.406)\tLoss 0.7036 (0.7036)\tPrec@1 80.371 (80.371)\n",
      "Test: [0/10]\tTime 0.632 (0.632)\tLoss 0.6697 (0.6697)\tPrec@1 76.562 (76.562)\n",
      " * Prec@1 76.970\n",
      "alpha1 7.198214530944824\n",
      "Best prec1 :  78.58000002441406\n",
      "current lr 6.24721e-04\n"
     ]
    },
    {
     "data": {
      "application/vnd.jupyter.widget-view+json": {
       "model_id": "18e03dba23c646c0add0eb45396d620a",
       "version_major": 2,
       "version_minor": 0
      },
      "text/plain": [
       "  0%|          | 0/40 [00:00<?, ?it/s]"
      ]
     },
     "metadata": {},
     "output_type": "display_data"
    },
    {
     "name": "stdout",
     "output_type": "stream",
     "text": [
      "Epoch: [87][0/40]\tTime 1.221 (1.221)\tData 1.006 (1.006)\tLoss 0.6379 (0.6379)\tPrec@1 82.031 (82.031)\n",
      "Test: [0/10]\tTime 0.670 (0.670)\tLoss 0.5368 (0.5368)\tPrec@1 80.664 (80.664)\n",
      " * Prec@1 80.040\n",
      "alpha1 7.17526912689209\n",
      "Best prec1 :  80.0399998413086\n",
      "current lr 6.17106e-04\n"
     ]
    },
    {
     "data": {
      "application/vnd.jupyter.widget-view+json": {
       "model_id": "714ef82ccab54e4bbf7c3d699160e648",
       "version_major": 2,
       "version_minor": 0
      },
      "text/plain": [
       "  0%|          | 0/40 [00:00<?, ?it/s]"
      ]
     },
     "metadata": {},
     "output_type": "display_data"
    },
    {
     "name": "stdout",
     "output_type": "stream",
     "text": [
      "Epoch: [88][0/40]\tTime 1.559 (1.559)\tData 1.343 (1.343)\tLoss 0.6378 (0.6378)\tPrec@1 81.641 (81.641)\n",
      "Test: [0/10]\tTime 0.627 (0.627)\tLoss 0.5838 (0.5838)\tPrec@1 80.371 (80.371)\n",
      " * Prec@1 79.360\n",
      "alpha1 7.152609825134277\n",
      "Best prec1 :  80.0399998413086\n",
      "current lr 6.09463e-04\n"
     ]
    },
    {
     "data": {
      "application/vnd.jupyter.widget-view+json": {
       "model_id": "56aacf0b29bd4c8b8fff33df7832b638",
       "version_major": 2,
       "version_minor": 0
      },
      "text/plain": [
       "  0%|          | 0/40 [00:00<?, ?it/s]"
      ]
     },
     "metadata": {},
     "output_type": "display_data"
    },
    {
     "name": "stdout",
     "output_type": "stream",
     "text": [
      "Epoch: [89][0/40]\tTime 1.784 (1.784)\tData 1.569 (1.569)\tLoss 0.6490 (0.6490)\tPrec@1 80.176 (80.176)\n",
      "Test: [0/10]\tTime 0.595 (0.595)\tLoss 0.5861 (0.5861)\tPrec@1 80.273 (80.273)\n",
      " * Prec@1 79.480\n",
      "alpha1 7.130217552185059\n",
      "Best prec1 :  80.0399998413086\n",
      "current lr 6.01792e-04\n"
     ]
    },
    {
     "data": {
      "application/vnd.jupyter.widget-view+json": {
       "model_id": "fd1d72c8a9894e20bf615e0300c0948c",
       "version_major": 2,
       "version_minor": 0
      },
      "text/plain": [
       "  0%|          | 0/40 [00:00<?, ?it/s]"
      ]
     },
     "metadata": {},
     "output_type": "display_data"
    },
    {
     "name": "stdout",
     "output_type": "stream",
     "text": [
      "Epoch: [90][0/40]\tTime 1.328 (1.328)\tData 1.113 (1.113)\tLoss 0.6107 (0.6107)\tPrec@1 82.129 (82.129)\n",
      "Test: [0/10]\tTime 0.621 (0.621)\tLoss 0.6052 (0.6052)\tPrec@1 80.078 (80.078)\n",
      " * Prec@1 78.680\n",
      "alpha1 7.108111381530762\n",
      "Best prec1 :  80.0399998413086\n",
      "current lr 5.94097e-04\n"
     ]
    },
    {
     "data": {
      "application/vnd.jupyter.widget-view+json": {
       "model_id": "3c9883df18294d90b749f60e309045aa",
       "version_major": 2,
       "version_minor": 0
      },
      "text/plain": [
       "  0%|          | 0/40 [00:00<?, ?it/s]"
      ]
     },
     "metadata": {},
     "output_type": "display_data"
    },
    {
     "name": "stdout",
     "output_type": "stream",
     "text": [
      "Epoch: [91][0/40]\tTime 1.679 (1.679)\tData 1.464 (1.464)\tLoss 0.6124 (0.6124)\tPrec@1 81.641 (81.641)\n",
      "Test: [0/10]\tTime 0.860 (0.860)\tLoss 0.5688 (0.5688)\tPrec@1 80.859 (80.859)\n",
      " * Prec@1 79.480\n",
      "alpha1 7.086284160614014\n",
      "Best prec1 :  80.0399998413086\n",
      "current lr 5.86379e-04\n"
     ]
    },
    {
     "data": {
      "application/vnd.jupyter.widget-view+json": {
       "model_id": "3256e91b430a488ebb8bc1b03cdf87d2",
       "version_major": 2,
       "version_minor": 0
      },
      "text/plain": [
       "  0%|          | 0/40 [00:00<?, ?it/s]"
      ]
     },
     "metadata": {},
     "output_type": "display_data"
    },
    {
     "name": "stdout",
     "output_type": "stream",
     "text": [
      "Epoch: [92][0/40]\tTime 1.464 (1.464)\tData 1.250 (1.250)\tLoss 0.6275 (0.6275)\tPrec@1 81.250 (81.250)\n",
      "Test: [0/10]\tTime 0.905 (0.905)\tLoss 0.5466 (0.5466)\tPrec@1 81.250 (81.250)\n",
      " * Prec@1 79.320\n",
      "alpha1 7.064731121063232\n",
      "Best prec1 :  80.0399998413086\n",
      "current lr 5.78639e-04\n"
     ]
    },
    {
     "data": {
      "application/vnd.jupyter.widget-view+json": {
       "model_id": "55729e3ccf68444c859d1d66558f2c2d",
       "version_major": 2,
       "version_minor": 0
      },
      "text/plain": [
       "  0%|          | 0/40 [00:00<?, ?it/s]"
      ]
     },
     "metadata": {},
     "output_type": "display_data"
    },
    {
     "name": "stdout",
     "output_type": "stream",
     "text": [
      "Epoch: [93][0/40]\tTime 1.676 (1.676)\tData 1.462 (1.462)\tLoss 0.6034 (0.6034)\tPrec@1 82.227 (82.227)\n",
      "Test: [0/10]\tTime 0.878 (0.878)\tLoss 0.5519 (0.5519)\tPrec@1 81.055 (81.055)\n",
      " * Prec@1 79.300\n",
      "alpha1 7.043464183807373\n",
      "Best prec1 :  80.0399998413086\n",
      "current lr 5.70880e-04\n"
     ]
    },
    {
     "data": {
      "application/vnd.jupyter.widget-view+json": {
       "model_id": "8d355922d77a4748aa9a314604cb48a8",
       "version_major": 2,
       "version_minor": 0
      },
      "text/plain": [
       "  0%|          | 0/40 [00:00<?, ?it/s]"
      ]
     },
     "metadata": {},
     "output_type": "display_data"
    },
    {
     "name": "stdout",
     "output_type": "stream",
     "text": [
      "Epoch: [94][0/40]\tTime 1.916 (1.916)\tData 1.702 (1.702)\tLoss 0.6279 (0.6279)\tPrec@1 79.980 (79.980)\n",
      "Test: [0/10]\tTime 0.929 (0.929)\tLoss 0.5396 (0.5396)\tPrec@1 81.641 (81.641)\n",
      " * Prec@1 79.660\n",
      "alpha1 7.0224833488464355\n",
      "Best prec1 :  80.0399998413086\n",
      "current lr 5.63104e-04\n"
     ]
    },
    {
     "data": {
      "application/vnd.jupyter.widget-view+json": {
       "model_id": "b2c81681b96e4c8bb373ba40f48ec09f",
       "version_major": 2,
       "version_minor": 0
      },
      "text/plain": [
       "  0%|          | 0/40 [00:00<?, ?it/s]"
      ]
     },
     "metadata": {},
     "output_type": "display_data"
    },
    {
     "name": "stdout",
     "output_type": "stream",
     "text": [
      "Epoch: [95][0/40]\tTime 1.409 (1.409)\tData 1.194 (1.194)\tLoss 0.6193 (0.6193)\tPrec@1 81.641 (81.641)\n",
      "Test: [0/10]\tTime 0.612 (0.612)\tLoss 0.5700 (0.5700)\tPrec@1 81.055 (81.055)\n",
      " * Prec@1 79.190\n",
      "alpha1 7.001771450042725\n",
      "Best prec1 :  80.0399998413086\n",
      "current lr 5.55312e-04\n"
     ]
    },
    {
     "data": {
      "application/vnd.jupyter.widget-view+json": {
       "model_id": "0918b81cf89b4812b2bc322fcc30ab0e",
       "version_major": 2,
       "version_minor": 0
      },
      "text/plain": [
       "  0%|          | 0/40 [00:00<?, ?it/s]"
      ]
     },
     "metadata": {},
     "output_type": "display_data"
    },
    {
     "name": "stdout",
     "output_type": "stream",
     "text": [
      "Epoch: [96][0/40]\tTime 1.507 (1.507)\tData 1.292 (1.292)\tLoss 0.6172 (0.6172)\tPrec@1 81.836 (81.836)\n",
      "Test: [0/10]\tTime 0.617 (0.617)\tLoss 0.5865 (0.5865)\tPrec@1 80.273 (80.273)\n",
      " * Prec@1 79.650\n",
      "alpha1 6.981343746185303\n",
      "Best prec1 :  80.0399998413086\n",
      "current lr 5.47507e-04\n"
     ]
    },
    {
     "data": {
      "application/vnd.jupyter.widget-view+json": {
       "model_id": "0236fdb7c4394a698a9b0dd5c7c3f631",
       "version_major": 2,
       "version_minor": 0
      },
      "text/plain": [
       "  0%|          | 0/40 [00:00<?, ?it/s]"
      ]
     },
     "metadata": {},
     "output_type": "display_data"
    },
    {
     "name": "stdout",
     "output_type": "stream",
     "text": [
      "Epoch: [97][0/40]\tTime 1.346 (1.346)\tData 1.130 (1.130)\tLoss 0.5892 (0.5892)\tPrec@1 82.422 (82.422)\n",
      "Test: [0/10]\tTime 0.599 (0.599)\tLoss 0.5352 (0.5352)\tPrec@1 80.957 (80.957)\n",
      " * Prec@1 79.680\n",
      "alpha1 6.961202144622803\n",
      "Best prec1 :  80.0399998413086\n",
      "current lr 5.39690e-04\n"
     ]
    },
    {
     "data": {
      "application/vnd.jupyter.widget-view+json": {
       "model_id": "1c3b6f4cb1084efbab19c16c6f157d56",
       "version_major": 2,
       "version_minor": 0
      },
      "text/plain": [
       "  0%|          | 0/40 [00:00<?, ?it/s]"
      ]
     },
     "metadata": {},
     "output_type": "display_data"
    },
    {
     "name": "stdout",
     "output_type": "stream",
     "text": [
      "Epoch: [98][0/40]\tTime 1.262 (1.262)\tData 1.047 (1.047)\tLoss 0.5967 (0.5967)\tPrec@1 82.617 (82.617)\n",
      "Test: [0/10]\tTime 0.697 (0.697)\tLoss 0.5718 (0.5718)\tPrec@1 82.031 (82.031)\n",
      " * Prec@1 79.010\n",
      "alpha1 6.941346645355225\n",
      "Best prec1 :  80.0399998413086\n",
      "current lr 5.31864e-04\n"
     ]
    },
    {
     "data": {
      "application/vnd.jupyter.widget-view+json": {
       "model_id": "612ce34e77944717a7eb0765dc6d99b8",
       "version_major": 2,
       "version_minor": 0
      },
      "text/plain": [
       "  0%|          | 0/40 [00:00<?, ?it/s]"
      ]
     },
     "metadata": {},
     "output_type": "display_data"
    },
    {
     "name": "stdout",
     "output_type": "stream",
     "text": [
      "Epoch: [99][0/40]\tTime 1.421 (1.421)\tData 1.206 (1.206)\tLoss 0.6046 (0.6046)\tPrec@1 82.910 (82.910)\n",
      "Test: [0/10]\tTime 0.715 (0.715)\tLoss 0.5493 (0.5493)\tPrec@1 81.641 (81.641)\n",
      " * Prec@1 80.670\n",
      "alpha1 6.9217681884765625\n",
      "Best prec1 :  80.6699998413086\n",
      "current lr 5.24030e-04\n"
     ]
    },
    {
     "data": {
      "application/vnd.jupyter.widget-view+json": {
       "model_id": "b3aa5ff2662b47a5a0d3f2a569d6856a",
       "version_major": 2,
       "version_minor": 0
      },
      "text/plain": [
       "  0%|          | 0/40 [00:00<?, ?it/s]"
      ]
     },
     "metadata": {},
     "output_type": "display_data"
    },
    {
     "name": "stdout",
     "output_type": "stream",
     "text": [
      "Epoch: [100][0/40]\tTime 1.716 (1.716)\tData 1.501 (1.501)\tLoss 0.5619 (0.5619)\tPrec@1 83.887 (83.887)\n",
      "Test: [0/10]\tTime 0.674 (0.674)\tLoss 0.5503 (0.5503)\tPrec@1 82.129 (82.129)\n",
      " * Prec@1 79.370\n",
      "alpha1 6.9024658203125\n",
      "Best prec1 :  80.6699998413086\n",
      "current lr 5.16190e-04\n"
     ]
    },
    {
     "data": {
      "application/vnd.jupyter.widget-view+json": {
       "model_id": "80e82019ca084d97ab4ee9458f58f8e2",
       "version_major": 2,
       "version_minor": 0
      },
      "text/plain": [
       "  0%|          | 0/40 [00:00<?, ?it/s]"
      ]
     },
     "metadata": {},
     "output_type": "display_data"
    },
    {
     "name": "stdout",
     "output_type": "stream",
     "text": [
      "Epoch: [101][0/40]\tTime 1.517 (1.517)\tData 1.303 (1.303)\tLoss 0.5682 (0.5682)\tPrec@1 83.789 (83.789)\n",
      "Test: [0/10]\tTime 0.598 (0.598)\tLoss 0.5720 (0.5720)\tPrec@1 80.664 (80.664)\n",
      " * Prec@1 79.540\n",
      "alpha1 6.883449554443359\n",
      "Best prec1 :  80.6699998413086\n",
      "current lr 5.08346e-04\n"
     ]
    },
    {
     "data": {
      "application/vnd.jupyter.widget-view+json": {
       "model_id": "bcda3d7f575d40bbb9857cd21c9a12c9",
       "version_major": 2,
       "version_minor": 0
      },
      "text/plain": [
       "  0%|          | 0/40 [00:00<?, ?it/s]"
      ]
     },
     "metadata": {},
     "output_type": "display_data"
    },
    {
     "name": "stdout",
     "output_type": "stream",
     "text": [
      "Epoch: [102][0/40]\tTime 1.354 (1.354)\tData 1.139 (1.139)\tLoss 0.5353 (0.5353)\tPrec@1 85.059 (85.059)\n",
      "Test: [0/10]\tTime 0.610 (0.610)\tLoss 0.5780 (0.5780)\tPrec@1 80.664 (80.664)\n",
      " * Prec@1 79.570\n",
      "alpha1 6.864719390869141\n",
      "Best prec1 :  80.6699998413086\n",
      "current lr 5.00500e-04\n"
     ]
    },
    {
     "data": {
      "application/vnd.jupyter.widget-view+json": {
       "model_id": "aa0a41253c19461b838a84e19f8a11e3",
       "version_major": 2,
       "version_minor": 0
      },
      "text/plain": [
       "  0%|          | 0/40 [00:00<?, ?it/s]"
      ]
     },
     "metadata": {},
     "output_type": "display_data"
    },
    {
     "name": "stdout",
     "output_type": "stream",
     "text": [
      "Epoch: [103][0/40]\tTime 1.375 (1.375)\tData 1.160 (1.160)\tLoss 0.5700 (0.5700)\tPrec@1 83.301 (83.301)\n",
      "Test: [0/10]\tTime 0.603 (0.603)\tLoss 0.5532 (0.5532)\tPrec@1 81.543 (81.543)\n",
      " * Prec@1 80.630\n",
      "alpha1 6.846275329589844\n",
      "Best prec1 :  80.6699998413086\n",
      "current lr 4.92654e-04\n"
     ]
    },
    {
     "data": {
      "application/vnd.jupyter.widget-view+json": {
       "model_id": "9994aee85cab477090dabad5aea19ef0",
       "version_major": 2,
       "version_minor": 0
      },
      "text/plain": [
       "  0%|          | 0/40 [00:00<?, ?it/s]"
      ]
     },
     "metadata": {},
     "output_type": "display_data"
    },
    {
     "name": "stdout",
     "output_type": "stream",
     "text": [
      "Epoch: [104][0/40]\tTime 1.689 (1.689)\tData 1.473 (1.473)\tLoss 0.5991 (0.5991)\tPrec@1 82.520 (82.520)\n",
      "Test: [0/10]\tTime 0.633 (0.633)\tLoss 0.5402 (0.5402)\tPrec@1 82.715 (82.715)\n",
      " * Prec@1 80.390\n",
      "alpha1 6.82810640335083\n",
      "Best prec1 :  80.6699998413086\n",
      "current lr 4.84810e-04\n"
     ]
    },
    {
     "data": {
      "application/vnd.jupyter.widget-view+json": {
       "model_id": "6444e6fde35a4953b6314e81be972e81",
       "version_major": 2,
       "version_minor": 0
      },
      "text/plain": [
       "  0%|          | 0/40 [00:00<?, ?it/s]"
      ]
     },
     "metadata": {},
     "output_type": "display_data"
    },
    {
     "name": "stdout",
     "output_type": "stream",
     "text": [
      "Epoch: [105][0/40]\tTime 1.773 (1.773)\tData 1.557 (1.557)\tLoss 0.5930 (0.5930)\tPrec@1 82.422 (82.422)\n",
      "Test: [0/10]\tTime 0.750 (0.750)\tLoss 0.5430 (0.5430)\tPrec@1 81.348 (81.348)\n",
      " * Prec@1 79.910\n",
      "alpha1 6.810215473175049\n",
      "Best prec1 :  80.6699998413086\n",
      "current lr 4.76970e-04\n"
     ]
    },
    {
     "data": {
      "application/vnd.jupyter.widget-view+json": {
       "model_id": "f0e8a2045ee64eecbf99de5cb45f667b",
       "version_major": 2,
       "version_minor": 0
      },
      "text/plain": [
       "  0%|          | 0/40 [00:00<?, ?it/s]"
      ]
     },
     "metadata": {},
     "output_type": "display_data"
    },
    {
     "name": "stdout",
     "output_type": "stream",
     "text": [
      "Epoch: [106][0/40]\tTime 1.285 (1.285)\tData 1.070 (1.070)\tLoss 0.5484 (0.5484)\tPrec@1 83.496 (83.496)\n",
      "Test: [0/10]\tTime 0.623 (0.623)\tLoss 0.6163 (0.6163)\tPrec@1 80.273 (80.273)\n",
      " * Prec@1 77.850\n",
      "alpha1 6.7926106452941895\n",
      "Best prec1 :  80.6699998413086\n",
      "current lr 4.69136e-04\n"
     ]
    },
    {
     "data": {
      "application/vnd.jupyter.widget-view+json": {
       "model_id": "03bb64082ea6433fb70c9f14402d3925",
       "version_major": 2,
       "version_minor": 0
      },
      "text/plain": [
       "  0%|          | 0/40 [00:00<?, ?it/s]"
      ]
     },
     "metadata": {},
     "output_type": "display_data"
    },
    {
     "name": "stdout",
     "output_type": "stream",
     "text": [
      "Epoch: [107][0/40]\tTime 1.412 (1.412)\tData 1.197 (1.197)\tLoss 0.5931 (0.5931)\tPrec@1 83.398 (83.398)\n",
      "Test: [0/10]\tTime 0.707 (0.707)\tLoss 0.5281 (0.5281)\tPrec@1 82.812 (82.812)\n",
      " * Prec@1 80.610\n",
      "alpha1 6.775291919708252\n",
      "Best prec1 :  80.6699998413086\n",
      "current lr 4.61310e-04\n"
     ]
    },
    {
     "data": {
      "application/vnd.jupyter.widget-view+json": {
       "model_id": "f9ba225da85948749af140f952f8c2f3",
       "version_major": 2,
       "version_minor": 0
      },
      "text/plain": [
       "  0%|          | 0/40 [00:00<?, ?it/s]"
      ]
     },
     "metadata": {},
     "output_type": "display_data"
    },
    {
     "name": "stdout",
     "output_type": "stream",
     "text": [
      "Epoch: [108][0/40]\tTime 1.305 (1.305)\tData 1.090 (1.090)\tLoss 0.5230 (0.5230)\tPrec@1 85.840 (85.840)\n",
      "Test: [0/10]\tTime 0.641 (0.641)\tLoss 0.5098 (0.5098)\tPrec@1 83.301 (83.301)\n",
      " * Prec@1 81.220\n",
      "alpha1 6.7582502365112305\n",
      "Best prec1 :  81.22000012207032\n",
      "current lr 4.53493e-04\n"
     ]
    },
    {
     "data": {
      "application/vnd.jupyter.widget-view+json": {
       "model_id": "ee9d6a955720449d9f255977e8866e03",
       "version_major": 2,
       "version_minor": 0
      },
      "text/plain": [
       "  0%|          | 0/40 [00:00<?, ?it/s]"
      ]
     },
     "metadata": {},
     "output_type": "display_data"
    },
    {
     "name": "stdout",
     "output_type": "stream",
     "text": [
      "Epoch: [109][0/40]\tTime 1.333 (1.333)\tData 1.118 (1.118)\tLoss 0.5701 (0.5701)\tPrec@1 82.715 (82.715)\n",
      "Test: [0/10]\tTime 0.708 (0.708)\tLoss 0.5308 (0.5308)\tPrec@1 82.422 (82.422)\n",
      " * Prec@1 80.480\n",
      "alpha1 6.741484642028809\n",
      "Best prec1 :  81.22000012207032\n",
      "current lr 4.45688e-04\n"
     ]
    },
    {
     "data": {
      "application/vnd.jupyter.widget-view+json": {
       "model_id": "9cff3f8d35ea4b5a994c1ffbcde4988a",
       "version_major": 2,
       "version_minor": 0
      },
      "text/plain": [
       "  0%|          | 0/40 [00:00<?, ?it/s]"
      ]
     },
     "metadata": {},
     "output_type": "display_data"
    },
    {
     "name": "stdout",
     "output_type": "stream",
     "text": [
      "Epoch: [110][0/40]\tTime 1.716 (1.716)\tData 1.502 (1.502)\tLoss 0.5317 (0.5317)\tPrec@1 84.766 (84.766)\n",
      "Test: [0/10]\tTime 0.604 (0.604)\tLoss 0.5104 (0.5104)\tPrec@1 83.789 (83.789)\n",
      " * Prec@1 81.440\n",
      "alpha1 6.725005149841309\n",
      "Best prec1 :  81.43999978027344\n",
      "current lr 4.37896e-04\n"
     ]
    },
    {
     "data": {
      "application/vnd.jupyter.widget-view+json": {
       "model_id": "bf2f4affb9ea4ee8ba714de2ce44c800",
       "version_major": 2,
       "version_minor": 0
      },
      "text/plain": [
       "  0%|          | 0/40 [00:00<?, ?it/s]"
      ]
     },
     "metadata": {},
     "output_type": "display_data"
    },
    {
     "name": "stdout",
     "output_type": "stream",
     "text": [
      "Epoch: [111][0/40]\tTime 1.325 (1.325)\tData 1.110 (1.110)\tLoss 0.5433 (0.5433)\tPrec@1 84.375 (84.375)\n",
      "Test: [0/10]\tTime 0.725 (0.725)\tLoss 0.5459 (0.5459)\tPrec@1 83.008 (83.008)\n",
      " * Prec@1 81.300\n",
      "alpha1 6.708806037902832\n",
      "Best prec1 :  81.43999978027344\n",
      "current lr 4.30120e-04\n"
     ]
    },
    {
     "data": {
      "application/vnd.jupyter.widget-view+json": {
       "model_id": "490ea4682d0747a5bfffd699001fbe94",
       "version_major": 2,
       "version_minor": 0
      },
      "text/plain": [
       "  0%|          | 0/40 [00:00<?, ?it/s]"
      ]
     },
     "metadata": {},
     "output_type": "display_data"
    },
    {
     "name": "stdout",
     "output_type": "stream",
     "text": [
      "Epoch: [112][0/40]\tTime 1.480 (1.480)\tData 1.266 (1.266)\tLoss 0.5236 (0.5236)\tPrec@1 83.887 (83.887)\n",
      "Test: [0/10]\tTime 0.665 (0.665)\tLoss 0.5563 (0.5563)\tPrec@1 82.129 (82.129)\n",
      " * Prec@1 80.000\n",
      "alpha1 6.692879676818848\n",
      "Best prec1 :  81.43999978027344\n",
      "current lr 4.22361e-04\n"
     ]
    },
    {
     "data": {
      "application/vnd.jupyter.widget-view+json": {
       "model_id": "8ce00b0b2edd4472a181ed79bd1302c2",
       "version_major": 2,
       "version_minor": 0
      },
      "text/plain": [
       "  0%|          | 0/40 [00:00<?, ?it/s]"
      ]
     },
     "metadata": {},
     "output_type": "display_data"
    },
    {
     "name": "stdout",
     "output_type": "stream",
     "text": [
      "Epoch: [113][0/40]\tTime 1.298 (1.298)\tData 1.082 (1.082)\tLoss 0.5354 (0.5354)\tPrec@1 84.766 (84.766)\n",
      "Test: [0/10]\tTime 0.608 (0.608)\tLoss 0.5723 (0.5723)\tPrec@1 81.836 (81.836)\n",
      " * Prec@1 79.990\n",
      "alpha1 6.677239418029785\n",
      "Best prec1 :  81.43999978027344\n",
      "current lr 4.14621e-04\n"
     ]
    },
    {
     "data": {
      "application/vnd.jupyter.widget-view+json": {
       "model_id": "6f0046312cca43c9b8328c3480bf9cdf",
       "version_major": 2,
       "version_minor": 0
      },
      "text/plain": [
       "  0%|          | 0/40 [00:00<?, ?it/s]"
      ]
     },
     "metadata": {},
     "output_type": "display_data"
    },
    {
     "name": "stdout",
     "output_type": "stream",
     "text": [
      "Epoch: [114][0/40]\tTime 1.733 (1.733)\tData 1.518 (1.518)\tLoss 0.5072 (0.5072)\tPrec@1 85.547 (85.547)\n",
      "Test: [0/10]\tTime 0.647 (0.647)\tLoss 0.5162 (0.5162)\tPrec@1 82.617 (82.617)\n",
      " * Prec@1 80.860\n",
      "alpha1 6.661871910095215\n",
      "Best prec1 :  81.43999978027344\n",
      "current lr 4.06903e-04\n"
     ]
    },
    {
     "data": {
      "application/vnd.jupyter.widget-view+json": {
       "model_id": "12679d93db414ea08aa1c02235da8571",
       "version_major": 2,
       "version_minor": 0
      },
      "text/plain": [
       "  0%|          | 0/40 [00:00<?, ?it/s]"
      ]
     },
     "metadata": {},
     "output_type": "display_data"
    },
    {
     "name": "stdout",
     "output_type": "stream",
     "text": [
      "Epoch: [115][0/40]\tTime 1.647 (1.647)\tData 1.432 (1.432)\tLoss 0.5067 (0.5067)\tPrec@1 85.352 (85.352)\n",
      "Test: [0/10]\tTime 0.695 (0.695)\tLoss 0.5818 (0.5818)\tPrec@1 82.227 (82.227)\n",
      " * Prec@1 80.680\n",
      "alpha1 6.646784782409668\n",
      "Best prec1 :  81.43999978027344\n",
      "current lr 3.99208e-04\n"
     ]
    },
    {
     "data": {
      "application/vnd.jupyter.widget-view+json": {
       "model_id": "296daaedeb7a4790a3567276a120f1ac",
       "version_major": 2,
       "version_minor": 0
      },
      "text/plain": [
       "  0%|          | 0/40 [00:00<?, ?it/s]"
      ]
     },
     "metadata": {},
     "output_type": "display_data"
    },
    {
     "name": "stdout",
     "output_type": "stream",
     "text": [
      "Epoch: [116][0/40]\tTime 1.695 (1.695)\tData 1.480 (1.480)\tLoss 0.4645 (0.4645)\tPrec@1 86.035 (86.035)\n",
      "Test: [0/10]\tTime 0.693 (0.693)\tLoss 0.5287 (0.5287)\tPrec@1 83.398 (83.398)\n",
      " * Prec@1 81.000\n",
      "alpha1 6.631972312927246\n",
      "Best prec1 :  81.43999978027344\n",
      "current lr 3.91537e-04\n"
     ]
    },
    {
     "data": {
      "application/vnd.jupyter.widget-view+json": {
       "model_id": "8042e22eb7e842cd8c81592b73ce588f",
       "version_major": 2,
       "version_minor": 0
      },
      "text/plain": [
       "  0%|          | 0/40 [00:00<?, ?it/s]"
      ]
     },
     "metadata": {},
     "output_type": "display_data"
    },
    {
     "name": "stdout",
     "output_type": "stream",
     "text": [
      "Epoch: [117][0/40]\tTime 1.300 (1.300)\tData 1.085 (1.085)\tLoss 0.4993 (0.4993)\tPrec@1 85.840 (85.840)\n",
      "Test: [0/10]\tTime 0.697 (0.697)\tLoss 0.5514 (0.5514)\tPrec@1 82.520 (82.520)\n",
      " * Prec@1 81.050\n",
      "alpha1 6.617438316345215\n",
      "Best prec1 :  81.43999978027344\n",
      "current lr 3.83894e-04\n"
     ]
    },
    {
     "data": {
      "application/vnd.jupyter.widget-view+json": {
       "model_id": "0ae47d71afc548cb83b42b2d91c1d45e",
       "version_major": 2,
       "version_minor": 0
      },
      "text/plain": [
       "  0%|          | 0/40 [00:00<?, ?it/s]"
      ]
     },
     "metadata": {},
     "output_type": "display_data"
    },
    {
     "name": "stdout",
     "output_type": "stream",
     "text": [
      "Epoch: [118][0/40]\tTime 1.450 (1.450)\tData 1.235 (1.235)\tLoss 0.4814 (0.4814)\tPrec@1 85.254 (85.254)\n",
      "Test: [0/10]\tTime 0.722 (0.722)\tLoss 0.5766 (0.5766)\tPrec@1 80.957 (80.957)\n",
      " * Prec@1 80.510\n",
      "alpha1 6.603173732757568\n",
      "Best prec1 :  81.43999978027344\n",
      "current lr 3.76279e-04\n"
     ]
    },
    {
     "data": {
      "application/vnd.jupyter.widget-view+json": {
       "model_id": "532322c6c77149cfa91fd17472d8568e",
       "version_major": 2,
       "version_minor": 0
      },
      "text/plain": [
       "  0%|          | 0/40 [00:00<?, ?it/s]"
      ]
     },
     "metadata": {},
     "output_type": "display_data"
    },
    {
     "name": "stdout",
     "output_type": "stream",
     "text": [
      "Epoch: [119][0/40]\tTime 1.510 (1.510)\tData 1.296 (1.296)\tLoss 0.4842 (0.4842)\tPrec@1 86.133 (86.133)\n",
      "Test: [0/10]\tTime 0.625 (0.625)\tLoss 0.5960 (0.5960)\tPrec@1 81.445 (81.445)\n",
      " * Prec@1 80.410\n",
      "alpha1 6.58919095993042\n",
      "Best prec1 :  81.43999978027344\n",
      "current lr 3.68695e-04\n"
     ]
    },
    {
     "data": {
      "application/vnd.jupyter.widget-view+json": {
       "model_id": "6fd95bd1f008449f93b79c558bd6f132",
       "version_major": 2,
       "version_minor": 0
      },
      "text/plain": [
       "  0%|          | 0/40 [00:00<?, ?it/s]"
      ]
     },
     "metadata": {},
     "output_type": "display_data"
    },
    {
     "name": "stdout",
     "output_type": "stream",
     "text": [
      "Epoch: [120][0/40]\tTime 1.282 (1.282)\tData 1.066 (1.066)\tLoss 0.5046 (0.5046)\tPrec@1 84.863 (84.863)\n",
      "Test: [0/10]\tTime 0.608 (0.608)\tLoss 0.5554 (0.5554)\tPrec@1 82.324 (82.324)\n",
      " * Prec@1 80.650\n",
      "alpha1 6.575477123260498\n",
      "Best prec1 :  81.43999978027344\n",
      "current lr 3.61144e-04\n"
     ]
    },
    {
     "data": {
      "application/vnd.jupyter.widget-view+json": {
       "model_id": "121dd37926fb420798d04381678e7f2f",
       "version_major": 2,
       "version_minor": 0
      },
      "text/plain": [
       "  0%|          | 0/40 [00:00<?, ?it/s]"
      ]
     },
     "metadata": {},
     "output_type": "display_data"
    },
    {
     "name": "stdout",
     "output_type": "stream",
     "text": [
      "Epoch: [121][0/40]\tTime 1.449 (1.449)\tData 1.235 (1.235)\tLoss 0.4831 (0.4831)\tPrec@1 87.500 (87.500)\n",
      "Test: [0/10]\tTime 0.606 (0.606)\tLoss 0.5518 (0.5518)\tPrec@1 82.910 (82.910)\n",
      " * Prec@1 81.240\n",
      "alpha1 6.56203031539917\n",
      "Best prec1 :  81.43999978027344\n",
      "current lr 3.53627e-04\n"
     ]
    },
    {
     "data": {
      "application/vnd.jupyter.widget-view+json": {
       "model_id": "8377442567d04cdeb0d2c76af0275afb",
       "version_major": 2,
       "version_minor": 0
      },
      "text/plain": [
       "  0%|          | 0/40 [00:00<?, ?it/s]"
      ]
     },
     "metadata": {},
     "output_type": "display_data"
    },
    {
     "name": "stdout",
     "output_type": "stream",
     "text": [
      "Epoch: [122][0/40]\tTime 1.583 (1.583)\tData 1.368 (1.368)\tLoss 0.4730 (0.4730)\tPrec@1 85.059 (85.059)\n",
      "Test: [0/10]\tTime 0.601 (0.601)\tLoss 0.5143 (0.5143)\tPrec@1 84.375 (84.375)\n",
      " * Prec@1 81.880\n",
      "alpha1 6.548858642578125\n",
      "Best prec1 :  81.87999969482422\n",
      "current lr 3.46146e-04\n"
     ]
    },
    {
     "data": {
      "application/vnd.jupyter.widget-view+json": {
       "model_id": "4dcd878e8bd94e0bae6d7c84f17d66e0",
       "version_major": 2,
       "version_minor": 0
      },
      "text/plain": [
       "  0%|          | 0/40 [00:00<?, ?it/s]"
      ]
     },
     "metadata": {},
     "output_type": "display_data"
    },
    {
     "name": "stdout",
     "output_type": "stream",
     "text": [
      "Epoch: [123][0/40]\tTime 1.670 (1.670)\tData 1.455 (1.455)\tLoss 0.4748 (0.4748)\tPrec@1 85.938 (85.938)\n",
      "Test: [0/10]\tTime 0.739 (0.739)\tLoss 0.5321 (0.5321)\tPrec@1 83.496 (83.496)\n",
      " * Prec@1 82.070\n",
      "alpha1 6.5359601974487305\n",
      "Best prec1 :  82.07000013427735\n",
      "current lr 3.38703e-04\n"
     ]
    },
    {
     "data": {
      "application/vnd.jupyter.widget-view+json": {
       "model_id": "d5613703e9b04733ab0587950b28e160",
       "version_major": 2,
       "version_minor": 0
      },
      "text/plain": [
       "  0%|          | 0/40 [00:00<?, ?it/s]"
      ]
     },
     "metadata": {},
     "output_type": "display_data"
    },
    {
     "name": "stdout",
     "output_type": "stream",
     "text": [
      "Epoch: [124][0/40]\tTime 1.357 (1.357)\tData 1.142 (1.142)\tLoss 0.5158 (0.5158)\tPrec@1 84.180 (84.180)\n",
      "Test: [0/10]\tTime 0.629 (0.629)\tLoss 0.5439 (0.5439)\tPrec@1 83.301 (83.301)\n",
      " * Prec@1 81.300\n",
      "alpha1 6.523332118988037\n",
      "Best prec1 :  82.07000013427735\n",
      "current lr 3.31300e-04\n"
     ]
    },
    {
     "data": {
      "application/vnd.jupyter.widget-view+json": {
       "model_id": "951e47b5cbfb4ef7829aca69db039291",
       "version_major": 2,
       "version_minor": 0
      },
      "text/plain": [
       "  0%|          | 0/40 [00:00<?, ?it/s]"
      ]
     },
     "metadata": {},
     "output_type": "display_data"
    },
    {
     "name": "stdout",
     "output_type": "stream",
     "text": [
      "Epoch: [125][0/40]\tTime 1.549 (1.549)\tData 1.333 (1.333)\tLoss 0.4916 (0.4916)\tPrec@1 84.082 (84.082)\n",
      "Test: [0/10]\tTime 0.589 (0.589)\tLoss 0.5518 (0.5518)\tPrec@1 81.738 (81.738)\n",
      " * Prec@1 81.460\n",
      "alpha1 6.510971546173096\n",
      "Best prec1 :  82.07000013427735\n",
      "current lr 3.23939e-04\n"
     ]
    },
    {
     "data": {
      "application/vnd.jupyter.widget-view+json": {
       "model_id": "3febf806511c496cb24322963506a76a",
       "version_major": 2,
       "version_minor": 0
      },
      "text/plain": [
       "  0%|          | 0/40 [00:00<?, ?it/s]"
      ]
     },
     "metadata": {},
     "output_type": "display_data"
    },
    {
     "name": "stdout",
     "output_type": "stream",
     "text": [
      "Epoch: [126][0/40]\tTime 1.378 (1.378)\tData 1.163 (1.163)\tLoss 0.4538 (0.4538)\tPrec@1 86.621 (86.621)\n",
      "Test: [0/10]\tTime 0.614 (0.614)\tLoss 0.5493 (0.5493)\tPrec@1 82.520 (82.520)\n",
      " * Prec@1 81.210\n",
      "alpha1 6.498875617980957\n",
      "Best prec1 :  82.07000013427735\n",
      "current lr 3.16622e-04\n"
     ]
    },
    {
     "data": {
      "application/vnd.jupyter.widget-view+json": {
       "model_id": "7cae40a1f9634e6d999dacfa0c18a49f",
       "version_major": 2,
       "version_minor": 0
      },
      "text/plain": [
       "  0%|          | 0/40 [00:00<?, ?it/s]"
      ]
     },
     "metadata": {},
     "output_type": "display_data"
    },
    {
     "name": "stdout",
     "output_type": "stream",
     "text": [
      "Epoch: [127][0/40]\tTime 1.298 (1.298)\tData 1.083 (1.083)\tLoss 0.4808 (0.4808)\tPrec@1 85.938 (85.938)\n",
      "Test: [0/10]\tTime 0.715 (0.715)\tLoss 0.5454 (0.5454)\tPrec@1 83.008 (83.008)\n",
      " * Prec@1 81.330\n",
      "alpha1 6.48704195022583\n",
      "Best prec1 :  82.07000013427735\n",
      "current lr 3.09350e-04\n"
     ]
    },
    {
     "data": {
      "application/vnd.jupyter.widget-view+json": {
       "model_id": "c4243615c1e44f55a06e4c7f992ca332",
       "version_major": 2,
       "version_minor": 0
      },
      "text/plain": [
       "  0%|          | 0/40 [00:00<?, ?it/s]"
      ]
     },
     "metadata": {},
     "output_type": "display_data"
    },
    {
     "name": "stdout",
     "output_type": "stream",
     "text": [
      "Epoch: [128][0/40]\tTime 1.569 (1.569)\tData 1.354 (1.354)\tLoss 0.4392 (0.4392)\tPrec@1 88.086 (88.086)\n",
      "Test: [0/10]\tTime 0.707 (0.707)\tLoss 0.5432 (0.5432)\tPrec@1 83.105 (83.105)\n",
      " * Prec@1 81.490\n",
      "alpha1 6.475466728210449\n",
      "Best prec1 :  82.07000013427735\n",
      "current lr 3.02125e-04\n"
     ]
    },
    {
     "data": {
      "application/vnd.jupyter.widget-view+json": {
       "model_id": "f86beace65ce4b0685bef3858e5f0833",
       "version_major": 2,
       "version_minor": 0
      },
      "text/plain": [
       "  0%|          | 0/40 [00:00<?, ?it/s]"
      ]
     },
     "metadata": {},
     "output_type": "display_data"
    },
    {
     "name": "stdout",
     "output_type": "stream",
     "text": [
      "Epoch: [129][0/40]\tTime 1.698 (1.698)\tData 1.483 (1.483)\tLoss 0.4094 (0.4094)\tPrec@1 88.672 (88.672)\n",
      "Test: [0/10]\tTime 0.646 (0.646)\tLoss 0.5555 (0.5555)\tPrec@1 82.520 (82.520)\n",
      " * Prec@1 81.200\n",
      "alpha1 6.464156150817871\n",
      "Best prec1 :  82.07000013427735\n",
      "current lr 2.94949e-04\n"
     ]
    },
    {
     "data": {
      "application/vnd.jupyter.widget-view+json": {
       "model_id": "834bdd0e72574f3cb44817972e85ffd4",
       "version_major": 2,
       "version_minor": 0
      },
      "text/plain": [
       "  0%|          | 0/40 [00:00<?, ?it/s]"
      ]
     },
     "metadata": {},
     "output_type": "display_data"
    },
    {
     "name": "stdout",
     "output_type": "stream",
     "text": [
      "Epoch: [130][0/40]\tTime 1.608 (1.608)\tData 1.393 (1.393)\tLoss 0.4652 (0.4652)\tPrec@1 86.426 (86.426)\n",
      "Test: [0/10]\tTime 0.599 (0.599)\tLoss 0.5067 (0.5067)\tPrec@1 82.715 (82.715)\n",
      " * Prec@1 81.810\n",
      "alpha1 6.45311164855957\n",
      "Best prec1 :  82.07000013427735\n",
      "current lr 2.87823e-04\n"
     ]
    },
    {
     "data": {
      "application/vnd.jupyter.widget-view+json": {
       "model_id": "947000e983944daf84b6f2f1f3f87959",
       "version_major": 2,
       "version_minor": 0
      },
      "text/plain": [
       "  0%|          | 0/40 [00:00<?, ?it/s]"
      ]
     },
     "metadata": {},
     "output_type": "display_data"
    },
    {
     "name": "stdout",
     "output_type": "stream",
     "text": [
      "Epoch: [131][0/40]\tTime 1.633 (1.633)\tData 1.419 (1.419)\tLoss 0.4538 (0.4538)\tPrec@1 87.207 (87.207)\n",
      "Test: [0/10]\tTime 0.679 (0.679)\tLoss 0.5081 (0.5081)\tPrec@1 82.520 (82.520)\n",
      " * Prec@1 81.610\n",
      "alpha1 6.442316055297852\n",
      "Best prec1 :  82.07000013427735\n",
      "current lr 2.80750e-04\n"
     ]
    },
    {
     "data": {
      "application/vnd.jupyter.widget-view+json": {
       "model_id": "6d2ae6d3ed7b4579a83fedf2b9037ad7",
       "version_major": 2,
       "version_minor": 0
      },
      "text/plain": [
       "  0%|          | 0/40 [00:00<?, ?it/s]"
      ]
     },
     "metadata": {},
     "output_type": "display_data"
    },
    {
     "name": "stdout",
     "output_type": "stream",
     "text": [
      "Epoch: [132][0/40]\tTime 1.702 (1.702)\tData 1.488 (1.488)\tLoss 0.4848 (0.4848)\tPrec@1 84.668 (84.668)\n",
      "Test: [0/10]\tTime 0.642 (0.642)\tLoss 0.5249 (0.5249)\tPrec@1 83.594 (83.594)\n",
      " * Prec@1 81.400\n",
      "alpha1 6.431787490844727\n",
      "Best prec1 :  82.07000013427735\n",
      "current lr 2.73732e-04\n"
     ]
    },
    {
     "data": {
      "application/vnd.jupyter.widget-view+json": {
       "model_id": "475eeb04bc9946ecacd587e833c1496a",
       "version_major": 2,
       "version_minor": 0
      },
      "text/plain": [
       "  0%|          | 0/40 [00:00<?, ?it/s]"
      ]
     },
     "metadata": {},
     "output_type": "display_data"
    },
    {
     "name": "stdout",
     "output_type": "stream",
     "text": [
      "Epoch: [133][0/40]\tTime 1.455 (1.455)\tData 1.241 (1.241)\tLoss 0.4394 (0.4394)\tPrec@1 87.695 (87.695)\n",
      "Test: [0/10]\tTime 0.706 (0.706)\tLoss 0.5202 (0.5202)\tPrec@1 82.910 (82.910)\n",
      " * Prec@1 81.910\n",
      "alpha1 6.421506881713867\n",
      "Best prec1 :  82.07000013427735\n",
      "current lr 2.66769e-04\n"
     ]
    },
    {
     "data": {
      "application/vnd.jupyter.widget-view+json": {
       "model_id": "6d4005b4ccb24075a74114ad42449441",
       "version_major": 2,
       "version_minor": 0
      },
      "text/plain": [
       "  0%|          | 0/40 [00:00<?, ?it/s]"
      ]
     },
     "metadata": {},
     "output_type": "display_data"
    },
    {
     "name": "stdout",
     "output_type": "stream",
     "text": [
      "Epoch: [134][0/40]\tTime 1.320 (1.320)\tData 1.106 (1.106)\tLoss 0.3955 (0.3955)\tPrec@1 88.672 (88.672)\n",
      "Test: [0/10]\tTime 0.638 (0.638)\tLoss 0.5207 (0.5207)\tPrec@1 83.301 (83.301)\n",
      " * Prec@1 81.720\n",
      "alpha1 6.4114789962768555\n",
      "Best prec1 :  82.07000013427735\n",
      "current lr 2.59864e-04\n"
     ]
    },
    {
     "data": {
      "application/vnd.jupyter.widget-view+json": {
       "model_id": "13394569708a4e9995bb1245650b29e2",
       "version_major": 2,
       "version_minor": 0
      },
      "text/plain": [
       "  0%|          | 0/40 [00:00<?, ?it/s]"
      ]
     },
     "metadata": {},
     "output_type": "display_data"
    },
    {
     "name": "stdout",
     "output_type": "stream",
     "text": [
      "Epoch: [135][0/40]\tTime 1.588 (1.588)\tData 1.372 (1.372)\tLoss 0.4724 (0.4724)\tPrec@1 85.840 (85.840)\n",
      "Test: [0/10]\tTime 0.662 (0.662)\tLoss 0.5448 (0.5448)\tPrec@1 82.422 (82.422)\n",
      " * Prec@1 81.400\n",
      "alpha1 6.401708126068115\n",
      "Best prec1 :  82.07000013427735\n",
      "current lr 2.53018e-04\n"
     ]
    },
    {
     "data": {
      "application/vnd.jupyter.widget-view+json": {
       "model_id": "40da4867571c4a6787f8b6a9abdb83d3",
       "version_major": 2,
       "version_minor": 0
      },
      "text/plain": [
       "  0%|          | 0/40 [00:00<?, ?it/s]"
      ]
     },
     "metadata": {},
     "output_type": "display_data"
    },
    {
     "name": "stdout",
     "output_type": "stream",
     "text": [
      "Epoch: [136][0/40]\tTime 1.249 (1.249)\tData 1.035 (1.035)\tLoss 0.4202 (0.4202)\tPrec@1 88.184 (88.184)\n",
      "Test: [0/10]\tTime 0.610 (0.610)\tLoss 0.5425 (0.5425)\tPrec@1 83.105 (83.105)\n",
      " * Prec@1 81.570\n",
      "alpha1 6.3921895027160645\n",
      "Best prec1 :  82.07000013427735\n",
      "current lr 2.46234e-04\n"
     ]
    },
    {
     "data": {
      "application/vnd.jupyter.widget-view+json": {
       "model_id": "0d1e18b0733643ffb3a4b8a514099f06",
       "version_major": 2,
       "version_minor": 0
      },
      "text/plain": [
       "  0%|          | 0/40 [00:00<?, ?it/s]"
      ]
     },
     "metadata": {},
     "output_type": "display_data"
    },
    {
     "name": "stdout",
     "output_type": "stream",
     "text": [
      "Epoch: [137][0/40]\tTime 1.617 (1.617)\tData 1.403 (1.403)\tLoss 0.4206 (0.4206)\tPrec@1 88.184 (88.184)\n",
      "Test: [0/10]\tTime 0.723 (0.723)\tLoss 0.5255 (0.5255)\tPrec@1 83.789 (83.789)\n",
      " * Prec@1 82.080\n",
      "alpha1 6.382918357849121\n",
      "Best prec1 :  82.08\n",
      "current lr 2.39512e-04\n"
     ]
    },
    {
     "data": {
      "application/vnd.jupyter.widget-view+json": {
       "model_id": "b6d870477c104969abb182723cc0851f",
       "version_major": 2,
       "version_minor": 0
      },
      "text/plain": [
       "  0%|          | 0/40 [00:00<?, ?it/s]"
      ]
     },
     "metadata": {},
     "output_type": "display_data"
    },
    {
     "name": "stdout",
     "output_type": "stream",
     "text": [
      "Epoch: [138][0/40]\tTime 1.412 (1.412)\tData 1.197 (1.197)\tLoss 0.3699 (0.3699)\tPrec@1 89.453 (89.453)\n",
      "Test: [0/10]\tTime 0.623 (0.623)\tLoss 0.5258 (0.5258)\tPrec@1 83.496 (83.496)\n",
      " * Prec@1 82.120\n",
      "alpha1 6.373889923095703\n",
      "Best prec1 :  82.12000009765624\n",
      "current lr 2.32855e-04\n"
     ]
    },
    {
     "data": {
      "application/vnd.jupyter.widget-view+json": {
       "model_id": "5c0a19136f084554a6d83fbd907c4eec",
       "version_major": 2,
       "version_minor": 0
      },
      "text/plain": [
       "  0%|          | 0/40 [00:00<?, ?it/s]"
      ]
     },
     "metadata": {},
     "output_type": "display_data"
    },
    {
     "name": "stdout",
     "output_type": "stream",
     "text": [
      "Epoch: [139][0/40]\tTime 1.609 (1.609)\tData 1.394 (1.394)\tLoss 0.4480 (0.4480)\tPrec@1 85.449 (85.449)\n",
      "Test: [0/10]\tTime 0.721 (0.721)\tLoss 0.5347 (0.5347)\tPrec@1 83.301 (83.301)\n",
      " * Prec@1 82.070\n",
      "alpha1 6.365098476409912\n",
      "Best prec1 :  82.12000009765624\n",
      "current lr 2.26263e-04\n"
     ]
    },
    {
     "data": {
      "application/vnd.jupyter.widget-view+json": {
       "model_id": "7ed0b29d734b49789f10edd8283d32d7",
       "version_major": 2,
       "version_minor": 0
      },
      "text/plain": [
       "  0%|          | 0/40 [00:00<?, ?it/s]"
      ]
     },
     "metadata": {},
     "output_type": "display_data"
    },
    {
     "name": "stdout",
     "output_type": "stream",
     "text": [
      "Epoch: [140][0/40]\tTime 1.281 (1.281)\tData 1.066 (1.066)\tLoss 0.4545 (0.4545)\tPrec@1 87.891 (87.891)\n",
      "Test: [0/10]\tTime 0.600 (0.600)\tLoss 0.5351 (0.5351)\tPrec@1 83.203 (83.203)\n",
      " * Prec@1 82.270\n",
      "alpha1 6.356553554534912\n",
      "Best prec1 :  82.27000009765625\n",
      "current lr 2.19739e-04\n"
     ]
    },
    {
     "data": {
      "application/vnd.jupyter.widget-view+json": {
       "model_id": "5ac9d57e7f7947308bd342430358210e",
       "version_major": 2,
       "version_minor": 0
      },
      "text/plain": [
       "  0%|          | 0/40 [00:00<?, ?it/s]"
      ]
     },
     "metadata": {},
     "output_type": "display_data"
    },
    {
     "name": "stdout",
     "output_type": "stream",
     "text": [
      "Epoch: [141][0/40]\tTime 1.523 (1.523)\tData 1.308 (1.308)\tLoss 0.4056 (0.4056)\tPrec@1 88.086 (88.086)\n",
      "Test: [0/10]\tTime 0.609 (0.609)\tLoss 0.5223 (0.5223)\tPrec@1 83.105 (83.105)\n",
      " * Prec@1 81.720\n",
      "alpha1 6.348249435424805\n",
      "Best prec1 :  82.27000009765625\n",
      "current lr 2.13285e-04\n"
     ]
    },
    {
     "data": {
      "application/vnd.jupyter.widget-view+json": {
       "model_id": "51c3a6b0a88e4e5c89fffb5f102f013e",
       "version_major": 2,
       "version_minor": 0
      },
      "text/plain": [
       "  0%|          | 0/40 [00:00<?, ?it/s]"
      ]
     },
     "metadata": {},
     "output_type": "display_data"
    },
    {
     "name": "stdout",
     "output_type": "stream",
     "text": [
      "Epoch: [142][0/40]\tTime 1.269 (1.269)\tData 1.054 (1.054)\tLoss 0.4029 (0.4029)\tPrec@1 87.305 (87.305)\n",
      "Test: [0/10]\tTime 0.699 (0.699)\tLoss 0.5279 (0.5279)\tPrec@1 83.594 (83.594)\n",
      " * Prec@1 82.000\n",
      "alpha1 6.340181350708008\n",
      "Best prec1 :  82.27000009765625\n",
      "current lr 2.06901e-04\n"
     ]
    },
    {
     "data": {
      "application/vnd.jupyter.widget-view+json": {
       "model_id": "9e44a495b0314ff897416f82871c3379",
       "version_major": 2,
       "version_minor": 0
      },
      "text/plain": [
       "  0%|          | 0/40 [00:00<?, ?it/s]"
      ]
     },
     "metadata": {},
     "output_type": "display_data"
    },
    {
     "name": "stdout",
     "output_type": "stream",
     "text": [
      "Epoch: [143][0/40]\tTime 1.694 (1.694)\tData 1.479 (1.479)\tLoss 0.4468 (0.4468)\tPrec@1 86.523 (86.523)\n",
      "Test: [0/10]\tTime 0.684 (0.684)\tLoss 0.5445 (0.5445)\tPrec@1 83.008 (83.008)\n",
      " * Prec@1 82.110\n",
      "alpha1 6.332342147827148\n",
      "Best prec1 :  82.27000009765625\n",
      "current lr 2.00590e-04\n"
     ]
    },
    {
     "data": {
      "application/vnd.jupyter.widget-view+json": {
       "model_id": "18611efdc6ce425c8c958a2e3f998354",
       "version_major": 2,
       "version_minor": 0
      },
      "text/plain": [
       "  0%|          | 0/40 [00:00<?, ?it/s]"
      ]
     },
     "metadata": {},
     "output_type": "display_data"
    },
    {
     "name": "stdout",
     "output_type": "stream",
     "text": [
      "Epoch: [144][0/40]\tTime 1.521 (1.521)\tData 1.306 (1.306)\tLoss 0.3592 (0.3592)\tPrec@1 89.746 (89.746)\n",
      "Test: [0/10]\tTime 0.620 (0.620)\tLoss 0.5652 (0.5652)\tPrec@1 83.008 (83.008)\n",
      " * Prec@1 81.480\n",
      "alpha1 6.324740409851074\n",
      "Best prec1 :  82.27000009765625\n",
      "current lr 1.94353e-04\n"
     ]
    },
    {
     "data": {
      "application/vnd.jupyter.widget-view+json": {
       "model_id": "acca51b2891b46ee96c4d910947dbdd3",
       "version_major": 2,
       "version_minor": 0
      },
      "text/plain": [
       "  0%|          | 0/40 [00:00<?, ?it/s]"
      ]
     },
     "metadata": {},
     "output_type": "display_data"
    },
    {
     "name": "stdout",
     "output_type": "stream",
     "text": [
      "Epoch: [145][0/40]\tTime 1.631 (1.631)\tData 1.416 (1.416)\tLoss 0.4142 (0.4142)\tPrec@1 88.086 (88.086)\n",
      "Test: [0/10]\tTime 0.721 (0.721)\tLoss 0.5416 (0.5416)\tPrec@1 82.617 (82.617)\n",
      " * Prec@1 82.180\n",
      "alpha1 6.317370891571045\n",
      "Best prec1 :  82.27000009765625\n",
      "current lr 1.88191e-04\n"
     ]
    },
    {
     "data": {
      "application/vnd.jupyter.widget-view+json": {
       "model_id": "08076c5ae16c4ad88eabece987f2f604",
       "version_major": 2,
       "version_minor": 0
      },
      "text/plain": [
       "  0%|          | 0/40 [00:00<?, ?it/s]"
      ]
     },
     "metadata": {},
     "output_type": "display_data"
    },
    {
     "name": "stdout",
     "output_type": "stream",
     "text": [
      "Epoch: [146][0/40]\tTime 1.290 (1.290)\tData 1.074 (1.074)\tLoss 0.4147 (0.4147)\tPrec@1 88.184 (88.184)\n",
      "Test: [0/10]\tTime 0.649 (0.649)\tLoss 0.5385 (0.5385)\tPrec@1 84.375 (84.375)\n",
      " * Prec@1 81.760\n",
      "alpha1 6.310225963592529\n",
      "Best prec1 :  82.27000009765625\n",
      "current lr 1.82107e-04\n"
     ]
    },
    {
     "data": {
      "application/vnd.jupyter.widget-view+json": {
       "model_id": "4f6b253ab678473bba647de5bb05ab87",
       "version_major": 2,
       "version_minor": 0
      },
      "text/plain": [
       "  0%|          | 0/40 [00:00<?, ?it/s]"
      ]
     },
     "metadata": {},
     "output_type": "display_data"
    },
    {
     "name": "stdout",
     "output_type": "stream",
     "text": [
      "Epoch: [147][0/40]\tTime 1.222 (1.222)\tData 1.007 (1.007)\tLoss 0.3622 (0.3622)\tPrec@1 89.453 (89.453)\n",
      "Test: [0/10]\tTime 0.671 (0.671)\tLoss 0.5253 (0.5253)\tPrec@1 83.984 (83.984)\n",
      " * Prec@1 81.870\n",
      "alpha1 6.30330228805542\n",
      "Best prec1 :  82.27000009765625\n",
      "current lr 1.76101e-04\n"
     ]
    },
    {
     "data": {
      "application/vnd.jupyter.widget-view+json": {
       "model_id": "e54179e6e4cd47c9b5478c334a77b086",
       "version_major": 2,
       "version_minor": 0
      },
      "text/plain": [
       "  0%|          | 0/40 [00:00<?, ?it/s]"
      ]
     },
     "metadata": {},
     "output_type": "display_data"
    },
    {
     "name": "stdout",
     "output_type": "stream",
     "text": [
      "Epoch: [148][0/40]\tTime 1.387 (1.387)\tData 1.172 (1.172)\tLoss 0.4114 (0.4114)\tPrec@1 88.281 (88.281)\n",
      "Test: [0/10]\tTime 0.637 (0.637)\tLoss 0.5309 (0.5309)\tPrec@1 83.984 (83.984)\n",
      " * Prec@1 82.350\n",
      "alpha1 6.296607494354248\n",
      "Best prec1 :  82.34999975585937\n",
      "current lr 1.70175e-04\n"
     ]
    },
    {
     "data": {
      "application/vnd.jupyter.widget-view+json": {
       "model_id": "c4bd202d40704159973e584f35f60df5",
       "version_major": 2,
       "version_minor": 0
      },
      "text/plain": [
       "  0%|          | 0/40 [00:00<?, ?it/s]"
      ]
     },
     "metadata": {},
     "output_type": "display_data"
    },
    {
     "name": "stdout",
     "output_type": "stream",
     "text": [
      "Epoch: [149][0/40]\tTime 1.311 (1.311)\tData 1.096 (1.096)\tLoss 0.3939 (0.3939)\tPrec@1 89.453 (89.453)\n",
      "Test: [0/10]\tTime 0.595 (0.595)\tLoss 0.5494 (0.5494)\tPrec@1 83.008 (83.008)\n",
      " * Prec@1 81.830\n",
      "alpha1 6.290128231048584\n",
      "Best prec1 :  82.34999975585937\n",
      "current lr 1.64330e-04\n"
     ]
    },
    {
     "data": {
      "application/vnd.jupyter.widget-view+json": {
       "model_id": "a7f933aa1ef9451a97190f526e55c0c0",
       "version_major": 2,
       "version_minor": 0
      },
      "text/plain": [
       "  0%|          | 0/40 [00:00<?, ?it/s]"
      ]
     },
     "metadata": {},
     "output_type": "display_data"
    },
    {
     "name": "stdout",
     "output_type": "stream",
     "text": [
      "Epoch: [150][0/40]\tTime 1.674 (1.674)\tData 1.459 (1.459)\tLoss 0.4092 (0.4092)\tPrec@1 88.086 (88.086)\n",
      "Test: [0/10]\tTime 0.605 (0.605)\tLoss 0.5331 (0.5331)\tPrec@1 83.398 (83.398)\n",
      " * Prec@1 82.410\n",
      "alpha1 6.283872127532959\n",
      "Best prec1 :  82.41000013427734\n",
      "current lr 1.58569e-04\n"
     ]
    },
    {
     "data": {
      "application/vnd.jupyter.widget-view+json": {
       "model_id": "40961a29248b4771b7a60eedb39a6ac6",
       "version_major": 2,
       "version_minor": 0
      },
      "text/plain": [
       "  0%|          | 0/40 [00:00<?, ?it/s]"
      ]
     },
     "metadata": {},
     "output_type": "display_data"
    },
    {
     "name": "stdout",
     "output_type": "stream",
     "text": [
      "Epoch: [151][0/40]\tTime 1.360 (1.360)\tData 1.145 (1.145)\tLoss 0.3508 (0.3508)\tPrec@1 90.820 (90.820)\n",
      "Test: [0/10]\tTime 0.593 (0.593)\tLoss 0.5047 (0.5047)\tPrec@1 83.887 (83.887)\n",
      " * Prec@1 82.220\n",
      "alpha1 6.277825832366943\n",
      "Best prec1 :  82.41000013427734\n",
      "current lr 1.52892e-04\n"
     ]
    },
    {
     "data": {
      "application/vnd.jupyter.widget-view+json": {
       "model_id": "5b6c1fd40d5e4868a0ac5388033da696",
       "version_major": 2,
       "version_minor": 0
      },
      "text/plain": [
       "  0%|          | 0/40 [00:00<?, ?it/s]"
      ]
     },
     "metadata": {},
     "output_type": "display_data"
    },
    {
     "name": "stdout",
     "output_type": "stream",
     "text": [
      "Epoch: [152][0/40]\tTime 1.632 (1.632)\tData 1.417 (1.417)\tLoss 0.3839 (0.3839)\tPrec@1 88.379 (88.379)\n",
      "Test: [0/10]\tTime 0.604 (0.604)\tLoss 0.5079 (0.5079)\tPrec@1 83.984 (83.984)\n",
      " * Prec@1 82.670\n",
      "alpha1 6.271989345550537\n",
      "Best prec1 :  82.67000001220703\n",
      "current lr 1.47300e-04\n"
     ]
    },
    {
     "data": {
      "application/vnd.jupyter.widget-view+json": {
       "model_id": "732945ec5a83489697e8f0fc5aed8ed9",
       "version_major": 2,
       "version_minor": 0
      },
      "text/plain": [
       "  0%|          | 0/40 [00:00<?, ?it/s]"
      ]
     },
     "metadata": {},
     "output_type": "display_data"
    },
    {
     "name": "stdout",
     "output_type": "stream",
     "text": [
      "Epoch: [153][0/40]\tTime 1.640 (1.640)\tData 1.426 (1.426)\tLoss 0.3914 (0.3914)\tPrec@1 89.941 (89.941)\n",
      "Test: [0/10]\tTime 0.641 (0.641)\tLoss 0.5458 (0.5458)\tPrec@1 83.594 (83.594)\n",
      " * Prec@1 82.210\n",
      "alpha1 6.26636266708374\n",
      "Best prec1 :  82.67000001220703\n",
      "current lr 1.41796e-04\n"
     ]
    },
    {
     "data": {
      "application/vnd.jupyter.widget-view+json": {
       "model_id": "bfbab8f736064706940c235c06c72165",
       "version_major": 2,
       "version_minor": 0
      },
      "text/plain": [
       "  0%|          | 0/40 [00:00<?, ?it/s]"
      ]
     },
     "metadata": {},
     "output_type": "display_data"
    },
    {
     "name": "stdout",
     "output_type": "stream",
     "text": [
      "Epoch: [154][0/40]\tTime 1.641 (1.641)\tData 1.426 (1.426)\tLoss 0.3407 (0.3407)\tPrec@1 91.016 (91.016)\n",
      "Test: [0/10]\tTime 0.617 (0.617)\tLoss 0.5315 (0.5315)\tPrec@1 83.789 (83.789)\n",
      " * Prec@1 82.450\n",
      "alpha1 6.260945796966553\n",
      "Best prec1 :  82.67000001220703\n",
      "current lr 1.36380e-04\n"
     ]
    },
    {
     "data": {
      "application/vnd.jupyter.widget-view+json": {
       "model_id": "895f860922624f1299ccdd748e9ca2ba",
       "version_major": 2,
       "version_minor": 0
      },
      "text/plain": [
       "  0%|          | 0/40 [00:00<?, ?it/s]"
      ]
     },
     "metadata": {},
     "output_type": "display_data"
    },
    {
     "name": "stdout",
     "output_type": "stream",
     "text": [
      "Epoch: [155][0/40]\tTime 1.416 (1.416)\tData 1.201 (1.201)\tLoss 0.3408 (0.3408)\tPrec@1 89.551 (89.551)\n",
      "Test: [0/10]\tTime 0.666 (0.666)\tLoss 0.5208 (0.5208)\tPrec@1 84.375 (84.375)\n",
      " * Prec@1 82.750\n",
      "alpha1 6.2557244300842285\n",
      "Best prec1 :  82.74999991455078\n",
      "current lr 1.31054e-04\n"
     ]
    },
    {
     "data": {
      "application/vnd.jupyter.widget-view+json": {
       "model_id": "c5e88411b3e944e8a560bccfa3f2cc9a",
       "version_major": 2,
       "version_minor": 0
      },
      "text/plain": [
       "  0%|          | 0/40 [00:00<?, ?it/s]"
      ]
     },
     "metadata": {},
     "output_type": "display_data"
    },
    {
     "name": "stdout",
     "output_type": "stream",
     "text": [
      "Epoch: [156][0/40]\tTime 1.566 (1.566)\tData 1.350 (1.350)\tLoss 0.3330 (0.3330)\tPrec@1 91.016 (91.016)\n",
      "Test: [0/10]\tTime 0.617 (0.617)\tLoss 0.5527 (0.5527)\tPrec@1 83.301 (83.301)\n",
      " * Prec@1 82.300\n",
      "alpha1 6.250708103179932\n",
      "Best prec1 :  82.74999991455078\n",
      "current lr 1.25820e-04\n"
     ]
    },
    {
     "data": {
      "application/vnd.jupyter.widget-view+json": {
       "model_id": "a3be15088e2647abad769a183e561e32",
       "version_major": 2,
       "version_minor": 0
      },
      "text/plain": [
       "  0%|          | 0/40 [00:00<?, ?it/s]"
      ]
     },
     "metadata": {},
     "output_type": "display_data"
    },
    {
     "name": "stdout",
     "output_type": "stream",
     "text": [
      "Epoch: [157][0/40]\tTime 1.343 (1.343)\tData 1.128 (1.128)\tLoss 0.3928 (0.3928)\tPrec@1 89.551 (89.551)\n",
      "Test: [0/10]\tTime 0.672 (0.672)\tLoss 0.5190 (0.5190)\tPrec@1 84.180 (84.180)\n",
      " * Prec@1 82.670\n",
      "alpha1 6.245882511138916\n",
      "Best prec1 :  82.74999991455078\n",
      "current lr 1.20677e-04\n"
     ]
    },
    {
     "data": {
      "application/vnd.jupyter.widget-view+json": {
       "model_id": "b0acc728d7ae4bc299cfe2687c59be0e",
       "version_major": 2,
       "version_minor": 0
      },
      "text/plain": [
       "  0%|          | 0/40 [00:00<?, ?it/s]"
      ]
     },
     "metadata": {},
     "output_type": "display_data"
    },
    {
     "name": "stdout",
     "output_type": "stream",
     "text": [
      "Epoch: [158][0/40]\tTime 1.689 (1.689)\tData 1.473 (1.473)\tLoss 0.3861 (0.3861)\tPrec@1 88.477 (88.477)\n",
      "Test: [0/10]\tTime 0.603 (0.603)\tLoss 0.5252 (0.5252)\tPrec@1 84.668 (84.668)\n",
      " * Prec@1 82.660\n",
      "alpha1 6.241247653961182\n",
      "Best prec1 :  82.74999991455078\n",
      "current lr 1.15629e-04\n"
     ]
    },
    {
     "data": {
      "application/vnd.jupyter.widget-view+json": {
       "model_id": "2feec6532b06446e8395a322c87d49a7",
       "version_major": 2,
       "version_minor": 0
      },
      "text/plain": [
       "  0%|          | 0/40 [00:00<?, ?it/s]"
      ]
     },
     "metadata": {},
     "output_type": "display_data"
    },
    {
     "name": "stdout",
     "output_type": "stream",
     "text": [
      "Epoch: [159][0/40]\tTime 1.522 (1.522)\tData 1.306 (1.306)\tLoss 0.4229 (0.4229)\tPrec@1 87.305 (87.305)\n",
      "Test: [0/10]\tTime 0.626 (0.626)\tLoss 0.5349 (0.5349)\tPrec@1 84.375 (84.375)\n",
      " * Prec@1 82.460\n",
      "alpha1 6.2368035316467285\n",
      "Best prec1 :  82.74999991455078\n",
      "current lr 1.10675e-04\n"
     ]
    },
    {
     "data": {
      "application/vnd.jupyter.widget-view+json": {
       "model_id": "0c081020ec684ce9bc7140a25bb77a93",
       "version_major": 2,
       "version_minor": 0
      },
      "text/plain": [
       "  0%|          | 0/40 [00:00<?, ?it/s]"
      ]
     },
     "metadata": {},
     "output_type": "display_data"
    },
    {
     "name": "stdout",
     "output_type": "stream",
     "text": [
      "Epoch: [160][0/40]\tTime 1.549 (1.549)\tData 1.333 (1.333)\tLoss 0.3708 (0.3708)\tPrec@1 89.062 (89.062)\n",
      "Test: [0/10]\tTime 0.595 (0.595)\tLoss 0.5414 (0.5414)\tPrec@1 84.180 (84.180)\n",
      " * Prec@1 82.640\n",
      "alpha1 6.232550144195557\n",
      "Best prec1 :  82.74999991455078\n",
      "current lr 1.05818e-04\n"
     ]
    },
    {
     "data": {
      "application/vnd.jupyter.widget-view+json": {
       "model_id": "897e7292cf1347f2a80e01a715057e23",
       "version_major": 2,
       "version_minor": 0
      },
      "text/plain": [
       "  0%|          | 0/40 [00:00<?, ?it/s]"
      ]
     },
     "metadata": {},
     "output_type": "display_data"
    },
    {
     "name": "stdout",
     "output_type": "stream",
     "text": [
      "Epoch: [161][0/40]\tTime 1.270 (1.270)\tData 1.055 (1.055)\tLoss 0.3389 (0.3389)\tPrec@1 90.137 (90.137)\n",
      "Test: [0/10]\tTime 0.606 (0.606)\tLoss 0.5434 (0.5434)\tPrec@1 83.789 (83.789)\n",
      " * Prec@1 82.810\n",
      "alpha1 6.228487491607666\n",
      "Best prec1 :  82.8100001953125\n",
      "current lr 1.01058e-04\n"
     ]
    },
    {
     "data": {
      "application/vnd.jupyter.widget-view+json": {
       "model_id": "8b1bb6f97b564394a84101d17d156186",
       "version_major": 2,
       "version_minor": 0
      },
      "text/plain": [
       "  0%|          | 0/40 [00:00<?, ?it/s]"
      ]
     },
     "metadata": {},
     "output_type": "display_data"
    },
    {
     "name": "stdout",
     "output_type": "stream",
     "text": [
      "Epoch: [162][0/40]\tTime 1.344 (1.344)\tData 1.128 (1.128)\tLoss 0.3375 (0.3375)\tPrec@1 92.188 (92.188)\n",
      "Test: [0/10]\tTime 0.683 (0.683)\tLoss 0.5113 (0.5113)\tPrec@1 84.473 (84.473)\n",
      " * Prec@1 82.800\n",
      "alpha1 6.2245965003967285\n",
      "Best prec1 :  82.8100001953125\n",
      "current lr 9.63960e-05\n"
     ]
    },
    {
     "data": {
      "application/vnd.jupyter.widget-view+json": {
       "model_id": "6ba3ec5f77c149d1b2ea106edf8c1f82",
       "version_major": 2,
       "version_minor": 0
      },
      "text/plain": [
       "  0%|          | 0/40 [00:00<?, ?it/s]"
      ]
     },
     "metadata": {},
     "output_type": "display_data"
    },
    {
     "name": "stdout",
     "output_type": "stream",
     "text": [
      "Epoch: [163][0/40]\tTime 1.222 (1.222)\tData 1.007 (1.007)\tLoss 0.3783 (0.3783)\tPrec@1 89.648 (89.648)\n",
      "Test: [0/10]\tTime 0.637 (0.637)\tLoss 0.5219 (0.5219)\tPrec@1 84.277 (84.277)\n",
      " * Prec@1 82.710\n",
      "alpha1 6.220877170562744\n",
      "Best prec1 :  82.8100001953125\n",
      "current lr 9.18342e-05\n"
     ]
    },
    {
     "data": {
      "application/vnd.jupyter.widget-view+json": {
       "model_id": "ef820a7373434c8683c1ce7eff2bf501",
       "version_major": 2,
       "version_minor": 0
      },
      "text/plain": [
       "  0%|          | 0/40 [00:00<?, ?it/s]"
      ]
     },
     "metadata": {},
     "output_type": "display_data"
    },
    {
     "name": "stdout",
     "output_type": "stream",
     "text": [
      "Epoch: [164][0/40]\tTime 1.239 (1.239)\tData 1.024 (1.024)\tLoss 0.3641 (0.3641)\tPrec@1 90.332 (90.332)\n",
      "Test: [0/10]\tTime 0.612 (0.612)\tLoss 0.5299 (0.5299)\tPrec@1 84.082 (84.082)\n",
      " * Prec@1 82.920\n",
      "alpha1 6.217329502105713\n",
      "Best prec1 :  82.91999985351562\n",
      "current lr 8.73733e-05\n"
     ]
    },
    {
     "data": {
      "application/vnd.jupyter.widget-view+json": {
       "model_id": "1308abeeddfb4c2087abe406759a4ea4",
       "version_major": 2,
       "version_minor": 0
      },
      "text/plain": [
       "  0%|          | 0/40 [00:00<?, ?it/s]"
      ]
     },
     "metadata": {},
     "output_type": "display_data"
    },
    {
     "name": "stdout",
     "output_type": "stream",
     "text": [
      "Epoch: [165][0/40]\tTime 1.699 (1.699)\tData 1.484 (1.484)\tLoss 0.3462 (0.3462)\tPrec@1 90.332 (90.332)\n",
      "Test: [0/10]\tTime 0.610 (0.610)\tLoss 0.5291 (0.5291)\tPrec@1 84.082 (84.082)\n",
      " * Prec@1 83.020\n",
      "alpha1 6.213953495025635\n",
      "Best prec1 :  83.0200002319336\n",
      "current lr 8.30142e-05\n"
     ]
    },
    {
     "data": {
      "application/vnd.jupyter.widget-view+json": {
       "model_id": "990e64e881df46e3b29d7d788ec0d535",
       "version_major": 2,
       "version_minor": 0
      },
      "text/plain": [
       "  0%|          | 0/40 [00:00<?, ?it/s]"
      ]
     },
     "metadata": {},
     "output_type": "display_data"
    },
    {
     "name": "stdout",
     "output_type": "stream",
     "text": [
      "Epoch: [166][0/40]\tTime 1.364 (1.364)\tData 1.149 (1.149)\tLoss 0.3202 (0.3202)\tPrec@1 91.211 (91.211)\n",
      "Test: [0/10]\tTime 0.617 (0.617)\tLoss 0.5476 (0.5476)\tPrec@1 83.887 (83.887)\n",
      " * Prec@1 82.580\n",
      "alpha1 6.21074914932251\n",
      "Best prec1 :  83.0200002319336\n",
      "current lr 7.87582e-05\n"
     ]
    },
    {
     "data": {
      "application/vnd.jupyter.widget-view+json": {
       "model_id": "65f9aa2b3c8f4281a8c06c086881a828",
       "version_major": 2,
       "version_minor": 0
      },
      "text/plain": [
       "  0%|          | 0/40 [00:00<?, ?it/s]"
      ]
     },
     "metadata": {},
     "output_type": "display_data"
    },
    {
     "name": "stdout",
     "output_type": "stream",
     "text": [
      "Epoch: [167][0/40]\tTime 1.657 (1.657)\tData 1.442 (1.442)\tLoss 0.3180 (0.3180)\tPrec@1 91.113 (91.113)\n",
      "Test: [0/10]\tTime 0.617 (0.617)\tLoss 0.5314 (0.5314)\tPrec@1 84.277 (84.277)\n",
      " * Prec@1 82.830\n",
      "alpha1 6.20769739151001\n",
      "Best prec1 :  83.0200002319336\n",
      "current lr 7.46062e-05\n"
     ]
    },
    {
     "data": {
      "application/vnd.jupyter.widget-view+json": {
       "model_id": "a4a8205b3fd544c395b439fd97ad47c9",
       "version_major": 2,
       "version_minor": 0
      },
      "text/plain": [
       "  0%|          | 0/40 [00:00<?, ?it/s]"
      ]
     },
     "metadata": {},
     "output_type": "display_data"
    },
    {
     "name": "stdout",
     "output_type": "stream",
     "text": [
      "Epoch: [168][0/40]\tTime 1.453 (1.453)\tData 1.238 (1.238)\tLoss 0.3496 (0.3496)\tPrec@1 90.625 (90.625)\n",
      "Test: [0/10]\tTime 0.599 (0.599)\tLoss 0.5230 (0.5230)\tPrec@1 84.961 (84.961)\n",
      " * Prec@1 82.890\n",
      "alpha1 6.204817295074463\n",
      "Best prec1 :  83.0200002319336\n",
      "current lr 7.05594e-05\n"
     ]
    },
    {
     "data": {
      "application/vnd.jupyter.widget-view+json": {
       "model_id": "bc742636bc584adb808e091667739b60",
       "version_major": 2,
       "version_minor": 0
      },
      "text/plain": [
       "  0%|          | 0/40 [00:00<?, ?it/s]"
      ]
     },
     "metadata": {},
     "output_type": "display_data"
    },
    {
     "name": "stdout",
     "output_type": "stream",
     "text": [
      "Epoch: [169][0/40]\tTime 1.326 (1.326)\tData 1.111 (1.111)\tLoss 0.3547 (0.3547)\tPrec@1 90.039 (90.039)\n",
      "Test: [0/10]\tTime 0.640 (0.640)\tLoss 0.5169 (0.5169)\tPrec@1 84.375 (84.375)\n",
      " * Prec@1 83.110\n",
      "alpha1 6.202089786529541\n",
      "Best prec1 :  83.10999981689453\n",
      "current lr 6.66186e-05\n"
     ]
    },
    {
     "data": {
      "application/vnd.jupyter.widget-view+json": {
       "model_id": "0122ceddfae54f109fcd94abd596f9d9",
       "version_major": 2,
       "version_minor": 0
      },
      "text/plain": [
       "  0%|          | 0/40 [00:00<?, ?it/s]"
      ]
     },
     "metadata": {},
     "output_type": "display_data"
    },
    {
     "name": "stdout",
     "output_type": "stream",
     "text": [
      "Epoch: [170][0/40]\tTime 1.615 (1.615)\tData 1.400 (1.400)\tLoss 0.3594 (0.3594)\tPrec@1 90.527 (90.527)\n",
      "Test: [0/10]\tTime 0.606 (0.606)\tLoss 0.5259 (0.5259)\tPrec@1 84.180 (84.180)\n",
      " * Prec@1 82.780\n",
      "alpha1 6.199514865875244\n",
      "Best prec1 :  83.10999981689453\n",
      "current lr 6.27848e-05\n"
     ]
    },
    {
     "data": {
      "application/vnd.jupyter.widget-view+json": {
       "model_id": "ff8ca7cd3d6b40589399dc7cdfda3eba",
       "version_major": 2,
       "version_minor": 0
      },
      "text/plain": [
       "  0%|          | 0/40 [00:00<?, ?it/s]"
      ]
     },
     "metadata": {},
     "output_type": "display_data"
    },
    {
     "name": "stdout",
     "output_type": "stream",
     "text": [
      "Epoch: [171][0/40]\tTime 1.440 (1.440)\tData 1.226 (1.226)\tLoss 0.3146 (0.3146)\tPrec@1 91.211 (91.211)\n",
      "Test: [0/10]\tTime 0.629 (0.629)\tLoss 0.5299 (0.5299)\tPrec@1 84.082 (84.082)\n",
      " * Prec@1 82.840\n",
      "alpha1 6.197073459625244\n",
      "Best prec1 :  83.10999981689453\n",
      "current lr 5.90591e-05\n"
     ]
    },
    {
     "data": {
      "application/vnd.jupyter.widget-view+json": {
       "model_id": "1e742c031e37405d883ceeb4ef34ffc2",
       "version_major": 2,
       "version_minor": 0
      },
      "text/plain": [
       "  0%|          | 0/40 [00:00<?, ?it/s]"
      ]
     },
     "metadata": {},
     "output_type": "display_data"
    },
    {
     "name": "stdout",
     "output_type": "stream",
     "text": [
      "Epoch: [172][0/40]\tTime 1.234 (1.234)\tData 1.019 (1.019)\tLoss 0.3381 (0.3381)\tPrec@1 90.332 (90.332)\n",
      "Test: [0/10]\tTime 0.642 (0.642)\tLoss 0.5301 (0.5301)\tPrec@1 84.473 (84.473)\n",
      " * Prec@1 82.890\n",
      "alpha1 6.194784641265869\n",
      "Best prec1 :  83.10999981689453\n",
      "current lr 5.54422e-05\n"
     ]
    },
    {
     "data": {
      "application/vnd.jupyter.widget-view+json": {
       "model_id": "29f6dde5c5824e74bacdcfe04cfecafd",
       "version_major": 2,
       "version_minor": 0
      },
      "text/plain": [
       "  0%|          | 0/40 [00:00<?, ?it/s]"
      ]
     },
     "metadata": {},
     "output_type": "display_data"
    },
    {
     "name": "stdout",
     "output_type": "stream",
     "text": [
      "Epoch: [173][0/40]\tTime 1.548 (1.548)\tData 1.333 (1.333)\tLoss 0.3474 (0.3474)\tPrec@1 90.430 (90.430)\n",
      "Test: [0/10]\tTime 0.601 (0.601)\tLoss 0.5221 (0.5221)\tPrec@1 84.473 (84.473)\n",
      " * Prec@1 82.820\n",
      "alpha1 6.192629337310791\n",
      "Best prec1 :  83.10999981689453\n",
      "current lr 5.19352e-05\n"
     ]
    },
    {
     "data": {
      "application/vnd.jupyter.widget-view+json": {
       "model_id": "79b82bd55381497d9ab362f9574c66aa",
       "version_major": 2,
       "version_minor": 0
      },
      "text/plain": [
       "  0%|          | 0/40 [00:00<?, ?it/s]"
      ]
     },
     "metadata": {},
     "output_type": "display_data"
    },
    {
     "name": "stdout",
     "output_type": "stream",
     "text": [
      "Epoch: [174][0/40]\tTime 1.538 (1.538)\tData 1.322 (1.322)\tLoss 0.3749 (0.3749)\tPrec@1 89.160 (89.160)\n",
      "Test: [0/10]\tTime 0.639 (0.639)\tLoss 0.5210 (0.5210)\tPrec@1 85.156 (85.156)\n",
      " * Prec@1 82.920\n",
      "alpha1 6.19060754776001\n",
      "Best prec1 :  83.10999981689453\n",
      "current lr 4.85389e-05\n"
     ]
    },
    {
     "data": {
      "application/vnd.jupyter.widget-view+json": {
       "model_id": "995ec48df0da48c4afe99947f5d168b3",
       "version_major": 2,
       "version_minor": 0
      },
      "text/plain": [
       "  0%|          | 0/40 [00:00<?, ?it/s]"
      ]
     },
     "metadata": {},
     "output_type": "display_data"
    },
    {
     "name": "stdout",
     "output_type": "stream",
     "text": [
      "Epoch: [175][0/40]\tTime 1.583 (1.583)\tData 1.368 (1.368)\tLoss 0.3608 (0.3608)\tPrec@1 90.137 (90.137)\n",
      "Test: [0/10]\tTime 0.646 (0.646)\tLoss 0.5257 (0.5257)\tPrec@1 84.961 (84.961)\n",
      " * Prec@1 82.990\n",
      "alpha1 6.188719272613525\n",
      "Best prec1 :  83.10999981689453\n",
      "current lr 4.52541e-05\n"
     ]
    },
    {
     "data": {
      "application/vnd.jupyter.widget-view+json": {
       "model_id": "1ed2827ff3904037a42cd2f721ddb4b0",
       "version_major": 2,
       "version_minor": 0
      },
      "text/plain": [
       "  0%|          | 0/40 [00:00<?, ?it/s]"
      ]
     },
     "metadata": {},
     "output_type": "display_data"
    },
    {
     "name": "stdout",
     "output_type": "stream",
     "text": [
      "Epoch: [176][0/40]\tTime 1.322 (1.322)\tData 1.107 (1.107)\tLoss 0.3308 (0.3308)\tPrec@1 90.234 (90.234)\n",
      "Test: [0/10]\tTime 0.686 (0.686)\tLoss 0.5193 (0.5193)\tPrec@1 84.961 (84.961)\n",
      " * Prec@1 83.000\n",
      "alpha1 6.186964511871338\n",
      "Best prec1 :  83.10999981689453\n",
      "current lr 4.20816e-05\n"
     ]
    },
    {
     "data": {
      "application/vnd.jupyter.widget-view+json": {
       "model_id": "a8c4fb3a4e8b4469b5c1ea7e6e176c85",
       "version_major": 2,
       "version_minor": 0
      },
      "text/plain": [
       "  0%|          | 0/40 [00:00<?, ?it/s]"
      ]
     },
     "metadata": {},
     "output_type": "display_data"
    },
    {
     "name": "stdout",
     "output_type": "stream",
     "text": [
      "Epoch: [177][0/40]\tTime 1.269 (1.269)\tData 1.054 (1.054)\tLoss 0.3551 (0.3551)\tPrec@1 89.453 (89.453)\n",
      "Test: [0/10]\tTime 0.628 (0.628)\tLoss 0.5401 (0.5401)\tPrec@1 84.180 (84.180)\n",
      " * Prec@1 82.820\n",
      "alpha1 6.185324192047119\n",
      "Best prec1 :  83.10999981689453\n",
      "current lr 3.90222e-05\n"
     ]
    },
    {
     "data": {
      "application/vnd.jupyter.widget-view+json": {
       "model_id": "95eeead81e79437fa12a33120c48178e",
       "version_major": 2,
       "version_minor": 0
      },
      "text/plain": [
       "  0%|          | 0/40 [00:00<?, ?it/s]"
      ]
     },
     "metadata": {},
     "output_type": "display_data"
    },
    {
     "name": "stdout",
     "output_type": "stream",
     "text": [
      "Epoch: [178][0/40]\tTime 1.402 (1.402)\tData 1.187 (1.187)\tLoss 0.3419 (0.3419)\tPrec@1 90.820 (90.820)\n",
      "Test: [0/10]\tTime 0.680 (0.680)\tLoss 0.5284 (0.5284)\tPrec@1 84.473 (84.473)\n",
      " * Prec@1 83.010\n",
      "alpha1 6.183798313140869\n",
      "Best prec1 :  83.10999981689453\n",
      "current lr 3.60766e-05\n"
     ]
    },
    {
     "data": {
      "application/vnd.jupyter.widget-view+json": {
       "model_id": "bcf8b0dd7a114abfa865666d1f3300ce",
       "version_major": 2,
       "version_minor": 0
      },
      "text/plain": [
       "  0%|          | 0/40 [00:00<?, ?it/s]"
      ]
     },
     "metadata": {},
     "output_type": "display_data"
    },
    {
     "name": "stdout",
     "output_type": "stream",
     "text": [
      "Epoch: [179][0/40]\tTime 1.289 (1.289)\tData 1.073 (1.073)\tLoss 0.3282 (0.3282)\tPrec@1 91.309 (91.309)\n",
      "Test: [0/10]\tTime 0.637 (0.637)\tLoss 0.5334 (0.5334)\tPrec@1 84.082 (84.082)\n",
      " * Prec@1 82.900\n",
      "alpha1 6.182386875152588\n",
      "Best prec1 :  83.10999981689453\n",
      "current lr 3.32457e-05\n"
     ]
    },
    {
     "data": {
      "application/vnd.jupyter.widget-view+json": {
       "model_id": "6739ec74bfb441ff9a05577e693911fc",
       "version_major": 2,
       "version_minor": 0
      },
      "text/plain": [
       "  0%|          | 0/40 [00:00<?, ?it/s]"
      ]
     },
     "metadata": {},
     "output_type": "display_data"
    },
    {
     "name": "stdout",
     "output_type": "stream",
     "text": [
      "Epoch: [180][0/40]\tTime 1.282 (1.282)\tData 1.066 (1.066)\tLoss 0.3015 (0.3015)\tPrec@1 92.480 (92.480)\n",
      "Test: [0/10]\tTime 0.584 (0.584)\tLoss 0.5308 (0.5308)\tPrec@1 84.277 (84.277)\n",
      " * Prec@1 82.900\n",
      "alpha1 6.181089878082275\n",
      "Best prec1 :  83.10999981689453\n",
      "current lr 3.05301e-05\n"
     ]
    },
    {
     "data": {
      "application/vnd.jupyter.widget-view+json": {
       "model_id": "fca8df2c15a448049d213d72895d9f73",
       "version_major": 2,
       "version_minor": 0
      },
      "text/plain": [
       "  0%|          | 0/40 [00:00<?, ?it/s]"
      ]
     },
     "metadata": {},
     "output_type": "display_data"
    },
    {
     "name": "stdout",
     "output_type": "stream",
     "text": [
      "Epoch: [181][0/40]\tTime 1.247 (1.247)\tData 1.032 (1.032)\tLoss 0.3333 (0.3333)\tPrec@1 91.211 (91.211)\n",
      "Test: [0/10]\tTime 0.612 (0.612)\tLoss 0.5364 (0.5364)\tPrec@1 84.668 (84.668)\n",
      " * Prec@1 82.910\n",
      "alpha1 6.1798882484436035\n",
      "Best prec1 :  83.10999981689453\n",
      "current lr 2.79304e-05\n"
     ]
    },
    {
     "data": {
      "application/vnd.jupyter.widget-view+json": {
       "model_id": "ca288d93c0a54acdb1312a50f3a91860",
       "version_major": 2,
       "version_minor": 0
      },
      "text/plain": [
       "  0%|          | 0/40 [00:00<?, ?it/s]"
      ]
     },
     "metadata": {},
     "output_type": "display_data"
    },
    {
     "name": "stdout",
     "output_type": "stream",
     "text": [
      "Epoch: [182][0/40]\tTime 1.250 (1.250)\tData 1.035 (1.035)\tLoss 0.3348 (0.3348)\tPrec@1 91.602 (91.602)\n",
      "Test: [0/10]\tTime 0.720 (0.720)\tLoss 0.5262 (0.5262)\tPrec@1 84.668 (84.668)\n",
      " * Prec@1 83.140\n",
      "alpha1 6.1788010597229\n",
      "Best prec1 :  83.13999975585938\n",
      "current lr 2.54473e-05\n"
     ]
    },
    {
     "data": {
      "application/vnd.jupyter.widget-view+json": {
       "model_id": "106a221eac624c91b3189c46ecc37ab3",
       "version_major": 2,
       "version_minor": 0
      },
      "text/plain": [
       "  0%|          | 0/40 [00:00<?, ?it/s]"
      ]
     },
     "metadata": {},
     "output_type": "display_data"
    },
    {
     "name": "stdout",
     "output_type": "stream",
     "text": [
      "Epoch: [183][0/40]\tTime 1.648 (1.648)\tData 1.433 (1.433)\tLoss 0.3169 (0.3169)\tPrec@1 91.309 (91.309)\n",
      "Test: [0/10]\tTime 0.782 (0.782)\tLoss 0.5264 (0.5264)\tPrec@1 84.668 (84.668)\n",
      " * Prec@1 82.850\n",
      "alpha1 6.177809238433838\n",
      "Best prec1 :  83.13999975585938\n",
      "current lr 2.30814e-05\n"
     ]
    },
    {
     "data": {
      "application/vnd.jupyter.widget-view+json": {
       "model_id": "0adb626e4c4540689258abb262a3dbd5",
       "version_major": 2,
       "version_minor": 0
      },
      "text/plain": [
       "  0%|          | 0/40 [00:00<?, ?it/s]"
      ]
     },
     "metadata": {},
     "output_type": "display_data"
    },
    {
     "name": "stdout",
     "output_type": "stream",
     "text": [
      "Epoch: [184][0/40]\tTime 1.657 (1.657)\tData 1.442 (1.442)\tLoss 0.3564 (0.3564)\tPrec@1 90.332 (90.332)\n",
      "Test: [0/10]\tTime 0.816 (0.816)\tLoss 0.5316 (0.5316)\tPrec@1 84.375 (84.375)\n",
      " * Prec@1 82.930\n",
      "alpha1 6.176912784576416\n",
      "Best prec1 :  83.13999975585938\n",
      "current lr 2.08333e-05\n"
     ]
    },
    {
     "data": {
      "application/vnd.jupyter.widget-view+json": {
       "model_id": "704fcfc11d0947c1a267e9cfb11d178c",
       "version_major": 2,
       "version_minor": 0
      },
      "text/plain": [
       "  0%|          | 0/40 [00:00<?, ?it/s]"
      ]
     },
     "metadata": {},
     "output_type": "display_data"
    },
    {
     "name": "stdout",
     "output_type": "stream",
     "text": [
      "Epoch: [185][0/40]\tTime 1.463 (1.463)\tData 1.247 (1.247)\tLoss 0.3018 (0.3018)\tPrec@1 92.871 (92.871)\n",
      "Test: [0/10]\tTime 0.935 (0.935)\tLoss 0.5419 (0.5419)\tPrec@1 83.984 (83.984)\n",
      " * Prec@1 82.700\n",
      "alpha1 6.176092624664307\n",
      "Best prec1 :  83.13999975585938\n",
      "current lr 1.87036e-05\n"
     ]
    },
    {
     "data": {
      "application/vnd.jupyter.widget-view+json": {
       "model_id": "2f76dfe1d8fd4fa3a28c7c1b7571df1d",
       "version_major": 2,
       "version_minor": 0
      },
      "text/plain": [
       "  0%|          | 0/40 [00:00<?, ?it/s]"
      ]
     },
     "metadata": {},
     "output_type": "display_data"
    },
    {
     "name": "stdout",
     "output_type": "stream",
     "text": [
      "Epoch: [186][0/40]\tTime 1.783 (1.783)\tData 1.505 (1.505)\tLoss 0.3220 (0.3220)\tPrec@1 91.504 (91.504)\n",
      "Test: [0/10]\tTime 0.889 (0.889)\tLoss 0.5349 (0.5349)\tPrec@1 84.668 (84.668)\n",
      " * Prec@1 82.930\n",
      "alpha1 6.175367832183838\n",
      "Best prec1 :  83.13999975585938\n",
      "current lr 1.66927e-05\n"
     ]
    },
    {
     "data": {
      "application/vnd.jupyter.widget-view+json": {
       "model_id": "92e815d6046a42079ca5c6413d6ad4d4",
       "version_major": 2,
       "version_minor": 0
      },
      "text/plain": [
       "  0%|          | 0/40 [00:00<?, ?it/s]"
      ]
     },
     "metadata": {},
     "output_type": "display_data"
    },
    {
     "name": "stdout",
     "output_type": "stream",
     "text": [
      "Epoch: [187][0/40]\tTime 2.027 (2.027)\tData 1.755 (1.755)\tLoss 0.3467 (0.3467)\tPrec@1 90.625 (90.625)\n",
      "Test: [0/10]\tTime 0.598 (0.598)\tLoss 0.5318 (0.5318)\tPrec@1 84.766 (84.766)\n",
      " * Prec@1 82.990\n",
      "alpha1 6.174719333648682\n",
      "Best prec1 :  83.13999975585938\n",
      "current lr 1.48012e-05\n"
     ]
    },
    {
     "data": {
      "application/vnd.jupyter.widget-view+json": {
       "model_id": "5cd08a3e44034aaa93c800b9e481cb5e",
       "version_major": 2,
       "version_minor": 0
      },
      "text/plain": [
       "  0%|          | 0/40 [00:00<?, ?it/s]"
      ]
     },
     "metadata": {},
     "output_type": "display_data"
    },
    {
     "name": "stdout",
     "output_type": "stream",
     "text": [
      "Epoch: [188][0/40]\tTime 1.225 (1.225)\tData 1.010 (1.010)\tLoss 0.3126 (0.3126)\tPrec@1 92.578 (92.578)\n",
      "Test: [0/10]\tTime 0.735 (0.735)\tLoss 0.5319 (0.5319)\tPrec@1 84.473 (84.473)\n",
      " * Prec@1 83.120\n",
      "alpha1 6.174147129058838\n",
      "Best prec1 :  83.13999975585938\n",
      "current lr 1.30296e-05\n"
     ]
    },
    {
     "data": {
      "application/vnd.jupyter.widget-view+json": {
       "model_id": "dd47a7b902ea492c9c90a68a30778ae8",
       "version_major": 2,
       "version_minor": 0
      },
      "text/plain": [
       "  0%|          | 0/40 [00:00<?, ?it/s]"
      ]
     },
     "metadata": {},
     "output_type": "display_data"
    },
    {
     "name": "stdout",
     "output_type": "stream",
     "text": [
      "Epoch: [189][0/40]\tTime 1.610 (1.610)\tData 1.395 (1.395)\tLoss 0.3400 (0.3400)\tPrec@1 90.918 (90.918)\n",
      "Test: [0/10]\tTime 0.631 (0.631)\tLoss 0.5352 (0.5352)\tPrec@1 84.863 (84.863)\n",
      " * Prec@1 83.110\n",
      "alpha1 6.1736321449279785\n",
      "Best prec1 :  83.13999975585938\n",
      "current lr 1.13782e-05\n"
     ]
    },
    {
     "data": {
      "application/vnd.jupyter.widget-view+json": {
       "model_id": "068ee08c2a5e4c4985edf377a64e8171",
       "version_major": 2,
       "version_minor": 0
      },
      "text/plain": [
       "  0%|          | 0/40 [00:00<?, ?it/s]"
      ]
     },
     "metadata": {},
     "output_type": "display_data"
    },
    {
     "name": "stdout",
     "output_type": "stream",
     "text": [
      "Epoch: [190][0/40]\tTime 1.394 (1.394)\tData 1.178 (1.178)\tLoss 0.3422 (0.3422)\tPrec@1 91.016 (91.016)\n",
      "Test: [0/10]\tTime 0.670 (0.670)\tLoss 0.5414 (0.5414)\tPrec@1 84.180 (84.180)\n",
      " * Prec@1 83.110\n",
      "alpha1 6.173193454742432\n",
      "Best prec1 :  83.13999975585938\n",
      "current lr 9.84752e-06\n"
     ]
    },
    {
     "data": {
      "application/vnd.jupyter.widget-view+json": {
       "model_id": "e8090ebda0da430c92c23440e6092708",
       "version_major": 2,
       "version_minor": 0
      },
      "text/plain": [
       "  0%|          | 0/40 [00:00<?, ?it/s]"
      ]
     },
     "metadata": {},
     "output_type": "display_data"
    },
    {
     "name": "stdout",
     "output_type": "stream",
     "text": [
      "Epoch: [191][0/40]\tTime 1.274 (1.274)\tData 1.059 (1.059)\tLoss 0.3240 (0.3240)\tPrec@1 91.699 (91.699)\n",
      "Test: [0/10]\tTime 0.645 (0.645)\tLoss 0.5388 (0.5388)\tPrec@1 84.668 (84.668)\n",
      " * Prec@1 83.100\n",
      "alpha1 6.172811985015869\n",
      "Best prec1 :  83.13999975585938\n",
      "current lr 8.43789e-06\n"
     ]
    },
    {
     "data": {
      "application/vnd.jupyter.widget-view+json": {
       "model_id": "71509d3c4b0640789ce64f6fef85e013",
       "version_major": 2,
       "version_minor": 0
      },
      "text/plain": [
       "  0%|          | 0/40 [00:00<?, ?it/s]"
      ]
     },
     "metadata": {},
     "output_type": "display_data"
    },
    {
     "name": "stdout",
     "output_type": "stream",
     "text": [
      "Epoch: [192][0/40]\tTime 1.322 (1.322)\tData 1.107 (1.107)\tLoss 0.3026 (0.3026)\tPrec@1 91.992 (91.992)\n",
      "Test: [0/10]\tTime 0.594 (0.594)\tLoss 0.5368 (0.5368)\tPrec@1 84.863 (84.863)\n",
      " * Prec@1 83.020\n",
      "alpha1 6.172487735748291\n",
      "Best prec1 :  83.13999975585938\n",
      "current lr 7.14967e-06\n"
     ]
    },
    {
     "data": {
      "application/vnd.jupyter.widget-view+json": {
       "model_id": "c52e995dbac8438c8fc19b3bf0c532b6",
       "version_major": 2,
       "version_minor": 0
      },
      "text/plain": [
       "  0%|          | 0/40 [00:00<?, ?it/s]"
      ]
     },
     "metadata": {},
     "output_type": "display_data"
    },
    {
     "name": "stdout",
     "output_type": "stream",
     "text": [
      "Epoch: [193][0/40]\tTime 1.584 (1.584)\tData 1.369 (1.369)\tLoss 0.3480 (0.3480)\tPrec@1 90.039 (90.039)\n",
      "Test: [0/10]\tTime 0.625 (0.625)\tLoss 0.5371 (0.5371)\tPrec@1 84.668 (84.668)\n",
      " * Prec@1 83.080\n",
      "alpha1 6.172201633453369\n",
      "Best prec1 :  83.13999975585938\n",
      "current lr 5.98318e-06\n"
     ]
    },
    {
     "data": {
      "application/vnd.jupyter.widget-view+json": {
       "model_id": "d7170f1608ed44bdb3a073ce8dfdefed",
       "version_major": 2,
       "version_minor": 0
      },
      "text/plain": [
       "  0%|          | 0/40 [00:00<?, ?it/s]"
      ]
     },
     "metadata": {},
     "output_type": "display_data"
    },
    {
     "name": "stdout",
     "output_type": "stream",
     "text": [
      "Epoch: [194][0/40]\tTime 1.316 (1.316)\tData 1.101 (1.101)\tLoss 0.3019 (0.3019)\tPrec@1 92.188 (92.188)\n",
      "Test: [0/10]\tTime 0.721 (0.721)\tLoss 0.5390 (0.5390)\tPrec@1 84.277 (84.277)\n",
      " * Prec@1 82.920\n",
      "alpha1 6.171972751617432\n",
      "Best prec1 :  83.13999975585938\n",
      "current lr 4.93871e-06\n"
     ]
    },
    {
     "data": {
      "application/vnd.jupyter.widget-view+json": {
       "model_id": "f60039d4922c4943a0d711339856f232",
       "version_major": 2,
       "version_minor": 0
      },
      "text/plain": [
       "  0%|          | 0/40 [00:00<?, ?it/s]"
      ]
     },
     "metadata": {},
     "output_type": "display_data"
    },
    {
     "name": "stdout",
     "output_type": "stream",
     "text": [
      "Epoch: [195][0/40]\tTime 1.253 (1.253)\tData 1.038 (1.038)\tLoss 0.3063 (0.3063)\tPrec@1 91.992 (91.992)\n",
      "Test: [0/10]\tTime 0.624 (0.624)\tLoss 0.5350 (0.5350)\tPrec@1 84.863 (84.863)\n",
      " * Prec@1 83.010\n",
      "alpha1 6.17178201675415\n",
      "Best prec1 :  83.13999975585938\n",
      "current lr 4.01650e-06\n"
     ]
    },
    {
     "data": {
      "application/vnd.jupyter.widget-view+json": {
       "model_id": "18ed05d49ca547c1b6ebc2c4354a988d",
       "version_major": 2,
       "version_minor": 0
      },
      "text/plain": [
       "  0%|          | 0/40 [00:00<?, ?it/s]"
      ]
     },
     "metadata": {},
     "output_type": "display_data"
    },
    {
     "name": "stdout",
     "output_type": "stream",
     "text": [
      "Epoch: [196][0/40]\tTime 1.557 (1.557)\tData 1.341 (1.341)\tLoss 0.3093 (0.3093)\tPrec@1 91.406 (91.406)\n",
      "Test: [0/10]\tTime 0.623 (0.623)\tLoss 0.5364 (0.5364)\tPrec@1 84.473 (84.473)\n",
      " * Prec@1 82.960\n",
      "alpha1 6.171629428863525\n",
      "Best prec1 :  83.13999975585938\n",
      "current lr 3.21680e-06\n"
     ]
    },
    {
     "data": {
      "application/vnd.jupyter.widget-view+json": {
       "model_id": "265625ca6a4b41cb9d42645aacdb159a",
       "version_major": 2,
       "version_minor": 0
      },
      "text/plain": [
       "  0%|          | 0/40 [00:00<?, ?it/s]"
      ]
     },
     "metadata": {},
     "output_type": "display_data"
    },
    {
     "name": "stdout",
     "output_type": "stream",
     "text": [
      "Epoch: [197][0/40]\tTime 1.602 (1.602)\tData 1.387 (1.387)\tLoss 0.3409 (0.3409)\tPrec@1 90.820 (90.820)\n",
      "Test: [0/10]\tTime 0.677 (0.677)\tLoss 0.5423 (0.5423)\tPrec@1 84.375 (84.375)\n",
      " * Prec@1 82.830\n",
      "alpha1 6.1714959144592285\n",
      "Best prec1 :  83.13999975585938\n",
      "current lr 2.53979e-06\n"
     ]
    },
    {
     "data": {
      "application/vnd.jupyter.widget-view+json": {
       "model_id": "daea0e794370424db934ed71f102b822",
       "version_major": 2,
       "version_minor": 0
      },
      "text/plain": [
       "  0%|          | 0/40 [00:00<?, ?it/s]"
      ]
     },
     "metadata": {},
     "output_type": "display_data"
    },
    {
     "name": "stdout",
     "output_type": "stream",
     "text": [
      "Epoch: [198][0/40]\tTime 1.590 (1.590)\tData 1.375 (1.375)\tLoss 0.3232 (0.3232)\tPrec@1 90.723 (90.723)\n",
      "Test: [0/10]\tTime 0.721 (0.721)\tLoss 0.5342 (0.5342)\tPrec@1 84.863 (84.863)\n",
      " * Prec@1 83.040\n",
      "alpha1 6.171400547027588\n",
      "Best prec1 :  83.13999975585938\n",
      "current lr 1.98565e-06\n"
     ]
    },
    {
     "data": {
      "application/vnd.jupyter.widget-view+json": {
       "model_id": "e4fe6980b30b4ab49f1a19d4b2030fa7",
       "version_major": 2,
       "version_minor": 0
      },
      "text/plain": [
       "  0%|          | 0/40 [00:00<?, ?it/s]"
      ]
     },
     "metadata": {},
     "output_type": "display_data"
    },
    {
     "name": "stdout",
     "output_type": "stream",
     "text": [
      "Epoch: [199][0/40]\tTime 1.281 (1.281)\tData 1.066 (1.066)\tLoss 0.3287 (0.3287)\tPrec@1 91.797 (91.797)\n",
      "Test: [0/10]\tTime 0.653 (0.653)\tLoss 0.5339 (0.5339)\tPrec@1 84.570 (84.570)\n",
      " * Prec@1 82.970\n",
      "alpha1 6.171324253082275\n",
      "Best prec1 :  83.13999975585938\n"
     ]
    }
   ],
   "source": [
    "from timm.scheduler import CosineLRScheduler\n",
    "\n",
    "for k in range(1):\n",
    "    net = resnet20(k=k)\n",
    "\n",
    "    model = net.cuda()\n",
    "    mixup = False\n",
    "\n",
    "    # Track experiment with wandb\n",
    "    import wandb\n",
    "    watermark = \"resnet18_noquant\".format(k)\n",
    "\n",
    "    # mess with wandb\n",
    "    wandb.init(project=\"quantize_resnet\", name=watermark)\n",
    "\n",
    "    # define loss function (criterion) and pptimizer\n",
    "    criterion = nn.CrossEntropyLoss().cuda()\n",
    "\n",
    "    # optimizer for pact\n",
    "    optimizer = torch.optim.SGD(model.parameters(), lr=1e-3,\n",
    "                                momentum=0.9,\n",
    "                                weight_decay=0.0002)\n",
    "    optimizer = torch.optim.Adam(model.parameters(), lr=1e-3)\n",
    "\n",
    "    scheduler = CosineLRScheduler(optimizer, t_initial=n_epochs, lr_min=1e-6, \n",
    "                          warmup_t=3, warmup_lr_init=1e-6, warmup_prefix=True)\n",
    "\n",
    "    best_prec1 = 0\n",
    "    os.makedirs(\"models\", exist_ok=True)\n",
    "\n",
    "    for epoch in range(n_epochs):\n",
    "        scheduler.step(epoch)\n",
    "        # train for one epoch\n",
    "        print('current lr {:.5e}'.format(optimizer.param_groups[0]['lr']))\n",
    "        tloss = train(train_loader, model, criterion, optimizer, epoch)         \n",
    "\n",
    "        # evaluate on validation set\n",
    "        prec1, valloss = validate(val_loader, model, criterion)\n",
    "\n",
    "        # wandb\n",
    "        wandb.log({'epoch': epoch, \"prec\":prec1, \"train_loss\": tloss, 'val_loss': valloss, \"lr\": optimizer.param_groups[0][\"lr\"],})\n",
    "\n",
    "        # remember best prec@1 and save checkpoint\n",
    "        is_best = prec1 > best_prec1\n",
    "        best_prec1 = max(prec1, best_prec1)\n",
    "\n",
    "        print(\"Best prec1 : \", best_prec1)\n",
    "        if is_best:\n",
    "            torch.save(model.state_dict(), os.path.join(f'models/{watermark}.pth'))"
   ]
  },
  {
   "cell_type": "code",
   "execution_count": null,
   "id": "8998c803",
   "metadata": {},
   "outputs": [],
   "source": [
    "from pact_utils import TorchQuantize\n",
    "len(TorchQuantize(bits=4).forward(torch.rand(1,384)).unique())"
   ]
  },
  {
   "cell_type": "code",
   "execution_count": null,
   "id": "8d894c1f",
   "metadata": {},
   "outputs": [],
   "source": [
    "net.blocks[1].mlp.fc1.forward(torch.rand(1,384).cuda()).unique()"
   ]
  },
  {
   "cell_type": "code",
   "execution_count": null,
   "id": "75eb1382",
   "metadata": {},
   "outputs": [],
   "source": [
    "model.blocks[1].attn.qkv"
   ]
  },
  {
   "cell_type": "code",
   "execution_count": null,
   "id": "bcba9662",
   "metadata": {},
   "outputs": [],
   "source": []
  }
 ],
 "metadata": {
  "kernelspec": {
   "display_name": "Python 3 (ipykernel)",
   "language": "python",
   "name": "python3"
  },
  "language_info": {
   "codemirror_mode": {
    "name": "ipython",
    "version": 3
   },
   "file_extension": ".py",
   "mimetype": "text/x-python",
   "name": "python",
   "nbconvert_exporter": "python",
   "pygments_lexer": "ipython3",
   "version": "3.7.0"
  }
 },
 "nbformat": 4,
 "nbformat_minor": 5
}
