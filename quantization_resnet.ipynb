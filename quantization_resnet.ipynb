{
 "cells": [
  {
   "cell_type": "markdown",
   "id": "65b5a174",
   "metadata": {},
   "source": [
    "# Resnet18 CIFAR-10\n",
    "\n",
    "Quantize train resnet18 without PACT"
   ]
  },
  {
   "cell_type": "code",
   "execution_count": 1,
   "id": "3cdfa9b0",
   "metadata": {},
   "outputs": [],
   "source": [
    "NOQUANT_TRAIN = False\n",
    "n_epochs = 200\n",
    "batches = 1024"
   ]
  },
  {
   "cell_type": "code",
   "execution_count": 2,
   "id": "e95ac49f",
   "metadata": {},
   "outputs": [],
   "source": [
    "import argparse\n",
    "import os\n",
    "import shutil\n",
    "import time\n",
    "import pandas as pd\n",
    "import matplotlib.pyplot as plt\n",
    "#import network.resnet_orig as resnet\n",
    "\n",
    "from tqdm.notebook import tqdm\n",
    "import time\n",
    "import numpy as np\n",
    "import pandas as pd\n",
    "import cv2\n",
    "import torch\n",
    "import torch.nn as nn\n",
    "import torch.nn.functional as F\n",
    "import torch.optim as optim\n",
    "from torch.optim import lr_scheduler\n",
    "from torch.utils.data import DataLoader, Dataset\n",
    "from torch.utils.data.sampler import SubsetRandomSampler, RandomSampler, SequentialSampler\n",
    "from torch.optim.lr_scheduler import CosineAnnealingWarmRestarts, CosineAnnealingLR, ReduceLROnPlateau\n",
    "\n",
    "DATA_DIR = \"train\"\n",
    "print_freq = 50\n",
    "\n",
    "# vit imsize\n",
    "imsize = 32"
   ]
  },
  {
   "cell_type": "code",
   "execution_count": 3,
   "id": "91238a6e",
   "metadata": {},
   "outputs": [
    {
     "data": {
      "text/html": [
       "<div>\n",
       "<style scoped>\n",
       "    .dataframe tbody tr th:only-of-type {\n",
       "        vertical-align: middle;\n",
       "    }\n",
       "\n",
       "    .dataframe tbody tr th {\n",
       "        vertical-align: top;\n",
       "    }\n",
       "\n",
       "    .dataframe thead th {\n",
       "        text-align: right;\n",
       "    }\n",
       "</style>\n",
       "<table border=\"1\" class=\"dataframe\">\n",
       "  <thead>\n",
       "    <tr style=\"text-align: right;\">\n",
       "      <th></th>\n",
       "      <th>id</th>\n",
       "      <th>label</th>\n",
       "      <th>label_enc</th>\n",
       "      <th>fold</th>\n",
       "    </tr>\n",
       "  </thead>\n",
       "  <tbody>\n",
       "    <tr>\n",
       "      <th>0</th>\n",
       "      <td>1</td>\n",
       "      <td>frog</td>\n",
       "      <td>6</td>\n",
       "      <td>1</td>\n",
       "    </tr>\n",
       "    <tr>\n",
       "      <th>1</th>\n",
       "      <td>2</td>\n",
       "      <td>truck</td>\n",
       "      <td>9</td>\n",
       "      <td>1</td>\n",
       "    </tr>\n",
       "    <tr>\n",
       "      <th>2</th>\n",
       "      <td>3</td>\n",
       "      <td>truck</td>\n",
       "      <td>9</td>\n",
       "      <td>2</td>\n",
       "    </tr>\n",
       "    <tr>\n",
       "      <th>3</th>\n",
       "      <td>4</td>\n",
       "      <td>deer</td>\n",
       "      <td>4</td>\n",
       "      <td>1</td>\n",
       "    </tr>\n",
       "    <tr>\n",
       "      <th>4</th>\n",
       "      <td>5</td>\n",
       "      <td>automobile</td>\n",
       "      <td>1</td>\n",
       "      <td>2</td>\n",
       "    </tr>\n",
       "  </tbody>\n",
       "</table>\n",
       "</div>"
      ],
      "text/plain": [
       "   id       label  label_enc  fold\n",
       "0   1        frog          6     1\n",
       "1   2       truck          9     1\n",
       "2   3       truck          9     2\n",
       "3   4        deer          4     1\n",
       "4   5  automobile          1     2"
      ]
     },
     "execution_count": 3,
     "metadata": {},
     "output_type": "execute_result"
    }
   ],
   "source": [
    "# prepare labels\n",
    "train_df = pd.read_csv(\"trainLabels.csv\")\n",
    "from sklearn.preprocessing import LabelEncoder\n",
    "le = LabelEncoder()\n",
    "train_df['label_enc'] = le.fit_transform(train_df['label'])\n",
    "\n",
    "# 5-fold\n",
    "from sklearn.model_selection import StratifiedKFold\n",
    "skf = StratifiedKFold(n_splits=5, shuffle=True, random_state=42)\n",
    "\n",
    "train_df[\"fold\"] = -1\n",
    "for i, (train_index, test_index) in enumerate(skf.split(train_df.id, train_df.label_enc)):\n",
    "    train_df.loc[test_index, 'fold'] = i\n",
    "train_df.head()"
   ]
  },
  {
   "cell_type": "code",
   "execution_count": 4,
   "id": "44be87f4",
   "metadata": {},
   "outputs": [],
   "source": [
    "class cifarDataset(Dataset):\n",
    "    def __init__(self,\n",
    "                 df,\n",
    "                 rand=False,\n",
    "                 transform=None,\n",
    "                 test=False\n",
    "                ):\n",
    "\n",
    "        self.df = df.reset_index(drop=True)\n",
    "        self.rand = rand\n",
    "        self.transform = transform\n",
    "        self.test = test\n",
    "\n",
    "    def __len__(self):\n",
    "        return self.df.shape[0]\n",
    "\n",
    "    def __getitem__(self, index):\n",
    "        row = self.df.iloc[index]\n",
    "        img_id = row.id\n",
    "        \n",
    "        images = cv2.imread(os.path.join(DATA_DIR, str(img_id)+\".png\"))\n",
    "        \n",
    "        # Load labels\n",
    "        label = row.label_enc\n",
    "        \n",
    "        # aug\n",
    "        if self.transform is not None:\n",
    "            images = self.transform(image=images)['image']\n",
    "              \n",
    "        #images = images.astype(np.float32)\n",
    "        #images /= 255\n",
    "        images = images.transpose(2, 0, 1)\n",
    "        \n",
    "        label = label.astype(np.float32)\n",
    "        #label2 = label2.astype(np.float32)\n",
    "        return torch.tensor(images), torch.tensor(label),"
   ]
  },
  {
   "cell_type": "code",
   "execution_count": 5,
   "id": "cd5517a6",
   "metadata": {},
   "outputs": [
    {
     "name": "stderr",
     "output_type": "stream",
     "text": [
      "/home/ken/anaconda3/envs/pytorch_p38/lib/python3.8/site-packages/albumentations/augmentations/dropout/cutout.py:50: FutureWarning: Cutout has been deprecated. Please use CoarseDropout\n",
      "  warnings.warn(\n"
     ]
    }
   ],
   "source": [
    "import albumentations as A\n",
    "import albumentations\n",
    "\n",
    "transforms_train = albumentations.Compose([\n",
    "    albumentations.ShiftScaleRotate(scale_limit=0.3, rotate_limit=180,p=0.5),\n",
    "    A.Cutout(num_holes=12, max_h_size=4, max_w_size=4, fill_value=0, p=0.5),\n",
    "    #albumentations.Rotate(p=0.5),\n",
    "    #albumentations.Transpose(p=0.5),\n",
    "    #albumentations.VerticalFlip(p=0.5),\n",
    "    albumentations.HorizontalFlip(p=0.5),   \n",
    "    albumentations.Resize(imsize, imsize, p=1.0), \n",
    "    albumentations.Normalize(mean=(0.485, 0.456, 0.406),\n",
    "                       std=(0.229, 0.224, 0.225), p=1),\n",
    "])\n",
    "\n",
    "transforms_val = albumentations.Compose([albumentations.Resize(imsize, imsize, p=1.0),\n",
    "                                         albumentations.Normalize(mean=(0.485, 0.456, 0.406),\n",
    "                       std=(0.229, 0.224, 0.225), p=1),])"
   ]
  },
  {
   "cell_type": "code",
   "execution_count": 6,
   "id": "e3726718",
   "metadata": {
    "scrolled": true
   },
   "outputs": [
    {
     "name": "stderr",
     "output_type": "stream",
     "text": [
      "Clipping input data to the valid range for imshow with RGB data ([0..1] for floats or [0..255] for integers).\n",
      "Clipping input data to the valid range for imshow with RGB data ([0..1] for floats or [0..255] for integers).\n",
      "Clipping input data to the valid range for imshow with RGB data ([0..1] for floats or [0..255] for integers).\n",
      "Clipping input data to the valid range for imshow with RGB data ([0..1] for floats or [0..255] for integers).\n",
      "Clipping input data to the valid range for imshow with RGB data ([0..1] for floats or [0..255] for integers).\n",
      "Clipping input data to the valid range for imshow with RGB data ([0..1] for floats or [0..255] for integers).\n",
      "Clipping input data to the valid range for imshow with RGB data ([0..1] for floats or [0..255] for integers).\n",
      "Clipping input data to the valid range for imshow with RGB data ([0..1] for floats or [0..255] for integers).\n",
      "Clipping input data to the valid range for imshow with RGB data ([0..1] for floats or [0..255] for integers).\n",
      "Clipping input data to the valid range for imshow with RGB data ([0..1] for floats or [0..255] for integers).\n",
      "Clipping input data to the valid range for imshow with RGB data ([0..1] for floats or [0..255] for integers).\n",
      "Clipping input data to the valid range for imshow with RGB data ([0..1] for floats or [0..255] for integers).\n",
      "Clipping input data to the valid range for imshow with RGB data ([0..1] for floats or [0..255] for integers).\n",
      "Clipping input data to the valid range for imshow with RGB data ([0..1] for floats or [0..255] for integers).\n",
      "Clipping input data to the valid range for imshow with RGB data ([0..1] for floats or [0..255] for integers).\n"
     ]
    },
    {
     "data": {
      "image/png": "[encoded data removed]",
      "text/plain": [
       "<Figure size 432x288 with 5 Axes>"
      ]
     },
     "metadata": {
      "needs_background": "light"
     },
     "output_type": "display_data"
    },
    {
     "data": {
      "image/png": "[encoded data removed]",
      "text/plain": [
       "<Figure size 432x288 with 5 Axes>"
      ]
     },
     "metadata": {
      "needs_background": "light"
     },
     "output_type": "display_data"
    },
    {
     "data": {
      "image/png": "[encoded data removed]",
      "text/plain": [
       "<Figure size 432x288 with 5 Axes>"
      ]
     },
     "metadata": {
      "needs_background": "light"
     },
     "output_type": "display_data"
    }
   ],
   "source": [
    "dataset_show = cifarDataset(train_df, transform=transforms_train)\n",
    "from pylab import rcParams\n",
    "rcParams['figure.figsize'] = 20,10\n",
    "for i in range(3):\n",
    "    f, axarr = plt.subplots(1,5)\n",
    "    for p in range(5):\n",
    "        idx = np.random.randint(0, len(dataset_show))\n",
    "        img, label = dataset_show[idx]\n",
    "        img = img.flip(0) #BGR2RGB\n",
    "        axarr[p].imshow(img.transpose(0,1).transpose(1,2))\n",
    "        axarr[p].set_title(str(label))\n",
    "plt.show()"
   ]
  },
  {
   "cell_type": "code",
   "execution_count": 7,
   "id": "be374443",
   "metadata": {},
   "outputs": [],
   "source": [
    "def train(train_loader, model, criterion, optimizer, epoch):\n",
    "    \"\"\"\n",
    "        Run one train epoch\n",
    "    \"\"\"\n",
    "    batch_time = AverageMeter()\n",
    "    data_time = AverageMeter()\n",
    "    losses = AverageMeter()\n",
    "    top1 = AverageMeter()\n",
    "\n",
    "    # switch to train mode\n",
    "    model.train()\n",
    "\n",
    "    end = time.time()\n",
    "    lambda_alpha = 0.002\n",
    "    for i, (input, target) in enumerate(tqdm(train_loader)):\n",
    "\n",
    "        # measure data loading time\n",
    "        data_time.update(time.time() - end)\n",
    "        target2 = target\n",
    "\n",
    "        target = target.long().cuda()\n",
    "        target2 = target2.long().cuda()\n",
    "        input_var = input.cuda()\n",
    "        target_var = target\n",
    "\n",
    "        if not mixup:\n",
    "          alpha = 0\n",
    "        else:\n",
    "          alpha = 1\n",
    "        \n",
    "\n",
    "        # compute output\n",
    "        output = model(input_var)\n",
    "        loss = criterion(output, target_var)\n",
    "\n",
    "        # L2 regularization\n",
    "        l2_alpha = 0.0\n",
    "        for name, param in model.named_parameters():\n",
    "            if \"alpha\" in name:\n",
    "                l2_alpha += torch.pow(param, 2)\n",
    "        loss += lambda_alpha * l2_alpha\n",
    "\n",
    "        # compute gradient and do SGD step\n",
    "        optimizer.zero_grad()\n",
    "        loss.backward()\n",
    "        optimizer.step()\n",
    "\n",
    "        output = output.float()\n",
    "        loss = loss.float()\n",
    "        # measure accuracy and record loss\n",
    "        prec1 = accuracy(output.data, target)[0]\n",
    "        losses.update(loss.item(), input.size(0))\n",
    "        top1.update(prec1.item(), input.size(0))\n",
    "\n",
    "        # measure elapsed time\n",
    "        batch_time.update(time.time() - end)\n",
    "        end = time.time()\n",
    "\n",
    "        if i % print_freq == 0:\n",
    "            print('Epoch: [{0}][{1}/{2}]\\t'\n",
    "                  'Time {batch_time.val:.3f} ({batch_time.avg:.3f})\\t'\n",
    "                  'Data {data_time.val:.3f} ({data_time.avg:.3f})\\t'\n",
    "                  'Loss {loss.val:.4f} ({loss.avg:.4f})\\t'\n",
    "                  'Prec@1 {top1.val:.3f} ({top1.avg:.3f})'.format(\n",
    "                      epoch, i, len(train_loader), batch_time=batch_time,\n",
    "                      data_time=data_time, loss=losses, top1=top1))\n",
    "    return losses.avg\n",
    "\n",
    "def validate(val_loader, model, criterion):\n",
    "    \"\"\"\n",
    "    Run evaluation\n",
    "    \"\"\"\n",
    "    batch_time = AverageMeter()\n",
    "    losses = AverageMeter()\n",
    "    top1 = AverageMeter()\n",
    "\n",
    "    # switch to evaluate mode\n",
    "    model.eval()\n",
    "\n",
    "    end = time.time()\n",
    "    with torch.no_grad():\n",
    "        for i, (input, target) in enumerate(val_loader):\n",
    "            target = target.long().cuda()\n",
    "            input_var = input.cuda()\n",
    "            target_var = target.cuda()\n",
    "\n",
    "            # compute output\n",
    "            output = model(input_var)\n",
    "            loss = criterion(output, target_var)\n",
    "\n",
    "            output = output.float()\n",
    "            loss = loss.float()\n",
    "\n",
    "            # measure accuracy and record loss\n",
    "            prec1 = accuracy(output.data, target)[0]\n",
    "            losses.update(loss.item(), input.size(0))\n",
    "            top1.update(prec1.item(), input.size(0))\n",
    "\n",
    "            # measure elapsed time\n",
    "            batch_time.update(time.time() - end)\n",
    "            end = time.time()\n",
    "\n",
    "            if i % print_freq == 0:\n",
    "                print('Test: [{0}/{1}]\\t'\n",
    "                      'Time {batch_time.val:.3f} ({batch_time.avg:.3f})\\t'\n",
    "                      'Loss {loss.val:.4f} ({loss.avg:.4f})\\t'\n",
    "                      'Prec@1 {top1.val:.3f} ({top1.avg:.3f})'.format(\n",
    "                          i, len(val_loader), batch_time=batch_time, loss=losses,\n",
    "                          top1=top1))\n",
    "\n",
    "    print(' * Prec@1 {top1.avg:.3f}'\n",
    "          .format(top1=top1))\n",
    "    for name, param in model.named_parameters():\n",
    "        if \"alpha\" in name:\n",
    "            print(name, param.item())\n",
    "    return top1.avg, losses.avg\n",
    "\n",
    "def save_checkpoint(state, filename='checkpoint.pth'):\n",
    "    \"\"\"\n",
    "    Save the training model\n",
    "    \"\"\"\n",
    "    torch.save(state, filename)\n",
    "\n",
    "class AverageMeter(object):\n",
    "    \"\"\"Computes and stores the average and current value\"\"\"\n",
    "    def __init__(self):\n",
    "        self.reset()\n",
    "\n",
    "    def reset(self):\n",
    "        self.val = 0\n",
    "        self.avg = 0\n",
    "        self.sum = 0\n",
    "        self.count = 0\n",
    "\n",
    "    def update(self, val, n=1):\n",
    "        self.val = val\n",
    "        self.sum += val * n\n",
    "        self.count += n\n",
    "        self.avg = self.sum / self.count\n",
    "\n",
    "\n",
    "def accuracy(output, target, topk=(1,)):\n",
    "    \"\"\"Computes the precision@k for the specified values of k\"\"\"\n",
    "    maxk = max(topk)\n",
    "    batch_size = target.size(0)\n",
    "\n",
    "    _, pred = output.topk(maxk, 1, True, True)\n",
    "    pred = pred.t()\n",
    "    correct = pred.eq(target.view(1, -1).expand_as(pred))\n",
    "\n",
    "    res = []\n",
    "    for k in topk:\n",
    "        correct_k = correct[:k].view(-1).float().sum(0)\n",
    "        res.append(correct_k.mul_(100.0 / batch_size))\n",
    "    return res"
   ]
  },
  {
   "cell_type": "code",
   "execution_count": 8,
   "id": "6f005fd3",
   "metadata": {},
   "outputs": [],
   "source": [
    "train_dataset = cifarDataset(train_df[train_df.fold!=0], transform=transforms_train)\n",
    "val_dataset = cifarDataset(train_df[train_df.fold==0], transform=transforms_val, test=True)\n",
    "\n",
    "train_loader = torch.utils.data.DataLoader(\n",
    "        train_dataset,\n",
    "        batch_size=batches, shuffle=True,\n",
    "        num_workers=8, pin_memory=True)\n",
    "\n",
    "val_loader = torch.utils.data.DataLoader(\n",
    "    val_dataset,\n",
    "    batch_size=batches, shuffle=False,\n",
    "    num_workers=8, pin_memory=True)"
   ]
  },
  {
   "cell_type": "code",
   "execution_count": 9,
   "id": "a4256dce",
   "metadata": {},
   "outputs": [],
   "source": [
    "import torch\n",
    "import torch.nn as nn\n",
    "import torch.nn.functional as F\n",
    "import torch.nn.init as init\n",
    "from torch.autograd import Variable\n",
    "from pact_utils import QuantizedLinear, QuantizedConv2d, PGConv2d\n",
    "\n",
    "\n",
    "def _weights_init(m):\n",
    "    classname = m.__class__.__name__\n",
    "    #print(classname)\n",
    "    if isinstance(m, nn.Linear) or isinstance(m, nn.Conv2d):\n",
    "        init.kaiming_normal_(m.weight)\n",
    "\n",
    "class LambdaLayer(nn.Module):\n",
    "    def __init__(self, lambd):\n",
    "        super(LambdaLayer, self).__init__()\n",
    "        self.lambd = lambd\n",
    "\n",
    "    def forward(self, x):\n",
    "        return self.lambd(x)\n",
    "\n",
    "\n",
    "class BasicBlock(nn.Module):\n",
    "    expansion = 1\n",
    "\n",
    "    def __init__(self, in_planes, planes, stride=1, k=8, expansion=1):\n",
    "        super(BasicBlock, self).__init__()\n",
    "        self.k = k\n",
    "        self.expansion = expansion\n",
    "        self.conv1 = QuantizedConv2d(in_planes, planes, kernel_size=3, stride=stride, padding=1, bias=False, wbits=k, abits=k)\n",
    "        self.bn1 = nn.BatchNorm2d(planes)\n",
    "        # self.conv2 = nn.Conv2d(planes, planes, kernel_size=3, stride=1, padding=1, bias=False)\n",
    "        self.conv2 = QuantizedConv2d(planes, planes, kernel_size=3, stride=1, padding=1, bias=False, wbits=k, abits=k)\n",
    "        self.bn2 = nn.BatchNorm2d(planes)\n",
    "        \n",
    "        if stride != 1 or in_planes != planes:\n",
    "              # original resnet shortcut\n",
    "              self.shortcut = nn.Sequential(\n",
    "                    # nn.Conv2d(in_planes, self.expansion * planes, kernel_size=1, stride=stride, bias=False),\n",
    "                    QuantizedConv2d(in_planes, self.expansion * planes, kernel_size=1, stride=stride, bias=False, wbits=k, abits=k),\n",
    "                    nn.BatchNorm2d(self.expansion * planes)\n",
    "              )\n",
    "        else: # nothing done if stride or inplanes do not differ\n",
    "          self.shortcut = nn.Sequential()\n",
    "\n",
    "    def forward(self, x):\n",
    "        # Relu is implemented as the input of conv2d\n",
    "        out = self.bn1(self.conv1(x))\n",
    "        out = self.bn2(self.conv2(out))\n",
    "        out += self.shortcut(x)\n",
    "        out = F.relu(out)\n",
    "        return out\n",
    "\n",
    "\n",
    "class ResNet(nn.Module):\n",
    "    def __init__(self, block, num_blocks, num_classes=10, K=8):\n",
    "        super(ResNet, self).__init__()\n",
    "        self.in_planes = 32\n",
    "        self.k = K\n",
    "\n",
    "        self.conv1 = QuantizedConv2d(3, 32, kernel_size=3, stride=2, padding=1, bias=False, abits=8, wbits=8)\n",
    "        self.bn1 = nn.BatchNorm2d(32)\n",
    "        self.alpha1 = nn.Parameter(torch.tensor(10.))\n",
    "        self.layer1 = self._make_layer(block, 32, num_blocks[0], stride=1, expansion=1)\n",
    "        self.layer2 = self._make_layer(block, 64, num_blocks[1], stride=2, expansion=1)\n",
    "        self.layer3 = self._make_layer(block, 128, num_blocks[2], stride=2, expansion=1)\n",
    "\n",
    "        # self.linear = nn.Linear(64, num_classes)\n",
    "        self.linear = QuantizedLinear(128, num_classes, abits=8, wbits=8)\n",
    "        self.apply(_weights_init)\n",
    "\n",
    "    def _make_layer(self, block, planes, num_blocks, stride, expansion):\n",
    "        strides = [stride] + [1]*(num_blocks-1)\n",
    "        layers = []\n",
    "        for stride in strides:\n",
    "            layers.append(block(self.in_planes, planes, stride, self.k, expansion))\n",
    "            self.in_planes = planes * block.expansion\n",
    "\n",
    "        return nn.Sequential(*layers)\n",
    "\n",
    "    def forward(self, x):\n",
    "        # out = F.relu(self.bn1(self.conv1(x)))\n",
    "        out = self.bn1(self.conv1(x))\n",
    "        out = self.layer1(out)\n",
    "        out = self.layer2(out)\n",
    "        out = self.layer3(out)\n",
    "        out = F.avg_pool2d(out, out.size()[3])\n",
    "        out = out.view(out.size(0), -1)\n",
    "        out = self.linear(out)\n",
    "        return out\n",
    "\n",
    "\n",
    "def resnet20(k=8):\n",
    "    print(\"bit width:\", k)\n",
    "    return ResNet(BasicBlock, [3, 3, 3], K=k)"
   ]
  },
  {
   "cell_type": "code",
   "execution_count": 10,
   "id": "632f4e34",
   "metadata": {},
   "outputs": [
    {
     "name": "stdout",
     "output_type": "stream",
     "text": [
      "bit width: 8\n"
     ]
    }
   ],
   "source": [
    "net = resnet20(8)"
   ]
  },
  {
   "cell_type": "markdown",
   "id": "c3f38958",
   "metadata": {},
   "source": [
    "# Train with quantization"
   ]
  },
  {
   "cell_type": "code",
   "execution_count": 15,
   "id": "bf661401",
   "metadata": {
    "scrolled": true
   },
   "outputs": [
    {
     "name": "stdout",
     "output_type": "stream",
     "text": [
      "bit width: 6\n"
     ]
    },
    {
     "data": {
      "text/html": [
       "Finishing last run (ID:evtjlh9f) before initializing another..."
      ],
      "text/plain": [
       "<IPython.core.display.HTML object>"
      ]
     },
     "metadata": {},
     "output_type": "display_data"
    },
    {
     "data": {
      "text/html": [
       "Waiting for W&B process to finish... <strong style=\"color:green\">(success).</strong>"
      ],
      "text/plain": [
       "<IPython.core.display.HTML object>"
      ]
     },
     "metadata": {},
     "output_type": "display_data"
    },
    {
     "data": {
      "application/vnd.jupyter.widget-view+json": {
       "model_id": "",
       "version_major": 2,
       "version_minor": 0
      },
      "text/plain": [
       "VBox(children=(Label(value='0.907 MB of 0.907 MB uploaded (0.000 MB deduped)\\r'), FloatProgress(value=1.0, max…"
      ]
     },
     "metadata": {},
     "output_type": "display_data"
    },
    {
     "data": {
      "text/html": [
       "<style>\n",
       "    table.wandb td:nth-child(1) { padding: 0 10px; text-align: left ; width: auto;} td:nth-child(2) {text-align: left ; width: 100%}\n",
       "    .wandb-row { display: flex; flex-direction: row; flex-wrap: wrap; justify-content: flex-start; width: 100% }\n",
       "    .wandb-col { display: flex; flex-direction: column; flex-basis: 100%; flex: 1; padding: 10px; }\n",
       "    </style>\n",
       "<div class=\"wandb-row\"><div class=\"wandb-col\"><h3>Run history:</h3><br/><table class=\"wandb\"><tr><td>epoch</td><td>▁▁▁▁▂▂▂▂▂▃▃▃▃▃▃▄▄▄▄▄▅▅▅▅▅▅▆▆▆▆▆▇▇▇▇▇▇███</td></tr><tr><td>lr</td><td>▃███████▇▇▇▇▇▆▆▆▆▅▅▅▅▄▄▄▄▃▃▃▂▂▂▂▂▂▁▁▁▁▁▁</td></tr><tr><td>prec</td><td>▁▃▅▅▅▆▇▇▇▇▇▇▇▇▇▇████████████████████████</td></tr><tr><td>train_loss</td><td>█▆▄▄▃▃▃▃▃▃▂▂▂▂▂▂▂▂▂▂▂▂▂▂▁▁▁▁▁▁▁▁▁▁▁▁▁▁▁▁</td></tr><tr><td>val_loss</td><td>█▆▄▃▃▃▂▂▂▂▂▂▂▁▁▁▁▁▁▁▁▁▁▁▁▁▁▁▁▁▁▁▁▁▁▁▁▁▁▁</td></tr></table><br/></div><div class=\"wandb-col\"><h3>Run summary:</h3><br/><table class=\"wandb\"><tr><td>epoch</td><td>199</td></tr><tr><td>lr</td><td>1e-05</td></tr><tr><td>prec</td><td>85.39</td></tr><tr><td>train_loss</td><td>0.43375</td></tr><tr><td>val_loss</td><td>0.48321</td></tr></table><br/></div></div>"
      ],
      "text/plain": [
       "<IPython.core.display.HTML object>"
      ]
     },
     "metadata": {},
     "output_type": "display_data"
    },
    {
     "data": {
      "text/html": [
       "Synced <strong style=\"color:#cdcd00\">resnet20_quantize_k6</strong>: <a href=\"https://wandb.ai/keio-csg/quantize_resnet/runs/evtjlh9f\" target=\"_blank\">https://wandb.ai/keio-csg/quantize_resnet/runs/evtjlh9f</a><br/>Synced 7 W&B file(s), 0 media file(s), 0 artifact file(s) and 0 other file(s)"
      ],
      "text/plain": [
       "<IPython.core.display.HTML object>"
      ]
     },
     "metadata": {},
     "output_type": "display_data"
    },
    {
     "data": {
      "text/html": [
       "Find logs at: <code>./wandb/run-20220829_143703-evtjlh9f/logs</code>"
      ],
      "text/plain": [
       "<IPython.core.display.HTML object>"
      ]
     },
     "metadata": {},
     "output_type": "display_data"
    },
    {
     "data": {
      "text/html": [
       "Successfully finished last run (ID:evtjlh9f). Initializing new run:<br/>"
      ],
      "text/plain": [
       "<IPython.core.display.HTML object>"
      ]
     },
     "metadata": {},
     "output_type": "display_data"
    },
    {
     "data": {
      "text/html": [
       "wandb version 0.13.2 is available!  To upgrade, please run:\n",
       " $ pip install wandb --upgrade"
      ],
      "text/plain": [
       "<IPython.core.display.HTML object>"
      ]
     },
     "metadata": {},
     "output_type": "display_data"
    },
    {
     "data": {
      "text/html": [
       "Tracking run with wandb version 0.12.21"
      ],
      "text/plain": [
       "<IPython.core.display.HTML object>"
      ]
     },
     "metadata": {},
     "output_type": "display_data"
    },
    {
     "data": {
      "text/html": [
       "Run data is saved locally in <code>/media/ken/dsk1/data/quantize_models_sandbox/wandb/run-20220829_155211-1o73ld82</code>"
      ],
      "text/plain": [
       "<IPython.core.display.HTML object>"
      ]
     },
     "metadata": {},
     "output_type": "display_data"
    },
    {
     "data": {
      "text/html": [
       "Syncing run <strong><a href=\"https://wandb.ai/keio-csg/quantize_resnet/runs/1o73ld82\" target=\"_blank\">resnet20_quantize_k6</a></strong> to <a href=\"https://wandb.ai/keio-csg/quantize_resnet\" target=\"_blank\">Weights & Biases</a> (<a href=\"https://wandb.me/run\" target=\"_blank\">docs</a>)<br/>"
      ],
      "text/plain": [
       "<IPython.core.display.HTML object>"
      ]
     },
     "metadata": {},
     "output_type": "display_data"
    },
    {
     "name": "stdout",
     "output_type": "stream",
     "text": [
      "current lr 1.00000e-06\n"
     ]
    },
    {
     "data": {
      "application/vnd.jupyter.widget-view+json": {
       "model_id": "0bd02329bd1d4a1da1f3e8df46423777",
       "version_major": 2,
       "version_minor": 0
      },
      "text/plain": [
       "  0%|          | 0/40 [00:00<?, ?it/s]"
      ]
     },
     "metadata": {},
     "output_type": "display_data"
    },
    {
     "name": "stdout",
     "output_type": "stream",
     "text": [
      "Epoch: [0][0/40]\tTime 1.523 (1.523)\tData 1.460 (1.460)\tLoss 3.9734 (3.9734)\tPrec@1 11.328 (11.328)\n",
      "Test: [0/10]\tTime 0.693 (0.693)\tLoss 3.6211 (3.6211)\tPrec@1 9.668 (9.668)\n",
      " * Prec@1 9.860\n",
      "alpha1 9.999961853027344\n",
      "Best prec1 :  9.85999997406006\n",
      "current lr 3.34000e-04\n"
     ]
    },
    {
     "data": {
      "application/vnd.jupyter.widget-view+json": {
       "model_id": "dd5515fb8cbc484182a27d8f0cbbbcb1",
       "version_major": 2,
       "version_minor": 0
      },
      "text/plain": [
       "  0%|          | 0/40 [00:00<?, ?it/s]"
      ]
     },
     "metadata": {},
     "output_type": "display_data"
    },
    {
     "name": "stdout",
     "output_type": "stream",
     "text": [
      "Epoch: [1][0/40]\tTime 1.257 (1.257)\tData 1.194 (1.194)\tLoss 4.0353 (4.0353)\tPrec@1 8.496 (8.496)\n",
      "Test: [0/10]\tTime 0.694 (0.694)\tLoss 1.8215 (1.8215)\tPrec@1 32.715 (32.715)\n",
      " * Prec@1 33.080\n",
      "alpha1 9.986610412597656\n",
      "Best prec1 :  33.08000000915527\n",
      "current lr 6.67000e-04\n"
     ]
    },
    {
     "data": {
      "application/vnd.jupyter.widget-view+json": {
       "model_id": "882140fde465487db18873ab44fc25e5",
       "version_major": 2,
       "version_minor": 0
      },
      "text/plain": [
       "  0%|          | 0/40 [00:00<?, ?it/s]"
      ]
     },
     "metadata": {},
     "output_type": "display_data"
    },
    {
     "name": "stdout",
     "output_type": "stream",
     "text": [
      "Epoch: [2][0/40]\tTime 1.273 (1.273)\tData 1.210 (1.210)\tLoss 2.1069 (2.1069)\tPrec@1 29.688 (29.688)\n",
      "Test: [0/10]\tTime 0.793 (0.793)\tLoss 1.6475 (1.6475)\tPrec@1 41.113 (41.113)\n",
      " * Prec@1 40.800\n",
      "alpha1 9.959967613220215\n",
      "Best prec1 :  40.799999938964845\n",
      "current lr 1.00000e-03\n"
     ]
    },
    {
     "data": {
      "application/vnd.jupyter.widget-view+json": {
       "model_id": "ff396da8fff94099b0d9709a744a9316",
       "version_major": 2,
       "version_minor": 0
      },
      "text/plain": [
       "  0%|          | 0/40 [00:00<?, ?it/s]"
      ]
     },
     "metadata": {},
     "output_type": "display_data"
    },
    {
     "name": "stdout",
     "output_type": "stream",
     "text": [
      "Epoch: [3][0/40]\tTime 1.223 (1.223)\tData 1.159 (1.159)\tLoss 1.9917 (1.9917)\tPrec@1 33.301 (33.301)\n",
      "Test: [0/10]\tTime 0.808 (0.808)\tLoss 1.7253 (1.7253)\tPrec@1 38.672 (38.672)\n",
      " * Prec@1 39.310\n",
      "alpha1 9.920103073120117\n",
      "Best prec1 :  40.799999938964845\n",
      "current lr 9.99938e-04\n"
     ]
    },
    {
     "data": {
      "application/vnd.jupyter.widget-view+json": {
       "model_id": "3419fd6621ee422a8d649cf944cfc695",
       "version_major": 2,
       "version_minor": 0
      },
      "text/plain": [
       "  0%|          | 0/40 [00:00<?, ?it/s]"
      ]
     },
     "metadata": {},
     "output_type": "display_data"
    },
    {
     "name": "stdout",
     "output_type": "stream",
     "text": [
      "Epoch: [4][0/40]\tTime 1.280 (1.280)\tData 1.217 (1.217)\tLoss 1.9341 (1.9341)\tPrec@1 37.500 (37.500)\n",
      "Test: [0/10]\tTime 0.699 (0.699)\tLoss 1.5041 (1.5041)\tPrec@1 45.312 (45.312)\n",
      " * Prec@1 46.070\n",
      "alpha1 9.880339622497559\n",
      "Best prec1 :  46.06999989624023\n",
      "current lr 9.99754e-04\n"
     ]
    },
    {
     "data": {
      "application/vnd.jupyter.widget-view+json": {
       "model_id": "ef2c4651618e43738a1de0294100e39c",
       "version_major": 2,
       "version_minor": 0
      },
      "text/plain": [
       "  0%|          | 0/40 [00:00<?, ?it/s]"
      ]
     },
     "metadata": {},
     "output_type": "display_data"
    },
    {
     "name": "stdout",
     "output_type": "stream",
     "text": [
      "Epoch: [5][0/40]\tTime 1.096 (1.096)\tData 1.034 (1.034)\tLoss 1.7611 (1.7611)\tPrec@1 43.164 (43.164)\n",
      "Test: [0/10]\tTime 0.699 (0.699)\tLoss 1.4005 (1.4005)\tPrec@1 50.684 (50.684)\n",
      " * Prec@1 52.020\n",
      "alpha1 9.840672492980957\n",
      "Best prec1 :  52.02000009765625\n",
      "current lr 9.99445e-04\n"
     ]
    },
    {
     "data": {
      "application/vnd.jupyter.widget-view+json": {
       "model_id": "ad85d0d15493456895baca2b9972cd01",
       "version_major": 2,
       "version_minor": 0
      },
      "text/plain": [
       "  0%|          | 0/40 [00:00<?, ?it/s]"
      ]
     },
     "metadata": {},
     "output_type": "display_data"
    },
    {
     "name": "stdout",
     "output_type": "stream",
     "text": [
      "Epoch: [6][0/40]\tTime 1.544 (1.544)\tData 1.481 (1.481)\tLoss 1.6295 (1.6295)\tPrec@1 49.121 (49.121)\n",
      "Test: [0/10]\tTime 0.786 (0.786)\tLoss 1.3119 (1.3119)\tPrec@1 53.125 (53.125)\n",
      " * Prec@1 53.650\n",
      "alpha1 9.801104545593262\n",
      "Best prec1 :  53.649999871826175\n",
      "current lr 9.99014e-04\n"
     ]
    },
    {
     "data": {
      "application/vnd.jupyter.widget-view+json": {
       "model_id": "7ff4d8ecff1749369fff387dc705ae55",
       "version_major": 2,
       "version_minor": 0
      },
      "text/plain": [
       "  0%|          | 0/40 [00:00<?, ?it/s]"
      ]
     },
     "metadata": {},
     "output_type": "display_data"
    },
    {
     "name": "stdout",
     "output_type": "stream",
     "text": [
      "Epoch: [7][0/40]\tTime 1.417 (1.417)\tData 1.354 (1.354)\tLoss 1.6984 (1.6984)\tPrec@1 46.777 (46.777)\n",
      "Test: [0/10]\tTime 0.810 (0.810)\tLoss 1.3673 (1.3673)\tPrec@1 49.316 (49.316)\n",
      " * Prec@1 51.800\n",
      "alpha1 9.761632919311523\n",
      "Best prec1 :  53.649999871826175\n",
      "current lr 9.98460e-04\n"
     ]
    },
    {
     "data": {
      "application/vnd.jupyter.widget-view+json": {
       "model_id": "af7cd93674fc43159d83849b2fc10081",
       "version_major": 2,
       "version_minor": 0
      },
      "text/plain": [
       "  0%|          | 0/40 [00:00<?, ?it/s]"
      ]
     },
     "metadata": {},
     "output_type": "display_data"
    },
    {
     "name": "stdout",
     "output_type": "stream",
     "text": [
      "Epoch: [8][0/40]\tTime 1.488 (1.488)\tData 1.421 (1.421)\tLoss 1.6996 (1.6996)\tPrec@1 46.387 (46.387)\n",
      "Test: [0/10]\tTime 0.694 (0.694)\tLoss 1.3575 (1.3575)\tPrec@1 52.441 (52.441)\n",
      " * Prec@1 51.060\n",
      "alpha1 9.722261428833008\n",
      "Best prec1 :  53.649999871826175\n",
      "current lr 9.97783e-04\n"
     ]
    },
    {
     "data": {
      "application/vnd.jupyter.widget-view+json": {
       "model_id": "9517e362fcfa403eacaf88c1ff8f6040",
       "version_major": 2,
       "version_minor": 0
      },
      "text/plain": [
       "  0%|          | 0/40 [00:00<?, ?it/s]"
      ]
     },
     "metadata": {},
     "output_type": "display_data"
    },
    {
     "name": "stdout",
     "output_type": "stream",
     "text": [
      "Epoch: [9][0/40]\tTime 1.504 (1.504)\tData 1.442 (1.442)\tLoss 1.5970 (1.5970)\tPrec@1 50.195 (50.195)\n",
      "Test: [0/10]\tTime 0.719 (0.719)\tLoss 1.2081 (1.2081)\tPrec@1 55.469 (55.469)\n",
      " * Prec@1 56.070\n",
      "alpha1 9.682992935180664\n",
      "Best prec1 :  56.069999981689456\n",
      "current lr 9.96983e-04\n"
     ]
    },
    {
     "data": {
      "application/vnd.jupyter.widget-view+json": {
       "model_id": "8d6ea76f8ba34c8da625c98487c5d3c3",
       "version_major": 2,
       "version_minor": 0
      },
      "text/plain": [
       "  0%|          | 0/40 [00:00<?, ?it/s]"
      ]
     },
     "metadata": {},
     "output_type": "display_data"
    },
    {
     "name": "stdout",
     "output_type": "stream",
     "text": [
      "Epoch: [10][0/40]\tTime 1.514 (1.514)\tData 1.451 (1.451)\tLoss 1.5946 (1.5946)\tPrec@1 48.535 (48.535)\n",
      "Test: [0/10]\tTime 0.794 (0.794)\tLoss 1.1400 (1.1400)\tPrec@1 61.133 (61.133)\n",
      " * Prec@1 59.120\n",
      "alpha1 9.643830299377441\n",
      "Best prec1 :  59.119999932861326\n",
      "current lr 9.96061e-04\n"
     ]
    },
    {
     "data": {
      "application/vnd.jupyter.widget-view+json": {
       "model_id": "b3dd827ec72841279211ada2f125ad29",
       "version_major": 2,
       "version_minor": 0
      },
      "text/plain": [
       "  0%|          | 0/40 [00:00<?, ?it/s]"
      ]
     },
     "metadata": {},
     "output_type": "display_data"
    },
    {
     "name": "stdout",
     "output_type": "stream",
     "text": [
      "Epoch: [11][0/40]\tTime 1.460 (1.460)\tData 1.394 (1.394)\tLoss 1.5208 (1.5208)\tPrec@1 51.660 (51.660)\n",
      "Test: [0/10]\tTime 0.731 (0.731)\tLoss 1.1094 (1.1094)\tPrec@1 61.523 (61.523)\n",
      " * Prec@1 60.340\n",
      "alpha1 9.604776382446289\n",
      "Best prec1 :  60.33999987182617\n",
      "current lr 9.95017e-04\n"
     ]
    },
    {
     "data": {
      "application/vnd.jupyter.widget-view+json": {
       "model_id": "7cc0de8234b142dc9b40818a1a693c1b",
       "version_major": 2,
       "version_minor": 0
      },
      "text/plain": [
       "  0%|          | 0/40 [00:00<?, ?it/s]"
      ]
     },
     "metadata": {},
     "output_type": "display_data"
    },
    {
     "name": "stdout",
     "output_type": "stream",
     "text": [
      "Epoch: [12][0/40]\tTime 1.233 (1.233)\tData 1.171 (1.171)\tLoss 1.5104 (1.5104)\tPrec@1 51.953 (51.953)\n",
      "Test: [0/10]\tTime 0.764 (0.764)\tLoss 1.1120 (1.1120)\tPrec@1 61.719 (61.719)\n",
      " * Prec@1 60.040\n",
      "alpha1 9.565834045410156\n",
      "Best prec1 :  60.33999987182617\n",
      "current lr 9.93850e-04\n"
     ]
    },
    {
     "data": {
      "application/vnd.jupyter.widget-view+json": {
       "model_id": "7f6a482cccdc4805a6191d4b11d17ad6",
       "version_major": 2,
       "version_minor": 0
      },
      "text/plain": [
       "  0%|          | 0/40 [00:00<?, ?it/s]"
      ]
     },
     "metadata": {},
     "output_type": "display_data"
    },
    {
     "name": "stdout",
     "output_type": "stream",
     "text": [
      "Epoch: [13][0/40]\tTime 1.571 (1.571)\tData 1.509 (1.509)\tLoss 1.5477 (1.5477)\tPrec@1 51.074 (51.074)\n",
      "Test: [0/10]\tTime 0.769 (0.769)\tLoss 1.0533 (1.0533)\tPrec@1 63.281 (63.281)\n",
      " * Prec@1 61.900\n",
      "alpha1 9.527007102966309\n",
      "Best prec1 :  61.89999984130859\n",
      "current lr 9.92562e-04\n"
     ]
    },
    {
     "data": {
      "application/vnd.jupyter.widget-view+json": {
       "model_id": "da0085f3f80f4ee8ae07ca000e4f2956",
       "version_major": 2,
       "version_minor": 0
      },
      "text/plain": [
       "  0%|          | 0/40 [00:00<?, ?it/s]"
      ]
     },
     "metadata": {},
     "output_type": "display_data"
    },
    {
     "name": "stdout",
     "output_type": "stream",
     "text": [
      "Epoch: [14][0/40]\tTime 1.557 (1.557)\tData 1.493 (1.493)\tLoss 1.3481 (1.3481)\tPrec@1 59.570 (59.570)\n",
      "Test: [0/10]\tTime 0.808 (0.808)\tLoss 1.0471 (1.0471)\tPrec@1 63.867 (63.867)\n",
      " * Prec@1 62.010\n",
      "alpha1 9.488299369812012\n",
      "Best prec1 :  62.00999990844726\n",
      "current lr 9.91152e-04\n"
     ]
    },
    {
     "data": {
      "application/vnd.jupyter.widget-view+json": {
       "model_id": "b9516789a2a047ff914dd233c8b5c9d0",
       "version_major": 2,
       "version_minor": 0
      },
      "text/plain": [
       "  0%|          | 0/40 [00:00<?, ?it/s]"
      ]
     },
     "metadata": {},
     "output_type": "display_data"
    },
    {
     "name": "stdout",
     "output_type": "stream",
     "text": [
      "Epoch: [15][0/40]\tTime 1.231 (1.231)\tData 1.164 (1.164)\tLoss 1.4705 (1.4705)\tPrec@1 53.906 (53.906)\n",
      "Test: [0/10]\tTime 0.999 (0.999)\tLoss 1.0699 (1.0699)\tPrec@1 62.500 (62.500)\n",
      " * Prec@1 61.890\n",
      "alpha1 9.449712753295898\n",
      "Best prec1 :  62.00999990844726\n",
      "current lr 9.89622e-04\n"
     ]
    },
    {
     "data": {
      "application/vnd.jupyter.widget-view+json": {
       "model_id": "7e23abcf62ea4ade81029cb781b2199e",
       "version_major": 2,
       "version_minor": 0
      },
      "text/plain": [
       "  0%|          | 0/40 [00:00<?, ?it/s]"
      ]
     },
     "metadata": {},
     "output_type": "display_data"
    },
    {
     "name": "stdout",
     "output_type": "stream",
     "text": [
      "Epoch: [16][0/40]\tTime 1.587 (1.587)\tData 1.524 (1.524)\tLoss 1.4521 (1.4521)\tPrec@1 56.934 (56.934)\n",
      "Test: [0/10]\tTime 1.076 (1.076)\tLoss 1.0124 (1.0124)\tPrec@1 64.844 (64.844)\n",
      " * Prec@1 63.860\n",
      "alpha1 9.411249160766602\n",
      "Best prec1 :  63.86000007324219\n",
      "current lr 9.87970e-04\n"
     ]
    },
    {
     "data": {
      "application/vnd.jupyter.widget-view+json": {
       "model_id": "d79f8ea4871d4c3fb8f7c09b6e14aa1f",
       "version_major": 2,
       "version_minor": 0
      },
      "text/plain": [
       "  0%|          | 0/40 [00:00<?, ?it/s]"
      ]
     },
     "metadata": {},
     "output_type": "display_data"
    },
    {
     "name": "stdout",
     "output_type": "stream",
     "text": [
      "Epoch: [17][0/40]\tTime 1.442 (1.442)\tData 1.374 (1.374)\tLoss 1.4135 (1.4135)\tPrec@1 57.617 (57.617)\n",
      "Test: [0/10]\tTime 1.031 (1.031)\tLoss 0.9835 (0.9835)\tPrec@1 64.062 (64.062)\n",
      " * Prec@1 63.870\n",
      "alpha1 9.372915267944336\n",
      "Best prec1 :  63.8700000793457\n",
      "current lr 9.86199e-04\n"
     ]
    },
    {
     "data": {
      "application/vnd.jupyter.widget-view+json": {
       "model_id": "05356f213bec47a2bb8de1212200b23b",
       "version_major": 2,
       "version_minor": 0
      },
      "text/plain": [
       "  0%|          | 0/40 [00:00<?, ?it/s]"
      ]
     },
     "metadata": {},
     "output_type": "display_data"
    },
    {
     "name": "stdout",
     "output_type": "stream",
     "text": [
      "Epoch: [18][0/40]\tTime 1.550 (1.550)\tData 1.488 (1.488)\tLoss 1.4056 (1.4056)\tPrec@1 56.738 (56.738)\n",
      "Test: [0/10]\tTime 0.730 (0.730)\tLoss 0.9747 (0.9747)\tPrec@1 66.992 (66.992)\n",
      " * Prec@1 64.940\n",
      "alpha1 9.334712028503418\n",
      "Best prec1 :  64.94000007324219\n",
      "current lr 9.84307e-04\n"
     ]
    },
    {
     "data": {
      "application/vnd.jupyter.widget-view+json": {
       "model_id": "e18f7813735243bc8ea947e292d7e36d",
       "version_major": 2,
       "version_minor": 0
      },
      "text/plain": [
       "  0%|          | 0/40 [00:00<?, ?it/s]"
      ]
     },
     "metadata": {},
     "output_type": "display_data"
    },
    {
     "name": "stdout",
     "output_type": "stream",
     "text": [
      "Epoch: [19][0/40]\tTime 1.213 (1.213)\tData 1.148 (1.148)\tLoss 1.3534 (1.3534)\tPrec@1 56.445 (56.445)\n",
      "Test: [0/10]\tTime 0.836 (0.836)\tLoss 0.9299 (0.9299)\tPrec@1 64.941 (64.941)\n",
      " * Prec@1 65.090\n",
      "alpha1 9.296646118164062\n",
      "Best prec1 :  65.08999991455079\n",
      "current lr 9.82296e-04\n"
     ]
    },
    {
     "data": {
      "application/vnd.jupyter.widget-view+json": {
       "model_id": "d6fce15b98d24368955c0bbeba0035a0",
       "version_major": 2,
       "version_minor": 0
      },
      "text/plain": [
       "  0%|          | 0/40 [00:00<?, ?it/s]"
      ]
     },
     "metadata": {},
     "output_type": "display_data"
    },
    {
     "name": "stdout",
     "output_type": "stream",
     "text": [
      "Epoch: [20][0/40]\tTime 1.531 (1.531)\tData 1.469 (1.469)\tLoss 1.3089 (1.3089)\tPrec@1 60.059 (60.059)\n",
      "Test: [0/10]\tTime 0.816 (0.816)\tLoss 0.9308 (0.9308)\tPrec@1 68.262 (68.262)\n",
      " * Prec@1 66.620\n",
      "alpha1 9.25871467590332\n",
      "Best prec1 :  66.61999986572266\n",
      "current lr 9.80167e-04\n"
     ]
    },
    {
     "data": {
      "application/vnd.jupyter.widget-view+json": {
       "model_id": "1685ddf2c74841e1af66fc6e1b7b89c8",
       "version_major": 2,
       "version_minor": 0
      },
      "text/plain": [
       "  0%|          | 0/40 [00:00<?, ?it/s]"
      ]
     },
     "metadata": {},
     "output_type": "display_data"
    },
    {
     "name": "stdout",
     "output_type": "stream",
     "text": [
      "Epoch: [21][0/40]\tTime 1.330 (1.330)\tData 1.267 (1.267)\tLoss 1.3013 (1.3013)\tPrec@1 59.082 (59.082)\n",
      "Test: [0/10]\tTime 0.711 (0.711)\tLoss 0.9413 (0.9413)\tPrec@1 65.625 (65.625)\n",
      " * Prec@1 64.520\n",
      "alpha1 9.220929145812988\n",
      "Best prec1 :  66.61999986572266\n",
      "current lr 9.77919e-04\n"
     ]
    },
    {
     "data": {
      "application/vnd.jupyter.widget-view+json": {
       "model_id": "4fb878427ee84da8b13f282594d6b533",
       "version_major": 2,
       "version_minor": 0
      },
      "text/plain": [
       "  0%|          | 0/40 [00:00<?, ?it/s]"
      ]
     },
     "metadata": {},
     "output_type": "display_data"
    },
    {
     "name": "stdout",
     "output_type": "stream",
     "text": [
      "Epoch: [22][0/40]\tTime 1.245 (1.245)\tData 1.183 (1.183)\tLoss 1.2730 (1.2730)\tPrec@1 59.668 (59.668)\n",
      "Test: [0/10]\tTime 0.825 (0.825)\tLoss 0.8822 (0.8822)\tPrec@1 68.750 (68.750)\n",
      " * Prec@1 68.320\n",
      "alpha1 9.183290481567383\n",
      "Best prec1 :  68.31999974365235\n",
      "current lr 9.75553e-04\n"
     ]
    },
    {
     "data": {
      "application/vnd.jupyter.widget-view+json": {
       "model_id": "de4f230d15724dddab0fadc931d9e495",
       "version_major": 2,
       "version_minor": 0
      },
      "text/plain": [
       "  0%|          | 0/40 [00:00<?, ?it/s]"
      ]
     },
     "metadata": {},
     "output_type": "display_data"
    },
    {
     "name": "stdout",
     "output_type": "stream",
     "text": [
      "Epoch: [23][0/40]\tTime 1.501 (1.501)\tData 1.436 (1.436)\tLoss 1.3155 (1.3155)\tPrec@1 59.082 (59.082)\n",
      "Test: [0/10]\tTime 0.808 (0.808)\tLoss 0.8826 (0.8826)\tPrec@1 69.141 (69.141)\n",
      " * Prec@1 67.840\n",
      "alpha1 9.145798683166504\n",
      "Best prec1 :  68.31999974365235\n",
      "current lr 9.73070e-04\n"
     ]
    },
    {
     "data": {
      "application/vnd.jupyter.widget-view+json": {
       "model_id": "a8e051f2c2754d8ab2663801ef74eeeb",
       "version_major": 2,
       "version_minor": 0
      },
      "text/plain": [
       "  0%|          | 0/40 [00:00<?, ?it/s]"
      ]
     },
     "metadata": {},
     "output_type": "display_data"
    },
    {
     "name": "stdout",
     "output_type": "stream",
     "text": [
      "Epoch: [24][0/40]\tTime 1.230 (1.230)\tData 1.167 (1.167)\tLoss 1.2988 (1.2988)\tPrec@1 59.082 (59.082)\n",
      "Test: [0/10]\tTime 0.818 (0.818)\tLoss 0.8677 (0.8677)\tPrec@1 70.312 (70.312)\n",
      " * Prec@1 68.240\n",
      "alpha1 9.108458518981934\n",
      "Best prec1 :  68.31999974365235\n",
      "current lr 9.70470e-04\n"
     ]
    },
    {
     "data": {
      "application/vnd.jupyter.widget-view+json": {
       "model_id": "dd7a4ce8c0334fd78d378c0e5e29d1af",
       "version_major": 2,
       "version_minor": 0
      },
      "text/plain": [
       "  0%|          | 0/40 [00:00<?, ?it/s]"
      ]
     },
     "metadata": {},
     "output_type": "display_data"
    },
    {
     "name": "stdout",
     "output_type": "stream",
     "text": [
      "Epoch: [25][0/40]\tTime 1.475 (1.475)\tData 1.409 (1.409)\tLoss 1.2428 (1.2428)\tPrec@1 61.914 (61.914)\n",
      "Test: [0/10]\tTime 0.830 (0.830)\tLoss 0.8910 (0.8910)\tPrec@1 69.922 (69.922)\n",
      " * Prec@1 68.010\n",
      "alpha1 9.071272850036621\n",
      "Best prec1 :  68.31999974365235\n",
      "current lr 9.67754e-04\n"
     ]
    },
    {
     "data": {
      "application/vnd.jupyter.widget-view+json": {
       "model_id": "3a1ada1c1b584414a238ae08d38618bd",
       "version_major": 2,
       "version_minor": 0
      },
      "text/plain": [
       "  0%|          | 0/40 [00:00<?, ?it/s]"
      ]
     },
     "metadata": {},
     "output_type": "display_data"
    },
    {
     "name": "stdout",
     "output_type": "stream",
     "text": [
      "Epoch: [26][0/40]\tTime 1.573 (1.573)\tData 1.511 (1.511)\tLoss 1.1861 (1.1861)\tPrec@1 65.332 (65.332)\n",
      "Test: [0/10]\tTime 0.752 (0.752)\tLoss 0.8618 (0.8618)\tPrec@1 71.094 (71.094)\n",
      " * Prec@1 69.070\n",
      "alpha1 9.034245491027832\n",
      "Best prec1 :  69.06999971923828\n",
      "current lr 9.64923e-04\n"
     ]
    },
    {
     "data": {
      "application/vnd.jupyter.widget-view+json": {
       "model_id": "95d67da30d29405da59b404f709893fb",
       "version_major": 2,
       "version_minor": 0
      },
      "text/plain": [
       "  0%|          | 0/40 [00:00<?, ?it/s]"
      ]
     },
     "metadata": {},
     "output_type": "display_data"
    },
    {
     "name": "stdout",
     "output_type": "stream",
     "text": [
      "Epoch: [27][0/40]\tTime 1.218 (1.218)\tData 1.152 (1.152)\tLoss 1.2540 (1.2540)\tPrec@1 62.012 (62.012)\n",
      "Test: [0/10]\tTime 0.702 (0.702)\tLoss 0.8465 (0.8465)\tPrec@1 70.703 (70.703)\n",
      " * Prec@1 69.290\n",
      "alpha1 8.997376441955566\n",
      "Best prec1 :  69.28999978027343\n",
      "current lr 9.61978e-04\n"
     ]
    },
    {
     "data": {
      "application/vnd.jupyter.widget-view+json": {
       "model_id": "b05c03bd748d438a9621940a5465a863",
       "version_major": 2,
       "version_minor": 0
      },
      "text/plain": [
       "  0%|          | 0/40 [00:00<?, ?it/s]"
      ]
     },
     "metadata": {},
     "output_type": "display_data"
    },
    {
     "name": "stdout",
     "output_type": "stream",
     "text": [
      "Epoch: [28][0/40]\tTime 1.307 (1.307)\tData 1.245 (1.245)\tLoss 1.2008 (1.2008)\tPrec@1 63.965 (63.965)\n",
      "Test: [0/10]\tTime 0.697 (0.697)\tLoss 0.7978 (0.7978)\tPrec@1 73.828 (73.828)\n",
      " * Prec@1 71.080\n",
      "alpha1 8.960668563842773\n",
      "Best prec1 :  71.08000010986328\n",
      "current lr 9.58918e-04\n"
     ]
    },
    {
     "data": {
      "application/vnd.jupyter.widget-view+json": {
       "model_id": "c61a3dffb501492a96eb290fefd8c0ad",
       "version_major": 2,
       "version_minor": 0
      },
      "text/plain": [
       "  0%|          | 0/40 [00:00<?, ?it/s]"
      ]
     },
     "metadata": {},
     "output_type": "display_data"
    },
    {
     "name": "stdout",
     "output_type": "stream",
     "text": [
      "Epoch: [29][0/40]\tTime 1.389 (1.389)\tData 1.324 (1.324)\tLoss 1.1604 (1.1604)\tPrec@1 63.477 (63.477)\n",
      "Test: [0/10]\tTime 0.724 (0.724)\tLoss 0.8437 (0.8437)\tPrec@1 72.070 (72.070)\n",
      " * Prec@1 69.130\n",
      "alpha1 8.92413330078125\n",
      "Best prec1 :  71.08000010986328\n",
      "current lr 9.55746e-04\n"
     ]
    },
    {
     "data": {
      "application/vnd.jupyter.widget-view+json": {
       "model_id": "fe3d44cd390145f1804530a513bdd930",
       "version_major": 2,
       "version_minor": 0
      },
      "text/plain": [
       "  0%|          | 0/40 [00:00<?, ?it/s]"
      ]
     },
     "metadata": {},
     "output_type": "display_data"
    },
    {
     "name": "stdout",
     "output_type": "stream",
     "text": [
      "Epoch: [30][0/40]\tTime 1.482 (1.482)\tData 1.420 (1.420)\tLoss 1.1695 (1.1695)\tPrec@1 63.867 (63.867)\n",
      "Test: [0/10]\tTime 0.761 (0.761)\tLoss 0.7882 (0.7882)\tPrec@1 71.973 (71.973)\n",
      " * Prec@1 70.020\n",
      "alpha1 8.887763977050781\n",
      "Best prec1 :  71.08000010986328\n",
      "current lr 9.52461e-04\n"
     ]
    },
    {
     "data": {
      "application/vnd.jupyter.widget-view+json": {
       "model_id": "1f124214c6ad4bfe9f4cad3fe12fe916",
       "version_major": 2,
       "version_minor": 0
      },
      "text/plain": [
       "  0%|          | 0/40 [00:00<?, ?it/s]"
      ]
     },
     "metadata": {},
     "output_type": "display_data"
    },
    {
     "name": "stdout",
     "output_type": "stream",
     "text": [
      "Epoch: [31][0/40]\tTime 1.219 (1.219)\tData 1.153 (1.153)\tLoss 1.1660 (1.1660)\tPrec@1 64.941 (64.941)\n",
      "Test: [0/10]\tTime 0.729 (0.729)\tLoss 0.7858 (0.7858)\tPrec@1 73.340 (73.340)\n",
      " * Prec@1 70.380\n",
      "alpha1 8.851572036743164\n",
      "Best prec1 :  71.08000010986328\n",
      "current lr 9.49065e-04\n"
     ]
    },
    {
     "data": {
      "application/vnd.jupyter.widget-view+json": {
       "model_id": "cd301c3888e647a2aa7f94d648502c5a",
       "version_major": 2,
       "version_minor": 0
      },
      "text/plain": [
       "  0%|          | 0/40 [00:00<?, ?it/s]"
      ]
     },
     "metadata": {},
     "output_type": "display_data"
    },
    {
     "name": "stdout",
     "output_type": "stream",
     "text": [
      "Epoch: [32][0/40]\tTime 1.320 (1.320)\tData 1.256 (1.256)\tLoss 1.1414 (1.1414)\tPrec@1 65.723 (65.723)\n",
      "Test: [0/10]\tTime 0.732 (0.732)\tLoss 0.7716 (0.7716)\tPrec@1 72.852 (72.852)\n",
      " * Prec@1 72.190\n",
      "alpha1 8.8155517578125\n",
      "Best prec1 :  72.1899999267578\n",
      "current lr 9.45558e-04\n"
     ]
    },
    {
     "data": {
      "application/vnd.jupyter.widget-view+json": {
       "model_id": "77880f018ac748c6a53fa049d14ede4a",
       "version_major": 2,
       "version_minor": 0
      },
      "text/plain": [
       "  0%|          | 0/40 [00:00<?, ?it/s]"
      ]
     },
     "metadata": {},
     "output_type": "display_data"
    },
    {
     "name": "stdout",
     "output_type": "stream",
     "text": [
      "Epoch: [33][0/40]\tTime 1.399 (1.399)\tData 1.336 (1.336)\tLoss 1.1471 (1.1471)\tPrec@1 64.941 (64.941)\n",
      "Test: [0/10]\tTime 0.719 (0.719)\tLoss 0.7610 (0.7610)\tPrec@1 73.926 (73.926)\n",
      " * Prec@1 70.540\n",
      "alpha1 8.779711723327637\n",
      "Best prec1 :  72.1899999267578\n",
      "current lr 9.41941e-04\n"
     ]
    },
    {
     "data": {
      "application/vnd.jupyter.widget-view+json": {
       "model_id": "f6d0e598ebcf4621b80d41c1b6585f37",
       "version_major": 2,
       "version_minor": 0
      },
      "text/plain": [
       "  0%|          | 0/40 [00:00<?, ?it/s]"
      ]
     },
     "metadata": {},
     "output_type": "display_data"
    },
    {
     "name": "stdout",
     "output_type": "stream",
     "text": [
      "Epoch: [34][0/40]\tTime 1.186 (1.186)\tData 1.123 (1.123)\tLoss 1.1542 (1.1542)\tPrec@1 65.332 (65.332)\n",
      "Test: [0/10]\tTime 0.844 (0.844)\tLoss 0.7473 (0.7473)\tPrec@1 74.512 (74.512)\n",
      " * Prec@1 71.870\n",
      "alpha1 8.744054794311523\n",
      "Best prec1 :  72.1899999267578\n",
      "current lr 9.38215e-04\n"
     ]
    },
    {
     "data": {
      "application/vnd.jupyter.widget-view+json": {
       "model_id": "e9fae282da9e41f3ae8fb04d32b73965",
       "version_major": 2,
       "version_minor": 0
      },
      "text/plain": [
       "  0%|          | 0/40 [00:00<?, ?it/s]"
      ]
     },
     "metadata": {},
     "output_type": "display_data"
    },
    {
     "name": "stdout",
     "output_type": "stream",
     "text": [
      "Epoch: [35][0/40]\tTime 1.484 (1.484)\tData 1.421 (1.421)\tLoss 1.0911 (1.0911)\tPrec@1 65.625 (65.625)\n",
      "Test: [0/10]\tTime 0.700 (0.700)\tLoss 0.7495 (0.7495)\tPrec@1 73.047 (73.047)\n",
      " * Prec@1 71.820\n",
      "alpha1 8.708582878112793\n",
      "Best prec1 :  72.1899999267578\n",
      "current lr 9.34381e-04\n"
     ]
    },
    {
     "data": {
      "application/vnd.jupyter.widget-view+json": {
       "model_id": "c9759fc137d244b5bffb65ff2d625118",
       "version_major": 2,
       "version_minor": 0
      },
      "text/plain": [
       "  0%|          | 0/40 [00:00<?, ?it/s]"
      ]
     },
     "metadata": {},
     "output_type": "display_data"
    },
    {
     "name": "stdout",
     "output_type": "stream",
     "text": [
      "Epoch: [36][0/40]\tTime 1.547 (1.547)\tData 1.484 (1.484)\tLoss 1.1126 (1.1126)\tPrec@1 64.551 (64.551)\n",
      "Test: [0/10]\tTime 0.725 (0.725)\tLoss 0.7171 (0.7171)\tPrec@1 75.195 (75.195)\n",
      " * Prec@1 72.910\n",
      "alpha1 8.673295974731445\n",
      "Best prec1 :  72.91000004882812\n",
      "current lr 9.30441e-04\n"
     ]
    },
    {
     "data": {
      "application/vnd.jupyter.widget-view+json": {
       "model_id": "aebab42ac3cd43669dadb46d9f8a4eb3",
       "version_major": 2,
       "version_minor": 0
      },
      "text/plain": [
       "  0%|          | 0/40 [00:00<?, ?it/s]"
      ]
     },
     "metadata": {},
     "output_type": "display_data"
    },
    {
     "name": "stdout",
     "output_type": "stream",
     "text": [
      "Epoch: [37][0/40]\tTime 1.304 (1.304)\tData 1.239 (1.239)\tLoss 1.0733 (1.0733)\tPrec@1 67.383 (67.383)\n",
      "Test: [0/10]\tTime 0.743 (0.743)\tLoss 0.7172 (0.7172)\tPrec@1 75.879 (75.879)\n",
      " * Prec@1 73.920\n",
      "alpha1 8.638197898864746\n",
      "Best prec1 :  73.91999996337891\n",
      "current lr 9.26394e-04\n"
     ]
    },
    {
     "data": {
      "application/vnd.jupyter.widget-view+json": {
       "model_id": "b9c698ce1ad841f9a1fc4a2079981403",
       "version_major": 2,
       "version_minor": 0
      },
      "text/plain": [
       "  0%|          | 0/40 [00:00<?, ?it/s]"
      ]
     },
     "metadata": {},
     "output_type": "display_data"
    },
    {
     "name": "stdout",
     "output_type": "stream",
     "text": [
      "Epoch: [38][0/40]\tTime 1.250 (1.250)\tData 1.185 (1.185)\tLoss 1.1819 (1.1819)\tPrec@1 61.914 (61.914)\n",
      "Test: [0/10]\tTime 0.711 (0.711)\tLoss 0.7372 (0.7372)\tPrec@1 74.805 (74.805)\n",
      " * Prec@1 72.590\n",
      "alpha1 8.603294372558594\n",
      "Best prec1 :  73.91999996337891\n",
      "current lr 9.22242e-04\n"
     ]
    },
    {
     "data": {
      "application/vnd.jupyter.widget-view+json": {
       "model_id": "1faa8b042b0745fa97c6b8630e48665c",
       "version_major": 2,
       "version_minor": 0
      },
      "text/plain": [
       "  0%|          | 0/40 [00:00<?, ?it/s]"
      ]
     },
     "metadata": {},
     "output_type": "display_data"
    },
    {
     "name": "stdout",
     "output_type": "stream",
     "text": [
      "Epoch: [39][0/40]\tTime 1.195 (1.195)\tData 1.132 (1.132)\tLoss 1.0517 (1.0517)\tPrec@1 68.359 (68.359)\n",
      "Test: [0/10]\tTime 0.705 (0.705)\tLoss 0.7023 (0.7023)\tPrec@1 75.488 (75.488)\n",
      " * Prec@1 74.450\n",
      "alpha1 8.568586349487305\n",
      "Best prec1 :  74.44999968261719\n",
      "current lr 9.17986e-04\n"
     ]
    },
    {
     "data": {
      "application/vnd.jupyter.widget-view+json": {
       "model_id": "20345c380f694fad9b9c16cf0e1a6d0a",
       "version_major": 2,
       "version_minor": 0
      },
      "text/plain": [
       "  0%|          | 0/40 [00:00<?, ?it/s]"
      ]
     },
     "metadata": {},
     "output_type": "display_data"
    },
    {
     "name": "stdout",
     "output_type": "stream",
     "text": [
      "Epoch: [40][0/40]\tTime 1.515 (1.515)\tData 1.452 (1.452)\tLoss 1.1309 (1.1309)\tPrec@1 65.820 (65.820)\n",
      "Test: [0/10]\tTime 0.708 (0.708)\tLoss 0.7275 (0.7275)\tPrec@1 74.902 (74.902)\n",
      " * Prec@1 73.710\n",
      "alpha1 8.534075736999512\n",
      "Best prec1 :  74.44999968261719\n",
      "current lr 9.13627e-04\n"
     ]
    },
    {
     "data": {
      "application/vnd.jupyter.widget-view+json": {
       "model_id": "c2292ff1985d4e52a5b59230bac888de",
       "version_major": 2,
       "version_minor": 0
      },
      "text/plain": [
       "  0%|          | 0/40 [00:00<?, ?it/s]"
      ]
     },
     "metadata": {},
     "output_type": "display_data"
    },
    {
     "name": "stdout",
     "output_type": "stream",
     "text": [
      "Epoch: [41][0/40]\tTime 1.425 (1.425)\tData 1.359 (1.359)\tLoss 1.0595 (1.0595)\tPrec@1 68.555 (68.555)\n",
      "Test: [0/10]\tTime 0.804 (0.804)\tLoss 0.6775 (0.6775)\tPrec@1 77.246 (77.246)\n",
      " * Prec@1 74.510\n",
      "alpha1 8.49976634979248\n",
      "Best prec1 :  74.50999968261719\n",
      "current lr 9.09166e-04\n"
     ]
    },
    {
     "data": {
      "application/vnd.jupyter.widget-view+json": {
       "model_id": "ad0b4956ec284852a9a00d0f0e7a48bb",
       "version_major": 2,
       "version_minor": 0
      },
      "text/plain": [
       "  0%|          | 0/40 [00:00<?, ?it/s]"
      ]
     },
     "metadata": {},
     "output_type": "display_data"
    },
    {
     "name": "stdout",
     "output_type": "stream",
     "text": [
      "Epoch: [42][0/40]\tTime 1.191 (1.191)\tData 1.128 (1.128)\tLoss 1.0986 (1.0986)\tPrec@1 65.430 (65.430)\n",
      "Test: [0/10]\tTime 0.819 (0.819)\tLoss 0.6983 (0.6983)\tPrec@1 76.172 (76.172)\n",
      " * Prec@1 74.930\n",
      "alpha1 8.46566104888916\n",
      "Best prec1 :  74.93\n",
      "current lr 9.04604e-04\n"
     ]
    },
    {
     "data": {
      "application/vnd.jupyter.widget-view+json": {
       "model_id": "7bec2f9f16004d94a972853d32644c12",
       "version_major": 2,
       "version_minor": 0
      },
      "text/plain": [
       "  0%|          | 0/40 [00:00<?, ?it/s]"
      ]
     },
     "metadata": {},
     "output_type": "display_data"
    },
    {
     "name": "stdout",
     "output_type": "stream",
     "text": [
      "Epoch: [43][0/40]\tTime 1.518 (1.518)\tData 1.454 (1.454)\tLoss 1.0614 (1.0614)\tPrec@1 66.504 (66.504)\n",
      "Test: [0/10]\tTime 0.822 (0.822)\tLoss 0.6622 (0.6622)\tPrec@1 77.637 (77.637)\n",
      " * Prec@1 75.130\n",
      "alpha1 8.43175983428955\n",
      "Best prec1 :  75.1300001586914\n",
      "current lr 8.99942e-04\n"
     ]
    },
    {
     "data": {
      "application/vnd.jupyter.widget-view+json": {
       "model_id": "f8f1a3aac11847d68d091c7492b8a47e",
       "version_major": 2,
       "version_minor": 0
      },
      "text/plain": [
       "  0%|          | 0/40 [00:00<?, ?it/s]"
      ]
     },
     "metadata": {},
     "output_type": "display_data"
    },
    {
     "name": "stdout",
     "output_type": "stream",
     "text": [
      "Epoch: [44][0/40]\tTime 1.280 (1.280)\tData 1.217 (1.217)\tLoss 0.9853 (0.9853)\tPrec@1 70.605 (70.605)\n",
      "Test: [0/10]\tTime 0.718 (0.718)\tLoss 0.7034 (0.7034)\tPrec@1 76.562 (76.562)\n",
      " * Prec@1 74.260\n",
      "alpha1 8.398069381713867\n",
      "Best prec1 :  75.1300001586914\n",
      "current lr 8.95182e-04\n"
     ]
    },
    {
     "data": {
      "application/vnd.jupyter.widget-view+json": {
       "model_id": "626ef704fde54af6ba16c3a7947b6642",
       "version_major": 2,
       "version_minor": 0
      },
      "text/plain": [
       "  0%|          | 0/40 [00:00<?, ?it/s]"
      ]
     },
     "metadata": {},
     "output_type": "display_data"
    },
    {
     "name": "stdout",
     "output_type": "stream",
     "text": [
      "Epoch: [45][0/40]\tTime 1.304 (1.304)\tData 1.240 (1.240)\tLoss 1.0828 (1.0828)\tPrec@1 66.504 (66.504)\n",
      "Test: [0/10]\tTime 0.749 (0.749)\tLoss 0.6765 (0.6765)\tPrec@1 77.930 (77.930)\n",
      " * Prec@1 74.700\n",
      "alpha1 8.364585876464844\n",
      "Best prec1 :  75.1300001586914\n",
      "current lr 8.90325e-04\n"
     ]
    },
    {
     "data": {
      "application/vnd.jupyter.widget-view+json": {
       "model_id": "66089301bc664b548477671c5907c071",
       "version_major": 2,
       "version_minor": 0
      },
      "text/plain": [
       "  0%|          | 0/40 [00:00<?, ?it/s]"
      ]
     },
     "metadata": {},
     "output_type": "display_data"
    },
    {
     "name": "stdout",
     "output_type": "stream",
     "text": [
      "Epoch: [46][0/40]\tTime 1.480 (1.480)\tData 1.415 (1.415)\tLoss 1.0207 (1.0207)\tPrec@1 68.457 (68.457)\n",
      "Test: [0/10]\tTime 0.720 (0.720)\tLoss 0.6551 (0.6551)\tPrec@1 77.734 (77.734)\n",
      " * Prec@1 75.580\n",
      "alpha1 8.331320762634277\n",
      "Best prec1 :  75.58000010986328\n",
      "current lr 8.85371e-04\n"
     ]
    },
    {
     "data": {
      "application/vnd.jupyter.widget-view+json": {
       "model_id": "f03cff64ba094f1e9870489ba9ab9e13",
       "version_major": 2,
       "version_minor": 0
      },
      "text/plain": [
       "  0%|          | 0/40 [00:00<?, ?it/s]"
      ]
     },
     "metadata": {},
     "output_type": "display_data"
    },
    {
     "name": "stdout",
     "output_type": "stream",
     "text": [
      "Epoch: [47][0/40]\tTime 1.226 (1.226)\tData 1.163 (1.163)\tLoss 1.0093 (1.0093)\tPrec@1 68.652 (68.652)\n",
      "Test: [0/10]\tTime 0.845 (0.845)\tLoss 0.6804 (0.6804)\tPrec@1 76.562 (76.562)\n",
      " * Prec@1 74.740\n",
      "alpha1 8.29826831817627\n",
      "Best prec1 :  75.58000010986328\n",
      "current lr 8.80323e-04\n"
     ]
    },
    {
     "data": {
      "application/vnd.jupyter.widget-view+json": {
       "model_id": "7d7c52c10c42409abdd01bd9c0823f52",
       "version_major": 2,
       "version_minor": 0
      },
      "text/plain": [
       "  0%|          | 0/40 [00:00<?, ?it/s]"
      ]
     },
     "metadata": {},
     "output_type": "display_data"
    },
    {
     "name": "stdout",
     "output_type": "stream",
     "text": [
      "Epoch: [48][0/40]\tTime 1.295 (1.295)\tData 1.232 (1.232)\tLoss 0.9916 (0.9916)\tPrec@1 69.922 (69.922)\n",
      "Test: [0/10]\tTime 0.730 (0.730)\tLoss 0.6625 (0.6625)\tPrec@1 75.684 (75.684)\n",
      " * Prec@1 75.630\n",
      "alpha1 8.265429496765137\n",
      "Best prec1 :  75.62999991455078\n",
      "current lr 8.75180e-04\n"
     ]
    },
    {
     "data": {
      "application/vnd.jupyter.widget-view+json": {
       "model_id": "939b18f17ea3437aa1a15bb5852592b3",
       "version_major": 2,
       "version_minor": 0
      },
      "text/plain": [
       "  0%|          | 0/40 [00:00<?, ?it/s]"
      ]
     },
     "metadata": {},
     "output_type": "display_data"
    },
    {
     "name": "stdout",
     "output_type": "stream",
     "text": [
      "Epoch: [49][0/40]\tTime 1.539 (1.539)\tData 1.476 (1.476)\tLoss 1.0357 (1.0357)\tPrec@1 68.750 (68.750)\n",
      "Test: [0/10]\tTime 0.831 (0.831)\tLoss 0.6572 (0.6572)\tPrec@1 76.562 (76.562)\n",
      " * Prec@1 76.060\n",
      "alpha1 8.232813835144043\n",
      "Best prec1 :  76.05999985351562\n",
      "current lr 8.69946e-04\n"
     ]
    },
    {
     "data": {
      "application/vnd.jupyter.widget-view+json": {
       "model_id": "db522613ef4b491ba67968357b3c32d1",
       "version_major": 2,
       "version_minor": 0
      },
      "text/plain": [
       "  0%|          | 0/40 [00:00<?, ?it/s]"
      ]
     },
     "metadata": {},
     "output_type": "display_data"
    },
    {
     "name": "stdout",
     "output_type": "stream",
     "text": [
      "Epoch: [50][0/40]\tTime 1.120 (1.120)\tData 1.057 (1.057)\tLoss 1.0136 (1.0136)\tPrec@1 69.336 (69.336)\n",
      "Test: [0/10]\tTime 0.714 (0.714)\tLoss 0.6133 (0.6133)\tPrec@1 78.516 (78.516)\n",
      " * Prec@1 75.910\n",
      "alpha1 8.20042610168457\n",
      "Best prec1 :  76.05999985351562\n",
      "current lr 8.64620e-04\n"
     ]
    },
    {
     "data": {
      "application/vnd.jupyter.widget-view+json": {
       "model_id": "0be16908dab64b1494b67bd61116782c",
       "version_major": 2,
       "version_minor": 0
      },
      "text/plain": [
       "  0%|          | 0/40 [00:00<?, ?it/s]"
      ]
     },
     "metadata": {},
     "output_type": "display_data"
    },
    {
     "name": "stdout",
     "output_type": "stream",
     "text": [
      "Epoch: [51][0/40]\tTime 1.250 (1.250)\tData 1.187 (1.187)\tLoss 1.0069 (1.0069)\tPrec@1 68.945 (68.945)\n",
      "Test: [0/10]\tTime 0.717 (0.717)\tLoss 0.6539 (0.6539)\tPrec@1 77.734 (77.734)\n",
      " * Prec@1 75.820\n",
      "alpha1 8.168262481689453\n",
      "Best prec1 :  76.05999985351562\n",
      "current lr 8.59204e-04\n"
     ]
    },
    {
     "data": {
      "application/vnd.jupyter.widget-view+json": {
       "model_id": "c311a3afe1a7420f932e5d2fa873b06b",
       "version_major": 2,
       "version_minor": 0
      },
      "text/plain": [
       "  0%|          | 0/40 [00:00<?, ?it/s]"
      ]
     },
     "metadata": {},
     "output_type": "display_data"
    },
    {
     "name": "stdout",
     "output_type": "stream",
     "text": [
      "Epoch: [52][0/40]\tTime 1.316 (1.316)\tData 1.253 (1.253)\tLoss 0.9843 (0.9843)\tPrec@1 70.215 (70.215)\n",
      "Test: [0/10]\tTime 0.718 (0.718)\tLoss 0.6319 (0.6319)\tPrec@1 79.297 (79.297)\n",
      " * Prec@1 76.450\n",
      "alpha1 8.136324882507324\n",
      "Best prec1 :  76.44999987792968\n",
      "current lr 8.53700e-04\n"
     ]
    },
    {
     "data": {
      "application/vnd.jupyter.widget-view+json": {
       "model_id": "441b6ae7cf73429daffe9506313a9f58",
       "version_major": 2,
       "version_minor": 0
      },
      "text/plain": [
       "  0%|          | 0/40 [00:00<?, ?it/s]"
      ]
     },
     "metadata": {},
     "output_type": "display_data"
    },
    {
     "name": "stdout",
     "output_type": "stream",
     "text": [
      "Epoch: [53][0/40]\tTime 1.474 (1.474)\tData 1.405 (1.405)\tLoss 1.0418 (1.0418)\tPrec@1 67.969 (67.969)\n",
      "Test: [0/10]\tTime 0.728 (0.728)\tLoss 0.5975 (0.5975)\tPrec@1 81.250 (81.250)\n",
      " * Prec@1 77.280\n",
      "alpha1 8.104616165161133\n",
      "Best prec1 :  77.28000001220703\n",
      "current lr 8.48108e-04\n"
     ]
    },
    {
     "data": {
      "application/vnd.jupyter.widget-view+json": {
       "model_id": "908c29fd930d4589b415985409f07093",
       "version_major": 2,
       "version_minor": 0
      },
      "text/plain": [
       "  0%|          | 0/40 [00:00<?, ?it/s]"
      ]
     },
     "metadata": {},
     "output_type": "display_data"
    },
    {
     "name": "stdout",
     "output_type": "stream",
     "text": [
      "Epoch: [54][0/40]\tTime 1.466 (1.466)\tData 1.400 (1.400)\tLoss 0.9856 (0.9856)\tPrec@1 70.410 (70.410)\n",
      "Test: [0/10]\tTime 0.692 (0.692)\tLoss 0.6322 (0.6322)\tPrec@1 78.027 (78.027)\n",
      " * Prec@1 76.170\n",
      "alpha1 8.073141098022461\n",
      "Best prec1 :  77.28000001220703\n",
      "current lr 8.42431e-04\n"
     ]
    },
    {
     "data": {
      "application/vnd.jupyter.widget-view+json": {
       "model_id": "fc932f1b6734410eac7a28889a29e415",
       "version_major": 2,
       "version_minor": 0
      },
      "text/plain": [
       "  0%|          | 0/40 [00:00<?, ?it/s]"
      ]
     },
     "metadata": {},
     "output_type": "display_data"
    },
    {
     "name": "stdout",
     "output_type": "stream",
     "text": [
      "Epoch: [55][0/40]\tTime 1.170 (1.170)\tData 1.106 (1.106)\tLoss 0.9628 (0.9628)\tPrec@1 70.020 (70.020)\n",
      "Test: [0/10]\tTime 0.844 (0.844)\tLoss 0.6097 (0.6097)\tPrec@1 80.371 (80.371)\n",
      " * Prec@1 77.270\n",
      "alpha1 8.041898727416992\n",
      "Best prec1 :  77.28000001220703\n",
      "current lr 8.36670e-04\n"
     ]
    },
    {
     "data": {
      "application/vnd.jupyter.widget-view+json": {
       "model_id": "827557da2e4b4dd3a959c23fd283789f",
       "version_major": 2,
       "version_minor": 0
      },
      "text/plain": [
       "  0%|          | 0/40 [00:00<?, ?it/s]"
      ]
     },
     "metadata": {},
     "output_type": "display_data"
    },
    {
     "name": "stdout",
     "output_type": "stream",
     "text": [
      "Epoch: [56][0/40]\tTime 1.205 (1.205)\tData 1.142 (1.142)\tLoss 0.9699 (0.9699)\tPrec@1 71.191 (71.191)\n",
      "Test: [0/10]\tTime 0.720 (0.720)\tLoss 0.6390 (0.6390)\tPrec@1 78.613 (78.613)\n",
      " * Prec@1 76.730\n",
      "alpha1 8.010885238647461\n",
      "Best prec1 :  77.28000001220703\n",
      "current lr 8.30825e-04\n"
     ]
    },
    {
     "data": {
      "application/vnd.jupyter.widget-view+json": {
       "model_id": "c38aeeb898594e43bb1561295f03aef9",
       "version_major": 2,
       "version_minor": 0
      },
      "text/plain": [
       "  0%|          | 0/40 [00:00<?, ?it/s]"
      ]
     },
     "metadata": {},
     "output_type": "display_data"
    },
    {
     "name": "stdout",
     "output_type": "stream",
     "text": [
      "Epoch: [57][0/40]\tTime 1.340 (1.340)\tData 1.274 (1.274)\tLoss 0.9573 (0.9573)\tPrec@1 70.801 (70.801)\n",
      "Test: [0/10]\tTime 0.710 (0.710)\tLoss 0.6516 (0.6516)\tPrec@1 77.832 (77.832)\n",
      " * Prec@1 75.850\n",
      "alpha1 7.980109214782715\n",
      "Best prec1 :  77.28000001220703\n",
      "current lr 8.24899e-04\n"
     ]
    },
    {
     "data": {
      "application/vnd.jupyter.widget-view+json": {
       "model_id": "0cc3af5e883c45fdb6a70c3147c3b02c",
       "version_major": 2,
       "version_minor": 0
      },
      "text/plain": [
       "  0%|          | 0/40 [00:00<?, ?it/s]"
      ]
     },
     "metadata": {},
     "output_type": "display_data"
    },
    {
     "name": "stdout",
     "output_type": "stream",
     "text": [
      "Epoch: [58][0/40]\tTime 1.394 (1.394)\tData 1.331 (1.331)\tLoss 0.9419 (0.9419)\tPrec@1 72.852 (72.852)\n",
      "Test: [0/10]\tTime 0.730 (0.730)\tLoss 0.6476 (0.6476)\tPrec@1 77.930 (77.930)\n",
      " * Prec@1 75.950\n",
      "alpha1 7.9495720863342285\n",
      "Best prec1 :  77.28000001220703\n",
      "current lr 8.18893e-04\n"
     ]
    },
    {
     "data": {
      "application/vnd.jupyter.widget-view+json": {
       "model_id": "8802853757e44e51ac653a99920f89a9",
       "version_major": 2,
       "version_minor": 0
      },
      "text/plain": [
       "  0%|          | 0/40 [00:00<?, ?it/s]"
      ]
     },
     "metadata": {},
     "output_type": "display_data"
    },
    {
     "name": "stdout",
     "output_type": "stream",
     "text": [
      "Epoch: [59][0/40]\tTime 1.243 (1.243)\tData 1.174 (1.174)\tLoss 0.9549 (0.9549)\tPrec@1 72.070 (72.070)\n",
      "Test: [0/10]\tTime 0.822 (0.822)\tLoss 0.5880 (0.5880)\tPrec@1 80.371 (80.371)\n",
      " * Prec@1 77.900\n",
      "alpha1 7.919276237487793\n",
      "Best prec1 :  77.89999976806641\n",
      "current lr 8.12809e-04\n"
     ]
    },
    {
     "data": {
      "application/vnd.jupyter.widget-view+json": {
       "model_id": "1c7e2be89c354cbd84b269d570c0009d",
       "version_major": 2,
       "version_minor": 0
      },
      "text/plain": [
       "  0%|          | 0/40 [00:00<?, ?it/s]"
      ]
     },
     "metadata": {},
     "output_type": "display_data"
    },
    {
     "name": "stdout",
     "output_type": "stream",
     "text": [
      "Epoch: [60][0/40]\tTime 1.265 (1.265)\tData 1.203 (1.203)\tLoss 0.9571 (0.9571)\tPrec@1 70.312 (70.312)\n",
      "Test: [0/10]\tTime 0.726 (0.726)\tLoss 0.6407 (0.6407)\tPrec@1 78.223 (78.223)\n",
      " * Prec@1 76.220\n",
      "alpha1 7.889222621917725\n",
      "Best prec1 :  77.89999976806641\n",
      "current lr 8.06647e-04\n"
     ]
    },
    {
     "data": {
      "application/vnd.jupyter.widget-view+json": {
       "model_id": "470e811d05694e0aafd0271d8efc1ca6",
       "version_major": 2,
       "version_minor": 0
      },
      "text/plain": [
       "  0%|          | 0/40 [00:00<?, ?it/s]"
      ]
     },
     "metadata": {},
     "output_type": "display_data"
    },
    {
     "name": "stdout",
     "output_type": "stream",
     "text": [
      "Epoch: [61][0/40]\tTime 1.222 (1.222)\tData 1.159 (1.159)\tLoss 0.9011 (0.9011)\tPrec@1 72.266 (72.266)\n",
      "Test: [0/10]\tTime 0.744 (0.744)\tLoss 0.5644 (0.5644)\tPrec@1 80.566 (80.566)\n",
      " * Prec@1 78.180\n",
      "alpha1 7.859412670135498\n",
      "Best prec1 :  78.17999979248047\n",
      "current lr 8.00410e-04\n"
     ]
    },
    {
     "data": {
      "application/vnd.jupyter.widget-view+json": {
       "model_id": "d3d0b1c4b007490aac2cba36260f7540",
       "version_major": 2,
       "version_minor": 0
      },
      "text/plain": [
       "  0%|          | 0/40 [00:00<?, ?it/s]"
      ]
     },
     "metadata": {},
     "output_type": "display_data"
    },
    {
     "name": "stdout",
     "output_type": "stream",
     "text": [
      "Epoch: [62][0/40]\tTime 1.583 (1.583)\tData 1.520 (1.520)\tLoss 0.8823 (0.8823)\tPrec@1 74.512 (74.512)\n",
      "Test: [0/10]\tTime 0.703 (0.703)\tLoss 0.6122 (0.6122)\tPrec@1 78.125 (78.125)\n",
      " * Prec@1 76.500\n",
      "alpha1 7.829848766326904\n",
      "Best prec1 :  78.17999979248047\n",
      "current lr 7.94099e-04\n"
     ]
    },
    {
     "data": {
      "application/vnd.jupyter.widget-view+json": {
       "model_id": "326e359e08e141eab7116f8e559f947a",
       "version_major": 2,
       "version_minor": 0
      },
      "text/plain": [
       "  0%|          | 0/40 [00:00<?, ?it/s]"
      ]
     },
     "metadata": {},
     "output_type": "display_data"
    },
    {
     "name": "stdout",
     "output_type": "stream",
     "text": [
      "Epoch: [63][0/40]\tTime 1.255 (1.255)\tData 1.192 (1.192)\tLoss 0.8821 (0.8821)\tPrec@1 72.949 (72.949)\n",
      "Test: [0/10]\tTime 0.747 (0.747)\tLoss 0.5433 (0.5433)\tPrec@1 81.836 (81.836)\n",
      " * Prec@1 78.720\n",
      "alpha1 7.800532817840576\n",
      "Best prec1 :  78.72000017089844\n",
      "current lr 7.87715e-04\n"
     ]
    },
    {
     "data": {
      "application/vnd.jupyter.widget-view+json": {
       "model_id": "7ed52350cb2247888b8a489a80002e30",
       "version_major": 2,
       "version_minor": 0
      },
      "text/plain": [
       "  0%|          | 0/40 [00:00<?, ?it/s]"
      ]
     },
     "metadata": {},
     "output_type": "display_data"
    },
    {
     "name": "stdout",
     "output_type": "stream",
     "text": [
      "Epoch: [64][0/40]\tTime 1.587 (1.587)\tData 1.524 (1.524)\tLoss 0.9592 (0.9592)\tPrec@1 71.289 (71.289)\n",
      "Test: [0/10]\tTime 0.741 (0.741)\tLoss 0.5697 (0.5697)\tPrec@1 80.176 (80.176)\n",
      " * Prec@1 78.170\n",
      "alpha1 7.771466255187988\n",
      "Best prec1 :  78.72000017089844\n",
      "current lr 7.81261e-04\n"
     ]
    },
    {
     "data": {
      "application/vnd.jupyter.widget-view+json": {
       "model_id": "37b71cab71804ef194596ce35f966821",
       "version_major": 2,
       "version_minor": 0
      },
      "text/plain": [
       "  0%|          | 0/40 [00:00<?, ?it/s]"
      ]
     },
     "metadata": {},
     "output_type": "display_data"
    },
    {
     "name": "stdout",
     "output_type": "stream",
     "text": [
      "Epoch: [65][0/40]\tTime 1.187 (1.187)\tData 1.124 (1.124)\tLoss 0.9024 (0.9024)\tPrec@1 73.438 (73.438)\n",
      "Test: [0/10]\tTime 0.789 (0.789)\tLoss 0.5699 (0.5699)\tPrec@1 78.809 (78.809)\n",
      " * Prec@1 78.050\n",
      "alpha1 7.742652416229248\n",
      "Best prec1 :  78.72000017089844\n",
      "current lr 7.74737e-04\n"
     ]
    },
    {
     "data": {
      "application/vnd.jupyter.widget-view+json": {
       "model_id": "bda65b10d4c74048871151fc012705db",
       "version_major": 2,
       "version_minor": 0
      },
      "text/plain": [
       "  0%|          | 0/40 [00:00<?, ?it/s]"
      ]
     },
     "metadata": {},
     "output_type": "display_data"
    },
    {
     "name": "stdout",
     "output_type": "stream",
     "text": [
      "Epoch: [66][0/40]\tTime 1.247 (1.247)\tData 1.183 (1.183)\tLoss 0.9269 (0.9269)\tPrec@1 73.145 (73.145)\n",
      "Test: [0/10]\tTime 0.716 (0.716)\tLoss 0.5629 (0.5629)\tPrec@1 80.371 (80.371)\n",
      " * Prec@1 78.050\n",
      "alpha1 7.714094638824463\n",
      "Best prec1 :  78.72000017089844\n",
      "current lr 7.68145e-04\n"
     ]
    },
    {
     "data": {
      "application/vnd.jupyter.widget-view+json": {
       "model_id": "a39703ec51c249128bfa1fa3f06a3fbd",
       "version_major": 2,
       "version_minor": 0
      },
      "text/plain": [
       "  0%|          | 0/40 [00:00<?, ?it/s]"
      ]
     },
     "metadata": {},
     "output_type": "display_data"
    },
    {
     "name": "stdout",
     "output_type": "stream",
     "text": [
      "Epoch: [67][0/40]\tTime 1.576 (1.576)\tData 1.511 (1.511)\tLoss 0.8856 (0.8856)\tPrec@1 73.145 (73.145)\n",
      "Test: [0/10]\tTime 0.782 (0.782)\tLoss 0.6059 (0.6059)\tPrec@1 80.078 (80.078)\n",
      " * Prec@1 77.570\n",
      "alpha1 7.685789585113525\n",
      "Best prec1 :  78.72000017089844\n",
      "current lr 7.61488e-04\n"
     ]
    },
    {
     "data": {
      "application/vnd.jupyter.widget-view+json": {
       "model_id": "6fcfd3718f134ee5ba9fec6bfef1c09c",
       "version_major": 2,
       "version_minor": 0
      },
      "text/plain": [
       "  0%|          | 0/40 [00:00<?, ?it/s]"
      ]
     },
     "metadata": {},
     "output_type": "display_data"
    },
    {
     "name": "stdout",
     "output_type": "stream",
     "text": [
      "Epoch: [68][0/40]\tTime 1.096 (1.096)\tData 1.033 (1.033)\tLoss 0.9028 (0.9028)\tPrec@1 73.047 (73.047)\n",
      "Test: [0/10]\tTime 0.758 (0.758)\tLoss 0.5854 (0.5854)\tPrec@1 79.102 (79.102)\n",
      " * Prec@1 78.570\n",
      "alpha1 7.657740116119385\n",
      "Best prec1 :  78.72000017089844\n",
      "current lr 7.54766e-04\n"
     ]
    },
    {
     "data": {
      "application/vnd.jupyter.widget-view+json": {
       "model_id": "019f711e34234fcf8c8a0d6153035e4c",
       "version_major": 2,
       "version_minor": 0
      },
      "text/plain": [
       "  0%|          | 0/40 [00:00<?, ?it/s]"
      ]
     },
     "metadata": {},
     "output_type": "display_data"
    },
    {
     "name": "stdout",
     "output_type": "stream",
     "text": [
      "Epoch: [69][0/40]\tTime 1.573 (1.573)\tData 1.508 (1.508)\tLoss 0.8754 (0.8754)\tPrec@1 73.828 (73.828)\n",
      "Test: [0/10]\tTime 0.737 (0.737)\tLoss 0.5775 (0.5775)\tPrec@1 80.664 (80.664)\n",
      " * Prec@1 78.910\n",
      "alpha1 7.629950046539307\n",
      "Best prec1 :  78.9099996459961\n",
      "current lr 7.47982e-04\n"
     ]
    },
    {
     "data": {
      "application/vnd.jupyter.widget-view+json": {
       "model_id": "0ae0c0e307ae4674aff52eb286f28c50",
       "version_major": 2,
       "version_minor": 0
      },
      "text/plain": [
       "  0%|          | 0/40 [00:00<?, ?it/s]"
      ]
     },
     "metadata": {},
     "output_type": "display_data"
    },
    {
     "name": "stdout",
     "output_type": "stream",
     "text": [
      "Epoch: [70][0/40]\tTime 1.276 (1.276)\tData 1.214 (1.214)\tLoss 0.8499 (0.8499)\tPrec@1 74.512 (74.512)\n",
      "Test: [0/10]\tTime 0.819 (0.819)\tLoss 0.6168 (0.6168)\tPrec@1 79.297 (79.297)\n",
      " * Prec@1 77.740\n",
      "alpha1 7.602419376373291\n",
      "Best prec1 :  78.9099996459961\n",
      "current lr 7.41136e-04\n"
     ]
    },
    {
     "data": {
      "application/vnd.jupyter.widget-view+json": {
       "model_id": "7795702feef14e5fa78370ec7165015c",
       "version_major": 2,
       "version_minor": 0
      },
      "text/plain": [
       "  0%|          | 0/40 [00:00<?, ?it/s]"
      ]
     },
     "metadata": {},
     "output_type": "display_data"
    },
    {
     "name": "stdout",
     "output_type": "stream",
     "text": [
      "Epoch: [71][0/40]\tTime 1.501 (1.501)\tData 1.433 (1.433)\tLoss 0.8677 (0.8677)\tPrec@1 73.535 (73.535)\n",
      "Test: [0/10]\tTime 0.766 (0.766)\tLoss 0.5742 (0.5742)\tPrec@1 80.176 (80.176)\n",
      " * Prec@1 78.010\n",
      "alpha1 7.575144290924072\n",
      "Best prec1 :  78.9099996459961\n",
      "current lr 7.34231e-04\n"
     ]
    },
    {
     "data": {
      "application/vnd.jupyter.widget-view+json": {
       "model_id": "48fe2f2f83c8405bb8c06297e95beed5",
       "version_major": 2,
       "version_minor": 0
      },
      "text/plain": [
       "  0%|          | 0/40 [00:00<?, ?it/s]"
      ]
     },
     "metadata": {},
     "output_type": "display_data"
    },
    {
     "name": "stdout",
     "output_type": "stream",
     "text": [
      "Epoch: [72][0/40]\tTime 1.456 (1.456)\tData 1.393 (1.393)\tLoss 0.8817 (0.8817)\tPrec@1 73.926 (73.926)\n",
      "Test: [0/10]\tTime 0.764 (0.764)\tLoss 0.5823 (0.5823)\tPrec@1 80.078 (80.078)\n",
      " * Prec@1 77.910\n",
      "alpha1 7.548136234283447\n",
      "Best prec1 :  78.9099996459961\n",
      "current lr 7.27268e-04\n"
     ]
    },
    {
     "data": {
      "application/vnd.jupyter.widget-view+json": {
       "model_id": "d5b6f65a9c9945ddb284a4933b48012b",
       "version_major": 2,
       "version_minor": 0
      },
      "text/plain": [
       "  0%|          | 0/40 [00:00<?, ?it/s]"
      ]
     },
     "metadata": {},
     "output_type": "display_data"
    },
    {
     "name": "stdout",
     "output_type": "stream",
     "text": [
      "Epoch: [73][0/40]\tTime 1.310 (1.310)\tData 1.244 (1.244)\tLoss 0.8436 (0.8436)\tPrec@1 75.000 (75.000)\n",
      "Test: [0/10]\tTime 0.721 (0.721)\tLoss 0.5663 (0.5663)\tPrec@1 80.957 (80.957)\n",
      " * Prec@1 78.700\n",
      "alpha1 7.521395206451416\n",
      "Best prec1 :  78.9099996459961\n",
      "current lr 7.20250e-04\n"
     ]
    },
    {
     "data": {
      "application/vnd.jupyter.widget-view+json": {
       "model_id": "e1e08891a746498a8e8d18fb26746afd",
       "version_major": 2,
       "version_minor": 0
      },
      "text/plain": [
       "  0%|          | 0/40 [00:00<?, ?it/s]"
      ]
     },
     "metadata": {},
     "output_type": "display_data"
    },
    {
     "name": "stdout",
     "output_type": "stream",
     "text": [
      "Epoch: [74][0/40]\tTime 1.438 (1.438)\tData 1.375 (1.375)\tLoss 0.7886 (0.7886)\tPrec@1 75.000 (75.000)\n",
      "Test: [0/10]\tTime 0.816 (0.816)\tLoss 0.5637 (0.5637)\tPrec@1 80.859 (80.859)\n",
      " * Prec@1 78.530\n",
      "alpha1 7.4949188232421875\n",
      "Best prec1 :  78.9099996459961\n",
      "current lr 7.13177e-04\n"
     ]
    },
    {
     "data": {
      "application/vnd.jupyter.widget-view+json": {
       "model_id": "5e864a9df9774ae2b87e10542eac4aa8",
       "version_major": 2,
       "version_minor": 0
      },
      "text/plain": [
       "  0%|          | 0/40 [00:00<?, ?it/s]"
      ]
     },
     "metadata": {},
     "output_type": "display_data"
    },
    {
     "name": "stdout",
     "output_type": "stream",
     "text": [
      "Epoch: [75][0/40]\tTime 1.451 (1.451)\tData 1.389 (1.389)\tLoss 0.8339 (0.8339)\tPrec@1 75.781 (75.781)\n",
      "Test: [0/10]\tTime 0.822 (0.822)\tLoss 0.5645 (0.5645)\tPrec@1 79.492 (79.492)\n",
      " * Prec@1 78.860\n",
      "alpha1 7.4687066078186035\n",
      "Best prec1 :  78.9099996459961\n",
      "current lr 7.06051e-04\n"
     ]
    },
    {
     "data": {
      "application/vnd.jupyter.widget-view+json": {
       "model_id": "168c892f5bdd4e88ade72b39b1ea2247",
       "version_major": 2,
       "version_minor": 0
      },
      "text/plain": [
       "  0%|          | 0/40 [00:00<?, ?it/s]"
      ]
     },
     "metadata": {},
     "output_type": "display_data"
    },
    {
     "name": "stdout",
     "output_type": "stream",
     "text": [
      "Epoch: [76][0/40]\tTime 1.278 (1.278)\tData 1.215 (1.215)\tLoss 0.8529 (0.8529)\tPrec@1 74.023 (74.023)\n",
      "Test: [0/10]\tTime 0.805 (0.805)\tLoss 0.5637 (0.5637)\tPrec@1 81.250 (81.250)\n",
      " * Prec@1 79.600\n",
      "alpha1 7.4427618980407715\n",
      "Best prec1 :  79.59999974365235\n",
      "current lr 6.98875e-04\n"
     ]
    },
    {
     "data": {
      "application/vnd.jupyter.widget-view+json": {
       "model_id": "7ec4db18669d4819ae858825267f818e",
       "version_major": 2,
       "version_minor": 0
      },
      "text/plain": [
       "  0%|          | 0/40 [00:00<?, ?it/s]"
      ]
     },
     "metadata": {},
     "output_type": "display_data"
    },
    {
     "name": "stdout",
     "output_type": "stream",
     "text": [
      "Epoch: [77][0/40]\tTime 1.578 (1.578)\tData 1.515 (1.515)\tLoss 0.8004 (0.8004)\tPrec@1 74.219 (74.219)\n",
      "Test: [0/10]\tTime 0.813 (0.813)\tLoss 0.5587 (0.5587)\tPrec@1 81.152 (81.152)\n",
      " * Prec@1 79.320\n",
      "alpha1 7.417088985443115\n",
      "Best prec1 :  79.59999974365235\n",
      "current lr 6.91650e-04\n"
     ]
    },
    {
     "data": {
      "application/vnd.jupyter.widget-view+json": {
       "model_id": "57e26183e27a4dacb9a7b8f389d7a589",
       "version_major": 2,
       "version_minor": 0
      },
      "text/plain": [
       "  0%|          | 0/40 [00:00<?, ?it/s]"
      ]
     },
     "metadata": {},
     "output_type": "display_data"
    },
    {
     "name": "stdout",
     "output_type": "stream",
     "text": [
      "Epoch: [78][0/40]\tTime 1.596 (1.596)\tData 1.531 (1.531)\tLoss 0.7990 (0.7990)\tPrec@1 75.586 (75.586)\n",
      "Test: [0/10]\tTime 0.825 (0.825)\tLoss 0.5567 (0.5567)\tPrec@1 81.250 (81.250)\n",
      " * Prec@1 78.860\n",
      "alpha1 7.391683101654053\n",
      "Best prec1 :  79.59999974365235\n",
      "current lr 6.84378e-04\n"
     ]
    },
    {
     "data": {
      "application/vnd.jupyter.widget-view+json": {
       "model_id": "5ae295c07db449aebf551b7ccc6566b6",
       "version_major": 2,
       "version_minor": 0
      },
      "text/plain": [
       "  0%|          | 0/40 [00:00<?, ?it/s]"
      ]
     },
     "metadata": {},
     "output_type": "display_data"
    },
    {
     "name": "stdout",
     "output_type": "stream",
     "text": [
      "Epoch: [79][0/40]\tTime 1.317 (1.317)\tData 1.252 (1.252)\tLoss 0.8384 (0.8384)\tPrec@1 74.609 (74.609)\n",
      "Test: [0/10]\tTime 0.838 (0.838)\tLoss 0.5767 (0.5767)\tPrec@1 80.762 (80.762)\n",
      " * Prec@1 79.070\n",
      "alpha1 7.366544246673584\n",
      "Best prec1 :  79.59999974365235\n",
      "current lr 6.77061e-04\n"
     ]
    },
    {
     "data": {
      "application/vnd.jupyter.widget-view+json": {
       "model_id": "e8645a3d3d9e4ca782f264049c0e86ee",
       "version_major": 2,
       "version_minor": 0
      },
      "text/plain": [
       "  0%|          | 0/40 [00:00<?, ?it/s]"
      ]
     },
     "metadata": {},
     "output_type": "display_data"
    },
    {
     "name": "stdout",
     "output_type": "stream",
     "text": [
      "Epoch: [80][0/40]\tTime 1.292 (1.292)\tData 1.229 (1.229)\tLoss 0.8016 (0.8016)\tPrec@1 75.000 (75.000)\n",
      "Test: [0/10]\tTime 0.823 (0.823)\tLoss 0.5582 (0.5582)\tPrec@1 81.738 (81.738)\n",
      " * Prec@1 78.920\n",
      "alpha1 7.341672420501709\n",
      "Best prec1 :  79.59999974365235\n",
      "current lr 6.69700e-04\n"
     ]
    },
    {
     "data": {
      "application/vnd.jupyter.widget-view+json": {
       "model_id": "e885b288fbb947fea28405ae45579f32",
       "version_major": 2,
       "version_minor": 0
      },
      "text/plain": [
       "  0%|          | 0/40 [00:00<?, ?it/s]"
      ]
     },
     "metadata": {},
     "output_type": "display_data"
    },
    {
     "name": "stdout",
     "output_type": "stream",
     "text": [
      "Epoch: [81][0/40]\tTime 1.245 (1.245)\tData 1.180 (1.180)\tLoss 0.8089 (0.8089)\tPrec@1 75.098 (75.098)\n",
      "Test: [0/10]\tTime 0.811 (0.811)\tLoss 0.5376 (0.5376)\tPrec@1 81.152 (81.152)\n",
      " * Prec@1 79.620\n",
      "alpha1 7.317067623138428\n",
      "Best prec1 :  79.62000012207031\n",
      "current lr 6.62297e-04\n"
     ]
    },
    {
     "data": {
      "application/vnd.jupyter.widget-view+json": {
       "model_id": "fcb3aa97ef9c4ea7908e081f770f1fcc",
       "version_major": 2,
       "version_minor": 0
      },
      "text/plain": [
       "  0%|          | 0/40 [00:00<?, ?it/s]"
      ]
     },
     "metadata": {},
     "output_type": "display_data"
    },
    {
     "name": "stdout",
     "output_type": "stream",
     "text": [
      "Epoch: [82][0/40]\tTime 1.409 (1.409)\tData 1.346 (1.346)\tLoss 0.7971 (0.7971)\tPrec@1 76.562 (76.562)\n",
      "Test: [0/10]\tTime 0.784 (0.784)\tLoss 0.5805 (0.5805)\tPrec@1 80.859 (80.859)\n",
      " * Prec@1 79.160\n",
      "alpha1 7.292748928070068\n",
      "Best prec1 :  79.62000012207031\n",
      "current lr 6.54854e-04\n"
     ]
    },
    {
     "data": {
      "application/vnd.jupyter.widget-view+json": {
       "model_id": "26e8e4a6c4ff4ff59991a4becc9f7a9d",
       "version_major": 2,
       "version_minor": 0
      },
      "text/plain": [
       "  0%|          | 0/40 [00:00<?, ?it/s]"
      ]
     },
     "metadata": {},
     "output_type": "display_data"
    },
    {
     "name": "stdout",
     "output_type": "stream",
     "text": [
      "Epoch: [83][0/40]\tTime 1.233 (1.233)\tData 1.167 (1.167)\tLoss 0.8181 (0.8181)\tPrec@1 74.316 (74.316)\n",
      "Test: [0/10]\tTime 0.825 (0.825)\tLoss 0.5643 (0.5643)\tPrec@1 80.859 (80.859)\n",
      " * Prec@1 79.710\n",
      "alpha1 7.268697261810303\n",
      "Best prec1 :  79.70999970703124\n",
      "current lr 6.47373e-04\n"
     ]
    },
    {
     "data": {
      "application/vnd.jupyter.widget-view+json": {
       "model_id": "65f0e2ddc297428e9b10c5f090ab3d6b",
       "version_major": 2,
       "version_minor": 0
      },
      "text/plain": [
       "  0%|          | 0/40 [00:00<?, ?it/s]"
      ]
     },
     "metadata": {},
     "output_type": "display_data"
    },
    {
     "name": "stdout",
     "output_type": "stream",
     "text": [
      "Epoch: [84][0/40]\tTime 1.424 (1.424)\tData 1.358 (1.358)\tLoss 0.7734 (0.7734)\tPrec@1 75.977 (75.977)\n",
      "Test: [0/10]\tTime 0.711 (0.711)\tLoss 0.5525 (0.5525)\tPrec@1 81.934 (81.934)\n",
      " * Prec@1 79.370\n",
      "alpha1 7.244931697845459\n",
      "Best prec1 :  79.70999970703124\n",
      "current lr 6.39856e-04\n"
     ]
    },
    {
     "data": {
      "application/vnd.jupyter.widget-view+json": {
       "model_id": "2987d81bb625440786c592e2445603e8",
       "version_major": 2,
       "version_minor": 0
      },
      "text/plain": [
       "  0%|          | 0/40 [00:00<?, ?it/s]"
      ]
     },
     "metadata": {},
     "output_type": "display_data"
    },
    {
     "name": "stdout",
     "output_type": "stream",
     "text": [
      "Epoch: [85][0/40]\tTime 1.479 (1.479)\tData 1.409 (1.409)\tLoss 0.7458 (0.7458)\tPrec@1 77.832 (77.832)\n",
      "Test: [0/10]\tTime 0.784 (0.784)\tLoss 0.5504 (0.5504)\tPrec@1 81.543 (81.543)\n",
      " * Prec@1 79.620\n",
      "alpha1 7.221433162689209\n",
      "Best prec1 :  79.70999970703124\n",
      "current lr 6.32305e-04\n"
     ]
    },
    {
     "data": {
      "application/vnd.jupyter.widget-view+json": {
       "model_id": "9909a9c7248740348eb3bbbdad927b6c",
       "version_major": 2,
       "version_minor": 0
      },
      "text/plain": [
       "  0%|          | 0/40 [00:00<?, ?it/s]"
      ]
     },
     "metadata": {},
     "output_type": "display_data"
    },
    {
     "name": "stdout",
     "output_type": "stream",
     "text": [
      "Epoch: [86][0/40]\tTime 1.473 (1.473)\tData 1.410 (1.410)\tLoss 0.7779 (0.7779)\tPrec@1 76.465 (76.465)\n",
      "Test: [0/10]\tTime 0.703 (0.703)\tLoss 0.5327 (0.5327)\tPrec@1 80.566 (80.566)\n",
      " * Prec@1 79.380\n",
      "alpha1 7.198214530944824\n",
      "Best prec1 :  79.70999970703124\n",
      "current lr 6.24721e-04\n"
     ]
    },
    {
     "data": {
      "application/vnd.jupyter.widget-view+json": {
       "model_id": "653831a7cea843ddbfe2fdfd3399a24c",
       "version_major": 2,
       "version_minor": 0
      },
      "text/plain": [
       "  0%|          | 0/40 [00:00<?, ?it/s]"
      ]
     },
     "metadata": {},
     "output_type": "display_data"
    },
    {
     "name": "stdout",
     "output_type": "stream",
     "text": [
      "Epoch: [87][0/40]\tTime 1.253 (1.253)\tData 1.190 (1.190)\tLoss 0.7692 (0.7692)\tPrec@1 77.246 (77.246)\n",
      "Test: [0/10]\tTime 0.759 (0.759)\tLoss 0.5213 (0.5213)\tPrec@1 82.617 (82.617)\n",
      " * Prec@1 80.150\n",
      "alpha1 7.17526912689209\n",
      "Best prec1 :  80.15000008544922\n",
      "current lr 6.17106e-04\n"
     ]
    },
    {
     "data": {
      "application/vnd.jupyter.widget-view+json": {
       "model_id": "194c0ba899ad4c048fa85b782e06089d",
       "version_major": 2,
       "version_minor": 0
      },
      "text/plain": [
       "  0%|          | 0/40 [00:00<?, ?it/s]"
      ]
     },
     "metadata": {},
     "output_type": "display_data"
    },
    {
     "name": "stdout",
     "output_type": "stream",
     "text": [
      "Epoch: [88][0/40]\tTime 1.391 (1.391)\tData 1.322 (1.322)\tLoss 0.8604 (0.8604)\tPrec@1 74.316 (74.316)\n",
      "Test: [0/10]\tTime 0.810 (0.810)\tLoss 0.5344 (0.5344)\tPrec@1 80.566 (80.566)\n",
      " * Prec@1 80.360\n",
      "alpha1 7.152609825134277\n",
      "Best prec1 :  80.3599998046875\n",
      "current lr 6.09463e-04\n"
     ]
    },
    {
     "data": {
      "application/vnd.jupyter.widget-view+json": {
       "model_id": "86df554955d84c469911c120f69c4364",
       "version_major": 2,
       "version_minor": 0
      },
      "text/plain": [
       "  0%|          | 0/40 [00:00<?, ?it/s]"
      ]
     },
     "metadata": {},
     "output_type": "display_data"
    },
    {
     "name": "stdout",
     "output_type": "stream",
     "text": [
      "Epoch: [89][0/40]\tTime 1.221 (1.221)\tData 1.158 (1.158)\tLoss 0.8084 (0.8084)\tPrec@1 75.684 (75.684)\n",
      "Test: [0/10]\tTime 0.786 (0.786)\tLoss 0.5539 (0.5539)\tPrec@1 81.250 (81.250)\n",
      " * Prec@1 80.110\n",
      "alpha1 7.130217552185059\n",
      "Best prec1 :  80.3599998046875\n",
      "current lr 6.01792e-04\n"
     ]
    },
    {
     "data": {
      "application/vnd.jupyter.widget-view+json": {
       "model_id": "8402f5dba6284fd9b9228d918cd75b4d",
       "version_major": 2,
       "version_minor": 0
      },
      "text/plain": [
       "  0%|          | 0/40 [00:00<?, ?it/s]"
      ]
     },
     "metadata": {},
     "output_type": "display_data"
    },
    {
     "name": "stdout",
     "output_type": "stream",
     "text": [
      "Epoch: [90][0/40]\tTime 1.256 (1.256)\tData 1.193 (1.193)\tLoss 0.8187 (0.8187)\tPrec@1 74.512 (74.512)\n",
      "Test: [0/10]\tTime 0.805 (0.805)\tLoss 0.5822 (0.5822)\tPrec@1 80.176 (80.176)\n",
      " * Prec@1 79.190\n",
      "alpha1 7.108111381530762\n",
      "Best prec1 :  80.3599998046875\n",
      "current lr 5.94097e-04\n"
     ]
    },
    {
     "data": {
      "application/vnd.jupyter.widget-view+json": {
       "model_id": "0012f4be076244edb9a62dfaeb5fce54",
       "version_major": 2,
       "version_minor": 0
      },
      "text/plain": [
       "  0%|          | 0/40 [00:00<?, ?it/s]"
      ]
     },
     "metadata": {},
     "output_type": "display_data"
    },
    {
     "name": "stdout",
     "output_type": "stream",
     "text": [
      "Epoch: [91][0/40]\tTime 1.352 (1.352)\tData 1.289 (1.289)\tLoss 0.7930 (0.7930)\tPrec@1 75.293 (75.293)\n",
      "Test: [0/10]\tTime 0.762 (0.762)\tLoss 0.5423 (0.5423)\tPrec@1 82.031 (82.031)\n",
      " * Prec@1 79.980\n",
      "alpha1 7.086284160614014\n",
      "Best prec1 :  80.3599998046875\n",
      "current lr 5.86379e-04\n"
     ]
    },
    {
     "data": {
      "application/vnd.jupyter.widget-view+json": {
       "model_id": "d8f546f1a52944228f562dbedae23c7d",
       "version_major": 2,
       "version_minor": 0
      },
      "text/plain": [
       "  0%|          | 0/40 [00:00<?, ?it/s]"
      ]
     },
     "metadata": {},
     "output_type": "display_data"
    },
    {
     "name": "stdout",
     "output_type": "stream",
     "text": [
      "Epoch: [92][0/40]\tTime 1.534 (1.534)\tData 1.471 (1.471)\tLoss 0.8066 (0.8066)\tPrec@1 75.000 (75.000)\n",
      "Test: [0/10]\tTime 0.817 (0.817)\tLoss 0.5584 (0.5584)\tPrec@1 82.129 (82.129)\n",
      " * Prec@1 79.890\n",
      "alpha1 7.064731121063232\n",
      "Best prec1 :  80.3599998046875\n",
      "current lr 5.78639e-04\n"
     ]
    },
    {
     "data": {
      "application/vnd.jupyter.widget-view+json": {
       "model_id": "3ea04d1a1a6049d79891b05135706de3",
       "version_major": 2,
       "version_minor": 0
      },
      "text/plain": [
       "  0%|          | 0/40 [00:00<?, ?it/s]"
      ]
     },
     "metadata": {},
     "output_type": "display_data"
    },
    {
     "name": "stdout",
     "output_type": "stream",
     "text": [
      "Epoch: [93][0/40]\tTime 1.554 (1.554)\tData 1.491 (1.491)\tLoss 0.7710 (0.7710)\tPrec@1 75.488 (75.488)\n",
      "Test: [0/10]\tTime 0.842 (0.842)\tLoss 0.5346 (0.5346)\tPrec@1 81.836 (81.836)\n",
      " * Prec@1 80.080\n",
      "alpha1 7.043464183807373\n",
      "Best prec1 :  80.3599998046875\n",
      "current lr 5.70880e-04\n"
     ]
    },
    {
     "data": {
      "application/vnd.jupyter.widget-view+json": {
       "model_id": "6b6718c848544f34b66eeab001084333",
       "version_major": 2,
       "version_minor": 0
      },
      "text/plain": [
       "  0%|          | 0/40 [00:00<?, ?it/s]"
      ]
     },
     "metadata": {},
     "output_type": "display_data"
    },
    {
     "name": "stdout",
     "output_type": "stream",
     "text": [
      "Epoch: [94][0/40]\tTime 1.474 (1.474)\tData 1.411 (1.411)\tLoss 0.8207 (0.8207)\tPrec@1 74.512 (74.512)\n",
      "Test: [0/10]\tTime 0.719 (0.719)\tLoss 0.5643 (0.5643)\tPrec@1 80.664 (80.664)\n",
      " * Prec@1 79.780\n",
      "alpha1 7.0224833488464355\n",
      "Best prec1 :  80.3599998046875\n",
      "current lr 5.63104e-04\n"
     ]
    },
    {
     "data": {
      "application/vnd.jupyter.widget-view+json": {
       "model_id": "45e8387c055f487783d0885419bd4401",
       "version_major": 2,
       "version_minor": 0
      },
      "text/plain": [
       "  0%|          | 0/40 [00:00<?, ?it/s]"
      ]
     },
     "metadata": {},
     "output_type": "display_data"
    },
    {
     "name": "stdout",
     "output_type": "stream",
     "text": [
      "Epoch: [95][0/40]\tTime 1.260 (1.260)\tData 1.197 (1.197)\tLoss 0.7439 (0.7439)\tPrec@1 78.125 (78.125)\n",
      "Test: [0/10]\tTime 0.819 (0.819)\tLoss 0.5588 (0.5588)\tPrec@1 80.566 (80.566)\n",
      " * Prec@1 79.760\n",
      "alpha1 7.001771450042725\n",
      "Best prec1 :  80.3599998046875\n",
      "current lr 5.55312e-04\n"
     ]
    },
    {
     "data": {
      "application/vnd.jupyter.widget-view+json": {
       "model_id": "5a552cbc2bca4f5b9d4ac5ab6cf416cd",
       "version_major": 2,
       "version_minor": 0
      },
      "text/plain": [
       "  0%|          | 0/40 [00:00<?, ?it/s]"
      ]
     },
     "metadata": {},
     "output_type": "display_data"
    },
    {
     "name": "stdout",
     "output_type": "stream",
     "text": [
      "Epoch: [96][0/40]\tTime 1.344 (1.344)\tData 1.282 (1.282)\tLoss 0.7777 (0.7777)\tPrec@1 76.465 (76.465)\n",
      "Test: [0/10]\tTime 0.794 (0.794)\tLoss 0.5425 (0.5425)\tPrec@1 80.957 (80.957)\n",
      " * Prec@1 80.370\n",
      "alpha1 6.981343746185303\n",
      "Best prec1 :  80.36999993896484\n",
      "current lr 5.47507e-04\n"
     ]
    },
    {
     "data": {
      "application/vnd.jupyter.widget-view+json": {
       "model_id": "655d1771326d4cd2b084e67785a76e10",
       "version_major": 2,
       "version_minor": 0
      },
      "text/plain": [
       "  0%|          | 0/40 [00:00<?, ?it/s]"
      ]
     },
     "metadata": {},
     "output_type": "display_data"
    },
    {
     "name": "stdout",
     "output_type": "stream",
     "text": [
      "Epoch: [97][0/40]\tTime 1.527 (1.527)\tData 1.464 (1.464)\tLoss 0.7734 (0.7734)\tPrec@1 77.246 (77.246)\n",
      "Test: [0/10]\tTime 0.815 (0.815)\tLoss 0.5243 (0.5243)\tPrec@1 81.348 (81.348)\n",
      " * Prec@1 80.500\n",
      "alpha1 6.961202144622803\n",
      "Best prec1 :  80.49999990234375\n",
      "current lr 5.39690e-04\n"
     ]
    },
    {
     "data": {
      "application/vnd.jupyter.widget-view+json": {
       "model_id": "365f422830894798ad236d8a28e8ddb8",
       "version_major": 2,
       "version_minor": 0
      },
      "text/plain": [
       "  0%|          | 0/40 [00:00<?, ?it/s]"
      ]
     },
     "metadata": {},
     "output_type": "display_data"
    },
    {
     "name": "stdout",
     "output_type": "stream",
     "text": [
      "Epoch: [98][0/40]\tTime 1.226 (1.226)\tData 1.154 (1.154)\tLoss 0.7615 (0.7615)\tPrec@1 75.879 (75.879)\n",
      "Test: [0/10]\tTime 0.781 (0.781)\tLoss 0.5168 (0.5168)\tPrec@1 82.129 (82.129)\n",
      " * Prec@1 80.640\n",
      "alpha1 6.941346645355225\n",
      "Best prec1 :  80.64000015869141\n",
      "current lr 5.31864e-04\n"
     ]
    },
    {
     "data": {
      "application/vnd.jupyter.widget-view+json": {
       "model_id": "37956f6eeb434b9083642d2f16d04b49",
       "version_major": 2,
       "version_minor": 0
      },
      "text/plain": [
       "  0%|          | 0/40 [00:00<?, ?it/s]"
      ]
     },
     "metadata": {},
     "output_type": "display_data"
    },
    {
     "name": "stdout",
     "output_type": "stream",
     "text": [
      "Epoch: [99][0/40]\tTime 1.364 (1.364)\tData 1.301 (1.301)\tLoss 0.7376 (0.7376)\tPrec@1 77.930 (77.930)\n",
      "Test: [0/10]\tTime 0.812 (0.812)\tLoss 0.5288 (0.5288)\tPrec@1 82.812 (82.812)\n",
      " * Prec@1 80.590\n",
      "alpha1 6.9217681884765625\n",
      "Best prec1 :  80.64000015869141\n",
      "current lr 5.24030e-04\n"
     ]
    },
    {
     "data": {
      "application/vnd.jupyter.widget-view+json": {
       "model_id": "88713d866c1949ca836d061b906300b8",
       "version_major": 2,
       "version_minor": 0
      },
      "text/plain": [
       "  0%|          | 0/40 [00:00<?, ?it/s]"
      ]
     },
     "metadata": {},
     "output_type": "display_data"
    },
    {
     "name": "stdout",
     "output_type": "stream",
     "text": [
      "Epoch: [100][0/40]\tTime 1.197 (1.197)\tData 1.131 (1.131)\tLoss 0.7898 (0.7898)\tPrec@1 77.148 (77.148)\n",
      "Test: [0/10]\tTime 0.803 (0.803)\tLoss 0.5187 (0.5187)\tPrec@1 82.129 (82.129)\n",
      " * Prec@1 80.800\n",
      "alpha1 6.9024658203125\n",
      "Best prec1 :  80.7999998046875\n",
      "current lr 5.16190e-04\n"
     ]
    },
    {
     "data": {
      "application/vnd.jupyter.widget-view+json": {
       "model_id": "20f7ddbc45ec410b99b8f3030e0b7714",
       "version_major": 2,
       "version_minor": 0
      },
      "text/plain": [
       "  0%|          | 0/40 [00:00<?, ?it/s]"
      ]
     },
     "metadata": {},
     "output_type": "display_data"
    },
    {
     "name": "stdout",
     "output_type": "stream",
     "text": [
      "Epoch: [101][0/40]\tTime 1.359 (1.359)\tData 1.294 (1.294)\tLoss 0.7184 (0.7184)\tPrec@1 77.832 (77.832)\n",
      "Test: [0/10]\tTime 0.748 (0.748)\tLoss 0.5070 (0.5070)\tPrec@1 81.641 (81.641)\n",
      " * Prec@1 80.240\n",
      "alpha1 6.883449554443359\n",
      "Best prec1 :  80.7999998046875\n",
      "current lr 5.08346e-04\n"
     ]
    },
    {
     "data": {
      "application/vnd.jupyter.widget-view+json": {
       "model_id": "36f9dba7e2cc4baebeac1a97676cef79",
       "version_major": 2,
       "version_minor": 0
      },
      "text/plain": [
       "  0%|          | 0/40 [00:00<?, ?it/s]"
      ]
     },
     "metadata": {},
     "output_type": "display_data"
    },
    {
     "name": "stdout",
     "output_type": "stream",
     "text": [
      "Epoch: [102][0/40]\tTime 1.538 (1.538)\tData 1.475 (1.475)\tLoss 0.7239 (0.7239)\tPrec@1 78.027 (78.027)\n",
      "Test: [0/10]\tTime 0.707 (0.707)\tLoss 0.5438 (0.5438)\tPrec@1 81.738 (81.738)\n",
      " * Prec@1 80.140\n",
      "alpha1 6.864719390869141\n",
      "Best prec1 :  80.7999998046875\n",
      "current lr 5.00500e-04\n"
     ]
    },
    {
     "data": {
      "application/vnd.jupyter.widget-view+json": {
       "model_id": "eee9cc05a9de44a7a660dacf9014ce93",
       "version_major": 2,
       "version_minor": 0
      },
      "text/plain": [
       "  0%|          | 0/40 [00:00<?, ?it/s]"
      ]
     },
     "metadata": {},
     "output_type": "display_data"
    },
    {
     "name": "stdout",
     "output_type": "stream",
     "text": [
      "Epoch: [103][0/40]\tTime 1.525 (1.525)\tData 1.460 (1.460)\tLoss 0.7179 (0.7179)\tPrec@1 77.539 (77.539)\n",
      "Test: [0/10]\tTime 0.802 (0.802)\tLoss 0.5392 (0.5392)\tPrec@1 80.957 (80.957)\n",
      " * Prec@1 80.110\n",
      "alpha1 6.846275329589844\n",
      "Best prec1 :  80.7999998046875\n",
      "current lr 4.92654e-04\n"
     ]
    },
    {
     "data": {
      "application/vnd.jupyter.widget-view+json": {
       "model_id": "3f4903326d1c4fb2bb82a6dcc742a2a0",
       "version_major": 2,
       "version_minor": 0
      },
      "text/plain": [
       "  0%|          | 0/40 [00:00<?, ?it/s]"
      ]
     },
     "metadata": {},
     "output_type": "display_data"
    },
    {
     "name": "stdout",
     "output_type": "stream",
     "text": [
      "Epoch: [104][0/40]\tTime 1.535 (1.535)\tData 1.472 (1.472)\tLoss 0.7379 (0.7379)\tPrec@1 77.637 (77.637)\n",
      "Test: [0/10]\tTime 0.805 (0.805)\tLoss 0.5385 (0.5385)\tPrec@1 81.836 (81.836)\n",
      " * Prec@1 80.960\n",
      "alpha1 6.82810640335083\n",
      "Best prec1 :  80.95999987792969\n",
      "current lr 4.84810e-04\n"
     ]
    },
    {
     "data": {
      "application/vnd.jupyter.widget-view+json": {
       "model_id": "370689bdce154a768910d665e5f37ba3",
       "version_major": 2,
       "version_minor": 0
      },
      "text/plain": [
       "  0%|          | 0/40 [00:00<?, ?it/s]"
      ]
     },
     "metadata": {},
     "output_type": "display_data"
    },
    {
     "name": "stdout",
     "output_type": "stream",
     "text": [
      "Epoch: [105][0/40]\tTime 1.221 (1.221)\tData 1.158 (1.158)\tLoss 0.6914 (0.6914)\tPrec@1 79.395 (79.395)\n",
      "Test: [0/10]\tTime 0.716 (0.716)\tLoss 0.5400 (0.5400)\tPrec@1 80.957 (80.957)\n",
      " * Prec@1 80.160\n",
      "alpha1 6.810215473175049\n",
      "Best prec1 :  80.95999987792969\n",
      "current lr 4.76970e-04\n"
     ]
    },
    {
     "data": {
      "application/vnd.jupyter.widget-view+json": {
       "model_id": "3092930e3f80478da6b9abd1f420273a",
       "version_major": 2,
       "version_minor": 0
      },
      "text/plain": [
       "  0%|          | 0/40 [00:00<?, ?it/s]"
      ]
     },
     "metadata": {},
     "output_type": "display_data"
    },
    {
     "name": "stdout",
     "output_type": "stream",
     "text": [
      "Epoch: [106][0/40]\tTime 1.252 (1.252)\tData 1.187 (1.187)\tLoss 0.7615 (0.7615)\tPrec@1 76.855 (76.855)\n",
      "Test: [0/10]\tTime 0.746 (0.746)\tLoss 0.5269 (0.5269)\tPrec@1 81.641 (81.641)\n",
      " * Prec@1 80.990\n",
      "alpha1 6.7926106452941895\n",
      "Best prec1 :  80.99000021972657\n",
      "current lr 4.69136e-04\n"
     ]
    },
    {
     "data": {
      "application/vnd.jupyter.widget-view+json": {
       "model_id": "9a924f898ce3491fb4b7595da15664cb",
       "version_major": 2,
       "version_minor": 0
      },
      "text/plain": [
       "  0%|          | 0/40 [00:00<?, ?it/s]"
      ]
     },
     "metadata": {},
     "output_type": "display_data"
    },
    {
     "name": "stdout",
     "output_type": "stream",
     "text": [
      "Epoch: [107][0/40]\tTime 1.535 (1.535)\tData 1.471 (1.471)\tLoss 0.7251 (0.7251)\tPrec@1 78.613 (78.613)\n",
      "Test: [0/10]\tTime 0.718 (0.718)\tLoss 0.5308 (0.5308)\tPrec@1 81.738 (81.738)\n",
      " * Prec@1 80.520\n",
      "alpha1 6.775291919708252\n",
      "Best prec1 :  80.99000021972657\n",
      "current lr 4.61310e-04\n"
     ]
    },
    {
     "data": {
      "application/vnd.jupyter.widget-view+json": {
       "model_id": "6c2a22946eb44aa5a15b5a02c7bfc337",
       "version_major": 2,
       "version_minor": 0
      },
      "text/plain": [
       "  0%|          | 0/40 [00:00<?, ?it/s]"
      ]
     },
     "metadata": {},
     "output_type": "display_data"
    },
    {
     "name": "stdout",
     "output_type": "stream",
     "text": [
      "Epoch: [108][0/40]\tTime 1.481 (1.481)\tData 1.415 (1.415)\tLoss 0.7506 (0.7506)\tPrec@1 77.832 (77.832)\n",
      "Test: [0/10]\tTime 0.708 (0.708)\tLoss 0.5272 (0.5272)\tPrec@1 81.543 (81.543)\n",
      " * Prec@1 80.910\n",
      "alpha1 6.7582502365112305\n",
      "Best prec1 :  80.99000021972657\n",
      "current lr 4.53493e-04\n"
     ]
    },
    {
     "data": {
      "application/vnd.jupyter.widget-view+json": {
       "model_id": "653c18643ebb432094b7d38444737ae4",
       "version_major": 2,
       "version_minor": 0
      },
      "text/plain": [
       "  0%|          | 0/40 [00:00<?, ?it/s]"
      ]
     },
     "metadata": {},
     "output_type": "display_data"
    },
    {
     "name": "stdout",
     "output_type": "stream",
     "text": [
      "Epoch: [109][0/40]\tTime 1.559 (1.559)\tData 1.495 (1.495)\tLoss 0.6645 (0.6645)\tPrec@1 80.078 (80.078)\n",
      "Test: [0/10]\tTime 0.813 (0.813)\tLoss 0.5371 (0.5371)\tPrec@1 82.324 (82.324)\n",
      " * Prec@1 80.730\n",
      "alpha1 6.741484642028809\n",
      "Best prec1 :  80.99000021972657\n",
      "current lr 4.45688e-04\n"
     ]
    },
    {
     "data": {
      "application/vnd.jupyter.widget-view+json": {
       "model_id": "cadf8e0f5dfa4ec1ac5627b65d5fc548",
       "version_major": 2,
       "version_minor": 0
      },
      "text/plain": [
       "  0%|          | 0/40 [00:00<?, ?it/s]"
      ]
     },
     "metadata": {},
     "output_type": "display_data"
    },
    {
     "name": "stdout",
     "output_type": "stream",
     "text": [
      "Epoch: [110][0/40]\tTime 1.208 (1.208)\tData 1.145 (1.145)\tLoss 0.6980 (0.6980)\tPrec@1 78.027 (78.027)\n",
      "Test: [0/10]\tTime 0.780 (0.780)\tLoss 0.5104 (0.5104)\tPrec@1 82.812 (82.812)\n",
      " * Prec@1 80.940\n",
      "alpha1 6.725005149841309\n",
      "Best prec1 :  80.99000021972657\n",
      "current lr 4.37896e-04\n"
     ]
    },
    {
     "data": {
      "application/vnd.jupyter.widget-view+json": {
       "model_id": "6a36fffd4ee84e23a8df99502b83a2c1",
       "version_major": 2,
       "version_minor": 0
      },
      "text/plain": [
       "  0%|          | 0/40 [00:00<?, ?it/s]"
      ]
     },
     "metadata": {},
     "output_type": "display_data"
    },
    {
     "name": "stdout",
     "output_type": "stream",
     "text": [
      "Epoch: [111][0/40]\tTime 1.555 (1.555)\tData 1.492 (1.492)\tLoss 0.6904 (0.6904)\tPrec@1 79.590 (79.590)\n",
      "Test: [0/10]\tTime 0.711 (0.711)\tLoss 0.5233 (0.5233)\tPrec@1 82.520 (82.520)\n",
      " * Prec@1 80.640\n",
      "alpha1 6.708806037902832\n",
      "Best prec1 :  80.99000021972657\n",
      "current lr 4.30120e-04\n"
     ]
    },
    {
     "data": {
      "application/vnd.jupyter.widget-view+json": {
       "model_id": "9504b61f7a244409b2bbbb5248fef53d",
       "version_major": 2,
       "version_minor": 0
      },
      "text/plain": [
       "  0%|          | 0/40 [00:00<?, ?it/s]"
      ]
     },
     "metadata": {},
     "output_type": "display_data"
    },
    {
     "name": "stdout",
     "output_type": "stream",
     "text": [
      "Epoch: [112][0/40]\tTime 1.514 (1.514)\tData 1.451 (1.451)\tLoss 0.7368 (0.7368)\tPrec@1 77.539 (77.539)\n",
      "Test: [0/10]\tTime 0.815 (0.815)\tLoss 0.5228 (0.5228)\tPrec@1 82.227 (82.227)\n",
      " * Prec@1 80.840\n",
      "alpha1 6.692879676818848\n",
      "Best prec1 :  80.99000021972657\n",
      "current lr 4.22361e-04\n"
     ]
    },
    {
     "data": {
      "application/vnd.jupyter.widget-view+json": {
       "model_id": "28be038345e542e5a8c95a3b1b34cd75",
       "version_major": 2,
       "version_minor": 0
      },
      "text/plain": [
       "  0%|          | 0/40 [00:00<?, ?it/s]"
      ]
     },
     "metadata": {},
     "output_type": "display_data"
    },
    {
     "name": "stdout",
     "output_type": "stream",
     "text": [
      "Epoch: [113][0/40]\tTime 1.489 (1.489)\tData 1.426 (1.426)\tLoss 0.7291 (0.7291)\tPrec@1 78.906 (78.906)\n",
      "Test: [0/10]\tTime 0.722 (0.722)\tLoss 0.5467 (0.5467)\tPrec@1 81.934 (81.934)\n",
      " * Prec@1 80.550\n",
      "alpha1 6.677239418029785\n",
      "Best prec1 :  80.99000021972657\n",
      "current lr 4.14621e-04\n"
     ]
    },
    {
     "data": {
      "application/vnd.jupyter.widget-view+json": {
       "model_id": "9e87370daddf4ee4a160b9e69db32979",
       "version_major": 2,
       "version_minor": 0
      },
      "text/plain": [
       "  0%|          | 0/40 [00:00<?, ?it/s]"
      ]
     },
     "metadata": {},
     "output_type": "display_data"
    },
    {
     "name": "stdout",
     "output_type": "stream",
     "text": [
      "Epoch: [114][0/40]\tTime 1.223 (1.223)\tData 1.160 (1.160)\tLoss 0.6949 (0.6949)\tPrec@1 79.590 (79.590)\n",
      "Test: [0/10]\tTime 0.789 (0.789)\tLoss 0.5190 (0.5190)\tPrec@1 81.934 (81.934)\n",
      " * Prec@1 80.980\n",
      "alpha1 6.661871910095215\n",
      "Best prec1 :  80.99000021972657\n",
      "current lr 4.06903e-04\n"
     ]
    },
    {
     "data": {
      "application/vnd.jupyter.widget-view+json": {
       "model_id": "1a5b59cea97c4eb78da22e6435df6d03",
       "version_major": 2,
       "version_minor": 0
      },
      "text/plain": [
       "  0%|          | 0/40 [00:00<?, ?it/s]"
      ]
     },
     "metadata": {},
     "output_type": "display_data"
    },
    {
     "name": "stdout",
     "output_type": "stream",
     "text": [
      "Epoch: [115][0/40]\tTime 1.200 (1.200)\tData 1.138 (1.138)\tLoss 0.7115 (0.7115)\tPrec@1 78.027 (78.027)\n",
      "Test: [0/10]\tTime 0.812 (0.812)\tLoss 0.5463 (0.5463)\tPrec@1 81.543 (81.543)\n",
      " * Prec@1 80.960\n",
      "alpha1 6.646784782409668\n",
      "Best prec1 :  80.99000021972657\n",
      "current lr 3.99208e-04\n"
     ]
    },
    {
     "data": {
      "application/vnd.jupyter.widget-view+json": {
       "model_id": "116aebc3eb1541439302be2844ea344a",
       "version_major": 2,
       "version_minor": 0
      },
      "text/plain": [
       "  0%|          | 0/40 [00:00<?, ?it/s]"
      ]
     },
     "metadata": {},
     "output_type": "display_data"
    },
    {
     "name": "stdout",
     "output_type": "stream",
     "text": [
      "Epoch: [116][0/40]\tTime 1.263 (1.263)\tData 1.200 (1.200)\tLoss 0.7164 (0.7164)\tPrec@1 78.809 (78.809)\n",
      "Test: [0/10]\tTime 0.812 (0.812)\tLoss 0.5232 (0.5232)\tPrec@1 83.105 (83.105)\n",
      " * Prec@1 81.010\n",
      "alpha1 6.631972312927246\n",
      "Best prec1 :  81.01000002441407\n",
      "current lr 3.91537e-04\n"
     ]
    },
    {
     "data": {
      "application/vnd.jupyter.widget-view+json": {
       "model_id": "8a69e1ebb927498f87f59fc415583d59",
       "version_major": 2,
       "version_minor": 0
      },
      "text/plain": [
       "  0%|          | 0/40 [00:00<?, ?it/s]"
      ]
     },
     "metadata": {},
     "output_type": "display_data"
    },
    {
     "name": "stdout",
     "output_type": "stream",
     "text": [
      "Epoch: [117][0/40]\tTime 1.231 (1.231)\tData 1.164 (1.164)\tLoss 0.6756 (0.6756)\tPrec@1 80.957 (80.957)\n",
      "Test: [0/10]\tTime 0.832 (0.832)\tLoss 0.4861 (0.4861)\tPrec@1 83.203 (83.203)\n",
      " * Prec@1 81.470\n",
      "alpha1 6.617438316345215\n",
      "Best prec1 :  81.47000021972656\n",
      "current lr 3.83894e-04\n"
     ]
    },
    {
     "data": {
      "application/vnd.jupyter.widget-view+json": {
       "model_id": "8f8c96101807492dafd2ce89169d10e5",
       "version_major": 2,
       "version_minor": 0
      },
      "text/plain": [
       "  0%|          | 0/40 [00:00<?, ?it/s]"
      ]
     },
     "metadata": {},
     "output_type": "display_data"
    },
    {
     "name": "stdout",
     "output_type": "stream",
     "text": [
      "Epoch: [118][0/40]\tTime 1.500 (1.500)\tData 1.438 (1.438)\tLoss 0.6717 (0.6717)\tPrec@1 79.688 (79.688)\n",
      "Test: [0/10]\tTime 0.847 (0.847)\tLoss 0.5076 (0.5076)\tPrec@1 82.520 (82.520)\n",
      " * Prec@1 81.240\n",
      "alpha1 6.603173732757568\n",
      "Best prec1 :  81.47000021972656\n",
      "current lr 3.76279e-04\n"
     ]
    },
    {
     "data": {
      "application/vnd.jupyter.widget-view+json": {
       "model_id": "d28423c43de140b4a3cff8ca8bbcfc23",
       "version_major": 2,
       "version_minor": 0
      },
      "text/plain": [
       "  0%|          | 0/40 [00:00<?, ?it/s]"
      ]
     },
     "metadata": {},
     "output_type": "display_data"
    },
    {
     "name": "stdout",
     "output_type": "stream",
     "text": [
      "Epoch: [119][0/40]\tTime 1.573 (1.573)\tData 1.510 (1.510)\tLoss 0.6673 (0.6673)\tPrec@1 80.371 (80.371)\n",
      "Test: [0/10]\tTime 0.706 (0.706)\tLoss 0.5122 (0.5122)\tPrec@1 83.301 (83.301)\n",
      " * Prec@1 81.440\n",
      "alpha1 6.58919095993042\n",
      "Best prec1 :  81.47000021972656\n",
      "current lr 3.68695e-04\n"
     ]
    },
    {
     "data": {
      "application/vnd.jupyter.widget-view+json": {
       "model_id": "1d6ae1b683c74e7e94d744e3bbe23024",
       "version_major": 2,
       "version_minor": 0
      },
      "text/plain": [
       "  0%|          | 0/40 [00:00<?, ?it/s]"
      ]
     },
     "metadata": {},
     "output_type": "display_data"
    },
    {
     "name": "stdout",
     "output_type": "stream",
     "text": [
      "Epoch: [120][0/40]\tTime 1.495 (1.495)\tData 1.432 (1.432)\tLoss 0.6685 (0.6685)\tPrec@1 80.176 (80.176)\n",
      "Test: [0/10]\tTime 0.722 (0.722)\tLoss 0.5305 (0.5305)\tPrec@1 81.738 (81.738)\n",
      " * Prec@1 80.690\n",
      "alpha1 6.575477123260498\n",
      "Best prec1 :  81.47000021972656\n",
      "current lr 3.61144e-04\n"
     ]
    },
    {
     "data": {
      "application/vnd.jupyter.widget-view+json": {
       "model_id": "a4220c5e24c0463ea158cc651e6e573d",
       "version_major": 2,
       "version_minor": 0
      },
      "text/plain": [
       "  0%|          | 0/40 [00:00<?, ?it/s]"
      ]
     },
     "metadata": {},
     "output_type": "display_data"
    },
    {
     "name": "stdout",
     "output_type": "stream",
     "text": [
      "Epoch: [121][0/40]\tTime 1.527 (1.527)\tData 1.462 (1.462)\tLoss 0.6777 (0.6777)\tPrec@1 79.004 (79.004)\n",
      "Test: [0/10]\tTime 0.704 (0.704)\tLoss 0.5147 (0.5147)\tPrec@1 82.129 (82.129)\n",
      " * Prec@1 81.270\n",
      "alpha1 6.56203031539917\n",
      "Best prec1 :  81.47000021972656\n",
      "current lr 3.53627e-04\n"
     ]
    },
    {
     "data": {
      "application/vnd.jupyter.widget-view+json": {
       "model_id": "415dd6719c5c4be8a0ece7bc28c30d1b",
       "version_major": 2,
       "version_minor": 0
      },
      "text/plain": [
       "  0%|          | 0/40 [00:00<?, ?it/s]"
      ]
     },
     "metadata": {},
     "output_type": "display_data"
    },
    {
     "name": "stdout",
     "output_type": "stream",
     "text": [
      "Epoch: [122][0/40]\tTime 1.561 (1.561)\tData 1.496 (1.496)\tLoss 0.6416 (0.6416)\tPrec@1 80.078 (80.078)\n",
      "Test: [0/10]\tTime 0.780 (0.780)\tLoss 0.5238 (0.5238)\tPrec@1 83.008 (83.008)\n",
      " * Prec@1 80.830\n",
      "alpha1 6.548858642578125\n",
      "Best prec1 :  81.47000021972656\n",
      "current lr 3.46146e-04\n"
     ]
    },
    {
     "data": {
      "application/vnd.jupyter.widget-view+json": {
       "model_id": "6ce5b8ff3cd34a5280818e7cf189c488",
       "version_major": 2,
       "version_minor": 0
      },
      "text/plain": [
       "  0%|          | 0/40 [00:00<?, ?it/s]"
      ]
     },
     "metadata": {},
     "output_type": "display_data"
    },
    {
     "name": "stdout",
     "output_type": "stream",
     "text": [
      "Epoch: [123][0/40]\tTime 1.253 (1.253)\tData 1.188 (1.188)\tLoss 0.6401 (0.6401)\tPrec@1 80.566 (80.566)\n",
      "Test: [0/10]\tTime 0.847 (0.847)\tLoss 0.5348 (0.5348)\tPrec@1 82.715 (82.715)\n",
      " * Prec@1 80.840\n",
      "alpha1 6.5359601974487305\n",
      "Best prec1 :  81.47000021972656\n",
      "current lr 3.38703e-04\n"
     ]
    },
    {
     "data": {
      "application/vnd.jupyter.widget-view+json": {
       "model_id": "731e6a7f551543beb3ea413cb4724cde",
       "version_major": 2,
       "version_minor": 0
      },
      "text/plain": [
       "  0%|          | 0/40 [00:00<?, ?it/s]"
      ]
     },
     "metadata": {},
     "output_type": "display_data"
    },
    {
     "name": "stdout",
     "output_type": "stream",
     "text": [
      "Epoch: [124][0/40]\tTime 1.110 (1.110)\tData 1.044 (1.044)\tLoss 0.6715 (0.6715)\tPrec@1 79.297 (79.297)\n",
      "Test: [0/10]\tTime 0.729 (0.729)\tLoss 0.5214 (0.5214)\tPrec@1 82.422 (82.422)\n",
      " * Prec@1 81.190\n",
      "alpha1 6.523332118988037\n",
      "Best prec1 :  81.47000021972656\n",
      "current lr 3.31300e-04\n"
     ]
    },
    {
     "data": {
      "application/vnd.jupyter.widget-view+json": {
       "model_id": "434586ff6df54eb49523ff937526f890",
       "version_major": 2,
       "version_minor": 0
      },
      "text/plain": [
       "  0%|          | 0/40 [00:00<?, ?it/s]"
      ]
     },
     "metadata": {},
     "output_type": "display_data"
    },
    {
     "name": "stdout",
     "output_type": "stream",
     "text": [
      "Epoch: [125][0/40]\tTime 1.115 (1.115)\tData 1.046 (1.046)\tLoss 0.6132 (0.6132)\tPrec@1 81.641 (81.641)\n",
      "Test: [0/10]\tTime 0.840 (0.840)\tLoss 0.5363 (0.5363)\tPrec@1 82.324 (82.324)\n",
      " * Prec@1 80.880\n",
      "alpha1 6.510971546173096\n",
      "Best prec1 :  81.47000021972656\n",
      "current lr 3.23939e-04\n"
     ]
    },
    {
     "data": {
      "application/vnd.jupyter.widget-view+json": {
       "model_id": "1c109ae1e46f436a814e356b66af0d85",
       "version_major": 2,
       "version_minor": 0
      },
      "text/plain": [
       "  0%|          | 0/40 [00:00<?, ?it/s]"
      ]
     },
     "metadata": {},
     "output_type": "display_data"
    },
    {
     "name": "stdout",
     "output_type": "stream",
     "text": [
      "Epoch: [126][0/40]\tTime 1.533 (1.533)\tData 1.470 (1.470)\tLoss 0.6439 (0.6439)\tPrec@1 80.859 (80.859)\n",
      "Test: [0/10]\tTime 0.742 (0.742)\tLoss 0.5440 (0.5440)\tPrec@1 81.836 (81.836)\n",
      " * Prec@1 81.020\n",
      "alpha1 6.498875617980957\n",
      "Best prec1 :  81.47000021972656\n",
      "current lr 3.16622e-04\n"
     ]
    },
    {
     "data": {
      "application/vnd.jupyter.widget-view+json": {
       "model_id": "85d34a64029842c1922b7864a4adab95",
       "version_major": 2,
       "version_minor": 0
      },
      "text/plain": [
       "  0%|          | 0/40 [00:00<?, ?it/s]"
      ]
     },
     "metadata": {},
     "output_type": "display_data"
    },
    {
     "name": "stdout",
     "output_type": "stream",
     "text": [
      "Epoch: [127][0/40]\tTime 1.439 (1.439)\tData 1.375 (1.375)\tLoss 0.6972 (0.6972)\tPrec@1 78.320 (78.320)\n",
      "Test: [0/10]\tTime 0.727 (0.727)\tLoss 0.5246 (0.5246)\tPrec@1 82.422 (82.422)\n",
      " * Prec@1 81.540\n",
      "alpha1 6.48704195022583\n",
      "Best prec1 :  81.54000015869141\n",
      "current lr 3.09350e-04\n"
     ]
    },
    {
     "data": {
      "application/vnd.jupyter.widget-view+json": {
       "model_id": "b942f47e0cec4cc1984e177bc1c682aa",
       "version_major": 2,
       "version_minor": 0
      },
      "text/plain": [
       "  0%|          | 0/40 [00:00<?, ?it/s]"
      ]
     },
     "metadata": {},
     "output_type": "display_data"
    },
    {
     "name": "stdout",
     "output_type": "stream",
     "text": [
      "Epoch: [128][0/40]\tTime 1.334 (1.334)\tData 1.271 (1.271)\tLoss 0.6484 (0.6484)\tPrec@1 80.566 (80.566)\n",
      "Test: [0/10]\tTime 0.767 (0.767)\tLoss 0.5267 (0.5267)\tPrec@1 81.934 (81.934)\n",
      " * Prec@1 80.890\n",
      "alpha1 6.475466728210449\n",
      "Best prec1 :  81.54000015869141\n",
      "current lr 3.02125e-04\n"
     ]
    },
    {
     "data": {
      "application/vnd.jupyter.widget-view+json": {
       "model_id": "55948764d58847e5b2c509f466406dc4",
       "version_major": 2,
       "version_minor": 0
      },
      "text/plain": [
       "  0%|          | 0/40 [00:00<?, ?it/s]"
      ]
     },
     "metadata": {},
     "output_type": "display_data"
    },
    {
     "name": "stdout",
     "output_type": "stream",
     "text": [
      "Epoch: [129][0/40]\tTime 1.597 (1.597)\tData 1.532 (1.532)\tLoss 0.6639 (0.6639)\tPrec@1 79.199 (79.199)\n",
      "Test: [0/10]\tTime 0.810 (0.810)\tLoss 0.5402 (0.5402)\tPrec@1 81.934 (81.934)\n",
      " * Prec@1 81.220\n",
      "alpha1 6.464156150817871\n",
      "Best prec1 :  81.54000015869141\n",
      "current lr 2.94949e-04\n"
     ]
    },
    {
     "data": {
      "application/vnd.jupyter.widget-view+json": {
       "model_id": "11d9b8c2e1ed45e581a7da622f5c7892",
       "version_major": 2,
       "version_minor": 0
      },
      "text/plain": [
       "  0%|          | 0/40 [00:00<?, ?it/s]"
      ]
     },
     "metadata": {},
     "output_type": "display_data"
    },
    {
     "name": "stdout",
     "output_type": "stream",
     "text": [
      "Epoch: [130][0/40]\tTime 1.230 (1.230)\tData 1.166 (1.166)\tLoss 0.6266 (0.6266)\tPrec@1 81.348 (81.348)\n",
      "Test: [0/10]\tTime 0.760 (0.760)\tLoss 0.5231 (0.5231)\tPrec@1 82.422 (82.422)\n",
      " * Prec@1 81.790\n",
      "alpha1 6.45311164855957\n",
      "Best prec1 :  81.7900000366211\n",
      "current lr 2.87823e-04\n"
     ]
    },
    {
     "data": {
      "application/vnd.jupyter.widget-view+json": {
       "model_id": "909691f84b954865a9e3df56b644bedd",
       "version_major": 2,
       "version_minor": 0
      },
      "text/plain": [
       "  0%|          | 0/40 [00:00<?, ?it/s]"
      ]
     },
     "metadata": {},
     "output_type": "display_data"
    },
    {
     "name": "stdout",
     "output_type": "stream",
     "text": [
      "Epoch: [131][0/40]\tTime 1.152 (1.152)\tData 1.089 (1.089)\tLoss 0.7054 (0.7054)\tPrec@1 76.855 (76.855)\n",
      "Test: [0/10]\tTime 0.758 (0.758)\tLoss 0.5193 (0.5193)\tPrec@1 82.617 (82.617)\n",
      " * Prec@1 81.370\n",
      "alpha1 6.442316055297852\n",
      "Best prec1 :  81.7900000366211\n",
      "current lr 2.80750e-04\n"
     ]
    },
    {
     "data": {
      "application/vnd.jupyter.widget-view+json": {
       "model_id": "332425c745dc417894d6bc235e923474",
       "version_major": 2,
       "version_minor": 0
      },
      "text/plain": [
       "  0%|          | 0/40 [00:00<?, ?it/s]"
      ]
     },
     "metadata": {},
     "output_type": "display_data"
    },
    {
     "name": "stdout",
     "output_type": "stream",
     "text": [
      "Epoch: [132][0/40]\tTime 1.406 (1.406)\tData 1.343 (1.343)\tLoss 0.6540 (0.6540)\tPrec@1 79.883 (79.883)\n",
      "Test: [0/10]\tTime 0.715 (0.715)\tLoss 0.5133 (0.5133)\tPrec@1 83.105 (83.105)\n",
      " * Prec@1 81.310\n",
      "alpha1 6.431787490844727\n",
      "Best prec1 :  81.7900000366211\n",
      "current lr 2.73732e-04\n"
     ]
    },
    {
     "data": {
      "application/vnd.jupyter.widget-view+json": {
       "model_id": "59a72b994ea54bd798f345d5649aeae2",
       "version_major": 2,
       "version_minor": 0
      },
      "text/plain": [
       "  0%|          | 0/40 [00:00<?, ?it/s]"
      ]
     },
     "metadata": {},
     "output_type": "display_data"
    },
    {
     "name": "stdout",
     "output_type": "stream",
     "text": [
      "Epoch: [133][0/40]\tTime 1.383 (1.383)\tData 1.320 (1.320)\tLoss 0.6300 (0.6300)\tPrec@1 81.738 (81.738)\n",
      "Test: [0/10]\tTime 0.874 (0.874)\tLoss 0.5265 (0.5265)\tPrec@1 82.715 (82.715)\n",
      " * Prec@1 81.540\n",
      "alpha1 6.421506881713867\n",
      "Best prec1 :  81.7900000366211\n",
      "current lr 2.66769e-04\n"
     ]
    },
    {
     "data": {
      "application/vnd.jupyter.widget-view+json": {
       "model_id": "b5cbe323437f4e65a0c15538b43a8c9e",
       "version_major": 2,
       "version_minor": 0
      },
      "text/plain": [
       "  0%|          | 0/40 [00:00<?, ?it/s]"
      ]
     },
     "metadata": {},
     "output_type": "display_data"
    },
    {
     "name": "stdout",
     "output_type": "stream",
     "text": [
      "Epoch: [134][0/40]\tTime 1.474 (1.474)\tData 1.407 (1.407)\tLoss 0.6990 (0.6990)\tPrec@1 78.711 (78.711)\n",
      "Test: [0/10]\tTime 0.818 (0.818)\tLoss 0.5135 (0.5135)\tPrec@1 83.984 (83.984)\n",
      " * Prec@1 81.510\n",
      "alpha1 6.4114789962768555\n",
      "Best prec1 :  81.7900000366211\n",
      "current lr 2.59864e-04\n"
     ]
    },
    {
     "data": {
      "application/vnd.jupyter.widget-view+json": {
       "model_id": "d19064e53e354465beb656f7be43adae",
       "version_major": 2,
       "version_minor": 0
      },
      "text/plain": [
       "  0%|          | 0/40 [00:00<?, ?it/s]"
      ]
     },
     "metadata": {},
     "output_type": "display_data"
    },
    {
     "name": "stdout",
     "output_type": "stream",
     "text": [
      "Epoch: [135][0/40]\tTime 1.551 (1.551)\tData 1.486 (1.486)\tLoss 0.6724 (0.6724)\tPrec@1 79.395 (79.395)\n",
      "Test: [0/10]\tTime 0.727 (0.727)\tLoss 0.5153 (0.5153)\tPrec@1 82.520 (82.520)\n",
      " * Prec@1 81.460\n",
      "alpha1 6.401708126068115\n",
      "Best prec1 :  81.7900000366211\n",
      "current lr 2.53018e-04\n"
     ]
    },
    {
     "data": {
      "application/vnd.jupyter.widget-view+json": {
       "model_id": "a86d8f84b1244750a61db4d83d16036b",
       "version_major": 2,
       "version_minor": 0
      },
      "text/plain": [
       "  0%|          | 0/40 [00:00<?, ?it/s]"
      ]
     },
     "metadata": {},
     "output_type": "display_data"
    },
    {
     "name": "stdout",
     "output_type": "stream",
     "text": [
      "Epoch: [136][0/40]\tTime 1.248 (1.248)\tData 1.185 (1.185)\tLoss 0.6368 (0.6368)\tPrec@1 80.469 (80.469)\n",
      "Test: [0/10]\tTime 0.706 (0.706)\tLoss 0.5293 (0.5293)\tPrec@1 82.715 (82.715)\n",
      " * Prec@1 81.170\n",
      "alpha1 6.3921895027160645\n",
      "Best prec1 :  81.7900000366211\n",
      "current lr 2.46234e-04\n"
     ]
    },
    {
     "data": {
      "application/vnd.jupyter.widget-view+json": {
       "model_id": "5cf196dcec0b423998d347e7ad451260",
       "version_major": 2,
       "version_minor": 0
      },
      "text/plain": [
       "  0%|          | 0/40 [00:00<?, ?it/s]"
      ]
     },
     "metadata": {},
     "output_type": "display_data"
    },
    {
     "name": "stdout",
     "output_type": "stream",
     "text": [
      "Epoch: [137][0/40]\tTime 1.224 (1.224)\tData 1.161 (1.161)\tLoss 0.6284 (0.6284)\tPrec@1 80.762 (80.762)\n",
      "Test: [0/10]\tTime 0.723 (0.723)\tLoss 0.5123 (0.5123)\tPrec@1 82.617 (82.617)\n",
      " * Prec@1 81.300\n",
      "alpha1 6.382918357849121\n",
      "Best prec1 :  81.7900000366211\n",
      "current lr 2.39512e-04\n"
     ]
    },
    {
     "data": {
      "application/vnd.jupyter.widget-view+json": {
       "model_id": "d802c3ab76b84835b7dedbfcd80a5ee4",
       "version_major": 2,
       "version_minor": 0
      },
      "text/plain": [
       "  0%|          | 0/40 [00:00<?, ?it/s]"
      ]
     },
     "metadata": {},
     "output_type": "display_data"
    },
    {
     "name": "stdout",
     "output_type": "stream",
     "text": [
      "Epoch: [138][0/40]\tTime 1.216 (1.216)\tData 1.150 (1.150)\tLoss 0.6098 (0.6098)\tPrec@1 82.422 (82.422)\n",
      "Test: [0/10]\tTime 0.713 (0.713)\tLoss 0.5197 (0.5197)\tPrec@1 83.008 (83.008)\n",
      " * Prec@1 81.570\n",
      "alpha1 6.373889923095703\n",
      "Best prec1 :  81.7900000366211\n",
      "current lr 2.32855e-04\n"
     ]
    },
    {
     "data": {
      "application/vnd.jupyter.widget-view+json": {
       "model_id": "cfe6dfba3f964105a5c44f75ef8465a3",
       "version_major": 2,
       "version_minor": 0
      },
      "text/plain": [
       "  0%|          | 0/40 [00:00<?, ?it/s]"
      ]
     },
     "metadata": {},
     "output_type": "display_data"
    },
    {
     "name": "stdout",
     "output_type": "stream",
     "text": [
      "Epoch: [139][0/40]\tTime 1.574 (1.574)\tData 1.511 (1.511)\tLoss 0.6952 (0.6952)\tPrec@1 77.930 (77.930)\n",
      "Test: [0/10]\tTime 0.791 (0.791)\tLoss 0.5129 (0.5129)\tPrec@1 82.422 (82.422)\n",
      " * Prec@1 81.610\n",
      "alpha1 6.365098476409912\n",
      "Best prec1 :  81.7900000366211\n",
      "current lr 2.26263e-04\n"
     ]
    },
    {
     "data": {
      "application/vnd.jupyter.widget-view+json": {
       "model_id": "0fe62e9e09764c859dd0690a1108a281",
       "version_major": 2,
       "version_minor": 0
      },
      "text/plain": [
       "  0%|          | 0/40 [00:00<?, ?it/s]"
      ]
     },
     "metadata": {},
     "output_type": "display_data"
    },
    {
     "name": "stdout",
     "output_type": "stream",
     "text": [
      "Epoch: [140][0/40]\tTime 1.322 (1.322)\tData 1.254 (1.254)\tLoss 0.6372 (0.6372)\tPrec@1 80.957 (80.957)\n",
      "Test: [0/10]\tTime 0.751 (0.751)\tLoss 0.5358 (0.5358)\tPrec@1 82.910 (82.910)\n",
      " * Prec@1 81.540\n",
      "alpha1 6.356553554534912\n",
      "Best prec1 :  81.7900000366211\n",
      "current lr 2.19739e-04\n"
     ]
    },
    {
     "data": {
      "application/vnd.jupyter.widget-view+json": {
       "model_id": "dd1c0716177144f68ead1d5277f29cb5",
       "version_major": 2,
       "version_minor": 0
      },
      "text/plain": [
       "  0%|          | 0/40 [00:00<?, ?it/s]"
      ]
     },
     "metadata": {},
     "output_type": "display_data"
    },
    {
     "name": "stdout",
     "output_type": "stream",
     "text": [
      "Epoch: [141][0/40]\tTime 1.232 (1.232)\tData 1.164 (1.164)\tLoss 0.6033 (0.6033)\tPrec@1 82.324 (82.324)\n",
      "Test: [0/10]\tTime 0.779 (0.779)\tLoss 0.5182 (0.5182)\tPrec@1 83.203 (83.203)\n",
      " * Prec@1 81.700\n",
      "alpha1 6.348249435424805\n",
      "Best prec1 :  81.7900000366211\n",
      "current lr 2.13285e-04\n"
     ]
    },
    {
     "data": {
      "application/vnd.jupyter.widget-view+json": {
       "model_id": "ae3cd9b023974a3887ac47b3342e11b7",
       "version_major": 2,
       "version_minor": 0
      },
      "text/plain": [
       "  0%|          | 0/40 [00:00<?, ?it/s]"
      ]
     },
     "metadata": {},
     "output_type": "display_data"
    },
    {
     "name": "stdout",
     "output_type": "stream",
     "text": [
      "Epoch: [142][0/40]\tTime 1.258 (1.258)\tData 1.193 (1.193)\tLoss 0.6573 (0.6573)\tPrec@1 80.762 (80.762)\n",
      "Test: [0/10]\tTime 0.718 (0.718)\tLoss 0.5290 (0.5290)\tPrec@1 82.324 (82.324)\n",
      " * Prec@1 81.560\n",
      "alpha1 6.340181350708008\n",
      "Best prec1 :  81.7900000366211\n",
      "current lr 2.06901e-04\n"
     ]
    },
    {
     "data": {
      "application/vnd.jupyter.widget-view+json": {
       "model_id": "8672a7e274b74ff3b6eb1d4a1bb82cbd",
       "version_major": 2,
       "version_minor": 0
      },
      "text/plain": [
       "  0%|          | 0/40 [00:00<?, ?it/s]"
      ]
     },
     "metadata": {},
     "output_type": "display_data"
    },
    {
     "name": "stdout",
     "output_type": "stream",
     "text": [
      "Epoch: [143][0/40]\tTime 1.548 (1.548)\tData 1.485 (1.485)\tLoss 0.6267 (0.6267)\tPrec@1 82.617 (82.617)\n",
      "Test: [0/10]\tTime 0.809 (0.809)\tLoss 0.5116 (0.5116)\tPrec@1 83.496 (83.496)\n",
      " * Prec@1 81.580\n",
      "alpha1 6.332342147827148\n",
      "Best prec1 :  81.7900000366211\n",
      "current lr 2.00590e-04\n"
     ]
    },
    {
     "data": {
      "application/vnd.jupyter.widget-view+json": {
       "model_id": "be2955005d24402195dbae3c9c4e3408",
       "version_major": 2,
       "version_minor": 0
      },
      "text/plain": [
       "  0%|          | 0/40 [00:00<?, ?it/s]"
      ]
     },
     "metadata": {},
     "output_type": "display_data"
    },
    {
     "name": "stdout",
     "output_type": "stream",
     "text": [
      "Epoch: [144][0/40]\tTime 1.351 (1.351)\tData 1.288 (1.288)\tLoss 0.5918 (0.5918)\tPrec@1 82.422 (82.422)\n",
      "Test: [0/10]\tTime 0.726 (0.726)\tLoss 0.5190 (0.5190)\tPrec@1 82.324 (82.324)\n",
      " * Prec@1 81.350\n",
      "alpha1 6.324740409851074\n",
      "Best prec1 :  81.7900000366211\n",
      "current lr 1.94353e-04\n"
     ]
    },
    {
     "data": {
      "application/vnd.jupyter.widget-view+json": {
       "model_id": "2de41d714f9b487aa661a2984c2f19ed",
       "version_major": 2,
       "version_minor": 0
      },
      "text/plain": [
       "  0%|          | 0/40 [00:00<?, ?it/s]"
      ]
     },
     "metadata": {},
     "output_type": "display_data"
    },
    {
     "name": "stdout",
     "output_type": "stream",
     "text": [
      "Epoch: [145][0/40]\tTime 1.232 (1.232)\tData 1.169 (1.169)\tLoss 0.5836 (0.5836)\tPrec@1 82.812 (82.812)\n",
      "Test: [0/10]\tTime 0.721 (0.721)\tLoss 0.5122 (0.5122)\tPrec@1 82.520 (82.520)\n",
      " * Prec@1 81.290\n",
      "alpha1 6.317370891571045\n",
      "Best prec1 :  81.7900000366211\n",
      "current lr 1.88191e-04\n"
     ]
    },
    {
     "data": {
      "application/vnd.jupyter.widget-view+json": {
       "model_id": "949a4858cf9f462eb70094467ea6a780",
       "version_major": 2,
       "version_minor": 0
      },
      "text/plain": [
       "  0%|          | 0/40 [00:00<?, ?it/s]"
      ]
     },
     "metadata": {},
     "output_type": "display_data"
    },
    {
     "name": "stdout",
     "output_type": "stream",
     "text": [
      "Epoch: [146][0/40]\tTime 1.241 (1.241)\tData 1.175 (1.175)\tLoss 0.5843 (0.5843)\tPrec@1 81.934 (81.934)\n",
      "Test: [0/10]\tTime 0.832 (0.832)\tLoss 0.5001 (0.5001)\tPrec@1 83.594 (83.594)\n",
      " * Prec@1 81.470\n",
      "alpha1 6.310225963592529\n",
      "Best prec1 :  81.7900000366211\n",
      "current lr 1.82107e-04\n"
     ]
    },
    {
     "data": {
      "application/vnd.jupyter.widget-view+json": {
       "model_id": "8026281cb29f4653bae50ec3d534d1e4",
       "version_major": 2,
       "version_minor": 0
      },
      "text/plain": [
       "  0%|          | 0/40 [00:00<?, ?it/s]"
      ]
     },
     "metadata": {},
     "output_type": "display_data"
    },
    {
     "name": "stdout",
     "output_type": "stream",
     "text": [
      "Epoch: [147][0/40]\tTime 1.515 (1.515)\tData 1.452 (1.452)\tLoss 0.6360 (0.6360)\tPrec@1 80.371 (80.371)\n",
      "Test: [0/10]\tTime 0.731 (0.731)\tLoss 0.5104 (0.5104)\tPrec@1 82.715 (82.715)\n",
      " * Prec@1 81.650\n",
      "alpha1 6.30330228805542\n",
      "Best prec1 :  81.7900000366211\n",
      "current lr 1.76101e-04\n"
     ]
    },
    {
     "data": {
      "application/vnd.jupyter.widget-view+json": {
       "model_id": "962316d862fb4f0fb320ef8b35e1f677",
       "version_major": 2,
       "version_minor": 0
      },
      "text/plain": [
       "  0%|          | 0/40 [00:00<?, ?it/s]"
      ]
     },
     "metadata": {},
     "output_type": "display_data"
    },
    {
     "name": "stdout",
     "output_type": "stream",
     "text": [
      "Epoch: [148][0/40]\tTime 1.526 (1.526)\tData 1.463 (1.463)\tLoss 0.6219 (0.6219)\tPrec@1 82.129 (82.129)\n",
      "Test: [0/10]\tTime 0.811 (0.811)\tLoss 0.5235 (0.5235)\tPrec@1 82.715 (82.715)\n",
      " * Prec@1 81.350\n",
      "alpha1 6.296607494354248\n",
      "Best prec1 :  81.7900000366211\n",
      "current lr 1.70175e-04\n"
     ]
    },
    {
     "data": {
      "application/vnd.jupyter.widget-view+json": {
       "model_id": "6e5b85f6b7fa4705853dafbf958eb60b",
       "version_major": 2,
       "version_minor": 0
      },
      "text/plain": [
       "  0%|          | 0/40 [00:00<?, ?it/s]"
      ]
     },
     "metadata": {},
     "output_type": "display_data"
    },
    {
     "name": "stdout",
     "output_type": "stream",
     "text": [
      "Epoch: [149][0/40]\tTime 1.280 (1.280)\tData 1.216 (1.216)\tLoss 0.6179 (0.6179)\tPrec@1 82.324 (82.324)\n",
      "Test: [0/10]\tTime 0.722 (0.722)\tLoss 0.5132 (0.5132)\tPrec@1 82.227 (82.227)\n",
      " * Prec@1 81.680\n",
      "alpha1 6.290128231048584\n",
      "Best prec1 :  81.7900000366211\n",
      "current lr 1.64330e-04\n"
     ]
    },
    {
     "data": {
      "application/vnd.jupyter.widget-view+json": {
       "model_id": "603287a23cc947019876ebfe98e58d58",
       "version_major": 2,
       "version_minor": 0
      },
      "text/plain": [
       "  0%|          | 0/40 [00:00<?, ?it/s]"
      ]
     },
     "metadata": {},
     "output_type": "display_data"
    },
    {
     "name": "stdout",
     "output_type": "stream",
     "text": [
      "Epoch: [150][0/40]\tTime 1.182 (1.182)\tData 1.119 (1.119)\tLoss 0.5973 (0.5973)\tPrec@1 81.641 (81.641)\n",
      "Test: [0/10]\tTime 0.730 (0.730)\tLoss 0.5115 (0.5115)\tPrec@1 82.422 (82.422)\n",
      " * Prec@1 81.570\n",
      "alpha1 6.283872127532959\n",
      "Best prec1 :  81.7900000366211\n",
      "current lr 1.58569e-04\n"
     ]
    },
    {
     "data": {
      "application/vnd.jupyter.widget-view+json": {
       "model_id": "80e6e8681d76467187291ea104eeb27b",
       "version_major": 2,
       "version_minor": 0
      },
      "text/plain": [
       "  0%|          | 0/40 [00:00<?, ?it/s]"
      ]
     },
     "metadata": {},
     "output_type": "display_data"
    },
    {
     "name": "stdout",
     "output_type": "stream",
     "text": [
      "Epoch: [151][0/40]\tTime 1.569 (1.569)\tData 1.506 (1.506)\tLoss 0.6113 (0.6113)\tPrec@1 81.934 (81.934)\n",
      "Test: [0/10]\tTime 0.717 (0.717)\tLoss 0.5118 (0.5118)\tPrec@1 83.398 (83.398)\n",
      " * Prec@1 81.770\n",
      "alpha1 6.277825832366943\n",
      "Best prec1 :  81.7900000366211\n",
      "current lr 1.52892e-04\n"
     ]
    },
    {
     "data": {
      "application/vnd.jupyter.widget-view+json": {
       "model_id": "18a776f1f1cf4f3e824a5a067c781a05",
       "version_major": 2,
       "version_minor": 0
      },
      "text/plain": [
       "  0%|          | 0/40 [00:00<?, ?it/s]"
      ]
     },
     "metadata": {},
     "output_type": "display_data"
    },
    {
     "name": "stdout",
     "output_type": "stream",
     "text": [
      "Epoch: [152][0/40]\tTime 1.223 (1.223)\tData 1.157 (1.157)\tLoss 0.6389 (0.6389)\tPrec@1 82.227 (82.227)\n",
      "Test: [0/10]\tTime 0.822 (0.822)\tLoss 0.5197 (0.5197)\tPrec@1 82.520 (82.520)\n",
      " * Prec@1 81.480\n",
      "alpha1 6.271989345550537\n",
      "Best prec1 :  81.7900000366211\n",
      "current lr 1.47300e-04\n"
     ]
    },
    {
     "data": {
      "application/vnd.jupyter.widget-view+json": {
       "model_id": "b34df075955d4dc9b77ce709fe19b5af",
       "version_major": 2,
       "version_minor": 0
      },
      "text/plain": [
       "  0%|          | 0/40 [00:00<?, ?it/s]"
      ]
     },
     "metadata": {},
     "output_type": "display_data"
    },
    {
     "name": "stdout",
     "output_type": "stream",
     "text": [
      "Epoch: [153][0/40]\tTime 1.535 (1.535)\tData 1.472 (1.472)\tLoss 0.6475 (0.6475)\tPrec@1 80.762 (80.762)\n",
      "Test: [0/10]\tTime 0.718 (0.718)\tLoss 0.5171 (0.5171)\tPrec@1 82.910 (82.910)\n",
      " * Prec@1 81.830\n",
      "alpha1 6.26636266708374\n",
      "Best prec1 :  81.82999978027344\n",
      "current lr 1.41796e-04\n"
     ]
    },
    {
     "data": {
      "application/vnd.jupyter.widget-view+json": {
       "model_id": "6b6f4612ea41460cbd551e69c287208d",
       "version_major": 2,
       "version_minor": 0
      },
      "text/plain": [
       "  0%|          | 0/40 [00:00<?, ?it/s]"
      ]
     },
     "metadata": {},
     "output_type": "display_data"
    },
    {
     "name": "stdout",
     "output_type": "stream",
     "text": [
      "Epoch: [154][0/40]\tTime 1.587 (1.587)\tData 1.524 (1.524)\tLoss 0.6293 (0.6293)\tPrec@1 80.957 (80.957)\n",
      "Test: [0/10]\tTime 0.716 (0.716)\tLoss 0.5064 (0.5064)\tPrec@1 82.812 (82.812)\n",
      " * Prec@1 81.600\n",
      "alpha1 6.260945796966553\n",
      "Best prec1 :  81.82999978027344\n",
      "current lr 1.36380e-04\n"
     ]
    },
    {
     "data": {
      "application/vnd.jupyter.widget-view+json": {
       "model_id": "5420810bda684a7e81e73a1c12635712",
       "version_major": 2,
       "version_minor": 0
      },
      "text/plain": [
       "  0%|          | 0/40 [00:00<?, ?it/s]"
      ]
     },
     "metadata": {},
     "output_type": "display_data"
    },
    {
     "name": "stdout",
     "output_type": "stream",
     "text": [
      "Epoch: [155][0/40]\tTime 1.549 (1.549)\tData 1.484 (1.484)\tLoss 0.5764 (0.5764)\tPrec@1 83.301 (83.301)\n",
      "Test: [0/10]\tTime 0.723 (0.723)\tLoss 0.5049 (0.5049)\tPrec@1 83.105 (83.105)\n",
      " * Prec@1 81.860\n",
      "alpha1 6.2557244300842285\n",
      "Best prec1 :  81.85999987792968\n",
      "current lr 1.31054e-04\n"
     ]
    },
    {
     "data": {
      "application/vnd.jupyter.widget-view+json": {
       "model_id": "5edd65e451884729b8e6e7af05439709",
       "version_major": 2,
       "version_minor": 0
      },
      "text/plain": [
       "  0%|          | 0/40 [00:00<?, ?it/s]"
      ]
     },
     "metadata": {},
     "output_type": "display_data"
    },
    {
     "name": "stdout",
     "output_type": "stream",
     "text": [
      "Epoch: [156][0/40]\tTime 1.454 (1.454)\tData 1.391 (1.391)\tLoss 0.6123 (0.6123)\tPrec@1 82.715 (82.715)\n",
      "Test: [0/10]\tTime 0.795 (0.795)\tLoss 0.5101 (0.5101)\tPrec@1 83.105 (83.105)\n",
      " * Prec@1 81.750\n",
      "alpha1 6.250708103179932\n",
      "Best prec1 :  81.85999987792968\n",
      "current lr 1.25820e-04\n"
     ]
    },
    {
     "data": {
      "application/vnd.jupyter.widget-view+json": {
       "model_id": "34bcff16e781484697d48a93f51a9879",
       "version_major": 2,
       "version_minor": 0
      },
      "text/plain": [
       "  0%|          | 0/40 [00:00<?, ?it/s]"
      ]
     },
     "metadata": {},
     "output_type": "display_data"
    },
    {
     "name": "stdout",
     "output_type": "stream",
     "text": [
      "Epoch: [157][0/40]\tTime 1.563 (1.563)\tData 1.500 (1.500)\tLoss 0.5515 (0.5515)\tPrec@1 84.570 (84.570)\n",
      "Test: [0/10]\tTime 0.731 (0.731)\tLoss 0.5131 (0.5131)\tPrec@1 82.812 (82.812)\n",
      " * Prec@1 81.680\n",
      "alpha1 6.245882511138916\n",
      "Best prec1 :  81.85999987792968\n",
      "current lr 1.20677e-04\n"
     ]
    },
    {
     "data": {
      "application/vnd.jupyter.widget-view+json": {
       "model_id": "02307806ac0a4fd297f1c10ed90f0340",
       "version_major": 2,
       "version_minor": 0
      },
      "text/plain": [
       "  0%|          | 0/40 [00:00<?, ?it/s]"
      ]
     },
     "metadata": {},
     "output_type": "display_data"
    },
    {
     "name": "stdout",
     "output_type": "stream",
     "text": [
      "Epoch: [158][0/40]\tTime 1.198 (1.198)\tData 1.130 (1.130)\tLoss 0.6166 (0.6166)\tPrec@1 83.594 (83.594)\n",
      "Test: [0/10]\tTime 0.733 (0.733)\tLoss 0.4964 (0.4964)\tPrec@1 82.910 (82.910)\n",
      " * Prec@1 81.760\n",
      "alpha1 6.241247653961182\n",
      "Best prec1 :  81.85999987792968\n",
      "current lr 1.15629e-04\n"
     ]
    },
    {
     "data": {
      "application/vnd.jupyter.widget-view+json": {
       "model_id": "dbdd75e9a17a4998a0bd95e3d7fcc826",
       "version_major": 2,
       "version_minor": 0
      },
      "text/plain": [
       "  0%|          | 0/40 [00:00<?, ?it/s]"
      ]
     },
     "metadata": {},
     "output_type": "display_data"
    },
    {
     "name": "stdout",
     "output_type": "stream",
     "text": [
      "Epoch: [159][0/40]\tTime 1.228 (1.228)\tData 1.165 (1.165)\tLoss 0.6413 (0.6413)\tPrec@1 81.738 (81.738)\n",
      "Test: [0/10]\tTime 0.747 (0.747)\tLoss 0.5039 (0.5039)\tPrec@1 83.105 (83.105)\n",
      " * Prec@1 81.970\n",
      "alpha1 6.2368035316467285\n",
      "Best prec1 :  81.96999969482422\n",
      "current lr 1.10675e-04\n"
     ]
    },
    {
     "data": {
      "application/vnd.jupyter.widget-view+json": {
       "model_id": "e1d97ce20dd943998cb613bec16d972b",
       "version_major": 2,
       "version_minor": 0
      },
      "text/plain": [
       "  0%|          | 0/40 [00:00<?, ?it/s]"
      ]
     },
     "metadata": {},
     "output_type": "display_data"
    },
    {
     "name": "stdout",
     "output_type": "stream",
     "text": [
      "Epoch: [160][0/40]\tTime 1.557 (1.557)\tData 1.495 (1.495)\tLoss 0.6148 (0.6148)\tPrec@1 82.715 (82.715)\n",
      "Test: [0/10]\tTime 0.719 (0.719)\tLoss 0.5005 (0.5005)\tPrec@1 82.910 (82.910)\n",
      " * Prec@1 81.890\n",
      "alpha1 6.232550144195557\n",
      "Best prec1 :  81.96999969482422\n",
      "current lr 1.05818e-04\n"
     ]
    },
    {
     "data": {
      "application/vnd.jupyter.widget-view+json": {
       "model_id": "be76f5b753a54eaebf464ee48bf293b9",
       "version_major": 2,
       "version_minor": 0
      },
      "text/plain": [
       "  0%|          | 0/40 [00:00<?, ?it/s]"
      ]
     },
     "metadata": {},
     "output_type": "display_data"
    },
    {
     "name": "stdout",
     "output_type": "stream",
     "text": [
      "Epoch: [161][0/40]\tTime 1.147 (1.147)\tData 1.083 (1.083)\tLoss 0.5869 (0.5869)\tPrec@1 81.934 (81.934)\n",
      "Test: [0/10]\tTime 0.765 (0.765)\tLoss 0.5020 (0.5020)\tPrec@1 82.910 (82.910)\n",
      " * Prec@1 81.890\n",
      "alpha1 6.228487491607666\n",
      "Best prec1 :  81.96999969482422\n",
      "current lr 1.01058e-04\n"
     ]
    },
    {
     "data": {
      "application/vnd.jupyter.widget-view+json": {
       "model_id": "36196be8590a4cdc910583a412c5a43a",
       "version_major": 2,
       "version_minor": 0
      },
      "text/plain": [
       "  0%|          | 0/40 [00:00<?, ?it/s]"
      ]
     },
     "metadata": {},
     "output_type": "display_data"
    },
    {
     "name": "stdout",
     "output_type": "stream",
     "text": [
      "Epoch: [162][0/40]\tTime 1.181 (1.181)\tData 1.118 (1.118)\tLoss 0.5482 (0.5482)\tPrec@1 83.105 (83.105)\n",
      "Test: [0/10]\tTime 0.824 (0.824)\tLoss 0.5042 (0.5042)\tPrec@1 82.812 (82.812)\n",
      " * Prec@1 81.880\n",
      "alpha1 6.2245965003967285\n",
      "Best prec1 :  81.96999969482422\n",
      "current lr 9.63960e-05\n"
     ]
    },
    {
     "data": {
      "application/vnd.jupyter.widget-view+json": {
       "model_id": "ae8aae7b6c7f4e488a52d4d6bfd54ab5",
       "version_major": 2,
       "version_minor": 0
      },
      "text/plain": [
       "  0%|          | 0/40 [00:00<?, ?it/s]"
      ]
     },
     "metadata": {},
     "output_type": "display_data"
    },
    {
     "name": "stdout",
     "output_type": "stream",
     "text": [
      "Epoch: [163][0/40]\tTime 1.332 (1.332)\tData 1.269 (1.269)\tLoss 0.6229 (0.6229)\tPrec@1 80.957 (80.957)\n",
      "Test: [0/10]\tTime 0.792 (0.792)\tLoss 0.5070 (0.5070)\tPrec@1 83.594 (83.594)\n",
      " * Prec@1 81.840\n",
      "alpha1 6.220877170562744\n",
      "Best prec1 :  81.96999969482422\n",
      "current lr 9.18342e-05\n"
     ]
    },
    {
     "data": {
      "application/vnd.jupyter.widget-view+json": {
       "model_id": "4b96233c20d44f72a221109d3751c34c",
       "version_major": 2,
       "version_minor": 0
      },
      "text/plain": [
       "  0%|          | 0/40 [00:00<?, ?it/s]"
      ]
     },
     "metadata": {},
     "output_type": "display_data"
    },
    {
     "name": "stdout",
     "output_type": "stream",
     "text": [
      "Epoch: [164][0/40]\tTime 1.213 (1.213)\tData 1.150 (1.150)\tLoss 0.5936 (0.5936)\tPrec@1 81.934 (81.934)\n",
      "Test: [0/10]\tTime 0.825 (0.825)\tLoss 0.5032 (0.5032)\tPrec@1 82.812 (82.812)\n",
      " * Prec@1 82.010\n",
      "alpha1 6.217329502105713\n",
      "Best prec1 :  82.00999978027343\n",
      "current lr 8.73733e-05\n"
     ]
    },
    {
     "data": {
      "application/vnd.jupyter.widget-view+json": {
       "model_id": "5c838bf25a6748bc88ed554248e65e5f",
       "version_major": 2,
       "version_minor": 0
      },
      "text/plain": [
       "  0%|          | 0/40 [00:00<?, ?it/s]"
      ]
     },
     "metadata": {},
     "output_type": "display_data"
    },
    {
     "name": "stdout",
     "output_type": "stream",
     "text": [
      "Epoch: [165][0/40]\tTime 1.205 (1.205)\tData 1.140 (1.140)\tLoss 0.5411 (0.5411)\tPrec@1 84.766 (84.766)\n",
      "Test: [0/10]\tTime 0.801 (0.801)\tLoss 0.5081 (0.5081)\tPrec@1 83.203 (83.203)\n",
      " * Prec@1 81.840\n",
      "alpha1 6.213953495025635\n",
      "Best prec1 :  82.00999978027343\n",
      "current lr 8.30142e-05\n"
     ]
    },
    {
     "data": {
      "application/vnd.jupyter.widget-view+json": {
       "model_id": "26c0235c4079470cabb00f0d7cb8963b",
       "version_major": 2,
       "version_minor": 0
      },
      "text/plain": [
       "  0%|          | 0/40 [00:00<?, ?it/s]"
      ]
     },
     "metadata": {},
     "output_type": "display_data"
    },
    {
     "name": "stdout",
     "output_type": "stream",
     "text": [
      "Epoch: [166][0/40]\tTime 1.292 (1.292)\tData 1.226 (1.226)\tLoss 0.5905 (0.5905)\tPrec@1 82.715 (82.715)\n",
      "Test: [0/10]\tTime 0.743 (0.743)\tLoss 0.5044 (0.5044)\tPrec@1 83.301 (83.301)\n",
      " * Prec@1 82.030\n",
      "alpha1 6.21074914932251\n",
      "Best prec1 :  82.02999997558594\n",
      "current lr 7.87582e-05\n"
     ]
    },
    {
     "data": {
      "application/vnd.jupyter.widget-view+json": {
       "model_id": "6f6133966de6446e83b690d77bd1276e",
       "version_major": 2,
       "version_minor": 0
      },
      "text/plain": [
       "  0%|          | 0/40 [00:00<?, ?it/s]"
      ]
     },
     "metadata": {},
     "output_type": "display_data"
    },
    {
     "name": "stdout",
     "output_type": "stream",
     "text": [
      "Epoch: [167][0/40]\tTime 1.535 (1.535)\tData 1.472 (1.472)\tLoss 0.6476 (0.6476)\tPrec@1 80.176 (80.176)\n",
      "Test: [0/10]\tTime 0.817 (0.817)\tLoss 0.5120 (0.5120)\tPrec@1 83.203 (83.203)\n",
      " * Prec@1 81.730\n",
      "alpha1 6.20769739151001\n",
      "Best prec1 :  82.02999997558594\n",
      "current lr 7.46062e-05\n"
     ]
    },
    {
     "data": {
      "application/vnd.jupyter.widget-view+json": {
       "model_id": "021517506d274c2ab5ae15f9e483a799",
       "version_major": 2,
       "version_minor": 0
      },
      "text/plain": [
       "  0%|          | 0/40 [00:00<?, ?it/s]"
      ]
     },
     "metadata": {},
     "output_type": "display_data"
    },
    {
     "name": "stdout",
     "output_type": "stream",
     "text": [
      "Epoch: [168][0/40]\tTime 1.504 (1.504)\tData 1.439 (1.439)\tLoss 0.5607 (0.5607)\tPrec@1 83.203 (83.203)\n",
      "Test: [0/10]\tTime 0.813 (0.813)\tLoss 0.5127 (0.5127)\tPrec@1 82.617 (82.617)\n",
      " * Prec@1 81.730\n",
      "alpha1 6.204817295074463\n",
      "Best prec1 :  82.02999997558594\n",
      "current lr 7.05594e-05\n"
     ]
    },
    {
     "data": {
      "application/vnd.jupyter.widget-view+json": {
       "model_id": "df9aacf1d39d40e1bf3ddc274c8b88e8",
       "version_major": 2,
       "version_minor": 0
      },
      "text/plain": [
       "  0%|          | 0/40 [00:00<?, ?it/s]"
      ]
     },
     "metadata": {},
     "output_type": "display_data"
    },
    {
     "name": "stdout",
     "output_type": "stream",
     "text": [
      "Epoch: [169][0/40]\tTime 1.557 (1.557)\tData 1.493 (1.493)\tLoss 0.5943 (0.5943)\tPrec@1 83.008 (83.008)\n",
      "Test: [0/10]\tTime 0.711 (0.711)\tLoss 0.5172 (0.5172)\tPrec@1 83.105 (83.105)\n",
      " * Prec@1 81.890\n",
      "alpha1 6.202089786529541\n",
      "Best prec1 :  82.02999997558594\n",
      "current lr 6.66186e-05\n"
     ]
    },
    {
     "data": {
      "application/vnd.jupyter.widget-view+json": {
       "model_id": "4005825031254aea9403e7974f175622",
       "version_major": 2,
       "version_minor": 0
      },
      "text/plain": [
       "  0%|          | 0/40 [00:00<?, ?it/s]"
      ]
     },
     "metadata": {},
     "output_type": "display_data"
    },
    {
     "name": "stdout",
     "output_type": "stream",
     "text": [
      "Epoch: [170][0/40]\tTime 1.306 (1.306)\tData 1.240 (1.240)\tLoss 0.6273 (0.6273)\tPrec@1 81.641 (81.641)\n",
      "Test: [0/10]\tTime 0.739 (0.739)\tLoss 0.5221 (0.5221)\tPrec@1 83.008 (83.008)\n",
      " * Prec@1 81.880\n",
      "alpha1 6.199514865875244\n",
      "Best prec1 :  82.02999997558594\n",
      "current lr 6.27848e-05\n"
     ]
    },
    {
     "data": {
      "application/vnd.jupyter.widget-view+json": {
       "model_id": "aca79f801565472583e3b745e5ac0b40",
       "version_major": 2,
       "version_minor": 0
      },
      "text/plain": [
       "  0%|          | 0/40 [00:00<?, ?it/s]"
      ]
     },
     "metadata": {},
     "output_type": "display_data"
    },
    {
     "name": "stdout",
     "output_type": "stream",
     "text": [
      "Epoch: [171][0/40]\tTime 1.130 (1.130)\tData 1.066 (1.066)\tLoss 0.5978 (0.5978)\tPrec@1 81.250 (81.250)\n",
      "Test: [0/10]\tTime 0.824 (0.824)\tLoss 0.5103 (0.5103)\tPrec@1 83.496 (83.496)\n",
      " * Prec@1 81.990\n",
      "alpha1 6.197073459625244\n",
      "Best prec1 :  82.02999997558594\n",
      "current lr 5.90591e-05\n"
     ]
    },
    {
     "data": {
      "application/vnd.jupyter.widget-view+json": {
       "model_id": "78f97d5a65014a65ae6a5cd07b1e6c2d",
       "version_major": 2,
       "version_minor": 0
      },
      "text/plain": [
       "  0%|          | 0/40 [00:00<?, ?it/s]"
      ]
     },
     "metadata": {},
     "output_type": "display_data"
    },
    {
     "name": "stdout",
     "output_type": "stream",
     "text": [
      "Epoch: [172][0/40]\tTime 1.294 (1.294)\tData 1.228 (1.228)\tLoss 0.5963 (0.5963)\tPrec@1 83.008 (83.008)\n",
      "Test: [0/10]\tTime 0.807 (0.807)\tLoss 0.5131 (0.5131)\tPrec@1 83.398 (83.398)\n",
      " * Prec@1 81.860\n",
      "alpha1 6.194784641265869\n",
      "Best prec1 :  82.02999997558594\n",
      "current lr 5.54422e-05\n"
     ]
    },
    {
     "data": {
      "application/vnd.jupyter.widget-view+json": {
       "model_id": "da9c00307ac2406995afdf7cd694f8d4",
       "version_major": 2,
       "version_minor": 0
      },
      "text/plain": [
       "  0%|          | 0/40 [00:00<?, ?it/s]"
      ]
     },
     "metadata": {},
     "output_type": "display_data"
    },
    {
     "name": "stdout",
     "output_type": "stream",
     "text": [
      "Epoch: [173][0/40]\tTime 1.376 (1.376)\tData 1.313 (1.313)\tLoss 0.6330 (0.6330)\tPrec@1 80.371 (80.371)\n",
      "Test: [0/10]\tTime 0.831 (0.831)\tLoss 0.5119 (0.5119)\tPrec@1 82.227 (82.227)\n",
      " * Prec@1 81.690\n",
      "alpha1 6.192629337310791\n",
      "Best prec1 :  82.02999997558594\n",
      "current lr 5.19352e-05\n"
     ]
    },
    {
     "data": {
      "application/vnd.jupyter.widget-view+json": {
       "model_id": "4516ee20453f478ea1317f6a128be869",
       "version_major": 2,
       "version_minor": 0
      },
      "text/plain": [
       "  0%|          | 0/40 [00:00<?, ?it/s]"
      ]
     },
     "metadata": {},
     "output_type": "display_data"
    },
    {
     "name": "stdout",
     "output_type": "stream",
     "text": [
      "Epoch: [174][0/40]\tTime 1.228 (1.228)\tData 1.165 (1.165)\tLoss 0.6031 (0.6031)\tPrec@1 81.934 (81.934)\n",
      "Test: [0/10]\tTime 0.721 (0.721)\tLoss 0.5109 (0.5109)\tPrec@1 83.301 (83.301)\n",
      " * Prec@1 81.920\n",
      "alpha1 6.19060754776001\n",
      "Best prec1 :  82.02999997558594\n",
      "current lr 4.85389e-05\n"
     ]
    },
    {
     "data": {
      "application/vnd.jupyter.widget-view+json": {
       "model_id": "de3f5974b01b46af9618ef7f7a7cb329",
       "version_major": 2,
       "version_minor": 0
      },
      "text/plain": [
       "  0%|          | 0/40 [00:00<?, ?it/s]"
      ]
     },
     "metadata": {},
     "output_type": "display_data"
    },
    {
     "name": "stdout",
     "output_type": "stream",
     "text": [
      "Epoch: [175][0/40]\tTime 1.197 (1.197)\tData 1.134 (1.134)\tLoss 0.5814 (0.5814)\tPrec@1 83.203 (83.203)\n",
      "Test: [0/10]\tTime 0.820 (0.820)\tLoss 0.5163 (0.5163)\tPrec@1 83.105 (83.105)\n",
      " * Prec@1 81.870\n",
      "alpha1 6.188719272613525\n",
      "Best prec1 :  82.02999997558594\n",
      "current lr 4.52541e-05\n"
     ]
    },
    {
     "data": {
      "application/vnd.jupyter.widget-view+json": {
       "model_id": "fd3276e161184514adac92c085e695d2",
       "version_major": 2,
       "version_minor": 0
      },
      "text/plain": [
       "  0%|          | 0/40 [00:00<?, ?it/s]"
      ]
     },
     "metadata": {},
     "output_type": "display_data"
    },
    {
     "name": "stdout",
     "output_type": "stream",
     "text": [
      "Epoch: [176][0/40]\tTime 1.496 (1.496)\tData 1.431 (1.431)\tLoss 0.5310 (0.5310)\tPrec@1 83.887 (83.887)\n",
      "Test: [0/10]\tTime 0.784 (0.784)\tLoss 0.5242 (0.5242)\tPrec@1 82.617 (82.617)\n",
      " * Prec@1 82.090\n",
      "alpha1 6.186964511871338\n",
      "Best prec1 :  82.08999981689453\n",
      "current lr 4.20816e-05\n"
     ]
    },
    {
     "data": {
      "application/vnd.jupyter.widget-view+json": {
       "model_id": "103214d2a4084c349924640b8491ccd2",
       "version_major": 2,
       "version_minor": 0
      },
      "text/plain": [
       "  0%|          | 0/40 [00:00<?, ?it/s]"
      ]
     },
     "metadata": {},
     "output_type": "display_data"
    },
    {
     "name": "stdout",
     "output_type": "stream",
     "text": [
      "Epoch: [177][0/40]\tTime 1.228 (1.228)\tData 1.165 (1.165)\tLoss 0.6302 (0.6302)\tPrec@1 79.199 (79.199)\n",
      "Test: [0/10]\tTime 0.732 (0.732)\tLoss 0.5049 (0.5049)\tPrec@1 82.422 (82.422)\n",
      " * Prec@1 81.590\n",
      "alpha1 6.185324192047119\n",
      "Best prec1 :  82.08999981689453\n",
      "current lr 3.90222e-05\n"
     ]
    },
    {
     "data": {
      "application/vnd.jupyter.widget-view+json": {
       "model_id": "1a5a34b8984d4e51ac3d2493f84545f0",
       "version_major": 2,
       "version_minor": 0
      },
      "text/plain": [
       "  0%|          | 0/40 [00:00<?, ?it/s]"
      ]
     },
     "metadata": {},
     "output_type": "display_data"
    },
    {
     "name": "stdout",
     "output_type": "stream",
     "text": [
      "Epoch: [178][0/40]\tTime 1.264 (1.264)\tData 1.201 (1.201)\tLoss 0.6463 (0.6463)\tPrec@1 81.641 (81.641)\n",
      "Test: [0/10]\tTime 0.819 (0.819)\tLoss 0.5057 (0.5057)\tPrec@1 83.301 (83.301)\n",
      " * Prec@1 82.200\n",
      "alpha1 6.183798313140869\n",
      "Best prec1 :  82.20000013427735\n",
      "current lr 3.60766e-05\n"
     ]
    },
    {
     "data": {
      "application/vnd.jupyter.widget-view+json": {
       "model_id": "c07b79d69cb34575ba0e4cc9c377130a",
       "version_major": 2,
       "version_minor": 0
      },
      "text/plain": [
       "  0%|          | 0/40 [00:00<?, ?it/s]"
      ]
     },
     "metadata": {},
     "output_type": "display_data"
    },
    {
     "name": "stdout",
     "output_type": "stream",
     "text": [
      "Epoch: [179][0/40]\tTime 1.532 (1.532)\tData 1.469 (1.469)\tLoss 0.5924 (0.5924)\tPrec@1 82.129 (82.129)\n",
      "Test: [0/10]\tTime 0.720 (0.720)\tLoss 0.5001 (0.5001)\tPrec@1 83.691 (83.691)\n",
      " * Prec@1 82.070\n",
      "alpha1 6.182386875152588\n",
      "Best prec1 :  82.20000013427735\n",
      "current lr 3.32457e-05\n"
     ]
    },
    {
     "data": {
      "application/vnd.jupyter.widget-view+json": {
       "model_id": "6de86e875b0b4329ad589418114c0450",
       "version_major": 2,
       "version_minor": 0
      },
      "text/plain": [
       "  0%|          | 0/40 [00:00<?, ?it/s]"
      ]
     },
     "metadata": {},
     "output_type": "display_data"
    },
    {
     "name": "stdout",
     "output_type": "stream",
     "text": [
      "Epoch: [180][0/40]\tTime 1.359 (1.359)\tData 1.296 (1.296)\tLoss 0.6031 (0.6031)\tPrec@1 82.910 (82.910)\n",
      "Test: [0/10]\tTime 0.803 (0.803)\tLoss 0.5039 (0.5039)\tPrec@1 83.105 (83.105)\n",
      " * Prec@1 82.190\n",
      "alpha1 6.181089878082275\n",
      "Best prec1 :  82.20000013427735\n",
      "current lr 3.05301e-05\n"
     ]
    },
    {
     "data": {
      "application/vnd.jupyter.widget-view+json": {
       "model_id": "4b690f7f1c534b5c833b796735754850",
       "version_major": 2,
       "version_minor": 0
      },
      "text/plain": [
       "  0%|          | 0/40 [00:00<?, ?it/s]"
      ]
     },
     "metadata": {},
     "output_type": "display_data"
    },
    {
     "name": "stdout",
     "output_type": "stream",
     "text": [
      "Epoch: [181][0/40]\tTime 1.227 (1.227)\tData 1.162 (1.162)\tLoss 0.5245 (0.5245)\tPrec@1 84.570 (84.570)\n",
      "Test: [0/10]\tTime 0.827 (0.827)\tLoss 0.5054 (0.5054)\tPrec@1 83.301 (83.301)\n",
      " * Prec@1 81.970\n",
      "alpha1 6.1798882484436035\n",
      "Best prec1 :  82.20000013427735\n",
      "current lr 2.79304e-05\n"
     ]
    },
    {
     "data": {
      "application/vnd.jupyter.widget-view+json": {
       "model_id": "e52834e925f244ffb9507a594aaab890",
       "version_major": 2,
       "version_minor": 0
      },
      "text/plain": [
       "  0%|          | 0/40 [00:00<?, ?it/s]"
      ]
     },
     "metadata": {},
     "output_type": "display_data"
    },
    {
     "name": "stdout",
     "output_type": "stream",
     "text": [
      "Epoch: [182][0/40]\tTime 1.577 (1.577)\tData 1.515 (1.515)\tLoss 0.6120 (0.6120)\tPrec@1 81.836 (81.836)\n",
      "Test: [0/10]\tTime 0.710 (0.710)\tLoss 0.5052 (0.5052)\tPrec@1 83.789 (83.789)\n",
      " * Prec@1 82.070\n",
      "alpha1 6.1788010597229\n",
      "Best prec1 :  82.20000013427735\n",
      "current lr 2.54473e-05\n"
     ]
    },
    {
     "data": {
      "application/vnd.jupyter.widget-view+json": {
       "model_id": "0beca607b985490fb4d2d9f3969f3ed9",
       "version_major": 2,
       "version_minor": 0
      },
      "text/plain": [
       "  0%|          | 0/40 [00:00<?, ?it/s]"
      ]
     },
     "metadata": {},
     "output_type": "display_data"
    },
    {
     "name": "stdout",
     "output_type": "stream",
     "text": [
      "Epoch: [183][0/40]\tTime 1.551 (1.551)\tData 1.488 (1.488)\tLoss 0.6138 (0.6138)\tPrec@1 80.762 (80.762)\n",
      "Test: [0/10]\tTime 0.832 (0.832)\tLoss 0.5068 (0.5068)\tPrec@1 83.203 (83.203)\n",
      " * Prec@1 82.030\n",
      "alpha1 6.177809238433838\n",
      "Best prec1 :  82.20000013427735\n",
      "current lr 2.30814e-05\n"
     ]
    },
    {
     "data": {
      "application/vnd.jupyter.widget-view+json": {
       "model_id": "f613308b6da34f5da5bac0b985cbb6ea",
       "version_major": 2,
       "version_minor": 0
      },
      "text/plain": [
       "  0%|          | 0/40 [00:00<?, ?it/s]"
      ]
     },
     "metadata": {},
     "output_type": "display_data"
    },
    {
     "name": "stdout",
     "output_type": "stream",
     "text": [
      "Epoch: [184][0/40]\tTime 1.229 (1.229)\tData 1.166 (1.166)\tLoss 0.6007 (0.6007)\tPrec@1 82.324 (82.324)\n",
      "Test: [0/10]\tTime 0.709 (0.709)\tLoss 0.5051 (0.5051)\tPrec@1 83.398 (83.398)\n",
      " * Prec@1 82.040\n",
      "alpha1 6.176912784576416\n",
      "Best prec1 :  82.20000013427735\n",
      "current lr 2.08333e-05\n"
     ]
    },
    {
     "data": {
      "application/vnd.jupyter.widget-view+json": {
       "model_id": "f5d8076deac642ba99ac927b9390a3ee",
       "version_major": 2,
       "version_minor": 0
      },
      "text/plain": [
       "  0%|          | 0/40 [00:00<?, ?it/s]"
      ]
     },
     "metadata": {},
     "output_type": "display_data"
    },
    {
     "name": "stdout",
     "output_type": "stream",
     "text": [
      "Epoch: [185][0/40]\tTime 1.463 (1.463)\tData 1.396 (1.396)\tLoss 0.5837 (0.5837)\tPrec@1 82.227 (82.227)\n",
      "Test: [0/10]\tTime 0.791 (0.791)\tLoss 0.5075 (0.5075)\tPrec@1 83.789 (83.789)\n",
      " * Prec@1 81.750\n",
      "alpha1 6.176092624664307\n",
      "Best prec1 :  82.20000013427735\n",
      "current lr 1.87036e-05\n"
     ]
    },
    {
     "data": {
      "application/vnd.jupyter.widget-view+json": {
       "model_id": "0ab52065fd0c4c6fb9b47a0a0e7e7606",
       "version_major": 2,
       "version_minor": 0
      },
      "text/plain": [
       "  0%|          | 0/40 [00:00<?, ?it/s]"
      ]
     },
     "metadata": {},
     "output_type": "display_data"
    },
    {
     "name": "stdout",
     "output_type": "stream",
     "text": [
      "Epoch: [186][0/40]\tTime 1.240 (1.240)\tData 1.177 (1.177)\tLoss 0.5541 (0.5541)\tPrec@1 84.277 (84.277)\n",
      "Test: [0/10]\tTime 0.748 (0.748)\tLoss 0.5004 (0.5004)\tPrec@1 83.398 (83.398)\n",
      " * Prec@1 81.980\n",
      "alpha1 6.175367832183838\n",
      "Best prec1 :  82.20000013427735\n",
      "current lr 1.66927e-05\n"
     ]
    },
    {
     "data": {
      "application/vnd.jupyter.widget-view+json": {
       "model_id": "694563e5856f42e6a43f65d99bd743c7",
       "version_major": 2,
       "version_minor": 0
      },
      "text/plain": [
       "  0%|          | 0/40 [00:00<?, ?it/s]"
      ]
     },
     "metadata": {},
     "output_type": "display_data"
    },
    {
     "name": "stdout",
     "output_type": "stream",
     "text": [
      "Epoch: [187][0/40]\tTime 1.562 (1.562)\tData 1.499 (1.499)\tLoss 0.5671 (0.5671)\tPrec@1 82.910 (82.910)\n",
      "Test: [0/10]\tTime 0.731 (0.731)\tLoss 0.5137 (0.5137)\tPrec@1 83.105 (83.105)\n",
      " * Prec@1 82.050\n",
      "alpha1 6.174719333648682\n",
      "Best prec1 :  82.20000013427735\n",
      "current lr 1.48012e-05\n"
     ]
    },
    {
     "data": {
      "application/vnd.jupyter.widget-view+json": {
       "model_id": "7d2d59bdd2254aac87d95aa7458f2a80",
       "version_major": 2,
       "version_minor": 0
      },
      "text/plain": [
       "  0%|          | 0/40 [00:00<?, ?it/s]"
      ]
     },
     "metadata": {},
     "output_type": "display_data"
    },
    {
     "name": "stdout",
     "output_type": "stream",
     "text": [
      "Epoch: [188][0/40]\tTime 1.228 (1.228)\tData 1.161 (1.161)\tLoss 0.5357 (0.5357)\tPrec@1 85.254 (85.254)\n",
      "Test: [0/10]\tTime 0.702 (0.702)\tLoss 0.5088 (0.5088)\tPrec@1 82.422 (82.422)\n",
      " * Prec@1 81.800\n",
      "alpha1 6.174147129058838\n",
      "Best prec1 :  82.20000013427735\n",
      "current lr 1.30296e-05\n"
     ]
    },
    {
     "data": {
      "application/vnd.jupyter.widget-view+json": {
       "model_id": "e0fecb3af48c4637bf058499cd7b2854",
       "version_major": 2,
       "version_minor": 0
      },
      "text/plain": [
       "  0%|          | 0/40 [00:00<?, ?it/s]"
      ]
     },
     "metadata": {},
     "output_type": "display_data"
    },
    {
     "name": "stdout",
     "output_type": "stream",
     "text": [
      "Epoch: [189][0/40]\tTime 1.226 (1.226)\tData 1.161 (1.161)\tLoss 0.6148 (0.6148)\tPrec@1 82.031 (82.031)\n",
      "Test: [0/10]\tTime 0.712 (0.712)\tLoss 0.5120 (0.5120)\tPrec@1 83.594 (83.594)\n",
      " * Prec@1 81.670\n",
      "alpha1 6.1736321449279785\n",
      "Best prec1 :  82.20000013427735\n",
      "current lr 1.13782e-05\n"
     ]
    },
    {
     "data": {
      "application/vnd.jupyter.widget-view+json": {
       "model_id": "db75dd6329c5402bba7dc680be7551c7",
       "version_major": 2,
       "version_minor": 0
      },
      "text/plain": [
       "  0%|          | 0/40 [00:00<?, ?it/s]"
      ]
     },
     "metadata": {},
     "output_type": "display_data"
    },
    {
     "name": "stdout",
     "output_type": "stream",
     "text": [
      "Epoch: [190][0/40]\tTime 1.241 (1.241)\tData 1.178 (1.178)\tLoss 0.5883 (0.5883)\tPrec@1 83.008 (83.008)\n",
      "Test: [0/10]\tTime 0.716 (0.716)\tLoss 0.5112 (0.5112)\tPrec@1 82.812 (82.812)\n",
      " * Prec@1 81.880\n",
      "alpha1 6.173193454742432\n",
      "Best prec1 :  82.20000013427735\n",
      "current lr 9.84752e-06\n"
     ]
    },
    {
     "data": {
      "application/vnd.jupyter.widget-view+json": {
       "model_id": "38158451d399452ab546e96e941ad82f",
       "version_major": 2,
       "version_minor": 0
      },
      "text/plain": [
       "  0%|          | 0/40 [00:00<?, ?it/s]"
      ]
     },
     "metadata": {},
     "output_type": "display_data"
    },
    {
     "name": "stdout",
     "output_type": "stream",
     "text": [
      "Epoch: [191][0/40]\tTime 1.337 (1.337)\tData 1.274 (1.274)\tLoss 0.6053 (0.6053)\tPrec@1 81.543 (81.543)\n",
      "Test: [0/10]\tTime 0.712 (0.712)\tLoss 0.5103 (0.5103)\tPrec@1 83.887 (83.887)\n",
      " * Prec@1 82.020\n",
      "alpha1 6.172811985015869\n",
      "Best prec1 :  82.20000013427735\n",
      "current lr 8.43789e-06\n"
     ]
    },
    {
     "data": {
      "application/vnd.jupyter.widget-view+json": {
       "model_id": "e1300f79d4cb41efa5173a7414674214",
       "version_major": 2,
       "version_minor": 0
      },
      "text/plain": [
       "  0%|          | 0/40 [00:00<?, ?it/s]"
      ]
     },
     "metadata": {},
     "output_type": "display_data"
    },
    {
     "name": "stdout",
     "output_type": "stream",
     "text": [
      "Epoch: [192][0/40]\tTime 1.300 (1.300)\tData 1.237 (1.237)\tLoss 0.5802 (0.5802)\tPrec@1 83.301 (83.301)\n",
      "Test: [0/10]\tTime 0.711 (0.711)\tLoss 0.5068 (0.5068)\tPrec@1 83.008 (83.008)\n",
      " * Prec@1 81.790\n",
      "alpha1 6.172487735748291\n",
      "Best prec1 :  82.20000013427735\n",
      "current lr 7.14967e-06\n"
     ]
    },
    {
     "data": {
      "application/vnd.jupyter.widget-view+json": {
       "model_id": "825d896b74fa4301b1f697e6ece88480",
       "version_major": 2,
       "version_minor": 0
      },
      "text/plain": [
       "  0%|          | 0/40 [00:00<?, ?it/s]"
      ]
     },
     "metadata": {},
     "output_type": "display_data"
    },
    {
     "name": "stdout",
     "output_type": "stream",
     "text": [
      "Epoch: [193][0/40]\tTime 1.217 (1.217)\tData 1.148 (1.148)\tLoss 0.5614 (0.5614)\tPrec@1 83.594 (83.594)\n",
      "Test: [0/10]\tTime 0.749 (0.749)\tLoss 0.5026 (0.5026)\tPrec@1 83.691 (83.691)\n",
      " * Prec@1 82.100\n",
      "alpha1 6.172201633453369\n",
      "Best prec1 :  82.20000013427735\n",
      "current lr 5.98318e-06\n"
     ]
    },
    {
     "data": {
      "application/vnd.jupyter.widget-view+json": {
       "model_id": "cef7b8fcf389451c99668e7fab06e0d0",
       "version_major": 2,
       "version_minor": 0
      },
      "text/plain": [
       "  0%|          | 0/40 [00:00<?, ?it/s]"
      ]
     },
     "metadata": {},
     "output_type": "display_data"
    },
    {
     "name": "stdout",
     "output_type": "stream",
     "text": [
      "Epoch: [194][0/40]\tTime 1.532 (1.532)\tData 1.469 (1.469)\tLoss 0.6127 (0.6127)\tPrec@1 82.227 (82.227)\n",
      "Test: [0/10]\tTime 0.816 (0.816)\tLoss 0.5024 (0.5024)\tPrec@1 83.398 (83.398)\n",
      " * Prec@1 82.050\n",
      "alpha1 6.171972751617432\n",
      "Best prec1 :  82.20000013427735\n",
      "current lr 4.93871e-06\n"
     ]
    },
    {
     "data": {
      "application/vnd.jupyter.widget-view+json": {
       "model_id": "9016de531ca94bb0ae73084af0e65167",
       "version_major": 2,
       "version_minor": 0
      },
      "text/plain": [
       "  0%|          | 0/40 [00:00<?, ?it/s]"
      ]
     },
     "metadata": {},
     "output_type": "display_data"
    },
    {
     "name": "stdout",
     "output_type": "stream",
     "text": [
      "Epoch: [195][0/40]\tTime 1.326 (1.326)\tData 1.260 (1.260)\tLoss 0.5883 (0.5883)\tPrec@1 82.227 (82.227)\n",
      "Test: [0/10]\tTime 0.832 (0.832)\tLoss 0.5118 (0.5118)\tPrec@1 83.691 (83.691)\n",
      " * Prec@1 82.080\n",
      "alpha1 6.17178201675415\n",
      "Best prec1 :  82.20000013427735\n",
      "current lr 4.01650e-06\n"
     ]
    },
    {
     "data": {
      "application/vnd.jupyter.widget-view+json": {
       "model_id": "1eb97c828f054b55891b8d01fc7dc498",
       "version_major": 2,
       "version_minor": 0
      },
      "text/plain": [
       "  0%|          | 0/40 [00:00<?, ?it/s]"
      ]
     },
     "metadata": {},
     "output_type": "display_data"
    },
    {
     "name": "stdout",
     "output_type": "stream",
     "text": [
      "Epoch: [196][0/40]\tTime 1.495 (1.495)\tData 1.429 (1.429)\tLoss 0.5927 (0.5927)\tPrec@1 82.715 (82.715)\n",
      "Test: [0/10]\tTime 0.723 (0.723)\tLoss 0.5118 (0.5118)\tPrec@1 83.008 (83.008)\n",
      " * Prec@1 81.830\n",
      "alpha1 6.171629428863525\n",
      "Best prec1 :  82.20000013427735\n",
      "current lr 3.21680e-06\n"
     ]
    },
    {
     "data": {
      "application/vnd.jupyter.widget-view+json": {
       "model_id": "42c76bb6a51e4dfb8f7ccfcb0df371a7",
       "version_major": 2,
       "version_minor": 0
      },
      "text/plain": [
       "  0%|          | 0/40 [00:00<?, ?it/s]"
      ]
     },
     "metadata": {},
     "output_type": "display_data"
    },
    {
     "name": "stdout",
     "output_type": "stream",
     "text": [
      "Epoch: [197][0/40]\tTime 1.318 (1.318)\tData 1.255 (1.255)\tLoss 0.5917 (0.5917)\tPrec@1 81.836 (81.836)\n",
      "Test: [0/10]\tTime 0.711 (0.711)\tLoss 0.5105 (0.5105)\tPrec@1 83.398 (83.398)\n",
      " * Prec@1 81.970\n",
      "alpha1 6.1714959144592285\n",
      "Best prec1 :  82.20000013427735\n",
      "current lr 2.53979e-06\n"
     ]
    },
    {
     "data": {
      "application/vnd.jupyter.widget-view+json": {
       "model_id": "016e6c4497fb403288ae23df608192ab",
       "version_major": 2,
       "version_minor": 0
      },
      "text/plain": [
       "  0%|          | 0/40 [00:00<?, ?it/s]"
      ]
     },
     "metadata": {},
     "output_type": "display_data"
    },
    {
     "name": "stdout",
     "output_type": "stream",
     "text": [
      "Epoch: [198][0/40]\tTime 1.277 (1.277)\tData 1.215 (1.215)\tLoss 0.5796 (0.5796)\tPrec@1 82.812 (82.812)\n",
      "Test: [0/10]\tTime 0.828 (0.828)\tLoss 0.5093 (0.5093)\tPrec@1 82.520 (82.520)\n",
      " * Prec@1 81.710\n",
      "alpha1 6.171400547027588\n",
      "Best prec1 :  82.20000013427735\n",
      "current lr 1.98565e-06\n"
     ]
    },
    {
     "data": {
      "application/vnd.jupyter.widget-view+json": {
       "model_id": "e74f918fa59d41ad90f442820f81b92b",
       "version_major": 2,
       "version_minor": 0
      },
      "text/plain": [
       "  0%|          | 0/40 [00:00<?, ?it/s]"
      ]
     },
     "metadata": {},
     "output_type": "display_data"
    },
    {
     "name": "stdout",
     "output_type": "stream",
     "text": [
      "Epoch: [199][0/40]\tTime 1.313 (1.313)\tData 1.250 (1.250)\tLoss 0.5668 (0.5668)\tPrec@1 83.301 (83.301)\n",
      "Test: [0/10]\tTime 0.748 (0.748)\tLoss 0.5092 (0.5092)\tPrec@1 83.496 (83.496)\n",
      " * Prec@1 82.060\n",
      "alpha1 6.171324253082275\n",
      "Best prec1 :  82.20000013427735\n"
     ]
    }
   ],
   "source": [
    "from timm.scheduler import CosineLRScheduler\n",
    "\n",
    "for k in range(6,7):\n",
    "    net = resnet20(k=k)\n",
    "\n",
    "    model = net.cuda()\n",
    "    mixup = False\n",
    "\n",
    "    # Track experiment with wandb\n",
    "    import wandb\n",
    "    watermark = \"resnet20_quantize_k{}\".format(k)\n",
    "\n",
    "    # mess with wandb\n",
    "    wandb.init(project=\"quantize_resnet\", name=watermark)\n",
    "\n",
    "    # define loss function (criterion) and pptimizer\n",
    "    criterion = nn.CrossEntropyLoss().cuda()\n",
    "\n",
    "    # optimizer for pact\n",
    "    optimizer = torch.optim.SGD(model.parameters(), lr=1e-3,\n",
    "                                momentum=0.9,\n",
    "                                weight_decay=0.0002)\n",
    "    optimizer = torch.optim.Adam(model.parameters(), lr=1e-3)\n",
    "\n",
    "    scheduler = CosineLRScheduler(optimizer, t_initial=n_epochs, lr_min=1e-6, \n",
    "                          warmup_t=3, warmup_lr_init=1e-6, warmup_prefix=True)\n",
    "\n",
    "    best_prec1 = 0\n",
    "    os.makedirs(\"models\", exist_ok=True)\n",
    "\n",
    "    for epoch in range(n_epochs):\n",
    "        scheduler.step(epoch)\n",
    "        # train for one epoch\n",
    "        print('current lr {:.5e}'.format(optimizer.param_groups[0]['lr']))\n",
    "        tloss = train(train_loader, model, criterion, optimizer, epoch)         \n",
    "\n",
    "        # evaluate on validation set\n",
    "        prec1, valloss = validate(val_loader, model, criterion)\n",
    "\n",
    "        # wandb\n",
    "        wandb.log({'epoch': epoch, \"prec\":prec1, \"train_loss\": tloss, 'val_loss': valloss, \"lr\": optimizer.param_groups[0][\"lr\"],})\n",
    "\n",
    "        # remember best prec@1 and save checkpoint\n",
    "        is_best = prec1 > best_prec1\n",
    "        best_prec1 = max(prec1, best_prec1)\n",
    "\n",
    "        print(\"Best prec1 : \", best_prec1)\n",
    "        if is_best:\n",
    "            torch.save(model.state_dict(), os.path.join(f'models/{watermark}.pth'))"
   ]
  },
  {
   "cell_type": "code",
   "execution_count": 12,
   "id": "8998c803",
   "metadata": {},
   "outputs": [
    {
     "data": {
      "text/plain": [
       "16"
      ]
     },
     "execution_count": 12,
     "metadata": {},
     "output_type": "execute_result"
    }
   ],
   "source": [
    "from pact_utils import TorchQuantize\n",
    "len(TorchQuantize(bits=4).forward(torch.rand(1,384)).unique())"
   ]
  },
  {
   "cell_type": "code",
   "execution_count": 13,
   "id": "8d894c1f",
   "metadata": {},
   "outputs": [
    {
     "ename": "AttributeError",
     "evalue": "'ResNet' object has no attribute 'blocks'",
     "output_type": "error",
     "traceback": [
      "\u001b[0;31m---------------------------------------------------------------------------\u001b[0m",
      "\u001b[0;31mAttributeError\u001b[0m                            Traceback (most recent call last)",
      "Input \u001b[0;32mIn [13]\u001b[0m, in \u001b[0;36m<cell line: 1>\u001b[0;34m()\u001b[0m\n\u001b[0;32m----> 1\u001b[0m \u001b[43mnet\u001b[49m\u001b[38;5;241;43m.\u001b[39;49m\u001b[43mblocks\u001b[49m[\u001b[38;5;241m1\u001b[39m]\u001b[38;5;241m.\u001b[39mmlp\u001b[38;5;241m.\u001b[39mfc1\u001b[38;5;241m.\u001b[39mforward(torch\u001b[38;5;241m.\u001b[39mrand(\u001b[38;5;241m1\u001b[39m,\u001b[38;5;241m384\u001b[39m)\u001b[38;5;241m.\u001b[39mcuda())\u001b[38;5;241m.\u001b[39munique()\n",
      "File \u001b[0;32m~/anaconda3/envs/pytorch_p38/lib/python3.8/site-packages/torch/nn/modules/module.py:1177\u001b[0m, in \u001b[0;36mModule.__getattr__\u001b[0;34m(self, name)\u001b[0m\n\u001b[1;32m   1175\u001b[0m     \u001b[38;5;28;01mif\u001b[39;00m name \u001b[38;5;129;01min\u001b[39;00m modules:\n\u001b[1;32m   1176\u001b[0m         \u001b[38;5;28;01mreturn\u001b[39;00m modules[name]\n\u001b[0;32m-> 1177\u001b[0m \u001b[38;5;28;01mraise\u001b[39;00m \u001b[38;5;167;01mAttributeError\u001b[39;00m(\u001b[38;5;124m\"\u001b[39m\u001b[38;5;124m'\u001b[39m\u001b[38;5;132;01m{}\u001b[39;00m\u001b[38;5;124m'\u001b[39m\u001b[38;5;124m object has no attribute \u001b[39m\u001b[38;5;124m'\u001b[39m\u001b[38;5;132;01m{}\u001b[39;00m\u001b[38;5;124m'\u001b[39m\u001b[38;5;124m\"\u001b[39m\u001b[38;5;241m.\u001b[39mformat(\n\u001b[1;32m   1178\u001b[0m     \u001b[38;5;28mtype\u001b[39m(\u001b[38;5;28mself\u001b[39m)\u001b[38;5;241m.\u001b[39m\u001b[38;5;18m__name__\u001b[39m, name))\n",
      "\u001b[0;31mAttributeError\u001b[0m: 'ResNet' object has no attribute 'blocks'"
     ]
    }
   ],
   "source": [
    "net.blocks[1].mlp.fc1.forward(torch.rand(1,384).cuda()).unique()"
   ]
  },
  {
   "cell_type": "code",
   "execution_count": null,
   "id": "75eb1382",
   "metadata": {},
   "outputs": [],
   "source": [
    "model.blocks[1].attn.qkv"
   ]
  },
  {
   "cell_type": "code",
   "execution_count": null,
   "id": "bcba9662",
   "metadata": {},
   "outputs": [],
   "source": []
  }
 ],
 "metadata": {
  "kernelspec": {
   "display_name": "Python 3 (ipykernel)",
   "language": "python",
   "name": "python3"
  },
  "language_info": {
   "codemirror_mode": {
    "name": "ipython",
    "version": 3
   },
   "file_extension": ".py",
   "mimetype": "text/x-python",
   "name": "python",
   "nbconvert_exporter": "python",
   "pygments_lexer": "ipython3",
   "version": "3.8.13"
  }
 },
 "nbformat": 4,
 "nbformat_minor": 5
}
