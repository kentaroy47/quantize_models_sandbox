{
 "cells": [
  {
   "cell_type": "markdown",
   "id": "65b5a174",
   "metadata": {},
   "source": [
    "# ViT CIFAR-10\n",
    "load timm ViT and retrain on CIFAR 10"
   ]
  },
  {
   "cell_type": "code",
   "execution_count": 1,
   "id": "3cdfa9b0",
   "metadata": {},
   "outputs": [],
   "source": [
    "NOQUANT_TRAIN = False"
   ]
  },
  {
   "cell_type": "code",
   "execution_count": 2,
   "id": "e95ac49f",
   "metadata": {},
   "outputs": [],
   "source": [
    "import argparse\n",
    "import os\n",
    "import shutil\n",
    "import time\n",
    "import pandas as pd\n",
    "import matplotlib.pyplot as plt\n",
    "\n",
    "from tqdm.notebook import tqdm\n",
    "import time\n",
    "import numpy as np\n",
    "import pandas as pd\n",
    "import cv2\n",
    "import torch\n",
    "import torch.nn as nn\n",
    "import torch.nn.functional as F\n",
    "import torch.optim as optim\n",
    "from torch.optim import lr_scheduler\n",
    "from torch.utils.data import DataLoader, Dataset\n",
    "from torch.utils.data.sampler import SubsetRandomSampler, RandomSampler, SequentialSampler\n",
    "from torch.optim.lr_scheduler import CosineAnnealingWarmRestarts, CosineAnnealingLR, ReduceLROnPlateau\n",
    "\n",
    "DATA_DIR = \"train\"\n",
    "print_freq = 50\n",
    "\n",
    "# vit imsize\n",
    "imsize = 224"
   ]
  },
  {
   "cell_type": "code",
   "execution_count": 3,
   "id": "91238a6e",
   "metadata": {},
   "outputs": [
    {
     "data": {
      "text/html": [
       "<div>\n",
       "<style scoped>\n",
       "    .dataframe tbody tr th:only-of-type {\n",
       "        vertical-align: middle;\n",
       "    }\n",
       "\n",
       "    .dataframe tbody tr th {\n",
       "        vertical-align: top;\n",
       "    }\n",
       "\n",
       "    .dataframe thead th {\n",
       "        text-align: right;\n",
       "    }\n",
       "</style>\n",
       "<table border=\"1\" class=\"dataframe\">\n",
       "  <thead>\n",
       "    <tr style=\"text-align: right;\">\n",
       "      <th></th>\n",
       "      <th>id</th>\n",
       "      <th>label</th>\n",
       "      <th>label_enc</th>\n",
       "      <th>fold</th>\n",
       "    </tr>\n",
       "  </thead>\n",
       "  <tbody>\n",
       "    <tr>\n",
       "      <th>0</th>\n",
       "      <td>1</td>\n",
       "      <td>frog</td>\n",
       "      <td>6</td>\n",
       "      <td>1</td>\n",
       "    </tr>\n",
       "    <tr>\n",
       "      <th>1</th>\n",
       "      <td>2</td>\n",
       "      <td>truck</td>\n",
       "      <td>9</td>\n",
       "      <td>1</td>\n",
       "    </tr>\n",
       "    <tr>\n",
       "      <th>2</th>\n",
       "      <td>3</td>\n",
       "      <td>truck</td>\n",
       "      <td>9</td>\n",
       "      <td>2</td>\n",
       "    </tr>\n",
       "    <tr>\n",
       "      <th>3</th>\n",
       "      <td>4</td>\n",
       "      <td>deer</td>\n",
       "      <td>4</td>\n",
       "      <td>1</td>\n",
       "    </tr>\n",
       "    <tr>\n",
       "      <th>4</th>\n",
       "      <td>5</td>\n",
       "      <td>automobile</td>\n",
       "      <td>1</td>\n",
       "      <td>2</td>\n",
       "    </tr>\n",
       "  </tbody>\n",
       "</table>\n",
       "</div>"
      ],
      "text/plain": [
       "   id       label  label_enc  fold\n",
       "0   1        frog          6     1\n",
       "1   2       truck          9     1\n",
       "2   3       truck          9     2\n",
       "3   4        deer          4     1\n",
       "4   5  automobile          1     2"
      ]
     },
     "execution_count": 3,
     "metadata": {},
     "output_type": "execute_result"
    }
   ],
   "source": [
    "# prepare labels\n",
    "train_df = pd.read_csv(\"trainLabels.csv\")\n",
    "from sklearn.preprocessing import LabelEncoder\n",
    "le = LabelEncoder()\n",
    "train_df['label_enc'] = le.fit_transform(train_df['label'])\n",
    "\n",
    "# 5-fold\n",
    "from sklearn.model_selection import StratifiedKFold\n",
    "skf = StratifiedKFold(n_splits=5, shuffle=True, random_state=42)\n",
    "\n",
    "train_df[\"fold\"] = -1\n",
    "for i, (train_index, test_index) in enumerate(skf.split(train_df.id, train_df.label_enc)):\n",
    "    train_df.loc[test_index, 'fold'] = i\n",
    "train_df.head()"
   ]
  },
  {
   "cell_type": "code",
   "execution_count": 4,
   "id": "44be87f4",
   "metadata": {},
   "outputs": [],
   "source": [
    "class cifarDataset(Dataset):\n",
    "    def __init__(self,\n",
    "                 df,\n",
    "                 rand=False,\n",
    "                 transform=None,\n",
    "                 test=False\n",
    "                ):\n",
    "\n",
    "        self.df = df.reset_index(drop=True)\n",
    "        self.rand = rand\n",
    "        self.transform = transform\n",
    "        self.test = test\n",
    "\n",
    "    def __len__(self):\n",
    "        return self.df.shape[0]\n",
    "\n",
    "    def __getitem__(self, index):\n",
    "        row = self.df.iloc[index]\n",
    "        img_id = row.id\n",
    "        \n",
    "        images = cv2.imread(os.path.join(DATA_DIR, str(img_id)+\".png\"))\n",
    "        \n",
    "        # Load labels\n",
    "        label = row.label_enc\n",
    "        \n",
    "        # aug\n",
    "        if self.transform is not None:\n",
    "            images = self.transform(image=images)['image']\n",
    "              \n",
    "        #images = images.astype(np.float32)\n",
    "        #images /= 255\n",
    "        images = images.transpose(2, 0, 1)\n",
    "        \n",
    "        label = label.astype(np.float32)\n",
    "        #label2 = label2.astype(np.float32)\n",
    "        return torch.tensor(images), torch.tensor(label),"
   ]
  },
  {
   "cell_type": "code",
   "execution_count": 5,
   "id": "cd5517a6",
   "metadata": {},
   "outputs": [
    {
     "name": "stderr",
     "output_type": "stream",
     "text": [
      "/home/ken/anaconda3/envs/pytorch_p38/lib/python3.8/site-packages/albumentations/augmentations/dropout/cutout.py:50: FutureWarning: Cutout has been deprecated. Please use CoarseDropout\n",
      "  warnings.warn(\n"
     ]
    }
   ],
   "source": [
    "import albumentations as A\n",
    "import albumentations\n",
    "\n",
    "transforms_train = albumentations.Compose([\n",
    "    albumentations.ShiftScaleRotate(scale_limit=0.3, rotate_limit=180,p=0.5),\n",
    "    A.Cutout(num_holes=12, max_h_size=4, max_w_size=4, fill_value=0, p=0.5),\n",
    "    #albumentations.Rotate(p=0.5),\n",
    "    #albumentations.Transpose(p=0.5),\n",
    "    #albumentations.VerticalFlip(p=0.5),\n",
    "    albumentations.HorizontalFlip(p=0.5),   \n",
    "    albumentations.Resize(imsize, imsize, p=1.0), \n",
    "    albumentations.Normalize(mean=(0.485, 0.456, 0.406),\n",
    "                       std=(0.229, 0.224, 0.225), p=1),\n",
    "])\n",
    "\n",
    "transforms_val = albumentations.Compose([albumentations.Resize(imsize, imsize, p=1.0),\n",
    "                                         albumentations.Normalize(mean=(0.485, 0.456, 0.406),\n",
    "                       std=(0.229, 0.224, 0.225), p=1),])"
   ]
  },
  {
   "cell_type": "code",
   "execution_count": 6,
   "id": "e3726718",
   "metadata": {
    "scrolled": true
   },
   "outputs": [
    {
     "name": "stderr",
     "output_type": "stream",
     "text": [
      "Clipping input data to the valid range for imshow with RGB data ([0..1] for floats or [0..255] for integers).\n",
      "Clipping input data to the valid range for imshow with RGB data ([0..1] for floats or [0..255] for integers).\n",
      "Clipping input data to the valid range for imshow with RGB data ([0..1] for floats or [0..255] for integers).\n",
      "Clipping input data to the valid range for imshow with RGB data ([0..1] for floats or [0..255] for integers).\n",
      "Clipping input data to the valid range for imshow with RGB data ([0..1] for floats or [0..255] for integers).\n",
      "Clipping input data to the valid range for imshow with RGB data ([0..1] for floats or [0..255] for integers).\n",
      "Clipping input data to the valid range for imshow with RGB data ([0..1] for floats or [0..255] for integers).\n",
      "Clipping input data to the valid range for imshow with RGB data ([0..1] for floats or [0..255] for integers).\n",
      "Clipping input data to the valid range for imshow with RGB data ([0..1] for floats or [0..255] for integers).\n",
      "Clipping input data to the valid range for imshow with RGB data ([0..1] for floats or [0..255] for integers).\n",
      "Clipping input data to the valid range for imshow with RGB data ([0..1] for floats or [0..255] for integers).\n",
      "Clipping input data to the valid range for imshow with RGB data ([0..1] for floats or [0..255] for integers).\n",
      "Clipping input data to the valid range for imshow with RGB data ([0..1] for floats or [0..255] for integers).\n",
      "Clipping input data to the valid range for imshow with RGB data ([0..1] for floats or [0..255] for integers).\n",
      "Clipping input data to the valid range for imshow with RGB data ([0..1] for floats or [0..255] for integers).\n"
     ]
    },
    {
     "data": {
      "image/png": "[encoded data removed]",
      "text/plain": [
       "<Figure size 432x288 with 5 Axes>"
      ]
     },
     "metadata": {
      "needs_background": "light"
     },
     "output_type": "display_data"
    },
    {
     "data": {
      "image/png": "[encoded data removed]",
      "text/plain": [
       "<Figure size 432x288 with 5 Axes>"
      ]
     },
     "metadata": {
      "needs_background": "light"
     },
     "output_type": "display_data"
    },
    {
     "data": {
      "image/png": "[encoded data removed]",
      "text/plain": [
       "<Figure size 432x288 with 5 Axes>"
      ]
     },
     "metadata": {
      "needs_background": "light"
     },
     "output_type": "display_data"
    }
   ],
   "source": [
    "dataset_show = cifarDataset(train_df, transform=transforms_train)\n",
    "from pylab import rcParams\n",
    "rcParams['figure.figsize'] = 20,10\n",
    "for i in range(3):\n",
    "    f, axarr = plt.subplots(1,5)\n",
    "    for p in range(5):\n",
    "        idx = np.random.randint(0, len(dataset_show))\n",
    "        img, label = dataset_show[idx]\n",
    "        img = img.flip(0) #BGR2RGB\n",
    "        axarr[p].imshow(img.transpose(0,1).transpose(1,2))\n",
    "        axarr[p].set_title(str(label))\n",
    "plt.show()"
   ]
  },
  {
   "cell_type": "code",
   "execution_count": 7,
   "id": "be374443",
   "metadata": {},
   "outputs": [],
   "source": [
    "def train(train_loader, model, criterion, optimizer, epoch):\n",
    "    \"\"\"\n",
    "        Run one train epoch\n",
    "    \"\"\"\n",
    "    batch_time = AverageMeter()\n",
    "    data_time = AverageMeter()\n",
    "    losses = AverageMeter()\n",
    "    top1 = AverageMeter()\n",
    "\n",
    "    # switch to train mode\n",
    "    model.train()\n",
    "\n",
    "    end = time.time()\n",
    "    lambda_alpha = 0.002\n",
    "    for i, (input, target) in enumerate(tqdm(train_loader)):\n",
    "\n",
    "        # measure data loading time\n",
    "        data_time.update(time.time() - end)\n",
    "        target2 = target\n",
    "\n",
    "        target = target.long().cuda()\n",
    "        target2 = target2.long().cuda()\n",
    "        input_var = input.cuda()\n",
    "        target_var = target\n",
    "\n",
    "        if not mixup:\n",
    "          alpha = 0\n",
    "        else:\n",
    "          alpha = 1\n",
    "        \n",
    "\n",
    "        # compute output\n",
    "        output = model(input_var)\n",
    "        loss = criterion(output, target_var)\n",
    "\n",
    "        # L2 regularization\n",
    "        l2_alpha = 0.0\n",
    "        for name, param in model.named_parameters():\n",
    "            if \"alpha\" in name:\n",
    "                l2_alpha += torch.pow(param, 2)\n",
    "        loss += lambda_alpha * l2_alpha\n",
    "\n",
    "        # compute gradient and do SGD step\n",
    "        optimizer.zero_grad()\n",
    "        loss.backward()\n",
    "        optimizer.step()\n",
    "\n",
    "        output = output.float()\n",
    "        loss = loss.float()\n",
    "        # measure accuracy and record loss\n",
    "        prec1 = accuracy(output.data, target)[0]\n",
    "        losses.update(loss.item(), input.size(0))\n",
    "        top1.update(prec1.item(), input.size(0))\n",
    "\n",
    "        # measure elapsed time\n",
    "        batch_time.update(time.time() - end)\n",
    "        end = time.time()\n",
    "\n",
    "        if i % print_freq == 0:\n",
    "            print('Epoch: [{0}][{1}/{2}]\\t'\n",
    "                  'Time {batch_time.val:.3f} ({batch_time.avg:.3f})\\t'\n",
    "                  'Data {data_time.val:.3f} ({data_time.avg:.3f})\\t'\n",
    "                  'Loss {loss.val:.4f} ({loss.avg:.4f})\\t'\n",
    "                  'Prec@1 {top1.val:.3f} ({top1.avg:.3f})'.format(\n",
    "                      epoch, i, len(train_loader), batch_time=batch_time,\n",
    "                      data_time=data_time, loss=losses, top1=top1))\n",
    "    return losses.avg\n",
    "\n",
    "def validate(val_loader, model, criterion):\n",
    "    \"\"\"\n",
    "    Run evaluation\n",
    "    \"\"\"\n",
    "    batch_time = AverageMeter()\n",
    "    losses = AverageMeter()\n",
    "    top1 = AverageMeter()\n",
    "\n",
    "    # switch to evaluate mode\n",
    "    model.eval()\n",
    "\n",
    "    end = time.time()\n",
    "    with torch.no_grad():\n",
    "        for i, (input, target) in enumerate(val_loader):\n",
    "            target = target.long().cuda()\n",
    "            input_var = input.cuda()\n",
    "            target_var = target.cuda()\n",
    "\n",
    "            # compute output\n",
    "            output = model(input_var)\n",
    "            loss = criterion(output, target_var)\n",
    "\n",
    "            output = output.float()\n",
    "            loss = loss.float()\n",
    "\n",
    "            # measure accuracy and record loss\n",
    "            prec1 = accuracy(output.data, target)[0]\n",
    "            losses.update(loss.item(), input.size(0))\n",
    "            top1.update(prec1.item(), input.size(0))\n",
    "\n",
    "            # measure elapsed time\n",
    "            batch_time.update(time.time() - end)\n",
    "            end = time.time()\n",
    "\n",
    "            if i % print_freq == 0:\n",
    "                print('Test: [{0}/{1}]\\t'\n",
    "                      'Time {batch_time.val:.3f} ({batch_time.avg:.3f})\\t'\n",
    "                      'Loss {loss.val:.4f} ({loss.avg:.4f})\\t'\n",
    "                      'Prec@1 {top1.val:.3f} ({top1.avg:.3f})'.format(\n",
    "                          i, len(val_loader), batch_time=batch_time, loss=losses,\n",
    "                          top1=top1))\n",
    "\n",
    "    print(' * Prec@1 {top1.avg:.3f}'\n",
    "          .format(top1=top1))\n",
    "    for name, param in model.named_parameters():\n",
    "        if \"alpha\" in name:\n",
    "            print(name, param.item())\n",
    "    return top1.avg, losses.avg\n",
    "\n",
    "def save_checkpoint(state, filename='checkpoint.pth'):\n",
    "    \"\"\"\n",
    "    Save the training model\n",
    "    \"\"\"\n",
    "    torch.save(state, filename)\n",
    "\n",
    "class AverageMeter(object):\n",
    "    \"\"\"Computes and stores the average and current value\"\"\"\n",
    "    def __init__(self):\n",
    "        self.reset()\n",
    "\n",
    "    def reset(self):\n",
    "        self.val = 0\n",
    "        self.avg = 0\n",
    "        self.sum = 0\n",
    "        self.count = 0\n",
    "\n",
    "    def update(self, val, n=1):\n",
    "        self.val = val\n",
    "        self.sum += val * n\n",
    "        self.count += n\n",
    "        self.avg = self.sum / self.count\n",
    "\n",
    "\n",
    "def accuracy(output, target, topk=(1,)):\n",
    "    \"\"\"Computes the precision@k for the specified values of k\"\"\"\n",
    "    maxk = max(topk)\n",
    "    batch_size = target.size(0)\n",
    "\n",
    "    _, pred = output.topk(maxk, 1, True, True)\n",
    "    pred = pred.t()\n",
    "    correct = pred.eq(target.view(1, -1).expand_as(pred))\n",
    "\n",
    "    res = []\n",
    "    for k in topk:\n",
    "        correct_k = correct[:k].view(-1).float().sum(0)\n",
    "        res.append(correct_k.mul_(100.0 / batch_size))\n",
    "    return res"
   ]
  },
  {
   "cell_type": "code",
   "execution_count": 8,
   "id": "6f005fd3",
   "metadata": {},
   "outputs": [],
   "source": [
    "train_dataset = cifarDataset(train_df[train_df.fold!=0], transform=transforms_train)\n",
    "val_dataset = cifarDataset(train_df[train_df.fold==0], transform=transforms_val, test=True)\n",
    "\n",
    "train_loader = torch.utils.data.DataLoader(\n",
    "        train_dataset,\n",
    "        batch_size=128, shuffle=True,\n",
    "        num_workers=8, pin_memory=True)\n",
    "\n",
    "val_loader = torch.utils.data.DataLoader(\n",
    "    val_dataset,\n",
    "    batch_size=512, shuffle=False,\n",
    "    num_workers=8, pin_memory=True)"
   ]
  },
  {
   "cell_type": "markdown",
   "id": "4e27cd90",
   "metadata": {},
   "source": [
    "# Train VIT without quantization"
   ]
  },
  {
   "cell_type": "code",
   "execution_count": 9,
   "id": "c40788cb",
   "metadata": {},
   "outputs": [],
   "source": [
    "if NOQUANT_TRAIN:\n",
    "    import timm\n",
    "    net = timm.create_model(\"vit_base_patch16_224\", pretrained=True)\n",
    "    net.head = nn.Linear(net.head.in_features, 10)\n",
    "    model = net.cuda()\n",
    "    mixup = False\n",
    "\n",
    "    import wandb\n",
    "    watermark = \"vit_base_noquant\"\n",
    "    wandb.init(project=\"pact_vit\",\n",
    "                name=watermark)\n",
    "\n",
    "    # define loss function (criterion) and pptimizer\n",
    "    criterion = nn.CrossEntropyLoss().cuda()\n",
    "\n",
    "    #optimizer = torch.optim.Adam(model.parameters(), lr=0.00001)\n",
    "    optimizer = torch.optim.SGD(model.parameters(), lr=1e-3,\n",
    "                                momentum=0.9,\n",
    "                                weight_decay=0.0002)\n",
    "\n",
    "    lr_scheduler = torch.optim.lr_scheduler.MultiStepLR(optimizer, \n",
    "                                                        milestones=[80, 150],)\n",
    "\n",
    "    best_prec1 = 0\n",
    "    os.makedirs(\"models\", exist_ok=True)\n",
    "    for epoch in range(10):\n",
    "        # train for one epoch\n",
    "        print('current lr {:.5e}'.format(optimizer.param_groups[0]['lr']))\n",
    "        tloss = train(train_loader, model, criterion, optimizer, epoch)\n",
    "        lr_scheduler.step()\n",
    "\n",
    "        # evaluate on validation set\n",
    "        prec1, valloss = validate(val_loader, model, criterion)\n",
    "\n",
    "        # wandb\n",
    "        wandb.log({'epoch': epoch, \"prec\":prec1, \"train_loss\": tloss, 'val_loss': valloss, \"lr\": optimizer.param_groups[0][\"lr\"],})\n",
    "\n",
    "        # remember best prec@1 and save checkpoint\n",
    "        is_best = prec1 > best_prec1\n",
    "        best_prec1 = max(prec1, best_prec1)\n",
    "\n",
    "        print(\"Best prec1 : \", best_prec1)\n",
    "        if is_best:\n",
    "            torch.save(model.state_dict(), os.path.join(f'models/{watermark}.pth'))"
   ]
  },
  {
   "cell_type": "markdown",
   "id": "c3f38958",
   "metadata": {},
   "source": [
    "# Train with quantization"
   ]
  },
  {
   "cell_type": "code",
   "execution_count": 10,
   "id": "ba9817ad",
   "metadata": {},
   "outputs": [],
   "source": [
    "from module import ActFn\n",
    "\n",
    "# For activation quantization\n",
    "class Activation(nn.Module):\n",
    "    def __init__(self, k):\n",
    "        super().__init__()\n",
    "        self.ActFn = ActFn.apply\n",
    "        self.k = k\n",
    "        self.alpha = nn.Parameter(torch.tensor(10.))\n",
    "    \n",
    "    def forward(self, x):\n",
    "        return self.ActFn(x, self.alpha, self.k)"
   ]
  },
  {
   "cell_type": "code",
   "execution_count": 11,
   "id": "b70d83cf",
   "metadata": {},
   "outputs": [],
   "source": [
    "# have fun with timm models\n",
    "\n",
    "from timm.models.layers import Mlp, DropPath, trunc_normal_, lecun_normal_\n",
    "from timm.models.registry import register_model\n",
    "from timm.data import IMAGENET_DEFAULT_MEAN, IMAGENET_DEFAULT_STD, IMAGENET_INCEPTION_MEAN, IMAGENET_INCEPTION_STD\n",
    "from timm.models.helpers import build_model_with_cfg, named_apply, adapt_input_conv\n",
    "from functools import partial\n",
    "from pact_utils import QuantizedLinear, TorchQuantize, QuantizedConv2d\n",
    "\n",
    "from timm.models.layers.helpers import to_2tuple\n",
    "from timm.models.layers.trace_utils import _assert\n",
    "\n",
    "\n",
    "class PatchEmbed(nn.Module):\n",
    "    \"\"\" 2D Image to Patch Embedding\n",
    "    \"\"\"\n",
    "    def __init__(self, img_size=224, patch_size=16, in_chans=3, embed_dim=768, norm_layer=None, flatten=True, wbits=8, abits=8):\n",
    "        super().__init__()\n",
    "        img_size = to_2tuple(img_size)\n",
    "        patch_size = to_2tuple(patch_size)\n",
    "        self.img_size = img_size\n",
    "        self.patch_size = patch_size\n",
    "        self.grid_size = (img_size[0] // patch_size[0], img_size[1] // patch_size[1])\n",
    "        self.num_patches = self.grid_size[0] * self.grid_size[1]\n",
    "        self.flatten = flatten\n",
    "\n",
    "        self.proj = QuantizedConv2d(in_chans, embed_dim, kernel_size=patch_size, stride=patch_size, wbits=wbits, abits=abits)\n",
    "        self.norm = norm_layer(embed_dim) if norm_layer else nn.Identity()\n",
    "\n",
    "    def forward(self, x):\n",
    "        B, C, H, W = x.shape\n",
    "        _assert(H == self.img_size[0], f\"Input image height ({H}) doesn't match model ({self.img_size[0]}).\")\n",
    "        _assert(W == self.img_size[1], f\"Input image width ({W}) doesn't match model ({self.img_size[1]}).\")\n",
    "        x = self.proj(x)\n",
    "        if self.flatten:\n",
    "            x = x.flatten(2).transpose(1, 2)  # BCHW -> BNC\n",
    "        x = self.norm(x)\n",
    "        return x\n",
    "\n",
    "class Mlp(nn.Module):\n",
    "    def __init__(self, in_features, hidden_features=None, out_features=None, act_layer=nn.GELU, drop=0., wk=8, ik=8, pact=False, noise=0):\n",
    "        super().__init__()\n",
    "        out_features = out_features or in_features\n",
    "        hidden_features = hidden_features or in_features\n",
    "        self.fc1 = QuantizedLinear(in_features, hidden_features, True, wk, ik, pact, noise, half=True)\n",
    "        self.act = act_layer()\n",
    "        self.fc2 = QuantizedLinear(hidden_features, out_features, True, wk, ik, pact, noise, half=True)\n",
    "        self.drop = nn.Dropout(drop)\n",
    "        \n",
    "        # PACT\n",
    "        self.k = ik\n",
    "        \n",
    "    def forward(self, x):\n",
    "        x = self.fc1(x)\n",
    "        x = self.act(x)\n",
    "        x = self.drop(x)\n",
    "        x = self.fc2(x)\n",
    "        x = self.drop(x)\n",
    "        return x\n",
    "\n",
    "class Attention(nn.Module):\n",
    "    def __init__(self, dim, num_heads=8, qkv_bias=False, attn_drop=0., proj_drop=0., wk=8, ik=8, pact=False, noise=0):\n",
    "        super().__init__()\n",
    "        self.num_heads = num_heads\n",
    "        head_dim = dim // num_heads\n",
    "        self.scale = head_dim ** -0.5\n",
    "\n",
    "        self.qkv = QuantizedLinear(dim, dim * 3, qkv_bias, wk, ik, pact, noise)\n",
    "        self.attn_drop = nn.Dropout(attn_drop)\n",
    "        self.proj = QuantizedLinear(dim, dim, True, wk, ik, pact, noise)\n",
    "        self.proj_drop = nn.Dropout(proj_drop)\n",
    "        self.quantize = TorchQuantize(ik)\n",
    "        \n",
    "        # PACT\n",
    "        self.k = ik\n",
    "\n",
    "    def forward(self, x):\n",
    "        B, N, C = x.shape\n",
    "        qkv = self.qkv(x).reshape(B, N, 3, self.num_heads, C // self.num_heads).permute(2, 0, 3, 1, 4)\n",
    "        q, k, v = qkv[0], qkv[1], qkv[2]   # make torchscript happy (cannot use tensor as tuple)\n",
    "\n",
    "        attn = (self.quantize(q) @ self.quantize(k.transpose(-2, -1))) * self.scale\n",
    "        attn = attn.softmax(dim=-1)\n",
    "        attn = self.attn_drop(attn)\n",
    "\n",
    "        x = (self.quantize(attn) @ self.quantize(v)).transpose(1, 2).reshape(B, N, C)\n",
    "        x = self.proj(x)\n",
    "        x = self.proj_drop(x)\n",
    "        return x\n",
    "\n",
    "\n",
    "class Block(nn.Module):\n",
    "    def __init__(self, dim, num_heads, mlp_ratio=4., qkv_bias=False, drop=0., attn_drop=0.,\n",
    "                 drop_path=0., act_layer=nn.GELU, norm_layer=nn.LayerNorm, wk=8, ik=8, pact=False, attenkw=5, attenki=5, noise=0):\n",
    "        super().__init__()\n",
    "        self.norm1 = norm_layer(dim)\n",
    "        self.attn = Attention(dim, num_heads=num_heads, qkv_bias=qkv_bias, attn_drop=attn_drop, proj_drop=drop, wk=attenkw, ik=attenki, pact=pact, noise=noise)\n",
    "        # NOTE: drop path for stochastic depth, we shall see if this is better than dropout here\n",
    "        self.drop_path = DropPath(drop_path) if drop_path > 0. else nn.Identity()\n",
    "        self.norm2 = norm_layer(dim)\n",
    "        mlp_hidden_dim = int(dim * mlp_ratio)\n",
    "        self.mlp = Mlp(in_features=dim, hidden_features=mlp_hidden_dim, act_layer=act_layer, drop=drop, wk=wk, ik=ik, noise=noise)\n",
    "\n",
    "    def forward(self, x):\n",
    "        x = x + self.drop_path(self.attn(self.norm1(x)))\n",
    "        x = x + self.drop_path(self.mlp(self.norm2(x)))\n",
    "        return x\n",
    "\n",
    "\n",
    "class VisionTransformer(nn.Module):\n",
    "    \"\"\" Vision Transformer\n",
    "    A PyTorch impl of : `An Image is Worth 16x16 Words: Transformers for Image Recognition at Scale`\n",
    "        - https://arxiv.org/abs/2010.11929\n",
    "    Includes distillation token & head support for `DeiT: Data-efficient Image Transformers`\n",
    "        - https://arxiv.org/abs/2012.12877\n",
    "    \"\"\"\n",
    "\n",
    "    def __init__(self, img_size=224, patch_size=16, in_chans=3, num_classes=1000, embed_dim=768, depth=12,\n",
    "                 num_heads=12, mlp_ratio=4., qkv_bias=True, representation_size=None, distilled=False,\n",
    "                 drop_rate=0., attn_drop_rate=0., drop_path_rate=0., embed_layer=PatchEmbed, norm_layer=None,\n",
    "                 act_layer=None, weight_init='', wk=8, ik=8, pact=False, attenkw=5, attenki=5, noise=0):\n",
    "        \"\"\"\n",
    "        Args:\n",
    "            img_size (int, tuple): input image size\n",
    "            patch_size (int, tuple): patch size\n",
    "            in_chans (int): number of input channels\n",
    "            num_classes (int): number of classes for classification head\n",
    "            embed_dim (int): embedding dimension\n",
    "            depth (int): depth of transformer\n",
    "            num_heads (int): number of attention heads\n",
    "            mlp_ratio (int): ratio of mlp hidden dim to embedding dim\n",
    "            qkv_bias (bool): enable bias for qkv if True\n",
    "            representation_size (Optional[int]): enable and set representation layer (pre-logits) to this value if set\n",
    "            distilled (bool): model includes a distillation token and head as in DeiT models\n",
    "            drop_rate (float): dropout rate\n",
    "            attn_drop_rate (float): attention dropout rate\n",
    "            drop_path_rate (float): stochastic depth rate\n",
    "            embed_layer (nn.Module): patch embedding layer\n",
    "            norm_layer: (nn.Module): normalization layer\n",
    "            weight_init: (str): weight init scheme\n",
    "        \"\"\"\n",
    "        super().__init__()\n",
    "        self.num_classes = num_classes\n",
    "        self.num_features = self.embed_dim = embed_dim  # num_features for consistency with other models\n",
    "        self.num_tokens = 2 if distilled else 1\n",
    "        norm_layer = norm_layer or partial(nn.LayerNorm, eps=1e-6)\n",
    "        act_layer = act_layer or nn.GELU\n",
    "\n",
    "        self.patch_embed = embed_layer(\n",
    "            img_size=img_size, patch_size=patch_size, in_chans=in_chans, embed_dim=embed_dim, abits=8, wbits=8)\n",
    "        num_patches = self.patch_embed.num_patches\n",
    "\n",
    "        self.cls_token = nn.Parameter(torch.zeros(1, 1, embed_dim))\n",
    "        self.dist_token = nn.Parameter(torch.zeros(1, 1, embed_dim)) if distilled else None\n",
    "        self.pos_embed = nn.Parameter(torch.zeros(1, num_patches + self.num_tokens, embed_dim))\n",
    "        self.pos_drop = nn.Dropout(p=drop_rate)\n",
    "\n",
    "        dpr = [x.item() for x in torch.linspace(0, drop_path_rate, depth)]  # stochastic depth decay rule\n",
    "        self.blocks = nn.Sequential(*[\n",
    "            Block(\n",
    "                dim=embed_dim, num_heads=num_heads, mlp_ratio=mlp_ratio, qkv_bias=qkv_bias, drop=drop_rate,\n",
    "                attn_drop=attn_drop_rate, drop_path=dpr[i], norm_layer=norm_layer, act_layer=act_layer, wk=wk, ik=ik, pact=pact, \n",
    "                attenkw=attenkw, attenki=attenki, noise=noise)\n",
    "            for i in range(depth)])\n",
    "        self.norm = norm_layer(embed_dim)\n",
    "\n",
    "        # Representation layer\n",
    "        if representation_size and not distilled:\n",
    "            self.num_features = representation_size\n",
    "            self.pre_logits = nn.Sequential(OrderedDict([\n",
    "                ('fc', nn.Linear(embed_dim, representation_size)),\n",
    "                ('act', nn.Tanh())\n",
    "            ]))\n",
    "        else:\n",
    "            self.pre_logits = nn.Identity()\n",
    "\n",
    "        # Classifier head(s)\n",
    "        self.head = nn.Linear(self.num_features, num_classes) if num_classes > 0 else nn.Identity()\n",
    "        self.head_dist = None\n",
    "        if distilled:\n",
    "            self.head_dist = nn.Linear(self.embed_dim, self.num_classes) if num_classes > 0 else nn.Identity()\n",
    "\n",
    "        self.init_weights(weight_init)\n",
    "\n",
    "    def init_weights(self, mode=''):\n",
    "        assert mode in ('jax', 'jax_nlhb', 'nlhb', '')\n",
    "        head_bias = -math.log(self.num_classes) if 'nlhb' in mode else 0.\n",
    "        trunc_normal_(self.pos_embed, std=.02)\n",
    "        if self.dist_token is not None:\n",
    "            trunc_normal_(self.dist_token, std=.02)\n",
    "        if mode.startswith('jax'):\n",
    "            # leave cls token as zeros to match jax impl\n",
    "            named_apply(partial(_init_vit_weights, head_bias=head_bias, jax_impl=True), self)\n",
    "        else:\n",
    "            trunc_normal_(self.cls_token, std=.02)\n",
    "            self.apply(_init_vit_weights)\n",
    "\n",
    "    def _init_weights(self, m):\n",
    "        # this fn left here for compat with downstream users\n",
    "        _init_vit_weights(m)\n",
    "\n",
    "    @torch.jit.ignore()\n",
    "    def load_pretrained(self, checkpoint_path, prefix=''):\n",
    "        _load_weights(self, checkpoint_path, prefix)\n",
    "\n",
    "    @torch.jit.ignore\n",
    "    def no_weight_decay(self):\n",
    "        return {'pos_embed', 'cls_token', 'dist_token'}\n",
    "\n",
    "    def get_classifier(self):\n",
    "        if self.dist_token is None:\n",
    "            return self.head\n",
    "        else:\n",
    "            return self.head, self.head_dist\n",
    "\n",
    "    def reset_classifier(self, num_classes, global_pool=''):\n",
    "        self.num_classes = num_classes\n",
    "        self.head = nn.Linear(self.embed_dim, num_classes) if num_classes > 0 else nn.Identity()\n",
    "        if self.num_tokens == 2:\n",
    "            self.head_dist = nn.Linear(self.embed_dim, self.num_classes) if num_classes > 0 else nn.Identity()\n",
    "\n",
    "    def forward_features(self, x):\n",
    "        x = self.patch_embed(x)\n",
    "        cls_token = self.cls_token.expand(x.shape[0], -1, -1)  # stole cls_tokens impl from Phil Wang, thanks\n",
    "        if self.dist_token is None:\n",
    "            x = torch.cat((cls_token, x), dim=1)\n",
    "        else:\n",
    "            x = torch.cat((cls_token, self.dist_token.expand(x.shape[0], -1, -1), x), dim=1)\n",
    "        x = self.pos_drop(x + self.pos_embed)\n",
    "        x = self.blocks(x)\n",
    "        x = self.norm(x)\n",
    "        if self.dist_token is None:\n",
    "            return self.pre_logits(x[:, 0])\n",
    "        else:\n",
    "            return x[:, 0], x[:, 1]\n",
    "\n",
    "    def forward(self, x):\n",
    "        x = self.forward_features(x)\n",
    "        if self.head_dist is not None:\n",
    "            x, x_dist = self.head(x[0]), self.head_dist(x[1])  # x must be a tuple\n",
    "            if self.training and not torch.jit.is_scripting():\n",
    "                # during inference, return the average of both classifier predictions\n",
    "                return x, x_dist\n",
    "            else:\n",
    "                return (x + x_dist) / 2\n",
    "        else:\n",
    "            x = self.head(x)\n",
    "        return x\n",
    "\n",
    "\n",
    "def _init_vit_weights(module: nn.Module, name: str = '', head_bias: float = 0., jax_impl: bool = False):\n",
    "    \"\"\" ViT weight initialization\n",
    "    * When called without n, head_bias, jax_impl args it will behave exactly the same\n",
    "      as my original init for compatibility with prev hparam / downstream use cases (ie DeiT).\n",
    "    * When called w/ valid n (module name) and jax_impl=True, will (hopefully) match JAX impl\n",
    "    \"\"\"\n",
    "    if isinstance(module, nn.Linear):\n",
    "        if name.startswith('head'):\n",
    "            nn.init.zeros_(module.weight)\n",
    "            nn.init.constant_(module.bias, head_bias)\n",
    "        elif name.startswith('pre_logits'):\n",
    "            lecun_normal_(module.weight)\n",
    "            nn.init.zeros_(module.bias)\n",
    "        else:\n",
    "            if jax_impl:\n",
    "                nn.init.xavier_uniform_(module.weight)\n",
    "                if module.bias is not None:\n",
    "                    if 'mlp' in name:\n",
    "                        nn.init.normal_(module.bias, std=1e-6)\n",
    "                    else:\n",
    "                        nn.init.zeros_(module.bias)\n",
    "            else:\n",
    "                trunc_normal_(module.weight, std=.02)\n",
    "                if module.bias is not None:\n",
    "                    nn.init.zeros_(module.bias)\n",
    "    elif jax_impl and isinstance(module, nn.Conv2d):\n",
    "        # NOTE conv was left to pytorch default in my original init\n",
    "        lecun_normal_(module.weight)\n",
    "        if module.bias is not None:\n",
    "            nn.init.zeros_(module.bias)\n",
    "    elif isinstance(module, (nn.LayerNorm, nn.GroupNorm, nn.BatchNorm2d)):\n",
    "        nn.init.zeros_(module.bias)\n",
    "        nn.init.ones_(module.weight)\n",
    "\n",
    "\n",
    "@torch.no_grad()\n",
    "def _load_weights(model: VisionTransformer, checkpoint_path: str, prefix: str = ''):\n",
    "    \"\"\" Load weights from .npz checkpoints for official Google Brain Flax implementation\n",
    "    \"\"\"\n",
    "    import numpy as np\n",
    "\n",
    "    def _n2p(w, t=True):\n",
    "        if w.ndim == 4 and w.shape[0] == w.shape[1] == w.shape[2] == 1:\n",
    "            w = w.flatten()\n",
    "        if t:\n",
    "            if w.ndim == 4:\n",
    "                w = w.transpose([3, 2, 0, 1])\n",
    "            elif w.ndim == 3:\n",
    "                w = w.transpose([2, 0, 1])\n",
    "            elif w.ndim == 2:\n",
    "                w = w.transpose([1, 0])\n",
    "        return torch.from_numpy(w)\n",
    "\n",
    "    w = np.load(checkpoint_path)\n",
    "    if not prefix and 'opt/target/embedding/kernel' in w:\n",
    "        prefix = 'opt/target/'\n",
    "\n",
    "    if hasattr(model.patch_embed, 'backbone'):\n",
    "        # hybrid\n",
    "        backbone = model.patch_embed.backbone\n",
    "        stem_only = not hasattr(backbone, 'stem')\n",
    "        stem = backbone if stem_only else backbone.stem\n",
    "        stem.conv.weight.copy_(adapt_input_conv(stem.conv.weight.shape[1], _n2p(w[f'{prefix}conv_root/kernel'])))\n",
    "        stem.norm.weight.copy_(_n2p(w[f'{prefix}gn_root/scale']))\n",
    "        stem.norm.bias.copy_(_n2p(w[f'{prefix}gn_root/bias']))\n",
    "        if not stem_only:\n",
    "            for i, stage in enumerate(backbone.stages):\n",
    "                for j, block in enumerate(stage.blocks):\n",
    "                    bp = f'{prefix}block{i + 1}/unit{j + 1}/'\n",
    "                    for r in range(3):\n",
    "                        getattr(block, f'conv{r + 1}').weight.copy_(_n2p(w[f'{bp}conv{r + 1}/kernel']))\n",
    "                        getattr(block, f'norm{r + 1}').weight.copy_(_n2p(w[f'{bp}gn{r + 1}/scale']))\n",
    "                        getattr(block, f'norm{r + 1}').bias.copy_(_n2p(w[f'{bp}gn{r + 1}/bias']))\n",
    "                    if block.downsample is not None:\n",
    "                        block.downsample.conv.weight.copy_(_n2p(w[f'{bp}conv_proj/kernel']))\n",
    "                        block.downsample.norm.weight.copy_(_n2p(w[f'{bp}gn_proj/scale']))\n",
    "                        block.downsample.norm.bias.copy_(_n2p(w[f'{bp}gn_proj/bias']))\n",
    "        embed_conv_w = _n2p(w[f'{prefix}embedding/kernel'])\n",
    "    else:\n",
    "        embed_conv_w = adapt_input_conv(\n",
    "            model.patch_embed.proj.weight.shape[1], _n2p(w[f'{prefix}embedding/kernel']))\n",
    "    model.patch_embed.proj.weight.copy_(embed_conv_w)\n",
    "    model.patch_embed.proj.bias.copy_(_n2p(w[f'{prefix}embedding/bias']))\n",
    "    model.cls_token.copy_(_n2p(w[f'{prefix}cls'], t=False))\n",
    "    pos_embed_w = _n2p(w[f'{prefix}Transformer/posembed_input/pos_embedding'], t=False)\n",
    "    if pos_embed_w.shape != model.pos_embed.shape:\n",
    "        pos_embed_w = resize_pos_embed(  # resize pos embedding when different size from pretrained weights\n",
    "            pos_embed_w, model.pos_embed, getattr(model, 'num_tokens', 1), model.patch_embed.grid_size)\n",
    "    model.pos_embed.copy_(pos_embed_w)\n",
    "    model.norm.weight.copy_(_n2p(w[f'{prefix}Transformer/encoder_norm/scale']))\n",
    "    model.norm.bias.copy_(_n2p(w[f'{prefix}Transformer/encoder_norm/bias']))\n",
    "    if isinstance(model.head, nn.Linear) and model.head.bias.shape[0] == w[f'{prefix}head/bias'].shape[-1]:\n",
    "        model.head.weight.copy_(_n2p(w[f'{prefix}head/kernel']))\n",
    "        model.head.bias.copy_(_n2p(w[f'{prefix}head/bias']))\n",
    "    if isinstance(getattr(model.pre_logits, 'fc', None), nn.Linear) and f'{prefix}pre_logits/bias' in w:\n",
    "        model.pre_logits.fc.weight.copy_(_n2p(w[f'{prefix}pre_logits/kernel']))\n",
    "        model.pre_logits.fc.bias.copy_(_n2p(w[f'{prefix}pre_logits/bias']))\n",
    "    for i, block in enumerate(model.blocks.children()):\n",
    "        block_prefix = f'{prefix}Transformer/encoderblock_{i}/'\n",
    "        mha_prefix = block_prefix + 'MultiHeadDotProductAttention_1/'\n",
    "        block.norm1.weight.copy_(_n2p(w[f'{block_prefix}LayerNorm_0/scale']))\n",
    "        block.norm1.bias.copy_(_n2p(w[f'{block_prefix}LayerNorm_0/bias']))\n",
    "        block.attn.qkv.weight.copy_(torch.cat([\n",
    "            _n2p(w[f'{mha_prefix}{n}/kernel'], t=False).flatten(1).T for n in ('query', 'key', 'value')]))\n",
    "        block.attn.qkv.bias.copy_(torch.cat([\n",
    "            _n2p(w[f'{mha_prefix}{n}/bias'], t=False).reshape(-1) for n in ('query', 'key', 'value')]))\n",
    "        block.attn.proj.weight.copy_(_n2p(w[f'{mha_prefix}out/kernel']).flatten(1))\n",
    "        block.attn.proj.bias.copy_(_n2p(w[f'{mha_prefix}out/bias']))\n",
    "        for r in range(2):\n",
    "            getattr(block.mlp, f'fc{r + 1}').weight.copy_(_n2p(w[f'{block_prefix}MlpBlock_3/Dense_{r}/kernel']))\n",
    "            getattr(block.mlp, f'fc{r + 1}').bias.copy_(_n2p(w[f'{block_prefix}MlpBlock_3/Dense_{r}/bias']))\n",
    "        block.norm2.weight.copy_(_n2p(w[f'{block_prefix}LayerNorm_2/scale']))\n",
    "        block.norm2.bias.copy_(_n2p(w[f'{block_prefix}LayerNorm_2/bias']))\n",
    "\n",
    "\n",
    "def resize_pos_embed(posemb, posemb_new, num_tokens=1, gs_new=()):\n",
    "    # Rescale the grid of position embeddings when loading from state_dict. Adapted from\n",
    "    # https://github.com/google-research/vision_transformer/blob/00883dd691c63a6830751563748663526e811cee/vit_jax/checkpoint.py#L224\n",
    "    _logger.info('Resized position embedding: %s to %s', posemb.shape, posemb_new.shape)\n",
    "    ntok_new = posemb_new.shape[1]\n",
    "    if num_tokens:\n",
    "        posemb_tok, posemb_grid = posemb[:, :num_tokens], posemb[0, num_tokens:]\n",
    "        ntok_new -= num_tokens\n",
    "    else:\n",
    "        posemb_tok, posemb_grid = posemb[:, :0], posemb[0]\n",
    "    gs_old = int(math.sqrt(len(posemb_grid)))\n",
    "    if not len(gs_new):  # backwards compatibility\n",
    "        gs_new = [int(math.sqrt(ntok_new))] * 2\n",
    "    assert len(gs_new) >= 2\n",
    "    _logger.info('Position embedding grid-size from %s to %s', [gs_old, gs_old], gs_new)\n",
    "    posemb_grid = posemb_grid.reshape(1, gs_old, gs_old, -1).permute(0, 3, 1, 2)\n",
    "    posemb_grid = F.interpolate(posemb_grid, size=gs_new, mode='bicubic', align_corners=False)\n",
    "    posemb_grid = posemb_grid.permute(0, 2, 3, 1).reshape(1, gs_new[0] * gs_new[1], -1)\n",
    "    posemb = torch.cat([posemb_tok, posemb_grid], dim=1)\n",
    "    return posemb\n",
    "\n",
    "\n",
    "def checkpoint_filter_fn(state_dict, model):\n",
    "    \"\"\" convert patch embedding weight from manual patchify + linear proj to conv\"\"\"\n",
    "    out_dict = {}\n",
    "    if 'model' in state_dict:\n",
    "        # For deit models\n",
    "        state_dict = state_dict['model']\n",
    "    for k, v in state_dict.items():\n",
    "        if 'patch_embed.proj.weight' in k and len(v.shape) < 4:\n",
    "            # For old models that I trained prior to conv based patchification\n",
    "            O, I, H, W = model.patch_embed.proj.weight.shape\n",
    "            v = v.reshape(O, -1, H, W)\n",
    "        elif k == 'pos_embed' and v.shape != model.pos_embed.shape:\n",
    "            # To resize pos embedding when using model at different size from pretrained weights\n",
    "            v = resize_pos_embed(\n",
    "                v, model.pos_embed, getattr(model, 'num_tokens', 1), model.patch_embed.grid_size)\n",
    "        out_dict[k] = v\n",
    "    return out_dict\n",
    "\n",
    "\n",
    "def _create_vision_transformer(variant, pretrained=False, default_cfg=None, **kwargs):\n",
    "    default_cfg = default_cfg or default_cfgs[variant]\n",
    "    if kwargs.get('features_only', None):\n",
    "        raise RuntimeError('features_only not implemented for Vision Transformer models.')\n",
    "\n",
    "    # NOTE this extra code to support handling of repr size for in21k pretrained models\n",
    "    default_num_classes = default_cfg['num_classes']\n",
    "    num_classes = kwargs.get('num_classes', default_num_classes)\n",
    "    repr_size = kwargs.pop('representation_size', None)\n",
    "    if repr_size is not None and num_classes != default_num_classes:\n",
    "        # Remove representation layer if fine-tuning. This may not always be the desired action,\n",
    "        # but I feel better than doing nothing by default for fine-tuning. Perhaps a better interface?\n",
    "        _logger.warning(\"Removing representation layer for fine-tuning.\")\n",
    "        repr_size = None\n",
    "\n",
    "    model = build_model_with_cfg(\n",
    "        VisionTransformer, variant, pretrained,\n",
    "        default_cfg=default_cfg,\n",
    "        representation_size=repr_size,\n",
    "        pretrained_filter_fn=checkpoint_filter_fn,\n",
    "        pretrained_custom_load='npz' in default_cfg['url'],\n",
    "        **kwargs)\n",
    "    return model\n",
    "\n",
    "def _cfg(url='', **kwargs):\n",
    "    return {\n",
    "        'url': url,\n",
    "        'num_classes': 1000, 'input_size': (3, 224, 224), 'pool_size': None,\n",
    "        'crop_pct': .9, 'interpolation': 'bicubic', 'fixed_input_size': True,\n",
    "        'mean': IMAGENET_INCEPTION_MEAN, 'std': IMAGENET_INCEPTION_STD,\n",
    "        'first_conv': 'patch_embed.proj', 'classifier': 'head',\n",
    "        **kwargs\n",
    "    }\n",
    "\n",
    "default_cfgs = {\n",
    "    # patch models (weights from official Google JAX impl)\n",
    "    'vit_tiny_patch16_224': _cfg(\n",
    "        url='https://storage.googleapis.com/vit_models/augreg/'\n",
    "            'Ti_16-i21k-300ep-lr_0.001-aug_none-wd_0.03-do_0.0-sd_0.0--imagenet2012-steps_20k-lr_0.03-res_224.npz'),\n",
    "    'vit_small_patch16_224': _cfg(\n",
    "        url='https://storage.googleapis.com/vit_models/augreg/'\n",
    "            'S_16-i21k-300ep-lr_0.001-aug_light1-wd_0.03-do_0.0-sd_0.0--imagenet2012-steps_20k-lr_0.03-res_224.npz'),\n",
    "    }\n",
    "\n",
    "@register_model\n",
    "def vit_tiny_patch16_224(pretrained=False, k=8, pact=False, **kwargs):\n",
    "    \"\"\" ViT-Tiny (Vit-Ti/16)\n",
    "    \"\"\"\n",
    "    model_kwargs = dict(patch_size=16, embed_dim=192, depth=12, num_heads=3, k=k, pact=pact, **kwargs)\n",
    "    model = _create_vision_transformer('vit_tiny_patch16_224', pretrained=pretrained, **model_kwargs)\n",
    "    return model\n",
    "\n",
    "@register_model\n",
    "def vit_small_patch16_224(pretrained=False, k=8, **kwargs):\n",
    "    \"\"\" ViT-Small (ViT-S/16)\n",
    "    NOTE I've replaced my previous 'small' model definition and weights with the small variant from the DeiT paper\n",
    "    \"\"\"\n",
    "    model_kwargs = dict(patch_size=16, embed_dim=384, depth=12, num_heads=6, k=k, **kwargs)\n",
    "    model = _create_vision_transformer('vit_small_patch16_224', pretrained=pretrained, **model_kwargs)\n",
    "    return model\n",
    "\n",
    "@register_model\n",
    "def vit_base_patch16_224(pretrained=False, **kwargs):\n",
    "    \"\"\" ViT-Base (ViT-B/16) from original paper (https://arxiv.org/abs/2010.11929).\n",
    "    ImageNet-1k weights fine-tuned from in21k @ 224x224, source https://github.com/google-research/vision_transformer.\n",
    "    \"\"\"\n",
    "    model_kwargs = dict(patch_size=16, embed_dim=768, depth=12, num_heads=12, **kwargs)\n",
    "    model = _create_vision_transformer('vit_base_patch16_224', pretrained=pretrained, **model_kwargs)\n",
    "    return model"
   ]
  },
  {
   "cell_type": "code",
   "execution_count": 12,
   "id": "4f30db98",
   "metadata": {},
   "outputs": [],
   "source": [
    "def get_vit(modelname, wk, ik, attenkw, attenki, noise):\n",
    "    if modelname==\"tiny\":\n",
    "        net = VisionTransformer(patch_size=16, embed_dim=192, depth=12, num_heads=3, wk=wk, ik=ik, attenkw=attenkw, attenki=attenki, noise=noise)\n",
    "        net.head = nn.Linear(net.head.in_features, 10)\n",
    "        checkpoint = torch.load(\"models/vit_tiny_noquant.pth\")\n",
    "       \n",
    "    else:\n",
    "        net = VisionTransformer(patch_size=16, embed_dim=384, depth=12, num_heads=6, wk=wk, ik=ik, attenkw=attenkw, attenki=attenki, noise=noise)\n",
    "        net.head = nn.Linear(net.head.in_features, 10)\n",
    "        checkpoint = torch.load(\"models/vit_small_noquant.pth\")\n",
    "    \n",
    "    net.load_state_dict(checkpoint)\n",
    "    model = net.cuda()\n",
    "    return model"
   ]
  },
  {
   "cell_type": "code",
   "execution_count": null,
   "id": "bf661401",
   "metadata": {
    "scrolled": false
   },
   "outputs": [
    {
     "name": "stderr",
     "output_type": "stream",
     "text": [
      "\u001b[34m\u001b[1mwandb\u001b[0m: Currently logged in as: \u001b[33marutema47\u001b[0m (\u001b[33mkeio-csg\u001b[0m). Use \u001b[1m`wandb login --relogin`\u001b[0m to force relogin\n"
     ]
    },
    {
     "data": {
      "text/html": [
       "Tracking run with wandb version 0.12.21"
      ],
      "text/plain": [
       "<IPython.core.display.HTML object>"
      ]
     },
     "metadata": {},
     "output_type": "display_data"
    },
    {
     "data": {
      "text/html": [
       "Run data is saved locally in <code>/media/ken/dsk1/data/quantize_models_sandbox/wandb/run-20220728_210152-1xhds47a</code>"
      ],
      "text/plain": [
       "<IPython.core.display.HTML object>"
      ]
     },
     "metadata": {},
     "output_type": "display_data"
    },
    {
     "data": {
      "text/html": [
       "Syncing run <strong><a href=\"https://wandb.ai/keio-csg/pact_vit_20220728/runs/1xhds47a\" target=\"_blank\">vit_small_wk4_ik6_attenkw2_attenki4_noise0_nopact</a></strong> to <a href=\"https://wandb.ai/keio-csg/pact_vit_20220728\" target=\"_blank\">Weights & Biases</a> (<a href=\"https://wandb.me/run\" target=\"_blank\">docs</a>)<br/>"
      ],
      "text/plain": [
       "<IPython.core.display.HTML object>"
      ]
     },
     "metadata": {},
     "output_type": "display_data"
    },
    {
     "name": "stdout",
     "output_type": "stream",
     "text": [
      "current lr 2.00000e-05\n"
     ]
    },
    {
     "data": {
      "application/vnd.jupyter.widget-view+json": {
       "model_id": "8b4d695ac6e04e66bb49a0cac40b8526",
       "version_major": 2,
       "version_minor": 0
      },
      "text/plain": [
       "  0%|          | 0/313 [00:00<?, ?it/s]"
      ]
     },
     "metadata": {},
     "output_type": "display_data"
    },
    {
     "name": "stdout",
     "output_type": "stream",
     "text": [
      "Epoch: [0][0/313]\tTime 2.226 (2.226)\tData 0.562 (0.562)\tLoss 2.7024 (2.7024)\tPrec@1 7.812 (7.812)\n",
      "Epoch: [0][50/313]\tTime 0.666 (0.695)\tData 0.001 (0.012)\tLoss 2.1610 (2.2797)\tPrec@1 17.969 (14.828)\n",
      "Epoch: [0][100/313]\tTime 0.668 (0.681)\tData 0.001 (0.006)\tLoss 1.9857 (2.1902)\tPrec@1 29.688 (18.897)\n",
      "Epoch: [0][150/313]\tTime 0.669 (0.677)\tData 0.001 (0.005)\tLoss 1.8062 (2.1108)\tPrec@1 39.062 (22.527)\n",
      "Epoch: [0][200/313]\tTime 0.671 (0.675)\tData 0.001 (0.004)\tLoss 1.8955 (2.0477)\tPrec@1 32.031 (25.047)\n",
      "Epoch: [0][250/313]\tTime 0.672 (0.675)\tData 0.001 (0.003)\tLoss 1.7327 (1.9936)\tPrec@1 38.281 (27.160)\n",
      "Epoch: [0][300/313]\tTime 0.671 (0.674)\tData 0.001 (0.003)\tLoss 1.8038 (1.9454)\tPrec@1 39.844 (28.994)\n",
      "Test: [0/20]\tTime 5.013 (5.013)\tLoss 1.7048 (1.7048)\tPrec@1 38.281 (38.281)\n",
      " * Prec@1 40.740\n",
      "Best prec1 :  40.740000018310546\n"
     ]
    },
    {
     "data": {
      "text/html": [
       "Finishing last run (ID:1xhds47a) before initializing another..."
      ],
      "text/plain": [
       "<IPython.core.display.HTML object>"
      ]
     },
     "metadata": {},
     "output_type": "display_data"
    },
    {
     "data": {
      "text/html": [
       "Waiting for W&B process to finish... <strong style=\"color:green\">(success).</strong>"
      ],
      "text/plain": [
       "<IPython.core.display.HTML object>"
      ]
     },
     "metadata": {},
     "output_type": "display_data"
    },
    {
     "data": {
      "application/vnd.jupyter.widget-view+json": {
       "model_id": "",
       "version_major": 2,
       "version_minor": 0
      },
      "text/plain": [
       "VBox(children=(Label(value='0.868 MB of 0.868 MB uploaded (0.000 MB deduped)\\r'), FloatProgress(value=1.0, max…"
      ]
     },
     "metadata": {},
     "output_type": "display_data"
    },
    {
     "data": {
      "text/html": [
       "<style>\n",
       "    table.wandb td:nth-child(1) { padding: 0 10px; text-align: left ; width: auto;} td:nth-child(2) {text-align: left ; width: 100%}\n",
       "    .wandb-row { display: flex; flex-direction: row; flex-wrap: wrap; justify-content: flex-start; width: 100% }\n",
       "    .wandb-col { display: flex; flex-direction: column; flex-basis: 100%; flex: 1; padding: 10px; }\n",
       "    </style>\n",
       "<div class=\"wandb-row\"><div class=\"wandb-col\"><h3>Run history:</h3><br/><table class=\"wandb\"><tr><td>epoch</td><td>▁</td></tr><tr><td>lr</td><td>▁</td></tr><tr><td>prec</td><td>▁</td></tr><tr><td>train_loss</td><td>▁</td></tr><tr><td>val_loss</td><td>▁</td></tr></table><br/></div><div class=\"wandb-col\"><h3>Run summary:</h3><br/><table class=\"wandb\"><tr><td>epoch</td><td>0</td></tr><tr><td>lr</td><td>2e-05</td></tr><tr><td>prec</td><td>40.74</td></tr><tr><td>train_loss</td><td>1.93432</td></tr><tr><td>val_loss</td><td>1.63867</td></tr></table><br/></div></div>"
      ],
      "text/plain": [
       "<IPython.core.display.HTML object>"
      ]
     },
     "metadata": {},
     "output_type": "display_data"
    },
    {
     "data": {
      "text/html": [
       "Synced <strong style=\"color:#cdcd00\">vit_small_wk4_ik6_attenkw2_attenki4_noise0_nopact</strong>: <a href=\"https://wandb.ai/keio-csg/pact_vit_20220728/runs/1xhds47a\" target=\"_blank\">https://wandb.ai/keio-csg/pact_vit_20220728/runs/1xhds47a</a><br/>Synced 7 W&B file(s), 0 media file(s), 0 artifact file(s) and 1 other file(s)"
      ],
      "text/plain": [
       "<IPython.core.display.HTML object>"
      ]
     },
     "metadata": {},
     "output_type": "display_data"
    },
    {
     "data": {
      "text/html": [
       "Find logs at: <code>./wandb/run-20220728_210152-1xhds47a/logs</code>"
      ],
      "text/plain": [
       "<IPython.core.display.HTML object>"
      ]
     },
     "metadata": {},
     "output_type": "display_data"
    },
    {
     "data": {
      "text/html": [
       "Successfully finished last run (ID:1xhds47a). Initializing new run:<br/>"
      ],
      "text/plain": [
       "<IPython.core.display.HTML object>"
      ]
     },
     "metadata": {},
     "output_type": "display_data"
    },
    {
     "data": {
      "text/html": [
       "Tracking run with wandb version 0.12.21"
      ],
      "text/plain": [
       "<IPython.core.display.HTML object>"
      ]
     },
     "metadata": {},
     "output_type": "display_data"
    },
    {
     "data": {
      "text/html": [
       "Run data is saved locally in <code>/media/ken/dsk1/data/quantize_models_sandbox/wandb/run-20220728_210557-2y64fzsj</code>"
      ],
      "text/plain": [
       "<IPython.core.display.HTML object>"
      ]
     },
     "metadata": {},
     "output_type": "display_data"
    },
    {
     "data": {
      "text/html": [
       "Syncing run <strong><a href=\"https://wandb.ai/keio-csg/pact_vit_20220728/runs/2y64fzsj\" target=\"_blank\">vit_small_wk5_ik6_attenkw2_attenki4_noise0_nopact</a></strong> to <a href=\"https://wandb.ai/keio-csg/pact_vit_20220728\" target=\"_blank\">Weights & Biases</a> (<a href=\"https://wandb.me/run\" target=\"_blank\">docs</a>)<br/>"
      ],
      "text/plain": [
       "<IPython.core.display.HTML object>"
      ]
     },
     "metadata": {},
     "output_type": "display_data"
    },
    {
     "name": "stdout",
     "output_type": "stream",
     "text": [
      "current lr 2.00000e-05\n"
     ]
    },
    {
     "data": {
      "application/vnd.jupyter.widget-view+json": {
       "model_id": "e47590401ab041028d292298b87802e8",
       "version_major": 2,
       "version_minor": 0
      },
      "text/plain": [
       "  0%|          | 0/313 [00:00<?, ?it/s]"
      ]
     },
     "metadata": {},
     "output_type": "display_data"
    },
    {
     "name": "stdout",
     "output_type": "stream",
     "text": [
      "Epoch: [0][0/313]\tTime 1.306 (1.306)\tData 0.635 (0.635)\tLoss 2.7166 (2.7166)\tPrec@1 10.938 (10.938)\n",
      "Epoch: [0][50/313]\tTime 0.669 (0.681)\tData 0.001 (0.013)\tLoss 2.1134 (2.2500)\tPrec@1 19.531 (16.774)\n",
      "Epoch: [0][100/313]\tTime 0.671 (0.676)\tData 0.001 (0.007)\tLoss 2.0463 (2.1596)\tPrec@1 25.781 (20.305)\n",
      "Epoch: [0][150/313]\tTime 0.671 (0.675)\tData 0.001 (0.005)\tLoss 1.8905 (2.0789)\tPrec@1 28.906 (23.691)\n",
      "Epoch: [0][200/313]\tTime 0.672 (0.674)\tData 0.001 (0.004)\tLoss 1.6496 (2.0135)\tPrec@1 38.281 (26.201)\n",
      "Epoch: [0][250/313]\tTime 0.671 (0.673)\tData 0.001 (0.003)\tLoss 1.7587 (1.9600)\tPrec@1 31.250 (28.246)\n",
      "Epoch: [0][300/313]\tTime 0.671 (0.673)\tData 0.001 (0.003)\tLoss 1.5192 (1.9121)\tPrec@1 42.969 (29.981)\n",
      "Test: [0/20]\tTime 11.151 (11.151)\tLoss 1.5897 (1.5897)\tPrec@1 44.727 (44.727)\n",
      " * Prec@1 44.900\n",
      "Best prec1 :  44.90000000610352\n"
     ]
    },
    {
     "data": {
      "text/html": [
       "Finishing last run (ID:2y64fzsj) before initializing another..."
      ],
      "text/plain": [
       "<IPython.core.display.HTML object>"
      ]
     },
     "metadata": {},
     "output_type": "display_data"
    },
    {
     "data": {
      "text/html": [
       "Waiting for W&B process to finish... <strong style=\"color:green\">(success).</strong>"
      ],
      "text/plain": [
       "<IPython.core.display.HTML object>"
      ]
     },
     "metadata": {},
     "output_type": "display_data"
    },
    {
     "data": {
      "application/vnd.jupyter.widget-view+json": {
       "model_id": "",
       "version_major": 2,
       "version_minor": 0
      },
      "text/plain": [
       "VBox(children=(Label(value='0.855 MB of 0.855 MB uploaded (0.000 MB deduped)\\r'), FloatProgress(value=1.0, max…"
      ]
     },
     "metadata": {},
     "output_type": "display_data"
    },
    {
     "data": {
      "text/html": [
       "<style>\n",
       "    table.wandb td:nth-child(1) { padding: 0 10px; text-align: left ; width: auto;} td:nth-child(2) {text-align: left ; width: 100%}\n",
       "    .wandb-row { display: flex; flex-direction: row; flex-wrap: wrap; justify-content: flex-start; width: 100% }\n",
       "    .wandb-col { display: flex; flex-direction: column; flex-basis: 100%; flex: 1; padding: 10px; }\n",
       "    </style>\n",
       "<div class=\"wandb-row\"><div class=\"wandb-col\"><h3>Run history:</h3><br/><table class=\"wandb\"><tr><td>epoch</td><td>▁</td></tr><tr><td>lr</td><td>▁</td></tr><tr><td>prec</td><td>▁</td></tr><tr><td>train_loss</td><td>▁</td></tr><tr><td>val_loss</td><td>▁</td></tr></table><br/></div><div class=\"wandb-col\"><h3>Run summary:</h3><br/><table class=\"wandb\"><tr><td>epoch</td><td>0</td></tr><tr><td>lr</td><td>2e-05</td></tr><tr><td>prec</td><td>44.9</td></tr><tr><td>train_loss</td><td>1.90108</td></tr><tr><td>val_loss</td><td>1.52478</td></tr></table><br/></div></div>"
      ],
      "text/plain": [
       "<IPython.core.display.HTML object>"
      ]
     },
     "metadata": {},
     "output_type": "display_data"
    },
    {
     "data": {
      "text/html": [
       "Synced <strong style=\"color:#cdcd00\">vit_small_wk5_ik6_attenkw2_attenki4_noise0_nopact</strong>: <a href=\"https://wandb.ai/keio-csg/pact_vit_20220728/runs/2y64fzsj\" target=\"_blank\">https://wandb.ai/keio-csg/pact_vit_20220728/runs/2y64fzsj</a><br/>Synced 7 W&B file(s), 0 media file(s), 0 artifact file(s) and 0 other file(s)"
      ],
      "text/plain": [
       "<IPython.core.display.HTML object>"
      ]
     },
     "metadata": {},
     "output_type": "display_data"
    },
    {
     "data": {
      "text/html": [
       "Find logs at: <code>./wandb/run-20220728_210557-2y64fzsj/logs</code>"
      ],
      "text/plain": [
       "<IPython.core.display.HTML object>"
      ]
     },
     "metadata": {},
     "output_type": "display_data"
    },
    {
     "data": {
      "text/html": [
       "Successfully finished last run (ID:2y64fzsj). Initializing new run:<br/>"
      ],
      "text/plain": [
       "<IPython.core.display.HTML object>"
      ]
     },
     "metadata": {},
     "output_type": "display_data"
    },
    {
     "data": {
      "text/html": [
       "Tracking run with wandb version 0.12.21"
      ],
      "text/plain": [
       "<IPython.core.display.HTML object>"
      ]
     },
     "metadata": {},
     "output_type": "display_data"
    },
    {
     "data": {
      "text/html": [
       "Run data is saved locally in <code>/media/ken/dsk1/data/quantize_models_sandbox/wandb/run-20220728_211022-w2jwg56d</code>"
      ],
      "text/plain": [
       "<IPython.core.display.HTML object>"
      ]
     },
     "metadata": {},
     "output_type": "display_data"
    },
    {
     "data": {
      "text/html": [
       "Syncing run <strong><a href=\"https://wandb.ai/keio-csg/pact_vit_20220728/runs/w2jwg56d\" target=\"_blank\">vit_small_wk6_ik6_attenkw2_attenki4_noise0_nopact</a></strong> to <a href=\"https://wandb.ai/keio-csg/pact_vit_20220728\" target=\"_blank\">Weights & Biases</a> (<a href=\"https://wandb.me/run\" target=\"_blank\">docs</a>)<br/>"
      ],
      "text/plain": [
       "<IPython.core.display.HTML object>"
      ]
     },
     "metadata": {},
     "output_type": "display_data"
    },
    {
     "name": "stdout",
     "output_type": "stream",
     "text": [
      "current lr 2.00000e-05\n"
     ]
    },
    {
     "data": {
      "application/vnd.jupyter.widget-view+json": {
       "model_id": "ba0f7c90bd8741cebb29ac02e4ce2512",
       "version_major": 2,
       "version_minor": 0
      },
      "text/plain": [
       "  0%|          | 0/313 [00:00<?, ?it/s]"
      ]
     },
     "metadata": {},
     "output_type": "display_data"
    },
    {
     "name": "stdout",
     "output_type": "stream",
     "text": [
      "Epoch: [0][0/313]\tTime 1.328 (1.328)\tData 0.659 (0.659)\tLoss 2.7599 (2.7599)\tPrec@1 7.031 (7.031)\n",
      "Epoch: [0][50/313]\tTime 0.669 (0.681)\tData 0.001 (0.014)\tLoss 2.1195 (2.2534)\tPrec@1 21.094 (16.942)\n",
      "Epoch: [0][100/313]\tTime 0.672 (0.676)\tData 0.001 (0.007)\tLoss 2.0185 (2.1618)\tPrec@1 23.438 (20.173)\n",
      "Epoch: [0][150/313]\tTime 0.672 (0.675)\tData 0.001 (0.005)\tLoss 1.9272 (2.0741)\tPrec@1 32.812 (23.650)\n",
      "Epoch: [0][200/313]\tTime 0.688 (0.674)\tData 0.001 (0.004)\tLoss 1.8466 (2.0038)\tPrec@1 30.469 (26.341)\n",
      "Epoch: [0][250/313]\tTime 0.671 (0.674)\tData 0.001 (0.004)\tLoss 1.9051 (1.9409)\tPrec@1 34.375 (28.972)\n",
      "Epoch: [0][300/313]\tTime 0.671 (0.673)\tData 0.001 (0.003)\tLoss 1.5393 (1.8954)\tPrec@1 47.656 (30.687)\n",
      "Test: [0/20]\tTime 23.158 (23.158)\tLoss 1.5224 (1.5224)\tPrec@1 46.875 (46.875)\n",
      " * Prec@1 44.960\n",
      "Best prec1 :  44.95999993896484\n"
     ]
    },
    {
     "data": {
      "text/html": [
       "Finishing last run (ID:w2jwg56d) before initializing another..."
      ],
      "text/plain": [
       "<IPython.core.display.HTML object>"
      ]
     },
     "metadata": {},
     "output_type": "display_data"
    },
    {
     "data": {
      "text/html": [
       "Waiting for W&B process to finish... <strong style=\"color:green\">(success).</strong>"
      ],
      "text/plain": [
       "<IPython.core.display.HTML object>"
      ]
     },
     "metadata": {},
     "output_type": "display_data"
    },
    {
     "data": {
      "application/vnd.jupyter.widget-view+json": {
       "model_id": "",
       "version_major": 2,
       "version_minor": 0
      },
      "text/plain": [
       "VBox(children=(Label(value='0.859 MB of 0.859 MB uploaded (0.000 MB deduped)\\r'), FloatProgress(value=1.0, max…"
      ]
     },
     "metadata": {},
     "output_type": "display_data"
    },
    {
     "data": {
      "text/html": [
       "<style>\n",
       "    table.wandb td:nth-child(1) { padding: 0 10px; text-align: left ; width: auto;} td:nth-child(2) {text-align: left ; width: 100%}\n",
       "    .wandb-row { display: flex; flex-direction: row; flex-wrap: wrap; justify-content: flex-start; width: 100% }\n",
       "    .wandb-col { display: flex; flex-direction: column; flex-basis: 100%; flex: 1; padding: 10px; }\n",
       "    </style>\n",
       "<div class=\"wandb-row\"><div class=\"wandb-col\"><h3>Run history:</h3><br/><table class=\"wandb\"><tr><td>epoch</td><td>▁</td></tr><tr><td>lr</td><td>▁</td></tr><tr><td>prec</td><td>▁</td></tr><tr><td>train_loss</td><td>▁</td></tr><tr><td>val_loss</td><td>▁</td></tr></table><br/></div><div class=\"wandb-col\"><h3>Run summary:</h3><br/><table class=\"wandb\"><tr><td>epoch</td><td>0</td></tr><tr><td>lr</td><td>2e-05</td></tr><tr><td>prec</td><td>44.96</td></tr><tr><td>train_loss</td><td>1.88429</td></tr><tr><td>val_loss</td><td>1.51274</td></tr></table><br/></div></div>"
      ],
      "text/plain": [
       "<IPython.core.display.HTML object>"
      ]
     },
     "metadata": {},
     "output_type": "display_data"
    },
    {
     "data": {
      "text/html": [
       "Synced <strong style=\"color:#cdcd00\">vit_small_wk6_ik6_attenkw2_attenki4_noise0_nopact</strong>: <a href=\"https://wandb.ai/keio-csg/pact_vit_20220728/runs/w2jwg56d\" target=\"_blank\">https://wandb.ai/keio-csg/pact_vit_20220728/runs/w2jwg56d</a><br/>Synced 7 W&B file(s), 0 media file(s), 0 artifact file(s) and 1 other file(s)"
      ],
      "text/plain": [
       "<IPython.core.display.HTML object>"
      ]
     },
     "metadata": {},
     "output_type": "display_data"
    },
    {
     "data": {
      "text/html": [
       "Find logs at: <code>./wandb/run-20220728_211022-w2jwg56d/logs</code>"
      ],
      "text/plain": [
       "<IPython.core.display.HTML object>"
      ]
     },
     "metadata": {},
     "output_type": "display_data"
    },
    {
     "data": {
      "text/html": [
       "Successfully finished last run (ID:w2jwg56d). Initializing new run:<br/>"
      ],
      "text/plain": [
       "<IPython.core.display.HTML object>"
      ]
     },
     "metadata": {},
     "output_type": "display_data"
    },
    {
     "data": {
      "text/html": [
       "Tracking run with wandb version 0.12.21"
      ],
      "text/plain": [
       "<IPython.core.display.HTML object>"
      ]
     },
     "metadata": {},
     "output_type": "display_data"
    },
    {
     "data": {
      "text/html": [
       "Run data is saved locally in <code>/media/ken/dsk1/data/quantize_models_sandbox/wandb/run-20220728_211450-l5jx3bhx</code>"
      ],
      "text/plain": [
       "<IPython.core.display.HTML object>"
      ]
     },
     "metadata": {},
     "output_type": "display_data"
    },
    {
     "data": {
      "text/html": [
       "Syncing run <strong><a href=\"https://wandb.ai/keio-csg/pact_vit_20220728/runs/l5jx3bhx\" target=\"_blank\">vit_small_wk4_ik6_attenkw3_attenki4_noise0_nopact</a></strong> to <a href=\"https://wandb.ai/keio-csg/pact_vit_20220728\" target=\"_blank\">Weights & Biases</a> (<a href=\"https://wandb.me/run\" target=\"_blank\">docs</a>)<br/>"
      ],
      "text/plain": [
       "<IPython.core.display.HTML object>"
      ]
     },
     "metadata": {},
     "output_type": "display_data"
    },
    {
     "name": "stdout",
     "output_type": "stream",
     "text": [
      "current lr 2.00000e-05\n"
     ]
    },
    {
     "data": {
      "application/vnd.jupyter.widget-view+json": {
       "model_id": "4e2f1a9eced04697b0e0c9ffe2635e92",
       "version_major": 2,
       "version_minor": 0
      },
      "text/plain": [
       "  0%|          | 0/313 [00:00<?, ?it/s]"
      ]
     },
     "metadata": {},
     "output_type": "display_data"
    },
    {
     "name": "stdout",
     "output_type": "stream",
     "text": [
      "Epoch: [0][0/313]\tTime 1.511 (1.511)\tData 0.839 (0.839)\tLoss 2.6087 (2.6087)\tPrec@1 9.375 (9.375)\n",
      "Epoch: [0][50/313]\tTime 0.671 (0.686)\tData 0.001 (0.017)\tLoss 2.1091 (2.2423)\tPrec@1 17.969 (16.697)\n",
      "Epoch: [0][100/313]\tTime 0.672 (0.679)\tData 0.001 (0.009)\tLoss 1.7279 (2.0670)\tPrec@1 32.812 (23.824)\n",
      "Epoch: [0][150/313]\tTime 0.672 (0.677)\tData 0.001 (0.006)\tLoss 1.5180 (1.9174)\tPrec@1 45.312 (29.486)\n",
      "Epoch: [0][200/313]\tTime 0.672 (0.676)\tData 0.001 (0.005)\tLoss 1.4726 (1.8027)\tPrec@1 50.000 (34.006)\n",
      "Epoch: [0][250/313]\tTime 0.671 (0.675)\tData 0.001 (0.004)\tLoss 1.3437 (1.7033)\tPrec@1 52.344 (37.905)\n",
      "Epoch: [0][300/313]\tTime 0.671 (0.674)\tData 0.001 (0.004)\tLoss 1.1251 (1.6225)\tPrec@1 61.719 (41.131)\n",
      "Test: [0/20]\tTime 2.703 (2.703)\tLoss 0.8526 (0.8526)\tPrec@1 69.922 (69.922)\n",
      " * Prec@1 69.040\n",
      "Best prec1 :  69.04000004882812\n",
      "current lr 4.66667e-05\n"
     ]
    },
    {
     "data": {
      "application/vnd.jupyter.widget-view+json": {
       "model_id": "9d76b02035ff49f1a8daac248152bb4e",
       "version_major": 2,
       "version_minor": 0
      },
      "text/plain": [
       "  0%|          | 0/313 [00:00<?, ?it/s]"
      ]
     },
     "metadata": {},
     "output_type": "display_data"
    },
    {
     "name": "stdout",
     "output_type": "stream",
     "text": [
      "Epoch: [1][0/313]\tTime 1.189 (1.189)\tData 0.519 (0.519)\tLoss 1.1337 (1.1337)\tPrec@1 56.250 (56.250)\n",
      "Epoch: [1][50/313]\tTime 0.671 (0.680)\tData 0.001 (0.011)\tLoss 1.0656 (1.1019)\tPrec@1 62.500 (61.703)\n",
      "Epoch: [1][100/313]\tTime 0.670 (0.675)\tData 0.001 (0.006)\tLoss 1.0694 (1.0625)\tPrec@1 64.062 (63.011)\n",
      "Epoch: [1][150/313]\tTime 0.670 (0.674)\tData 0.001 (0.004)\tLoss 0.8103 (1.0187)\tPrec@1 71.094 (64.528)\n",
      "Epoch: [1][200/313]\tTime 0.670 (0.673)\tData 0.001 (0.003)\tLoss 0.9236 (0.9903)\tPrec@1 69.531 (65.679)\n",
      "Epoch: [1][250/313]\tTime 0.670 (0.672)\tData 0.001 (0.003)\tLoss 0.6688 (0.9591)\tPrec@1 74.219 (66.764)\n",
      "Epoch: [1][300/313]\tTime 0.670 (0.672)\tData 0.001 (0.003)\tLoss 0.8208 (0.9287)\tPrec@1 70.312 (67.777)\n",
      "Test: [0/20]\tTime 2.548 (2.548)\tLoss 0.4660 (0.4660)\tPrec@1 84.570 (84.570)\n",
      " * Prec@1 83.410\n",
      "Best prec1 :  83.40999987792969\n",
      "current lr 7.33333e-05\n"
     ]
    },
    {
     "data": {
      "application/vnd.jupyter.widget-view+json": {
       "model_id": "ef3d34e86ea543a0aac06217645f9cc6",
       "version_major": 2,
       "version_minor": 0
      },
      "text/plain": [
       "  0%|          | 0/313 [00:00<?, ?it/s]"
      ]
     },
     "metadata": {},
     "output_type": "display_data"
    },
    {
     "name": "stdout",
     "output_type": "stream",
     "text": [
      "Epoch: [2][0/313]\tTime 1.267 (1.267)\tData 0.596 (0.596)\tLoss 0.8096 (0.8096)\tPrec@1 75.781 (75.781)\n",
      "Epoch: [2][50/313]\tTime 0.669 (0.681)\tData 0.001 (0.013)\tLoss 0.9926 (0.8023)\tPrec@1 65.625 (72.243)\n",
      "Epoch: [2][100/313]\tTime 0.670 (0.676)\tData 0.001 (0.007)\tLoss 0.7711 (0.7638)\tPrec@1 70.312 (73.360)\n",
      "Epoch: [2][150/313]\tTime 0.670 (0.674)\tData 0.001 (0.005)\tLoss 0.8942 (0.7537)\tPrec@1 71.875 (73.743)\n",
      "Epoch: [2][200/313]\tTime 0.670 (0.673)\tData 0.001 (0.004)\tLoss 0.5636 (0.7465)\tPrec@1 79.688 (73.881)\n",
      "Epoch: [2][250/313]\tTime 0.670 (0.672)\tData 0.001 (0.003)\tLoss 0.7708 (0.7336)\tPrec@1 71.094 (74.331)\n",
      "Epoch: [2][300/313]\tTime 0.670 (0.672)\tData 0.001 (0.003)\tLoss 0.5763 (0.7230)\tPrec@1 78.906 (74.798)\n",
      "Test: [0/20]\tTime 3.315 (3.315)\tLoss 0.3477 (0.3477)\tPrec@1 89.453 (89.453)\n",
      " * Prec@1 87.390\n",
      "Best prec1 :  87.39000003662109\n",
      "current lr 1.00000e-04\n"
     ]
    },
    {
     "data": {
      "application/vnd.jupyter.widget-view+json": {
       "model_id": "9ce948355a7449209f1db0d9ebae2586",
       "version_major": 2,
       "version_minor": 0
      },
      "text/plain": [
       "  0%|          | 0/313 [00:00<?, ?it/s]"
      ]
     },
     "metadata": {},
     "output_type": "display_data"
    },
    {
     "name": "stdout",
     "output_type": "stream",
     "text": [
      "Epoch: [3][0/313]\tTime 1.389 (1.389)\tData 0.718 (0.718)\tLoss 0.6793 (0.6793)\tPrec@1 75.781 (75.781)\n",
      "Epoch: [3][50/313]\tTime 0.669 (0.683)\tData 0.001 (0.015)\tLoss 0.7691 (0.6501)\tPrec@1 75.781 (77.160)\n",
      "Epoch: [3][100/313]\tTime 0.670 (0.677)\tData 0.001 (0.008)\tLoss 0.7286 (0.6528)\tPrec@1 75.000 (77.390)\n",
      "Epoch: [3][150/313]\tTime 0.670 (0.674)\tData 0.001 (0.006)\tLoss 0.5277 (0.6367)\tPrec@1 85.938 (77.954)\n",
      "Epoch: [3][200/313]\tTime 0.670 (0.673)\tData 0.001 (0.004)\tLoss 0.7549 (0.6319)\tPrec@1 75.000 (78.051)\n",
      "Epoch: [3][250/313]\tTime 0.670 (0.673)\tData 0.001 (0.004)\tLoss 0.7942 (0.6271)\tPrec@1 74.219 (78.237)\n",
      "Epoch: [3][300/313]\tTime 0.670 (0.672)\tData 0.001 (0.003)\tLoss 0.4933 (0.6224)\tPrec@1 85.156 (78.385)\n",
      "Test: [0/20]\tTime 2.359 (2.359)\tLoss 0.3049 (0.3049)\tPrec@1 90.234 (90.234)\n",
      " * Prec@1 89.480\n",
      "Best prec1 :  89.48000003662109\n",
      "current lr 9.93906e-05\n"
     ]
    },
    {
     "data": {
      "application/vnd.jupyter.widget-view+json": {
       "model_id": "58e74adf512049ee8e9e77f7a4699806",
       "version_major": 2,
       "version_minor": 0
      },
      "text/plain": [
       "  0%|          | 0/313 [00:00<?, ?it/s]"
      ]
     },
     "metadata": {},
     "output_type": "display_data"
    },
    {
     "name": "stdout",
     "output_type": "stream",
     "text": [
      "Epoch: [4][0/313]\tTime 1.222 (1.222)\tData 0.551 (0.551)\tLoss 0.3996 (0.3996)\tPrec@1 82.031 (82.031)\n",
      "Epoch: [4][50/313]\tTime 0.670 (0.680)\tData 0.001 (0.012)\tLoss 0.7310 (0.5485)\tPrec@1 73.438 (80.591)\n",
      "Epoch: [4][100/313]\tTime 0.670 (0.675)\tData 0.001 (0.006)\tLoss 0.5312 (0.5565)\tPrec@1 81.250 (80.360)\n",
      "Epoch: [4][150/313]\tTime 0.670 (0.673)\tData 0.001 (0.005)\tLoss 0.5342 (0.5580)\tPrec@1 82.031 (80.453)\n",
      "Epoch: [4][200/313]\tTime 0.670 (0.673)\tData 0.001 (0.004)\tLoss 0.6111 (0.5560)\tPrec@1 76.562 (80.531)\n",
      "Epoch: [4][250/313]\tTime 0.670 (0.672)\tData 0.001 (0.003)\tLoss 0.7416 (0.5470)\tPrec@1 75.781 (80.892)\n",
      "Epoch: [4][300/313]\tTime 0.670 (0.672)\tData 0.001 (0.003)\tLoss 0.4912 (0.5408)\tPrec@1 82.812 (81.146)\n",
      "Test: [0/20]\tTime 2.891 (2.891)\tLoss 0.2584 (0.2584)\tPrec@1 92.383 (92.383)\n",
      " * Prec@1 90.490\n",
      "Best prec1 :  90.48999993896484\n",
      "current lr 9.75773e-05\n"
     ]
    },
    {
     "data": {
      "application/vnd.jupyter.widget-view+json": {
       "model_id": "b0a8e330c7cb460caf4ea929e71b76df",
       "version_major": 2,
       "version_minor": 0
      },
      "text/plain": [
       "  0%|          | 0/313 [00:00<?, ?it/s]"
      ]
     },
     "metadata": {},
     "output_type": "display_data"
    },
    {
     "name": "stdout",
     "output_type": "stream",
     "text": [
      "Epoch: [5][0/313]\tTime 1.239 (1.239)\tData 0.568 (0.568)\tLoss 0.4522 (0.4522)\tPrec@1 82.812 (82.812)\n",
      "Epoch: [5][50/313]\tTime 0.670 (0.681)\tData 0.001 (0.012)\tLoss 0.3889 (0.4894)\tPrec@1 86.719 (82.812)\n",
      "Epoch: [5][100/313]\tTime 0.670 (0.675)\tData 0.001 (0.006)\tLoss 0.4591 (0.4930)\tPrec@1 82.031 (82.990)\n",
      "Epoch: [5][150/313]\tTime 0.670 (0.674)\tData 0.001 (0.005)\tLoss 0.4569 (0.4879)\tPrec@1 85.156 (83.226)\n",
      "Epoch: [5][200/313]\tTime 0.670 (0.673)\tData 0.001 (0.004)\tLoss 0.5143 (0.4835)\tPrec@1 82.812 (83.353)\n",
      "Epoch: [5][250/313]\tTime 0.670 (0.672)\tData 0.001 (0.003)\tLoss 0.4391 (0.4803)\tPrec@1 86.719 (83.401)\n",
      "Epoch: [5][300/313]\tTime 0.670 (0.672)\tData 0.001 (0.003)\tLoss 0.5481 (0.4776)\tPrec@1 81.250 (83.498)\n",
      "Test: [0/20]\tTime 2.487 (2.487)\tLoss 0.2650 (0.2650)\tPrec@1 92.578 (92.578)\n",
      " * Prec@1 90.680\n",
      "Best prec1 :  90.67999985351562\n",
      "current lr 9.46048e-05\n"
     ]
    },
    {
     "data": {
      "application/vnd.jupyter.widget-view+json": {
       "model_id": "39b699b6b8a94b97b014ac5c3512bd28",
       "version_major": 2,
       "version_minor": 0
      },
      "text/plain": [
       "  0%|          | 0/313 [00:00<?, ?it/s]"
      ]
     },
     "metadata": {},
     "output_type": "display_data"
    },
    {
     "name": "stdout",
     "output_type": "stream",
     "text": [
      "Epoch: [6][0/313]\tTime 1.386 (1.386)\tData 0.715 (0.715)\tLoss 0.4078 (0.4078)\tPrec@1 86.719 (86.719)\n",
      "Epoch: [6][50/313]\tTime 0.670 (0.684)\tData 0.001 (0.015)\tLoss 0.5314 (0.4483)\tPrec@1 82.812 (84.176)\n",
      "Epoch: [6][100/313]\tTime 0.670 (0.677)\tData 0.001 (0.008)\tLoss 0.3363 (0.4588)\tPrec@1 90.625 (84.058)\n",
      "Epoch: [6][150/313]\tTime 0.670 (0.675)\tData 0.001 (0.006)\tLoss 0.5186 (0.4576)\tPrec@1 79.688 (84.023)\n",
      "Epoch: [6][200/313]\tTime 0.670 (0.673)\tData 0.001 (0.004)\tLoss 0.4371 (0.4529)\tPrec@1 85.938 (84.243)\n",
      "Epoch: [6][250/313]\tTime 0.670 (0.673)\tData 0.001 (0.004)\tLoss 0.4029 (0.4475)\tPrec@1 85.156 (84.428)\n",
      "Epoch: [6][300/313]\tTime 0.670 (0.672)\tData 0.001 (0.003)\tLoss 0.5153 (0.4457)\tPrec@1 83.594 (84.481)\n",
      "Test: [0/20]\tTime 2.329 (2.329)\tLoss 0.2178 (0.2178)\tPrec@1 93.164 (93.164)\n",
      " * Prec@1 91.660\n",
      "Best prec1 :  91.65999990234376\n",
      "current lr 9.05463e-05\n"
     ]
    },
    {
     "data": {
      "application/vnd.jupyter.widget-view+json": {
       "model_id": "035818c8376447eb907ad629bfefe4d7",
       "version_major": 2,
       "version_minor": 0
      },
      "text/plain": [
       "  0%|          | 0/313 [00:00<?, ?it/s]"
      ]
     },
     "metadata": {},
     "output_type": "display_data"
    },
    {
     "name": "stdout",
     "output_type": "stream",
     "text": [
      "Epoch: [7][0/313]\tTime 1.332 (1.332)\tData 0.662 (0.662)\tLoss 0.3852 (0.3852)\tPrec@1 85.938 (85.938)\n",
      "Epoch: [7][50/313]\tTime 0.670 (0.682)\tData 0.001 (0.014)\tLoss 0.4412 (0.4128)\tPrec@1 83.594 (86.045)\n",
      "Epoch: [7][100/313]\tTime 0.670 (0.676)\tData 0.001 (0.007)\tLoss 0.3883 (0.4044)\tPrec@1 87.500 (86.046)\n",
      "Epoch: [7][150/313]\tTime 0.670 (0.674)\tData 0.001 (0.005)\tLoss 0.5580 (0.4113)\tPrec@1 82.031 (85.813)\n",
      "Epoch: [7][200/313]\tTime 0.670 (0.673)\tData 0.001 (0.004)\tLoss 0.4704 (0.4120)\tPrec@1 81.250 (85.774)\n",
      "Epoch: [7][250/313]\tTime 0.670 (0.672)\tData 0.001 (0.004)\tLoss 0.3842 (0.4121)\tPrec@1 86.719 (85.704)\n",
      "Epoch: [7][300/313]\tTime 0.669 (0.672)\tData 0.001 (0.003)\tLoss 0.4162 (0.4149)\tPrec@1 85.156 (85.665)\n",
      "Test: [0/20]\tTime 2.953 (2.953)\tLoss 0.2035 (0.2035)\tPrec@1 93.164 (93.164)\n",
      " * Prec@1 92.290\n",
      "Best prec1 :  92.29000001220703\n",
      "current lr 8.55018e-05\n"
     ]
    },
    {
     "data": {
      "application/vnd.jupyter.widget-view+json": {
       "model_id": "39892fc6e2514c78825d52fc0d05c0cb",
       "version_major": 2,
       "version_minor": 0
      },
      "text/plain": [
       "  0%|          | 0/313 [00:00<?, ?it/s]"
      ]
     },
     "metadata": {},
     "output_type": "display_data"
    },
    {
     "name": "stdout",
     "output_type": "stream",
     "text": [
      "Epoch: [8][0/313]\tTime 1.333 (1.333)\tData 0.663 (0.663)\tLoss 0.4116 (0.4116)\tPrec@1 85.938 (85.938)\n",
      "Epoch: [8][50/313]\tTime 0.669 (0.682)\tData 0.001 (0.014)\tLoss 0.5208 (0.3881)\tPrec@1 78.906 (86.657)\n",
      "Epoch: [8][100/313]\tTime 0.670 (0.676)\tData 0.001 (0.007)\tLoss 0.3414 (0.3833)\tPrec@1 88.281 (86.649)\n",
      "Epoch: [8][150/313]\tTime 0.670 (0.674)\tData 0.001 (0.005)\tLoss 0.3378 (0.3856)\tPrec@1 85.938 (86.517)\n",
      "Epoch: [8][200/313]\tTime 0.670 (0.673)\tData 0.001 (0.004)\tLoss 0.3057 (0.3815)\tPrec@1 88.281 (86.707)\n",
      "Epoch: [8][250/313]\tTime 0.670 (0.672)\tData 0.001 (0.004)\tLoss 0.3268 (0.3809)\tPrec@1 90.625 (86.744)\n",
      "Epoch: [8][300/313]\tTime 0.669 (0.672)\tData 0.001 (0.003)\tLoss 0.3508 (0.3799)\tPrec@1 85.156 (86.815)\n",
      "Test: [0/20]\tTime 2.803 (2.803)\tLoss 0.2399 (0.2399)\tPrec@1 91.797 (91.797)\n",
      " * Prec@1 92.050\n",
      "Best prec1 :  92.29000001220703\n",
      "current lr 7.95954e-05\n"
     ]
    },
    {
     "data": {
      "application/vnd.jupyter.widget-view+json": {
       "model_id": "80d708d03d294a1f845ddb306fa9eeb3",
       "version_major": 2,
       "version_minor": 0
      },
      "text/plain": [
       "  0%|          | 0/313 [00:00<?, ?it/s]"
      ]
     },
     "metadata": {},
     "output_type": "display_data"
    },
    {
     "name": "stdout",
     "output_type": "stream",
     "text": [
      "Epoch: [9][0/313]\tTime 1.396 (1.396)\tData 0.725 (0.725)\tLoss 0.2793 (0.2793)\tPrec@1 89.062 (89.062)\n",
      "Epoch: [9][50/313]\tTime 0.669 (0.684)\tData 0.001 (0.015)\tLoss 0.2838 (0.3461)\tPrec@1 89.844 (88.235)\n",
      "Epoch: [9][100/313]\tTime 0.670 (0.677)\tData 0.001 (0.008)\tLoss 0.3020 (0.3539)\tPrec@1 87.500 (87.856)\n",
      "Epoch: [9][150/313]\tTime 0.670 (0.674)\tData 0.001 (0.006)\tLoss 0.2927 (0.3579)\tPrec@1 90.625 (87.707)\n",
      "Epoch: [9][200/313]\tTime 0.670 (0.673)\tData 0.001 (0.004)\tLoss 0.4296 (0.3574)\tPrec@1 86.719 (87.624)\n",
      "Epoch: [9][250/313]\tTime 0.670 (0.673)\tData 0.001 (0.004)\tLoss 0.2355 (0.3606)\tPrec@1 92.969 (87.484)\n",
      "Epoch: [9][300/313]\tTime 0.669 (0.672)\tData 0.001 (0.003)\tLoss 0.2759 (0.3579)\tPrec@1 92.188 (87.625)\n",
      "Test: [0/20]\tTime 2.603 (2.603)\tLoss 0.2046 (0.2046)\tPrec@1 94.336 (94.336)\n",
      " * Prec@1 92.490\n",
      "Best prec1 :  92.48999992675782\n",
      "current lr 7.29725e-05\n"
     ]
    },
    {
     "data": {
      "application/vnd.jupyter.widget-view+json": {
       "model_id": "5b5badbf5a774d0ca8da0439f71d96dd",
       "version_major": 2,
       "version_minor": 0
      },
      "text/plain": [
       "  0%|          | 0/313 [00:00<?, ?it/s]"
      ]
     },
     "metadata": {},
     "output_type": "display_data"
    },
    {
     "name": "stdout",
     "output_type": "stream",
     "text": [
      "Epoch: [10][0/313]\tTime 1.258 (1.258)\tData 0.586 (0.586)\tLoss 0.3377 (0.3377)\tPrec@1 89.062 (89.062)\n",
      "Epoch: [10][50/313]\tTime 0.670 (0.681)\tData 0.001 (0.012)\tLoss 0.3369 (0.3346)\tPrec@1 87.500 (88.588)\n",
      "Epoch: [10][100/313]\tTime 0.669 (0.676)\tData 0.001 (0.007)\tLoss 0.2824 (0.3351)\tPrec@1 91.406 (88.320)\n",
      "Epoch: [10][150/313]\tTime 0.670 (0.674)\tData 0.001 (0.005)\tLoss 0.4131 (0.3304)\tPrec@1 84.375 (88.545)\n",
      "Epoch: [10][200/313]\tTime 0.670 (0.673)\tData 0.001 (0.004)\tLoss 0.3252 (0.3275)\tPrec@1 85.156 (88.534)\n",
      "Epoch: [10][250/313]\tTime 0.670 (0.672)\tData 0.001 (0.003)\tLoss 0.1530 (0.3295)\tPrec@1 96.094 (88.543)\n",
      "Epoch: [10][300/313]\tTime 0.670 (0.672)\tData 0.001 (0.003)\tLoss 0.3614 (0.3287)\tPrec@1 85.938 (88.567)\n",
      "Test: [0/20]\tTime 2.396 (2.396)\tLoss 0.2046 (0.2046)\tPrec@1 93.359 (93.359)\n",
      " * Prec@1 92.770\n",
      "Best prec1 :  92.76999985351563\n",
      "current lr 6.57963e-05\n"
     ]
    },
    {
     "data": {
      "application/vnd.jupyter.widget-view+json": {
       "model_id": "dd931673fa6a49acaff7d9da857a24e0",
       "version_major": 2,
       "version_minor": 0
      },
      "text/plain": [
       "  0%|          | 0/313 [00:00<?, ?it/s]"
      ]
     },
     "metadata": {},
     "output_type": "display_data"
    },
    {
     "name": "stdout",
     "output_type": "stream",
     "text": [
      "Epoch: [11][0/313]\tTime 1.177 (1.177)\tData 0.506 (0.506)\tLoss 0.2717 (0.2717)\tPrec@1 90.625 (90.625)\n",
      "Epoch: [11][50/313]\tTime 0.669 (0.680)\tData 0.001 (0.011)\tLoss 0.3005 (0.3067)\tPrec@1 87.500 (89.262)\n",
      "Epoch: [11][100/313]\tTime 0.670 (0.675)\tData 0.001 (0.006)\tLoss 0.2902 (0.3055)\tPrec@1 89.062 (89.426)\n",
      "Epoch: [11][150/313]\tTime 0.670 (0.673)\tData 0.001 (0.004)\tLoss 0.2678 (0.3096)\tPrec@1 92.188 (89.119)\n",
      "Epoch: [11][200/313]\tTime 0.670 (0.672)\tData 0.001 (0.003)\tLoss 0.3588 (0.3028)\tPrec@1 89.844 (89.443)\n",
      "Epoch: [11][250/313]\tTime 0.670 (0.672)\tData 0.001 (0.003)\tLoss 0.2337 (0.3049)\tPrec@1 90.625 (89.368)\n",
      "Epoch: [11][300/313]\tTime 0.670 (0.672)\tData 0.001 (0.003)\tLoss 0.2341 (0.3038)\tPrec@1 91.406 (89.403)\n",
      "Test: [0/20]\tTime 2.923 (2.923)\tLoss 0.2497 (0.2497)\tPrec@1 92.188 (92.188)\n",
      " * Prec@1 93.400\n",
      "Best prec1 :  93.39999987792969\n",
      "current lr 5.82435e-05\n"
     ]
    },
    {
     "data": {
      "application/vnd.jupyter.widget-view+json": {
       "model_id": "d84975f1ab654761bdd566d4020ba974",
       "version_major": 2,
       "version_minor": 0
      },
      "text/plain": [
       "  0%|          | 0/313 [00:00<?, ?it/s]"
      ]
     },
     "metadata": {},
     "output_type": "display_data"
    },
    {
     "name": "stdout",
     "output_type": "stream",
     "text": [
      "Epoch: [12][0/313]\tTime 1.182 (1.182)\tData 0.510 (0.510)\tLoss 0.3332 (0.3332)\tPrec@1 87.500 (87.500)\n",
      "Epoch: [12][50/313]\tTime 0.670 (0.680)\tData 0.001 (0.011)\tLoss 0.2600 (0.2917)\tPrec@1 89.844 (89.890)\n",
      "Epoch: [12][100/313]\tTime 0.670 (0.675)\tData 0.001 (0.006)\tLoss 0.2619 (0.2846)\tPrec@1 91.406 (90.076)\n",
      "Epoch: [12][150/313]\tTime 0.670 (0.673)\tData 0.001 (0.004)\tLoss 0.2685 (0.2881)\tPrec@1 91.406 (90.025)\n",
      "Epoch: [12][200/313]\tTime 0.670 (0.672)\tData 0.001 (0.003)\tLoss 0.2812 (0.2861)\tPrec@1 89.844 (90.159)\n",
      "Epoch: [12][250/313]\tTime 0.670 (0.672)\tData 0.001 (0.003)\tLoss 0.2500 (0.2861)\tPrec@1 92.188 (90.136)\n",
      "Epoch: [12][300/313]\tTime 0.670 (0.672)\tData 0.001 (0.003)\tLoss 0.2958 (0.2850)\tPrec@1 89.062 (90.145)\n",
      "Test: [0/20]\tTime 2.569 (2.569)\tLoss 0.1695 (0.1695)\tPrec@1 94.531 (94.531)\n",
      " * Prec@1 93.870\n",
      "Best prec1 :  93.8699999633789\n",
      "current lr 5.05000e-05\n"
     ]
    },
    {
     "data": {
      "application/vnd.jupyter.widget-view+json": {
       "model_id": "77c07d82d2e44253b0a3c562d8881dc7",
       "version_major": 2,
       "version_minor": 0
      },
      "text/plain": [
       "  0%|          | 0/313 [00:00<?, ?it/s]"
      ]
     },
     "metadata": {},
     "output_type": "display_data"
    },
    {
     "name": "stdout",
     "output_type": "stream",
     "text": [
      "Epoch: [13][0/313]\tTime 1.289 (1.289)\tData 0.618 (0.618)\tLoss 0.2145 (0.2145)\tPrec@1 91.406 (91.406)\n",
      "Epoch: [13][50/313]\tTime 0.670 (0.682)\tData 0.001 (0.013)\tLoss 0.2287 (0.2626)\tPrec@1 92.969 (90.732)\n",
      "Epoch: [13][100/313]\tTime 0.670 (0.676)\tData 0.001 (0.007)\tLoss 0.2625 (0.2656)\tPrec@1 91.406 (90.579)\n",
      "Epoch: [13][150/313]\tTime 0.670 (0.674)\tData 0.001 (0.005)\tLoss 0.3141 (0.2670)\tPrec@1 88.281 (90.553)\n",
      "Epoch: [13][200/313]\tTime 0.670 (0.673)\tData 0.001 (0.004)\tLoss 0.3622 (0.2672)\tPrec@1 85.938 (90.578)\n",
      "Epoch: [13][250/313]\tTime 0.670 (0.672)\tData 0.001 (0.003)\tLoss 0.1849 (0.2647)\tPrec@1 95.312 (90.718)\n",
      "Epoch: [13][300/313]\tTime 0.669 (0.672)\tData 0.001 (0.003)\tLoss 0.2647 (0.2645)\tPrec@1 92.969 (90.781)\n",
      "Test: [0/20]\tTime 3.210 (3.210)\tLoss 0.1684 (0.1684)\tPrec@1 93.945 (93.945)\n",
      " * Prec@1 94.410\n",
      "Best prec1 :  94.40999989013672\n",
      "current lr 4.27565e-05\n"
     ]
    },
    {
     "data": {
      "application/vnd.jupyter.widget-view+json": {
       "model_id": "9090a9fad47c40c0a5efba8acb6cf7c2",
       "version_major": 2,
       "version_minor": 0
      },
      "text/plain": [
       "  0%|          | 0/313 [00:00<?, ?it/s]"
      ]
     },
     "metadata": {},
     "output_type": "display_data"
    },
    {
     "name": "stdout",
     "output_type": "stream",
     "text": [
      "Epoch: [14][0/313]\tTime 1.380 (1.380)\tData 0.710 (0.710)\tLoss 0.1770 (0.1770)\tPrec@1 94.531 (94.531)\n",
      "Epoch: [14][50/313]\tTime 0.670 (0.683)\tData 0.001 (0.015)\tLoss 0.3230 (0.2349)\tPrec@1 88.281 (91.927)\n",
      "Epoch: [14][100/313]\tTime 0.670 (0.677)\tData 0.001 (0.008)\tLoss 0.2647 (0.2438)\tPrec@1 89.844 (91.576)\n",
      "Epoch: [14][150/313]\tTime 0.670 (0.675)\tData 0.001 (0.006)\tLoss 0.1126 (0.2457)\tPrec@1 97.656 (91.593)\n",
      "Epoch: [14][200/313]\tTime 0.670 (0.673)\tData 0.001 (0.004)\tLoss 0.2932 (0.2488)\tPrec@1 91.406 (91.461)\n",
      "Epoch: [14][250/313]\tTime 0.670 (0.673)\tData 0.001 (0.004)\tLoss 0.2384 (0.2475)\tPrec@1 90.625 (91.509)\n",
      "Epoch: [14][300/313]\tTime 0.670 (0.672)\tData 0.001 (0.003)\tLoss 0.3413 (0.2437)\tPrec@1 86.719 (91.637)\n",
      "Test: [0/20]\tTime 2.985 (2.985)\tLoss 0.1497 (0.1497)\tPrec@1 96.289 (96.289)\n",
      " * Prec@1 94.800\n",
      "Best prec1 :  94.7999998779297\n",
      "current lr 3.52037e-05\n"
     ]
    },
    {
     "data": {
      "application/vnd.jupyter.widget-view+json": {
       "model_id": "0b7c52def99a4c5aa73da523b3884f02",
       "version_major": 2,
       "version_minor": 0
      },
      "text/plain": [
       "  0%|          | 0/313 [00:00<?, ?it/s]"
      ]
     },
     "metadata": {},
     "output_type": "display_data"
    },
    {
     "name": "stdout",
     "output_type": "stream",
     "text": [
      "Epoch: [15][0/313]\tTime 1.396 (1.396)\tData 0.725 (0.725)\tLoss 0.1995 (0.1995)\tPrec@1 91.406 (91.406)\n",
      "Epoch: [15][50/313]\tTime 0.670 (0.684)\tData 0.001 (0.015)\tLoss 0.1908 (0.2445)\tPrec@1 92.969 (91.529)\n",
      "Epoch: [15][100/313]\tTime 0.670 (0.677)\tData 0.001 (0.008)\tLoss 0.1410 (0.2390)\tPrec@1 95.312 (91.863)\n",
      "Epoch: [15][150/313]\tTime 0.670 (0.675)\tData 0.001 (0.006)\tLoss 0.2365 (0.2343)\tPrec@1 92.969 (92.043)\n",
      "Epoch: [15][200/313]\tTime 0.670 (0.674)\tData 0.001 (0.004)\tLoss 0.2889 (0.2291)\tPrec@1 89.844 (92.176)\n",
      "Epoch: [15][250/313]\tTime 0.670 (0.673)\tData 0.001 (0.004)\tLoss 0.2046 (0.2277)\tPrec@1 92.188 (92.128)\n",
      "Epoch: [15][300/313]\tTime 0.670 (0.672)\tData 0.001 (0.003)\tLoss 0.2354 (0.2273)\tPrec@1 89.844 (92.091)\n",
      "Test: [0/20]\tTime 2.917 (2.917)\tLoss 0.1649 (0.1649)\tPrec@1 93.750 (93.750)\n",
      " * Prec@1 94.320\n",
      "Best prec1 :  94.7999998779297\n",
      "current lr 2.80275e-05\n"
     ]
    },
    {
     "data": {
      "application/vnd.jupyter.widget-view+json": {
       "model_id": "a97ef0a323364c35a406b674cf3d8892",
       "version_major": 2,
       "version_minor": 0
      },
      "text/plain": [
       "  0%|          | 0/313 [00:00<?, ?it/s]"
      ]
     },
     "metadata": {},
     "output_type": "display_data"
    },
    {
     "name": "stdout",
     "output_type": "stream",
     "text": [
      "Epoch: [16][0/313]\tTime 1.182 (1.182)\tData 0.511 (0.511)\tLoss 0.2285 (0.2285)\tPrec@1 93.750 (93.750)\n"
     ]
    }
   ],
   "source": [
    "from timm.scheduler import CosineLRScheduler\n",
    "\n",
    "noise=0\n",
    "PACT = False\n",
    "mixup = False\n",
    "\n",
    "for modelname in [\"small\", ]:\n",
    "    for attenkw in [2,3,4]:\n",
    "        for attenki in [4]:\n",
    "            for wk in [4,5,6,]:\n",
    "                for ik in [6]:\n",
    "                    \n",
    "                    # get model\n",
    "                    model = get_vit(modelname, wk, ik, attenkw, attenki, noise)\n",
    "\n",
    "                    # Track experiment with wandb\n",
    "                    import wandb\n",
    "                    watermark = \"vit_{}_wk{}_ik{}_attenkw{}_attenki{}_noise{}\".format(modelname, wk, ik, attenkw, attenki, noise)\n",
    "                    if PACT == False:\n",
    "                        watermark+=\"_nopact\"\n",
    "                    else:\n",
    "                        watermark+=\"_pact\"\n",
    "\n",
    "                    # mess with wandb\n",
    "                    wandb.init(project=\"pact_vit_20220728\", name=watermark)\n",
    "\n",
    "                    # define loss function (criterion) and pptimizer\n",
    "                    criterion = nn.CrossEntropyLoss().cuda()\n",
    "\n",
    "                    # optimizer for pact\n",
    "                    optimizer = torch.optim.Adam(model.parameters(), lr=1e-4)\n",
    "\n",
    "                    scheduler = CosineLRScheduler(optimizer, t_initial=20, lr_min=1e-6, \n",
    "                                          warmup_t=3, warmup_lr_init=2e-5, warmup_prefix=True)\n",
    "\n",
    "                    best_prec1 = 0\n",
    "                    os.makedirs(\"models\", exist_ok=True)\n",
    "\n",
    "                    for epoch in range(20):\n",
    "                        scheduler.step(epoch)\n",
    "                        # train for one epoch\n",
    "                        print('current lr {:.5e}'.format(optimizer.param_groups[0]['lr']))\n",
    "                        tloss = train(train_loader, model, criterion, optimizer, epoch)         \n",
    "\n",
    "                        # evaluate on validation set\n",
    "                        prec1, valloss = validate(val_loader, model, criterion)\n",
    "\n",
    "                        # wandb\n",
    "                        wandb.log({'epoch': epoch, \"prec\":prec1, \"train_loss\": tloss, 'val_loss': valloss, \"lr\": optimizer.param_groups[0][\"lr\"],})\n",
    "\n",
    "                        # remember best prec@1 and save checkpoint\n",
    "                        is_best = prec1 > best_prec1\n",
    "                        best_prec1 = max(prec1, best_prec1)\n",
    "\n",
    "                        print(\"Best prec1 : \", best_prec1)\n",
    "                        if is_best:\n",
    "                            torch.save(model.state_dict(), os.path.join(f'models/{watermark}.pth'))\n",
    "                        if prec1<50:\n",
    "                            break\n"
   ]
  },
  {
   "cell_type": "code",
   "execution_count": null,
   "id": "8998c803",
   "metadata": {},
   "outputs": [],
   "source": [
    "from pact_utils import TorchQuantize\n",
    "len(TorchQuantize(bits=4).forward(torch.rand(1,384)).unique())"
   ]
  },
  {
   "cell_type": "code",
   "execution_count": null,
   "id": "8d894c1f",
   "metadata": {},
   "outputs": [],
   "source": [
    "net.blocks[1].mlp.fc1.forward(torch.rand(1,384).cuda()).unique()"
   ]
  },
  {
   "cell_type": "code",
   "execution_count": null,
   "id": "75eb1382",
   "metadata": {},
   "outputs": [],
   "source": [
    "model.blocks[1].attn.qkv"
   ]
  },
  {
   "cell_type": "code",
   "execution_count": null,
   "id": "719cdcdf",
   "metadata": {},
   "outputs": [],
   "source": []
  }
 ],
 "metadata": {
  "kernelspec": {
   "display_name": "Python 3 (ipykernel)",
   "language": "python",
   "name": "python3"
  },
  "language_info": {
   "codemirror_mode": {
    "name": "ipython",
    "version": 3
   },
   "file_extension": ".py",
   "mimetype": "text/x-python",
   "name": "python",
   "nbconvert_exporter": "python",
   "pygments_lexer": "ipython3",
   "version": "3.8.13"
  }
 },
 "nbformat": 4,
 "nbformat_minor": 5
}
