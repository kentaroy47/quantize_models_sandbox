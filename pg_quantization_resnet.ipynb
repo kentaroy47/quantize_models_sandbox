{
 "cells": [
  {
   "cell_type": "markdown",
   "id": "65b5a174",
   "metadata": {},
   "source": [
    "# Resnet18 CIFAR-10\n",
    "\n",
    "Quantize train resnet18 without PACT"
   ]
  },
  {
   "cell_type": "code",
   "execution_count": 1,
   "id": "3cdfa9b0",
   "metadata": {},
   "outputs": [],
   "source": [
    "NOQUANT_TRAIN = False\n",
    "n_epochs = 200\n",
    "batches = 1024"
   ]
  },
  {
   "cell_type": "code",
   "execution_count": 2,
   "id": "e95ac49f",
   "metadata": {},
   "outputs": [],
   "source": [
    "import argparse\n",
    "import os\n",
    "import shutil\n",
    "import time\n",
    "import pandas as pd\n",
    "import matplotlib.pyplot as plt\n",
    "import network.resnet_orig as resnet\n",
    "\n",
    "from tqdm.notebook import tqdm\n",
    "import time\n",
    "import numpy as np\n",
    "import pandas as pd\n",
    "import cv2\n",
    "import torch\n",
    "import torch.nn as nn\n",
    "import torch.nn.functional as F\n",
    "import torch.optim as optim\n",
    "from torch.optim import lr_scheduler\n",
    "from torch.utils.data import DataLoader, Dataset\n",
    "from torch.utils.data.sampler import SubsetRandomSampler, RandomSampler, SequentialSampler\n",
    "from torch.optim.lr_scheduler import CosineAnnealingWarmRestarts, CosineAnnealingLR, ReduceLROnPlateau\n",
    "\n",
    "model_names = sorted(name for name in resnet.__dict__\n",
    "    if name.islower() and not name.startswith(\"__\")\n",
    "                     and name.startswith(\"resnet\")\n",
    "                     and callable(resnet.__dict__[name]))\n",
    "\n",
    "DATA_DIR = \"train\"\n",
    "print_freq = 50\n",
    "\n",
    "# vit imsize\n",
    "imsize = 32"
   ]
  },
  {
   "cell_type": "code",
   "execution_count": 3,
   "id": "91238a6e",
   "metadata": {},
   "outputs": [
    {
     "data": {
      "text/html": [
       "<div>\n",
       "<style scoped>\n",
       "    .dataframe tbody tr th:only-of-type {\n",
       "        vertical-align: middle;\n",
       "    }\n",
       "\n",
       "    .dataframe tbody tr th {\n",
       "        vertical-align: top;\n",
       "    }\n",
       "\n",
       "    .dataframe thead th {\n",
       "        text-align: right;\n",
       "    }\n",
       "</style>\n",
       "<table border=\"1\" class=\"dataframe\">\n",
       "  <thead>\n",
       "    <tr style=\"text-align: right;\">\n",
       "      <th></th>\n",
       "      <th>id</th>\n",
       "      <th>label</th>\n",
       "      <th>label_enc</th>\n",
       "      <th>fold</th>\n",
       "    </tr>\n",
       "  </thead>\n",
       "  <tbody>\n",
       "    <tr>\n",
       "      <th>0</th>\n",
       "      <td>1</td>\n",
       "      <td>frog</td>\n",
       "      <td>6</td>\n",
       "      <td>1</td>\n",
       "    </tr>\n",
       "    <tr>\n",
       "      <th>1</th>\n",
       "      <td>2</td>\n",
       "      <td>truck</td>\n",
       "      <td>9</td>\n",
       "      <td>1</td>\n",
       "    </tr>\n",
       "    <tr>\n",
       "      <th>2</th>\n",
       "      <td>3</td>\n",
       "      <td>truck</td>\n",
       "      <td>9</td>\n",
       "      <td>2</td>\n",
       "    </tr>\n",
       "    <tr>\n",
       "      <th>3</th>\n",
       "      <td>4</td>\n",
       "      <td>deer</td>\n",
       "      <td>4</td>\n",
       "      <td>1</td>\n",
       "    </tr>\n",
       "    <tr>\n",
       "      <th>4</th>\n",
       "      <td>5</td>\n",
       "      <td>automobile</td>\n",
       "      <td>1</td>\n",
       "      <td>2</td>\n",
       "    </tr>\n",
       "  </tbody>\n",
       "</table>\n",
       "</div>"
      ],
      "text/plain": [
       "   id       label  label_enc  fold\n",
       "0   1        frog          6     1\n",
       "1   2       truck          9     1\n",
       "2   3       truck          9     2\n",
       "3   4        deer          4     1\n",
       "4   5  automobile          1     2"
      ]
     },
     "execution_count": 3,
     "metadata": {},
     "output_type": "execute_result"
    }
   ],
   "source": [
    "# prepare labels\n",
    "train_df = pd.read_csv(\"trainLabels.csv\")\n",
    "from sklearn.preprocessing import LabelEncoder\n",
    "le = LabelEncoder()\n",
    "train_df['label_enc'] = le.fit_transform(train_df['label'])\n",
    "\n",
    "# 5-fold\n",
    "from sklearn.model_selection import StratifiedKFold\n",
    "skf = StratifiedKFold(n_splits=5, shuffle=True, random_state=42)\n",
    "\n",
    "train_df[\"fold\"] = -1\n",
    "for i, (train_index, test_index) in enumerate(skf.split(train_df.id, train_df.label_enc)):\n",
    "    train_df.loc[test_index, 'fold'] = i\n",
    "train_df.head()"
   ]
  },
  {
   "cell_type": "code",
   "execution_count": 4,
   "id": "44be87f4",
   "metadata": {},
   "outputs": [],
   "source": [
    "class cifarDataset(Dataset):\n",
    "    def __init__(self,\n",
    "                 df,\n",
    "                 rand=False,\n",
    "                 transform=None,\n",
    "                 test=False\n",
    "                ):\n",
    "\n",
    "        self.df = df.reset_index(drop=True)\n",
    "        self.rand = rand\n",
    "        self.transform = transform\n",
    "        self.test = test\n",
    "\n",
    "    def __len__(self):\n",
    "        return self.df.shape[0]\n",
    "\n",
    "    def __getitem__(self, index):\n",
    "        row = self.df.iloc[index]\n",
    "        img_id = row.id\n",
    "        \n",
    "        images = cv2.imread(os.path.join(DATA_DIR, str(img_id)+\".png\"))\n",
    "        \n",
    "        # Load labels\n",
    "        label = row.label_enc\n",
    "        \n",
    "        # aug\n",
    "        if self.transform is not None:\n",
    "            images = self.transform(image=images)['image']\n",
    "              \n",
    "        #images = images.astype(np.float32)\n",
    "        #images /= 255\n",
    "        images = images.transpose(2, 0, 1)\n",
    "        \n",
    "        label = label.astype(np.float32)\n",
    "        #label2 = label2.astype(np.float32)\n",
    "        return torch.tensor(images), torch.tensor(label),"
   ]
  },
  {
   "cell_type": "code",
   "execution_count": 5,
   "id": "cd5517a6",
   "metadata": {},
   "outputs": [
    {
     "name": "stderr",
     "output_type": "stream",
     "text": [
      "/home/ken/anaconda3/envs/pytorch_p37/lib/python3.7/site-packages/albumentations/augmentations/transforms.py:690: FutureWarning: This class has been deprecated. Please use CoarseDropout\n",
      "  FutureWarning,\n"
     ]
    }
   ],
   "source": [
    "import albumentations as A\n",
    "import albumentations\n",
    "\n",
    "transforms_train = albumentations.Compose([\n",
    "    albumentations.ShiftScaleRotate(scale_limit=0.3, rotate_limit=180,p=0.5),\n",
    "    A.Cutout(num_holes=12, max_h_size=4, max_w_size=4, fill_value=0, p=0.5),\n",
    "    #albumentations.Rotate(p=0.5),\n",
    "    #albumentations.Transpose(p=0.5),\n",
    "    #albumentations.VerticalFlip(p=0.5),\n",
    "    albumentations.HorizontalFlip(p=0.5),   \n",
    "    albumentations.Resize(imsize, imsize, p=1.0), \n",
    "    albumentations.Normalize(mean=(0.485, 0.456, 0.406),\n",
    "                       std=(0.229, 0.224, 0.225), p=1),\n",
    "])\n",
    "\n",
    "transforms_val = albumentations.Compose([albumentations.Resize(imsize, imsize, p=1.0),\n",
    "                                         albumentations.Normalize(mean=(0.485, 0.456, 0.406),\n",
    "                       std=(0.229, 0.224, 0.225), p=1),])"
   ]
  },
  {
   "cell_type": "code",
   "execution_count": 6,
   "id": "e3726718",
   "metadata": {
    "scrolled": true
   },
   "outputs": [
    {
     "name": "stderr",
     "output_type": "stream",
     "text": [
      "Clipping input data to the valid range for imshow with RGB data ([0..1] for floats or [0..255] for integers).\n",
      "Clipping input data to the valid range for imshow with RGB data ([0..1] for floats or [0..255] for integers).\n",
      "Clipping input data to the valid range for imshow with RGB data ([0..1] for floats or [0..255] for integers).\n",
      "Clipping input data to the valid range for imshow with RGB data ([0..1] for floats or [0..255] for integers).\n",
      "Clipping input data to the valid range for imshow with RGB data ([0..1] for floats or [0..255] for integers).\n",
      "Clipping input data to the valid range for imshow with RGB data ([0..1] for floats or [0..255] for integers).\n",
      "Clipping input data to the valid range for imshow with RGB data ([0..1] for floats or [0..255] for integers).\n",
      "Clipping input data to the valid range for imshow with RGB data ([0..1] for floats or [0..255] for integers).\n",
      "Clipping input data to the valid range for imshow with RGB data ([0..1] for floats or [0..255] for integers).\n",
      "Clipping input data to the valid range for imshow with RGB data ([0..1] for floats or [0..255] for integers).\n",
      "Clipping input data to the valid range for imshow with RGB data ([0..1] for floats or [0..255] for integers).\n",
      "Clipping input data to the valid range for imshow with RGB data ([0..1] for floats or [0..255] for integers).\n",
      "Clipping input data to the valid range for imshow with RGB data ([0..1] for floats or [0..255] for integers).\n",
      "Clipping input data to the valid range for imshow with RGB data ([0..1] for floats or [0..255] for integers).\n",
      "Clipping input data to the valid range for imshow with RGB data ([0..1] for floats or [0..255] for integers).\n"
     ]
    },
    {
     "data": {
      "image/png": "[encoded data removed]",
      "text/plain": [
       "<Figure size 1440x720 with 5 Axes>"
      ]
     },
     "metadata": {
      "needs_background": "light"
     },
     "output_type": "display_data"
    },
    {
     "data": {
      "image/png": "[encoded data removed]",
      "text/plain": [
       "<Figure size 1440x720 with 5 Axes>"
      ]
     },
     "metadata": {
      "needs_background": "light"
     },
     "output_type": "display_data"
    },
    {
     "data": {
      "image/png": "[encoded data removed]",
      "text/plain": [
       "<Figure size 1440x720 with 5 Axes>"
      ]
     },
     "metadata": {
      "needs_background": "light"
     },
     "output_type": "display_data"
    }
   ],
   "source": [
    "dataset_show = cifarDataset(train_df, transform=transforms_train)\n",
    "from pylab import rcParams\n",
    "rcParams['figure.figsize'] = 20,10\n",
    "for i in range(3):\n",
    "    f, axarr = plt.subplots(1,5)\n",
    "    for p in range(5):\n",
    "        idx = np.random.randint(0, len(dataset_show))\n",
    "        img, label = dataset_show[idx]\n",
    "        img = img.flip(0) #BGR2RGB\n",
    "        axarr[p].imshow(img.transpose(0,1).transpose(1,2))\n",
    "        axarr[p].set_title(str(label))\n",
    "plt.show()"
   ]
  },
  {
   "cell_type": "code",
   "execution_count": 7,
   "id": "be374443",
   "metadata": {},
   "outputs": [],
   "source": [
    "def train(train_loader, model, criterion, optimizer, epoch):\n",
    "    \"\"\"\n",
    "        Run one train epoch\n",
    "    \"\"\"\n",
    "    batch_time = AverageMeter()\n",
    "    data_time = AverageMeter()\n",
    "    losses = AverageMeter()\n",
    "    top1 = AverageMeter()\n",
    "\n",
    "    # switch to train mode\n",
    "    model.train()\n",
    "\n",
    "    end = time.time()\n",
    "    lambda_alpha = 0.002\n",
    "    for i, (input, target) in enumerate(tqdm(train_loader)):\n",
    "\n",
    "        # measure data loading time\n",
    "        data_time.update(time.time() - end)\n",
    "        target2 = target\n",
    "\n",
    "        target = target.long().cuda()\n",
    "        target2 = target2.long().cuda()\n",
    "        input_var = input.cuda()\n",
    "        target_var = target\n",
    "\n",
    "        if not mixup:\n",
    "          alpha = 0\n",
    "        else:\n",
    "          alpha = 1\n",
    "        \n",
    "\n",
    "        # compute output\n",
    "        output = model(input_var)\n",
    "        loss = criterion(output, target_var)\n",
    "\n",
    "        # L2 regularization\n",
    "        l2_alpha = 0.0\n",
    "        for name, param in model.named_parameters():\n",
    "            if \"alpha\" in name:\n",
    "                l2_alpha += torch.pow(param, 2)\n",
    "        loss += lambda_alpha * l2_alpha\n",
    "\n",
    "        # compute gradient and do SGD step\n",
    "        optimizer.zero_grad()\n",
    "        loss.backward()\n",
    "        optimizer.step()\n",
    "\n",
    "        output = output.float()\n",
    "        loss = loss.float()\n",
    "        # measure accuracy and record loss\n",
    "        prec1 = accuracy(output.data, target)[0]\n",
    "        losses.update(loss.item(), input.size(0))\n",
    "        top1.update(prec1.item(), input.size(0))\n",
    "\n",
    "        # measure elapsed time\n",
    "        batch_time.update(time.time() - end)\n",
    "        end = time.time()\n",
    "\n",
    "        if i % print_freq == 0:\n",
    "            print('Epoch: [{0}][{1}/{2}]\\t'\n",
    "                  'Time {batch_time.val:.3f} ({batch_time.avg:.3f})\\t'\n",
    "                  'Data {data_time.val:.3f} ({data_time.avg:.3f})\\t'\n",
    "                  'Loss {loss.val:.4f} ({loss.avg:.4f})\\t'\n",
    "                  'Prec@1 {top1.val:.3f} ({top1.avg:.3f})'.format(\n",
    "                      epoch, i, len(train_loader), batch_time=batch_time,\n",
    "                      data_time=data_time, loss=losses, top1=top1))\n",
    "    return losses.avg\n",
    "\n",
    "def validate(val_loader, model, criterion):\n",
    "    \"\"\"\n",
    "    Run evaluation\n",
    "    \"\"\"\n",
    "    batch_time = AverageMeter()\n",
    "    losses = AverageMeter()\n",
    "    top1 = AverageMeter()\n",
    "\n",
    "    # switch to evaluate mode\n",
    "    model.eval()\n",
    "\n",
    "    end = time.time()\n",
    "    with torch.no_grad():\n",
    "        for i, (input, target) in enumerate(val_loader):\n",
    "            target = target.long().cuda()\n",
    "            input_var = input.cuda()\n",
    "            target_var = target.cuda()\n",
    "\n",
    "            # compute output\n",
    "            output = model(input_var)\n",
    "            loss = criterion(output, target_var)\n",
    "\n",
    "            output = output.float()\n",
    "            loss = loss.float()\n",
    "\n",
    "            # measure accuracy and record loss\n",
    "            prec1 = accuracy(output.data, target)[0]\n",
    "            losses.update(loss.item(), input.size(0))\n",
    "            top1.update(prec1.item(), input.size(0))\n",
    "\n",
    "            # measure elapsed time\n",
    "            batch_time.update(time.time() - end)\n",
    "            end = time.time()\n",
    "\n",
    "            if i % print_freq == 0:\n",
    "                print('Test: [{0}/{1}]\\t'\n",
    "                      'Time {batch_time.val:.3f} ({batch_time.avg:.3f})\\t'\n",
    "                      'Loss {loss.val:.4f} ({loss.avg:.4f})\\t'\n",
    "                      'Prec@1 {top1.val:.3f} ({top1.avg:.3f})'.format(\n",
    "                          i, len(val_loader), batch_time=batch_time, loss=losses,\n",
    "                          top1=top1))\n",
    "\n",
    "    print(' * Prec@1 {top1.avg:.3f}'\n",
    "          .format(top1=top1))\n",
    "    for name, param in model.named_parameters():\n",
    "        if \"alpha\" in name:\n",
    "            print(name, param.item())\n",
    "    return top1.avg, losses.avg\n",
    "\n",
    "def save_checkpoint(state, filename='checkpoint.pth'):\n",
    "    \"\"\"\n",
    "    Save the training model\n",
    "    \"\"\"\n",
    "    torch.save(state, filename)\n",
    "\n",
    "class AverageMeter(object):\n",
    "    \"\"\"Computes and stores the average and current value\"\"\"\n",
    "    def __init__(self):\n",
    "        self.reset()\n",
    "\n",
    "    def reset(self):\n",
    "        self.val = 0\n",
    "        self.avg = 0\n",
    "        self.sum = 0\n",
    "        self.count = 0\n",
    "\n",
    "    def update(self, val, n=1):\n",
    "        self.val = val\n",
    "        self.sum += val * n\n",
    "        self.count += n\n",
    "        self.avg = self.sum / self.count\n",
    "\n",
    "\n",
    "def accuracy(output, target, topk=(1,)):\n",
    "    \"\"\"Computes the precision@k for the specified values of k\"\"\"\n",
    "    maxk = max(topk)\n",
    "    batch_size = target.size(0)\n",
    "\n",
    "    _, pred = output.topk(maxk, 1, True, True)\n",
    "    pred = pred.t()\n",
    "    correct = pred.eq(target.view(1, -1).expand_as(pred))\n",
    "\n",
    "    res = []\n",
    "    for k in topk:\n",
    "        correct_k = correct[:k].view(-1).float().sum(0)\n",
    "        res.append(correct_k.mul_(100.0 / batch_size))\n",
    "    return res"
   ]
  },
  {
   "cell_type": "code",
   "execution_count": 8,
   "id": "6f005fd3",
   "metadata": {},
   "outputs": [],
   "source": [
    "train_dataset = cifarDataset(train_df[train_df.fold!=0], transform=transforms_train)\n",
    "val_dataset = cifarDataset(train_df[train_df.fold==0], transform=transforms_val, test=True)\n",
    "\n",
    "train_loader = torch.utils.data.DataLoader(\n",
    "        train_dataset,\n",
    "        batch_size=batches, shuffle=True,\n",
    "        num_workers=8, pin_memory=True)\n",
    "\n",
    "val_loader = torch.utils.data.DataLoader(\n",
    "    val_dataset,\n",
    "    batch_size=batches, shuffle=False,\n",
    "    num_workers=8, pin_memory=True)"
   ]
  },
  {
   "cell_type": "code",
   "execution_count": 9,
   "id": "a4256dce",
   "metadata": {},
   "outputs": [],
   "source": [
    "import torch\n",
    "import torch.nn as nn\n",
    "import torch.nn.functional as F\n",
    "import torch.nn.init as init\n",
    "from torch.autograd import Variable\n",
    "from pact_utils import QuantizedLinear, QuantizedConv2d, PGConv2d\n",
    "\n",
    "\n",
    "def _weights_init(m):\n",
    "    classname = m.__class__.__name__\n",
    "    #print(classname)\n",
    "    if isinstance(m, nn.Linear) or isinstance(m, nn.Conv2d):\n",
    "        init.kaiming_normal_(m.weight)\n",
    "\n",
    "class LambdaLayer(nn.Module):\n",
    "    def __init__(self, lambd):\n",
    "        super(LambdaLayer, self).__init__()\n",
    "        self.lambd = lambd\n",
    "\n",
    "    def forward(self, x):\n",
    "        return self.lambd(x)\n",
    "\n",
    "\n",
    "class BasicBlock(nn.Module):\n",
    "    expansion = 1\n",
    "\n",
    "    def __init__(self, in_planes, planes, stride=1, k=8, expansion=1):\n",
    "        super(BasicBlock, self).__init__()\n",
    "        self.k = k\n",
    "        self.expansion = expansion\n",
    "        self.conv1 = PGConv2d(in_planes, planes, kernel_size=3, stride=stride, padding=1, bias=False, wbits=k, abits=k, pred_bits=k-1)\n",
    "        self.bn1 = nn.BatchNorm2d(planes)\n",
    "        # self.conv2 = nn.Conv2d(planes, planes, kernel_size=3, stride=1, padding=1, bias=False)\n",
    "        self.conv2 = PGConv2d(planes, planes, kernel_size=3, stride=1, padding=1, bias=False, wbits=k, abits=k, pred_bits=k-1)\n",
    "        self.bn2 = nn.BatchNorm2d(planes)\n",
    "        \n",
    "        if stride != 1 or in_planes != planes:\n",
    "              # original resnet shortcut\n",
    "              self.shortcut = nn.Sequential(\n",
    "                    # nn.Conv2d(in_planes, self.expansion * planes, kernel_size=1, stride=stride, bias=False),\n",
    "                    PGConv2d(in_planes, self.expansion * planes, kernel_size=1, stride=stride, bias=False, wbits=k, abits=k, pred_bits=k-1),\n",
    "                    nn.BatchNorm2d(self.expansion * planes)\n",
    "              )\n",
    "        else: # nothing done if stride or inplanes do not differ\n",
    "          self.shortcut = nn.Sequential()\n",
    "\n",
    "    def forward(self, x):\n",
    "        # Relu is implemented as the input of conv2d\n",
    "        out = self.bn1(self.conv1(x))\n",
    "        out = self.bn2(self.conv2(out))\n",
    "        out += self.shortcut(x)\n",
    "        out = F.relu(out)\n",
    "        return out\n",
    "\n",
    "\n",
    "class ResNet(nn.Module):\n",
    "    def __init__(self, block, num_blocks, num_classes=10, K=8):\n",
    "        super(ResNet, self).__init__()\n",
    "        self.in_planes = 16\n",
    "        self.k = K\n",
    "\n",
    "        self.conv1 = PGConv2d(3, 16, kernel_size=3, stride=1, padding=1, bias=False, abits=8, wbits=8, pred_bits=4)\n",
    "        self.bn1 = nn.BatchNorm2d(16)\n",
    "        self.alpha1 = nn.Parameter(torch.tensor(10.))\n",
    "        self.layer1 = self._make_layer(block, 16, num_blocks[0], stride=1, expansion=1)\n",
    "        self.layer2 = self._make_layer(block, 32, num_blocks[1], stride=2, expansion=1)\n",
    "        self.layer3 = self._make_layer(block, 64, num_blocks[2], stride=2, expansion=1)\n",
    "\n",
    "        # self.linear = nn.Linear(64, num_classes)\n",
    "        self.linear = QuantizedLinear(64, num_classes, abits=8, wbits=8)\n",
    "        self.apply(_weights_init)\n",
    "\n",
    "    def _make_layer(self, block, planes, num_blocks, stride, expansion):\n",
    "        strides = [stride] + [1]*(num_blocks-1)\n",
    "        layers = []\n",
    "        for stride in strides:\n",
    "            layers.append(block(self.in_planes, planes, stride, self.k, expansion))\n",
    "            self.in_planes = planes * block.expansion\n",
    "\n",
    "        return nn.Sequential(*layers)\n",
    "\n",
    "    def forward(self, x):\n",
    "        # out = F.relu(self.bn1(self.conv1(x)))\n",
    "        out = self.bn1(self.conv1(x))\n",
    "        out = self.layer1(out)\n",
    "        out = self.layer2(out)\n",
    "        out = self.layer3(out)\n",
    "        out = F.avg_pool2d(out, out.size()[3])\n",
    "        out = out.view(out.size(0), -1)\n",
    "        out = self.linear(out)\n",
    "        return out\n",
    "\n",
    "\n",
    "def resnet20(k=8):\n",
    "    print(\"bit width:\", k)\n",
    "    return ResNet(BasicBlock, [3, 3, 3], K=k)"
   ]
  },
  {
   "cell_type": "code",
   "execution_count": 10,
   "id": "632f4e34",
   "metadata": {},
   "outputs": [
    {
     "name": "stdout",
     "output_type": "stream",
     "text": [
      "bit width: 8\n"
     ]
    }
   ],
   "source": [
    "net = resnet20(8)"
   ]
  },
  {
   "cell_type": "markdown",
   "id": "c3f38958",
   "metadata": {},
   "source": [
    "# Train with quantization"
   ]
  },
  {
   "cell_type": "code",
   "execution_count": null,
   "id": "bf661401",
   "metadata": {
    "scrolled": true
   },
   "outputs": [
    {
     "name": "stdout",
     "output_type": "stream",
     "text": [
      "bit width: 4\n"
     ]
    },
    {
     "name": "stderr",
     "output_type": "stream",
     "text": [
      "\u001b[34m\u001b[1mwandb\u001b[0m: Currently logged in as: \u001b[33marutema47\u001b[0m. Use \u001b[1m`wandb login --relogin`\u001b[0m to force relogin\n"
     ]
    },
    {
     "data": {
      "text/html": [
       "Tracking run with wandb version 0.12.18"
      ],
      "text/plain": [
       "<IPython.core.display.HTML object>"
      ]
     },
     "metadata": {},
     "output_type": "display_data"
    },
    {
     "data": {
      "text/html": [
       "Run data is saved locally in <code>/media/ken/dsk1/data/quantize_models_sandbox/wandb/run-20220620_112401-26t3h7zy</code>"
      ],
      "text/plain": [
       "<IPython.core.display.HTML object>"
      ]
     },
     "metadata": {},
     "output_type": "display_data"
    },
    {
     "data": {
      "text/html": [
       "Syncing run <strong><a href=\"https://wandb.ai/arutema47/quantize_resnet/runs/26t3h7zy\" target=\"_blank\">resnet20_pgquantize_k4</a></strong> to <a href=\"https://wandb.ai/arutema47/quantize_resnet\" target=\"_blank\">Weights & Biases</a> (<a href=\"https://wandb.me/run\" target=\"_blank\">docs</a>)<br/>"
      ],
      "text/plain": [
       "<IPython.core.display.HTML object>"
      ]
     },
     "metadata": {},
     "output_type": "display_data"
    },
    {
     "name": "stdout",
     "output_type": "stream",
     "text": [
      "current lr 1.00000e-06\n"
     ]
    },
    {
     "data": {
      "application/vnd.jupyter.widget-view+json": {
       "model_id": "4ee16b5dc7f9498fa610b99d57735454",
       "version_major": 2,
       "version_minor": 0
      },
      "text/plain": [
       "  0%|          | 0/40 [00:00<?, ?it/s]"
      ]
     },
     "metadata": {},
     "output_type": "display_data"
    },
    {
     "name": "stdout",
     "output_type": "stream",
     "text": [
      "Epoch: [0][0/40]\tTime 4.323 (4.323)\tData 1.608 (1.608)\tLoss 3.1868 (3.1868)\tPrec@1 11.426 (11.426)\n",
      "Test: [0/10]\tTime 1.516 (1.516)\tLoss 2.7886 (2.7886)\tPrec@1 13.184 (13.184)\n",
      " * Prec@1 12.740\n",
      "alpha1 9.999961853027344\n",
      "Best prec1 :  12.739999961853027\n",
      "current lr 3.34000e-04\n"
     ]
    },
    {
     "data": {
      "application/vnd.jupyter.widget-view+json": {
       "model_id": "5147dca16009495c8d8bac46d2b98795",
       "version_major": 2,
       "version_minor": 0
      },
      "text/plain": [
       "  0%|          | 0/40 [00:00<?, ?it/s]"
      ]
     },
     "metadata": {},
     "output_type": "display_data"
    },
    {
     "name": "stdout",
     "output_type": "stream",
     "text": [
      "Epoch: [1][0/40]\tTime 3.321 (3.321)\tData 1.809 (1.809)\tLoss 3.1600 (3.1600)\tPrec@1 11.426 (11.426)\n",
      "Test: [0/10]\tTime 1.165 (1.165)\tLoss 2.0657 (2.0657)\tPrec@1 24.316 (24.316)\n",
      " * Prec@1 22.640\n",
      "alpha1 9.986610412597656\n",
      "Best prec1 :  22.640000012207032\n",
      "current lr 6.67000e-04\n"
     ]
    },
    {
     "data": {
      "application/vnd.jupyter.widget-view+json": {
       "model_id": "8a469f64c58745c1b78ab286f6797dea",
       "version_major": 2,
       "version_minor": 0
      },
      "text/plain": [
       "  0%|          | 0/40 [00:00<?, ?it/s]"
      ]
     },
     "metadata": {},
     "output_type": "display_data"
    },
    {
     "name": "stdout",
     "output_type": "stream",
     "text": [
      "Epoch: [2][0/40]\tTime 2.429 (2.429)\tData 1.460 (1.460)\tLoss 2.3188 (2.3188)\tPrec@1 21.289 (21.289)\n",
      "Test: [0/10]\tTime 1.966 (1.966)\tLoss 1.8322 (1.8322)\tPrec@1 31.250 (31.250)\n",
      " * Prec@1 31.920\n",
      "alpha1 9.959967613220215\n",
      "Best prec1 :  31.91999995727539\n",
      "current lr 1.00000e-03\n"
     ]
    },
    {
     "data": {
      "application/vnd.jupyter.widget-view+json": {
       "model_id": "bcdc4f3f9cb448f8a7d27835583acb9b",
       "version_major": 2,
       "version_minor": 0
      },
      "text/plain": [
       "  0%|          | 0/40 [00:00<?, ?it/s]"
      ]
     },
     "metadata": {},
     "output_type": "display_data"
    },
    {
     "name": "stdout",
     "output_type": "stream",
     "text": [
      "Epoch: [3][0/40]\tTime 2.256 (2.256)\tData 1.395 (1.395)\tLoss 2.0782 (2.0782)\tPrec@1 30.859 (30.859)\n",
      "Test: [0/10]\tTime 1.719 (1.719)\tLoss 1.8577 (1.8577)\tPrec@1 30.957 (30.957)\n",
      " * Prec@1 32.410\n",
      "alpha1 9.920103073120117\n",
      "Best prec1 :  32.41000001220703\n",
      "current lr 9.99938e-04\n"
     ]
    },
    {
     "data": {
      "application/vnd.jupyter.widget-view+json": {
       "model_id": "7781b7f4ba8440de9d906e41cfc4bf1e",
       "version_major": 2,
       "version_minor": 0
      },
      "text/plain": [
       "  0%|          | 0/40 [00:00<?, ?it/s]"
      ]
     },
     "metadata": {},
     "output_type": "display_data"
    },
    {
     "name": "stdout",
     "output_type": "stream",
     "text": [
      "Epoch: [4][0/40]\tTime 2.270 (2.270)\tData 1.159 (1.159)\tLoss 2.0689 (2.0689)\tPrec@1 30.371 (30.371)\n",
      "Test: [0/10]\tTime 1.985 (1.985)\tLoss 1.7315 (1.7315)\tPrec@1 33.887 (33.887)\n",
      " * Prec@1 36.810\n",
      "alpha1 9.880339622497559\n",
      "Best prec1 :  36.80999990234375\n",
      "current lr 9.99754e-04\n"
     ]
    },
    {
     "data": {
      "application/vnd.jupyter.widget-view+json": {
       "model_id": "21cd123ae22e4b6e806bae9050964ead",
       "version_major": 2,
       "version_minor": 0
      },
      "text/plain": [
       "  0%|          | 0/40 [00:00<?, ?it/s]"
      ]
     },
     "metadata": {},
     "output_type": "display_data"
    },
    {
     "name": "stdout",
     "output_type": "stream",
     "text": [
      "Epoch: [5][0/40]\tTime 3.333 (3.333)\tData 1.841 (1.841)\tLoss 1.9664 (1.9664)\tPrec@1 35.254 (35.254)\n",
      "Test: [0/10]\tTime 1.489 (1.489)\tLoss 1.6799 (1.6799)\tPrec@1 38.574 (38.574)\n",
      " * Prec@1 39.210\n",
      "alpha1 9.840672492980957\n",
      "Best prec1 :  39.210000079345704\n",
      "current lr 9.99445e-04\n"
     ]
    },
    {
     "data": {
      "application/vnd.jupyter.widget-view+json": {
       "model_id": "a324fb5261a441568768c163e8d67782",
       "version_major": 2,
       "version_minor": 0
      },
      "text/plain": [
       "  0%|          | 0/40 [00:00<?, ?it/s]"
      ]
     },
     "metadata": {},
     "output_type": "display_data"
    },
    {
     "name": "stdout",
     "output_type": "stream",
     "text": [
      "Epoch: [6][0/40]\tTime 2.615 (2.615)\tData 1.205 (1.205)\tLoss 1.9580 (1.9580)\tPrec@1 35.840 (35.840)\n",
      "Test: [0/10]\tTime 1.884 (1.884)\tLoss 1.6074 (1.6074)\tPrec@1 40.039 (40.039)\n",
      " * Prec@1 41.780\n",
      "alpha1 9.801104545593262\n",
      "Best prec1 :  41.779999951171874\n",
      "current lr 9.99014e-04\n"
     ]
    },
    {
     "data": {
      "application/vnd.jupyter.widget-view+json": {
       "model_id": "d2585c5ec2804608b601aa670bbd3983",
       "version_major": 2,
       "version_minor": 0
      },
      "text/plain": [
       "  0%|          | 0/40 [00:00<?, ?it/s]"
      ]
     },
     "metadata": {},
     "output_type": "display_data"
    },
    {
     "name": "stdout",
     "output_type": "stream",
     "text": [
      "Epoch: [7][0/40]\tTime 3.451 (3.451)\tData 1.817 (1.817)\tLoss 1.9228 (1.9228)\tPrec@1 35.156 (35.156)\n",
      "Test: [0/10]\tTime 1.241 (1.241)\tLoss 1.5780 (1.5780)\tPrec@1 43.164 (43.164)\n",
      " * Prec@1 44.050\n",
      "alpha1 9.761632919311523\n",
      "Best prec1 :  44.04999989013672\n",
      "current lr 9.98460e-04\n"
     ]
    },
    {
     "data": {
      "application/vnd.jupyter.widget-view+json": {
       "model_id": "7b01e87ae909484fbea47ad0d87c37a1",
       "version_major": 2,
       "version_minor": 0
      },
      "text/plain": [
       "  0%|          | 0/40 [00:00<?, ?it/s]"
      ]
     },
     "metadata": {},
     "output_type": "display_data"
    },
    {
     "name": "stdout",
     "output_type": "stream",
     "text": [
      "Epoch: [8][0/40]\tTime 2.766 (2.766)\tData 1.415 (1.415)\tLoss 1.8345 (1.8345)\tPrec@1 38.770 (38.770)\n",
      "Test: [0/10]\tTime 1.674 (1.674)\tLoss 1.6206 (1.6206)\tPrec@1 39.258 (39.258)\n",
      " * Prec@1 42.380\n",
      "alpha1 9.722261428833008\n",
      "Best prec1 :  44.04999989013672\n",
      "current lr 9.97783e-04\n"
     ]
    },
    {
     "data": {
      "application/vnd.jupyter.widget-view+json": {
       "model_id": "68f9863694ac48a4a06cc11648a778c8",
       "version_major": 2,
       "version_minor": 0
      },
      "text/plain": [
       "  0%|          | 0/40 [00:00<?, ?it/s]"
      ]
     },
     "metadata": {},
     "output_type": "display_data"
    },
    {
     "name": "stdout",
     "output_type": "stream",
     "text": [
      "Epoch: [9][0/40]\tTime 2.318 (2.318)\tData 1.292 (1.292)\tLoss 1.8380 (1.8380)\tPrec@1 42.871 (42.871)\n",
      "Test: [0/10]\tTime 1.746 (1.746)\tLoss 1.5082 (1.5082)\tPrec@1 43.457 (43.457)\n",
      " * Prec@1 46.350\n",
      "alpha1 9.682992935180664\n",
      "Best prec1 :  46.35000003051758\n",
      "current lr 9.96983e-04\n"
     ]
    },
    {
     "data": {
      "application/vnd.jupyter.widget-view+json": {
       "model_id": "d190cc7be45646669ab56dcbb2c979ec",
       "version_major": 2,
       "version_minor": 0
      },
      "text/plain": [
       "  0%|          | 0/40 [00:00<?, ?it/s]"
      ]
     },
     "metadata": {},
     "output_type": "display_data"
    },
    {
     "name": "stdout",
     "output_type": "stream",
     "text": [
      "Epoch: [10][0/40]\tTime 4.071 (4.071)\tData 2.239 (2.239)\tLoss 1.8155 (1.8155)\tPrec@1 41.113 (41.113)\n",
      "Test: [0/10]\tTime 1.186 (1.186)\tLoss 1.4530 (1.4530)\tPrec@1 48.340 (48.340)\n",
      " * Prec@1 47.730\n",
      "alpha1 9.643830299377441\n",
      "Best prec1 :  47.72999989013672\n",
      "current lr 9.96061e-04\n"
     ]
    },
    {
     "data": {
      "application/vnd.jupyter.widget-view+json": {
       "model_id": "e243361dedf54430811160602b159082",
       "version_major": 2,
       "version_minor": 0
      },
      "text/plain": [
       "  0%|          | 0/40 [00:00<?, ?it/s]"
      ]
     },
     "metadata": {},
     "output_type": "display_data"
    },
    {
     "name": "stdout",
     "output_type": "stream",
     "text": [
      "Epoch: [11][0/40]\tTime 2.475 (2.475)\tData 1.572 (1.572)\tLoss 1.7712 (1.7712)\tPrec@1 45.215 (45.215)\n",
      "Test: [0/10]\tTime 2.264 (2.264)\tLoss 1.3770 (1.3770)\tPrec@1 50.781 (50.781)\n",
      " * Prec@1 50.670\n",
      "alpha1 9.604776382446289\n",
      "Best prec1 :  50.669999963378906\n",
      "current lr 9.95017e-04\n"
     ]
    },
    {
     "data": {
      "application/vnd.jupyter.widget-view+json": {
       "model_id": "a704c560b6b841f8a18112d0817b6473",
       "version_major": 2,
       "version_minor": 0
      },
      "text/plain": [
       "  0%|          | 0/40 [00:00<?, ?it/s]"
      ]
     },
     "metadata": {},
     "output_type": "display_data"
    },
    {
     "name": "stdout",
     "output_type": "stream",
     "text": [
      "Epoch: [12][0/40]\tTime 3.720 (3.720)\tData 2.467 (2.467)\tLoss 1.7787 (1.7787)\tPrec@1 42.480 (42.480)\n",
      "Test: [0/10]\tTime 1.409 (1.409)\tLoss 1.3874 (1.3874)\tPrec@1 49.805 (49.805)\n",
      " * Prec@1 50.160\n",
      "alpha1 9.565834045410156\n",
      "Best prec1 :  50.669999963378906\n",
      "current lr 9.93850e-04\n"
     ]
    },
    {
     "data": {
      "application/vnd.jupyter.widget-view+json": {
       "model_id": "7e79eece94bc4aedbd594de76e971e59",
       "version_major": 2,
       "version_minor": 0
      },
      "text/plain": [
       "  0%|          | 0/40 [00:00<?, ?it/s]"
      ]
     },
     "metadata": {},
     "output_type": "display_data"
    },
    {
     "name": "stdout",
     "output_type": "stream",
     "text": [
      "Epoch: [13][0/40]\tTime 2.461 (2.461)\tData 1.569 (1.569)\tLoss 1.7047 (1.7047)\tPrec@1 43.750 (43.750)\n",
      "Test: [0/10]\tTime 2.035 (2.035)\tLoss 1.3544 (1.3544)\tPrec@1 49.609 (49.609)\n",
      " * Prec@1 51.630\n",
      "alpha1 9.527007102966309\n",
      "Best prec1 :  51.629999835205076\n",
      "current lr 9.92562e-04\n"
     ]
    },
    {
     "data": {
      "application/vnd.jupyter.widget-view+json": {
       "model_id": "006e3bc26ca342bb85a74908939a5666",
       "version_major": 2,
       "version_minor": 0
      },
      "text/plain": [
       "  0%|          | 0/40 [00:00<?, ?it/s]"
      ]
     },
     "metadata": {},
     "output_type": "display_data"
    },
    {
     "name": "stdout",
     "output_type": "stream",
     "text": [
      "Epoch: [14][0/40]\tTime 3.989 (3.989)\tData 2.229 (2.229)\tLoss 1.6466 (1.6466)\tPrec@1 48.242 (48.242)\n",
      "Test: [0/10]\tTime 1.442 (1.442)\tLoss 1.3308 (1.3308)\tPrec@1 52.930 (52.930)\n",
      " * Prec@1 52.780\n",
      "alpha1 9.488299369812012\n",
      "Best prec1 :  52.78000001220703\n",
      "current lr 9.91152e-04\n"
     ]
    },
    {
     "data": {
      "application/vnd.jupyter.widget-view+json": {
       "model_id": "88784da6bddc4f5da1641bfdf4b3a670",
       "version_major": 2,
       "version_minor": 0
      },
      "text/plain": [
       "  0%|          | 0/40 [00:00<?, ?it/s]"
      ]
     },
     "metadata": {},
     "output_type": "display_data"
    },
    {
     "name": "stdout",
     "output_type": "stream",
     "text": [
      "Epoch: [15][0/40]\tTime 2.402 (2.402)\tData 1.465 (1.465)\tLoss 1.6451 (1.6451)\tPrec@1 47.070 (47.070)\n",
      "Test: [0/10]\tTime 2.049 (2.049)\tLoss 1.3893 (1.3893)\tPrec@1 49.023 (49.023)\n",
      " * Prec@1 49.990\n",
      "alpha1 9.449712753295898\n",
      "Best prec1 :  52.78000001220703\n",
      "current lr 9.89622e-04\n"
     ]
    },
    {
     "data": {
      "application/vnd.jupyter.widget-view+json": {
       "model_id": "a9b67d52f6b34edfbc28315facae7c38",
       "version_major": 2,
       "version_minor": 0
      },
      "text/plain": [
       "  0%|          | 0/40 [00:00<?, ?it/s]"
      ]
     },
     "metadata": {},
     "output_type": "display_data"
    },
    {
     "name": "stdout",
     "output_type": "stream",
     "text": [
      "Epoch: [16][0/40]\tTime 3.745 (3.745)\tData 2.559 (2.559)\tLoss 1.6305 (1.6305)\tPrec@1 47.168 (47.168)\n",
      "Test: [0/10]\tTime 1.547 (1.547)\tLoss 1.3189 (1.3189)\tPrec@1 51.953 (51.953)\n",
      " * Prec@1 52.300\n",
      "alpha1 9.411249160766602\n",
      "Best prec1 :  52.78000001220703\n",
      "current lr 9.87970e-04\n"
     ]
    },
    {
     "data": {
      "application/vnd.jupyter.widget-view+json": {
       "model_id": "83d622394a9b497a87d1afa7cfa2c2d1",
       "version_major": 2,
       "version_minor": 0
      },
      "text/plain": [
       "  0%|          | 0/40 [00:00<?, ?it/s]"
      ]
     },
     "metadata": {},
     "output_type": "display_data"
    },
    {
     "name": "stdout",
     "output_type": "stream",
     "text": [
      "Epoch: [17][0/40]\tTime 2.953 (2.953)\tData 1.452 (1.452)\tLoss 1.6282 (1.6282)\tPrec@1 47.168 (47.168)\n",
      "Test: [0/10]\tTime 1.928 (1.928)\tLoss 1.2728 (1.2728)\tPrec@1 53.809 (53.809)\n",
      " * Prec@1 53.610\n",
      "alpha1 9.372915267944336\n",
      "Best prec1 :  53.60999982910156\n",
      "current lr 9.86199e-04\n"
     ]
    },
    {
     "data": {
      "application/vnd.jupyter.widget-view+json": {
       "model_id": "dbec3e7e902c4e4585df0a28959dd8f6",
       "version_major": 2,
       "version_minor": 0
      },
      "text/plain": [
       "  0%|          | 0/40 [00:00<?, ?it/s]"
      ]
     },
     "metadata": {},
     "output_type": "display_data"
    },
    {
     "name": "stdout",
     "output_type": "stream",
     "text": [
      "Epoch: [18][0/40]\tTime 3.316 (3.316)\tData 1.928 (1.928)\tLoss 1.6166 (1.6166)\tPrec@1 48.535 (48.535)\n",
      "Test: [0/10]\tTime 1.513 (1.513)\tLoss 1.2556 (1.2556)\tPrec@1 54.102 (54.102)\n",
      " * Prec@1 54.670\n",
      "alpha1 9.334712028503418\n",
      "Best prec1 :  54.669999951171874\n",
      "current lr 9.84307e-04\n"
     ]
    },
    {
     "data": {
      "application/vnd.jupyter.widget-view+json": {
       "model_id": "85f857cb2b7f4df0a49f03ddbea03225",
       "version_major": 2,
       "version_minor": 0
      },
      "text/plain": [
       "  0%|          | 0/40 [00:00<?, ?it/s]"
      ]
     },
     "metadata": {},
     "output_type": "display_data"
    },
    {
     "name": "stdout",
     "output_type": "stream",
     "text": [
      "Epoch: [19][0/40]\tTime 2.375 (2.375)\tData 1.237 (1.237)\tLoss 1.5871 (1.5871)\tPrec@1 48.145 (48.145)\n",
      "Test: [0/10]\tTime 1.941 (1.941)\tLoss 1.2054 (1.2054)\tPrec@1 56.738 (56.738)\n",
      " * Prec@1 55.990\n",
      "alpha1 9.296646118164062\n",
      "Best prec1 :  55.989999835205076\n",
      "current lr 9.82296e-04\n"
     ]
    },
    {
     "data": {
      "application/vnd.jupyter.widget-view+json": {
       "model_id": "e8d539408ea5433b8e77fe0ee2c15e33",
       "version_major": 2,
       "version_minor": 0
      },
      "text/plain": [
       "  0%|          | 0/40 [00:00<?, ?it/s]"
      ]
     },
     "metadata": {},
     "output_type": "display_data"
    },
    {
     "name": "stdout",
     "output_type": "stream",
     "text": [
      "Epoch: [20][0/40]\tTime 3.793 (3.793)\tData 2.109 (2.109)\tLoss 1.5744 (1.5744)\tPrec@1 48.145 (48.145)\n",
      "Test: [0/10]\tTime 1.378 (1.378)\tLoss 1.2051 (1.2051)\tPrec@1 56.348 (56.348)\n",
      " * Prec@1 56.280\n",
      "alpha1 9.25871467590332\n",
      "Best prec1 :  56.27999993896484\n",
      "current lr 9.80167e-04\n"
     ]
    },
    {
     "data": {
      "application/vnd.jupyter.widget-view+json": {
       "model_id": "b60ce9ffdf4547ff97485d57b81f2f37",
       "version_major": 2,
       "version_minor": 0
      },
      "text/plain": [
       "  0%|          | 0/40 [00:00<?, ?it/s]"
      ]
     },
     "metadata": {},
     "output_type": "display_data"
    },
    {
     "name": "stdout",
     "output_type": "stream",
     "text": [
      "Epoch: [21][0/40]\tTime 2.481 (2.481)\tData 1.389 (1.389)\tLoss 1.5849 (1.5849)\tPrec@1 48.730 (48.730)\n",
      "Test: [0/10]\tTime 1.868 (1.868)\tLoss 1.1926 (1.1926)\tPrec@1 57.324 (57.324)\n",
      " * Prec@1 57.280\n",
      "alpha1 9.220929145812988\n",
      "Best prec1 :  57.28000009765625\n",
      "current lr 9.77919e-04\n"
     ]
    },
    {
     "data": {
      "application/vnd.jupyter.widget-view+json": {
       "model_id": "bb35087d8a3a476b975ab34b67fcf8a1",
       "version_major": 2,
       "version_minor": 0
      },
      "text/plain": [
       "  0%|          | 0/40 [00:00<?, ?it/s]"
      ]
     },
     "metadata": {},
     "output_type": "display_data"
    },
    {
     "name": "stdout",
     "output_type": "stream",
     "text": [
      "Epoch: [22][0/40]\tTime 2.913 (2.913)\tData 1.478 (1.478)\tLoss 1.5695 (1.5695)\tPrec@1 49.121 (49.121)\n",
      "Test: [0/10]\tTime 1.560 (1.560)\tLoss 1.1868 (1.1868)\tPrec@1 56.641 (56.641)\n",
      " * Prec@1 56.870\n",
      "alpha1 9.183290481567383\n",
      "Best prec1 :  57.28000009765625\n",
      "current lr 9.75553e-04\n"
     ]
    },
    {
     "data": {
      "application/vnd.jupyter.widget-view+json": {
       "model_id": "21fc7dce62b642b39054442a9e77e50a",
       "version_major": 2,
       "version_minor": 0
      },
      "text/plain": [
       "  0%|          | 0/40 [00:00<?, ?it/s]"
      ]
     },
     "metadata": {},
     "output_type": "display_data"
    },
    {
     "name": "stdout",
     "output_type": "stream",
     "text": [
      "Epoch: [23][0/40]\tTime 2.831 (2.831)\tData 1.355 (1.355)\tLoss 1.5127 (1.5127)\tPrec@1 51.172 (51.172)\n",
      "Test: [0/10]\tTime 1.762 (1.762)\tLoss 1.1919 (1.1919)\tPrec@1 58.008 (58.008)\n",
      " * Prec@1 56.890\n",
      "alpha1 9.145798683166504\n",
      "Best prec1 :  57.28000009765625\n",
      "current lr 9.73070e-04\n"
     ]
    },
    {
     "data": {
      "application/vnd.jupyter.widget-view+json": {
       "model_id": "5608a33c833d445aa155d822211b0ff4",
       "version_major": 2,
       "version_minor": 0
      },
      "text/plain": [
       "  0%|          | 0/40 [00:00<?, ?it/s]"
      ]
     },
     "metadata": {},
     "output_type": "display_data"
    },
    {
     "name": "stdout",
     "output_type": "stream",
     "text": [
      "Epoch: [24][0/40]\tTime 3.926 (3.926)\tData 2.043 (2.043)\tLoss 1.5652 (1.5652)\tPrec@1 48.438 (48.438)\n",
      "Test: [0/10]\tTime 1.397 (1.397)\tLoss 1.2119 (1.2119)\tPrec@1 56.445 (56.445)\n",
      " * Prec@1 55.830\n",
      "alpha1 9.108458518981934\n",
      "Best prec1 :  57.28000009765625\n",
      "current lr 9.70470e-04\n"
     ]
    },
    {
     "data": {
      "application/vnd.jupyter.widget-view+json": {
       "model_id": "28439750aade44519d0b4fc95bf3f6d1",
       "version_major": 2,
       "version_minor": 0
      },
      "text/plain": [
       "  0%|          | 0/40 [00:00<?, ?it/s]"
      ]
     },
     "metadata": {},
     "output_type": "display_data"
    },
    {
     "name": "stdout",
     "output_type": "stream",
     "text": [
      "Epoch: [25][0/40]\tTime 2.273 (2.273)\tData 1.420 (1.420)\tLoss 1.5206 (1.5206)\tPrec@1 51.953 (51.953)\n",
      "Test: [0/10]\tTime 2.251 (2.251)\tLoss 1.1864 (1.1864)\tPrec@1 55.273 (55.273)\n",
      " * Prec@1 56.920\n",
      "alpha1 9.071272850036621\n",
      "Best prec1 :  57.28000009765625\n",
      "current lr 9.67754e-04\n"
     ]
    },
    {
     "data": {
      "application/vnd.jupyter.widget-view+json": {
       "model_id": "11186f03422e48218bfc1b0a885f32a5",
       "version_major": 2,
       "version_minor": 0
      },
      "text/plain": [
       "  0%|          | 0/40 [00:00<?, ?it/s]"
      ]
     },
     "metadata": {},
     "output_type": "display_data"
    },
    {
     "name": "stdout",
     "output_type": "stream",
     "text": [
      "Epoch: [26][0/40]\tTime 4.545 (4.545)\tData 1.953 (1.953)\tLoss 1.5929 (1.5929)\tPrec@1 49.219 (49.219)\n",
      "Test: [0/10]\tTime 1.989 (1.989)\tLoss 1.1863 (1.1863)\tPrec@1 56.543 (56.543)\n",
      " * Prec@1 57.330\n",
      "alpha1 9.034245491027832\n",
      "Best prec1 :  57.32999984741211\n",
      "current lr 9.64923e-04\n"
     ]
    },
    {
     "data": {
      "application/vnd.jupyter.widget-view+json": {
       "model_id": "fb2675f976f04cdc8b1ebf165be37457",
       "version_major": 2,
       "version_minor": 0
      },
      "text/plain": [
       "  0%|          | 0/40 [00:00<?, ?it/s]"
      ]
     },
     "metadata": {},
     "output_type": "display_data"
    },
    {
     "name": "stdout",
     "output_type": "stream",
     "text": [
      "Epoch: [27][0/40]\tTime 3.991 (3.991)\tData 1.510 (1.510)\tLoss 1.5311 (1.5311)\tPrec@1 50.391 (50.391)\n",
      "Test: [0/10]\tTime 1.850 (1.850)\tLoss 1.1508 (1.1508)\tPrec@1 57.715 (57.715)\n",
      " * Prec@1 56.980\n",
      "alpha1 8.997376441955566\n",
      "Best prec1 :  57.32999984741211\n",
      "current lr 9.61978e-04\n"
     ]
    },
    {
     "data": {
      "application/vnd.jupyter.widget-view+json": {
       "model_id": "8ed8cc16ee76413895f73e5abdde62ec",
       "version_major": 2,
       "version_minor": 0
      },
      "text/plain": [
       "  0%|          | 0/40 [00:00<?, ?it/s]"
      ]
     },
     "metadata": {},
     "output_type": "display_data"
    },
    {
     "name": "stdout",
     "output_type": "stream",
     "text": [
      "Epoch: [28][0/40]\tTime 3.426 (3.426)\tData 1.240 (1.240)\tLoss 1.4693 (1.4693)\tPrec@1 53.320 (53.320)\n",
      "Test: [0/10]\tTime 2.164 (2.164)\tLoss 1.1502 (1.1502)\tPrec@1 58.105 (58.105)\n",
      " * Prec@1 58.100\n",
      "alpha1 8.960668563842773\n",
      "Best prec1 :  58.09999998779297\n",
      "current lr 9.58918e-04\n"
     ]
    },
    {
     "data": {
      "application/vnd.jupyter.widget-view+json": {
       "model_id": "9a166365d427442892e094e3ec085cbd",
       "version_major": 2,
       "version_minor": 0
      },
      "text/plain": [
       "  0%|          | 0/40 [00:00<?, ?it/s]"
      ]
     },
     "metadata": {},
     "output_type": "display_data"
    },
    {
     "name": "stdout",
     "output_type": "stream",
     "text": [
      "Epoch: [29][0/40]\tTime 4.337 (4.337)\tData 2.288 (2.288)\tLoss 1.4688 (1.4688)\tPrec@1 52.637 (52.637)\n",
      "Test: [0/10]\tTime 1.759 (1.759)\tLoss 1.1092 (1.1092)\tPrec@1 59.766 (59.766)\n",
      " * Prec@1 59.320\n",
      "alpha1 8.92413330078125\n",
      "Best prec1 :  59.32000000610351\n",
      "current lr 9.55746e-04\n"
     ]
    },
    {
     "data": {
      "application/vnd.jupyter.widget-view+json": {
       "model_id": "f94f3e727fb74ddb885f09607dc02150",
       "version_major": 2,
       "version_minor": 0
      },
      "text/plain": [
       "  0%|          | 0/40 [00:00<?, ?it/s]"
      ]
     },
     "metadata": {},
     "output_type": "display_data"
    },
    {
     "name": "stdout",
     "output_type": "stream",
     "text": [
      "Epoch: [30][0/40]\tTime 3.737 (3.737)\tData 1.549 (1.549)\tLoss 1.4789 (1.4789)\tPrec@1 52.051 (52.051)\n",
      "Test: [0/10]\tTime 2.223 (2.223)\tLoss 1.1704 (1.1704)\tPrec@1 57.910 (57.910)\n",
      " * Prec@1 56.800\n",
      "alpha1 8.887763977050781\n",
      "Best prec1 :  59.32000000610351\n",
      "current lr 9.52461e-04\n"
     ]
    },
    {
     "data": {
      "application/vnd.jupyter.widget-view+json": {
       "model_id": "6d3a0f10a6fe4b07b7a594f3ad242a30",
       "version_major": 2,
       "version_minor": 0
      },
      "text/plain": [
       "  0%|          | 0/40 [00:00<?, ?it/s]"
      ]
     },
     "metadata": {},
     "output_type": "display_data"
    },
    {
     "name": "stdout",
     "output_type": "stream",
     "text": [
      "Epoch: [31][0/40]\tTime 5.035 (5.035)\tData 2.324 (2.324)\tLoss 1.5283 (1.5283)\tPrec@1 50.781 (50.781)\n",
      "Test: [0/10]\tTime 2.003 (2.003)\tLoss 1.1250 (1.1250)\tPrec@1 59.473 (59.473)\n",
      " * Prec@1 59.180\n",
      "alpha1 8.851572036743164\n",
      "Best prec1 :  59.32000000610351\n",
      "current lr 9.49065e-04\n"
     ]
    },
    {
     "data": {
      "application/vnd.jupyter.widget-view+json": {
       "model_id": "933cc5300ad34bc6b5aa6b754b61e7cd",
       "version_major": 2,
       "version_minor": 0
      },
      "text/plain": [
       "  0%|          | 0/40 [00:00<?, ?it/s]"
      ]
     },
     "metadata": {},
     "output_type": "display_data"
    },
    {
     "name": "stdout",
     "output_type": "stream",
     "text": [
      "Epoch: [32][0/40]\tTime 3.546 (3.546)\tData 1.317 (1.317)\tLoss 1.4945 (1.4945)\tPrec@1 50.586 (50.586)\n",
      "Test: [0/10]\tTime 2.614 (2.614)\tLoss 1.1043 (1.1043)\tPrec@1 61.035 (61.035)\n",
      " * Prec@1 60.040\n",
      "alpha1 8.8155517578125\n",
      "Best prec1 :  60.0399998046875\n",
      "current lr 9.45558e-04\n"
     ]
    },
    {
     "data": {
      "application/vnd.jupyter.widget-view+json": {
       "model_id": "7fc4b7936dc14feaab15e93a721023fe",
       "version_major": 2,
       "version_minor": 0
      },
      "text/plain": [
       "  0%|          | 0/40 [00:00<?, ?it/s]"
      ]
     },
     "metadata": {},
     "output_type": "display_data"
    },
    {
     "name": "stdout",
     "output_type": "stream",
     "text": [
      "Epoch: [33][0/40]\tTime 3.448 (3.448)\tData 1.446 (1.446)\tLoss 1.4203 (1.4203)\tPrec@1 53.516 (53.516)\n",
      "Test: [0/10]\tTime 2.142 (2.142)\tLoss 1.1181 (1.1181)\tPrec@1 59.277 (59.277)\n",
      " * Prec@1 59.150\n",
      "alpha1 8.779711723327637\n",
      "Best prec1 :  60.0399998046875\n",
      "current lr 9.41941e-04\n"
     ]
    },
    {
     "data": {
      "application/vnd.jupyter.widget-view+json": {
       "model_id": "f63144d8a1fe4e48ad1d73580b2d7b8a",
       "version_major": 2,
       "version_minor": 0
      },
      "text/plain": [
       "  0%|          | 0/40 [00:00<?, ?it/s]"
      ]
     },
     "metadata": {},
     "output_type": "display_data"
    },
    {
     "name": "stdout",
     "output_type": "stream",
     "text": [
      "Epoch: [34][0/40]\tTime 3.813 (3.813)\tData 1.550 (1.550)\tLoss 1.4936 (1.4936)\tPrec@1 52.148 (52.148)\n",
      "Test: [0/10]\tTime 1.884 (1.884)\tLoss 1.0870 (1.0870)\tPrec@1 59.668 (59.668)\n",
      " * Prec@1 60.560\n",
      "alpha1 8.744054794311523\n",
      "Best prec1 :  60.55999990844727\n",
      "current lr 9.38215e-04\n"
     ]
    },
    {
     "data": {
      "application/vnd.jupyter.widget-view+json": {
       "model_id": "fec89822d81f4faa842c510ca18222b5",
       "version_major": 2,
       "version_minor": 0
      },
      "text/plain": [
       "  0%|          | 0/40 [00:00<?, ?it/s]"
      ]
     },
     "metadata": {},
     "output_type": "display_data"
    },
    {
     "name": "stdout",
     "output_type": "stream",
     "text": [
      "Epoch: [35][0/40]\tTime 3.107 (3.107)\tData 1.660 (1.660)\tLoss 1.4069 (1.4069)\tPrec@1 55.469 (55.469)\n",
      "Test: [0/10]\tTime 2.200 (2.200)\tLoss 1.0769 (1.0769)\tPrec@1 61.230 (61.230)\n",
      " * Prec@1 59.990\n",
      "alpha1 8.708582878112793\n",
      "Best prec1 :  60.55999990844727\n",
      "current lr 9.34381e-04\n"
     ]
    },
    {
     "data": {
      "application/vnd.jupyter.widget-view+json": {
       "model_id": "987bd5c3358c49c3a3b5de2c2842a492",
       "version_major": 2,
       "version_minor": 0
      },
      "text/plain": [
       "  0%|          | 0/40 [00:00<?, ?it/s]"
      ]
     },
     "metadata": {},
     "output_type": "display_data"
    },
    {
     "name": "stdout",
     "output_type": "stream",
     "text": [
      "Epoch: [36][0/40]\tTime 5.122 (5.122)\tData 2.471 (2.471)\tLoss 1.3962 (1.3962)\tPrec@1 55.664 (55.664)\n",
      "Test: [0/10]\tTime 1.820 (1.820)\tLoss 1.0247 (1.0247)\tPrec@1 63.281 (63.281)\n",
      " * Prec@1 61.620\n",
      "alpha1 8.673295974731445\n",
      "Best prec1 :  61.61999984130859\n",
      "current lr 9.30441e-04\n"
     ]
    },
    {
     "data": {
      "application/vnd.jupyter.widget-view+json": {
       "model_id": "e302e84bd4e241e2873aae3026491605",
       "version_major": 2,
       "version_minor": 0
      },
      "text/plain": [
       "  0%|          | 0/40 [00:00<?, ?it/s]"
      ]
     },
     "metadata": {},
     "output_type": "display_data"
    },
    {
     "name": "stdout",
     "output_type": "stream",
     "text": [
      "Epoch: [37][0/40]\tTime 3.579 (3.579)\tData 1.380 (1.380)\tLoss 1.3699 (1.3699)\tPrec@1 55.762 (55.762)\n",
      "Test: [0/10]\tTime 2.607 (2.607)\tLoss 1.0022 (1.0022)\tPrec@1 64.258 (64.258)\n",
      " * Prec@1 62.440\n",
      "alpha1 8.638197898864746\n",
      "Best prec1 :  62.4400000793457\n",
      "current lr 9.26394e-04\n"
     ]
    },
    {
     "data": {
      "application/vnd.jupyter.widget-view+json": {
       "model_id": "d43651d589af4c89b965ba3adb0d7411",
       "version_major": 2,
       "version_minor": 0
      },
      "text/plain": [
       "  0%|          | 0/40 [00:00<?, ?it/s]"
      ]
     },
     "metadata": {},
     "output_type": "display_data"
    },
    {
     "name": "stdout",
     "output_type": "stream",
     "text": [
      "Epoch: [38][0/40]\tTime 4.131 (4.131)\tData 1.841 (1.841)\tLoss 1.4058 (1.4058)\tPrec@1 57.031 (57.031)\n",
      "Test: [0/10]\tTime 2.049 (2.049)\tLoss 1.0262 (1.0262)\tPrec@1 63.477 (63.477)\n",
      " * Prec@1 62.230\n",
      "alpha1 8.603294372558594\n",
      "Best prec1 :  62.4400000793457\n",
      "current lr 9.22242e-04\n"
     ]
    },
    {
     "data": {
      "application/vnd.jupyter.widget-view+json": {
       "model_id": "f7a22d5c193142f3a7a77b8b17d667eb",
       "version_major": 2,
       "version_minor": 0
      },
      "text/plain": [
       "  0%|          | 0/40 [00:00<?, ?it/s]"
      ]
     },
     "metadata": {},
     "output_type": "display_data"
    },
    {
     "name": "stdout",
     "output_type": "stream",
     "text": [
      "Epoch: [39][0/40]\tTime 3.704 (3.704)\tData 1.473 (1.473)\tLoss 1.3894 (1.3894)\tPrec@1 54.980 (54.980)\n",
      "Test: [0/10]\tTime 1.807 (1.807)\tLoss 1.0256 (1.0256)\tPrec@1 62.891 (62.891)\n",
      " * Prec@1 62.150\n",
      "alpha1 8.568586349487305\n",
      "Best prec1 :  62.4400000793457\n",
      "current lr 9.17986e-04\n"
     ]
    },
    {
     "data": {
      "application/vnd.jupyter.widget-view+json": {
       "model_id": "2b5a0551e6e44c1aa7dc83c3186df9da",
       "version_major": 2,
       "version_minor": 0
      },
      "text/plain": [
       "  0%|          | 0/40 [00:00<?, ?it/s]"
      ]
     },
     "metadata": {},
     "output_type": "display_data"
    },
    {
     "name": "stdout",
     "output_type": "stream",
     "text": [
      "Epoch: [40][0/40]\tTime 2.947 (2.947)\tData 1.172 (1.172)\tLoss 1.3800 (1.3800)\tPrec@1 56.055 (56.055)\n",
      "Test: [0/10]\tTime 2.139 (2.139)\tLoss 0.9748 (0.9748)\tPrec@1 64.355 (64.355)\n",
      " * Prec@1 63.050\n",
      "alpha1 8.534075736999512\n",
      "Best prec1 :  63.05000014648437\n",
      "current lr 9.13627e-04\n"
     ]
    },
    {
     "data": {
      "application/vnd.jupyter.widget-view+json": {
       "model_id": "e7ce885649ae421d91be5840e45eaf8e",
       "version_major": 2,
       "version_minor": 0
      },
      "text/plain": [
       "  0%|          | 0/40 [00:00<?, ?it/s]"
      ]
     },
     "metadata": {},
     "output_type": "display_data"
    },
    {
     "name": "stdout",
     "output_type": "stream",
     "text": [
      "Epoch: [41][0/40]\tTime 5.213 (5.213)\tData 2.806 (2.806)\tLoss 1.4492 (1.4492)\tPrec@1 54.199 (54.199)\n",
      "Test: [0/10]\tTime 3.223 (3.223)\tLoss 1.0427 (1.0427)\tPrec@1 61.914 (61.914)\n",
      " * Prec@1 62.600\n",
      "alpha1 8.49976634979248\n",
      "Best prec1 :  63.05000014648437\n",
      "current lr 9.09166e-04\n"
     ]
    },
    {
     "data": {
      "application/vnd.jupyter.widget-view+json": {
       "model_id": "def981be82224709bcc977d337319b6e",
       "version_major": 2,
       "version_minor": 0
      },
      "text/plain": [
       "  0%|          | 0/40 [00:00<?, ?it/s]"
      ]
     },
     "metadata": {},
     "output_type": "display_data"
    },
    {
     "name": "stdout",
     "output_type": "stream",
     "text": [
      "Epoch: [42][0/40]\tTime 3.527 (3.527)\tData 1.791 (1.791)\tLoss 1.3090 (1.3090)\tPrec@1 58.105 (58.105)\n",
      "Test: [0/10]\tTime 2.155 (2.155)\tLoss 0.9883 (0.9883)\tPrec@1 65.820 (65.820)\n",
      " * Prec@1 64.230\n",
      "alpha1 8.46566104888916\n",
      "Best prec1 :  64.22999974365234\n",
      "current lr 9.04604e-04\n"
     ]
    },
    {
     "data": {
      "application/vnd.jupyter.widget-view+json": {
       "model_id": "aa38d78d74d145b29e6e4b6dc74ec010",
       "version_major": 2,
       "version_minor": 0
      },
      "text/plain": [
       "  0%|          | 0/40 [00:00<?, ?it/s]"
      ]
     },
     "metadata": {},
     "output_type": "display_data"
    },
    {
     "name": "stdout",
     "output_type": "stream",
     "text": [
      "Epoch: [43][0/40]\tTime 3.920 (3.920)\tData 1.456 (1.456)\tLoss 1.3629 (1.3629)\tPrec@1 57.422 (57.422)\n",
      "Test: [0/10]\tTime 2.210 (2.210)\tLoss 0.9783 (0.9783)\tPrec@1 65.137 (65.137)\n",
      " * Prec@1 64.090\n",
      "alpha1 8.43175983428955\n",
      "Best prec1 :  64.22999974365234\n",
      "current lr 8.99942e-04\n"
     ]
    },
    {
     "data": {
      "application/vnd.jupyter.widget-view+json": {
       "model_id": "78cd054621c14a0a9d4d0cc44cfa3c06",
       "version_major": 2,
       "version_minor": 0
      },
      "text/plain": [
       "  0%|          | 0/40 [00:00<?, ?it/s]"
      ]
     },
     "metadata": {},
     "output_type": "display_data"
    },
    {
     "name": "stdout",
     "output_type": "stream",
     "text": [
      "Epoch: [44][0/40]\tTime 3.214 (3.214)\tData 1.335 (1.335)\tLoss 1.3393 (1.3393)\tPrec@1 57.324 (57.324)\n",
      "Test: [0/10]\tTime 2.156 (2.156)\tLoss 0.9862 (0.9862)\tPrec@1 64.355 (64.355)\n",
      " * Prec@1 64.080\n",
      "alpha1 8.398069381713867\n",
      "Best prec1 :  64.22999974365234\n",
      "current lr 8.95182e-04\n"
     ]
    },
    {
     "data": {
      "application/vnd.jupyter.widget-view+json": {
       "model_id": "06c06170ac9e45319c64215a8a5b1350",
       "version_major": 2,
       "version_minor": 0
      },
      "text/plain": [
       "  0%|          | 0/40 [00:00<?, ?it/s]"
      ]
     },
     "metadata": {},
     "output_type": "display_data"
    },
    {
     "name": "stdout",
     "output_type": "stream",
     "text": [
      "Epoch: [45][0/40]\tTime 4.164 (4.164)\tData 1.674 (1.674)\tLoss 1.3036 (1.3036)\tPrec@1 60.254 (60.254)\n",
      "Test: [0/10]\tTime 1.737 (1.737)\tLoss 0.9901 (0.9901)\tPrec@1 65.527 (65.527)\n",
      " * Prec@1 64.870\n",
      "alpha1 8.364585876464844\n",
      "Best prec1 :  64.87000020751952\n",
      "current lr 8.90325e-04\n"
     ]
    },
    {
     "data": {
      "application/vnd.jupyter.widget-view+json": {
       "model_id": "17e28e80a0f64b2e860b124c22f0805b",
       "version_major": 2,
       "version_minor": 0
      },
      "text/plain": [
       "  0%|          | 0/40 [00:00<?, ?it/s]"
      ]
     },
     "metadata": {},
     "output_type": "display_data"
    },
    {
     "name": "stdout",
     "output_type": "stream",
     "text": [
      "Epoch: [46][0/40]\tTime 3.397 (3.397)\tData 1.258 (1.258)\tLoss 1.3254 (1.3254)\tPrec@1 56.445 (56.445)\n",
      "Test: [0/10]\tTime 2.172 (2.172)\tLoss 0.9433 (0.9433)\tPrec@1 65.332 (65.332)\n",
      " * Prec@1 64.880\n",
      "alpha1 8.331320762634277\n",
      "Best prec1 :  64.88000008544923\n",
      "current lr 8.85371e-04\n"
     ]
    },
    {
     "data": {
      "application/vnd.jupyter.widget-view+json": {
       "model_id": "5e858ea3ba9e4aaf9b684ffa532d60b7",
       "version_major": 2,
       "version_minor": 0
      },
      "text/plain": [
       "  0%|          | 0/40 [00:00<?, ?it/s]"
      ]
     },
     "metadata": {},
     "output_type": "display_data"
    },
    {
     "name": "stdout",
     "output_type": "stream",
     "text": [
      "Epoch: [47][0/40]\tTime 4.864 (4.864)\tData 2.362 (2.362)\tLoss 1.4095 (1.4095)\tPrec@1 54.883 (54.883)\n",
      "Test: [0/10]\tTime 1.824 (1.824)\tLoss 0.9428 (0.9428)\tPrec@1 66.797 (66.797)\n",
      " * Prec@1 64.760\n",
      "alpha1 8.29826831817627\n",
      "Best prec1 :  64.88000008544923\n",
      "current lr 8.80323e-04\n"
     ]
    },
    {
     "data": {
      "application/vnd.jupyter.widget-view+json": {
       "model_id": "927d940c05604e588f918b8d0e7a8cbd",
       "version_major": 2,
       "version_minor": 0
      },
      "text/plain": [
       "  0%|          | 0/40 [00:00<?, ?it/s]"
      ]
     },
     "metadata": {},
     "output_type": "display_data"
    },
    {
     "name": "stdout",
     "output_type": "stream",
     "text": [
      "Epoch: [48][0/40]\tTime 3.557 (3.557)\tData 1.293 (1.293)\tLoss 1.3338 (1.3338)\tPrec@1 56.641 (56.641)\n",
      "Test: [0/10]\tTime 2.428 (2.428)\tLoss 0.9389 (0.9389)\tPrec@1 66.504 (66.504)\n",
      " * Prec@1 65.990\n",
      "alpha1 8.265429496765137\n",
      "Best prec1 :  65.9900001586914\n",
      "current lr 8.75180e-04\n"
     ]
    },
    {
     "data": {
      "application/vnd.jupyter.widget-view+json": {
       "model_id": "3ee6d813acc241bba671d7eed9cf99e4",
       "version_major": 2,
       "version_minor": 0
      },
      "text/plain": [
       "  0%|          | 0/40 [00:00<?, ?it/s]"
      ]
     },
     "metadata": {},
     "output_type": "display_data"
    },
    {
     "name": "stdout",
     "output_type": "stream",
     "text": [
      "Epoch: [49][0/40]\tTime 3.472 (3.472)\tData 1.635 (1.635)\tLoss 1.2920 (1.2920)\tPrec@1 57.422 (57.422)\n",
      "Test: [0/10]\tTime 2.101 (2.101)\tLoss 0.9513 (0.9513)\tPrec@1 65.234 (65.234)\n",
      " * Prec@1 64.460\n",
      "alpha1 8.232813835144043\n",
      "Best prec1 :  65.9900001586914\n",
      "current lr 8.69946e-04\n"
     ]
    },
    {
     "data": {
      "application/vnd.jupyter.widget-view+json": {
       "model_id": "96eeaad810ab45e9ad67176c63f84a51",
       "version_major": 2,
       "version_minor": 0
      },
      "text/plain": [
       "  0%|          | 0/40 [00:00<?, ?it/s]"
      ]
     },
     "metadata": {},
     "output_type": "display_data"
    },
    {
     "name": "stdout",
     "output_type": "stream",
     "text": [
      "Epoch: [50][0/40]\tTime 3.990 (3.990)\tData 1.612 (1.612)\tLoss 1.3185 (1.3185)\tPrec@1 57.617 (57.617)\n",
      "Test: [0/10]\tTime 1.937 (1.937)\tLoss 0.9339 (0.9339)\tPrec@1 66.406 (66.406)\n",
      " * Prec@1 64.890\n",
      "alpha1 8.20042610168457\n",
      "Best prec1 :  65.9900001586914\n",
      "current lr 8.64620e-04\n"
     ]
    },
    {
     "data": {
      "application/vnd.jupyter.widget-view+json": {
       "model_id": "0e7febacb2f74f458a53c07e440beddb",
       "version_major": 2,
       "version_minor": 0
      },
      "text/plain": [
       "  0%|          | 0/40 [00:00<?, ?it/s]"
      ]
     },
     "metadata": {},
     "output_type": "display_data"
    },
    {
     "name": "stdout",
     "output_type": "stream",
     "text": [
      "Epoch: [51][0/40]\tTime 3.421 (3.421)\tData 1.228 (1.228)\tLoss 1.2642 (1.2642)\tPrec@1 60.352 (60.352)\n",
      "Test: [0/10]\tTime 2.143 (2.143)\tLoss 0.9221 (0.9221)\tPrec@1 69.043 (69.043)\n",
      " * Prec@1 65.880\n",
      "alpha1 8.168262481689453\n",
      "Best prec1 :  65.9900001586914\n",
      "current lr 8.59204e-04\n"
     ]
    },
    {
     "data": {
      "application/vnd.jupyter.widget-view+json": {
       "model_id": "60c74617d64f46a7bab54345a0cc766c",
       "version_major": 2,
       "version_minor": 0
      },
      "text/plain": [
       "  0%|          | 0/40 [00:00<?, ?it/s]"
      ]
     },
     "metadata": {},
     "output_type": "display_data"
    },
    {
     "name": "stdout",
     "output_type": "stream",
     "text": [
      "Epoch: [52][0/40]\tTime 3.957 (3.957)\tData 2.049 (2.049)\tLoss 1.3109 (1.3109)\tPrec@1 58.105 (58.105)\n",
      "Test: [0/10]\tTime 2.129 (2.129)\tLoss 0.9648 (0.9648)\tPrec@1 65.625 (65.625)\n",
      " * Prec@1 65.410\n",
      "alpha1 8.136324882507324\n",
      "Best prec1 :  65.9900001586914\n",
      "current lr 8.53700e-04\n"
     ]
    },
    {
     "data": {
      "application/vnd.jupyter.widget-view+json": {
       "model_id": "be204db6af50493496df65c821167980",
       "version_major": 2,
       "version_minor": 0
      },
      "text/plain": [
       "  0%|          | 0/40 [00:00<?, ?it/s]"
      ]
     },
     "metadata": {},
     "output_type": "display_data"
    },
    {
     "name": "stdout",
     "output_type": "stream",
     "text": [
      "Epoch: [53][0/40]\tTime 4.183 (4.183)\tData 1.706 (1.706)\tLoss 1.2887 (1.2887)\tPrec@1 58.789 (58.789)\n",
      "Test: [0/10]\tTime 2.523 (2.523)\tLoss 0.9051 (0.9051)\tPrec@1 67.773 (67.773)\n",
      " * Prec@1 66.890\n",
      "alpha1 8.104616165161133\n",
      "Best prec1 :  66.89000008544922\n",
      "current lr 8.48108e-04\n"
     ]
    },
    {
     "data": {
      "application/vnd.jupyter.widget-view+json": {
       "model_id": "37ff00a564364912b208064fe1276f9e",
       "version_major": 2,
       "version_minor": 0
      },
      "text/plain": [
       "  0%|          | 0/40 [00:00<?, ?it/s]"
      ]
     },
     "metadata": {},
     "output_type": "display_data"
    },
    {
     "name": "stdout",
     "output_type": "stream",
     "text": [
      "Epoch: [54][0/40]\tTime 4.062 (4.062)\tData 1.744 (1.744)\tLoss 1.2702 (1.2702)\tPrec@1 60.742 (60.742)\n",
      "Test: [0/10]\tTime 2.150 (2.150)\tLoss 0.9018 (0.9018)\tPrec@1 68.945 (68.945)\n",
      " * Prec@1 67.330\n",
      "alpha1 8.073141098022461\n",
      "Best prec1 :  67.33000006103515\n",
      "current lr 8.42431e-04\n"
     ]
    },
    {
     "data": {
      "application/vnd.jupyter.widget-view+json": {
       "model_id": "da69d778fc824acab95bd57aa1c91730",
       "version_major": 2,
       "version_minor": 0
      },
      "text/plain": [
       "  0%|          | 0/40 [00:00<?, ?it/s]"
      ]
     },
     "metadata": {},
     "output_type": "display_data"
    },
    {
     "name": "stdout",
     "output_type": "stream",
     "text": [
      "Epoch: [55][0/40]\tTime 4.252 (4.252)\tData 1.733 (1.733)\tLoss 1.2616 (1.2616)\tPrec@1 59.375 (59.375)\n",
      "Test: [0/10]\tTime 1.986 (1.986)\tLoss 0.9034 (0.9034)\tPrec@1 67.383 (67.383)\n",
      " * Prec@1 66.300\n",
      "alpha1 8.041898727416992\n",
      "Best prec1 :  67.33000006103515\n",
      "current lr 8.36670e-04\n"
     ]
    },
    {
     "data": {
      "application/vnd.jupyter.widget-view+json": {
       "model_id": "31f0d52d83e74e85a558ec7d3b07fa70",
       "version_major": 2,
       "version_minor": 0
      },
      "text/plain": [
       "  0%|          | 0/40 [00:00<?, ?it/s]"
      ]
     },
     "metadata": {},
     "output_type": "display_data"
    },
    {
     "name": "stdout",
     "output_type": "stream",
     "text": [
      "Epoch: [56][0/40]\tTime 3.234 (3.234)\tData 1.381 (1.381)\tLoss 1.2849 (1.2849)\tPrec@1 58.203 (58.203)\n",
      "Test: [0/10]\tTime 2.186 (2.186)\tLoss 0.8874 (0.8874)\tPrec@1 68.066 (68.066)\n",
      " * Prec@1 66.450\n",
      "alpha1 8.010885238647461\n",
      "Best prec1 :  67.33000006103515\n",
      "current lr 8.30825e-04\n"
     ]
    },
    {
     "data": {
      "application/vnd.jupyter.widget-view+json": {
       "model_id": "f82120ba51904a52b562e16c4ee61e0b",
       "version_major": 2,
       "version_minor": 0
      },
      "text/plain": [
       "  0%|          | 0/40 [00:00<?, ?it/s]"
      ]
     },
     "metadata": {},
     "output_type": "display_data"
    },
    {
     "name": "stdout",
     "output_type": "stream",
     "text": [
      "Epoch: [57][0/40]\tTime 4.962 (4.962)\tData 2.457 (2.457)\tLoss 1.2344 (1.2344)\tPrec@1 60.547 (60.547)\n",
      "Test: [0/10]\tTime 1.942 (1.942)\tLoss 0.9140 (0.9140)\tPrec@1 67.969 (67.969)\n",
      " * Prec@1 66.230\n",
      "alpha1 7.980109214782715\n",
      "Best prec1 :  67.33000006103515\n",
      "current lr 8.24899e-04\n"
     ]
    },
    {
     "data": {
      "application/vnd.jupyter.widget-view+json": {
       "model_id": "9dc671feea6b42bda7a7b43441c2973f",
       "version_major": 2,
       "version_minor": 0
      },
      "text/plain": [
       "  0%|          | 0/40 [00:00<?, ?it/s]"
      ]
     },
     "metadata": {},
     "output_type": "display_data"
    },
    {
     "name": "stdout",
     "output_type": "stream",
     "text": [
      "Epoch: [58][0/40]\tTime 3.446 (3.446)\tData 1.409 (1.409)\tLoss 1.2978 (1.2978)\tPrec@1 61.133 (61.133)\n",
      "Test: [0/10]\tTime 2.647 (2.647)\tLoss 0.8676 (0.8676)\tPrec@1 68.750 (68.750)\n",
      " * Prec@1 67.630\n",
      "alpha1 7.9495720863342285\n",
      "Best prec1 :  67.62999968261718\n",
      "current lr 8.18893e-04\n"
     ]
    },
    {
     "data": {
      "application/vnd.jupyter.widget-view+json": {
       "model_id": "ccae9b5261c44008ba80ce3c3199018c",
       "version_major": 2,
       "version_minor": 0
      },
      "text/plain": [
       "  0%|          | 0/40 [00:00<?, ?it/s]"
      ]
     },
     "metadata": {},
     "output_type": "display_data"
    },
    {
     "name": "stdout",
     "output_type": "stream",
     "text": [
      "Epoch: [59][0/40]\tTime 4.394 (4.394)\tData 1.874 (1.874)\tLoss 1.2151 (1.2151)\tPrec@1 59.180 (59.180)\n",
      "Test: [0/10]\tTime 1.973 (1.973)\tLoss 0.8694 (0.8694)\tPrec@1 68.262 (68.262)\n",
      " * Prec@1 67.350\n",
      "alpha1 7.919276237487793\n",
      "Best prec1 :  67.62999968261718\n",
      "current lr 8.12809e-04\n"
     ]
    },
    {
     "data": {
      "application/vnd.jupyter.widget-view+json": {
       "model_id": "ee5d79ae887c44a88a2549345434b5d4",
       "version_major": 2,
       "version_minor": 0
      },
      "text/plain": [
       "  0%|          | 0/40 [00:00<?, ?it/s]"
      ]
     },
     "metadata": {},
     "output_type": "display_data"
    },
    {
     "name": "stdout",
     "output_type": "stream",
     "text": [
      "Epoch: [60][0/40]\tTime 3.402 (3.402)\tData 1.195 (1.195)\tLoss 1.2845 (1.2845)\tPrec@1 58.496 (58.496)\n",
      "Test: [0/10]\tTime 2.193 (2.193)\tLoss 0.8679 (0.8679)\tPrec@1 69.531 (69.531)\n",
      " * Prec@1 67.830\n",
      "alpha1 7.889222621917725\n",
      "Best prec1 :  67.82999978027344\n",
      "current lr 8.06647e-04\n"
     ]
    },
    {
     "data": {
      "application/vnd.jupyter.widget-view+json": {
       "model_id": "b3714fc3f143457fa70e14f97b3edc7f",
       "version_major": 2,
       "version_minor": 0
      },
      "text/plain": [
       "  0%|          | 0/40 [00:00<?, ?it/s]"
      ]
     },
     "metadata": {},
     "output_type": "display_data"
    },
    {
     "name": "stdout",
     "output_type": "stream",
     "text": [
      "Epoch: [61][0/40]\tTime 4.078 (4.078)\tData 1.777 (1.777)\tLoss 1.2449 (1.2449)\tPrec@1 59.863 (59.863)\n",
      "Test: [0/10]\tTime 2.090 (2.090)\tLoss 0.9219 (0.9219)\tPrec@1 68.066 (68.066)\n",
      " * Prec@1 66.400\n",
      "alpha1 7.859412670135498\n",
      "Best prec1 :  67.82999978027344\n",
      "current lr 8.00410e-04\n"
     ]
    },
    {
     "data": {
      "application/vnd.jupyter.widget-view+json": {
       "model_id": "dab22564a8474e0481464a669e2b1d5e",
       "version_major": 2,
       "version_minor": 0
      },
      "text/plain": [
       "  0%|          | 0/40 [00:00<?, ?it/s]"
      ]
     },
     "metadata": {},
     "output_type": "display_data"
    },
    {
     "name": "stdout",
     "output_type": "stream",
     "text": [
      "Epoch: [62][0/40]\tTime 3.645 (3.645)\tData 1.394 (1.394)\tLoss 1.1632 (1.1632)\tPrec@1 61.914 (61.914)\n",
      "Test: [0/10]\tTime 2.527 (2.527)\tLoss 0.9062 (0.9062)\tPrec@1 68.457 (68.457)\n",
      " * Prec@1 67.170\n",
      "alpha1 7.829848766326904\n",
      "Best prec1 :  67.82999978027344\n",
      "current lr 7.94099e-04\n"
     ]
    },
    {
     "data": {
      "application/vnd.jupyter.widget-view+json": {
       "model_id": "5d758b4b0c6747c59598c125298b4717",
       "version_major": 2,
       "version_minor": 0
      },
      "text/plain": [
       "  0%|          | 0/40 [00:00<?, ?it/s]"
      ]
     },
     "metadata": {},
     "output_type": "display_data"
    },
    {
     "name": "stdout",
     "output_type": "stream",
     "text": [
      "Epoch: [63][0/40]\tTime 3.672 (3.672)\tData 1.679 (1.679)\tLoss 1.2497 (1.2497)\tPrec@1 59.570 (59.570)\n",
      "Test: [0/10]\tTime 2.044 (2.044)\tLoss 0.8989 (0.8989)\tPrec@1 67.578 (67.578)\n",
      " * Prec@1 67.490\n",
      "alpha1 7.800532817840576\n",
      "Best prec1 :  67.82999978027344\n",
      "current lr 7.87715e-04\n"
     ]
    },
    {
     "data": {
      "application/vnd.jupyter.widget-view+json": {
       "model_id": "fba5bf13788946b79297f78aa1cd46cb",
       "version_major": 2,
       "version_minor": 0
      },
      "text/plain": [
       "  0%|          | 0/40 [00:00<?, ?it/s]"
      ]
     },
     "metadata": {},
     "output_type": "display_data"
    },
    {
     "name": "stdout",
     "output_type": "stream",
     "text": [
      "Epoch: [64][0/40]\tTime 4.081 (4.081)\tData 1.747 (1.747)\tLoss 1.2130 (1.2130)\tPrec@1 60.352 (60.352)\n",
      "Test: [0/10]\tTime 2.265 (2.265)\tLoss 0.9012 (0.9012)\tPrec@1 68.066 (68.066)\n",
      " * Prec@1 68.190\n",
      "alpha1 7.771466255187988\n",
      "Best prec1 :  68.18999981689453\n",
      "current lr 7.81261e-04\n"
     ]
    },
    {
     "data": {
      "application/vnd.jupyter.widget-view+json": {
       "model_id": "44271b0df7844084bd24edb85495a389",
       "version_major": 2,
       "version_minor": 0
      },
      "text/plain": [
       "  0%|          | 0/40 [00:00<?, ?it/s]"
      ]
     },
     "metadata": {},
     "output_type": "display_data"
    },
    {
     "name": "stdout",
     "output_type": "stream",
     "text": [
      "Epoch: [65][0/40]\tTime 3.486 (3.486)\tData 1.642 (1.642)\tLoss 1.2246 (1.2246)\tPrec@1 61.816 (61.816)\n",
      "Test: [0/10]\tTime 2.238 (2.238)\tLoss 0.8562 (0.8562)\tPrec@1 68.359 (68.359)\n",
      " * Prec@1 68.460\n",
      "alpha1 7.742652416229248\n",
      "Best prec1 :  68.45999981689454\n",
      "current lr 7.74737e-04\n"
     ]
    },
    {
     "data": {
      "application/vnd.jupyter.widget-view+json": {
       "model_id": "d3d003d1b21147cea27975406fd225f9",
       "version_major": 2,
       "version_minor": 0
      },
      "text/plain": [
       "  0%|          | 0/40 [00:00<?, ?it/s]"
      ]
     },
     "metadata": {},
     "output_type": "display_data"
    },
    {
     "name": "stdout",
     "output_type": "stream",
     "text": [
      "Epoch: [66][0/40]\tTime 4.453 (4.453)\tData 1.859 (1.859)\tLoss 1.2241 (1.2241)\tPrec@1 61.816 (61.816)\n",
      "Test: [0/10]\tTime 2.170 (2.170)\tLoss 0.9038 (0.9038)\tPrec@1 67.090 (67.090)\n",
      " * Prec@1 67.350\n",
      "alpha1 7.714094638824463\n",
      "Best prec1 :  68.45999981689454\n",
      "current lr 7.68145e-04\n"
     ]
    },
    {
     "data": {
      "application/vnd.jupyter.widget-view+json": {
       "model_id": "2f409e70d2504bb38eefe653548f46c0",
       "version_major": 2,
       "version_minor": 0
      },
      "text/plain": [
       "  0%|          | 0/40 [00:00<?, ?it/s]"
      ]
     },
     "metadata": {},
     "output_type": "display_data"
    },
    {
     "name": "stdout",
     "output_type": "stream",
     "text": [
      "Epoch: [67][0/40]\tTime 3.227 (3.227)\tData 1.424 (1.424)\tLoss 1.1878 (1.1878)\tPrec@1 62.109 (62.109)\n",
      "Test: [0/10]\tTime 2.109 (2.109)\tLoss 0.8648 (0.8648)\tPrec@1 69.629 (69.629)\n",
      " * Prec@1 68.970\n",
      "alpha1 7.685789585113525\n",
      "Best prec1 :  68.97000009765625\n",
      "current lr 7.61488e-04\n"
     ]
    },
    {
     "data": {
      "application/vnd.jupyter.widget-view+json": {
       "model_id": "4098cee6ff1c42a08521e3d02a18202c",
       "version_major": 2,
       "version_minor": 0
      },
      "text/plain": [
       "  0%|          | 0/40 [00:00<?, ?it/s]"
      ]
     },
     "metadata": {},
     "output_type": "display_data"
    },
    {
     "name": "stdout",
     "output_type": "stream",
     "text": [
      "Epoch: [68][0/40]\tTime 3.547 (3.547)\tData 1.505 (1.505)\tLoss 1.1664 (1.1664)\tPrec@1 60.938 (60.938)\n",
      "Test: [0/10]\tTime 2.051 (2.051)\tLoss 0.8870 (0.8870)\tPrec@1 68.164 (68.164)\n",
      " * Prec@1 67.980\n",
      "alpha1 7.657740116119385\n",
      "Best prec1 :  68.97000009765625\n",
      "current lr 7.54766e-04\n"
     ]
    },
    {
     "data": {
      "application/vnd.jupyter.widget-view+json": {
       "model_id": "04aef4099eae46db8264f7cd543704e1",
       "version_major": 2,
       "version_minor": 0
      },
      "text/plain": [
       "  0%|          | 0/40 [00:00<?, ?it/s]"
      ]
     },
     "metadata": {},
     "output_type": "display_data"
    },
    {
     "name": "stdout",
     "output_type": "stream",
     "text": [
      "Epoch: [69][0/40]\tTime 3.496 (3.496)\tData 1.634 (1.634)\tLoss 1.1690 (1.1690)\tPrec@1 61.328 (61.328)\n",
      "Test: [0/10]\tTime 2.111 (2.111)\tLoss 0.8488 (0.8488)\tPrec@1 68.066 (68.066)\n",
      " * Prec@1 68.420\n",
      "alpha1 7.629950046539307\n",
      "Best prec1 :  68.97000009765625\n",
      "current lr 7.47982e-04\n"
     ]
    },
    {
     "data": {
      "application/vnd.jupyter.widget-view+json": {
       "model_id": "f28b5915cebf40fc98734f6c2100e6a0",
       "version_major": 2,
       "version_minor": 0
      },
      "text/plain": [
       "  0%|          | 0/40 [00:00<?, ?it/s]"
      ]
     },
     "metadata": {},
     "output_type": "display_data"
    },
    {
     "name": "stdout",
     "output_type": "stream",
     "text": [
      "Epoch: [70][0/40]\tTime 3.916 (3.916)\tData 1.537 (1.537)\tLoss 1.1995 (1.1995)\tPrec@1 63.574 (63.574)\n",
      "Test: [0/10]\tTime 1.994 (1.994)\tLoss 0.8221 (0.8221)\tPrec@1 71.191 (71.191)\n",
      " * Prec@1 69.680\n",
      "alpha1 7.602419376373291\n",
      "Best prec1 :  69.67999993896484\n",
      "current lr 7.41136e-04\n"
     ]
    },
    {
     "data": {
      "application/vnd.jupyter.widget-view+json": {
       "model_id": "04db23da7475402ca77f7698d5b4f494",
       "version_major": 2,
       "version_minor": 0
      },
      "text/plain": [
       "  0%|          | 0/40 [00:00<?, ?it/s]"
      ]
     },
     "metadata": {},
     "output_type": "display_data"
    },
    {
     "name": "stdout",
     "output_type": "stream",
     "text": [
      "Epoch: [71][0/40]\tTime 3.140 (3.140)\tData 1.360 (1.360)\tLoss 1.2108 (1.2108)\tPrec@1 60.547 (60.547)\n",
      "Test: [0/10]\tTime 2.132 (2.132)\tLoss 0.8379 (0.8379)\tPrec@1 70.996 (70.996)\n",
      " * Prec@1 69.610\n",
      "alpha1 7.575144290924072\n",
      "Best prec1 :  69.67999993896484\n",
      "current lr 7.34231e-04\n"
     ]
    },
    {
     "data": {
      "application/vnd.jupyter.widget-view+json": {
       "model_id": "68aada38c6d14b14abf2040ec2622cae",
       "version_major": 2,
       "version_minor": 0
      },
      "text/plain": [
       "  0%|          | 0/40 [00:00<?, ?it/s]"
      ]
     },
     "metadata": {},
     "output_type": "display_data"
    },
    {
     "name": "stdout",
     "output_type": "stream",
     "text": [
      "Epoch: [72][0/40]\tTime 4.574 (4.574)\tData 2.284 (2.284)\tLoss 1.1897 (1.1897)\tPrec@1 63.086 (63.086)\n",
      "Test: [0/10]\tTime 2.069 (2.069)\tLoss 0.8697 (0.8697)\tPrec@1 70.312 (70.312)\n",
      " * Prec@1 68.020\n",
      "alpha1 7.548136234283447\n",
      "Best prec1 :  69.67999993896484\n",
      "current lr 7.27268e-04\n"
     ]
    },
    {
     "data": {
      "application/vnd.jupyter.widget-view+json": {
       "model_id": "2c897f8fc0844d53b8382bf71971371c",
       "version_major": 2,
       "version_minor": 0
      },
      "text/plain": [
       "  0%|          | 0/40 [00:00<?, ?it/s]"
      ]
     },
     "metadata": {},
     "output_type": "display_data"
    },
    {
     "name": "stdout",
     "output_type": "stream",
     "text": [
      "Epoch: [73][0/40]\tTime 3.239 (3.239)\tData 1.200 (1.200)\tLoss 1.1694 (1.1694)\tPrec@1 63.086 (63.086)\n",
      "Test: [0/10]\tTime 2.142 (2.142)\tLoss 0.8335 (0.8335)\tPrec@1 71.094 (71.094)\n",
      " * Prec@1 69.350\n",
      "alpha1 7.521395206451416\n",
      "Best prec1 :  69.67999993896484\n",
      "current lr 7.20250e-04\n"
     ]
    },
    {
     "data": {
      "application/vnd.jupyter.widget-view+json": {
       "model_id": "25f80ea02fed4a7ea2248aec41258290",
       "version_major": 2,
       "version_minor": 0
      },
      "text/plain": [
       "  0%|          | 0/40 [00:00<?, ?it/s]"
      ]
     },
     "metadata": {},
     "output_type": "display_data"
    },
    {
     "name": "stdout",
     "output_type": "stream",
     "text": [
      "Epoch: [74][0/40]\tTime 3.869 (3.869)\tData 1.927 (1.927)\tLoss 1.1658 (1.1658)\tPrec@1 63.379 (63.379)\n",
      "Test: [0/10]\tTime 1.978 (1.978)\tLoss 0.8051 (0.8051)\tPrec@1 70.801 (70.801)\n",
      " * Prec@1 69.890\n",
      "alpha1 7.4949188232421875\n",
      "Best prec1 :  69.88999997558594\n",
      "current lr 7.13177e-04\n"
     ]
    },
    {
     "data": {
      "application/vnd.jupyter.widget-view+json": {
       "model_id": "af0d2a1f0983488ba31ebaa07a0e53ae",
       "version_major": 2,
       "version_minor": 0
      },
      "text/plain": [
       "  0%|          | 0/40 [00:00<?, ?it/s]"
      ]
     },
     "metadata": {},
     "output_type": "display_data"
    },
    {
     "name": "stdout",
     "output_type": "stream",
     "text": [
      "Epoch: [75][0/40]\tTime 3.518 (3.518)\tData 1.477 (1.477)\tLoss 1.2055 (1.2055)\tPrec@1 63.672 (63.672)\n",
      "Test: [0/10]\tTime 2.120 (2.120)\tLoss 0.8594 (0.8594)\tPrec@1 69.629 (69.629)\n",
      " * Prec@1 69.250\n",
      "alpha1 7.4687066078186035\n",
      "Best prec1 :  69.88999997558594\n",
      "current lr 7.06051e-04\n"
     ]
    },
    {
     "data": {
      "application/vnd.jupyter.widget-view+json": {
       "model_id": "fe44b3ebc1f74c73826dc2e62e7f2ac8",
       "version_major": 2,
       "version_minor": 0
      },
      "text/plain": [
       "  0%|          | 0/40 [00:00<?, ?it/s]"
      ]
     },
     "metadata": {},
     "output_type": "display_data"
    },
    {
     "name": "stdout",
     "output_type": "stream",
     "text": [
      "Epoch: [76][0/40]\tTime 4.378 (4.378)\tData 1.869 (1.869)\tLoss 1.2277 (1.2277)\tPrec@1 61.035 (61.035)\n",
      "Test: [0/10]\tTime 2.018 (2.018)\tLoss 0.8084 (0.8084)\tPrec@1 70.801 (70.801)\n",
      " * Prec@1 70.580\n",
      "alpha1 7.4427618980407715\n",
      "Best prec1 :  70.57999986572266\n",
      "current lr 6.98875e-04\n"
     ]
    },
    {
     "data": {
      "application/vnd.jupyter.widget-view+json": {
       "model_id": "cd20fe69700b40dba431fc77b5e9abc1",
       "version_major": 2,
       "version_minor": 0
      },
      "text/plain": [
       "  0%|          | 0/40 [00:00<?, ?it/s]"
      ]
     },
     "metadata": {},
     "output_type": "display_data"
    },
    {
     "name": "stdout",
     "output_type": "stream",
     "text": [
      "Epoch: [77][0/40]\tTime 3.218 (3.218)\tData 1.383 (1.383)\tLoss 1.1343 (1.1343)\tPrec@1 64.941 (64.941)\n",
      "Test: [0/10]\tTime 2.205 (2.205)\tLoss 0.8309 (0.8309)\tPrec@1 70.996 (70.996)\n",
      " * Prec@1 70.150\n",
      "alpha1 7.417088985443115\n",
      "Best prec1 :  70.57999986572266\n",
      "current lr 6.91650e-04\n"
     ]
    },
    {
     "data": {
      "application/vnd.jupyter.widget-view+json": {
       "model_id": "994c008fa7c5452cb676284ed8bca843",
       "version_major": 2,
       "version_minor": 0
      },
      "text/plain": [
       "  0%|          | 0/40 [00:00<?, ?it/s]"
      ]
     },
     "metadata": {},
     "output_type": "display_data"
    },
    {
     "name": "stdout",
     "output_type": "stream",
     "text": [
      "Epoch: [78][0/40]\tTime 4.793 (4.793)\tData 2.181 (2.181)\tLoss 1.1619 (1.1619)\tPrec@1 63.574 (63.574)\n",
      "Test: [0/10]\tTime 1.945 (1.945)\tLoss 0.8399 (0.8399)\tPrec@1 70.605 (70.605)\n",
      " * Prec@1 69.630\n",
      "alpha1 7.391683101654053\n",
      "Best prec1 :  70.57999986572266\n",
      "current lr 6.84378e-04\n"
     ]
    },
    {
     "data": {
      "application/vnd.jupyter.widget-view+json": {
       "model_id": "cd875ff1231f4c5f8930021d44ee6198",
       "version_major": 2,
       "version_minor": 0
      },
      "text/plain": [
       "  0%|          | 0/40 [00:00<?, ?it/s]"
      ]
     },
     "metadata": {},
     "output_type": "display_data"
    },
    {
     "name": "stdout",
     "output_type": "stream",
     "text": [
      "Epoch: [79][0/40]\tTime 3.860 (3.860)\tData 1.834 (1.834)\tLoss 1.1927 (1.1927)\tPrec@1 61.328 (61.328)\n",
      "Test: [0/10]\tTime 2.156 (2.156)\tLoss 0.8037 (0.8037)\tPrec@1 72.852 (72.852)\n",
      " * Prec@1 70.910\n",
      "alpha1 7.366544246673584\n",
      "Best prec1 :  70.91000020751953\n",
      "current lr 6.77061e-04\n"
     ]
    },
    {
     "data": {
      "application/vnd.jupyter.widget-view+json": {
       "model_id": "0072d5d313c042beb77c0dc102f30e30",
       "version_major": 2,
       "version_minor": 0
      },
      "text/plain": [
       "  0%|          | 0/40 [00:00<?, ?it/s]"
      ]
     },
     "metadata": {},
     "output_type": "display_data"
    },
    {
     "name": "stdout",
     "output_type": "stream",
     "text": [
      "Epoch: [80][0/40]\tTime 4.061 (4.061)\tData 1.585 (1.585)\tLoss 1.2201 (1.2201)\tPrec@1 61.523 (61.523)\n"
     ]
    }
   ],
   "source": [
    "from timm.scheduler import CosineLRScheduler\n",
    "\n",
    "for k in range(4,9):\n",
    "    net = resnet20(k=k)\n",
    "\n",
    "    model = net.cuda()\n",
    "    mixup = False\n",
    "\n",
    "    # Track experiment with wandb\n",
    "    import wandb\n",
    "    watermark = \"resnet20_pgquantize_k{}\".format(k)\n",
    "\n",
    "    # mess with wandb\n",
    "    wandb.init(project=\"quantize_resnet\", name=watermark)\n",
    "\n",
    "    # define loss function (criterion) and pptimizer\n",
    "    criterion = nn.CrossEntropyLoss().cuda()\n",
    "\n",
    "    # optimizer for pact\n",
    "    optimizer = torch.optim.SGD(model.parameters(), lr=1e-3,\n",
    "                                momentum=0.9,\n",
    "                                weight_decay=0.0002)\n",
    "    optimizer = torch.optim.Adam(model.parameters(), lr=1e-3)\n",
    "\n",
    "    scheduler = CosineLRScheduler(optimizer, t_initial=n_epochs, lr_min=1e-6, \n",
    "                          warmup_t=3, warmup_lr_init=1e-6, warmup_prefix=True)\n",
    "\n",
    "    best_prec1 = 0\n",
    "    os.makedirs(\"models\", exist_ok=True)\n",
    "\n",
    "    for epoch in range(n_epochs):\n",
    "        scheduler.step(epoch)\n",
    "        # train for one epoch\n",
    "        print('current lr {:.5e}'.format(optimizer.param_groups[0]['lr']))\n",
    "        tloss = train(train_loader, model, criterion, optimizer, epoch)         \n",
    "\n",
    "        # evaluate on validation set\n",
    "        prec1, valloss = validate(val_loader, model, criterion)\n",
    "\n",
    "        # wandb\n",
    "        wandb.log({'epoch': epoch, \"prec\":prec1, \"train_loss\": tloss, 'val_loss': valloss, \"lr\": optimizer.param_groups[0][\"lr\"],})\n",
    "\n",
    "        # remember best prec@1 and save checkpoint\n",
    "        is_best = prec1 > best_prec1\n",
    "        best_prec1 = max(prec1, best_prec1)\n",
    "\n",
    "        print(\"Best prec1 : \", best_prec1)\n",
    "        if is_best:\n",
    "            torch.save(model.state_dict(), os.path.join(f'models/{watermark}.pth'))"
   ]
  },
  {
   "cell_type": "code",
   "execution_count": null,
   "id": "8998c803",
   "metadata": {},
   "outputs": [],
   "source": [
    "from pact_utils import TorchQuantize\n",
    "len(TorchQuantize(bits=4).forward(torch.rand(1,384)).unique())"
   ]
  },
  {
   "cell_type": "code",
   "execution_count": null,
   "id": "8d894c1f",
   "metadata": {},
   "outputs": [],
   "source": [
    "net.blocks[1].mlp.fc1.forward(torch.rand(1,384).cuda()).unique()"
   ]
  },
  {
   "cell_type": "code",
   "execution_count": null,
   "id": "75eb1382",
   "metadata": {},
   "outputs": [],
   "source": [
    "model.blocks[1].attn.qkv"
   ]
  },
  {
   "cell_type": "code",
   "execution_count": null,
   "id": "bcba9662",
   "metadata": {},
   "outputs": [],
   "source": []
  }
 ],
 "metadata": {
  "kernelspec": {
   "display_name": "Python 3 (ipykernel)",
   "language": "python",
   "name": "python3"
  },
  "language_info": {
   "codemirror_mode": {
    "name": "ipython",
    "version": 3
   },
   "file_extension": ".py",
   "mimetype": "text/x-python",
   "name": "python",
   "nbconvert_exporter": "python",
   "pygments_lexer": "ipython3",
   "version": "3.8.13"
  }
 },
 "nbformat": 4,
 "nbformat_minor": 5
}
