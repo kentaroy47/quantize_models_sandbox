{
 "cells": [
  {
   "cell_type": "markdown",
   "id": "65b5a174",
   "metadata": {},
   "source": [
    "# Resnet18 CIFAR-10\n",
    "\n",
    "Quantize train resnet18 without PACT"
   ]
  },
  {
   "cell_type": "code",
   "execution_count": 1,
   "id": "3cdfa9b0",
   "metadata": {},
   "outputs": [],
   "source": [
    "NOQUANT_TRAIN = False\n",
    "n_epochs = 200\n",
    "batches = 1024\n",
    "device = 'cuda:1'\n",
    "mixup = True\n",
    "MOD=\"resnet20\""
   ]
  },
  {
   "cell_type": "code",
   "execution_count": 2,
   "id": "e95ac49f",
   "metadata": {},
   "outputs": [],
   "source": [
    "import argparse\n",
    "import os\n",
    "import shutil\n",
    "import time\n",
    "import pandas as pd\n",
    "import matplotlib.pyplot as plt\n",
    "#import network.resnet_orig as resnet\n",
    "\n",
    "from tqdm.notebook import tqdm\n",
    "import time\n",
    "import numpy as np\n",
    "import pandas as pd\n",
    "import cv2\n",
    "import torch\n",
    "import torch.nn as nn\n",
    "import torch.nn.functional as F\n",
    "import torch.optim as optim\n",
    "from torch.optim import lr_scheduler\n",
    "from torch.utils.data import DataLoader, Dataset\n",
    "from torch.utils.data.sampler import SubsetRandomSampler, RandomSampler, SequentialSampler\n",
    "from torch.optim.lr_scheduler import CosineAnnealingWarmRestarts, CosineAnnealingLR, ReduceLROnPlateau\n",
    "\n",
    "DATA_DIR = \"cifar100/\"\n",
    "print_freq = 50\n",
    "\n",
    "# vit imsize\n",
    "imsize = 32"
   ]
  },
  {
   "cell_type": "code",
   "execution_count": 3,
   "id": "91238a6e",
   "metadata": {},
   "outputs": [
    {
     "data": {
      "text/html": [
       "<div>\n",
       "<style scoped>\n",
       "    .dataframe tbody tr th:only-of-type {\n",
       "        vertical-align: middle;\n",
       "    }\n",
       "\n",
       "    .dataframe tbody tr th {\n",
       "        vertical-align: top;\n",
       "    }\n",
       "\n",
       "    .dataframe thead th {\n",
       "        text-align: right;\n",
       "    }\n",
       "</style>\n",
       "<table border=\"1\" class=\"dataframe\">\n",
       "  <thead>\n",
       "    <tr style=\"text-align: right;\">\n",
       "      <th></th>\n",
       "      <th>image_id</th>\n",
       "      <th>fine_label_names</th>\n",
       "      <th>fine_labels</th>\n",
       "      <th>coarse_label_names</th>\n",
       "      <th>coarse_labels</th>\n",
       "    </tr>\n",
       "  </thead>\n",
       "  <tbody>\n",
       "    <tr>\n",
       "      <th>0</th>\n",
       "      <td>19_11_100000.jpg</td>\n",
       "      <td>cattle</td>\n",
       "      <td>19</td>\n",
       "      <td>large_omnivores_and_herbivores</td>\n",
       "      <td>11</td>\n",
       "    </tr>\n",
       "    <tr>\n",
       "      <th>1</th>\n",
       "      <td>29_15_100001.jpg</td>\n",
       "      <td>dinosaur</td>\n",
       "      <td>29</td>\n",
       "      <td>reptiles</td>\n",
       "      <td>15</td>\n",
       "    </tr>\n",
       "    <tr>\n",
       "      <th>2</th>\n",
       "      <td>0_4_100002.jpg</td>\n",
       "      <td>apple</td>\n",
       "      <td>0</td>\n",
       "      <td>fruit_and_vegetables</td>\n",
       "      <td>4</td>\n",
       "    </tr>\n",
       "    <tr>\n",
       "      <th>3</th>\n",
       "      <td>11_14_100003.jpg</td>\n",
       "      <td>boy</td>\n",
       "      <td>11</td>\n",
       "      <td>people</td>\n",
       "      <td>14</td>\n",
       "    </tr>\n",
       "    <tr>\n",
       "      <th>4</th>\n",
       "      <td>1_1_100004.jpg</td>\n",
       "      <td>aquarium_fish</td>\n",
       "      <td>1</td>\n",
       "      <td>fish</td>\n",
       "      <td>1</td>\n",
       "    </tr>\n",
       "    <tr>\n",
       "      <th>...</th>\n",
       "      <td>...</td>\n",
       "      <td>...</td>\n",
       "      <td>...</td>\n",
       "      <td>...</td>\n",
       "      <td>...</td>\n",
       "    </tr>\n",
       "    <tr>\n",
       "      <th>49995</th>\n",
       "      <td>80_16_149995.jpg</td>\n",
       "      <td>squirrel</td>\n",
       "      <td>80</td>\n",
       "      <td>small_mammals</td>\n",
       "      <td>16</td>\n",
       "    </tr>\n",
       "    <tr>\n",
       "      <th>49996</th>\n",
       "      <td>7_7_149996.jpg</td>\n",
       "      <td>beetle</td>\n",
       "      <td>7</td>\n",
       "      <td>insects</td>\n",
       "      <td>7</td>\n",
       "    </tr>\n",
       "    <tr>\n",
       "      <th>49997</th>\n",
       "      <td>3_8_149997.jpg</td>\n",
       "      <td>bear</td>\n",
       "      <td>3</td>\n",
       "      <td>large_carnivores</td>\n",
       "      <td>8</td>\n",
       "    </tr>\n",
       "    <tr>\n",
       "      <th>49998</th>\n",
       "      <td>7_7_149998.jpg</td>\n",
       "      <td>beetle</td>\n",
       "      <td>7</td>\n",
       "      <td>insects</td>\n",
       "      <td>7</td>\n",
       "    </tr>\n",
       "    <tr>\n",
       "      <th>49999</th>\n",
       "      <td>73_1_149999.jpg</td>\n",
       "      <td>shark</td>\n",
       "      <td>73</td>\n",
       "      <td>fish</td>\n",
       "      <td>1</td>\n",
       "    </tr>\n",
       "  </tbody>\n",
       "</table>\n",
       "<p>50000 rows × 5 columns</p>\n",
       "</div>"
      ],
      "text/plain": [
       "               image_id fine_label_names  fine_labels  \\\n",
       "0      19_11_100000.jpg           cattle           19   \n",
       "1      29_15_100001.jpg         dinosaur           29   \n",
       "2        0_4_100002.jpg            apple            0   \n",
       "3      11_14_100003.jpg              boy           11   \n",
       "4        1_1_100004.jpg    aquarium_fish            1   \n",
       "...                 ...              ...          ...   \n",
       "49995  80_16_149995.jpg         squirrel           80   \n",
       "49996    7_7_149996.jpg           beetle            7   \n",
       "49997    3_8_149997.jpg             bear            3   \n",
       "49998    7_7_149998.jpg           beetle            7   \n",
       "49999   73_1_149999.jpg            shark           73   \n",
       "\n",
       "                   coarse_label_names  coarse_labels  \n",
       "0      large_omnivores_and_herbivores             11  \n",
       "1                            reptiles             15  \n",
       "2                fruit_and_vegetables              4  \n",
       "3                              people             14  \n",
       "4                                fish              1  \n",
       "...                               ...            ...  \n",
       "49995                   small_mammals             16  \n",
       "49996                         insects              7  \n",
       "49997                large_carnivores              8  \n",
       "49998                         insects              7  \n",
       "49999                            fish              1  \n",
       "\n",
       "[50000 rows x 5 columns]"
      ]
     },
     "execution_count": 3,
     "metadata": {},
     "output_type": "execute_result"
    }
   ],
   "source": [
    "# prepare labels\n",
    "train_df = pd.read_csv(\"cifar100/train.csv\")\n",
    "val_df = pd.read_csv(\"cifar100/test.csv\")\n",
    "train_df"
   ]
  },
  {
   "cell_type": "code",
   "execution_count": 4,
   "id": "44be87f4",
   "metadata": {},
   "outputs": [],
   "source": [
    "class cifarDataset(Dataset):\n",
    "    def __init__(self,\n",
    "                 df,\n",
    "                 rand=False,\n",
    "                 transform=None,\n",
    "                 test=False\n",
    "                ):\n",
    "\n",
    "        self.df = df.reset_index(drop=True)\n",
    "        self.rand = rand\n",
    "        self.transform = transform\n",
    "        self.test = test\n",
    "\n",
    "    def __len__(self):\n",
    "        return self.df.shape[0]\n",
    "\n",
    "    def __getitem__(self, index):\n",
    "        row = self.df.iloc[index]\n",
    "        img_id = row.image_id\n",
    "        \n",
    "        images = cv2.imread(os.path.join(DATA_DIR, img_id))\n",
    "        \n",
    "        # Load labels\n",
    "        label = row.fine_labels\n",
    "        \n",
    "        # aug\n",
    "        if self.transform is not None:\n",
    "            images = self.transform(image=images)['image']\n",
    "              \n",
    "        #images = images.astype(np.float32)\n",
    "        #images /= 255\n",
    "        images = images.transpose(2, 0, 1)\n",
    "        \n",
    "        label = label.astype(np.float32)\n",
    "        #label2 = label2.astype(np.float32)\n",
    "        return torch.tensor(images), torch.tensor(label),"
   ]
  },
  {
   "cell_type": "code",
   "execution_count": 5,
   "id": "cd5517a6",
   "metadata": {},
   "outputs": [
    {
     "name": "stderr",
     "output_type": "stream",
     "text": [
      "/home/ken/anaconda3/envs/pytorch/lib/python3.8/site-packages/albumentations/augmentations/dropout/cutout.py:49: FutureWarning: Cutout has been deprecated. Please use CoarseDropout\n",
      "  warnings.warn(\n"
     ]
    }
   ],
   "source": [
    "import albumentations as A\n",
    "import albumentations\n",
    "\n",
    "transforms_train = albumentations.Compose([\n",
    "    albumentations.ShiftScaleRotate(scale_limit=0.3, rotate_limit=180,p=0.5),\n",
    "    A.Cutout(num_holes=12, max_h_size=4, max_w_size=4, fill_value=0, p=0.5),\n",
    "    albumentations.HorizontalFlip(p=0.5),   \n",
    "    albumentations.Resize(imsize, imsize, p=1.0), \n",
    "    albumentations.Normalize(mean=(0.485, 0.456, 0.406),\n",
    "                       std=(0.229, 0.224, 0.225), p=1),\n",
    "])\n",
    "\n",
    "transforms_val = albumentations.Compose([albumentations.Resize(imsize, imsize, p=1.0),\n",
    "                                         albumentations.Normalize(mean=(0.485, 0.456, 0.406),\n",
    "                       std=(0.229, 0.224, 0.225), p=1),])"
   ]
  },
  {
   "cell_type": "code",
   "execution_count": 6,
   "id": "e3726718",
   "metadata": {
    "scrolled": true
   },
   "outputs": [
    {
     "name": "stderr",
     "output_type": "stream",
     "text": [
      "Clipping input data to the valid range for imshow with RGB data ([0..1] for floats or [0..255] for integers).\n",
      "Clipping input data to the valid range for imshow with RGB data ([0..1] for floats or [0..255] for integers).\n",
      "Clipping input data to the valid range for imshow with RGB data ([0..1] for floats or [0..255] for integers).\n",
      "Clipping input data to the valid range for imshow with RGB data ([0..1] for floats or [0..255] for integers).\n",
      "Clipping input data to the valid range for imshow with RGB data ([0..1] for floats or [0..255] for integers).\n",
      "Clipping input data to the valid range for imshow with RGB data ([0..1] for floats or [0..255] for integers).\n",
      "Clipping input data to the valid range for imshow with RGB data ([0..1] for floats or [0..255] for integers).\n",
      "Clipping input data to the valid range for imshow with RGB data ([0..1] for floats or [0..255] for integers).\n",
      "Clipping input data to the valid range for imshow with RGB data ([0..1] for floats or [0..255] for integers).\n",
      "Clipping input data to the valid range for imshow with RGB data ([0..1] for floats or [0..255] for integers).\n",
      "Clipping input data to the valid range for imshow with RGB data ([0..1] for floats or [0..255] for integers).\n",
      "Clipping input data to the valid range for imshow with RGB data ([0..1] for floats or [0..255] for integers).\n",
      "Clipping input data to the valid range for imshow with RGB data ([0..1] for floats or [0..255] for integers).\n",
      "Clipping input data to the valid range for imshow with RGB data ([0..1] for floats or [0..255] for integers).\n",
      "Clipping input data to the valid range for imshow with RGB data ([0..1] for floats or [0..255] for integers).\n"
     ]
    },
    {
     "data": {
      "image/png": "[encoded data removed]",
      "text/plain": [
       "<Figure size 2000x1000 with 5 Axes>"
      ]
     },
     "metadata": {},
     "output_type": "display_data"
    },
    {
     "data": {
      "image/png": "[encoded data removed]",
      "text/plain": [
       "<Figure size 2000x1000 with 5 Axes>"
      ]
     },
     "metadata": {},
     "output_type": "display_data"
    },
    {
     "data": {
      "image/png": "[encoded data removed]",
      "text/plain": [
       "<Figure size 2000x1000 with 5 Axes>"
      ]
     },
     "metadata": {},
     "output_type": "display_data"
    }
   ],
   "source": [
    "dataset_show = cifarDataset(train_df, transform=transforms_train)\n",
    "from pylab import rcParams\n",
    "rcParams['figure.figsize'] = 20,10\n",
    "for i in range(3):\n",
    "    f, axarr = plt.subplots(1,5)\n",
    "    for p in range(5):\n",
    "        idx = np.random.randint(0, len(dataset_show))\n",
    "        img, label = dataset_show[idx]\n",
    "        img = img.flip(0) #BGR2RGB\n",
    "        axarr[p].imshow(img.transpose(0,1).transpose(1,2))\n",
    "        axarr[p].set_title(str(label))\n",
    "plt.show()"
   ]
  },
  {
   "cell_type": "code",
   "execution_count": 38,
   "id": "be374443",
   "metadata": {},
   "outputs": [],
   "source": [
    "from mixup import mixup, mixup_cross_entropy_loss\n",
    "\n",
    "\n",
    "def train(train_loader, model, optimizer, epoch):\n",
    "    \"\"\"\n",
    "        Run one train epoch\n",
    "    \"\"\"\n",
    "    criterion = mixup_cross_entropy_loss\n",
    "    batch_time = AverageMeter()\n",
    "    data_time = AverageMeter()\n",
    "    losses = AverageMeter()\n",
    "    top1 = AverageMeter()\n",
    "\n",
    "    # switch to train mode\n",
    "    model.train()\n",
    "\n",
    "    end = time.time()\n",
    "    lambda_alpha = 0.002\n",
    "    for i, (input, target) in enumerate(tqdm(train_loader)):\n",
    "\n",
    "        # measure data loading time\n",
    "        data_time.update(time.time() - end)\n",
    "\n",
    "        if not mixup:\n",
    "          alpha = 0\n",
    "        else:\n",
    "          alpha = 1\n",
    "          input_var, target_var = mixup(input, target.long(), 100)\n",
    "        \n",
    "        input_var = input_var.to(device)\n",
    "        target_var = target_var.to(device)\n",
    "\n",
    "        # compute output\n",
    "        output = model(input_var)\n",
    "        loss = criterion(output, target_var)\n",
    "\n",
    "        # L2 regularization\n",
    "        l2_alpha = 0.0\n",
    "        for name, param in model.named_parameters():\n",
    "            if \"alpha\" in name:\n",
    "                l2_alpha += torch.pow(param, 2)\n",
    "        loss += lambda_alpha * l2_alpha\n",
    "\n",
    "        # compute gradient and do SGD step\n",
    "        optimizer.zero_grad()\n",
    "        loss.backward()\n",
    "        optimizer.step()\n",
    "\n",
    "        output = output.float()\n",
    "        loss = loss.float()\n",
    "        # measure accuracy and record loss\n",
    "        losses.update(loss.item(), input.size(0))\n",
    "        top1 = 0\n",
    "\n",
    "        # measure elapsed time\n",
    "        batch_time.update(time.time() - end)\n",
    "        end = time.time()\n",
    "\n",
    "    return losses.avg\n",
    "\n",
    "def validate(val_loader, model):\n",
    "    \"\"\"\n",
    "    Run evaluation\n",
    "    \"\"\"\n",
    "    criterion = nn.CrossEntropyLoss()\n",
    "    batch_time = AverageMeter()\n",
    "    losses = AverageMeter()\n",
    "    top1 = AverageMeter()\n",
    "\n",
    "    # switch to evaluate mode\n",
    "    model.eval()\n",
    "\n",
    "    end = time.time()\n",
    "    with torch.no_grad():\n",
    "        for i, (input, target) in enumerate(val_loader):\n",
    "            target = target.long().to(device)\n",
    "            input_var = input.to(device)\n",
    "            target_var = target.to(device)\n",
    "\n",
    "            # compute output\n",
    "            output = model(input_var)\n",
    "            loss = criterion(output, target_var)\n",
    "\n",
    "            output = output.float()\n",
    "            loss = loss.float()\n",
    "\n",
    "            # measure accuracy and record loss\n",
    "            prec1 = accuracy(output.data, target)[0]\n",
    "            losses.update(loss.item(), input.size(0))\n",
    "            top1.update(prec1.item(), input.size(0))\n",
    "\n",
    "            # measure elapsed time\n",
    "            batch_time.update(time.time() - end)\n",
    "            end = time.time()\n",
    "\n",
    "            if i % print_freq == 0:\n",
    "                print('Test: [{0}/{1}]\\t'\n",
    "                      'Time {batch_time.val:.3f} ({batch_time.avg:.3f})\\t'\n",
    "                      'Loss {loss.val:.4f} ({loss.avg:.4f})\\t'\n",
    "                      'Prec@1 {top1.val:.3f} ({top1.avg:.3f})'.format(\n",
    "                          i, len(val_loader), batch_time=batch_time, loss=losses,\n",
    "                          top1=top1))\n",
    "\n",
    "    print(' * Prec@1 {top1.avg:.3f}'\n",
    "          .format(top1=top1))\n",
    "    for name, param in model.named_parameters():\n",
    "        if \"alpha\" in name:\n",
    "            print(name, param.item())\n",
    "    return top1.avg, losses.avg\n",
    "\n",
    "def save_checkpoint(state, filename='checkpoint.pth'):\n",
    "    \"\"\"\n",
    "    Save the training model\n",
    "    \"\"\"\n",
    "    torch.save(state, filename)\n",
    "\n",
    "class AverageMeter(object):\n",
    "    \"\"\"Computes and stores the average and current value\"\"\"\n",
    "    def __init__(self):\n",
    "        self.reset()\n",
    "\n",
    "    def reset(self):\n",
    "        self.val = 0\n",
    "        self.avg = 0\n",
    "        self.sum = 0\n",
    "        self.count = 0\n",
    "\n",
    "    def update(self, val, n=1):\n",
    "        self.val = val\n",
    "        self.sum += val * n\n",
    "        self.count += n\n",
    "        self.avg = self.sum / self.count\n",
    "\n",
    "\n",
    "def accuracy(output, target, topk=(1,)):\n",
    "    \"\"\"Computes the precision@k for the specified values of k\"\"\"\n",
    "    maxk = max(topk)\n",
    "    batch_size = target.size(0)\n",
    "\n",
    "    _, pred = output.topk(maxk, 1, True, True)\n",
    "    pred = pred.t()\n",
    "    correct = pred.eq(target.view(1, -1).expand_as(pred))\n",
    "\n",
    "    res = []\n",
    "    for k in topk:\n",
    "        correct_k = correct[:k].view(-1).float().sum(0)\n",
    "        res.append(correct_k.mul_(100.0 / batch_size))\n",
    "    return res"
   ]
  },
  {
   "cell_type": "code",
   "execution_count": 39,
   "id": "6f005fd3",
   "metadata": {},
   "outputs": [],
   "source": [
    "train_dataset = cifarDataset(train_df, transform=transforms_train)\n",
    "val_dataset = cifarDataset(val_df, transform=transforms_val, test=True)\n",
    "\n",
    "train_loader = torch.utils.data.DataLoader(\n",
    "        train_dataset,\n",
    "        batch_size=batches, shuffle=True,\n",
    "        num_workers=8, pin_memory=True)\n",
    "\n",
    "val_loader = torch.utils.data.DataLoader(\n",
    "    val_dataset,\n",
    "    batch_size=batches, shuffle=False,\n",
    "    num_workers=8, pin_memory=True)"
   ]
  },
  {
   "cell_type": "code",
   "execution_count": 40,
   "id": "a4256dce",
   "metadata": {},
   "outputs": [],
   "source": [
    "import torch\n",
    "import torch.nn as nn\n",
    "import torch.nn.functional as F\n",
    "import torch.nn.init as init\n",
    "from torch.autograd import Variable\n",
    "from pact_utils import QuantizedLinear, QuantizedConv2d, PGConv2d\n",
    "\n",
    "\n",
    "def _weights_init(m):\n",
    "    classname = m.__class__.__name__\n",
    "    #print(classname)\n",
    "    if isinstance(m, nn.Linear) or isinstance(m, nn.Conv2d):\n",
    "        init.kaiming_normal_(m.weight)\n",
    "\n",
    "class LambdaLayer(nn.Module):\n",
    "    def __init__(self, lambd):\n",
    "        super(LambdaLayer, self).__init__()\n",
    "        self.lambd = lambd\n",
    "\n",
    "    def forward(self, x):\n",
    "        return self.lambd(x)\n",
    "\n",
    "\n",
    "class BasicBlock(nn.Module):\n",
    "    expansion = 1\n",
    "\n",
    "    def __init__(self, in_planes, planes, stride=1, k=8, expansion=1):\n",
    "        super(BasicBlock, self).__init__()\n",
    "        self.k = k\n",
    "        self.expansion = expansion\n",
    "        self.conv1 = QuantizedConv2d(in_planes, planes, kernel_size=3, stride=stride, padding=1, bias=False, wbits=k, abits=k)\n",
    "        self.bn1 = nn.BatchNorm2d(planes)\n",
    "        # self.conv2 = nn.Conv2d(planes, planes, kernel_size=3, stride=1, padding=1, bias=False)\n",
    "        self.conv2 = QuantizedConv2d(planes, planes, kernel_size=3, stride=1, padding=1, bias=False, wbits=k, abits=k)\n",
    "        self.bn2 = nn.BatchNorm2d(planes)\n",
    "        \n",
    "        if stride != 1 or in_planes != planes:\n",
    "              # original resnet shortcut\n",
    "              self.shortcut = nn.Sequential(\n",
    "                    # nn.Conv2d(in_planes, self.expansion * planes, kernel_size=1, stride=stride, bias=False),\n",
    "                    QuantizedConv2d(in_planes, self.expansion * planes, kernel_size=1, stride=stride, bias=False, wbits=k, abits=k),\n",
    "                    nn.BatchNorm2d(self.expansion * planes)\n",
    "              )\n",
    "        else: # nothing done if stride or inplanes do not differ\n",
    "          self.shortcut = nn.Sequential()\n",
    "\n",
    "    def forward(self, x):\n",
    "        # Relu is implemented as the input of conv2d\n",
    "        out = self.bn1(self.conv1(x))\n",
    "        out = self.bn2(self.conv2(out))\n",
    "        out += self.shortcut(x)\n",
    "        out = F.relu(out)\n",
    "        return out\n",
    "\n",
    "\n",
    "class ResNet(nn.Module):\n",
    "    def __init__(self, block, num_blocks, num_classes=10, K=8):\n",
    "        super(ResNet, self).__init__()\n",
    "        self.in_planes = 32\n",
    "        self.k = K\n",
    "\n",
    "        self.conv1 = QuantizedConv2d(3, self.in_planes, kernel_size=3, stride=2, padding=1, bias=False, abits=8, wbits=8)\n",
    "        self.bn1 = nn.BatchNorm2d(self.in_planes)\n",
    "        self.alpha1 = nn.Parameter(torch.tensor(10.))\n",
    "        self.layer1 = self._make_layer(block, self.in_planes, num_blocks[0], stride=1, expansion=1)\n",
    "        self.layer2 = self._make_layer(block, self.in_planes*2, num_blocks[1], stride=2, expansion=1)\n",
    "        self.layer3 = self._make_layer(block, self.in_planes*4, num_blocks[2], stride=2, expansion=1)\n",
    "        self.layer4 = self._make_layer(block, self.in_planes*2, num_blocks[3], stride=2, expansion=1)\n",
    "\n",
    "        # self.linear = nn.Linear(64, num_classes)\n",
    "        self.linear = QuantizedLinear(self.in_planes, num_classes, abits=8, wbits=8)\n",
    "        self.apply(_weights_init)\n",
    "\n",
    "    def _make_layer(self, block, planes, num_blocks, stride, expansion):\n",
    "        strides = [stride] + [1]*(num_blocks-1)\n",
    "        layers = []\n",
    "        for stride in strides:\n",
    "            layers.append(block(self.in_planes, planes, stride, self.k, expansion))\n",
    "            self.in_planes = planes * block.expansion\n",
    "\n",
    "        return nn.Sequential(*layers)\n",
    "\n",
    "    def forward(self, x):\n",
    "        # out = F.relu(self.bn1(self.conv1(x)))\n",
    "        out = self.bn1(self.conv1(x))\n",
    "        out = self.layer1(out)\n",
    "        out = self.layer2(out)\n",
    "        out = self.layer3(out)\n",
    "        out = self.layer4(out)\n",
    "        out = F.avg_pool2d(out, out.size()[3])\n",
    "        out = out.view(out.size(0), -1)\n",
    "        out = self.linear(out)\n",
    "        return out\n",
    "\n",
    "\n",
    "def resnet20(k=8):\n",
    "    print(\"bit width:\", k)\n",
    "    return ResNet(BasicBlock, [2, 2, 2, 2], K=k, num_classes=100)\n",
    "\n",
    "def resnet34(k=8):\n",
    "    print(\"bit width:\", k)\n",
    "    return ResNet(BasicBlock, [3, 4, 6, 3], K=k, num_classes=100)"
   ]
  },
  {
   "cell_type": "code",
   "execution_count": 41,
   "id": "632f4e34",
   "metadata": {},
   "outputs": [
    {
     "name": "stdout",
     "output_type": "stream",
     "text": [
      "bit width: 8\n"
     ]
    }
   ],
   "source": [
    "net = resnet20(8)"
   ]
  },
  {
   "cell_type": "code",
   "execution_count": 42,
   "id": "34733869",
   "metadata": {},
   "outputs": [
    {
     "data": {
      "text/plain": [
       "ResNet(\n",
       "  (conv1): QuantizedConv2d(\n",
       "    3, 32, kernel_size=(3, 3), stride=(2, 2), padding=(1, 1), bias=False\n",
       "    (quantize_w): TorchQuantize(\n",
       "      (quantize): TorchRoundToBits()\n",
       "    )\n",
       "    (quantize_a): TorchQuantize(\n",
       "      (quantize): TorchRoundToBits()\n",
       "    )\n",
       "  )\n",
       "  (bn1): BatchNorm2d(32, eps=1e-05, momentum=0.1, affine=True, track_running_stats=True)\n",
       "  (layer1): Sequential(\n",
       "    (0): BasicBlock(\n",
       "      (conv1): QuantizedConv2d(\n",
       "        32, 32, kernel_size=(3, 3), stride=(1, 1), padding=(1, 1), bias=False\n",
       "        (quantize_w): TorchQuantize(\n",
       "          (quantize): TorchRoundToBits()\n",
       "        )\n",
       "        (quantize_a): TorchQuantize(\n",
       "          (quantize): TorchRoundToBits()\n",
       "        )\n",
       "      )\n",
       "      (bn1): BatchNorm2d(32, eps=1e-05, momentum=0.1, affine=True, track_running_stats=True)\n",
       "      (conv2): QuantizedConv2d(\n",
       "        32, 32, kernel_size=(3, 3), stride=(1, 1), padding=(1, 1), bias=False\n",
       "        (quantize_w): TorchQuantize(\n",
       "          (quantize): TorchRoundToBits()\n",
       "        )\n",
       "        (quantize_a): TorchQuantize(\n",
       "          (quantize): TorchRoundToBits()\n",
       "        )\n",
       "      )\n",
       "      (bn2): BatchNorm2d(32, eps=1e-05, momentum=0.1, affine=True, track_running_stats=True)\n",
       "      (shortcut): Sequential()\n",
       "    )\n",
       "    (1): BasicBlock(\n",
       "      (conv1): QuantizedConv2d(\n",
       "        32, 32, kernel_size=(3, 3), stride=(1, 1), padding=(1, 1), bias=False\n",
       "        (quantize_w): TorchQuantize(\n",
       "          (quantize): TorchRoundToBits()\n",
       "        )\n",
       "        (quantize_a): TorchQuantize(\n",
       "          (quantize): TorchRoundToBits()\n",
       "        )\n",
       "      )\n",
       "      (bn1): BatchNorm2d(32, eps=1e-05, momentum=0.1, affine=True, track_running_stats=True)\n",
       "      (conv2): QuantizedConv2d(\n",
       "        32, 32, kernel_size=(3, 3), stride=(1, 1), padding=(1, 1), bias=False\n",
       "        (quantize_w): TorchQuantize(\n",
       "          (quantize): TorchRoundToBits()\n",
       "        )\n",
       "        (quantize_a): TorchQuantize(\n",
       "          (quantize): TorchRoundToBits()\n",
       "        )\n",
       "      )\n",
       "      (bn2): BatchNorm2d(32, eps=1e-05, momentum=0.1, affine=True, track_running_stats=True)\n",
       "      (shortcut): Sequential()\n",
       "    )\n",
       "  )\n",
       "  (layer2): Sequential(\n",
       "    (0): BasicBlock(\n",
       "      (conv1): QuantizedConv2d(\n",
       "        32, 64, kernel_size=(3, 3), stride=(2, 2), padding=(1, 1), bias=False\n",
       "        (quantize_w): TorchQuantize(\n",
       "          (quantize): TorchRoundToBits()\n",
       "        )\n",
       "        (quantize_a): TorchQuantize(\n",
       "          (quantize): TorchRoundToBits()\n",
       "        )\n",
       "      )\n",
       "      (bn1): BatchNorm2d(64, eps=1e-05, momentum=0.1, affine=True, track_running_stats=True)\n",
       "      (conv2): QuantizedConv2d(\n",
       "        64, 64, kernel_size=(3, 3), stride=(1, 1), padding=(1, 1), bias=False\n",
       "        (quantize_w): TorchQuantize(\n",
       "          (quantize): TorchRoundToBits()\n",
       "        )\n",
       "        (quantize_a): TorchQuantize(\n",
       "          (quantize): TorchRoundToBits()\n",
       "        )\n",
       "      )\n",
       "      (bn2): BatchNorm2d(64, eps=1e-05, momentum=0.1, affine=True, track_running_stats=True)\n",
       "      (shortcut): Sequential(\n",
       "        (0): QuantizedConv2d(\n",
       "          32, 64, kernel_size=(1, 1), stride=(2, 2), bias=False\n",
       "          (quantize_w): TorchQuantize(\n",
       "            (quantize): TorchRoundToBits()\n",
       "          )\n",
       "          (quantize_a): TorchQuantize(\n",
       "            (quantize): TorchRoundToBits()\n",
       "          )\n",
       "        )\n",
       "        (1): BatchNorm2d(64, eps=1e-05, momentum=0.1, affine=True, track_running_stats=True)\n",
       "      )\n",
       "    )\n",
       "    (1): BasicBlock(\n",
       "      (conv1): QuantizedConv2d(\n",
       "        64, 64, kernel_size=(3, 3), stride=(1, 1), padding=(1, 1), bias=False\n",
       "        (quantize_w): TorchQuantize(\n",
       "          (quantize): TorchRoundToBits()\n",
       "        )\n",
       "        (quantize_a): TorchQuantize(\n",
       "          (quantize): TorchRoundToBits()\n",
       "        )\n",
       "      )\n",
       "      (bn1): BatchNorm2d(64, eps=1e-05, momentum=0.1, affine=True, track_running_stats=True)\n",
       "      (conv2): QuantizedConv2d(\n",
       "        64, 64, kernel_size=(3, 3), stride=(1, 1), padding=(1, 1), bias=False\n",
       "        (quantize_w): TorchQuantize(\n",
       "          (quantize): TorchRoundToBits()\n",
       "        )\n",
       "        (quantize_a): TorchQuantize(\n",
       "          (quantize): TorchRoundToBits()\n",
       "        )\n",
       "      )\n",
       "      (bn2): BatchNorm2d(64, eps=1e-05, momentum=0.1, affine=True, track_running_stats=True)\n",
       "      (shortcut): Sequential()\n",
       "    )\n",
       "  )\n",
       "  (layer3): Sequential(\n",
       "    (0): BasicBlock(\n",
       "      (conv1): QuantizedConv2d(\n",
       "        64, 256, kernel_size=(3, 3), stride=(2, 2), padding=(1, 1), bias=False\n",
       "        (quantize_w): TorchQuantize(\n",
       "          (quantize): TorchRoundToBits()\n",
       "        )\n",
       "        (quantize_a): TorchQuantize(\n",
       "          (quantize): TorchRoundToBits()\n",
       "        )\n",
       "      )\n",
       "      (bn1): BatchNorm2d(256, eps=1e-05, momentum=0.1, affine=True, track_running_stats=True)\n",
       "      (conv2): QuantizedConv2d(\n",
       "        256, 256, kernel_size=(3, 3), stride=(1, 1), padding=(1, 1), bias=False\n",
       "        (quantize_w): TorchQuantize(\n",
       "          (quantize): TorchRoundToBits()\n",
       "        )\n",
       "        (quantize_a): TorchQuantize(\n",
       "          (quantize): TorchRoundToBits()\n",
       "        )\n",
       "      )\n",
       "      (bn2): BatchNorm2d(256, eps=1e-05, momentum=0.1, affine=True, track_running_stats=True)\n",
       "      (shortcut): Sequential(\n",
       "        (0): QuantizedConv2d(\n",
       "          64, 256, kernel_size=(1, 1), stride=(2, 2), bias=False\n",
       "          (quantize_w): TorchQuantize(\n",
       "            (quantize): TorchRoundToBits()\n",
       "          )\n",
       "          (quantize_a): TorchQuantize(\n",
       "            (quantize): TorchRoundToBits()\n",
       "          )\n",
       "        )\n",
       "        (1): BatchNorm2d(256, eps=1e-05, momentum=0.1, affine=True, track_running_stats=True)\n",
       "      )\n",
       "    )\n",
       "    (1): BasicBlock(\n",
       "      (conv1): QuantizedConv2d(\n",
       "        256, 256, kernel_size=(3, 3), stride=(1, 1), padding=(1, 1), bias=False\n",
       "        (quantize_w): TorchQuantize(\n",
       "          (quantize): TorchRoundToBits()\n",
       "        )\n",
       "        (quantize_a): TorchQuantize(\n",
       "          (quantize): TorchRoundToBits()\n",
       "        )\n",
       "      )\n",
       "      (bn1): BatchNorm2d(256, eps=1e-05, momentum=0.1, affine=True, track_running_stats=True)\n",
       "      (conv2): QuantizedConv2d(\n",
       "        256, 256, kernel_size=(3, 3), stride=(1, 1), padding=(1, 1), bias=False\n",
       "        (quantize_w): TorchQuantize(\n",
       "          (quantize): TorchRoundToBits()\n",
       "        )\n",
       "        (quantize_a): TorchQuantize(\n",
       "          (quantize): TorchRoundToBits()\n",
       "        )\n",
       "      )\n",
       "      (bn2): BatchNorm2d(256, eps=1e-05, momentum=0.1, affine=True, track_running_stats=True)\n",
       "      (shortcut): Sequential()\n",
       "    )\n",
       "  )\n",
       "  (layer4): Sequential(\n",
       "    (0): BasicBlock(\n",
       "      (conv1): QuantizedConv2d(\n",
       "        256, 512, kernel_size=(3, 3), stride=(2, 2), padding=(1, 1), bias=False\n",
       "        (quantize_w): TorchQuantize(\n",
       "          (quantize): TorchRoundToBits()\n",
       "        )\n",
       "        (quantize_a): TorchQuantize(\n",
       "          (quantize): TorchRoundToBits()\n",
       "        )\n",
       "      )\n",
       "      (bn1): BatchNorm2d(512, eps=1e-05, momentum=0.1, affine=True, track_running_stats=True)\n",
       "      (conv2): QuantizedConv2d(\n",
       "        512, 512, kernel_size=(3, 3), stride=(1, 1), padding=(1, 1), bias=False\n",
       "        (quantize_w): TorchQuantize(\n",
       "          (quantize): TorchRoundToBits()\n",
       "        )\n",
       "        (quantize_a): TorchQuantize(\n",
       "          (quantize): TorchRoundToBits()\n",
       "        )\n",
       "      )\n",
       "      (bn2): BatchNorm2d(512, eps=1e-05, momentum=0.1, affine=True, track_running_stats=True)\n",
       "      (shortcut): Sequential(\n",
       "        (0): QuantizedConv2d(\n",
       "          256, 512, kernel_size=(1, 1), stride=(2, 2), bias=False\n",
       "          (quantize_w): TorchQuantize(\n",
       "            (quantize): TorchRoundToBits()\n",
       "          )\n",
       "          (quantize_a): TorchQuantize(\n",
       "            (quantize): TorchRoundToBits()\n",
       "          )\n",
       "        )\n",
       "        (1): BatchNorm2d(512, eps=1e-05, momentum=0.1, affine=True, track_running_stats=True)\n",
       "      )\n",
       "    )\n",
       "    (1): BasicBlock(\n",
       "      (conv1): QuantizedConv2d(\n",
       "        512, 512, kernel_size=(3, 3), stride=(1, 1), padding=(1, 1), bias=False\n",
       "        (quantize_w): TorchQuantize(\n",
       "          (quantize): TorchRoundToBits()\n",
       "        )\n",
       "        (quantize_a): TorchQuantize(\n",
       "          (quantize): TorchRoundToBits()\n",
       "        )\n",
       "      )\n",
       "      (bn1): BatchNorm2d(512, eps=1e-05, momentum=0.1, affine=True, track_running_stats=True)\n",
       "      (conv2): QuantizedConv2d(\n",
       "        512, 512, kernel_size=(3, 3), stride=(1, 1), padding=(1, 1), bias=False\n",
       "        (quantize_w): TorchQuantize(\n",
       "          (quantize): TorchRoundToBits()\n",
       "        )\n",
       "        (quantize_a): TorchQuantize(\n",
       "          (quantize): TorchRoundToBits()\n",
       "        )\n",
       "      )\n",
       "      (bn2): BatchNorm2d(512, eps=1e-05, momentum=0.1, affine=True, track_running_stats=True)\n",
       "      (shortcut): Sequential()\n",
       "    )\n",
       "  )\n",
       "  (linear): QuantizedLinear(\n",
       "    in_features=512, out_features=100, bias=True\n",
       "    (quantize_w): TorchQuantize(\n",
       "      (quantize): TorchRoundToBits()\n",
       "    )\n",
       "    (quantize_a): TorchQuantize(\n",
       "      (quantize): TorchRoundToBits()\n",
       "    )\n",
       "    (quantize_o): TorchQuantize(\n",
       "      (quantize): TorchRoundToBits()\n",
       "    )\n",
       "    (noise): GaussianNoise()\n",
       "  )\n",
       ")"
      ]
     },
     "execution_count": 42,
     "metadata": {},
     "output_type": "execute_result"
    }
   ],
   "source": [
    "net"
   ]
  },
  {
   "cell_type": "markdown",
   "id": "c3f38958",
   "metadata": {},
   "source": [
    "# Train with quantization"
   ]
  },
  {
   "cell_type": "code",
   "execution_count": null,
   "id": "bf661401",
   "metadata": {
    "scrolled": false
   },
   "outputs": [
    {
     "name": "stdout",
     "output_type": "stream",
     "text": [
      "bit width: 6\n"
     ]
    },
    {
     "data": {
      "text/html": [
       "Finishing last run (ID:eijkvkj2) before initializing another..."
      ],
      "text/plain": [
       "<IPython.core.display.HTML object>"
      ]
     },
     "metadata": {},
     "output_type": "display_data"
    },
    {
     "data": {
      "text/html": [
       "Waiting for W&B process to finish... <strong style=\"color:green\">(success).</strong>"
      ],
      "text/plain": [
       "<IPython.core.display.HTML object>"
      ]
     },
     "metadata": {},
     "output_type": "display_data"
    },
    {
     "data": {
      "application/vnd.jupyter.widget-view+json": {
       "model_id": "1ee3598833624c14b7b6915fcf9cfa32",
       "version_major": 2,
       "version_minor": 0
      },
      "text/plain": [
       "VBox(children=(Label(value='0.010 MB of 0.010 MB uploaded (0.000 MB deduped)\\r'), FloatProgress(value=1.0, max…"
      ]
     },
     "metadata": {},
     "output_type": "display_data"
    },
    {
     "data": {
      "text/html": [
       " View run <strong style=\"color:#cdcd00\">resnet20_quantize_k6_cifar100_original_mixup</strong> at: <a href=\"https://wandb.ai/keio-csg/quantize_resnet_cifar100/runs/eijkvkj2\" target=\"_blank\">https://wandb.ai/keio-csg/quantize_resnet_cifar100/runs/eijkvkj2</a><br/>Synced 7 W&B file(s), 0 media file(s), 0 artifact file(s) and 1 other file(s)"
      ],
      "text/plain": [
       "<IPython.core.display.HTML object>"
      ]
     },
     "metadata": {},
     "output_type": "display_data"
    },
    {
     "data": {
      "text/html": [
       "Find logs at: <code>./wandb/run-20230329_095203-eijkvkj2/logs</code>"
      ],
      "text/plain": [
       "<IPython.core.display.HTML object>"
      ]
     },
     "metadata": {},
     "output_type": "display_data"
    },
    {
     "data": {
      "text/html": [
       "Successfully finished last run (ID:eijkvkj2). Initializing new run:<br/>"
      ],
      "text/plain": [
       "<IPython.core.display.HTML object>"
      ]
     },
     "metadata": {},
     "output_type": "display_data"
    },
    {
     "data": {
      "application/vnd.jupyter.widget-view+json": {
       "model_id": "e86ddc644d704542b2e3749899eddc94",
       "version_major": 2,
       "version_minor": 0
      },
      "text/plain": [
       "VBox(children=(Label(value='Waiting for wandb.init()...\\r'), FloatProgress(value=0.016668763694663843, max=1.0…"
      ]
     },
     "metadata": {},
     "output_type": "display_data"
    },
    {
     "data": {
      "text/html": [
       "wandb version 0.14.0 is available!  To upgrade, please run:\n",
       " $ pip install wandb --upgrade"
      ],
      "text/plain": [
       "<IPython.core.display.HTML object>"
      ]
     },
     "metadata": {},
     "output_type": "display_data"
    },
    {
     "data": {
      "text/html": [
       "Tracking run with wandb version 0.13.9"
      ],
      "text/plain": [
       "<IPython.core.display.HTML object>"
      ]
     },
     "metadata": {},
     "output_type": "display_data"
    },
    {
     "data": {
      "text/html": [
       "Run data is saved locally in <code>/home/ken/quantize_models_sandbox/wandb/run-20230329_095315-4lqvl3jz</code>"
      ],
      "text/plain": [
       "<IPython.core.display.HTML object>"
      ]
     },
     "metadata": {},
     "output_type": "display_data"
    },
    {
     "data": {
      "text/html": [
       "Syncing run <strong><a href=\"https://wandb.ai/keio-csg/quantize_resnet_cifar100/runs/4lqvl3jz\" target=\"_blank\">resnet20_quantize_k6_cifar100_original_mixup</a></strong> to <a href=\"https://wandb.ai/keio-csg/quantize_resnet_cifar100\" target=\"_blank\">Weights & Biases</a> (<a href=\"https://wandb.me/run\" target=\"_blank\">docs</a>)<br/>"
      ],
      "text/plain": [
       "<IPython.core.display.HTML object>"
      ]
     },
     "metadata": {},
     "output_type": "display_data"
    },
    {
     "data": {
      "text/html": [
       " View project at <a href=\"https://wandb.ai/keio-csg/quantize_resnet_cifar100\" target=\"_blank\">https://wandb.ai/keio-csg/quantize_resnet_cifar100</a>"
      ],
      "text/plain": [
       "<IPython.core.display.HTML object>"
      ]
     },
     "metadata": {},
     "output_type": "display_data"
    },
    {
     "data": {
      "text/html": [
       " View run at <a href=\"https://wandb.ai/keio-csg/quantize_resnet_cifar100/runs/4lqvl3jz\" target=\"_blank\">https://wandb.ai/keio-csg/quantize_resnet_cifar100/runs/4lqvl3jz</a>"
      ],
      "text/plain": [
       "<IPython.core.display.HTML object>"
      ]
     },
     "metadata": {},
     "output_type": "display_data"
    },
    {
     "name": "stdout",
     "output_type": "stream",
     "text": [
      "current lr 1.00000e-06\n"
     ]
    },
    {
     "data": {
      "application/vnd.jupyter.widget-view+json": {
       "model_id": "3821fe8e021c4583b33316678ff15425",
       "version_major": 2,
       "version_minor": 0
      },
      "text/plain": [
       "  0%|          | 0/49 [00:00<?, ?it/s]"
      ]
     },
     "metadata": {},
     "output_type": "display_data"
    },
    {
     "name": "stdout",
     "output_type": "stream",
     "text": [
      "Test: [0/10]\tTime 0.533 (0.533)\tLoss 5.6234 (5.6234)\tPrec@1 1.465 (1.465)\n",
      " * Prec@1 0.930\n",
      "alpha1 9.999953269958496\n",
      "Best prec1 :  0.9299999993324279\n",
      "current lr 3.34000e-04\n"
     ]
    },
    {
     "data": {
      "application/vnd.jupyter.widget-view+json": {
       "model_id": "5560bf018bc3479cbe15b896aa5f937e",
       "version_major": 2,
       "version_minor": 0
      },
      "text/plain": [
       "  0%|          | 0/49 [00:00<?, ?it/s]"
      ]
     },
     "metadata": {},
     "output_type": "display_data"
    },
    {
     "name": "stdout",
     "output_type": "stream",
     "text": [
      "Test: [0/10]\tTime 0.562 (0.562)\tLoss 3.9808 (3.9808)\tPrec@1 11.133 (11.133)\n",
      " * Prec@1 10.040\n",
      "alpha1 9.983597755432129\n",
      "Best prec1 :  10.040000016784669\n",
      "current lr 6.67000e-04\n"
     ]
    },
    {
     "data": {
      "application/vnd.jupyter.widget-view+json": {
       "model_id": "642b0e5774f04219a54b70b9844b1c2a",
       "version_major": 2,
       "version_minor": 0
      },
      "text/plain": [
       "  0%|          | 0/49 [00:00<?, ?it/s]"
      ]
     },
     "metadata": {},
     "output_type": "display_data"
    },
    {
     "name": "stdout",
     "output_type": "stream",
     "text": [
      "Test: [0/10]\tTime 0.521 (0.521)\tLoss 3.7539 (3.7539)\tPrec@1 14.648 (14.648)\n",
      " * Prec@1 13.390\n",
      "alpha1 9.950971603393555\n",
      "Best prec1 :  13.389999961853027\n",
      "current lr 1.00000e-03\n"
     ]
    },
    {
     "data": {
      "application/vnd.jupyter.widget-view+json": {
       "model_id": "aad9bc00556f40529c3635b2a4d37f79",
       "version_major": 2,
       "version_minor": 0
      },
      "text/plain": [
       "  0%|          | 0/49 [00:00<?, ?it/s]"
      ]
     },
     "metadata": {},
     "output_type": "display_data"
    },
    {
     "name": "stdout",
     "output_type": "stream",
     "text": [
      "Test: [0/10]\tTime 0.479 (0.479)\tLoss 3.6863 (3.6863)\tPrec@1 14.551 (14.551)\n",
      " * Prec@1 14.740\n",
      "alpha1 9.902182579040527\n",
      "Best prec1 :  14.740000006103516\n",
      "current lr 9.99938e-04\n"
     ]
    },
    {
     "data": {
      "application/vnd.jupyter.widget-view+json": {
       "model_id": "c16104e4ca504d0fa5e08dd40063dba8",
       "version_major": 2,
       "version_minor": 0
      },
      "text/plain": [
       "  0%|          | 0/49 [00:00<?, ?it/s]"
      ]
     },
     "metadata": {},
     "output_type": "display_data"
    },
    {
     "name": "stdout",
     "output_type": "stream",
     "text": [
      "Test: [0/10]\tTime 0.502 (0.502)\tLoss 3.4055 (3.4055)\tPrec@1 17.676 (17.676)\n",
      " * Prec@1 18.240\n",
      "alpha1 9.853543281555176\n",
      "Best prec1 :  18.240000009155274\n",
      "current lr 9.99754e-04\n"
     ]
    },
    {
     "data": {
      "application/vnd.jupyter.widget-view+json": {
       "model_id": "15bfad00755f4f3e842321bd1426e0f4",
       "version_major": 2,
       "version_minor": 0
      },
      "text/plain": [
       "  0%|          | 0/49 [00:00<?, ?it/s]"
      ]
     },
     "metadata": {},
     "output_type": "display_data"
    },
    {
     "name": "stdout",
     "output_type": "stream",
     "text": [
      "Test: [0/10]\tTime 0.537 (0.537)\tLoss 3.3337 (3.3337)\tPrec@1 20.020 (20.020)\n",
      " * Prec@1 20.960\n",
      "alpha1 9.805047035217285\n",
      "Best prec1 :  20.95999996948242\n",
      "current lr 9.99445e-04\n"
     ]
    },
    {
     "data": {
      "application/vnd.jupyter.widget-view+json": {
       "model_id": "a0260b47e5314e92a51017b8570db75d",
       "version_major": 2,
       "version_minor": 0
      },
      "text/plain": [
       "  0%|          | 0/49 [00:00<?, ?it/s]"
      ]
     },
     "metadata": {},
     "output_type": "display_data"
    },
    {
     "name": "stdout",
     "output_type": "stream",
     "text": [
      "Test: [0/10]\tTime 0.519 (0.519)\tLoss 3.3050 (3.3050)\tPrec@1 19.922 (19.922)\n",
      " * Prec@1 20.080\n",
      "alpha1 9.75669002532959\n",
      "Best prec1 :  20.95999996948242\n",
      "current lr 9.99014e-04\n"
     ]
    },
    {
     "data": {
      "application/vnd.jupyter.widget-view+json": {
       "model_id": "a9df3d0ea2c5495b8da1b809b74fe007",
       "version_major": 2,
       "version_minor": 0
      },
      "text/plain": [
       "  0%|          | 0/49 [00:00<?, ?it/s]"
      ]
     },
     "metadata": {},
     "output_type": "display_data"
    },
    {
     "name": "stdout",
     "output_type": "stream",
     "text": [
      "Test: [0/10]\tTime 0.482 (0.482)\tLoss 3.1420 (3.1420)\tPrec@1 25.098 (25.098)\n",
      " * Prec@1 23.080\n",
      "alpha1 9.708473205566406\n",
      "Best prec1 :  23.07999992675781\n",
      "current lr 9.98460e-04\n"
     ]
    },
    {
     "data": {
      "application/vnd.jupyter.widget-view+json": {
       "model_id": "f0e6755b54f14102b04b2d1b7753d599",
       "version_major": 2,
       "version_minor": 0
      },
      "text/plain": [
       "  0%|          | 0/49 [00:00<?, ?it/s]"
      ]
     },
     "metadata": {},
     "output_type": "display_data"
    },
    {
     "name": "stdout",
     "output_type": "stream",
     "text": [
      "Test: [0/10]\tTime 0.500 (0.500)\tLoss 3.0679 (3.0679)\tPrec@1 25.098 (25.098)\n",
      " * Prec@1 25.170\n",
      "alpha1 9.660398483276367\n",
      "Best prec1 :  25.170000009155274\n",
      "current lr 9.97783e-04\n"
     ]
    },
    {
     "data": {
      "application/vnd.jupyter.widget-view+json": {
       "model_id": "c40578a41d324dceb24a5ac41c38976f",
       "version_major": 2,
       "version_minor": 0
      },
      "text/plain": [
       "  0%|          | 0/49 [00:00<?, ?it/s]"
      ]
     },
     "metadata": {},
     "output_type": "display_data"
    },
    {
     "name": "stdout",
     "output_type": "stream",
     "text": [
      "Test: [0/10]\tTime 0.460 (0.460)\tLoss 3.0782 (3.0782)\tPrec@1 26.074 (26.074)\n",
      " * Prec@1 24.630\n",
      "alpha1 9.612466812133789\n",
      "Best prec1 :  25.170000009155274\n",
      "current lr 9.96983e-04\n"
     ]
    },
    {
     "data": {
      "application/vnd.jupyter.widget-view+json": {
       "model_id": "916e77abc1514239b043847e95ee2e61",
       "version_major": 2,
       "version_minor": 0
      },
      "text/plain": [
       "  0%|          | 0/49 [00:00<?, ?it/s]"
      ]
     },
     "metadata": {},
     "output_type": "display_data"
    },
    {
     "name": "stdout",
     "output_type": "stream",
     "text": [
      "Test: [0/10]\tTime 0.482 (0.482)\tLoss 2.9588 (2.9588)\tPrec@1 29.785 (29.785)\n",
      " * Prec@1 27.380\n",
      "alpha1 9.564682960510254\n",
      "Best prec1 :  27.380000021362303\n",
      "current lr 9.96061e-04\n"
     ]
    },
    {
     "data": {
      "application/vnd.jupyter.widget-view+json": {
       "model_id": "ce7ff1b4594046cea4cbe2ece7916c64",
       "version_major": 2,
       "version_minor": 0
      },
      "text/plain": [
       "  0%|          | 0/49 [00:00<?, ?it/s]"
      ]
     },
     "metadata": {},
     "output_type": "display_data"
    },
    {
     "name": "stdout",
     "output_type": "stream",
     "text": [
      "Test: [0/10]\tTime 0.460 (0.460)\tLoss 2.8878 (2.8878)\tPrec@1 28.906 (28.906)\n",
      " * Prec@1 28.270\n",
      "alpha1 9.517050743103027\n",
      "Best prec1 :  28.270000048828123\n",
      "current lr 9.95017e-04\n"
     ]
    },
    {
     "data": {
      "application/vnd.jupyter.widget-view+json": {
       "model_id": "66b753861e9c4c95b940c5eb283bc2cc",
       "version_major": 2,
       "version_minor": 0
      },
      "text/plain": [
       "  0%|          | 0/49 [00:00<?, ?it/s]"
      ]
     },
     "metadata": {},
     "output_type": "display_data"
    },
    {
     "name": "stdout",
     "output_type": "stream",
     "text": [
      "Test: [0/10]\tTime 0.488 (0.488)\tLoss 2.8587 (2.8587)\tPrec@1 29.688 (29.688)\n",
      " * Prec@1 28.630\n",
      "alpha1 9.46957015991211\n",
      "Best prec1 :  28.629999978637695\n",
      "current lr 9.93850e-04\n"
     ]
    },
    {
     "data": {
      "application/vnd.jupyter.widget-view+json": {
       "model_id": "f4a5f72789024749916b247b363bed11",
       "version_major": 2,
       "version_minor": 0
      },
      "text/plain": [
       "  0%|          | 0/49 [00:00<?, ?it/s]"
      ]
     },
     "metadata": {},
     "output_type": "display_data"
    },
    {
     "name": "stdout",
     "output_type": "stream",
     "text": [
      "Test: [0/10]\tTime 0.487 (0.487)\tLoss 2.8927 (2.8927)\tPrec@1 28.125 (28.125)\n",
      " * Prec@1 28.610\n",
      "alpha1 9.422245979309082\n",
      "Best prec1 :  28.629999978637695\n",
      "current lr 9.92562e-04\n"
     ]
    },
    {
     "data": {
      "application/vnd.jupyter.widget-view+json": {
       "model_id": "2684915a1f6a4cb983ae09f508eeb077",
       "version_major": 2,
       "version_minor": 0
      },
      "text/plain": [
       "  0%|          | 0/49 [00:00<?, ?it/s]"
      ]
     },
     "metadata": {},
     "output_type": "display_data"
    },
    {
     "name": "stdout",
     "output_type": "stream",
     "text": [
      "Test: [0/10]\tTime 0.505 (0.505)\tLoss 2.8288 (2.8288)\tPrec@1 31.250 (31.250)\n",
      " * Prec@1 28.990\n",
      "alpha1 9.375082015991211\n",
      "Best prec1 :  28.98999994506836\n",
      "current lr 9.91152e-04\n"
     ]
    },
    {
     "data": {
      "application/vnd.jupyter.widget-view+json": {
       "model_id": "c419cc75e890401fae5a12a57cc32f51",
       "version_major": 2,
       "version_minor": 0
      },
      "text/plain": [
       "  0%|          | 0/49 [00:00<?, ?it/s]"
      ]
     },
     "metadata": {},
     "output_type": "display_data"
    },
    {
     "name": "stdout",
     "output_type": "stream",
     "text": [
      "Test: [0/10]\tTime 0.521 (0.521)\tLoss 2.7557 (2.7557)\tPrec@1 31.641 (31.641)\n",
      " * Prec@1 32.000\n",
      "alpha1 9.328080177307129\n",
      "Best prec1 :  32.00000000915527\n",
      "current lr 9.89622e-04\n"
     ]
    },
    {
     "data": {
      "application/vnd.jupyter.widget-view+json": {
       "model_id": "e9c7c742cce64666a99ca470d2c5fb97",
       "version_major": 2,
       "version_minor": 0
      },
      "text/plain": [
       "  0%|          | 0/49 [00:00<?, ?it/s]"
      ]
     },
     "metadata": {},
     "output_type": "display_data"
    },
    {
     "name": "stdout",
     "output_type": "stream",
     "text": [
      "Test: [0/10]\tTime 0.522 (0.522)\tLoss 2.6809 (2.6809)\tPrec@1 33.594 (33.594)\n",
      " * Prec@1 32.890\n",
      "alpha1 9.281245231628418\n",
      "Best prec1 :  32.88999987182617\n",
      "current lr 9.87970e-04\n"
     ]
    },
    {
     "data": {
      "application/vnd.jupyter.widget-view+json": {
       "model_id": "b9df6dc66e32474a996cde67eedf147a",
       "version_major": 2,
       "version_minor": 0
      },
      "text/plain": [
       "  0%|          | 0/49 [00:00<?, ?it/s]"
      ]
     },
     "metadata": {},
     "output_type": "display_data"
    },
    {
     "name": "stdout",
     "output_type": "stream",
     "text": [
      "Test: [0/10]\tTime 0.531 (0.531)\tLoss 2.7343 (2.7343)\tPrec@1 33.594 (33.594)\n",
      " * Prec@1 32.480\n",
      "alpha1 9.234580993652344\n",
      "Best prec1 :  32.88999987182617\n",
      "current lr 9.86199e-04\n"
     ]
    },
    {
     "data": {
      "application/vnd.jupyter.widget-view+json": {
       "model_id": "6c29b2976698466da4dd0ebcd5fe4df8",
       "version_major": 2,
       "version_minor": 0
      },
      "text/plain": [
       "  0%|          | 0/49 [00:00<?, ?it/s]"
      ]
     },
     "metadata": {},
     "output_type": "display_data"
    },
    {
     "name": "stdout",
     "output_type": "stream",
     "text": [
      "Test: [0/10]\tTime 0.464 (0.464)\tLoss 2.5990 (2.5990)\tPrec@1 34.668 (34.668)\n",
      " * Prec@1 34.530\n",
      "alpha1 9.188089370727539\n",
      "Best prec1 :  34.53000010375977\n",
      "current lr 9.84307e-04\n"
     ]
    },
    {
     "data": {
      "application/vnd.jupyter.widget-view+json": {
       "model_id": "c45a5539563c4732af728c8e5a62cd76",
       "version_major": 2,
       "version_minor": 0
      },
      "text/plain": [
       "  0%|          | 0/49 [00:00<?, ?it/s]"
      ]
     },
     "metadata": {},
     "output_type": "display_data"
    },
    {
     "name": "stdout",
     "output_type": "stream",
     "text": [
      "Test: [0/10]\tTime 0.512 (0.512)\tLoss 2.6739 (2.6739)\tPrec@1 34.082 (34.082)\n",
      " * Prec@1 33.340\n",
      "alpha1 9.141775131225586\n",
      "Best prec1 :  34.53000010375977\n",
      "current lr 9.82296e-04\n"
     ]
    },
    {
     "data": {
      "application/vnd.jupyter.widget-view+json": {
       "model_id": "4723c51094044a5caea4fcf641a1b6db",
       "version_major": 2,
       "version_minor": 0
      },
      "text/plain": [
       "  0%|          | 0/49 [00:00<?, ?it/s]"
      ]
     },
     "metadata": {},
     "output_type": "display_data"
    },
    {
     "name": "stdout",
     "output_type": "stream",
     "text": [
      "Test: [0/10]\tTime 0.535 (0.535)\tLoss 2.5697 (2.5697)\tPrec@1 36.523 (36.523)\n",
      " * Prec@1 34.640\n",
      "alpha1 9.095640182495117\n",
      "Best prec1 :  34.6399998840332\n",
      "current lr 9.80167e-04\n"
     ]
    },
    {
     "data": {
      "application/vnd.jupyter.widget-view+json": {
       "model_id": "c6c4087fdbd14771b17f5297c59c8673",
       "version_major": 2,
       "version_minor": 0
      },
      "text/plain": [
       "  0%|          | 0/49 [00:00<?, ?it/s]"
      ]
     },
     "metadata": {},
     "output_type": "display_data"
    },
    {
     "name": "stdout",
     "output_type": "stream",
     "text": [
      "Test: [0/10]\tTime 0.555 (0.555)\tLoss 2.6013 (2.6013)\tPrec@1 35.254 (35.254)\n",
      " * Prec@1 34.820\n",
      "alpha1 9.049688339233398\n",
      "Best prec1 :  34.82000004882813\n",
      "current lr 9.77919e-04\n"
     ]
    },
    {
     "data": {
      "application/vnd.jupyter.widget-view+json": {
       "model_id": "bcce3a8c234947b2b1b40e0e15504574",
       "version_major": 2,
       "version_minor": 0
      },
      "text/plain": [
       "  0%|          | 0/49 [00:00<?, ?it/s]"
      ]
     },
     "metadata": {},
     "output_type": "display_data"
    },
    {
     "name": "stdout",
     "output_type": "stream",
     "text": [
      "Test: [0/10]\tTime 0.486 (0.486)\tLoss 2.5080 (2.5080)\tPrec@1 37.305 (37.305)\n",
      " * Prec@1 36.090\n",
      "alpha1 9.003924369812012\n",
      "Best prec1 :  36.0900000793457\n",
      "current lr 9.75553e-04\n"
     ]
    },
    {
     "data": {
      "application/vnd.jupyter.widget-view+json": {
       "model_id": "8f3454ba231547f38855ed67e4389365",
       "version_major": 2,
       "version_minor": 0
      },
      "text/plain": [
       "  0%|          | 0/49 [00:00<?, ?it/s]"
      ]
     },
     "metadata": {},
     "output_type": "display_data"
    },
    {
     "name": "stdout",
     "output_type": "stream",
     "text": [
      "Test: [0/10]\tTime 0.468 (0.468)\tLoss 2.4792 (2.4792)\tPrec@1 38.379 (38.379)\n",
      " * Prec@1 37.700\n",
      "alpha1 8.958351135253906\n",
      "Best prec1 :  37.69999993286133\n",
      "current lr 9.73070e-04\n"
     ]
    },
    {
     "data": {
      "application/vnd.jupyter.widget-view+json": {
       "model_id": "f937d9dab9484bb8bcfba4a587cf93bb",
       "version_major": 2,
       "version_minor": 0
      },
      "text/plain": [
       "  0%|          | 0/49 [00:00<?, ?it/s]"
      ]
     },
     "metadata": {},
     "output_type": "display_data"
    },
    {
     "name": "stdout",
     "output_type": "stream",
     "text": [
      "Test: [0/10]\tTime 0.520 (0.520)\tLoss 2.4352 (2.4352)\tPrec@1 38.965 (38.965)\n",
      " * Prec@1 38.200\n",
      "alpha1 8.91297435760498\n",
      "Best prec1 :  38.19999983520508\n",
      "current lr 9.70470e-04\n"
     ]
    },
    {
     "data": {
      "application/vnd.jupyter.widget-view+json": {
       "model_id": "0e11b96b88f3408cbae0a3a5ba583070",
       "version_major": 2,
       "version_minor": 0
      },
      "text/plain": [
       "  0%|          | 0/49 [00:00<?, ?it/s]"
      ]
     },
     "metadata": {},
     "output_type": "display_data"
    },
    {
     "name": "stdout",
     "output_type": "stream",
     "text": [
      "Test: [0/10]\tTime 0.479 (0.479)\tLoss 2.4999 (2.4999)\tPrec@1 36.328 (36.328)\n",
      " * Prec@1 35.880\n",
      "alpha1 8.867796897888184\n",
      "Best prec1 :  38.19999983520508\n",
      "current lr 9.67754e-04\n"
     ]
    },
    {
     "data": {
      "application/vnd.jupyter.widget-view+json": {
       "model_id": "4deccf39b59f49fa9fe90d64f4617ca4",
       "version_major": 2,
       "version_minor": 0
      },
      "text/plain": [
       "  0%|          | 0/49 [00:00<?, ?it/s]"
      ]
     },
     "metadata": {},
     "output_type": "display_data"
    },
    {
     "name": "stdout",
     "output_type": "stream",
     "text": [
      "Test: [0/10]\tTime 0.538 (0.538)\tLoss 2.4107 (2.4107)\tPrec@1 39.258 (39.258)\n",
      " * Prec@1 38.520\n",
      "alpha1 8.822818756103516\n",
      "Best prec1 :  38.51999985351563\n",
      "current lr 9.64923e-04\n"
     ]
    },
    {
     "data": {
      "application/vnd.jupyter.widget-view+json": {
       "model_id": "30ef737036854677abd5c0bd18b8fa9a",
       "version_major": 2,
       "version_minor": 0
      },
      "text/plain": [
       "  0%|          | 0/49 [00:00<?, ?it/s]"
      ]
     },
     "metadata": {},
     "output_type": "display_data"
    },
    {
     "name": "stdout",
     "output_type": "stream",
     "text": [
      "Test: [0/10]\tTime 0.549 (0.549)\tLoss 2.3847 (2.3847)\tPrec@1 39.551 (39.551)\n",
      " * Prec@1 38.750\n",
      "alpha1 8.778043746948242\n",
      "Best prec1 :  38.74999999389649\n",
      "current lr 9.61978e-04\n"
     ]
    },
    {
     "data": {
      "application/vnd.jupyter.widget-view+json": {
       "model_id": "aef093f61c7941a189e19a6ef1c1bb46",
       "version_major": 2,
       "version_minor": 0
      },
      "text/plain": [
       "  0%|          | 0/49 [00:00<?, ?it/s]"
      ]
     },
     "metadata": {},
     "output_type": "display_data"
    },
    {
     "name": "stdout",
     "output_type": "stream",
     "text": [
      "Test: [0/10]\tTime 0.501 (0.501)\tLoss 2.4250 (2.4250)\tPrec@1 39.648 (39.648)\n",
      " * Prec@1 39.010\n",
      "alpha1 8.733481407165527\n",
      "Best prec1 :  39.00999994506836\n",
      "current lr 9.58918e-04\n"
     ]
    },
    {
     "data": {
      "application/vnd.jupyter.widget-view+json": {
       "model_id": "5d7f9eabb76d409db6c5ccb323a59280",
       "version_major": 2,
       "version_minor": 0
      },
      "text/plain": [
       "  0%|          | 0/49 [00:00<?, ?it/s]"
      ]
     },
     "metadata": {},
     "output_type": "display_data"
    },
    {
     "name": "stdout",
     "output_type": "stream",
     "text": [
      "Test: [0/10]\tTime 0.511 (0.511)\tLoss 2.4038 (2.4038)\tPrec@1 39.746 (39.746)\n",
      " * Prec@1 39.350\n",
      "alpha1 8.68912410736084\n",
      "Best prec1 :  39.35000001220703\n",
      "current lr 9.55746e-04\n"
     ]
    },
    {
     "data": {
      "application/vnd.jupyter.widget-view+json": {
       "model_id": "680bb3577c1f4f34bb5d77904561c9ee",
       "version_major": 2,
       "version_minor": 0
      },
      "text/plain": [
       "  0%|          | 0/49 [00:00<?, ?it/s]"
      ]
     },
     "metadata": {},
     "output_type": "display_data"
    },
    {
     "name": "stdout",
     "output_type": "stream",
     "text": [
      "Test: [0/10]\tTime 0.530 (0.530)\tLoss 2.3086 (2.3086)\tPrec@1 40.723 (40.723)\n",
      " * Prec@1 40.560\n",
      "alpha1 8.64498519897461\n",
      "Best prec1 :  40.55999993896484\n",
      "current lr 9.52461e-04\n"
     ]
    },
    {
     "data": {
      "application/vnd.jupyter.widget-view+json": {
       "model_id": "cefab99914d544f8a4e58d33a49a022b",
       "version_major": 2,
       "version_minor": 0
      },
      "text/plain": [
       "  0%|          | 0/49 [00:00<?, ?it/s]"
      ]
     },
     "metadata": {},
     "output_type": "display_data"
    },
    {
     "name": "stdout",
     "output_type": "stream",
     "text": [
      "Test: [0/10]\tTime 0.584 (0.584)\tLoss 2.3330 (2.3330)\tPrec@1 39.258 (39.258)\n",
      " * Prec@1 40.040\n",
      "alpha1 8.60106372833252\n",
      "Best prec1 :  40.55999993896484\n",
      "current lr 9.49065e-04\n"
     ]
    },
    {
     "data": {
      "application/vnd.jupyter.widget-view+json": {
       "model_id": "c3ff4d7939584e2b9b0bbb9f36560339",
       "version_major": 2,
       "version_minor": 0
      },
      "text/plain": [
       "  0%|          | 0/49 [00:00<?, ?it/s]"
      ]
     },
     "metadata": {},
     "output_type": "display_data"
    },
    {
     "name": "stdout",
     "output_type": "stream",
     "text": [
      "Test: [0/10]\tTime 0.504 (0.504)\tLoss 2.2896 (2.2896)\tPrec@1 42.773 (42.773)\n",
      " * Prec@1 41.110\n",
      "alpha1 8.557357788085938\n",
      "Best prec1 :  41.109999963378904\n",
      "current lr 9.45558e-04\n"
     ]
    },
    {
     "data": {
      "application/vnd.jupyter.widget-view+json": {
       "model_id": "054891502ec4408bb31e6458c4cefd2b",
       "version_major": 2,
       "version_minor": 0
      },
      "text/plain": [
       "  0%|          | 0/49 [00:00<?, ?it/s]"
      ]
     },
     "metadata": {},
     "output_type": "display_data"
    },
    {
     "name": "stdout",
     "output_type": "stream",
     "text": [
      "Test: [0/10]\tTime 0.488 (0.488)\tLoss 2.3507 (2.3507)\tPrec@1 40.723 (40.723)\n",
      " * Prec@1 40.430\n",
      "alpha1 8.513877868652344\n",
      "Best prec1 :  41.109999963378904\n",
      "current lr 9.41941e-04\n"
     ]
    },
    {
     "data": {
      "application/vnd.jupyter.widget-view+json": {
       "model_id": "d0cbbe7a39f24a25967007c1e43bee8f",
       "version_major": 2,
       "version_minor": 0
      },
      "text/plain": [
       "  0%|          | 0/49 [00:00<?, ?it/s]"
      ]
     },
     "metadata": {},
     "output_type": "display_data"
    },
    {
     "name": "stdout",
     "output_type": "stream",
     "text": [
      "Test: [0/10]\tTime 0.514 (0.514)\tLoss 2.2581 (2.2581)\tPrec@1 42.773 (42.773)\n",
      " * Prec@1 42.230\n",
      "alpha1 8.470626831054688\n",
      "Best prec1 :  42.22999992675781\n",
      "current lr 9.38215e-04\n"
     ]
    },
    {
     "data": {
      "application/vnd.jupyter.widget-view+json": {
       "model_id": "8d0ec37c7f4f429392f721e4ba4fa99c",
       "version_major": 2,
       "version_minor": 0
      },
      "text/plain": [
       "  0%|          | 0/49 [00:00<?, ?it/s]"
      ]
     },
     "metadata": {},
     "output_type": "display_data"
    },
    {
     "name": "stdout",
     "output_type": "stream",
     "text": [
      "Test: [0/10]\tTime 0.519 (0.519)\tLoss 2.2628 (2.2628)\tPrec@1 42.188 (42.188)\n",
      " * Prec@1 41.810\n",
      "alpha1 8.427605628967285\n",
      "Best prec1 :  42.22999992675781\n",
      "current lr 9.34381e-04\n"
     ]
    },
    {
     "data": {
      "application/vnd.jupyter.widget-view+json": {
       "model_id": "c0da21a343244bd78f8c00e8b75b4e84",
       "version_major": 2,
       "version_minor": 0
      },
      "text/plain": [
       "  0%|          | 0/49 [00:00<?, ?it/s]"
      ]
     },
     "metadata": {},
     "output_type": "display_data"
    },
    {
     "name": "stdout",
     "output_type": "stream",
     "text": [
      "Test: [0/10]\tTime 0.532 (0.532)\tLoss 2.2810 (2.2810)\tPrec@1 42.090 (42.090)\n",
      " * Prec@1 42.080\n",
      "alpha1 8.384818077087402\n",
      "Best prec1 :  42.22999992675781\n",
      "current lr 9.30441e-04\n"
     ]
    },
    {
     "data": {
      "application/vnd.jupyter.widget-view+json": {
       "model_id": "9988fa3d98e74b11bbb9985e4a4ee97b",
       "version_major": 2,
       "version_minor": 0
      },
      "text/plain": [
       "  0%|          | 0/49 [00:00<?, ?it/s]"
      ]
     },
     "metadata": {},
     "output_type": "display_data"
    },
    {
     "name": "stdout",
     "output_type": "stream",
     "text": [
      "Test: [0/10]\tTime 0.505 (0.505)\tLoss 2.2311 (2.2311)\tPrec@1 42.871 (42.871)\n",
      " * Prec@1 43.390\n",
      "alpha1 8.342265129089355\n",
      "Best prec1 :  43.389999896240234\n",
      "current lr 9.26394e-04\n"
     ]
    },
    {
     "data": {
      "application/vnd.jupyter.widget-view+json": {
       "model_id": "f20c023ad08341fe91b26df5f76d32f9",
       "version_major": 2,
       "version_minor": 0
      },
      "text/plain": [
       "  0%|          | 0/49 [00:00<?, ?it/s]"
      ]
     },
     "metadata": {},
     "output_type": "display_data"
    },
    {
     "name": "stdout",
     "output_type": "stream",
     "text": [
      "Test: [0/10]\tTime 0.533 (0.533)\tLoss 2.1695 (2.1695)\tPrec@1 45.215 (45.215)\n",
      " * Prec@1 43.550\n",
      "alpha1 8.29995059967041\n",
      "Best prec1 :  43.54999995727539\n",
      "current lr 9.22242e-04\n"
     ]
    },
    {
     "data": {
      "application/vnd.jupyter.widget-view+json": {
       "model_id": "ca1fc1f60c214d17bf6335974263e91b",
       "version_major": 2,
       "version_minor": 0
      },
      "text/plain": [
       "  0%|          | 0/49 [00:00<?, ?it/s]"
      ]
     },
     "metadata": {},
     "output_type": "display_data"
    },
    {
     "name": "stdout",
     "output_type": "stream",
     "text": [
      "Test: [0/10]\tTime 0.532 (0.532)\tLoss 2.1737 (2.1737)\tPrec@1 45.117 (45.117)\n",
      " * Prec@1 43.390\n",
      "alpha1 8.257877349853516\n",
      "Best prec1 :  43.54999995727539\n",
      "current lr 9.17986e-04\n"
     ]
    },
    {
     "data": {
      "application/vnd.jupyter.widget-view+json": {
       "model_id": "be828c491e164acfb41e4f8aa6ac50d4",
       "version_major": 2,
       "version_minor": 0
      },
      "text/plain": [
       "  0%|          | 0/49 [00:00<?, ?it/s]"
      ]
     },
     "metadata": {},
     "output_type": "display_data"
    },
    {
     "name": "stdout",
     "output_type": "stream",
     "text": [
      "Test: [0/10]\tTime 0.498 (0.498)\tLoss 2.2128 (2.2128)\tPrec@1 43.848 (43.848)\n",
      " * Prec@1 43.120\n",
      "alpha1 8.216047286987305\n",
      "Best prec1 :  43.54999995727539\n",
      "current lr 9.13627e-04\n"
     ]
    },
    {
     "data": {
      "application/vnd.jupyter.widget-view+json": {
       "model_id": "75a2a45f437a47ce879ce20ac8ac5775",
       "version_major": 2,
       "version_minor": 0
      },
      "text/plain": [
       "  0%|          | 0/49 [00:00<?, ?it/s]"
      ]
     },
     "metadata": {},
     "output_type": "display_data"
    },
    {
     "name": "stdout",
     "output_type": "stream",
     "text": [
      "Test: [0/10]\tTime 0.549 (0.549)\tLoss 2.1965 (2.1965)\tPrec@1 43.848 (43.848)\n",
      " * Prec@1 43.290\n",
      "alpha1 8.174466133117676\n",
      "Best prec1 :  43.54999995727539\n",
      "current lr 9.09166e-04\n"
     ]
    },
    {
     "data": {
      "application/vnd.jupyter.widget-view+json": {
       "model_id": "f7bc52f27b19492590b30ff760695eae",
       "version_major": 2,
       "version_minor": 0
      },
      "text/plain": [
       "  0%|          | 0/49 [00:00<?, ?it/s]"
      ]
     },
     "metadata": {},
     "output_type": "display_data"
    },
    {
     "name": "stdout",
     "output_type": "stream",
     "text": [
      "Test: [0/10]\tTime 0.476 (0.476)\tLoss 2.1711 (2.1711)\tPrec@1 45.312 (45.312)\n",
      " * Prec@1 44.360\n",
      "alpha1 8.133134841918945\n",
      "Best prec1 :  44.36000007324219\n",
      "current lr 9.04604e-04\n"
     ]
    },
    {
     "data": {
      "application/vnd.jupyter.widget-view+json": {
       "model_id": "4cec3510e18343eaa64a172ebaf04c1f",
       "version_major": 2,
       "version_minor": 0
      },
      "text/plain": [
       "  0%|          | 0/49 [00:00<?, ?it/s]"
      ]
     },
     "metadata": {},
     "output_type": "display_data"
    }
   ],
   "source": [
    "from timm.scheduler import CosineLRScheduler\n",
    "\n",
    "for k in range(6,9):\n",
    "    if MOD == \"resnet18\" or MOD==\"resnet20\":\n",
    "        net = resnet20(k=k)\n",
    "    elif MOD==\"resnet34\":\n",
    "        net = resnet34(k=k)\n",
    "\n",
    "    model = net.to(device)\n",
    "\n",
    "    # Track experiment with wandb\n",
    "    import wandb\n",
    "    watermark = \"{}_quantize_k{}_cifar100_original\".format(MOD, k)\n",
    "    if mixup:\n",
    "        watermark += \"_mixup\"\n",
    "\n",
    "    # mess with wandb\n",
    "    wandb.init(project=\"quantize_resnet_cifar100\", name=watermark)\n",
    "\n",
    "    # optimizer for pact\n",
    "    optimizer = torch.optim.Adam(model.parameters(), lr=1e-3)\n",
    "\n",
    "    scheduler = CosineLRScheduler(optimizer, t_initial=n_epochs, lr_min=1e-6, \n",
    "                          warmup_t=3, warmup_lr_init=1e-6, warmup_prefix=True)\n",
    "\n",
    "    best_prec1 = 0\n",
    "    os.makedirs(\"models\", exist_ok=True)\n",
    "\n",
    "    for epoch in range(n_epochs):\n",
    "        scheduler.step(epoch)\n",
    "        # train for one epoch\n",
    "        print('current lr {:.5e}'.format(optimizer.param_groups[0]['lr']))\n",
    "        tloss = train(train_loader, model, optimizer, epoch)         \n",
    "\n",
    "        # evaluate on validation set\n",
    "        prec1, valloss = validate(val_loader, model)\n",
    "\n",
    "        # wandb\n",
    "        wandb.log({'epoch': epoch, \"prec\":prec1, \"train_loss\": tloss, 'val_loss': valloss, \"lr\": optimizer.param_groups[0][\"lr\"],})\n",
    "\n",
    "        # remember best prec@1 and save checkpoint\n",
    "        is_best = prec1 > best_prec1\n",
    "        best_prec1 = max(prec1, best_prec1)\n",
    "\n",
    "        print(\"Best prec1 : \", best_prec1)\n",
    "        if is_best:\n",
    "            torch.save(model.state_dict(), os.path.join(f'models/{watermark}.pth'))"
   ]
  },
  {
   "cell_type": "code",
   "execution_count": null,
   "id": "bcba9662",
   "metadata": {},
   "outputs": [],
   "source": []
  }
 ],
 "metadata": {
  "kernelspec": {
   "display_name": "Python 3 (ipykernel)",
   "language": "python",
   "name": "python3"
  },
  "language_info": {
   "codemirror_mode": {
    "name": "ipython",
    "version": 3
   },
   "file_extension": ".py",
   "mimetype": "text/x-python",
   "name": "python",
   "nbconvert_exporter": "python",
   "pygments_lexer": "ipython3",
   "version": "3.8.16"
  }
 },
 "nbformat": 4,
 "nbformat_minor": 5
}
