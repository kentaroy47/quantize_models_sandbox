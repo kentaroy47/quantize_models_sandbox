{
 "cells": [
  {
   "cell_type": "markdown",
   "id": "65b5a174",
   "metadata": {},
   "source": [
    "# ViT CIFAR-10\n",
    "load timm ViT and retrain on CIFAR 10"
   ]
  },
  {
   "cell_type": "code",
   "execution_count": 1,
   "id": "3cdfa9b0",
   "metadata": {},
   "outputs": [],
   "source": [
    "NOQUANT_TRAIN = False"
   ]
  },
  {
   "cell_type": "code",
   "execution_count": 2,
   "id": "e95ac49f",
   "metadata": {},
   "outputs": [],
   "source": [
    "import argparse\n",
    "import os\n",
    "import shutil\n",
    "import time\n",
    "import pandas as pd\n",
    "import matplotlib.pyplot as plt\n",
    "\n",
    "from tqdm.notebook import tqdm\n",
    "import time\n",
    "import numpy as np\n",
    "import pandas as pd\n",
    "import cv2\n",
    "import torch\n",
    "import torch.nn as nn\n",
    "import torch.nn.functional as F\n",
    "import torch.optim as optim\n",
    "from torch.optim import lr_scheduler\n",
    "from torch.utils.data import DataLoader, Dataset\n",
    "from torch.utils.data.sampler import SubsetRandomSampler, RandomSampler, SequentialSampler\n",
    "from torch.optim.lr_scheduler import CosineAnnealingWarmRestarts, CosineAnnealingLR, ReduceLROnPlateau\n",
    "\n",
    "DATA_DIR = \"train\"\n",
    "print_freq = 50\n",
    "\n",
    "# vit imsize\n",
    "imsize = 224"
   ]
  },
  {
   "cell_type": "code",
   "execution_count": 3,
   "id": "91238a6e",
   "metadata": {},
   "outputs": [
    {
     "data": {
      "text/html": [
       "<div>\n",
       "<style scoped>\n",
       "    .dataframe tbody tr th:only-of-type {\n",
       "        vertical-align: middle;\n",
       "    }\n",
       "\n",
       "    .dataframe tbody tr th {\n",
       "        vertical-align: top;\n",
       "    }\n",
       "\n",
       "    .dataframe thead th {\n",
       "        text-align: right;\n",
       "    }\n",
       "</style>\n",
       "<table border=\"1\" class=\"dataframe\">\n",
       "  <thead>\n",
       "    <tr style=\"text-align: right;\">\n",
       "      <th></th>\n",
       "      <th>id</th>\n",
       "      <th>label</th>\n",
       "      <th>label_enc</th>\n",
       "      <th>fold</th>\n",
       "    </tr>\n",
       "  </thead>\n",
       "  <tbody>\n",
       "    <tr>\n",
       "      <th>0</th>\n",
       "      <td>1</td>\n",
       "      <td>frog</td>\n",
       "      <td>6</td>\n",
       "      <td>1</td>\n",
       "    </tr>\n",
       "    <tr>\n",
       "      <th>1</th>\n",
       "      <td>2</td>\n",
       "      <td>truck</td>\n",
       "      <td>9</td>\n",
       "      <td>1</td>\n",
       "    </tr>\n",
       "    <tr>\n",
       "      <th>2</th>\n",
       "      <td>3</td>\n",
       "      <td>truck</td>\n",
       "      <td>9</td>\n",
       "      <td>2</td>\n",
       "    </tr>\n",
       "    <tr>\n",
       "      <th>3</th>\n",
       "      <td>4</td>\n",
       "      <td>deer</td>\n",
       "      <td>4</td>\n",
       "      <td>1</td>\n",
       "    </tr>\n",
       "    <tr>\n",
       "      <th>4</th>\n",
       "      <td>5</td>\n",
       "      <td>automobile</td>\n",
       "      <td>1</td>\n",
       "      <td>2</td>\n",
       "    </tr>\n",
       "  </tbody>\n",
       "</table>\n",
       "</div>"
      ],
      "text/plain": [
       "   id       label  label_enc  fold\n",
       "0   1        frog          6     1\n",
       "1   2       truck          9     1\n",
       "2   3       truck          9     2\n",
       "3   4        deer          4     1\n",
       "4   5  automobile          1     2"
      ]
     },
     "execution_count": 3,
     "metadata": {},
     "output_type": "execute_result"
    }
   ],
   "source": [
    "# prepare labels\n",
    "train_df = pd.read_csv(\"trainLabels.csv\")\n",
    "from sklearn.preprocessing import LabelEncoder\n",
    "le = LabelEncoder()\n",
    "train_df['label_enc'] = le.fit_transform(train_df['label'])\n",
    "\n",
    "# 5-fold\n",
    "from sklearn.model_selection import StratifiedKFold\n",
    "skf = StratifiedKFold(n_splits=5, shuffle=True, random_state=42)\n",
    "\n",
    "train_df[\"fold\"] = -1\n",
    "for i, (train_index, test_index) in enumerate(skf.split(train_df.id, train_df.label_enc)):\n",
    "    train_df.loc[test_index, 'fold'] = i\n",
    "train_df.head()"
   ]
  },
  {
   "cell_type": "code",
   "execution_count": 4,
   "id": "44be87f4",
   "metadata": {},
   "outputs": [],
   "source": [
    "class cifarDataset(Dataset):\n",
    "    def __init__(self,\n",
    "                 df,\n",
    "                 rand=False,\n",
    "                 transform=None,\n",
    "                 test=False\n",
    "                ):\n",
    "\n",
    "        self.df = df.reset_index(drop=True)\n",
    "        self.rand = rand\n",
    "        self.transform = transform\n",
    "        self.test = test\n",
    "\n",
    "    def __len__(self):\n",
    "        return self.df.shape[0]\n",
    "\n",
    "    def __getitem__(self, index):\n",
    "        row = self.df.iloc[index]\n",
    "        img_id = row.id\n",
    "        \n",
    "        images = cv2.imread(os.path.join(DATA_DIR, str(img_id)+\".png\"))\n",
    "        \n",
    "        # Load labels\n",
    "        label = row.label_enc\n",
    "        \n",
    "        # aug\n",
    "        if self.transform is not None:\n",
    "            images = self.transform(image=images)['image']\n",
    "              \n",
    "        #images = images.astype(np.float32)\n",
    "        #images /= 255\n",
    "        images = images.transpose(2, 0, 1)\n",
    "        \n",
    "        label = label.astype(np.float32)\n",
    "        #label2 = label2.astype(np.float32)\n",
    "        return torch.tensor(images), torch.tensor(label),"
   ]
  },
  {
   "cell_type": "code",
   "execution_count": 5,
   "id": "cd5517a6",
   "metadata": {},
   "outputs": [
    {
     "name": "stderr",
     "output_type": "stream",
     "text": [
      "/home/ken/anaconda3/envs/pytorch_p38/lib/python3.8/site-packages/albumentations/augmentations/dropout/cutout.py:50: FutureWarning: Cutout has been deprecated. Please use CoarseDropout\n",
      "  warnings.warn(\n"
     ]
    }
   ],
   "source": [
    "import albumentations as A\n",
    "import albumentations\n",
    "\n",
    "transforms_train = albumentations.Compose([\n",
    "    albumentations.ShiftScaleRotate(scale_limit=0.3, rotate_limit=180,p=0.5),\n",
    "    A.Cutout(num_holes=12, max_h_size=4, max_w_size=4, fill_value=0, p=0.5),\n",
    "    #albumentations.Rotate(p=0.5),\n",
    "    #albumentations.Transpose(p=0.5),\n",
    "    #albumentations.VerticalFlip(p=0.5),\n",
    "    albumentations.HorizontalFlip(p=0.5),   \n",
    "    albumentations.Resize(imsize, imsize, p=1.0), \n",
    "    albumentations.Normalize(mean=(0.485, 0.456, 0.406),\n",
    "                       std=(0.229, 0.224, 0.225), p=1),\n",
    "])\n",
    "\n",
    "transforms_val = albumentations.Compose([albumentations.Resize(imsize, imsize, p=1.0),\n",
    "                                         albumentations.Normalize(mean=(0.485, 0.456, 0.406),\n",
    "                       std=(0.229, 0.224, 0.225), p=1),])"
   ]
  },
  {
   "cell_type": "code",
   "execution_count": 6,
   "id": "e3726718",
   "metadata": {
    "scrolled": true
   },
   "outputs": [
    {
     "name": "stderr",
     "output_type": "stream",
     "text": [
      "Clipping input data to the valid range for imshow with RGB data ([0..1] for floats or [0..255] for integers).\n",
      "Clipping input data to the valid range for imshow with RGB data ([0..1] for floats or [0..255] for integers).\n",
      "Clipping input data to the valid range for imshow with RGB data ([0..1] for floats or [0..255] for integers).\n",
      "Clipping input data to the valid range for imshow with RGB data ([0..1] for floats or [0..255] for integers).\n",
      "Clipping input data to the valid range for imshow with RGB data ([0..1] for floats or [0..255] for integers).\n",
      "Clipping input data to the valid range for imshow with RGB data ([0..1] for floats or [0..255] for integers).\n",
      "Clipping input data to the valid range for imshow with RGB data ([0..1] for floats or [0..255] for integers).\n",
      "Clipping input data to the valid range for imshow with RGB data ([0..1] for floats or [0..255] for integers).\n",
      "Clipping input data to the valid range for imshow with RGB data ([0..1] for floats or [0..255] for integers).\n",
      "Clipping input data to the valid range for imshow with RGB data ([0..1] for floats or [0..255] for integers).\n",
      "Clipping input data to the valid range for imshow with RGB data ([0..1] for floats or [0..255] for integers).\n",
      "Clipping input data to the valid range for imshow with RGB data ([0..1] for floats or [0..255] for integers).\n",
      "Clipping input data to the valid range for imshow with RGB data ([0..1] for floats or [0..255] for integers).\n",
      "Clipping input data to the valid range for imshow with RGB data ([0..1] for floats or [0..255] for integers).\n",
      "Clipping input data to the valid range for imshow with RGB data ([0..1] for floats or [0..255] for integers).\n"
     ]
    },
    {
     "data": {
      "image/png": "[encoded data removed]",
      "text/plain": [
       "<Figure size 432x288 with 5 Axes>"
      ]
     },
     "metadata": {
      "needs_background": "light"
     },
     "output_type": "display_data"
    },
    {
     "data": {
      "image/png": "[encoded data removed]",
      "text/plain": [
       "<Figure size 432x288 with 5 Axes>"
      ]
     },
     "metadata": {
      "needs_background": "light"
     },
     "output_type": "display_data"
    },
    {
     "data": {
      "image/png": "[encoded data removed]",
      "text/plain": [
       "<Figure size 432x288 with 5 Axes>"
      ]
     },
     "metadata": {
      "needs_background": "light"
     },
     "output_type": "display_data"
    }
   ],
   "source": [
    "dataset_show = cifarDataset(train_df, transform=transforms_train)\n",
    "from pylab import rcParams\n",
    "rcParams['figure.figsize'] = 20,10\n",
    "for i in range(3):\n",
    "    f, axarr = plt.subplots(1,5)\n",
    "    for p in range(5):\n",
    "        idx = np.random.randint(0, len(dataset_show))\n",
    "        img, label = dataset_show[idx]\n",
    "        img = img.flip(0) #BGR2RGB\n",
    "        axarr[p].imshow(img.transpose(0,1).transpose(1,2))\n",
    "        axarr[p].set_title(str(label))\n",
    "plt.show()"
   ]
  },
  {
   "cell_type": "code",
   "execution_count": 7,
   "id": "be374443",
   "metadata": {},
   "outputs": [],
   "source": [
    "scaler = torch.cuda.amp.GradScaler(enabled=True)\n",
    "def train(train_loader, model, criterion, optimizer, epoch):\n",
    "    \"\"\"\n",
    "        Run one train epoch\n",
    "    \"\"\"\n",
    "    batch_time = AverageMeter()\n",
    "    data_time = AverageMeter()\n",
    "    losses = AverageMeter()\n",
    "    top1 = AverageMeter()\n",
    "\n",
    "    # switch to train mode\n",
    "    model.train()\n",
    "\n",
    "    end = time.time()\n",
    "    lambda_alpha = 0.002\n",
    "    for i, (input, target) in enumerate(tqdm(train_loader)):\n",
    "        # measure data loading time\n",
    "        data_time.update(time.time() - end)\n",
    "        target2 = target\n",
    "\n",
    "        target = target.long().cuda()\n",
    "        target2 = target2.long().cuda()\n",
    "        input_var = input.cuda()\n",
    "        target_var = target\n",
    "\n",
    "        if not mixup:\n",
    "          alpha = 0\n",
    "        else:\n",
    "          alpha = 1\n",
    "        \n",
    "\n",
    "        # compute output\n",
    "        with torch.cuda.amp.autocast(enabled=True):\n",
    "            output = model(input_var)\n",
    "            loss = criterion(output, target_var)\n",
    "        scaler.scale(loss).backward()\n",
    "        scaler.step(optimizer)\n",
    "        scaler.update()\n",
    "        optimizer.zero_grad()\n",
    "\n",
    "        output = output.float()\n",
    "        loss = loss.float()\n",
    "        # measure accuracy and record loss\n",
    "        prec1 = accuracy(output.data, target)[0]\n",
    "        losses.update(loss.item(), input.size(0))\n",
    "        top1.update(prec1.item(), input.size(0))\n",
    "\n",
    "        # measure elapsed time\n",
    "        batch_time.update(time.time() - end)\n",
    "        end = time.time()\n",
    "\n",
    "        if i % print_freq == 0:\n",
    "            print('Epoch: [{0}][{1}/{2}]\\t'\n",
    "                  'Time {batch_time.val:.3f} ({batch_time.avg:.3f})\\t'\n",
    "                  'Data {data_time.val:.3f} ({data_time.avg:.3f})\\t'\n",
    "                  'Loss {loss.val:.4f} ({loss.avg:.4f})\\t'\n",
    "                  'Prec@1 {top1.val:.3f} ({top1.avg:.3f})'.format(\n",
    "                      epoch, i, len(train_loader), batch_time=batch_time,\n",
    "                      data_time=data_time, loss=losses, top1=top1))\n",
    "    return losses.avg\n",
    "\n",
    "def validate(val_loader, model, criterion):\n",
    "    \"\"\"\n",
    "    Run evaluation\n",
    "    \"\"\"\n",
    "    batch_time = AverageMeter()\n",
    "    losses = AverageMeter()\n",
    "    top1 = AverageMeter()\n",
    "\n",
    "    # switch to evaluate mode\n",
    "    model.eval()\n",
    "\n",
    "    end = time.time()\n",
    "    with torch.no_grad():\n",
    "        for i, (input, target) in enumerate(val_loader):\n",
    "            target = target.long().cuda()\n",
    "            input_var = input.cuda()\n",
    "            target_var = target.cuda()\n",
    "\n",
    "            # compute output\n",
    "            output = model(input_var)\n",
    "            loss = criterion(output, target_var)\n",
    "\n",
    "            output = output.float()\n",
    "            loss = loss.float()\n",
    "\n",
    "            # measure accuracy and record loss\n",
    "            prec1 = accuracy(output.data, target)[0]\n",
    "            losses.update(loss.item(), input.size(0))\n",
    "            top1.update(prec1.item(), input.size(0))\n",
    "\n",
    "            # measure elapsed time\n",
    "            batch_time.update(time.time() - end)\n",
    "            end = time.time()\n",
    "\n",
    "            if i % print_freq == 0:\n",
    "                print('Test: [{0}/{1}]\\t'\n",
    "                      'Time {batch_time.val:.3f} ({batch_time.avg:.3f})\\t'\n",
    "                      'Loss {loss.val:.4f} ({loss.avg:.4f})\\t'\n",
    "                      'Prec@1 {top1.val:.3f} ({top1.avg:.3f})'.format(\n",
    "                          i, len(val_loader), batch_time=batch_time, loss=losses,\n",
    "                          top1=top1))\n",
    "\n",
    "    print(' * Prec@1 {top1.avg:.3f}'\n",
    "          .format(top1=top1))\n",
    "    return top1.avg, losses.avg\n",
    "\n",
    "def save_checkpoint(state, filename='checkpoint.pth'):\n",
    "    \"\"\"\n",
    "    Save the training model\n",
    "    \"\"\"\n",
    "    torch.save(state, filename)\n",
    "\n",
    "class AverageMeter(object):\n",
    "    \"\"\"Computes and stores the average and current value\"\"\"\n",
    "    def __init__(self):\n",
    "        self.reset()\n",
    "\n",
    "    def reset(self):\n",
    "        self.val = 0\n",
    "        self.avg = 0\n",
    "        self.sum = 0\n",
    "        self.count = 0\n",
    "\n",
    "    def update(self, val, n=1):\n",
    "        self.val = val\n",
    "        self.sum += val * n\n",
    "        self.count += n\n",
    "        self.avg = self.sum / self.count\n",
    "\n",
    "\n",
    "def accuracy(output, target, topk=(1,)):\n",
    "    \"\"\"Computes the precision@k for the specified values of k\"\"\"\n",
    "    maxk = max(topk)\n",
    "    batch_size = target.size(0)\n",
    "\n",
    "    _, pred = output.topk(maxk, 1, True, True)\n",
    "    pred = pred.t()\n",
    "    correct = pred.eq(target.view(1, -1).expand_as(pred))\n",
    "\n",
    "    res = []\n",
    "    for k in topk:\n",
    "        correct_k = correct[:k].view(-1).float().sum(0)\n",
    "        res.append(correct_k.mul_(100.0 / batch_size))\n",
    "    return res"
   ]
  },
  {
   "cell_type": "code",
   "execution_count": 8,
   "id": "6f005fd3",
   "metadata": {},
   "outputs": [],
   "source": [
    "train_dataset = cifarDataset(train_df[train_df.fold!=0], transform=transforms_train)\n",
    "val_dataset = cifarDataset(train_df[train_df.fold==0], transform=transforms_val, test=True)\n",
    "\n",
    "train_loader = torch.utils.data.DataLoader(\n",
    "        train_dataset,\n",
    "        batch_size=256, shuffle=True,\n",
    "        num_workers=8, pin_memory=True)\n",
    "\n",
    "val_loader = torch.utils.data.DataLoader(\n",
    "    val_dataset,\n",
    "    batch_size=1024, shuffle=False,\n",
    "    num_workers=8, pin_memory=True)"
   ]
  },
  {
   "cell_type": "code",
   "execution_count": 9,
   "id": "a4256dce",
   "metadata": {},
   "outputs": [],
   "source": [
    "import timm\n",
    "net = timm.create_model(\"mixer_b16_224_in21k\", pretrained=True)\n",
    "net.head = nn.Linear(net.head.in_features, 10)"
   ]
  },
  {
   "cell_type": "code",
   "execution_count": 10,
   "id": "97031bc4",
   "metadata": {},
   "outputs": [
    {
     "data": {
      "text/plain": [
       "tensor([[ 0.5051,  0.1254,  0.3407,  1.0601,  0.6251, -0.4140,  0.2501, -0.0404,\n",
       "         -0.0347,  0.9224]], grad_fn=<AddmmBackward0>)"
      ]
     },
     "execution_count": 10,
     "metadata": {},
     "output_type": "execute_result"
    }
   ],
   "source": [
    "net.cpu()\n",
    "net.forward(torch.randn(1,3,224,224))"
   ]
  },
  {
   "cell_type": "code",
   "execution_count": 11,
   "id": "b33568b3",
   "metadata": {},
   "outputs": [
    {
     "data": {
      "text/plain": [
       "'1.10.1'"
      ]
     },
     "execution_count": 11,
     "metadata": {},
     "output_type": "execute_result"
    }
   ],
   "source": [
    "torch.__version__"
   ]
  },
  {
   "cell_type": "markdown",
   "id": "4e27cd90",
   "metadata": {},
   "source": [
    "# Train VIT without quantization"
   ]
  },
  {
   "cell_type": "code",
   "execution_count": 12,
   "id": "c40788cb",
   "metadata": {
    "scrolled": true
   },
   "outputs": [
    {
     "name": "stderr",
     "output_type": "stream",
     "text": [
      "\u001b[34m\u001b[1mwandb\u001b[0m: Currently logged in as: \u001b[33marutema47\u001b[0m (\u001b[33mkeio-csg\u001b[0m). Use \u001b[1m`wandb login --relogin`\u001b[0m to force relogin\n"
     ]
    },
    {
     "data": {
      "text/html": [
       "Tracking run with wandb version 0.13.4"
      ],
      "text/plain": [
       "<IPython.core.display.HTML object>"
      ]
     },
     "metadata": {},
     "output_type": "display_data"
    },
    {
     "data": {
      "text/html": [
       "Run data is saved locally in <code>/media/ken/dsk1/data/quantize_models_sandbox/wandb/run-20221102_144919-3a66v0p8</code>"
      ],
      "text/plain": [
       "<IPython.core.display.HTML object>"
      ]
     },
     "metadata": {},
     "output_type": "display_data"
    },
    {
     "data": {
      "text/html": [
       "Syncing run <strong><a href=\"https://wandb.ai/keio-csg/pact_mlp/runs/3a66v0p8\" target=\"_blank\">resmlp_24_224_dino</a></strong> to <a href=\"https://wandb.ai/keio-csg/pact_mlp\" target=\"_blank\">Weights & Biases</a> (<a href=\"https://wandb.me/run\" target=\"_blank\">docs</a>)<br/>"
      ],
      "text/plain": [
       "<IPython.core.display.HTML object>"
      ]
     },
     "metadata": {},
     "output_type": "display_data"
    }
   ],
   "source": [
    "import timm\n",
    "modelname = \"resmlp_24_224_dino\"\n",
    "net = timm.create_model(modelname, pretrained=True)\n",
    "net.head = nn.Linear(net.head.in_features, 10)\n",
    "\n",
    "model = net.cuda()\n",
    "mixup = False\n",
    "\n",
    "import wandb\n",
    "watermark = modelname\n",
    "wandb.init(project=\"pact_mlp\",\n",
    "            name=watermark)\n",
    "\n",
    "# define loss function (criterion) and pptimizer\n",
    "criterion = nn.CrossEntropyLoss().cuda()\n",
    "optimizer = torch.optim.Adam(model.parameters(), lr=4e-5)\n",
    "scheduler = torch.optim.lr_scheduler.CosineAnnealingLR(optimizer, 100)\n",
    "\n",
    "best_prec1 = 0\n",
    "os.makedirs(\"models\", exist_ok=True)\n",
    "\n",
    "if NOQUANT_TRAIN:\n",
    "    for epoch in range(100):\n",
    "        # train for one epoch\n",
    "        print('current lr {:.5e}'.format(optimizer.param_groups[0]['lr']))\n",
    "        tloss = train(train_loader, model, criterion, optimizer, epoch)\n",
    "        scheduler.step(epoch)\n",
    "\n",
    "        # evaluate on validation set\n",
    "        prec1, valloss = validate(val_loader, model, criterion)\n",
    "\n",
    "        # wandb\n",
    "        wandb.log({'epoch': epoch, \"prec\":prec1, \"train_loss\": tloss, 'val_loss': valloss, \"lr\": optimizer.param_groups[0][\"lr\"],})\n",
    "\n",
    "        # remember best prec@1 and save checkpoint\n",
    "        is_best = prec1 > best_prec1\n",
    "        best_prec1 = max(prec1, best_prec1)\n",
    "\n",
    "        print(\"Best prec1 : \", best_prec1)\n",
    "        if is_best:\n",
    "            torch.save(model.state_dict(), os.path.join(f'models/{watermark}.pth'))"
   ]
  },
  {
   "cell_type": "markdown",
   "id": "c3f38958",
   "metadata": {},
   "source": [
    "# Hack timm models with quantization layers"
   ]
  },
  {
   "cell_type": "code",
   "execution_count": 13,
   "id": "ba9817ad",
   "metadata": {},
   "outputs": [],
   "source": [
    "import math\n",
    "from copy import deepcopy\n",
    "from functools import partial\n",
    "\n",
    "import torch\n",
    "import torch.nn as nn\n",
    "\n",
    "from timm.models.helpers import build_model_with_cfg, named_apply, checkpoint_seq\n",
    "from timm.models.layers import PatchEmbed, GluMlp, GatedMlp, DropPath, lecun_normal_, to_2tuple\n",
    "from timm.models.registry import register_model\n",
    "\n",
    "from pact_utils import QuantizedLinear\n",
    "\n",
    "# Hacked Mlp layer\n",
    "class Mlp(nn.Module):\n",
    "    def __init__(self, in_features, hidden_features=None, out_features=None, act_layer=nn.GELU, drop=0., kw=8, ki=8):\n",
    "        super().__init__()\n",
    "        out_features = out_features or in_features\n",
    "        hidden_features = hidden_features or in_features\n",
    "        pact = False\n",
    "        self.fc1 = QuantizedLinear(in_features, hidden_features, True, kw, ki, pact)\n",
    "        self.act = act_layer()\n",
    "        self.fc2 = QuantizedLinear(hidden_features, out_features, True, kw, ki, pact)\n",
    "        self.drop = nn.Dropout(drop)\n",
    "        \n",
    "    def forward(self, x):\n",
    "        x = self.fc1(x)\n",
    "        x = self.act(x)\n",
    "        x = self.drop(x)\n",
    "        x = self.fc2(x)\n",
    "        x = self.drop(x)\n",
    "        return x\n",
    "\n",
    "class MixerBlock(nn.Module):\n",
    "    \"\"\" Residual Block w/ token mixing and channel MLPs\n",
    "    Based on: 'MLP-Mixer: An all-MLP Architecture for Vision' - https://arxiv.org/abs/2105.01601\n",
    "    \"\"\"\n",
    "    def __init__(\n",
    "            self, dim, seq_len, mlp_ratio=(0.5, 4.0), mlp_layer=Mlp,\n",
    "            norm_layer=partial(nn.LayerNorm, eps=1e-6), act_layer=nn.GELU, drop=0., drop_path=0., kw1=8, ki1=8, kw2=8, ki2=8):\n",
    "        super().__init__()\n",
    "        tokens_dim, channels_dim = [int(x * dim) for x in to_2tuple(mlp_ratio)]\n",
    "        self.norm1 = norm_layer(dim)\n",
    "        self.mlp_tokens = mlp_layer(seq_len, tokens_dim, act_layer=act_layer, drop=drop, kw=kw1, ki=ki1) # attention\n",
    "        self.drop_path = DropPath(drop_path) if drop_path > 0. else nn.Identity()\n",
    "        self.norm2 = norm_layer(dim)\n",
    "        self.mlp_channels = mlp_layer(dim, channels_dim, act_layer=act_layer, drop=drop, kw=kw2, ki=ki2) # mix\n",
    "\n",
    "    def forward(self, x):\n",
    "        x = x + self.drop_path(self.mlp_tokens(self.norm1(x).transpose(1, 2)).transpose(1, 2))\n",
    "        x = x + self.drop_path(self.mlp_channels(self.norm2(x)))\n",
    "        return x\n",
    "\n",
    "\n",
    "class Affine(nn.Module):\n",
    "    def __init__(self, dim):\n",
    "        super().__init__()\n",
    "        self.alpha = nn.Parameter(torch.ones((1, 1, dim)))\n",
    "        self.beta = nn.Parameter(torch.zeros((1, 1, dim)))\n",
    "\n",
    "    def forward(self, x):\n",
    "        return torch.addcmul(self.beta, self.alpha, x)\n",
    "\n",
    "\n",
    "class ResBlock(nn.Module):\n",
    "    \"\"\" Residual MLP block w/ LayerScale and Affine 'norm'\n",
    "    Based on: `ResMLP: Feedforward networks for image classification...` - https://arxiv.org/abs/2105.03404\n",
    "    \"\"\"\n",
    "    def __init__(\n",
    "            self, dim, seq_len, mlp_ratio=4, mlp_layer=Mlp, norm_layer=Affine,\n",
    "            act_layer=nn.GELU, init_values=1e-4, drop=0., drop_path=0., kw1=8,ki1=8,kw2=8,ki2=8):\n",
    "        super().__init__()\n",
    "        channel_dim = int(dim * mlp_ratio)\n",
    "        self.norm1 = norm_layer(dim)\n",
    "        self.linear_tokens = QuantizedLinear(seq_len, seq_len, True, kw1, ki1)\n",
    "        self.drop_path = DropPath(drop_path) if drop_path > 0. else nn.Identity()\n",
    "        self.norm2 = norm_layer(dim)\n",
    "        self.mlp_channels = mlp_layer(dim, channel_dim, act_layer=act_layer, drop=drop, kw=kw2, ki=ki2)\n",
    "        self.ls1 = nn.Parameter(init_values * torch.ones(dim))\n",
    "        self.ls2 = nn.Parameter(init_values * torch.ones(dim))\n",
    "\n",
    "    def forward(self, x):\n",
    "        x = x + self.drop_path(self.ls1 * self.linear_tokens(self.norm1(x).transpose(1, 2)).transpose(1, 2))\n",
    "        x = x + self.drop_path(self.ls2 * self.mlp_channels(self.norm2(x)))\n",
    "        return x\n",
    "\n",
    "\n",
    "class SpatialGatingUnit(nn.Module):\n",
    "    \"\"\" Spatial Gating Unit\n",
    "    Based on: `Pay Attention to MLPs` - https://arxiv.org/abs/2105.08050\n",
    "    \"\"\"\n",
    "    def __init__(self, dim, seq_len, norm_layer=nn.LayerNorm):\n",
    "        super().__init__()\n",
    "        gate_dim = dim // 2\n",
    "        self.norm = norm_layer(gate_dim)\n",
    "        self.proj = nn.Linear(seq_len, seq_len)\n",
    "\n",
    "    def init_weights(self):\n",
    "        # special init for the projection gate, called as override by base model init\n",
    "        nn.init.normal_(self.proj.weight, std=1e-6)\n",
    "        nn.init.ones_(self.proj.bias)\n",
    "\n",
    "    def forward(self, x):\n",
    "        u, v = x.chunk(2, dim=-1)\n",
    "        v = self.norm(v)\n",
    "        v = self.proj(v.transpose(-1, -2))\n",
    "        return u * v.transpose(-1, -2)\n",
    "\n",
    "\n",
    "class SpatialGatingBlock(nn.Module):\n",
    "    \"\"\" Residual Block w/ Spatial Gating\n",
    "    Based on: `Pay Attention to MLPs` - https://arxiv.org/abs/2105.08050\n",
    "    \"\"\"\n",
    "    def __init__(\n",
    "            self, dim, seq_len, mlp_ratio=4, mlp_layer=GatedMlp,\n",
    "            norm_layer=partial(nn.LayerNorm, eps=1e-6), act_layer=nn.GELU, drop=0., drop_path=0.):\n",
    "        super().__init__()\n",
    "        channel_dim = int(dim * mlp_ratio)\n",
    "        self.norm = norm_layer(dim)\n",
    "        sgu = partial(SpatialGatingUnit, seq_len=seq_len)\n",
    "        self.mlp_channels = mlp_layer(dim, channel_dim, act_layer=act_layer, gate_layer=sgu, drop=drop)\n",
    "        self.drop_path = DropPath(drop_path) if drop_path > 0. else nn.Identity()\n",
    "\n",
    "    def forward(self, x):\n",
    "        x = x + self.drop_path(self.mlp_channels(self.norm(x)))\n",
    "        return x\n",
    "\n",
    "\n",
    "class MlpMixer(nn.Module):\n",
    "\n",
    "    def __init__(\n",
    "            self,\n",
    "            num_classes=1000,\n",
    "            img_size=224,\n",
    "            in_chans=3,\n",
    "            patch_size=16,\n",
    "            num_blocks=8,\n",
    "            embed_dim=512,\n",
    "            mlp_ratio=(0.5, 4.0),\n",
    "            block_layer=MixerBlock,\n",
    "            mlp_layer=Mlp,\n",
    "            norm_layer=partial(nn.LayerNorm, eps=1e-6),\n",
    "            act_layer=nn.GELU,\n",
    "            drop_rate=0.,\n",
    "            drop_path_rate=0.,\n",
    "            nlhb=False,\n",
    "            stem_norm=False,\n",
    "            global_pool='avg',\n",
    "            kw1=8,\n",
    "            ki1=8,\n",
    "            kw2=8,\n",
    "            ki2=8\n",
    "    ):\n",
    "        super().__init__()\n",
    "        self.num_classes = num_classes\n",
    "        self.global_pool = global_pool\n",
    "        self.num_features = self.embed_dim = embed_dim  # num_features for consistency with other models\n",
    "        self.grad_checkpointing = False\n",
    "\n",
    "        self.stem = PatchEmbed(\n",
    "            img_size=img_size, patch_size=patch_size, in_chans=in_chans,\n",
    "            embed_dim=embed_dim, norm_layer=norm_layer if stem_norm else None)\n",
    "        # FIXME drop_path (stochastic depth scaling rule or all the same?)\n",
    "        self.blocks = nn.Sequential(*[\n",
    "            block_layer(\n",
    "                embed_dim, self.stem.num_patches, mlp_ratio, mlp_layer=mlp_layer, norm_layer=norm_layer,\n",
    "                act_layer=act_layer, drop=drop_rate, drop_path=drop_path_rate, kw1=kw1,ki1=ki1,kw2=kw2,ki2=ki2)# Add quant bits\n",
    "            for _ in range(num_blocks)])\n",
    "        self.norm = norm_layer(embed_dim)\n",
    "        self.head = nn.Linear(embed_dim, self.num_classes) if num_classes > 0 else nn.Identity()\n",
    "\n",
    "        self.init_weights(nlhb=nlhb)\n",
    "\n",
    "    @torch.jit.ignore\n",
    "    def init_weights(self, nlhb=False):\n",
    "        head_bias = -math.log(self.num_classes) if nlhb else 0.\n",
    "        named_apply(partial(_init_weights, head_bias=head_bias), module=self)  # depth-first\n",
    "\n",
    "    @torch.jit.ignore\n",
    "    def group_matcher(self, coarse=False):\n",
    "        return dict(\n",
    "            stem=r'^stem',  # stem and embed\n",
    "            blocks=[(r'^blocks\\.(\\d+)', None), (r'^norm', (99999,))]\n",
    "        )\n",
    "\n",
    "    @torch.jit.ignore\n",
    "    def set_grad_checkpointing(self, enable=True):\n",
    "        self.grad_checkpointing = enable\n",
    "\n",
    "    @torch.jit.ignore\n",
    "    def get_classifier(self):\n",
    "        return self.head\n",
    "\n",
    "    def reset_classifier(self, num_classes, global_pool=None):\n",
    "        self.num_classes = num_classes\n",
    "        if global_pool is not None:\n",
    "            assert global_pool in ('', 'avg')\n",
    "            self.global_pool = global_pool\n",
    "        self.head = nn.Linear(self.embed_dim, num_classes) if num_classes > 0 else nn.Identity()\n",
    "\n",
    "    def forward_features(self, x):\n",
    "        x = self.stem(x)\n",
    "        if self.grad_checkpointing and not torch.jit.is_scripting():\n",
    "            x = checkpoint_seq(self.blocks, x)\n",
    "        else:\n",
    "            x = self.blocks(x)\n",
    "        x = self.norm(x)\n",
    "        return x\n",
    "\n",
    "    def forward(self, x):\n",
    "        x = self.forward_features(x)\n",
    "        if self.global_pool == 'avg':\n",
    "            x = x.mean(dim=1)\n",
    "        x = self.head(x)\n",
    "        return x\n",
    "\n",
    "\n",
    "def _init_weights(module: nn.Module, name: str, head_bias: float = 0., flax=False):\n",
    "    if isinstance(module, nn.Linear):\n",
    "        if name.startswith('head'):\n",
    "            nn.init.zeros_(module.weight)\n",
    "            nn.init.constant_(module.bias, head_bias)\n",
    "        else:\n",
    "            if flax:\n",
    "                # Flax defaults\n",
    "                lecun_normal_(module.weight)\n",
    "                if module.bias is not None:\n",
    "                    nn.init.zeros_(module.bias)\n",
    "            else:\n",
    "                # like MLP init in vit (my original init)\n",
    "                nn.init.xavier_uniform_(module.weight)\n",
    "                if module.bias is not None:\n",
    "                    if 'mlp' in name:\n",
    "                        nn.init.normal_(module.bias, std=1e-6)\n",
    "                    else:\n",
    "                        nn.init.zeros_(module.bias)\n",
    "    elif isinstance(module, nn.Conv2d):\n",
    "        lecun_normal_(module.weight)\n",
    "        if module.bias is not None:\n",
    "            nn.init.zeros_(module.bias)\n",
    "    elif isinstance(module, (nn.LayerNorm, nn.BatchNorm2d, nn.GroupNorm)):\n",
    "        nn.init.ones_(module.weight)\n",
    "        nn.init.zeros_(module.bias)\n",
    "    elif hasattr(module, 'init_weights'):\n",
    "        # NOTE if a parent module contains init_weights method, it can override the init of the\n",
    "        # child modules as this will be called in depth-first order.\n",
    "        module.init_weights()\n",
    "\n",
    "\n",
    "def checkpoint_filter_fn(state_dict, model):\n",
    "    \"\"\" Remap checkpoints if needed \"\"\"\n",
    "    if 'patch_embed.proj.weight' in state_dict:\n",
    "        # Remap FB ResMlp models -> timm\n",
    "        out_dict = {}\n",
    "        for k, v in state_dict.items():\n",
    "            k = k.replace('patch_embed.', 'stem.')\n",
    "            k = k.replace('attn.', 'linear_tokens.')\n",
    "            k = k.replace('mlp.', 'mlp_channels.')\n",
    "            k = k.replace('gamma_', 'ls')\n",
    "            if k.endswith('.alpha') or k.endswith('.beta'):\n",
    "                v = v.reshape(1, 1, -1)\n",
    "            out_dict[k] = v\n",
    "        return out_dict\n",
    "    return state_dict\n",
    "\n",
    "\n",
    "def _create_mixer(variant, pretrained=False, **kwargs):\n",
    "    if kwargs.get('features_only', None):\n",
    "        raise RuntimeError('features_only not implemented for MLP-Mixer models.')\n",
    "\n",
    "    model = build_model_with_cfg(\n",
    "        MlpMixer, variant, pretrained,\n",
    "        pretrained_filter_fn=checkpoint_filter_fn,\n",
    "        **kwargs)\n",
    "    return model\n",
    "\n",
    "def mixer_b16_224(pretrained=False, **kwargs):\n",
    "    \"\"\" Mixer-B/16 224x224. ImageNet-1k pretrained weights.\n",
    "    Paper:  'MLP-Mixer: An all-MLP Architecture for Vision' - https://arxiv.org/abs/2105.01601\n",
    "    \"\"\"\n",
    "    model_args = dict(patch_size=16, num_blocks=12, embed_dim=768, **kwargs)\n",
    "    model = _create_mixer('mixer_b16_224', pretrained=pretrained, **model_args)\n",
    "    return model\n",
    "\n",
    "def resmlp_24_224_dino(pretrained=False, **kwargs):\n",
    "    \"\"\" ResMLP-24\n",
    "    Paper: `ResMLP: Feedforward networks for image classification...` - https://arxiv.org/abs/2105.03404\n",
    "    Model pretrained via DINO (self-supervised) - https://arxiv.org/abs/2104.14294\n",
    "    \"\"\"\n",
    "    model_args = dict(\n",
    "        patch_size=16, num_blocks=24, embed_dim=384, mlp_ratio=4,\n",
    "        block_layer=partial(ResBlock, init_values=1e-5), norm_layer=Affine, **kwargs)\n",
    "    model = _create_mixer('resmlp_24_224_dino', pretrained=pretrained, **model_args)\n",
    "    return model\n",
    "\n",
    "def resmlp_12_224_dino(pretrained=False, **kwargs):\n",
    "    \"\"\" ResMLP-12\n",
    "    Paper: `ResMLP: Feedforward networks for image classification...` - https://arxiv.org/abs/2105.03404\n",
    "    Model pretrained via DINO (self-supervised) - https://arxiv.org/abs/2104.14294\n",
    "    \"\"\"\n",
    "    model_args = dict(\n",
    "        patch_size=16, num_blocks=12, embed_dim=384, mlp_ratio=4, block_layer=ResBlock, norm_layer=Affine, **kwargs)\n",
    "    model = _create_mixer('resmlp_12_224_dino', pretrained=pretrained, **model_args)\n",
    "    return model"
   ]
  },
  {
   "cell_type": "markdown",
   "id": "adfc1b95",
   "metadata": {},
   "source": [
    "### Actual trainin"
   ]
  },
  {
   "cell_type": "code",
   "execution_count": null,
   "id": "bf661401",
   "metadata": {
    "scrolled": true
   },
   "outputs": [
    {
     "data": {
      "text/html": [
       "Finishing last run (ID:3a66v0p8) before initializing another..."
      ],
      "text/plain": [
       "<IPython.core.display.HTML object>"
      ]
     },
     "metadata": {},
     "output_type": "display_data"
    },
    {
     "data": {
      "text/html": [
       "Waiting for W&B process to finish... <strong style=\"color:green\">(success).</strong>"
      ],
      "text/plain": [
       "<IPython.core.display.HTML object>"
      ]
     },
     "metadata": {},
     "output_type": "display_data"
    },
    {
     "data": {
      "application/vnd.jupyter.widget-view+json": {
       "model_id": "7ca16bdec46c47e79802dd7aac72ebc8",
       "version_major": 2,
       "version_minor": 0
      },
      "text/plain": [
       "VBox(children=(Label(value='0.477 MB of 0.477 MB uploaded (0.000 MB deduped)\\r'), FloatProgress(value=1.0, max…"
      ]
     },
     "metadata": {},
     "output_type": "display_data"
    },
    {
     "data": {
      "text/html": [
       "Synced <strong style=\"color:#cdcd00\">resmlp_24_224_dino</strong>: <a href=\"https://wandb.ai/keio-csg/pact_mlp/runs/3a66v0p8\" target=\"_blank\">https://wandb.ai/keio-csg/pact_mlp/runs/3a66v0p8</a><br/>Synced 6 W&B file(s), 0 media file(s), 0 artifact file(s) and 1 other file(s)"
      ],
      "text/plain": [
       "<IPython.core.display.HTML object>"
      ]
     },
     "metadata": {},
     "output_type": "display_data"
    },
    {
     "data": {
      "text/html": [
       "Find logs at: <code>./wandb/run-20221102_144919-3a66v0p8/logs</code>"
      ],
      "text/plain": [
       "<IPython.core.display.HTML object>"
      ]
     },
     "metadata": {},
     "output_type": "display_data"
    },
    {
     "data": {
      "text/html": [
       "Successfully finished last run (ID:3a66v0p8). Initializing new run:<br/>"
      ],
      "text/plain": [
       "<IPython.core.display.HTML object>"
      ]
     },
     "metadata": {},
     "output_type": "display_data"
    },
    {
     "data": {
      "application/vnd.jupyter.widget-view+json": {
       "model_id": "d41e96bb1ef44bbcb30c900d604903a2",
       "version_major": 2,
       "version_minor": 0
      },
      "text/plain": [
       "VBox(children=(Label(value='Waiting for wandb.init()...\\r'), FloatProgress(value=0.016678708683078487, max=1.0…"
      ]
     },
     "metadata": {},
     "output_type": "display_data"
    },
    {
     "data": {
      "text/html": [
       "Tracking run with wandb version 0.13.4"
      ],
      "text/plain": [
       "<IPython.core.display.HTML object>"
      ]
     },
     "metadata": {},
     "output_type": "display_data"
    },
    {
     "data": {
      "text/html": [
       "Run data is saved locally in <code>/media/ken/dsk1/data/quantize_models_sandbox/wandb/run-20221102_144923-3ck4ov5b</code>"
      ],
      "text/plain": [
       "<IPython.core.display.HTML object>"
      ]
     },
     "metadata": {},
     "output_type": "display_data"
    },
    {
     "data": {
      "text/html": [
       "Syncing run <strong><a href=\"https://wandb.ai/keio-csg/pact_mlp_quant/runs/3ck4ov5b\" target=\"_blank\">resmlp_k5_attenk4</a></strong> to <a href=\"https://wandb.ai/keio-csg/pact_mlp_quant\" target=\"_blank\">Weights & Biases</a> (<a href=\"https://wandb.me/run\" target=\"_blank\">docs</a>)<br/>"
      ],
      "text/plain": [
       "<IPython.core.display.HTML object>"
      ]
     },
     "metadata": {},
     "output_type": "display_data"
    },
    {
     "name": "stdout",
     "output_type": "stream",
     "text": [
      "current lr 5.00000e-04\n"
     ]
    },
    {
     "data": {
      "application/vnd.jupyter.widget-view+json": {
       "model_id": "540b5b7373814b248eb2658d6ddcfe4b",
       "version_major": 2,
       "version_minor": 0
      },
      "text/plain": [
       "  0%|          | 0/157 [00:00<?, ?it/s]"
      ]
     },
     "metadata": {},
     "output_type": "display_data"
    },
    {
     "name": "stdout",
     "output_type": "stream",
     "text": [
      "Epoch: [0][0/157]\tTime 4.130 (4.130)\tData 1.777 (1.777)\tLoss 2.6806 (2.6806)\tPrec@1 12.109 (12.109)\n",
      "Epoch: [0][50/157]\tTime 1.053 (1.110)\tData 0.001 (0.036)\tLoss 2.0776 (2.5227)\tPrec@1 24.219 (17.057)\n",
      "Epoch: [0][100/157]\tTime 1.053 (1.082)\tData 0.001 (0.019)\tLoss 1.7771 (2.1941)\tPrec@1 32.812 (25.217)\n",
      "Epoch: [0][150/157]\tTime 1.052 (1.072)\tData 0.001 (0.013)\tLoss 1.5687 (2.0095)\tPrec@1 42.578 (30.500)\n",
      "Test: [0/10]\tTime 6.763 (6.763)\tLoss 1.4571 (1.4571)\tPrec@1 48.047 (48.047)\n",
      " * Prec@1 49.020\n",
      "Best prec1 :  49.02000009155273\n"
     ]
    },
    {
     "data": {
      "text/html": [
       "Finishing last run (ID:3ck4ov5b) before initializing another..."
      ],
      "text/plain": [
       "<IPython.core.display.HTML object>"
      ]
     },
     "metadata": {},
     "output_type": "display_data"
    },
    {
     "data": {
      "text/html": [
       "Waiting for W&B process to finish... <strong style=\"color:green\">(success).</strong>"
      ],
      "text/plain": [
       "<IPython.core.display.HTML object>"
      ]
     },
     "metadata": {},
     "output_type": "display_data"
    },
    {
     "data": {
      "text/html": [
       "<style>\n",
       "    table.wandb td:nth-child(1) { padding: 0 10px; text-align: left ; width: auto;} td:nth-child(2) {text-align: left ; width: 100%}\n",
       "    .wandb-row { display: flex; flex-direction: row; flex-wrap: wrap; justify-content: flex-start; width: 100% }\n",
       "    .wandb-col { display: flex; flex-direction: column; flex-basis: 100%; flex: 1; padding: 10px; }\n",
       "    </style>\n",
       "<div class=\"wandb-row\"><div class=\"wandb-col\"><h3>Run history:</h3><br/><table class=\"wandb\"><tr><td>epoch</td><td>▁</td></tr><tr><td>lr</td><td>▁</td></tr><tr><td>prec</td><td>▁</td></tr><tr><td>train_loss</td><td>▁</td></tr><tr><td>val_loss</td><td>▁</td></tr></table><br/></div><div class=\"wandb-col\"><h3>Run summary:</h3><br/><table class=\"wandb\"><tr><td>epoch</td><td>0</td></tr><tr><td>lr</td><td>0.0005</td></tr><tr><td>prec</td><td>49.02</td></tr><tr><td>train_loss</td><td>1.99401</td></tr><tr><td>val_loss</td><td>1.44384</td></tr></table><br/></div></div>"
      ],
      "text/plain": [
       "<IPython.core.display.HTML object>"
      ]
     },
     "metadata": {},
     "output_type": "display_data"
    },
    {
     "data": {
      "text/html": [
       "Synced <strong style=\"color:#cdcd00\">resmlp_k5_attenk4</strong>: <a href=\"https://wandb.ai/keio-csg/pact_mlp_quant/runs/3ck4ov5b\" target=\"_blank\">https://wandb.ai/keio-csg/pact_mlp_quant/runs/3ck4ov5b</a><br/>Synced 7 W&B file(s), 0 media file(s), 0 artifact file(s) and 0 other file(s)"
      ],
      "text/plain": [
       "<IPython.core.display.HTML object>"
      ]
     },
     "metadata": {},
     "output_type": "display_data"
    },
    {
     "data": {
      "text/html": [
       "Find logs at: <code>./wandb/run-20221102_144923-3ck4ov5b/logs</code>"
      ],
      "text/plain": [
       "<IPython.core.display.HTML object>"
      ]
     },
     "metadata": {},
     "output_type": "display_data"
    },
    {
     "data": {
      "text/html": [
       "Successfully finished last run (ID:3ck4ov5b). Initializing new run:<br/>"
      ],
      "text/plain": [
       "<IPython.core.display.HTML object>"
      ]
     },
     "metadata": {},
     "output_type": "display_data"
    },
    {
     "data": {
      "application/vnd.jupyter.widget-view+json": {
       "model_id": "3111fb5701c34f678ff1ab50d2e19007",
       "version_major": 2,
       "version_minor": 0
      },
      "text/plain": [
       "VBox(children=(Label(value='Waiting for wandb.init()...\\r'), FloatProgress(value=0.01666962003412967, max=1.0)…"
      ]
     },
     "metadata": {},
     "output_type": "display_data"
    },
    {
     "data": {
      "text/html": [
       "Tracking run with wandb version 0.13.4"
      ],
      "text/plain": [
       "<IPython.core.display.HTML object>"
      ]
     },
     "metadata": {},
     "output_type": "display_data"
    },
    {
     "data": {
      "text/html": [
       "Run data is saved locally in <code>/media/ken/dsk1/data/quantize_models_sandbox/wandb/run-20221102_145252-kt3b7wip</code>"
      ],
      "text/plain": [
       "<IPython.core.display.HTML object>"
      ]
     },
     "metadata": {},
     "output_type": "display_data"
    },
    {
     "data": {
      "text/html": [
       "Syncing run <strong><a href=\"https://wandb.ai/keio-csg/pact_mlp_quant/runs/kt3b7wip\" target=\"_blank\">resmlp_k6_attenk4</a></strong> to <a href=\"https://wandb.ai/keio-csg/pact_mlp_quant\" target=\"_blank\">Weights & Biases</a> (<a href=\"https://wandb.me/run\" target=\"_blank\">docs</a>)<br/>"
      ],
      "text/plain": [
       "<IPython.core.display.HTML object>"
      ]
     },
     "metadata": {},
     "output_type": "display_data"
    },
    {
     "name": "stdout",
     "output_type": "stream",
     "text": [
      "current lr 5.00000e-04\n"
     ]
    },
    {
     "data": {
      "application/vnd.jupyter.widget-view+json": {
       "model_id": "18e09b4114d64947bdb88827d19570ec",
       "version_major": 2,
       "version_minor": 0
      },
      "text/plain": [
       "  0%|          | 0/157 [00:00<?, ?it/s]"
      ]
     },
     "metadata": {},
     "output_type": "display_data"
    },
    {
     "name": "stdout",
     "output_type": "stream",
     "text": [
      "Epoch: [0][0/157]\tTime 2.318 (2.318)\tData 1.266 (1.266)\tLoss 3.5341 (3.5341)\tPrec@1 7.031 (7.031)\n",
      "Epoch: [0][50/157]\tTime 1.054 (1.075)\tData 0.001 (0.026)\tLoss 2.2056 (5.0154)\tPrec@1 22.656 (14.170)\n",
      "Epoch: [0][100/157]\tTime 1.054 (1.065)\tData 0.001 (0.014)\tLoss 1.7428 (3.5137)\tPrec@1 37.891 (21.419)\n",
      "Epoch: [0][150/157]\tTime 1.063 (1.063)\tData 0.001 (0.009)\tLoss 1.6010 (2.9165)\tPrec@1 44.141 (27.119)\n",
      "Test: [0/10]\tTime 5.189 (5.189)\tLoss 1.4853 (1.4853)\tPrec@1 46.680 (46.680)\n",
      " * Prec@1 46.200\n",
      "Best prec1 :  46.20000004272461\n"
     ]
    },
    {
     "data": {
      "text/html": [
       "Finishing last run (ID:kt3b7wip) before initializing another..."
      ],
      "text/plain": [
       "<IPython.core.display.HTML object>"
      ]
     },
     "metadata": {},
     "output_type": "display_data"
    },
    {
     "data": {
      "text/html": [
       "Waiting for W&B process to finish... <strong style=\"color:green\">(success).</strong>"
      ],
      "text/plain": [
       "<IPython.core.display.HTML object>"
      ]
     },
     "metadata": {},
     "output_type": "display_data"
    },
    {
     "data": {
      "text/html": [
       "<style>\n",
       "    table.wandb td:nth-child(1) { padding: 0 10px; text-align: left ; width: auto;} td:nth-child(2) {text-align: left ; width: 100%}\n",
       "    .wandb-row { display: flex; flex-direction: row; flex-wrap: wrap; justify-content: flex-start; width: 100% }\n",
       "    .wandb-col { display: flex; flex-direction: column; flex-basis: 100%; flex: 1; padding: 10px; }\n",
       "    </style>\n",
       "<div class=\"wandb-row\"><div class=\"wandb-col\"><h3>Run history:</h3><br/><table class=\"wandb\"><tr><td>epoch</td><td>▁</td></tr><tr><td>lr</td><td>▁</td></tr><tr><td>prec</td><td>▁</td></tr><tr><td>train_loss</td><td>▁</td></tr><tr><td>val_loss</td><td>▁</td></tr></table><br/></div><div class=\"wandb-col\"><h3>Run summary:</h3><br/><table class=\"wandb\"><tr><td>epoch</td><td>0</td></tr><tr><td>lr</td><td>0.0005</td></tr><tr><td>prec</td><td>46.2</td></tr><tr><td>train_loss</td><td>2.87274</td></tr><tr><td>val_loss</td><td>1.4941</td></tr></table><br/></div></div>"
      ],
      "text/plain": [
       "<IPython.core.display.HTML object>"
      ]
     },
     "metadata": {},
     "output_type": "display_data"
    },
    {
     "data": {
      "text/html": [
       "Synced <strong style=\"color:#cdcd00\">resmlp_k6_attenk4</strong>: <a href=\"https://wandb.ai/keio-csg/pact_mlp_quant/runs/kt3b7wip\" target=\"_blank\">https://wandb.ai/keio-csg/pact_mlp_quant/runs/kt3b7wip</a><br/>Synced 7 W&B file(s), 0 media file(s), 0 artifact file(s) and 1 other file(s)"
      ],
      "text/plain": [
       "<IPython.core.display.HTML object>"
      ]
     },
     "metadata": {},
     "output_type": "display_data"
    },
    {
     "data": {
      "text/html": [
       "Find logs at: <code>./wandb/run-20221102_145252-kt3b7wip/logs</code>"
      ],
      "text/plain": [
       "<IPython.core.display.HTML object>"
      ]
     },
     "metadata": {},
     "output_type": "display_data"
    },
    {
     "data": {
      "text/html": [
       "Successfully finished last run (ID:kt3b7wip). Initializing new run:<br/>"
      ],
      "text/plain": [
       "<IPython.core.display.HTML object>"
      ]
     },
     "metadata": {},
     "output_type": "display_data"
    },
    {
     "data": {
      "application/vnd.jupyter.widget-view+json": {
       "model_id": "64cf793ae4794aa8888778d910a55730",
       "version_major": 2,
       "version_minor": 0
      },
      "text/plain": [
       "VBox(children=(Label(value='Waiting for wandb.init()...\\r'), FloatProgress(value=0.016677025232153635, max=1.0…"
      ]
     },
     "metadata": {},
     "output_type": "display_data"
    },
    {
     "data": {
      "text/html": [
       "Tracking run with wandb version 0.13.4"
      ],
      "text/plain": [
       "<IPython.core.display.HTML object>"
      ]
     },
     "metadata": {},
     "output_type": "display_data"
    },
    {
     "data": {
      "text/html": [
       "Run data is saved locally in <code>/media/ken/dsk1/data/quantize_models_sandbox/wandb/run-20221102_145621-3o21zkzj</code>"
      ],
      "text/plain": [
       "<IPython.core.display.HTML object>"
      ]
     },
     "metadata": {},
     "output_type": "display_data"
    },
    {
     "data": {
      "text/html": [
       "Syncing run <strong><a href=\"https://wandb.ai/keio-csg/pact_mlp_quant/runs/3o21zkzj\" target=\"_blank\">resmlp_k7_attenk4</a></strong> to <a href=\"https://wandb.ai/keio-csg/pact_mlp_quant\" target=\"_blank\">Weights & Biases</a> (<a href=\"https://wandb.me/run\" target=\"_blank\">docs</a>)<br/>"
      ],
      "text/plain": [
       "<IPython.core.display.HTML object>"
      ]
     },
     "metadata": {},
     "output_type": "display_data"
    },
    {
     "name": "stdout",
     "output_type": "stream",
     "text": [
      "current lr 5.00000e-04\n"
     ]
    },
    {
     "data": {
      "application/vnd.jupyter.widget-view+json": {
       "model_id": "9a8e2120b95742e3b13b138dd80fae20",
       "version_major": 2,
       "version_minor": 0
      },
      "text/plain": [
       "  0%|          | 0/157 [00:00<?, ?it/s]"
      ]
     },
     "metadata": {},
     "output_type": "display_data"
    },
    {
     "name": "stdout",
     "output_type": "stream",
     "text": [
      "Epoch: [0][0/157]\tTime 2.717 (2.717)\tData 1.657 (1.657)\tLoss 1.8225 (1.8225)\tPrec@1 42.578 (42.578)\n",
      "Epoch: [0][50/157]\tTime 1.040 (1.085)\tData 0.001 (0.034)\tLoss nan (nan)\tPrec@1 8.594 (10.302)\n",
      "Epoch: [0][100/157]\tTime 1.041 (1.063)\tData 0.001 (0.017)\tLoss nan (nan)\tPrec@1 10.156 (10.137)\n",
      "Epoch: [0][150/157]\tTime 1.041 (1.056)\tData 0.001 (0.012)\tLoss nan (nan)\tPrec@1 11.719 (10.102)\n",
      "Test: [0/10]\tTime 6.185 (6.185)\tLoss 176.2095 (176.2095)\tPrec@1 11.426 (11.426)\n",
      " * Prec@1 10.460\n",
      "Best prec1 :  10.460000015258789\n"
     ]
    },
    {
     "data": {
      "text/html": [
       "Finishing last run (ID:3o21zkzj) before initializing another..."
      ],
      "text/plain": [
       "<IPython.core.display.HTML object>"
      ]
     },
     "metadata": {},
     "output_type": "display_data"
    },
    {
     "data": {
      "text/html": [
       "Waiting for W&B process to finish... <strong style=\"color:green\">(success).</strong>"
      ],
      "text/plain": [
       "<IPython.core.display.HTML object>"
      ]
     },
     "metadata": {},
     "output_type": "display_data"
    },
    {
     "data": {
      "application/vnd.jupyter.widget-view+json": {
       "model_id": "55d871c273b84967b359534c764d08be",
       "version_major": 2,
       "version_minor": 0
      },
      "text/plain": [
       "VBox(children=(Label(value='0.687 MB of 0.687 MB uploaded (0.000 MB deduped)\\r'), FloatProgress(value=1.0, max…"
      ]
     },
     "metadata": {},
     "output_type": "display_data"
    },
    {
     "data": {
      "text/html": [
       "<style>\n",
       "    table.wandb td:nth-child(1) { padding: 0 10px; text-align: left ; width: auto;} td:nth-child(2) {text-align: left ; width: 100%}\n",
       "    .wandb-row { display: flex; flex-direction: row; flex-wrap: wrap; justify-content: flex-start; width: 100% }\n",
       "    .wandb-col { display: flex; flex-direction: column; flex-basis: 100%; flex: 1; padding: 10px; }\n",
       "    </style>\n",
       "<div class=\"wandb-row\"><div class=\"wandb-col\"><h3>Run history:</h3><br/><table class=\"wandb\"><tr><td>epoch</td><td>▁</td></tr><tr><td>lr</td><td>▁</td></tr><tr><td>prec</td><td>▁</td></tr><tr><td>val_loss</td><td>▁</td></tr></table><br/></div><div class=\"wandb-col\"><h3>Run summary:</h3><br/><table class=\"wandb\"><tr><td>epoch</td><td>0</td></tr><tr><td>lr</td><td>0.0005</td></tr><tr><td>prec</td><td>10.46</td></tr><tr><td>train_loss</td><td>nan</td></tr><tr><td>val_loss</td><td>183.5274</td></tr></table><br/></div></div>"
      ],
      "text/plain": [
       "<IPython.core.display.HTML object>"
      ]
     },
     "metadata": {},
     "output_type": "display_data"
    },
    {
     "data": {
      "text/html": [
       "Synced <strong style=\"color:#cdcd00\">resmlp_k7_attenk4</strong>: <a href=\"https://wandb.ai/keio-csg/pact_mlp_quant/runs/3o21zkzj\" target=\"_blank\">https://wandb.ai/keio-csg/pact_mlp_quant/runs/3o21zkzj</a><br/>Synced 7 W&B file(s), 0 media file(s), 0 artifact file(s) and 0 other file(s)"
      ],
      "text/plain": [
       "<IPython.core.display.HTML object>"
      ]
     },
     "metadata": {},
     "output_type": "display_data"
    },
    {
     "data": {
      "text/html": [
       "Find logs at: <code>./wandb/run-20221102_145621-3o21zkzj/logs</code>"
      ],
      "text/plain": [
       "<IPython.core.display.HTML object>"
      ]
     },
     "metadata": {},
     "output_type": "display_data"
    },
    {
     "data": {
      "text/html": [
       "Successfully finished last run (ID:3o21zkzj). Initializing new run:<br/>"
      ],
      "text/plain": [
       "<IPython.core.display.HTML object>"
      ]
     },
     "metadata": {},
     "output_type": "display_data"
    },
    {
     "data": {
      "application/vnd.jupyter.widget-view+json": {
       "model_id": "e447b10fd08f40699bbfa82f9e29198b",
       "version_major": 2,
       "version_minor": 0
      },
      "text/plain": [
       "VBox(children=(Label(value='Waiting for wandb.init()...\\r'), FloatProgress(value=0.01667724469831834, max=1.0)…"
      ]
     },
     "metadata": {},
     "output_type": "display_data"
    },
    {
     "data": {
      "text/html": [
       "Tracking run with wandb version 0.13.4"
      ],
      "text/plain": [
       "<IPython.core.display.HTML object>"
      ]
     },
     "metadata": {},
     "output_type": "display_data"
    },
    {
     "data": {
      "text/html": [
       "Run data is saved locally in <code>/media/ken/dsk1/data/quantize_models_sandbox/wandb/run-20221102_145948-8jm4lbzo</code>"
      ],
      "text/plain": [
       "<IPython.core.display.HTML object>"
      ]
     },
     "metadata": {},
     "output_type": "display_data"
    },
    {
     "data": {
      "text/html": [
       "Syncing run <strong><a href=\"https://wandb.ai/keio-csg/pact_mlp_quant/runs/8jm4lbzo\" target=\"_blank\">resmlp_k8_attenk4</a></strong> to <a href=\"https://wandb.ai/keio-csg/pact_mlp_quant\" target=\"_blank\">Weights & Biases</a> (<a href=\"https://wandb.me/run\" target=\"_blank\">docs</a>)<br/>"
      ],
      "text/plain": [
       "<IPython.core.display.HTML object>"
      ]
     },
     "metadata": {},
     "output_type": "display_data"
    },
    {
     "name": "stdout",
     "output_type": "stream",
     "text": [
      "current lr 5.00000e-04\n"
     ]
    },
    {
     "data": {
      "application/vnd.jupyter.widget-view+json": {
       "model_id": "fd596995a0ef47f4951df6a88b1299ef",
       "version_major": 2,
       "version_minor": 0
      },
      "text/plain": [
       "  0%|          | 0/157 [00:00<?, ?it/s]"
      ]
     },
     "metadata": {},
     "output_type": "display_data"
    },
    {
     "name": "stdout",
     "output_type": "stream",
     "text": [
      "Epoch: [0][0/157]\tTime 2.567 (2.567)\tData 1.510 (1.510)\tLoss 1.0528 (1.0528)\tPrec@1 62.500 (62.500)\n",
      "Epoch: [0][50/157]\tTime 1.055 (1.084)\tData 0.001 (0.031)\tLoss 1.1955 (1.1660)\tPrec@1 59.766 (61.275)\n",
      "Epoch: [0][100/157]\tTime 1.056 (1.070)\tData 0.001 (0.016)\tLoss 1.2669 (1.1656)\tPrec@1 57.031 (61.100)\n",
      "Epoch: [0][150/157]\tTime 1.055 (1.065)\tData 0.001 (0.011)\tLoss 1.0393 (1.1656)\tPrec@1 65.625 (60.987)\n",
      "Test: [0/10]\tTime 5.197 (5.197)\tLoss 0.6707 (0.6707)\tPrec@1 76.660 (76.660)\n",
      " * Prec@1 77.920\n",
      "Best prec1 :  77.92000015869141\n",
      "current lr 6.66667e-04\n"
     ]
    },
    {
     "data": {
      "application/vnd.jupyter.widget-view+json": {
       "model_id": "cefe900694eb438fa2463436ff0444ae",
       "version_major": 2,
       "version_minor": 0
      },
      "text/plain": [
       "  0%|          | 0/157 [00:00<?, ?it/s]"
      ]
     },
     "metadata": {},
     "output_type": "display_data"
    },
    {
     "name": "stdout",
     "output_type": "stream",
     "text": [
      "Epoch: [1][0/157]\tTime 2.341 (2.341)\tData 1.285 (1.285)\tLoss 1.2866 (1.2866)\tPrec@1 59.375 (59.375)\n",
      "Epoch: [1][50/157]\tTime 1.055 (1.081)\tData 0.001 (0.026)\tLoss 1.3202 (1.1793)\tPrec@1 58.203 (61.275)\n",
      "Epoch: [1][100/157]\tTime 1.056 (1.068)\tData 0.001 (0.014)\tLoss 1.1086 (1.1806)\tPrec@1 62.891 (61.026)\n",
      "Epoch: [1][150/157]\tTime 1.056 (1.064)\tData 0.001 (0.010)\tLoss 1.0457 (1.1768)\tPrec@1 64.453 (60.925)\n",
      "Test: [0/10]\tTime 6.290 (6.290)\tLoss 0.6707 (0.6707)\tPrec@1 76.660 (76.660)\n",
      " * Prec@1 77.920\n",
      "Best prec1 :  77.92000015869141\n",
      "current lr 8.33333e-04\n"
     ]
    },
    {
     "data": {
      "application/vnd.jupyter.widget-view+json": {
       "model_id": "bfebb5e5e49e495a91791e5f8ba59eed",
       "version_major": 2,
       "version_minor": 0
      },
      "text/plain": [
       "  0%|          | 0/157 [00:00<?, ?it/s]"
      ]
     },
     "metadata": {},
     "output_type": "display_data"
    },
    {
     "name": "stdout",
     "output_type": "stream",
     "text": [
      "Epoch: [2][0/157]\tTime 2.554 (2.554)\tData 1.498 (1.498)\tLoss 1.0527 (1.0527)\tPrec@1 64.844 (64.844)\n",
      "Epoch: [2][50/157]\tTime 1.055 (1.085)\tData 0.001 (0.030)\tLoss 1.0144 (1.1779)\tPrec@1 62.891 (60.807)\n",
      "Epoch: [2][100/157]\tTime 1.056 (1.070)\tData 0.001 (0.016)\tLoss 1.1566 (1.1816)\tPrec@1 62.500 (60.694)\n",
      "Epoch: [2][150/157]\tTime 1.055 (1.065)\tData 0.001 (0.011)\tLoss 1.1316 (1.1743)\tPrec@1 64.844 (60.839)\n",
      "Test: [0/10]\tTime 6.340 (6.340)\tLoss 0.6707 (0.6707)\tPrec@1 76.660 (76.660)\n",
      " * Prec@1 77.920\n",
      "Best prec1 :  77.92000015869141\n",
      "current lr 1.00000e-03\n"
     ]
    },
    {
     "data": {
      "application/vnd.jupyter.widget-view+json": {
       "model_id": "891c3d1f4d08498496cfc140159e1e8f",
       "version_major": 2,
       "version_minor": 0
      },
      "text/plain": [
       "  0%|          | 0/157 [00:00<?, ?it/s]"
      ]
     },
     "metadata": {},
     "output_type": "display_data"
    },
    {
     "name": "stdout",
     "output_type": "stream",
     "text": [
      "Epoch: [3][0/157]\tTime 2.525 (2.525)\tData 1.470 (1.470)\tLoss 1.1992 (1.1992)\tPrec@1 60.156 (60.156)\n",
      "Epoch: [3][50/157]\tTime 1.056 (1.084)\tData 0.001 (0.030)\tLoss 1.1587 (1.1984)\tPrec@1 62.500 (60.838)\n",
      "Epoch: [3][100/157]\tTime 1.056 (1.070)\tData 0.001 (0.016)\tLoss 1.2802 (1.1864)\tPrec@1 58.984 (61.108)\n",
      "Epoch: [3][150/157]\tTime 1.056 (1.065)\tData 0.001 (0.011)\tLoss 1.2546 (1.1773)\tPrec@1 59.766 (61.132)\n",
      "Test: [0/10]\tTime 5.819 (5.819)\tLoss 0.6707 (0.6707)\tPrec@1 76.660 (76.660)\n",
      " * Prec@1 77.920\n",
      "Best prec1 :  77.92000015869141\n",
      "current lr 9.75553e-04\n"
     ]
    },
    {
     "data": {
      "application/vnd.jupyter.widget-view+json": {
       "model_id": "6dfe628511a54c1abd97accd5460fc35",
       "version_major": 2,
       "version_minor": 0
      },
      "text/plain": [
       "  0%|          | 0/157 [00:00<?, ?it/s]"
      ]
     },
     "metadata": {},
     "output_type": "display_data"
    },
    {
     "name": "stdout",
     "output_type": "stream",
     "text": [
      "Epoch: [4][0/157]\tTime 2.401 (2.401)\tData 1.345 (1.345)\tLoss 1.0551 (1.0551)\tPrec@1 66.406 (66.406)\n",
      "Epoch: [4][50/157]\tTime 1.055 (1.082)\tData 0.001 (0.027)\tLoss 1.0616 (1.1608)\tPrec@1 60.938 (60.348)\n",
      "Epoch: [4][100/157]\tTime 1.056 (1.069)\tData 0.001 (0.014)\tLoss 1.1765 (1.1639)\tPrec@1 61.719 (60.388)\n",
      "Epoch: [4][150/157]\tTime 1.056 (1.064)\tData 0.001 (0.010)\tLoss 1.2292 (1.1714)\tPrec@1 57.812 (60.482)\n",
      "Test: [0/10]\tTime 5.161 (5.161)\tLoss 0.6707 (0.6707)\tPrec@1 76.660 (76.660)\n",
      " * Prec@1 77.920\n",
      "Best prec1 :  77.92000015869141\n",
      "current lr 9.04604e-04\n"
     ]
    },
    {
     "data": {
      "application/vnd.jupyter.widget-view+json": {
       "model_id": "8fb2c44ff12d43b2897d2a49fea56f57",
       "version_major": 2,
       "version_minor": 0
      },
      "text/plain": [
       "  0%|          | 0/157 [00:00<?, ?it/s]"
      ]
     },
     "metadata": {},
     "output_type": "display_data"
    },
    {
     "name": "stdout",
     "output_type": "stream",
     "text": [
      "Epoch: [5][0/157]\tTime 2.707 (2.707)\tData 1.652 (1.652)\tLoss 1.2040 (1.2040)\tPrec@1 62.500 (62.500)\n",
      "Epoch: [5][50/157]\tTime 1.058 (1.087)\tData 0.001 (0.033)\tLoss 1.0392 (1.1460)\tPrec@1 67.578 (61.803)\n",
      "Epoch: [5][100/157]\tTime 1.055 (1.072)\tData 0.001 (0.017)\tLoss 1.0006 (1.1592)\tPrec@1 67.578 (61.402)\n",
      "Epoch: [5][150/157]\tTime 1.055 (1.066)\tData 0.001 (0.012)\tLoss 1.2834 (1.1586)\tPrec@1 60.156 (61.333)\n",
      "Test: [0/10]\tTime 6.259 (6.259)\tLoss 0.6707 (0.6707)\tPrec@1 76.660 (76.660)\n",
      " * Prec@1 77.920\n",
      "Best prec1 :  77.92000015869141\n",
      "current lr 7.94099e-04\n"
     ]
    },
    {
     "data": {
      "application/vnd.jupyter.widget-view+json": {
       "model_id": "20e3ff36d1654c9cbb338215865aceb3",
       "version_major": 2,
       "version_minor": 0
      },
      "text/plain": [
       "  0%|          | 0/157 [00:00<?, ?it/s]"
      ]
     },
     "metadata": {},
     "output_type": "display_data"
    },
    {
     "name": "stdout",
     "output_type": "stream",
     "text": [
      "Epoch: [6][0/157]\tTime 2.196 (2.196)\tData 1.133 (1.133)\tLoss 1.2001 (1.2001)\tPrec@1 59.766 (59.766)\n",
      "Epoch: [6][50/157]\tTime 1.056 (1.078)\tData 0.001 (0.023)\tLoss 1.1474 (1.2038)\tPrec@1 61.328 (59.544)\n",
      "Epoch: [6][100/157]\tTime 1.056 (1.067)\tData 0.001 (0.012)\tLoss 1.2160 (1.1940)\tPrec@1 58.594 (60.083)\n",
      "Epoch: [6][150/157]\tTime 1.055 (1.063)\tData 0.001 (0.009)\tLoss 1.1275 (1.1934)\tPrec@1 60.938 (60.195)\n",
      "Test: [0/10]\tTime 5.359 (5.359)\tLoss 0.6707 (0.6707)\tPrec@1 76.660 (76.660)\n",
      " * Prec@1 77.920\n",
      "Best prec1 :  77.92000015869141\n",
      "current lr 6.54854e-04\n"
     ]
    },
    {
     "data": {
      "application/vnd.jupyter.widget-view+json": {
       "model_id": "1cd8ec617c6a49cfa8c336a07a7067cd",
       "version_major": 2,
       "version_minor": 0
      },
      "text/plain": [
       "  0%|          | 0/157 [00:00<?, ?it/s]"
      ]
     },
     "metadata": {},
     "output_type": "display_data"
    },
    {
     "name": "stdout",
     "output_type": "stream",
     "text": [
      "Epoch: [7][0/157]\tTime 2.648 (2.648)\tData 1.593 (1.593)\tLoss 1.0796 (1.0796)\tPrec@1 64.453 (64.453)\n",
      "Epoch: [7][50/157]\tTime 1.055 (1.086)\tData 0.001 (0.032)\tLoss 1.1145 (1.1806)\tPrec@1 63.672 (60.118)\n",
      "Epoch: [7][100/157]\tTime 1.056 (1.071)\tData 0.001 (0.017)\tLoss 1.3673 (1.1819)\tPrec@1 55.859 (60.338)\n",
      "Epoch: [7][150/157]\tTime 1.055 (1.066)\tData 0.001 (0.012)\tLoss 1.2692 (1.1741)\tPrec@1 56.250 (60.712)\n",
      "Test: [0/10]\tTime 6.071 (6.071)\tLoss 0.6707 (0.6707)\tPrec@1 76.660 (76.660)\n",
      " * Prec@1 77.920\n",
      "Best prec1 :  77.92000015869141\n",
      "current lr 5.00500e-04\n"
     ]
    },
    {
     "data": {
      "application/vnd.jupyter.widget-view+json": {
       "model_id": "2b73c0b2447640dea1f427cafa4c5c41",
       "version_major": 2,
       "version_minor": 0
      },
      "text/plain": [
       "  0%|          | 0/157 [00:00<?, ?it/s]"
      ]
     },
     "metadata": {},
     "output_type": "display_data"
    },
    {
     "name": "stdout",
     "output_type": "stream",
     "text": [
      "Epoch: [8][0/157]\tTime 2.503 (2.503)\tData 1.447 (1.447)\tLoss 1.0595 (1.0595)\tPrec@1 64.453 (64.453)\n",
      "Epoch: [8][50/157]\tTime 1.055 (1.084)\tData 0.001 (0.029)\tLoss 1.3615 (1.1817)\tPrec@1 54.297 (60.455)\n",
      "Epoch: [8][100/157]\tTime 1.055 (1.070)\tData 0.001 (0.015)\tLoss 1.0571 (1.1636)\tPrec@1 67.188 (61.142)\n",
      "Epoch: [8][150/157]\tTime 1.055 (1.065)\tData 0.001 (0.011)\tLoss 1.0306 (1.1699)\tPrec@1 64.062 (61.000)\n",
      "Test: [0/10]\tTime 5.892 (5.892)\tLoss 0.6707 (0.6707)\tPrec@1 76.660 (76.660)\n",
      " * Prec@1 77.920\n",
      "Best prec1 :  77.92000015869141\n",
      "current lr 3.46146e-04\n"
     ]
    },
    {
     "data": {
      "application/vnd.jupyter.widget-view+json": {
       "model_id": "f1ab574a37494bb1bf31f5e8e52d26f9",
       "version_major": 2,
       "version_minor": 0
      },
      "text/plain": [
       "  0%|          | 0/157 [00:00<?, ?it/s]"
      ]
     },
     "metadata": {},
     "output_type": "display_data"
    },
    {
     "name": "stdout",
     "output_type": "stream",
     "text": [
      "Epoch: [9][0/157]\tTime 2.491 (2.491)\tData 1.435 (1.435)\tLoss 1.0657 (1.0657)\tPrec@1 61.719 (61.719)\n",
      "Epoch: [9][50/157]\tTime 1.055 (1.083)\tData 0.001 (0.029)\tLoss 1.2808 (1.2049)\tPrec@1 55.859 (59.842)\n",
      "Epoch: [9][100/157]\tTime 1.055 (1.069)\tData 0.001 (0.015)\tLoss 1.0808 (1.1957)\tPrec@1 63.281 (60.137)\n",
      "Epoch: [9][150/157]\tTime 1.055 (1.065)\tData 0.001 (0.011)\tLoss 1.0819 (1.1795)\tPrec@1 60.938 (60.733)\n",
      "Test: [0/10]\tTime 5.340 (5.340)\tLoss 0.6707 (0.6707)\tPrec@1 76.660 (76.660)\n",
      " * Prec@1 77.920\n",
      "Best prec1 :  77.92000015869141\n"
     ]
    },
    {
     "data": {
      "text/html": [
       "Finishing last run (ID:8jm4lbzo) before initializing another..."
      ],
      "text/plain": [
       "<IPython.core.display.HTML object>"
      ]
     },
     "metadata": {},
     "output_type": "display_data"
    },
    {
     "data": {
      "text/html": [
       "Waiting for W&B process to finish... <strong style=\"color:green\">(success).</strong>"
      ],
      "text/plain": [
       "<IPython.core.display.HTML object>"
      ]
     },
     "metadata": {},
     "output_type": "display_data"
    },
    {
     "data": {
      "application/vnd.jupyter.widget-view+json": {
       "model_id": "f61da30ac3b04d18887f1e77ed8e839e",
       "version_major": 2,
       "version_minor": 0
      },
      "text/plain": [
       "VBox(children=(Label(value='0.688 MB of 0.688 MB uploaded (0.000 MB deduped)\\r'), FloatProgress(value=1.0, max…"
      ]
     },
     "metadata": {},
     "output_type": "display_data"
    },
    {
     "data": {
      "text/html": [
       "<style>\n",
       "    table.wandb td:nth-child(1) { padding: 0 10px; text-align: left ; width: auto;} td:nth-child(2) {text-align: left ; width: 100%}\n",
       "    .wandb-row { display: flex; flex-direction: row; flex-wrap: wrap; justify-content: flex-start; width: 100% }\n",
       "    .wandb-col { display: flex; flex-direction: column; flex-basis: 100%; flex: 1; padding: 10px; }\n",
       "    </style>\n",
       "<div class=\"wandb-row\"><div class=\"wandb-col\"><h3>Run history:</h3><br/><table class=\"wandb\"><tr><td>epoch</td><td>▁▂▃▃▄▅▆▆▇█</td></tr><tr><td>lr</td><td>▃▄▆██▇▆▄▃▁</td></tr><tr><td>prec</td><td>▁▁▁▁▁▁▁▁▁▁</td></tr><tr><td>train_loss</td><td>▂▅▅▅▄▁█▄▄▆</td></tr><tr><td>val_loss</td><td>▁▁▁▁▁▁▁▁▁▁</td></tr></table><br/></div><div class=\"wandb-col\"><h3>Run summary:</h3><br/><table class=\"wandb\"><tr><td>epoch</td><td>9</td></tr><tr><td>lr</td><td>0.00035</td></tr><tr><td>prec</td><td>77.92</td></tr><tr><td>train_loss</td><td>1.18122</td></tr><tr><td>val_loss</td><td>0.65877</td></tr></table><br/></div></div>"
      ],
      "text/plain": [
       "<IPython.core.display.HTML object>"
      ]
     },
     "metadata": {},
     "output_type": "display_data"
    },
    {
     "data": {
      "text/html": [
       "Synced <strong style=\"color:#cdcd00\">resmlp_k8_attenk4</strong>: <a href=\"https://wandb.ai/keio-csg/pact_mlp_quant/runs/8jm4lbzo\" target=\"_blank\">https://wandb.ai/keio-csg/pact_mlp_quant/runs/8jm4lbzo</a><br/>Synced 7 W&B file(s), 0 media file(s), 0 artifact file(s) and 1 other file(s)"
      ],
      "text/plain": [
       "<IPython.core.display.HTML object>"
      ]
     },
     "metadata": {},
     "output_type": "display_data"
    },
    {
     "data": {
      "text/html": [
       "Find logs at: <code>./wandb/run-20221102_145948-8jm4lbzo/logs</code>"
      ],
      "text/plain": [
       "<IPython.core.display.HTML object>"
      ]
     },
     "metadata": {},
     "output_type": "display_data"
    },
    {
     "data": {
      "text/html": [
       "Successfully finished last run (ID:8jm4lbzo). Initializing new run:<br/>"
      ],
      "text/plain": [
       "<IPython.core.display.HTML object>"
      ]
     },
     "metadata": {},
     "output_type": "display_data"
    },
    {
     "data": {
      "application/vnd.jupyter.widget-view+json": {
       "model_id": "50dfafef56f24094974b69c015b07fee",
       "version_major": 2,
       "version_minor": 0
      },
      "text/plain": [
       "VBox(children=(Label(value='Waiting for wandb.init()...\\r'), FloatProgress(value=0.01667968638551732, max=1.0)…"
      ]
     },
     "metadata": {},
     "output_type": "display_data"
    },
    {
     "data": {
      "text/html": [
       "Tracking run with wandb version 0.13.4"
      ],
      "text/plain": [
       "<IPython.core.display.HTML object>"
      ]
     },
     "metadata": {},
     "output_type": "display_data"
    },
    {
     "data": {
      "text/html": [
       "Run data is saved locally in <code>/media/ken/dsk1/data/quantize_models_sandbox/wandb/run-20221102_153253-18yfil13</code>"
      ],
      "text/plain": [
       "<IPython.core.display.HTML object>"
      ]
     },
     "metadata": {},
     "output_type": "display_data"
    },
    {
     "data": {
      "text/html": [
       "Syncing run <strong><a href=\"https://wandb.ai/keio-csg/pact_mlp_quant/runs/18yfil13\" target=\"_blank\">resmlp_k5_attenk5</a></strong> to <a href=\"https://wandb.ai/keio-csg/pact_mlp_quant\" target=\"_blank\">Weights & Biases</a> (<a href=\"https://wandb.me/run\" target=\"_blank\">docs</a>)<br/>"
      ],
      "text/plain": [
       "<IPython.core.display.HTML object>"
      ]
     },
     "metadata": {},
     "output_type": "display_data"
    },
    {
     "name": "stdout",
     "output_type": "stream",
     "text": [
      "current lr 5.00000e-04\n"
     ]
    },
    {
     "data": {
      "application/vnd.jupyter.widget-view+json": {
       "model_id": "5303c24958b745eba9bd7263f83a65dd",
       "version_major": 2,
       "version_minor": 0
      },
      "text/plain": [
       "  0%|          | 0/157 [00:00<?, ?it/s]"
      ]
     },
     "metadata": {},
     "output_type": "display_data"
    },
    {
     "name": "stdout",
     "output_type": "stream",
     "text": [
      "Epoch: [0][0/157]\tTime 2.444 (2.444)\tData 1.387 (1.387)\tLoss 2.8248 (2.8248)\tPrec@1 10.938 (10.938)\n",
      "Epoch: [0][50/157]\tTime 1.054 (1.080)\tData 0.001 (0.028)\tLoss 2.7381 (2.6905)\tPrec@1 8.594 (10.210)\n",
      "Epoch: [0][100/157]\tTime 1.054 (1.067)\tData 0.001 (0.015)\tLoss 2.7096 (2.6835)\tPrec@1 10.156 (10.214)\n",
      "Epoch: [0][150/157]\tTime 1.055 (1.062)\tData 0.001 (0.010)\tLoss 2.8746 (2.6780)\tPrec@1 9.766 (10.332)\n",
      "Test: [0/10]\tTime 6.144 (6.144)\tLoss 2.6108 (2.6108)\tPrec@1 13.086 (13.086)\n",
      " * Prec@1 10.400\n",
      "Best prec1 :  10.399999978637695\n"
     ]
    },
    {
     "data": {
      "text/html": [
       "Finishing last run (ID:18yfil13) before initializing another..."
      ],
      "text/plain": [
       "<IPython.core.display.HTML object>"
      ]
     },
     "metadata": {},
     "output_type": "display_data"
    },
    {
     "data": {
      "text/html": [
       "Waiting for W&B process to finish... <strong style=\"color:green\">(success).</strong>"
      ],
      "text/plain": [
       "<IPython.core.display.HTML object>"
      ]
     },
     "metadata": {},
     "output_type": "display_data"
    },
    {
     "data": {
      "text/html": [
       "<style>\n",
       "    table.wandb td:nth-child(1) { padding: 0 10px; text-align: left ; width: auto;} td:nth-child(2) {text-align: left ; width: 100%}\n",
       "    .wandb-row { display: flex; flex-direction: row; flex-wrap: wrap; justify-content: flex-start; width: 100% }\n",
       "    .wandb-col { display: flex; flex-direction: column; flex-basis: 100%; flex: 1; padding: 10px; }\n",
       "    </style>\n",
       "<div class=\"wandb-row\"><div class=\"wandb-col\"><h3>Run history:</h3><br/><table class=\"wandb\"><tr><td>epoch</td><td>▁</td></tr><tr><td>lr</td><td>▁</td></tr><tr><td>prec</td><td>▁</td></tr><tr><td>train_loss</td><td>▁</td></tr><tr><td>val_loss</td><td>▁</td></tr></table><br/></div><div class=\"wandb-col\"><h3>Run summary:</h3><br/><table class=\"wandb\"><tr><td>epoch</td><td>0</td></tr><tr><td>lr</td><td>0.0005</td></tr><tr><td>prec</td><td>10.4</td></tr><tr><td>train_loss</td><td>2.67618</td></tr><tr><td>val_loss</td><td>2.68383</td></tr></table><br/></div></div>"
      ],
      "text/plain": [
       "<IPython.core.display.HTML object>"
      ]
     },
     "metadata": {},
     "output_type": "display_data"
    },
    {
     "data": {
      "text/html": [
       "Synced <strong style=\"color:#cdcd00\">resmlp_k5_attenk5</strong>: <a href=\"https://wandb.ai/keio-csg/pact_mlp_quant/runs/18yfil13\" target=\"_blank\">https://wandb.ai/keio-csg/pact_mlp_quant/runs/18yfil13</a><br/>Synced 7 W&B file(s), 0 media file(s), 0 artifact file(s) and 0 other file(s)"
      ],
      "text/plain": [
       "<IPython.core.display.HTML object>"
      ]
     },
     "metadata": {},
     "output_type": "display_data"
    },
    {
     "data": {
      "text/html": [
       "Find logs at: <code>./wandb/run-20221102_153253-18yfil13/logs</code>"
      ],
      "text/plain": [
       "<IPython.core.display.HTML object>"
      ]
     },
     "metadata": {},
     "output_type": "display_data"
    },
    {
     "data": {
      "text/html": [
       "Successfully finished last run (ID:18yfil13). Initializing new run:<br/>"
      ],
      "text/plain": [
       "<IPython.core.display.HTML object>"
      ]
     },
     "metadata": {},
     "output_type": "display_data"
    },
    {
     "data": {
      "application/vnd.jupyter.widget-view+json": {
       "model_id": "d29442693fbf426b98b37eef785650a2",
       "version_major": 2,
       "version_minor": 0
      },
      "text/plain": [
       "VBox(children=(Label(value='Waiting for wandb.init()...\\r'), FloatProgress(value=0.016676972802573194, max=1.0…"
      ]
     },
     "metadata": {},
     "output_type": "display_data"
    },
    {
     "data": {
      "text/html": [
       "Tracking run with wandb version 0.13.4"
      ],
      "text/plain": [
       "<IPython.core.display.HTML object>"
      ]
     },
     "metadata": {},
     "output_type": "display_data"
    },
    {
     "data": {
      "text/html": [
       "Run data is saved locally in <code>/media/ken/dsk1/data/quantize_models_sandbox/wandb/run-20221102_153621-3r87cghq</code>"
      ],
      "text/plain": [
       "<IPython.core.display.HTML object>"
      ]
     },
     "metadata": {},
     "output_type": "display_data"
    },
    {
     "data": {
      "text/html": [
       "Syncing run <strong><a href=\"https://wandb.ai/keio-csg/pact_mlp_quant/runs/3r87cghq\" target=\"_blank\">resmlp_k6_attenk5</a></strong> to <a href=\"https://wandb.ai/keio-csg/pact_mlp_quant\" target=\"_blank\">Weights & Biases</a> (<a href=\"https://wandb.me/run\" target=\"_blank\">docs</a>)<br/>"
      ],
      "text/plain": [
       "<IPython.core.display.HTML object>"
      ]
     },
     "metadata": {},
     "output_type": "display_data"
    },
    {
     "name": "stdout",
     "output_type": "stream",
     "text": [
      "current lr 5.00000e-04\n"
     ]
    },
    {
     "data": {
      "application/vnd.jupyter.widget-view+json": {
       "model_id": "63d6d435dd294cf8a6023db55e947332",
       "version_major": 2,
       "version_minor": 0
      },
      "text/plain": [
       "  0%|          | 0/157 [00:00<?, ?it/s]"
      ]
     },
     "metadata": {},
     "output_type": "display_data"
    },
    {
     "name": "stdout",
     "output_type": "stream",
     "text": [
      "Epoch: [0][0/157]\tTime 2.422 (2.422)\tData 1.367 (1.367)\tLoss 2.7087 (2.7087)\tPrec@1 17.188 (17.188)\n",
      "Epoch: [0][50/157]\tTime 1.054 (1.079)\tData 0.001 (0.028)\tLoss 2.7412 (2.7265)\tPrec@1 16.016 (15.365)\n",
      "Epoch: [0][100/157]\tTime 1.054 (1.067)\tData 0.001 (0.015)\tLoss 2.7398 (2.7206)\tPrec@1 19.141 (15.354)\n",
      "Epoch: [0][150/157]\tTime 1.054 (1.063)\tData 0.001 (0.010)\tLoss 2.7349 (2.7044)\tPrec@1 15.234 (15.731)\n",
      "Test: [0/10]\tTime 6.683 (6.683)\tLoss 2.5738 (2.5738)\tPrec@1 20.996 (20.996)\n",
      " * Prec@1 15.460\n",
      "Best prec1 :  15.459999980163575\n"
     ]
    },
    {
     "data": {
      "text/html": [
       "Finishing last run (ID:3r87cghq) before initializing another..."
      ],
      "text/plain": [
       "<IPython.core.display.HTML object>"
      ]
     },
     "metadata": {},
     "output_type": "display_data"
    },
    {
     "data": {
      "text/html": [
       "Waiting for W&B process to finish... <strong style=\"color:green\">(success).</strong>"
      ],
      "text/plain": [
       "<IPython.core.display.HTML object>"
      ]
     },
     "metadata": {},
     "output_type": "display_data"
    },
    {
     "data": {
      "application/vnd.jupyter.widget-view+json": {
       "model_id": "3a1f62b7ba2348b49f39ca9215ac5f55",
       "version_major": 2,
       "version_minor": 0
      },
      "text/plain": [
       "VBox(children=(Label(value='0.700 MB of 0.700 MB uploaded (0.000 MB deduped)\\r'), FloatProgress(value=1.0, max…"
      ]
     },
     "metadata": {},
     "output_type": "display_data"
    },
    {
     "data": {
      "text/html": [
       "<style>\n",
       "    table.wandb td:nth-child(1) { padding: 0 10px; text-align: left ; width: auto;} td:nth-child(2) {text-align: left ; width: 100%}\n",
       "    .wandb-row { display: flex; flex-direction: row; flex-wrap: wrap; justify-content: flex-start; width: 100% }\n",
       "    .wandb-col { display: flex; flex-direction: column; flex-basis: 100%; flex: 1; padding: 10px; }\n",
       "    </style>\n",
       "<div class=\"wandb-row\"><div class=\"wandb-col\"><h3>Run history:</h3><br/><table class=\"wandb\"><tr><td>epoch</td><td>▁</td></tr><tr><td>lr</td><td>▁</td></tr><tr><td>prec</td><td>▁</td></tr><tr><td>train_loss</td><td>▁</td></tr><tr><td>val_loss</td><td>▁</td></tr></table><br/></div><div class=\"wandb-col\"><h3>Run summary:</h3><br/><table class=\"wandb\"><tr><td>epoch</td><td>0</td></tr><tr><td>lr</td><td>0.0005</td></tr><tr><td>prec</td><td>15.46</td></tr><tr><td>train_loss</td><td>2.70279</td></tr><tr><td>val_loss</td><td>2.56047</td></tr></table><br/></div></div>"
      ],
      "text/plain": [
       "<IPython.core.display.HTML object>"
      ]
     },
     "metadata": {},
     "output_type": "display_data"
    },
    {
     "data": {
      "text/html": [
       "Synced <strong style=\"color:#cdcd00\">resmlp_k6_attenk5</strong>: <a href=\"https://wandb.ai/keio-csg/pact_mlp_quant/runs/3r87cghq\" target=\"_blank\">https://wandb.ai/keio-csg/pact_mlp_quant/runs/3r87cghq</a><br/>Synced 7 W&B file(s), 0 media file(s), 0 artifact file(s) and 1 other file(s)"
      ],
      "text/plain": [
       "<IPython.core.display.HTML object>"
      ]
     },
     "metadata": {},
     "output_type": "display_data"
    },
    {
     "data": {
      "text/html": [
       "Find logs at: <code>./wandb/run-20221102_153621-3r87cghq/logs</code>"
      ],
      "text/plain": [
       "<IPython.core.display.HTML object>"
      ]
     },
     "metadata": {},
     "output_type": "display_data"
    },
    {
     "data": {
      "text/html": [
       "Successfully finished last run (ID:3r87cghq). Initializing new run:<br/>"
      ],
      "text/plain": [
       "<IPython.core.display.HTML object>"
      ]
     },
     "metadata": {},
     "output_type": "display_data"
    },
    {
     "data": {
      "application/vnd.jupyter.widget-view+json": {
       "model_id": "009e2e232e0b412493be407ed61b1b39",
       "version_major": 2,
       "version_minor": 0
      },
      "text/plain": [
       "VBox(children=(Label(value='Waiting for wandb.init()...\\r'), FloatProgress(value=0.01667691928256924, max=1.0)…"
      ]
     },
     "metadata": {},
     "output_type": "display_data"
    },
    {
     "data": {
      "text/html": [
       "Tracking run with wandb version 0.13.4"
      ],
      "text/plain": [
       "<IPython.core.display.HTML object>"
      ]
     },
     "metadata": {},
     "output_type": "display_data"
    },
    {
     "data": {
      "text/html": [
       "Run data is saved locally in <code>/media/ken/dsk1/data/quantize_models_sandbox/wandb/run-20221102_153950-312mx12o</code>"
      ],
      "text/plain": [
       "<IPython.core.display.HTML object>"
      ]
     },
     "metadata": {},
     "output_type": "display_data"
    },
    {
     "data": {
      "text/html": [
       "Syncing run <strong><a href=\"https://wandb.ai/keio-csg/pact_mlp_quant/runs/312mx12o\" target=\"_blank\">resmlp_k7_attenk5</a></strong> to <a href=\"https://wandb.ai/keio-csg/pact_mlp_quant\" target=\"_blank\">Weights & Biases</a> (<a href=\"https://wandb.me/run\" target=\"_blank\">docs</a>)<br/>"
      ],
      "text/plain": [
       "<IPython.core.display.HTML object>"
      ]
     },
     "metadata": {},
     "output_type": "display_data"
    },
    {
     "name": "stdout",
     "output_type": "stream",
     "text": [
      "current lr 5.00000e-04\n"
     ]
    },
    {
     "data": {
      "application/vnd.jupyter.widget-view+json": {
       "model_id": "f2441b59479c49be8156561ebdefa710",
       "version_major": 2,
       "version_minor": 0
      },
      "text/plain": [
       "  0%|          | 0/157 [00:00<?, ?it/s]"
      ]
     },
     "metadata": {},
     "output_type": "display_data"
    },
    {
     "name": "stdout",
     "output_type": "stream",
     "text": [
      "Epoch: [0][0/157]\tTime 2.465 (2.465)\tData 1.407 (1.407)\tLoss 0.7886 (0.7886)\tPrec@1 74.609 (74.609)\n",
      "Epoch: [0][50/157]\tTime 1.054 (1.081)\tData 0.001 (0.029)\tLoss 0.9394 (0.8362)\tPrec@1 67.969 (70.688)\n",
      "Epoch: [0][100/157]\tTime 1.055 (1.068)\tData 0.001 (0.015)\tLoss 0.7906 (0.8421)\tPrec@1 70.312 (70.750)\n",
      "Epoch: [0][150/157]\tTime 1.054 (1.064)\tData 0.001 (0.010)\tLoss 0.8662 (0.8491)\tPrec@1 69.141 (70.421)\n",
      "Test: [0/10]\tTime 5.607 (5.607)\tLoss 0.4531 (0.4531)\tPrec@1 84.668 (84.668)\n",
      " * Prec@1 83.670\n",
      "Best prec1 :  83.67000009765626\n",
      "current lr 6.66667e-04\n"
     ]
    },
    {
     "data": {
      "application/vnd.jupyter.widget-view+json": {
       "model_id": "5cb3b58f55b74db7b7a11463ade321c0",
       "version_major": 2,
       "version_minor": 0
      },
      "text/plain": [
       "  0%|          | 0/157 [00:00<?, ?it/s]"
      ]
     },
     "metadata": {},
     "output_type": "display_data"
    },
    {
     "name": "stdout",
     "output_type": "stream",
     "text": [
      "Epoch: [1][0/157]\tTime 2.731 (2.731)\tData 1.677 (1.677)\tLoss 1.1066 (1.1066)\tPrec@1 64.062 (64.062)\n",
      "Epoch: [1][50/157]\tTime 1.054 (1.087)\tData 0.001 (0.034)\tLoss 0.9363 (0.8456)\tPrec@1 68.359 (70.489)\n",
      "Epoch: [1][100/157]\tTime 1.055 (1.071)\tData 0.001 (0.018)\tLoss 0.8839 (0.8546)\tPrec@1 69.922 (70.115)\n",
      "Epoch: [1][150/157]\tTime 1.055 (1.066)\tData 0.001 (0.012)\tLoss 0.8903 (0.8517)\tPrec@1 69.922 (70.240)\n",
      "Test: [0/10]\tTime 6.152 (6.152)\tLoss 0.4531 (0.4531)\tPrec@1 84.668 (84.668)\n",
      " * Prec@1 83.670\n",
      "Best prec1 :  83.67000009765626\n",
      "current lr 8.33333e-04\n"
     ]
    },
    {
     "data": {
      "application/vnd.jupyter.widget-view+json": {
       "model_id": "9e00f34db2604223b4b52014628daab5",
       "version_major": 2,
       "version_minor": 0
      },
      "text/plain": [
       "  0%|          | 0/157 [00:00<?, ?it/s]"
      ]
     },
     "metadata": {},
     "output_type": "display_data"
    },
    {
     "name": "stdout",
     "output_type": "stream",
     "text": [
      "Epoch: [2][0/157]\tTime 2.461 (2.461)\tData 1.406 (1.406)\tLoss 1.0144 (1.0144)\tPrec@1 67.188 (67.188)\n",
      "Epoch: [2][50/157]\tTime 1.055 (1.082)\tData 0.001 (0.029)\tLoss 0.8024 (0.8355)\tPrec@1 71.484 (70.841)\n",
      "Epoch: [2][100/157]\tTime 1.055 (1.069)\tData 0.001 (0.015)\tLoss 0.7729 (0.8425)\tPrec@1 71.484 (70.618)\n",
      "Epoch: [2][150/157]\tTime 1.055 (1.064)\tData 0.001 (0.010)\tLoss 0.9705 (0.8434)\tPrec@1 66.406 (70.620)\n",
      "Test: [0/10]\tTime 6.377 (6.377)\tLoss 0.4531 (0.4531)\tPrec@1 84.668 (84.668)\n",
      " * Prec@1 83.670\n",
      "Best prec1 :  83.67000009765626\n",
      "current lr 1.00000e-03\n"
     ]
    },
    {
     "data": {
      "application/vnd.jupyter.widget-view+json": {
       "model_id": "c30adf7d3eda4a52994104d7531425c2",
       "version_major": 2,
       "version_minor": 0
      },
      "text/plain": [
       "  0%|          | 0/157 [00:00<?, ?it/s]"
      ]
     },
     "metadata": {},
     "output_type": "display_data"
    },
    {
     "name": "stdout",
     "output_type": "stream",
     "text": [
      "Epoch: [3][0/157]\tTime 2.435 (2.435)\tData 1.380 (1.380)\tLoss 0.7981 (0.7981)\tPrec@1 71.875 (71.875)\n",
      "Epoch: [3][50/157]\tTime 1.055 (1.081)\tData 0.001 (0.028)\tLoss 0.8482 (0.8438)\tPrec@1 70.703 (70.718)\n",
      "Epoch: [3][100/157]\tTime 1.056 (1.068)\tData 0.001 (0.015)\tLoss 0.6627 (0.8427)\tPrec@1 77.734 (70.719)\n",
      "Epoch: [3][150/157]\tTime 1.054 (1.064)\tData 0.001 (0.010)\tLoss 0.7870 (0.8468)\tPrec@1 73.047 (70.610)\n",
      "Test: [0/10]\tTime 5.575 (5.575)\tLoss 0.4531 (0.4531)\tPrec@1 84.668 (84.668)\n",
      " * Prec@1 83.670\n",
      "Best prec1 :  83.67000009765626\n",
      "current lr 9.75553e-04\n"
     ]
    },
    {
     "data": {
      "application/vnd.jupyter.widget-view+json": {
       "model_id": "fbd2efee9f0846f3b0c439f056ca67ee",
       "version_major": 2,
       "version_minor": 0
      },
      "text/plain": [
       "  0%|          | 0/157 [00:00<?, ?it/s]"
      ]
     },
     "metadata": {},
     "output_type": "display_data"
    },
    {
     "name": "stdout",
     "output_type": "stream",
     "text": [
      "Epoch: [4][0/157]\tTime 2.369 (2.369)\tData 1.314 (1.314)\tLoss 0.8467 (0.8467)\tPrec@1 70.312 (70.312)\n",
      "Epoch: [4][50/157]\tTime 1.055 (1.080)\tData 0.001 (0.027)\tLoss 0.9102 (0.8528)\tPrec@1 67.188 (70.335)\n",
      "Epoch: [4][100/157]\tTime 1.055 (1.068)\tData 0.001 (0.014)\tLoss 0.9877 (0.8587)\tPrec@1 66.406 (70.115)\n",
      "Epoch: [4][150/157]\tTime 1.055 (1.063)\tData 0.001 (0.010)\tLoss 0.8643 (0.8523)\tPrec@1 69.922 (70.338)\n",
      "Test: [0/10]\tTime 5.929 (5.929)\tLoss 0.4531 (0.4531)\tPrec@1 84.668 (84.668)\n",
      " * Prec@1 83.670\n",
      "Best prec1 :  83.67000009765626\n",
      "current lr 9.04604e-04\n"
     ]
    },
    {
     "data": {
      "application/vnd.jupyter.widget-view+json": {
       "model_id": "2b74921bd7b84334af416f11beda01f6",
       "version_major": 2,
       "version_minor": 0
      },
      "text/plain": [
       "  0%|          | 0/157 [00:00<?, ?it/s]"
      ]
     },
     "metadata": {},
     "output_type": "display_data"
    },
    {
     "name": "stdout",
     "output_type": "stream",
     "text": [
      "Epoch: [5][0/157]\tTime 2.566 (2.566)\tData 1.512 (1.512)\tLoss 0.9328 (0.9328)\tPrec@1 68.750 (68.750)\n",
      "Epoch: [5][50/157]\tTime 1.055 (1.084)\tData 0.001 (0.031)\tLoss 0.9627 (0.8447)\tPrec@1 68.750 (70.512)\n",
      "Epoch: [5][100/157]\tTime 1.055 (1.069)\tData 0.001 (0.016)\tLoss 0.9740 (0.8495)\tPrec@1 67.578 (70.181)\n",
      "Epoch: [5][150/157]\tTime 1.054 (1.065)\tData 0.001 (0.011)\tLoss 0.7471 (0.8456)\tPrec@1 75.391 (70.468)\n",
      "Test: [0/10]\tTime 5.759 (5.759)\tLoss 0.4531 (0.4531)\tPrec@1 84.668 (84.668)\n",
      " * Prec@1 83.670\n",
      "Best prec1 :  83.67000009765626\n",
      "current lr 7.94099e-04\n"
     ]
    },
    {
     "data": {
      "application/vnd.jupyter.widget-view+json": {
       "model_id": "753978df512242e28f7a1131f3e6aa44",
       "version_major": 2,
       "version_minor": 0
      },
      "text/plain": [
       "  0%|          | 0/157 [00:00<?, ?it/s]"
      ]
     },
     "metadata": {},
     "output_type": "display_data"
    },
    {
     "name": "stdout",
     "output_type": "stream",
     "text": [
      "Epoch: [6][0/157]\tTime 2.726 (2.726)\tData 1.673 (1.673)\tLoss 0.9749 (0.9749)\tPrec@1 64.062 (64.062)\n",
      "Epoch: [6][50/157]\tTime 1.055 (1.087)\tData 0.001 (0.034)\tLoss 0.8617 (0.8605)\tPrec@1 69.531 (70.366)\n",
      "Epoch: [6][100/157]\tTime 1.055 (1.071)\tData 0.001 (0.018)\tLoss 0.9158 (0.8609)\tPrec@1 70.312 (70.119)\n",
      "Epoch: [6][150/157]\tTime 1.058 (1.066)\tData 0.001 (0.012)\tLoss 0.9095 (0.8575)\tPrec@1 71.484 (70.165)\n",
      "Test: [0/10]\tTime 5.177 (5.177)\tLoss 0.4531 (0.4531)\tPrec@1 84.668 (84.668)\n",
      " * Prec@1 83.670\n",
      "Best prec1 :  83.67000009765626\n",
      "current lr 6.54854e-04\n"
     ]
    },
    {
     "data": {
      "application/vnd.jupyter.widget-view+json": {
       "model_id": "014b6e0aea29432b9c7cbc565a1e1235",
       "version_major": 2,
       "version_minor": 0
      },
      "text/plain": [
       "  0%|          | 0/157 [00:00<?, ?it/s]"
      ]
     },
     "metadata": {},
     "output_type": "display_data"
    },
    {
     "name": "stdout",
     "output_type": "stream",
     "text": [
      "Epoch: [7][0/157]\tTime 2.638 (2.638)\tData 1.584 (1.584)\tLoss 0.8426 (0.8426)\tPrec@1 69.531 (69.531)\n",
      "Epoch: [7][50/157]\tTime 1.054 (1.086)\tData 0.001 (0.032)\tLoss 0.8090 (0.8465)\tPrec@1 72.266 (70.527)\n",
      "Epoch: [7][100/157]\tTime 1.055 (1.070)\tData 0.001 (0.017)\tLoss 0.6830 (0.8429)\tPrec@1 75.781 (70.545)\n",
      "Epoch: [7][150/157]\tTime 1.054 (1.065)\tData 0.001 (0.012)\tLoss 0.9791 (0.8433)\tPrec@1 67.969 (70.576)\n",
      "Test: [0/10]\tTime 5.721 (5.721)\tLoss 0.4531 (0.4531)\tPrec@1 84.668 (84.668)\n",
      " * Prec@1 83.670\n",
      "Best prec1 :  83.67000009765626\n",
      "current lr 5.00500e-04\n"
     ]
    },
    {
     "data": {
      "application/vnd.jupyter.widget-view+json": {
       "model_id": "bc070e7898f54b05b6564f3bc8bff390",
       "version_major": 2,
       "version_minor": 0
      },
      "text/plain": [
       "  0%|          | 0/157 [00:00<?, ?it/s]"
      ]
     },
     "metadata": {},
     "output_type": "display_data"
    },
    {
     "name": "stdout",
     "output_type": "stream",
     "text": [
      "Epoch: [8][0/157]\tTime 2.665 (2.665)\tData 1.611 (1.611)\tLoss 0.8278 (0.8278)\tPrec@1 69.531 (69.531)\n",
      "Epoch: [8][50/157]\tTime 1.054 (1.086)\tData 0.001 (0.033)\tLoss 0.9337 (0.8435)\tPrec@1 65.625 (70.688)\n",
      "Epoch: [8][100/157]\tTime 1.054 (1.070)\tData 0.001 (0.017)\tLoss 0.8733 (0.8452)\tPrec@1 71.484 (70.560)\n",
      "Epoch: [8][150/157]\tTime 1.054 (1.065)\tData 0.001 (0.012)\tLoss 0.8031 (0.8504)\tPrec@1 75.000 (70.297)\n",
      "Test: [0/10]\tTime 5.627 (5.627)\tLoss 0.4531 (0.4531)\tPrec@1 84.668 (84.668)\n",
      " * Prec@1 83.670\n",
      "Best prec1 :  83.67000009765626\n",
      "current lr 3.46146e-04\n"
     ]
    },
    {
     "data": {
      "application/vnd.jupyter.widget-view+json": {
       "model_id": "cabcf07b26a24822baf09d829d939509",
       "version_major": 2,
       "version_minor": 0
      },
      "text/plain": [
       "  0%|          | 0/157 [00:00<?, ?it/s]"
      ]
     },
     "metadata": {},
     "output_type": "display_data"
    },
    {
     "name": "stdout",
     "output_type": "stream",
     "text": [
      "Epoch: [9][0/157]\tTime 2.590 (2.590)\tData 1.535 (1.535)\tLoss 0.7727 (0.7727)\tPrec@1 73.828 (73.828)\n",
      "Epoch: [9][50/157]\tTime 1.054 (1.084)\tData 0.001 (0.031)\tLoss 0.8366 (0.8504)\tPrec@1 70.703 (70.290)\n",
      "Epoch: [9][100/157]\tTime 1.055 (1.070)\tData 0.001 (0.016)\tLoss 0.7292 (0.8446)\tPrec@1 71.094 (70.463)\n",
      "Epoch: [9][150/157]\tTime 1.055 (1.065)\tData 0.001 (0.011)\tLoss 0.7999 (0.8507)\tPrec@1 72.656 (70.364)\n",
      "Test: [0/10]\tTime 5.158 (5.158)\tLoss 0.4531 (0.4531)\tPrec@1 84.668 (84.668)\n",
      " * Prec@1 83.670\n",
      "Best prec1 :  83.67000009765626\n"
     ]
    },
    {
     "data": {
      "text/html": [
       "Finishing last run (ID:312mx12o) before initializing another..."
      ],
      "text/plain": [
       "<IPython.core.display.HTML object>"
      ]
     },
     "metadata": {},
     "output_type": "display_data"
    },
    {
     "data": {
      "text/html": [
       "Waiting for W&B process to finish... <strong style=\"color:green\">(success).</strong>"
      ],
      "text/plain": [
       "<IPython.core.display.HTML object>"
      ]
     },
     "metadata": {},
     "output_type": "display_data"
    },
    {
     "data": {
      "application/vnd.jupyter.widget-view+json": {
       "model_id": "5b3b62d46ee54b809e67202fc9f1b391",
       "version_major": 2,
       "version_minor": 0
      },
      "text/plain": [
       "VBox(children=(Label(value='0.704 MB of 0.719 MB uploaded (0.000 MB deduped)\\r'), FloatProgress(value=0.979379…"
      ]
     },
     "metadata": {},
     "output_type": "display_data"
    },
    {
     "data": {
      "text/html": [
       "<style>\n",
       "    table.wandb td:nth-child(1) { padding: 0 10px; text-align: left ; width: auto;} td:nth-child(2) {text-align: left ; width: 100%}\n",
       "    .wandb-row { display: flex; flex-direction: row; flex-wrap: wrap; justify-content: flex-start; width: 100% }\n",
       "    .wandb-col { display: flex; flex-direction: column; flex-basis: 100%; flex: 1; padding: 10px; }\n",
       "    </style>\n",
       "<div class=\"wandb-row\"><div class=\"wandb-col\"><h3>Run history:</h3><br/><table class=\"wandb\"><tr><td>epoch</td><td>▁▂▃▃▄▅▆▆▇█</td></tr><tr><td>lr</td><td>▃▄▆██▇▆▄▃▁</td></tr><tr><td>prec</td><td>▁▁▁▁▁▁▁▁▁▁</td></tr><tr><td>train_loss</td><td>▄▇▁▃▅▂█▁▅▃</td></tr><tr><td>val_loss</td><td>▁▁▁▁▁▁▁▁▁▁</td></tr></table><br/></div><div class=\"wandb-col\"><h3>Run summary:</h3><br/><table class=\"wandb\"><tr><td>epoch</td><td>9</td></tr><tr><td>lr</td><td>0.00035</td></tr><tr><td>prec</td><td>83.67</td></tr><tr><td>train_loss</td><td>0.84781</td></tr><tr><td>val_loss</td><td>0.46521</td></tr></table><br/></div></div>"
      ],
      "text/plain": [
       "<IPython.core.display.HTML object>"
      ]
     },
     "metadata": {},
     "output_type": "display_data"
    },
    {
     "data": {
      "text/html": [
       "Synced <strong style=\"color:#cdcd00\">resmlp_k7_attenk5</strong>: <a href=\"https://wandb.ai/keio-csg/pact_mlp_quant/runs/312mx12o\" target=\"_blank\">https://wandb.ai/keio-csg/pact_mlp_quant/runs/312mx12o</a><br/>Synced 7 W&B file(s), 0 media file(s), 0 artifact file(s) and 0 other file(s)"
      ],
      "text/plain": [
       "<IPython.core.display.HTML object>"
      ]
     },
     "metadata": {},
     "output_type": "display_data"
    },
    {
     "data": {
      "text/html": [
       "Find logs at: <code>./wandb/run-20221102_153950-312mx12o/logs</code>"
      ],
      "text/plain": [
       "<IPython.core.display.HTML object>"
      ]
     },
     "metadata": {},
     "output_type": "display_data"
    },
    {
     "data": {
      "text/html": [
       "Successfully finished last run (ID:312mx12o). Initializing new run:<br/>"
      ],
      "text/plain": [
       "<IPython.core.display.HTML object>"
      ]
     },
     "metadata": {},
     "output_type": "display_data"
    },
    {
     "data": {
      "application/vnd.jupyter.widget-view+json": {
       "model_id": "1ee8c6b9e07f4a0b875f9ad427525fa9",
       "version_major": 2,
       "version_minor": 0
      },
      "text/plain": [
       "VBox(children=(Label(value='Waiting for wandb.init()...\\r'), FloatProgress(value=0.016668856652298322, max=1.0…"
      ]
     },
     "metadata": {},
     "output_type": "display_data"
    },
    {
     "data": {
      "text/html": [
       "Tracking run with wandb version 0.13.4"
      ],
      "text/plain": [
       "<IPython.core.display.HTML object>"
      ]
     },
     "metadata": {},
     "output_type": "display_data"
    },
    {
     "data": {
      "text/html": [
       "Run data is saved locally in <code>/media/ken/dsk1/data/quantize_models_sandbox/wandb/run-20221102_161254-370z4r0r</code>"
      ],
      "text/plain": [
       "<IPython.core.display.HTML object>"
      ]
     },
     "metadata": {},
     "output_type": "display_data"
    },
    {
     "data": {
      "text/html": [
       "Syncing run <strong><a href=\"https://wandb.ai/keio-csg/pact_mlp_quant/runs/370z4r0r\" target=\"_blank\">resmlp_k8_attenk5</a></strong> to <a href=\"https://wandb.ai/keio-csg/pact_mlp_quant\" target=\"_blank\">Weights & Biases</a> (<a href=\"https://wandb.me/run\" target=\"_blank\">docs</a>)<br/>"
      ],
      "text/plain": [
       "<IPython.core.display.HTML object>"
      ]
     },
     "metadata": {},
     "output_type": "display_data"
    },
    {
     "name": "stdout",
     "output_type": "stream",
     "text": [
      "current lr 5.00000e-04\n"
     ]
    },
    {
     "data": {
      "application/vnd.jupyter.widget-view+json": {
       "model_id": "0c08c4f563c747d3a1e290f86581dc3a",
       "version_major": 2,
       "version_minor": 0
      },
      "text/plain": [
       "  0%|          | 0/157 [00:00<?, ?it/s]"
      ]
     },
     "metadata": {},
     "output_type": "display_data"
    },
    {
     "name": "stdout",
     "output_type": "stream",
     "text": [
      "Epoch: [0][0/157]\tTime 2.734 (2.734)\tData 1.679 (1.679)\tLoss 0.3700 (0.3700)\tPrec@1 85.938 (85.938)\n",
      "Epoch: [0][50/157]\tTime 1.054 (1.086)\tData 0.001 (0.034)\tLoss 0.3911 (0.3488)\tPrec@1 86.328 (88.051)\n",
      "Epoch: [0][100/157]\tTime 1.055 (1.071)\tData 0.001 (0.018)\tLoss 0.3492 (0.3484)\tPrec@1 85.938 (87.883)\n",
      "Epoch: [0][150/157]\tTime 1.055 (1.066)\tData 0.001 (0.012)\tLoss 0.3509 (0.3460)\tPrec@1 87.891 (87.898)\n",
      "Test: [0/10]\tTime 5.123 (5.123)\tLoss 0.1865 (0.1865)\tPrec@1 93.555 (93.555)\n",
      " * Prec@1 93.490\n",
      "Best prec1 :  93.48999990234375\n",
      "current lr 6.66667e-04\n"
     ]
    },
    {
     "data": {
      "application/vnd.jupyter.widget-view+json": {
       "model_id": "173f235a3b0a4a05bc2487d43603e01b",
       "version_major": 2,
       "version_minor": 0
      },
      "text/plain": [
       "  0%|          | 0/157 [00:00<?, ?it/s]"
      ]
     },
     "metadata": {},
     "output_type": "display_data"
    },
    {
     "name": "stdout",
     "output_type": "stream",
     "text": [
      "Epoch: [1][0/157]\tTime 2.358 (2.358)\tData 1.303 (1.303)\tLoss 0.4393 (0.4393)\tPrec@1 86.328 (86.328)\n",
      "Epoch: [1][50/157]\tTime 1.054 (1.080)\tData 0.001 (0.027)\tLoss 0.2880 (0.3512)\tPrec@1 89.062 (87.584)\n",
      "Epoch: [1][100/157]\tTime 1.055 (1.068)\tData 0.001 (0.014)\tLoss 0.2762 (0.3455)\tPrec@1 90.234 (87.755)\n",
      "Epoch: [1][150/157]\tTime 1.055 (1.064)\tData 0.001 (0.010)\tLoss 0.3513 (0.3440)\tPrec@1 86.328 (87.738)\n",
      "Test: [0/10]\tTime 6.181 (6.181)\tLoss 0.1865 (0.1865)\tPrec@1 93.555 (93.555)\n",
      " * Prec@1 93.490\n",
      "Best prec1 :  93.48999990234375\n",
      "current lr 8.33333e-04\n"
     ]
    },
    {
     "data": {
      "application/vnd.jupyter.widget-view+json": {
       "model_id": "d48bfe51357c4845a2103963b91b79e4",
       "version_major": 2,
       "version_minor": 0
      },
      "text/plain": [
       "  0%|          | 0/157 [00:00<?, ?it/s]"
      ]
     },
     "metadata": {},
     "output_type": "display_data"
    },
    {
     "name": "stdout",
     "output_type": "stream",
     "text": [
      "Epoch: [2][0/157]\tTime 2.692 (2.692)\tData 1.637 (1.637)\tLoss 0.3403 (0.3403)\tPrec@1 86.719 (86.719)\n",
      "Epoch: [2][50/157]\tTime 1.055 (1.087)\tData 0.001 (0.033)\tLoss 0.3723 (0.3497)\tPrec@1 87.109 (87.469)\n",
      "Epoch: [2][100/157]\tTime 1.054 (1.071)\tData 0.001 (0.017)\tLoss 0.3115 (0.3478)\tPrec@1 89.453 (87.705)\n",
      "Epoch: [2][150/157]\tTime 1.055 (1.066)\tData 0.001 (0.012)\tLoss 0.3171 (0.3475)\tPrec@1 88.672 (87.766)\n",
      "Test: [0/10]\tTime 5.144 (5.144)\tLoss 0.1865 (0.1865)\tPrec@1 93.555 (93.555)\n",
      " * Prec@1 93.490\n",
      "Best prec1 :  93.48999990234375\n",
      "current lr 1.00000e-03\n"
     ]
    },
    {
     "data": {
      "application/vnd.jupyter.widget-view+json": {
       "model_id": "b582eb23ae4841cd966fc4b57ff0f327",
       "version_major": 2,
       "version_minor": 0
      },
      "text/plain": [
       "  0%|          | 0/157 [00:00<?, ?it/s]"
      ]
     },
     "metadata": {},
     "output_type": "display_data"
    },
    {
     "name": "stdout",
     "output_type": "stream",
     "text": [
      "Epoch: [3][0/157]\tTime 2.628 (2.628)\tData 1.573 (1.573)\tLoss 0.4124 (0.4124)\tPrec@1 83.984 (83.984)\n",
      "Epoch: [3][50/157]\tTime 1.055 (1.085)\tData 0.001 (0.032)\tLoss 0.2521 (0.3447)\tPrec@1 92.969 (88.143)\n",
      "Epoch: [3][100/157]\tTime 1.055 (1.071)\tData 0.001 (0.017)\tLoss 0.3395 (0.3465)\tPrec@1 90.234 (87.929)\n",
      "Epoch: [3][150/157]\tTime 1.055 (1.065)\tData 0.001 (0.011)\tLoss 0.3342 (0.3441)\tPrec@1 87.109 (87.924)\n",
      "Test: [0/10]\tTime 6.180 (6.180)\tLoss 0.1865 (0.1865)\tPrec@1 93.555 (93.555)\n",
      " * Prec@1 93.490\n",
      "Best prec1 :  93.48999990234375\n",
      "current lr 9.75553e-04\n"
     ]
    },
    {
     "data": {
      "application/vnd.jupyter.widget-view+json": {
       "model_id": "88ba9194646344079954cd62bead1b68",
       "version_major": 2,
       "version_minor": 0
      },
      "text/plain": [
       "  0%|          | 0/157 [00:00<?, ?it/s]"
      ]
     },
     "metadata": {},
     "output_type": "display_data"
    },
    {
     "name": "stdout",
     "output_type": "stream",
     "text": [
      "Epoch: [4][0/157]\tTime 2.646 (2.646)\tData 1.591 (1.591)\tLoss 0.3590 (0.3590)\tPrec@1 89.844 (89.844)\n",
      "Epoch: [4][50/157]\tTime 1.055 (1.086)\tData 0.001 (0.032)\tLoss 0.3583 (0.3423)\tPrec@1 87.500 (87.914)\n",
      "Epoch: [4][100/157]\tTime 1.055 (1.071)\tData 0.001 (0.017)\tLoss 0.3201 (0.3456)\tPrec@1 87.891 (87.833)\n",
      "Epoch: [4][150/157]\tTime 1.055 (1.066)\tData 0.001 (0.012)\tLoss 0.3528 (0.3508)\tPrec@1 87.891 (87.769)\n",
      "Test: [0/10]\tTime 5.125 (5.125)\tLoss 0.1865 (0.1865)\tPrec@1 93.555 (93.555)\n",
      " * Prec@1 93.490\n",
      "Best prec1 :  93.48999990234375\n",
      "current lr 9.04604e-04\n"
     ]
    },
    {
     "data": {
      "application/vnd.jupyter.widget-view+json": {
       "model_id": "034aa57d6b0e4f2eb9a89b07d68365d8",
       "version_major": 2,
       "version_minor": 0
      },
      "text/plain": [
       "  0%|          | 0/157 [00:00<?, ?it/s]"
      ]
     },
     "metadata": {},
     "output_type": "display_data"
    },
    {
     "name": "stdout",
     "output_type": "stream",
     "text": [
      "Epoch: [5][0/157]\tTime 2.382 (2.382)\tData 1.326 (1.326)\tLoss 0.2991 (0.2991)\tPrec@1 89.062 (89.062)\n",
      "Epoch: [5][50/157]\tTime 1.055 (1.081)\tData 0.001 (0.027)\tLoss 0.3121 (0.3522)\tPrec@1 89.062 (87.263)\n",
      "Epoch: [5][100/157]\tTime 1.055 (1.068)\tData 0.001 (0.014)\tLoss 0.3827 (0.3437)\tPrec@1 86.719 (87.690)\n",
      "Epoch: [5][150/157]\tTime 1.055 (1.064)\tData 0.001 (0.010)\tLoss 0.3083 (0.3423)\tPrec@1 89.062 (87.911)\n",
      "Test: [0/10]\tTime 6.225 (6.225)\tLoss 0.1865 (0.1865)\tPrec@1 93.555 (93.555)\n",
      " * Prec@1 93.490\n",
      "Best prec1 :  93.48999990234375\n",
      "current lr 7.94099e-04\n"
     ]
    },
    {
     "data": {
      "application/vnd.jupyter.widget-view+json": {
       "model_id": "a2aa9135d05a46beb8e38a7ff08ba044",
       "version_major": 2,
       "version_minor": 0
      },
      "text/plain": [
       "  0%|          | 0/157 [00:00<?, ?it/s]"
      ]
     },
     "metadata": {},
     "output_type": "display_data"
    },
    {
     "name": "stdout",
     "output_type": "stream",
     "text": [
      "Epoch: [6][0/157]\tTime 2.617 (2.617)\tData 1.562 (1.562)\tLoss 0.3940 (0.3940)\tPrec@1 87.891 (87.891)\n",
      "Epoch: [6][50/157]\tTime 1.055 (1.085)\tData 0.001 (0.032)\tLoss 0.3943 (0.3472)\tPrec@1 88.281 (88.174)\n",
      "Epoch: [6][100/157]\tTime 1.055 (1.070)\tData 0.001 (0.017)\tLoss 0.3204 (0.3468)\tPrec@1 90.234 (87.956)\n",
      "Epoch: [6][150/157]\tTime 1.056 (1.065)\tData 0.001 (0.011)\tLoss 0.3650 (0.3451)\tPrec@1 88.281 (87.922)\n",
      "Test: [0/10]\tTime 6.038 (6.038)\tLoss 0.1865 (0.1865)\tPrec@1 93.555 (93.555)\n",
      " * Prec@1 93.490\n",
      "Best prec1 :  93.48999990234375\n",
      "current lr 6.54854e-04\n"
     ]
    },
    {
     "data": {
      "application/vnd.jupyter.widget-view+json": {
       "model_id": "f423da14dfba48b9b87c538350e2813e",
       "version_major": 2,
       "version_minor": 0
      },
      "text/plain": [
       "  0%|          | 0/157 [00:00<?, ?it/s]"
      ]
     },
     "metadata": {},
     "output_type": "display_data"
    },
    {
     "name": "stdout",
     "output_type": "stream",
     "text": [
      "Epoch: [7][0/157]\tTime 2.462 (2.462)\tData 1.408 (1.408)\tLoss 0.3187 (0.3187)\tPrec@1 88.672 (88.672)\n",
      "Epoch: [7][50/157]\tTime 1.054 (1.088)\tData 0.001 (0.029)\tLoss 0.3405 (0.3384)\tPrec@1 88.672 (88.067)\n",
      "Epoch: [7][100/157]\tTime 60.517 (1.695)\tData 1.426 (0.029)\tLoss 0.4344 (0.3373)\tPrec@1 83.984 (88.092)\n"
     ]
    }
   ],
   "source": [
    "from timm.scheduler import CosineLRScheduler\n",
    "\n",
    "for PACT in [False]:\n",
    "    for attenkw in [4,5,6,7]:\n",
    "        for kw in [5,6,7,8]:\n",
    "            net = resmlp_24_224_dino(False, kw1=attenkw, ki1=attenkw, kw2=kw, ki2=kw)\n",
    "            net.head = nn.Linear(net.head.in_features, 10)\n",
    "            checkpoint = torch.load(\"models/resmlp_24_224_dino.pth\")\n",
    "            net.load_state_dict(checkpoint, strict=False)\n",
    "\n",
    "            model = net.cuda()\n",
    "            mixup = False\n",
    "\n",
    "            # Track experiment with wandb\n",
    "            import wandb\n",
    "            watermark = \"resmlp_k{}_attenk{}\".format(kw, attenkw)\n",
    "\n",
    "            # mess with wandb\n",
    "            wandb.init(project=\"pact_mlp_quant\", name=watermark)\n",
    "\n",
    "            # define loss function (criterion) and pptimizer\n",
    "            criterion = nn.CrossEntropyLoss().cuda()\n",
    "\n",
    "            # optimizer for pact\n",
    "            optimizer = torch.optim.Adam(model.parameters(), lr=1e-3)\n",
    "            scheduler = CosineLRScheduler(optimizer, t_initial=10, lr_min=1e-6, \n",
    "                                  warmup_t=3, warmup_lr_init=5e-4, warmup_prefix=True)\n",
    "\n",
    "            best_prec1 = 0\n",
    "            os.makedirs(\"models\", exist_ok=True)\n",
    "            scaler = torch.cuda.amp.GradScaler(enabled=True)\n",
    "\n",
    "            for epoch in range(10):\n",
    "                scheduler.step(epoch)\n",
    "                # train for one epoch\n",
    "                print('current lr {:.5e}'.format(optimizer.param_groups[0]['lr']))\n",
    "                tloss = train(train_loader, model, criterion, optimizer, epoch)         \n",
    "\n",
    "                # evaluate on validation set\n",
    "                prec1, valloss = validate(val_loader, model, criterion)\n",
    "\n",
    "                # wandb\n",
    "                wandb.log({'epoch': epoch, \"prec\":prec1, \"train_loss\": tloss, 'val_loss': valloss, \"lr\": optimizer.param_groups[0][\"lr\"],})\n",
    "\n",
    "                # remember best prec@1 and save checkpoint\n",
    "                is_best = prec1 > best_prec1\n",
    "                best_prec1 = max(prec1, best_prec1)\n",
    "\n",
    "                print(\"Best prec1 : \", best_prec1)\n",
    "                if is_best:\n",
    "                    torch.save(model.state_dict(), os.path.join(f'models/{watermark}.pth'))\n",
    "                if prec1 < 60:\n",
    "                    break"
   ]
  },
  {
   "cell_type": "code",
   "execution_count": null,
   "id": "8998c803",
   "metadata": {},
   "outputs": [],
   "source": [
    "from pact_utils import TorchQuantize\n",
    "len(TorchQuantize(bits=4).forward(torch.rand(1,384)).unique())"
   ]
  },
  {
   "cell_type": "code",
   "execution_count": null,
   "id": "8d894c1f",
   "metadata": {},
   "outputs": [],
   "source": [
    "net.blocks[1].mlp.fc1.forward(torch.rand(1,384).cuda()).unique()"
   ]
  },
  {
   "cell_type": "code",
   "execution_count": null,
   "id": "75eb1382",
   "metadata": {},
   "outputs": [],
   "source": [
    "model.blocks[1].attn.qkv"
   ]
  },
  {
   "cell_type": "code",
   "execution_count": null,
   "id": "eb6e1446",
   "metadata": {},
   "outputs": [],
   "source": []
  }
 ],
 "metadata": {
  "kernelspec": {
   "display_name": "Python 3 (ipykernel)",
   "language": "python",
   "name": "python3"
  },
  "language_info": {
   "codemirror_mode": {
    "name": "ipython",
    "version": 3
   },
   "file_extension": ".py",
   "mimetype": "text/x-python",
   "name": "python",
   "nbconvert_exporter": "python",
   "pygments_lexer": "ipython3",
   "version": "3.8.13"
  },
  "vscode": {
   "interpreter": {
    "hash": "ee5e2cbe70982ffb0121d1a31afb90fa291002a01f6b95e01c1e7684863c7847"
   }
  }
 },
 "nbformat": 4,
 "nbformat_minor": 5
}
