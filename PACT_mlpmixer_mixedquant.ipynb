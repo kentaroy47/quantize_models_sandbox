{
 "cells": [
  {
   "cell_type": "markdown",
   "id": "65b5a174",
   "metadata": {},
   "source": [
    "# ViT CIFAR-10\n",
    "load timm ViT and retrain on CIFAR 10"
   ]
  },
  {
   "cell_type": "code",
   "execution_count": 1,
   "id": "3cdfa9b0",
   "metadata": {},
   "outputs": [],
   "source": [
    "NOQUANT_TRAIN = False"
   ]
  },
  {
   "cell_type": "code",
   "execution_count": 2,
   "id": "e95ac49f",
   "metadata": {},
   "outputs": [],
   "source": [
    "import argparse\n",
    "import os\n",
    "import shutil\n",
    "import time\n",
    "import pandas as pd\n",
    "import matplotlib.pyplot as plt\n",
    "\n",
    "from tqdm.notebook import tqdm\n",
    "import time\n",
    "import numpy as np\n",
    "import pandas as pd\n",
    "import cv2\n",
    "import torch\n",
    "import torch.nn as nn\n",
    "import torch.nn.functional as F\n",
    "import torch.optim as optim\n",
    "from torch.optim import lr_scheduler\n",
    "from torch.utils.data import DataLoader, Dataset\n",
    "from torch.utils.data.sampler import SubsetRandomSampler, RandomSampler, SequentialSampler\n",
    "from torch.optim.lr_scheduler import CosineAnnealingWarmRestarts, CosineAnnealingLR, ReduceLROnPlateau\n",
    "\n",
    "DATA_DIR = \"train\"\n",
    "print_freq = 50\n",
    "\n",
    "# vit imsize\n",
    "imsize = 224"
   ]
  },
  {
   "cell_type": "code",
   "execution_count": 3,
   "id": "91238a6e",
   "metadata": {},
   "outputs": [
    {
     "data": {
      "text/html": [
       "<div>\n",
       "<style scoped>\n",
       "    .dataframe tbody tr th:only-of-type {\n",
       "        vertical-align: middle;\n",
       "    }\n",
       "\n",
       "    .dataframe tbody tr th {\n",
       "        vertical-align: top;\n",
       "    }\n",
       "\n",
       "    .dataframe thead th {\n",
       "        text-align: right;\n",
       "    }\n",
       "</style>\n",
       "<table border=\"1\" class=\"dataframe\">\n",
       "  <thead>\n",
       "    <tr style=\"text-align: right;\">\n",
       "      <th></th>\n",
       "      <th>id</th>\n",
       "      <th>label</th>\n",
       "      <th>label_enc</th>\n",
       "      <th>fold</th>\n",
       "    </tr>\n",
       "  </thead>\n",
       "  <tbody>\n",
       "    <tr>\n",
       "      <th>0</th>\n",
       "      <td>1</td>\n",
       "      <td>frog</td>\n",
       "      <td>6</td>\n",
       "      <td>1</td>\n",
       "    </tr>\n",
       "    <tr>\n",
       "      <th>1</th>\n",
       "      <td>2</td>\n",
       "      <td>truck</td>\n",
       "      <td>9</td>\n",
       "      <td>1</td>\n",
       "    </tr>\n",
       "    <tr>\n",
       "      <th>2</th>\n",
       "      <td>3</td>\n",
       "      <td>truck</td>\n",
       "      <td>9</td>\n",
       "      <td>2</td>\n",
       "    </tr>\n",
       "    <tr>\n",
       "      <th>3</th>\n",
       "      <td>4</td>\n",
       "      <td>deer</td>\n",
       "      <td>4</td>\n",
       "      <td>1</td>\n",
       "    </tr>\n",
       "    <tr>\n",
       "      <th>4</th>\n",
       "      <td>5</td>\n",
       "      <td>automobile</td>\n",
       "      <td>1</td>\n",
       "      <td>2</td>\n",
       "    </tr>\n",
       "  </tbody>\n",
       "</table>\n",
       "</div>"
      ],
      "text/plain": [
       "   id       label  label_enc  fold\n",
       "0   1        frog          6     1\n",
       "1   2       truck          9     1\n",
       "2   3       truck          9     2\n",
       "3   4        deer          4     1\n",
       "4   5  automobile          1     2"
      ]
     },
     "execution_count": 3,
     "metadata": {},
     "output_type": "execute_result"
    }
   ],
   "source": [
    "# prepare labels\n",
    "train_df = pd.read_csv(\"trainLabels.csv\")\n",
    "from sklearn.preprocessing import LabelEncoder\n",
    "le = LabelEncoder()\n",
    "train_df['label_enc'] = le.fit_transform(train_df['label'])\n",
    "\n",
    "# 5-fold\n",
    "from sklearn.model_selection import StratifiedKFold\n",
    "skf = StratifiedKFold(n_splits=5, shuffle=True, random_state=42)\n",
    "\n",
    "train_df[\"fold\"] = -1\n",
    "for i, (train_index, test_index) in enumerate(skf.split(train_df.id, train_df.label_enc)):\n",
    "    train_df.loc[test_index, 'fold'] = i\n",
    "train_df.head()"
   ]
  },
  {
   "cell_type": "code",
   "execution_count": 4,
   "id": "44be87f4",
   "metadata": {},
   "outputs": [],
   "source": [
    "class cifarDataset(Dataset):\n",
    "    def __init__(self,\n",
    "                 df,\n",
    "                 rand=False,\n",
    "                 transform=None,\n",
    "                 test=False\n",
    "                ):\n",
    "\n",
    "        self.df = df.reset_index(drop=True)\n",
    "        self.rand = rand\n",
    "        self.transform = transform\n",
    "        self.test = test\n",
    "\n",
    "    def __len__(self):\n",
    "        return self.df.shape[0]\n",
    "\n",
    "    def __getitem__(self, index):\n",
    "        row = self.df.iloc[index]\n",
    "        img_id = row.id\n",
    "        \n",
    "        images = cv2.imread(os.path.join(DATA_DIR, str(img_id)+\".png\"))\n",
    "        \n",
    "        # Load labels\n",
    "        label = row.label_enc\n",
    "        \n",
    "        # aug\n",
    "        if self.transform is not None:\n",
    "            images = self.transform(image=images)['image']\n",
    "              \n",
    "        #images = images.astype(np.float32)\n",
    "        #images /= 255\n",
    "        images = images.transpose(2, 0, 1)\n",
    "        \n",
    "        label = label.astype(np.float32)\n",
    "        #label2 = label2.astype(np.float32)\n",
    "        return torch.tensor(images), torch.tensor(label),"
   ]
  },
  {
   "cell_type": "code",
   "execution_count": 5,
   "id": "cd5517a6",
   "metadata": {},
   "outputs": [
    {
     "name": "stderr",
     "output_type": "stream",
     "text": [
      "/home/ken/anaconda3/envs/pytorch_p38/lib/python3.8/site-packages/albumentations/augmentations/dropout/cutout.py:50: FutureWarning: Cutout has been deprecated. Please use CoarseDropout\n",
      "  warnings.warn(\n"
     ]
    }
   ],
   "source": [
    "import albumentations as A\n",
    "import albumentations\n",
    "\n",
    "transforms_train = albumentations.Compose([\n",
    "    albumentations.ShiftScaleRotate(scale_limit=0.3, rotate_limit=180,p=0.5),\n",
    "    A.Cutout(num_holes=12, max_h_size=4, max_w_size=4, fill_value=0, p=0.5),\n",
    "    #albumentations.Rotate(p=0.5),\n",
    "    #albumentations.Transpose(p=0.5),\n",
    "    #albumentations.VerticalFlip(p=0.5),\n",
    "    albumentations.HorizontalFlip(p=0.5),   \n",
    "    albumentations.Resize(imsize, imsize, p=1.0), \n",
    "    albumentations.Normalize(mean=(0.485, 0.456, 0.406),\n",
    "                       std=(0.229, 0.224, 0.225), p=1),\n",
    "])\n",
    "\n",
    "transforms_val = albumentations.Compose([albumentations.Resize(imsize, imsize, p=1.0),\n",
    "                                         albumentations.Normalize(mean=(0.485, 0.456, 0.406),\n",
    "                       std=(0.229, 0.224, 0.225), p=1),])"
   ]
  },
  {
   "cell_type": "code",
   "execution_count": 6,
   "id": "e3726718",
   "metadata": {
    "scrolled": true
   },
   "outputs": [
    {
     "name": "stderr",
     "output_type": "stream",
     "text": [
      "Clipping input data to the valid range for imshow with RGB data ([0..1] for floats or [0..255] for integers).\n",
      "Clipping input data to the valid range for imshow with RGB data ([0..1] for floats or [0..255] for integers).\n",
      "Clipping input data to the valid range for imshow with RGB data ([0..1] for floats or [0..255] for integers).\n",
      "Clipping input data to the valid range for imshow with RGB data ([0..1] for floats or [0..255] for integers).\n",
      "Clipping input data to the valid range for imshow with RGB data ([0..1] for floats or [0..255] for integers).\n",
      "Clipping input data to the valid range for imshow with RGB data ([0..1] for floats or [0..255] for integers).\n",
      "Clipping input data to the valid range for imshow with RGB data ([0..1] for floats or [0..255] for integers).\n",
      "Clipping input data to the valid range for imshow with RGB data ([0..1] for floats or [0..255] for integers).\n",
      "Clipping input data to the valid range for imshow with RGB data ([0..1] for floats or [0..255] for integers).\n",
      "Clipping input data to the valid range for imshow with RGB data ([0..1] for floats or [0..255] for integers).\n",
      "Clipping input data to the valid range for imshow with RGB data ([0..1] for floats or [0..255] for integers).\n",
      "Clipping input data to the valid range for imshow with RGB data ([0..1] for floats or [0..255] for integers).\n",
      "Clipping input data to the valid range for imshow with RGB data ([0..1] for floats or [0..255] for integers).\n",
      "Clipping input data to the valid range for imshow with RGB data ([0..1] for floats or [0..255] for integers).\n",
      "Clipping input data to the valid range for imshow with RGB data ([0..1] for floats or [0..255] for integers).\n"
     ]
    },
    {
     "data": {
      "image/png": "[encoded data removed]",
      "text/plain": [
       "<Figure size 432x288 with 5 Axes>"
      ]
     },
     "metadata": {
      "needs_background": "light"
     },
     "output_type": "display_data"
    },
    {
     "data": {
      "image/png": "[encoded data removed]",
      "text/plain": [
       "<Figure size 432x288 with 5 Axes>"
      ]
     },
     "metadata": {
      "needs_background": "light"
     },
     "output_type": "display_data"
    },
    {
     "data": {
      "image/png": "[encoded data removed]",
      "text/plain": [
       "<Figure size 432x288 with 5 Axes>"
      ]
     },
     "metadata": {
      "needs_background": "light"
     },
     "output_type": "display_data"
    }
   ],
   "source": [
    "dataset_show = cifarDataset(train_df, transform=transforms_train)\n",
    "from pylab import rcParams\n",
    "rcParams['figure.figsize'] = 20,10\n",
    "for i in range(3):\n",
    "    f, axarr = plt.subplots(1,5)\n",
    "    for p in range(5):\n",
    "        idx = np.random.randint(0, len(dataset_show))\n",
    "        img, label = dataset_show[idx]\n",
    "        img = img.flip(0) #BGR2RGB\n",
    "        axarr[p].imshow(img.transpose(0,1).transpose(1,2))\n",
    "        axarr[p].set_title(str(label))\n",
    "plt.show()"
   ]
  },
  {
   "cell_type": "code",
   "execution_count": 7,
   "id": "be374443",
   "metadata": {},
   "outputs": [],
   "source": [
    "scaler = torch.cuda.amp.GradScaler(enabled=True)\n",
    "def train(train_loader, model, criterion, optimizer, epoch):\n",
    "    \"\"\"\n",
    "        Run one train epoch\n",
    "    \"\"\"\n",
    "    batch_time = AverageMeter()\n",
    "    data_time = AverageMeter()\n",
    "    losses = AverageMeter()\n",
    "    top1 = AverageMeter()\n",
    "\n",
    "    # switch to train mode\n",
    "    model.train()\n",
    "\n",
    "    end = time.time()\n",
    "    lambda_alpha = 0.002\n",
    "    for i, (input, target) in enumerate(tqdm(train_loader)):\n",
    "        # measure data loading time\n",
    "        data_time.update(time.time() - end)\n",
    "        target2 = target\n",
    "\n",
    "        target = target.long().cuda()\n",
    "        target2 = target2.long().cuda()\n",
    "        input_var = input.cuda()\n",
    "        target_var = target\n",
    "\n",
    "        if not mixup:\n",
    "          alpha = 0\n",
    "        else:\n",
    "          alpha = 1\n",
    "        \n",
    "\n",
    "        # compute output\n",
    "        with torch.cuda.amp.autocast(enabled=True):\n",
    "            output = model(input_var)\n",
    "            loss = criterion(output, target_var)\n",
    "        scaler.scale(loss).backward()\n",
    "        scaler.step(optimizer)\n",
    "        scaler.update()\n",
    "        optimizer.zero_grad()\n",
    "\n",
    "        output = output.float()\n",
    "        loss = loss.float()\n",
    "        # measure accuracy and record loss\n",
    "        prec1 = accuracy(output.data, target)[0]\n",
    "        losses.update(loss.item(), input.size(0))\n",
    "        top1.update(prec1.item(), input.size(0))\n",
    "\n",
    "        # measure elapsed time\n",
    "        batch_time.update(time.time() - end)\n",
    "        end = time.time()\n",
    "\n",
    "        if i % print_freq == 0:\n",
    "            print('Epoch: [{0}][{1}/{2}]\\t'\n",
    "                  'Time {batch_time.val:.3f} ({batch_time.avg:.3f})\\t'\n",
    "                  'Data {data_time.val:.3f} ({data_time.avg:.3f})\\t'\n",
    "                  'Loss {loss.val:.4f} ({loss.avg:.4f})\\t'\n",
    "                  'Prec@1 {top1.val:.3f} ({top1.avg:.3f})'.format(\n",
    "                      epoch, i, len(train_loader), batch_time=batch_time,\n",
    "                      data_time=data_time, loss=losses, top1=top1))\n",
    "    return losses.avg\n",
    "\n",
    "def validate(val_loader, model, criterion):\n",
    "    \"\"\"\n",
    "    Run evaluation\n",
    "    \"\"\"\n",
    "    batch_time = AverageMeter()\n",
    "    losses = AverageMeter()\n",
    "    top1 = AverageMeter()\n",
    "\n",
    "    # switch to evaluate mode\n",
    "    model.eval()\n",
    "\n",
    "    end = time.time()\n",
    "    with torch.no_grad():\n",
    "        for i, (input, target) in enumerate(val_loader):\n",
    "            target = target.long().cuda()\n",
    "            input_var = input.cuda()\n",
    "            target_var = target.cuda()\n",
    "\n",
    "            # compute output\n",
    "            output = model(input_var)\n",
    "            loss = criterion(output, target_var)\n",
    "\n",
    "            output = output.float()\n",
    "            loss = loss.float()\n",
    "\n",
    "            # measure accuracy and record loss\n",
    "            prec1 = accuracy(output.data, target)[0]\n",
    "            losses.update(loss.item(), input.size(0))\n",
    "            top1.update(prec1.item(), input.size(0))\n",
    "\n",
    "            # measure elapsed time\n",
    "            batch_time.update(time.time() - end)\n",
    "            end = time.time()\n",
    "\n",
    "            if i % print_freq == 0:\n",
    "                print('Test: [{0}/{1}]\\t'\n",
    "                      'Time {batch_time.val:.3f} ({batch_time.avg:.3f})\\t'\n",
    "                      'Loss {loss.val:.4f} ({loss.avg:.4f})\\t'\n",
    "                      'Prec@1 {top1.val:.3f} ({top1.avg:.3f})'.format(\n",
    "                          i, len(val_loader), batch_time=batch_time, loss=losses,\n",
    "                          top1=top1))\n",
    "\n",
    "    print(' * Prec@1 {top1.avg:.3f}'\n",
    "          .format(top1=top1))\n",
    "    return top1.avg, losses.avg\n",
    "\n",
    "def save_checkpoint(state, filename='checkpoint.pth'):\n",
    "    \"\"\"\n",
    "    Save the training model\n",
    "    \"\"\"\n",
    "    torch.save(state, filename)\n",
    "\n",
    "class AverageMeter(object):\n",
    "    \"\"\"Computes and stores the average and current value\"\"\"\n",
    "    def __init__(self):\n",
    "        self.reset()\n",
    "\n",
    "    def reset(self):\n",
    "        self.val = 0\n",
    "        self.avg = 0\n",
    "        self.sum = 0\n",
    "        self.count = 0\n",
    "\n",
    "    def update(self, val, n=1):\n",
    "        self.val = val\n",
    "        self.sum += val * n\n",
    "        self.count += n\n",
    "        self.avg = self.sum / self.count\n",
    "\n",
    "\n",
    "def accuracy(output, target, topk=(1,)):\n",
    "    \"\"\"Computes the precision@k for the specified values of k\"\"\"\n",
    "    maxk = max(topk)\n",
    "    batch_size = target.size(0)\n",
    "\n",
    "    _, pred = output.topk(maxk, 1, True, True)\n",
    "    pred = pred.t()\n",
    "    correct = pred.eq(target.view(1, -1).expand_as(pred))\n",
    "\n",
    "    res = []\n",
    "    for k in topk:\n",
    "        correct_k = correct[:k].view(-1).float().sum(0)\n",
    "        res.append(correct_k.mul_(100.0 / batch_size))\n",
    "    return res"
   ]
  },
  {
   "cell_type": "code",
   "execution_count": 8,
   "id": "6f005fd3",
   "metadata": {},
   "outputs": [],
   "source": [
    "train_dataset = cifarDataset(train_df[train_df.fold!=0], transform=transforms_train)\n",
    "val_dataset = cifarDataset(train_df[train_df.fold==0], transform=transforms_val, test=True)\n",
    "\n",
    "train_loader = torch.utils.data.DataLoader(\n",
    "        train_dataset,\n",
    "        batch_size=256, shuffle=True,\n",
    "        num_workers=8, pin_memory=True)\n",
    "\n",
    "val_loader = torch.utils.data.DataLoader(\n",
    "    val_dataset,\n",
    "    batch_size=1024, shuffle=False,\n",
    "    num_workers=8, pin_memory=True)"
   ]
  },
  {
   "cell_type": "code",
   "execution_count": 9,
   "id": "a4256dce",
   "metadata": {},
   "outputs": [],
   "source": [
    "import timm\n",
    "net = timm.create_model(\"mixer_b16_224_in21k\", pretrained=True)\n",
    "net.head = nn.Linear(net.head.in_features, 10)"
   ]
  },
  {
   "cell_type": "code",
   "execution_count": 10,
   "id": "97031bc4",
   "metadata": {},
   "outputs": [
    {
     "data": {
      "text/plain": [
       "tensor([[ 0.0550, -1.4565,  0.2055, -1.1541,  0.7809,  1.3267,  1.0076, -0.6949,\n",
       "          1.1786,  1.7830]], grad_fn=<AddmmBackward0>)"
      ]
     },
     "execution_count": 10,
     "metadata": {},
     "output_type": "execute_result"
    }
   ],
   "source": [
    "net.cpu()\n",
    "net.forward(torch.randn(1,3,224,224))"
   ]
  },
  {
   "cell_type": "code",
   "execution_count": 11,
   "id": "b33568b3",
   "metadata": {},
   "outputs": [
    {
     "data": {
      "text/plain": [
       "'1.10.1'"
      ]
     },
     "execution_count": 11,
     "metadata": {},
     "output_type": "execute_result"
    }
   ],
   "source": [
    "torch.__version__"
   ]
  },
  {
   "cell_type": "markdown",
   "id": "4e27cd90",
   "metadata": {},
   "source": [
    "# Train VIT without quantization"
   ]
  },
  {
   "cell_type": "code",
   "execution_count": 12,
   "id": "c40788cb",
   "metadata": {
    "scrolled": true
   },
   "outputs": [
    {
     "name": "stderr",
     "output_type": "stream",
     "text": [
      "\u001b[34m\u001b[1mwandb\u001b[0m: Currently logged in as: \u001b[33marutema47\u001b[0m (\u001b[33mkeio-csg\u001b[0m). Use \u001b[1m`wandb login --relogin`\u001b[0m to force relogin\n"
     ]
    },
    {
     "data": {
      "text/html": [
       "Tracking run with wandb version 0.13.4"
      ],
      "text/plain": [
       "<IPython.core.display.HTML object>"
      ]
     },
     "metadata": {},
     "output_type": "display_data"
    },
    {
     "data": {
      "text/html": [
       "Run data is saved locally in <code>/media/ken/dsk1/data/quantize_models_sandbox/wandb/run-20221102_132201-332ysc84</code>"
      ],
      "text/plain": [
       "<IPython.core.display.HTML object>"
      ]
     },
     "metadata": {},
     "output_type": "display_data"
    },
    {
     "data": {
      "text/html": [
       "Syncing run <strong><a href=\"https://wandb.ai/keio-csg/pact_mlp/runs/332ysc84\" target=\"_blank\">resmlp_24_224_dino</a></strong> to <a href=\"https://wandb.ai/keio-csg/pact_mlp\" target=\"_blank\">Weights & Biases</a> (<a href=\"https://wandb.me/run\" target=\"_blank\">docs</a>)<br/>"
      ],
      "text/plain": [
       "<IPython.core.display.HTML object>"
      ]
     },
     "metadata": {},
     "output_type": "display_data"
    }
   ],
   "source": [
    "import timm\n",
    "modelname = \"resmlp_24_224_dino\"\n",
    "net = timm.create_model(modelname, pretrained=True)\n",
    "net.head = nn.Linear(net.head.in_features, 10)\n",
    "\n",
    "model = net.cuda()\n",
    "mixup = False\n",
    "\n",
    "import wandb\n",
    "watermark = modelname\n",
    "wandb.init(project=\"pact_mlp\",\n",
    "            name=watermark)\n",
    "\n",
    "# define loss function (criterion) and pptimizer\n",
    "criterion = nn.CrossEntropyLoss().cuda()\n",
    "optimizer = torch.optim.Adam(model.parameters(), lr=4e-5)\n",
    "scheduler = torch.optim.lr_scheduler.CosineAnnealingLR(optimizer, 100)\n",
    "\n",
    "best_prec1 = 0\n",
    "os.makedirs(\"models\", exist_ok=True)\n",
    "\n",
    "if NOQUANT_TRAIN:\n",
    "    for epoch in range(100):\n",
    "        # train for one epoch\n",
    "        print('current lr {:.5e}'.format(optimizer.param_groups[0]['lr']))\n",
    "        tloss = train(train_loader, model, criterion, optimizer, epoch)\n",
    "        scheduler.step(epoch)\n",
    "\n",
    "        # evaluate on validation set\n",
    "        prec1, valloss = validate(val_loader, model, criterion)\n",
    "\n",
    "        # wandb\n",
    "        wandb.log({'epoch': epoch, \"prec\":prec1, \"train_loss\": tloss, 'val_loss': valloss, \"lr\": optimizer.param_groups[0][\"lr\"],})\n",
    "\n",
    "        # remember best prec@1 and save checkpoint\n",
    "        is_best = prec1 > best_prec1\n",
    "        best_prec1 = max(prec1, best_prec1)\n",
    "\n",
    "        print(\"Best prec1 : \", best_prec1)\n",
    "        if is_best:\n",
    "            torch.save(model.state_dict(), os.path.join(f'models/{watermark}.pth'))"
   ]
  },
  {
   "cell_type": "markdown",
   "id": "c3f38958",
   "metadata": {},
   "source": [
    "# Hack timm models with quantization layers"
   ]
  },
  {
   "cell_type": "code",
   "execution_count": 13,
   "id": "ba9817ad",
   "metadata": {},
   "outputs": [],
   "source": [
    "import math\n",
    "from copy import deepcopy\n",
    "from functools import partial\n",
    "\n",
    "import torch\n",
    "import torch.nn as nn\n",
    "\n",
    "from timm.models.helpers import build_model_with_cfg, named_apply, checkpoint_seq\n",
    "from timm.models.layers import PatchEmbed, GluMlp, GatedMlp, DropPath, lecun_normal_, to_2tuple\n",
    "from timm.models.registry import register_model\n",
    "\n",
    "from pact_utils import QuantizedLinear\n",
    "\n",
    "# Hacked Mlp layer\n",
    "class Mlp(nn.Module):\n",
    "    def __init__(self, in_features, hidden_features=None, out_features=None, act_layer=nn.GELU, drop=0., kw=8, ki=8):\n",
    "        super().__init__()\n",
    "        out_features = out_features or in_features\n",
    "        hidden_features = hidden_features or in_features\n",
    "        pact = False\n",
    "        self.fc1 = QuantizedLinear(in_features, hidden_features, True, kw, ki, pact)\n",
    "        self.act = act_layer()\n",
    "        self.fc2 = QuantizedLinear(hidden_features, out_features, True, kw, ki, pact)\n",
    "        self.drop = nn.Dropout(drop)\n",
    "        \n",
    "    def forward(self, x):\n",
    "        x = self.fc1(x)\n",
    "        x = self.act(x)\n",
    "        x = self.drop(x)\n",
    "        x = self.fc2(x)\n",
    "        x = self.drop(x)\n",
    "        return x\n",
    "\n",
    "class MixerBlock(nn.Module):\n",
    "    \"\"\" Residual Block w/ token mixing and channel MLPs\n",
    "    Based on: 'MLP-Mixer: An all-MLP Architecture for Vision' - https://arxiv.org/abs/2105.01601\n",
    "    \"\"\"\n",
    "    def __init__(\n",
    "            self, dim, seq_len, mlp_ratio=(0.5, 4.0), mlp_layer=Mlp,\n",
    "            norm_layer=partial(nn.LayerNorm, eps=1e-6), act_layer=nn.GELU, drop=0., drop_path=0., kw1=8, ki1=8, kw2=8, ki2=8):\n",
    "        super().__init__()\n",
    "        tokens_dim, channels_dim = [int(x * dim) for x in to_2tuple(mlp_ratio)]\n",
    "        self.norm1 = norm_layer(dim)\n",
    "        self.mlp_tokens = mlp_layer(seq_len, tokens_dim, act_layer=act_layer, drop=drop, kw=kw1, ki=ki1) # attention\n",
    "        self.drop_path = DropPath(drop_path) if drop_path > 0. else nn.Identity()\n",
    "        self.norm2 = norm_layer(dim)\n",
    "        self.mlp_channels = mlp_layer(dim, channels_dim, act_layer=act_layer, drop=drop, kw=kw2, ki=ki2) # mix\n",
    "\n",
    "    def forward(self, x):\n",
    "        x = x + self.drop_path(self.mlp_tokens(self.norm1(x).transpose(1, 2)).transpose(1, 2))\n",
    "        x = x + self.drop_path(self.mlp_channels(self.norm2(x)))\n",
    "        return x\n",
    "\n",
    "\n",
    "class Affine(nn.Module):\n",
    "    def __init__(self, dim):\n",
    "        super().__init__()\n",
    "        self.alpha = nn.Parameter(torch.ones((1, 1, dim)))\n",
    "        self.beta = nn.Parameter(torch.zeros((1, 1, dim)))\n",
    "\n",
    "    def forward(self, x):\n",
    "        return torch.addcmul(self.beta, self.alpha, x)\n",
    "\n",
    "\n",
    "class ResBlock(nn.Module):\n",
    "    \"\"\" Residual MLP block w/ LayerScale and Affine 'norm'\n",
    "    Based on: `ResMLP: Feedforward networks for image classification...` - https://arxiv.org/abs/2105.03404\n",
    "    \"\"\"\n",
    "    def __init__(\n",
    "            self, dim, seq_len, mlp_ratio=4, mlp_layer=Mlp, norm_layer=Affine,\n",
    "            act_layer=nn.GELU, init_values=1e-4, drop=0., drop_path=0., kw1=8,ki1=8,kw2=8,ki2=8):\n",
    "        super().__init__()\n",
    "        channel_dim = int(dim * mlp_ratio)\n",
    "        self.norm1 = norm_layer(dim)\n",
    "        self.linear_tokens = QuantizedLinear(seq_len, seq_len, True, kw1, ki1)\n",
    "        self.drop_path = DropPath(drop_path) if drop_path > 0. else nn.Identity()\n",
    "        self.norm2 = norm_layer(dim)\n",
    "        self.mlp_channels = mlp_layer(dim, channel_dim, act_layer=act_layer, drop=drop, kw=kw2, ki=ki2)\n",
    "        self.ls1 = nn.Parameter(init_values * torch.ones(dim))\n",
    "        self.ls2 = nn.Parameter(init_values * torch.ones(dim))\n",
    "\n",
    "    def forward(self, x):\n",
    "        x = x + self.drop_path(self.ls1 * self.linear_tokens(self.norm1(x).transpose(1, 2)).transpose(1, 2))\n",
    "        x = x + self.drop_path(self.ls2 * self.mlp_channels(self.norm2(x)))\n",
    "        return x\n",
    "\n",
    "\n",
    "class SpatialGatingUnit(nn.Module):\n",
    "    \"\"\" Spatial Gating Unit\n",
    "    Based on: `Pay Attention to MLPs` - https://arxiv.org/abs/2105.08050\n",
    "    \"\"\"\n",
    "    def __init__(self, dim, seq_len, norm_layer=nn.LayerNorm):\n",
    "        super().__init__()\n",
    "        gate_dim = dim // 2\n",
    "        self.norm = norm_layer(gate_dim)\n",
    "        self.proj = nn.Linear(seq_len, seq_len)\n",
    "\n",
    "    def init_weights(self):\n",
    "        # special init for the projection gate, called as override by base model init\n",
    "        nn.init.normal_(self.proj.weight, std=1e-6)\n",
    "        nn.init.ones_(self.proj.bias)\n",
    "\n",
    "    def forward(self, x):\n",
    "        u, v = x.chunk(2, dim=-1)\n",
    "        v = self.norm(v)\n",
    "        v = self.proj(v.transpose(-1, -2))\n",
    "        return u * v.transpose(-1, -2)\n",
    "\n",
    "\n",
    "class SpatialGatingBlock(nn.Module):\n",
    "    \"\"\" Residual Block w/ Spatial Gating\n",
    "    Based on: `Pay Attention to MLPs` - https://arxiv.org/abs/2105.08050\n",
    "    \"\"\"\n",
    "    def __init__(\n",
    "            self, dim, seq_len, mlp_ratio=4, mlp_layer=GatedMlp,\n",
    "            norm_layer=partial(nn.LayerNorm, eps=1e-6), act_layer=nn.GELU, drop=0., drop_path=0.):\n",
    "        super().__init__()\n",
    "        channel_dim = int(dim * mlp_ratio)\n",
    "        self.norm = norm_layer(dim)\n",
    "        sgu = partial(SpatialGatingUnit, seq_len=seq_len)\n",
    "        self.mlp_channels = mlp_layer(dim, channel_dim, act_layer=act_layer, gate_layer=sgu, drop=drop)\n",
    "        self.drop_path = DropPath(drop_path) if drop_path > 0. else nn.Identity()\n",
    "\n",
    "    def forward(self, x):\n",
    "        x = x + self.drop_path(self.mlp_channels(self.norm(x)))\n",
    "        return x\n",
    "\n",
    "\n",
    "class MlpMixer(nn.Module):\n",
    "\n",
    "    def __init__(\n",
    "            self,\n",
    "            num_classes=1000,\n",
    "            img_size=224,\n",
    "            in_chans=3,\n",
    "            patch_size=16,\n",
    "            num_blocks=8,\n",
    "            embed_dim=512,\n",
    "            mlp_ratio=(0.5, 4.0),\n",
    "            block_layer=MixerBlock,\n",
    "            mlp_layer=Mlp,\n",
    "            norm_layer=partial(nn.LayerNorm, eps=1e-6),\n",
    "            act_layer=nn.GELU,\n",
    "            drop_rate=0.,\n",
    "            drop_path_rate=0.,\n",
    "            nlhb=False,\n",
    "            stem_norm=False,\n",
    "            global_pool='avg',\n",
    "            kw1=8,\n",
    "            ki1=8,\n",
    "            kw2=8,\n",
    "            ki2=8\n",
    "    ):\n",
    "        super().__init__()\n",
    "        self.num_classes = num_classes\n",
    "        self.global_pool = global_pool\n",
    "        self.num_features = self.embed_dim = embed_dim  # num_features for consistency with other models\n",
    "        self.grad_checkpointing = False\n",
    "\n",
    "        self.stem = PatchEmbed(\n",
    "            img_size=img_size, patch_size=patch_size, in_chans=in_chans,\n",
    "            embed_dim=embed_dim, norm_layer=norm_layer if stem_norm else None)\n",
    "        # FIXME drop_path (stochastic depth scaling rule or all the same?)\n",
    "        self.blocks = nn.Sequential(*[\n",
    "            block_layer(\n",
    "                embed_dim, self.stem.num_patches, mlp_ratio, mlp_layer=mlp_layer, norm_layer=norm_layer,\n",
    "                act_layer=act_layer, drop=drop_rate, drop_path=drop_path_rate, kw1=kw1,ki1=ki1,kw2=kw2,ki2=ki2)# Add quant bits\n",
    "            for _ in range(num_blocks)])\n",
    "        self.norm = norm_layer(embed_dim)\n",
    "        self.head = nn.Linear(embed_dim, self.num_classes) if num_classes > 0 else nn.Identity()\n",
    "\n",
    "        self.init_weights(nlhb=nlhb)\n",
    "\n",
    "    @torch.jit.ignore\n",
    "    def init_weights(self, nlhb=False):\n",
    "        head_bias = -math.log(self.num_classes) if nlhb else 0.\n",
    "        named_apply(partial(_init_weights, head_bias=head_bias), module=self)  # depth-first\n",
    "\n",
    "    @torch.jit.ignore\n",
    "    def group_matcher(self, coarse=False):\n",
    "        return dict(\n",
    "            stem=r'^stem',  # stem and embed\n",
    "            blocks=[(r'^blocks\\.(\\d+)', None), (r'^norm', (99999,))]\n",
    "        )\n",
    "\n",
    "    @torch.jit.ignore\n",
    "    def set_grad_checkpointing(self, enable=True):\n",
    "        self.grad_checkpointing = enable\n",
    "\n",
    "    @torch.jit.ignore\n",
    "    def get_classifier(self):\n",
    "        return self.head\n",
    "\n",
    "    def reset_classifier(self, num_classes, global_pool=None):\n",
    "        self.num_classes = num_classes\n",
    "        if global_pool is not None:\n",
    "            assert global_pool in ('', 'avg')\n",
    "            self.global_pool = global_pool\n",
    "        self.head = nn.Linear(self.embed_dim, num_classes) if num_classes > 0 else nn.Identity()\n",
    "\n",
    "    def forward_features(self, x):\n",
    "        x = self.stem(x)\n",
    "        if self.grad_checkpointing and not torch.jit.is_scripting():\n",
    "            x = checkpoint_seq(self.blocks, x)\n",
    "        else:\n",
    "            x = self.blocks(x)\n",
    "        x = self.norm(x)\n",
    "        return x\n",
    "\n",
    "    def forward(self, x):\n",
    "        x = self.forward_features(x)\n",
    "        if self.global_pool == 'avg':\n",
    "            x = x.mean(dim=1)\n",
    "        x = self.head(x)\n",
    "        return x\n",
    "\n",
    "\n",
    "def _init_weights(module: nn.Module, name: str, head_bias: float = 0., flax=False):\n",
    "    if isinstance(module, nn.Linear):\n",
    "        if name.startswith('head'):\n",
    "            nn.init.zeros_(module.weight)\n",
    "            nn.init.constant_(module.bias, head_bias)\n",
    "        else:\n",
    "            if flax:\n",
    "                # Flax defaults\n",
    "                lecun_normal_(module.weight)\n",
    "                if module.bias is not None:\n",
    "                    nn.init.zeros_(module.bias)\n",
    "            else:\n",
    "                # like MLP init in vit (my original init)\n",
    "                nn.init.xavier_uniform_(module.weight)\n",
    "                if module.bias is not None:\n",
    "                    if 'mlp' in name:\n",
    "                        nn.init.normal_(module.bias, std=1e-6)\n",
    "                    else:\n",
    "                        nn.init.zeros_(module.bias)\n",
    "    elif isinstance(module, nn.Conv2d):\n",
    "        lecun_normal_(module.weight)\n",
    "        if module.bias is not None:\n",
    "            nn.init.zeros_(module.bias)\n",
    "    elif isinstance(module, (nn.LayerNorm, nn.BatchNorm2d, nn.GroupNorm)):\n",
    "        nn.init.ones_(module.weight)\n",
    "        nn.init.zeros_(module.bias)\n",
    "    elif hasattr(module, 'init_weights'):\n",
    "        # NOTE if a parent module contains init_weights method, it can override the init of the\n",
    "        # child modules as this will be called in depth-first order.\n",
    "        module.init_weights()\n",
    "\n",
    "\n",
    "def checkpoint_filter_fn(state_dict, model):\n",
    "    \"\"\" Remap checkpoints if needed \"\"\"\n",
    "    if 'patch_embed.proj.weight' in state_dict:\n",
    "        # Remap FB ResMlp models -> timm\n",
    "        out_dict = {}\n",
    "        for k, v in state_dict.items():\n",
    "            k = k.replace('patch_embed.', 'stem.')\n",
    "            k = k.replace('attn.', 'linear_tokens.')\n",
    "            k = k.replace('mlp.', 'mlp_channels.')\n",
    "            k = k.replace('gamma_', 'ls')\n",
    "            if k.endswith('.alpha') or k.endswith('.beta'):\n",
    "                v = v.reshape(1, 1, -1)\n",
    "            out_dict[k] = v\n",
    "        return out_dict\n",
    "    return state_dict\n",
    "\n",
    "\n",
    "def _create_mixer(variant, pretrained=False, **kwargs):\n",
    "    if kwargs.get('features_only', None):\n",
    "        raise RuntimeError('features_only not implemented for MLP-Mixer models.')\n",
    "\n",
    "    model = build_model_with_cfg(\n",
    "        MlpMixer, variant, pretrained,\n",
    "        pretrained_filter_fn=checkpoint_filter_fn,\n",
    "        **kwargs)\n",
    "    return model\n",
    "\n",
    "def mixer_b16_224(pretrained=False, **kwargs):\n",
    "    \"\"\" Mixer-B/16 224x224. ImageNet-1k pretrained weights.\n",
    "    Paper:  'MLP-Mixer: An all-MLP Architecture for Vision' - https://arxiv.org/abs/2105.01601\n",
    "    \"\"\"\n",
    "    model_args = dict(patch_size=16, num_blocks=12, embed_dim=768, **kwargs)\n",
    "    model = _create_mixer('mixer_b16_224', pretrained=pretrained, **model_args)\n",
    "    return model\n",
    "\n",
    "def resmlp_24_224_dino(pretrained=False, **kwargs):\n",
    "    \"\"\" ResMLP-24\n",
    "    Paper: `ResMLP: Feedforward networks for image classification...` - https://arxiv.org/abs/2105.03404\n",
    "    Model pretrained via DINO (self-supervised) - https://arxiv.org/abs/2104.14294\n",
    "    \"\"\"\n",
    "    model_args = dict(\n",
    "        patch_size=16, num_blocks=24, embed_dim=384, mlp_ratio=4,\n",
    "        block_layer=partial(ResBlock, init_values=1e-5), norm_layer=Affine, **kwargs)\n",
    "    model = _create_mixer('resmlp_24_224_dino', pretrained=pretrained, **model_args)\n",
    "    return model\n",
    "\n",
    "def resmlp_12_224_dino(pretrained=False, **kwargs):\n",
    "    \"\"\" ResMLP-12\n",
    "    Paper: `ResMLP: Feedforward networks for image classification...` - https://arxiv.org/abs/2105.03404\n",
    "    Model pretrained via DINO (self-supervised) - https://arxiv.org/abs/2104.14294\n",
    "    \"\"\"\n",
    "    model_args = dict(\n",
    "        patch_size=16, num_blocks=12, embed_dim=384, mlp_ratio=4, block_layer=ResBlock, norm_layer=Affine, **kwargs)\n",
    "    model = _create_mixer('resmlp_12_224_dino', pretrained=pretrained, **model_args)\n",
    "    return model"
   ]
  },
  {
   "cell_type": "markdown",
   "id": "28a03b27",
   "metadata": {},
   "source": [
    "### Actual trainin"
   ]
  },
  {
   "cell_type": "code",
   "execution_count": null,
   "id": "bf661401",
   "metadata": {
    "scrolled": true
   },
   "outputs": [
    {
     "data": {
      "text/html": [
       "Finishing last run (ID:332ysc84) before initializing another..."
      ],
      "text/plain": [
       "<IPython.core.display.HTML object>"
      ]
     },
     "metadata": {},
     "output_type": "display_data"
    },
    {
     "data": {
      "text/html": [
       "Waiting for W&B process to finish... <strong style=\"color:green\">(success).</strong>"
      ],
      "text/plain": [
       "<IPython.core.display.HTML object>"
      ]
     },
     "metadata": {},
     "output_type": "display_data"
    },
    {
     "data": {
      "application/vnd.jupyter.widget-view+json": {
       "model_id": "2a093ee4750d4140bbdf560f71ba519d",
       "version_major": 2,
       "version_minor": 0
      },
      "text/plain": [
       "VBox(children=(Label(value='0.690 MB of 0.731 MB uploaded (0.000 MB deduped)\\r'), FloatProgress(value=0.942816…"
      ]
     },
     "metadata": {},
     "output_type": "display_data"
    },
    {
     "data": {
      "text/html": [
       "Synced <strong style=\"color:#cdcd00\">resmlp_24_224_dino</strong>: <a href=\"https://wandb.ai/keio-csg/pact_mlp/runs/332ysc84\" target=\"_blank\">https://wandb.ai/keio-csg/pact_mlp/runs/332ysc84</a><br/>Synced 6 W&B file(s), 0 media file(s), 0 artifact file(s) and 1 other file(s)"
      ],
      "text/plain": [
       "<IPython.core.display.HTML object>"
      ]
     },
     "metadata": {},
     "output_type": "display_data"
    },
    {
     "data": {
      "text/html": [
       "Find logs at: <code>./wandb/run-20221102_132201-332ysc84/logs</code>"
      ],
      "text/plain": [
       "<IPython.core.display.HTML object>"
      ]
     },
     "metadata": {},
     "output_type": "display_data"
    },
    {
     "data": {
      "text/html": [
       "Successfully finished last run (ID:332ysc84). Initializing new run:<br/>"
      ],
      "text/plain": [
       "<IPython.core.display.HTML object>"
      ]
     },
     "metadata": {},
     "output_type": "display_data"
    },
    {
     "data": {
      "application/vnd.jupyter.widget-view+json": {
       "model_id": "79dcd6b171694738892d9e171b95fa85",
       "version_major": 2,
       "version_minor": 0
      },
      "text/plain": [
       "VBox(children=(Label(value='Waiting for wandb.init()...\\r'), FloatProgress(value=0.016668812232092024, max=1.0…"
      ]
     },
     "metadata": {},
     "output_type": "display_data"
    },
    {
     "data": {
      "text/html": [
       "Tracking run with wandb version 0.13.4"
      ],
      "text/plain": [
       "<IPython.core.display.HTML object>"
      ]
     },
     "metadata": {},
     "output_type": "display_data"
    },
    {
     "data": {
      "text/html": [
       "Run data is saved locally in <code>/media/ken/dsk1/data/quantize_models_sandbox/wandb/run-20221102_132205-rvomnlut</code>"
      ],
      "text/plain": [
       "<IPython.core.display.HTML object>"
      ]
     },
     "metadata": {},
     "output_type": "display_data"
    },
    {
     "data": {
      "text/html": [
       "Syncing run <strong><a href=\"https://wandb.ai/keio-csg/pact_mlp_quant/runs/rvomnlut\" target=\"_blank\">resmlp_k5_attenk4</a></strong> to <a href=\"https://wandb.ai/keio-csg/pact_mlp_quant\" target=\"_blank\">Weights & Biases</a> (<a href=\"https://wandb.me/run\" target=\"_blank\">docs</a>)<br/>"
      ],
      "text/plain": [
       "<IPython.core.display.HTML object>"
      ]
     },
     "metadata": {},
     "output_type": "display_data"
    },
    {
     "name": "stdout",
     "output_type": "stream",
     "text": [
      "current lr 5.00000e-04\n"
     ]
    },
    {
     "data": {
      "application/vnd.jupyter.widget-view+json": {
       "model_id": "58fc36001213475286db007985e431d3",
       "version_major": 2,
       "version_minor": 0
      },
      "text/plain": [
       "  0%|          | 0/157 [00:00<?, ?it/s]"
      ]
     },
     "metadata": {},
     "output_type": "display_data"
    },
    {
     "name": "stdout",
     "output_type": "stream",
     "text": [
      "Epoch: [0][0/157]\tTime 3.788 (3.788)\tData 1.152 (1.152)\tLoss 2.9105 (2.9105)\tPrec@1 9.766 (9.766)\n",
      "Epoch: [0][50/157]\tTime 1.036 (1.099)\tData 0.001 (0.024)\tLoss nan (nan)\tPrec@1 8.984 (11.696)\n",
      "Epoch: [0][100/157]\tTime 1.036 (1.068)\tData 0.001 (0.012)\tLoss nan (nan)\tPrec@1 10.938 (10.918)\n",
      "Epoch: [0][150/157]\tTime 1.035 (1.057)\tData 0.001 (0.009)\tLoss nan (nan)\tPrec@1 8.594 (10.565)\n",
      "Test: [0/10]\tTime 6.128 (6.128)\tLoss 432.1644 (432.1644)\tPrec@1 8.008 (8.008)\n",
      " * Prec@1 7.530\n",
      "Best prec1 :  7.530000000762939\n"
     ]
    },
    {
     "data": {
      "text/html": [
       "Finishing last run (ID:rvomnlut) before initializing another..."
      ],
      "text/plain": [
       "<IPython.core.display.HTML object>"
      ]
     },
     "metadata": {},
     "output_type": "display_data"
    },
    {
     "data": {
      "text/html": [
       "Waiting for W&B process to finish... <strong style=\"color:green\">(success).</strong>"
      ],
      "text/plain": [
       "<IPython.core.display.HTML object>"
      ]
     },
     "metadata": {},
     "output_type": "display_data"
    },
    {
     "data": {
      "application/vnd.jupyter.widget-view+json": {
       "model_id": "60c3666f86dc4a7991b8516d4f930632",
       "version_major": 2,
       "version_minor": 0
      },
      "text/plain": [
       "VBox(children=(Label(value='0.690 MB of 0.690 MB uploaded (0.000 MB deduped)\\r'), FloatProgress(value=1.0, max…"
      ]
     },
     "metadata": {},
     "output_type": "display_data"
    },
    {
     "data": {
      "text/html": [
       "<style>\n",
       "    table.wandb td:nth-child(1) { padding: 0 10px; text-align: left ; width: auto;} td:nth-child(2) {text-align: left ; width: 100%}\n",
       "    .wandb-row { display: flex; flex-direction: row; flex-wrap: wrap; justify-content: flex-start; width: 100% }\n",
       "    .wandb-col { display: flex; flex-direction: column; flex-basis: 100%; flex: 1; padding: 10px; }\n",
       "    </style>\n",
       "<div class=\"wandb-row\"><div class=\"wandb-col\"><h3>Run history:</h3><br/><table class=\"wandb\"><tr><td>epoch</td><td>▁</td></tr><tr><td>lr</td><td>▁</td></tr><tr><td>prec</td><td>▁</td></tr><tr><td>val_loss</td><td>▁</td></tr></table><br/></div><div class=\"wandb-col\"><h3>Run summary:</h3><br/><table class=\"wandb\"><tr><td>epoch</td><td>0</td></tr><tr><td>lr</td><td>0.0005</td></tr><tr><td>prec</td><td>7.53</td></tr><tr><td>train_loss</td><td>nan</td></tr><tr><td>val_loss</td><td>394.15967</td></tr></table><br/></div></div>"
      ],
      "text/plain": [
       "<IPython.core.display.HTML object>"
      ]
     },
     "metadata": {},
     "output_type": "display_data"
    },
    {
     "data": {
      "text/html": [
       "Synced <strong style=\"color:#cdcd00\">resmlp_k5_attenk4</strong>: <a href=\"https://wandb.ai/keio-csg/pact_mlp_quant/runs/rvomnlut\" target=\"_blank\">https://wandb.ai/keio-csg/pact_mlp_quant/runs/rvomnlut</a><br/>Synced 7 W&B file(s), 0 media file(s), 0 artifact file(s) and 0 other file(s)"
      ],
      "text/plain": [
       "<IPython.core.display.HTML object>"
      ]
     },
     "metadata": {},
     "output_type": "display_data"
    },
    {
     "data": {
      "text/html": [
       "Find logs at: <code>./wandb/run-20221102_132205-rvomnlut/logs</code>"
      ],
      "text/plain": [
       "<IPython.core.display.HTML object>"
      ]
     },
     "metadata": {},
     "output_type": "display_data"
    },
    {
     "data": {
      "text/html": [
       "Successfully finished last run (ID:rvomnlut). Initializing new run:<br/>"
      ],
      "text/plain": [
       "<IPython.core.display.HTML object>"
      ]
     },
     "metadata": {},
     "output_type": "display_data"
    },
    {
     "data": {
      "application/vnd.jupyter.widget-view+json": {
       "model_id": "c9651f58c1d34016b0ec12de51dbaabb",
       "version_major": 2,
       "version_minor": 0
      },
      "text/plain": [
       "VBox(children=(Label(value='Waiting for wandb.init()...\\r'), FloatProgress(value=0.016673559214298923, max=1.0…"
      ]
     },
     "metadata": {},
     "output_type": "display_data"
    },
    {
     "data": {
      "text/html": [
       "Tracking run with wandb version 0.13.4"
      ],
      "text/plain": [
       "<IPython.core.display.HTML object>"
      ]
     },
     "metadata": {},
     "output_type": "display_data"
    },
    {
     "data": {
      "text/html": [
       "Run data is saved locally in <code>/media/ken/dsk1/data/quantize_models_sandbox/wandb/run-20221102_132530-kxffziau</code>"
      ],
      "text/plain": [
       "<IPython.core.display.HTML object>"
      ]
     },
     "metadata": {},
     "output_type": "display_data"
    },
    {
     "data": {
      "text/html": [
       "Syncing run <strong><a href=\"https://wandb.ai/keio-csg/pact_mlp_quant/runs/kxffziau\" target=\"_blank\">resmlp_k6_attenk4</a></strong> to <a href=\"https://wandb.ai/keio-csg/pact_mlp_quant\" target=\"_blank\">Weights & Biases</a> (<a href=\"https://wandb.me/run\" target=\"_blank\">docs</a>)<br/>"
      ],
      "text/plain": [
       "<IPython.core.display.HTML object>"
      ]
     },
     "metadata": {},
     "output_type": "display_data"
    },
    {
     "name": "stdout",
     "output_type": "stream",
     "text": [
      "current lr 5.00000e-04\n"
     ]
    },
    {
     "data": {
      "application/vnd.jupyter.widget-view+json": {
       "model_id": "61e3c666dc224e718925c340adf1b45e",
       "version_major": 2,
       "version_minor": 0
      },
      "text/plain": [
       "  0%|          | 0/157 [00:00<?, ?it/s]"
      ]
     },
     "metadata": {},
     "output_type": "display_data"
    },
    {
     "name": "stdout",
     "output_type": "stream",
     "text": [
      "Epoch: [0][0/157]\tTime 2.653 (2.653)\tData 1.604 (1.604)\tLoss 3.2291 (3.2291)\tPrec@1 11.719 (11.719)\n",
      "Epoch: [0][50/157]\tTime 1.049 (1.079)\tData 0.001 (0.032)\tLoss 3.0880 (3.1835)\tPrec@1 16.797 (12.584)\n",
      "Epoch: [0][100/157]\tTime 1.049 (1.064)\tData 0.001 (0.017)\tLoss 3.1311 (3.2088)\tPrec@1 10.156 (12.098)\n",
      "Epoch: [0][150/157]\tTime 1.048 (1.059)\tData 0.001 (0.012)\tLoss 3.3394 (3.2144)\tPrec@1 16.016 (11.889)\n",
      "Test: [0/10]\tTime 5.069 (5.069)\tLoss 3.0091 (3.0091)\tPrec@1 10.449 (10.449)\n",
      " * Prec@1 10.590\n",
      "Best prec1 :  10.589999996948242\n"
     ]
    },
    {
     "data": {
      "text/html": [
       "Finishing last run (ID:kxffziau) before initializing another..."
      ],
      "text/plain": [
       "<IPython.core.display.HTML object>"
      ]
     },
     "metadata": {},
     "output_type": "display_data"
    },
    {
     "data": {
      "text/html": [
       "Waiting for W&B process to finish... <strong style=\"color:green\">(success).</strong>"
      ],
      "text/plain": [
       "<IPython.core.display.HTML object>"
      ]
     },
     "metadata": {},
     "output_type": "display_data"
    },
    {
     "data": {
      "text/html": [
       "<style>\n",
       "    table.wandb td:nth-child(1) { padding: 0 10px; text-align: left ; width: auto;} td:nth-child(2) {text-align: left ; width: 100%}\n",
       "    .wandb-row { display: flex; flex-direction: row; flex-wrap: wrap; justify-content: flex-start; width: 100% }\n",
       "    .wandb-col { display: flex; flex-direction: column; flex-basis: 100%; flex: 1; padding: 10px; }\n",
       "    </style>\n",
       "<div class=\"wandb-row\"><div class=\"wandb-col\"><h3>Run history:</h3><br/><table class=\"wandb\"><tr><td>epoch</td><td>▁</td></tr><tr><td>lr</td><td>▁</td></tr><tr><td>prec</td><td>▁</td></tr><tr><td>train_loss</td><td>▁</td></tr><tr><td>val_loss</td><td>▁</td></tr></table><br/></div><div class=\"wandb-col\"><h3>Run summary:</h3><br/><table class=\"wandb\"><tr><td>epoch</td><td>0</td></tr><tr><td>lr</td><td>0.0005</td></tr><tr><td>prec</td><td>10.59</td></tr><tr><td>train_loss</td><td>3.21562</td></tr><tr><td>val_loss</td><td>3.07186</td></tr></table><br/></div></div>"
      ],
      "text/plain": [
       "<IPython.core.display.HTML object>"
      ]
     },
     "metadata": {},
     "output_type": "display_data"
    },
    {
     "data": {
      "text/html": [
       "Synced <strong style=\"color:#cdcd00\">resmlp_k6_attenk4</strong>: <a href=\"https://wandb.ai/keio-csg/pact_mlp_quant/runs/kxffziau\" target=\"_blank\">https://wandb.ai/keio-csg/pact_mlp_quant/runs/kxffziau</a><br/>Synced 7 W&B file(s), 0 media file(s), 0 artifact file(s) and 1 other file(s)"
      ],
      "text/plain": [
       "<IPython.core.display.HTML object>"
      ]
     },
     "metadata": {},
     "output_type": "display_data"
    },
    {
     "data": {
      "text/html": [
       "Find logs at: <code>./wandb/run-20221102_132530-kxffziau/logs</code>"
      ],
      "text/plain": [
       "<IPython.core.display.HTML object>"
      ]
     },
     "metadata": {},
     "output_type": "display_data"
    },
    {
     "data": {
      "text/html": [
       "Successfully finished last run (ID:kxffziau). Initializing new run:<br/>"
      ],
      "text/plain": [
       "<IPython.core.display.HTML object>"
      ]
     },
     "metadata": {},
     "output_type": "display_data"
    },
    {
     "data": {
      "application/vnd.jupyter.widget-view+json": {
       "model_id": "523d2ba36a344895a6eff9bb3d577a97",
       "version_major": 2,
       "version_minor": 0
      },
      "text/plain": [
       "VBox(children=(Label(value='Waiting for wandb.init()...\\r'), FloatProgress(value=0.016677073633763938, max=1.0…"
      ]
     },
     "metadata": {},
     "output_type": "display_data"
    },
    {
     "data": {
      "text/html": [
       "Tracking run with wandb version 0.13.4"
      ],
      "text/plain": [
       "<IPython.core.display.HTML object>"
      ]
     },
     "metadata": {},
     "output_type": "display_data"
    },
    {
     "data": {
      "text/html": [
       "Run data is saved locally in <code>/media/ken/dsk1/data/quantize_models_sandbox/wandb/run-20221102_132854-sypceg29</code>"
      ],
      "text/plain": [
       "<IPython.core.display.HTML object>"
      ]
     },
     "metadata": {},
     "output_type": "display_data"
    },
    {
     "data": {
      "text/html": [
       "Syncing run <strong><a href=\"https://wandb.ai/keio-csg/pact_mlp_quant/runs/sypceg29\" target=\"_blank\">resmlp_k7_attenk4</a></strong> to <a href=\"https://wandb.ai/keio-csg/pact_mlp_quant\" target=\"_blank\">Weights & Biases</a> (<a href=\"https://wandb.me/run\" target=\"_blank\">docs</a>)<br/>"
      ],
      "text/plain": [
       "<IPython.core.display.HTML object>"
      ]
     },
     "metadata": {},
     "output_type": "display_data"
    },
    {
     "name": "stdout",
     "output_type": "stream",
     "text": [
      "current lr 5.00000e-04\n"
     ]
    },
    {
     "data": {
      "application/vnd.jupyter.widget-view+json": {
       "model_id": "98f1a73c191145d5a360d6f346f77564",
       "version_major": 2,
       "version_minor": 0
      },
      "text/plain": [
       "  0%|          | 0/157 [00:00<?, ?it/s]"
      ]
     },
     "metadata": {},
     "output_type": "display_data"
    },
    {
     "name": "stdout",
     "output_type": "stream",
     "text": [
      "Epoch: [0][0/157]\tTime 2.412 (2.412)\tData 1.362 (1.362)\tLoss 2.2087 (2.2087)\tPrec@1 37.500 (37.500)\n",
      "Epoch: [0][50/157]\tTime 1.049 (1.074)\tData 0.001 (0.028)\tLoss 1.9057 (2.0042)\tPrec@1 39.844 (39.315)\n",
      "Epoch: [0][100/157]\tTime 1.049 (1.062)\tData 0.001 (0.015)\tLoss 1.9337 (1.9885)\tPrec@1 37.109 (39.500)\n",
      "Epoch: [0][150/157]\tTime 1.049 (1.058)\tData 0.001 (0.010)\tLoss 1.9030 (1.9923)\tPrec@1 37.109 (39.451)\n",
      "Test: [0/10]\tTime 5.112 (5.112)\tLoss 1.3515 (1.3515)\tPrec@1 54.688 (54.688)\n",
      " * Prec@1 55.650\n",
      "Best prec1 :  55.65000009765625\n",
      "current lr 3.66667e-04\n"
     ]
    },
    {
     "data": {
      "application/vnd.jupyter.widget-view+json": {
       "model_id": "b973f5a212ff4c1bb9f03d67e9572e8a",
       "version_major": 2,
       "version_minor": 0
      },
      "text/plain": [
       "  0%|          | 0/157 [00:00<?, ?it/s]"
      ]
     },
     "metadata": {},
     "output_type": "display_data"
    },
    {
     "name": "stdout",
     "output_type": "stream",
     "text": [
      "Epoch: [1][0/157]\tTime 2.375 (2.375)\tData 1.327 (1.327)\tLoss 2.1586 (2.1586)\tPrec@1 37.500 (37.500)\n",
      "Epoch: [1][50/157]\tTime 1.049 (1.075)\tData 0.001 (0.027)\tLoss 2.0202 (2.0105)\tPrec@1 42.188 (39.737)\n",
      "Epoch: [1][100/157]\tTime 1.049 (1.062)\tData 0.001 (0.014)\tLoss 2.2218 (1.9934)\tPrec@1 35.938 (40.037)\n",
      "Epoch: [1][150/157]\tTime 1.049 (1.058)\tData 0.001 (0.010)\tLoss 1.7844 (1.9918)\tPrec@1 41.797 (39.859)\n",
      "Test: [0/10]\tTime 6.520 (6.520)\tLoss 1.3515 (1.3515)\tPrec@1 54.688 (54.688)\n",
      " * Prec@1 55.650\n",
      "Best prec1 :  55.65000009765625\n",
      "current lr 2.33333e-04\n"
     ]
    },
    {
     "data": {
      "application/vnd.jupyter.widget-view+json": {
       "model_id": "d4f6a887884748c0b65bc6579993098e",
       "version_major": 2,
       "version_minor": 0
      },
      "text/plain": [
       "  0%|          | 0/157 [00:00<?, ?it/s]"
      ]
     },
     "metadata": {},
     "output_type": "display_data"
    },
    {
     "name": "stdout",
     "output_type": "stream",
     "text": [
      "Epoch: [2][0/157]\tTime 2.717 (2.717)\tData 1.668 (1.668)\tLoss 1.9674 (1.9674)\tPrec@1 39.453 (39.453)\n",
      "Epoch: [2][50/157]\tTime 1.050 (1.081)\tData 0.001 (0.034)\tLoss 2.0747 (1.9865)\tPrec@1 42.188 (39.706)\n",
      "Epoch: [2][100/157]\tTime 1.049 (1.065)\tData 0.001 (0.018)\tLoss 2.0311 (1.9920)\tPrec@1 45.312 (39.801)\n",
      "Epoch: [2][150/157]\tTime 1.048 (1.060)\tData 0.001 (0.012)\tLoss 1.7932 (1.9960)\tPrec@1 44.531 (39.660)\n",
      "Test: [0/10]\tTime 6.065 (6.065)\tLoss 1.3515 (1.3515)\tPrec@1 54.688 (54.688)\n",
      " * Prec@1 55.650\n",
      "Best prec1 :  55.65000009765625\n",
      "current lr 1.00000e-04\n"
     ]
    },
    {
     "data": {
      "application/vnd.jupyter.widget-view+json": {
       "model_id": "e96bc2c43fef46b0b5e86b604f13cb7d",
       "version_major": 2,
       "version_minor": 0
      },
      "text/plain": [
       "  0%|          | 0/157 [00:00<?, ?it/s]"
      ]
     },
     "metadata": {},
     "output_type": "display_data"
    },
    {
     "name": "stdout",
     "output_type": "stream",
     "text": [
      "Epoch: [3][0/157]\tTime 2.698 (2.698)\tData 1.651 (1.651)\tLoss 2.1291 (2.1291)\tPrec@1 39.453 (39.453)\n",
      "Epoch: [3][50/157]\tTime 1.049 (1.080)\tData 0.001 (0.033)\tLoss 2.2311 (1.9936)\tPrec@1 37.109 (39.629)\n",
      "Epoch: [3][100/157]\tTime 1.048 (1.065)\tData 0.001 (0.017)\tLoss 1.9256 (1.9913)\tPrec@1 41.406 (39.797)\n",
      "Epoch: [3][150/157]\tTime 1.049 (1.059)\tData 0.001 (0.012)\tLoss 2.1564 (1.9991)\tPrec@1 35.547 (39.507)\n",
      "Test: [0/10]\tTime 5.585 (5.585)\tLoss 1.3515 (1.3515)\tPrec@1 54.688 (54.688)\n",
      " * Prec@1 55.650\n",
      "Best prec1 :  55.65000009765625\n",
      "current lr 9.75773e-05\n"
     ]
    },
    {
     "data": {
      "application/vnd.jupyter.widget-view+json": {
       "model_id": "b1ae66d007114df5aba3a45e3bcc634f",
       "version_major": 2,
       "version_minor": 0
      },
      "text/plain": [
       "  0%|          | 0/157 [00:00<?, ?it/s]"
      ]
     },
     "metadata": {},
     "output_type": "display_data"
    },
    {
     "name": "stdout",
     "output_type": "stream",
     "text": [
      "Epoch: [4][0/157]\tTime 2.686 (2.686)\tData 1.638 (1.638)\tLoss 2.0995 (2.0995)\tPrec@1 38.672 (38.672)\n",
      "Epoch: [4][50/157]\tTime 1.048 (1.080)\tData 0.001 (0.033)\tLoss 2.0322 (1.9703)\tPrec@1 41.406 (40.702)\n",
      "Epoch: [4][100/157]\tTime 1.048 (1.065)\tData 0.001 (0.017)\tLoss 1.7941 (1.9738)\tPrec@1 41.406 (40.172)\n",
      "Epoch: [4][150/157]\tTime 1.048 (1.059)\tData 0.001 (0.012)\tLoss 1.8727 (1.9860)\tPrec@1 46.484 (40.102)\n",
      "Test: [0/10]\tTime 5.749 (5.749)\tLoss 1.3515 (1.3515)\tPrec@1 54.688 (54.688)\n",
      " * Prec@1 55.650\n",
      "Best prec1 :  55.65000009765625\n",
      "current lr 9.05463e-05\n"
     ]
    },
    {
     "data": {
      "application/vnd.jupyter.widget-view+json": {
       "model_id": "e5ca503b509840e580c20e39f550f64a",
       "version_major": 2,
       "version_minor": 0
      },
      "text/plain": [
       "  0%|          | 0/157 [00:00<?, ?it/s]"
      ]
     },
     "metadata": {},
     "output_type": "display_data"
    },
    {
     "name": "stdout",
     "output_type": "stream",
     "text": [
      "Epoch: [5][0/157]\tTime 2.312 (2.312)\tData 1.263 (1.263)\tLoss 1.8589 (1.8589)\tPrec@1 44.141 (44.141)\n",
      "Epoch: [5][50/157]\tTime 1.049 (1.073)\tData 0.001 (0.026)\tLoss 2.0761 (1.9789)\tPrec@1 39.453 (40.043)\n",
      "Epoch: [5][100/157]\tTime 1.048 (1.061)\tData 0.001 (0.014)\tLoss 1.8628 (1.9830)\tPrec@1 38.281 (39.751)\n",
      "Epoch: [5][150/157]\tTime 1.048 (1.057)\tData 0.001 (0.009)\tLoss 1.8966 (1.9899)\tPrec@1 45.312 (39.846)\n",
      "Test: [0/10]\tTime 6.335 (6.335)\tLoss 1.3515 (1.3515)\tPrec@1 54.688 (54.688)\n",
      " * Prec@1 55.650\n",
      "Best prec1 :  55.65000009765625\n",
      "current lr 7.95954e-05\n"
     ]
    },
    {
     "data": {
      "application/vnd.jupyter.widget-view+json": {
       "model_id": "2c23dcd08e4748e4a6028934c738920d",
       "version_major": 2,
       "version_minor": 0
      },
      "text/plain": [
       "  0%|          | 0/157 [00:00<?, ?it/s]"
      ]
     },
     "metadata": {},
     "output_type": "display_data"
    },
    {
     "name": "stdout",
     "output_type": "stream",
     "text": [
      "Epoch: [6][0/157]\tTime 2.774 (2.774)\tData 1.726 (1.726)\tLoss 1.8009 (1.8009)\tPrec@1 44.922 (44.922)\n",
      "Epoch: [6][50/157]\tTime 1.049 (1.082)\tData 0.001 (0.035)\tLoss 2.2117 (1.9946)\tPrec@1 39.062 (39.836)\n",
      "Epoch: [6][100/157]\tTime 1.050 (1.066)\tData 0.001 (0.018)\tLoss 1.9335 (1.9924)\tPrec@1 37.500 (39.623)\n",
      "Epoch: [6][150/157]\tTime 1.048 (1.060)\tData 0.001 (0.012)\tLoss 1.7941 (1.9924)\tPrec@1 46.875 (39.691)\n",
      "Test: [0/10]\tTime 5.409 (5.409)\tLoss 1.3515 (1.3515)\tPrec@1 54.688 (54.688)\n",
      " * Prec@1 55.650\n",
      "Best prec1 :  55.65000009765625\n",
      "current lr 6.57963e-05\n"
     ]
    },
    {
     "data": {
      "application/vnd.jupyter.widget-view+json": {
       "model_id": "abb79096043c407e836463dab52a02e8",
       "version_major": 2,
       "version_minor": 0
      },
      "text/plain": [
       "  0%|          | 0/157 [00:00<?, ?it/s]"
      ]
     },
     "metadata": {},
     "output_type": "display_data"
    },
    {
     "name": "stdout",
     "output_type": "stream",
     "text": [
      "Epoch: [7][0/157]\tTime 2.455 (2.455)\tData 1.407 (1.407)\tLoss 2.0683 (2.0683)\tPrec@1 39.062 (39.062)\n",
      "Epoch: [7][50/157]\tTime 1.049 (1.076)\tData 0.001 (0.029)\tLoss 2.0565 (1.9882)\tPrec@1 36.719 (39.890)\n",
      "Epoch: [7][100/157]\tTime 1.049 (1.062)\tData 0.001 (0.015)\tLoss 1.8877 (1.9939)\tPrec@1 42.969 (39.848)\n",
      "Epoch: [7][150/157]\tTime 1.048 (1.058)\tData 0.001 (0.010)\tLoss 2.0670 (1.9917)\tPrec@1 39.844 (39.867)\n",
      "Test: [0/10]\tTime 6.169 (6.169)\tLoss 1.3515 (1.3515)\tPrec@1 54.688 (54.688)\n",
      " * Prec@1 55.650\n",
      "Best prec1 :  55.65000009765625\n",
      "current lr 5.05000e-05\n"
     ]
    },
    {
     "data": {
      "application/vnd.jupyter.widget-view+json": {
       "model_id": "35312670edec4650b7e09588128cd9ba",
       "version_major": 2,
       "version_minor": 0
      },
      "text/plain": [
       "  0%|          | 0/157 [00:00<?, ?it/s]"
      ]
     },
     "metadata": {},
     "output_type": "display_data"
    },
    {
     "name": "stdout",
     "output_type": "stream",
     "text": [
      "Epoch: [8][0/157]\tTime 2.625 (2.625)\tData 1.577 (1.577)\tLoss 2.0118 (2.0118)\tPrec@1 39.844 (39.844)\n",
      "Epoch: [8][50/157]\tTime 1.049 (1.079)\tData 0.001 (0.032)\tLoss 1.9766 (1.9818)\tPrec@1 41.016 (40.012)\n",
      "Epoch: [8][100/157]\tTime 1.049 (1.064)\tData 0.001 (0.017)\tLoss 2.1356 (1.9725)\tPrec@1 37.109 (40.281)\n",
      "Epoch: [8][150/157]\tTime 1.048 (1.059)\tData 0.001 (0.011)\tLoss 1.8266 (1.9892)\tPrec@1 43.750 (39.994)\n",
      "Test: [0/10]\tTime 5.632 (5.632)\tLoss 1.3515 (1.3515)\tPrec@1 54.688 (54.688)\n",
      " * Prec@1 55.650\n",
      "Best prec1 :  55.65000009765625\n",
      "current lr 3.52037e-05\n"
     ]
    },
    {
     "data": {
      "application/vnd.jupyter.widget-view+json": {
       "model_id": "d43fb01795f242bc9fab2cfbbe57903a",
       "version_major": 2,
       "version_minor": 0
      },
      "text/plain": [
       "  0%|          | 0/157 [00:00<?, ?it/s]"
      ]
     },
     "metadata": {},
     "output_type": "display_data"
    },
    {
     "name": "stdout",
     "output_type": "stream",
     "text": [
      "Epoch: [9][0/157]\tTime 2.571 (2.571)\tData 1.522 (1.522)\tLoss 1.8777 (1.8777)\tPrec@1 39.062 (39.062)\n",
      "Epoch: [9][50/157]\tTime 1.048 (1.078)\tData 0.001 (0.031)\tLoss 2.0230 (2.0092)\tPrec@1 38.672 (39.913)\n",
      "Epoch: [9][100/157]\tTime 1.049 (1.063)\tData 0.001 (0.016)\tLoss 2.1395 (2.0097)\tPrec@1 34.766 (39.882)\n",
      "Epoch: [9][150/157]\tTime 1.048 (1.059)\tData 0.001 (0.011)\tLoss 2.0784 (2.0082)\tPrec@1 33.594 (39.727)\n",
      "Test: [0/10]\tTime 6.199 (6.199)\tLoss 1.3515 (1.3515)\tPrec@1 54.688 (54.688)\n",
      " * Prec@1 55.650\n",
      "Best prec1 :  55.65000009765625\n"
     ]
    },
    {
     "data": {
      "text/html": [
       "Finishing last run (ID:sypceg29) before initializing another..."
      ],
      "text/plain": [
       "<IPython.core.display.HTML object>"
      ]
     },
     "metadata": {},
     "output_type": "display_data"
    },
    {
     "data": {
      "text/html": [
       "Waiting for W&B process to finish... <strong style=\"color:green\">(success).</strong>"
      ],
      "text/plain": [
       "<IPython.core.display.HTML object>"
      ]
     },
     "metadata": {},
     "output_type": "display_data"
    },
    {
     "data": {
      "application/vnd.jupyter.widget-view+json": {
       "model_id": "8cad918180534532a70b20aaf98133ce",
       "version_major": 2,
       "version_minor": 0
      },
      "text/plain": [
       "VBox(children=(Label(value='0.679 MB of 0.679 MB uploaded (0.000 MB deduped)\\r'), FloatProgress(value=1.0, max…"
      ]
     },
     "metadata": {},
     "output_type": "display_data"
    },
    {
     "data": {
      "text/html": [
       "<style>\n",
       "    table.wandb td:nth-child(1) { padding: 0 10px; text-align: left ; width: auto;} td:nth-child(2) {text-align: left ; width: 100%}\n",
       "    .wandb-row { display: flex; flex-direction: row; flex-wrap: wrap; justify-content: flex-start; width: 100% }\n",
       "    .wandb-col { display: flex; flex-direction: column; flex-basis: 100%; flex: 1; padding: 10px; }\n",
       "    </style>\n",
       "<div class=\"wandb-row\"><div class=\"wandb-col\"><h3>Run history:</h3><br/><table class=\"wandb\"><tr><td>epoch</td><td>▁▂▃▃▄▅▆▆▇█</td></tr><tr><td>lr</td><td>█▆▄▂▂▂▂▁▁▁</td></tr><tr><td>prec</td><td>▁▁▁▁▁▁▁▁▁▁</td></tr><tr><td>train_loss</td><td>▃▃▃▅▂▂▂▄▁█</td></tr><tr><td>val_loss</td><td>▁▁▁▁▁▁▁▁▁▁</td></tr></table><br/></div><div class=\"wandb-col\"><h3>Run summary:</h3><br/><table class=\"wandb\"><tr><td>epoch</td><td>9</td></tr><tr><td>lr</td><td>4e-05</td></tr><tr><td>prec</td><td>55.65</td></tr><tr><td>train_loss</td><td>2.00542</td></tr><tr><td>val_loss</td><td>1.36919</td></tr></table><br/></div></div>"
      ],
      "text/plain": [
       "<IPython.core.display.HTML object>"
      ]
     },
     "metadata": {},
     "output_type": "display_data"
    },
    {
     "data": {
      "text/html": [
       "Synced <strong style=\"color:#cdcd00\">resmlp_k7_attenk4</strong>: <a href=\"https://wandb.ai/keio-csg/pact_mlp_quant/runs/sypceg29\" target=\"_blank\">https://wandb.ai/keio-csg/pact_mlp_quant/runs/sypceg29</a><br/>Synced 7 W&B file(s), 0 media file(s), 0 artifact file(s) and 0 other file(s)"
      ],
      "text/plain": [
       "<IPython.core.display.HTML object>"
      ]
     },
     "metadata": {},
     "output_type": "display_data"
    },
    {
     "data": {
      "text/html": [
       "Find logs at: <code>./wandb/run-20221102_132854-sypceg29/logs</code>"
      ],
      "text/plain": [
       "<IPython.core.display.HTML object>"
      ]
     },
     "metadata": {},
     "output_type": "display_data"
    },
    {
     "data": {
      "text/html": [
       "Successfully finished last run (ID:sypceg29). Initializing new run:<br/>"
      ],
      "text/plain": [
       "<IPython.core.display.HTML object>"
      ]
     },
     "metadata": {},
     "output_type": "display_data"
    },
    {
     "data": {
      "application/vnd.jupyter.widget-view+json": {
       "model_id": "63f5a17c5ba747a08422971c9cd682bd",
       "version_major": 2,
       "version_minor": 0
      },
      "text/plain": [
       "VBox(children=(Label(value='Waiting for wandb.init()...\\r'), FloatProgress(value=0.0166770803470475, max=1.0))…"
      ]
     },
     "metadata": {},
     "output_type": "display_data"
    },
    {
     "data": {
      "text/html": [
       "Tracking run with wandb version 0.13.4"
      ],
      "text/plain": [
       "<IPython.core.display.HTML object>"
      ]
     },
     "metadata": {},
     "output_type": "display_data"
    },
    {
     "data": {
      "text/html": [
       "Run data is saved locally in <code>/media/ken/dsk1/data/quantize_models_sandbox/wandb/run-20221102_140151-396bggyq</code>"
      ],
      "text/plain": [
       "<IPython.core.display.HTML object>"
      ]
     },
     "metadata": {},
     "output_type": "display_data"
    },
    {
     "data": {
      "text/html": [
       "Syncing run <strong><a href=\"https://wandb.ai/keio-csg/pact_mlp_quant/runs/396bggyq\" target=\"_blank\">resmlp_k8_attenk4</a></strong> to <a href=\"https://wandb.ai/keio-csg/pact_mlp_quant\" target=\"_blank\">Weights & Biases</a> (<a href=\"https://wandb.me/run\" target=\"_blank\">docs</a>)<br/>"
      ],
      "text/plain": [
       "<IPython.core.display.HTML object>"
      ]
     },
     "metadata": {},
     "output_type": "display_data"
    },
    {
     "name": "stdout",
     "output_type": "stream",
     "text": [
      "current lr 5.00000e-04\n"
     ]
    },
    {
     "data": {
      "application/vnd.jupyter.widget-view+json": {
       "model_id": "fb1276b715d0445f8d70f1f1914e3e13",
       "version_major": 2,
       "version_minor": 0
      },
      "text/plain": [
       "  0%|          | 0/157 [00:00<?, ?it/s]"
      ]
     },
     "metadata": {},
     "output_type": "display_data"
    },
    {
     "name": "stdout",
     "output_type": "stream",
     "text": [
      "Epoch: [0][0/157]\tTime 2.636 (2.636)\tData 1.584 (1.584)\tLoss 1.0693 (1.0693)\tPrec@1 65.625 (65.625)\n",
      "Epoch: [0][50/157]\tTime 1.050 (1.079)\tData 0.001 (0.032)\tLoss 1.2474 (1.1886)\tPrec@1 60.547 (60.417)\n",
      "Epoch: [0][100/157]\tTime 1.051 (1.065)\tData 0.001 (0.017)\tLoss 1.3030 (1.1820)\tPrec@1 55.859 (60.470)\n",
      "Epoch: [0][150/157]\tTime 1.050 (1.060)\tData 0.001 (0.012)\tLoss 1.0917 (1.1765)\tPrec@1 61.328 (60.710)\n",
      "Test: [0/10]\tTime 5.998 (5.998)\tLoss 0.6707 (0.6707)\tPrec@1 76.660 (76.660)\n",
      " * Prec@1 77.920\n",
      "Best prec1 :  77.92000015869141\n",
      "current lr 3.66667e-04\n"
     ]
    },
    {
     "data": {
      "application/vnd.jupyter.widget-view+json": {
       "model_id": "240b010b4a8e4b028fc980936dde1cfc",
       "version_major": 2,
       "version_minor": 0
      },
      "text/plain": [
       "  0%|          | 0/157 [00:00<?, ?it/s]"
      ]
     },
     "metadata": {},
     "output_type": "display_data"
    },
    {
     "name": "stdout",
     "output_type": "stream",
     "text": [
      "Epoch: [1][0/157]\tTime 2.646 (2.646)\tData 1.597 (1.597)\tLoss 1.1376 (1.1376)\tPrec@1 59.375 (59.375)\n",
      "Epoch: [1][50/157]\tTime 1.050 (1.080)\tData 0.001 (0.032)\tLoss 1.2277 (1.1700)\tPrec@1 61.328 (61.382)\n",
      "Epoch: [1][100/157]\tTime 1.049 (1.065)\tData 0.001 (0.017)\tLoss 1.1908 (1.1782)\tPrec@1 57.031 (60.524)\n",
      "Epoch: [1][150/157]\tTime 1.049 (1.060)\tData 0.001 (0.012)\tLoss 1.1706 (1.1772)\tPrec@1 58.594 (60.676)\n",
      "Test: [0/10]\tTime 5.883 (5.883)\tLoss 0.6707 (0.6707)\tPrec@1 76.660 (76.660)\n",
      " * Prec@1 77.920\n",
      "Best prec1 :  77.92000015869141\n",
      "current lr 2.33333e-04\n"
     ]
    },
    {
     "data": {
      "application/vnd.jupyter.widget-view+json": {
       "model_id": "f1e9d70421084dce89c4d61fe29b9f06",
       "version_major": 2,
       "version_minor": 0
      },
      "text/plain": [
       "  0%|          | 0/157 [00:00<?, ?it/s]"
      ]
     },
     "metadata": {},
     "output_type": "display_data"
    },
    {
     "name": "stdout",
     "output_type": "stream",
     "text": [
      "Epoch: [2][0/157]\tTime 2.542 (2.542)\tData 1.493 (1.493)\tLoss 1.1304 (1.1304)\tPrec@1 63.281 (63.281)\n",
      "Epoch: [2][50/157]\tTime 1.049 (1.078)\tData 0.001 (0.030)\tLoss 1.0766 (1.1589)\tPrec@1 65.625 (60.930)\n",
      "Epoch: [2][100/157]\tTime 1.049 (1.064)\tData 0.001 (0.016)\tLoss 1.1286 (1.1720)\tPrec@1 59.375 (60.539)\n",
      "Epoch: [2][150/157]\tTime 1.049 (1.059)\tData 0.001 (0.011)\tLoss 1.2762 (1.1728)\tPrec@1 58.203 (60.847)\n",
      "Test: [0/10]\tTime 5.609 (5.609)\tLoss 0.6707 (0.6707)\tPrec@1 76.660 (76.660)\n",
      " * Prec@1 77.920\n",
      "Best prec1 :  77.92000015869141\n",
      "current lr 1.00000e-04\n"
     ]
    },
    {
     "data": {
      "application/vnd.jupyter.widget-view+json": {
       "model_id": "1da73a1ddfb247cf802f33e29662a72a",
       "version_major": 2,
       "version_minor": 0
      },
      "text/plain": [
       "  0%|          | 0/157 [00:00<?, ?it/s]"
      ]
     },
     "metadata": {},
     "output_type": "display_data"
    },
    {
     "name": "stdout",
     "output_type": "stream",
     "text": [
      "Epoch: [3][0/157]\tTime 2.309 (2.309)\tData 1.260 (1.260)\tLoss 1.3113 (1.3113)\tPrec@1 56.250 (56.250)\n",
      "Epoch: [3][50/157]\tTime 1.050 (1.073)\tData 0.001 (0.026)\tLoss 1.2441 (1.1921)\tPrec@1 60.156 (60.769)\n",
      "Epoch: [3][100/157]\tTime 1.050 (1.061)\tData 0.001 (0.013)\tLoss 1.1667 (1.1848)\tPrec@1 62.891 (60.775)\n",
      "Epoch: [3][150/157]\tTime 1.049 (1.057)\tData 0.001 (0.009)\tLoss 1.2475 (1.1787)\tPrec@1 61.328 (60.844)\n",
      "Test: [0/10]\tTime 6.107 (6.107)\tLoss 0.6707 (0.6707)\tPrec@1 76.660 (76.660)\n",
      " * Prec@1 77.920\n",
      "Best prec1 :  77.92000015869141\n",
      "current lr 9.75773e-05\n"
     ]
    },
    {
     "data": {
      "application/vnd.jupyter.widget-view+json": {
       "model_id": "7445111f4c894687bcce223f9e95783b",
       "version_major": 2,
       "version_minor": 0
      },
      "text/plain": [
       "  0%|          | 0/157 [00:00<?, ?it/s]"
      ]
     },
     "metadata": {},
     "output_type": "display_data"
    },
    {
     "name": "stdout",
     "output_type": "stream",
     "text": [
      "Epoch: [4][0/157]\tTime 2.294 (2.294)\tData 1.245 (1.245)\tLoss 1.1840 (1.1840)\tPrec@1 61.328 (61.328)\n",
      "Epoch: [4][50/157]\tTime 1.049 (1.073)\tData 0.001 (0.025)\tLoss 1.2499 (1.1828)\tPrec@1 60.156 (60.922)\n",
      "Epoch: [4][100/157]\tTime 1.050 (1.061)\tData 0.001 (0.013)\tLoss 1.2185 (1.1746)\tPrec@1 59.766 (61.046)\n",
      "Epoch: [4][150/157]\tTime 1.049 (1.057)\tData 0.001 (0.009)\tLoss 1.0706 (1.1776)\tPrec@1 64.844 (60.834)\n",
      "Test: [0/10]\tTime 5.467 (5.467)\tLoss 0.6707 (0.6707)\tPrec@1 76.660 (76.660)\n",
      " * Prec@1 77.920\n",
      "Best prec1 :  77.92000015869141\n",
      "current lr 9.05463e-05\n"
     ]
    },
    {
     "data": {
      "application/vnd.jupyter.widget-view+json": {
       "model_id": "3f5267c764344e6683562b51ecb9007a",
       "version_major": 2,
       "version_minor": 0
      },
      "text/plain": [
       "  0%|          | 0/157 [00:00<?, ?it/s]"
      ]
     },
     "metadata": {},
     "output_type": "display_data"
    },
    {
     "name": "stdout",
     "output_type": "stream",
     "text": [
      "Epoch: [5][0/157]\tTime 2.602 (2.602)\tData 1.554 (1.554)\tLoss 1.1461 (1.1461)\tPrec@1 58.594 (58.594)\n",
      "Epoch: [5][50/157]\tTime 1.050 (1.079)\tData 0.001 (0.032)\tLoss 1.1660 (1.1806)\tPrec@1 60.547 (60.562)\n",
      "Epoch: [5][100/157]\tTime 1.049 (1.064)\tData 0.001 (0.016)\tLoss 1.1017 (1.1800)\tPrec@1 60.938 (60.725)\n"
     ]
    }
   ],
   "source": [
    "from timm.scheduler import CosineLRScheduler\n",
    "\n",
    "for PACT in [False]:\n",
    "    for attenkw in [4,5,6,7]:\n",
    "        for kw in [5,6,7,8]:\n",
    "            net = resmlp_24_224_dino(False, kw1=attenkw, ki1=attenkw, kw2=kw, ki2=kw)\n",
    "            net.head = nn.Linear(net.head.in_features, 10)\n",
    "            checkpoint = torch.load(\"models/resmlp_24_224_dino.pth\")\n",
    "            net.load_state_dict(checkpoint, strict=False)\n",
    "\n",
    "            model = net.cuda()\n",
    "            mixup = False\n",
    "\n",
    "            # Track experiment with wandb\n",
    "            import wandb\n",
    "            watermark = \"resmlp_k{}_attenk{}\".format(kw, attenkw)\n",
    "\n",
    "            # mess with wandb\n",
    "            wandb.init(project=\"pact_mlp_quant\", name=watermark)\n",
    "\n",
    "            # define loss function (criterion) and pptimizer\n",
    "            criterion = nn.CrossEntropyLoss().cuda()\n",
    "\n",
    "            # optimizer for pact\n",
    "            optimizer = torch.optim.Adam(model.parameters(), lr=1e-3)\n",
    "\n",
    "            scheduler = CosineLRScheduler(optimizer, t_initial=10, lr_min=1e-6, \n",
    "                                  warmup_t=3, warmup_lr_init=5e-4, warmup_prefix=True)\n",
    "\n",
    "            best_prec1 = 0\n",
    "            os.makedirs(\"models\", exist_ok=True)\n",
    "\n",
    "            for epoch in range(10):\n",
    "                scheduler.step(epoch)\n",
    "                # train for one epoch\n",
    "                print('current lr {:.5e}'.format(optimizer.param_groups[0]['lr']))\n",
    "                tloss = train(train_loader, model, criterion, optimizer, epoch)         \n",
    "\n",
    "                # evaluate on validation set\n",
    "                prec1, valloss = validate(val_loader, model, criterion)\n",
    "\n",
    "                # wandb\n",
    "                wandb.log({'epoch': epoch, \"prec\":prec1, \"train_loss\": tloss, 'val_loss': valloss, \"lr\": optimizer.param_groups[0][\"lr\"],})\n",
    "\n",
    "                # remember best prec@1 and save checkpoint\n",
    "                is_best = prec1 > best_prec1\n",
    "                best_prec1 = max(prec1, best_prec1)\n",
    "\n",
    "                print(\"Best prec1 : \", best_prec1)\n",
    "                if is_best:\n",
    "                    torch.save(model.state_dict(), os.path.join(f'models/{watermark}.pth'))\n",
    "                if prec1 < 50:\n",
    "                    break"
   ]
  },
  {
   "cell_type": "code",
   "execution_count": null,
   "id": "8998c803",
   "metadata": {},
   "outputs": [],
   "source": [
    "from pact_utils import TorchQuantize\n",
    "len(TorchQuantize(bits=4).forward(torch.rand(1,384)).unique())"
   ]
  },
  {
   "cell_type": "code",
   "execution_count": null,
   "id": "8d894c1f",
   "metadata": {},
   "outputs": [],
   "source": [
    "net.blocks[1].mlp.fc1.forward(torch.rand(1,384).cuda()).unique()"
   ]
  },
  {
   "cell_type": "code",
   "execution_count": null,
   "id": "75eb1382",
   "metadata": {},
   "outputs": [],
   "source": [
    "model.blocks[1].attn.qkv"
   ]
  },
  {
   "cell_type": "code",
   "execution_count": null,
   "id": "76fdc732",
   "metadata": {},
   "outputs": [],
   "source": []
  }
 ],
 "metadata": {
  "kernelspec": {
   "display_name": "Python 3 (ipykernel)",
   "language": "python",
   "name": "python3"
  },
  "language_info": {
   "codemirror_mode": {
    "name": "ipython",
    "version": 3
   },
   "file_extension": ".py",
   "mimetype": "text/x-python",
   "name": "python",
   "nbconvert_exporter": "python",
   "pygments_lexer": "ipython3",
   "version": "3.8.13"
  },
  "vscode": {
   "interpreter": {
    "hash": "ee5e2cbe70982ffb0121d1a31afb90fa291002a01f6b95e01c1e7684863c7847"
   }
  }
 },
 "nbformat": 4,
 "nbformat_minor": 5
}
