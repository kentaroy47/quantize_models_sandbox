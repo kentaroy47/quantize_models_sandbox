{
 "cells": [
  {
   "cell_type": "markdown",
   "id": "65b5a174",
   "metadata": {},
   "source": [
    "# ViT CIFAR-10\n",
    "load timm ViT and retrain on CIFAR 10"
   ]
  },
  {
   "cell_type": "code",
   "execution_count": 1,
   "id": "3cdfa9b0",
   "metadata": {},
   "outputs": [],
   "source": [
    "NOQUANT_TRAIN = False"
   ]
  },
  {
   "cell_type": "code",
   "execution_count": 2,
   "id": "e95ac49f",
   "metadata": {},
   "outputs": [],
   "source": [
    "import argparse\n",
    "import os\n",
    "import shutil\n",
    "import time\n",
    "import pandas as pd\n",
    "import matplotlib.pyplot as plt\n",
    "import network.resnet_orig as resnet\n",
    "\n",
    "from tqdm.notebook import tqdm\n",
    "import time\n",
    "import numpy as np\n",
    "import pandas as pd\n",
    "import cv2\n",
    "import torch\n",
    "import torch.nn as nn\n",
    "import torch.nn.functional as F\n",
    "import torch.optim as optim\n",
    "from torch.optim import lr_scheduler\n",
    "from torch.utils.data import DataLoader, Dataset\n",
    "from torch.utils.data.sampler import SubsetRandomSampler, RandomSampler, SequentialSampler\n",
    "from torch.optim.lr_scheduler import CosineAnnealingWarmRestarts, CosineAnnealingLR, ReduceLROnPlateau\n",
    "\n",
    "model_names = sorted(name for name in resnet.__dict__\n",
    "    if name.islower() and not name.startswith(\"__\")\n",
    "                     and name.startswith(\"resnet\")\n",
    "                     and callable(resnet.__dict__[name]))\n",
    "\n",
    "DATA_DIR = \"train\"\n",
    "print_freq = 50\n",
    "\n",
    "# vit imsize\n",
    "imsize = 224"
   ]
  },
  {
   "cell_type": "code",
   "execution_count": 3,
   "id": "91238a6e",
   "metadata": {},
   "outputs": [
    {
     "data": {
      "text/html": [
       "<div>\n",
       "<style scoped>\n",
       "    .dataframe tbody tr th:only-of-type {\n",
       "        vertical-align: middle;\n",
       "    }\n",
       "\n",
       "    .dataframe tbody tr th {\n",
       "        vertical-align: top;\n",
       "    }\n",
       "\n",
       "    .dataframe thead th {\n",
       "        text-align: right;\n",
       "    }\n",
       "</style>\n",
       "<table border=\"1\" class=\"dataframe\">\n",
       "  <thead>\n",
       "    <tr style=\"text-align: right;\">\n",
       "      <th></th>\n",
       "      <th>id</th>\n",
       "      <th>label</th>\n",
       "      <th>label_enc</th>\n",
       "      <th>fold</th>\n",
       "    </tr>\n",
       "  </thead>\n",
       "  <tbody>\n",
       "    <tr>\n",
       "      <th>0</th>\n",
       "      <td>1</td>\n",
       "      <td>frog</td>\n",
       "      <td>6</td>\n",
       "      <td>1</td>\n",
       "    </tr>\n",
       "    <tr>\n",
       "      <th>1</th>\n",
       "      <td>2</td>\n",
       "      <td>truck</td>\n",
       "      <td>9</td>\n",
       "      <td>1</td>\n",
       "    </tr>\n",
       "    <tr>\n",
       "      <th>2</th>\n",
       "      <td>3</td>\n",
       "      <td>truck</td>\n",
       "      <td>9</td>\n",
       "      <td>2</td>\n",
       "    </tr>\n",
       "    <tr>\n",
       "      <th>3</th>\n",
       "      <td>4</td>\n",
       "      <td>deer</td>\n",
       "      <td>4</td>\n",
       "      <td>1</td>\n",
       "    </tr>\n",
       "    <tr>\n",
       "      <th>4</th>\n",
       "      <td>5</td>\n",
       "      <td>automobile</td>\n",
       "      <td>1</td>\n",
       "      <td>2</td>\n",
       "    </tr>\n",
       "  </tbody>\n",
       "</table>\n",
       "</div>"
      ],
      "text/plain": [
       "   id       label  label_enc  fold\n",
       "0   1        frog          6     1\n",
       "1   2       truck          9     1\n",
       "2   3       truck          9     2\n",
       "3   4        deer          4     1\n",
       "4   5  automobile          1     2"
      ]
     },
     "execution_count": 3,
     "metadata": {},
     "output_type": "execute_result"
    }
   ],
   "source": [
    "# prepare labels\n",
    "train_df = pd.read_csv(\"trainLabels.csv\")\n",
    "from sklearn.preprocessing import LabelEncoder\n",
    "le = LabelEncoder()\n",
    "train_df['label_enc'] = le.fit_transform(train_df['label'])\n",
    "\n",
    "# 5-fold\n",
    "from sklearn.model_selection import StratifiedKFold\n",
    "skf = StratifiedKFold(n_splits=5, shuffle=True, random_state=42)\n",
    "\n",
    "train_df[\"fold\"] = -1\n",
    "for i, (train_index, test_index) in enumerate(skf.split(train_df.id, train_df.label_enc)):\n",
    "    train_df.loc[test_index, 'fold'] = i\n",
    "train_df.head()"
   ]
  },
  {
   "cell_type": "code",
   "execution_count": 4,
   "id": "44be87f4",
   "metadata": {},
   "outputs": [],
   "source": [
    "class cifarDataset(Dataset):\n",
    "    def __init__(self,\n",
    "                 df,\n",
    "                 rand=False,\n",
    "                 transform=None,\n",
    "                 test=False\n",
    "                ):\n",
    "\n",
    "        self.df = df.reset_index(drop=True)\n",
    "        self.rand = rand\n",
    "        self.transform = transform\n",
    "        self.test = test\n",
    "\n",
    "    def __len__(self):\n",
    "        return self.df.shape[0]\n",
    "\n",
    "    def __getitem__(self, index):\n",
    "        row = self.df.iloc[index]\n",
    "        img_id = row.id\n",
    "        \n",
    "        images = cv2.imread(os.path.join(DATA_DIR, str(img_id)+\".png\"))\n",
    "        \n",
    "        # Load labels\n",
    "        label = row.label_enc\n",
    "        \n",
    "        # aug\n",
    "        if self.transform is not None:\n",
    "            images = self.transform(image=images)['image']\n",
    "              \n",
    "        #images = images.astype(np.float32)\n",
    "        #images /= 255\n",
    "        images = images.transpose(2, 0, 1)\n",
    "        \n",
    "        label = label.astype(np.float32)\n",
    "        #label2 = label2.astype(np.float32)\n",
    "        return torch.tensor(images), torch.tensor(label),"
   ]
  },
  {
   "cell_type": "code",
   "execution_count": 5,
   "id": "cd5517a6",
   "metadata": {},
   "outputs": [
    {
     "name": "stderr",
     "output_type": "stream",
     "text": [
      "/home/ken/anaconda3/envs/pytorch_p37/lib/python3.7/site-packages/albumentations/augmentations/transforms.py:690: FutureWarning: This class has been deprecated. Please use CoarseDropout\n",
      "  FutureWarning,\n"
     ]
    }
   ],
   "source": [
    "import albumentations as A\n",
    "import albumentations\n",
    "\n",
    "transforms_train = albumentations.Compose([\n",
    "    albumentations.ShiftScaleRotate(scale_limit=0.3, rotate_limit=180,p=0.5),\n",
    "    A.Cutout(num_holes=12, max_h_size=4, max_w_size=4, fill_value=0, p=0.5),\n",
    "    #albumentations.Rotate(p=0.5),\n",
    "    #albumentations.Transpose(p=0.5),\n",
    "    #albumentations.VerticalFlip(p=0.5),\n",
    "    albumentations.HorizontalFlip(p=0.5),   \n",
    "    albumentations.Resize(imsize, imsize, p=1.0), \n",
    "    albumentations.Normalize(mean=(0.485, 0.456, 0.406),\n",
    "                       std=(0.229, 0.224, 0.225), p=1),\n",
    "])\n",
    "\n",
    "transforms_val = albumentations.Compose([albumentations.Resize(imsize, imsize, p=1.0),\n",
    "                                         albumentations.Normalize(mean=(0.485, 0.456, 0.406),\n",
    "                       std=(0.229, 0.224, 0.225), p=1),])"
   ]
  },
  {
   "cell_type": "code",
   "execution_count": 6,
   "id": "e3726718",
   "metadata": {
    "scrolled": true
   },
   "outputs": [
    {
     "name": "stderr",
     "output_type": "stream",
     "text": [
      "Clipping input data to the valid range for imshow with RGB data ([0..1] for floats or [0..255] for integers).\n",
      "Clipping input data to the valid range for imshow with RGB data ([0..1] for floats or [0..255] for integers).\n",
      "Clipping input data to the valid range for imshow with RGB data ([0..1] for floats or [0..255] for integers).\n",
      "Clipping input data to the valid range for imshow with RGB data ([0..1] for floats or [0..255] for integers).\n",
      "Clipping input data to the valid range for imshow with RGB data ([0..1] for floats or [0..255] for integers).\n",
      "Clipping input data to the valid range for imshow with RGB data ([0..1] for floats or [0..255] for integers).\n",
      "Clipping input data to the valid range for imshow with RGB data ([0..1] for floats or [0..255] for integers).\n",
      "Clipping input data to the valid range for imshow with RGB data ([0..1] for floats or [0..255] for integers).\n",
      "Clipping input data to the valid range for imshow with RGB data ([0..1] for floats or [0..255] for integers).\n",
      "Clipping input data to the valid range for imshow with RGB data ([0..1] for floats or [0..255] for integers).\n",
      "Clipping input data to the valid range for imshow with RGB data ([0..1] for floats or [0..255] for integers).\n",
      "Clipping input data to the valid range for imshow with RGB data ([0..1] for floats or [0..255] for integers).\n",
      "Clipping input data to the valid range for imshow with RGB data ([0..1] for floats or [0..255] for integers).\n",
      "Clipping input data to the valid range for imshow with RGB data ([0..1] for floats or [0..255] for integers).\n",
      "Clipping input data to the valid range for imshow with RGB data ([0..1] for floats or [0..255] for integers).\n"
     ]
    },
    {
     "data": {
      "image/png": "[encoded data removed]",
      "text/plain": [
       "<Figure size 1440x720 with 5 Axes>"
      ]
     },
     "metadata": {
      "needs_background": "light"
     },
     "output_type": "display_data"
    },
    {
     "data": {
      "image/png": "[encoded data removed]",
      "text/plain": [
       "<Figure size 1440x720 with 5 Axes>"
      ]
     },
     "metadata": {
      "needs_background": "light"
     },
     "output_type": "display_data"
    },
    {
     "data": {
      "image/png": "[encoded data removed]",
      "text/plain": [
       "<Figure size 1440x720 with 5 Axes>"
      ]
     },
     "metadata": {
      "needs_background": "light"
     },
     "output_type": "display_data"
    }
   ],
   "source": [
    "dataset_show = cifarDataset(train_df, transform=transforms_train)\n",
    "from pylab import rcParams\n",
    "rcParams['figure.figsize'] = 20,10\n",
    "for i in range(3):\n",
    "    f, axarr = plt.subplots(1,5)\n",
    "    for p in range(5):\n",
    "        idx = np.random.randint(0, len(dataset_show))\n",
    "        img, label = dataset_show[idx]\n",
    "        img = img.flip(0) #BGR2RGB\n",
    "        axarr[p].imshow(img.transpose(0,1).transpose(1,2))\n",
    "        axarr[p].set_title(str(label))\n",
    "plt.show()"
   ]
  },
  {
   "cell_type": "code",
   "execution_count": 7,
   "id": "be374443",
   "metadata": {},
   "outputs": [],
   "source": [
    "def train(train_loader, model, criterion, optimizer, epoch):\n",
    "    \"\"\"\n",
    "        Run one train epoch\n",
    "    \"\"\"\n",
    "    batch_time = AverageMeter()\n",
    "    data_time = AverageMeter()\n",
    "    losses = AverageMeter()\n",
    "    top1 = AverageMeter()\n",
    "\n",
    "    # switch to train mode\n",
    "    model.train()\n",
    "\n",
    "    end = time.time()\n",
    "    lambda_alpha = 0.002\n",
    "    for i, (input, target) in enumerate(tqdm(train_loader)):\n",
    "\n",
    "        # measure data loading time\n",
    "        data_time.update(time.time() - end)\n",
    "        target2 = target\n",
    "\n",
    "        target = target.long().cuda()\n",
    "        target2 = target2.long().cuda()\n",
    "        input_var = input.cuda()\n",
    "        target_var = target\n",
    "\n",
    "        if not mixup:\n",
    "          alpha = 0\n",
    "        else:\n",
    "          alpha = 1\n",
    "        \n",
    "\n",
    "        # compute output\n",
    "        output = model(input_var)\n",
    "        loss = criterion(output, target_var)\n",
    "\n",
    "        # L2 regularization\n",
    "        l2_alpha = 0.0\n",
    "        for name, param in model.named_parameters():\n",
    "            if \"alpha\" in name:\n",
    "                l2_alpha += torch.pow(param, 2)\n",
    "        loss += lambda_alpha * l2_alpha\n",
    "\n",
    "        # compute gradient and do SGD step\n",
    "        optimizer.zero_grad()\n",
    "        loss.backward()\n",
    "        optimizer.step()\n",
    "\n",
    "        output = output.float()\n",
    "        loss = loss.float()\n",
    "        # measure accuracy and record loss\n",
    "        prec1 = accuracy(output.data, target)[0]\n",
    "        losses.update(loss.item(), input.size(0))\n",
    "        top1.update(prec1.item(), input.size(0))\n",
    "\n",
    "        # measure elapsed time\n",
    "        batch_time.update(time.time() - end)\n",
    "        end = time.time()\n",
    "\n",
    "        if i % print_freq == 0:\n",
    "            print('Epoch: [{0}][{1}/{2}]\\t'\n",
    "                  'Time {batch_time.val:.3f} ({batch_time.avg:.3f})\\t'\n",
    "                  'Data {data_time.val:.3f} ({data_time.avg:.3f})\\t'\n",
    "                  'Loss {loss.val:.4f} ({loss.avg:.4f})\\t'\n",
    "                  'Prec@1 {top1.val:.3f} ({top1.avg:.3f})'.format(\n",
    "                      epoch, i, len(train_loader), batch_time=batch_time,\n",
    "                      data_time=data_time, loss=losses, top1=top1))\n",
    "    return losses.avg\n",
    "\n",
    "def validate(val_loader, model, criterion):\n",
    "    \"\"\"\n",
    "    Run evaluation\n",
    "    \"\"\"\n",
    "    batch_time = AverageMeter()\n",
    "    losses = AverageMeter()\n",
    "    top1 = AverageMeter()\n",
    "\n",
    "    # switch to evaluate mode\n",
    "    model.eval()\n",
    "\n",
    "    end = time.time()\n",
    "    with torch.no_grad():\n",
    "        for i, (input, target) in enumerate(val_loader):\n",
    "            target = target.long().cuda()\n",
    "            input_var = input.cuda()\n",
    "            target_var = target.cuda()\n",
    "\n",
    "            # compute output\n",
    "            output = model(input_var)\n",
    "            loss = criterion(output, target_var)\n",
    "\n",
    "            output = output.float()\n",
    "            loss = loss.float()\n",
    "\n",
    "            # measure accuracy and record loss\n",
    "            prec1 = accuracy(output.data, target)[0]\n",
    "            losses.update(loss.item(), input.size(0))\n",
    "            top1.update(prec1.item(), input.size(0))\n",
    "\n",
    "            # measure elapsed time\n",
    "            batch_time.update(time.time() - end)\n",
    "            end = time.time()\n",
    "\n",
    "            if i % print_freq == 0:\n",
    "                print('Test: [{0}/{1}]\\t'\n",
    "                      'Time {batch_time.val:.3f} ({batch_time.avg:.3f})\\t'\n",
    "                      'Loss {loss.val:.4f} ({loss.avg:.4f})\\t'\n",
    "                      'Prec@1 {top1.val:.3f} ({top1.avg:.3f})'.format(\n",
    "                          i, len(val_loader), batch_time=batch_time, loss=losses,\n",
    "                          top1=top1))\n",
    "\n",
    "    print(' * Prec@1 {top1.avg:.3f}'\n",
    "          .format(top1=top1))\n",
    "    for name, param in model.named_parameters():\n",
    "        if \"alpha\" in name:\n",
    "            print(name, param.item())\n",
    "    return top1.avg, losses.avg\n",
    "\n",
    "def save_checkpoint(state, filename='checkpoint.pth'):\n",
    "    \"\"\"\n",
    "    Save the training model\n",
    "    \"\"\"\n",
    "    torch.save(state, filename)\n",
    "\n",
    "class AverageMeter(object):\n",
    "    \"\"\"Computes and stores the average and current value\"\"\"\n",
    "    def __init__(self):\n",
    "        self.reset()\n",
    "\n",
    "    def reset(self):\n",
    "        self.val = 0\n",
    "        self.avg = 0\n",
    "        self.sum = 0\n",
    "        self.count = 0\n",
    "\n",
    "    def update(self, val, n=1):\n",
    "        self.val = val\n",
    "        self.sum += val * n\n",
    "        self.count += n\n",
    "        self.avg = self.sum / self.count\n",
    "\n",
    "\n",
    "def accuracy(output, target, topk=(1,)):\n",
    "    \"\"\"Computes the precision@k for the specified values of k\"\"\"\n",
    "    maxk = max(topk)\n",
    "    batch_size = target.size(0)\n",
    "\n",
    "    _, pred = output.topk(maxk, 1, True, True)\n",
    "    pred = pred.t()\n",
    "    correct = pred.eq(target.view(1, -1).expand_as(pred))\n",
    "\n",
    "    res = []\n",
    "    for k in topk:\n",
    "        correct_k = correct[:k].view(-1).float().sum(0)\n",
    "        res.append(correct_k.mul_(100.0 / batch_size))\n",
    "    return res"
   ]
  },
  {
   "cell_type": "code",
   "execution_count": 8,
   "id": "6f005fd3",
   "metadata": {},
   "outputs": [],
   "source": [
    "train_dataset = cifarDataset(train_df[train_df.fold!=0], transform=transforms_train)\n",
    "val_dataset = cifarDataset(train_df[train_df.fold==0], transform=transforms_val, test=True)\n",
    "\n",
    "train_loader = torch.utils.data.DataLoader(\n",
    "        train_dataset,\n",
    "        batch_size=256, shuffle=True,\n",
    "        num_workers=8, pin_memory=True)\n",
    "\n",
    "val_loader = torch.utils.data.DataLoader(\n",
    "    val_dataset,\n",
    "    batch_size=512, shuffle=False,\n",
    "    num_workers=8, pin_memory=True)"
   ]
  },
  {
   "cell_type": "code",
   "execution_count": 9,
   "id": "a4256dce",
   "metadata": {},
   "outputs": [],
   "source": [
    "import timm\n",
    "net = timm.create_model(\"vit_small_patch16_224\", pretrained=True)\n",
    "net.head = nn.Linear(net.head.in_features, 10)"
   ]
  },
  {
   "cell_type": "markdown",
   "id": "4e27cd90",
   "metadata": {},
   "source": [
    "# Train VIT without quantization"
   ]
  },
  {
   "cell_type": "code",
   "execution_count": 10,
   "id": "c40788cb",
   "metadata": {},
   "outputs": [
    {
     "name": "stderr",
     "output_type": "stream",
     "text": [
      "\u001b[34m\u001b[1mwandb\u001b[0m: Currently logged in as: \u001b[33marutema47\u001b[0m. Use \u001b[1m`wandb login --relogin`\u001b[0m to force relogin\n"
     ]
    },
    {
     "data": {
      "text/html": [
       "Tracking run with wandb version 0.12.18"
      ],
      "text/plain": [
       "<IPython.core.display.HTML object>"
      ]
     },
     "metadata": {},
     "output_type": "display_data"
    },
    {
     "data": {
      "text/html": [
       "Run data is saved locally in <code>/media/ken/dsk1/data/quantize_models_sandbox/wandb/run-20220617_164349-2bnax6pi</code>"
      ],
      "text/plain": [
       "<IPython.core.display.HTML object>"
      ]
     },
     "metadata": {},
     "output_type": "display_data"
    },
    {
     "data": {
      "text/html": [
       "Syncing run <strong><a href=\"https://wandb.ai/arutema47/pact_vit/runs/2bnax6pi\" target=\"_blank\">vit_small_noquant</a></strong> to <a href=\"https://wandb.ai/arutema47/pact_vit\" target=\"_blank\">Weights & Biases</a> (<a href=\"https://wandb.me/run\" target=\"_blank\">docs</a>)<br/>"
      ],
      "text/plain": [
       "<IPython.core.display.HTML object>"
      ]
     },
     "metadata": {},
     "output_type": "display_data"
    }
   ],
   "source": [
    "model = net.cuda()\n",
    "mixup = False\n",
    "\n",
    "import wandb\n",
    "watermark = \"vit_small_noquant\"\n",
    "wandb.init(project=\"pact_vit\",\n",
    "            name=watermark)\n",
    "\n",
    "# define loss function (criterion) and pptimizer\n",
    "criterion = nn.CrossEntropyLoss().cuda()\n",
    "\n",
    "#optimizer = torch.optim.Adam(model.parameters(), lr=0.00001)\n",
    "optimizer = torch.optim.SGD(model.parameters(), lr=1e-3,\n",
    "                            momentum=0.9,\n",
    "                            weight_decay=0.0002)\n",
    "\n",
    "lr_scheduler = torch.optim.lr_scheduler.MultiStepLR(optimizer, \n",
    "                                                    milestones=[80, 150],)\n",
    "\n",
    "best_prec1 = 0\n",
    "os.makedirs(\"models\", exist_ok=True)\n",
    "\n",
    "if NOQUANT_TRAIN:\n",
    "    for epoch in range(10):\n",
    "        # train for one epoch\n",
    "        print('current lr {:.5e}'.format(optimizer.param_groups[0]['lr']))\n",
    "        tloss = train(train_loader, model, criterion, optimizer, epoch)\n",
    "        lr_scheduler.step()\n",
    "\n",
    "        # evaluate on validation set\n",
    "        prec1, valloss = validate(val_loader, model, criterion)\n",
    "\n",
    "        # wandb\n",
    "        wandb.log({'epoch': epoch, \"prec\":prec1, \"train_loss\": tloss, 'val_loss': valloss, \"lr\": optimizer.param_groups[0][\"lr\"],})\n",
    "\n",
    "        # remember best prec@1 and save checkpoint\n",
    "        is_best = prec1 > best_prec1\n",
    "        best_prec1 = max(prec1, best_prec1)\n",
    "\n",
    "        print(\"Best prec1 : \", best_prec1)\n",
    "        if is_best:\n",
    "            torch.save(model.state_dict(), os.path.join(f'models/{watermark}.pth'))"
   ]
  },
  {
   "cell_type": "markdown",
   "id": "c3f38958",
   "metadata": {},
   "source": [
    "# Train with quantization"
   ]
  },
  {
   "cell_type": "code",
   "execution_count": 11,
   "id": "ba9817ad",
   "metadata": {},
   "outputs": [],
   "source": [
    "from module import ActFn\n",
    "\n",
    "# For activation quantization\n",
    "class Activation(nn.Module):\n",
    "    def __init__(self, k):\n",
    "        super().__init__()\n",
    "        self.ActFn = ActFn.apply\n",
    "        self.k = k\n",
    "        self.alpha = nn.Parameter(torch.tensor(10.))\n",
    "    \n",
    "    def forward(self, x):\n",
    "        return self.ActFn(x, self.alpha, self.k)"
   ]
  },
  {
   "cell_type": "code",
   "execution_count": 12,
   "id": "b70d83cf",
   "metadata": {},
   "outputs": [],
   "source": [
    "# have fun with timm models\n",
    "\n",
    "from timm.models.layers import PatchEmbed, Mlp, DropPath, trunc_normal_, lecun_normal_\n",
    "from timm.models.registry import register_model\n",
    "from timm.data import IMAGENET_DEFAULT_MEAN, IMAGENET_DEFAULT_STD, IMAGENET_INCEPTION_MEAN, IMAGENET_INCEPTION_STD\n",
    "from timm.models.helpers import build_model_with_cfg, named_apply, adapt_input_conv\n",
    "from functools import partial\n",
    "from pact_utils import QuantizedLinear\n",
    "\n",
    "class Mlp(nn.Module):\n",
    "    def __init__(self, in_features, hidden_features=None, out_features=None, act_layer=nn.GELU, drop=0., k=8, pact=False):\n",
    "        super().__init__()\n",
    "        out_features = out_features or in_features\n",
    "        hidden_features = hidden_features or in_features\n",
    "        self.fc1 = QuantizedLinear(in_features, hidden_features, True, k, k, pact)\n",
    "        self.act = act_layer()\n",
    "        self.fc2 = QuantizedLinear(hidden_features, out_features, True, k, k, pact)\n",
    "        self.drop = nn.Dropout(drop)\n",
    "        \n",
    "        # PACT\n",
    "        self.k = k\n",
    "        \n",
    "    def forward(self, x):\n",
    "        x = self.fc1(x)\n",
    "        x = self.act(x)\n",
    "        x = self.drop(x)\n",
    "        x = self.fc2(x)\n",
    "        x = self.drop(x)\n",
    "        return x\n",
    "\n",
    "class Attention(nn.Module):\n",
    "    def __init__(self, dim, num_heads=8, qkv_bias=False, attn_drop=0., proj_drop=0., k=8, pact=False):\n",
    "        super().__init__()\n",
    "        self.num_heads = num_heads\n",
    "        head_dim = dim // num_heads\n",
    "        self.scale = head_dim ** -0.5\n",
    "\n",
    "        self.qkv = QuantizedLinear(dim, dim * 3, qkv_bias, k, k, pact)\n",
    "        self.attn_drop = nn.Dropout(attn_drop)\n",
    "        self.proj = QuantizedLinear(dim, dim, True, k, k, pact)\n",
    "        self.proj_drop = nn.Dropout(proj_drop)\n",
    "        \n",
    "        # PACT\n",
    "        #self.alpha1 = nn.Parameter(torch.tensor(2.))\n",
    "        #self.alpha2 = nn.Parameter(torch.tensor(2.))\n",
    "        #self.alpha3 = nn.Parameter(torch.tensor(2.))\n",
    "        #self.alpha4 = nn.Parameter(torch.tensor(2.))\n",
    "        #self.quant = ActFn.apply\n",
    "        self.k = k\n",
    "\n",
    "    def forward(self, x):\n",
    "        B, N, C = x.shape\n",
    "        qkv = self.qkv(x).reshape(B, N, 3, self.num_heads, C // self.num_heads).permute(2, 0, 3, 1, 4)\n",
    "        q, k, v = qkv[0], qkv[1], qkv[2]   # make torchscript happy (cannot use tensor as tuple)\n",
    "\n",
    "        attn = (q @ k.transpose(-2, -1)) * self.scale\n",
    "        attn = attn.softmax(dim=-1)\n",
    "        attn = self.attn_drop(attn)\n",
    "\n",
    "        x = (attn @ v).transpose(1, 2).reshape(B, N, C)\n",
    "        x = self.proj(x)\n",
    "        x = self.proj_drop(x)\n",
    "        return x\n",
    "\n",
    "\n",
    "class Block(nn.Module):\n",
    "\n",
    "    def __init__(self, dim, num_heads, mlp_ratio=4., qkv_bias=False, drop=0., attn_drop=0.,\n",
    "                 drop_path=0., act_layer=nn.GELU, norm_layer=nn.LayerNorm, k=8, pact=False):\n",
    "        super().__init__()\n",
    "        self.norm1 = norm_layer(dim)\n",
    "        self.attn = Attention(dim, num_heads=num_heads, qkv_bias=qkv_bias, attn_drop=attn_drop, proj_drop=drop, k=k, pact=pact)\n",
    "        # NOTE: drop path for stochastic depth, we shall see if this is better than dropout here\n",
    "        self.drop_path = DropPath(drop_path) if drop_path > 0. else nn.Identity()\n",
    "        self.norm2 = norm_layer(dim)\n",
    "        mlp_hidden_dim = int(dim * mlp_ratio)\n",
    "        self.mlp = Mlp(in_features=dim, hidden_features=mlp_hidden_dim, act_layer=act_layer, drop=drop, k=k)\n",
    "\n",
    "    def forward(self, x):\n",
    "        x = x + self.drop_path(self.attn(self.norm1(x)))\n",
    "        x = x + self.drop_path(self.mlp(self.norm2(x)))\n",
    "        return x\n",
    "\n",
    "\n",
    "class VisionTransformer(nn.Module):\n",
    "    \"\"\" Vision Transformer\n",
    "    A PyTorch impl of : `An Image is Worth 16x16 Words: Transformers for Image Recognition at Scale`\n",
    "        - https://arxiv.org/abs/2010.11929\n",
    "    Includes distillation token & head support for `DeiT: Data-efficient Image Transformers`\n",
    "        - https://arxiv.org/abs/2012.12877\n",
    "    \"\"\"\n",
    "\n",
    "    def __init__(self, img_size=224, patch_size=16, in_chans=3, num_classes=1000, embed_dim=768, depth=12,\n",
    "                 num_heads=12, mlp_ratio=4., qkv_bias=True, representation_size=None, distilled=False,\n",
    "                 drop_rate=0., attn_drop_rate=0., drop_path_rate=0., embed_layer=PatchEmbed, norm_layer=None,\n",
    "                 act_layer=None, weight_init='', k=8, pact=False):\n",
    "        \"\"\"\n",
    "        Args:\n",
    "            img_size (int, tuple): input image size\n",
    "            patch_size (int, tuple): patch size\n",
    "            in_chans (int): number of input channels\n",
    "            num_classes (int): number of classes for classification head\n",
    "            embed_dim (int): embedding dimension\n",
    "            depth (int): depth of transformer\n",
    "            num_heads (int): number of attention heads\n",
    "            mlp_ratio (int): ratio of mlp hidden dim to embedding dim\n",
    "            qkv_bias (bool): enable bias for qkv if True\n",
    "            representation_size (Optional[int]): enable and set representation layer (pre-logits) to this value if set\n",
    "            distilled (bool): model includes a distillation token and head as in DeiT models\n",
    "            drop_rate (float): dropout rate\n",
    "            attn_drop_rate (float): attention dropout rate\n",
    "            drop_path_rate (float): stochastic depth rate\n",
    "            embed_layer (nn.Module): patch embedding layer\n",
    "            norm_layer: (nn.Module): normalization layer\n",
    "            weight_init: (str): weight init scheme\n",
    "        \"\"\"\n",
    "        super().__init__()\n",
    "        self.num_classes = num_classes\n",
    "        self.num_features = self.embed_dim = embed_dim  # num_features for consistency with other models\n",
    "        self.num_tokens = 2 if distilled else 1\n",
    "        norm_layer = norm_layer or partial(nn.LayerNorm, eps=1e-6)\n",
    "        act_layer = act_layer or nn.GELU\n",
    "\n",
    "        self.patch_embed = embed_layer(\n",
    "            img_size=img_size, patch_size=patch_size, in_chans=in_chans, embed_dim=embed_dim)\n",
    "        num_patches = self.patch_embed.num_patches\n",
    "\n",
    "        self.cls_token = nn.Parameter(torch.zeros(1, 1, embed_dim))\n",
    "        self.dist_token = nn.Parameter(torch.zeros(1, 1, embed_dim)) if distilled else None\n",
    "        self.pos_embed = nn.Parameter(torch.zeros(1, num_patches + self.num_tokens, embed_dim))\n",
    "        self.pos_drop = nn.Dropout(p=drop_rate)\n",
    "\n",
    "        dpr = [x.item() for x in torch.linspace(0, drop_path_rate, depth)]  # stochastic depth decay rule\n",
    "        self.blocks = nn.Sequential(*[\n",
    "            Block(\n",
    "                dim=embed_dim, num_heads=num_heads, mlp_ratio=mlp_ratio, qkv_bias=qkv_bias, drop=drop_rate,\n",
    "                attn_drop=attn_drop_rate, drop_path=dpr[i], norm_layer=norm_layer, act_layer=act_layer, k=k, pact=pact)\n",
    "            for i in range(depth)])\n",
    "        self.norm = norm_layer(embed_dim)\n",
    "\n",
    "        # Representation layer\n",
    "        if representation_size and not distilled:\n",
    "            self.num_features = representation_size\n",
    "            self.pre_logits = nn.Sequential(OrderedDict([\n",
    "                ('fc', nn.Linear(embed_dim, representation_size)),\n",
    "                ('act', nn.Tanh())\n",
    "            ]))\n",
    "        else:\n",
    "            self.pre_logits = nn.Identity()\n",
    "\n",
    "        # Classifier head(s)\n",
    "        self.head = nn.Linear(self.num_features, num_classes) if num_classes > 0 else nn.Identity()\n",
    "        self.head_dist = None\n",
    "        if distilled:\n",
    "            self.head_dist = nn.Linear(self.embed_dim, self.num_classes) if num_classes > 0 else nn.Identity()\n",
    "\n",
    "        self.init_weights(weight_init)\n",
    "\n",
    "    def init_weights(self, mode=''):\n",
    "        assert mode in ('jax', 'jax_nlhb', 'nlhb', '')\n",
    "        head_bias = -math.log(self.num_classes) if 'nlhb' in mode else 0.\n",
    "        trunc_normal_(self.pos_embed, std=.02)\n",
    "        if self.dist_token is not None:\n",
    "            trunc_normal_(self.dist_token, std=.02)\n",
    "        if mode.startswith('jax'):\n",
    "            # leave cls token as zeros to match jax impl\n",
    "            named_apply(partial(_init_vit_weights, head_bias=head_bias, jax_impl=True), self)\n",
    "        else:\n",
    "            trunc_normal_(self.cls_token, std=.02)\n",
    "            self.apply(_init_vit_weights)\n",
    "\n",
    "    def _init_weights(self, m):\n",
    "        # this fn left here for compat with downstream users\n",
    "        _init_vit_weights(m)\n",
    "\n",
    "    @torch.jit.ignore()\n",
    "    def load_pretrained(self, checkpoint_path, prefix=''):\n",
    "        _load_weights(self, checkpoint_path, prefix)\n",
    "\n",
    "    @torch.jit.ignore\n",
    "    def no_weight_decay(self):\n",
    "        return {'pos_embed', 'cls_token', 'dist_token'}\n",
    "\n",
    "    def get_classifier(self):\n",
    "        if self.dist_token is None:\n",
    "            return self.head\n",
    "        else:\n",
    "            return self.head, self.head_dist\n",
    "\n",
    "    def reset_classifier(self, num_classes, global_pool=''):\n",
    "        self.num_classes = num_classes\n",
    "        self.head = nn.Linear(self.embed_dim, num_classes) if num_classes > 0 else nn.Identity()\n",
    "        if self.num_tokens == 2:\n",
    "            self.head_dist = nn.Linear(self.embed_dim, self.num_classes) if num_classes > 0 else nn.Identity()\n",
    "\n",
    "    def forward_features(self, x):\n",
    "        x = self.patch_embed(x)\n",
    "        cls_token = self.cls_token.expand(x.shape[0], -1, -1)  # stole cls_tokens impl from Phil Wang, thanks\n",
    "        if self.dist_token is None:\n",
    "            x = torch.cat((cls_token, x), dim=1)\n",
    "        else:\n",
    "            x = torch.cat((cls_token, self.dist_token.expand(x.shape[0], -1, -1), x), dim=1)\n",
    "        x = self.pos_drop(x + self.pos_embed)\n",
    "        x = self.blocks(x)\n",
    "        x = self.norm(x)\n",
    "        if self.dist_token is None:\n",
    "            return self.pre_logits(x[:, 0])\n",
    "        else:\n",
    "            return x[:, 0], x[:, 1]\n",
    "\n",
    "    def forward(self, x):\n",
    "        x = self.forward_features(x)\n",
    "        if self.head_dist is not None:\n",
    "            x, x_dist = self.head(x[0]), self.head_dist(x[1])  # x must be a tuple\n",
    "            if self.training and not torch.jit.is_scripting():\n",
    "                # during inference, return the average of both classifier predictions\n",
    "                return x, x_dist\n",
    "            else:\n",
    "                return (x + x_dist) / 2\n",
    "        else:\n",
    "            x = self.head(x)\n",
    "        return x\n",
    "\n",
    "\n",
    "def _init_vit_weights(module: nn.Module, name: str = '', head_bias: float = 0., jax_impl: bool = False):\n",
    "    \"\"\" ViT weight initialization\n",
    "    * When called without n, head_bias, jax_impl args it will behave exactly the same\n",
    "      as my original init for compatibility with prev hparam / downstream use cases (ie DeiT).\n",
    "    * When called w/ valid n (module name) and jax_impl=True, will (hopefully) match JAX impl\n",
    "    \"\"\"\n",
    "    if isinstance(module, nn.Linear):\n",
    "        if name.startswith('head'):\n",
    "            nn.init.zeros_(module.weight)\n",
    "            nn.init.constant_(module.bias, head_bias)\n",
    "        elif name.startswith('pre_logits'):\n",
    "            lecun_normal_(module.weight)\n",
    "            nn.init.zeros_(module.bias)\n",
    "        else:\n",
    "            if jax_impl:\n",
    "                nn.init.xavier_uniform_(module.weight)\n",
    "                if module.bias is not None:\n",
    "                    if 'mlp' in name:\n",
    "                        nn.init.normal_(module.bias, std=1e-6)\n",
    "                    else:\n",
    "                        nn.init.zeros_(module.bias)\n",
    "            else:\n",
    "                trunc_normal_(module.weight, std=.02)\n",
    "                if module.bias is not None:\n",
    "                    nn.init.zeros_(module.bias)\n",
    "    elif jax_impl and isinstance(module, nn.Conv2d):\n",
    "        # NOTE conv was left to pytorch default in my original init\n",
    "        lecun_normal_(module.weight)\n",
    "        if module.bias is not None:\n",
    "            nn.init.zeros_(module.bias)\n",
    "    elif isinstance(module, (nn.LayerNorm, nn.GroupNorm, nn.BatchNorm2d)):\n",
    "        nn.init.zeros_(module.bias)\n",
    "        nn.init.ones_(module.weight)\n",
    "\n",
    "\n",
    "@torch.no_grad()\n",
    "def _load_weights(model: VisionTransformer, checkpoint_path: str, prefix: str = ''):\n",
    "    \"\"\" Load weights from .npz checkpoints for official Google Brain Flax implementation\n",
    "    \"\"\"\n",
    "    import numpy as np\n",
    "\n",
    "    def _n2p(w, t=True):\n",
    "        if w.ndim == 4 and w.shape[0] == w.shape[1] == w.shape[2] == 1:\n",
    "            w = w.flatten()\n",
    "        if t:\n",
    "            if w.ndim == 4:\n",
    "                w = w.transpose([3, 2, 0, 1])\n",
    "            elif w.ndim == 3:\n",
    "                w = w.transpose([2, 0, 1])\n",
    "            elif w.ndim == 2:\n",
    "                w = w.transpose([1, 0])\n",
    "        return torch.from_numpy(w)\n",
    "\n",
    "    w = np.load(checkpoint_path)\n",
    "    if not prefix and 'opt/target/embedding/kernel' in w:\n",
    "        prefix = 'opt/target/'\n",
    "\n",
    "    if hasattr(model.patch_embed, 'backbone'):\n",
    "        # hybrid\n",
    "        backbone = model.patch_embed.backbone\n",
    "        stem_only = not hasattr(backbone, 'stem')\n",
    "        stem = backbone if stem_only else backbone.stem\n",
    "        stem.conv.weight.copy_(adapt_input_conv(stem.conv.weight.shape[1], _n2p(w[f'{prefix}conv_root/kernel'])))\n",
    "        stem.norm.weight.copy_(_n2p(w[f'{prefix}gn_root/scale']))\n",
    "        stem.norm.bias.copy_(_n2p(w[f'{prefix}gn_root/bias']))\n",
    "        if not stem_only:\n",
    "            for i, stage in enumerate(backbone.stages):\n",
    "                for j, block in enumerate(stage.blocks):\n",
    "                    bp = f'{prefix}block{i + 1}/unit{j + 1}/'\n",
    "                    for r in range(3):\n",
    "                        getattr(block, f'conv{r + 1}').weight.copy_(_n2p(w[f'{bp}conv{r + 1}/kernel']))\n",
    "                        getattr(block, f'norm{r + 1}').weight.copy_(_n2p(w[f'{bp}gn{r + 1}/scale']))\n",
    "                        getattr(block, f'norm{r + 1}').bias.copy_(_n2p(w[f'{bp}gn{r + 1}/bias']))\n",
    "                    if block.downsample is not None:\n",
    "                        block.downsample.conv.weight.copy_(_n2p(w[f'{bp}conv_proj/kernel']))\n",
    "                        block.downsample.norm.weight.copy_(_n2p(w[f'{bp}gn_proj/scale']))\n",
    "                        block.downsample.norm.bias.copy_(_n2p(w[f'{bp}gn_proj/bias']))\n",
    "        embed_conv_w = _n2p(w[f'{prefix}embedding/kernel'])\n",
    "    else:\n",
    "        embed_conv_w = adapt_input_conv(\n",
    "            model.patch_embed.proj.weight.shape[1], _n2p(w[f'{prefix}embedding/kernel']))\n",
    "    model.patch_embed.proj.weight.copy_(embed_conv_w)\n",
    "    model.patch_embed.proj.bias.copy_(_n2p(w[f'{prefix}embedding/bias']))\n",
    "    model.cls_token.copy_(_n2p(w[f'{prefix}cls'], t=False))\n",
    "    pos_embed_w = _n2p(w[f'{prefix}Transformer/posembed_input/pos_embedding'], t=False)\n",
    "    if pos_embed_w.shape != model.pos_embed.shape:\n",
    "        pos_embed_w = resize_pos_embed(  # resize pos embedding when different size from pretrained weights\n",
    "            pos_embed_w, model.pos_embed, getattr(model, 'num_tokens', 1), model.patch_embed.grid_size)\n",
    "    model.pos_embed.copy_(pos_embed_w)\n",
    "    model.norm.weight.copy_(_n2p(w[f'{prefix}Transformer/encoder_norm/scale']))\n",
    "    model.norm.bias.copy_(_n2p(w[f'{prefix}Transformer/encoder_norm/bias']))\n",
    "    if isinstance(model.head, nn.Linear) and model.head.bias.shape[0] == w[f'{prefix}head/bias'].shape[-1]:\n",
    "        model.head.weight.copy_(_n2p(w[f'{prefix}head/kernel']))\n",
    "        model.head.bias.copy_(_n2p(w[f'{prefix}head/bias']))\n",
    "    if isinstance(getattr(model.pre_logits, 'fc', None), nn.Linear) and f'{prefix}pre_logits/bias' in w:\n",
    "        model.pre_logits.fc.weight.copy_(_n2p(w[f'{prefix}pre_logits/kernel']))\n",
    "        model.pre_logits.fc.bias.copy_(_n2p(w[f'{prefix}pre_logits/bias']))\n",
    "    for i, block in enumerate(model.blocks.children()):\n",
    "        block_prefix = f'{prefix}Transformer/encoderblock_{i}/'\n",
    "        mha_prefix = block_prefix + 'MultiHeadDotProductAttention_1/'\n",
    "        block.norm1.weight.copy_(_n2p(w[f'{block_prefix}LayerNorm_0/scale']))\n",
    "        block.norm1.bias.copy_(_n2p(w[f'{block_prefix}LayerNorm_0/bias']))\n",
    "        block.attn.qkv.weight.copy_(torch.cat([\n",
    "            _n2p(w[f'{mha_prefix}{n}/kernel'], t=False).flatten(1).T for n in ('query', 'key', 'value')]))\n",
    "        block.attn.qkv.bias.copy_(torch.cat([\n",
    "            _n2p(w[f'{mha_prefix}{n}/bias'], t=False).reshape(-1) for n in ('query', 'key', 'value')]))\n",
    "        block.attn.proj.weight.copy_(_n2p(w[f'{mha_prefix}out/kernel']).flatten(1))\n",
    "        block.attn.proj.bias.copy_(_n2p(w[f'{mha_prefix}out/bias']))\n",
    "        for r in range(2):\n",
    "            getattr(block.mlp, f'fc{r + 1}').weight.copy_(_n2p(w[f'{block_prefix}MlpBlock_3/Dense_{r}/kernel']))\n",
    "            getattr(block.mlp, f'fc{r + 1}').bias.copy_(_n2p(w[f'{block_prefix}MlpBlock_3/Dense_{r}/bias']))\n",
    "        block.norm2.weight.copy_(_n2p(w[f'{block_prefix}LayerNorm_2/scale']))\n",
    "        block.norm2.bias.copy_(_n2p(w[f'{block_prefix}LayerNorm_2/bias']))\n",
    "\n",
    "\n",
    "def resize_pos_embed(posemb, posemb_new, num_tokens=1, gs_new=()):\n",
    "    # Rescale the grid of position embeddings when loading from state_dict. Adapted from\n",
    "    # https://github.com/google-research/vision_transformer/blob/00883dd691c63a6830751563748663526e811cee/vit_jax/checkpoint.py#L224\n",
    "    _logger.info('Resized position embedding: %s to %s', posemb.shape, posemb_new.shape)\n",
    "    ntok_new = posemb_new.shape[1]\n",
    "    if num_tokens:\n",
    "        posemb_tok, posemb_grid = posemb[:, :num_tokens], posemb[0, num_tokens:]\n",
    "        ntok_new -= num_tokens\n",
    "    else:\n",
    "        posemb_tok, posemb_grid = posemb[:, :0], posemb[0]\n",
    "    gs_old = int(math.sqrt(len(posemb_grid)))\n",
    "    if not len(gs_new):  # backwards compatibility\n",
    "        gs_new = [int(math.sqrt(ntok_new))] * 2\n",
    "    assert len(gs_new) >= 2\n",
    "    _logger.info('Position embedding grid-size from %s to %s', [gs_old, gs_old], gs_new)\n",
    "    posemb_grid = posemb_grid.reshape(1, gs_old, gs_old, -1).permute(0, 3, 1, 2)\n",
    "    posemb_grid = F.interpolate(posemb_grid, size=gs_new, mode='bicubic', align_corners=False)\n",
    "    posemb_grid = posemb_grid.permute(0, 2, 3, 1).reshape(1, gs_new[0] * gs_new[1], -1)\n",
    "    posemb = torch.cat([posemb_tok, posemb_grid], dim=1)\n",
    "    return posemb\n",
    "\n",
    "\n",
    "def checkpoint_filter_fn(state_dict, model):\n",
    "    \"\"\" convert patch embedding weight from manual patchify + linear proj to conv\"\"\"\n",
    "    out_dict = {}\n",
    "    if 'model' in state_dict:\n",
    "        # For deit models\n",
    "        state_dict = state_dict['model']\n",
    "    for k, v in state_dict.items():\n",
    "        if 'patch_embed.proj.weight' in k and len(v.shape) < 4:\n",
    "            # For old models that I trained prior to conv based patchification\n",
    "            O, I, H, W = model.patch_embed.proj.weight.shape\n",
    "            v = v.reshape(O, -1, H, W)\n",
    "        elif k == 'pos_embed' and v.shape != model.pos_embed.shape:\n",
    "            # To resize pos embedding when using model at different size from pretrained weights\n",
    "            v = resize_pos_embed(\n",
    "                v, model.pos_embed, getattr(model, 'num_tokens', 1), model.patch_embed.grid_size)\n",
    "        out_dict[k] = v\n",
    "    return out_dict\n",
    "\n",
    "\n",
    "def _create_vision_transformer(variant, pretrained=False, default_cfg=None, **kwargs):\n",
    "    default_cfg = default_cfg or default_cfgs[variant]\n",
    "    if kwargs.get('features_only', None):\n",
    "        raise RuntimeError('features_only not implemented for Vision Transformer models.')\n",
    "\n",
    "    # NOTE this extra code to support handling of repr size for in21k pretrained models\n",
    "    default_num_classes = default_cfg['num_classes']\n",
    "    num_classes = kwargs.get('num_classes', default_num_classes)\n",
    "    repr_size = kwargs.pop('representation_size', None)\n",
    "    if repr_size is not None and num_classes != default_num_classes:\n",
    "        # Remove representation layer if fine-tuning. This may not always be the desired action,\n",
    "        # but I feel better than doing nothing by default for fine-tuning. Perhaps a better interface?\n",
    "        _logger.warning(\"Removing representation layer for fine-tuning.\")\n",
    "        repr_size = None\n",
    "\n",
    "    model = build_model_with_cfg(\n",
    "        VisionTransformer, variant, pretrained,\n",
    "        default_cfg=default_cfg,\n",
    "        representation_size=repr_size,\n",
    "        pretrained_filter_fn=checkpoint_filter_fn,\n",
    "        pretrained_custom_load='npz' in default_cfg['url'],\n",
    "        **kwargs)\n",
    "    return model\n",
    "\n",
    "def _cfg(url='', **kwargs):\n",
    "    return {\n",
    "        'url': url,\n",
    "        'num_classes': 1000, 'input_size': (3, 224, 224), 'pool_size': None,\n",
    "        'crop_pct': .9, 'interpolation': 'bicubic', 'fixed_input_size': True,\n",
    "        'mean': IMAGENET_INCEPTION_MEAN, 'std': IMAGENET_INCEPTION_STD,\n",
    "        'first_conv': 'patch_embed.proj', 'classifier': 'head',\n",
    "        **kwargs\n",
    "    }\n",
    "\n",
    "default_cfgs = {\n",
    "    # patch models (weights from official Google JAX impl)\n",
    "    'vit_tiny_patch16_224': _cfg(\n",
    "        url='https://storage.googleapis.com/vit_models/augreg/'\n",
    "            'Ti_16-i21k-300ep-lr_0.001-aug_none-wd_0.03-do_0.0-sd_0.0--imagenet2012-steps_20k-lr_0.03-res_224.npz'),\n",
    "    'vit_small_patch16_224': _cfg(\n",
    "        url='https://storage.googleapis.com/vit_models/augreg/'\n",
    "            'S_16-i21k-300ep-lr_0.001-aug_light1-wd_0.03-do_0.0-sd_0.0--imagenet2012-steps_20k-lr_0.03-res_224.npz'),\n",
    "    }\n",
    "\n",
    "@register_model\n",
    "def vit_tiny_patch16_224(pretrained=False, k=8, pact=False, **kwargs):\n",
    "    \"\"\" ViT-Tiny (Vit-Ti/16)\n",
    "    \"\"\"\n",
    "    model_kwargs = dict(patch_size=16, embed_dim=192, depth=12, num_heads=3, k=k, pact=pact, **kwargs)\n",
    "    model = _create_vision_transformer('vit_tiny_patch16_224', pretrained=pretrained, **model_kwargs)\n",
    "    return model\n",
    "\n",
    "@register_model\n",
    "def vit_small_patch16_224(pretrained=False, k=8, **kwargs):\n",
    "    \"\"\" ViT-Small (ViT-S/16)\n",
    "    NOTE I've replaced my previous 'small' model definition and weights with the small variant from the DeiT paper\n",
    "    \"\"\"\n",
    "    model_kwargs = dict(patch_size=16, embed_dim=384, depth=12, num_heads=6, k=k, **kwargs)\n",
    "    model = _create_vision_transformer('vit_small_patch16_224', pretrained=pretrained, **model_kwargs)\n",
    "    return model\n"
   ]
  },
  {
   "cell_type": "code",
   "execution_count": null,
   "id": "bf661401",
   "metadata": {
    "scrolled": true
   },
   "outputs": [
    {
     "data": {
      "text/html": [
       "Finishing last run (ID:2bnax6pi) before initializing another..."
      ],
      "text/plain": [
       "<IPython.core.display.HTML object>"
      ]
     },
     "metadata": {},
     "output_type": "display_data"
    },
    {
     "data": {
      "text/html": [
       "Waiting for W&B process to finish... <strong style=\"color:green\">(success).</strong>"
      ],
      "text/plain": [
       "<IPython.core.display.HTML object>"
      ]
     },
     "metadata": {},
     "output_type": "display_data"
    },
    {
     "data": {
      "application/vnd.jupyter.widget-view+json": {
       "model_id": "",
       "version_major": 2,
       "version_minor": 0
      },
      "text/plain": [
       "VBox(children=(Label(value='0.000 MB of 0.000 MB uploaded (0.000 MB deduped)\\r'), FloatProgress(value=1.0, max…"
      ]
     },
     "metadata": {},
     "output_type": "display_data"
    },
    {
     "data": {
      "text/html": [
       "Synced <strong style=\"color:#cdcd00\">vit_small_noquant</strong>: <a href=\"https://wandb.ai/arutema47/pact_vit/runs/2bnax6pi\" target=\"_blank\">https://wandb.ai/arutema47/pact_vit/runs/2bnax6pi</a><br/>Synced 5 W&B file(s), 0 media file(s), 0 artifact file(s) and 1 other file(s)"
      ],
      "text/plain": [
       "<IPython.core.display.HTML object>"
      ]
     },
     "metadata": {},
     "output_type": "display_data"
    },
    {
     "data": {
      "text/html": [
       "Find logs at: <code>./wandb/run-20220617_164349-2bnax6pi/logs</code>"
      ],
      "text/plain": [
       "<IPython.core.display.HTML object>"
      ]
     },
     "metadata": {},
     "output_type": "display_data"
    },
    {
     "data": {
      "text/html": [
       "Successfully finished last run (ID:2bnax6pi). Initializing new run:<br/>"
      ],
      "text/plain": [
       "<IPython.core.display.HTML object>"
      ]
     },
     "metadata": {},
     "output_type": "display_data"
    },
    {
     "data": {
      "text/html": [
       "Tracking run with wandb version 0.12.18"
      ],
      "text/plain": [
       "<IPython.core.display.HTML object>"
      ]
     },
     "metadata": {},
     "output_type": "display_data"
    },
    {
     "data": {
      "text/html": [
       "Run data is saved locally in <code>/media/ken/dsk1/data/quantize_models_sandbox/wandb/run-20220617_164356-172uu7v9</code>"
      ],
      "text/plain": [
       "<IPython.core.display.HTML object>"
      ]
     },
     "metadata": {},
     "output_type": "display_data"
    },
    {
     "data": {
      "text/html": [
       "Syncing run <strong><a href=\"https://wandb.ai/arutema47/pact_vit_20220617/runs/172uu7v9\" target=\"_blank\">vit_small_k4_nopact</a></strong> to <a href=\"https://wandb.ai/arutema47/pact_vit_20220617\" target=\"_blank\">Weights & Biases</a> (<a href=\"https://wandb.me/run\" target=\"_blank\">docs</a>)<br/>"
      ],
      "text/plain": [
       "<IPython.core.display.HTML object>"
      ]
     },
     "metadata": {},
     "output_type": "display_data"
    },
    {
     "name": "stdout",
     "output_type": "stream",
     "text": [
      "current lr 1.00000e-06\n"
     ]
    },
    {
     "data": {
      "application/vnd.jupyter.widget-view+json": {
       "model_id": "610793e806bf467aa784271adc5a54bf",
       "version_major": 2,
       "version_minor": 0
      },
      "text/plain": [
       "  0%|          | 0/157 [00:00<?, ?it/s]"
      ]
     },
     "metadata": {},
     "output_type": "display_data"
    },
    {
     "name": "stdout",
     "output_type": "stream",
     "text": [
      "Epoch: [0][0/157]\tTime 3.693 (3.693)\tData 1.482 (1.482)\tLoss 2.9415 (2.9415)\tPrec@1 13.281 (13.281)\n",
      "Epoch: [0][50/157]\tTime 0.843 (0.896)\tData 0.001 (0.030)\tLoss 2.2103 (2.4404)\tPrec@1 15.625 (16.238)\n",
      "Epoch: [0][100/157]\tTime 0.846 (0.870)\tData 0.001 (0.016)\tLoss 2.0984 (2.2991)\tPrec@1 23.047 (18.723)\n",
      "Epoch: [0][150/157]\tTime 0.846 (0.862)\tData 0.001 (0.011)\tLoss 2.0294 (2.2231)\tPrec@1 32.422 (20.698)\n",
      "Test: [0/20]\tTime 3.176 (3.176)\tLoss 1.9290 (1.9290)\tPrec@1 31.641 (31.641)\n",
      " * Prec@1 29.750\n",
      "Best prec1 :  29.749999963378905\n",
      "current lr 4.00000e-06\n"
     ]
    },
    {
     "data": {
      "application/vnd.jupyter.widget-view+json": {
       "model_id": "25b7893aaf6f42a3ac1bb73152b33f23",
       "version_major": 2,
       "version_minor": 0
      },
      "text/plain": [
       "  0%|          | 0/157 [00:00<?, ?it/s]"
      ]
     },
     "metadata": {},
     "output_type": "display_data"
    },
    {
     "name": "stdout",
     "output_type": "stream",
     "text": [
      "Epoch: [1][0/157]\tTime 1.951 (1.951)\tData 1.104 (1.104)\tLoss 2.0621 (2.0621)\tPrec@1 26.562 (26.562)\n",
      "Epoch: [1][50/157]\tTime 0.846 (0.868)\tData 0.001 (0.023)\tLoss 1.8023 (1.9215)\tPrec@1 33.594 (29.887)\n",
      "Epoch: [1][100/157]\tTime 0.847 (0.858)\tData 0.001 (0.012)\tLoss 1.7204 (1.8445)\tPrec@1 37.500 (32.724)\n",
      "Epoch: [1][150/157]\tTime 0.847 (0.854)\tData 0.001 (0.008)\tLoss 1.5470 (1.7849)\tPrec@1 45.312 (35.099)\n",
      "Test: [0/20]\tTime 2.820 (2.820)\tLoss 1.4551 (1.4551)\tPrec@1 49.609 (49.609)\n",
      " * Prec@1 49.140\n",
      "Best prec1 :  49.13999997558594\n",
      "current lr 7.00000e-06\n"
     ]
    },
    {
     "data": {
      "application/vnd.jupyter.widget-view+json": {
       "model_id": "84a939bfb3554ca5aec87cad7188497a",
       "version_major": 2,
       "version_minor": 0
      },
      "text/plain": [
       "  0%|          | 0/157 [00:00<?, ?it/s]"
      ]
     },
     "metadata": {},
     "output_type": "display_data"
    },
    {
     "name": "stdout",
     "output_type": "stream",
     "text": [
      "Epoch: [2][0/157]\tTime 2.202 (2.202)\tData 1.356 (1.356)\tLoss 1.5998 (1.5998)\tPrec@1 41.797 (41.797)\n",
      "Epoch: [2][50/157]\tTime 0.846 (0.873)\tData 0.001 (0.028)\tLoss 1.4090 (1.4939)\tPrec@1 51.562 (46.071)\n",
      "Epoch: [2][100/157]\tTime 0.847 (0.860)\tData 0.001 (0.014)\tLoss 1.2469 (1.4142)\tPrec@1 55.859 (49.292)\n",
      "Epoch: [2][150/157]\tTime 0.846 (0.856)\tData 0.001 (0.010)\tLoss 1.0890 (1.3418)\tPrec@1 60.156 (52.059)\n",
      "Test: [0/20]\tTime 6.105 (6.105)\tLoss 0.8819 (0.8819)\tPrec@1 67.773 (67.773)\n",
      " * Prec@1 68.720\n",
      "Best prec1 :  68.72\n",
      "current lr 1.00000e-05\n"
     ]
    },
    {
     "data": {
      "application/vnd.jupyter.widget-view+json": {
       "model_id": "36d6f0a0b25147f5a7114978b82097db",
       "version_major": 2,
       "version_minor": 0
      },
      "text/plain": [
       "  0%|          | 0/157 [00:00<?, ?it/s]"
      ]
     },
     "metadata": {},
     "output_type": "display_data"
    },
    {
     "name": "stdout",
     "output_type": "stream",
     "text": [
      "Epoch: [3][0/157]\tTime 2.001 (2.001)\tData 1.150 (1.150)\tLoss 1.0727 (1.0727)\tPrec@1 62.109 (62.109)\n",
      "Epoch: [3][50/157]\tTime 0.846 (0.869)\tData 0.001 (0.024)\tLoss 1.0445 (1.0745)\tPrec@1 58.203 (61.420)\n",
      "Epoch: [3][100/157]\tTime 0.847 (0.858)\tData 0.001 (0.012)\tLoss 0.8711 (1.0280)\tPrec@1 67.188 (62.991)\n",
      "Epoch: [3][150/157]\tTime 0.847 (0.854)\tData 0.001 (0.009)\tLoss 0.8418 (0.9936)\tPrec@1 66.406 (64.202)\n",
      "Test: [0/20]\tTime 2.356 (2.356)\tLoss 0.5907 (0.5907)\tPrec@1 79.492 (79.492)\n",
      " * Prec@1 79.950\n",
      "Best prec1 :  79.94999986572266\n",
      "current lr 9.77975e-06\n"
     ]
    },
    {
     "data": {
      "application/vnd.jupyter.widget-view+json": {
       "model_id": "d400e69c384f40b0a6e7ea251237d628",
       "version_major": 2,
       "version_minor": 0
      },
      "text/plain": [
       "  0%|          | 0/157 [00:00<?, ?it/s]"
      ]
     },
     "metadata": {},
     "output_type": "display_data"
    },
    {
     "name": "stdout",
     "output_type": "stream",
     "text": [
      "Epoch: [4][0/157]\tTime 1.979 (1.979)\tData 1.132 (1.132)\tLoss 0.8971 (0.8971)\tPrec@1 65.625 (65.625)\n",
      "Epoch: [4][50/157]\tTime 0.847 (0.869)\tData 0.001 (0.023)\tLoss 0.7754 (0.8599)\tPrec@1 73.438 (69.493)\n",
      "Epoch: [4][100/157]\tTime 0.847 (0.858)\tData 0.001 (0.012)\tLoss 0.7073 (0.8359)\tPrec@1 76.562 (70.432)\n",
      "Epoch: [4][150/157]\tTime 0.846 (0.854)\tData 0.001 (0.008)\tLoss 0.8977 (0.8144)\tPrec@1 68.359 (71.228)\n",
      "Test: [0/20]\tTime 2.549 (2.549)\tLoss 0.4705 (0.4705)\tPrec@1 83.789 (83.789)\n",
      " * Prec@1 83.700\n",
      "Best prec1 :  83.69999993896485\n",
      "current lr 9.14058e-06\n"
     ]
    },
    {
     "data": {
      "application/vnd.jupyter.widget-view+json": {
       "model_id": "a1acf58d954c404c94f6d5c6f7b794b9",
       "version_major": 2,
       "version_minor": 0
      },
      "text/plain": [
       "  0%|          | 0/157 [00:00<?, ?it/s]"
      ]
     },
     "metadata": {},
     "output_type": "display_data"
    },
    {
     "name": "stdout",
     "output_type": "stream",
     "text": [
      "Epoch: [5][0/157]\tTime 1.821 (1.821)\tData 0.973 (0.973)\tLoss 0.8206 (0.8206)\tPrec@1 71.484 (71.484)\n",
      "Epoch: [5][50/157]\tTime 0.846 (0.865)\tData 0.001 (0.020)\tLoss 0.6903 (0.7511)\tPrec@1 77.734 (73.369)\n",
      "Epoch: [5][100/157]\tTime 0.847 (0.856)\tData 0.001 (0.011)\tLoss 0.6851 (0.7351)\tPrec@1 76.562 (74.018)\n",
      "Epoch: [5][150/157]\tTime 0.847 (0.853)\tData 0.001 (0.007)\tLoss 0.6661 (0.7231)\tPrec@1 76.172 (74.454)\n",
      "Test: [0/20]\tTime 1.998 (1.998)\tLoss 0.3764 (0.3764)\tPrec@1 87.695 (87.695)\n",
      " * Prec@1 86.240\n",
      "Best prec1 :  86.23999991455078\n",
      "current lr 8.14503e-06\n"
     ]
    },
    {
     "data": {
      "application/vnd.jupyter.widget-view+json": {
       "model_id": "01199dd299c94c03be5707f6e221fbcc",
       "version_major": 2,
       "version_minor": 0
      },
      "text/plain": [
       "  0%|          | 0/157 [00:00<?, ?it/s]"
      ]
     },
     "metadata": {},
     "output_type": "display_data"
    },
    {
     "name": "stdout",
     "output_type": "stream",
     "text": [
      "Epoch: [6][0/157]\tTime 1.699 (1.699)\tData 0.840 (0.840)\tLoss 0.7910 (0.7910)\tPrec@1 73.438 (73.438)\n",
      "Epoch: [6][50/157]\tTime 0.847 (0.863)\tData 0.001 (0.018)\tLoss 0.6130 (0.6779)\tPrec@1 78.906 (76.233)\n",
      "Epoch: [6][100/157]\tTime 0.847 (0.855)\tData 0.001 (0.009)\tLoss 0.5966 (0.6739)\tPrec@1 78.125 (76.392)\n",
      "Epoch: [6][150/157]\tTime 0.847 (0.852)\tData 0.001 (0.007)\tLoss 0.6365 (0.6637)\tPrec@1 76.953 (76.832)\n",
      "Test: [0/20]\tTime 2.168 (2.168)\tLoss 0.3503 (0.3503)\tPrec@1 89.062 (89.062)\n",
      " * Prec@1 87.780\n",
      "Best prec1 :  87.77999987792968\n",
      "current lr 6.89058e-06\n"
     ]
    },
    {
     "data": {
      "application/vnd.jupyter.widget-view+json": {
       "model_id": "7e0301e6a7034a4e89f42cbb65dc04f5",
       "version_major": 2,
       "version_minor": 0
      },
      "text/plain": [
       "  0%|          | 0/157 [00:00<?, ?it/s]"
      ]
     },
     "metadata": {},
     "output_type": "display_data"
    },
    {
     "name": "stdout",
     "output_type": "stream",
     "text": [
      "Epoch: [7][0/157]\tTime 2.107 (2.107)\tData 1.261 (1.261)\tLoss 0.6977 (0.6977)\tPrec@1 73.828 (73.828)\n",
      "Epoch: [7][50/157]\tTime 0.847 (0.871)\tData 0.001 (0.026)\tLoss 0.6355 (0.6283)\tPrec@1 78.516 (77.619)\n",
      "Epoch: [7][100/157]\tTime 0.847 (0.859)\tData 0.001 (0.013)\tLoss 0.5755 (0.6199)\tPrec@1 79.688 (77.966)\n",
      "Epoch: [7][150/157]\tTime 0.847 (0.855)\tData 0.001 (0.009)\tLoss 0.5053 (0.6200)\tPrec@1 80.469 (77.921)\n",
      "Test: [0/20]\tTime 1.865 (1.865)\tLoss 0.3173 (0.3173)\tPrec@1 90.625 (90.625)\n",
      " * Prec@1 88.520\n",
      "Best prec1 :  88.51999998779297\n",
      "current lr 5.50000e-06\n"
     ]
    },
    {
     "data": {
      "application/vnd.jupyter.widget-view+json": {
       "model_id": "58c7e629b0dd417c8ccad6bce0955ed1",
       "version_major": 2,
       "version_minor": 0
      },
      "text/plain": [
       "  0%|          | 0/157 [00:00<?, ?it/s]"
      ]
     },
     "metadata": {},
     "output_type": "display_data"
    },
    {
     "name": "stdout",
     "output_type": "stream",
     "text": [
      "Epoch: [8][0/157]\tTime 1.761 (1.761)\tData 0.901 (0.901)\tLoss 0.5754 (0.5754)\tPrec@1 78.906 (78.906)\n",
      "Epoch: [8][50/157]\tTime 0.847 (0.864)\tData 0.001 (0.019)\tLoss 0.6298 (0.5908)\tPrec@1 77.344 (79.136)\n",
      "Epoch: [8][100/157]\tTime 0.847 (0.856)\tData 0.001 (0.010)\tLoss 0.5989 (0.5950)\tPrec@1 79.688 (78.972)\n",
      "Epoch: [8][150/157]\tTime 0.847 (0.853)\tData 0.001 (0.007)\tLoss 0.4777 (0.5941)\tPrec@1 82.812 (78.948)\n",
      "Test: [0/20]\tTime 2.071 (2.071)\tLoss 0.3147 (0.3147)\tPrec@1 90.039 (90.039)\n",
      " * Prec@1 88.920\n",
      "Best prec1 :  88.91999990234375\n",
      "current lr 4.10942e-06\n"
     ]
    },
    {
     "data": {
      "application/vnd.jupyter.widget-view+json": {
       "model_id": "ed9b524beae44fc78ceaee43e2d521fa",
       "version_major": 2,
       "version_minor": 0
      },
      "text/plain": [
       "  0%|          | 0/157 [00:00<?, ?it/s]"
      ]
     },
     "metadata": {},
     "output_type": "display_data"
    },
    {
     "name": "stdout",
     "output_type": "stream",
     "text": [
      "Epoch: [9][0/157]\tTime 1.717 (1.717)\tData 0.858 (0.858)\tLoss 0.6237 (0.6237)\tPrec@1 77.734 (77.734)\n",
      "Epoch: [9][50/157]\tTime 0.847 (0.863)\tData 0.001 (0.018)\tLoss 0.4877 (0.5944)\tPrec@1 81.250 (79.213)\n",
      "Epoch: [9][100/157]\tTime 0.846 (0.855)\tData 0.001 (0.010)\tLoss 0.6775 (0.5825)\tPrec@1 75.781 (79.784)\n",
      "Epoch: [9][150/157]\tTime 0.847 (0.852)\tData 0.001 (0.007)\tLoss 0.6538 (0.5799)\tPrec@1 74.609 (79.690)\n",
      "Test: [0/20]\tTime 2.357 (2.357)\tLoss 0.2896 (0.2896)\tPrec@1 89.648 (89.648)\n",
      " * Prec@1 89.030\n",
      "Best prec1 :  89.02999990234375\n"
     ]
    },
    {
     "data": {
      "text/html": [
       "Finishing last run (ID:172uu7v9) before initializing another..."
      ],
      "text/plain": [
       "<IPython.core.display.HTML object>"
      ]
     },
     "metadata": {},
     "output_type": "display_data"
    },
    {
     "data": {
      "text/html": [
       "Waiting for W&B process to finish... <strong style=\"color:green\">(success).</strong>"
      ],
      "text/plain": [
       "<IPython.core.display.HTML object>"
      ]
     },
     "metadata": {},
     "output_type": "display_data"
    },
    {
     "data": {
      "application/vnd.jupyter.widget-view+json": {
       "model_id": "",
       "version_major": 2,
       "version_minor": 0
      },
      "text/plain": [
       "VBox(children=(Label(value='0.581 MB of 0.581 MB uploaded (0.000 MB deduped)\\r'), FloatProgress(value=1.0, max…"
      ]
     },
     "metadata": {},
     "output_type": "display_data"
    },
    {
     "data": {
      "text/html": [
       "<style>\n",
       "    table.wandb td:nth-child(1) { padding: 0 10px; text-align: left ; width: auto;} td:nth-child(2) {text-align: left ; width: 100%}\n",
       "    .wandb-row { display: flex; flex-direction: row; flex-wrap: wrap; justify-content: flex-start; width: 100% }\n",
       "    .wandb-col { display: flex; flex-direction: column; flex-basis: 100%; flex: 1; padding: 10px; }\n",
       "    </style>\n",
       "<div class=\"wandb-row\"><div class=\"wandb-col\"><h3>Run history:</h3><br/><table class=\"wandb\"><tr><td>epoch</td><td>▁▂▃▃▄▅▆▆▇█</td></tr><tr><td>lr</td><td>▁▃▆██▇▇▆▅▃</td></tr><tr><td>prec</td><td>▁▃▆▇▇█████</td></tr><tr><td>train_loss</td><td>█▆▄▃▂▂▁▁▁▁</td></tr><tr><td>val_loss</td><td>█▆▃▂▂▁▁▁▁▁</td></tr></table><br/></div><div class=\"wandb-col\"><h3>Run summary:</h3><br/><table class=\"wandb\"><tr><td>epoch</td><td>9</td></tr><tr><td>lr</td><td>0.0</td></tr><tr><td>prec</td><td>89.03</td></tr><tr><td>train_loss</td><td>0.58177</td></tr><tr><td>val_loss</td><td>0.31369</td></tr></table><br/></div></div>"
      ],
      "text/plain": [
       "<IPython.core.display.HTML object>"
      ]
     },
     "metadata": {},
     "output_type": "display_data"
    },
    {
     "data": {
      "text/html": [
       "Synced <strong style=\"color:#cdcd00\">vit_small_k4_nopact</strong>: <a href=\"https://wandb.ai/arutema47/pact_vit_20220617/runs/172uu7v9\" target=\"_blank\">https://wandb.ai/arutema47/pact_vit_20220617/runs/172uu7v9</a><br/>Synced 6 W&B file(s), 0 media file(s), 0 artifact file(s) and 0 other file(s)"
      ],
      "text/plain": [
       "<IPython.core.display.HTML object>"
      ]
     },
     "metadata": {},
     "output_type": "display_data"
    },
    {
     "data": {
      "text/html": [
       "Find logs at: <code>./wandb/run-20220617_164356-172uu7v9/logs</code>"
      ],
      "text/plain": [
       "<IPython.core.display.HTML object>"
      ]
     },
     "metadata": {},
     "output_type": "display_data"
    },
    {
     "data": {
      "text/html": [
       "Successfully finished last run (ID:172uu7v9). Initializing new run:<br/>"
      ],
      "text/plain": [
       "<IPython.core.display.HTML object>"
      ]
     },
     "metadata": {},
     "output_type": "display_data"
    },
    {
     "data": {
      "text/html": [
       "Tracking run with wandb version 0.12.18"
      ],
      "text/plain": [
       "<IPython.core.display.HTML object>"
      ]
     },
     "metadata": {},
     "output_type": "display_data"
    },
    {
     "data": {
      "text/html": [
       "Run data is saved locally in <code>/media/ken/dsk1/data/quantize_models_sandbox/wandb/run-20220617_170906-1mrezazg</code>"
      ],
      "text/plain": [
       "<IPython.core.display.HTML object>"
      ]
     },
     "metadata": {},
     "output_type": "display_data"
    },
    {
     "data": {
      "text/html": [
       "Syncing run <strong><a href=\"https://wandb.ai/arutema47/pact_vit_20220617/runs/1mrezazg\" target=\"_blank\">vit_small_k5_nopact</a></strong> to <a href=\"https://wandb.ai/arutema47/pact_vit_20220617\" target=\"_blank\">Weights & Biases</a> (<a href=\"https://wandb.me/run\" target=\"_blank\">docs</a>)<br/>"
      ],
      "text/plain": [
       "<IPython.core.display.HTML object>"
      ]
     },
     "metadata": {},
     "output_type": "display_data"
    },
    {
     "name": "stdout",
     "output_type": "stream",
     "text": [
      "current lr 1.00000e-06\n"
     ]
    },
    {
     "data": {
      "application/vnd.jupyter.widget-view+json": {
       "model_id": "62984bbbc94c4ff6b799b3511653014f",
       "version_major": 2,
       "version_minor": 0
      },
      "text/plain": [
       "  0%|          | 0/157 [00:00<?, ?it/s]"
      ]
     },
     "metadata": {},
     "output_type": "display_data"
    },
    {
     "name": "stdout",
     "output_type": "stream",
     "text": [
      "Epoch: [0][0/157]\tTime 1.712 (1.712)\tData 0.865 (0.865)\tLoss 1.9576 (1.9576)\tPrec@1 35.938 (35.938)\n",
      "Epoch: [0][50/157]\tTime 0.846 (0.862)\tData 0.001 (0.018)\tLoss 1.2961 (1.5813)\tPrec@1 50.391 (44.707)\n",
      "Epoch: [0][100/157]\tTime 0.847 (0.855)\tData 0.001 (0.010)\tLoss 1.0309 (1.3463)\tPrec@1 66.406 (53.133)\n",
      "Epoch: [0][150/157]\tTime 0.847 (0.852)\tData 0.001 (0.007)\tLoss 0.7171 (1.1991)\tPrec@1 76.562 (58.309)\n",
      "Test: [0/20]\tTime 2.532 (2.532)\tLoss 0.3970 (0.3970)\tPrec@1 87.305 (87.305)\n",
      " * Prec@1 84.510\n",
      "Best prec1 :  84.50999995117188\n",
      "current lr 4.00000e-06\n"
     ]
    },
    {
     "data": {
      "application/vnd.jupyter.widget-view+json": {
       "model_id": "c165786d4a5a4a87b340c45ca8353112",
       "version_major": 2,
       "version_minor": 0
      },
      "text/plain": [
       "  0%|          | 0/157 [00:00<?, ?it/s]"
      ]
     },
     "metadata": {},
     "output_type": "display_data"
    },
    {
     "name": "stdout",
     "output_type": "stream",
     "text": [
      "Epoch: [1][0/157]\tTime 2.037 (2.037)\tData 1.183 (1.183)\tLoss 0.7543 (0.7543)\tPrec@1 75.391 (75.391)\n",
      "Epoch: [1][50/157]\tTime 0.847 (0.871)\tData 0.001 (0.024)\tLoss 0.6857 (0.6808)\tPrec@1 75.781 (76.195)\n",
      "Epoch: [1][100/157]\tTime 0.848 (0.859)\tData 0.001 (0.013)\tLoss 0.5808 (0.6317)\tPrec@1 82.422 (77.692)\n",
      "Epoch: [1][150/157]\tTime 0.848 (0.855)\tData 0.001 (0.009)\tLoss 0.4769 (0.5992)\tPrec@1 83.203 (78.834)\n",
      "Test: [0/20]\tTime 2.306 (2.306)\tLoss 0.2153 (0.2153)\tPrec@1 92.773 (92.773)\n",
      " * Prec@1 92.010\n",
      "Best prec1 :  92.01000002441407\n",
      "current lr 7.00000e-06\n"
     ]
    },
    {
     "data": {
      "application/vnd.jupyter.widget-view+json": {
       "model_id": "28a70694e04944019efbb42c7eed26b2",
       "version_major": 2,
       "version_minor": 0
      },
      "text/plain": [
       "  0%|          | 0/157 [00:00<?, ?it/s]"
      ]
     },
     "metadata": {},
     "output_type": "display_data"
    },
    {
     "name": "stdout",
     "output_type": "stream",
     "text": [
      "Epoch: [2][0/157]\tTime 1.820 (1.820)\tData 0.970 (0.970)\tLoss 0.4304 (0.4304)\tPrec@1 84.766 (84.766)\n",
      "Epoch: [2][50/157]\tTime 0.847 (0.866)\tData 0.001 (0.020)\tLoss 0.4600 (0.4905)\tPrec@1 85.938 (82.912)\n",
      "Epoch: [2][100/157]\tTime 0.848 (0.857)\tData 0.001 (0.011)\tLoss 0.3860 (0.4706)\tPrec@1 89.844 (83.563)\n",
      "Epoch: [2][150/157]\tTime 0.847 (0.854)\tData 0.001 (0.007)\tLoss 0.3767 (0.4595)\tPrec@1 84.375 (83.741)\n",
      "Test: [0/20]\tTime 2.273 (2.273)\tLoss 0.1747 (0.1747)\tPrec@1 94.141 (94.141)\n",
      " * Prec@1 93.760\n",
      "Best prec1 :  93.7600000366211\n",
      "current lr 1.00000e-05\n"
     ]
    },
    {
     "data": {
      "application/vnd.jupyter.widget-view+json": {
       "model_id": "8cdd047edd8b45f9a3d5775aca64d879",
       "version_major": 2,
       "version_minor": 0
      },
      "text/plain": [
       "  0%|          | 0/157 [00:00<?, ?it/s]"
      ]
     },
     "metadata": {},
     "output_type": "display_data"
    },
    {
     "name": "stdout",
     "output_type": "stream",
     "text": [
      "Epoch: [3][0/157]\tTime 1.771 (1.771)\tData 0.918 (0.918)\tLoss 0.4352 (0.4352)\tPrec@1 85.156 (85.156)\n",
      "Epoch: [3][50/157]\tTime 0.848 (0.865)\tData 0.001 (0.019)\tLoss 0.4651 (0.4126)\tPrec@1 82.812 (85.470)\n",
      "Epoch: [3][100/157]\tTime 0.848 (0.857)\tData 0.001 (0.010)\tLoss 0.3816 (0.4030)\tPrec@1 88.672 (85.837)\n",
      "Epoch: [3][150/157]\tTime 0.847 (0.854)\tData 0.001 (0.007)\tLoss 0.6393 (0.4025)\tPrec@1 77.734 (85.831)\n",
      "Test: [0/20]\tTime 2.554 (2.554)\tLoss 0.1238 (0.1238)\tPrec@1 96.289 (96.289)\n",
      " * Prec@1 94.850\n",
      "Best prec1 :  94.84999993896484\n",
      "current lr 9.77975e-06\n"
     ]
    },
    {
     "data": {
      "application/vnd.jupyter.widget-view+json": {
       "model_id": "6f945329d11749e6af595466eb2d6343",
       "version_major": 2,
       "version_minor": 0
      },
      "text/plain": [
       "  0%|          | 0/157 [00:00<?, ?it/s]"
      ]
     },
     "metadata": {},
     "output_type": "display_data"
    },
    {
     "name": "stdout",
     "output_type": "stream",
     "text": [
      "Epoch: [4][0/157]\tTime 2.015 (2.015)\tData 1.166 (1.166)\tLoss 0.4708 (0.4708)\tPrec@1 84.375 (84.375)\n",
      "Epoch: [4][50/157]\tTime 0.847 (0.870)\tData 0.001 (0.024)\tLoss 0.3750 (0.3538)\tPrec@1 86.328 (87.462)\n",
      "Epoch: [4][100/157]\tTime 0.848 (0.859)\tData 0.001 (0.013)\tLoss 0.2955 (0.3562)\tPrec@1 90.234 (87.380)\n",
      "Epoch: [4][150/157]\tTime 0.847 (0.855)\tData 0.001 (0.009)\tLoss 0.3601 (0.3537)\tPrec@1 87.891 (87.536)\n",
      "Test: [0/20]\tTime 2.014 (2.014)\tLoss 0.1250 (0.1250)\tPrec@1 95.703 (95.703)\n",
      " * Prec@1 95.330\n",
      "Best prec1 :  95.32999995117187\n",
      "current lr 9.14058e-06\n"
     ]
    },
    {
     "data": {
      "application/vnd.jupyter.widget-view+json": {
       "model_id": "1f76c433a705455b8ddab6064a063e95",
       "version_major": 2,
       "version_minor": 0
      },
      "text/plain": [
       "  0%|          | 0/157 [00:00<?, ?it/s]"
      ]
     },
     "metadata": {},
     "output_type": "display_data"
    },
    {
     "name": "stdout",
     "output_type": "stream",
     "text": [
      "Epoch: [5][0/157]\tTime 1.655 (1.655)\tData 0.802 (0.802)\tLoss 0.2768 (0.2768)\tPrec@1 91.016 (91.016)\n",
      "Epoch: [5][50/157]\tTime 0.847 (0.863)\tData 0.001 (0.017)\tLoss 0.2651 (0.3365)\tPrec@1 91.016 (88.526)\n",
      "Epoch: [5][100/157]\tTime 0.848 (0.856)\tData 0.001 (0.009)\tLoss 0.4444 (0.3389)\tPrec@1 84.375 (88.316)\n",
      "Epoch: [5][150/157]\tTime 0.847 (0.853)\tData 0.001 (0.006)\tLoss 0.3128 (0.3369)\tPrec@1 90.234 (88.333)\n",
      "Test: [0/20]\tTime 2.303 (2.303)\tLoss 0.1077 (0.1077)\tPrec@1 96.289 (96.289)\n",
      " * Prec@1 95.580\n",
      "Best prec1 :  95.57999995117187\n",
      "current lr 8.14503e-06\n"
     ]
    },
    {
     "data": {
      "application/vnd.jupyter.widget-view+json": {
       "model_id": "cc385e32ec3c4406bb24ed9c684276f2",
       "version_major": 2,
       "version_minor": 0
      },
      "text/plain": [
       "  0%|          | 0/157 [00:00<?, ?it/s]"
      ]
     },
     "metadata": {},
     "output_type": "display_data"
    },
    {
     "name": "stdout",
     "output_type": "stream",
     "text": [
      "Epoch: [6][0/157]\tTime 1.874 (1.874)\tData 1.025 (1.025)\tLoss 0.2638 (0.2638)\tPrec@1 89.844 (89.844)\n",
      "Epoch: [6][50/157]\tTime 0.848 (0.868)\tData 0.001 (0.021)\tLoss 0.3051 (0.3166)\tPrec@1 88.281 (89.047)\n",
      "Epoch: [6][100/157]\tTime 0.848 (0.858)\tData 0.001 (0.011)\tLoss 0.2758 (0.3142)\tPrec@1 91.016 (89.074)\n",
      "Epoch: [6][150/157]\tTime 0.848 (0.854)\tData 0.001 (0.008)\tLoss 0.4440 (0.3149)\tPrec@1 84.766 (89.065)\n",
      "Test: [0/20]\tTime 2.673 (2.673)\tLoss 0.0878 (0.0878)\tPrec@1 96.875 (96.875)\n",
      " * Prec@1 95.570\n",
      "Best prec1 :  95.57999995117187\n",
      "current lr 6.89058e-06\n"
     ]
    },
    {
     "data": {
      "application/vnd.jupyter.widget-view+json": {
       "model_id": "cffc86b4b9a143ddb2b889cf0624b256",
       "version_major": 2,
       "version_minor": 0
      },
      "text/plain": [
       "  0%|          | 0/157 [00:00<?, ?it/s]"
      ]
     },
     "metadata": {},
     "output_type": "display_data"
    },
    {
     "name": "stdout",
     "output_type": "stream",
     "text": [
      "Epoch: [7][0/157]\tTime 1.926 (1.926)\tData 1.077 (1.077)\tLoss 0.2873 (0.2873)\tPrec@1 89.453 (89.453)\n",
      "Epoch: [7][50/157]\tTime 0.847 (0.868)\tData 0.001 (0.022)\tLoss 0.3209 (0.3113)\tPrec@1 89.062 (88.664)\n",
      "Epoch: [7][100/157]\tTime 0.847 (0.858)\tData 0.001 (0.012)\tLoss 0.2942 (0.3083)\tPrec@1 89.844 (88.974)\n",
      "Epoch: [7][150/157]\tTime 0.847 (0.855)\tData 0.001 (0.008)\tLoss 0.2774 (0.3082)\tPrec@1 87.109 (88.993)\n",
      "Test: [0/20]\tTime 2.084 (2.084)\tLoss 0.0923 (0.0923)\tPrec@1 96.289 (96.289)\n",
      " * Prec@1 95.710\n",
      "Best prec1 :  95.71\n",
      "current lr 5.50000e-06\n"
     ]
    },
    {
     "data": {
      "application/vnd.jupyter.widget-view+json": {
       "model_id": "f5b77c15a8f544b3b2bc886a305d997c",
       "version_major": 2,
       "version_minor": 0
      },
      "text/plain": [
       "  0%|          | 0/157 [00:00<?, ?it/s]"
      ]
     },
     "metadata": {},
     "output_type": "display_data"
    },
    {
     "name": "stdout",
     "output_type": "stream",
     "text": [
      "Epoch: [8][0/157]\tTime 1.939 (1.939)\tData 1.089 (1.089)\tLoss 0.2913 (0.2913)\tPrec@1 90.234 (90.234)\n",
      "Epoch: [8][50/157]\tTime 0.847 (0.869)\tData 0.001 (0.022)\tLoss 0.2486 (0.2977)\tPrec@1 93.359 (89.913)\n",
      "Epoch: [8][100/157]\tTime 0.848 (0.858)\tData 0.001 (0.012)\tLoss 0.3723 (0.2980)\tPrec@1 86.719 (89.592)\n",
      "Epoch: [8][150/157]\tTime 0.847 (0.855)\tData 0.001 (0.008)\tLoss 0.2651 (0.2991)\tPrec@1 91.406 (89.683)\n",
      "Test: [0/20]\tTime 2.235 (2.235)\tLoss 0.0951 (0.0951)\tPrec@1 97.070 (97.070)\n",
      " * Prec@1 95.950\n",
      "Best prec1 :  95.94999990234375\n",
      "current lr 4.10942e-06\n"
     ]
    },
    {
     "data": {
      "application/vnd.jupyter.widget-view+json": {
       "model_id": "93274e5c40484d41b043fbf39efa67a6",
       "version_major": 2,
       "version_minor": 0
      },
      "text/plain": [
       "  0%|          | 0/157 [00:00<?, ?it/s]"
      ]
     },
     "metadata": {},
     "output_type": "display_data"
    },
    {
     "name": "stdout",
     "output_type": "stream",
     "text": [
      "Epoch: [9][0/157]\tTime 1.620 (1.620)\tData 0.770 (0.770)\tLoss 0.2221 (0.2221)\tPrec@1 92.188 (92.188)\n",
      "Epoch: [9][50/157]\tTime 0.848 (0.863)\tData 0.001 (0.016)\tLoss 0.2184 (0.2804)\tPrec@1 92.578 (90.104)\n",
      "Epoch: [9][100/157]\tTime 0.848 (0.855)\tData 0.001 (0.009)\tLoss 0.2234 (0.2800)\tPrec@1 91.797 (90.203)\n",
      "Epoch: [9][150/157]\tTime 0.847 (0.853)\tData 0.001 (0.006)\tLoss 0.2624 (0.2834)\tPrec@1 90.625 (90.058)\n",
      "Test: [0/20]\tTime 2.513 (2.513)\tLoss 0.0958 (0.0958)\tPrec@1 96.680 (96.680)\n",
      " * Prec@1 95.860\n",
      "Best prec1 :  95.94999990234375\n"
     ]
    },
    {
     "data": {
      "text/html": [
       "Finishing last run (ID:1mrezazg) before initializing another..."
      ],
      "text/plain": [
       "<IPython.core.display.HTML object>"
      ]
     },
     "metadata": {},
     "output_type": "display_data"
    },
    {
     "data": {
      "text/html": [
       "Waiting for W&B process to finish... <strong style=\"color:green\">(success).</strong>"
      ],
      "text/plain": [
       "<IPython.core.display.HTML object>"
      ]
     },
     "metadata": {},
     "output_type": "display_data"
    },
    {
     "data": {
      "application/vnd.jupyter.widget-view+json": {
       "model_id": "",
       "version_major": 2,
       "version_minor": 0
      },
      "text/plain": [
       "VBox(children=(Label(value='1.154 MB of 1.154 MB uploaded (0.000 MB deduped)\\r'), FloatProgress(value=1.0, max…"
      ]
     },
     "metadata": {},
     "output_type": "display_data"
    },
    {
     "data": {
      "text/html": [
       "<style>\n",
       "    table.wandb td:nth-child(1) { padding: 0 10px; text-align: left ; width: auto;} td:nth-child(2) {text-align: left ; width: 100%}\n",
       "    .wandb-row { display: flex; flex-direction: row; flex-wrap: wrap; justify-content: flex-start; width: 100% }\n",
       "    .wandb-col { display: flex; flex-direction: column; flex-basis: 100%; flex: 1; padding: 10px; }\n",
       "    </style>\n",
       "<div class=\"wandb-row\"><div class=\"wandb-col\"><h3>Run history:</h3><br/><table class=\"wandb\"><tr><td>epoch</td><td>▁▂▃▃▄▅▆▆▇█</td></tr><tr><td>lr</td><td>▁▃▆██▇▇▆▅▃</td></tr><tr><td>prec</td><td>▁▆▇▇██████</td></tr><tr><td>train_loss</td><td>█▃▂▂▂▁▁▁▁▁</td></tr><tr><td>val_loss</td><td>█▃▂▂▁▁▁▁▁▁</td></tr></table><br/></div><div class=\"wandb-col\"><h3>Run summary:</h3><br/><table class=\"wandb\"><tr><td>epoch</td><td>9</td></tr><tr><td>lr</td><td>0.0</td></tr><tr><td>prec</td><td>95.86</td></tr><tr><td>train_loss</td><td>0.28491</td></tr><tr><td>val_loss</td><td>0.11344</td></tr></table><br/></div></div>"
      ],
      "text/plain": [
       "<IPython.core.display.HTML object>"
      ]
     },
     "metadata": {},
     "output_type": "display_data"
    },
    {
     "data": {
      "text/html": [
       "Synced <strong style=\"color:#cdcd00\">vit_small_k5_nopact</strong>: <a href=\"https://wandb.ai/arutema47/pact_vit_20220617/runs/1mrezazg\" target=\"_blank\">https://wandb.ai/arutema47/pact_vit_20220617/runs/1mrezazg</a><br/>Synced 6 W&B file(s), 0 media file(s), 0 artifact file(s) and 1 other file(s)"
      ],
      "text/plain": [
       "<IPython.core.display.HTML object>"
      ]
     },
     "metadata": {},
     "output_type": "display_data"
    },
    {
     "data": {
      "text/html": [
       "Find logs at: <code>./wandb/run-20220617_170906-1mrezazg/logs</code>"
      ],
      "text/plain": [
       "<IPython.core.display.HTML object>"
      ]
     },
     "metadata": {},
     "output_type": "display_data"
    },
    {
     "data": {
      "text/html": [
       "Successfully finished last run (ID:1mrezazg). Initializing new run:<br/>"
      ],
      "text/plain": [
       "<IPython.core.display.HTML object>"
      ]
     },
     "metadata": {},
     "output_type": "display_data"
    },
    {
     "data": {
      "text/html": [
       "Tracking run with wandb version 0.12.18"
      ],
      "text/plain": [
       "<IPython.core.display.HTML object>"
      ]
     },
     "metadata": {},
     "output_type": "display_data"
    },
    {
     "data": {
      "text/html": [
       "Run data is saved locally in <code>/media/ken/dsk1/data/quantize_models_sandbox/wandb/run-20220617_173409-2at1x0ti</code>"
      ],
      "text/plain": [
       "<IPython.core.display.HTML object>"
      ]
     },
     "metadata": {},
     "output_type": "display_data"
    },
    {
     "data": {
      "text/html": [
       "Syncing run <strong><a href=\"https://wandb.ai/arutema47/pact_vit_20220617/runs/2at1x0ti\" target=\"_blank\">vit_small_k6_nopact</a></strong> to <a href=\"https://wandb.ai/arutema47/pact_vit_20220617\" target=\"_blank\">Weights & Biases</a> (<a href=\"https://wandb.me/run\" target=\"_blank\">docs</a>)<br/>"
      ],
      "text/plain": [
       "<IPython.core.display.HTML object>"
      ]
     },
     "metadata": {},
     "output_type": "display_data"
    },
    {
     "name": "stdout",
     "output_type": "stream",
     "text": [
      "current lr 1.00000e-06\n"
     ]
    },
    {
     "data": {
      "application/vnd.jupyter.widget-view+json": {
       "model_id": "9ea3b4221760448b82180c517af28676",
       "version_major": 2,
       "version_minor": 0
      },
      "text/plain": [
       "  0%|          | 0/157 [00:00<?, ?it/s]"
      ]
     },
     "metadata": {},
     "output_type": "display_data"
    },
    {
     "name": "stdout",
     "output_type": "stream",
     "text": [
      "Epoch: [0][0/157]\tTime 1.987 (1.987)\tData 1.140 (1.140)\tLoss 0.6817 (0.6817)\tPrec@1 75.000 (75.000)\n",
      "Epoch: [0][50/157]\tTime 0.847 (0.868)\tData 0.001 (0.023)\tLoss 0.3856 (0.4565)\tPrec@1 85.547 (84.161)\n",
      "Epoch: [0][100/157]\tTime 0.849 (0.858)\tData 0.001 (0.012)\tLoss 0.3101 (0.4145)\tPrec@1 89.062 (85.671)\n",
      "Epoch: [0][150/157]\tTime 0.849 (0.855)\tData 0.001 (0.009)\tLoss 0.3197 (0.3916)\tPrec@1 87.891 (86.483)\n",
      "Test: [0/20]\tTime 1.881 (1.881)\tLoss 0.1012 (0.1012)\tPrec@1 96.875 (96.875)\n",
      " * Prec@1 95.760\n",
      "Best prec1 :  95.75999986572266\n",
      "current lr 4.00000e-06\n"
     ]
    },
    {
     "data": {
      "application/vnd.jupyter.widget-view+json": {
       "model_id": "741d66a290c6440ab44c3509aca85b3f",
       "version_major": 2,
       "version_minor": 0
      },
      "text/plain": [
       "  0%|          | 0/157 [00:00<?, ?it/s]"
      ]
     },
     "metadata": {},
     "output_type": "display_data"
    },
    {
     "name": "stdout",
     "output_type": "stream",
     "text": [
      "Epoch: [1][0/157]\tTime 1.617 (1.617)\tData 0.761 (0.761)\tLoss 0.3396 (0.3396)\tPrec@1 89.453 (89.453)\n",
      "Epoch: [1][50/157]\tTime 0.849 (0.864)\tData 0.001 (0.016)\tLoss 0.3269 (0.3234)\tPrec@1 87.891 (88.687)\n",
      "Epoch: [1][100/157]\tTime 0.849 (0.856)\tData 0.001 (0.009)\tLoss 0.2646 (0.3081)\tPrec@1 91.016 (89.248)\n",
      "Epoch: [1][150/157]\tTime 0.849 (0.854)\tData 0.001 (0.006)\tLoss 0.2351 (0.2966)\tPrec@1 91.797 (89.557)\n",
      "Test: [0/20]\tTime 2.477 (2.477)\tLoss 0.0610 (0.0610)\tPrec@1 98.242 (98.242)\n",
      " * Prec@1 96.560\n",
      "Best prec1 :  96.55999997558594\n",
      "current lr 7.00000e-06\n"
     ]
    },
    {
     "data": {
      "application/vnd.jupyter.widget-view+json": {
       "model_id": "1c5d7ba8999d4f49b2d5e56df521c787",
       "version_major": 2,
       "version_minor": 0
      },
      "text/plain": [
       "  0%|          | 0/157 [00:00<?, ?it/s]"
      ]
     },
     "metadata": {},
     "output_type": "display_data"
    },
    {
     "name": "stdout",
     "output_type": "stream",
     "text": [
      "Epoch: [2][0/157]\tTime 1.823 (1.823)\tData 0.973 (0.973)\tLoss 0.2025 (0.2025)\tPrec@1 92.188 (92.188)\n",
      "Epoch: [2][50/157]\tTime 0.848 (0.867)\tData 0.001 (0.020)\tLoss 0.3041 (0.2825)\tPrec@1 89.453 (90.058)\n",
      "Epoch: [2][100/157]\tTime 0.848 (0.858)\tData 0.001 (0.011)\tLoss 0.2829 (0.2734)\tPrec@1 89.844 (90.354)\n",
      "Epoch: [2][150/157]\tTime 0.849 (0.855)\tData 0.001 (0.007)\tLoss 0.2394 (0.2648)\tPrec@1 91.406 (90.646)\n",
      "Test: [0/20]\tTime 2.518 (2.518)\tLoss 0.0480 (0.0480)\tPrec@1 98.633 (98.633)\n",
      " * Prec@1 97.120\n",
      "Best prec1 :  97.11999992675781\n",
      "current lr 1.00000e-05\n"
     ]
    },
    {
     "data": {
      "application/vnd.jupyter.widget-view+json": {
       "model_id": "61ca90db59a94a9d84ea043640b08695",
       "version_major": 2,
       "version_minor": 0
      },
      "text/plain": [
       "  0%|          | 0/157 [00:00<?, ?it/s]"
      ]
     },
     "metadata": {},
     "output_type": "display_data"
    },
    {
     "name": "stdout",
     "output_type": "stream",
     "text": [
      "Epoch: [3][0/157]\tTime 1.869 (1.869)\tData 1.018 (1.018)\tLoss 0.2418 (0.2418)\tPrec@1 92.188 (92.188)\n",
      "Epoch: [3][50/157]\tTime 0.848 (0.868)\tData 0.001 (0.021)\tLoss 0.1481 (0.2488)\tPrec@1 96.484 (91.360)\n",
      "Epoch: [3][100/157]\tTime 0.849 (0.858)\tData 0.001 (0.011)\tLoss 0.2789 (0.2475)\tPrec@1 90.234 (91.298)\n",
      "Epoch: [3][150/157]\tTime 0.849 (0.855)\tData 0.001 (0.008)\tLoss 0.2259 (0.2452)\tPrec@1 92.578 (91.383)\n",
      "Test: [0/20]\tTime 2.061 (2.061)\tLoss 0.0604 (0.0604)\tPrec@1 98.438 (98.438)\n",
      " * Prec@1 97.220\n",
      "Best prec1 :  97.21999992675781\n",
      "current lr 9.77975e-06\n"
     ]
    },
    {
     "data": {
      "application/vnd.jupyter.widget-view+json": {
       "model_id": "8d0eacdc8e1e48999fb4e6ccc8346eba",
       "version_major": 2,
       "version_minor": 0
      },
      "text/plain": [
       "  0%|          | 0/157 [00:00<?, ?it/s]"
      ]
     },
     "metadata": {},
     "output_type": "display_data"
    },
    {
     "name": "stdout",
     "output_type": "stream",
     "text": [
      "Epoch: [4][0/157]\tTime 1.864 (1.864)\tData 1.014 (1.014)\tLoss 0.2430 (0.2430)\tPrec@1 92.969 (92.969)\n",
      "Epoch: [4][50/157]\tTime 0.848 (0.868)\tData 0.001 (0.021)\tLoss 0.2048 (0.2289)\tPrec@1 92.188 (91.942)\n",
      "Epoch: [4][100/157]\tTime 0.848 (0.858)\tData 0.001 (0.011)\tLoss 0.2824 (0.2345)\tPrec@1 89.453 (91.808)\n",
      "Epoch: [4][150/157]\tTime 0.849 (0.855)\tData 0.001 (0.008)\tLoss 0.2073 (0.2307)\tPrec@1 94.531 (91.960)\n",
      "Test: [0/20]\tTime 2.421 (2.421)\tLoss 0.0614 (0.0614)\tPrec@1 98.047 (98.047)\n",
      " * Prec@1 97.520\n",
      "Best prec1 :  97.51999992675782\n",
      "current lr 9.14058e-06\n"
     ]
    },
    {
     "data": {
      "application/vnd.jupyter.widget-view+json": {
       "model_id": "0caff43802a34b24ab70f7f449e29886",
       "version_major": 2,
       "version_minor": 0
      },
      "text/plain": [
       "  0%|          | 0/157 [00:00<?, ?it/s]"
      ]
     },
     "metadata": {},
     "output_type": "display_data"
    },
    {
     "name": "stdout",
     "output_type": "stream",
     "text": [
      "Epoch: [5][0/157]\tTime 1.601 (1.601)\tData 0.749 (0.749)\tLoss 0.1799 (0.1799)\tPrec@1 92.578 (92.578)\n",
      "Epoch: [5][50/157]\tTime 0.849 (0.863)\tData 0.001 (0.016)\tLoss 0.2381 (0.2231)\tPrec@1 92.969 (92.172)\n",
      "Epoch: [5][100/157]\tTime 0.848 (0.856)\tData 0.001 (0.008)\tLoss 0.2078 (0.2137)\tPrec@1 94.141 (92.524)\n",
      "Epoch: [5][150/157]\tTime 0.849 (0.853)\tData 0.001 (0.006)\tLoss 0.1989 (0.2180)\tPrec@1 92.188 (92.332)\n",
      "Test: [0/20]\tTime 1.967 (1.967)\tLoss 0.0593 (0.0593)\tPrec@1 98.047 (98.047)\n",
      " * Prec@1 97.480\n",
      "Best prec1 :  97.51999992675782\n",
      "current lr 8.14503e-06\n"
     ]
    },
    {
     "data": {
      "application/vnd.jupyter.widget-view+json": {
       "model_id": "030500f1099b45b38a33cfaf30ebca10",
       "version_major": 2,
       "version_minor": 0
      },
      "text/plain": [
       "  0%|          | 0/157 [00:00<?, ?it/s]"
      ]
     },
     "metadata": {},
     "output_type": "display_data"
    },
    {
     "name": "stdout",
     "output_type": "stream",
     "text": [
      "Epoch: [6][0/157]\tTime 1.707 (1.707)\tData 0.856 (0.856)\tLoss 0.1996 (0.1996)\tPrec@1 93.359 (93.359)\n",
      "Epoch: [6][50/157]\tTime 0.848 (0.865)\tData 0.001 (0.018)\tLoss 0.1574 (0.2103)\tPrec@1 94.922 (92.701)\n",
      "Epoch: [6][100/157]\tTime 0.849 (0.857)\tData 0.001 (0.009)\tLoss 0.2411 (0.2103)\tPrec@1 91.406 (92.690)\n",
      "Epoch: [6][150/157]\tTime 0.848 (0.854)\tData 0.001 (0.007)\tLoss 0.2315 (0.2086)\tPrec@1 92.578 (92.656)\n",
      "Test: [0/20]\tTime 1.972 (1.972)\tLoss 0.0535 (0.0535)\tPrec@1 98.242 (98.242)\n",
      " * Prec@1 97.540\n",
      "Best prec1 :  97.53999992675782\n",
      "current lr 6.89058e-06\n"
     ]
    },
    {
     "data": {
      "application/vnd.jupyter.widget-view+json": {
       "model_id": "86c6326a4acf46c890b8ace6c9689a0e",
       "version_major": 2,
       "version_minor": 0
      },
      "text/plain": [
       "  0%|          | 0/157 [00:00<?, ?it/s]"
      ]
     },
     "metadata": {},
     "output_type": "display_data"
    },
    {
     "name": "stdout",
     "output_type": "stream",
     "text": [
      "Epoch: [7][0/157]\tTime 1.965 (1.965)\tData 1.115 (1.115)\tLoss 0.2148 (0.2148)\tPrec@1 93.359 (93.359)\n",
      "Epoch: [7][50/157]\tTime 0.848 (0.870)\tData 0.001 (0.023)\tLoss 0.2287 (0.1903)\tPrec@1 92.188 (93.551)\n",
      "Epoch: [7][100/157]\tTime 0.849 (0.859)\tData 0.001 (0.012)\tLoss 0.2222 (0.1995)\tPrec@1 92.578 (93.112)\n",
      "Epoch: [7][150/157]\tTime 0.849 (0.856)\tData 0.001 (0.008)\tLoss 0.2005 (0.1972)\tPrec@1 91.797 (93.163)\n",
      "Test: [0/20]\tTime 2.545 (2.545)\tLoss 0.0532 (0.0532)\tPrec@1 98.438 (98.438)\n",
      " * Prec@1 97.530\n",
      "Best prec1 :  97.53999992675782\n",
      "current lr 5.50000e-06\n"
     ]
    },
    {
     "data": {
      "application/vnd.jupyter.widget-view+json": {
       "model_id": "10055ff882a7429b86cae076218b27f4",
       "version_major": 2,
       "version_minor": 0
      },
      "text/plain": [
       "  0%|          | 0/157 [00:00<?, ?it/s]"
      ]
     },
     "metadata": {},
     "output_type": "display_data"
    },
    {
     "name": "stdout",
     "output_type": "stream",
     "text": [
      "Epoch: [8][0/157]\tTime 1.873 (1.873)\tData 1.023 (1.023)\tLoss 0.2026 (0.2026)\tPrec@1 92.969 (92.969)\n",
      "Epoch: [8][50/157]\tTime 0.848 (0.868)\tData 0.001 (0.021)\tLoss 0.2590 (0.1937)\tPrec@1 91.016 (93.061)\n",
      "Epoch: [8][100/157]\tTime 0.849 (0.859)\tData 0.001 (0.011)\tLoss 0.1961 (0.1904)\tPrec@1 92.578 (93.251)\n",
      "Epoch: [8][150/157]\tTime 0.848 (0.855)\tData 0.001 (0.008)\tLoss 0.1446 (0.1908)\tPrec@1 94.531 (93.233)\n",
      "Test: [0/20]\tTime 2.402 (2.402)\tLoss 0.0449 (0.0449)\tPrec@1 98.242 (98.242)\n",
      " * Prec@1 97.530\n",
      "Best prec1 :  97.53999992675782\n",
      "current lr 4.10942e-06\n"
     ]
    },
    {
     "data": {
      "application/vnd.jupyter.widget-view+json": {
       "model_id": "c7ffae6d835243c18751e57b56a67572",
       "version_major": 2,
       "version_minor": 0
      },
      "text/plain": [
       "  0%|          | 0/157 [00:00<?, ?it/s]"
      ]
     },
     "metadata": {},
     "output_type": "display_data"
    },
    {
     "name": "stdout",
     "output_type": "stream",
     "text": [
      "Epoch: [9][0/157]\tTime 1.844 (1.844)\tData 0.993 (0.993)\tLoss 0.2139 (0.2139)\tPrec@1 93.359 (93.359)\n",
      "Epoch: [9][50/157]\tTime 0.849 (0.868)\tData 0.001 (0.020)\tLoss 0.1958 (0.1767)\tPrec@1 93.359 (93.712)\n",
      "Epoch: [9][100/157]\tTime 0.848 (0.858)\tData 0.001 (0.011)\tLoss 0.2048 (0.1771)\tPrec@1 92.188 (93.754)\n",
      "Epoch: [9][150/157]\tTime 0.849 (0.855)\tData 0.001 (0.008)\tLoss 0.1610 (0.1808)\tPrec@1 94.141 (93.667)\n",
      "Test: [0/20]\tTime 2.199 (2.199)\tLoss 0.0425 (0.0425)\tPrec@1 98.828 (98.828)\n",
      " * Prec@1 97.630\n",
      "Best prec1 :  97.62999997558593\n"
     ]
    },
    {
     "data": {
      "text/html": [
       "Finishing last run (ID:2at1x0ti) before initializing another..."
      ],
      "text/plain": [
       "<IPython.core.display.HTML object>"
      ]
     },
     "metadata": {},
     "output_type": "display_data"
    },
    {
     "data": {
      "text/html": [
       "Waiting for W&B process to finish... <strong style=\"color:green\">(success).</strong>"
      ],
      "text/plain": [
       "<IPython.core.display.HTML object>"
      ]
     },
     "metadata": {},
     "output_type": "display_data"
    },
    {
     "data": {
      "application/vnd.jupyter.widget-view+json": {
       "model_id": "",
       "version_major": 2,
       "version_minor": 0
      },
      "text/plain": [
       "VBox(children=(Label(value='1.173 MB of 1.173 MB uploaded (0.000 MB deduped)\\r'), FloatProgress(value=1.0, max…"
      ]
     },
     "metadata": {},
     "output_type": "display_data"
    },
    {
     "data": {
      "text/html": [
       "<style>\n",
       "    table.wandb td:nth-child(1) { padding: 0 10px; text-align: left ; width: auto;} td:nth-child(2) {text-align: left ; width: 100%}\n",
       "    .wandb-row { display: flex; flex-direction: row; flex-wrap: wrap; justify-content: flex-start; width: 100% }\n",
       "    .wandb-col { display: flex; flex-direction: column; flex-basis: 100%; flex: 1; padding: 10px; }\n",
       "    </style>\n",
       "<div class=\"wandb-row\"><div class=\"wandb-col\"><h3>Run history:</h3><br/><table class=\"wandb\"><tr><td>epoch</td><td>▁▂▃▃▄▅▆▆▇█</td></tr><tr><td>lr</td><td>▁▃▆██▇▇▆▅▃</td></tr><tr><td>prec</td><td>▁▄▆▆█▇████</td></tr><tr><td>train_loss</td><td>█▅▄▃▃▂▂▂▁▁</td></tr><tr><td>val_loss</td><td>█▄▃▃▂▂▁▁▂▁</td></tr></table><br/></div><div class=\"wandb-col\"><h3>Run summary:</h3><br/><table class=\"wandb\"><tr><td>epoch</td><td>9</td></tr><tr><td>lr</td><td>0.0</td></tr><tr><td>prec</td><td>97.63</td></tr><tr><td>train_loss</td><td>0.18082</td></tr><tr><td>val_loss</td><td>0.06799</td></tr></table><br/></div></div>"
      ],
      "text/plain": [
       "<IPython.core.display.HTML object>"
      ]
     },
     "metadata": {},
     "output_type": "display_data"
    },
    {
     "data": {
      "text/html": [
       "Synced <strong style=\"color:#cdcd00\">vit_small_k6_nopact</strong>: <a href=\"https://wandb.ai/arutema47/pact_vit_20220617/runs/2at1x0ti\" target=\"_blank\">https://wandb.ai/arutema47/pact_vit_20220617/runs/2at1x0ti</a><br/>Synced 6 W&B file(s), 0 media file(s), 0 artifact file(s) and 0 other file(s)"
      ],
      "text/plain": [
       "<IPython.core.display.HTML object>"
      ]
     },
     "metadata": {},
     "output_type": "display_data"
    },
    {
     "data": {
      "text/html": [
       "Find logs at: <code>./wandb/run-20220617_173409-2at1x0ti/logs</code>"
      ],
      "text/plain": [
       "<IPython.core.display.HTML object>"
      ]
     },
     "metadata": {},
     "output_type": "display_data"
    },
    {
     "data": {
      "text/html": [
       "Successfully finished last run (ID:2at1x0ti). Initializing new run:<br/>"
      ],
      "text/plain": [
       "<IPython.core.display.HTML object>"
      ]
     },
     "metadata": {},
     "output_type": "display_data"
    },
    {
     "data": {
      "text/html": [
       "Tracking run with wandb version 0.12.18"
      ],
      "text/plain": [
       "<IPython.core.display.HTML object>"
      ]
     },
     "metadata": {},
     "output_type": "display_data"
    },
    {
     "data": {
      "text/html": [
       "Run data is saved locally in <code>/media/ken/dsk1/data/quantize_models_sandbox/wandb/run-20220617_175912-4e0uno4n</code>"
      ],
      "text/plain": [
       "<IPython.core.display.HTML object>"
      ]
     },
     "metadata": {},
     "output_type": "display_data"
    },
    {
     "data": {
      "text/html": [
       "Syncing run <strong><a href=\"https://wandb.ai/arutema47/pact_vit_20220617/runs/4e0uno4n\" target=\"_blank\">vit_small_k7_nopact</a></strong> to <a href=\"https://wandb.ai/arutema47/pact_vit_20220617\" target=\"_blank\">Weights & Biases</a> (<a href=\"https://wandb.me/run\" target=\"_blank\">docs</a>)<br/>"
      ],
      "text/plain": [
       "<IPython.core.display.HTML object>"
      ]
     },
     "metadata": {},
     "output_type": "display_data"
    },
    {
     "name": "stdout",
     "output_type": "stream",
     "text": [
      "current lr 1.00000e-06\n"
     ]
    },
    {
     "data": {
      "application/vnd.jupyter.widget-view+json": {
       "model_id": "85dfbca7d8c141cc9aa053c2c979f5ed",
       "version_major": 2,
       "version_minor": 0
      },
      "text/plain": [
       "  0%|          | 0/157 [00:00<?, ?it/s]"
      ]
     },
     "metadata": {},
     "output_type": "display_data"
    },
    {
     "name": "stdout",
     "output_type": "stream",
     "text": [
      "Epoch: [0][0/157]\tTime 1.768 (1.768)\tData 0.920 (0.920)\tLoss 0.3186 (0.3186)\tPrec@1 87.891 (87.891)\n",
      "Epoch: [0][50/157]\tTime 0.848 (0.865)\tData 0.001 (0.019)\tLoss 0.2595 (0.3044)\tPrec@1 89.062 (89.729)\n",
      "Epoch: [0][100/157]\tTime 0.849 (0.857)\tData 0.001 (0.010)\tLoss 0.1953 (0.2915)\tPrec@1 93.359 (90.033)\n",
      "Epoch: [0][150/157]\tTime 0.850 (0.855)\tData 0.001 (0.007)\tLoss 0.2283 (0.2810)\tPrec@1 92.969 (90.405)\n",
      "Test: [0/20]\tTime 2.183 (2.183)\tLoss 0.0692 (0.0692)\tPrec@1 97.656 (97.656)\n",
      " * Prec@1 97.010\n",
      "Best prec1 :  97.0099999633789\n",
      "current lr 4.00000e-06\n"
     ]
    },
    {
     "data": {
      "application/vnd.jupyter.widget-view+json": {
       "model_id": "228bef2a999d46978a72e4331e159746",
       "version_major": 2,
       "version_minor": 0
      },
      "text/plain": [
       "  0%|          | 0/157 [00:00<?, ?it/s]"
      ]
     },
     "metadata": {},
     "output_type": "display_data"
    },
    {
     "name": "stdout",
     "output_type": "stream",
     "text": [
      "Epoch: [1][0/157]\tTime 1.713 (1.713)\tData 0.855 (0.855)\tLoss 0.2600 (0.2600)\tPrec@1 92.188 (92.188)\n",
      "Epoch: [1][50/157]\tTime 0.849 (0.866)\tData 0.001 (0.018)\tLoss 0.2373 (0.2543)\tPrec@1 92.188 (91.115)\n",
      "Epoch: [1][100/157]\tTime 0.849 (0.858)\tData 0.001 (0.010)\tLoss 0.3033 (0.2452)\tPrec@1 88.672 (91.418)\n",
      "Epoch: [1][150/157]\tTime 0.849 (0.855)\tData 0.001 (0.007)\tLoss 0.2255 (0.2436)\tPrec@1 91.797 (91.468)\n",
      "Test: [0/20]\tTime 2.799 (2.799)\tLoss 0.0632 (0.0632)\tPrec@1 98.438 (98.438)\n",
      " * Prec@1 97.380\n",
      "Best prec1 :  97.37999997558593\n",
      "current lr 7.00000e-06\n"
     ]
    },
    {
     "data": {
      "application/vnd.jupyter.widget-view+json": {
       "model_id": "efa733ab54944868a24e109be83dc432",
       "version_major": 2,
       "version_minor": 0
      },
      "text/plain": [
       "  0%|          | 0/157 [00:00<?, ?it/s]"
      ]
     },
     "metadata": {},
     "output_type": "display_data"
    },
    {
     "name": "stdout",
     "output_type": "stream",
     "text": [
      "Epoch: [2][0/157]\tTime 2.078 (2.078)\tData 1.231 (1.231)\tLoss 0.1832 (0.1832)\tPrec@1 93.359 (93.359)\n",
      "Epoch: [2][50/157]\tTime 0.849 (0.873)\tData 0.001 (0.025)\tLoss 0.1989 (0.2257)\tPrec@1 92.969 (91.996)\n",
      "Epoch: [2][100/157]\tTime 0.849 (0.861)\tData 0.001 (0.013)\tLoss 0.2022 (0.2277)\tPrec@1 92.969 (91.917)\n",
      "Epoch: [2][150/157]\tTime 0.849 (0.857)\tData 0.001 (0.009)\tLoss 0.2321 (0.2232)\tPrec@1 93.359 (92.118)\n",
      "Test: [0/20]\tTime 1.982 (1.982)\tLoss 0.0600 (0.0600)\tPrec@1 98.047 (98.047)\n",
      " * Prec@1 97.590\n",
      "Best prec1 :  97.59000002441407\n",
      "current lr 1.00000e-05\n"
     ]
    },
    {
     "data": {
      "application/vnd.jupyter.widget-view+json": {
       "model_id": "74b467b4d3bd41ae85b92f10ed6bf765",
       "version_major": 2,
       "version_minor": 0
      },
      "text/plain": [
       "  0%|          | 0/157 [00:00<?, ?it/s]"
      ]
     },
     "metadata": {},
     "output_type": "display_data"
    },
    {
     "name": "stdout",
     "output_type": "stream",
     "text": [
      "Epoch: [3][0/157]\tTime 2.024 (2.024)\tData 1.175 (1.175)\tLoss 0.3081 (0.3081)\tPrec@1 89.844 (89.844)\n",
      "Epoch: [3][50/157]\tTime 0.850 (0.872)\tData 0.001 (0.024)\tLoss 0.1335 (0.2251)\tPrec@1 96.875 (92.364)\n",
      "Epoch: [3][100/157]\tTime 0.849 (0.861)\tData 0.001 (0.013)\tLoss 0.2099 (0.2204)\tPrec@1 92.188 (92.474)\n",
      "Epoch: [3][150/157]\tTime 0.849 (0.857)\tData 0.001 (0.009)\tLoss 0.2196 (0.2138)\tPrec@1 91.016 (92.594)\n",
      "Test: [0/20]\tTime 1.926 (1.926)\tLoss 0.0566 (0.0566)\tPrec@1 98.047 (98.047)\n",
      " * Prec@1 97.430\n",
      "Best prec1 :  97.59000002441407\n",
      "current lr 9.77975e-06\n"
     ]
    },
    {
     "data": {
      "application/vnd.jupyter.widget-view+json": {
       "model_id": "4ef6faeeaaeb4d0695018b8ccb53f631",
       "version_major": 2,
       "version_minor": 0
      },
      "text/plain": [
       "  0%|          | 0/157 [00:00<?, ?it/s]"
      ]
     },
     "metadata": {},
     "output_type": "display_data"
    },
    {
     "name": "stdout",
     "output_type": "stream",
     "text": [
      "Epoch: [4][0/157]\tTime 2.008 (2.008)\tData 1.158 (1.158)\tLoss 0.1937 (0.1937)\tPrec@1 92.578 (92.578)\n",
      "Epoch: [4][50/157]\tTime 0.849 (0.872)\tData 0.001 (0.024)\tLoss 0.2402 (0.1983)\tPrec@1 93.359 (93.260)\n",
      "Epoch: [4][100/157]\tTime 0.849 (0.861)\tData 0.001 (0.012)\tLoss 0.1634 (0.1985)\tPrec@1 95.703 (93.158)\n",
      "Epoch: [4][150/157]\tTime 0.849 (0.857)\tData 0.001 (0.009)\tLoss 0.2321 (0.1998)\tPrec@1 92.188 (93.101)\n",
      "Test: [0/20]\tTime 2.110 (2.110)\tLoss 0.0449 (0.0449)\tPrec@1 98.828 (98.828)\n",
      " * Prec@1 97.840\n",
      "Best prec1 :  97.83999997558594\n",
      "current lr 9.14058e-06\n"
     ]
    },
    {
     "data": {
      "application/vnd.jupyter.widget-view+json": {
       "model_id": "37fbbfc117bf41c6a0f35e01b1862222",
       "version_major": 2,
       "version_minor": 0
      },
      "text/plain": [
       "  0%|          | 0/157 [00:00<?, ?it/s]"
      ]
     },
     "metadata": {},
     "output_type": "display_data"
    },
    {
     "name": "stdout",
     "output_type": "stream",
     "text": [
      "Epoch: [5][0/157]\tTime 1.777 (1.777)\tData 0.925 (0.925)\tLoss 0.2299 (0.2299)\tPrec@1 90.234 (90.234)\n",
      "Epoch: [5][50/157]\tTime 0.849 (0.867)\tData 0.001 (0.019)\tLoss 0.2019 (0.1940)\tPrec@1 94.141 (93.107)\n",
      "Epoch: [5][100/157]\tTime 0.849 (0.858)\tData 0.001 (0.010)\tLoss 0.1443 (0.1917)\tPrec@1 93.359 (93.232)\n",
      "Epoch: [5][150/157]\tTime 0.849 (0.855)\tData 0.001 (0.007)\tLoss 0.1930 (0.1903)\tPrec@1 94.531 (93.385)\n",
      "Test: [0/20]\tTime 2.073 (2.073)\tLoss 0.0476 (0.0476)\tPrec@1 98.438 (98.438)\n",
      " * Prec@1 97.810\n",
      "Best prec1 :  97.83999997558594\n",
      "current lr 8.14503e-06\n"
     ]
    },
    {
     "data": {
      "application/vnd.jupyter.widget-view+json": {
       "model_id": "75b0a1e0593d4080b2178420d1d331e5",
       "version_major": 2,
       "version_minor": 0
      },
      "text/plain": [
       "  0%|          | 0/157 [00:00<?, ?it/s]"
      ]
     },
     "metadata": {},
     "output_type": "display_data"
    },
    {
     "name": "stdout",
     "output_type": "stream",
     "text": [
      "Epoch: [6][0/157]\tTime 1.942 (1.942)\tData 1.092 (1.092)\tLoss 0.1860 (0.1860)\tPrec@1 94.141 (94.141)\n",
      "Epoch: [6][50/157]\tTime 0.849 (0.870)\tData 0.001 (0.022)\tLoss 0.1717 (0.1845)\tPrec@1 95.703 (93.574)\n",
      "Epoch: [6][100/157]\tTime 0.849 (0.860)\tData 0.001 (0.012)\tLoss 0.1656 (0.1854)\tPrec@1 95.312 (93.646)\n",
      "Epoch: [6][150/157]\tTime 0.849 (0.856)\tData 0.001 (0.008)\tLoss 0.2197 (0.1869)\tPrec@1 93.750 (93.574)\n",
      "Test: [0/20]\tTime 2.290 (2.290)\tLoss 0.0415 (0.0415)\tPrec@1 99.023 (99.023)\n",
      " * Prec@1 97.890\n",
      "Best prec1 :  97.89000003662109\n",
      "current lr 6.89058e-06\n"
     ]
    },
    {
     "data": {
      "application/vnd.jupyter.widget-view+json": {
       "model_id": "f851dab7e5fb4f95982802fee2155232",
       "version_major": 2,
       "version_minor": 0
      },
      "text/plain": [
       "  0%|          | 0/157 [00:00<?, ?it/s]"
      ]
     },
     "metadata": {},
     "output_type": "display_data"
    },
    {
     "name": "stdout",
     "output_type": "stream",
     "text": [
      "Epoch: [7][0/157]\tTime 1.977 (1.977)\tData 1.126 (1.126)\tLoss 0.3140 (0.3140)\tPrec@1 91.016 (91.016)\n",
      "Epoch: [7][50/157]\tTime 0.849 (0.871)\tData 0.001 (0.023)\tLoss 0.1903 (0.1739)\tPrec@1 93.750 (93.919)\n",
      "Epoch: [7][100/157]\tTime 0.849 (0.860)\tData 0.001 (0.012)\tLoss 0.1868 (0.1688)\tPrec@1 94.531 (93.974)\n",
      "Epoch: [7][150/157]\tTime 0.849 (0.856)\tData 0.001 (0.008)\tLoss 0.1916 (0.1686)\tPrec@1 94.922 (94.027)\n",
      "Test: [0/20]\tTime 1.905 (1.905)\tLoss 0.0377 (0.0377)\tPrec@1 98.633 (98.633)\n",
      " * Prec@1 97.930\n",
      "Best prec1 :  97.93000002441406\n",
      "current lr 5.50000e-06\n"
     ]
    },
    {
     "data": {
      "application/vnd.jupyter.widget-view+json": {
       "model_id": "da9c7791649d434b87cc9a166dd9c102",
       "version_major": 2,
       "version_minor": 0
      },
      "text/plain": [
       "  0%|          | 0/157 [00:00<?, ?it/s]"
      ]
     },
     "metadata": {},
     "output_type": "display_data"
    },
    {
     "name": "stdout",
     "output_type": "stream",
     "text": [
      "Epoch: [8][0/157]\tTime 1.758 (1.758)\tData 0.901 (0.901)\tLoss 0.1002 (0.1002)\tPrec@1 95.703 (95.703)\n",
      "Epoch: [8][50/157]\tTime 0.850 (0.867)\tData 0.001 (0.019)\tLoss 0.1927 (0.1683)\tPrec@1 93.750 (94.378)\n",
      "Epoch: [8][100/157]\tTime 0.850 (0.858)\tData 0.001 (0.010)\tLoss 0.1761 (0.1668)\tPrec@1 92.578 (94.206)\n",
      "Epoch: [8][150/157]\tTime 0.849 (0.855)\tData 0.001 (0.007)\tLoss 0.1132 (0.1630)\tPrec@1 95.312 (94.402)\n",
      "Test: [0/20]\tTime 2.426 (2.426)\tLoss 0.0404 (0.0404)\tPrec@1 99.023 (99.023)\n",
      " * Prec@1 98.050\n",
      "Best prec1 :  98.0499999267578\n",
      "current lr 4.10942e-06\n"
     ]
    },
    {
     "data": {
      "application/vnd.jupyter.widget-view+json": {
       "model_id": "f225837e5fe540aa99f61f095b5a0b2f",
       "version_major": 2,
       "version_minor": 0
      },
      "text/plain": [
       "  0%|          | 0/157 [00:00<?, ?it/s]"
      ]
     },
     "metadata": {},
     "output_type": "display_data"
    },
    {
     "name": "stdout",
     "output_type": "stream",
     "text": [
      "Epoch: [9][0/157]\tTime 1.982 (1.982)\tData 1.131 (1.131)\tLoss 0.1858 (0.1858)\tPrec@1 92.188 (92.188)\n",
      "Epoch: [9][50/157]\tTime 0.849 (0.871)\tData 0.001 (0.023)\tLoss 0.1796 (0.1634)\tPrec@1 93.750 (94.118)\n",
      "Epoch: [9][100/157]\tTime 0.850 (0.860)\tData 0.001 (0.012)\tLoss 0.1289 (0.1581)\tPrec@1 96.094 (94.396)\n",
      "Epoch: [9][150/157]\tTime 0.849 (0.857)\tData 0.001 (0.009)\tLoss 0.2036 (0.1568)\tPrec@1 92.969 (94.417)\n",
      "Test: [0/20]\tTime 2.569 (2.569)\tLoss 0.0376 (0.0376)\tPrec@1 98.828 (98.828)\n",
      " * Prec@1 98.030\n",
      "Best prec1 :  98.0499999267578\n"
     ]
    },
    {
     "data": {
      "text/html": [
       "Finishing last run (ID:4e0uno4n) before initializing another..."
      ],
      "text/plain": [
       "<IPython.core.display.HTML object>"
      ]
     },
     "metadata": {},
     "output_type": "display_data"
    },
    {
     "data": {
      "text/html": [
       "Waiting for W&B process to finish... <strong style=\"color:green\">(success).</strong>"
      ],
      "text/plain": [
       "<IPython.core.display.HTML object>"
      ]
     },
     "metadata": {},
     "output_type": "display_data"
    },
    {
     "data": {
      "application/vnd.jupyter.widget-view+json": {
       "model_id": "",
       "version_major": 2,
       "version_minor": 0
      },
      "text/plain": [
       "VBox(children=(Label(value='1.188 MB of 1.188 MB uploaded (0.000 MB deduped)\\r'), FloatProgress(value=1.0, max…"
      ]
     },
     "metadata": {},
     "output_type": "display_data"
    },
    {
     "data": {
      "text/html": [
       "<style>\n",
       "    table.wandb td:nth-child(1) { padding: 0 10px; text-align: left ; width: auto;} td:nth-child(2) {text-align: left ; width: 100%}\n",
       "    .wandb-row { display: flex; flex-direction: row; flex-wrap: wrap; justify-content: flex-start; width: 100% }\n",
       "    .wandb-col { display: flex; flex-direction: column; flex-basis: 100%; flex: 1; padding: 10px; }\n",
       "    </style>\n",
       "<div class=\"wandb-row\"><div class=\"wandb-col\"><h3>Run history:</h3><br/><table class=\"wandb\"><tr><td>epoch</td><td>▁▂▃▃▄▅▆▆▇█</td></tr><tr><td>lr</td><td>▁▃▆██▇▇▆▅▃</td></tr><tr><td>prec</td><td>▁▃▅▄▇▆▇▇██</td></tr><tr><td>train_loss</td><td>█▆▅▄▃▃▃▂▁▁</td></tr><tr><td>val_loss</td><td>█▅▄▃▁▂▂▁▁▁</td></tr></table><br/></div><div class=\"wandb-col\"><h3>Run summary:</h3><br/><table class=\"wandb\"><tr><td>epoch</td><td>9</td></tr><tr><td>lr</td><td>0.0</td></tr><tr><td>prec</td><td>98.03</td></tr><tr><td>train_loss</td><td>0.15787</td></tr><tr><td>val_loss</td><td>0.06262</td></tr></table><br/></div></div>"
      ],
      "text/plain": [
       "<IPython.core.display.HTML object>"
      ]
     },
     "metadata": {},
     "output_type": "display_data"
    },
    {
     "data": {
      "text/html": [
       "Synced <strong style=\"color:#cdcd00\">vit_small_k7_nopact</strong>: <a href=\"https://wandb.ai/arutema47/pact_vit_20220617/runs/4e0uno4n\" target=\"_blank\">https://wandb.ai/arutema47/pact_vit_20220617/runs/4e0uno4n</a><br/>Synced 6 W&B file(s), 0 media file(s), 0 artifact file(s) and 1 other file(s)"
      ],
      "text/plain": [
       "<IPython.core.display.HTML object>"
      ]
     },
     "metadata": {},
     "output_type": "display_data"
    },
    {
     "data": {
      "text/html": [
       "Find logs at: <code>./wandb/run-20220617_175912-4e0uno4n/logs</code>"
      ],
      "text/plain": [
       "<IPython.core.display.HTML object>"
      ]
     },
     "metadata": {},
     "output_type": "display_data"
    },
    {
     "data": {
      "text/html": [
       "Successfully finished last run (ID:4e0uno4n). Initializing new run:<br/>"
      ],
      "text/plain": [
       "<IPython.core.display.HTML object>"
      ]
     },
     "metadata": {},
     "output_type": "display_data"
    },
    {
     "data": {
      "text/html": [
       "Tracking run with wandb version 0.12.18"
      ],
      "text/plain": [
       "<IPython.core.display.HTML object>"
      ]
     },
     "metadata": {},
     "output_type": "display_data"
    },
    {
     "data": {
      "text/html": [
       "Run data is saved locally in <code>/media/ken/dsk1/data/quantize_models_sandbox/wandb/run-20220617_182416-dv40hx6c</code>"
      ],
      "text/plain": [
       "<IPython.core.display.HTML object>"
      ]
     },
     "metadata": {},
     "output_type": "display_data"
    },
    {
     "data": {
      "text/html": [
       "Syncing run <strong><a href=\"https://wandb.ai/arutema47/pact_vit_20220617/runs/dv40hx6c\" target=\"_blank\">vit_small_k8_nopact</a></strong> to <a href=\"https://wandb.ai/arutema47/pact_vit_20220617\" target=\"_blank\">Weights & Biases</a> (<a href=\"https://wandb.me/run\" target=\"_blank\">docs</a>)<br/>"
      ],
      "text/plain": [
       "<IPython.core.display.HTML object>"
      ]
     },
     "metadata": {},
     "output_type": "display_data"
    },
    {
     "name": "stdout",
     "output_type": "stream",
     "text": [
      "current lr 1.00000e-06\n"
     ]
    },
    {
     "data": {
      "application/vnd.jupyter.widget-view+json": {
       "model_id": "a8b63c3c91d1492a8c4a2e8beb7045df",
       "version_major": 2,
       "version_minor": 0
      },
      "text/plain": [
       "  0%|          | 0/157 [00:00<?, ?it/s]"
      ]
     },
     "metadata": {},
     "output_type": "display_data"
    },
    {
     "name": "stdout",
     "output_type": "stream",
     "text": [
      "Epoch: [0][0/157]\tTime 1.639 (1.639)\tData 0.788 (0.788)\tLoss 0.2578 (0.2578)\tPrec@1 91.016 (91.016)\n",
      "Epoch: [0][50/157]\tTime 0.849 (0.863)\tData 0.001 (0.017)\tLoss 0.2458 (0.2127)\tPrec@1 91.406 (92.387)\n",
      "Epoch: [0][100/157]\tTime 0.850 (0.856)\tData 0.001 (0.009)\tLoss 0.2386 (0.2132)\tPrec@1 92.578 (92.462)\n",
      "Epoch: [0][150/157]\tTime 0.851 (0.854)\tData 0.001 (0.006)\tLoss 0.1894 (0.2139)\tPrec@1 94.141 (92.498)\n",
      "Test: [0/20]\tTime 2.176 (2.176)\tLoss 0.0425 (0.0425)\tPrec@1 98.438 (98.438)\n",
      " * Prec@1 97.700\n",
      "Best prec1 :  97.69999992675781\n",
      "current lr 4.00000e-06\n"
     ]
    },
    {
     "data": {
      "application/vnd.jupyter.widget-view+json": {
       "model_id": "2e36b05b3847400e9da48774108eef6f",
       "version_major": 2,
       "version_minor": 0
      },
      "text/plain": [
       "  0%|          | 0/157 [00:00<?, ?it/s]"
      ]
     },
     "metadata": {},
     "output_type": "display_data"
    },
    {
     "name": "stdout",
     "output_type": "stream",
     "text": [
      "Epoch: [1][0/157]\tTime 2.057 (2.057)\tData 1.207 (1.207)\tLoss 0.2237 (0.2237)\tPrec@1 93.359 (93.359)\n",
      "Epoch: [1][50/157]\tTime 0.850 (0.874)\tData 0.001 (0.025)\tLoss 0.1723 (0.2137)\tPrec@1 95.703 (92.747)\n",
      "Epoch: [1][100/157]\tTime 0.850 (0.862)\tData 0.001 (0.013)\tLoss 0.2341 (0.2119)\tPrec@1 91.797 (92.686)\n",
      "Epoch: [1][150/157]\tTime 0.849 (0.858)\tData 0.001 (0.009)\tLoss 0.1741 (0.2088)\tPrec@1 92.578 (92.788)\n",
      "Test: [0/20]\tTime 2.377 (2.377)\tLoss 0.0471 (0.0471)\tPrec@1 98.438 (98.438)\n",
      " * Prec@1 97.760\n",
      "Best prec1 :  97.76000002441407\n",
      "current lr 7.00000e-06\n"
     ]
    },
    {
     "data": {
      "application/vnd.jupyter.widget-view+json": {
       "model_id": "8dc9a0824dee466aaaa875da39534730",
       "version_major": 2,
       "version_minor": 0
      },
      "text/plain": [
       "  0%|          | 0/157 [00:00<?, ?it/s]"
      ]
     },
     "metadata": {},
     "output_type": "display_data"
    },
    {
     "name": "stdout",
     "output_type": "stream",
     "text": [
      "Epoch: [2][0/157]\tTime 1.952 (1.952)\tData 1.100 (1.100)\tLoss 0.2452 (0.2452)\tPrec@1 91.797 (91.797)\n",
      "Epoch: [2][50/157]\tTime 0.850 (0.871)\tData 0.001 (0.023)\tLoss 0.2073 (0.2047)\tPrec@1 93.359 (92.693)\n",
      "Epoch: [2][100/157]\tTime 0.850 (0.860)\tData 0.001 (0.012)\tLoss 0.2224 (0.2042)\tPrec@1 91.406 (92.934)\n",
      "Epoch: [2][150/157]\tTime 0.850 (0.857)\tData 0.001 (0.008)\tLoss 0.2327 (0.2029)\tPrec@1 92.969 (92.904)\n",
      "Test: [0/20]\tTime 1.991 (1.991)\tLoss 0.0424 (0.0424)\tPrec@1 98.633 (98.633)\n",
      " * Prec@1 97.910\n",
      "Best prec1 :  97.9099999267578\n",
      "current lr 1.00000e-05\n"
     ]
    },
    {
     "data": {
      "application/vnd.jupyter.widget-view+json": {
       "model_id": "9805e5ec0b3a4e8face87cad8b36c32a",
       "version_major": 2,
       "version_minor": 0
      },
      "text/plain": [
       "  0%|          | 0/157 [00:00<?, ?it/s]"
      ]
     },
     "metadata": {},
     "output_type": "display_data"
    },
    {
     "name": "stdout",
     "output_type": "stream",
     "text": [
      "Epoch: [3][0/157]\tTime 2.035 (2.035)\tData 1.186 (1.186)\tLoss 0.1438 (0.1438)\tPrec@1 94.141 (94.141)\n",
      "Epoch: [3][50/157]\tTime 0.850 (0.873)\tData 0.001 (0.024)\tLoss 0.2381 (0.1909)\tPrec@1 90.625 (93.137)\n",
      "Epoch: [3][100/157]\tTime 0.849 (0.861)\tData 0.001 (0.013)\tLoss 0.2267 (0.1925)\tPrec@1 92.188 (93.162)\n",
      "Epoch: [3][150/157]\tTime 0.849 (0.857)\tData 0.001 (0.009)\tLoss 0.1828 (0.1940)\tPrec@1 94.141 (93.142)\n",
      "Test: [0/20]\tTime 2.423 (2.423)\tLoss 0.0461 (0.0461)\tPrec@1 98.828 (98.828)\n",
      " * Prec@1 97.860\n",
      "Best prec1 :  97.9099999267578\n",
      "current lr 9.77975e-06\n"
     ]
    },
    {
     "data": {
      "application/vnd.jupyter.widget-view+json": {
       "model_id": "3ad4ab2a4063482290356bf3c58ac913",
       "version_major": 2,
       "version_minor": 0
      },
      "text/plain": [
       "  0%|          | 0/157 [00:00<?, ?it/s]"
      ]
     },
     "metadata": {},
     "output_type": "display_data"
    },
    {
     "name": "stdout",
     "output_type": "stream",
     "text": [
      "Epoch: [4][0/157]\tTime 1.869 (1.869)\tData 1.018 (1.018)\tLoss 0.1321 (0.1321)\tPrec@1 94.922 (94.922)\n",
      "Epoch: [4][50/157]\tTime 0.850 (0.869)\tData 0.001 (0.021)\tLoss 0.1552 (0.1869)\tPrec@1 94.141 (93.589)\n",
      "Epoch: [4][100/157]\tTime 0.850 (0.860)\tData 0.001 (0.011)\tLoss 0.2365 (0.1825)\tPrec@1 89.453 (93.758)\n",
      "Epoch: [4][150/157]\tTime 0.849 (0.856)\tData 0.001 (0.008)\tLoss 0.2370 (0.1825)\tPrec@1 91.406 (93.652)\n",
      "Test: [0/20]\tTime 2.147 (2.147)\tLoss 0.0419 (0.0419)\tPrec@1 98.828 (98.828)\n",
      " * Prec@1 97.930\n",
      "Best prec1 :  97.92999987792969\n",
      "current lr 9.14058e-06\n"
     ]
    },
    {
     "data": {
      "application/vnd.jupyter.widget-view+json": {
       "model_id": "9a00bdade9ee4be2b893ab3a565204fd",
       "version_major": 2,
       "version_minor": 0
      },
      "text/plain": [
       "  0%|          | 0/157 [00:00<?, ?it/s]"
      ]
     },
     "metadata": {},
     "output_type": "display_data"
    },
    {
     "name": "stdout",
     "output_type": "stream",
     "text": [
      "Epoch: [5][0/157]\tTime 1.813 (1.813)\tData 0.956 (0.956)\tLoss 0.2030 (0.2030)\tPrec@1 91.797 (91.797)\n",
      "Epoch: [5][50/157]\tTime 0.850 (0.868)\tData 0.001 (0.020)\tLoss 0.1657 (0.1731)\tPrec@1 94.922 (93.804)\n",
      "Epoch: [5][100/157]\tTime 0.849 (0.859)\tData 0.001 (0.010)\tLoss 0.2083 (0.1720)\tPrec@1 93.359 (93.909)\n",
      "Epoch: [5][150/157]\tTime 0.849 (0.856)\tData 0.001 (0.007)\tLoss 0.2105 (0.1728)\tPrec@1 92.578 (93.947)\n",
      "Test: [0/20]\tTime 2.722 (2.722)\tLoss 0.0303 (0.0303)\tPrec@1 98.828 (98.828)\n",
      " * Prec@1 98.030\n",
      "Best prec1 :  98.02999987792968\n",
      "current lr 8.14503e-06\n"
     ]
    },
    {
     "data": {
      "application/vnd.jupyter.widget-view+json": {
       "model_id": "3472d56d6b4d45579b2fc7a524acc94d",
       "version_major": 2,
       "version_minor": 0
      },
      "text/plain": [
       "  0%|          | 0/157 [00:00<?, ?it/s]"
      ]
     },
     "metadata": {},
     "output_type": "display_data"
    },
    {
     "name": "stdout",
     "output_type": "stream",
     "text": [
      "Epoch: [6][0/157]\tTime 1.736 (1.736)\tData 0.884 (0.884)\tLoss 0.1624 (0.1624)\tPrec@1 94.141 (94.141)\n",
      "Epoch: [6][50/157]\tTime 0.850 (0.867)\tData 0.001 (0.018)\tLoss 0.1421 (0.1623)\tPrec@1 96.094 (94.401)\n",
      "Epoch: [6][100/157]\tTime 0.850 (0.858)\tData 0.001 (0.010)\tLoss 0.1976 (0.1642)\tPrec@1 92.969 (94.388)\n",
      "Epoch: [6][150/157]\tTime 0.849 (0.855)\tData 0.001 (0.007)\tLoss 0.1476 (0.1631)\tPrec@1 96.484 (94.350)\n",
      "Test: [0/20]\tTime 2.239 (2.239)\tLoss 0.0311 (0.0311)\tPrec@1 99.023 (99.023)\n",
      " * Prec@1 98.070\n",
      "Best prec1 :  98.06999987792969\n",
      "current lr 6.89058e-06\n"
     ]
    },
    {
     "data": {
      "application/vnd.jupyter.widget-view+json": {
       "model_id": "91b82a96692749ae9040f0eb29b3a156",
       "version_major": 2,
       "version_minor": 0
      },
      "text/plain": [
       "  0%|          | 0/157 [00:00<?, ?it/s]"
      ]
     },
     "metadata": {},
     "output_type": "display_data"
    },
    {
     "name": "stdout",
     "output_type": "stream",
     "text": [
      "Epoch: [7][0/157]\tTime 1.958 (1.958)\tData 1.106 (1.106)\tLoss 0.1406 (0.1406)\tPrec@1 94.922 (94.922)\n",
      "Epoch: [7][50/157]\tTime 0.849 (0.871)\tData 0.001 (0.023)\tLoss 0.1670 (0.1540)\tPrec@1 94.922 (94.562)\n",
      "Epoch: [7][100/157]\tTime 0.850 (0.861)\tData 0.001 (0.012)\tLoss 0.1848 (0.1562)\tPrec@1 94.141 (94.489)\n",
      "Epoch: [7][150/157]\tTime 0.850 (0.857)\tData 0.001 (0.008)\tLoss 0.1175 (0.1578)\tPrec@1 96.094 (94.461)\n",
      "Test: [0/20]\tTime 2.226 (2.226)\tLoss 0.0346 (0.0346)\tPrec@1 98.828 (98.828)\n",
      " * Prec@1 98.090\n",
      "Best prec1 :  98.09000003662109\n",
      "current lr 5.50000e-06\n"
     ]
    },
    {
     "data": {
      "application/vnd.jupyter.widget-view+json": {
       "model_id": "7bc80d89f90f4101871734d48b36bd77",
       "version_major": 2,
       "version_minor": 0
      },
      "text/plain": [
       "  0%|          | 0/157 [00:00<?, ?it/s]"
      ]
     },
     "metadata": {},
     "output_type": "display_data"
    },
    {
     "name": "stdout",
     "output_type": "stream",
     "text": [
      "Epoch: [8][0/157]\tTime 1.894 (1.894)\tData 1.045 (1.045)\tLoss 0.1087 (0.1087)\tPrec@1 95.703 (95.703)\n",
      "Epoch: [8][50/157]\tTime 0.849 (0.870)\tData 0.001 (0.021)\tLoss 0.1854 (0.1534)\tPrec@1 92.969 (94.876)\n",
      "Epoch: [8][100/157]\tTime 0.849 (0.860)\tData 0.001 (0.011)\tLoss 0.1110 (0.1508)\tPrec@1 95.703 (94.872)\n",
      "Epoch: [8][150/157]\tTime 0.849 (0.856)\tData 0.001 (0.008)\tLoss 0.1461 (0.1539)\tPrec@1 95.312 (94.738)\n",
      "Test: [0/20]\tTime 2.417 (2.417)\tLoss 0.0334 (0.0334)\tPrec@1 98.828 (98.828)\n",
      " * Prec@1 98.080\n",
      "Best prec1 :  98.09000003662109\n",
      "current lr 4.10942e-06\n"
     ]
    },
    {
     "data": {
      "application/vnd.jupyter.widget-view+json": {
       "model_id": "62584e8d60af42419e06d2406bcc8bb4",
       "version_major": 2,
       "version_minor": 0
      },
      "text/plain": [
       "  0%|          | 0/157 [00:00<?, ?it/s]"
      ]
     },
     "metadata": {},
     "output_type": "display_data"
    },
    {
     "name": "stdout",
     "output_type": "stream",
     "text": [
      "Epoch: [9][0/157]\tTime 2.048 (2.048)\tData 1.199 (1.199)\tLoss 0.1661 (0.1661)\tPrec@1 94.141 (94.141)\n",
      "Epoch: [9][50/157]\tTime 0.850 (0.873)\tData 0.001 (0.025)\tLoss 0.1851 (0.1506)\tPrec@1 94.531 (94.868)\n",
      "Epoch: [9][100/157]\tTime 0.850 (0.861)\tData 0.001 (0.013)\tLoss 0.1575 (0.1492)\tPrec@1 94.531 (94.891)\n",
      "Epoch: [9][150/157]\tTime 0.850 (0.857)\tData 0.001 (0.009)\tLoss 0.1447 (0.1474)\tPrec@1 96.094 (94.932)\n",
      "Test: [0/20]\tTime 2.187 (2.187)\tLoss 0.0320 (0.0320)\tPrec@1 99.023 (99.023)\n",
      " * Prec@1 98.140\n",
      "Best prec1 :  98.14000003662109\n"
     ]
    },
    {
     "data": {
      "text/html": [
       "Finishing last run (ID:dv40hx6c) before initializing another..."
      ],
      "text/plain": [
       "<IPython.core.display.HTML object>"
      ]
     },
     "metadata": {},
     "output_type": "display_data"
    },
    {
     "data": {
      "text/html": [
       "Waiting for W&B process to finish... <strong style=\"color:green\">(success).</strong>"
      ],
      "text/plain": [
       "<IPython.core.display.HTML object>"
      ]
     },
     "metadata": {},
     "output_type": "display_data"
    },
    {
     "data": {
      "application/vnd.jupyter.widget-view+json": {
       "model_id": "",
       "version_major": 2,
       "version_minor": 0
      },
      "text/plain": [
       "VBox(children=(Label(value='1.203 MB of 1.203 MB uploaded (0.000 MB deduped)\\r'), FloatProgress(value=1.0, max…"
      ]
     },
     "metadata": {},
     "output_type": "display_data"
    },
    {
     "data": {
      "text/html": [
       "<style>\n",
       "    table.wandb td:nth-child(1) { padding: 0 10px; text-align: left ; width: auto;} td:nth-child(2) {text-align: left ; width: 100%}\n",
       "    .wandb-row { display: flex; flex-direction: row; flex-wrap: wrap; justify-content: flex-start; width: 100% }\n",
       "    .wandb-col { display: flex; flex-direction: column; flex-basis: 100%; flex: 1; padding: 10px; }\n",
       "    </style>\n",
       "<div class=\"wandb-row\"><div class=\"wandb-col\"><h3>Run history:</h3><br/><table class=\"wandb\"><tr><td>epoch</td><td>▁▂▃▃▄▅▆▆▇█</td></tr><tr><td>lr</td><td>▁▃▆██▇▇▆▅▃</td></tr><tr><td>prec</td><td>▁▂▄▄▅▆▇▇▇█</td></tr><tr><td>train_loss</td><td>██▇▆▅▄▃▂▂▁</td></tr><tr><td>val_loss</td><td>██▆▆▅▂▁▁▁▁</td></tr></table><br/></div><div class=\"wandb-col\"><h3>Run summary:</h3><br/><table class=\"wandb\"><tr><td>epoch</td><td>9</td></tr><tr><td>lr</td><td>0.0</td></tr><tr><td>prec</td><td>98.14</td></tr><tr><td>train_loss</td><td>0.14764</td></tr><tr><td>val_loss</td><td>0.0578</td></tr></table><br/></div></div>"
      ],
      "text/plain": [
       "<IPython.core.display.HTML object>"
      ]
     },
     "metadata": {},
     "output_type": "display_data"
    },
    {
     "data": {
      "text/html": [
       "Synced <strong style=\"color:#cdcd00\">vit_small_k8_nopact</strong>: <a href=\"https://wandb.ai/arutema47/pact_vit_20220617/runs/dv40hx6c\" target=\"_blank\">https://wandb.ai/arutema47/pact_vit_20220617/runs/dv40hx6c</a><br/>Synced 6 W&B file(s), 0 media file(s), 0 artifact file(s) and 0 other file(s)"
      ],
      "text/plain": [
       "<IPython.core.display.HTML object>"
      ]
     },
     "metadata": {},
     "output_type": "display_data"
    },
    {
     "data": {
      "text/html": [
       "Find logs at: <code>./wandb/run-20220617_182416-dv40hx6c/logs</code>"
      ],
      "text/plain": [
       "<IPython.core.display.HTML object>"
      ]
     },
     "metadata": {},
     "output_type": "display_data"
    },
    {
     "data": {
      "text/html": [
       "Successfully finished last run (ID:dv40hx6c). Initializing new run:<br/>"
      ],
      "text/plain": [
       "<IPython.core.display.HTML object>"
      ]
     },
     "metadata": {},
     "output_type": "display_data"
    },
    {
     "data": {
      "text/html": [
       "Tracking run with wandb version 0.12.18"
      ],
      "text/plain": [
       "<IPython.core.display.HTML object>"
      ]
     },
     "metadata": {},
     "output_type": "display_data"
    },
    {
     "data": {
      "text/html": [
       "Run data is saved locally in <code>/media/ken/dsk1/data/quantize_models_sandbox/wandb/run-20220617_184924-1h0eys1n</code>"
      ],
      "text/plain": [
       "<IPython.core.display.HTML object>"
      ]
     },
     "metadata": {},
     "output_type": "display_data"
    },
    {
     "data": {
      "text/html": [
       "Syncing run <strong><a href=\"https://wandb.ai/arutema47/pact_vit_20220617/runs/1h0eys1n\" target=\"_blank\">vit_small_k4_pact</a></strong> to <a href=\"https://wandb.ai/arutema47/pact_vit_20220617\" target=\"_blank\">Weights & Biases</a> (<a href=\"https://wandb.me/run\" target=\"_blank\">docs</a>)<br/>"
      ],
      "text/plain": [
       "<IPython.core.display.HTML object>"
      ]
     },
     "metadata": {},
     "output_type": "display_data"
    },
    {
     "name": "stdout",
     "output_type": "stream",
     "text": [
      "current lr 1.00000e-06\n"
     ]
    },
    {
     "data": {
      "application/vnd.jupyter.widget-view+json": {
       "model_id": "53a9db203521462f9609c9876e8ff67f",
       "version_major": 2,
       "version_minor": 0
      },
      "text/plain": [
       "  0%|          | 0/157 [00:00<?, ?it/s]"
      ]
     },
     "metadata": {},
     "output_type": "display_data"
    },
    {
     "name": "stdout",
     "output_type": "stream",
     "text": [
      "Epoch: [0][0/157]\tTime 1.811 (1.811)\tData 0.943 (0.943)\tLoss 2.8978 (2.8978)\tPrec@1 9.375 (9.375)\n",
      "Epoch: [0][50/157]\tTime 0.801 (0.820)\tData 0.001 (0.020)\tLoss 2.5828 (2.7353)\tPrec@1 15.625 (12.010)\n",
      "Epoch: [0][100/157]\tTime 0.803 (0.811)\tData 0.001 (0.010)\tLoss 2.4656 (2.6441)\tPrec@1 13.281 (12.365)\n",
      "Epoch: [0][150/157]\tTime 0.803 (0.808)\tData 0.001 (0.007)\tLoss 2.4059 (2.5789)\tPrec@1 16.016 (13.297)\n",
      "Test: [0/20]\tTime 2.900 (2.900)\tLoss 2.1817 (2.1817)\tPrec@1 19.922 (19.922)\n",
      " * Prec@1 18.570\n",
      "blocks.0.attn.qkv.alpha 1.9998338222503662\n",
      "blocks.0.attn.proj.alpha 1.9998502731323242\n",
      "blocks.1.attn.qkv.alpha 1.9998304843902588\n",
      "blocks.1.attn.proj.alpha 1.9998468160629272\n",
      "blocks.2.attn.qkv.alpha 1.9998364448547363\n",
      "blocks.2.attn.proj.alpha 1.9998502731323242\n",
      "blocks.3.attn.qkv.alpha 1.999841570854187\n",
      "blocks.3.attn.proj.alpha 1.9998502731323242\n",
      "blocks.4.attn.qkv.alpha 1.9998502731323242\n",
      "blocks.4.attn.proj.alpha 1.9998502731323242\n",
      "blocks.5.attn.qkv.alpha 1.9998366832733154\n",
      "blocks.5.attn.proj.alpha 1.9998502731323242\n",
      "blocks.6.attn.qkv.alpha 1.9998728036880493\n",
      "blocks.6.attn.proj.alpha 1.9998502731323242\n",
      "blocks.7.attn.qkv.alpha 1.9998619556427002\n",
      "blocks.7.attn.proj.alpha 1.9998502731323242\n",
      "blocks.8.attn.qkv.alpha 1.9998679161071777\n",
      "blocks.8.attn.proj.alpha 1.9998502731323242\n",
      "blocks.9.attn.qkv.alpha 1.9998552799224854\n",
      "blocks.9.attn.proj.alpha 1.9998502731323242\n",
      "blocks.10.attn.qkv.alpha 1.9998579025268555\n",
      "blocks.10.attn.proj.alpha 1.9998502731323242\n",
      "blocks.11.attn.qkv.alpha 1.9998643398284912\n",
      "blocks.11.attn.proj.alpha 1.9998502731323242\n",
      "Best prec1 :  18.569999984741212\n",
      "current lr 4.00000e-06\n"
     ]
    },
    {
     "data": {
      "application/vnd.jupyter.widget-view+json": {
       "model_id": "01482c1a717e4aca8608012b0852e3ad",
       "version_major": 2,
       "version_minor": 0
      },
      "text/plain": [
       "  0%|          | 0/157 [00:00<?, ?it/s]"
      ]
     },
     "metadata": {},
     "output_type": "display_data"
    },
    {
     "name": "stdout",
     "output_type": "stream",
     "text": [
      "Epoch: [1][0/157]\tTime 1.903 (1.903)\tData 1.009 (1.009)\tLoss 2.4281 (2.4281)\tPrec@1 15.625 (15.625)\n",
      "Epoch: [1][50/157]\tTime 0.802 (0.823)\tData 0.001 (0.021)\tLoss 2.3004 (2.3321)\tPrec@1 19.922 (21.392)\n",
      "Epoch: [1][100/157]\tTime 0.803 (0.813)\tData 0.001 (0.011)\tLoss 2.1563 (2.2734)\tPrec@1 27.344 (23.252)\n",
      "Epoch: [1][150/157]\tTime 0.803 (0.810)\tData 0.001 (0.008)\tLoss 2.1499 (2.2313)\tPrec@1 27.344 (24.715)\n",
      "Test: [0/20]\tTime 9.512 (9.512)\tLoss 1.8547 (1.8547)\tPrec@1 32.422 (32.422)\n",
      " * Prec@1 29.780\n",
      "blocks.0.attn.qkv.alpha 1.9991487264633179\n",
      "blocks.0.attn.proj.alpha 1.9992139339447021\n",
      "blocks.1.attn.qkv.alpha 1.9990876913070679\n",
      "blocks.1.attn.proj.alpha 1.9992276430130005\n",
      "blocks.2.attn.qkv.alpha 1.9992042779922485\n",
      "blocks.2.attn.proj.alpha 1.9992284774780273\n",
      "blocks.3.attn.qkv.alpha 1.9992057085037231\n",
      "blocks.3.attn.proj.alpha 1.9992139339447021\n",
      "blocks.4.attn.qkv.alpha 1.9992603063583374\n",
      "blocks.4.attn.proj.alpha 1.9992139339447021\n",
      "blocks.5.attn.qkv.alpha 1.9991636276245117\n",
      "blocks.5.attn.proj.alpha 1.9992139339447021\n",
      "blocks.6.attn.qkv.alpha 1.9994807243347168\n",
      "blocks.6.attn.proj.alpha 1.9992139339447021\n",
      "blocks.7.attn.qkv.alpha 1.9993773698806763\n",
      "blocks.7.attn.proj.alpha 1.9992139339447021\n",
      "blocks.8.attn.qkv.alpha 1.9990925788879395\n",
      "blocks.8.attn.proj.alpha 1.9992139339447021\n",
      "blocks.9.attn.qkv.alpha 1.9993926286697388\n",
      "blocks.9.attn.proj.alpha 1.9992139339447021\n",
      "blocks.10.attn.qkv.alpha 1.999409556388855\n",
      "blocks.10.attn.proj.alpha 1.9992139339447021\n",
      "blocks.11.attn.qkv.alpha 1.9993809461593628\n",
      "blocks.11.attn.proj.alpha 1.9992164373397827\n",
      "Best prec1 :  29.78\n",
      "current lr 7.00000e-06\n"
     ]
    },
    {
     "data": {
      "application/vnd.jupyter.widget-view+json": {
       "model_id": "97b2946c68144403af3b5b8d7057b157",
       "version_major": 2,
       "version_minor": 0
      },
      "text/plain": [
       "  0%|          | 0/157 [00:00<?, ?it/s]"
      ]
     },
     "metadata": {},
     "output_type": "display_data"
    },
    {
     "name": "stdout",
     "output_type": "stream",
     "text": [
      "Epoch: [2][0/157]\tTime 2.010 (2.010)\tData 1.142 (1.142)\tLoss 2.1567 (2.1567)\tPrec@1 25.781 (25.781)\n"
     ]
    },
    {
     "name": "stderr",
     "output_type": "stream",
     "text": [
      "IOPub message rate exceeded.\n",
      "The notebook server will temporarily stop sending output\n",
      "to the client in order to avoid crashing it.\n",
      "To change this limit, set the config variable\n",
      "`--NotebookApp.iopub_msg_rate_limit`.\n",
      "\n",
      "Current values:\n",
      "NotebookApp.iopub_msg_rate_limit=1000.0 (msgs/sec)\n",
      "NotebookApp.rate_limit_window=3.0 (secs)\n",
      "\n"
     ]
    },
    {
     "name": "stdout",
     "output_type": "stream",
     "text": [
      "Epoch: [3][150/157]\tTime 0.803 (0.809)\tData 0.001 (0.007)\tLoss 1.7955 (1.7857)\tPrec@1 38.281 (42.092)\n",
      "Test: [0/20]\tTime 2.306 (2.306)\tLoss 1.4676 (1.4676)\tPrec@1 48.242 (48.242)\n",
      " * Prec@1 49.260\n",
      "blocks.0.attn.qkv.alpha 1.9965068101882935\n",
      "blocks.0.attn.proj.alpha 1.9965375661849976\n",
      "blocks.1.attn.qkv.alpha 1.996398687362671\n",
      "blocks.1.attn.proj.alpha 1.9966182708740234\n",
      "blocks.2.attn.qkv.alpha 1.9966850280761719\n",
      "blocks.2.attn.proj.alpha 1.9965407848358154\n",
      "blocks.3.attn.qkv.alpha 1.9968900680541992\n",
      "blocks.3.attn.proj.alpha 1.9965397119522095\n",
      "blocks.4.attn.qkv.alpha 1.9967097043991089\n",
      "blocks.4.attn.proj.alpha 1.9965375661849976\n",
      "blocks.5.attn.qkv.alpha 1.996383547782898\n",
      "blocks.5.attn.proj.alpha 1.9965375661849976\n",
      "blocks.6.attn.qkv.alpha 1.9970513582229614\n",
      "blocks.6.attn.proj.alpha 1.9965381622314453\n",
      "blocks.7.attn.qkv.alpha 1.9972574710845947\n",
      "blocks.7.attn.proj.alpha 1.9965375661849976\n",
      "blocks.8.attn.qkv.alpha 1.9978902339935303\n",
      "blocks.8.attn.proj.alpha 1.9965375661849976\n",
      "blocks.9.attn.qkv.alpha 1.9976308345794678\n",
      "blocks.9.attn.proj.alpha 1.9965394735336304\n",
      "blocks.10.attn.qkv.alpha 1.9976385831832886\n",
      "blocks.10.attn.proj.alpha 1.9965380430221558\n",
      "blocks.11.attn.qkv.alpha 1.9989010095596313\n",
      "blocks.11.attn.proj.alpha 1.9965813159942627\n",
      "Best prec1 :  49.25999995117188\n",
      "current lr 9.77975e-06\n"
     ]
    },
    {
     "data": {
      "application/vnd.jupyter.widget-view+json": {
       "model_id": "8663c1410f0944f8ada2ef9fa28431c4",
       "version_major": 2,
       "version_minor": 0
      },
      "text/plain": [
       "  0%|          | 0/157 [00:00<?, ?it/s]"
      ]
     },
     "metadata": {},
     "output_type": "display_data"
    },
    {
     "name": "stdout",
     "output_type": "stream",
     "text": [
      "Epoch: [4][0/157]\tTime 1.892 (1.892)\tData 1.033 (1.033)\tLoss 1.6756 (1.6756)\tPrec@1 44.141 (44.141)\n",
      "Epoch: [4][50/157]\tTime 0.803 (0.824)\tData 0.001 (0.021)\tLoss 1.7481 (1.6923)\tPrec@1 46.484 (45.427)\n",
      "Epoch: [4][100/157]\tTime 0.803 (0.814)\tData 0.001 (0.011)\tLoss 1.7896 (1.6680)\tPrec@1 42.969 (46.554)\n",
      "Epoch: [4][150/157]\tTime 0.803 (0.811)\tData 0.001 (0.008)\tLoss 1.6535 (1.6508)\tPrec@1 46.484 (47.170)\n",
      "Test: [0/20]\tTime 2.660 (2.660)\tLoss 1.2866 (1.2866)\tPrec@1 53.125 (53.125)\n",
      " * Prec@1 53.300\n",
      "blocks.0.attn.qkv.alpha 1.9950112104415894\n",
      "blocks.0.attn.proj.alpha 1.9950028657913208\n",
      "blocks.1.attn.qkv.alpha 1.9949698448181152\n",
      "blocks.1.attn.proj.alpha 1.9951049089431763\n",
      "blocks.2.attn.qkv.alpha 1.9951932430267334\n",
      "blocks.2.attn.proj.alpha 1.9950060844421387\n",
      "blocks.3.attn.qkv.alpha 1.9954912662506104\n",
      "blocks.3.attn.proj.alpha 1.995007038116455\n",
      "blocks.4.attn.qkv.alpha 1.9952330589294434\n",
      "blocks.4.attn.proj.alpha 1.9950028657913208\n",
      "blocks.5.attn.qkv.alpha 1.9949004650115967\n",
      "blocks.5.attn.proj.alpha 1.9950028657913208\n",
      "blocks.6.attn.qkv.alpha 1.9956586360931396\n",
      "blocks.6.attn.proj.alpha 1.9950034618377686\n",
      "blocks.7.attn.qkv.alpha 1.9960005283355713\n",
      "blocks.7.attn.proj.alpha 1.9950028657913208\n",
      "blocks.8.attn.qkv.alpha 1.9970256090164185\n",
      "blocks.8.attn.proj.alpha 1.9950028657913208\n",
      "blocks.9.attn.qkv.alpha 1.9967228174209595\n",
      "blocks.9.attn.proj.alpha 1.9950048923492432\n",
      "blocks.10.attn.qkv.alpha 1.996768832206726\n",
      "blocks.10.attn.proj.alpha 1.9950031042099\n",
      "blocks.11.attn.qkv.alpha 1.9992588758468628\n",
      "blocks.11.attn.proj.alpha 1.9950566291809082\n",
      "Best prec1 :  53.30000001831055\n",
      "current lr 9.14058e-06\n"
     ]
    },
    {
     "data": {
      "application/vnd.jupyter.widget-view+json": {
       "model_id": "d84c4533b7da4ba7810d2215082d0070",
       "version_major": 2,
       "version_minor": 0
      },
      "text/plain": [
       "  0%|          | 0/157 [00:00<?, ?it/s]"
      ]
     },
     "metadata": {},
     "output_type": "display_data"
    },
    {
     "name": "stdout",
     "output_type": "stream",
     "text": [
      "Epoch: [5][0/157]\tTime 1.920 (1.920)\tData 1.079 (1.079)\tLoss 1.6366 (1.6366)\tPrec@1 50.000 (50.000)\n",
      "Epoch: [5][50/157]\tTime 0.803 (0.825)\tData 0.001 (0.022)\tLoss 1.6430 (1.5971)\tPrec@1 43.359 (48.974)\n",
      "Epoch: [5][100/157]\tTime 0.804 (0.814)\tData 0.001 (0.012)\tLoss 1.3888 (1.5926)\tPrec@1 56.641 (49.582)\n",
      "Epoch: [5][150/157]\tTime 0.804 (0.811)\tData 0.001 (0.008)\tLoss 1.5373 (1.5860)\tPrec@1 52.344 (49.809)\n",
      "Test: [0/20]\tTime 2.594 (2.594)\tLoss 1.2114 (1.2114)\tPrec@1 53.906 (53.906)\n",
      " * Prec@1 55.310\n",
      "blocks.0.attn.qkv.alpha 1.9935967922210693\n",
      "blocks.0.attn.proj.alpha 1.9935617446899414\n",
      "blocks.1.attn.qkv.alpha 1.993589162826538\n",
      "blocks.1.attn.proj.alpha 1.9936811923980713\n",
      "blocks.2.attn.qkv.alpha 1.9938108921051025\n",
      "blocks.2.attn.proj.alpha 1.9935649633407593\n",
      "blocks.3.attn.qkv.alpha 1.9941598176956177\n",
      "blocks.3.attn.proj.alpha 1.9935743808746338\n",
      "blocks.4.attn.qkv.alpha 1.9938615560531616\n",
      "blocks.4.attn.proj.alpha 1.9935617446899414\n",
      "blocks.5.attn.qkv.alpha 1.993596076965332\n",
      "blocks.5.attn.proj.alpha 1.9935617446899414\n",
      "blocks.6.attn.qkv.alpha 1.9943914413452148\n",
      "blocks.6.attn.proj.alpha 1.9935623407363892\n",
      "blocks.7.attn.qkv.alpha 1.9948381185531616\n",
      "blocks.7.attn.proj.alpha 1.9935617446899414\n",
      "blocks.8.attn.qkv.alpha 1.9963154792785645\n",
      "blocks.8.attn.proj.alpha 1.9935617446899414\n",
      "blocks.9.attn.qkv.alpha 1.9958529472351074\n",
      "blocks.9.attn.proj.alpha 1.9935649633407593\n",
      "blocks.10.attn.qkv.alpha 1.995885968208313\n",
      "blocks.10.attn.proj.alpha 1.993568778038025\n",
      "blocks.11.attn.qkv.alpha 1.9995198249816895\n",
      "blocks.11.attn.proj.alpha 1.9936319589614868\n",
      "Best prec1 :  55.30999998168945\n",
      "current lr 8.14503e-06\n"
     ]
    },
    {
     "data": {
      "application/vnd.jupyter.widget-view+json": {
       "model_id": "bbdbb71e3e314f1c9b2a7f3bbbdf1c2c",
       "version_major": 2,
       "version_minor": 0
      },
      "text/plain": [
       "  0%|          | 0/157 [00:00<?, ?it/s]"
      ]
     },
     "metadata": {},
     "output_type": "display_data"
    },
    {
     "name": "stdout",
     "output_type": "stream",
     "text": [
      "Epoch: [6][0/157]\tTime 1.943 (1.943)\tData 1.065 (1.065)\tLoss 1.4410 (1.4410)\tPrec@1 56.641 (56.641)\n",
      "Epoch: [6][50/157]\tTime 0.803 (0.826)\tData 0.001 (0.022)\tLoss 1.4666 (1.5272)\tPrec@1 58.984 (51.892)\n",
      "Epoch: [6][100/157]\tTime 0.804 (0.815)\tData 0.001 (0.012)\tLoss 1.5659 (1.5121)\tPrec@1 50.781 (52.406)\n"
     ]
    },
    {
     "name": "stderr",
     "output_type": "stream",
     "text": [
      "IOPub message rate exceeded.\n",
      "The notebook server will temporarily stop sending output\n",
      "to the client in order to avoid crashing it.\n",
      "To change this limit, set the config variable\n",
      "`--NotebookApp.iopub_msg_rate_limit`.\n",
      "\n",
      "Current values:\n",
      "NotebookApp.iopub_msg_rate_limit=1000.0 (msgs/sec)\n",
      "NotebookApp.rate_limit_window=3.0 (secs)\n",
      "\n"
     ]
    },
    {
     "name": "stdout",
     "output_type": "stream",
     "text": [
      "Epoch: [1][150/157]\tTime 0.804 (0.812)\tData 0.001 (0.008)\tLoss 1.9232 (2.0026)\tPrec@1 41.406 (34.282)\n",
      "Test: [0/20]\tTime 2.168 (2.168)\tLoss 1.6355 (1.6355)\tPrec@1 41.992 (41.992)\n",
      " * Prec@1 42.030\n",
      "blocks.0.attn.qkv.alpha 1.9991750717163086\n",
      "blocks.0.attn.proj.alpha 1.9992139339447021\n",
      "blocks.1.attn.qkv.alpha 1.9991216659545898\n",
      "blocks.1.attn.proj.alpha 1.999228835105896\n",
      "blocks.2.attn.qkv.alpha 1.9992018938064575\n",
      "blocks.2.attn.proj.alpha 1.9992163181304932\n",
      "blocks.3.attn.qkv.alpha 1.9992799758911133\n",
      "blocks.3.attn.proj.alpha 1.9992210865020752\n",
      "blocks.4.attn.qkv.alpha 1.9992122650146484\n",
      "blocks.4.attn.proj.alpha 1.999220609664917\n",
      "blocks.5.attn.qkv.alpha 1.9992694854736328\n",
      "blocks.5.attn.proj.alpha 1.9992139339447021\n",
      "blocks.6.attn.qkv.alpha 1.9993202686309814\n",
      "blocks.6.attn.proj.alpha 1.9992185831069946\n",
      "blocks.7.attn.qkv.alpha 1.9993468523025513\n",
      "blocks.7.attn.proj.alpha 1.9992140531539917\n",
      "blocks.8.attn.qkv.alpha 1.9996591806411743\n",
      "blocks.8.attn.proj.alpha 1.9992139339447021\n",
      "blocks.9.attn.qkv.alpha 1.9993895292282104\n",
      "blocks.9.attn.proj.alpha 1.9992165565490723\n",
      "blocks.10.attn.qkv.alpha 1.9993208646774292\n",
      "blocks.10.attn.proj.alpha 1.9992139339447021\n",
      "blocks.11.attn.qkv.alpha 1.9993079900741577\n",
      "blocks.11.attn.proj.alpha 1.999227523803711\n",
      "Best prec1 :  42.029999969482425\n",
      "current lr 7.00000e-06\n"
     ]
    },
    {
     "data": {
      "application/vnd.jupyter.widget-view+json": {
       "model_id": "a5e8e894b8594fcc8ae0efe13f36f72c",
       "version_major": 2,
       "version_minor": 0
      },
      "text/plain": [
       "  0%|          | 0/157 [00:00<?, ?it/s]"
      ]
     },
     "metadata": {},
     "output_type": "display_data"
    },
    {
     "name": "stdout",
     "output_type": "stream",
     "text": [
      "Epoch: [2][0/157]\tTime 1.839 (1.839)\tData 1.000 (1.000)\tLoss 1.8940 (1.8940)\tPrec@1 37.891 (37.891)\n",
      "Epoch: [2][50/157]\tTime 0.804 (0.825)\tData 0.001 (0.021)\tLoss 1.7939 (1.8226)\tPrec@1 39.062 (41.161)\n",
      "Epoch: [2][100/157]\tTime 0.805 (0.815)\tData 0.001 (0.011)\tLoss 1.6528 (1.7912)\tPrec@1 52.344 (42.184)\n",
      "Epoch: [2][150/157]\tTime 0.804 (0.811)\tData 0.001 (0.008)\tLoss 1.7056 (1.7625)\tPrec@1 45.703 (43.341)\n",
      "Test: [0/20]\tTime 1.922 (1.922)\tLoss 1.3698 (1.3698)\tPrec@1 50.000 (50.000)\n",
      " * Prec@1 51.480\n",
      "blocks.0.attn.qkv.alpha 1.9981197118759155\n",
      "blocks.0.attn.proj.alpha 1.9981096982955933\n",
      "blocks.1.attn.qkv.alpha 1.998088002204895\n",
      "blocks.1.attn.proj.alpha 1.9981375932693481\n",
      "blocks.2.attn.qkv.alpha 1.998165488243103\n",
      "blocks.2.attn.proj.alpha 1.9981120824813843\n",
      "blocks.3.attn.qkv.alpha 1.9982181787490845\n",
      "blocks.3.attn.proj.alpha 1.9981238842010498\n",
      "blocks.4.attn.qkv.alpha 1.9981681108474731\n",
      "blocks.4.attn.proj.alpha 1.9981215000152588\n",
      "blocks.5.attn.qkv.alpha 1.998341679573059\n",
      "blocks.5.attn.proj.alpha 1.9981096982955933\n",
      "blocks.6.attn.qkv.alpha 1.9982519149780273\n",
      "blocks.6.attn.proj.alpha 1.99811589717865\n",
      "blocks.7.attn.qkv.alpha 1.9983943700790405\n",
      "blocks.7.attn.proj.alpha 1.9981098175048828\n",
      "blocks.8.attn.qkv.alpha 1.9992095232009888\n",
      "blocks.8.attn.proj.alpha 1.9981096982955933\n",
      "blocks.9.attn.qkv.alpha 1.9985610246658325\n",
      "blocks.9.attn.proj.alpha 1.9981145858764648\n",
      "blocks.10.attn.qkv.alpha 1.9983843564987183\n",
      "blocks.10.attn.proj.alpha 1.9981096982955933\n",
      "blocks.11.attn.qkv.alpha 1.9985991716384888\n",
      "blocks.11.attn.proj.alpha 1.9981348514556885\n",
      "Best prec1 :  51.48000001220703\n",
      "current lr 1.00000e-05\n"
     ]
    },
    {
     "data": {
      "application/vnd.jupyter.widget-view+json": {
       "model_id": "d4ad0d3a0d3f4800a6c62382b7e774f2",
       "version_major": 2,
       "version_minor": 0
      },
      "text/plain": [
       "  0%|          | 0/157 [00:00<?, ?it/s]"
      ]
     },
     "metadata": {},
     "output_type": "display_data"
    },
    {
     "name": "stdout",
     "output_type": "stream",
     "text": [
      "Epoch: [3][0/157]\tTime 1.727 (1.727)\tData 0.851 (0.851)\tLoss 1.6402 (1.6402)\tPrec@1 48.047 (48.047)\n",
      "Epoch: [3][50/157]\tTime 0.804 (0.823)\tData 0.001 (0.018)\tLoss 1.6298 (1.6402)\tPrec@1 48.438 (47.725)\n",
      "Epoch: [3][100/157]\tTime 0.805 (0.814)\tData 0.001 (0.009)\tLoss 1.5365 (1.6187)\tPrec@1 50.000 (48.565)\n",
      "Epoch: [3][150/157]\tTime 0.804 (0.811)\tData 0.001 (0.007)\tLoss 1.5324 (1.5978)\tPrec@1 53.516 (49.395)\n",
      "Test: [0/20]\tTime 16.301 (16.301)\tLoss 1.2180 (1.2180)\tPrec@1 56.641 (56.641)\n",
      " * Prec@1 56.580\n",
      "blocks.0.attn.qkv.alpha 1.996649980545044\n",
      "blocks.0.attn.proj.alpha 1.9965375661849976\n",
      "blocks.1.attn.qkv.alpha 1.9966800212860107\n",
      "blocks.1.attn.proj.alpha 1.9965788125991821\n",
      "blocks.2.attn.qkv.alpha 1.9966931343078613\n",
      "blocks.2.attn.proj.alpha 1.9965399503707886\n",
      "blocks.3.attn.qkv.alpha 1.9967740774154663\n",
      "blocks.3.attn.proj.alpha 1.996553659439087\n",
      "blocks.4.attn.qkv.alpha 1.9966776371002197\n",
      "blocks.4.attn.proj.alpha 1.9965492486953735\n",
      "blocks.5.attn.qkv.alpha 1.99705171585083\n",
      "blocks.5.attn.proj.alpha 1.9965375661849976\n",
      "blocks.6.attn.qkv.alpha 1.9968152046203613\n",
      "blocks.6.attn.proj.alpha 1.9965436458587646\n",
      "blocks.7.attn.qkv.alpha 1.9971237182617188\n",
      "blocks.7.attn.proj.alpha 1.996537685394287\n",
      "blocks.8.attn.qkv.alpha 1.9986696243286133\n",
      "blocks.8.attn.proj.alpha 1.9965375661849976\n",
      "blocks.9.attn.qkv.alpha 1.9974305629730225\n",
      "blocks.9.attn.proj.alpha 1.9965437650680542\n",
      "blocks.10.attn.qkv.alpha 1.997031807899475\n",
      "blocks.10.attn.proj.alpha 1.9965373277664185\n",
      "blocks.11.attn.qkv.alpha 1.9976507425308228\n",
      "blocks.11.attn.proj.alpha 1.9965721368789673\n",
      "Best prec1 :  56.58\n",
      "current lr 9.77975e-06\n"
     ]
    },
    {
     "data": {
      "application/vnd.jupyter.widget-view+json": {
       "model_id": "ca90899001b54001bea3b139adb8ea38",
       "version_major": 2,
       "version_minor": 0
      },
      "text/plain": [
       "  0%|          | 0/157 [00:00<?, ?it/s]"
      ]
     },
     "metadata": {},
     "output_type": "display_data"
    },
    {
     "name": "stdout",
     "output_type": "stream",
     "text": [
      "Epoch: [4][0/157]\tTime 1.910 (1.910)\tData 1.079 (1.079)\tLoss 1.4451 (1.4451)\tPrec@1 56.641 (56.641)\n",
      "Epoch: [4][50/157]\tTime 0.804 (0.824)\tData 0.001 (0.022)\tLoss 1.4496 (1.5077)\tPrec@1 57.031 (52.351)\n",
      "Epoch: [4][100/157]\tTime 0.805 (0.814)\tData 0.001 (0.012)\tLoss 1.4817 (1.4957)\tPrec@1 54.688 (53.001)\n",
      "Epoch: [4][150/157]\tTime 0.805 (0.811)\tData 0.001 (0.008)\tLoss 1.4032 (1.4826)\tPrec@1 56.641 (53.617)\n",
      "Test: [0/20]\tTime 2.069 (2.069)\tLoss 1.1122 (1.1122)\tPrec@1 58.789 (58.789)\n",
      " * Prec@1 59.370\n",
      "blocks.0.attn.qkv.alpha 1.9951822757720947\n",
      "blocks.0.attn.proj.alpha 1.9950028657913208\n",
      "blocks.1.attn.qkv.alpha 1.9952600002288818\n",
      "blocks.1.attn.proj.alpha 1.9950629472732544\n",
      "blocks.2.attn.qkv.alpha 1.9952409267425537\n",
      "blocks.2.attn.proj.alpha 1.9950052499771118\n",
      "blocks.3.attn.qkv.alpha 1.9953348636627197\n",
      "blocks.3.attn.proj.alpha 1.9950180053710938\n",
      "blocks.4.attn.qkv.alpha 1.9952701330184937\n",
      "blocks.4.attn.proj.alpha 1.9950145483016968\n",
      "blocks.5.attn.qkv.alpha 1.9957644939422607\n",
      "blocks.5.attn.proj.alpha 1.9950028657913208\n",
      "blocks.6.attn.qkv.alpha 1.9955517053604126\n",
      "blocks.6.attn.proj.alpha 1.995008945465088\n",
      "blocks.7.attn.qkv.alpha 1.9959867000579834\n",
      "blocks.7.attn.proj.alpha 1.9950029850006104\n",
      "blocks.8.attn.qkv.alpha 1.9981353282928467\n",
      "blocks.8.attn.proj.alpha 1.9950028657913208\n",
      "blocks.9.attn.qkv.alpha 1.996415615081787\n",
      "blocks.9.attn.proj.alpha 1.995008945465088\n",
      "blocks.10.attn.qkv.alpha 1.9957644939422607\n",
      "blocks.10.attn.proj.alpha 1.9950026273727417\n",
      "blocks.11.attn.qkv.alpha 1.9969346523284912\n",
      "blocks.11.attn.proj.alpha 1.995038628578186\n",
      "Best prec1 :  59.36999995727539\n",
      "current lr 9.14058e-06\n"
     ]
    },
    {
     "data": {
      "application/vnd.jupyter.widget-view+json": {
       "model_id": "f268fc0ac04e4aa1a8b4e051b159a712",
       "version_major": 2,
       "version_minor": 0
      },
      "text/plain": [
       "  0%|          | 0/157 [00:00<?, ?it/s]"
      ]
     },
     "metadata": {},
     "output_type": "display_data"
    },
    {
     "name": "stdout",
     "output_type": "stream",
     "text": [
      "Epoch: [5][0/157]\tTime 2.064 (2.064)\tData 1.203 (1.203)\tLoss 1.4267 (1.4267)\tPrec@1 50.391 (50.391)\n",
      "Epoch: [5][50/157]\tTime 0.804 (0.829)\tData 0.001 (0.025)\tLoss 1.4327 (1.4284)\tPrec@1 56.641 (55.867)\n",
      "Epoch: [5][100/157]\tTime 0.804 (0.817)\tData 0.001 (0.013)\tLoss 1.4364 (1.4244)\tPrec@1 52.344 (55.960)\n",
      "Epoch: [5][150/157]\tTime 0.804 (0.813)\tData 0.001 (0.009)\tLoss 1.4239 (1.4102)\tPrec@1 55.469 (56.418)\n",
      "Test: [0/20]\tTime 2.553 (2.553)\tLoss 1.0656 (1.0656)\tPrec@1 61.328 (61.328)\n",
      " * Prec@1 61.730\n",
      "blocks.0.attn.qkv.alpha 1.9938523769378662\n",
      "blocks.0.attn.proj.alpha 1.9935617446899414\n",
      "blocks.1.attn.qkv.alpha 1.994006633758545\n",
      "blocks.1.attn.proj.alpha 1.9936332702636719\n",
      "blocks.2.attn.qkv.alpha 1.993941068649292\n",
      "blocks.2.attn.proj.alpha 1.9935641288757324\n",
      "blocks.3.attn.qkv.alpha 1.994065523147583\n",
      "blocks.3.attn.proj.alpha 1.9935829639434814\n",
      "blocks.4.attn.qkv.alpha 1.9939837455749512\n",
      "blocks.4.attn.proj.alpha 1.993573784828186\n",
      "blocks.5.attn.qkv.alpha 1.9946383237838745\n",
      "blocks.5.attn.proj.alpha 1.9935617446899414\n",
      "blocks.6.attn.qkv.alpha 1.9944348335266113\n",
      "blocks.6.attn.proj.alpha 1.9935678243637085\n",
      "blocks.7.attn.qkv.alpha 1.995146632194519\n",
      "blocks.7.attn.proj.alpha 1.993561863899231\n",
      "blocks.8.attn.qkv.alpha 1.997696876525879\n",
      "blocks.8.attn.proj.alpha 1.9935617446899414\n",
      "blocks.9.attn.qkv.alpha 1.9954465627670288\n",
      "blocks.9.attn.proj.alpha 1.9935765266418457\n",
      "blocks.10.attn.qkv.alpha 1.9946019649505615\n",
      "blocks.10.attn.proj.alpha 1.993563175201416\n",
      "blocks.11.attn.qkv.alpha 1.9962905645370483\n",
      "blocks.11.attn.proj.alpha 1.9936059713363647\n",
      "Best prec1 :  61.73\n",
      "current lr 8.14503e-06\n"
     ]
    },
    {
     "data": {
      "application/vnd.jupyter.widget-view+json": {
       "model_id": "2f603d379d5f4709913a7e3319b15b14",
       "version_major": 2,
       "version_minor": 0
      },
      "text/plain": [
       "  0%|          | 0/157 [00:00<?, ?it/s]"
      ]
     },
     "metadata": {},
     "output_type": "display_data"
    },
    {
     "name": "stdout",
     "output_type": "stream",
     "text": [
      "Epoch: [6][0/157]\tTime 1.742 (1.742)\tData 0.845 (0.845)\tLoss 1.3138 (1.3138)\tPrec@1 58.984 (58.984)\n",
      "Epoch: [6][50/157]\tTime 0.804 (0.822)\tData 0.001 (0.018)\tLoss 1.3757 (1.3652)\tPrec@1 53.906 (57.950)\n",
      "Epoch: [6][100/157]\tTime 0.804 (0.813)\tData 0.001 (0.009)\tLoss 1.2850 (1.3549)\tPrec@1 61.328 (58.369)\n",
      "Epoch: [6][150/157]\tTime 0.804 (0.810)\tData 0.001 (0.007)\tLoss 1.2977 (1.3451)\tPrec@1 63.281 (58.666)\n",
      "Test: [0/20]\tTime 1.883 (1.883)\tLoss 0.9870 (0.9870)\tPrec@1 63.672 (63.672)\n",
      " * Prec@1 65.170\n",
      "blocks.0.attn.qkv.alpha 1.992650032043457\n",
      "blocks.0.attn.proj.alpha 1.9922890663146973\n",
      "blocks.1.attn.qkv.alpha 1.9928889274597168\n",
      "blocks.1.attn.proj.alpha 1.9923555850982666\n",
      "blocks.2.attn.qkv.alpha 1.9927639961242676\n",
      "blocks.2.attn.proj.alpha 1.9922914505004883\n",
      "blocks.3.attn.qkv.alpha 1.9929553270339966\n",
      "blocks.3.attn.proj.alpha 1.9923111200332642\n",
      "blocks.4.attn.qkv.alpha 1.9927895069122314\n",
      "blocks.4.attn.proj.alpha 1.9923009872436523\n",
      "blocks.5.attn.qkv.alpha 1.9936423301696777\n",
      "blocks.5.attn.proj.alpha 1.9922890663146973\n",
      "blocks.6.attn.qkv.alpha 1.9934272766113281\n",
      "blocks.6.attn.proj.alpha 1.9922951459884644\n",
      "blocks.7.attn.qkv.alpha 1.9943394660949707\n",
      "blocks.7.attn.proj.alpha 1.9922891855239868\n",
      "blocks.8.attn.qkv.alpha 1.9972625970840454\n",
      "blocks.8.attn.proj.alpha 1.9922890663146973\n",
      "blocks.9.attn.qkv.alpha 1.9946600198745728\n",
      "blocks.9.attn.proj.alpha 1.9923021793365479\n",
      "blocks.10.attn.qkv.alpha 1.993626594543457\n",
      "blocks.10.attn.proj.alpha 1.9922904968261719\n",
      "blocks.11.attn.qkv.alpha 1.9957270622253418\n",
      "blocks.11.attn.proj.alpha 1.9923278093338013\n",
      "Best prec1 :  65.17000000610352\n",
      "current lr 6.89058e-06\n"
     ]
    },
    {
     "data": {
      "application/vnd.jupyter.widget-view+json": {
       "model_id": "e2d1b0784f3d4e8792a2b04254d5921f",
       "version_major": 2,
       "version_minor": 0
      },
      "text/plain": [
       "  0%|          | 0/157 [00:00<?, ?it/s]"
      ]
     },
     "metadata": {},
     "output_type": "display_data"
    },
    {
     "name": "stdout",
     "output_type": "stream",
     "text": [
      "Epoch: [7][0/157]\tTime 1.956 (1.956)\tData 1.089 (1.089)\tLoss 1.2292 (1.2292)\tPrec@1 60.938 (60.938)\n",
      "Epoch: [7][50/157]\tTime 0.804 (0.827)\tData 0.001 (0.022)\tLoss 1.2511 (1.3060)\tPrec@1 62.891 (60.432)\n",
      "Epoch: [7][100/157]\tTime 0.804 (0.816)\tData 0.001 (0.012)\tLoss 1.3803 (1.2999)\tPrec@1 51.953 (60.311)\n",
      "Epoch: [7][150/157]\tTime 0.805 (0.814)\tData 0.001 (0.008)\tLoss 1.2796 (1.2975)\tPrec@1 57.422 (60.472)\n"
     ]
    }
   ],
   "source": [
    "from timm.scheduler import CosineLRScheduler\n",
    "\n",
    "for PACT in [False, True]:\n",
    "    for k in range(4,9):\n",
    "        net = vit_small_patch16_224(True, k=k, pact=PACT)\n",
    "        net.head = nn.Linear(net.head.in_features, 10)\n",
    "        checkpoint = torch.load(\"models/vit_small_noquant.pth\")\n",
    "        net.load_state_dict(checkpoint, strict=False)\n",
    "\n",
    "        model = net.cuda()\n",
    "        mixup = False\n",
    "\n",
    "        # Track experiment with wandb\n",
    "        import wandb\n",
    "        watermark = \"vit_small_k{}\".format(k)\n",
    "        if PACT == False:\n",
    "            watermark+=\"_nopact\"\n",
    "        else:\n",
    "            watermark+=\"_pact\"\n",
    "        \n",
    "        # mess with wandb\n",
    "        wandb.init(project=\"pact_vit_20220617\", name=watermark)\n",
    "\n",
    "        # define loss function (criterion) and pptimizer\n",
    "        criterion = nn.CrossEntropyLoss().cuda()\n",
    "\n",
    "        # optimizer for pact\n",
    "        optimizer = torch.optim.SGD(model.parameters(), lr=1e-3,\n",
    "                                    momentum=0.9,\n",
    "                                    weight_decay=0.0002)\n",
    "        optimizer = torch.optim.Adam(model.parameters(), lr=1e-5)\n",
    "\n",
    "        scheduler = CosineLRScheduler(optimizer, t_initial=10, lr_min=1e-6, \n",
    "                              warmup_t=3, warmup_lr_init=1e-6, warmup_prefix=True)\n",
    "\n",
    "        best_prec1 = 0\n",
    "        os.makedirs(\"models\", exist_ok=True)\n",
    "\n",
    "        for epoch in range(10):\n",
    "            scheduler.step(epoch)\n",
    "            # train for one epoch\n",
    "            print('current lr {:.5e}'.format(optimizer.param_groups[0]['lr']))\n",
    "            tloss = train(train_loader, model, criterion, optimizer, epoch)         \n",
    "\n",
    "            # evaluate on validation set\n",
    "            prec1, valloss = validate(val_loader, model, criterion)\n",
    "\n",
    "            # wandb\n",
    "            wandb.log({'epoch': epoch, \"prec\":prec1, \"train_loss\": tloss, 'val_loss': valloss, \"lr\": optimizer.param_groups[0][\"lr\"],})\n",
    "\n",
    "            # remember best prec@1 and save checkpoint\n",
    "            is_best = prec1 > best_prec1\n",
    "            best_prec1 = max(prec1, best_prec1)\n",
    "\n",
    "            print(\"Best prec1 : \", best_prec1)\n",
    "            if is_best:\n",
    "                torch.save(model.state_dict(), os.path.join(f'models/{watermark}.pth'))"
   ]
  },
  {
   "cell_type": "code",
   "execution_count": null,
   "id": "8998c803",
   "metadata": {},
   "outputs": [],
   "source": [
    "from pact_utils import TorchQuantize\n",
    "len(TorchQuantize(bits=4).forward(torch.rand(1,384)).unique())"
   ]
  },
  {
   "cell_type": "code",
   "execution_count": null,
   "id": "8d894c1f",
   "metadata": {},
   "outputs": [],
   "source": [
    "net.blocks[1].mlp.fc1.forward(torch.rand(1,384).cuda()).unique()"
   ]
  },
  {
   "cell_type": "code",
   "execution_count": null,
   "id": "75eb1382",
   "metadata": {},
   "outputs": [],
   "source": [
    "model.blocks[1].attn.qkv"
   ]
  },
  {
   "cell_type": "code",
   "execution_count": null,
   "id": "bcba9662",
   "metadata": {},
   "outputs": [],
   "source": []
  }
 ],
 "metadata": {
  "kernelspec": {
   "display_name": "Python 3 (ipykernel)",
   "language": "python",
   "name": "python3"
  },
  "language_info": {
   "codemirror_mode": {
    "name": "ipython",
    "version": 3
   },
   "file_extension": ".py",
   "mimetype": "text/x-python",
   "name": "python",
   "nbconvert_exporter": "python",
   "pygments_lexer": "ipython3",
   "version": "3.8.13"
  }
 },
 "nbformat": 4,
 "nbformat_minor": 5
}
