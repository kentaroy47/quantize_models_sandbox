{
 "cells": [
  {
   "cell_type": "code",
   "execution_count": 1,
   "id": "560d7488",
   "metadata": {},
   "outputs": [],
   "source": [
    "import torch\n",
    "import numpy as np\n",
    "import torch.nn as nn"
   ]
  },
  {
   "cell_type": "code",
   "execution_count": 78,
   "id": "c4b27c67",
   "metadata": {},
   "outputs": [],
   "source": [
    "class GaussianNoise(nn.Module):\n",
    "    \"\"\"Gaussian noise regularizer.\n",
    "\n",
    "    Args:\n",
    "        sigma (float, optional): relative standard deviation used to generate the\n",
    "            noise. Relative means that it will be multiplied by the magnitude of\n",
    "            the value your are adding the noise to. This means that sigma can be\n",
    "            the same regardless of the scale of the vector.\n",
    "        is_relative_detach (bool, optional): whether to detach the variable before\n",
    "            computing the scale of the noise. If `False` then the scale of the noise\n",
    "            won't be seen as a constant but something to optimize: this will bias the\n",
    "            network to generate vectors with smaller values.\n",
    "    \"\"\"\n",
    "\n",
    "    def __init__(self, sigma=0.1, is_relative_detach=False, inference=False, white=False):\n",
    "        super().__init__()\n",
    "        self.sigma = sigma\n",
    "        self.is_relative_detach = is_relative_detach\n",
    "        self.noise = torch.tensor(0).to(\"cuda\")\n",
    "        self.inference = inference\n",
    "        self.white = white\n",
    "\n",
    "    def forward(self, x):\n",
    "        if (self.training and self.sigma > 0) or self.inference:\n",
    "            scale = self.sigma * x.detach() if self.is_relative_detach else self.sigma * x\n",
    "            if not self.white:\n",
    "                sampled_noise = self.noise.repeat(*x.size()).float().normal_() * scale\n",
    "            else:\n",
    "                sampled_noise = self.noise.repeat(*x.size()).float().random_(-1000000,1000000) * self.sigma / 1000000\n",
    "            x = x + sampled_noise\n",
    "        return x "
   ]
  },
  {
   "cell_type": "code",
   "execution_count": 79,
   "id": "12b79375",
   "metadata": {},
   "outputs": [],
   "source": [
    "model = GaussianNoise(sigma=0.05, is_relative_detach=True,)"
   ]
  },
  {
   "cell_type": "code",
   "execution_count": 85,
   "id": "314c84ec",
   "metadata": {},
   "outputs": [],
   "source": [
    "# データのパラメータ\n",
    "fs = 16384\n",
    "N = fs\n",
    "dt = 1/fs\n",
    "f1 = 1000    # freq\n",
    "t = np.arange(0, fs*dt, dt) # time\n",
    "freq = np.linspace(0, 1, fs)*fs # fft bins\n",
    "\n",
    "# offset\n",
    "offset = 1/(2^12)\n",
    "\n",
    "# signal generation\n",
    "input = np.sin(2*np.pi*f1*t)*2"
   ]
  },
  {
   "cell_type": "code",
   "execution_count": 86,
   "id": "194873c7",
   "metadata": {},
   "outputs": [
    {
     "data": {
      "text/plain": [
       "1.4142135623730945"
      ]
     },
     "execution_count": 86,
     "metadata": {},
     "output_type": "execute_result"
    }
   ],
   "source": [
    "input.std()"
   ]
  },
  {
   "cell_type": "code",
   "execution_count": 87,
   "id": "16c2efab",
   "metadata": {},
   "outputs": [],
   "source": [
    "out = model.forward(torch.from_numpy(input).cuda()).cpu().numpy()"
   ]
  },
  {
   "cell_type": "code",
   "execution_count": 88,
   "id": "06c90478",
   "metadata": {},
   "outputs": [],
   "source": [
    "F = np.fft.fft(out)\n",
    "# Spectrum analyze\n",
    "N = len(input)\n",
    "Amp = np.power(np.abs(F)[0:int(N/2)-1], 2)\n",
    "Amp[0] = 0 # cut DC\n",
    "freq = np.linspace(0, 1, N)*N # 周波数軸\n",
    "freq = freq[0:int(N/2)-1]\n",
    "#Amp = np.abs(F)\n",
    "#freq = freq\n",
    "\n",
    "# normalize\n",
    "Amp /= max(Amp)"
   ]
  },
  {
   "cell_type": "code",
   "execution_count": 89,
   "id": "59d01520",
   "metadata": {},
   "outputs": [
    {
     "name": "stdout",
     "output_type": "stream",
     "text": [
      "SNDR: [25.98198716]\n",
      "ENOB: [4.02358591]\n"
     ]
    }
   ],
   "source": [
    "# SNR calc\n",
    "sig_bin = np.where(Amp==np.abs(Amp).max())[0]\n",
    "signal_power = Amp[sig_bin]\n",
    "\n",
    "noise_power = Amp.sum() - signal_power\n",
    "\n",
    "SNDR = signal_power / noise_power\n",
    "SNDR = 10*np.log10(SNDR)\n",
    "\n",
    "ENOB = (SNDR-1.76) / 6.02\n",
    "print(\"SNDR:\", SNDR)\n",
    "print(\"ENOB:\", ENOB)"
   ]
  },
  {
   "cell_type": "code",
   "execution_count": null,
   "id": "1dceb25e",
   "metadata": {},
   "outputs": [],
   "source": []
  }
 ],
 "metadata": {
  "kernelspec": {
   "display_name": "Python 3 (ipykernel)",
   "language": "python",
   "name": "python3"
  },
  "language_info": {
   "codemirror_mode": {
    "name": "ipython",
    "version": 3
   },
   "file_extension": ".py",
   "mimetype": "text/x-python",
   "name": "python",
   "nbconvert_exporter": "python",
   "pygments_lexer": "ipython3",
   "version": "3.8.13"
  }
 },
 "nbformat": 4,
 "nbformat_minor": 5
}
